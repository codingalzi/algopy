{
 "cells": [
  {
   "cell_type": "markdown",
   "metadata": {},
   "source": [
    "# (실습) 시간 복잡도"
   ]
  },
  {
   "cell_type": "markdown",
   "metadata": {},
   "source": [
    "## Big-O 관련"
   ]
  },
  {
   "cell_type": "markdown",
   "metadata": {},
   "source": [
    "**문제 1**"
   ]
  },
  {
   "cell_type": "markdown",
   "metadata": {},
   "source": [
    "아래 코드의 시간복잡도를 Big-O로 표기하라.\n",
    "\n",
    "```python\n",
    "i = n\n",
    "while i > 0:\n",
    "    k = 2 + 2\n",
    "    i = i // 2\n",
    "```"
   ]
  },
  {
   "cell_type": "markdown",
   "metadata": {},
   "source": [
    "**문제 2**"
   ]
  },
  {
   "cell_type": "markdown",
   "metadata": {},
   "source": [
    "아래 코드의 시간복잡도를 Big-O로 표기하라.\n",
    "\n",
    "```python\n",
    "p = 0\n",
    "for i in range(n):\n",
    "    p = p + 1\n",
    "\n",
    "for j in range(n):\n",
    "    p = p - 1\n",
    "```"
   ]
  },
  {
   "cell_type": "markdown",
   "metadata": {},
   "source": [
    "**문제 3**"
   ]
  },
  {
   "cell_type": "markdown",
   "metadata": {},
   "source": [
    "아래 코드의 시간복잡도를 Big-O로 표기하라.\n",
    "\n",
    "```python\n",
    "p = 0\n",
    "for i in range(n):\n",
    "    for j in range(n):\n",
    "        p += i * j\n",
    "```"
   ]
  },
  {
   "cell_type": "markdown",
   "metadata": {},
   "source": [
    "**문제 4**"
   ]
  },
  {
   "cell_type": "markdown",
   "metadata": {},
   "source": [
    "아래 코드의 시간복잡도를 Big-O 로 나타내라.\n",
    "\n",
    "```python\n",
    "p = 0\n",
    "for i in range(n):\n",
    "    for j in range(n):\n",
    "        for k in range(n):\n",
    "            p += i + j + k\n",
    "```"
   ]
  },
  {
   "cell_type": "markdown",
   "metadata": {},
   "source": [
    "## 리스트 관련"
   ]
  },
  {
   "cell_type": "markdown",
   "metadata": {},
   "source": [
    "**문제 1**"
   ]
  },
  {
   "cell_type": "markdown",
   "metadata": {},
   "source": [
    "길이가 $n$인 리스트에 포함된 항목들의 최솟값을 구하는 두 개의 함수를 구현하라.\n",
    "\n",
    "- 방법 1: 각 항목을 다른 모든 항목과 비교. 일정 시간복잡도는 $T(n) \\in O(n^2)$.\n",
    "- 방법 2: $T(n) \\in O(n)$, 즉, 선형 시간복잡도를 갖도록 구현할 것.\n",
    "\n",
    "*참고*: [유튜브: findMin](https://www.youtube.com/watch?v=p0COF_m6H1c)"
   ]
  },
  {
   "cell_type": "markdown",
   "metadata": {},
   "source": [
    "**문제 2**"
   ]
  },
  {
   "cell_type": "markdown",
   "metadata": {},
   "source": [
    "길이가 $n$인 리스트에 포함된 항목들 중에서 가장 작은 항목 $m$ 개를\n",
    "찾아 내는 함수를 구현한 다음에 함수가 사용하는 알고리즘의 시간복잡도를 계산하라.\n",
    "단, 일정 시간복잡도가 존재하면 일정 시간복잡도를, 아니라면 최악 시간복잡도를 계산한다.\n"
   ]
  },
  {
   "cell_type": "markdown",
   "metadata": {},
   "source": [
    "**문제 3**"
   ]
  },
  {
   "cell_type": "markdown",
   "metadata": {},
   "source": [
    "길이가 $n$인 리스트에 포함된 항목들 중에서 최댓값과 최솟값을 찾아 내는 함수를 구현하라.\n",
    "단, 함수를 실행할 때 최대 $1.5\\, n$ 번의 비교가 실행되어야 한다.\n"
   ]
  }
 ],
 "metadata": {
  "kernelspec": {
   "display_name": "Python 3 (ipykernel)",
   "language": "python",
   "name": "python3"
  },
  "language_info": {
   "codemirror_mode": {
    "name": "ipython",
    "version": 3
   },
   "file_extension": ".py",
   "mimetype": "text/x-python",
   "name": "python",
   "nbconvert_exporter": "python",
   "pygments_lexer": "ipython3",
   "version": "3.9.12"
  },
  "vscode": {
   "interpreter": {
    "hash": "ad0f3c8a064f687cbf898a0868fd45ba1c7e928ac8a0404f7c241d812ddc1e76"
   }
  }
 },
 "nbformat": 4,
 "nbformat_minor": 2
}
