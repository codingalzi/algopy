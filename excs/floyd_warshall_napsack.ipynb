{
 "cells": [
  {
   "cell_type": "markdown",
   "metadata": {
    "id": "LpgOgYIUsFJl"
   },
   "source": [
    "# 동적계획법 활용"
   ]
  },
  {
   "cell_type": "markdown",
   "metadata": {
    "id": "i1aCaJcusFJq"
   },
   "source": [
    "## 3차원 어레이를 활용한 플로이드-워셜 알고리즘"
   ]
  },
  {
   "cell_type": "markdown",
   "metadata": {
    "id": "5QK6y5VRsFJr"
   },
   "source": [
    "플로이드-워셜 알고리즘을 구현할 때 넘파이 어레이를 이용할 수 있다.\n",
    "예를 들어, 아래 모양의 가중치 포함 방향 그래프가 주어졌다고 가정하자."
   ]
  },
  {
   "cell_type": "markdown",
   "metadata": {
    "id": "mTbPhdMCsFJr"
   },
   "source": [
    "<div align=\"center\"><img src=\"https://raw.githubusercontent.com/CodingRG-HKNU/FoundationsOfAlgorithms/master/slides/images/algo03/algo03-03.png\" width=\"350\"/></div>"
   ]
  },
  {
   "cell_type": "markdown",
   "metadata": {
    "id": "3NjqPE9usFJs"
   },
   "source": [
    "위 가중치 포함 방향그래프를 (5, 5) 모양의 2차원 어레이로 표현하면 다음과 같다."
   ]
  },
  {
   "cell_type": "code",
   "execution_count": null,
   "metadata": {
    "id": "zuWUsPhOsFJs"
   },
   "outputs": [],
   "source": [
    "# np.inf 무한대를 나타내며 두 마디 사이에 이음선이 없음을 의미함.\n",
    "\n",
    "W = np.array([[0,     1,      np.inf, 1,      5     ],\n",
    "             [9,      0,      3,      2,      np.inf],\n",
    "             [np.inf, np.inf, 0,      4,      np.inf],\n",
    "             [np.inf, np.inf, 2,      0,      3     ],\n",
    "             [3,      np.inf, np.inf, np.inf, 0     ]])"
   ]
  },
  {
   "cell_type": "markdown",
   "metadata": {
    "id": "8WjB5LU6sFJu"
   },
   "source": [
    "이때 두 지점 사이의 최단경로로 이루어진 2차원 어레이는 다음과 같다."
   ]
  },
  {
   "cell_type": "code",
   "execution_count": null,
   "metadata": {
    "id": "y6EJ4nY_sFJv"
   },
   "outputs": [],
   "source": [
    "Dn = np.array([[ 0.,  1.,  3.,  1.,  4.],\n",
    "               [ 8.,  0.,  3.,  2.,  5.],\n",
    "               [10., 11.,  0.,  4.,  7.],\n",
    "               [ 6.,  7.,  2.,  0.,  3.],\n",
    "               [ 3.,  4.,  6.,  4.,  0.]])"
   ]
  },
  {
   "cell_type": "markdown",
   "metadata": {
    "id": "IwyFLrbTsFJ1"
   },
   "source": [
    "$n$ 개의 마디 $v_1, v_2, \\dots, v_n$으로 구성된\n",
    "가중치 포함 방향그래프가 주어졌을 때, \n",
    "마디 $v_i$에서 마디 $v_j$로 가는 최단 경로를 계산하기 위해\n",
    "중간에 지나쳐야 하는 중간지점을 확대해 나가면서 최단경로를 업데이트하는 전략을 사용한다. \n",
    "\n",
    "전략: \n",
    "다음을 만족하는 \n",
    "(n+1, n, n) 모양의 3차원 행렬 $D$를 동적계획법으로 생성한다. \n",
    "\n",
    "\\begin{align*}\n",
    "D[k, i, j] &= \\text{집합 $\\{v_1, v_2, \\dots, v_k\\}$ 에 속하는 마디만을 통해서} \\\\\n",
    "& \\quad\\,\\text{$v_i$ 에서 $v_j$ 로 가는 최단경로의 길이}\n",
    "\\end{align*}\n",
    "\n",
    "그러면 다음이 성립한다.\n",
    "\n",
    "\\begin{align*}\n",
    "D[0] &= W \\\\\n",
    "D[n] &= D_{n}\n",
    "\\end{align*}\n",
    "\n",
    "남은 과제는 $D[k-1]$ 로부터 $D[k]$를 \n",
    "아래 관계가 만족되도록 생성하는 것이다. \n",
    "\n",
    "$$\n",
    "D[0] \\longrightarrow D[1]\\longrightarrow D[2]\n",
    "\\longrightarrow \\cdots \\longrightarrow D[n-1]\\longrightarrow D[n]\n",
    "$$"
   ]
  },
  {
   "cell_type": "markdown",
   "metadata": {
    "id": "fGeLci1FsFJ3"
   },
   "source": [
    "### 문제 1 (10점)\n",
    "\n",
    "3차원 어레이를 활용하도록 `floyd_warshall()` 함수를 완성하라.\n",
    "\n",
    "힌트: `pass` 부분을 적절한 3중 for 반복문으로 대체해야 한다."
   ]
  },
  {
   "cell_type": "code",
   "execution_count": null,
   "metadata": {
    "id": "N6Z_mDm9sFJ4"
   },
   "outputs": [],
   "source": [
    "import numpy as np\n",
    "\n",
    "def floyd_warshall(W):\n",
    "    n = len(W)\n",
    "    D = np.zeros((n+1, n, n))\n",
    "\n",
    "    # D[0] 지정\n",
    "    D[0] = W\n",
    "\n",
    "    # 3중 for 반복문을 이용하여 k가 1부터 n까지 이동하면서 D[k-1]를 이용하여 D[k] 지정\n",
    "    pass\n",
    "\n",
    "    # 완성된 D[n] 반환\n",
    "    return D[n]"
   ]
  },
  {
   "cell_type": "code",
   "execution_count": null,
   "metadata": {
    "id": "h23ymT0-sFJ5"
   },
   "outputs": [],
   "source": [
    "assert (floyd_warshall(W) == Dn).all()"
   ]
  },
  {
   "cell_type": "markdown",
   "metadata": {
    "id": "6lY8MlzcsFJ6"
   },
   "source": [
    "### 문제 2: 최단경로 확인 알고리즘 (10점)"
   ]
  },
  {
   "cell_type": "markdown",
   "metadata": {
    "id": "8NeAljn9sFJ6"
   },
   "source": [
    "다음 `floyd_warshall3()` 함수를 수정하여\n",
    "`floyd_warshall()` 함수처럼 넘파이 어레이를 활용하도록 수정하라."
   ]
  },
  {
   "cell_type": "code",
   "execution_count": null,
   "metadata": {
    "id": "x1MxEgr6sFJ7"
   },
   "outputs": [],
   "source": [
    "from itertools import product\n",
    "\n",
    "def floyd_warshall3(W):\n",
    "    n = len(W)\n",
    "\n",
    "    D = W.copy()\n",
    "    P = np.zeros((n, n))\n",
    "    \n",
    "    for i, j in product(range(n), repeat=2):\n",
    "        if 0 < W[i][j] < np.inf:\n",
    "            P[i][j] = j\n",
    "    \n",
    "    for k, i, j in product(range(n), repeat=3):\n",
    "        sum_ik_kj = D[i][k] + D[k][j]\n",
    "        if D[i][j] > sum_ik_kj:\n",
    "            D[i][j] = sum_ik_kj\n",
    "            P[i][j]  = P[i][k]\n",
    "    return D, P\n",
    "\n",
    "def path3(D, P, i, j):\n",
    "    # 인덱스가 0부터 출발하기에 -1 또는 +1을 적절히 조절해야 함.\\\n",
    "    pass"
   ]
  },
  {
   "cell_type": "code",
   "execution_count": null,
   "metadata": {
    "id": "lbLqfrsIsFJ7"
   },
   "outputs": [],
   "source": [
    "D, P = floyd_warshall3(W)"
   ]
  },
  {
   "cell_type": "code",
   "execution_count": null,
   "metadata": {
    "colab": {
     "base_uri": "https://localhost:8080/"
    },
    "id": "w4Az9GmQsFJ8",
    "outputId": "4596ebff-6f87-423c-c382-f1a9d08377a9"
   },
   "outputs": [],
   "source": [
    "path3(D, P, 5, 3)"
   ]
  },
  {
   "cell_type": "markdown",
   "metadata": {
    "id": "0UJxFk0-sFJ8"
   },
   "source": [
    "## 0-1 배낭채우기 문제"
   ]
  },
  {
   "cell_type": "markdown",
   "metadata": {
    "id": "8RcbuzO8sFJ9"
   },
   "source": [
    "### 문제 3 (30점)"
   ]
  },
  {
   "cell_type": "markdown",
   "metadata": {
    "id": "l7efPihJsFJ9"
   },
   "source": [
    "$W$ kg까지 넣을 수 있는 가방을 들고 쥬얼리샵에 침입하였다고 가정한다.\n",
    "훔칠 수 있는 $n$ 개의 보석이 주어졌고 각 보석은 서로 다른 무게를 갖는다고 가정한다.\n",
    "가방에 넣은 보석이 최대의 값어치가 되도록 하는 방법을 알아내는 \n",
    "알고리즘을 동적계획법으로 구현하라.\n",
    "\n",
    "문제 이해를 위해 다음 경우를 가정한다. \n",
    "\n",
    "- $W$ = 20 kg\n",
    "- 보석 수: 5개\n",
    "- 무게와 값어치\n",
    "\n",
    "| 보석류| 무 게 | 값어치 |\n",
    "| --- | --- | --- |\n",
    "| 1 | 2 | 3 |\n",
    "| 2 | 3 | 4 |\n",
    "| 3 | 4 | 8 |\n",
    "| 4 | 5 | 8 |\n",
    "| 5 | 9 | 10 |"
   ]
  },
  {
   "cell_type": "code",
   "execution_count": null,
   "metadata": {
    "id": "FP3_SpQQ6ogf"
   },
   "outputs": [],
   "source": [
    "stuff = np.array([[2,3],[3,4],[4,8],[5,8],[9,10]])"
   ]
  },
  {
   "cell_type": "code",
   "execution_count": null,
   "metadata": {
    "id": "fAu1IlzZ6L8K"
   },
   "outputs": [],
   "source": [
    "def bag(stuff,w):\n",
    "    pass"
   ]
  },
  {
   "cell_type": "code",
   "execution_count": null,
   "metadata": {
    "colab": {
     "base_uri": "https://localhost:8080/"
    },
    "id": "RK6LQ0iz62hK",
    "outputId": "15cbc640-2de4-41d0-be2f-f909833b4de6"
   },
   "outputs": [],
   "source": [
    "assert bag(stuff,20) == 29"
   ]
  }
 ],
 "metadata": {
  "colab": {
   "collapsed_sections": [],
   "name": "floyd_warshall_napsack",
   "provenance": []
  },
  "kernelspec": {
   "display_name": "Python 3",
   "language": "python",
   "name": "python3"
  },
  "language_info": {
   "codemirror_mode": {
    "name": "ipython",
    "version": 3
   },
   "file_extension": ".py",
   "mimetype": "text/x-python",
   "name": "python",
   "nbconvert_exporter": "python",
   "pygments_lexer": "ipython3",
   "version": "3.8.8"
  }
 },
 "nbformat": 4,
 "nbformat_minor": 1
}
