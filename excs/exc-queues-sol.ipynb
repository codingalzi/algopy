{
 "cells": [
  {
   "cell_type": "markdown",
   "metadata": {},
   "source": [
    "# (실습) 큐"
   ]
  },
  {
   "cell_type": "markdown",
   "metadata": {},
   "source": [
    "## 큐 관련"
   ]
  },
  {
   "cell_type": "markdown",
   "metadata": {},
   "source": [
    "아래 코드에서 구현된 `Queue`는 리스트를 저장 장치로 이용하며, 리스트의 마지막 인덱스를 머리로, 0번 인덱스를 꼬리로 사용한다."
   ]
  },
  {
   "cell_type": "code",
   "execution_count": 1,
   "metadata": {},
   "outputs": [],
   "source": [
    "class Queue:\n",
    "    \"\"\"리스트를 활용한 큐 구현\"\"\"\n",
    "\n",
    "    def __init__(self, maxsize=0):\n",
    "        \"\"\"새로운 큐 생성\"\"\"\n",
    "        self.maxsize = maxsize\n",
    "        self._items = []\n",
    "    \n",
    "    def __repr__(self):\n",
    "        \"\"\"큐 표기법: <<[1, 2, 3]>> 등등\"\"\"\n",
    "        return f\"<<{self._items}>>\"\n",
    "    \n",
    "    def empty(self):\n",
    "        \"\"\"비었는지 여부 확인\"\"\"\n",
    "        return not bool(self._items)\n",
    "\n",
    "    def full(self):\n",
    "        \"\"\"maxsize 충족 여부 확인\"\"\"\n",
    "        if self.maxsize <= 0:\n",
    "            return False\n",
    "        elif self.qsize() == self.maxsize:\n",
    "            return True\n",
    "        else:\n",
    "            return False\n",
    "\n",
    "    def put(self, item):\n",
    "        \"\"\"꼬리에 항목 추가\n",
    "        - maxsize를 채웠을 경우 머리 항목 삭제 후 추가\n",
    "        \"\"\"\n",
    "        if self.full() == True:\n",
    "            self.get()\n",
    "            \n",
    "        self._items.insert(0, item)\n",
    "\n",
    "    def get(self):\n",
    "        \"\"\"머리 항목 삭제\"\"\"\n",
    "        return self._items.pop()\n",
    "\n",
    "    def qsize(self):\n",
    "        \"\"\"항목 개수 확인\"\"\"\n",
    "        return len(self._items)"
   ]
  },
  {
   "cell_type": "markdown",
   "metadata": {},
   "source": [
    "아래 코드는 큐를 생성하여 1만개, 2만개, ..., 10만개의 항목을 추가하고 삭제하는 데에 필요한 시간을 측정한다.\n",
    "먼저 직접 구현한 `Queue` 클래스를 이용하면 다음과 같다."
   ]
  },
  {
   "cell_type": "code",
   "execution_count": 31,
   "metadata": {},
   "outputs": [],
   "source": [
    "counts = range(10000, 100001, 10000)"
   ]
  },
  {
   "cell_type": "markdown",
   "metadata": {},
   "source": [
    "- 항목 추가에 걸리는 시간: 추가되는 항목 수에 비례하여 실행 시간이 많이 달라짐."
   ]
  },
  {
   "cell_type": "code",
   "execution_count": 32,
   "metadata": {},
   "outputs": [
    {
     "name": "stdout",
     "output_type": "stream",
     "text": [
      "10000개 항목 추가에 걸리는 시간: 0.02437734603881836\n",
      "20000개 항목 추가에 걸리는 시간: 0.09184837341308594\n",
      "30000개 항목 추가에 걸리는 시간: 0.2077798843383789\n",
      "40000개 항목 추가에 걸리는 시간: 0.36397528648376465\n",
      "50000개 항목 추가에 걸리는 시간: 0.5910015106201172\n",
      "60000개 항목 추가에 걸리는 시간: 0.8690001964569092\n",
      "70000개 항목 추가에 걸리는 시간: 1.2096107006072998\n",
      "80000개 항목 추가에 걸리는 시간: 1.602658987045288\n",
      "90000개 항목 추가에 걸리는 시간: 2.045506238937378\n",
      "100000개 항목 추가에 걸리는 시간: 2.522719144821167\n"
     ]
    }
   ],
   "source": [
    "import time\n",
    "\n",
    "for num in counts:\n",
    "    q1 = Queue()\n",
    "    \n",
    "    start = time.time()\n",
    "\n",
    "    for item in range(num):\n",
    "        q1.put(item)\n",
    "\n",
    "    end = time.time()\n",
    "\n",
    "    print(f\"{num}개 항목 추가에 걸리는 시간: {end - start}\")"
   ]
  },
  {
   "cell_type": "markdown",
   "metadata": {},
   "source": [
    "- 항목 삭제에 걸리는 시간: 추가되는 항목 수에 비례하기는 하지만 그 정도가 훨씬 약함."
   ]
  },
  {
   "cell_type": "code",
   "execution_count": 33,
   "metadata": {},
   "outputs": [
    {
     "name": "stdout",
     "output_type": "stream",
     "text": [
      "10000개 항목 삭제에 걸리는 시간: 0.0019998550415039062\n",
      "20000개 항목 삭제에 걸리는 시간: 0.005585908889770508\n",
      "30000개 항목 삭제에 걸리는 시간: 0.010522842407226562\n",
      "40000개 항목 삭제에 걸리는 시간: 0.010578155517578125\n",
      "50000개 항목 삭제에 걸리는 시간: 0.013164520263671875\n",
      "60000개 항목 삭제에 걸리는 시간: 0.015631437301635742\n",
      "70000개 항목 삭제에 걸리는 시간: 0.018157005310058594\n",
      "80000개 항목 삭제에 걸리는 시간: 0.021162033081054688\n",
      "90000개 항목 삭제에 걸리는 시간: 0.023865222930908203\n",
      "100000개 항목 삭제에 걸리는 시간: 0.026745080947875977\n"
     ]
    }
   ],
   "source": [
    "import time\n",
    "\n",
    "for num in counts:\n",
    "    q1 = Queue()\n",
    "    \n",
    "    for item in range(num):\n",
    "        q1.put(item)\n",
    "\n",
    "    start = time.time()\n",
    "\n",
    "    while not q1.empty():\n",
    "        q1.get()\n",
    "\n",
    "    end = time.time()\n",
    "\n",
    "    print(f\"{num}개 항목 삭제에 걸리는 시간: {end - start}\")"
   ]
  },
  {
   "cell_type": "markdown",
   "metadata": {},
   "source": [
    "**문제 1**"
   ]
  },
  {
   "cell_type": "markdown",
   "metadata": {},
   "source": [
    "`Queue` 클래스를 이용할 때 항목 추가에 시간이 보다 많이 걸리는 이유를 설명하라."
   ]
  },
  {
   "cell_type": "markdown",
   "metadata": {},
   "source": [
    "`설명:` \n",
    "\n"
   ]
  },
  {
   "cell_type": "markdown",
   "metadata": {},
   "source": [
    "반면에 파이썬의 `queue` 모듈에서 제공되는 `Queue` 클래스는 리스트가 아닌 다른 자료구조를 이용하여 항목을 저장하고 삭제한다.\n",
    "정확히 어떤 자료구조를 사용하는지는 여기서는 중요하지 않다.\n",
    "다만 큐에 항목을 추가하고 삭제할 때 걸리는 시간에 차이가 많이 난다는 사실에서 이를 추정할 수 있다."
   ]
  },
  {
   "cell_type": "markdown",
   "metadata": {},
   "source": [
    "- 항목 추가에 걸리는 시간: 추가되는 항목 수에 비례하여 실행 시간이 좀 더 걸림. 하지만 `q1`의 경우보다 훨씬 빠름."
   ]
  },
  {
   "cell_type": "code",
   "execution_count": 34,
   "metadata": {},
   "outputs": [
    {
     "name": "stdout",
     "output_type": "stream",
     "text": [
      "10000개 항목 추가에 걸리는 시간: 0.013714075088500977\n",
      "20000개 항목 추가에 걸리는 시간: 0.02929091453552246\n",
      "30000개 항목 추가에 걸리는 시간: 0.0411219596862793\n",
      "40000개 항목 추가에 걸리는 시간: 0.0543668270111084\n",
      "50000개 항목 추가에 걸리는 시간: 0.06753778457641602\n",
      "60000개 항목 추가에 걸리는 시간: 0.08149409294128418\n",
      "70000개 항목 추가에 걸리는 시간: 0.0985410213470459\n",
      "80000개 항목 추가에 걸리는 시간: 0.11490964889526367\n",
      "90000개 항목 추가에 걸리는 시간: 0.12321734428405762\n",
      "100000개 항목 추가에 걸리는 시간: 0.13501620292663574\n"
     ]
    }
   ],
   "source": [
    "import time\n",
    "import queue\n",
    "\n",
    "for num in counts:\n",
    "    q2 = queue.Queue()\n",
    "    \n",
    "    start = time.time()\n",
    "\n",
    "    for item in range(num):\n",
    "        q2.put(item)\n",
    "\n",
    "    end = time.time()\n",
    "\n",
    "    print(f\"{num}개 항목 추가에 걸리는 시간: {end - start}\")"
   ]
  },
  {
   "cell_type": "markdown",
   "metadata": {},
   "source": [
    "- 항목 추가에 걸리는 시간: 항목을 추가하는 시간과 비슷하게 걸림. 하지만 `q1`의 경우보다 많이 느림."
   ]
  },
  {
   "cell_type": "code",
   "execution_count": 35,
   "metadata": {},
   "outputs": [
    {
     "name": "stdout",
     "output_type": "stream",
     "text": [
      "10000개 항목 추가에 걸리는 시간: 0.019740581512451172\n",
      "20000개 항목 추가에 걸리는 시간: 0.04014158248901367\n",
      "30000개 항목 추가에 걸리는 시간: 0.05960488319396973\n",
      "40000개 항목 추가에 걸리는 시간: 0.0796358585357666\n",
      "50000개 항목 추가에 걸리는 시간: 0.09832763671875\n",
      "60000개 항목 추가에 걸리는 시간: 0.11884808540344238\n",
      "70000개 항목 추가에 걸리는 시간: 0.13672232627868652\n",
      "80000개 항목 추가에 걸리는 시간: 0.16041350364685059\n",
      "90000개 항목 추가에 걸리는 시간: 0.1796269416809082\n",
      "100000개 항목 추가에 걸리는 시간: 0.19881987571716309\n"
     ]
    }
   ],
   "source": [
    "import time\n",
    "import queue\n",
    "\n",
    "for num in counts:\n",
    "    q2 = queue.Queue()\n",
    "    \n",
    "    for item in range(num):\n",
    "        q2.put(item)\n",
    "\n",
    "    start = time.time()\n",
    "\n",
    "    while not q2.empty():\n",
    "        q2.get()\n",
    "\n",
    "    end = time.time()\n",
    "\n",
    "    print(f\"{num}개 항목 추가에 걸리는 시간: {end - start}\")"
   ]
  },
  {
   "cell_type": "markdown",
   "metadata": {},
   "source": [
    "**문제 2**"
   ]
  },
  {
   "cell_type": "markdown",
   "metadata": {},
   "source": [
    "자신의 컴퓨터로 아래 두 코드가 각각 3분 이내로 실행되도록 `num1`과 `num2`의 최댓값을 확인하라."
   ]
  },
  {
   "cell_type": "code",
   "execution_count": 37,
   "metadata": {},
   "outputs": [
    {
     "name": "stdout",
     "output_type": "stream",
     "text": [
      "100000개 항목 추가에 걸리는 시간: 2.525604248046875\n"
     ]
    }
   ],
   "source": [
    "import time\n",
    "\n",
    "num1 = 100000\n",
    "\n",
    "q1 = Queue()\n",
    "\n",
    "start = time.time()\n",
    "\n",
    "for item in range(num1):\n",
    "    q1.put(item)\n",
    "\n",
    "end = time.time()\n",
    "\n",
    "print(f\"{num1}개 항목 추가에 걸리는 시간: {end - start}\")"
   ]
  },
  {
   "cell_type": "code",
   "execution_count": 39,
   "metadata": {},
   "outputs": [
    {
     "name": "stdout",
     "output_type": "stream",
     "text": [
      "100000개 항목 추가에 걸리는 시간: 0.12597441673278809\n"
     ]
    }
   ],
   "source": [
    "import time\n",
    "\n",
    "num2 = 100000\n",
    "\n",
    "q2 = queue.Queue()\n",
    "\n",
    "start = time.time()\n",
    "\n",
    "for item in range(num2):\n",
    "    q2.put(item)\n",
    "\n",
    "end = time.time()\n",
    "\n",
    "print(f\"{num2}개 항목 추가에 걸리는 시간: {end - start}\")"
   ]
  },
  {
   "cell_type": "markdown",
   "metadata": {},
   "source": [
    "**문제 3**"
   ]
  },
  {
   "cell_type": "markdown",
   "metadata": {},
   "source": [
    "`Queue_r` 클래스를 이용하여 큐를 구현할 때 큐의 꼬리를 리스트의 마지막 인덱스로, 머리는 리스트의 0번 인덱스로 사용하라.\n",
    "이를 위해 `put()` 메서드와 `get()` 메서드를 적절하게 구현해야 한다."
   ]
  },
  {
   "cell_type": "code",
   "execution_count": 2,
   "metadata": {},
   "outputs": [],
   "source": [
    "class Queue_r:\n",
    "    \"\"\"리스트를 활용한 큐 구현\"\"\"\n",
    "\n",
    "    def __init__(self, maxsize=0):\n",
    "        \"\"\"새로운 큐 생성\"\"\"\n",
    "        self.maxsize = maxsize\n",
    "        self._items = []\n",
    "    \n",
    "    def __repr__(self):\n",
    "        \"\"\"큐 표기법: <<[1, 2, 3]>> 등등\"\"\"\n",
    "        return f\"<<{self._items}>>\"\n",
    "    \n",
    "    def empty(self):\n",
    "        \"\"\"비었는지 여부 확인\"\"\"\n",
    "        return not bool(self._items)\n",
    "\n",
    "    def full(self):\n",
    "        \"\"\"maxsize 충족 여부 확인\"\"\"\n",
    "        if self.maxsize <= 0:\n",
    "            return False\n",
    "        elif self.qsize() == self.maxsize:\n",
    "            return True\n",
    "        else:\n",
    "            return False\n",
    "\n",
    "    def put(self, item):\n",
    "        \"\"\"리스트의 오른쪽 끝에 항목 추가\n",
    "        - maxsize를 채웠을 경우 머리 항목 삭제 후 추가\n",
    "        \"\"\"\n",
    "        if self.full() == True:\n",
    "            self.get()\n",
    "            \n",
    "        pass\n",
    "\n",
    "    def get(self):\n",
    "        \"\"\"머리 항목 삭제\"\"\"\n",
    "        pass\n",
    "\n",
    "    def qsize(self):\n",
    "        \"\"\"항목 개수 확인\"\"\"\n",
    "        return len(self._items)"
   ]
  },
  {
   "cell_type": "markdown",
   "metadata": {},
   "source": [
    "**문제 4**"
   ]
  },
  {
   "cell_type": "markdown",
   "metadata": {},
   "source": [
    "`Queue`와 `queue.Queue`를 비교할 것처럼 `Queue`와 `Queue_r`의 성능을 비교하라."
   ]
  },
  {
   "cell_type": "code",
   "execution_count": 41,
   "metadata": {},
   "outputs": [],
   "source": [
    "# 항목 추가에 걸리는 시간 비교\n"
   ]
  },
  {
   "cell_type": "code",
   "execution_count": 42,
   "metadata": {},
   "outputs": [],
   "source": [
    "# 항목 삭제에 걸리는 시간 비교\n"
   ]
  },
  {
   "cell_type": "markdown",
   "metadata": {},
   "source": [
    "## 폭탄 돌리기 관련"
   ]
  },
  {
   "cell_type": "markdown",
   "metadata": {},
   "source": [
    "아래 코드는 폭탄 돌리기 게임을 시뮬레이션 한다."
   ]
  },
  {
   "cell_type": "code",
   "execution_count": 43,
   "metadata": {},
   "outputs": [],
   "source": [
    "def hot_potato(name_list, num):\n",
    "\n",
    "    sim_queue = Queue()\n",
    "    \n",
    "    # 큐에 사람 목록 추가\n",
    "    for name in name_list:\n",
    "        sim_queue.put(name)\n",
    "\n",
    "    # 게임 진행\n",
    "    while sim_queue.qsize() > 1:\n",
    "        # num 번 폭탄 돌린 후 탈락자 지정\n",
    "        for i in range(num):\n",
    "            sim_queue.put(sim_queue.get())\n",
    "\n",
    "        sim_queue.get()\n",
    "\n",
    "    return sim_queue.get()    # 마지막 남은 사람"
   ]
  },
  {
   "cell_type": "markdown",
   "metadata": {},
   "source": [
    "예를 들어, 101명으로 시작해서 폭탄을 5번 돌릴 때마다 한 사람씩 탈락시키는 게임의 마지막 생존자를 확인하는 방법은 다음과 같다."
   ]
  },
  {
   "cell_type": "code",
   "execution_count": 62,
   "metadata": {},
   "outputs": [
    {
     "name": "stdout",
     "output_type": "stream",
     "text": [
      "player73\n"
     ]
    }
   ],
   "source": [
    "player = [f\"player{i}\" for i in range(101)]\n",
    "\n",
    "print(hot_potato(player, 5))"
   ]
  },
  {
   "cell_type": "markdown",
   "metadata": {},
   "source": [
    "**문제 1**"
   ]
  },
  {
   "cell_type": "markdown",
   "metadata": {},
   "source": [
    "'폭탄 돌리기' 게임에서 지정된 `step`만큼 건너 뛰면서 폭탄을 돌리는 횟수를 무작위적으로 변경할 수 있도록 \n",
    "코드를 수정하라.\n"
   ]
  },
  {
   "cell_type": "code",
   "execution_count": 49,
   "metadata": {},
   "outputs": [],
   "source": [
    "def hot_potato(name_list, num, step=1):\n",
    "\n",
    "    sim_queue = Queue()\n",
    "    \n",
    "    # 큐에 사람 목록 추가\n",
    "    for name in name_list:\n",
    "        sim_queue.put(name)\n",
    "\n",
    "    # 게임 진행\n",
    "    while sim_queue.qsize() > 1:\n",
    "        # num 번 폭탄 돌린 후 탈락자 지정\n",
    "        for i in range(num):\n",
    "            for _ in range(step):\n",
    "                sim_queue.put(sim_queue.get())\n",
    "\n",
    "        sim_queue.get()\n",
    "\n",
    "    return sim_queue.get()    # 마지막 남은 사람"
   ]
  },
  {
   "cell_type": "markdown",
   "metadata": {},
   "source": [
    "예를 들어, 101명으로 시작해서 1명씩 건너 뛰면서 폭탄을 5번 돌릴 때마다 한 사람씩 탈락시키는 게임의 마지막 생존자를 확인하는 방법은 다음과 같다."
   ]
  },
  {
   "cell_type": "code",
   "execution_count": 63,
   "metadata": {},
   "outputs": [
    {
     "name": "stdout",
     "output_type": "stream",
     "text": [
      "player51\n"
     ]
    }
   ],
   "source": [
    "print(hot_potato(player, 5, 2))"
   ]
  },
  {
   "cell_type": "markdown",
   "metadata": {},
   "source": [
    "3명씩 건너뛰면 다음과 같다."
   ]
  },
  {
   "cell_type": "code",
   "execution_count": 64,
   "metadata": {},
   "outputs": [
    {
     "name": "stdout",
     "output_type": "stream",
     "text": [
      "player90\n"
     ]
    }
   ],
   "source": [
    "print(hot_potato(player, 5, 3))"
   ]
  }
 ],
 "metadata": {
  "kernelspec": {
   "display_name": "Python 3 (ipykernel)",
   "language": "python",
   "name": "python3"
  },
  "language_info": {
   "codemirror_mode": {
    "name": "ipython",
    "version": 3
   },
   "file_extension": ".py",
   "mimetype": "text/x-python",
   "name": "python",
   "nbconvert_exporter": "python",
   "pygments_lexer": "ipython3",
   "version": "3.11.4"
  },
  "vscode": {
   "interpreter": {
    "hash": "ad0f3c8a064f687cbf898a0868fd45ba1c7e928ac8a0404f7c241d812ddc1e76"
   }
  }
 },
 "nbformat": 4,
 "nbformat_minor": 4
}
