{
 "cells": [
  {
   "cell_type": "markdown",
   "metadata": {},
   "source": [
    "# (실습) 파이썬 모음 자료형 분석"
   ]
  },
  {
   "cell_type": "markdown",
   "metadata": {},
   "source": [
    "**문제**"
   ]
  },
  {
   "cell_type": "markdown",
   "metadata": {},
   "source": [
    "리스트의 인덱싱 연산의 시간복잡도가 $O(1)$임을 입증하는 예제 코드를 구현하라.\n",
    "\n",
    "단, 입증은 매우 긴 리스트에 대해 인덱싱이 항상 상수 시간내에 작동하는 것을 보이는 방식을 사용한다."
   ]
  },
  {
   "cell_type": "markdown",
   "metadata": {},
   "source": [
    "**문제**"
   ]
  },
  {
   "cell_type": "markdown",
   "metadata": {},
   "source": [
    "키(key)를 이용한 사전 항목 확인과 값(value) 대체 연산의 \n",
    "시간복잡도가 $O(1)$임을 입증하는 예제 코드를 구현하라.\n",
    "\n",
    "단, 입증은 매우 많은 항목을 포함한 사전에 대해 \n",
    "항목 확인과 값 대체 연산이 항상 상수 시간내에 작동하는 것을 보이는 방식을 사용한다."
   ]
  },
  {
   "cell_type": "markdown",
   "metadata": {},
   "source": [
    "**문제**"
   ]
  },
  {
   "cell_type": "markdown",
   "metadata": {},
   "source": [
    "리스트와 사전 각각에 대해 `del` 연산의 실행시간을 비교하는 예제 코드를 작성하라."
   ]
  },
  {
   "cell_type": "markdown",
   "metadata": {},
   "source": [
    "**문제**"
   ]
  },
  {
   "cell_type": "markdown",
   "metadata": {},
   "source": [
    "$n$개의 임의의 정수로 이루어진 리스트가 주어졌을 때 $k$번째로 작은 항목을 찾는 알고리즘을 구현하라.\n",
    "단, 알고리즘의 시간복잡도는 $O(n\\log(n))$이어야 한다."
   ]
  },
  {
   "cell_type": "markdown",
   "metadata": {},
   "source": [
    "**문제**"
   ]
  },
  {
   "cell_type": "markdown",
   "metadata": {},
   "source": [
    "$n$개의 임의의 정수로 이루어진 리스트가 주어졌을 때 $k$번째로 작은 항목을 찾는 알고리즘을\n",
    "시간 복잡도가 $O(n)$이 되도록 구현할 수 있는지 여부를 판단하고 그 이유를 설명하라."
   ]
  }
 ],
 "metadata": {
  "kernelspec": {
   "display_name": "Python 3 (ipykernel)",
   "language": "python",
   "name": "python3"
  },
  "language_info": {
   "codemirror_mode": {
    "name": "ipython",
    "version": 3
   },
   "file_extension": ".py",
   "mimetype": "text/x-python",
   "name": "python",
   "nbconvert_exporter": "python",
   "pygments_lexer": "ipython3",
   "version": "3.9.13"
  },
  "vscode": {
   "interpreter": {
    "hash": "ad0f3c8a064f687cbf898a0868fd45ba1c7e928ac8a0404f7c241d812ddc1e76"
   }
  }
 },
 "nbformat": 4,
 "nbformat_minor": 2
}
