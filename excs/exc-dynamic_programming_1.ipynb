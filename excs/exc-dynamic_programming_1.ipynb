{
 "cells": [
  {
   "cell_type": "markdown",
   "metadata": {},
   "source": [
    "# (실습) 최적화 문제와 동적계획법"
   ]
  },
  {
   "cell_type": "markdown",
   "metadata": {},
   "source": [
    "**문제 1**"
   ]
  },
  {
   "cell_type": "markdown",
   "metadata": {},
   "source": [
    "이항계수 계산에 사용된 동적계획법 알고리즘을 구현하기 위해 아래 사실을 이용하라.\n",
    "\n",
    "```\n",
    "길이가 (k+1)인 1차원 배열을 이용할 수 있다. \n",
    "이유는 i번 행을 계산하기 위해 (i-1)번 행만 필요하기 때문이다.\n",
    "```"
   ]
  },
  {
   "cell_type": "markdown",
   "metadata": {},
   "source": [
    "**문제 2**"
   ]
  },
  {
   "cell_type": "markdown",
   "metadata": {},
   "source": [
    "이항계수 계산에 사용된 동적계획법 알고리즘을 아래 사실을 이용하여 개선하라.\n",
    "\n",
    "$$\n",
    "{n \\choose k} = {n \\choose n-k}\n",
    "$$"
   ]
  },
  {
   "cell_type": "markdown",
   "metadata": {},
   "source": [
    "**문제 3**"
   ]
  },
  {
   "cell_type": "markdown",
   "metadata": {},
   "source": [
    "아래 식에서 Big-O가 성립하는 이유를 설명하라."
   ]
  },
  {
   "cell_type": "markdown",
   "metadata": {},
   "source": [
    "$$\n",
    "\\begin{align*}\n",
    "T(n, k) &= 1 + 2 + 3 + \\cdots + k + (k+1)\\cdot (n-k+1) \\\\\n",
    "&= \\frac{(2n-k+2)(k+1)}{2} \\\\\n",
    "& \\in O(n\\,k)\n",
    "\\end{align*}\n",
    "$$"
   ]
  }
 ],
 "metadata": {
  "kernelspec": {
   "display_name": "Python 3 (ipykernel)",
   "language": "python",
   "name": "python3"
  },
  "language_info": {
   "codemirror_mode": {
    "name": "ipython",
    "version": 3
   },
   "file_extension": ".py",
   "mimetype": "text/x-python",
   "name": "python",
   "nbconvert_exporter": "python",
   "pygments_lexer": "ipython3",
   "version": "3.11.4"
  },
  "vscode": {
   "interpreter": {
    "hash": "ad0f3c8a064f687cbf898a0868fd45ba1c7e928ac8a0404f7c241d812ddc1e76"
   }
  }
 },
 "nbformat": 4,
 "nbformat_minor": 2
}
