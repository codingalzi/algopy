{
 "cells": [
  {
   "cell_type": "markdown",
   "metadata": {
    "id": "LpgOgYIUsFJl"
   },
   "source": [
    "# 파스트리 활용"
   ]
  },
  {
   "cell_type": "markdown",
   "metadata": {},
   "source": [
    "[8장 트리와 힙](https://codingalzi.github.io/algopy/notebooks/algopy08_TreesHeaps.html)에서\n",
    "사용한 코드의 일부는 다음과 같다."
   ]
  },
  {
   "cell_type": "markdown",
   "metadata": {},
   "source": [
    "- 이진트리 클래스"
   ]
  },
  {
   "cell_type": "code",
   "execution_count": null,
   "metadata": {},
   "outputs": [],
   "source": [
    "class BinaryTree:\n",
    "    # 생성자\n",
    "    def __init__(self, root_obj, left_child=None, right_child=None):\n",
    "        self.key = root_obj\n",
    "        self.left_child = left_child\n",
    "        self.right_child = right_child\n",
    "\n",
    "    # 왼쪽 서브트리 추가\n",
    "    def insert_left(self, new_node):\n",
    "        if self.left_child is None:\n",
    "            self.left_child = BinaryTree(new_node)\n",
    "        else:\n",
    "            new_left_child = BinaryTree(new_node, self.left_child, None)\n",
    "            self.left_child = new_left_child\n",
    "\n",
    "    # 오른쪽 서브트리 추가\n",
    "    def insert_right(self, new_node):\n",
    "        if self.right_child == None:\n",
    "            self.right_child = BinaryTree(new_node)\n",
    "        else:\n",
    "            new_right_child = BinaryTree(new_node, None, self.right_child)\n",
    "            self.right_child = new_right_child\n",
    "\n",
    "    # 루트 이름 확인\n",
    "    def get_root_val(self):\n",
    "        return self.key\n",
    "\n",
    "    # 루트 이름 지정\n",
    "    def set_root_val(self, new_obj):\n",
    "        self.key = new_obj\n",
    "\n",
    "    # 왼쪽 서브트리 확인\n",
    "    def get_left_child(self):\n",
    "        return self.left_child\n",
    "\n",
    "    # 오른쪽 서브트리 확인\n",
    "    def get_right_child(self):\n",
    "        return self.right_child     "
   ]
  },
  {
   "cell_type": "markdown",
   "metadata": {},
   "source": [
    "- 스택"
   ]
  },
  {
   "cell_type": "code",
   "execution_count": null,
   "metadata": {},
   "outputs": [],
   "source": [
    "class Stack:\n",
    "    def __init__(self):\n",
    "        self._items = []\n",
    "\n",
    "    def __repr__(self):\n",
    "        return f\"<{self._items}>\"\n",
    "        \n",
    "    def is_empty(self):\n",
    "        return not bool(self._items)\n",
    "\n",
    "    def push(self, item):\n",
    "        self._items.append(item)\n",
    "\n",
    "    def pop(self):\n",
    "        return self._items.pop()\n",
    "\n",
    "    def peek(self):\n",
    "        return self._items[-1]\n",
    "\n",
    "    def size(self):\n",
    "        return len(self._items)"
   ]
  },
  {
   "cell_type": "markdown",
   "metadata": {},
   "source": [
    "- 파스트리 생성 함수"
   ]
  },
  {
   "cell_type": "code",
   "execution_count": null,
   "metadata": {},
   "outputs": [],
   "source": [
    "def build_parse_tree(fp_expr):\n",
    "\n",
    "    # 수식으로부터 토큰들의 리스트 생성\n",
    "    fp_list = fp_expr.split()\n",
    "    # 부모 마디를 루트로 갖는 서브트리들의 스택\n",
    "    p_stack = Stack()\n",
    "    \n",
    "    # 생성 대상 이진트리. 하나의 비어 있는 마디로 시작.\n",
    "    expr_tree = BinaryTree(\"\")\n",
    "    \n",
    "    p_stack.push(expr_tree)\n",
    "    \n",
    "    # 현재 토큰을 루트로 갖는 구현 대상 서브트리\n",
    "    current_tree = expr_tree\n",
    "\n",
    "    for i in fp_list:\n",
    "        # 토큰: 여는 괄호\n",
    "        if i == \"(\":\n",
    "            current_tree.insert_left(\"\")\n",
    "            p_stack.push(current_tree)\n",
    "            current_tree = current_tree.left_child\n",
    "        \n",
    "        # 토큰: 연산 기호\n",
    "        elif i in [\"+\", \"-\", \"*\", \"/\"]:\n",
    "            current_tree.key = i\n",
    "            current_tree.insert_right(\"\")\n",
    "            p_stack.push(current_tree)\n",
    "            current_tree = current_tree.right_child\n",
    "\n",
    "        # 토큰: 닫는 괄호\n",
    "        elif i == \")\":\n",
    "            current_tree = p_stack.pop()\n",
    "\n",
    "        # 토큰: 정수 및 기타\n",
    "        elif i not in [\"+\", \"-\", \"*\", \"/\", \")\"]:\n",
    "            try:\n",
    "                current_tree.key = int(i)\n",
    "                parent = p_stack.pop()\n",
    "                current_tree = parent\n",
    "    \n",
    "            # 정수가 아닌 경우 오류 발생시킴\n",
    "            except ValueError:\n",
    "                raise ValueError(\"token '{}' is not a valid integer\".format(i))\n",
    "\n",
    "    return expr_tree"
   ]
  },
  {
   "cell_type": "markdown",
   "metadata": {},
   "source": [
    "- 파스트리 해석기"
   ]
  },
  {
   "cell_type": "code",
   "execution_count": null,
   "metadata": {},
   "outputs": [],
   "source": [
    "import operator\n",
    "\n",
    "def evaluate(parse_tree):\n",
    "    operators = {\n",
    "        \"+\": operator.add,\n",
    "        \"-\": operator.sub,\n",
    "        \"*\": operator.mul,\n",
    "        \"/\": operator.truediv,\n",
    "    }\n",
    "    \n",
    "    # 재귀 적용 대상: 좌우 자식 서브트리\n",
    "    left_child = parse_tree.left_child\n",
    "    right_child = parse_tree.right_child\n",
    "\n",
    "    # 자식 서브트리 먼저 계산 후 연산자 적용. 왼쪽 먼저.\n",
    "    if left_child and right_child:\n",
    "        \n",
    "        left_eval = evaluate(left_child)\n",
    "        right_eval = evaluate(right_child)\n",
    "        fn = operators[parse_tree.key]\n",
    "        \n",
    "        return fn(left_eval, right_eval)\n",
    "\n",
    "    else:\n",
    "        return parse_tree.key"
   ]
  },
  {
   "cell_type": "markdown",
   "metadata": {},
   "source": [
    "- 예제: `3+(4*5)`의 파스트리 생성과 해석"
   ]
  },
  {
   "cell_type": "code",
   "execution_count": null,
   "metadata": {},
   "outputs": [],
   "source": [
    "pt = build_parse_tree(\"( 3 + ( 4 * 5 ) )\")"
   ]
  },
  {
   "cell_type": "code",
   "execution_count": null,
   "metadata": {},
   "outputs": [],
   "source": [
    "evaluate(pt)"
   ]
  },
  {
   "cell_type": "markdown",
   "metadata": {
    "id": "8RcbuzO8sFJ9"
   },
   "source": [
    "### 문제 1 (20점)"
   ]
  },
  {
   "cell_type": "markdown",
   "metadata": {
    "id": "8RcbuzO8sFJ9"
   },
   "source": [
    "두 문자 사이에 공백이 없는 수식 문자열에 대해서도 `build_parse_tree()` 함수가 작동하도록 알고리즘을 수정하라."
   ]
  },
  {
   "cell_type": "code",
   "execution_count": null,
   "metadata": {},
   "outputs": [],
   "source": [
    "def build_parse_tree(fp_expr):\n",
    "    pass\n",
    "\n",
    "    return expr_tree"
   ]
  },
  {
   "cell_type": "code",
   "execution_count": null,
   "metadata": {},
   "outputs": [],
   "source": [
    "pt1 = build_parse_tree(\"(3+(4*5))\")"
   ]
  },
  {
   "cell_type": "code",
   "execution_count": null,
   "metadata": {},
   "outputs": [],
   "source": [
    "assert evaluate(pt1)==23"
   ]
  },
  {
   "cell_type": "markdown",
   "metadata": {
    "id": "8RcbuzO8sFJ9"
   },
   "source": [
    "### 문제 2 (30점)"
   ]
  },
  {
   "cell_type": "markdown",
   "metadata": {
    "id": "8RcbuzO8sFJ9"
   },
   "source": [
    "`and`, `or`, `not`을 사용하는 논리 표현식에 대해 작동하는 `build_parse_tree_bool()` 함수와 `evaluate_bool()` 함수를 구현하라. `not` 연산자는 하나의 인자만 사용함에 주의하라."
   ]
  },
  {
   "cell_type": "code",
   "execution_count": null,
   "metadata": {},
   "outputs": [],
   "source": [
    "def build_parse_tree_bool(fp_expr):\n",
    "    pass\n",
    "\n",
    "    return expr_tree"
   ]
  },
  {
   "cell_type": "code",
   "execution_count": null,
   "metadata": {},
   "outputs": [],
   "source": [
    "def expression_bool(parse_tree):\n",
    "    pass\n",
    "\n",
    "    return parse_tree.key"
   ]
  },
  {
   "cell_type": "code",
   "execution_count": null,
   "metadata": {},
   "outputs": [],
   "source": [
    "pt2 = build_parse_tree_bool(\"(not (True and (False or True)))\")"
   ]
  },
  {
   "cell_type": "code",
   "execution_count": null,
   "metadata": {},
   "outputs": [],
   "source": [
    "assert evaluate_bool(pt2)==False"
   ]
  }
 ],
 "metadata": {
  "colab": {
   "collapsed_sections": [],
   "name": "floyd_warshall_napsack",
   "provenance": []
  },
  "kernelspec": {
   "display_name": "Python 3",
   "language": "python",
   "name": "python3"
  },
  "language_info": {
   "codemirror_mode": {
    "name": "ipython",
    "version": 3
   },
   "file_extension": ".py",
   "mimetype": "text/x-python",
   "name": "python",
   "nbconvert_exporter": "python",
   "pygments_lexer": "ipython3",
   "version": "3.8.8"
  }
 },
 "nbformat": 4,
 "nbformat_minor": 1
}
