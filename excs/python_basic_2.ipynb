{
 "cells": [
  {
   "cell_type": "markdown",
   "id": "cadf567f",
   "metadata": {},
   "source": [
    "# (실습) 파이썬 프로그래밍 기초 2부"
   ]
  },
  {
   "cell_type": "markdown",
   "id": "e81e0f0d",
   "metadata": {},
   "source": [
    "**문제 1**"
   ]
  },
  {
   "cell_type": "markdown",
   "id": "5e39e20d",
   "metadata": {},
   "source": [
    "아래 문자열들의 리스트에 포함된 문자로 구성된 리스트를 작성하라.\n",
    "단, 중복을 허용하지 않아야 한다. \n",
    "\n",
    "```python\n",
    "word_list = [\"cat\", \"dog\", \"rabbit\"]\n",
    "```\n",
    "\n",
    "힌트: 출력값이 다음과 같아야 한다.\n",
    "\n",
    "```python\n",
    "['c', 'a', 't', 'd', 'o', 'g', 'r', 'b', 'i']\n",
    "```"
   ]
  },
  {
   "cell_type": "markdown",
   "id": "ae00735c",
   "metadata": {},
   "source": [
    "**문제 2**"
   ]
  },
  {
   "cell_type": "markdown",
   "id": "bfa10426",
   "metadata": {},
   "source": [
    "아래 문자열들의 리스트에 포함된 문자로 구성된 리스트를 조건제시법으로 작성하라.\n",
    "또한 중복을 허용하지 않는 리스트로 조건제시법으로 작성하라.\n",
    "\n",
    "```python\n",
    "word_list = [\"cat\", \"dog\", \"rabbit\"]\n",
    "```\n",
    "\n",
    "힌트: 출력값이 다음과 같아야 한다.\n",
    "\n",
    "```python\n",
    "중복 허용 출력값 1: ['c', 'a', 't', 'd', 'o', 'g', 'r', 'a', 'b', 'b', 'i', 't']\n",
    "중복 없는 출력값 2: ['c', 'a', 't', 'd', 'o', 'g', 'r', 'b', 'i']\n",
    "```"
   ]
  },
  {
   "cell_type": "markdown",
   "id": "47456d55",
   "metadata": {},
   "source": [
    "**문제 3**"
   ]
  },
  {
   "cell_type": "markdown",
   "id": "a9e30fdc",
   "metadata": {},
   "source": [
    "무한 원숭이 정리에서 작성한 `infinite_monkey()` 함수가 \n",
    "아래 기능을 만족하도록 수정하라.\n",
    "\n",
    "> 생성된 문자열 중에서 정확한 위치에서 사용된 문자는 그대로 두고 그렇지 않은 문자만 업데이트한다."
   ]
  }
 ],
 "metadata": {
  "kernelspec": {
   "display_name": "Python 3 (ipykernel)",
   "language": "python",
   "name": "python3"
  },
  "language_info": {
   "codemirror_mode": {
    "name": "ipython",
    "version": 3
   },
   "file_extension": ".py",
   "mimetype": "text/x-python",
   "name": "python",
   "nbconvert_exporter": "python",
   "pygments_lexer": "ipython3",
   "version": "3.9.13"
  }
 },
 "nbformat": 4,
 "nbformat_minor": 5
}
