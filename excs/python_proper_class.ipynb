{
 "cells": [
  {
   "cell_type": "markdown",
   "metadata": {},
   "source": [
    "# 추상 자료형 클래스 연습문제 "
   ]
  },
  {
   "cell_type": "markdown",
   "metadata": {},
   "source": [
    "## 문제 1\n",
    "\n",
    "[강의노트](https://codingalzi.github.io/algopy/notebooks/algopy01_Introduction_3.html)에서\n",
    "설명한 `Fraction` 클래스의 인스턴스가 항상 기약분수가 되도록 생성자 함수를 재정의(오버라이딩, overriding)하라.\n",
    "\n",
    "힌트: `gcd()` 함수를 생성자 함수에서 직접 사용한다. 그리고 이렇게 하면 `__add__()` 메서드 등에서\n",
    "더이상 `gcd()` 함수를 사용할 필요가 없음에 주의한다."
   ]
  },
  {
   "cell_type": "code",
   "execution_count": null,
   "metadata": {},
   "outputs": [],
   "source": [
    "# Fraction 클래스의 인스턴스가 항상 기약분수가 되도록 생성자를 수정하라.\n",
    "# 또한 덧셈 함수도 적절하게 수정해야 함에 주의하라.\n",
    "\n",
    "class Fraction:\n",
    "    \"\"\"Fraction 클래스\"\"\"\n",
    "\n",
    "    def __init__(self, top, bottom):\n",
    "        \"\"\"생성자 메서드\n",
    "        top: 분자\n",
    "        bottom: 분모\n",
    "        \"\"\"\n",
    "        pass\n",
    "    \n",
    "    def __str__(self):\n",
    "        return f\"{self.num}/{self.den}\"\n",
    "\n",
    "    def __add__(self, other_fraction):\n",
    "        pass\n",
    "\n",
    "    def __eq__(self, other_fraction):\n",
    "        first_num = self.num * other_fraction.den\n",
    "        second_num = other_fraction.num * self.den\n",
    "\n",
    "        return first_num == second_num"
   ]
  },
  {
   "cell_type": "markdown",
   "metadata": {},
   "source": [
    "아래 코드를 실행하면 `1/2`이 출력되어야 한다. "
   ]
  },
  {
   "cell_type": "code",
   "execution_count": null,
   "metadata": {},
   "outputs": [],
   "source": [
    "a = Fraction(3, 6)\n",
    "print(a)"
   ]
  },
  {
   "cell_type": "markdown",
   "metadata": {},
   "source": [
    "## 문제 2\n",
    "\n",
    "`Fraction` 클래스의 인스턴스를 생성할 때 음의 정수가 분모로 사용되면\n",
    "분모와 분자의 기호를 반대로 하여 분모가 항상 양의 정수가 되도록 생성자를 재정의하라."
   ]
  },
  {
   "cell_type": "code",
   "execution_count": null,
   "metadata": {},
   "outputs": [],
   "source": [
    "class Fraction:\n",
    "    \"\"\"Fraction 클래스\"\"\"\n",
    "\n",
    "    def __init__(self, top, bottom):\n",
    "        \"\"\"생성자 메서드\n",
    "        top: 분자\n",
    "        bottom: 분모\n",
    "        \"\"\"\n",
    "        pass\n",
    "    \n",
    "    # 기타 메서드"
   ]
  },
  {
   "cell_type": "markdown",
   "metadata": {},
   "source": [
    "아래 코드를 실행하면 `-1/2`이 출력되어야 한다. "
   ]
  },
  {
   "cell_type": "code",
   "execution_count": null,
   "metadata": {},
   "outputs": [],
   "source": [
    "a = Fraction(3, -6)\n",
    "print(a)"
   ]
  },
  {
   "cell_type": "markdown",
   "metadata": {},
   "source": [
    "아래 코드를 실행하면 `1/2`이 출력되어야 한다. "
   ]
  },
  {
   "cell_type": "code",
   "execution_count": null,
   "metadata": {},
   "outputs": [],
   "source": [
    "a = Fraction(-3, -6)\n",
    "print(a)"
   ]
  },
  {
   "cell_type": "markdown",
   "metadata": {},
   "source": [
    "## 문제 3\n",
    "\n",
    "`Fraction` 클래스가 사칙연산을 지원하도록 아래 연산자를 모두 재정의(overriding) 하라.\n",
    "\n",
    "```python\n",
    "__add__, __sub__, __mul__, __truediv__\n",
    "```"
   ]
  },
  {
   "cell_type": "code",
   "execution_count": null,
   "metadata": {},
   "outputs": [],
   "source": [
    "class Fraction:\n",
    "    \"\"\"Fraction 클래스\"\"\"\n",
    "\n",
    "    def __init__(self, top, bottom):\n",
    "        \"\"\"생성자 메서드\n",
    "        top: 분자\n",
    "        bottom: 분모\n",
    "        \"\"\"\n",
    "        pass\n",
    "    \n",
    "    # 기타 메서드"
   ]
  },
  {
   "cell_type": "code",
   "execution_count": null,
   "metadata": {},
   "outputs": [],
   "source": [
    "b = Fraction(-2, 5)"
   ]
  },
  {
   "cell_type": "code",
   "execution_count": null,
   "metadata": {},
   "outputs": [],
   "source": [
    "a + b"
   ]
  },
  {
   "cell_type": "code",
   "execution_count": null,
   "metadata": {},
   "outputs": [],
   "source": [
    "a - b"
   ]
  },
  {
   "cell_type": "code",
   "execution_count": null,
   "metadata": {},
   "outputs": [],
   "source": [
    "a * b"
   ]
  },
  {
   "cell_type": "code",
   "execution_count": null,
   "metadata": {},
   "outputs": [],
   "source": [
    "a / b"
   ]
  },
  {
   "cell_type": "markdown",
   "metadata": {},
   "source": [
    "## 문제 4\n",
    "\n",
    "`Fraction` 클래스가 등호, 부등호 연산을 지원하도록 아래 연산자를 모두 재정의(overriding) 하라.\n",
    "\n",
    "```python\n",
    "__gt__, __ge__, __lt__, __le__, __ne__\n",
    "```"
   ]
  },
  {
   "cell_type": "code",
   "execution_count": null,
   "metadata": {},
   "outputs": [],
   "source": [
    "class Fraction:\n",
    "    \"\"\"Fraction 클래스\"\"\"\n",
    "\n",
    "    def __init__(self, top, bottom):\n",
    "        \"\"\"생성자 메서드\n",
    "        top: 분자\n",
    "        bottom: 분모\n",
    "        \"\"\"\n",
    "        pass\n",
    "    \n",
    "    # 기타 메서드"
   ]
  },
  {
   "cell_type": "code",
   "execution_count": null,
   "metadata": {},
   "outputs": [],
   "source": [
    "a > b"
   ]
  },
  {
   "cell_type": "code",
   "execution_count": null,
   "metadata": {},
   "outputs": [],
   "source": [
    "a >= b"
   ]
  },
  {
   "cell_type": "code",
   "execution_count": null,
   "metadata": {},
   "outputs": [],
   "source": [
    "a < b"
   ]
  },
  {
   "cell_type": "code",
   "execution_count": null,
   "metadata": {},
   "outputs": [],
   "source": [
    "a <= b"
   ]
  },
  {
   "cell_type": "code",
   "execution_count": null,
   "metadata": {},
   "outputs": [],
   "source": [
    "a != b"
   ]
  },
  {
   "cell_type": "markdown",
   "metadata": {},
   "source": [
    "## 문제 5\n",
    "\n",
    "1차원 넘파이 어레이에 해당하는 자료형을 리스트를 이용하여 직접 구현한다.\n",
    "1차원 어레이에 대한 덧셈 연산이 항목별로 이루어지도록 `__add__()` 메서드를 정의하라."
   ]
  },
  {
   "cell_type": "code",
   "execution_count": null,
   "metadata": {},
   "outputs": [],
   "source": [
    "class OneDArray:\n",
    "    def __init__(self, items):\n",
    "        \"\"\"\n",
    "        items: 1차원 어레이 항목으로 사용될 값들. 리스트, 튜플 등 모음 자료형 사용.\n",
    "        저장: 리스트 활용\n",
    "        \"\"\" \n",
    "        self.items = list(items)\n",
    "        \n",
    "    def __repr__(self):\n",
    "        return f\"myArray({self.items})\"\n",
    "    \n",
    "    def __add__(self, other_array):\n",
    "        \"\"\"항목별 덧셈 연산\"\"\"\n",
    "\n",
    "        # 어레이 길이가 동일하지 않으면 오류 발생시킴\n",
    "        # raise와 RuntimeError 활용\n",
    "        pass\n",
    "    \n",
    "        # 항목별 덧셈 실행\n",
    "        pass"
   ]
  },
  {
   "cell_type": "code",
   "execution_count": null,
   "metadata": {},
   "outputs": [],
   "source": [
    "a = OneDArray([1, 2, 3])\n",
    "b = OneDArray([4, 5, 6])"
   ]
  },
  {
   "cell_type": "markdown",
   "metadata": {},
   "source": [
    "아래 코드를 실행하면 `myArray([5, 7, 9])`를 출력해야 한다."
   ]
  },
  {
   "cell_type": "code",
   "execution_count": null,
   "metadata": {},
   "outputs": [],
   "source": [
    "a + b"
   ]
  },
  {
   "cell_type": "markdown",
   "metadata": {},
   "source": [
    "## 문제 6\n",
    "\n",
    "2차원 넘파이 어레이에 해당하는 자료형을 직접 구현한다."
   ]
  },
  {
   "cell_type": "code",
   "execution_count": null,
   "metadata": {},
   "outputs": [],
   "source": [
    "a"
   ]
  },
  {
   "cell_type": "code",
   "execution_count": null,
   "metadata": {},
   "outputs": [],
   "source": [
    "class TwoDArray:\n",
    "    def __init__(self, items):\n",
    "        \"\"\"\n",
    "        items: 2차원 어레이 항목으로 사용될 값들. 리스트, 튜플 등 모음 자료형 사용.\n",
    "        저장: 리스트 활용\n",
    "        \"\"\" \n",
    "        self.items = []\n",
    "        for x in items:\n",
    "            self.items.append(list(x))\n",
    "        \n",
    "    def __repr__(self):\n",
    "        return f\"myArray({self.items})\"\n",
    "    \n",
    "    def __add__(self, other_array):\n",
    "    \"\"\"항목별 덧셈 연산\"\"\"\n",
    "\n",
    "    # 차원이 다르거나 어레이 길이가 동일하지 않으면 오류 발생시킴\n",
    "    # raise와 RuntimeError 활용\n",
    "    pass\n",
    "\n",
    "    # 항목별 덧셈 실행\n",
    "    pass"
   ]
  },
  {
   "cell_type": "code",
   "execution_count": null,
   "metadata": {},
   "outputs": [],
   "source": [
    "a = TwoDArray([[1,2], [2, 3], [3,4]])\n",
    "b = TwoDArray([[10,20], [20, 30], [30,40]])"
   ]
  },
  {
   "cell_type": "markdown",
   "metadata": {},
   "source": [
    "아래 코드를 실행하면 `myArray([11, 22], [22, 33], [33, 44]])`를 출력해야 한다."
   ]
  },
  {
   "cell_type": "code",
   "execution_count": null,
   "metadata": {},
   "outputs": [],
   "source": [
    "a + b"
   ]
  },
  {
   "cell_type": "markdown",
   "metadata": {},
   "source": [
    "아래 코드를 실행하면 `myArray([10, 40], [40, 90], [90, 160]])`을 출력해야 한다."
   ]
  },
  {
   "cell_type": "code",
   "execution_count": null,
   "metadata": {},
   "outputs": [],
   "source": [
    "a * b"
   ]
  }
 ],
 "metadata": {
  "kernelspec": {
   "display_name": "Python 3",
   "language": "python",
   "name": "python3"
  },
  "language_info": {
   "codemirror_mode": {
    "name": "ipython",
    "version": 3
   },
   "file_extension": ".py",
   "mimetype": "text/x-python",
   "name": "python",
   "nbconvert_exporter": "python",
   "pygments_lexer": "ipython3",
   "version": "3.8.8"
  }
 },
 "nbformat": 4,
 "nbformat_minor": 4
}
