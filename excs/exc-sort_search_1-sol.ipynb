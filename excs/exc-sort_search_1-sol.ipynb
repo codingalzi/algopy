{
 "cells": [
  {
   "cell_type": "markdown",
   "metadata": {},
   "source": [
    "# (실습) 탐색과 분할정복"
   ]
  },
  {
   "cell_type": "markdown",
   "metadata": {},
   "source": [
    "참고: 먼저 [탐색과 분할 정복](https://codingalzi.github.io/algopy/sort_search_1.html)을 학습한다."
   ]
  },
  {
   "cell_type": "markdown",
   "metadata": {},
   "source": [
    "**문제**"
   ]
  },
  {
   "cell_type": "markdown",
   "metadata": {},
   "source": [
    "`sequential_search()` 함수를 for 반복문 대신 while 반복문을 이용하여 구현하라."
   ]
  },
  {
   "cell_type": "markdown",
   "metadata": {},
   "source": [
    "견본 답안:"
   ]
  },
  {
   "cell_type": "code",
   "execution_count": 1,
   "metadata": {},
   "outputs": [],
   "source": [
    "def sequential_search(a_list, item):\n",
    "    pos = 0\n",
    "\n",
    "    while pos < len(a_list):\n",
    "        if a_list[pos] == item:    # 찾은 경우\n",
    "            return True\n",
    "        else:\n",
    "            pos = pos + 1\n",
    "    \n",
    "    # 찾지 못한 경우 False 반환\n",
    "    \n",
    "    return False"
   ]
  },
  {
   "cell_type": "code",
   "execution_count": 2,
   "metadata": {},
   "outputs": [
    {
     "name": "stdout",
     "output_type": "stream",
     "text": [
      "False\n",
      "True\n"
     ]
    }
   ],
   "source": [
    "test_list = [54, 26, 93, 17, 77, 31, 44, 55, 20, 65]\n",
    "\n",
    "print(sequential_search(test_list, 83))\n",
    "print(sequential_search(test_list, 93))"
   ]
  },
  {
   "cell_type": "markdown",
   "metadata": {},
   "source": [
    "**문제**"
   ]
  },
  {
   "cell_type": "markdown",
   "metadata": {},
   "source": [
    "`ordered_sequential_search()` 함수를 for 반복문 대신 while 반복문을 이용하여 구현하라."
   ]
  },
  {
   "cell_type": "markdown",
   "metadata": {},
   "source": [
    "견본 답안:"
   ]
  },
  {
   "cell_type": "code",
   "execution_count": 3,
   "metadata": {},
   "outputs": [],
   "source": [
    "def ordered_sequential_search(a_list, item):\n",
    "    pos = 0\n",
    "    \n",
    "    while pos < len(a_list):\n",
    "        if a_list[pos] == item:\n",
    "            return True\n",
    "        else:\n",
    "            if a_list[pos] > item:   # 항목이 찾는 값보다 큰 경우 바로 종료\n",
    "                return False\n",
    "            else:\n",
    "                pos = pos + 1\n",
    "\n",
    "    return False"
   ]
  },
  {
   "cell_type": "code",
   "execution_count": 4,
   "metadata": {},
   "outputs": [
    {
     "name": "stdout",
     "output_type": "stream",
     "text": [
      "False\n",
      "True\n"
     ]
    }
   ],
   "source": [
    "test_list = [17, 20, 26, 31, 44, 54, 55, 65, 77, 93]\n",
    "print(ordered_sequential_search(test_list, 33))\n",
    "print(ordered_sequential_search(test_list, 54))"
   ]
  },
  {
   "cell_type": "markdown",
   "metadata": {},
   "source": [
    "**문제**"
   ]
  },
  {
   "cell_type": "markdown",
   "metadata": {},
   "source": [
    "매우 긴 정수들의 리스트를 이용하여 순차탐색과 이진탐색의 성능을 비교하는 \n",
    "모의실험을 구현하라.\n",
    "\n",
    "힌트: [시간 복잡도](https://codingalzi.github.io/algopy/time_complexity.html)에서처럼 `time` 모듈의 `time()` 함수를 활용한다."
   ]
  },
  {
   "cell_type": "markdown",
   "metadata": {},
   "source": [
    "**문제**"
   ]
  },
  {
   "cell_type": "markdown",
   "metadata": {},
   "source": [
    "매우 긴 정수들의 리스트를 이용하여\n",
    "반복을 사용하는 이진탐색과 재귀 이진탐색 알고리즘의 성능을 비교하는\n",
    "모의실험을 구현하라.\n",
    "성능차이가 발생한다면 그 이유를 설명하라.반복을 사용하는 이진탐색과 재귀 이진탐색 알고리즘의 성능을 비교하는\n",
    "모의실험을 구현하라.\n",
    "성능차이가 발생한다면 그 이유를 설명하라.\n",
    "\n",
    "힌트: [시간 복잡도](https://codingalzi.github.io/algopy/time_complexity.html)에서처럼 `time` 모듈의 `time()` 함수를 활용한다."
   ]
  },
  {
   "cell_type": "markdown",
   "metadata": {},
   "source": [
    "**문제**"
   ]
  },
  {
   "cell_type": "markdown",
   "metadata": {},
   "source": [
    "매우 긴 정수들의 리스트를 이용하여\n",
    "`binary_search_rec()` 함수와\n",
    "`interval_binary_search_rec()` 함수의\n",
    "성능을 비교하는 모의실험을 구현하라.\n",
    "성능차이가 발생한다면 그 이유를 설명하라.\n",
    "\n",
    "힌트: [시간 복잡도](https://codingalzi.github.io/algopy/time_complexity.html)에서처럼 `time` 모듈의 `time()` 함수를 활용한다."
   ]
  }
 ],
 "metadata": {
  "kernelspec": {
   "display_name": "Python 3 (ipykernel)",
   "language": "python",
   "name": "python3"
  },
  "language_info": {
   "codemirror_mode": {
    "name": "ipython",
    "version": 3
   },
   "file_extension": ".py",
   "mimetype": "text/x-python",
   "name": "python",
   "nbconvert_exporter": "python",
   "pygments_lexer": "ipython3",
   "version": "3.11.5"
  },
  "vscode": {
   "interpreter": {
    "hash": "ad0f3c8a064f687cbf898a0868fd45ba1c7e928ac8a0404f7c241d812ddc1e76"
   }
  }
 },
 "nbformat": 4,
 "nbformat_minor": 2
}
