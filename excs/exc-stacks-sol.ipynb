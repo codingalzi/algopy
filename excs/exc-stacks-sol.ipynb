{
 "cells": [
  {
   "cell_type": "markdown",
   "metadata": {},
   "source": [
    "# (실습) 스택"
   ]
  },
  {
   "cell_type": "markdown",
   "metadata": {},
   "source": [
    "**문제 1**"
   ]
  },
  {
   "cell_type": "markdown",
   "metadata": {},
   "source": [
    "아래 `Stack` 클래스와 `queue.LifoQueue` 클래스로 구현된 스택의 \n",
    "성능을 비교하고자 한다."
   ]
  },
  {
   "cell_type": "code",
   "execution_count": 1,
   "metadata": {},
   "outputs": [],
   "source": [
    "class Stack:\n",
    "    \"\"\"리스트를 활용한 스택 구현\"\"\"\n",
    "\n",
    "    def __init__(self, maxsize=0):\n",
    "        \"\"\"새로운 스택 생성\"\"\"\n",
    "        self.maxsize = maxsize\n",
    "        self._items = []\n",
    "\n",
    "    def __repr__(self):\n",
    "        \"\"\"스택 표기법: <[1, 2, 3]> 등등\"\"\"\n",
    "        return f\"<{self._items}>\"\n",
    "        \n",
    "    def empty(self):\n",
    "        \"\"\"비었는지 여부 확인\"\"\"\n",
    "        return not bool(self._items)\n",
    "\n",
    "    def full(self):\n",
    "        \"\"\"maxsize 충족 여부 확인\"\"\"\n",
    "        if self.maxsize <= 0:\n",
    "            return False\n",
    "        elif self.qsize() == self.maxsize:\n",
    "            return True\n",
    "        else:\n",
    "            return False\n",
    "\n",
    "    def put(self, item):\n",
    "        \"\"\"새 항목 추가\"\"\"\n",
    "        if self.full() == True:\n",
    "            self.get()\n",
    "            \n",
    "        self._items.append(item)\n",
    "\n",
    "    def get(self):\n",
    "        \"\"\"항목 제거\"\"\"\n",
    "        return self._items.pop()\n",
    "\n",
    "    def peek(self):\n",
    "        \"\"\"비어 있지 않은 경우 탑 항목 반환\"\"\"\n",
    "        if not self.empty():\n",
    "            return self._items[-1]\n",
    "        else:\n",
    "            print(\"스택이 비어 있어요!\")\n",
    "\n",
    "    def qsize(self):\n",
    "        \"\"\"항목 개수 반환\"\"\"\n",
    "        return len(self._items)"
   ]
  },
  {
   "cell_type": "markdown",
   "metadata": {},
   "source": [
    "자신의 컴퓨터로 아래 두 코드가 각각 3분 이내로 실행되도록 하는 `num1`과 `num2`의 최댓값을 확인하여 어떤 차이가 왜 발생하는가를 설명하라."
   ]
  },
  {
   "cell_type": "code",
   "execution_count": null,
   "metadata": {},
   "outputs": [],
   "source": [
    "import time\n",
    "\n",
    "num1 = 100000\n",
    "\n",
    "s1 = Stack()\n",
    "\n",
    "start = time.time()\n",
    "\n",
    "for item in range(num1):\n",
    "    s1.put(item)\n",
    "\n",
    "end = time.time()\n",
    "\n",
    "print(f\"{num1}개 항목 추가에 걸리는 시간: {end - start}\")"
   ]
  },
  {
   "cell_type": "code",
   "execution_count": null,
   "metadata": {},
   "outputs": [],
   "source": [
    "import time\n",
    "from queue import LifoQueue\n",
    "\n",
    "num1 = 100000\n",
    "\n",
    "s1 = LifoQueue()\n",
    "\n",
    "start = time.time()\n",
    "\n",
    "for item in range(num1):\n",
    "    s1.put(item)\n",
    "\n",
    "end = time.time()\n",
    "\n",
    "print(f\"{num1}개 항목 추가에 걸리는 시간: {end - start}\")"
   ]
  },
  {
   "cell_type": "markdown",
   "metadata": {},
   "source": [
    "**문제 2**"
   ]
  },
  {
   "cell_type": "markdown",
   "metadata": {},
   "source": [
    "주어진 문자열에 포함된 문자를 거꾸로 갖는 문자열을 생성하는 함수 `rev_string(my_str)`를\n",
    "스택을 이용하여 구현하라.\n",
    "\n",
    "**힌트**: [스택 설명 동영상](https://www.youtube.com/watch?v=fZtLSM7k_54&ab_channel=RunestoneInteractive) 참고"
   ]
  },
  {
   "cell_type": "code",
   "execution_count": null,
   "metadata": {},
   "outputs": [],
   "source": [
    "# pass 명령문을 적절한 코드로 대체하라.\n",
    "\n",
    "def rev_string(my_str):\n",
    "    pass"
   ]
  },
  {
   "cell_type": "markdown",
   "metadata": {},
   "source": [
    "아래 코드의 주석을 해제한 후에 오류가 발생하지 않아야 한다."
   ]
  },
  {
   "cell_type": "code",
   "execution_count": null,
   "metadata": {},
   "outputs": [],
   "source": [
    "# assert rev_string('honey') == 'yenoh'\n",
    "# assert rev_string('hello world3') == '3dlrow olleh'"
   ]
  },
  {
   "cell_type": "markdown",
   "metadata": {},
   "source": [
    "**문제 3**"
   ]
  },
  {
   "cell_type": "markdown",
   "metadata": {},
   "source": [
    "HTML 문서에 사용되는 태그(tag)는 아래 예제에서처럼 여는 형식과 닫는 형식의 짝이 맞아야 한다. \n",
    "\n",
    "```html\n",
    "<html>\n",
    "  <head>\n",
    "     <title>\n",
    "        문제해결 알고리즘\n",
    "     </title>\n",
    "  </head>\n",
    "\n",
    "  <body>\n",
    "     <h1>스택 자료형</h1>\n",
    "  </body>\n",
    "</html>\n",
    "```\n",
    "\n",
    "HTML 문서를 대상으로 태그 짝맞추기 여부를 판별하는 함수를 구현하라."
   ]
  },
  {
   "cell_type": "code",
   "execution_count": null,
   "metadata": {},
   "outputs": [],
   "source": [
    "# pass 명령문을 적절한 코드로 대체하라.\n",
    "\n",
    "def tag_pairing(html_string):\n",
    "    pass"
   ]
  },
  {
   "cell_type": "code",
   "execution_count": null,
   "metadata": {},
   "outputs": [],
   "source": [
    "html_exp = \\\n",
    "\"\"\"<html>\n",
    "  <head>\n",
    "     <title>\n",
    "        문제해결 알고리즘\n",
    "     </title>\n",
    "  </head>\n",
    "\n",
    "  <body>\n",
    "     <h1>스택 자료형</h1>\n",
    "  </body>\n",
    "</html>\"\"\""
   ]
  },
  {
   "cell_type": "markdown",
   "metadata": {},
   "source": [
    "아래 코드의 주석을 해제한 후에 오류가 발생하지 않아야 한다."
   ]
  },
  {
   "cell_type": "code",
   "execution_count": null,
   "metadata": {},
   "outputs": [],
   "source": [
    "# assert tag_pairing(html_exp) == True"
   ]
  },
  {
   "cell_type": "markdown",
   "metadata": {},
   "source": [
    "**문제 4**"
   ]
  },
  {
   "cell_type": "markdown",
   "metadata": {},
   "source": [
    "타인의 비밀번호를 훔치기 위해 키보드의 모든 입력값을 기록하는 키로거(keylogger)를 구현하려 한다.\n",
    "키보드로 입력할 수 있는 키는 영어 알파벳 대문자, 소문자, 숫자, 백스페이스, 화살표로 제한된다.\n",
    "백스페이스와 화살표가 키로거에 기록되는 기호는 다음과 같다.\n",
    "\n",
    "| 키(key) | 키로거 기호 | 의미 |\n",
    "| :---: | :---: | :---: |\n",
    "| 백스페이스 | `-` | 마지막 입력 키 삭제 |\n",
    "| 왼쪽 화살표 | `<` | 커서 왼쪽으로 한 칸 이동 |\n",
    "| 오른쪽 화살표 | `>` | 커서 오른쪽으로 한 칸 이동 |"
   ]
  },
  {
   "cell_type": "markdown",
   "metadata": {},
   "source": [
    "예를 들어 키로거에 저장된 문자열과 실제 비밀번호는 다음과 같다.\n",
    "\n",
    "| 키로거 문자열 | 비밀번호 |\n",
    "| :---: | :---: |\n",
    "| `<<<BC<A>KS-` | `BACK`|\n",
    "| `psw<<a>>>-sword` | `password` |\n",
    "| `python3` | `python3` |"
   ]
  },
  {
   "cell_type": "markdown",
   "metadata": {},
   "source": [
    "주어진 키로거 문자열에서 실제 비밀번호를 찾아 반환하는 함수 `decode_keys()` 함수를 구현하라."
   ]
  },
  {
   "cell_type": "code",
   "execution_count": null,
   "metadata": {},
   "outputs": [],
   "source": [
    "# pass 명령문을 적절한 코드로 구현하라.\n",
    "\n",
    "def decode_keys(keylogger):\n",
    "    pass"
   ]
  },
  {
   "cell_type": "markdown",
   "metadata": {},
   "source": [
    "아래 코드의 주석을 해제하고 실행했을 때 오류가 발생하지 않아야 한다."
   ]
  },
  {
   "cell_type": "code",
   "execution_count": null,
   "metadata": {},
   "outputs": [],
   "source": [
    "# assert decode_keys('<<<BC<A>KS-') == 'BACK'\n",
    "# assert decode_keys('psw<<a>>>-sword') == 'password'\n",
    "# assert decode_keys('python3') == 'python3'"
   ]
  },
  {
   "cell_type": "markdown",
   "metadata": {},
   "source": [
    "## 진법 변환 "
   ]
  },
  {
   "cell_type": "markdown",
   "metadata": {},
   "source": [
    "십진법 정수 233을 이진법으로 표기하면 $11101001_{2}$이 된다.\n",
    "실제로 두 수가 가리키는 수는 다음과 같이 동일하다."
   ]
  },
  {
   "cell_type": "markdown",
   "metadata": {},
   "source": [
    "$$\n",
    "\\begin{align*}\n",
    "11101001_{2} &= 1\\times2^{7} + 1\\times2^{6} + 1\\times2^{5} + 0\\times2^{4} + 1\\times2^{3} + 0\\times2^{2} + 0\\times2^{1} + 1\\times2^{0} \\\\\n",
    "&= 233\n",
    "\\end{align*}\n",
    "$$"
   ]
  },
  {
   "cell_type": "markdown",
   "metadata": {},
   "source": [
    "십진법으로 표기된 정수의 이진법 표기를 찾는 알고리즘은 아래 그림과 같다. \n",
    "\n",
    "- 2로 나눈 후 나머지를 스택에 추가\n",
    "- 2로 나눈 몫을 대상으로 위 과정 반복\n",
    "- 스택에 쌓인 값들을 거꾸로 읽기. 즉, `get()` 메서드 반복 활용"
   ]
  },
  {
   "cell_type": "markdown",
   "metadata": {},
   "source": [
    "<figure>\n",
    "<div align=\"center\"><img src=\"https://runestone.academy/runestone/books/published/pythonds3/_images/dectobin.png\" width=\"80%\"></div>\n",
    "</figure>"
   ]
  },
  {
   "cell_type": "code",
   "execution_count": 46,
   "metadata": {},
   "outputs": [],
   "source": [
    "def divide_by_2(decimal_num):\n",
    "    remainder_stack = Stack()\n",
    "\n",
    "    while decimal_num > 0:\n",
    "        rem = decimal_num % 2\n",
    "        remainder_stack.put(rem)\n",
    "        decimal_num = decimal_num // 2\n",
    "\n",
    "    bin_string = \"0b\"\n",
    "    while not remainder_stack.empty():\n",
    "        bin_string = bin_string + str(remainder_stack.get())\n",
    "\n",
    "    return bin_string"
   ]
  },
  {
   "cell_type": "code",
   "execution_count": 47,
   "metadata": {},
   "outputs": [
    {
     "name": "stdout",
     "output_type": "stream",
     "text": [
      "0b11101001\n",
      "0b101010\n",
      "0b11111\n"
     ]
    }
   ],
   "source": [
    "print(divide_by_2(233))\n",
    "print(divide_by_2(42))\n",
    "print(divide_by_2(31))"
   ]
  },
  {
   "cell_type": "markdown",
   "metadata": {},
   "source": [
    "참고로 파이썬의 `bin()` 함수가 이진법으로 변환해준다.\n",
    "이진수는 `0b`로 시작한다."
   ]
  },
  {
   "cell_type": "code",
   "execution_count": 48,
   "metadata": {},
   "outputs": [
    {
     "name": "stdout",
     "output_type": "stream",
     "text": [
      "0b11101001\n",
      "0b101010\n",
      "0b11111\n"
     ]
    }
   ],
   "source": [
    "print(bin(233))\n",
    "print(bin(42))\n",
    "print(bin(31))"
   ]
  },
  {
   "cell_type": "markdown",
   "metadata": {},
   "source": [
    "십진법으로의 변환은 자동 실행된다."
   ]
  },
  {
   "cell_type": "code",
   "execution_count": 20,
   "metadata": {},
   "outputs": [
    {
     "name": "stdout",
     "output_type": "stream",
     "text": [
      "233\n",
      "42\n",
      "31\n"
     ]
    }
   ],
   "source": [
    "print(0b11101001)\n",
    "print(0b101010)\n",
    "print(0b11111)"
   ]
  },
  {
   "cell_type": "markdown",
   "metadata": {},
   "source": [
    "**문제 5**"
   ]
  },
  {
   "cell_type": "markdown",
   "metadata": {},
   "source": [
    "십진법으로 표기된 정수를 이진법 뿐만 아니라 8진법, 16진법 등으로 자유자재로 \n",
    "변환시키는 함수를 구현해보자.\n",
    "예를 들어 정수 233을 8진법으로는 `351` 또는 16진법으로는 `E9`이며,\n",
    "이유는 다음과 같다.\n",
    "\n",
    "$$\n",
    "\\begin{align*}\n",
    "233 &= 3\\times8^{2} + 5\\times8^{1} + 1\\times8^{0} \\\\\n",
    "&= 14\\times16^{1} + 9\\times16^{0}\n",
    "\\end{align*}\n",
    "$$\n",
    "\n",
    "단, 16진법에서 알파벳 E는 14에 해당한다."
   ]
  },
  {
   "cell_type": "markdown",
   "metadata": {},
   "source": [
    "다음 `base_converter()` 함수가 변환되어야 하는 십진수 정수 뿐만 아니라 \n",
    "변환에 사용될 진법을\n",
    "결정하는 밑<font size='2'>base</font>도 함께  인자로 받아서\n",
    "지정된 진법으로 정수를 변환하는 함수를 완성하라.\n",
    "단, 반환값은 지정된 진법의 숫자를 가리키는 문자열이어야 한다.\n",
    "\n",
    "밑은 2에서 16 사이의 정수가 사용될 수 있지만 일반적으로 2, 8, 10, 16 중에 하나가 사용된다.\n",
    "알고리즘은 `divide_by_2()` 함수와 거의 동일하다.\n",
    "다만, 10진법부터 16진법까지는 0부터 9까지의 숫자 이외의 숫자를 \n",
    "나타내는 기호를 추가해야 한다.\n",
    "일반적으로 a, b, c, d, e, f를 각각 10에서 15를 나타내는 기호로 사용한다. \n",
    "\n",
    "- `digits`: 0부터 15까지의 정수를 가리키는 기호들로 구성된 문자열"
   ]
  },
  {
   "cell_type": "code",
   "execution_count": 56,
   "metadata": {},
   "outputs": [],
   "source": [
    "def base_converter(decimal_num, base):\n",
    "    \n",
    "    digits = \"0123456789abcdef\"\n",
    "    \n",
    "    remainder_stack = Stack()\n",
    "\n",
    "    # 지정된 밑으로 나누고 나머지는 스택에 저장하는 과정 반복\n",
    "    while decimal_num > 0:\n",
    "        remainder = decimal_num % base\n",
    "        remainder_stack.put(remainder)\n",
    "        decimal_num = decimal_num // base\n",
    "\n",
    "    # 스택 항목을 이용하여 변환된 진법 표현식 구성\n",
    "    # digits의 인덱스 활용\n",
    "    \n",
    "    if base == 2:           # 2진법: 0b로 시작\n",
    "        new_string = \"0b\"\n",
    "    elif base == 8:         # 8진법: 0o로 시작\n",
    "        new_string = \"0o\" \n",
    "    else:                   #16진법: 0x로 시작\n",
    "        new_string = \"0x\"\n",
    "        \n",
    "    while not remainder_stack.empty():\n",
    "        new_string = new_string + digits[remainder_stack.get()]\n",
    "\n",
    "    return new_string"
   ]
  },
  {
   "cell_type": "markdown",
   "metadata": {},
   "source": [
    "아래 코드의 주석을 해제한 후에 실행했을 때 오류가 발생하지 않아야 한다.\n",
    "참고로 파이썬의 `oct()` 함수와 `hex()` 함수가 각각 8진법과 16진법으로 변환해준다."
   ]
  },
  {
   "cell_type": "code",
   "execution_count": 57,
   "metadata": {},
   "outputs": [],
   "source": [
    "assert base_converter(25, 2) == str(bin(25))\n",
    "assert base_converter(623, 8) == str(oct(623))\n",
    "assert base_converter(828375, 16) == str(hex(828375))"
   ]
  },
  {
   "cell_type": "markdown",
   "metadata": {},
   "source": [
    "**문제 6**"
   ]
  },
  {
   "cell_type": "markdown",
   "metadata": {},
   "source": [
    "인터넷브라우저 뒤로가기 버튼 기능을 스택으로 구현하기 (아래 코드 참고)"
   ]
  },
  {
   "cell_type": "code",
   "execution_count": 5,
   "metadata": {},
   "outputs": [
    {
     "name": "stdout",
     "output_type": "stream",
     "text": [
      "Current URL is: ajay.com\n",
      "Current URL is: abc.com\n",
      "Not Available\n",
      "Current URL after pressing Backward button is: abc.com\n",
      "Not Available\n",
      "Current URL after pressing Forward button is: abc.com\n",
      "Current URL is: nikhil.com\n",
      "Not Available\n",
      "Current URL after pressing Forward button is: nikhil.com\n",
      "Not Available\n",
      "Current URL after pressing Backward button is: nikhil.com\n"
     ]
    }
   ],
   "source": [
    "# Python3 program for the above approach\n",
    "\n",
    "# Stores the current\n",
    "# visiting page\n",
    "current_state_url = \"\"\n",
    "\n",
    "# Stores url when pressed forward\n",
    "forward_stack = []\n",
    "\n",
    "# Stores url when pressed backward\n",
    "backward_stack = []\n",
    "\n",
    "# Function for when visit a url\n",
    "def visit_new_url(url):\n",
    "    global current_state_url\n",
    "\n",
    "    # If current URL is empty\n",
    "    if (current_state_url != \"\"):\n",
    "        # Push into backward_stack\n",
    "        backward_stack.append(current_state_url)\n",
    "\n",
    "    # Set curr_state_url to url\n",
    "    current_state_url = url\n",
    "\n",
    "# Function to handle state\n",
    "# when the forward button\n",
    "# is pressed\n",
    "def forward():\n",
    "    # If current url is the last url\n",
    "    if (len(forward_stack) == 0 or current_state_url == forward_stack[-1]):\n",
    "        print(\"Not Available\")\n",
    "        return\n",
    "\n",
    "    # Otherwise\n",
    "    else:\n",
    "        # Push current state to the\n",
    "        # backward stack\n",
    "        backward_stack.append(current_state_url)\n",
    "\n",
    "        # Set current state to top\n",
    "        # of forward stack\n",
    "        current_state_url = forward_stack[-1]\n",
    "\n",
    "        # Remove from forward\n",
    "        # stack\n",
    "        forward_stack.pop()\n",
    "\n",
    "# Function to handle state\n",
    "# when the backward button\n",
    "# is pressed\n",
    "def backward():\n",
    "    # If current url is the\n",
    "    # last url\n",
    "    if (len(backward_stack) != 0 or current_state_url == backward_stack[-1]):\n",
    "        print(\"Not Available\")\n",
    "        return\n",
    "\n",
    "    # Otherwise\n",
    "    else:\n",
    "        # Push current url to the\n",
    "        # forward stack\n",
    "        forward_stack.append(current_state_url)\n",
    "\n",
    "        # Set current url to top\n",
    "        # of backward stack\n",
    "        current_state_url = backward_stack[-1]\n",
    "\n",
    "        # Pop it from backward\n",
    "        # stack\n",
    "        backward_stack[-1]\n",
    "\n",
    "# Function that performs the\n",
    "# process of pressing forward\n",
    "# and backward button in a\n",
    "# Browser\n",
    "def simulatorFunction():\n",
    "    # Current URL\n",
    "    url = \"ajay.com\"\n",
    "\n",
    "    # Visit the current URL\n",
    "    visit_new_url(url)\n",
    "\n",
    "    # Print the current URL\n",
    "    print(\"Current URL is: \" + current_state_url)\n",
    "\n",
    "    # New current URL\n",
    "    url = \"abc.com\"\n",
    "\n",
    "    # Visit the current URL\n",
    "    visit_new_url(url)\n",
    "\n",
    "    # Print the current URL\n",
    "    print(\"Current URL is: \" + current_state_url)\n",
    "\n",
    "    # Pressed backward button\n",
    "    backward()\n",
    "\n",
    "    # Print the current URL\n",
    "    print(\"Current URL after pressing\" + \" Backward button is: \" + current_state_url)\n",
    "\n",
    "    # Pressed forward button\n",
    "    forward()\n",
    "\n",
    "    # Print the current URL\n",
    "    print(\"Current URL after pressing\" + \" Forward button is: \" + current_state_url)\n",
    "\n",
    "    # New current URL\n",
    "    url = \"nikhil.com\"\n",
    "\n",
    "    # Visit the current URL\n",
    "    visit_new_url(url)\n",
    "\n",
    "    # Print the current URL\n",
    "    print(\"Current URL is: \" + current_state_url)\n",
    "\n",
    "    # Pressed forward button\n",
    "    forward()\n",
    "\n",
    "    # Print the current URL\n",
    "    print(\"Current URL after pressing\" + \" Forward button is: \" + current_state_url)\n",
    "    # Pressed backward button\n",
    "    backward()\n",
    "\n",
    "    # Print the current URL\n",
    "    print(\"Current URL after pressing\" + \" Backward button is: \" + current_state_url)\n",
    "\n",
    "# Function to simulate process of\n",
    "# pressing forward & backward button\n",
    "simulatorFunction()\n",
    "\n",
    "# This code is contributed by suresh07.\n"
   ]
  }
 ],
 "metadata": {
  "kernelspec": {
   "display_name": "Python 3 (ipykernel)",
   "language": "python",
   "name": "python3"
  },
  "language_info": {
   "codemirror_mode": {
    "name": "ipython",
    "version": 3
   },
   "file_extension": ".py",
   "mimetype": "text/x-python",
   "name": "python",
   "nbconvert_exporter": "python",
   "pygments_lexer": "ipython3",
   "version": "3.11.4"
  },
  "vscode": {
   "interpreter": {
    "hash": "ad0f3c8a064f687cbf898a0868fd45ba1c7e928ac8a0404f7c241d812ddc1e76"
   }
  }
 },
 "nbformat": 4,
 "nbformat_minor": 4
}
