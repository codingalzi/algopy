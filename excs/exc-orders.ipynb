{
 "cells": [
  {
   "cell_type": "markdown",
   "id": "f0d7a1e2",
   "metadata": {},
   "source": [
    "# (실습) 차수"
   ]
  },
  {
   "cell_type": "markdown",
   "id": "be4fdfbd",
   "metadata": {},
   "source": [
    "**문제 1**"
   ]
  },
  {
   "cell_type": "markdown",
   "id": "772a9059",
   "metadata": {},
   "source": [
    "다음이 성립하는 이유를 설명하라."
   ]
  },
  {
   "cell_type": "markdown",
   "id": "c4d16cc2",
   "metadata": {},
   "source": [
    "$$\\log_4 n \\in \\Theta(\\log n)$$"
   ]
  },
  {
   "cell_type": "markdown",
   "id": "23f00726",
   "metadata": {},
   "source": [
    "**문제 2**"
   ]
  },
  {
   "cell_type": "markdown",
   "id": "5cd2c851",
   "metadata": {},
   "source": [
    "다음이 성립하는 이유를 설명하라."
   ]
  },
  {
   "cell_type": "markdown",
   "id": "d6a56329",
   "metadata": {},
   "source": [
    "$$7 n^2 \\in \\Theta(n^2)$$"
   ]
  },
  {
   "cell_type": "markdown",
   "id": "fea5cca3",
   "metadata": {},
   "source": [
    "**문제 3**"
   ]
  },
  {
   "cell_type": "markdown",
   "id": "2329d2ad",
   "metadata": {},
   "source": [
    "다음이 성립하는 이유를 설명하라."
   ]
  },
  {
   "cell_type": "markdown",
   "id": "15576b60",
   "metadata": {},
   "source": [
    "$$10\\, n\\, \\log n + 7 n^2 \\in \\Theta(n^2)$$"
   ]
  },
  {
   "cell_type": "markdown",
   "id": "cc3c3006",
   "metadata": {},
   "source": [
    "**문제 4**"
   ]
  },
  {
   "cell_type": "markdown",
   "id": "b9da3e03",
   "metadata": {},
   "source": [
    "다음이 성립하는 이유를 설명하라."
   ]
  },
  {
   "cell_type": "markdown",
   "id": "0c4b15c9",
   "metadata": {},
   "source": [
    "$$3\\, \\log n + 10 n\\, \\log n + 7 n^2 \\in \\Theta(n^2)$$"
   ]
  },
  {
   "cell_type": "markdown",
   "id": "292b4ad6",
   "metadata": {},
   "source": [
    "**문제 5**"
   ]
  },
  {
   "cell_type": "markdown",
   "id": "3d9cc0e7",
   "metadata": {},
   "source": [
    "다음이 성립하는 이유를 설명하라."
   ]
  },
  {
   "cell_type": "markdown",
   "id": "81c7f14d",
   "metadata": {},
   "source": [
    "$$5n + 3\\, \\log n + 10 n\\, \\log n + 7 n^2 \\in \\Theta(n^2)$$"
   ]
  }
 ],
 "metadata": {
  "kernelspec": {
   "display_name": "Python 3 (ipykernel)",
   "language": "python",
   "name": "python3"
  },
  "language_info": {
   "codemirror_mode": {
    "name": "ipython",
    "version": 3
   },
   "file_extension": ".py",
   "mimetype": "text/x-python",
   "name": "python",
   "nbconvert_exporter": "python",
   "pygments_lexer": "ipython3",
   "version": "3.11.4"
  }
 },
 "nbformat": 4,
 "nbformat_minor": 5
}
