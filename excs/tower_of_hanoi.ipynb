{
 "cells": [
  {
   "cell_type": "markdown",
   "metadata": {},
   "source": [
    "# 하노이의 탑 재귀 알고리즘 구현 연습문제 "
   ]
  },
  {
   "cell_type": "markdown",
   "metadata": {},
   "source": [
    "## 문제 1"
   ]
  },
  {
   "cell_type": "markdown",
   "metadata": {},
   "source": [
    "[하노이의 탑](https://codingalzi.github.io/algopy/notebooks/algopy05_Recursion_2.html)을 \n",
    "해결하는 알고리즘을 세 개의 스택(stack)을 이용하여 시각화하라. \n",
    "\n",
    "- turtle 모듈 활용. turtle 모듈을 이용하는 방식은 \n",
    "    [trinket: 미로 탐색](https://trinket.io/turtle/1579371d4a)를 참고할 수 있다.\n",
    "- 힌트: 3 개의 거북이를 원, 사각형 모양 등으로 활용할 수 있다.\n",
    "- [trinket](https://trinket.io/) 사이트 활용 후 공유 링크 제출할 것"
   ]
  }
 ],
 "metadata": {
  "kernelspec": {
   "display_name": "Python 3",
   "language": "python",
   "name": "python3"
  },
  "language_info": {
   "codemirror_mode": {
    "name": "ipython",
    "version": 3
   },
   "file_extension": ".py",
   "mimetype": "text/x-python",
   "name": "python",
   "nbconvert_exporter": "python",
   "pygments_lexer": "ipython3",
   "version": "3.8.8"
  }
 },
 "nbformat": 4,
 "nbformat_minor": 4
}
