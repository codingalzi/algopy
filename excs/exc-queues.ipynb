{
 "cells": [
  {
   "cell_type": "markdown",
   "metadata": {},
   "source": [
    "# (실습) 큐"
   ]
  },
  {
   "cell_type": "markdown",
   "metadata": {},
   "source": [
    "## 큐 관련"
   ]
  },
  {
   "cell_type": "markdown",
   "metadata": {},
   "source": [
    "**문제 1**"
   ]
  },
  {
   "cell_type": "markdown",
   "metadata": {},
   "source": [
    "`Queue` 클래스를 구현할 때 큐의 꼬리를 리스트의 마지막 항목으로 상용하도록 하라."
   ]
  },
  {
   "cell_type": "markdown",
   "metadata": {},
   "source": [
    "**문제 2**"
   ]
  },
  {
   "cell_type": "markdown",
   "metadata": {},
   "source": [
    "서로 다르게 구현된 두 `Queue`의 성능을 비교 분석할 수 있는 실험장치를 고안하라."
   ]
  },
  {
   "cell_type": "markdown",
   "metadata": {},
   "source": [
    "## 폭탄 돌리기 관련"
   ]
  },
  {
   "cell_type": "markdown",
   "metadata": {},
   "source": [
    "**문제 1**"
   ]
  },
  {
   "cell_type": "markdown",
   "metadata": {},
   "source": [
    "'폭탄 돌리기' 게임에서 폭탄을 돌리는 횟수를 무작위적으로 변경할 수 있도록 \n",
    "코드를 수정하라.\n"
   ]
  },
  {
   "cell_type": "markdown",
   "metadata": {},
   "source": [
    "## 프린터 관련"
   ]
  },
  {
   "cell_type": "markdown",
   "metadata": {},
   "source": [
    "**문제 1**"
   ]
  },
  {
   "cell_type": "markdown",
   "metadata": {},
   "source": [
    "프린터 사용자가 늘어나서 시간당 20건 이상의 출력과제가 생성되거나 출력 페이지 수가 평균적으로 이전보다 줄어들었을 경우 등을 대비하여 \"시간당 출력과제 생성 수\"와 \"출력 페이지 수\" 관련 설정을 매개변수로 받아 사용자의 평균 대기시간을 계산하는 함수를 구현하라."
   ]
  },
  {
   "cell_type": "markdown",
   "metadata": {},
   "source": [
    "## 모의 실험"
   ]
  },
  {
   "cell_type": "markdown",
   "metadata": {},
   "source": [
    "**문제 1**"
   ]
  },
  {
   "cell_type": "markdown",
   "metadata": {},
   "source": [
    "큐가 활용될 수 있는 실제 상황을 모의실험하라. \n",
    "예를 들어, 다음 경우를 살펴볼 수 있다.\n",
    "\n",
    "- 세차장\n",
    "- 마트 계산대\n",
    "- 비행기 활주로\n",
    "- 은행 창구\n",
    "\n",
    "실제 상황에서 벌어질 수 있는 일들을 묘사하고 묘사한 대로 구현해야 한다."
   ]
  },
  {
   "cell_type": "markdown",
   "metadata": {},
   "source": [
    "## 기수 정렬(radix sorting) 관련"
   ]
  },
  {
   "cell_type": "markdown",
   "metadata": {},
   "source": [
    "**문제 1**"
   ]
  },
  {
   "cell_type": "markdown",
   "metadata": {},
   "source": [
    "기수 정렬(radix sorting)를 실행하는 함수 `radix_sort()`를 구현하라.\n",
    "기수 정렬의 정의는 [정렬 알고리즘 - 기수정렬](https://lktprogrammer.tistory.com/48)을 \n",
    "참조한다."
   ]
  },
  {
   "cell_type": "code",
   "execution_count": null,
   "metadata": {},
   "outputs": [],
   "source": [
    "def radix_sort(number_list):\n",
    "    pass"
   ]
  },
  {
   "cell_type": "code",
   "execution_count": null,
   "metadata": {},
   "outputs": [],
   "source": [
    "num_list = [349, 12, 252, 8]"
   ]
  },
  {
   "cell_type": "markdown",
   "metadata": {},
   "source": [
    "아래 코드의 주석을 제거하고 실행했을 때 오류가 발생하지 않아야 한다."
   ]
  },
  {
   "cell_type": "code",
   "execution_count": null,
   "metadata": {},
   "outputs": [],
   "source": [
    "# assert radix_sort(num_list) == [8, 12, 252, 349]"
   ]
  }
 ],
 "metadata": {
  "kernelspec": {
   "display_name": "Python 3.9.12 ('base')",
   "language": "python",
   "name": "python3"
  },
  "language_info": {
   "codemirror_mode": {
    "name": "ipython",
    "version": 3
   },
   "file_extension": ".py",
   "mimetype": "text/x-python",
   "name": "python",
   "nbconvert_exporter": "python",
   "pygments_lexer": "ipython3",
   "version": "3.9.12"
  },
  "vscode": {
   "interpreter": {
    "hash": "ad0f3c8a064f687cbf898a0868fd45ba1c7e928ac8a0404f7c241d812ddc1e76"
   }
  }
 },
 "nbformat": 4,
 "nbformat_minor": 4
}
