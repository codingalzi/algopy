{
 "cells": [
  {
   "cell_type": "markdown",
   "metadata": {},
   "source": [
    "# (실습) 큐"
   ]
  },
  {
   "cell_type": "markdown",
   "metadata": {},
   "source": [
    "**문제 1**"
   ]
  },
  {
   "cell_type": "markdown",
   "metadata": {},
   "source": [
    "아래 코드 `myQueue` 클래스는 덱<font size='2'>deque</font>를 저장 장치로 이용하며\n",
    "큐 자료구조를 구현한다.\n",
    "`myQueue` 클래스를 `collections.deque` 클래스를 상속하는 방식으로 구현하라."
   ]
  },
  {
   "cell_type": "code",
   "execution_count": 50,
   "metadata": {},
   "outputs": [],
   "source": [
    "from collections import deque\n",
    "\n",
    "class myQueue:\n",
    "    def __init__(self, maxsize=0):\n",
    "        \"\"\"\n",
    "        - 새로운 큐 생성\n",
    "        - _maxsize: 최대 항목 수. 0은 무한대 의미.\n",
    "        - _container: 항목 저장 장치. collections 모듈의 queue 활용.\n",
    "        \"\"\"\n",
    "        self._maxsize = maxsize\n",
    "        self._container = deque([])\n",
    "    \n",
    "    def __repr__(self):\n",
    "        \"\"\"큐 표기법: queue([1, 2, 3]) 등등\"\"\"\n",
    "        return repr(self._container)\n",
    "    \n",
    "    def qsize(self):\n",
    "        \"\"\"항목 수 반환\"\"\"\n",
    "        return len(self._container)\n",
    "    \n",
    "    def empty(self):\n",
    "        \"\"\"비었는지 여부 확인\"\"\"\n",
    "        return not self._container\n",
    "\n",
    "    def full(self):\n",
    "        \"\"\"_maxsize 충족 여부 확인\"\"\"\n",
    "\n",
    "        if self._maxsize <= 0:\n",
    "            return False\n",
    "        elif self.qsize() < self._maxsize:\n",
    "            return False\n",
    "        else:\n",
    "            return True            \n",
    "\n",
    "    def put(self, item):\n",
    "        \"\"\"\n",
    "        _maxsize를 못 채웠을 경우에만 항목 추가\n",
    "        \"\"\"\n",
    "        if not self.full():\n",
    "            self._container.appendleft(item)\n",
    "        else:\n",
    "            print(\"추가되지 않아요!\")\n",
    "\n",
    "    def get(self):\n",
    "        \"\"\"머리 항목 삭제 후 반환\"\"\"\n",
    "        return self._container.pop()"
   ]
  },
  {
   "cell_type": "markdown",
   "metadata": {},
   "source": [
    "**모범답안**"
   ]
  },
  {
   "cell_type": "code",
   "execution_count": 49,
   "metadata": {},
   "outputs": [],
   "source": [
    "from collections import deque\n",
    "\n",
    "class myQueue(deque):\n",
    "    def __init__(self, maxsize=0):\n",
    "        \"\"\"\n",
    "        - _maxsize: 최대 항목 수. 0은 무한대 의미.\n",
    "        \"\"\"\n",
    "        self._maxsize = maxsize\n",
    "        super().__init__([])\n",
    "\n",
    "    def qsize(self):\n",
    "        \"\"\"항목 수 반환\"\"\"\n",
    "        return len(self)\n",
    "    \n",
    "    def empty(self):\n",
    "        \"\"\"비었는지 여부 확인\"\"\"\n",
    "        return not self\n",
    "\n",
    "    def full(self):\n",
    "        \"\"\"_maxsize 충족 여부 확인\"\"\"\n",
    "\n",
    "        if self._maxsize <= 0:\n",
    "            return False\n",
    "        elif self.qsize() < self._maxsize:\n",
    "            return False\n",
    "        else:\n",
    "            return True            \n",
    "\n",
    "    def put(self, item):\n",
    "        \"\"\"\n",
    "        _maxsize를 못 채웠을 경우에만 항목 추가\n",
    "        \"\"\"\n",
    "        self.appendleft(item)\n",
    "    \n",
    "    def get(self):\n",
    "        \"\"\"머리 항목 삭제 후 반환\"\"\"\n",
    "        return self.pop()"
   ]
  },
  {
   "cell_type": "markdown",
   "metadata": {},
   "source": [
    "**실행 예제**"
   ]
  },
  {
   "cell_type": "code",
   "execution_count": 48,
   "metadata": {},
   "outputs": [
    {
     "name": "stdout",
     "output_type": "stream",
     "text": [
      "myQueue([])\n",
      "myQueue([True, 'dog', 4])\n",
      "False\n",
      "3\n",
      "False\n",
      "True\n",
      "myQueue([8.4, True, 'dog', 4])\n",
      "myQueue(['하나 더?', 8.4, True, 'dog', 4])\n",
      "4\n",
      "dog\n",
      "3\n",
      "myQueue(['하나 더?', 8.4, True])\n"
     ]
    }
   ],
   "source": [
    "q = myQueue(maxsize=4)\n",
    "\n",
    "print(q)\n",
    "q.put(4)\n",
    "q.put(\"dog\")\n",
    "q.put(True)\n",
    "print(q)\n",
    "print(q.full())\n",
    "print(q.qsize())\n",
    "print(q.empty())\n",
    "q.put(8.4)\n",
    "print(q.full())\n",
    "print(q)\n",
    "q.put(\"하나 더?\")\n",
    "print(q)\n",
    "print(q.get())\n",
    "print(q.get())\n",
    "print(q.qsize())\n",
    "print(q)"
   ]
  },
  {
   "cell_type": "markdown",
   "metadata": {},
   "source": [
    "## 폭탄 돌리기"
   ]
  },
  {
   "cell_type": "markdown",
   "metadata": {},
   "source": [
    "아래 코드는 폭탄 돌리기 게임을 시뮬레이션 한다."
   ]
  },
  {
   "cell_type": "code",
   "execution_count": null,
   "metadata": {},
   "outputs": [],
   "source": [
    "def hot_potato(name_list, num):\n",
    "\n",
    "    sim_queue = Queue()\n",
    "    \n",
    "    # 큐에 사람 목록 추가\n",
    "    for name in name_list:\n",
    "        sim_queue.put(name)\n",
    "\n",
    "    # 게임 진행\n",
    "    while sim_queue.qsize() > 1:\n",
    "        # num 번 폭탄 돌린 후 탈락자 지정\n",
    "        for i in range(num):\n",
    "            sim_queue.put(sim_queue.get())\n",
    "\n",
    "        sim_queue.get()\n",
    "\n",
    "    return sim_queue.get()    # 마지막 남은 사람"
   ]
  },
  {
   "cell_type": "markdown",
   "metadata": {},
   "source": [
    "예를 들어, 101명으로 시작해서 폭탄을 5번 돌릴 때마다 한 사람씩 탈락시키는 게임의 마지막 생존자를 확인하는 방법은 다음과 같다."
   ]
  },
  {
   "cell_type": "code",
   "execution_count": null,
   "metadata": {},
   "outputs": [],
   "source": [
    "player = [f\"player{i}\" for i in range(101)]\n",
    "\n",
    "print(hot_potato(player, 5))"
   ]
  },
  {
   "cell_type": "markdown",
   "metadata": {},
   "source": [
    "**문제 2**"
   ]
  },
  {
   "cell_type": "markdown",
   "metadata": {},
   "source": [
    "아래 `bombing()` 함수는 '폭탄 돌리기' 게임을 구현한다."
   ]
  },
  {
   "cell_type": "code",
   "execution_count": 51,
   "metadata": {},
   "outputs": [],
   "source": [
    "def bombing(player, count):\n",
    "\n",
    "    player_queue = myQueue()\n",
    "    \n",
    "    # 큐에 사람 목록 추가\n",
    "    for p in range(1, player+1):\n",
    "        player_queue.put(p)\n",
    "\n",
    "    # 게임 진행\n",
    "    while player_queue.qsize() > 1:\n",
    "        # count번 폭탄 돌린 후 탈락자 지정\n",
    "        for i in range(count):\n",
    "            player_queue.put(player_queue.get())\n",
    "\n",
    "        player_queue.get()\n",
    "\n",
    "    return player_queue.get()    # 마지막 남은 사람"
   ]
  },
  {
   "cell_type": "markdown",
   "metadata": {},
   "source": [
    "예를 들어, 1번부터 6번까지 6명이 참가하여 폭탁을 5번 돌릴 때마다 머리에 위치한 사람을 제거하면\n",
    "마지막에 4번 참가자만 남게 된다."
   ]
  },
  {
   "cell_type": "code",
   "execution_count": 52,
   "metadata": {},
   "outputs": [
    {
     "data": {
      "text/plain": [
       "4"
      ]
     },
     "execution_count": 52,
     "metadata": {},
     "output_type": "execute_result"
    }
   ],
   "source": [
    "bombing(6, 5)"
   ]
  },
  {
   "cell_type": "markdown",
   "metadata": {},
   "source": [
    "'폭탄 돌리기' 게임에서 지정된 `step`만큼 건너 뛰면서 폭탄을 돌리는 게임을 시뮬레이션 하도록 \n",
    "코드를 수정하라."
   ]
  },
  {
   "cell_type": "markdown",
   "metadata": {},
   "source": [
    "**모범 답안**"
   ]
  },
  {
   "cell_type": "markdown",
   "metadata": {},
   "source": [
    "`step=1` 키워드 인자를 추가한다. `step`이 1이면 기존 규칙과 동일하게 작동한다."
   ]
  },
  {
   "cell_type": "code",
   "execution_count": 65,
   "metadata": {},
   "outputs": [],
   "source": [
    "def bombing(player, count, step=1):\n",
    "\n",
    "    player_queue = myQueue()\n",
    "    \n",
    "    # 큐에 사람 목록 추가\n",
    "    for p in range(1, player+1):\n",
    "        player_queue.put(p)\n",
    "\n",
    "    # 게임 진행\n",
    "    while player_queue.qsize() > 1:\n",
    "        # count번 폭탄 돌린 후 탈락자 지정\n",
    "        # 단 step을 고려한다. \n",
    "        for i in range(count*step):\n",
    "            player_queue.put(player_queue.get())\n",
    "\n",
    "        player_queue.get()\n",
    "\n",
    "    return player_queue.get()    # 마지막 남은 사람"
   ]
  },
  {
   "cell_type": "markdown",
   "metadata": {},
   "source": [
    "예를 들어, 6명으로 시작해서 폭탄을 5번 돌릴 때마다 마지막으로 폭탄을 받은 사람을 탈락시키는 게임의 마지막 생존자는\n",
    "`step`을 1로 하는 경우와 동일하다."
   ]
  },
  {
   "cell_type": "code",
   "execution_count": 63,
   "metadata": {},
   "outputs": [
    {
     "name": "stdout",
     "output_type": "stream",
     "text": [
      "4\n"
     ]
    }
   ],
   "source": [
    "print(bombing(6, 5, 1))"
   ]
  },
  {
   "cell_type": "markdown",
   "metadata": {},
   "source": [
    "반면에 6명으로 시작해서 1명씩 건너 뛰면서 폭탄을 5번 돌릴 때마다 마지막으로 폭탄을 받은 사람을 탈락시키는 게임의 마지막 생존자는\n",
    "`step`을 2로 지정하면 확인된다."
   ]
  },
  {
   "cell_type": "code",
   "execution_count": 64,
   "metadata": {},
   "outputs": [
    {
     "name": "stdout",
     "output_type": "stream",
     "text": [
      "4\n"
     ]
    }
   ],
   "source": [
    "print(bombing(6, 5, 2))"
   ]
  },
  {
   "cell_type": "markdown",
   "metadata": {},
   "source": [
    "2명씩 건너뛰면 즉 `step`을 3으로 지정하면 1번이 생존한다."
   ]
  },
  {
   "cell_type": "code",
   "execution_count": 61,
   "metadata": {},
   "outputs": [
    {
     "name": "stdout",
     "output_type": "stream",
     "text": [
      "1\n"
     ]
    }
   ],
   "source": [
    "print(bombing(6, 5, 3))"
   ]
  },
  {
   "cell_type": "markdown",
   "metadata": {},
   "source": [
    "**문제 3**"
   ]
  },
  {
   "cell_type": "markdown",
   "metadata": {},
   "source": [
    "N 장의 카드가 있다.\n",
    "각각의 카드는 차례로 1부터 N까지의 번호가 붙어 있으며, \n",
    "1번 카드가 제일 위에, N번 카드가 제일 아래인 상태로 순서대로 카드가 놓여 있다.\n",
    "\n",
    "이제 다음과 같은 동작을 카드가 한 장 남을 때까지 반복하게 된다. \n",
    "\n",
    "- 우선, 제일 위에 있는 카드를 바닥에 버린다. \n",
    "- 그 다음, 제일 위에 있는 카드를 제일 아래에 있는 카드 밑으로 옮긴다.\n",
    "\n",
    "예를 들어, N=4인 경우를 생각해 보자. \n",
    "\n",
    "- 카드는 제일 위에서부터 1234 의 순서로 놓여있다.\n",
    "- 1을 버리면 234가 남는다.\n",
    "- 여기서 2를 제일 아래로 옮기면 342가 된다.\n",
    "- 3을 버리면 42가 되고, 4를 밑으로 옮기면 24가 된다.\n",
    "- 마지막으로 2를 버리고 나면, 남는 카드는 4가 된다.\n",
    "\n",
    "N이 주어졌을 때, 제일 마지막에 남게 되는 카드를 구하는 프로그램을 작성하라."
   ]
  },
  {
   "cell_type": "markdown",
   "metadata": {},
   "source": [
    "참고: [BaekJoon Online Judge 2164번](https://www.acmicpc.net/problem/2164)"
   ]
  },
  {
   "cell_type": "markdown",
   "metadata": {},
   "source": [
    "힌트: `bombing()` 함수를 조금 수정한다."
   ]
  }
 ],
 "metadata": {
  "kernelspec": {
   "display_name": "Python 3 (ipykernel)",
   "language": "python",
   "name": "python3"
  },
  "language_info": {
   "codemirror_mode": {
    "name": "ipython",
    "version": 3
   },
   "file_extension": ".py",
   "mimetype": "text/x-python",
   "name": "python",
   "nbconvert_exporter": "python",
   "pygments_lexer": "ipython3",
   "version": "3.12.2"
  },
  "vscode": {
   "interpreter": {
    "hash": "ad0f3c8a064f687cbf898a0868fd45ba1c7e928ac8a0404f7c241d812ddc1e76"
   }
  }
 },
 "nbformat": 4,
 "nbformat_minor": 4
}
