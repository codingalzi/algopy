{
 "cells": [
  {
   "cell_type": "markdown",
   "metadata": {},
   "source": [
    "# (실습) 재귀 시각화"
   ]
  },
  {
   "cell_type": "markdown",
   "metadata": {},
   "source": [
    "**문제**"
   ]
  },
  {
   "cell_type": "markdown",
   "metadata": {},
   "source": [
    "프랙탈 트리에 사용된 알고리즘을 이용하여 손으로 직접 프랙탈 트리를 종이에 그려보아라.\n",
    "예를 들어, `tree(75, 거북이손)`을 실행한다고 가정한다."
   ]
  },
  {
   "cell_type": "markdown",
   "metadata": {},
   "source": [
    "**문제**"
   ]
  },
  {
   "cell_type": "markdown",
   "metadata": {},
   "source": [
    "프랙탈 트리 알고리즘을 아래 사항들에 맞추어 수정하라.\n",
    "- `branch_len`이 줄어들면 나뭇가지의 두께 또한 점점 얇아지도록 하라.\n",
    "- 나뭇가지의 색상 또한 `branch_len`와 함께 달라져서 결국엔 나뭇잎 색깔이 되도록 하라.\n",
    "- 좌우 가지치기의 각도를 15도에서 45도 사이에서 임의로 변할 수 있도록 하라.\n",
    "단, 생성된 트리의 모양이 적절하게 보기 좋아야 한다. \n",
    "- 나뭇가지의 길이가 일정하게 줄어드는 대신 가지치기 할 때마다 임의의 크기만큼 줄어들도록 하라.\n",
    "단, 적절한 범위 내에서 줄어들어야 하며, 최종적으로 자연스럽게 보여야 한다."
   ]
  },
  {
   "cell_type": "markdown",
   "metadata": {},
   "source": [
    "**문제**"
   ]
  },
  {
   "cell_type": "markdown",
   "metadata": {},
   "source": [
    "Find or invent an algorithm for drawing a fractal mountain. Hint: One\n",
    "approach to this uses triangles again."
   ]
  },
  {
   "cell_type": "markdown",
   "metadata": {},
   "source": [
    "**문제**"
   ]
  },
  {
   "cell_type": "markdown",
   "metadata": {},
   "source": [
    "Write a recursive function to compute the Fibonacci sequence. How\n",
    "does the performance of the recursive function compare to that of an\n",
    "iterative version?"
   ]
  },
  {
   "cell_type": "markdown",
   "metadata": {},
   "source": [
    "**문제**"
   ]
  },
  {
   "cell_type": "markdown",
   "metadata": {},
   "source": [
    "Using the turtle graphics module, write a recursive program to\n",
    "display a Hilbert curve."
   ]
  },
  {
   "cell_type": "markdown",
   "metadata": {},
   "source": [
    "**문제**"
   ]
  },
  {
   "cell_type": "markdown",
   "metadata": {},
   "source": [
    "Using the turtle graphics module, write a recursive program to\n",
    "display a Koch snowflake."
   ]
  }
 ],
 "metadata": {
  "kernelspec": {
   "display_name": "Python 3 (ipykernel)",
   "language": "python",
   "name": "python3"
  },
  "language_info": {
   "codemirror_mode": {
    "name": "ipython",
    "version": 3
   },
   "file_extension": ".py",
   "mimetype": "text/x-python",
   "name": "python",
   "nbconvert_exporter": "python",
   "pygments_lexer": "ipython3",
   "version": "3.11.5"
  },
  "vscode": {
   "interpreter": {
    "hash": "ad0f3c8a064f687cbf898a0868fd45ba1c7e928ac8a0404f7c241d812ddc1e76"
   }
  }
 },
 "nbformat": 4,
 "nbformat_minor": 2
}
