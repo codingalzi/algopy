{
 "cells": [
  {
   "cell_type": "markdown",
   "metadata": {},
   "source": [
    "# (실습) 플로이드-워셜 알고리즘"
   ]
  },
  {
   "cell_type": "markdown",
   "metadata": {},
   "source": [
    "## **문제: 플로이드-워셜 알고리즘**"
   ]
  },
  {
   "cell_type": "markdown",
   "metadata": {},
   "source": [
    "아래 `floyd_warshall()` 함수는 $n$개의 행렬 $D^{(0)}$, $D^{(1)}$, ..., $D^{(n)}$ 를\n",
    "사용한다."
   ]
  },
  {
   "cell_type": "code",
   "execution_count": 1,
   "metadata": {},
   "outputs": [],
   "source": [
    "from copy import deepcopy\n",
    "\n",
    "def floyd_warshall(W):\n",
    "    n = len(W)\n",
    "    # 사전을 이용하여 D^(0), ... , D^(n) 저장\n",
    "    # 키는 0, 1, ..., n 사용\n",
    "    D = dict() \n",
    "\n",
    "    # D^(0) 지정\n",
    "    # 주의: deepcopy를 사용하지 않으면 W가 수정됨\n",
    "    D[0] = deepcopy(W)\n",
    "\n",
    "    # D^(k) 로부터 D^(k+1)를 생성\n",
    "    for k in range(0, n):\n",
    "        D[k+1] = D[k]\n",
    "        # 행렬의 인덱스는 0부터 (n-1)까지 이동\n",
    "        for i in range(0, n):\n",
    "            for j in range(0, n):\n",
    "                if D[k][i][k]+ D[k][k][j] < D[k][i][j]:\n",
    "                    D[k+1][i][j] = D[k][i][k]+ D[k][k][j]\n",
    "    \n",
    "    # 최종 완성된 D[n] 반환\n",
    "    return D[n]"
   ]
  },
  {
   "cell_type": "markdown",
   "metadata": {},
   "source": [
    "위 알고리즘을 한 개의 행렬만 사용하도록 알고리즘을 수정하라.\n",
    "이를 위해 아래 아이디어를 이용한다.\n",
    "\n",
    "- `D = deepcopy(W)`로 초기화\n",
    "- `k`에 대해 반복문을 실행 할 때, 새로운 `D`를 생성하는 대신 `D` 자체를 업데이트"
   ]
  },
  {
   "cell_type": "markdown",
   "metadata": {},
   "source": [
    "## **문제: 0-1 배낭채우기 문제**"
   ]
  },
  {
   "cell_type": "markdown",
   "metadata": {},
   "source": [
    "W kg까지 넣을 수 있는 가방을 들고 쥬얼리샵에 침입하였다고 가정한다.\n",
    "훔칠 수 있는 N 개의 보석이 주어졌고 각각이 서로 다른 무게를 갖는다고 가정한다.\n",
    "이때 최대의 가치가 되도록 가방에 보석을 넣는 방법을 알아내는 문제인\n",
    "0-1 배낭채우기<font size='2'>0-1 Knapsack problem</font> 문제의 알고리즘을 동적계획법으로 구현하려 한다.\n",
    "\n",
    "문제 이해를 위해 다음 경우를 가정한다. \n",
    "\n",
    "- W = 20\n",
    "- 훔칠 수 있는 보석이 종류별로 1개, 즉 총 N=5개.\n",
    "\n",
    "| 보석 종류| 무게 | 가치 |\n",
    "| :---: | :---: | :---: |\n",
    "| 0 | 2 | 3 |\n",
    "| 1 | 3 | 4 |\n",
    "| 2 | 4 | 8 |\n",
    "| 3 | 5 | 8 |\n",
    "| 4 | 9 | 10 |\n",
    "\n",
    "동적계획법을 적용하기 위해 다음 성질을 만족하는 `N x W` 모양의 2차원 행렬 M을 사용한다.\n",
    "\n",
    "```\n",
    "M[i][w]: i 번째 보석 이전까지의 물건만 살펴보고, 배낭의 용량이 w 였을 때 배낭에 들어간 물건들의 최대 가치\n",
    "```\n",
    "\n",
    "보다 자세한 내용과 알고리즘 설명은 많은 인터넷 사이트를 참고할 수 있다. \n",
    "예를 들어 아래 두 링크를 추천한다.\n",
    "\n",
    "- [Knapsack problem (Wikipedia)](https://en.wikipedia.org/wiki/Knapsack_problem)\n",
    "- [0-1 Knapsack problem (GeeksforGeeks)](https://www.geeksforgeeks.org/0-1-knapsack-problem-dp-10/)"
   ]
  },
  {
   "cell_type": "markdown",
   "metadata": {},
   "source": [
    "**질문 1**\n",
    "\n",
    "위 알고리즘을 동적계획법으로 구현하라."
   ]
  },
  {
   "cell_type": "markdown",
   "metadata": {},
   "source": [
    "**질문 2**\n",
    "\n",
    "앞서 설명한 동적계획법을 적용했을 때 최소 비용이 계산되는 것을 보장하기 위해 먼저 최적의 원칙이 보장됨을 설명하라."
   ]
  },
  {
   "cell_type": "markdown",
   "metadata": {},
   "source": [
    "## **문제: 편집 거리 문제**"
   ]
  },
  {
   "cell_type": "markdown",
   "metadata": {},
   "source": [
    "str1과 str2 두 개의 문자열이 주어졌을 때 문자열 str1을 문자열 str2로 변환하는 데 필요한 최소 비용을 가리키는\n",
    "편집 거리를 계산하는 문제이다.\n",
    "일명 **레벤슈타인 거리**<font size='2'>Levenshtein distance</font> 문제라고도 불린다..\n",
    "단, 변환은 다음 세 가지 방식 중에 하나를 연속적으로 선택해서 진행한다.\n",
    "\n",
    "- 하나의 문자를 그대로 사용. 비용은 5.\n",
    "- 하나의 문자를 삭제. 비용은 20.\n",
    "- 하나의 문자를 추가. 비용은 20\n",
    "\n",
    "예를 들어, \"algorithm\"에서 \"alligator\"로의 변환에 필요한 최소 비용은 다음과 같이 구할 수 있다.\n",
    "\n",
    "- 처음 두 개의 문자 \"al\"은 동일하기 때문에 그대로 사용. 비용 10.\n",
    "- \"gorithm\"에서 \"ligator\"로의 변환에 필요한 최소 비용 계산.\n",
    "\n",
    "따라서 두 개의 문자열의 길이의 합이 적은 경우의 편집 거리를 이용하여 보다 긴 두 문자열의 편집 거리를 \n",
    "동적계획법으로 계산할 수 있다.\n",
    "보다 자세한 내용과 알고리즘 설명은 많은 인터넷 사이트를 참고할 수 있다. \n",
    "예를 들어 아래 두 링크를 추천한다.\n",
    "\n",
    "- [Levenshtein distance(Wikipedia)](https://en.wikipedia.org/wiki/Levenshtein_distance)\n",
    "- [Damerau-Levenshtein distance (GeeksforGeeks)](https://www.geeksforgeeks.org/damerau-levenshtein-distance/)"
   ]
  },
  {
   "cell_type": "markdown",
   "metadata": {},
   "source": [
    "`len(str1) = m`,  `len(str2) = n` 일 때, 동적 계획법을 적용하기 위해 \n",
    "`(m+1, n+1)` 모양의 2차원 행렬 `P`를 아래 성질을 만족하도록 업데이트 한다.\n",
    "\n",
    "- `P[i][j]`: 첫째 문자열의 길이가 i, 둘째 문자열의 길이가 j일 때, 두 문자열의 편집 거리. \n",
    "    즉, 길이가 `i`인 `str1[:i]` 문자열을 길이가 `j` 인 `str2[:j]`로 변환하는 편집 거리."
   ]
  },
  {
   "cell_type": "markdown",
   "metadata": {},
   "source": [
    "**질문 1**\n",
    "\n",
    "두 문자열의 편집 거리를 계산하는 함수 `edit_distance(str1, str2)`를 동적계획법으로 구현하라."
   ]
  },
  {
   "cell_type": "markdown",
   "metadata": {},
   "source": [
    "**질문 2**\n",
    "\n",
    "앞서 설명한 동적계획법을 적용했을 때 최소 비용이 계산되는 것을 보장하기 위해 먼저 최적의 원칙이 보장됨을 설명하라."
   ]
  }
 ],
 "metadata": {
  "kernelspec": {
   "display_name": "Python 3 (ipykernel)",
   "language": "python",
   "name": "python3"
  },
  "language_info": {
   "codemirror_mode": {
    "name": "ipython",
    "version": 3
   },
   "file_extension": ".py",
   "mimetype": "text/x-python",
   "name": "python",
   "nbconvert_exporter": "python",
   "pygments_lexer": "ipython3",
   "version": "3.11.5"
  },
  "vscode": {
   "interpreter": {
    "hash": "ad0f3c8a064f687cbf898a0868fd45ba1c7e928ac8a0404f7c241d812ddc1e76"
   }
  }
 },
 "nbformat": 4,
 "nbformat_minor": 2
}
