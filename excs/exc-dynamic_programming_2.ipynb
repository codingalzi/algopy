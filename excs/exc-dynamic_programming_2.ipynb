{
 "cells": [
  {
   "cell_type": "markdown",
   "metadata": {},
   "source": [
    "# (실습) 플로이드-워셜 알고리즘"
   ]
  },
  {
   "cell_type": "markdown",
   "metadata": {},
   "source": [
    "## 0-1 배낭채우기 문제"
   ]
  },
  {
   "cell_type": "markdown",
   "metadata": {},
   "source": [
    "**문제**"
   ]
  },
  {
   "cell_type": "markdown",
   "metadata": {},
   "source": [
    "W kg까지 넣을 수 있는 가방을 들고 쥬얼리샵에 침입하였다고 가정한다.\n",
    "훔칠 수 n 개의 보석이 주어졌고 각각이 서로 다른 무게를 갖는다고 가정한다.\n",
    "이때 최대의 갑어치가 되도록 가방에 보석을 넣는 방법을 알아내는 \n",
    "알고리즘을 동적계획법으로 구현하라.\n",
    "\n",
    "문제 이해를 위해 다음 경우를 가정한다. \n",
    "\n",
    "- W = 20\n",
    "- 훔칠 수 있는 보석 5개\n",
    "\n",
    "| 보석 종류| 무게 | 값어치 |\n",
    "| --- | --- | --- |\n",
    "| 1 | 2 | 3 |\n",
    "| 2 | 3 | 4 |\n",
    "| 3 | 4 | 8 |\n",
    "| 4 | 5 | 8 |\n",
    "| 5 | 9 | 10 |"
   ]
  },
  {
   "cell_type": "markdown",
   "metadata": {},
   "source": [
    "## 단어 유사도 문제"
   ]
  },
  {
   "cell_type": "markdown",
   "metadata": {},
   "source": [
    "**문제**"
   ]
  },
  {
   "cell_type": "markdown",
   "metadata": {},
   "source": [
    "This problem is called the string edit distance problem, and is quite\n",
    "useful in many areas of research. Suppose that you want to transform\n",
    "the word \"algorithm\" into the word \"alligator\". For each letter you\n",
    "can either copy the letter from one word to another at a cost of 5,\n",
    "you can delete a letter at cost of 20, or insert a letter at a cost\n",
    "of 20. The total cost to transform one word into another is used by\n",
    "spell check programs to provide suggestions for words that are close\n",
    "to one another. Use dynamic programming techniques to develop an\n",
    "algorithm that gives you the smallest edit distance between any two\n",
    "words."
   ]
  }
 ],
 "metadata": {
  "kernelspec": {
   "display_name": "Python 3.9.12 ('base')",
   "language": "python",
   "name": "python3"
  },
  "language_info": {
   "name": "python",
   "version": "3.9.12"
  },
  "orig_nbformat": 4,
  "vscode": {
   "interpreter": {
    "hash": "ad0f3c8a064f687cbf898a0868fd45ba1c7e928ac8a0404f7c241d812ddc1e76"
   }
  }
 },
 "nbformat": 4,
 "nbformat_minor": 2
}
