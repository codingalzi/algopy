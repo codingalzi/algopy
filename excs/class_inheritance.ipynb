{
 "cells": [
  {
   "cell_type": "markdown",
   "id": "dfc03170",
   "metadata": {},
   "source": [
    "## 연습문제"
   ]
  },
  {
   "cell_type": "markdown",
   "id": "48982d02",
   "metadata": {},
   "source": [
    "**`Fraction` 클래스 관련**"
   ]
  },
  {
   "cell_type": "markdown",
   "id": "9c8075a7",
   "metadata": {},
   "source": [
    "**문제 1**"
   ]
  },
  {
   "cell_type": "markdown",
   "id": "abd5d512",
   "metadata": {},
   "source": [
    "`f1`, `f2`가 아래와 같이 정의된다."
   ]
  },
  {
   "cell_type": "code",
   "execution_count": 31,
   "id": "a89e1d54",
   "metadata": {},
   "outputs": [],
   "source": [
    "f1 = Fraction(1, 4)\n",
    "f2 = Fraction(1, 2)"
   ]
  },
  {
   "cell_type": "markdown",
   "id": "9d202682",
   "metadata": {},
   "source": [
    "그런데 `f1 + f2`의 결과를 직접 확인하려 하면 원하는 대로 보여지지 않는다."
   ]
  },
  {
   "cell_type": "code",
   "execution_count": 32,
   "id": "92e92daf",
   "metadata": {},
   "outputs": [
    {
     "data": {
      "text/plain": [
       "<__main__.Fraction at 0x1c98cc2ebb0>"
      ]
     },
     "execution_count": 32,
     "metadata": {},
     "output_type": "execute_result"
    }
   ],
   "source": [
    "f1 + f2"
   ]
  },
  {
   "cell_type": "markdown",
   "id": "2fcea979",
   "metadata": {},
   "source": [
    "어떤 매직 메서드를 구현하면 되는지 확인하고 직접 구현하라."
   ]
  },
  {
   "cell_type": "markdown",
   "id": "1791d5af",
   "metadata": {},
   "source": [
    "**문제 2**"
   ]
  },
  {
   "cell_type": "markdown",
   "id": "01be7f46",
   "metadata": {},
   "source": [
    "다음 연산자들을 지원하는 매직 메서드를 중복정의하라.\n",
    "\n",
    "```python\n",
    "*, /, -, >, <\n",
    "```"
   ]
  },
  {
   "cell_type": "markdown",
   "id": "53c43e86",
   "metadata": {},
   "source": [
    "**문제 3**"
   ]
  },
  {
   "cell_type": "markdown",
   "id": "126d9f9a",
   "metadata": {},
   "source": [
    "다음 연산자들을 사용하기 위해 별도로 특정 매직 메서드를 구현해야 하는지 확인하라.\n",
    "\n",
    "```python\n",
    ">=, <=\n",
    "```"
   ]
  },
  {
   "cell_type": "markdown",
   "id": "347beefb",
   "metadata": {},
   "source": [
    "**문제 4**"
   ]
  },
  {
   "cell_type": "markdown",
   "id": "fa66148e",
   "metadata": {},
   "source": [
    "컴퓨터가 제공하는 부동소수점은 불완전하다.\n",
    "예를 들어, 아래 코드는 100만분의 1을 100만번 더했을 때 \n",
    "1이 계산되지 않음을 보여준다."
   ]
  },
  {
   "cell_type": "code",
   "execution_count": 33,
   "id": "b5b639ea",
   "metadata": {},
   "outputs": [
    {
     "name": "stdout",
     "output_type": "stream",
     "text": [
      "y = 1.000000000007918\n",
      "False\n"
     ]
    }
   ],
   "source": [
    "x = 0.000001\n",
    "y = 0\n",
    "\n",
    "for _ in range(1000000):\n",
    "    y += x\n",
    "\n",
    "print(f\"y = {y}\")\n",
    "print(y == 1)"
   ]
  },
  {
   "cell_type": "markdown",
   "id": "ed5a9522",
   "metadata": {},
   "source": [
    "분수 클래스 `Fraction`를 이용하면 보다 엄밀한 계산이 가능함을 보여라."
   ]
  },
  {
   "cell_type": "markdown",
   "id": "ce95df53",
   "metadata": {},
   "source": [
    "**`Vector` 클래스 관련**"
   ]
  },
  {
   "cell_type": "markdown",
   "id": "4a9c8027",
   "metadata": {},
   "source": [
    "**문제 5**"
   ]
  },
  {
   "cell_type": "markdown",
   "id": "8513667a",
   "metadata": {},
   "source": [
    "벡터와 정수의 곱셈을 지원하도록 `__mul__()` 메서드를 `Vector` 클래스에서 \n",
    "재정의하라."
   ]
  },
  {
   "cell_type": "markdown",
   "id": "b33748b0",
   "metadata": {},
   "source": [
    "**문제 6**"
   ]
  },
  {
   "cell_type": "markdown",
   "id": "44dfbc4e",
   "metadata": {},
   "source": [
    "`Vector` 클래스에 항목들의 평균값을 반환하는\n",
    "`mean()` 메서드를 추가하라."
   ]
  },
  {
   "cell_type": "markdown",
   "id": "0e370fb5",
   "metadata": {},
   "source": [
    "**문제 6**"
   ]
  },
  {
   "cell_type": "markdown",
   "id": "5de4a419",
   "metadata": {},
   "source": [
    "`Vector` 클래스에 항목들의 표준편차를 반환하는\n",
    "`std()` 메서드를 추가하라."
   ]
  },
  {
   "cell_type": "markdown",
   "id": "6e988831",
   "metadata": {},
   "source": [
    "## 프로그래밍 과제"
   ]
  },
  {
   "cell_type": "markdown",
   "id": "4de63085",
   "metadata": {},
   "source": [
    "1. Implement the simple methods ``get_num`` and ``get_den`` that will\n",
    "   return the numerator and denominator of a fraction.\n",
    "\n",
    "1. In many ways it would be better if all fractions were maintained in\n",
    "   lowest terms right from the start. Modify the constructor for the\n",
    "   ``Fraction`` class so that ``GCD`` is used to reduce fractions\n",
    "   immediately. Notice that this means the ``__add__`` function no\n",
    "   longer needs to reduce. Make the necessary modifications.\n",
    "\n",
    "1. Implement the remaining simple arithmetic operators (``__sub__``,\n",
    "   ``__mul__``, and ``__truediv__``).\n",
    "\n",
    "1. Implement the remaining relational operators (``__gt__``,\n",
    "   ``__ge__``, ``__lt__``, ``__le__``, and ``__ne__``).\n",
    "\n",
    "1. Modify the constructor for the fraction class so that it checks to\n",
    "   make sure that the numerator and denominator are both integers. If\n",
    "   either is not an integer, the constructor should raise an exception.\n",
    "\n",
    "1. In the definition of fractions we assumed that negative fractions\n",
    "   have a negative numerator and a positive denominator. Using a\n",
    "   negative denominator would cause some of the relational operators to\n",
    "   give incorrect results. In general, this is an unnecessary\n",
    "   constraint. Modify the constructor to allow the user to pass a\n",
    "   negative denominator so that all of the operators continue to work\n",
    "   properly.\n",
    "\n",
    "1. Research the ``__radd__`` method. How does it differ from\n",
    "   ``__add__``? When is it used? Implement ``__radd__``.\n",
    "\n",
    "1. Repeat the last question but this time consider the ``__iadd__``\n",
    "   method.\n",
    "\n",
    "1. Research the ``__repr__`` method. How does it differ from\n",
    "   ``__str__``? When is it used? Implement ``__repr__``.\n",
    "\n",
    "1. Design a class to represent a playing card and another one to represent a deck of cards.\n",
    "   Using these two classes, implement your favorite card game.\n",
    "\n",
    "1. Find a Sudoku puzzle online or in the local newspaper. Write a program to solve\n",
    "   the puzzle."
   ]
  },
  {
   "cell_type": "code",
   "execution_count": null,
   "id": "d101b59a",
   "metadata": {},
   "outputs": [],
   "source": []
  }
 ],
 "metadata": {
  "kernelspec": {
   "display_name": "Python 3 (ipykernel)",
   "language": "python",
   "name": "python3"
  },
  "language_info": {
   "codemirror_mode": {
    "name": "ipython",
    "version": 3
   },
   "file_extension": ".py",
   "mimetype": "text/x-python",
   "name": "python",
   "nbconvert_exporter": "python",
   "pygments_lexer": "ipython3",
   "version": "3.9.13"
  }
 },
 "nbformat": 4,
 "nbformat_minor": 5
}
