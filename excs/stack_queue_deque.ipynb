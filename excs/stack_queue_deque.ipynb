{
 "cells": [
  {
   "cell_type": "markdown",
   "metadata": {},
   "source": [
    "# 기초 추상 자료형 구현 연습문제 "
   ]
  },
  {
   "cell_type": "markdown",
   "metadata": {},
   "source": [
    "## 문제 1\n",
    "\n",
    "HTML 문서에 사용되는 태그(tag)는 아래 예제에서처럼 여는 형식과 닫는 형식의 짝이 맞아야 한다. \n",
    "\n",
    "```html\n",
    "<html>\n",
    "  <head>\n",
    "     <title>\n",
    "        문제해결 알고리즘\n",
    "     </title>\n",
    "  </head>\n",
    "\n",
    "  <body>\n",
    "     <h1>스택 자료형</h1>\n",
    "  </body>\n",
    "</html>\n",
    "```\n",
    "\n",
    "HTML 문서를 대상으로 태그 짝맞추기 여부를 판별하는 함수를 구현하라."
   ]
  },
  {
   "cell_type": "code",
   "execution_count": null,
   "metadata": {},
   "outputs": [],
   "source": [
    "def tag_pairing(html_string):\n",
    "    pass"
   ]
  },
  {
   "cell_type": "code",
   "execution_count": null,
   "metadata": {},
   "outputs": [],
   "source": [
    "html_exp = \\\n",
    "\"\"\"<html>\n",
    "  <head>\n",
    "     <title>\n",
    "        문제해결 알고리즘\n",
    "     </title>\n",
    "  </head>\n",
    "\n",
    "  <body>\n",
    "     <h1>스택 자료형</h1>\n",
    "  </body>\n",
    "</html>\"\"\""
   ]
  },
  {
   "cell_type": "code",
   "execution_count": null,
   "metadata": {},
   "outputs": [],
   "source": [
    "assert tag_pairing(html_exp) == True"
   ]
  },
  {
   "cell_type": "markdown",
   "metadata": {},
   "source": [
    "## 문제 2\n",
    "\n",
    "기수 정렬(radix sorting)를 실행하는 함수 `radix_sort()`를 구현하라.\n",
    "기수 정렬의 정의는 [정렬 알고리즘 - 기수정렬](https://lktprogrammer.tistory.com/48)을 \n",
    "참조한다."
   ]
  },
  {
   "cell_type": "code",
   "execution_count": null,
   "metadata": {},
   "outputs": [],
   "source": [
    "def radix_sort(number_list):\n",
    "    pass"
   ]
  },
  {
   "cell_type": "code",
   "execution_count": null,
   "metadata": {},
   "outputs": [],
   "source": [
    "num_list = [349, 12, 252, 8]"
   ]
  },
  {
   "cell_type": "code",
   "execution_count": null,
   "metadata": {},
   "outputs": [],
   "source": [
    "assert radix_sort(num_list) == [8, 12, 252, 349]"
   ]
  },
  {
   "cell_type": "markdown",
   "metadata": {},
   "source": [
    "## 문제 3\n",
    "\n",
    "\"I PREFER PI\", \"찰진 의사의 진찰\" 등 공백이 포함된 문장을 회문으로 판별하도록\n",
    "`pal_checker()` 함수를 수정하라."
   ]
  },
  {
   "cell_type": "code",
   "execution_count": null,
   "metadata": {},
   "outputs": [],
   "source": [
    "def pal_checker(a_string):\n",
    "    pass"
   ]
  },
  {
   "cell_type": "code",
   "execution_count": null,
   "metadata": {},
   "outputs": [],
   "source": [
    "pal_checker(\"I PREFER PI\") == True"
   ]
  },
  {
   "cell_type": "code",
   "execution_count": null,
   "metadata": {},
   "outputs": [],
   "source": [
    "pal_checker(\"찰진 의사의 진찰\") == True"
   ]
  },
  {
   "cell_type": "code",
   "execution_count": null,
   "metadata": {},
   "outputs": [],
   "source": [
    "pal_checker(\"찰진 의사의 불진찰\") == False"
   ]
  }
 ],
 "metadata": {
  "kernelspec": {
   "display_name": "Python 3",
   "language": "python",
   "name": "python3"
  },
  "language_info": {
   "codemirror_mode": {
    "name": "ipython",
    "version": 3
   },
   "file_extension": ".py",
   "mimetype": "text/x-python",
   "name": "python",
   "nbconvert_exporter": "python",
   "pygments_lexer": "ipython3",
   "version": "3.8.8"
  }
 },
 "nbformat": 4,
 "nbformat_minor": 4
}
