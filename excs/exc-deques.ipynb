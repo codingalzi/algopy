{
 "cells": [
  {
   "cell_type": "markdown",
   "metadata": {},
   "source": [
    "# (실습) 선형 자료구조: 덱"
   ]
  },
  {
   "cell_type": "markdown",
   "metadata": {},
   "source": [
    "**문제**"
   ]
  },
  {
   "cell_type": "markdown",
   "metadata": {},
   "source": [
    "아래 `pal_checker()` 함수는 회문 여부를 판정한다."
   ]
  },
  {
   "cell_type": "code",
   "execution_count": 10,
   "metadata": {},
   "outputs": [],
   "source": [
    "from collections import deque\n",
    "\n",
    "def pal_checker(text):\n",
    "    # 덱 객체 생성\n",
    "    char_deque = deque([])\n",
    "    for ch in text:\n",
    "        char_deque.appendleft(ch)\n",
    "\n",
    "    # 머리와 꼬리 항목 비교\n",
    "    while len(char_deque) > 1:\n",
    "        first = char_deque.pop()\n",
    "        last = char_deque.popleft()\n",
    "        # 대칭 문자가 다를 경우 회문 아님 판정\n",
    "        if first != last:\n",
    "            return False\n",
    "\n",
    "    # 이전 반복문을 무사히 통과하면 회문 판정\n",
    "    return True"
   ]
  },
  {
   "cell_type": "markdown",
   "metadata": {},
   "source": [
    "그런데 위 함수는 공백이나 특수 기호가 없는 단어의 경우에 회문 판별이 잘 작동한다."
   ]
  },
  {
   "cell_type": "code",
   "execution_count": 11,
   "metadata": {},
   "outputs": [],
   "source": [
    "assert pal_checker(\"기러기\") == True\n",
    "assert pal_checker(\"사이다\") == False\n",
    "assert pal_checker(\"radar\") == True\n",
    "assert pal_checker(\"tomato\") == False"
   ]
  },
  {
   "cell_type": "markdown",
   "metadata": {},
   "source": [
    "반면에 대소문자가 다르거나 공백 등 다른 기호가 포함되면 작동하지 않는다."
   ]
  },
  {
   "cell_type": "code",
   "execution_count": null,
   "metadata": {},
   "outputs": [],
   "source": [
    "pal_checker(\"Bob\")"
   ]
  },
  {
   "cell_type": "code",
   "execution_count": null,
   "metadata": {},
   "outputs": [],
   "source": [
    "pal_checker(\"여보게, 저기 저게 보여?\")"
   ]
  },
  {
   "cell_type": "markdown",
   "metadata": {},
   "source": [
    "대소문자 구분, 공백 기호와 아래 문자열에 포함된 기호를 모두 무시하도록 `pal_checker()` 함수를 수정하라.\n",
    "\n",
    "```python\n",
    "\".,!?\"\n",
    "```"
   ]
  },
  {
   "cell_type": "code",
   "execution_count": null,
   "metadata": {},
   "outputs": [],
   "source": [
    "def pal_checker(text):\n",
    "    # 수정 필요\n",
    "    pass"
   ]
  },
  {
   "cell_type": "markdown",
   "metadata": {},
   "source": [
    "즉, 아래 코드를 실행할 때 오류가 발생하지 않아야 한다."
   ]
  },
  {
   "cell_type": "code",
   "execution_count": null,
   "metadata": {},
   "outputs": [],
   "source": [
    "assert pal_checker(\"Bob\") == True\n",
    "assert pal_checker(\"여보게, 저기 저게 보여?\") == True\n",
    "assert pal_checker('I did, did I?') == True\n",
    "assert pal_checker('No lemon, no melon') == True"
   ]
  }
 ],
 "metadata": {
  "kernelspec": {
   "display_name": "Python 3.9.12 ('base')",
   "language": "python",
   "name": "python3"
  },
  "language_info": {
   "codemirror_mode": {
    "name": "ipython",
    "version": 3
   },
   "file_extension": ".py",
   "mimetype": "text/x-python",
   "name": "python",
   "nbconvert_exporter": "python",
   "pygments_lexer": "ipython3",
   "version": "3.12.2"
  },
  "vscode": {
   "interpreter": {
    "hash": "ad0f3c8a064f687cbf898a0868fd45ba1c7e928ac8a0404f7c241d812ddc1e76"
   }
  }
 },
 "nbformat": 4,
 "nbformat_minor": 4
}
