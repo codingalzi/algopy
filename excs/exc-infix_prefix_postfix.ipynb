{
 "cells": [
  {
   "cell_type": "markdown",
   "metadata": {},
   "source": [
    "# (실습) 중위, 전위, 후위 표기법"
   ]
  },
  {
   "cell_type": "markdown",
   "metadata": {},
   "source": [
    "## 중위/전위/후위 표기법"
   ]
  },
  {
   "cell_type": "markdown",
   "metadata": {},
   "source": [
    "이항 연산자를 이용한 표현식을 작성하는 세 종류의 표기법을 살펴본다.\n",
    "또한 표기법 변환 알고리즘과 변환된 표현식의 값을 계산하는 알고리즘을 스택 자료구조를 이용하여 구현한다."
   ]
  },
  {
   "cell_type": "markdown",
   "metadata": {},
   "source": [
    "### 중위 표기법"
   ]
  },
  {
   "cell_type": "markdown",
   "metadata": {},
   "source": [
    "아래 두 수식에 사용되는 덧셈 연산자(`+`)와 \n",
    "곱셈 연산자(`*`)는 더해지거나 곱해지는 두 \n",
    "피연산자<font size='2'>operand</font>, 즉 두 인자의 사이에 위치한다.\n",
    "\n",
    "```python\n",
    "x + y\n",
    "2 + 3 * 6\n",
    "```\n",
    "\n",
    "이렇게 이항 연산자를 \n",
    "두 피연산자 사이에 위치시켜 표현식을 작성하는 방법을\n",
    "**중위 표기법**<font size='2'>infix notation</font>이라 한다.\n",
    "중위 표기법으로 작성된 표현식은 간단하게 **중위 표현식**이라 부른다.\n",
    "\n",
    "중위 표현식을 해석할 때 연산자들의 **우선순위**를 잘 고려해야 한다.\n",
    "예를 들어 `2 + 3 * 6`는 `2 + (3 * 6)`로 해석되어 최종적으로 20으로 계산된다.\n",
    "이유는 덧셈 보다 곱셈의 우선순위가 높기 때문이다.\n",
    "반면에 `(2 + 3) * 6` 처럼 연산자의 우선순위와 다르게 연산을 강요하려면\n",
    "괄호를 사용한다. 그러면 괄호에 의해 `5 * 6`, 즉 30으로 계산된다. \n",
    "\n",
    "또한 `4 - x + 7`와 `2 / x * y` 처럼 우선순위가 동일한 연산자가 연속적으로 사용되었을 경우엔\n",
    "왼쪽에 위치한 연산자부터 계산한다. \n",
    "즉, `4 - x + 7`는 `(4 - x) + 7`로, `2 / x * y`는 `(2 / x) * y` 로 계산된다.\n",
    "`4 - (x + 7)` 또는 `2 / (x * y)` 는 다른 값으로 계산됨에 주의한다."
   ]
  },
  {
   "cell_type": "markdown",
   "metadata": {},
   "source": [
    "### 전위/후위 표기법"
   ]
  },
  {
   "cell_type": "markdown",
   "metadata": {},
   "source": [
    "이처럼 중위 표기법을 사용하는 표현식은 의도된 계산을 명확히 하기 위해 괄호를 사용해야 한다.\n",
    "반면에 **전위 표기법**<font size='2'>prefix notation</font> \n",
    "또는 **후위 표기법**<font size='2'>postfix notation</font>은 괄호를 필요로 하지 않으면서\n",
    "하나의 표현식이 하나의 값만 가리키도록 해준다."
   ]
  },
  {
   "cell_type": "markdown",
   "metadata": {},
   "source": [
    "- 전위 표기법\n",
    "    - 모든 연산자가 모든 피연산자(연산자의 인자)의 왼쪽에 위치\n",
    "    - 피연산자는 연산자 오른쪽에 차례대로 위치\n",
    "- 후위 표기법\n",
    "    - 모든 연산자가 모든 피연산자(연산자의 인자)의 오른쪽에 위치\n",
    "    - 피연산자는 연산자 왼쪽에 차례대로 위치"
   ]
  },
  {
   "cell_type": "markdown",
   "metadata": {},
   "source": [
    "예를 들어 `x + y`를 전위 표기법과 후위 표기법으로 표현하면 다음과 같다.\n",
    "\n",
    "| 중위 표기법 | 전위 표기법 | 후위 표기법 |\n",
    "| :---: | :---: | :---: |\n",
    "| `x + y` | `+ x y` | `x y +` |"
   ]
  },
  {
   "cell_type": "markdown",
   "metadata": {},
   "source": [
    "`x + y * z`의 전위와 후위 표현식은 다음과 같다.\n",
    "\n",
    "| 중위 표기법 | 전위 표기법 | 후위 표기법 |\n",
    "| :---: | :---: | :---: |\n",
    "| `x + y * z` | `+ x * y z` | `x y z * +` |"
   ]
  },
  {
   "cell_type": "markdown",
   "metadata": {},
   "source": [
    "각 표기법으로 변환 과정은 다음과 같다. \n",
    "괄호로 감싸인 표현식은 아직 중위 표기법을 사용한다는 점에 주의한다.\n",
    "\n",
    "- 전위 표기법으로의 변환\n",
    "\n",
    "```\n",
    "x + y * z => (x + (y * z)) => + x (y * z) => x * y z\n",
    "```\n",
    "\n",
    "- 후위 표기법으로의 변환\n",
    "\n",
    "```\n",
    "x + y * z => (x + (y * z)) => x (y * z) + => x y z * +\n",
    "```"
   ]
  },
  {
   "cell_type": "markdown",
   "metadata": {},
   "source": [
    "아래 표는 `(x + y) * z`의 전위와 후위 표현식을 보여준다.\n",
    "\n",
    "| 중위 표기법 | 전위 표기법 | 후위 표기법 |\n",
    "| :---: | :---: | :---: |\n",
    "| `(x + y) * z` | `* + x y z` | `x y + z *` |"
   ]
  },
  {
   "cell_type": "markdown",
   "metadata": {},
   "source": [
    "각 표기법으로 변환 과정은 다음과 같다. \n",
    "괄호로 감싸인 표현식은 아직 중위 표기법을 사용한다는 점에 주의한다.\n",
    "\n",
    "- 전위 표기법으로의 변환\n",
    "\n",
    "```\n",
    "(x + y) * z => ((x + y) * z) => * (x + y) z => * + x y z\n",
    "```\n",
    "\n",
    "- 후위 표기법으로의 변환\n",
    "\n",
    "```\n",
    "(x + y) * z => ((x + y) * z) => (x + y) z * => x y + z *\n",
    "```"
   ]
  },
  {
   "cell_type": "markdown",
   "metadata": {},
   "source": [
    "이처럼 전위 또는 후위 표기법을 사용하면 괄호가 없어도 모든 표현식이 하나의 값만 가리킨다."
   ]
  },
  {
   "cell_type": "markdown",
   "metadata": {},
   "source": [
    "**예제**"
   ]
  },
  {
   "cell_type": "markdown",
   "metadata": {},
   "source": [
    "아래 표에 포함된 보다 복잡한 중위 표현식을 전위와 후위 표현식으로 변환화는 과정을 묘사하면서\n",
    "전위와 후위 표기법에 친숙해지도록 하기를 권장한다.\n",
    "\n",
    "| 중위 표기법 | 전위 표기법 | 후위 표기법 |\n",
    "| :---: | :---: | :---: |\n",
    "| `x + y * z + v` | `+ + x * y z v` | `x y z * + v +` |\n",
    "| `(x + y) * (z + v)` | `* + x y + z v` | `x y + z v + *` |\n",
    "| `x * y + z * v` | `+ * x y * z v` | `x y * z v * +` |\n",
    "| `x + y + z + v` | `+ + + x y z v` | `x y + z + v +` |"
   ]
  },
  {
   "cell_type": "markdown",
   "metadata": {},
   "source": [
    "## 표기법 변환"
   ]
  },
  {
   "cell_type": "markdown",
   "metadata": {},
   "source": [
    "### 괄호를 사용한 중위 표기법 변환"
   ]
  },
  {
   "cell_type": "markdown",
   "metadata": {},
   "source": [
    "`A + B * C` 표현식의 의미는 `(A + (B * C))` 와 동일하다.\n",
    "그리고 `(A + (B * C))`처럼 사용되는 모든 연산자를 대상으로 괄호가 사용된\n",
    "표현식을 전위 또는 후위 표기법으로 변환하는 일은 어렵지 않다.\n",
    "이유는 여는 괄호는 표현식의 시작을 의미하고, \n",
    "바로 옆에는 첫째 피연산자가, 그 다음엔 (중위) 연산자가,\n",
    "그 다음엔 둘째 피연산자가 위치하며,\n",
    "마지막의 닫는 괄호는 표현식의 끝을 의미하기 때문이다.\n",
    "\n",
    "결국 `(B * C)` 와 같은 표현식을 `* B C` 또는 `B C *` 로 변환하는 \n",
    "과정을 반복하기만 하면 아무리 복잡한 표현식이라도 \n",
    "간단하게 전위 또는 후위 표기법으로 변환할 수 있다."
   ]
  },
  {
   "cell_type": "markdown",
   "metadata": {},
   "source": [
    "**예제**\n",
    "\n",
    "`(A + B) * C - (D - E) * (F + G)` 를 전위/후위 표기법으로 표현하는 과정은 다음과 같다."
   ]
  },
  {
   "cell_type": "markdown",
   "metadata": {},
   "source": [
    "<figure>\n",
    "<div align=\"center\"><img src=\"https://runestone.academy/ns/books/published/pythonds3/_images/complexmove.png\" width=\"80%\"></div>\n",
    "</figure>"
   ]
  },
  {
   "cell_type": "markdown",
   "metadata": {},
   "source": [
    "### 표기법 변환 알고리즘"
   ]
  },
  {
   "cell_type": "markdown",
   "metadata": {},
   "source": [
    "중위 표현식을 후위 표현식으로 변환하는 알고리즘을 구현해보자."
   ]
  },
  {
   "cell_type": "markdown",
   "metadata": {},
   "source": [
    "중위 표현식이 앞서 설명한 것처럼 모든 이항 연산에 대해 괄호를 철저하게 사용하였다면 아주 쉽게 변환할 수 있다.\n",
    "하지만 일반적으로는 반드시 필요하지 않은 괄호는 생략하고 연산자의\n",
    "우선순위에 따라 계산되도록 한다. \n",
    "예를 들어, `A + B * C` 는 `A + (B * C)`과 동일하기에 후위 표기법으로 `A B C * +` 로 변환된다."
   ]
  },
  {
   "cell_type": "markdown",
   "metadata": {},
   "source": [
    "중위 표현식을 후위 표현식으로 변환할 때 피연산자의 순서는 그대로 유지되지만\n",
    "연산자의 순서는 연산자의 우선순위와 괄호에 의한 연산자 실행 순서에 의해 달라진다는\n",
    "성질을 이용하여 표기법 변환 알고리즘을 작성한다.\n",
    "\n",
    "- 중위 표현식의 왼쪽에서부터 차례대로 사용된 피연산자와 연산자를 확인한다.\n",
    "- 피연산자가 확인되면 그대로 후위 표기법 표현식에 추가한다.\n",
    "- 연산자의 경우엔 별도로 준비된 스택에 추가한다.\n",
    "    단, 해당 연산자의 우선순위와 괄호의 사용 여부에 따라\n",
    "    먼저 스택을 조작한 다음에 추가한다."
   ]
  },
  {
   "cell_type": "markdown",
   "metadata": {},
   "source": [
    "연산자들을 스택으로 관리하는 이유는 먼저 스택에 추가된 연산자보다 낮은 우선순위의 연산자를\n",
    "만나는 순간 스택에 포함된 보다 높거나 같은 우선순위의 연산자와 관련된 계산을 먼저 실행해야 하기에\n",
    "해당 연산자들을 스택에서 제거해서 바로 후위 표기법의 표현식에 추가할 수 있기 때문이다. \n",
    "또한 `(A + B) * C`의 경우처럼 괄호가 포함되면 여는 괄호도 스택에 추가한다.\n",
    "반면에 닫는 괄호를 만나는 순간 스택에 있는 여는 괄호를 만날 때까지 스택을 비우면서\n",
    "후위 표기법 표현식을 완성해 나간다."
   ]
  },
  {
   "cell_type": "markdown",
   "metadata": {},
   "source": [
    "이런 점들을 고려하면서 알고리즘을 묘사하면 다음과 같다.\n",
    "먼저, 중위 표현식에 사용된 모든 연산자, 피연산, 괄호 등은 모두 공백(space)로\n",
    "구분된 문자열로 주어진다고 가정한다."
   ]
  },
  {
   "cell_type": "markdown",
   "metadata": {},
   "source": [
    "1. 연산자와 여는 괄호를 쌓아 둘 스택 `op_stack`을 준비해 놓는다.\n",
    "   또한 후위 표현식에 사용될 기호를 차례대로 저장할 빈 리스트 `postfix_list`도 준비한다.\n",
    "\n",
    "   ```python\n",
    "   op_stack = Stack()\n",
    "   postfix_list = []\n",
    "   ```\n",
    "\n",
    "1. 문자열로 입력된 중위 표현식을 `split()` 메서드를 이용하여 리스트로 변환한다.\n",
    "\n",
    "1. 리스트의 항목(토큰, token)의 종류에 따라 아래 과정을 처리한다.\n",
    "   - 피연산자인 경우: `postfix_list`에 추가한다.\n",
    "   - 여는 괄호인 경우: `op_stack`에 추가한다.\n",
    "   - 닫는 괄호인 경우: `op_stack`에서 여는 괄호를 만날 때까지 탑을 빼서 `postfix_list`에 추가한다.\n",
    "   - 연산자(`*`, `/`, `+`, `-`)인 경우: `op_stack`에 추가한다. \n",
    "      단, 먼저 `op_stack`으로부터 우선순위가 높거나 같은 연산자를 모두 탑에서 빼서 `postfix_list`에 추가해야 한다.\n",
    "\n",
    "1. 입력된 중위 표현식에 사용된 모든 기호를 처리했다면 `op_stack`에 남아있는 모든 연산자를 빼서\n",
    "   `postfix_list`에 추가한다."
   ]
  },
  {
   "cell_type": "markdown",
   "metadata": {},
   "source": [
    "아래 그림은 `A * B + C * D`를 후위 표기법으로 변환하는 과정을 잘 보여준다."
   ]
  },
  {
   "cell_type": "markdown",
   "metadata": {},
   "source": [
    "<figure>\n",
    "<div align=\"center\"><img src=\"https://runestone.academy/ns/books/published/pythonds3/_images/intopost.png\" width=\"80%\"></div>\n",
    "</figure>"
   ]
  },
  {
   "cell_type": "markdown",
   "metadata": {},
   "source": [
    "위 알고리즘을 파이썬 코드로 구현하기 위해 `Stack` 클래스를 이용한다.\n",
    "후위 표현식으로 변환 알고리즘에서 사용될 연산자들의 우선순위는 `precedence` 이라는 사전으로 관리한다.\n",
    "\n",
    "여는 괄호(`(`)에도 우선순위를 부여한다. 하지만 다른 연산자들에 비해 가장 낮다.\n",
    "이유는 닫는 괄호가 아닌 다른 연산자에 의해 `op_stack`에서 제거되지 않도록 \n",
    "하기 위해서이다. "
   ]
  },
  {
   "cell_type": "code",
   "execution_count": 19,
   "metadata": {},
   "outputs": [],
   "source": [
    "precedence = {'*': 3, '/': 3, '+': 2, '-': 2, '(': 1}"
   ]
  },
  {
   "cell_type": "code",
   "execution_count": 20,
   "metadata": {},
   "outputs": [],
   "source": [
    "def infix_to_postfix(infix_expr):\n",
    "    op_stack = Stack()\n",
    "    postfix_list = []\n",
    "    token_list = infix_expr.split()\n",
    "\n",
    "    for token in token_list:\n",
    "        if token not in '()*/+-':\n",
    "            postfix_list.append(token)\n",
    "        elif token == \"(\":\n",
    "            op_stack.put(token)\n",
    "        elif token == \")\":\n",
    "            top_token = op_stack.get()\n",
    "            while top_token != \"(\":\n",
    "                postfix_list.append(top_token)\n",
    "                top_token = op_stack.get()\n",
    "        else:\n",
    "            while (not op_stack.empty()) and (precedence[op_stack.peek()] >= precedence[token]):\n",
    "                postfix_list.append(op_stack.get())\n",
    "            op_stack.put(token)\n",
    "\n",
    "    while not op_stack.empty():\n",
    "        postfix_list.append(op_stack.get())\n",
    "\n",
    "    return \" \".join(postfix_list)"
   ]
  },
  {
   "cell_type": "markdown",
   "metadata": {},
   "source": [
    "**예제**"
   ]
  },
  {
   "cell_type": "code",
   "execution_count": 21,
   "metadata": {},
   "outputs": [
    {
     "data": {
      "text/plain": [
       "'A B * C D * +'"
      ]
     },
     "execution_count": 21,
     "metadata": {},
     "output_type": "execute_result"
    }
   ],
   "source": [
    "infix_to_postfix(\"A * B + C * D\")"
   ]
  },
  {
   "cell_type": "code",
   "execution_count": 22,
   "metadata": {},
   "outputs": [
    {
     "data": {
      "text/plain": [
       "'A B + C * D E - F G + * -'"
      ]
     },
     "execution_count": 22,
     "metadata": {},
     "output_type": "execute_result"
    }
   ],
   "source": [
    "infix_to_postfix(\"( A + B ) * C - ( D - E ) * ( F + G )\")"
   ]
  },
  {
   "cell_type": "code",
   "execution_count": 23,
   "metadata": {},
   "outputs": [
    {
     "data": {
      "text/plain": [
       "'A B + C D + *'"
      ]
     },
     "execution_count": 23,
     "metadata": {},
     "output_type": "execute_result"
    }
   ],
   "source": [
    "infix_to_postfix(\"( A + B ) * ( C + D )\")"
   ]
  },
  {
   "cell_type": "code",
   "execution_count": 24,
   "metadata": {},
   "outputs": [
    {
     "data": {
      "text/plain": [
       "'A B + C *'"
      ]
     },
     "execution_count": 24,
     "metadata": {},
     "output_type": "execute_result"
    }
   ],
   "source": [
    "infix_to_postfix(\"( A + B ) * C\")"
   ]
  },
  {
   "cell_type": "code",
   "execution_count": 25,
   "metadata": {},
   "outputs": [
    {
     "data": {
      "text/plain": [
       "'A B C * +'"
      ]
     },
     "execution_count": 25,
     "metadata": {},
     "output_type": "execute_result"
    }
   ],
   "source": [
    "infix_to_postfix(\"A + B * C\")"
   ]
  },
  {
   "cell_type": "markdown",
   "metadata": {},
   "source": [
    "## 후위 표기법 표현식 계산"
   ]
  },
  {
   "cell_type": "markdown",
   "metadata": {},
   "source": [
    "후위 표현식을 실제로 계산하는 알고리즘을 스택을 이용하여 구현한다.\n",
    "후위 표현식에서는 연산자보다 피연산자, 즉 연산자의 인자들이 먼저 확인되기에 \n",
    "피연산자들을 스택에 쌓아두고 적절한 연산자가 확인될 때까지 기다리도록 해야 한다.\n",
    "정리하면 다음과 같다.\n",
    "\n",
    "후위 표현식을 계산하기 위해 왼쪽에서 오른쪽으로 표현식에 사용된 기호를 확인한다.\n",
    "확인된 기호의 종류에 따라 다음 과정을 반복 실행한다.\n",
    "\n",
    "- 수: 스택에 추가한다.\n",
    "- 연산자: 스택에서 `get()`을 두 번 실행해서 얻어진 피연산자를 이용해서 연산 실행. 이후 결과를 다시 스택에 쌓는다.\n",
    "\n",
    "표현식의 모든 기호를 확인하면 스택에 하나의 값만 남게 되고 해당 값이 바로 주어진 표현식이 나타내는 값이 된다."
   ]
  },
  {
   "cell_type": "markdown",
   "metadata": {},
   "source": [
    "**예제**"
   ]
  },
  {
   "cell_type": "markdown",
   "metadata": {},
   "source": [
    "후위 표현식 `4 5 6 * +`을 설명된 알고리즘에 따라 계산하는 과정은 아래 그림과 같다."
   ]
  },
  {
   "cell_type": "markdown",
   "metadata": {},
   "source": [
    "<figure>\n",
    "<div align=\"center\"><img src=\"https://runestone.academy/ns/books/published/pythonds3/_images/evalpostfix1.png\" width=\"55%\"></div>\n",
    "</figure>"
   ]
  },
  {
   "cell_type": "markdown",
   "metadata": {},
   "source": [
    "**예제**"
   ]
  },
  {
   "cell_type": "markdown",
   "metadata": {},
   "source": [
    "후위 표현식 `7 8 + 3 2 + /`을 설명된 알고리즘에 따라 계산하는 과정은 아래 그림과 같다."
   ]
  },
  {
   "cell_type": "markdown",
   "metadata": {},
   "source": [
    "<figure>\n",
    "<div align=\"center\"><img src=\"https://runestone.academy/ns/books/published/pythonds3/_images/evalpostfix2.png\" width=\"60%\"></div>\n",
    "</figure>"
   ]
  },
  {
   "cell_type": "markdown",
   "metadata": {},
   "source": [
    "**주의사항**\n",
    "\n",
    "나눗셈과 뺄셈처럼 교환법칙이 성립하지 않은 이항 연산자처럼 첫째, 둘째 인자의 위치가 중요한 경우에는 스택을 활용할 때 조심해야 한다.\n",
    "이유는 표현식을 왼쪽에서부터 확인할 때 첫째 인자가 먼저 스택에 쌓이기에 `get()` 연산을 실행하면 첫째 인자가 나중에 나온다.\n",
    "따라서 `7 8 +`의 결과인 15가 `3 2 +`의 결과인 5 보다 먼저 스택에 쌓이게 되고,\n",
    "최종적으로 `15 5 /`를 계산하기 위해 `get()`을 실행하면 5와 15 순서로 먼저 스택에서 나온다.\n",
    "이때 그냥 바로 나눗셈을 계산하면 `15/5`가 아닌 `5/15`가 계산되어 잘못된 결과를 얻게 된다."
   ]
  },
  {
   "cell_type": "markdown",
   "metadata": {},
   "source": [
    "이점을 고려하면서 후위 표현식 계산 알고리즘을 정리하면 다음과 같다.\n",
    "표현식에 사용된 연산 기호는 `*, /, +, -`로 제한한다.\n",
    "\n",
    "1. `operand_stack` 라는 비어있는 스택을 준비한다.\n",
    "1. 후위 표현식 문자열을 `split()` 메서드를 이용하여 리스트로 변환한다.\n",
    "1. 리스트를 왼쪽에서부터 하나씩 차례대로 확인하면서 확인된 기호의 종류에 다라 아래 과정을 반복한다.\n",
    "   - 피연산자인 경우: 수(number)로 변환한 다음 `operand_stack`에 추가한다.\n",
    "   - `*, /, +, -` 중 하나인 경우: `operand_stack`을 두 번 `get()`한다. \n",
    "      첫번째로 얻어진 값은 둘째 인자로,\n",
    "      두번째로 얻어진 값은 첫째 인자로 지정한다.\n",
    "      두 인자를 이용하여 연산을 실행한 다음\n",
    "      계산된 값을 다시 `operand_stack`에 추가한다.\n",
    "1. 리스트의 모든 항목을 확인한 다음에 `operand_stack`에 납아있는 유일한 값을 주어진 표현식을 계산한 값으로 사용한다."
   ]
  },
  {
   "cell_type": "markdown",
   "metadata": {},
   "source": [
    "위 알고리즘을 파이썬으로 구현한 코드는 다음과 같다.\n",
    "`do_math()` 함수는 연산자와 두 개의 피연산자가 주어졌을 때 해당 연산을 실행한다."
   ]
  },
  {
   "cell_type": "code",
   "execution_count": 26,
   "metadata": {},
   "outputs": [],
   "source": [
    "def do_math(op, op1, op2):\n",
    "    if op == \"*\":\n",
    "        return op1 * op2\n",
    "    elif op == \"/\":\n",
    "        return op1 / op2\n",
    "    elif op == \"+\":\n",
    "        return op1 + op2\n",
    "    else:\n",
    "        return op1 - op2"
   ]
  },
  {
   "cell_type": "code",
   "execution_count": 27,
   "metadata": {},
   "outputs": [],
   "source": [
    "def postfix_eval(postfix_expr):\n",
    "    operand_stack = Stack()\n",
    "    token_list = postfix_expr.split()\n",
    "    print(operand_stack)\n",
    "\n",
    "    for token in token_list:\n",
    "        if token not in '*/+-':\n",
    "            operand_stack.put(int(token))\n",
    "        else:\n",
    "            operand2 = operand_stack.get()\n",
    "            operand1 = operand_stack.get()\n",
    "            result = do_math(token, operand1, operand2)\n",
    "            operand_stack.put(result)\n",
    "        print(operand_stack)\n",
    "\n",
    "    return operand_stack.get()"
   ]
  },
  {
   "cell_type": "code",
   "execution_count": 28,
   "metadata": {},
   "outputs": [
    {
     "name": "stdout",
     "output_type": "stream",
     "text": [
      "<[]>\n",
      "<[7]>\n",
      "<[7, 8]>\n",
      "<[15]>\n",
      "<[15, 3]>\n",
      "<[15, 3, 2]>\n",
      "<[15, 5]>\n",
      "<[3.0]>\n"
     ]
    },
    {
     "data": {
      "text/plain": [
       "3.0"
      ]
     },
     "execution_count": 28,
     "metadata": {},
     "output_type": "execute_result"
    }
   ],
   "source": [
    "postfix_eval(\"7 8 + 3 2 + /\")"
   ]
  },
  {
   "cell_type": "markdown",
   "metadata": {},
   "source": [
    "`infix_to_postfix()` 함수의 표기법 변환이 제대로 작동함을 다시 한 번 다음과 같이 확인할 수 있다."
   ]
  },
  {
   "cell_type": "code",
   "execution_count": 29,
   "metadata": {},
   "outputs": [
    {
     "name": "stdout",
     "output_type": "stream",
     "text": [
      "<[]>\n",
      "<[7]>\n",
      "<[7, 8]>\n",
      "<[15]>\n",
      "<[15, 3]>\n",
      "<[15, 3, 2]>\n",
      "<[15, 5]>\n",
      "<[3.0]>\n"
     ]
    },
    {
     "data": {
      "text/plain": [
       "3.0"
      ]
     },
     "execution_count": 29,
     "metadata": {},
     "output_type": "execute_result"
    }
   ],
   "source": [
    "postfix_eval(infix_to_postfix(\"( 7 + 8 ) / ( 3 + 2 )\"))"
   ]
  },
  {
   "cell_type": "markdown",
   "metadata": {},
   "source": [
    "## 표현식 변환 문제"
   ]
  },
  {
   "cell_type": "markdown",
   "metadata": {},
   "source": [
    "중위 표현식이 다음과 같이 주어졌다.\n",
    "\n",
    "- `(A+B)*(C+D)*(E+F)`\n",
    "- `A+((B+C)*(D+E))`\n",
    "- `A*B*C*D+E+F`"
   ]
  },
  {
   "cell_type": "markdown",
   "metadata": {},
   "source": [
    "**문제 1**"
   ]
  },
  {
   "cell_type": "markdown",
   "metadata": {},
   "source": [
    "`infix_to_postfix()` 함수를 이용하지 않고 직접 위 세 개의 중위 표현식을 전위 표현식으로 변환하라."
   ]
  },
  {
   "cell_type": "markdown",
   "metadata": {},
   "source": [
    "**문제 2**"
   ]
  },
  {
   "cell_type": "markdown",
   "metadata": {},
   "source": [
    "`infix_to_postfix()` 함수를 이용하지 않고 직접 위 세 개의 중위 표현식을 후위 표현식으로 변환하라."
   ]
  },
  {
   "cell_type": "markdown",
   "metadata": {},
   "source": [
    "**문제 3**"
   ]
  },
  {
   "cell_type": "markdown",
   "metadata": {},
   "source": [
    "위 세 개의 중위 표현식에 대해 `infix_to_postfix()` 함수를 이용하여 후위 표현식으로 변환되는 과정을 설명하라."
   ]
  },
  {
   "cell_type": "markdown",
   "metadata": {},
   "source": [
    "**문제 4**"
   ]
  },
  {
   "cell_type": "markdown",
   "metadata": {},
   "source": [
    "거듭제곱 연산자(`**`)가 사용된 중위 표현식도 후위 표현식으로 \n",
    "변환하도록 `infix_to_postfix()` 함수를 수정하라.\n",
    "단, 아래 코드의 주석을 해제한 후 실행할 때 오류가 발생하지 않아야 한다.\n",
    "\n",
    "힌트: 거듭제곱 연산자(`**`)의 우선순위가 가장 높다."
   ]
  },
  {
   "cell_type": "code",
   "execution_count": null,
   "metadata": {},
   "outputs": [],
   "source": [
    "# pass 명령문을 적절한 코드로 대체하라.\n",
    "\n",
    "def infix_to_postfix(infix_expr):\n",
    "    pass"
   ]
  },
  {
   "cell_type": "code",
   "execution_count": null,
   "metadata": {},
   "outputs": [],
   "source": [
    "# 아래 주석을 해제하고 실행할 때 오류가 발생하지 않아야 한다.\n",
    "\n",
    "# assert (infix_to_postfix('5 * 3 ** ( 4 - 2 )') == '5 3 4 2 - ** *')"
   ]
  },
  {
   "cell_type": "markdown",
   "metadata": {},
   "source": [
    "## 후위 표현식 계산 문제"
   ]
  },
  {
   "cell_type": "markdown",
   "metadata": {},
   "source": [
    "**문제 1**"
   ]
  },
  {
   "cell_type": "markdown",
   "metadata": {},
   "source": [
    "다음 후위 표현식이 가리키는 값을 손으로 직접 계산한 후에 \n",
    "`postfix_eval()` 함수의 결과와 비교하라.\n",
    "\n",
    "- `2 3 / 4 +`\n",
    "- `1 2 + 3 + 4 + 5 +`\n",
    "- `1 2 3 4 5 * + * +`\n",
    "- `17 10 + 3 * 9 /`"
   ]
  },
  {
   "cell_type": "markdown",
   "metadata": {},
   "source": [
    "## 변환 및 계산 알고리즘 일반화 문제"
   ]
  },
  {
   "cell_type": "markdown",
   "metadata": {},
   "source": [
    "`infix_to_postfix()`와 `postfix_eval()` 두 함수는 모두 입력 표현식이 어떤 오류도\n",
    "포함하고 있지 않은 경우에만 잘 작동한다. \n",
    "하지만 적절하지 않은 표현식이 입력되더라도 처리할 수 있는 기능이 요구된다."
   ]
  },
  {
   "cell_type": "markdown",
   "metadata": {},
   "source": [
    "**문제 1**"
   ]
  },
  {
   "cell_type": "markdown",
   "metadata": {},
   "source": [
    "아래 예제처럼 괄호의 짝이 맞지 않거나 연산자와 피연산자 사이에 공백이 사용되지 않은\n",
    "표현식에 대해 `infix_to_postfix()` 함수를 실행하면 오류가 발생한다.\n",
    "\n",
    "- `( 3 + 4 * 5`\n",
    "- `( 3+ 4 ) * 5`\n",
    "- `(3 + 4 ) * 5`"
   ]
  },
  {
   "cell_type": "markdown",
   "metadata": {},
   "source": [
    "`infix_to_postfix()` 함수의 입력값이 제대로 작성된 중위 표현식이 아닌 경우 오류의 발생원인을 알려주도록 수정하라."
   ]
  },
  {
   "cell_type": "code",
   "execution_count": null,
   "metadata": {},
   "outputs": [],
   "source": [
    "# 아래 코드의 주석을 해제한 후에 실행하면 오류 발생원인을 알 수 있어야 한다.\n",
    "\n",
    "# infix_to_postfix('( 3 + 4 * 5')"
   ]
  },
  {
   "cell_type": "code",
   "execution_count": null,
   "metadata": {},
   "outputs": [],
   "source": [
    "# 아래 코드의 주석을 해제한 후에 실행하면 오류 발생원인을 알 수 있어야 한다.\n",
    "\n",
    "# infix_to_postfix('( 3+ 4 ) * 5')"
   ]
  },
  {
   "cell_type": "code",
   "execution_count": null,
   "metadata": {},
   "outputs": [],
   "source": [
    "# 아래 코드의 주석을 해제한 후에 실행하면 오류 발생원인을 알 수 있어야 한다.\n",
    "\n",
    "# infix_to_postfix('(3 + 4 ) * 5')"
   ]
  },
  {
   "cell_type": "markdown",
   "metadata": {},
   "source": [
    "**문제 2**"
   ]
  },
  {
   "cell_type": "markdown",
   "metadata": {},
   "source": [
    "아래 예제와 같이 오류가 있는 후위 표현식에 대해 \n",
    "`postfix_eval()` 함수를 실행하면 오류가 발생한다.\n",
    "\n",
    "- `7 8 3 2 + /`\n",
    "- `7 8 + 3 2 +`\n",
    "- `7 8 + 3 + /`"
   ]
  },
  {
   "cell_type": "markdown",
   "metadata": {},
   "source": [
    "`postfix_eval()` 함수의 입력값이 제대로 작성된 중위 표현식이 아닌 경우 오류의 발생원인을 알려주도록 수정하라."
   ]
  },
  {
   "cell_type": "code",
   "execution_count": null,
   "metadata": {},
   "outputs": [],
   "source": [
    "# 아래 코드의 주석을 해제한 후에 실행하면 오류 발생원인을 알 수 있어야 한다.\n",
    "\n",
    "# postfix_eval('7 8 3 2 + /')"
   ]
  },
  {
   "cell_type": "code",
   "execution_count": 2,
   "metadata": {},
   "outputs": [],
   "source": [
    "# 아래 코드의 주석을 해제한 후에 실행하면 오류 발생원인을 알 수 있어야 한다.\n",
    "\n",
    "# postfix_eval('7 8 + 3 2 +')"
   ]
  },
  {
   "cell_type": "code",
   "execution_count": 3,
   "metadata": {},
   "outputs": [],
   "source": [
    "# 아래 코드의 주석을 해제한 후에 실행하면 오류 발생원인을 알 수 있어야 한다.\n",
    "\n",
    "# postfix_eval('7 8 + 3 + /')"
   ]
  },
  {
   "cell_type": "markdown",
   "metadata": {},
   "source": [
    "**문제 3**"
   ]
  },
  {
   "cell_type": "markdown",
   "metadata": {},
   "source": [
    "`infix_to_postfix()`와 `postfix_eval()` 함수에 사용된 알고리즘을 \n",
    "조합하여 중위 표현식을 바로 계산하는 `infix_eval()` 함수를 구현하라.\n",
    "\n",
    "힌트: 연산자 저장을 위해, 그리고 피연산자 저장을 위해 두 개의 스택을 활용한다."
   ]
  },
  {
   "cell_type": "markdown",
   "metadata": {},
   "source": [
    "## 전위 표현식으로의 변환 및 계산 문제"
   ]
  },
  {
   "cell_type": "markdown",
   "metadata": {},
   "source": [
    "**문제 1**"
   ]
  },
  {
   "cell_type": "markdown",
   "metadata": {},
   "source": [
    "중위 표현식을 전위 표현식으로 변환하는 알고리즘과 전위 표현식을 계산하는 알고리즘을 스택을 이용하여 구현하라.\n",
    "\n",
    "참고: [https://www.free-online-calculator-use.com/infix-to-prefix-converter.html](https://www.free-online-calculator-use.com/infix-to-prefix-converter.html)"
   ]
  }
 ],
 "metadata": {
  "kernelspec": {
   "display_name": "Python 3 (ipykernel)",
   "language": "python",
   "name": "python3"
  },
  "language_info": {
   "codemirror_mode": {
    "name": "ipython",
    "version": 3
   },
   "file_extension": ".py",
   "mimetype": "text/x-python",
   "name": "python",
   "nbconvert_exporter": "python",
   "pygments_lexer": "ipython3",
   "version": "3.12.2"
  },
  "vscode": {
   "interpreter": {
    "hash": "ad0f3c8a064f687cbf898a0868fd45ba1c7e928ac8a0404f7c241d812ddc1e76"
   }
  }
 },
 "nbformat": 4,
 "nbformat_minor": 2
}
