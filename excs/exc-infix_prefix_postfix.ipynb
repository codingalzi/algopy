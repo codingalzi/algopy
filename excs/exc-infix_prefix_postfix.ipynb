{
 "cells": [
  {
   "cell_type": "markdown",
   "metadata": {},
   "source": [
    "# (실습) 중위, 전위, 후위 표기법"
   ]
  },
  {
   "cell_type": "markdown",
   "metadata": {},
   "source": [
    "## 표현식 변환"
   ]
  },
  {
   "cell_type": "markdown",
   "metadata": {},
   "source": [
    "중위 표현식이 다음과 같이 주어졌다.\n",
    "\n",
    "- `(A+B)*(C+D)*(E+F)`\n",
    "- `A+((B+C)*(D+E))`\n",
    "- `A*B*C*D+E+F`"
   ]
  },
  {
   "cell_type": "markdown",
   "metadata": {},
   "source": [
    "**문제 1**"
   ]
  },
  {
   "cell_type": "markdown",
   "metadata": {},
   "source": [
    "`infix_to_postfix()` 함수를 이용하지 않고 직접 위 세 개의 중위 표현식을 전위 표현식으로 변환하라."
   ]
  },
  {
   "cell_type": "markdown",
   "metadata": {},
   "source": [
    "**문제 2**"
   ]
  },
  {
   "cell_type": "markdown",
   "metadata": {},
   "source": [
    "`infix_to_postfix()` 함수를 이용하지 않고 직접 위 세 개의 중위 표현식을 후위 표현식으로 변환하라."
   ]
  },
  {
   "cell_type": "markdown",
   "metadata": {},
   "source": [
    "**문제 3**"
   ]
  },
  {
   "cell_type": "markdown",
   "metadata": {},
   "source": [
    "위 세 개의 중위 표현식에 대해 `infix_to_postfix()` 함수를 이용하여 후위 표현식으로 변환되는 과정을 설명하라."
   ]
  },
  {
   "cell_type": "markdown",
   "metadata": {},
   "source": [
    "**문제 4**"
   ]
  },
  {
   "cell_type": "markdown",
   "metadata": {},
   "source": [
    "거듭제곱 연산자(`**`)가 사용된 중위 표현식도 후위 표현식으로 \n",
    "변환하도록 `infix_to_postfix()` 함수를 수정하라.\n",
    "단, 아래 코드의 주석을 해제한 후 실행할 때 오류가 발생하지 않아야 한다.\n",
    "\n",
    "힌트: 거듭제곱 연산자(`**`)의 우선순위가 가장 높다."
   ]
  },
  {
   "cell_type": "code",
   "execution_count": null,
   "metadata": {},
   "outputs": [],
   "source": [
    "# pass 명령문을 적절한 코드로 대체하라.\n",
    "\n",
    "def infix_to_postfix(infix_expr):\n",
    "    pass"
   ]
  },
  {
   "cell_type": "code",
   "execution_count": null,
   "metadata": {},
   "outputs": [],
   "source": [
    "# 아래 주석을 해제하고 실행할 때 오류가 발생하지 않아야 한다.\n",
    "\n",
    "# assert (infix_to_postfix('5 * 3 ** ( 4 - 2 )') == '5 3 * 4 2 - **')"
   ]
  },
  {
   "cell_type": "markdown",
   "metadata": {},
   "source": [
    "## 후위 표현식 계산"
   ]
  },
  {
   "cell_type": "markdown",
   "metadata": {},
   "source": [
    "**문제 1**"
   ]
  },
  {
   "cell_type": "markdown",
   "metadata": {},
   "source": [
    "다음 후위 표현식이 가리키는 값을 손으로 직접 계산한 후에 \n",
    "`postfix_eval()` 함수의 결과와 비교하라.\n",
    "\n",
    "- `2 3 \\ 4 +`\n",
    "- `1 2 + 3 + 4 + 5 +`\n",
    "- `1 2 3 4 5 * + * +`\n",
    "- `17 10 + 3 * 9 /`"
   ]
  },
  {
   "cell_type": "markdown",
   "metadata": {},
   "source": [
    "## 변환 및 계산 알고리즘 일반화"
   ]
  },
  {
   "cell_type": "markdown",
   "metadata": {},
   "source": [
    "`infix_to_postfix()`와 `postfix_eval()` 두 함수는 모두 입력 표현식이 어떤 오류도\n",
    "포함하고 있지 않은 경우에만 잘 작동한다. \n",
    "하지만 적절하지 않은 표현식이 입력되더라도 처리할 수 있는 기능이 요구된다."
   ]
  },
  {
   "cell_type": "markdown",
   "metadata": {},
   "source": [
    "**문제 1**"
   ]
  },
  {
   "cell_type": "markdown",
   "metadata": {},
   "source": [
    "아래 예제처럼 괄호의 짝이 맞지 않거나 연산자와 피연산자 사이에 공백이 사용되지 않은\n",
    "표현식에 대해 `infix_to_postfix()` 함수를 실행하면 오류가 발생한다.\n",
    "\n",
    "- `( 3 + 4 * 5`\n",
    "- `( 3+ 4 ) * 5`\n",
    "- `(3 + 4 ) * 5`"
   ]
  },
  {
   "cell_type": "markdown",
   "metadata": {},
   "source": [
    "`infix_to_postfix()` 함수의 입력값이 제대로 작성된 중위 표현식이 아닌 경우 오류의 발생원인을 알려주도록 수정하라."
   ]
  },
  {
   "cell_type": "code",
   "execution_count": null,
   "metadata": {},
   "outputs": [],
   "source": [
    "# 아래 코드의 주석을 해제한 후에 실행하면 오류 발생원인을 알 수 있어야 한다.\n",
    "\n",
    "# infix_to_postfix('( 3 + 4 * 5')"
   ]
  },
  {
   "cell_type": "code",
   "execution_count": null,
   "metadata": {},
   "outputs": [],
   "source": [
    "# 아래 코드의 주석을 해제한 후에 실행하면 오류 발생원인을 알 수 있어야 한다.\n",
    "\n",
    "# infix_to_postfix('( 3+ 4 ) * 5')"
   ]
  },
  {
   "cell_type": "code",
   "execution_count": null,
   "metadata": {},
   "outputs": [],
   "source": [
    "# 아래 코드의 주석을 해제한 후에 실행하면 오류 발생원인을 알 수 있어야 한다.\n",
    "\n",
    "# infix_to_postfix('(3 + 4 ) * 5')"
   ]
  },
  {
   "cell_type": "markdown",
   "metadata": {},
   "source": [
    "**문제 2**"
   ]
  },
  {
   "cell_type": "markdown",
   "metadata": {},
   "source": [
    "아래 예제와 같이 오류가 있는 후위 표현식에 대해 \n",
    "`postfix_eval()` 함수를 실행하면 오류가 발생한다.\n",
    "\n",
    "- `7 8 3 2 + /`\n",
    "- `7 8 + 3 2 +`\n",
    "- `7 8 + 3 + /`"
   ]
  },
  {
   "cell_type": "markdown",
   "metadata": {},
   "source": [
    "`postfix_eval()` 함수의 입력값이 제대로 작성된 중위 표현식이 아닌 경우 오류의 발생원인을 알려주도록 수정하라."
   ]
  },
  {
   "cell_type": "code",
   "execution_count": null,
   "metadata": {},
   "outputs": [],
   "source": [
    "# 아래 코드의 주석을 해제한 후에 실행하면 오류 발생원인을 알 수 있어야 한다.\n",
    "\n",
    "# postfix_eval('7 8 3 2 + /')"
   ]
  },
  {
   "cell_type": "code",
   "execution_count": 2,
   "metadata": {},
   "outputs": [],
   "source": [
    "# 아래 코드의 주석을 해제한 후에 실행하면 오류 발생원인을 알 수 있어야 한다.\n",
    "\n",
    "# postfix_eval('7 8 + 3 2 +')"
   ]
  },
  {
   "cell_type": "code",
   "execution_count": 3,
   "metadata": {},
   "outputs": [],
   "source": [
    "# 아래 코드의 주석을 해제한 후에 실행하면 오류 발생원인을 알 수 있어야 한다.\n",
    "\n",
    "# postfix_eval('7 8 + 3 + /')"
   ]
  },
  {
   "cell_type": "markdown",
   "metadata": {},
   "source": [
    "**문제 3**"
   ]
  },
  {
   "cell_type": "markdown",
   "metadata": {},
   "source": [
    "`infix_to_postfix()`와 `postfix_eval()` 함수에 사용된 알고리즘을 \n",
    "조합하여 중위 표현식을 바로 계산하는 `infix_eval()` 함수를 구현하라.\n",
    "\n",
    "힌트: 연산자 저장을 위해, 그리고 피연산자 저장을 위해 두 개의 스택을 활용한다."
   ]
  },
  {
   "cell_type": "markdown",
   "metadata": {},
   "source": [
    "## 전위 표현식으로의 변환 및 계산"
   ]
  },
  {
   "cell_type": "markdown",
   "metadata": {},
   "source": [
    "**문제 1**"
   ]
  },
  {
   "cell_type": "markdown",
   "metadata": {},
   "source": [
    "중위 표현식을 전위 표현식으로 변환하는 알고리즘과 전위 표현식을 계산하는 알고리즘을 스택을 이용하여 구현하라.\n",
    "\n",
    "참고: [https://www.free-online-calculator-use.com/infix-to-prefix-converter.html](https://www.free-online-calculator-use.com/infix-to-prefix-converter.html)"
   ]
  }
 ],
 "metadata": {
  "kernelspec": {
   "display_name": "Python 3.9.12 ('base')",
   "language": "python",
   "name": "python3"
  },
  "language_info": {
   "codemirror_mode": {
    "name": "ipython",
    "version": 3
   },
   "file_extension": ".py",
   "mimetype": "text/x-python",
   "name": "python",
   "nbconvert_exporter": "python",
   "pygments_lexer": "ipython3",
   "version": "3.9.12"
  },
  "orig_nbformat": 4,
  "vscode": {
   "interpreter": {
    "hash": "ad0f3c8a064f687cbf898a0868fd45ba1c7e928ac8a0404f7c241d812ddc1e76"
   }
  }
 },
 "nbformat": 4,
 "nbformat_minor": 2
}
