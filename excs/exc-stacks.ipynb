{
 "cells": [
  {
   "cell_type": "markdown",
   "metadata": {},
   "source": [
    "# (실습) 스택"
   ]
  },
  {
   "cell_type": "markdown",
   "metadata": {},
   "source": [
    "**문제 1**"
   ]
  },
  {
   "cell_type": "markdown",
   "metadata": {},
   "source": [
    "아래 `Stack` 클래스와 `queue.LifoQueue` 클래스로 구현된 스택의 \n",
    "성능을 비교하고자 한다."
   ]
  },
  {
   "cell_type": "code",
   "execution_count": null,
   "metadata": {},
   "outputs": [],
   "source": [
    "class Stack:\n",
    "    \"\"\"리스트를 활용한 스택 구현\"\"\"\n",
    "\n",
    "    def __init__(self, maxsize=0):\n",
    "        \"\"\"새로운 스택 생성\"\"\"\n",
    "        self.maxsize = maxsize\n",
    "        self._items = []\n",
    "\n",
    "    def __repr__(self):\n",
    "        \"\"\"스택 표기법: <[1, 2, 3]> 등등\"\"\"\n",
    "        return f\"<{self._items}>\"\n",
    "        \n",
    "    def empty(self):\n",
    "        \"\"\"비었는지 여부 확인\"\"\"\n",
    "        return not bool(self._items)\n",
    "\n",
    "    def full(self):\n",
    "        \"\"\"maxsize 충족 여부 확인\"\"\"\n",
    "        if self.maxsize <= 0:\n",
    "            return False\n",
    "        elif self.qsize() == self.maxsize:\n",
    "            return True\n",
    "        else:\n",
    "            return False\n",
    "\n",
    "    def put(self, item):\n",
    "        \"\"\"새 항목 추가\"\"\"\n",
    "        if self.full() == True:\n",
    "            self.get()\n",
    "            \n",
    "        self._items.append(item)\n",
    "\n",
    "    def get(self):\n",
    "        \"\"\"항목 제거\"\"\"\n",
    "        return self._items.pop()\n",
    "\n",
    "    def peek(self):\n",
    "        \"\"\"비어 있지 않은 경우 탑 항목 반환\"\"\"\n",
    "        if not self.empty():\n",
    "            return self._items[-1]\n",
    "        else:\n",
    "            print(\"스택이 비어 있어요!\")\n",
    "\n",
    "    def qsize(self):\n",
    "        \"\"\"항목 개수 반환\"\"\"\n",
    "        return len(self._items)"
   ]
  },
  {
   "cell_type": "markdown",
   "metadata": {},
   "source": [
    "자신의 컴퓨터로 아래 두 코드가 각각 3분 이내로 실행되도록 하는 `num1`과 `num2`의 최댓값을 확인하여 어떤 차이가 왜 발생하는가를 설명하라."
   ]
  },
  {
   "cell_type": "code",
   "execution_count": null,
   "metadata": {},
   "outputs": [],
   "source": [
    "import time\n",
    "\n",
    "num1 = 100000\n",
    "\n",
    "s1 = Stack()\n",
    "\n",
    "start = time.time()\n",
    "\n",
    "for item in range(num1):\n",
    "    s1.put(item)\n",
    "\n",
    "end = time.time()\n",
    "\n",
    "print(f\"{num1}개 항목 추가에 걸리는 시간: {end - start}\")"
   ]
  },
  {
   "cell_type": "code",
   "execution_count": null,
   "metadata": {},
   "outputs": [],
   "source": [
    "import time\n",
    "from queue import LifoQueue\n",
    "\n",
    "num1 = 100000\n",
    "\n",
    "s1 = LifoQueue()\n",
    "\n",
    "start = time.time()\n",
    "\n",
    "for item in range(num1):\n",
    "    s1.put(item)\n",
    "\n",
    "end = time.time()\n",
    "\n",
    "print(f\"{num1}개 항목 추가에 걸리는 시간: {end - start}\")"
   ]
  },
  {
   "cell_type": "markdown",
   "metadata": {},
   "source": [
    "**문제 2**"
   ]
  },
  {
   "cell_type": "markdown",
   "metadata": {},
   "source": [
    "주어진 문자열에 포함된 문자를 거꾸로 갖는 문자열을 생성하는 함수 `rev_string(my_str)`를\n",
    "스택을 이용하여 구현하라.\n",
    "\n",
    "**힌트**: [스택 설명 동영상](https://www.youtube.com/watch?v=fZtLSM7k_54&ab_channel=RunestoneInteractive) 참고"
   ]
  },
  {
   "cell_type": "code",
   "execution_count": null,
   "metadata": {},
   "outputs": [],
   "source": [
    "# pass 명령문을 적절한 코드로 대체하라.\n",
    "\n",
    "def rev_string(my_str):\n",
    "    pass"
   ]
  },
  {
   "cell_type": "markdown",
   "metadata": {},
   "source": [
    "아래 코드의 주석을 해제한 후에 오류가 발생하지 않아야 한다."
   ]
  },
  {
   "cell_type": "code",
   "execution_count": null,
   "metadata": {},
   "outputs": [],
   "source": [
    "# assert rev_string('honey') == 'yenoh'\n",
    "# assert rev_string('hello world3') == '3dlrow olleh'"
   ]
  },
  {
   "cell_type": "markdown",
   "metadata": {},
   "source": [
    "**문제 3**"
   ]
  },
  {
   "cell_type": "markdown",
   "metadata": {},
   "source": [
    "HTML 문서에 사용되는 태그(tag)는 아래 예제에서처럼 여는 형식과 닫는 형식의 짝이 맞아야 한다. \n",
    "\n",
    "```html\n",
    "<html>\n",
    "  <head>\n",
    "     <title>\n",
    "        문제해결 알고리즘\n",
    "     </title>\n",
    "  </head>\n",
    "\n",
    "  <body>\n",
    "     <h1>스택 자료형</h1>\n",
    "  </body>\n",
    "</html>\n",
    "```\n",
    "\n",
    "HTML 문서를 대상으로 태그 짝맞추기 여부를 판별하는 함수를 구현하라."
   ]
  },
  {
   "cell_type": "code",
   "execution_count": null,
   "metadata": {},
   "outputs": [],
   "source": [
    "# pass 명령문을 적절한 코드로 대체하라.\n",
    "\n",
    "def tag_pairing(html_string):\n",
    "    pass"
   ]
  },
  {
   "cell_type": "code",
   "execution_count": null,
   "metadata": {},
   "outputs": [],
   "source": [
    "html_exp = \\\n",
    "\"\"\"<html>\n",
    "  <head>\n",
    "     <title>\n",
    "        문제해결 알고리즘\n",
    "     </title>\n",
    "  </head>\n",
    "\n",
    "  <body>\n",
    "     <h1>스택 자료형</h1>\n",
    "  </body>\n",
    "</html>\"\"\""
   ]
  },
  {
   "cell_type": "markdown",
   "metadata": {},
   "source": [
    "아래 코드의 주석을 해제한 후에 오류가 발생하지 않아야 한다."
   ]
  },
  {
   "cell_type": "code",
   "execution_count": null,
   "metadata": {},
   "outputs": [],
   "source": [
    "# assert tag_pairing(html_exp) == True"
   ]
  },
  {
   "cell_type": "markdown",
   "metadata": {},
   "source": [
    "**문제 4**"
   ]
  },
  {
   "cell_type": "markdown",
   "metadata": {},
   "source": [
    "타인의 비밀번호를 훔치기 위해 키보드의 모든 입력값을 기록하는 키로거(keylogger)를 구현하려 한다.\n",
    "키보드로 입력할 수 있는 키는 영어 알파벳 대문자, 소문자, 숫자, 백스페이스, 화살표로 제한된다.\n",
    "백스페이스와 화살표가 키로거에 기록되는 기호는 다음과 같다.\n",
    "\n",
    "| 키(key) | 키로거 기호 | 의미 |\n",
    "| :---: | :---: | :---: |\n",
    "| 백스페이스 | `-` | 마지막 입력 키 삭제 |\n",
    "| 왼쪽 화살표 | `<` | 커서 왼쪽으로 한 칸 이동 |\n",
    "| 오른쪽 화살표 | `>` | 커서 오른쪽으로 한 칸 이동 |"
   ]
  },
  {
   "cell_type": "markdown",
   "metadata": {},
   "source": [
    "예를 들어 키로거에 저장된 문자열과 실제 비밀번호는 다음과 같다.\n",
    "\n",
    "| 키로거 문자열 | 비밀번호 |\n",
    "| :---: | :---: |\n",
    "| `<<<BC<A>KS-` | `BACK`|\n",
    "| `psw<<a>>>-sword` | `password` |\n",
    "| `python3` | `python3` |"
   ]
  },
  {
   "cell_type": "markdown",
   "metadata": {},
   "source": [
    "주어진 키로거 문자열에서 실제 비밀번호를 찾아 반환하는 함수 `decode_keys()` 함수를 구현하라."
   ]
  },
  {
   "cell_type": "code",
   "execution_count": null,
   "metadata": {},
   "outputs": [],
   "source": [
    "# pass 명령문을 적절한 코드로 구현하라.\n",
    "\n",
    "def decode_keys(keylogger):\n",
    "    pass"
   ]
  },
  {
   "cell_type": "markdown",
   "metadata": {},
   "source": [
    "아래 코드의 주석을 해제하고 실행했을 때 오류가 발생하지 않아야 한다."
   ]
  },
  {
   "cell_type": "code",
   "execution_count": null,
   "metadata": {},
   "outputs": [],
   "source": [
    "# assert decode_keys('<<<BC<A>KS-') == 'BACK'\n",
    "# assert decode_keys('psw<<a>>>-sword') == 'password'\n",
    "# assert decode_keys('python3') == 'python3'"
   ]
  }
 ],
 "metadata": {
  "kernelspec": {
   "display_name": "Python 3 (ipykernel)",
   "language": "python",
   "name": "python3"
  },
  "language_info": {
   "codemirror_mode": {
    "name": "ipython",
    "version": 3
   },
   "file_extension": ".py",
   "mimetype": "text/x-python",
   "name": "python",
   "nbconvert_exporter": "python",
   "pygments_lexer": "ipython3",
   "version": "3.11.4"
  },
  "vscode": {
   "interpreter": {
    "hash": "ad0f3c8a064f687cbf898a0868fd45ba1c7e928ac8a0404f7c241d812ddc1e76"
   }
  }
 },
 "nbformat": 4,
 "nbformat_minor": 4
}
