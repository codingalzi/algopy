{
 "cells": [
  {
   "cell_type": "markdown",
   "metadata": {},
   "source": [
    "# (실습) 스택"
   ]
  },
  {
   "cell_type": "markdown",
   "metadata": {},
   "source": [
    "**스택 자료구조 정의**"
   ]
  },
  {
   "cell_type": "code",
   "execution_count": 1,
   "metadata": {},
   "outputs": [],
   "source": [
    "class Queue:\n",
    "    def __init__(self, maxsize=0):\n",
    "        \"\"\"\n",
    "        - 새로운 큐 생성\n",
    "        - maxsize: 최대 항목 수. 0은 무한대 의미.\n",
    "        - 저장 방식은 자식 클래스가 지정해야 함.\n",
    "        \"\"\"\n",
    "        raise NotImplementedError(\n",
    "            \"\"\"아래 두 변수 구현 필요\n",
    "            self._maxsize=maxsize\n",
    "            self._container=비어 있는 모음 객체. 항목 저장.\n",
    "            \"\"\")\n",
    "    \n",
    "    def qsize(self):\n",
    "        \"\"\"항목 수 반환\"\"\"\n",
    "        return len(self._container)\n",
    "    \n",
    "    def empty(self):\n",
    "        \"\"\"비었는지 여부 확인\"\"\"\n",
    "        return not self._container\n",
    "\n",
    "    def full(self):\n",
    "        \"\"\"_maxsize 충족 여부 확인\"\"\"\n",
    "\n",
    "        if self._maxsize <= 0:\n",
    "            return False\n",
    "        elif self.qsize() < self._maxsize:\n",
    "            return False\n",
    "        else:\n",
    "            return True            \n",
    "\n",
    "    def put(self, item):\n",
    "        \"\"\"항목 추가\"\"\"\n",
    "        raise NotImplementedError\n",
    "\n",
    "    def get(self):\n",
    "        \"\"\"항목 삭제\"\"\"\n",
    "        raise NotImplementedError"
   ]
  },
  {
   "cell_type": "code",
   "execution_count": 3,
   "metadata": {},
   "outputs": [],
   "source": [
    "class Stack(Queue):\n",
    "    def __init__(self, maxsize=0):\n",
    "        \"\"\"\n",
    "        - 새로운 스택 생성\n",
    "        - _maxsize: 최대 항목 수. 0은 무한대 의미.\n",
    "        - _container: 항목 저장 장치. list 활용\n",
    "        \"\"\"\n",
    "        self._maxsize = maxsize\n",
    "        self._container = list() # 비어있는 리스트\n",
    "    \n",
    "    def __repr__(self):\n",
    "        \"\"\"스택 표기법: stack([1, 2, 3]) 등등\"\"\"\n",
    "        return f\"stack({self._container})\"\n",
    "    \n",
    "    def put(self, item):\n",
    "        \"\"\"\n",
    "        _maxsize를 못 채웠을 경우에만 항목 추가\n",
    "        \"\"\"\n",
    "        if not self.full():\n",
    "            self._container.append(item)\n",
    "        else:\n",
    "            print(\"추가되지 않아요!\")\n",
    "\n",
    "    def get(self):\n",
    "        \"\"\"머리 항목 삭제 후 반환\"\"\"\n",
    "        return self._container.pop()"
   ]
  },
  {
   "cell_type": "markdown",
   "metadata": {},
   "source": [
    "**문제 1**"
   ]
  },
  {
   "cell_type": "markdown",
   "metadata": {},
   "source": [
    "주어진 문자열에 포함된 문자를 거꾸로 갖는 문자열을 생성하는 함수 `rev_string(my_str)`를\n",
    "스택을 이용하여 구현하라.\n",
    "\n",
    "**힌트**: [스택 설명 동영상](https://www.youtube.com/watch?v=fZtLSM7k_54&ab_channel=RunestoneInteractive) 참고"
   ]
  },
  {
   "cell_type": "code",
   "execution_count": null,
   "metadata": {},
   "outputs": [],
   "source": [
    "# pass 명령문을 적절한 코드로 대체하라.\n",
    "\n",
    "def rev_string(my_str):\n",
    "    pass"
   ]
  },
  {
   "cell_type": "markdown",
   "metadata": {},
   "source": [
    "아래 코드의 주석을 해제한 후에 오류가 발생하지 않아야 한다."
   ]
  },
  {
   "cell_type": "code",
   "execution_count": null,
   "metadata": {},
   "outputs": [],
   "source": [
    "# assert rev_string('honey') == 'yenoh'\n",
    "# assert rev_string('hello world3') == '3dlrow olleh'"
   ]
  },
  {
   "cell_type": "markdown",
   "metadata": {},
   "source": [
    "**문제 2**"
   ]
  },
  {
   "cell_type": "markdown",
   "metadata": {},
   "source": [
    "HTML 문서에 사용되는 태그(tag)는 아래 예제에서처럼 여는 형식과 닫는 형식의 짝이 맞아야 한다. \n",
    "\n",
    "```html\n",
    "<html>\n",
    "  <head>\n",
    "     <title>\n",
    "        문제해결 알고리즘\n",
    "     </title>\n",
    "  </head>\n",
    "\n",
    "  <body>\n",
    "     <h1>스택 자료형</h1>\n",
    "  </body>\n",
    "</html>\n",
    "```\n",
    "\n",
    "HTML 문서를 대상으로 태그 짝맞추기 여부를 판별하는 함수를 구현하라."
   ]
  },
  {
   "cell_type": "code",
   "execution_count": null,
   "metadata": {},
   "outputs": [],
   "source": [
    "# pass 명령문을 적절한 코드로 대체하라.\n",
    "\n",
    "def tag_pairing(html_string):\n",
    "    pass"
   ]
  },
  {
   "cell_type": "code",
   "execution_count": null,
   "metadata": {},
   "outputs": [],
   "source": [
    "html_exp = \\\n",
    "\"\"\"<html>\n",
    "  <head>\n",
    "     <title>\n",
    "        문제해결 알고리즘\n",
    "     </title>\n",
    "  </head>\n",
    "\n",
    "  <body>\n",
    "     <h1>스택 자료형</h1>\n",
    "  </body>\n",
    "</html>\"\"\""
   ]
  },
  {
   "cell_type": "markdown",
   "metadata": {},
   "source": [
    "아래 코드의 주석을 해제한 후에 오류가 발생하지 않아야 한다."
   ]
  },
  {
   "cell_type": "code",
   "execution_count": null,
   "metadata": {},
   "outputs": [],
   "source": [
    "# assert tag_pairing(html_exp) == True"
   ]
  },
  {
   "cell_type": "markdown",
   "metadata": {},
   "source": [
    "**문제 3**"
   ]
  },
  {
   "cell_type": "markdown",
   "metadata": {},
   "source": [
    "타인의 비밀번호를 훔치기 위해 키보드의 모든 입력값을 기록하는 키로거(keylogger)를 구현하려 한다.\n",
    "키보드로 입력할 수 있는 키는 영어 알파벳 대문자, 소문자, 숫자, 백스페이스, 화살표로 제한된다.\n",
    "백스페이스와 화살표가 키로거에 기록되는 기호는 다음과 같다.\n",
    "\n",
    "| 키(key) | 키로거 기호 | 의미 |\n",
    "| :---: | :---: | :---: |\n",
    "| 백스페이스 | `-` | 마지막 입력 키 삭제 |\n",
    "| 왼쪽 화살표 | `<` | 커서 왼쪽으로 한 칸 이동 |\n",
    "| 오른쪽 화살표 | `>` | 커서 오른쪽으로 한 칸 이동 |"
   ]
  },
  {
   "cell_type": "markdown",
   "metadata": {},
   "source": [
    "예를 들어 키로거에 저장된 문자열과 실제 비밀번호는 다음과 같다.\n",
    "\n",
    "| 키로거 문자열 | 비밀번호 |\n",
    "| :---: | :---: |\n",
    "| `<<<BC<A>KS-` | `BACK`|\n",
    "| `psw<<a>>>-sword` | `password` |\n",
    "| `python3` | `python3` |"
   ]
  },
  {
   "cell_type": "markdown",
   "metadata": {},
   "source": [
    "주어진 키로거 문자열에서 실제 비밀번호를 찾아 반환하는 함수 `decode_keys()` 함수를 구현하라."
   ]
  },
  {
   "cell_type": "code",
   "execution_count": null,
   "metadata": {},
   "outputs": [],
   "source": [
    "# pass 명령문을 적절한 코드로 구현하라.\n",
    "\n",
    "def decode_keys(keylogger):\n",
    "    pass"
   ]
  },
  {
   "cell_type": "markdown",
   "metadata": {},
   "source": [
    "아래 코드의 주석을 해제하고 실행했을 때 오류가 발생하지 않아야 한다."
   ]
  },
  {
   "cell_type": "code",
   "execution_count": null,
   "metadata": {},
   "outputs": [],
   "source": [
    "# assert decode_keys('<<<BC<A>KS-') == 'BACK'\n",
    "# assert decode_keys('psw<<a>>>-sword') == 'password'\n",
    "# assert decode_keys('python3') == 'python3'"
   ]
  },
  {
   "cell_type": "markdown",
   "metadata": {},
   "source": [
    "## 진법 변환 "
   ]
  },
  {
   "cell_type": "markdown",
   "metadata": {},
   "source": [
    "십진법 정수 233을 이진법으로 표기하면 $11101001_{2}$이 된다.\n",
    "실제로 두 수가 가리키는 수는 다음과 같이 동일하다."
   ]
  },
  {
   "cell_type": "markdown",
   "metadata": {},
   "source": [
    "$$\n",
    "\\begin{align*}\n",
    "11101001_{2} &= 1\\times2^{7} + 1\\times2^{6} + 1\\times2^{5} + 0\\times2^{4} + 1\\times2^{3} + 0\\times2^{2} + 0\\times2^{1} + 1\\times2^{0} \\\\\n",
    "&= 233\n",
    "\\end{align*}\n",
    "$$"
   ]
  },
  {
   "cell_type": "markdown",
   "metadata": {},
   "source": [
    "십진법으로 표기된 정수의 이진법 표기를 찾는 알고리즘은 아래 그림과 같다. \n",
    "\n",
    "- 2로 나눈 후 나머지를 스택에 추가\n",
    "- 2로 나눈 몫을 대상으로 위 과정 반복\n",
    "- 스택에 쌓인 값들을 거꾸로 읽기. 즉, `get()` 메서드 반복 활용"
   ]
  },
  {
   "cell_type": "markdown",
   "metadata": {},
   "source": [
    "<figure>\n",
    "<div align=\"center\"><img src=\"https://runestone.academy/runestone/books/published/pythonds3/_images/dectobin.png\" width=\"80%\"></div>\n",
    "</figure>"
   ]
  },
  {
   "cell_type": "code",
   "execution_count": null,
   "metadata": {},
   "outputs": [],
   "source": [
    "def divide_by_2(decimal_num):\n",
    "    remainder_stack = Stack()\n",
    "\n",
    "    while decimal_num > 0:\n",
    "        rem = decimal_num % 2\n",
    "        remainder_stack.put(rem)\n",
    "        decimal_num = decimal_num // 2\n",
    "\n",
    "    bin_string = \"0b\"\n",
    "    while not remainder_stack.empty():\n",
    "        bin_string = bin_string + str(remainder_stack.get())\n",
    "\n",
    "    return bin_string"
   ]
  },
  {
   "cell_type": "code",
   "execution_count": null,
   "metadata": {},
   "outputs": [],
   "source": [
    "print(divide_by_2(233))\n",
    "print(divide_by_2(42))\n",
    "print(divide_by_2(31))"
   ]
  },
  {
   "cell_type": "markdown",
   "metadata": {},
   "source": [
    "참고로 파이썬의 `bin()` 함수가 이진법으로 변환해준다.\n",
    "이진수는 `0b`로 시작한다."
   ]
  },
  {
   "cell_type": "code",
   "execution_count": null,
   "metadata": {},
   "outputs": [],
   "source": [
    "print(bin(233))\n",
    "print(bin(42))\n",
    "print(bin(31))"
   ]
  },
  {
   "cell_type": "markdown",
   "metadata": {},
   "source": [
    "십진법으로의 변환은 자동 실행된다."
   ]
  },
  {
   "cell_type": "code",
   "execution_count": null,
   "metadata": {},
   "outputs": [],
   "source": [
    "print(0b11101001)\n",
    "print(0b101010)\n",
    "print(0b11111)"
   ]
  },
  {
   "cell_type": "markdown",
   "metadata": {},
   "source": [
    "**문제 4**"
   ]
  },
  {
   "cell_type": "markdown",
   "metadata": {},
   "source": [
    "십진법으로 표기된 정수를 이진법 뿐만 아니라 8진법, 16진법 등으로 자유자재로 \n",
    "변환시키는 함수를 구현해보자.\n",
    "예를 들어 정수 233을 8진법으로는 `351` 또는 16진법으로는 `E9`이며,\n",
    "이유는 다음과 같다.\n",
    "\n",
    "$$\n",
    "\\begin{align*}\n",
    "233 &= 3\\times8^{2} + 5\\times8^{1} + 1\\times8^{0} \\\\\n",
    "&= 14\\times16^{1} + 9\\times16^{0}\n",
    "\\end{align*}\n",
    "$$\n",
    "\n",
    "단, 16진법에서 알파벳 E는 14에 해당한다."
   ]
  },
  {
   "cell_type": "markdown",
   "metadata": {},
   "source": [
    "다음 `base_converter()` 함수가 변환되어야 하는 십진수 정수 뿐만 아니라 \n",
    "변환에 사용될 진법을\n",
    "결정하는 밑<font size='2'>base</font>도 함께  인자로 받아서\n",
    "지정된 진법으로 정수를 변환하는 함수를 완성하라.\n",
    "단, 반환값은 지정된 진법의 숫자를 가리키는 문자열이어야 한다.\n",
    "\n",
    "밑은 2에서 16 사이의 정수가 사용될 수 있지만 일반적으로 2, 8, 10, 16 중에 하나가 사용된다.\n",
    "알고리즘은 `divide_by_2()` 함수와 거의 동일하다.\n",
    "다만, 10진법부터 16진법까지는 0부터 9까지의 숫자 이외의 숫자를 \n",
    "나타내는 기호를 추가해야 한다.\n",
    "일반적으로 a, b, c, d, e, f를 각각 10에서 15를 나타내는 기호로 사용한다. \n",
    "\n",
    "- `digits`: 0부터 15까지의 정수를 가리키는 기호들로 구성된 문자열"
   ]
  },
  {
   "cell_type": "code",
   "execution_count": null,
   "metadata": {},
   "outputs": [],
   "source": [
    "# pass 와 None 을 각각 적절한 명령문과 표현식으로 대체하라\n",
    "\n",
    "def base_converter(decimal_num, base):\n",
    "    \n",
    "    digits = \"0123456789abcdef\"\n",
    "    \n",
    "    remainder_stack = Stack()\n",
    "\n",
    "    # 지정된 밑으로 나누고 나머지는 스택에 저장하는 과정 반복\n",
    "    while decimal_num > 0:\n",
    "        remainder = decimal_num % base\n",
    "        remainder_stack.put(remainder)\n",
    "        decimal_num = decimal_num // base\n",
    "\n",
    "    # 스택 항목을 이용하여 변환된 진법 표현식 구성\n",
    "    # digits의 인덱스 활용\n",
    "    \n",
    "    pass\n",
    "\n",
    "    return None"
   ]
  },
  {
   "cell_type": "markdown",
   "metadata": {},
   "source": [
    "아래 코드의 주석을 해제한 후에 실행했을 때 오류가 발생하지 않아야 한다.\n",
    "참고로 파이썬의 `oct()` 함수와 `hex()` 함수가 각각 8진법과 16진법으로 변환해준다."
   ]
  },
  {
   "cell_type": "code",
   "execution_count": null,
   "metadata": {},
   "outputs": [],
   "source": [
    "# assert base_converter(25, 2) == str(bin(25))\n",
    "# assert base_converter(623, 8) == str(oct(623))\n",
    "# assert base_converter(828375, 16) == str(hex(828375))"
   ]
  },
  {
   "cell_type": "markdown",
   "metadata": {},
   "source": [
    "## 인터넷 브라우저 앞으로가기/뒤로가기 버튼"
   ]
  },
  {
   "cell_type": "markdown",
   "metadata": {},
   "source": [
    "아래 코드는 인터넷 브라우저의 앞으로가기/뒤로가기 버튼을 누르거나 새로운 사이트로 이동하는 기능을 실행했을 때\n",
    "두 개의 스택이 방문기록을 기억하도록 한다. 자세한 설명은 코드에 포함된 주석을 참고한다."
   ]
  },
  {
   "cell_type": "code",
   "execution_count": null,
   "metadata": {},
   "outputs": [],
   "source": [
    "# 현재 방문중인 웹사이트 주소 기억\n",
    "# 브라우저를 켰을 때 \"시작 페이지\"로 이동\n",
    "current_url = \"시작 페이지\"\n",
    "\n",
    "# 새롭게 방문한 사이트 또는 뒤로가기버튼을 누른 사이트를 저장하는 스택\n",
    "# 최대 10개의 사이트 저장\n",
    "forward_stack = Stack(maxsize=10)\n",
    "\n",
    "# 앞으로가기 버튼을 누른 사이트를 저장하는 스택\n",
    "# 최대 10개의 사이트 저장\n",
    "backward_stack = Stack(maxsize=10)\n",
    "\n",
    "# 새로운 웹사이트 링크를 누르고 방문할 때 작동하는 함수\n",
    "def visit(url):\n",
    "    global current_url\n",
    "\n",
    "    # 현재 방문중인 사이트를 backward_stack에 추가\n",
    "    backward_stack.put(current_url)\n",
    "\n",
    "    # 새로 방문하는 사이트를 현재 사이트로 지정\n",
    "    current_url = url\n",
    "\n",
    "# 앞으로가기 버튼을 누를 때 실행되는 함수\n",
    "def forward():\n",
    "    global current_url\n",
    "\n",
    "    # forward_stack이 비어있는 경우: 아무 반응 없음\n",
    "    if forward_stack.empty():\n",
    "        pass\n",
    "    \n",
    "    # forward_stack에 사이트가 저장되어 있는 경우\n",
    "    else:\n",
    "        # 현재 방문 사이트를 backward_stack에 추가\n",
    "        backward_stack.put(current_url)\n",
    "\n",
    "        # forward_stack의 탑을 삭제하면서 동시에 현재 방문 사이트로 지정\n",
    "        current_url = forward_stack.get()\n",
    "\n",
    "\n",
    "# 뒤로가기 버튼을 누를 때 실행되는 함수\n",
    "def backward():\n",
    "    global current_url\n",
    "\n",
    "    # backward_stack이 비어있는 경우: 아무 반응 없음\n",
    "    if backward_stack.empty():\n",
    "        pass\n",
    "    \n",
    "    # backward_stack에 사이트가 저장되어 있는 경우\n",
    "    else:\n",
    "        # 현재 방문중인 사이트를 forward_stack에 추가\n",
    "        forward_stack.put(current_url)\n",
    "\n",
    "        # backward_stack의 탑을 삭제하면서 동시에 현재 방문 사이트로 지정\n",
    "        current_url = backward_stack.get()"
   ]
  },
  {
   "cell_type": "markdown",
   "metadata": {},
   "source": [
    "아래 `simulator()` 함수는 지정된 시작 사이트에서 시작해서\n",
    "세 개의 사이트를 다양한 방식으로 방문하는 과정을 모의실험한다."
   ]
  },
  {
   "cell_type": "code",
   "execution_count": null,
   "metadata": {},
   "outputs": [],
   "source": [
    "def simulator(url=\"시작 페이지\"):\n",
    "    global current_url\n",
    "    current_url = url\n",
    "\n",
    "    visit(\"사이트1.com\")\n",
    "    print(\"현재 방문 사이트:\", current_url)\n",
    "\n",
    "    visit(\"사이트2.com\")\n",
    "    print(\"현재 방문 사이트:\", current_url)\n",
    "\n",
    "    backward()\n",
    "    print(\"현재 방문 사이트:\", current_url)\n",
    "\n",
    "    forward()\n",
    "    print(\"현재 방문 사이트:\", current_url)\n",
    "\n",
    "    visit(\"사이트3.com\")\n",
    "    print(\"현재 방문 사이트:\", current_url)\n",
    "\n",
    "    forward()\n",
    "    print(\"현재 방문 사이트:\", current_url)\n",
    "\n",
    "    for _ in range(backward_stack.qsize()):\n",
    "        backward()\n",
    "\n",
    "    print(\"현재 방문 사이트:\", current_url)"
   ]
  },
  {
   "cell_type": "markdown",
   "metadata": {},
   "source": [
    "다음은 \"https://codingalzi.github.io/\"를 시작페이지로 지정했을 때의 모의실험결과를 보여준다."
   ]
  },
  {
   "cell_type": "code",
   "execution_count": null,
   "metadata": {
    "scrolled": true
   },
   "outputs": [
    {
     "name": "stdout",
     "output_type": "stream",
     "text": [
      "현재 방문 사이트: 사이트1.com\n",
      "현재 방문 사이트: 사이트2.com\n",
      "현재 방문 사이트: 사이트1.com\n",
      "현재 방문 사이트: 사이트2.com\n",
      "현재 방문 사이트: 사이트3.com\n",
      "현재 방문 사이트: 사이트3.com\n",
      "현재 방문 사이트: https://codingalzi.github.io/\n"
     ]
    }
   ],
   "source": [
    "simulator(\"https://codingalzi.github.io/\")\n"
   ]
  },
  {
   "cell_type": "markdown",
   "metadata": {},
   "source": [
    "**문제 5**"
   ]
  },
  {
   "cell_type": "markdown",
   "metadata": {},
   "source": [
    "`visit()` 함수는 `forward_stack`을 사용하거나 수정하지 않는다.\n",
    "하지만 이는 옳지 않다.\n",
    "\n",
    "1. 그렇지 않은 경우를 모의실험하는 코드를 작성하라.\n",
    "2. `visit()` 함수를 수정하여 새로 작성한 모의실험이 제대로 작동함을 확인하라."
   ]
  },
  {
   "cell_type": "code",
   "execution_count": null,
   "metadata": {},
   "outputs": [],
   "source": [
    "# 1. visit() 함수가 제대로 작동하지 않는 상황을 모의실험하는 코드 작성\n"
   ]
  },
  {
   "cell_type": "code",
   "execution_count": null,
   "metadata": {},
   "outputs": [],
   "source": [
    "# 2. visit() 함수를 수정한 다음에 이전에 구현한 모의실험이 제대로 작동하는지 확인\n"
   ]
  }
 ],
 "metadata": {
  "kernelspec": {
   "display_name": "Python 3 (ipykernel)",
   "language": "python",
   "name": "python3"
  },
  "language_info": {
   "codemirror_mode": {
    "name": "ipython",
    "version": 3
   },
   "file_extension": ".py",
   "mimetype": "text/x-python",
   "name": "python",
   "nbconvert_exporter": "python",
   "pygments_lexer": "ipython3",
   "version": "3.12.2"
  },
  "vscode": {
   "interpreter": {
    "hash": "ad0f3c8a064f687cbf898a0868fd45ba1c7e928ac8a0404f7c241d812ddc1e76"
   }
  }
 },
 "nbformat": 4,
 "nbformat_minor": 4
}
