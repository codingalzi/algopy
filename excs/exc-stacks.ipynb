{
 "cells": [
  {
   "cell_type": "markdown",
   "metadata": {},
   "source": [
    "# (실습) 스택"
   ]
  },
  {
   "cell_type": "markdown",
   "metadata": {},
   "source": [
    "**문제 1**"
   ]
  },
  {
   "cell_type": "markdown",
   "metadata": {},
   "source": [
    "주어진 문자열에 포함된 문자를 거꾸로 갖는 문자열을 생성하는 함수 `rev_string(my_str)`를\n",
    "스택을 이용하여 구현하라.\n",
    "\n",
    "**힌트**: [스택 설명 동영상](https://www.youtube.com/watch?v=fZtLSM7k_54&ab_channel=RunestoneInteractive) 참고"
   ]
  },
  {
   "cell_type": "code",
   "execution_count": 1,
   "metadata": {},
   "outputs": [],
   "source": [
    "# pass 명령문을 적절한 코드로 대체하라.\n",
    "\n",
    "def rev_string(my_str):\n",
    "    pass"
   ]
  },
  {
   "cell_type": "markdown",
   "metadata": {},
   "source": [
    "아래 코드의 주석을 해제한 후에 오류가 발생하지 않아야 한다."
   ]
  },
  {
   "cell_type": "code",
   "execution_count": 2,
   "metadata": {},
   "outputs": [],
   "source": [
    "# assert rev_string('honey') == 'yenoh'\n",
    "# assert rev_string('hello world3') == '3dlrow olleh'"
   ]
  },
  {
   "cell_type": "markdown",
   "metadata": {},
   "source": [
    "**문제 2**"
   ]
  },
  {
   "cell_type": "markdown",
   "metadata": {},
   "source": [
    "HTML 문서에 사용되는 태그(tag)는 아래 예제에서처럼 여는 형식과 닫는 형식의 짝이 맞아야 한다. \n",
    "\n",
    "```html\n",
    "<html>\n",
    "  <head>\n",
    "     <title>\n",
    "        문제해결 알고리즘\n",
    "     </title>\n",
    "  </head>\n",
    "\n",
    "  <body>\n",
    "     <h1>스택 자료형</h1>\n",
    "  </body>\n",
    "</html>\n",
    "```\n",
    "\n",
    "HTML 문서를 대상으로 태그 짝맞추기 여부를 판별하는 함수를 구현하라."
   ]
  },
  {
   "cell_type": "code",
   "execution_count": 3,
   "metadata": {},
   "outputs": [],
   "source": [
    "# pass 명령문을 적절한 코드로 대체하라.\n",
    "\n",
    "def tag_pairing(html_string):\n",
    "    pass"
   ]
  },
  {
   "cell_type": "code",
   "execution_count": 4,
   "metadata": {},
   "outputs": [],
   "source": [
    "html_exp = \\\n",
    "\"\"\"<html>\n",
    "  <head>\n",
    "     <title>\n",
    "        문제해결 알고리즘\n",
    "     </title>\n",
    "  </head>\n",
    "\n",
    "  <body>\n",
    "     <h1>스택 자료형</h1>\n",
    "  </body>\n",
    "</html>\"\"\""
   ]
  },
  {
   "cell_type": "markdown",
   "metadata": {},
   "source": [
    "아래 코드의 주석을 해제한 후에 오류가 발생하지 않아야 한다."
   ]
  },
  {
   "cell_type": "code",
   "execution_count": 5,
   "metadata": {},
   "outputs": [],
   "source": [
    "# assert tag_pairing(html_exp) == True"
   ]
  },
  {
   "cell_type": "markdown",
   "metadata": {},
   "source": [
    "**문제 3**"
   ]
  },
  {
   "cell_type": "markdown",
   "metadata": {},
   "source": [
    "타인의 비밀번호를 훔치기 위해 키보드의 모든 입력값을 기록하는 키로거(keylogger)를 구현하려 한다.\n",
    "키보드로 입력할 수 있는 키는 영어 알파벳 대문자, 소문자, 숫자, 백스페이스, 화살표로 제한된다.\n",
    "백스페이스와 화살표가 키로거에 기록되는 기호는 다음과 같다.\n",
    "\n",
    "| 키(key) | 키로거 기호 | 의미 |\n",
    "| :---: | :---: | :---: |\n",
    "| 백스페이스 | `-` | 마지막 입력 키 삭제 |\n",
    "| 왼쪽 화살표 | `<` | 커서 왼쪽으로 한 칸 이동 |\n",
    "| 오른쪽 화살표 | `>` | 커서 오른쪽으로 한 칸 이동 |"
   ]
  },
  {
   "cell_type": "markdown",
   "metadata": {},
   "source": [
    "예를 들어 키로거에 저장된 문자열과 실제 비밀번호는 다음과 같다.\n",
    "\n",
    "| 키로거 문자열 | 비밀번호 |\n",
    "| :---: | :---: |\n",
    "| `<<<BC<A>KS-` | `BACK`|\n",
    "| `psw<<a>>>-sword` | `password` |\n",
    "| `python3` | `python3` |"
   ]
  },
  {
   "cell_type": "markdown",
   "metadata": {},
   "source": [
    "주어진 키로거 문자열에서 실제 비밀번호를 찾아 반환하는 함수 `decode_keys()` 함수를 구현하라."
   ]
  },
  {
   "cell_type": "code",
   "execution_count": 6,
   "metadata": {},
   "outputs": [],
   "source": [
    "# pass 명령문을 적절한 코드로 구현하라.\n",
    "\n",
    "def decode_keys(keylogger):\n",
    "    pass"
   ]
  },
  {
   "cell_type": "markdown",
   "metadata": {},
   "source": [
    "아래 코드의 주석을 해제하고 실행했을 때 오류가 발생하지 않아야 한다."
   ]
  },
  {
   "cell_type": "code",
   "execution_count": 7,
   "metadata": {},
   "outputs": [],
   "source": [
    "# assert decode_keys('<<<BC<A>KS-') == 'BACK'\n",
    "# assert decode_keys('psw<<a>>>-sword') == 'password'\n",
    "# assert decode_keys('python3') == 'python3'"
   ]
  }
 ],
 "metadata": {
  "kernelspec": {
   "display_name": "Python 3.9.12 ('base')",
   "language": "python",
   "name": "python3"
  },
  "language_info": {
   "codemirror_mode": {
    "name": "ipython",
    "version": 3
   },
   "file_extension": ".py",
   "mimetype": "text/x-python",
   "name": "python",
   "nbconvert_exporter": "python",
   "pygments_lexer": "ipython3",
   "version": "3.9.12"
  },
  "vscode": {
   "interpreter": {
    "hash": "ad0f3c8a064f687cbf898a0868fd45ba1c7e928ac8a0404f7c241d812ddc1e76"
   }
  }
 },
 "nbformat": 4,
 "nbformat_minor": 4
}
