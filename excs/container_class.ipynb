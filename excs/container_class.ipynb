{
 "cells": [
  {
   "cell_type": "markdown",
   "metadata": {},
   "source": [
    "# 컨테이너 클래스 연습문제 "
   ]
  },
  {
   "cell_type": "markdown",
   "metadata": {},
   "source": [
    "## 문제 1\n",
    "\n",
    "아래 `OneDArray` 클래스는 1차원 넘파이 어레이와 유사하게 작동하도록 정의되었다."
   ]
  },
  {
   "cell_type": "code",
   "execution_count": 9,
   "metadata": {},
   "outputs": [],
   "source": [
    "class OneDArray:\n",
    "    def __init__(self, items):\n",
    "        \"\"\"\n",
    "        items: 1차원 어레이 항목으로 사용될 값들. 리스트, 튜플 등 모음 자료형 사용.\n",
    "        저장: 리스트 활용\n",
    "        \"\"\" \n",
    "        self.items = list(items)\n",
    "        self.count = 0                  # 항목 카운트\n",
    "        self.max_repeats = len(items)   # 항목 카운트 최댓값\n",
    "        \n",
    "    def __repr__(self):\n",
    "        return f\"myArray({self.items})\"\n",
    "    \n",
    "    def __add__(self, other):\n",
    "        \"\"\"항목별 덧셈 연산\"\"\"\n",
    "\n",
    "        # 어레이 길이가 동일하지 않으면 오류 발생시킴\n",
    "        # raise와 RuntimeError 활용\n",
    "        if len(self.items) != len(other.items):\n",
    "            raise RuntimeError(\"길이가 달라요!\")\n",
    "\n",
    "        # 항목별 덧셈 실행\n",
    "        main_object = self.items.copy()\n",
    "        for i in range(len(main_object)):\n",
    "            main_object[i] += other.items[i]\n",
    "\n",
    "        return OneDArray(main_object)\n",
    "    \n",
    "    def __len__(self):\n",
    "        return len(self.items)\n",
    "\n",
    "    def mean(self):\n",
    "        \"\"\"항목들의 평균\"\"\"\n",
    "        sum = 0\n",
    "        for item in self.items:\n",
    "            sum += item\n",
    "            \n",
    "        return sum/len(self)\n",
    "    \n",
    "    def __iter__(self):\n",
    "        return self\n",
    "    \n",
    "    def __next__(self):\n",
    "        if self.count >= self.max_repeats:    # 항목 개수만큼만 반복 허용\n",
    "            raise StopIteration(\"더 이상 항목이 없어요!\")\n",
    "            \n",
    "        next_item = self.items[self.count]\n",
    "        self.count += 1                       # 항목 반환할 때마다 카운트 키우기\n",
    "        return next_item\n",
    "    "
   ]
  },
  {
   "cell_type": "markdown",
   "metadata": {},
   "source": [
    "리스트의 경우 객체를 새로 생성하지 않아도 for 반복문을 계속해서 적용할 수 있다."
   ]
  },
  {
   "cell_type": "code",
   "execution_count": 3,
   "metadata": {},
   "outputs": [],
   "source": [
    "numList = [1, 2, 3]"
   ]
  },
  {
   "cell_type": "code",
   "execution_count": 4,
   "metadata": {},
   "outputs": [
    {
     "name": "stdout",
     "output_type": "stream",
     "text": [
      "1\n",
      "2\n",
      "3\n"
     ]
    }
   ],
   "source": [
    "for item in numList:\n",
    "    print(item)"
   ]
  },
  {
   "cell_type": "code",
   "execution_count": 6,
   "metadata": {},
   "outputs": [
    {
     "name": "stdout",
     "output_type": "stream",
     "text": [
      "1\n",
      "2\n",
      "3\n"
     ]
    }
   ],
   "source": [
    "for item in numList:\n",
    "    print(item)"
   ]
  },
  {
   "cell_type": "markdown",
   "metadata": {},
   "source": [
    "반면에 `OneDArray` 객체는 그렇지 않다. "
   ]
  },
  {
   "cell_type": "code",
   "execution_count": 11,
   "metadata": {},
   "outputs": [],
   "source": [
    "oneD1 = OneDArray([2, 3, 4])"
   ]
  },
  {
   "cell_type": "code",
   "execution_count": 12,
   "metadata": {},
   "outputs": [
    {
     "name": "stdout",
     "output_type": "stream",
     "text": [
      "2\n",
      "3\n",
      "4\n"
     ]
    }
   ],
   "source": [
    "for item in oneD1:\n",
    "    print(item)"
   ]
  },
  {
   "cell_type": "code",
   "execution_count": 13,
   "metadata": {},
   "outputs": [],
   "source": [
    "for item in oneD1:\n",
    "    print(item)"
   ]
  },
  {
   "cell_type": "markdown",
   "metadata": {},
   "source": [
    "`OneDArray` 객체가 리스트처럼 작동하도록 `__next__()` 메서드를 수정하라.\n",
    "\n",
    "힌트: `count` 인스턴스 변수의 초기화를 적절한 위치에서 실행하도록 해야 한다."
   ]
  },
  {
   "cell_type": "code",
   "execution_count": 14,
   "metadata": {},
   "outputs": [],
   "source": [
    "# OneDArray 재정의\n",
    "\n"
   ]
  },
  {
   "cell_type": "markdown",
   "metadata": {},
   "source": [
    "## 문제 2\n",
    "\n"
   ]
  }
 ],
 "metadata": {
  "kernelspec": {
   "display_name": "Python 3",
   "language": "python",
   "name": "python3"
  },
  "language_info": {
   "codemirror_mode": {
    "name": "ipython",
    "version": 3
   },
   "file_extension": ".py",
   "mimetype": "text/x-python",
   "name": "python",
   "nbconvert_exporter": "python",
   "pygments_lexer": "ipython3",
   "version": "3.8.8"
  }
 },
 "nbformat": 4,
 "nbformat_minor": 4
}
