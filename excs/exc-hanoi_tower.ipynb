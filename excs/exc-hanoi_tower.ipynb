{
 "cells": [
  {
   "cell_type": "markdown",
   "metadata": {},
   "source": [
    "# (실습) 하노이의 탑과 미로게임"
   ]
  },
  {
   "cell_type": "markdown",
   "metadata": {},
   "source": [
    "### 하노이의 탑"
   ]
  },
  {
   "cell_type": "markdown",
   "metadata": {},
   "source": [
    "**문제**"
   ]
  },
  {
   "cell_type": "markdown",
   "metadata": {},
   "source": [
    "하노이의 탑을 해결하는 알고리즘을 세 개의 스택(stack)을 이용하여 시각화하라. \n",
    "turtle 모듈을 이용하는 방식은 \n",
    "[Trinket: 미로 탐색](https://trinket.io/turtle/1579371d4a)를 참고할 수 있다.\n",
    "\n",
    "힌트: 3 개의 거북이를 원, 사각형 모양 등으로 활용할 수 있다."
   ]
  },
  {
   "cell_type": "markdown",
   "metadata": {},
   "source": [
    "### 미로 탐색"
   ]
  },
  {
   "cell_type": "markdown",
   "metadata": {},
   "source": [
    "**문제**"
   ]
  },
  {
   "cell_type": "markdown",
   "metadata": {},
   "source": [
    "미로 탐색 알고리즘 `search_from()`에 사용된 탐색경로를 수정하여 이전 알고리즘과의\n",
    "차이점을 확인하라."
   ]
  },
  {
   "cell_type": "markdown",
   "metadata": {},
   "source": [
    "### 기타"
   ]
  },
  {
   "cell_type": "markdown",
   "metadata": {},
   "source": [
    "**문제**"
   ]
  },
  {
   "cell_type": "markdown",
   "metadata": {},
   "source": [
    "Write a program to solve the following problem: You have two jugs: a\n",
    "4-gallon jug and a 3-gallon jug. Neither of the jugs have markings on\n",
    "them. There is a pump that can be used to fill the jugs with water.\n",
    "How can you get exactly two gallons of water in the 4-gallon jug?"
   ]
  },
  {
   "cell_type": "markdown",
   "metadata": {},
   "source": [
    "**문제**"
   ]
  },
  {
   "cell_type": "markdown",
   "metadata": {},
   "source": [
    "Generalize the problem above so that the parameters to your solution\n",
    "include the sizes of each jug and the final amount of water to be\n",
    "left in the larger jug."
   ]
  },
  {
   "cell_type": "markdown",
   "metadata": {},
   "source": [
    "**문제**"
   ]
  },
  {
   "cell_type": "markdown",
   "metadata": {},
   "source": [
    "Write a program that solves the following problem: Three missionaries\n",
    "and three cannibals come to a river and find a boat that holds two\n",
    "people. Everyone must get across the river to continue on the\n",
    "journey. However, if the cannibals ever outnumber the missionaries on\n",
    "either bank, the missionaries will be eaten. Find a series of\n",
    "crossings that will get everyone safely to the other side of the\n",
    "river."
   ]
  }
 ],
 "metadata": {
  "kernelspec": {
   "display_name": "Python 3.9.12 ('base')",
   "language": "python",
   "name": "python3"
  },
  "language_info": {
   "name": "python",
   "version": "3.9.12"
  },
  "orig_nbformat": 4,
  "vscode": {
   "interpreter": {
    "hash": "ad0f3c8a064f687cbf898a0868fd45ba1c7e928ac8a0404f7c241d812ddc1e76"
   }
  }
 },
 "nbformat": 4,
 "nbformat_minor": 2
}
