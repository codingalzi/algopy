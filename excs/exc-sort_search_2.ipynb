{
 "cells": [
  {
   "cell_type": "markdown",
   "metadata": {},
   "source": [
    "# (실습) 버블/선택/합병/퀵 정렬"
   ]
  },
  {
   "cell_type": "markdown",
   "metadata": {},
   "source": [
    "**문제 1**"
   ]
  },
  {
   "cell_type": "markdown",
   "metadata": {},
   "source": [
    "아래 리스트에 대해\n",
    "버블정렬, 선택정렬, 합병정렬, 퀵정렬 알고리즘이 적용되는 과정을 묘사하라.\n",
    "\n",
    "`[1, 2, 3, 4, 5, 6, 7, 8, 9, 10]`"
   ]
  },
  {
   "cell_type": "markdown",
   "metadata": {},
   "source": [
    "**문제 2**"
   ]
  },
  {
   "cell_type": "markdown",
   "metadata": {},
   "source": [
    "`mergesort()` 함수에 사용된 알고리즘을 수정하여 \n",
    "재귀에 사용된 슬라이싱 대신 구간 지정방식을 사용하는 재귀 합병 알고리즘을 구현하라.\n",
    "\n",
    "힌트: 합병을 담당하는 함수를 따로 정의해서 분할 재귀함수에 활용한다."
   ]
  },
  {
   "cell_type": "markdown",
   "metadata": {},
   "source": [
    "**문제 3**"
   ]
  },
  {
   "cell_type": "markdown",
   "metadata": {},
   "source": [
    "버블정렬 알고리즘을 패스별로 최댓값을 오른편으로 보내는 것과\n",
    "최솟값을 왼편으로 보내는 과정을 번갈아 실행하도록 수정하라."
   ]
  },
  {
   "cell_type": "markdown",
   "metadata": {},
   "source": [
    "**문제 4**"
   ]
  },
  {
   "cell_type": "markdown",
   "metadata": {},
   "source": [
    "재귀를 사용하지 않으면서 `mergesort()` 함수를 구현한 후에 제대로 작동함을 확인하라.\n",
    "\n",
    "참고: [Iterative Merge Sort](https://www.geeksforgeeks.org/iterative-merge-sort/)"
   ]
  },
  {
   "cell_type": "markdown",
   "metadata": {},
   "source": [
    "**문제 5**"
   ]
  },
  {
   "cell_type": "markdown",
   "metadata": {},
   "source": [
    "퀵정렬 알고리즘의 피벗 선택을 달리하는 알고리즘을 구현하라.\n",
    "또한 달라진 피벗 선택이 보다 효율적으로 작동하는 경우에 대한 기준을 설명하라.\n",
    "\n",
    "1. 중앙에 위치한 값 선택\n",
    "1. 처음, 끝, 중앙에 위치한 값들의 중앙값 선택"
   ]
  },
  {
   "cell_type": "markdown",
   "metadata": {},
   "source": [
    "**문제 6**"
   ]
  },
  {
   "cell_type": "markdown",
   "metadata": {},
   "source": [
    "재귀를 사용하지 않으면서 `quick_sort()` 함수를 구현한 후에 제대로 작동함을 확인하라.\n",
    "\n",
    "참고: [Iterative Quick Sort](https://www.geeksforgeeks.org/iterative-quick-sort/)"
   ]
  }
 ],
 "metadata": {
  "kernelspec": {
   "display_name": "Python 3 (ipykernel)",
   "language": "python",
   "name": "python3"
  },
  "language_info": {
   "codemirror_mode": {
    "name": "ipython",
    "version": 3
   },
   "file_extension": ".py",
   "mimetype": "text/x-python",
   "name": "python",
   "nbconvert_exporter": "python",
   "pygments_lexer": "ipython3",
   "version": "3.11.4"
  },
  "vscode": {
   "interpreter": {
    "hash": "ad0f3c8a064f687cbf898a0868fd45ba1c7e928ac8a0404f7c241d812ddc1e76"
   }
  }
 },
 "nbformat": 4,
 "nbformat_minor": 2
}
