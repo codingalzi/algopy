{
 "cells": [
  {
   "cell_type": "markdown",
   "metadata": {},
   "source": [
    "# (실습) 최소비용 신장트리"
   ]
  },
  {
   "cell_type": "markdown",
   "metadata": {
    "slideshow": {
     "slide_type": "slide"
    }
   },
   "source": [
    "**문제 1**"
   ]
  },
  {
   "cell_type": "markdown",
   "metadata": {},
   "source": [
    "아래 가중 비방향 연결그래프의 최소비용 신장트리를 찾는 과정을 단계별로 묘사하면 다음과 같다.\n",
    "\n",
    "| Y | 설명 |\n",
    "| :--- | :--- |\n",
    "| {v1} | v1에서 출발 |\n",
    "| {v1, v4} | v4-v1의 거리가 17로 가장 짧음 |\n",
    "| {v1, v4, v8} | v8-v4의 거리가 3으로 가장 짧음 |\n",
    "| {v1, v4, v8, v9} | v9-v8의 거리가 4로 가장 짧음 |\n",
    "| {v1, v4, v8, v9, v5} | v5-v4의 거리가 10으로 가장 짧음 |\n",
    "| {v1, v4, v8, v9, v5, v10} | v10-v9의 거리가 12로 가장 짧음 |\n",
    "| {v1, v4, v8, v9, v5, v10, v6} | v6-v10의 거리가 6으로 가장 짧음 |\n",
    "| {v1, v4, v8, v9, v5, v10, v6, v3} | v3-v4의 거리가 18로 가장 짧음 |\n",
    "| {v1, v4, v8, v9, v5, v10, v6, v3, v7} | v7-v3의 거리가 5로 가장 짧음 |\n",
    "| {v1, v4, v8, v9, v5, v10, v6, v3, v7, v2} | v2-v1의 거리가 32로 가장 짧음 |"
   ]
  },
  {
   "cell_type": "markdown",
   "metadata": {
    "slideshow": {
     "slide_type": ""
    }
   },
   "source": [
    "<div align=\"center\"><img src=\"https://raw.githubusercontent.com/codingalzi/algopy/master/jupyter-book/imgs/algo04/algo04-09.png\" width=\"400\"/></div>"
   ]
  },
  {
   "cell_type": "markdown",
   "metadata": {
    "slideshow": {
     "slide_type": "slide"
    }
   },
   "source": [
    "최소비용 신장트리가 아래 빨강 이음선으로 이어진 트리로 그려진다.\n",
    "괄호로 감싸인 빨강색 숫자는 최소비용 신장트리에 추가되는 순서를 가리킨다."
   ]
  },
  {
   "cell_type": "markdown",
   "metadata": {
    "slideshow": {
     "slide_type": ""
    }
   },
   "source": [
    "<div align=\"center\"><img src=\"https://raw.githubusercontent.com/codingalzi/algopy/master/jupyter-book/imgs/algo04/algo04-09a.png\" width=\"400\"/></div>"
   ]
  },
  {
   "cell_type": "markdown",
   "metadata": {
    "slideshow": {
     "slide_type": ""
    }
   },
   "source": [
    "주어진 가중 비방향 연결그래프의 인접행렬을 이용하여 아래 프림 알고리즘을 실행한 결과가 앞서 설명된 결과와 동일함을 확인하라.\n",
    "인접행렬을 지정할 때 인덱스 $i-1$가 $v_i$를 가리키도록 함에 주의하라. "
   ]
  },
  {
   "cell_type": "code",
   "execution_count": 1,
   "metadata": {
    "slideshow": {
     "slide_type": "slide"
    }
   },
   "outputs": [],
   "source": [
    "from math import inf\n",
    "from collections import defaultdict\n",
    "\n",
    "# 인접행렬을 지정하라.\n",
    "W = None"
   ]
  },
  {
   "cell_type": "markdown",
   "metadata": {},
   "source": [
    "프림 알고리즘은 다음과 같다."
   ]
  },
  {
   "cell_type": "code",
   "execution_count": 2,
   "metadata": {},
   "outputs": [],
   "source": [
    "def prim(W):\n",
    "    V = len(W)\n",
    "    F = defaultdict(list)\n",
    "\n",
    "    nearest = [0] * V\n",
    "    distance = [W[0][i] for i in range(V)]\n",
    "    distance[0] = -1\n",
    "\n",
    "    for _ in range(V-1):\n",
    "        min = inf\n",
    "        for i in range(1, V):\n",
    "            if (0 < distance[i] < min):\n",
    "                min = distance[i]\n",
    "                vnear = i\n",
    "\n",
    "        F[nearest[vnear]].append(vnear)\n",
    "        distance[vnear] = -1\n",
    "\n",
    "        for i in range(1, V):\n",
    "            if W[i][vnear] < distance[i]:\n",
    "                distance[i] = W[i][vnear]\n",
    "                nearest[i] = vnear\n",
    "    return F"
   ]
  },
  {
   "cell_type": "code",
   "execution_count": 3,
   "metadata": {
    "slideshow": {
     "slide_type": ""
    }
   },
   "outputs": [],
   "source": [
    "# 아래 주석을 해제하고 실행했을 때 오류가 발생하지 않아야 한다.\n",
    "\n",
    "# assert prim(W) == defaultdict(list, {0: [3, 1], 3: [7, 4, 2], 7: [8], 8: [9], 9: [5], 2: [6]})"
   ]
  }
 ],
 "metadata": {
  "kernelspec": {
   "display_name": "Python 3.9.12 ('base')",
   "language": "python",
   "name": "python3"
  },
  "language_info": {
   "codemirror_mode": {
    "name": "ipython",
    "version": 3
   },
   "file_extension": ".py",
   "mimetype": "text/x-python",
   "name": "python",
   "nbconvert_exporter": "python",
   "pygments_lexer": "ipython3",
   "version": "3.9.12"
  },
  "orig_nbformat": 4,
  "vscode": {
   "interpreter": {
    "hash": "ad0f3c8a064f687cbf898a0868fd45ba1c7e928ac8a0404f7c241d812ddc1e76"
   }
  }
 },
 "nbformat": 4,
 "nbformat_minor": 2
}
