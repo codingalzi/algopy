{
 "cells": [
  {
   "cell_type": "markdown",
   "metadata": {},
   "source": [
    "# (실습) 최소비용 신장트리"
   ]
  },
  {
   "cell_type": "markdown",
   "metadata": {
    "slideshow": {
     "slide_type": "slide"
    }
   },
   "source": [
    "**문제 1**"
   ]
  },
  {
   "cell_type": "markdown",
   "metadata": {},
   "source": [
    "아래 비방향그래프의 최소신장트리를 찾는 과정을 단계별로 묘사하라."
   ]
  },
  {
   "cell_type": "markdown",
   "metadata": {
    "slideshow": {
     "slide_type": ""
    }
   },
   "source": [
    "<div align=\"center\"><img src=\"../jupyter-book/imgs/algo04/algo04-09.png\" width=\"400\"/></div>"
   ]
  },
  {
   "cell_type": "markdown",
   "metadata": {
    "slideshow": {
     "slide_type": "slide"
    }
   },
   "source": [
    "* 신장트리에 추가되는 이음선의 순서는 다음과 같음:\n",
    "    \n",
    "    * Y = {1}\n",
    "        * v4-v1의 거리가 17로 가장 짧음.\n",
    "    * Y = {1, 4}\n",
    "        * v8-v4의 거리가 3으로 가장 짧음.\n",
    "    * Y = {1, 4, 8}\n",
    "        * v9-v8의 거리가 4로 가장 짧음.\n",
    "    * Y = {1, 4, 8, 9}\n",
    "        * v5-v4의 거리가 10으로 가장 짧음.\n",
    "    * Y = {1, 4, 8, 9, 5}\n",
    "        * v10-v9의 거리가 12로 가장 짧음.\n",
    "    * Y = {1, 4, 8, 9, 5, 10}\n",
    "        * v6-v10의 거리가 6으로 가장 짧음.\n",
    "    * Y = {1, 4, 8, 9, 5, 10, 6}\n",
    "        * v3-v4의 거리가 18로 가장 짧음.\n",
    "    * Y = {1, 4, 8, 9, 5, 10, 6, 3}\n",
    "        * v7-v3의 거리가 5로 가장 짧음.\n",
    "    * Y = {1, 4, 8, 9, 5, 10, 6, 3, 7}\n",
    "        * v2-v1의 거리가 32로 가장 짧음.\n",
    "    * Y = {1, 4, 8, 9, 5, 10, 6, 3, 7, 2}"
   ]
  },
  {
   "cell_type": "markdown",
   "metadata": {
    "slideshow": {
     "slide_type": "slide"
    }
   },
   "source": [
    "* 아래 그래프에서 확인할 수 있음. 빨강색 숫자는 최소비용신장트리에 추가되는 순서를 가리킴."
   ]
  },
  {
   "cell_type": "markdown",
   "metadata": {
    "slideshow": {
     "slide_type": ""
    }
   },
   "source": [
    "<div align=\"center\"><img src=\"../jupyter-book/imgs/algo04/algo04-09a.png\" width=\"400\"/></div>"
   ]
  },
  {
   "cell_type": "markdown",
   "metadata": {
    "slideshow": {
     "slide_type": "slide"
    }
   },
   "source": [
    "**확인하기**"
   ]
  },
  {
   "cell_type": "markdown",
   "metadata": {
    "slideshow": {
     "slide_type": ""
    }
   },
   "source": [
    "위 비방향그래프를 2차원 행렬로 표기하면 다음과  같다."
   ]
  },
  {
   "cell_type": "code",
   "execution_count": null,
   "metadata": {
    "slideshow": {
     "slide_type": ""
    }
   },
   "outputs": [],
   "source": [
    "W = [[  0,  32, inf,  17, inf, inf, inf, inf, inf, inf],\n",
    "     [ 32,   0, inf, inf,  45, inf, inf, inf, inf, inf],\n",
    "     [inf, inf,   0,  18, inf, inf,   5, inf, inf, inf],\n",
    "     [ 17, inf,  18,   0,  10, inf, inf,   3, inf, inf],\n",
    "     [inf,  45, inf,  10,   0,  28, inf, inf,  25, inf],\n",
    "     [inf, inf, inf, inf,  28,   0, inf, inf, inf,   6],\n",
    "     [inf, inf,   5, inf, inf, inf,   0,  59, inf, inf],\n",
    "     [inf, inf, inf,   3, inf, inf,  59,   0,   4, inf],\n",
    "     [inf, inf, inf, inf,  25, inf, inf,   4,   0,  12],\n",
    "     [inf, inf, inf, inf, inf,   6, inf, inf,  12,   0]]"
   ]
  },
  {
   "cell_type": "markdown",
   "metadata": {
    "slideshow": {
     "slide_type": "slide"
    }
   },
   "source": [
    "따라서 아래와 같이 최소비용신장트리가 생성된다."
   ]
  },
  {
   "cell_type": "code",
   "execution_count": null,
   "metadata": {
    "slideshow": {
     "slide_type": ""
    }
   },
   "outputs": [
    {
     "data": {
      "text/plain": [
       "defaultdict(list, {0: [3, 1], 3: [7, 4, 2], 7: [8], 8: [9], 9: [5], 2: [6]})"
      ]
     },
     "metadata": {},
     "output_type": "display_data"
    }
   ],
   "source": [
    "prim(W)"
   ]
  }
 ],
 "metadata": {
  "kernelspec": {
   "display_name": "Python 3.9.12 ('base')",
   "language": "python",
   "name": "python3"
  },
  "language_info": {
   "name": "python",
   "version": "3.9.12"
  },
  "orig_nbformat": 4,
  "vscode": {
   "interpreter": {
    "hash": "ad0f3c8a064f687cbf898a0868fd45ba1c7e928ac8a0404f7c241d812ddc1e76"
   }
  }
 },
 "nbformat": 4,
 "nbformat_minor": 2
}
