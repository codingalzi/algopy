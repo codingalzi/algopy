{
 "cells": [
  {
   "cell_type": "markdown",
   "metadata": {},
   "source": [
    "# (실습) 되추적 기법"
   ]
  },
  {
   "cell_type": "markdown",
   "metadata": {
    "slideshow": {
     "slide_type": "slide"
    }
   },
   "source": [
    "**문제 1**"
   ]
  },
  {
   "cell_type": "markdown",
   "metadata": {
    "slideshow": {
     "slide_type": "slide"
    }
   },
   "source": [
    "5-퀸 문제를 해결하는 되추적 알고리즘을 단계별로 설명하라."
   ]
  },
  {
   "cell_type": "markdown",
   "metadata": {
    "slideshow": {
     "slide_type": "slide"
    }
   },
   "source": [
    "* 앞서 소개한 n-퀸 알고리즘은 DFS 기법을 사용하며, 하나의 해답을 찾으면 바로 종료함. \n",
    "    따라서 아래 단계를 거치며 해답 하나를 구함.\n",
    "\n",
    "    * 첫째 퀸: 1행 1열에 위치시킴\n",
    "    * 둘째 퀸: 2행 3~5열이 유망함. 따라서 3열에 위치시킴.\n",
    "    * 셋째 퀸: 3행 5열만이 유일하게 유망함. 따라서 5열에 위치시킴.\n",
    "    * 넷째 퀸: 4행 2열만이 유일하게 유망함. 따라서 2열에 위치시킴.\n",
    "    * 다섯째 퀸: 5행 4열만이 유일하게 유망함. 따라서 4열에 위치시킴."
   ]
  },
  {
   "cell_type": "markdown",
   "metadata": {
    "slideshow": {
     "slide_type": ""
    }
   },
   "source": [
    "<div align=\"center\"><img src=\"https://raw.githubusercontent.com/codingalzi/algopy/master/jupyter-book/imgs/algo05/algo05-15.png\" width=\"150\"/></div>"
   ]
  },
  {
   "cell_type": "markdown",
   "metadata": {
    "slideshow": {
     "slide_type": "slide"
    }
   },
   "source": [
    "* 앞서 작성한  `backtracking_search_queens()` 함수를 이용하여 확인하면 다음과 같음."
   ]
  },
  {
   "cell_type": "code",
   "execution_count": 5,
   "metadata": {},
   "outputs": [],
   "source": [
    "from collections import defaultdict\n",
    "\n",
    "def promissing_queens(variable: int, assignment=defaultdict(int)):\n",
    "    \"\"\"새로운 변수 variable에 값을 할당 하면서 해당 변수와 연관된 변수들 사이의 제약조건이 \n",
    "    assignment에 대해 만족되는지 여부 확인\n",
    "\n",
    "    n-퀸 문제의 경우: 제약조건이 모든 변수에 대해 일정함.\n",
    "                   즉, 새로 위치시켜야 하는 퀸이 기존에 이미 자리잡은 퀸들 중 하나와\n",
    "                   동일 행, 열, 대각산 상에 위치하는지 여부를 확인함\"\"\"\n",
    "\n",
    "    # q1r, q1c: 첫째 퀸이 놓인 노드의 열과 행\n",
    "    for q1r, q1c in assignment.items(): \n",
    "        # q2r = 첫째 퀸 아래에 위치한 다른 모든 퀸들을 대상으로 조건만족여부 확인\n",
    "        for q2r in range(q1r + 1, len(assignment) + 1): \n",
    "            q2c = assignment[q2r] # 둘째 퀸의 열\n",
    "            if q1c == q2c: # 동일 열에 위치?\n",
    "                return False\n",
    "            if abs(q1r - q2r) == abs(q1c - q2c): # 대각선상에 위치?\n",
    "                return False \n",
    "\n",
    "    # 모든 변수에 대해 제약조건 만족됨\n",
    "    return True "
   ]
  },
  {
   "cell_type": "code",
   "execution_count": 6,
   "metadata": {},
   "outputs": [],
   "source": [
    "def backtracking_search_queens(assignment=defaultdict(int)):\n",
    "    \"\"\"assignment: 각각의 변수를 키로 사용하고 키값은 해당 변수에 할당될 값\"\"\"\n",
    "    \n",
    "    # 모든 변수에 대한 값이 지정된 경우 조건을 만족시키는 해가 완성된 것임\n",
    "    if len(assignment) == len(variables):\n",
    "        return assignment\n",
    "    # 아직 값을 갖지 않은 변수들이 존재하면 되추적 알고리즘을 아직 할당되지 않은 값을 대상으로 이어서 진행\n",
    "    unassigned = [v for v in variables if v not in assignment]\n",
    "    first = unassigned[0]\n",
    "    \n",
    "    for value in domains[first]:\n",
    "        # 주의: 기존의 assignment를 보호하기 위해 복사본 활용\n",
    "        # 되추적이 발생할 때 이전 할당값을 기억해 두기 위해서임.\n",
    "        local_assignment = assignment.copy()\n",
    "        local_assignment[first] = value\n",
    "        # local_assignment 값이 유망하면 재귀 호출을 사용하여 변수 할당 이어감.\n",
    "        if promissing_queens(first, local_assignment):\n",
    "            result = backtracking_search_queens(local_assignment)\n",
    "            # 유망성을 이어가지 못하면 되추적 실행\n",
    "            if result is not None:\n",
    "                return result\n",
    "            \n",
    "    return None    "
   ]
  },
  {
   "cell_type": "code",
   "execution_count": 7,
   "metadata": {
    "slideshow": {
     "slide_type": ""
    }
   },
   "outputs": [
    {
     "data": {
      "text/plain": [
       "defaultdict(int, {1: 1, 2: 3, 3: 5, 4: 2, 5: 4})"
      ]
     },
     "execution_count": 7,
     "metadata": {},
     "output_type": "execute_result"
    }
   ],
   "source": [
    "# 변수: 네 개의 퀸의 번호, 즉, 1, 2, 3, 4, 5\n",
    "variables = [1, 2, 3, 4, 5]\n",
    "\n",
    "# 도메인: 각각의 퀸이 자리잡을 수 있는 가능한 모든 열의 위치. \n",
    "domains = defaultdict(list)\n",
    "columns = [1, 2, 3, 4, 5]\n",
    "for var in variables:\n",
    "    domains[var] = columns\n",
    "\n",
    "backtracking_search_queens()"
   ]
  },
  {
   "cell_type": "markdown",
   "metadata": {
    "slideshow": {
     "slide_type": "slide"
    }
   },
   "source": [
    "**문제 2**"
   ]
  },
  {
   "cell_type": "markdown",
   "metadata": {
    "slideshow": {
     "slide_type": "slide"
    }
   },
   "source": [
    "빨강(R), 초록(G), 파랑(B)이 주어졌을 때 되추적 알고리즘을 이용하여 아래 그래프를 색칠하는 과정을 단계별로 설명하라."
   ]
  },
  {
   "cell_type": "markdown",
   "metadata": {
    "slideshow": {
     "slide_type": ""
    }
   },
   "source": [
    "<div align=\"center\"><img src=\"https://raw.githubusercontent.com/codingalzi/algopy/master/jupyter-book/imgs/algo05/algo05-16.png\" width=\"300\"/></div>"
   ]
  },
  {
   "cell_type": "markdown",
   "metadata": {
    "slideshow": {
     "slide_type": "slide"
    }
   },
   "source": [
    "* 앞서 소개한 m-색칠하기 알고리즘은 DFS 기법을 사용하며, 하나의 해답을 찾으면 바로 종료함. \n",
    "    따라서 아래 단계를 거치며 해답 하나를 구함.\n",
    "\n",
    "    * v1: R, G, B가 유망하지만 먼저 R 선택\n",
    "    * v2: G, B가 유망하지만 먼저 G 선택\n",
    "    * v3: R, B가 유망하지만 먼저 R 선택\n",
    "    * v4: G, B가 유망하지만 먼저 G 선택\n",
    "    * v5: R, B가 유망하지만 먼저 R 선택\n",
    "    * v6: G, B가 유망하지만 먼저 G 선택\n"
   ]
  },
  {
   "cell_type": "markdown",
   "metadata": {
    "slideshow": {
     "slide_type": "slide"
    }
   },
   "source": [
    "* 앞서 작성한  `backtracking_search_colors()` 함수를 이용하여 확인하면 다음과 같음."
   ]
  },
  {
   "cell_type": "code",
   "execution_count": 9,
   "metadata": {
    "slideshow": {
     "slide_type": ""
    }
   },
   "outputs": [],
   "source": [
    "# 변수: 여섯 개 노드의 번호, 즉, 1, 2, 3, 4, 5, 6\n",
    "variables = [1, 2, 3, 4, 5, 6]\n",
    "\n",
    "# 도메인: 각각의 노드에 칠할 수 있는 색상 세 개(R, G, B)\n",
    "domains = defaultdict(list)\n",
    "columns = [1, 2, 3]\n",
    "for var in variables:\n",
    "    domains[var] = columns"
   ]
  },
  {
   "cell_type": "markdown",
   "metadata": {
    "slideshow": {
     "slide_type": "slide"
    }
   },
   "source": [
    "* 위 그래프에 의한 제약조건을 사용한 유망성 확인 함수는 다음과 같음."
   ]
  },
  {
   "cell_type": "code",
   "execution_count": 12,
   "metadata": {
    "slideshow": {
     "slide_type": ""
    }
   },
   "outputs": [],
   "source": [
    "def promissing_colors(variable:int, assignment=defaultdict(int)):\n",
    "    \"\"\"새로운 변수 variable에 값을 할당 하면서 해당 변수와 연관된 변수들 사이의 제약조건이 \n",
    "    assignment에 대해 만족되는지 여부 확인\n",
    "\n",
    "    m-색칠하기 문제의 경우: 이웃노드의 상태에 따라 제약조건이 달라짐.\n",
    "                       즉, 노드 variable에 할당된 색이 이웃노드의 색과 달라야 함.\n",
    "                       이를 위해 각각의 노드가 갖는 이웃노드들의 리스트를 먼저 확인해야 함.\"\"\"\n",
    "    # 각 노드에 대한 이웃노드의 리스트\n",
    "    constraints = {\n",
    "        1 : [2, 4],\n",
    "        2 : [1, 3, 5],\n",
    "        3 : [2, 6],\n",
    "        4 : [1, 5],\n",
    "        5 : [2, 4, 6],\n",
    "        6 : [3, 5]\n",
    "    }\n",
    "\n",
    "    for var in constraints[variable]:\n",
    "        if (var in assignment) and (assignment[var] == assignment[variable]):\n",
    "            return False\n",
    "\n",
    "    return True "
   ]
  },
  {
   "cell_type": "markdown",
   "metadata": {
    "slideshow": {
     "slide_type": "slide"
    }
   },
   "source": [
    "* 실제로 빨강과 초록이 번갈아 사용됨을 아래와 같이 확인됨."
   ]
  },
  {
   "cell_type": "code",
   "execution_count": 14,
   "metadata": {},
   "outputs": [],
   "source": [
    "def backtracking_search_colors(assignment=defaultdict(int)):\n",
    "    \"\"\"assignment: 각각의 변수를 키로 사용하고 키값은 해당 변수에 할당될 값\"\"\"\n",
    "\n",
    "    # 모든 변수에 대한 값이 지정된 경우 조건을 만족시키는 해가 완성된 것임\n",
    "    if len(assignment) == len(variables):\n",
    "        return assignment\n",
    "    # 아직 값을 갖지 않은 변수들이 존재하면 되추적 알고리즘을 아직 할당되지 않은 값을 대상으로 이어서 진행\n",
    "    unassigned = [v for v in variables if v not in assignment]\n",
    "    first = unassigned[0]\n",
    "    \n",
    "    for value in domains[first]:\n",
    "        # 주의: 기존의 assignment를 보호하기 위해 복사본 활용\n",
    "        # 되추적이 발생할 때 이전 할당값을 기억해 두기 위해서임.\n",
    "        local_assignment = assignment.copy()\n",
    "        local_assignment[first] = value\n",
    "        # local_assignment 값이 유망하면 재귀 호출을 사용하여 변수 할당 이어감.\n",
    "        if promissing_colors(first, local_assignment):\n",
    "            result = backtracking_search_colors(local_assignment)\n",
    "            # 유망성을 이어가지 못하면 되추적 실행\n",
    "            if result is not None:\n",
    "                return result\n",
    "\n",
    "    return None    "
   ]
  },
  {
   "cell_type": "code",
   "execution_count": 16,
   "metadata": {
    "slideshow": {
     "slide_type": ""
    }
   },
   "outputs": [
    {
     "data": {
      "text/plain": [
       "defaultdict(int, {1: 1, 2: 2, 3: 1, 4: 2, 5: 1, 6: 2})"
      ]
     },
     "execution_count": 16,
     "metadata": {},
     "output_type": "execute_result"
    }
   ],
   "source": [
    "backtracking_search_colors()"
   ]
  }
 ],
 "metadata": {
  "kernelspec": {
   "display_name": "Python 3 (ipykernel)",
   "language": "python",
   "name": "python3"
  },
  "language_info": {
   "codemirror_mode": {
    "name": "ipython",
    "version": 3
   },
   "file_extension": ".py",
   "mimetype": "text/x-python",
   "name": "python",
   "nbconvert_exporter": "python",
   "pygments_lexer": "ipython3",
   "version": "3.11.4"
  },
  "vscode": {
   "interpreter": {
    "hash": "ad0f3c8a064f687cbf898a0868fd45ba1c7e928ac8a0404f7c241d812ddc1e76"
   }
  }
 },
 "nbformat": 4,
 "nbformat_minor": 2
}
