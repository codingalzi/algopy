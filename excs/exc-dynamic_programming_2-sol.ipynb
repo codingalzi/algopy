{
 "cells": [
  {
   "cell_type": "markdown",
   "metadata": {},
   "source": [
    "# (실습) 플로이드-워셜 알고리즘"
   ]
  },
  {
   "cell_type": "markdown",
   "metadata": {},
   "source": [
    "**문제: 플로이드-워셜 알고리즘**"
   ]
  },
  {
   "cell_type": "markdown",
   "metadata": {},
   "source": [
    "아래 `floyd_warshall()` 함수는 $n$개의 행렬 $D^{(0)}$, $D^{(1)}$, ..., $D^{(n)}$ 를\n",
    "사용한다."
   ]
  },
  {
   "cell_type": "code",
   "execution_count": 1,
   "metadata": {},
   "outputs": [],
   "source": [
    "from copy import deepcopy\n",
    "\n",
    "def floyd_warshall(W):\n",
    "    n = len(W)\n",
    "    # 사전을 이용하여 D^(0), ... , D^(n) 저장\n",
    "    # 키는 0, 1, ..., n 사용\n",
    "    D = dict() \n",
    "\n",
    "    # D^(0) 지정\n",
    "    # 주의: deepcopy를 사용하지 않으면 W가 수정됨\n",
    "    D[0] = deepcopy(W)\n",
    "\n",
    "    # D^(k) 로부터 D^(k+1)를 생성\n",
    "    for k in range(0, n):\n",
    "        D[k+1] = D[k]\n",
    "        # 행렬의 인덱스는 0부터 (n-1)까지 이동\n",
    "        for i in range(0, n):\n",
    "            for j in range(0, n):\n",
    "                if D[k][i][k]+ D[k][k][j] < D[k][i][j]:\n",
    "                    D[k+1][i][j] = D[k][i][k]+ D[k][k][j]\n",
    "    \n",
    "    # 최종 완성된 D[n] 반환\n",
    "    return D[n]"
   ]
  },
  {
   "cell_type": "markdown",
   "metadata": {},
   "source": [
    "위 알고리즘을 한 개의 행렬만 사용하도록 알고리즘을 수정하라.\n",
    "이를 위해 아래 아이디어를 이용한다.\n",
    "\n",
    "- `D = deepcopy(W)`로 초기화\n",
    "- `k`에 대해 반복문을 실행 할 때, 새로운 `D`를 생성하는 대신 `D` 자체를 업데이트"
   ]
  },
  {
   "cell_type": "markdown",
   "metadata": {},
   "source": [
    "견본 답안:"
   ]
  },
  {
   "cell_type": "markdown",
   "metadata": {},
   "source": [
    "`D[k+1] = D[k]` 는 `D[k+1]`와 `D[k]`가 동일한 행렬을 가리키도록 한다.\n",
    "따라서 하나의 행렬 `D = deepcopy(W)` 를 선언한 다음 `D` 를 계속 업데이트해도 동일한 결과를 얻는다.\n",
    "이유는 `D[k+1][i][j] = D[k][i][k]+ D[k][k][j]`를 계산할 때 \n",
    "`D[k+1][i][k]`와 `D[k+1][k][j]`는 미리 업데이트 되지 않기 때문이다.\n",
    "미리 업데이트 되지 않는 이유는 `D[k+1][i][k] = D[k][i][k]`와 `D[k+1][k][j]=D[k][k][j]` 가 성립하기 때문이다."
   ]
  },
  {
   "cell_type": "code",
   "execution_count": 1,
   "metadata": {},
   "outputs": [],
   "source": [
    "from copy import deepcopy\n",
    "\n",
    "def floyd_warshall(W):\n",
    "    n = len(W)\n",
    "\n",
    "    # D^(0) 지정\n",
    "    # 주의: deepcopy를 사용하지 않으면 W에 혼란을 발생시킴\n",
    "    D = deepcopy(W)\n",
    "\n",
    "    # k가 0부터 (n-1)까지 이동하면서 D가 D^(1), ..., D^(n)을 차례대로 모방함.\n",
    "    # 즉, D를 업데이트하는 방식을 이용하여 최종적으로 D^(n) 생성\n",
    "    for k in range(0, n):\n",
    "        # 행렬의 인덱스는 0부터 (n-1)까지 이동\n",
    "        for i in range(0, n):\n",
    "            for j in range(0, n):\n",
    "                if D[i][k]+ D[k][j] < D[i][j]:\n",
    "                    D[i][j] = D[i][k]+ D[k][j]\n",
    "    \n",
    "    # 최종 완성된 D 반환\n",
    "    return D"
   ]
  },
  {
   "cell_type": "code",
   "execution_count": 2,
   "metadata": {},
   "outputs": [],
   "source": [
    "# 무한에 해당하는 기호 사용\n",
    "from math import inf\n",
    "\n",
    "# inf 는 두 노드 사이에 간선이 없음을 의미함.\n",
    "W = [[0, 1, inf, 1, 5],\n",
    "     [9, 0, 3, 2, inf],\n",
    "     [inf, inf, 0, 4, inf],\n",
    "     [inf, inf, 2, 0, 3],\n",
    "     [3, inf, inf, inf, 0]]"
   ]
  },
  {
   "cell_type": "code",
   "execution_count": 27,
   "metadata": {},
   "outputs": [
    {
     "ename": "NameError",
     "evalue": "name 'floyd_warshall' is not defined",
     "output_type": "error",
     "traceback": [
      "\u001b[0;31m---------------------------------------------------------------------------\u001b[0m",
      "\u001b[0;31mNameError\u001b[0m                                 Traceback (most recent call last)",
      "Cell \u001b[0;32mIn[27], line 1\u001b[0m\n\u001b[0;32m----> 1\u001b[0m floyd_warshall(W)\n",
      "\u001b[0;31mNameError\u001b[0m: name 'floyd_warshall' is not defined"
     ]
    }
   ],
   "source": [
    "floyd_warshall(W)"
   ]
  },
  {
   "cell_type": "markdown",
   "metadata": {},
   "source": [
    "**문제: 0-1 배낭채우기 문제**"
   ]
  },
  {
   "cell_type": "markdown",
   "metadata": {},
   "source": [
    "W kg까지 넣을 수 있는 가방을 들고 쥬얼리샵에 침입하였다고 가정한다.\n",
    "훔칠 수 있는 N 개의 보석이 주어졌고 각각이 서로 다른 무게를 갖는다고 가정한다.\n",
    "이때 최대의 값어치가 되도록 가방에 보석을 넣는 방법을 알아내는 문제인\n",
    "0-1 배낭채우기<font size='2'>0-1 Knapsack problem</font> 문제의 알고리즘을 동적계획법으로 구현하려 한다.\n",
    "\n",
    "문제 이해를 위해 다음 경우를 가정한다. \n",
    "\n",
    "- W = 20\n",
    "- 훔칠 수 있는 보석이 종류별로 1개, 즉 총 N=5개.\n",
    "\n",
    "| 보석 종류| 무게 | 값어치 |\n",
    "| :---: | :---: | :---: |\n",
    "| 0 | 2 | 3 |\n",
    "| 1 | 3 | 4 |\n",
    "| 2 | 4 | 8 |\n",
    "| 3 | 5 | 8 |\n",
    "| 4 | 9 | 10 |\n",
    "\n",
    "동적계획법을 적용하기 위해 다음 성질을 만족하는 W x N 모양의 2차원 행렬 M을 사용한다.\n",
    "\n",
    "```\n",
    "M[i][j]: 처음부터 i번 째까지의 물건을 살펴보고, 배낭의 용량이 j였을 때 배낭에 들어간 물건들의 최대 가치\n",
    "```\n",
    "\n",
    "보다 자세한 내용과 알고리즘 설명은 많은 인터넷 사이트를 참고할 수 있다. \n",
    "예를 들어 아래 두 링크를 추천한다.\n",
    "\n",
    "- [Knapsack problem (Wikipedia)](https://en.wikipedia.org/wiki/Knapsack_problem)\n",
    "- [0-1 Knapsack problem (GeeksforGeeks)](https://www.geeksforgeeks.org/0-1-knapsack-problem-dp-10/)"
   ]
  },
  {
   "cell_type": "markdown",
   "metadata": {},
   "source": [
    "**질문 1**\n",
    "\n",
    "위 알고리즘을 동적계획법으로 구현하라."
   ]
  },
  {
   "cell_type": "markdown",
   "metadata": {},
   "source": [
    "**질문 2**\n",
    "\n",
    "앞서 설명한 동적계획법을 적용했을 때 최소 비용이 계산되는 것을 보장하기 위해 먼저 최적의 원칙이 보장됨을 설명하라."
   ]
  },
  {
   "cell_type": "markdown",
   "metadata": {},
   "source": [
    "**질문 1 모범답안**"
   ]
  },
  {
   "cell_type": "code",
   "execution_count": 25,
   "metadata": {},
   "outputs": [],
   "source": [
    "def Knapsack(W, wight, price):\n",
    "    n = len(weight)\n",
    "    M = [[0 for _ in range(W + 1)] for _ in range(n + 1)]\n",
    "\n",
    "    for i in range(n + 1):\n",
    "        for w in range(W + 1):\n",
    "            # 아무것도 넣지 않거나 가방의 용량이 0인 경우\n",
    "            if i == 0 or w == 0:\n",
    "                M[i][w] = 0\n",
    "            # i 번째 보석의 무게가 가방 용량보다 같거나 적은 경우\n",
    "            # \n",
    "            elif wight[i-1] <= w:\n",
    "                M[i][w] = max(price[i-1] + M[i-1][w-wight[i-1]], M[i-1][w])\n",
    "            # i 번째 보석의 무게가 가방 용량보다 큰 경우\n",
    "            # i 번째 보석 포기\n",
    "            else:\n",
    "                M[i][w] = M[i-1][w]\n",
    "\n",
    "    return M[n][W]"
   ]
  },
  {
   "cell_type": "code",
   "execution_count": 26,
   "metadata": {},
   "outputs": [
    {
     "data": {
      "text/plain": [
       "29"
      ]
     },
     "execution_count": 26,
     "metadata": {},
     "output_type": "execute_result"
    }
   ],
   "source": [
    "W = 20\n",
    "weight = [2, 3, 4, 5, 9]\n",
    "price = [3, 4, 8, 8, 10]\n",
    "\n",
    "Knapsack(W, weight, price)"
   ]
  },
  {
   "cell_type": "markdown",
   "metadata": {},
   "source": [
    "**질문 2 모범답안**"
   ]
  },
  {
   "cell_type": "markdown",
   "metadata": {},
   "source": [
    "이 성질은 큰 문제의 최적해가 작은 부분 문제의 최적해를 포함하고 있음을 의미하는데, 전체 문제의 최적해를 부분 문제의 최적해로 나눌 수 있다. 0-1 배낭채우기 문제에서는 현재 상태에서 최선의 선택을 했을 때, 이 선택이 전체 문제의 최적해의 부분으로 사용될 수 있다. 이를 통해 작은 배낭의 최적해를 조합하여 큰 배낭의 최적해를 찾을 수 있다."
   ]
  },
  {
   "cell_type": "markdown",
   "metadata": {},
   "source": [
    "**문제: 편집 거리 문제**"
   ]
  },
  {
   "cell_type": "markdown",
   "metadata": {},
   "source": [
    "str1과 str2 두 개의 문자열이 주어졌을 때 문자열 str1을 문자열 str2로 변환하는 데 필요한 최소 비용을 가리키는\n",
    "편집 거리를 계산하는 문제이다.\n",
    "일명 **레벤슈타인 거리**<font size='2'>Levenshtein distance</font> 문제라고도 불린다..\n",
    "단, 변환은 다음 세 가지 방식 중에 하나를 연속적으로 선택해서 진행한다.\n",
    "\n",
    "- 하나의 문자를 그대로 사용. 비용은 5.\n",
    "- 하나의 문자를 삭제. 비용은 20.\n",
    "- 하나의 문자를 추가. 비용은 20\n",
    "\n",
    "예를 들어, \"algorithm\"에서 \"alligator\"로의 변환에 필요한 최소 비용은 다음과 같이 구할 수 있다.\n",
    "\n",
    "- 처음 두 개의 문자 \"al\"은 동일하기 때문에 그대로 사용. 비용 10.\n",
    "- \"gorithm\"에서 \"ligator\"로의 변환에 필요한 최소 비용 계산.\n",
    "\n",
    "따라서 두 개의 문자열의 길이의 합이 적은 경우의 편집 거리를 이용하여 보다 긴 두 문자열의 편집 거리를 \n",
    "동적계획법으로 계산할 수 있다.\n",
    "보다 자세한 내용과 알고리즘 설명은 많은 인터넷 사이트를 참고할 수 있다. \n",
    "예를 들어 아래 두 링크를 추천한다.\n",
    "\n",
    "- [Levenshtein distance(Wikipedia)](https://en.wikipedia.org/wiki/Levenshtein_distance)\n",
    "- [Damerau-Levenshtein distance (GeeksforGeeks)](https://www.geeksforgeeks.org/damerau-levenshtein-distance/)"
   ]
  },
  {
   "cell_type": "markdown",
   "metadata": {},
   "source": [
    "`len(str1) = m`,  `len(str2) = n` 일 때, 동적 계획법을 적용하기 위해 \n",
    "`(m+1, n+1)` 모양의 2차원 행렬 `P`를 아래 성질을 만족하도록 업데이트 한다.\n",
    "\n",
    "- `P[i][j]`: 첫째 문자열의 길이가 i, 둘째 문자열의 길이가 j일 때, 두 문자열의 편집 거리."
   ]
  },
  {
   "cell_type": "markdown",
   "metadata": {},
   "source": [
    "**질문 1**\n",
    "\n",
    "두 문자열의 편집 거리를 계산하는 함수 `edit_distance(str1, str2)`를 동적계획법으로 구현하라."
   ]
  },
  {
   "cell_type": "markdown",
   "metadata": {},
   "source": [
    "**질문 2**\n",
    "\n",
    "앞서 설명한 동적계획법을 적용했을 때 최소 비용이 계산되는 것을 보장하기 위해 먼저 최적의 원칙이 보장됨을 설명하라."
   ]
  },
  {
   "cell_type": "markdown",
   "metadata": {},
   "source": [
    "**질문 1 모범답안**"
   ]
  },
  {
   "cell_type": "markdown",
   "metadata": {},
   "source": [
    "`P` 가 아래 점화식을 만족한다."
   ]
  },
  {
   "cell_type": "markdown",
   "metadata": {},
   "source": [
    "- `str2`의 길이가 0인 경우: `str1`에 포함된 모든 문자 삭제. \n",
    "        \n",
    "        P[i][0] = i*20"
   ]
  },
  {
   "cell_type": "markdown",
   "metadata": {},
   "source": [
    "- `str2`의 길이가 0인 경우: `str1`에 포함된 모든 문자 삭제. \n",
    "\n",
    "        P[0][j] = j*20"
   ]
  },
  {
   "cell_type": "markdown",
   "metadata": {},
   "source": [
    "`str1`과 `str2` 모두 길이가 1 이상인 경우엔 두 가지 경우로 분류하여 `P[i][j]`를 계산한다.\n",
    "\n",
    "- 첫째: `str1[i-1]` 과 `str2[j-1]` 이 동일한 문자인 경우엔 동일한 문자를 그대로 두고 이후의 두 부분 문자열을 편집 비용을 사용함.\n",
    "\n",
    "        P[i-1][j-1] + 5\n",
    "\n",
    "- 둘째:`str1[i-1]` 과 `str2[j-1]` 이 서로 다른 문자인 경우엔 `str1[i-1]`을 삭제하고 나머지를 `str2`와 비교하거나,\n",
    "    `str2[j-1]`을 삭제하고 나머지를 `str1`과 비교하거나,\n",
    "    `str1[i-1]`과 `str2[j-1]` 모두 동일한 문자로 대체하거나 등\n",
    "    세 가지 경우를 계산한 다음에 최소 편집 비용 선택.\n",
    "    \n",
    "    - `str1[i-1]` 삭제: `P[i-1][j] + 20`\n",
    "    - `str1[i-1]`에 `str2[j-2]` 삽입: `P[i][j-1] + 20`\n",
    "    - `str1[i-1]`과 `str2[j-1]` 모두 동일한 다른 문자로 대체: `P[i-1][j-1] + 40`"
   ]
  },
  {
   "cell_type": "code",
   "execution_count": 21,
   "metadata": {},
   "outputs": [],
   "source": [
    "def edit_distance(str1, str2):\n",
    "    m = len(str1)\n",
    "    n = len(str2)\n",
    "\n",
    "    # P 초기화. 0으로 채움\n",
    "    P = [[0 for x in range(n + 1)] for y in range(m + 1)]\n",
    "\n",
    "    # str2 가 빈 문자열인 경우: str1의 모든 문자 삭제\n",
    "    for i in range(1, m + 1):\n",
    "        P[i][0] = 20 * i\n",
    "\n",
    "    # str1 이 빈 문자열인 경우: str2에 포함된 모든 문자를 차례대로 str1에 추가\n",
    "    for j in range(1, n + 1):\n",
    "        P[0][j] = 20 * j       # 그대로 사용하는 비용 +20\n",
    "\n",
    "    # 두 문자열 모두 빈 문자열이 아닌 경우\n",
    "    # 비교 대상인 두 문자열의 두 부분문자열의 첫째 문자가 동일한지 여부에 따라 다르게 계산\n",
    "    # str1[i-1] : 비교 문자열의 첫 문자 (str1의 부분 문자열)\n",
    "    # str2[i-1] : 비교 문자열의 첫 문자 (str2의 부분 문자열)\n",
    "\n",
    "    for i in range(1, m + 1):\n",
    "        for j in range(1, n + 1):\n",
    "            # 두 비교 문자열 각각의 첫 문자가 서로 같은 경우\n",
    "            # 동일한 두 문자를 그대로 두고 다음 두 개의 문자부터 비교\n",
    "            if str1[i - 1] == str2[j - 1]:\n",
    "                P[i][j] = P[i-1][j-1] + 5\n",
    "                \n",
    "            # 두 비교 문자열 각각의 첫 문자가 서로 다른 경우\n",
    "            # 세 가지 경우의 최소 비용 선택\n",
    "            else:\n",
    "                # str1[i-1] 삭제\n",
    "                x_remove = P[i-1][j] + 20\n",
    "                # str1[i-1]에 str2[j-1] 삽입\n",
    "                x_insert = P[i][j-1] + 20\n",
    "                # str1[i-1]과 str2[j-1] 모두 동일한 다른 문자로 대체\n",
    "                x_replace = P[i-1][j-1] + 40\n",
    "                \n",
    "                # 세 경우의 최소값 선택\n",
    "                P[i][j] = min(x_insert, x_remove, x_replace)\n",
    "\n",
    "    # 행렬과 최종 비용 함께 반환\n",
    "    return P, P[m][n]"
   ]
  },
  {
   "cell_type": "code",
   "execution_count": 22,
   "metadata": {},
   "outputs": [],
   "source": [
    "str1 = 'algorithm'\n",
    "str2 = 'alligator'\n",
    "\n",
    "P, cost = edit_distance(str1, str2)"
   ]
  },
  {
   "cell_type": "markdown",
   "metadata": {},
   "source": [
    "편집거리 행렬은 다음과 같다."
   ]
  },
  {
   "cell_type": "code",
   "execution_count": 23,
   "metadata": {},
   "outputs": [
    {
     "data": {
      "text/plain": [
       "[[0, 20, 40, 60, 80, 100, 120, 140, 160, 180],\n",
       " [20, 5, 25, 45, 65, 85, 105, 125, 145, 165],\n",
       " [40, 25, 10, 30, 50, 70, 90, 110, 130, 150],\n",
       " [60, 45, 30, 50, 70, 55, 75, 95, 115, 135],\n",
       " [80, 65, 50, 70, 90, 75, 95, 115, 100, 120],\n",
       " [100, 85, 70, 90, 110, 95, 115, 135, 120, 105],\n",
       " [120, 105, 90, 110, 95, 115, 135, 155, 140, 125],\n",
       " [140, 125, 110, 130, 115, 135, 155, 140, 160, 145],\n",
       " [160, 145, 130, 150, 135, 155, 175, 160, 180, 165],\n",
       " [180, 165, 150, 170, 155, 175, 195, 180, 200, 185]]"
      ]
     },
     "execution_count": 23,
     "metadata": {},
     "output_type": "execute_result"
    }
   ],
   "source": [
    "P"
   ]
  },
  {
   "cell_type": "markdown",
   "metadata": {},
   "source": [
    "편집 비용은 다음과 같다."
   ]
  },
  {
   "cell_type": "code",
   "execution_count": 24,
   "metadata": {},
   "outputs": [
    {
     "name": "stdout",
     "output_type": "stream",
     "text": [
      "편집비용: 185\n"
     ]
    }
   ],
   "source": [
    "print(\"편집비용:\", cost)"
   ]
  },
  {
   "cell_type": "markdown",
   "metadata": {},
   "source": [
    "**질문 2 모범답안**"
   ]
  },
  {
   "cell_type": "markdown",
   "metadata": {},
   "source": [
    "앞서 소개한 동적 계획법은 문자열을 문자열의 헤드와 꼬리로 쪼개는 분할을 사용한다.\n",
    "\n",
    "- 헤드: 문자열의 첫째 문자\n",
    "- 꼬리: 헤드를 제외한 나머지 문자열\n",
    "\n",
    "그런데 두 문자열의 편집 거리는 두 문자열 각각의 헤드의 동일성 여부와\n",
    "두 문자열 각각의 꼬리를 편집하는 비용에 의존한다.\n",
    "따라서 주어진 두 문자열의 최소 편집 비용은 분할을 통해 발생하는 경우의 최소 편집 비용을 포함한다.\n",
    "즉, 최적의 원칙이 성립한다."
   ]
  }
 ],
 "metadata": {
  "kernelspec": {
   "display_name": "Python 3 (ipykernel)",
   "language": "python",
   "name": "python3"
  },
  "language_info": {
   "codemirror_mode": {
    "name": "ipython",
    "version": 3
   },
   "file_extension": ".py",
   "mimetype": "text/x-python",
   "name": "python",
   "nbconvert_exporter": "python",
   "pygments_lexer": "ipython3",
   "version": "3.11.4"
  },
  "vscode": {
   "interpreter": {
    "hash": "ad0f3c8a064f687cbf898a0868fd45ba1c7e928ac8a0404f7c241d812ddc1e76"
   }
  }
 },
 "nbformat": 4,
 "nbformat_minor": 2
}
