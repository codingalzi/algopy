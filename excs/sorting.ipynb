{
 "cells": [
  {
   "cell_type": "markdown",
   "metadata": {},
   "source": [
    "# 정렬 문제"
   ]
  },
  {
   "cell_type": "markdown",
   "metadata": {},
   "source": [
    "## 문제 1 (40점)"
   ]
  },
  {
   "cell_type": "markdown",
   "metadata": {},
   "source": [
    "아래 세 개의 리스트 각각에 대해 버블정렬, 선택정렬, 합병정렬, 퀵정렬 알고리즘이 적용되는 과정을 묘사하라. (40전)\n",
    "\n",
    "1. `[4, 1, 5, 2, 3]`\n",
    "1. `[1, 2, 3, 4, 5]`\n",
    "1. `[5, 4, 3, 2, 1]`\n",
    "1. `[\"P\", \"Y\", \"T\", \"H\", \"O\", \"N\"]`\n",
    "\n",
    "제출 내용: 손글씨 노트 또는 동영상"
   ]
  },
  {
   "cell_type": "markdown",
   "metadata": {},
   "source": [
    "## 문제 2 (60점)"
   ]
  },
  {
   "cell_type": "markdown",
   "metadata": {},
   "source": [
    "`mergesort()` 함수에 사용된 알고리즘을 수정하여 \n",
    "재귀에 사용된 슬라이싱 대신 구간 지정방식을 사용하는 재귀 합병 알고리즘을 구현하라.\n",
    "\n",
    "힌트: 합병을 담당하는 함수를 따로 정의해서 분할 재귀함수에 활용한다.\n",
    "\n",
    "제출내용: 고글 코랩 주소"
   ]
  }
 ],
 "metadata": {
  "kernelspec": {
   "display_name": "Python 3",
   "language": "python",
   "name": "python3"
  },
  "language_info": {
   "codemirror_mode": {
    "name": "ipython",
    "version": 3
   },
   "file_extension": ".py",
   "mimetype": "text/x-python",
   "name": "python",
   "nbconvert_exporter": "python",
   "pygments_lexer": "ipython3",
   "version": "3.8.8"
  }
 },
 "nbformat": 4,
 "nbformat_minor": 4
}
