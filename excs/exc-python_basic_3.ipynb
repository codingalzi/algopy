{
 "cells": [
  {
   "cell_type": "markdown",
   "id": "dfc03170",
   "metadata": {},
   "source": [
    "# (실습) 파이썬 기초 3부: 클래스와 상속"
   ]
  },
  {
   "cell_type": "markdown",
   "id": "48982d02",
   "metadata": {},
   "source": [
    "## `Fraction` 클래스 관련"
   ]
  },
  {
   "cell_type": "markdown",
   "id": "16be6583",
   "metadata": {},
   "source": [
    "`Fraction` 클래스가 아래와 같이 정의되어 있다.\n",
    "포함된 메서드와 속성에 대한 자세한 정보는 \n",
    "[파이썬 기초 3부: 클래스와 상속](https://codingalzi.github.io/algopy/python_basic_3.html)를 참고한다.\n",
    "\n",
    "아래 클래스는 두 정수의 최대 공약수를 계산하는 아래 함수를 이용한다."
   ]
  },
  {
   "cell_type": "code",
   "execution_count": 1,
   "id": "cace2290",
   "metadata": {},
   "outputs": [],
   "source": [
    "def gcd(m, n):\n",
    "    while m % n != 0:\n",
    "        m, n = n, m % n\n",
    "    return n"
   ]
  },
  {
   "cell_type": "code",
   "execution_count": 2,
   "id": "1751721f",
   "metadata": {},
   "outputs": [],
   "source": [
    "class Fraction:\n",
    "    \"\"\"Fraction 클래스\"\"\"\n",
    "\n",
    "    def __init__(self, top, bottom):\n",
    "        \"\"\"생성자 메서드\n",
    "        top: 분자\n",
    "        bottom: 분모\n",
    "        \"\"\"\n",
    "        self.num = top\n",
    "        self.den = bottom\n",
    "\n",
    "    def __str__(self):\n",
    "        return f\"{self.num}/{self.den}\"\n",
    "\n",
    "    def __add__(self, other_fraction):\n",
    "        new_num = self.num * other_fraction.den + \\\n",
    "                     self.den * other_fraction.num\n",
    "        new_den = self.den * other_fraction.den\n",
    "        common = gcd(new_num, new_den)\n",
    "        \n",
    "        return Fraction(new_num // common, new_den // common)\n",
    "\n",
    "    def __eq__(self, other_fraction):\n",
    "        first_num = self.num * other_fraction.den\n",
    "        second_num = other_fraction.num * self.den\n",
    "\n",
    "        return first_num == second_num"
   ]
  },
  {
   "cell_type": "markdown",
   "id": "9c8075a7",
   "metadata": {},
   "source": [
    "**문제 1**"
   ]
  },
  {
   "cell_type": "markdown",
   "id": "abd5d512",
   "metadata": {},
   "source": [
    "`f1`, `f2`가 아래와 같이 정의된다."
   ]
  },
  {
   "cell_type": "code",
   "execution_count": 3,
   "id": "a89e1d54",
   "metadata": {},
   "outputs": [],
   "source": [
    "f1 = Fraction(1, 4)\n",
    "f2 = Fraction(1, 2)"
   ]
  },
  {
   "cell_type": "markdown",
   "id": "9d202682",
   "metadata": {},
   "source": [
    "그런데 `f1 + f2`의 결과를 직접 확인하려 하면 원하는 대로 보여지지 않는다."
   ]
  },
  {
   "cell_type": "code",
   "execution_count": 4,
   "id": "92e92daf",
   "metadata": {},
   "outputs": [
    {
     "data": {
      "text/plain": [
       "<__main__.Fraction at 0x1870e9c5b20>"
      ]
     },
     "execution_count": 4,
     "metadata": {},
     "output_type": "execute_result"
    }
   ],
   "source": [
    "f1 + f2"
   ]
  },
  {
   "cell_type": "markdown",
   "id": "2fcea979",
   "metadata": {},
   "source": [
    "어떤 매직 메서드를 구현하면 되는지 확인하고 직접 구현하라."
   ]
  },
  {
   "cell_type": "markdown",
   "id": "1791d5af",
   "metadata": {},
   "source": [
    "**문제 2**"
   ]
  },
  {
   "cell_type": "markdown",
   "id": "01be7f46",
   "metadata": {},
   "source": [
    "다음 연산자들을 지원하는 매직 메서드를 중복정의하라.\n",
    "\n",
    "```python\n",
    "*, /, -, >, <\n",
    "```"
   ]
  },
  {
   "cell_type": "markdown",
   "id": "53c43e86",
   "metadata": {},
   "source": [
    "**문제 3**"
   ]
  },
  {
   "cell_type": "markdown",
   "id": "126d9f9a",
   "metadata": {},
   "source": [
    "다음 연산자들을 사용하기 위해 별도로 특정 매직 메서드를 구현해야 하는지 확인하라.\n",
    "\n",
    "```python\n",
    ">=, <=\n",
    "```"
   ]
  },
  {
   "cell_type": "markdown",
   "id": "347beefb",
   "metadata": {},
   "source": [
    "**문제 4**"
   ]
  },
  {
   "cell_type": "markdown",
   "id": "fa66148e",
   "metadata": {},
   "source": [
    "컴퓨터가 제공하는 부동소수점은 불완전하다.\n",
    "예를 들어, 아래 코드는 100만분의 1을 100만번 더했을 때 \n",
    "1이 계산되지 않음을 보여준다."
   ]
  },
  {
   "cell_type": "code",
   "execution_count": 5,
   "id": "b5b639ea",
   "metadata": {},
   "outputs": [
    {
     "name": "stdout",
     "output_type": "stream",
     "text": [
      "y = 1.000000000007918\n",
      "False\n"
     ]
    }
   ],
   "source": [
    "x = 0.000001\n",
    "y = 0\n",
    "\n",
    "for _ in range(1000000):\n",
    "    y += x\n",
    "\n",
    "print(f\"y = {y}\")\n",
    "print(y == 1)"
   ]
  },
  {
   "cell_type": "markdown",
   "id": "ed5a9522",
   "metadata": {},
   "source": [
    "분수 클래스 `Fraction`를 이용하면 보다 엄밀한 계산이 가능함을 보여라."
   ]
  },
  {
   "cell_type": "markdown",
   "id": "85337e83",
   "metadata": {},
   "source": [
    "**문제 5**"
   ]
  },
  {
   "cell_type": "markdown",
   "id": "f61a5d26",
   "metadata": {},
   "source": [
    "분수의 분자와 분모를 각각 추출해서 반환하는 메서드 `get_num` and `get_den` 을 \n",
    "`Fractio` 클래스에 추가하라."
   ]
  },
  {
   "cell_type": "markdown",
   "id": "59a93153",
   "metadata": {},
   "source": [
    "**문제 6**"
   ]
  },
  {
   "cell_type": "markdown",
   "id": "d39861ec",
   "metadata": {},
   "source": [
    "`Fraction` 클래스의 생성자가 `gcd()` 함수를 이용하여\n",
    "분수가 애초부터 기약분수 형식으로 저장되도록 하라.\n",
    "단, 이렇게 하면 `__add__()` 메서드에서 `gcd()` 함수를 이용할 필요가 없다."
   ]
  },
  {
   "cell_type": "markdown",
   "id": "dabd0041",
   "metadata": {},
   "source": [
    "**문제 7**"
   ]
  },
  {
   "cell_type": "markdown",
   "id": "7d7528de",
   "metadata": {},
   "source": [
    "분수의 분자와 분모로 정수가 아닌 값이 사용될 경우 예외(exception)가 발생하도록\n",
    "`Fraction` 클래스의 생성자를 수정하라.\n",
    "\n",
    "예를 들어, 아래와 같이 인스턴스를 생성하려 하면 예외가 발생해야 한다.\n",
    "\n",
    "```python\n",
    "x = Fraction(1, 2.0)\n",
    "```"
   ]
  },
  {
   "cell_type": "markdown",
   "id": "3ad3de83",
   "metadata": {},
   "source": [
    "**문제 8**"
   ]
  },
  {
   "cell_type": "markdown",
   "id": "90ce37df",
   "metadata": {},
   "source": [
    "현재 분모가 음수여도 아무런 제한이 없다.\n",
    "하지만 다음과 같이 일상적인 사용법과 다르게 작동한다."
   ]
  },
  {
   "cell_type": "code",
   "execution_count": 6,
   "id": "43b24fbc",
   "metadata": {},
   "outputs": [
    {
     "name": "stdout",
     "output_type": "stream",
     "text": [
      "1/-4\n"
     ]
    }
   ],
   "source": [
    "f1 = Fraction(1, -4)\n",
    "\n",
    "print(f1)"
   ]
  },
  {
   "cell_type": "code",
   "execution_count": 7,
   "id": "b587bc18",
   "metadata": {},
   "outputs": [
    {
     "name": "stdout",
     "output_type": "stream",
     "text": [
      "-1/-2\n"
     ]
    }
   ],
   "source": [
    "f2 = Fraction(-1, -2)\n",
    "\n",
    "print(f2)"
   ]
  },
  {
   "cell_type": "markdown",
   "id": "19eba608",
   "metadata": {},
   "source": [
    "분모로 음의 정수가 사용되는 경우 분모를 양의 정수로 변경해서 분수의 인스턴스가 생성되도록 \n",
    "`Fraction` 클래스의 생성자를 수정하라."
   ]
  },
  {
   "cell_type": "markdown",
   "id": "a18079f3",
   "metadata": {},
   "source": [
    "**문제 9**"
   ]
  },
  {
   "cell_type": "markdown",
   "id": "bbbfa0c4",
   "metadata": {},
   "source": [
    "다음 매직메서드의 기능을 확인하여\n",
    "분수들에 대해 작동하도록 `Fraction` 클래스의 메서드로 적절히 재정의하라. \n",
    "\n",
    "- `__radd__()`\n",
    "\n",
    "또한 `__add__()` 메서드와의 차이점을 예를 이용하여 설명하라."
   ]
  },
  {
   "cell_type": "markdown",
   "id": "82e06d42",
   "metadata": {},
   "source": [
    "**문제 10**"
   ]
  },
  {
   "cell_type": "markdown",
   "id": "9d199ea6",
   "metadata": {},
   "source": [
    "다음 매직메서드의 기능을 확인하여\n",
    "분수들에 대해 작동하도록 `Fraction` 클래스의 메서드로 적절히 재정의하라. \n",
    "\n",
    "- `__iadd__()`\n",
    "\n",
    "또한 `__add__()` 메서드와의 차이점을 예를 이용하여 설명하라."
   ]
  },
  {
   "cell_type": "markdown",
   "id": "165a837a",
   "metadata": {},
   "source": [
    "**문제 11**"
   ]
  },
  {
   "cell_type": "markdown",
   "id": "d098dbd1",
   "metadata": {},
   "source": [
    "다음 매직메서드의 기능을 확인하여\n",
    "분수들에 대해 작동하도록 `Fraction` 클래스의 메서드로 적절히 재정의하라. \n",
    "\n",
    "- `__repr__()`\n",
    "\n",
    "또한 `__str__()` 메서드와의 차이점을 예를 이용하여 설명하라."
   ]
  },
  {
   "cell_type": "markdown",
   "id": "ce95df53",
   "metadata": {},
   "source": [
    "## `Vector` 클래스 관련"
   ]
  },
  {
   "cell_type": "markdown",
   "id": "f61746ea",
   "metadata": {},
   "source": [
    "`Vector` 클래스가 아래와 같이 정의되어 있다.\n",
    "포함된 메서드와 속성에 대한 자세한 정보는 \n",
    "[파이썬 프로그래밍 기초 3부](https://codingalzi.github.io/algopy/python_basic_3.html)를 참고한다."
   ]
  },
  {
   "cell_type": "code",
   "execution_count": 1,
   "id": "fc2ba381",
   "metadata": {},
   "outputs": [],
   "source": [
    "class Vector(list):\n",
    "    # Vector 클래스 생성자 재정의\n",
    "    def __init__(self, items):\n",
    "        \"\"\"\n",
    "        - list 클래스 상속\n",
    "        - items: 벡터로 사용될 리스트\n",
    "        \"\"\"\n",
    "        \n",
    "        # 부모 클래스 생성자 호출\n",
    "        super().__init__(items)\n",
    "        \n",
    "        # 속성 추가\n",
    "        self.dim = self.__len__()  # 벡터의 차원(길이)\n",
    "        \n",
    "    # 내적 메서드\n",
    "    def dot(self, other):\n",
    "        \"\"\"\n",
    "        벡터 내적 계산\n",
    "        \"\"\"\n",
    "\n",
    "        # 벡터의 길이가 다르면 실행 오류 발생\n",
    "        if self.dim != other.dim:\n",
    "            raise RuntimeError(\"두 벡터의 길이가 달라요!\")\n",
    "\n",
    "        # 내적 계산: 각 항목들의 곱의 합\n",
    "        # 리스트를 상속하기에 인덱싱 사용 가능\n",
    "        sum = 0\n",
    "        for i in range(self.dim):\n",
    "            sum += self[i] * other[i]\n",
    "\n",
    "        return sum\n",
    "    \n",
    "    # append() 와 pop() 메서드는 재정의 필요. \n",
    "    # 이유는 벡터의 길이가 달라지기 때문임.\n",
    "\n",
    "    # 항목이 1개 늘어남\n",
    "    def append(self, new_item):\n",
    "        super().append(new_item)\n",
    "        self.dim = self.__len__()\n",
    "\n",
    "    # 항목이 1개 줄어듬\n",
    "    def pop(self, idx=-1):\n",
    "        removed_item = super().pop(idx)\n",
    "        self.dim = self.__len__()\n",
    "        return removed_item\n",
    "    \n",
    "    # 벡터 합 메서드\n",
    "    def __add__(self, other):\n",
    "        \"\"\"\n",
    "        벡터 합\n",
    "        \"\"\"\n",
    "\n",
    "        # 벡터의 길이가 다르면 실행 오류 발생\n",
    "        if self.dim != other.dim:\n",
    "            raise RuntimeError(\"두 벡터의 길이가 달라요!\")\n",
    "\n",
    "        # 벡터 합 계산: 각 항목들의 합으로 이루어진 벡터\n",
    "        new_list = []\n",
    "        \n",
    "        for i in range(self.dim):\n",
    "            item = self[i] + other[i]\n",
    "            new_list.append(item)\n",
    "\n",
    "        return Vector(new_list)"
   ]
  },
  {
   "cell_type": "markdown",
   "id": "4a9c8027",
   "metadata": {},
   "source": [
    "**문제 1**"
   ]
  },
  {
   "cell_type": "markdown",
   "id": "8513667a",
   "metadata": {},
   "source": [
    "벡터와 정수의 곱셈을 지원하도록 `__mul__()` 메서드를 `Vector` 클래스에서 \n",
    "재정의하라."
   ]
  },
  {
   "cell_type": "markdown",
   "id": "b33748b0",
   "metadata": {},
   "source": [
    "**문제 2**"
   ]
  },
  {
   "cell_type": "markdown",
   "id": "44dfbc4e",
   "metadata": {},
   "source": [
    "`Vector` 클래스에 항목들의 평균값을 반환하는\n",
    "`mean()` 메서드를 추가하라."
   ]
  },
  {
   "cell_type": "markdown",
   "id": "0e370fb5",
   "metadata": {},
   "source": [
    "**문제 3**"
   ]
  },
  {
   "cell_type": "markdown",
   "id": "5de4a419",
   "metadata": {},
   "source": [
    "`Vector` 클래스에 항목들의 표준편차를 반환하는\n",
    "`std()` 메서드를 추가하라."
   ]
  },
  {
   "cell_type": "markdown",
   "id": "4798637e",
   "metadata": {},
   "source": [
    "**문제 4**"
   ]
  },
  {
   "cell_type": "markdown",
   "id": "117cf292",
   "metadata": {},
   "source": [
    "`Vector` 클래스에 리스트의 메서드인 `extend()` 메서드를 재정의하여 추가하라."
   ]
  },
  {
   "cell_type": "markdown",
   "id": "3605e474",
   "metadata": {},
   "source": [
    "## 도전 문제"
   ]
  },
  {
   "cell_type": "markdown",
   "id": "42da7fe3",
   "metadata": {},
   "source": [
    "다음 두 문제는 그래픽 요소를 사용하지 않고 구현한다.\n",
    "대신 `print()` 함수를 적절하게 사용한다."
   ]
  },
  {
   "cell_type": "markdown",
   "id": "1b1df91f",
   "metadata": {},
   "source": [
    "**문제 1**"
   ]
  },
  {
   "cell_type": "markdown",
   "id": "4d770cb7",
   "metadata": {},
   "source": [
    "원카드 게임을 구현하라.\n",
    "\n",
    "먼저 아래 설명에 부합하는 두 개의 클래스를 구현하라.\n",
    "\n",
    "- 클래스 1: 인스턴스는 한 장의 카드\n",
    "- 클래스 2: 인스턴스는 원카드 게임에 필요한 카드 전체\n",
    "\n",
    "두 클래스를 이용하여 두 사람이 진행하는 원카드 게임을 구현하라.\n",
    "\n",
    "- 경우 1: 사람 대 사람\n",
    "- 경우 2: 사람 대 컴퓨터\n",
    "- 경우 3: 컴퓨터 대 컴퓨터"
   ]
  },
  {
   "cell_type": "markdown",
   "id": "1389234b",
   "metadata": {},
   "source": [
    "**문제 2**"
   ]
  },
  {
   "cell_type": "markdown",
   "id": "25ad2fae",
   "metadata": {},
   "source": [
    "수도쿠 퍼즐을 자동으로 해결하는 코드를 작성하라.\n",
    "\n",
    "입력값: 빈자리가 0으로 채워진 수도쿠 문제\n",
    "반환값: 빈자리가 적절하게 채워진 수도쿠\n",
    "\n",
    "힌트: 수도쿠 클래스를 먼저 정의한다."
   ]
  }
 ],
 "metadata": {
  "kernelspec": {
   "display_name": "Python 3.9.12 ('base')",
   "language": "python",
   "name": "python3"
  },
  "language_info": {
   "codemirror_mode": {
    "name": "ipython",
    "version": 3
   },
   "file_extension": ".py",
   "mimetype": "text/x-python",
   "name": "python",
   "nbconvert_exporter": "python",
   "pygments_lexer": "ipython3",
   "version": "3.9.12"
  },
  "vscode": {
   "interpreter": {
    "hash": "ad0f3c8a064f687cbf898a0868fd45ba1c7e928ac8a0404f7c241d812ddc1e76"
   }
  }
 },
 "nbformat": 4,
 "nbformat_minor": 5
}
