{
 "cells": [
  {
   "cell_type": "markdown",
   "metadata": {
    "slideshow": {
     "slide_type": "slide"
    }
   },
   "source": [
    "## 2절 단일출발점 최단경로: 다익스트라 알고리즘"
   ]
  },
  {
   "cell_type": "markdown",
   "metadata": {
    "slideshow": {
     "slide_type": "slide"
    }
   },
   "source": [
    "* 문제: 가중치 포함 방향그래프의 한 특정 마디에서 임의의 다른 마디로 가는 최단경로 구하기"
   ]
  },
  {
   "cell_type": "markdown",
   "metadata": {
    "slideshow": {
     "slide_type": ""
    }
   },
   "source": [
    "* 주의사항: 임의의 출발점이 아닌 하나의 고정된 하나의 마디에서 출발하는 경로만 대상으로 함."
   ]
  },
  {
   "cell_type": "markdown",
   "metadata": {
    "slideshow": {
     "slide_type": "fragment"
    }
   },
   "source": [
    "* 최소비용 신장트리 문제와 비슷한 알고리즘으로 해결 가능"
   ]
  },
  {
   "cell_type": "markdown",
   "metadata": {
    "slideshow": {
     "slide_type": "slide"
    }
   },
   "source": [
    "### 예제"
   ]
  },
  {
   "cell_type": "markdown",
   "metadata": {},
   "source": [
    "* $v_1$에서 임의의 다른 마디로 가는 최단 경로 구하기"
   ]
  },
  {
   "cell_type": "markdown",
   "metadata": {},
   "source": [
    "<div align=\"center\"><img src=\"./images/algo04/algo04-06.png\" width=\"250\"/></div>"
   ]
  },
  {
   "cell_type": "markdown",
   "metadata": {
    "slideshow": {
     "slide_type": "slide"
    }
   },
   "source": [
    "* 해답"
   ]
  },
  {
   "cell_type": "markdown",
   "metadata": {},
   "source": [
    "<div align=\"center\"><img src=\"./images/algo04/algo04-07.png\" width=\"250\"/></div>"
   ]
  },
  {
   "cell_type": "markdown",
   "metadata": {
    "slideshow": {
     "slide_type": "slide"
    }
   },
   "source": [
    "### 탐욕 알고리즘 적용"
   ]
  },
  {
   "cell_type": "markdown",
   "metadata": {
    "slideshow": {
     "slide_type": "slide"
    }
   },
   "source": [
    "#### 전제조건"
   ]
  },
  {
   "cell_type": "markdown",
   "metadata": {
    "slideshow": {
     "slide_type": ""
    }
   },
   "source": [
    "* 가중치를 포함하고 연결된 방향그래프 $G$가 아래와 같이 주어졌음:"
   ]
  },
  {
   "cell_type": "markdown",
   "metadata": {},
   "source": [
    "$$\n",
    "G = (V, E)\n",
    "$$"
   ]
  },
  {
   "cell_type": "markdown",
   "metadata": {
    "slideshow": {
     "slide_type": ""
    }
   },
   "source": [
    "* $V$: 마디들의 집합"
   ]
  },
  {
   "cell_type": "markdown",
   "metadata": {
    "slideshow": {
     "slide_type": ""
    }
   },
   "source": [
    "* $E$: 이음선들의 집합(방향 있음)"
   ]
  },
  {
   "cell_type": "markdown",
   "metadata": {
    "slideshow": {
     "slide_type": "slide"
    }
   },
   "source": [
    "#### 다익스크라(Dijkstra) 알고리즘 기본 아디이어"
   ]
  },
  {
   "cell_type": "markdown",
   "metadata": {},
   "source": [
    "$G = (V, E)$\n",
    "\n",
    "$Y = \\{ v_1 \\}$\n",
    "<br>\n",
    "$F = \\emptyset$"
   ]
  },
  {
   "cell_type": "markdown",
   "metadata": {
    "slideshow": {
     "slide_type": "fragment"
    }
   },
   "source": [
    "while (사례 미해결):\n",
    "\n",
    "&nbsp;&nbsp;&nbsp;&nbsp;&nbsp;&nbsp; - $v_1$에서 출발하여 $Y$에 속한 마디만 중간경로로 사용해서 갈 수 있는 마디 중에서\n",
    "<br>\n",
    "&nbsp;&nbsp;&nbsp;&nbsp;&nbsp;&nbsp;&nbsp;&nbsp;&nbsp; $v_1$으로부터 가장 짧은 경로를 갖는 마디 $v \\in (V-Y)$ 선택.\n",
    "\n",
    "&nbsp;&nbsp;&nbsp;&nbsp;&nbsp;&nbsp; - 선택된 마디를 $Y$에 추가.\n",
    "<br>\n",
    "&nbsp;&nbsp;&nbsp;&nbsp;&nbsp;&nbsp; - 해당 마디 선택에 사용된 이음선을 $F$에 추가.\n",
    "\n",
    "&nbsp;&nbsp;&nbsp;&nbsp;&nbsp;&nbsp; if ($Y == V$):\n",
    "<br>\n",
    "&nbsp;&nbsp;&nbsp;&nbsp;&nbsp;&nbsp; &nbsp;&nbsp;&nbsp;&nbsp;&nbsp;&nbsp; 사례해결"
   ]
  },
  {
   "cell_type": "markdown",
   "metadata": {
    "slideshow": {
     "slide_type": "slide"
    }
   },
   "source": [
    "#### 예제"
   ]
  },
  {
   "cell_type": "markdown",
   "metadata": {
    "slideshow": {
     "slide_type": ""
    }
   },
   "source": [
    "<div align=\"center\"><img src=\"./images/algo04/algo04-08.png\" width=\"600\"/></div>"
   ]
  },
  {
   "cell_type": "markdown",
   "metadata": {
    "slideshow": {
     "slide_type": "slide"
    }
   },
   "source": [
    "### 다익스트라 알고리즘의 최적여부 증명"
   ]
  },
  {
   "cell_type": "markdown",
   "metadata": {
    "slideshow": {
     "slide_type": "slide"
    }
   },
   "source": [
    "* 프림 알고리즘에 대한 증명과 유사 (연습문제)\n",
    "    * 두 집합 $Y$와 $F$가 변경될 때마나 $v_1$으로부터 각 마디까지의 최단거리가 변경되지 않음을 재귀적으로 증명해야 함."
   ]
  },
  {
   "cell_type": "markdown",
   "metadata": {
    "slideshow": {
     "slide_type": "slide"
    }
   },
   "source": [
    "### 다익스트라 알고리즘 구현"
   ]
  },
  {
   "cell_type": "code",
   "execution_count": 1,
   "metadata": {
    "slideshow": {
     "slide_type": "slide"
    }
   },
   "outputs": [],
   "source": [
    "from math import inf\n",
    "from collections import defaultdict"
   ]
  },
  {
   "cell_type": "code",
   "execution_count": 2,
   "metadata": {
    "slideshow": {
     "slide_type": "slide"
    }
   },
   "outputs": [],
   "source": [
    "def dijkstra(W):\n",
    "    V = len(W)\n",
    "    F = defaultdict(list) # 최단경로를 구성하는 이음선들의 집합\n",
    "    \n",
    "    touch = [0] * V\n",
    "    length = [W[0][i] for i in range(V)]\n",
    "    length[0] = -1\n",
    "\n",
    "    for _ in range(V-1):\n",
    "        min = inf\n",
    "        for i in range(V):\n",
    "            if (0 < length[i] < min):\n",
    "                min = length[i]\n",
    "                vnear = i\n",
    "\n",
    "        F[touch[vnear]].append(vnear)\n",
    "\n",
    "        for i in range(V):\n",
    "            if (length[vnear] + W[vnear][i] < length[i]):\n",
    "                length[i] = length[vnear] + W[vnear][i]\n",
    "                touch[i] = vnear\n",
    "        \n",
    "        length[vnear] = -1\n",
    "\n",
    "    return F"
   ]
  },
  {
   "cell_type": "code",
   "execution_count": 3,
   "metadata": {
    "slideshow": {
     "slide_type": "slide"
    }
   },
   "outputs": [],
   "source": [
    "W = [[0,     7,   4,   6,   1],\n",
    "     [inf,   0, inf, inf, inf],\n",
    "     [inf,   2,   0,   5, inf],\n",
    "     [inf,   3, inf,   0, inf],\n",
    "     [inf, inf, inf,   1,   0]]"
   ]
  },
  {
   "cell_type": "code",
   "execution_count": 4,
   "metadata": {
    "slideshow": {
     "slide_type": "fragment"
    }
   },
   "outputs": [
    {
     "data": {
      "text/plain": [
       "defaultdict(list, {0: [4, 2], 4: [3], 3: [1]})"
      ]
     },
     "execution_count": 4,
     "metadata": {},
     "output_type": "execute_result"
    }
   ],
   "source": [
    "dijkstra(W)"
   ]
  },
  {
   "cell_type": "markdown",
   "metadata": {
    "slideshow": {
     "slide_type": "slide"
    }
   },
   "source": [
    "#### 코드 설명"
   ]
  },
  {
   "cell_type": "markdown",
   "metadata": {},
   "source": [
    "* 신장트리 구현 코드와 거의 동일"
   ]
  },
  {
   "cell_type": "markdown",
   "metadata": {},
   "source": [
    "* 차이점: `length[vnear] = -1` 명령문을 전체 반복문 맨 뒤로 옮겨야 함.\n",
    "    * 신장트리 코드에서는 위치가 전혀 중요하지 않았음."
   ]
  },
  {
   "cell_type": "markdown",
   "metadata": {
    "slideshow": {
     "slide_type": "slide"
    }
   },
   "source": [
    "### 다익스트라 알고리즘 일정 시간복잡도 분석"
   ]
  },
  {
   "cell_type": "markdown",
   "metadata": {
    "slideshow": {
     "slide_type": ""
    }
   },
   "source": [
    "* 입력크기: 마디 수 $n$"
   ]
  },
  {
   "cell_type": "markdown",
   "metadata": {
    "slideshow": {
     "slide_type": ""
    }
   },
   "source": [
    "* 단위연산: 중첩 for 반복문"
   ]
  },
  {
   "cell_type": "markdown",
   "metadata": {
    "slideshow": {
     "slide_type": "fragment"
    }
   },
   "source": [
    "* 일정 시간복잡도: $n-1$ 번 반복되는 명령문 두 개가 $n-1$번 반복되는 반복문 안에 들어 있음. \n",
    "    따라서 다음이 성립:"
   ]
  },
  {
   "cell_type": "markdown",
   "metadata": {},
   "source": [
    "$$\n",
    "T(n) = 2(n-1)(n-1) = \\Theta(n^2)\n",
    "$$"
   ]
  },
  {
   "cell_type": "markdown",
   "metadata": {
    "slideshow": {
     "slide_type": "slide"
    }
   },
   "source": [
    "### 다익스트라 알고리즘 일반화"
   ]
  },
  {
   "cell_type": "markdown",
   "metadata": {
    "slideshow": {
     "slide_type": ""
    }
   },
   "source": [
    "* 출발점을 $v_1$으로 고정하는 대신에 임의의 마디로 지정하기"
   ]
  },
  {
   "cell_type": "markdown",
   "metadata": {},
   "source": [
    "* `dijstra()` 함수에 출발점을 추가하면 됨."
   ]
  },
  {
   "cell_type": "code",
   "execution_count": 5,
   "metadata": {
    "slideshow": {
     "slide_type": "slide"
    }
   },
   "outputs": [],
   "source": [
    "def dijkstra_gen(k, W):\n",
    "    V = len(W)\n",
    "    assert (0<= k < V)\n",
    "    F = defaultdict(list) # 최단경로를 구성하는 이음선들의 집합\n",
    "    \n",
    "    touch = [k] * V\n",
    "    length = [W[k][i] for i in range(V)]\n",
    "    length[k] = -1 # v_k를 출발 마디로 지정\n",
    "\n",
    "    for _ in range(V-1):\n",
    "        min = inf\n",
    "        for i in range(V):\n",
    "            if (0 < length[i] < min):\n",
    "                min = length[i]\n",
    "                vnear = i\n",
    "                \n",
    "        if min == inf:\n",
    "            return \"일부 경로가 없어요.\"\n",
    "\n",
    "        F[touch[vnear]].append(vnear)\n",
    "\n",
    "        for i in range(V):\n",
    "            if (length[vnear] + W[vnear][i] < length[i]):\n",
    "                length[i] = length[vnear] + W[vnear][i]\n",
    "                touch[i] = vnear\n",
    "        \n",
    "        length[vnear] = -1\n",
    "\n",
    "    return F"
   ]
  },
  {
   "cell_type": "code",
   "execution_count": 6,
   "metadata": {
    "slideshow": {
     "slide_type": "slide"
    }
   },
   "outputs": [
    {
     "data": {
      "text/plain": [
       "defaultdict(list, {0: [4, 2], 4: [3], 3: [1]})"
      ]
     },
     "execution_count": 6,
     "metadata": {},
     "output_type": "execute_result"
    }
   ],
   "source": [
    "dijkstra_gen(0, W)"
   ]
  },
  {
   "cell_type": "code",
   "execution_count": 7,
   "metadata": {
    "slideshow": {
     "slide_type": "fragment"
    }
   },
   "outputs": [
    {
     "data": {
      "text/plain": [
       "'일부 경로가 없어요.'"
      ]
     },
     "execution_count": 7,
     "metadata": {},
     "output_type": "execute_result"
    }
   ],
   "source": [
    "dijkstra_gen(2, W)"
   ]
  },
  {
   "cell_type": "code",
   "execution_count": 8,
   "metadata": {
    "slideshow": {
     "slide_type": "fragment"
    }
   },
   "outputs": [
    {
     "data": {
      "text/plain": [
       "'일부 경로가 없어요.'"
      ]
     },
     "execution_count": 8,
     "metadata": {},
     "output_type": "execute_result"
    }
   ],
   "source": [
    "dijkstra_gen(4, W)"
   ]
  },
  {
   "cell_type": "markdown",
   "metadata": {
    "slideshow": {
     "slide_type": "slide"
    }
   },
   "source": [
    "## 5절 탐욕 알고리즘과 동적계획법 알고리즘 비교: 0-1 배낭채우기 문제"
   ]
  },
  {
   "cell_type": "markdown",
   "metadata": {
    "slideshow": {
     "slide_type": "slide"
    }
   },
   "source": [
    "* 최단경로를 계산하는 문제를 두 가지 방식으로 풀었음.\n",
    "    하지만 방식에 따라 복잡도가 다름.\n",
    "    * 동적계획법(3장 2절): $\\Theta(n^3)$\n",
    "    * 탐욕 알고리즘(2절): $\\Theta(n^2)$"
   ]
  },
  {
   "cell_type": "markdown",
   "metadata": {
    "slideshow": {
     "slide_type": ""
    }
   },
   "source": [
    "* 일반적으로 탐욕 알고리즘이 더 간단하고 더 효율적임."
   ]
  },
  {
   "cell_type": "markdown",
   "metadata": {
    "slideshow": {
     "slide_type": "fragment"
    }
   },
   "source": [
    "* 하지만 탐욕 알고리즘이 항상 최적의 해를 제공하는 것은 아니며, \n",
    "    그런 경우에도 증명이 매우 어려울 수 있음."
   ]
  },
  {
   "cell_type": "markdown",
   "metadata": {
    "slideshow": {
     "slide_type": "slide"
    }
   },
   "source": [
    "### 0-1 배낭채우기 문제"
   ]
  },
  {
   "cell_type": "markdown",
   "metadata": {
    "slideshow": {
     "slide_type": ""
    }
   },
   "source": [
    "* $n$개의 주어진 물건들 중에서, 한정된 용량($W$)의 배낭에 물건을 골라 넣었을때 얻을 수 있는 최대 값어치를 찾는 조합 최적화 문제"
   ]
  },
  {
   "cell_type": "markdown",
   "metadata": {
    "slideshow": {
     "slide_type": "slide"
    }
   },
   "source": [
    "### 무차별 대입 방식(brute force approach)"
   ]
  },
  {
   "cell_type": "markdown",
   "metadata": {
    "slideshow": {
     "slide_type": "slide"
    }
   },
   "source": [
    "* 배낭에 넣을 수 있는 모든 물건의 조합 살피기"
   ]
  },
  {
   "cell_type": "markdown",
   "metadata": {
    "slideshow": {
     "slide_type": ""
    }
   },
   "source": [
    "* $n$개의 물건이 있을 때 총 $2^n$개의 조합 존재"
   ]
  },
  {
   "cell_type": "markdown",
   "metadata": {
    "slideshow": {
     "slide_type": ""
    }
   },
   "source": [
    "* 따라서 $\\Theta(2^n)$의 시간복잡도를 가짐. 따라서 실용성 없음."
   ]
  },
  {
   "cell_type": "markdown",
   "metadata": {
    "slideshow": {
     "slide_type": "slide"
    }
   },
   "source": [
    "### 탐욕 알고리즘 예제"
   ]
  },
  {
   "cell_type": "markdown",
   "metadata": {},
   "source": [
    "```\n",
    "물건1: 50만원, 5kg\n",
    "물건2: 60만원, 10kg\n",
    "물건3: 140만원, 20kg\n",
    "```"
   ]
  },
  {
   "cell_type": "markdown",
   "metadata": {},
   "source": [
    "* W = 30일 경우 최적의 해\n",
    "\n",
    "    ```\n",
    "    140 + 60 = 200(만원)\n",
    "    ```"
   ]
  },
  {
   "cell_type": "markdown",
   "metadata": {},
   "source": [
    "* 탐욕 알고리즘은 선택 전략과 경우에 따라 최적의 해 제공여부가 달라짐."
   ]
  },
  {
   "cell_type": "markdown",
   "metadata": {
    "slideshow": {
     "slide_type": "slide"
    }
   },
   "source": [
    "#### 전략 1 "
   ]
  },
  {
   "cell_type": "markdown",
   "metadata": {},
   "source": [
    "* 가장 값비싼 물건 선택하기"
   ]
  },
  {
   "cell_type": "markdown",
   "metadata": {},
   "source": [
    "* 위 예제에서는 최적의 해를 제공하지만, 경우에 따라 달라짐.\n",
    "    * 반례: 물건4가 아래와 같이 추가되는 경우 \n",
    "        가장 값비싼 문건을 먼저 선택하는 전략은 최적의 해를 제공하지 않음.\n",
    "        (이유는?)\n",
    "\n",
    "        ```\n",
    "        물건1: 50만원, 5kg\n",
    "        물건2: 60만원, 10kg\n",
    "        물건3: 140만원, 20kg\n",
    "        물건4: 30만원, 2kg\n",
    "        ```"
   ]
  },
  {
   "cell_type": "markdown",
   "metadata": {
    "slideshow": {
     "slide_type": "slide"
    }
   },
   "source": [
    "#### 전략 2 "
   ]
  },
  {
   "cell_type": "markdown",
   "metadata": {
    "slideshow": {
     "slide_type": ""
    }
   },
   "source": [
    "* 무게당 값어치가 가장 큰 물건 선택\n",
    "\n",
    "    ```\n",
    "    물건1 1kg당 값어치: 10만원\n",
    "    물건2 1kg당 값어치: 6만원\n",
    "    물건3 1kg당 값어치: 7만원\n",
    "    ```\n",
    "\n",
    "    따라서 아래 물건 선택\n",
    "\n",
    "    ```\n",
    "    50만원: 5kg\n",
    "    140만원: 20kg\n",
    "    ------------\n",
    "    190만원: 25kg\n",
    "    ```\n",
    "\n",
    "    최적의 해 아님."
   ]
  },
  {
   "cell_type": "markdown",
   "metadata": {
    "slideshow": {
     "slide_type": "slide"
    }
   },
   "source": [
    "* 하지만 물건4가 추가되면 최적의 해를 제공함.\n",
    "\n",
    "    ```\n",
    "    물건1 1kg당 값어치: 10만원\n",
    "    물건2 1kg당 값어치: 6만원\n",
    "    물건3 1kg당 값어치: 7만원\n",
    "    물건4 1kg당 값어치: 15만원\n",
    "    ```\n",
    "\n",
    "    따라서 아래 물건 선택\n",
    "\n",
    "    ```\n",
    "    30만원: 2kg\n",
    "    50만원: 5kg\n",
    "    140만원: 20kg\n",
    "    ------------\n",
    "    220만원: 27kg\n",
    "    ```\n",
    "\n",
    "    최적의 해 아님."
   ]
  },
  {
   "cell_type": "markdown",
   "metadata": {
    "slideshow": {
     "slide_type": "slide"
    }
   },
   "source": [
    "#### 결론 "
   ]
  },
  {
   "cell_type": "markdown",
   "metadata": {
    "slideshow": {
     "slide_type": ""
    }
   },
   "source": [
    "* 탐욕 알고리즘은 0-1 배낭채우기 문제를 일반적으로 해결할 수 없음."
   ]
  },
  {
   "cell_type": "markdown",
   "metadata": {
    "slideshow": {
     "slide_type": "slide"
    }
   },
   "source": [
    "### 동적계획법 알고리즘"
   ]
  },
  {
   "cell_type": "markdown",
   "metadata": {
    "slideshow": {
     "slide_type": ""
    }
   },
   "source": [
    "* 참조: [고전 컴퓨터 알고리즘 인 파이썬, 9장](https://github.com/coding-alzi/ClassicComputerScienceProblemsInPython)"
   ]
  },
  {
   "cell_type": "markdown",
   "metadata": {
    "slideshow": {
     "slide_type": ""
    }
   },
   "source": [
    "* 이항계수 동적계획법 알고리즘과 유사."
   ]
  },
  {
   "cell_type": "markdown",
   "metadata": {
    "slideshow": {
     "slide_type": "slide"
    }
   },
   "source": [
    "* 아래 조건을 만족하는 `(n+1,W+1)` 모양의 2차원 행렬 $P$ 생성"
   ]
  },
  {
   "cell_type": "markdown",
   "metadata": {},
   "source": [
    "\\begin{align*}\n",
    "P[i][w] &= \\text{총 무게가 $w$를 넘기지 않는 조건하에서} \\\\\n",
    "& \\quad\\,\\text{처음 $i$ 개의 물건만을 이용해서 얻을 수 있는 최대 이익}\n",
    "\\end{align*}"
   ]
  },
  {
   "cell_type": "markdown",
   "metadata": {
    "slideshow": {
     "slide_type": "slide"
    }
   },
   "source": [
    "#### 주어진 조건"
   ]
  },
  {
   "cell_type": "markdown",
   "metadata": {
    "slideshow": {
     "slide_type": ""
    }
   },
   "source": [
    "* $i$ 번째 물건의 무게와 값어치 ($0 \\le i \\le n$)\n",
    "    * 무게: $w_i$\n",
    "    * 값어치: $p_i$"
   ]
  },
  {
   "cell_type": "markdown",
   "metadata": {
    "slideshow": {
     "slide_type": "slide"
    }
   },
   "source": [
    "#### $P[i][j]$의 재귀식"
   ]
  },
  {
   "cell_type": "markdown",
   "metadata": {
    "slideshow": {
     "slide_type": ""
    }
   },
   "source": [
    "* 초기값: $i = 0$인 경우\n",
    "    * 물건을 전혀 사용하지 못하기 때문에 물건을 전혀 배낭에 담지 못함.\n",
    "    * 따라서 모든 $0 \\le w \\le W$에 대해 다음 성립: "
   ]
  },
  {
   "cell_type": "markdown",
   "metadata": {
    "slideshow": {
     "slide_type": ""
    }
   },
   "source": [
    "$$\n",
    "P[0][w] = 0\n",
    "$$"
   ]
  },
  {
   "cell_type": "markdown",
   "metadata": {
    "slideshow": {
     "slide_type": "slide"
    }
   },
   "source": [
    "* 귀납단계: $i>0$ 이라고 가정.\n",
    "    * 3 가지 경우 존재"
   ]
  },
  {
   "cell_type": "markdown",
   "metadata": {
    "slideshow": {
     "slide_type": "slide"
    }
   },
   "source": [
    "* 경우 1\n",
    "    * $w_i > w$\n",
    "    * 즉, $i$번째 물건을 가방에 전혀 넣을 수 없음.\n",
    "    * 따라서 아래 재귀식 성립"
   ]
  },
  {
   "cell_type": "markdown",
   "metadata": {},
   "source": [
    "$$\n",
    "P[i][w] = P[i-1][w]\n",
    "$$"
   ]
  },
  {
   "cell_type": "markdown",
   "metadata": {
    "slideshow": {
     "slide_type": "slide"
    }
   },
   "source": [
    "* 경우 2\n",
    "    * $w_i \\le w$ 이지만 $i$번째 물건이 최적 조합에 사용되지 않는 경우"
   ]
  },
  {
   "cell_type": "markdown",
   "metadata": {},
   "source": [
    "$$\n",
    "P[i][w] = P[i-1][w]\n",
    "$$"
   ]
  },
  {
   "cell_type": "markdown",
   "metadata": {
    "slideshow": {
     "slide_type": "slide"
    }
   },
   "source": [
    "* 경우 3\n",
    "    * $w_i \\le w$ 이고 $i$번째 물건이 최적 조합에 사용되는 경우"
   ]
  },
  {
   "cell_type": "markdown",
   "metadata": {},
   "source": [
    "$$\n",
    "P[i][w] = p_i + P[i-1][w-w_i]\n",
    "$$"
   ]
  },
  {
   "cell_type": "markdown",
   "metadata": {
    "slideshow": {
     "slide_type": "slide"
    }
   },
   "source": [
    "* 정리하면:"
   ]
  },
  {
   "cell_type": "markdown",
   "metadata": {},
   "source": [
    "$$\n",
    "P[i][w] = \n",
    "\\begin{cases}\n",
    "\\max(P[i-1][w], p_i + P[i-1][w-w_i]) & \\text{if } w_i \\le w, \\\\\n",
    "& \\\\\n",
    "P[i-1][w] & \\text{if } w_i > w\n",
    "\\end{cases}\n",
    "$$"
   ]
  },
  {
   "cell_type": "markdown",
   "metadata": {
    "slideshow": {
     "slide_type": "fragment"
    }
   },
   "source": [
    "* 최적화 원칙도 성립함."
   ]
  },
  {
   "cell_type": "markdown",
   "metadata": {
    "slideshow": {
     "slide_type": "slide"
    }
   },
   "source": [
    "#### 동적계획법 알고리즘 구현"
   ]
  },
  {
   "cell_type": "markdown",
   "metadata": {
    "slideshow": {
     "slide_type": "slide"
    }
   },
   "source": [
    "* 물건들의 클래스 지정\n",
    "    * NamedTuple 클래스를 활용하면 쉽게 자료형 클래스를 지정할 수 있음."
   ]
  },
  {
   "cell_type": "code",
   "execution_count": 9,
   "metadata": {
    "slideshow": {
     "slide_type": ""
    }
   },
   "outputs": [],
   "source": [
    "from typing import NamedTuple\n",
    "\n",
    "class Item(NamedTuple):\n",
    "    name: str\n",
    "    weight: int\n",
    "    value: float"
   ]
  },
  {
   "cell_type": "markdown",
   "metadata": {
    "slideshow": {
     "slide_type": "slide"
    }
   },
   "source": [
    "#### 예제"
   ]
  },
  {
   "cell_type": "markdown",
   "metadata": {
    "slideshow": {
     "slide_type": ""
    }
   },
   "source": [
    "<div align=\"center\"><img src=\"./images/algo03/algo03-10.png\" width=\"300\"/></div>\n",
    "\n",
    "<그림 출처:[배낭 문제: 위키피디아](https://en.wikipedia.org/wiki/Knapsack_problem)>"
   ]
  },
  {
   "cell_type": "code",
   "execution_count": 10,
   "metadata": {
    "slideshow": {
     "slide_type": ""
    }
   },
   "outputs": [],
   "source": [
    "items = [Item(\"item1\", 1, 1),\n",
    "         Item(\"item2\", 1, 2),\n",
    "         Item(\"item3\", 2, 2),\n",
    "         Item(\"item4\", 4, 10),\n",
    "         Item(\"item5\", 12, 4)]"
   ]
  },
  {
   "cell_type": "markdown",
   "metadata": {
    "slideshow": {
     "slide_type": "slide"
    }
   },
   "source": [
    "* 각 물건 조합의 최상의 결과를 알려주는 표 작성 알고리즘"
   ]
  },
  {
   "cell_type": "code",
   "execution_count": 11,
   "metadata": {
    "slideshow": {
     "slide_type": ""
    }
   },
   "outputs": [],
   "source": [
    "# 아이템(물건) 개수와 용량 한도\n",
    "n = len(items)\n",
    "W = 15"
   ]
  },
  {
   "cell_type": "markdown",
   "metadata": {
    "slideshow": {
     "slide_type": "slide"
    }
   },
   "source": [
    "* 행렬 `P`를 영행렬로 초기화 하기"
   ]
  },
  {
   "cell_type": "code",
   "execution_count": 12,
   "metadata": {
    "slideshow": {
     "slide_type": ""
    }
   },
   "outputs": [],
   "source": [
    "# (n+1,W+1) 모양\n",
    "\n",
    "P = [[0.0 for _ in range(W+1)] for _ in range(n+1)]"
   ]
  },
  {
   "cell_type": "markdown",
   "metadata": {
    "slideshow": {
     "slide_type": "slide"
    }
   },
   "source": [
    "* $P$ 행렬의 항목을 1번행부터 행단위로 업데이트함.\n",
    "    * 0번행과 0번열은 그대로 0으로 둠."
   ]
  },
  {
   "cell_type": "code",
   "execution_count": 13,
   "metadata": {
    "slideshow": {
     "slide_type": ""
    }
   },
   "outputs": [],
   "source": [
    "for i, item in enumerate(items):         # 행 인덱스(물건 번호)는 0부터 시작함에 주의\n",
    "    \n",
    "    wi = item.weight                     # (i+1) 번째 아이템 무게\n",
    "    pi = item.value                      # (i+1) 번째 아이템 가치\n",
    "\n",
    "    for w in range(1, W + 1):            # 열 인덱스(용량 한도) 역시 0부터 시작\n",
    "        \n",
    "        previous_items_value = P[i][w]   # i번 행값을 이미 계산하였음. 예를 들어, P[0][w] = 0.\n",
    "\n",
    "        if w >= wi:                      # 현재 아이템의 가방에 들어갈 수 있는 경우\n",
    "\n",
    "            previous_items_value_without_wi = P[i][w - wi]\n",
    "\n",
    "            P[i+1][w] = max(previous_items_value,\n",
    "                            previous_items_value_without_wi + pi)\n",
    "\n",
    "        else:                            # 현재 아이템이 너무 무거운 경우\n",
    "            P[i+1][w] = previous_items_value"
   ]
  },
  {
   "cell_type": "markdown",
   "metadata": {
    "slideshow": {
     "slide_type": "slide"
    }
   },
   "source": [
    "* 위 과정을 하나의 함수로 지정"
   ]
  },
  {
   "cell_type": "code",
   "execution_count": 14,
   "metadata": {
    "slideshow": {
     "slide_type": ""
    }
   },
   "outputs": [],
   "source": [
    "def knapsack(items, W):\n",
    "    \"\"\"\n",
    "    items: 아이템(물건)들의 리스트\n",
    "    W: 최대 저장용량\n",
    "    \"\"\"\n",
    "    \n",
    "    # 아이템(물건) 개수\n",
    "    n = len(items)\n",
    "\n",
    "    # P[i][w]를 담는 2차원 행렬을 영행렬로 초기화\n",
    "    # (n+1) x (W+1) 모양\n",
    "    P = [[0.0 for _ in range(W+1)] for _ in range(n+1)]\n",
    "\n",
    "    for i, item in enumerate(items):\n",
    "        wi = item.weight                     # (i+1) 번째 아이템 무게\n",
    "        pi = item.value                      # (i+1) 번째 아이템 가치\n",
    "\n",
    "        for w in range(1, W + 1):\n",
    "            previous_items_value = P[i][w]   # i번 행값을 이미 계산하였음. i는 0부터 시작함의 주의할 것\n",
    "            if w >= wi:                      # 현재 아이템의 무게가 가방에 들어갈 수 있는 경우\n",
    "                previous_items_value_without_wi = P[i][w - wi]\n",
    "                P[i+1][w] = max(previous_items_value,\n",
    "                                  previous_items_value_without_wi + pi)\n",
    "            else:\n",
    "                P[i+1][w] = previous_items_value\n",
    "                \n",
    "    return P"
   ]
  },
  {
   "cell_type": "markdown",
   "metadata": {
    "slideshow": {
     "slide_type": "slide"
    }
   },
   "source": [
    "* 최적의 조합을 알려주는 알려주는 함수\n",
    "    * 생성된 2차 행렬 $P$로부터 최적의 조합 찾아낼 수 있음."
   ]
  },
  {
   "cell_type": "code",
   "execution_count": 15,
   "metadata": {
    "slideshow": {
     "slide_type": ""
    }
   },
   "outputs": [],
   "source": [
    "def solution(items, W):\n",
    "    P = knapsack(items, W)\n",
    "    n = len(items)\n",
    "    w = W\n",
    "        \n",
    "    # 선택 아이템 저장\n",
    "    selected = []\n",
    "\n",
    "    # 선택된 아이템을 역순으로 확인\n",
    "    for i in range(n, 0, -1): \n",
    "        if P[i - 1][w] != P[i][w]:          # (i-1) 번째 아이템이 사용된 경우. 인덱스가 0부터 출발함에 주의\n",
    "            selected.append(items[i - 1])\n",
    "            w -= items[i - 1].weight        # (i-1) 번째 아이템의 무게 제거 \n",
    "    return selected"
   ]
  },
  {
   "cell_type": "markdown",
   "metadata": {
    "slideshow": {
     "slide_type": "slide"
    }
   },
   "source": [
    "* 획득된 최대 값어치를 알려주는 함수"
   ]
  },
  {
   "cell_type": "code",
   "execution_count": 16,
   "metadata": {},
   "outputs": [],
   "source": [
    "def max_value(items, W):\n",
    "    selected = solution(items, W)\n",
    "    sum = 0\n",
    "    \n",
    "    for item in selected:\n",
    "        sum += item.value\n",
    "    \n",
    "    return sum    "
   ]
  },
  {
   "cell_type": "markdown",
   "metadata": {
    "slideshow": {
     "slide_type": "slide"
    }
   },
   "source": [
    "#### 활용 1"
   ]
  },
  {
   "cell_type": "code",
   "execution_count": 17,
   "metadata": {
    "slideshow": {
     "slide_type": ""
    }
   },
   "outputs": [
    {
     "name": "stdout",
     "output_type": "stream",
     "text": [
      "Item(name='item4', weight=4, value=10)\n",
      "Item(name='item3', weight=2, value=2)\n",
      "Item(name='item2', weight=1, value=2)\n",
      "Item(name='item1', weight=1, value=1)\n"
     ]
    }
   ],
   "source": [
    "for item in solution(items, 15):\n",
    "    print(item)"
   ]
  },
  {
   "cell_type": "code",
   "execution_count": 18,
   "metadata": {
    "slideshow": {
     "slide_type": ""
    }
   },
   "outputs": [
    {
     "data": {
      "text/plain": [
       "15"
      ]
     },
     "execution_count": 18,
     "metadata": {},
     "output_type": "execute_result"
    }
   ],
   "source": [
    "max_value(items, 15)"
   ]
  },
  {
   "cell_type": "markdown",
   "metadata": {
    "slideshow": {
     "slide_type": "slide"
    }
   },
   "source": [
    "#### 활용 2"
   ]
  },
  {
   "cell_type": "markdown",
   "metadata": {},
   "source": [
    "* 행렬 P를 살펴보기 위한 좀 작은 용량의 배낭채우기 문제"
   ]
  },
  {
   "cell_type": "code",
   "execution_count": 19,
   "metadata": {
    "slideshow": {
     "slide_type": ""
    }
   },
   "outputs": [],
   "source": [
    "items2 = [Item(\"item1\", 1, 5),\n",
    "         Item(\"item2\", 2, 10),\n",
    "         Item(\"item3\", 1, 15)]"
   ]
  },
  {
   "cell_type": "markdown",
   "metadata": {
    "slideshow": {
     "slide_type": "slide"
    }
   },
   "source": [
    "* 최대용향 3까지 허용할 때 최대 값어치로 이루어진 `(4, 4)` 모양의 행렬 $P$"
   ]
  },
  {
   "cell_type": "code",
   "execution_count": 20,
   "metadata": {
    "slideshow": {
     "slide_type": ""
    }
   },
   "outputs": [
    {
     "data": {
      "text/plain": [
       "[[0.0, 0.0, 0.0, 0.0],\n",
       " [0.0, 5.0, 5.0, 5.0],\n",
       " [0.0, 5.0, 10.0, 15.0],\n",
       " [0.0, 15.0, 20.0, 25.0]]"
      ]
     },
     "execution_count": 20,
     "metadata": {},
     "output_type": "execute_result"
    }
   ],
   "source": [
    "knapsack(items2, 3)"
   ]
  },
  {
   "cell_type": "markdown",
   "metadata": {
    "slideshow": {
     "slide_type": "fragment"
    }
   },
   "source": [
    "* 행렬 $P$로부 최적의 조합 알아내기\n",
    "    * 오직 아래 등식이 성립할 때 $i$ 번째 아이템이 선택됨."
   ]
  },
  {
   "cell_type": "markdown",
   "metadata": {},
   "source": [
    "$$\n",
    "P[i][w] \\neq P[i-1][w], \\qquad P[i][w] = p_i + P[i-1][w - w_i]\n",
    "$$"
   ]
  },
  {
   "cell_type": "markdown",
   "metadata": {
    "slideshow": {
     "slide_type": "fragment"
    }
   },
   "source": [
    "* 따라서 $P[4][4]$에서 시작하여 역순으로 사용되는 아이템 확인 가능"
   ]
  },
  {
   "cell_type": "code",
   "execution_count": 21,
   "metadata": {
    "slideshow": {
     "slide_type": ""
    }
   },
   "outputs": [
    {
     "name": "stdout",
     "output_type": "stream",
     "text": [
      "Item(name='item3', weight=1, value=15)\n",
      "Item(name='item2', weight=2, value=10)\n"
     ]
    }
   ],
   "source": [
    "for item in solution(items2, 3):\n",
    "    print(item)"
   ]
  },
  {
   "cell_type": "markdown",
   "metadata": {
    "slideshow": {
     "slide_type": "slide"
    }
   },
   "source": [
    "### NamedTuple 클래스를 사용하지 않는 경우"
   ]
  },
  {
   "cell_type": "markdown",
   "metadata": {
    "slideshow": {
     "slide_type": "slide"
    }
   },
   "source": [
    "* 기본 클래스 정의를 활용하면 해야할 일이 좀 더 많아짐."
   ]
  },
  {
   "cell_type": "code",
   "execution_count": 22,
   "metadata": {
    "slideshow": {
     "slide_type": "fragment"
    }
   },
   "outputs": [],
   "source": [
    "class Item1:\n",
    "    def __init__(self, name, weight, value):\n",
    "        self.name = name\n",
    "        self.weight = weight\n",
    "        self.value = value"
   ]
  },
  {
   "cell_type": "code",
   "execution_count": 23,
   "metadata": {
    "slideshow": {
     "slide_type": "fragment"
    }
   },
   "outputs": [],
   "source": [
    "items3 = [Item1(\"item1\", 1, 1),\n",
    "         Item1(\"item2\", 1, 2),\n",
    "         Item1(\"item3\", 2, 2),\n",
    "         Item1(\"item4\", 4, 10),\n",
    "         Item1(\"item5\", 12, 4)]"
   ]
  },
  {
   "cell_type": "code",
   "execution_count": 24,
   "metadata": {
    "slideshow": {
     "slide_type": "fragment"
    }
   },
   "outputs": [
    {
     "name": "stdout",
     "output_type": "stream",
     "text": [
      "<__main__.Item1 object at 0x7fc96e03a8b0>\n",
      "<__main__.Item1 object at 0x7fc96e03abb0>\n",
      "<__main__.Item1 object at 0x7fc96e03a820>\n",
      "<__main__.Item1 object at 0x7fc96e03a9a0>\n"
     ]
    }
   ],
   "source": [
    "for item in solution(items3, 15):\n",
    "    print(item)"
   ]
  },
  {
   "cell_type": "markdown",
   "metadata": {
    "slideshow": {
     "slide_type": "slide"
    }
   },
   "source": [
    "* `__str__()` 메서드 구현 필요"
   ]
  },
  {
   "cell_type": "code",
   "execution_count": 25,
   "metadata": {
    "slideshow": {
     "slide_type": ""
    }
   },
   "outputs": [],
   "source": [
    "class Item1:\n",
    "    def __init__(self, name, weight, value):\n",
    "        self.name = name\n",
    "        self.weight = weight\n",
    "        self.value = value\n",
    "        \n",
    "    def __str__(self):\n",
    "        return 'Item(' + self.name + ', ' + str(self.weight) + ', ' + str(self.value) + ')'"
   ]
  },
  {
   "cell_type": "code",
   "execution_count": 26,
   "metadata": {
    "slideshow": {
     "slide_type": "fragment"
    }
   },
   "outputs": [],
   "source": [
    "items4 = [Item1(\"item1\", 1, 1),\n",
    "         Item1(\"item2\", 1, 2),\n",
    "         Item1(\"item3\", 2, 2),\n",
    "         Item1(\"item4\", 4, 10),\n",
    "         Item1(\"item5\", 12, 4)]"
   ]
  },
  {
   "cell_type": "code",
   "execution_count": 27,
   "metadata": {
    "slideshow": {
     "slide_type": "fragment"
    }
   },
   "outputs": [
    {
     "name": "stdout",
     "output_type": "stream",
     "text": [
      "Item(item4, 4, 10)\n",
      "Item(item3, 2, 2)\n",
      "Item(item2, 1, 2)\n",
      "Item(item1, 1, 1)\n"
     ]
    }
   ],
   "source": [
    "for item in solution(items4, 15):\n",
    "    print(item)"
   ]
  },
  {
   "cell_type": "markdown",
   "metadata": {
    "slideshow": {
     "slide_type": "slide"
    }
   },
   "source": [
    "### 시간복잡도"
   ]
  },
  {
   "cell_type": "markdown",
   "metadata": {
    "slideshow": {
     "slide_type": "slide"
    }
   },
   "source": [
    "* 입력크기: 물건(item) 수 $n$과 가장 최대 용량 $W$\n",
    "* 단위연산: 채워야 하는 행렬 $P$의 크기"
   ]
  },
  {
   "cell_type": "markdown",
   "metadata": {
    "slideshow": {
     "slide_type": "fragment"
    }
   },
   "source": [
    "$$\n",
    "n\\, W \\in \\Theta(n\\, W)\n",
    "$$"
   ]
  },
  {
   "cell_type": "markdown",
   "metadata": {
    "slideshow": {
     "slide_type": "slide"
    }
   },
   "source": [
    "#### 절대 선형이 아님!"
   ]
  },
  {
   "cell_type": "markdown",
   "metadata": {
    "slideshow": {
     "slide_type": ""
    }
   },
   "source": [
    "* 예를 들어, $W = n!$이면, $\\Theta(n\\cdot n!)$의 복잡도가 나옴."
   ]
  },
  {
   "cell_type": "markdown",
   "metadata": {
    "slideshow": {
     "slide_type": "fragment"
    }
   },
   "source": [
    "* 즉, $W$값에 복잡도가 절대적으로 의존함."
   ]
  },
  {
   "cell_type": "markdown",
   "metadata": {
    "slideshow": {
     "slide_type": "slide"
    }
   },
   "source": [
    "#### 개선된 알고리즘"
   ]
  },
  {
   "cell_type": "markdown",
   "metadata": {
    "slideshow": {
     "slide_type": "slide"
    }
   },
   "source": [
    "* 행렬 $P$ 전체를 계산할 필요 없음."
   ]
  },
  {
   "cell_type": "markdown",
   "metadata": {
    "slideshow": {
     "slide_type": "fragment"
    }
   },
   "source": [
    "* $P[n][W]$ 을 계산하기 위해 필요한 값들만 계산하도록 하면 됨.\n",
    "    * 교재 참조"
   ]
  },
  {
   "cell_type": "markdown",
   "metadata": {
    "slideshow": {
     "slide_type": "fragment"
    }
   },
   "source": [
    "* 이렇게 구현하면 아래의 복잡도를 갖는 알고리즘 구현 가능"
   ]
  },
  {
   "cell_type": "markdown",
   "metadata": {},
   "source": [
    "$$\n",
    "O(\\min(2^n, n\\, W))\n",
    "$$"
   ]
  },
  {
   "cell_type": "markdown",
   "metadata": {
    "slideshow": {
     "slide_type": "slide"
    }
   },
   "source": [
    "## 연습문제"
   ]
  },
  {
   "cell_type": "markdown",
   "metadata": {
    "slideshow": {
     "slide_type": "slide"
    }
   },
   "source": [
    "#### 문제 1\n",
    "\n",
    "`dijkstra()` 함수가 항상 최단경로에 대한 정보를 생성함을 증명하라."
   ]
  },
  {
   "cell_type": "markdown",
   "metadata": {
    "slideshow": {
     "slide_type": "slide"
    }
   },
   "source": [
    "#### 문제 2 \n",
    "\n",
    "`dijkstra()` 함수는 최단경로에 포함된 이음선만 찾는다. \n",
    "최단경로와 최단길이를 반환하는 함수 `dijkstra_path()` 함수를 구현하라."
   ]
  },
  {
   "cell_type": "markdown",
   "metadata": {
    "slideshow": {
     "slide_type": "slide"
    }
   },
   "source": [
    "#### 문제 3\n",
    "\n",
    "아래 표로 표현되는 방향그래프의 마디 v4에서 다른 마디로 가는 최단경로를 구하는 과정을 단계별로 설명하라. "
   ]
  },
  {
   "cell_type": "markdown",
   "metadata": {
    "slideshow": {
     "slide_type": ""
    }
   },
   "source": [
    "<div align=\"center\"><img src=\"./images/algo04/algo04-10.png\" width=\"300\"/></div>"
   ]
  },
  {
   "cell_type": "markdown",
   "metadata": {
    "slideshow": {
     "slide_type": "slide"
    }
   },
   "source": [
    "* 위 표를 2차원 행렬로 표현하면 다음과 같음."
   ]
  },
  {
   "cell_type": "code",
   "execution_count": 28,
   "metadata": {
    "slideshow": {
     "slide_type": ""
    }
   },
   "outputs": [],
   "source": [
    "W = [[  0, inf,  72,  50,  90,  35],\n",
    "     [inf,   0,  71,  70,  73,  75],\n",
    "     [ 72,  71,   0, inf,  77,  90],\n",
    "     [ 50,  70, inf,   0,  60,  40],\n",
    "     [ 90,  73,  77,  60,   0,  80],\n",
    "     [ 35,  75,  90,  40,  80,   0]]"
   ]
  },
  {
   "cell_type": "markdown",
   "metadata": {
    "slideshow": {
     "slide_type": "slide"
    }
   },
   "source": [
    "* 다익스트라 알고리즘에 의해 v5에서 각 마디로 가는 최단경로를 찾는 과정은 다음과 같음.\n",
    "    \n",
    "    * Y = {5}\n",
    "        * v5에서 Y에 속한 마디들만을 통해 갈 수 있는 가장 가까운 마디는 거리가 60인 v4\n",
    "    * Y = {5, 4}\n",
    "        * v5에서 Y에 속한 마디들만을 통해 갈 수 있는 가장 가까운 마디는 v5에서 직접 연결되고 거리가 73인 v2\n",
    "        * v4롤 통해 Y에 속하지 않는 마디로 가는 경로는 모두 73보다 크기 때문임.\n",
    "            * length(v5 -> v4 -> v?) >= 60 + 40 = 100\n",
    "    * Y = {5, 4, 2}\n",
    "        * v5에서 Y에 속한 마디들만을 통해 갈 수 있는 가장 가까운 마디는 v5에서 직접 연결되고 거리가 77인 v3\n",
    "        * v2롤 통해 Y에 속하지 않는 마디로 가는 경로는 모두 77보다 크기 때문임.\n",
    "            * length(v5 -> v2 -> v?) >= 73 + 70 = 143"
   ]
  },
  {
   "cell_type": "markdown",
   "metadata": {
    "slideshow": {
     "slide_type": "slide"
    }
   },
   "source": [
    "* 다익스트라 알고리즘(이어짐)\n",
    "\n",
    "    * Y = {5, 4, 2, 3}\n",
    "        * v5에서 Y에 속한 마디들만을 통해 갈 수 있는 가장 가까운 마디는 v5에서 직접 연결되고 거리가 80인 v6\n",
    "        * v3롤 통해 Y에 속하지 않는 마디로 가는 경로는 모두 80보다 크기 때문임.\n",
    "            * length(v5 -> v3 -> v?) >= 77 + 71 = 147\n",
    "    * Y = {5, 4, 2, 3, 6}\n",
    "        * v5에서 Y에 속한 마디들만을 통해 갈 수 있는 가장 가까운 마디는 v5에서 직접 연결되고 거리가 90인 v1\n",
    "        * v6롤 통해 Y에 속하지 않는 마디로 가는 경로는 모두 90보다 크기 때문임.\n",
    "            * length(v5 -> v6 -> v?) >= 80 + 35 = 115\n",
    "    * Y = {5, 4, 2, 3, 6, 1}            "
   ]
  },
  {
   "cell_type": "markdown",
   "metadata": {
    "slideshow": {
     "slide_type": "slide"
    }
   },
   "source": [
    "* 실제로 `dijkstra_gen()` 함수를 이용한 아래 결과와 동일함.\n",
    "* 인덱스에 1을 더해야 함에 주의할 것."
   ]
  },
  {
   "cell_type": "code",
   "execution_count": 29,
   "metadata": {
    "slideshow": {
     "slide_type": ""
    }
   },
   "outputs": [
    {
     "data": {
      "text/plain": [
       "defaultdict(list, {4: [3, 1, 2, 5, 0]})"
      ]
     },
     "execution_count": 29,
     "metadata": {},
     "output_type": "execute_result"
    }
   ],
   "source": [
    "dijkstra_gen(4,W)"
   ]
  }
 ],
 "metadata": {
  "celltoolbar": "Slideshow",
  "kernelspec": {
   "display_name": "Python 3",
   "language": "python",
   "name": "python3"
  },
  "language_info": {
   "codemirror_mode": {
    "name": "ipython",
    "version": 3
   },
   "file_extension": ".py",
   "mimetype": "text/x-python",
   "name": "python",
   "nbconvert_exporter": "python",
   "pygments_lexer": "ipython3",
   "version": "3.8.3"
  }
 },
 "nbformat": 4,
 "nbformat_minor": 4
}
