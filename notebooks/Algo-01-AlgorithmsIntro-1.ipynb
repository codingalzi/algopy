{
 "cells": [
  {
   "cell_type": "markdown",
   "metadata": {
    "slideshow": {
     "slide_type": "slide"
    }
   },
   "source": [
    "# 1장 알고리즘: 효율성, 분석, 차수"
   ]
  },
  {
   "cell_type": "markdown",
   "metadata": {
    "slideshow": {
     "slide_type": "slide"
    }
   },
   "source": [
    "## 책 소개\n",
    "\n",
    "* __알고리즘 기초(Foundations of Algorithms)__"
   ]
  },
  {
   "cell_type": "markdown",
   "metadata": {
    "slideshow": {
     "slide_type": "fragment"
    }
   },
   "source": [
    "* 리차드 네아폴리탄 저, 도경구 역, 홍릉과학출판사"
   ]
  },
  {
   "cell_type": "markdown",
   "metadata": {
    "slideshow": {
     "slide_type": "fragment"
    }
   },
   "source": [
    "* 주요 내용: 컴퓨터로 문제 푸는 기법 배우기"
   ]
  },
  {
   "cell_type": "markdown",
   "metadata": {
    "slideshow": {
     "slide_type": "slide"
    }
   },
   "source": [
    "### 목차\n",
    "\n",
    "* 1장: 알고리즘: 효율성, 분석, 차수"
   ]
  },
  {
   "cell_type": "markdown",
   "metadata": {
    "slideshow": {
     "slide_type": "slide"
    }
   },
   "source": [
    "* 2장 - 6장: 다양한 문제풀이 기법 및 적용 예제 \n",
    "    * 2장 분할정복 \n",
    "    * 3장 동적계획 \n",
    "    * 4장 탐욕 알고리즘\n",
    "    * 5장 되추적\n",
    "    * 6장 분기한정법   "
   ]
  },
  {
   "cell_type": "markdown",
   "metadata": {
    "slideshow": {
     "slide_type": "slide"
    }
   },
   "source": [
    "* 7장 계산복잡도 소개: 정렬문제\n",
    "* 8장 계산복잡도: 검색문제\n",
    "* 9장 계산복잡도와 문제 난이도: NP 이론 소개"
   ]
  },
  {
   "cell_type": "markdown",
   "metadata": {
    "slideshow": {
     "slide_type": "slide"
    }
   },
   "source": [
    "## 1장 주요 내용"
   ]
  },
  {
   "cell_type": "markdown",
   "metadata": {
    "slideshow": {
     "slide_type": "slide"
    }
   },
   "source": [
    "* 1절 알고리즘"
   ]
  },
  {
   "cell_type": "markdown",
   "metadata": {
    "slideshow": {
     "slide_type": ""
    }
   },
   "source": [
    "* 2절 효율적인 알고리즘 개발 중요성"
   ]
  },
  {
   "cell_type": "markdown",
   "metadata": {
    "slideshow": {
     "slide_type": ""
    }
   },
   "source": [
    "* 3절 알고리즘 분석"
   ]
  },
  {
   "cell_type": "markdown",
   "metadata": {
    "slideshow": {
     "slide_type": ""
    }
   },
   "source": [
    "* 4절 차수"
   ]
  },
  {
   "cell_type": "markdown",
   "metadata": {
    "slideshow": {
     "slide_type": "slide"
    }
   },
   "source": [
    "## 1절 알고리즘"
   ]
  },
  {
   "cell_type": "markdown",
   "metadata": {
    "slideshow": {
     "slide_type": "slide"
    }
   },
   "source": [
    "### 프로그램 설계 과정"
   ]
  },
  {
   "cell_type": "markdown",
   "metadata": {
    "slideshow": {
     "slide_type": "fragment"
    }
   },
   "source": [
    "<div align=\"center\"><img src=\"./images/algo01-01.png\" width=\"600\"/></div>"
   ]
  },
  {
   "cell_type": "markdown",
   "metadata": {
    "slideshow": {
     "slide_type": "slide"
    }
   },
   "source": [
    "### 알고리즘이란?\n",
    "\n",
    "* 컴퓨터를 이용하여 주어진 문제를 해결하는 기법"
   ]
  },
  {
   "cell_type": "markdown",
   "metadata": {
    "slideshow": {
     "slide_type": "fragment"
    }
   },
   "source": [
    "* 컴퓨터 프로그램은 여러 방법 중에서 한 가지 방법을 선택하여 구현"
   ]
  },
  {
   "cell_type": "markdown",
   "metadata": {
    "slideshow": {
     "slide_type": "fragment"
    }
   },
   "source": [
    "* 프로그래밍 언어, 프로그래밍 스타일과 무관"
   ]
  },
  {
   "cell_type": "markdown",
   "metadata": {
    "slideshow": {
     "slide_type": "slide"
    }
   },
   "source": [
    "#### 알고리즘과 절차\n",
    "\n",
    "* 절차: 문제해결 알고리즘 적용 순서"
   ]
  },
  {
   "cell_type": "markdown",
   "metadata": {
    "slideshow": {
     "slide_type": "slide"
    }
   },
   "source": [
    "### 알고리즘 효율성 분석"
   ]
  },
  {
   "cell_type": "markdown",
   "metadata": {
    "slideshow": {
     "slide_type": "slide"
    }
   },
   "source": [
    "#### 효율성\n",
    "\n",
    "* 문제해결을 위한 필수 요소\n",
    "* 컴퓨터 속도가 아무리 빨라져도, 메모리 가격이 아무리 저렴해져도 효율성 문제는 언제나 중요!\n",
    "* 수천년, 수만년 동안 실행되어야 끝나는 비효율적 알고리즘이 일반적으로 존재."
   ]
  },
  {
   "cell_type": "markdown",
   "metadata": {
    "slideshow": {
     "slide_type": "slide"
    }
   },
   "source": [
    "#### 분석\n",
    "\n",
    "* 알고리즘의 효율성 판단\n",
    "* 효율성 판단 기준: 계산복잡도\n",
    "* 계산복잡도\n",
    "    * 시간복잡도: 특정 단위연산의 실행 횟수\n",
    "    * 공간복잡도: 메모리 공간 사용 정도"
   ]
  },
  {
   "cell_type": "markdown",
   "metadata": {
    "slideshow": {
     "slide_type": "slide"
    }
   },
   "source": [
    "#### 차수\n",
    "\n",
    "* 계산복잡도 판단 기준\n",
    "* 계산복잡도 함수의 차수(order) 활용\n",
    "* 차수를 이용한 계산복잡도를 기준으로 하여 알고리즘을 다양한 카테고리로 분류"
   ]
  },
  {
   "cell_type": "markdown",
   "metadata": {
    "slideshow": {
     "slide_type": "slide"
    }
   },
   "source": [
    "#### 알고리즘 효율성 비교 예제\n",
    "\n",
    "* 문제: 전화번호부에서 '홍길동'의 전화번호 찾기"
   ]
  },
  {
   "cell_type": "markdown",
   "metadata": {
    "slideshow": {
     "slide_type": "fragment"
    }
   },
   "source": [
    "* 알고리즘 1: 순차검색\n",
    "    * 첫 쪽부터 '홍길동'이라는 이름이 나올 때까지 순서대로 찾는다."
   ]
  },
  {
   "cell_type": "markdown",
   "metadata": {
    "slideshow": {
     "slide_type": "fragment"
    }
   },
   "source": [
    "* 알고리즘 2: 이분검색\n",
    "    * 전화번호부는 '가나다'순\n",
    "    * 먼저 'ㅎ'이 있을 만한 곳을 적당히 확인\n",
    "    * 이후 앞뒤로 뒤적여가며 검색"
   ]
  },
  {
   "cell_type": "markdown",
   "metadata": {
    "slideshow": {
     "slide_type": "slide"
    }
   },
   "source": [
    "#### 분석: 어떤 알고리즘이 더 효율적인가?\n",
    "\n",
    "* 이분검색이 보다 효율적임."
   ]
  },
  {
   "cell_type": "markdown",
   "metadata": {
    "slideshow": {
     "slide_type": "slide"
    }
   },
   "source": [
    "### 알고리즘 표기법\n",
    "\n",
    "* 자연어: 한글 또는 영어\n",
    "    * 단점 1: 복잡한 알고리즘 설명과 전달 어려움\n",
    "    * 단점 2: 실제로 구현하기 어려움"
   ]
  },
  {
   "cell_type": "markdown",
   "metadata": {
    "slideshow": {
     "slide_type": "fragment"
    }
   },
   "source": [
    "* 의사코드(Pseudo-code)\n",
    "    * 실제 프로그래밍 언어와 유사한 언어로 작성된 코드\n",
    "    * 자연어 사용의 단점 해결\n",
    "    * 하지만 직접 실행할 수 없음.\n",
    "    * 교재: C++에 가까운 의사코드 사용"
   ]
  },
  {
   "cell_type": "markdown",
   "metadata": {
    "slideshow": {
     "slide_type": "slide"
    }
   },
   "source": [
    "#### 강의에 사용되는 언어: 파이썬3\n",
    "\n",
    "* 설치: 아나콘다(Anaconda) 패키지 설치 추천\n",
    "* 주피터 노트북 활용\n",
    "* 파이썬은 기본패키지만 사용"
   ]
  },
  {
   "cell_type": "markdown",
   "metadata": {
    "slideshow": {
     "slide_type": "slide"
    }
   },
   "source": [
    "#### 파이썬 활용의 장점\n",
    "\n",
    "* 의사코드 수준의 프로그래밍 작성 가능\n",
    "* 책의 의사코드와 매우 유사하게 구현하여 실행 가능"
   ]
  },
  {
   "cell_type": "markdown",
   "metadata": {
    "slideshow": {
     "slide_type": "slide"
    }
   },
   "source": [
    "#### 예제: 순차검색"
   ]
  },
  {
   "cell_type": "markdown",
   "metadata": {
    "slideshow": {
     "slide_type": "fragment"
    }
   },
   "source": [
    "* 문제: 리스트 $S$에 $x$가 항목으로 포함되어 있는가?"
   ]
  },
  {
   "cell_type": "markdown",
   "metadata": {
    "slideshow": {
     "slide_type": "fragment"
    }
   },
   "source": [
    "* 입력 파라미터: 리스트 $S$와 값 $x$"
   ]
  },
  {
   "cell_type": "markdown",
   "metadata": {
    "slideshow": {
     "slide_type": "fragment"
    }
   },
   "source": [
    "* 리턴값: \n",
    "    * $x$가 $S$의 항목일 경우: $x$의 위치 인덱스\n",
    "    * 항목이 아닐 경우 -1."
   ]
  },
  {
   "cell_type": "code",
   "execution_count": 1,
   "metadata": {
    "slideshow": {
     "slide_type": "slide"
    }
   },
   "outputs": [],
   "source": [
    "# 순차검색 알고리즘\n",
    "\n",
    "def seqsearch(S, x):\n",
    "    location = 0\n",
    "    \n",
    "    # while 반복문 실행횟수 확인용\n",
    "    loop_count = 0\n",
    "\n",
    "    while location < len(S) and S[location] != x:\n",
    "        loop_count += 1\n",
    "        location += 1\n",
    "\n",
    "    if location < len(S):\n",
    "        return (location, loop_count)\n",
    "    else:\n",
    "        return (-1, loop_count)"
   ]
  },
  {
   "cell_type": "code",
   "execution_count": 2,
   "metadata": {
    "cell_style": "center",
    "slideshow": {
     "slide_type": "slide"
    }
   },
   "outputs": [
    {
     "name": "stdout",
     "output_type": "stream",
     "text": [
      "(5, 5)\n"
     ]
    }
   ],
   "source": [
    "seq = list(range(30))\n",
    "val = 5\n",
    "\n",
    "print(seqsearch(seq, val))"
   ]
  },
  {
   "cell_type": "code",
   "execution_count": 3,
   "metadata": {
    "cell_style": "center",
    "slideshow": {
     "slide_type": "fragment"
    }
   },
   "outputs": [
    {
     "name": "stdout",
     "output_type": "stream",
     "text": [
      "(10, 10)\n"
     ]
    }
   ],
   "source": [
    "seq = list(range(30))\n",
    "val = 10\n",
    "\n",
    "print(seqsearch(seq, val))"
   ]
  },
  {
   "cell_type": "code",
   "execution_count": 4,
   "metadata": {
    "cell_style": "center",
    "slideshow": {
     "slide_type": "fragment"
    }
   },
   "outputs": [
    {
     "name": "stdout",
     "output_type": "stream",
     "text": [
      "(20, 20)\n"
     ]
    }
   ],
   "source": [
    "seq = list(range(30))\n",
    "val = 20\n",
    "\n",
    "print(seqsearch(seq, val))"
   ]
  },
  {
   "cell_type": "code",
   "execution_count": 5,
   "metadata": {
    "cell_style": "center",
    "slideshow": {
     "slide_type": "slide"
    }
   },
   "outputs": [
    {
     "name": "stdout",
     "output_type": "stream",
     "text": [
      "(29, 29)\n"
     ]
    }
   ],
   "source": [
    "seq = list(range(30))\n",
    "val = 29\n",
    "\n",
    "print(seqsearch(seq, val))"
   ]
  },
  {
   "cell_type": "code",
   "execution_count": 6,
   "metadata": {
    "cell_style": "center",
    "slideshow": {
     "slide_type": "fragment"
    }
   },
   "outputs": [
    {
     "name": "stdout",
     "output_type": "stream",
     "text": [
      "(-1, 30)\n"
     ]
    }
   ],
   "source": [
    "seq = list(range(30))\n",
    "val = 30\n",
    "\n",
    "print(seqsearch(seq, val))"
   ]
  },
  {
   "cell_type": "code",
   "execution_count": 7,
   "metadata": {
    "cell_style": "center",
    "slideshow": {
     "slide_type": "fragment"
    }
   },
   "outputs": [
    {
     "name": "stdout",
     "output_type": "stream",
     "text": [
      "(-1, 30)\n"
     ]
    }
   ],
   "source": [
    "seq = list(range(30))\n",
    "val = 100\n",
    "\n",
    "print(seqsearch(seq, val))"
   ]
  },
  {
   "cell_type": "markdown",
   "metadata": {
    "slideshow": {
     "slide_type": "fragment"
    }
   },
   "source": [
    "* 입력값의 위치에 따라 `while` 반복문의 실행횟수가 선형적으로 달라짐."
   ]
  },
  {
   "cell_type": "markdown",
   "metadata": {
    "slideshow": {
     "slide_type": "slide"
    }
   },
   "source": [
    "#### 파이썬튜터 활용: 순차검색\n",
    "\n",
    "* 위 순차검색 코드를 \n",
    "[PythonTutor: 순차검색](http://pythontutor.com/visualize.html#code=%23%20%EC%88%9C%EC%B0%A8%EA%B2%80%EC%83%89%20%EC%95%8C%EA%B3%A0%EB%A6%AC%EC%A6%98%0A%0Adef%20seqsearch%28S,%20x%29%3A%0A%20%20%20%20location%20%3D%200%0A%0A%20%20%20%20%23%20while%20%EB%B0%98%EB%B3%B5%EB%AC%B8%20%EC%8B%A4%ED%96%89%ED%9A%9F%EC%88%98%20%ED%99%95%EC%9D%B8%EC%9A%A9%0A%20%20%20%20loop_count%20%3D%200%0A%0A%20%20%20%20while%20location%20%3C%20len%28S%29%20and%20S%5Blocation%5D%20!%3D%20x%3A%0A%20%20%20%20%20%20%20%20loop_count%20%2B%3D%201%0A%20%20%20%20%20%20%20%20location%20%2B%3D%201%0A%0A%20%20%20%20if%20location%20%3C%20len%28S%29%3A%0A%20%20%20%20%20%20%20%20return%20%28location,%20loop_count%29%0A%20%20%20%20else%3A%0A%20%20%20%20%20%20%20%20return%20%28-1,%20loop_count%29%0A%0Aseq%20%3D%20list%28range%2830%29%29%0Aval%20%3D%205%0A%0Aprint%28seqsearch%28seq,%20val%29%29&cumulative=false&curInstr=0&heapPrimitives=nevernest&mode=display&origin=opt-frontend.js&py=3&rawInputLstJSON=%5B%5D&textReferences=false)\n",
    "에서 실행하면서 메모리에서의 변화 확인 가능"
   ]
  },
  {
   "cell_type": "markdown",
   "metadata": {
    "slideshow": {
     "slide_type": "slide"
    }
   },
   "source": [
    "#### 순차검색 분석\n",
    "\n",
    "* 특정 값의 위치를 확인하기 위해서 $S$의 항목 몇 개를 검색해야 하는가?\n",
    "    * 특정 값과 동일한 항목의 위치에 따라 다름\n",
    "    * 최악의 경우: $S$의 길이, 즉, 항목의 개수"
   ]
  },
  {
   "cell_type": "markdown",
   "metadata": {
    "slideshow": {
     "slide_type": "fragment"
    }
   },
   "source": [
    "* 좀 더 빨리 찾을 수는 없는가?\n",
    "    * $S$에 있는 항목에 대한 정보가 없는 한 더 빨리 찾을 수 없음."
   ]
  }
 ],
 "metadata": {
  "celltoolbar": "Slideshow",
  "kernelspec": {
   "display_name": "Python 3",
   "language": "python",
   "name": "python3"
  },
  "language_info": {
   "codemirror_mode": {
    "name": "ipython",
    "version": 3
   },
   "file_extension": ".py",
   "mimetype": "text/x-python",
   "name": "python",
   "nbconvert_exporter": "python",
   "pygments_lexer": "ipython3",
   "version": "3.8.3"
  }
 },
 "nbformat": 4,
 "nbformat_minor": 4
}
