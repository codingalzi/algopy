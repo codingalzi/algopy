{
 "cells": [
  {
   "cell_type": "markdown",
   "metadata": {},
   "source": [
    "# 7장 탐색과 정렬 3부"
   ]
  },
  {
   "cell_type": "markdown",
   "metadata": {},
   "source": [
    "Copyright (C)  Brad Miller, David Ranum.\n",
    "This work is licensed under the Creative Commons Attribution-NonCommercial-ShareAlike 4.0 International License. To view a copy of this license, visit http://creativecommons.org/licenses/by-nc-sa/4.0/."
   ]
  },
  {
   "cell_type": "markdown",
   "metadata": {},
   "source": [
    "차후 번역 예정!"
   ]
  },
  {
   "cell_type": "markdown",
   "metadata": {},
   "source": [
    "## 7.3 정렬 2부"
   ]
  },
  {
   "cell_type": "markdown",
   "metadata": {},
   "source": [
    "### 7.3.5 삽입정렬"
   ]
  },
  {
   "cell_type": "markdown",
   "metadata": {},
   "source": [
    "The **insertion sort**, although still :math:`O(n^{2})`, works in a\n",
    "slightly different way. It always maintains a sorted sublist in the\n",
    "lower positions of the list. Each new item is then “inserted” back into\n",
    "the previous sublist such that the sorted sublist is one item larger.\n",
    ":ref:`Figure 4 <fig_insertionsort>` shows the insertion sorting process. The shaded\n",
    "items represent the ordered sublists as the algorithm makes each pass."
   ]
  },
  {
   "cell_type": "markdown",
   "metadata": {},
   "source": [
    "<figure>\n",
    "<div align=\"center\"><img src=\"https://runestone.academy/runestone/books/published/pythonds3/_images/insertionsort.png\" width=\"70%\"></div>\n",
    "</figure>"
   ]
  },
  {
   "cell_type": "markdown",
   "metadata": {},
   "source": [
    "We begin by assuming that a list with one item (position :math:`0`) is\n",
    "already sorted. On each pass, one for each item 1 through :math:`n-1`,\n",
    "the current item is checked against those in the already sorted sublist.\n",
    "As we look back into the already sorted sublist, we shift those items\n",
    "that are greater to the right. When we reach a smaller item or the end\n",
    "of the sublist, the current item can be inserted.\n",
    "\n",
    ":ref:`Figure 5 <fig_insertionpass>` shows the fifth pass in detail. At this point in\n",
    "the algorithm, a sorted sublist of five items consisting of 17, 26, 54,\n",
    "77, and 93 exists. We want to insert 31 back into the already sorted\n",
    "items. The first comparison against 93 causes 93 to be shifted to the\n",
    "right. 77 and 54 are also shifted. When the item 26 is encountered, the\n",
    "shifting process stops and 31 is placed in the open position. Now we\n",
    "have a sorted sublist of six items."
   ]
  },
  {
   "cell_type": "markdown",
   "metadata": {},
   "source": [
    "<figure>\n",
    "<div align=\"center\"><img src=\"https://runestone.academy/runestone/books/published/pythonds3/_images/insertionpass.png\" width=\"70%\"></div>\n",
    "</figure>"
   ]
  },
  {
   "cell_type": "markdown",
   "metadata": {},
   "source": [
    "The implementation of ``insertion_sort`` (:ref:`ActiveCode 1 <lst_insertion>`) shows that\n",
    "there are again :math:`n-1` passes to sort :math:`n` items. The iteration\n",
    "starts at position 1 and moves through position :math:`n-1`, as these\n",
    "are the items that need to be inserted back into the sorted sublists.\n",
    "Line 8 performs the shift operation that moves a value up one position\n",
    "in the list, making room behind it for the insertion. Remember that this\n",
    "is not a complete exchange as was performed in the previous algorithms.\n",
    "\n",
    "The maximum number of comparisons for an insertion sort is the sum of\n",
    "the first :math:`n-1` integers. Again, this is :math:`O(n^{2})`.\n",
    "However, in the best case, only one comparison needs to be done on each\n",
    "pass. This would be the case for an already sorted list.\n",
    "\n",
    "One note about shifting versus exchanging is also important. In general,\n",
    "a shift operation requires approximately a third of the processing work\n",
    "of an exchange since only one assignment is performed. In benchmark\n",
    "studies, insertion sort will show very good performance."
   ]
  },
  {
   "cell_type": "code",
   "execution_count": 11,
   "metadata": {},
   "outputs": [
    {
     "name": "stdout",
     "output_type": "stream",
     "text": [
      "[17, 20, 26, 31, 44, 54, 55, 77, 93]\n"
     ]
    }
   ],
   "source": [
    "def insertion_sort(a_list):\n",
    "    for i in range(1, len(a_list)):\n",
    "        cur_val = a_list[i]\n",
    "        cur_pos = i\n",
    "\n",
    "        while cur_pos > 0 and a_list[cur_pos - 1] > cur_val:\n",
    "            a_list[cur_pos] = a_list[cur_pos - 1]\n",
    "            cur_pos = cur_pos - 1\n",
    "        a_list[cur_pos] = cur_val\n",
    "\n",
    "\n",
    "a_list = [54, 26, 93, 17, 77, 31, 44, 55, 20]\n",
    "insertion_sort(a_list)\n",
    "print(a_list)"
   ]
  },
  {
   "cell_type": "markdown",
   "metadata": {},
   "source": [
    "__퀴즈__"
   ]
  },
  {
   "cell_type": "markdown",
   "metadata": {},
   "source": [
    "리스트 `[15, 5, 4, 18, 12, 19, 14, 10, 8, 20]`에 대해 \n",
    "삽입정렬을 진행할 때\n",
    "세 번의 패스가 완성된 후의 리스트는 어떤 모습인가?\n",
    "\n",
    "정답: `[4, 5, 15, 18, 12, 19, 14, 10, 8, 20]`"
   ]
  },
  {
   "cell_type": "markdown",
   "metadata": {},
   "source": [
    "### 7.3.6 쉘정렬"
   ]
  },
  {
   "cell_type": "markdown",
   "metadata": {},
   "source": [
    "The **Shell sort**, sometimes called the “diminishing increment sort,”\n",
    "improves on the insertion sort by breaking the original list into a\n",
    "number of smaller sublists, each of which is sorted using an insertion\n",
    "sort. The unique way that these sublists are chosen is the key to the\n",
    "shell sort. Instead of breaking the list into sublists of contiguous\n",
    "items, the shell sort uses an increment :math:`i`, sometimes called the\n",
    "**gap**, to create a sublist by choosing all items that are :math:`i` items\n",
    "apart.\n",
    "\n",
    "This can be seen in :ref:`Figure 6 <fig_incrementsA>`. This list has nine items. If\n",
    "we use an increment of three, there are three sublists, each of which\n",
    "can be sorted by an insertion sort. After completing these sorts, we get\n",
    "the list shown in :ref:`Figure 7 <fig_incrementsB>`. Although this list is not\n",
    "completely sorted, something very interesting has happened. By sorting\n",
    "the sublists, we have moved the items closer to where they actually\n",
    "belong."
   ]
  },
  {
   "cell_type": "markdown",
   "metadata": {},
   "source": [
    "<figure>\n",
    "<div align=\"center\"><img src=\"https://runestone.academy/runestone/books/published/pythonds3/_images/shellsortA.png\" width=\"70%\"></div>\n",
    "</figure>"
   ]
  },
  {
   "cell_type": "markdown",
   "metadata": {},
   "source": [
    "<figure>\n",
    "<div align=\"center\"><img src=\"https://runestone.academy/runestone/books/published/pythonds3/_images/shellsortB.png\" width=\"70%\"></div>\n",
    "</figure>"
   ]
  },
  {
   "cell_type": "markdown",
   "metadata": {},
   "source": [
    ":ref:`Figure 8 <fig_incrementsC>` shows a final insertion sort using an increment of\n",
    "one; in other words, a standard insertion sort. Note that by performing\n",
    "the earlier sublist sorts, we have now reduced the total number of\n",
    "shifting operations necessary to put the list in its final order. For\n",
    "this case, we need only four more shifts to complete the process."
   ]
  },
  {
   "cell_type": "markdown",
   "metadata": {},
   "source": [
    "<figure>\n",
    "<div align=\"center\"><img src=\"https://runestone.academy/runestone/books/published/pythonds3/_images/shellsortC.png\" width=\"70%\"></div>\n",
    "</figure>"
   ]
  },
  {
   "cell_type": "markdown",
   "metadata": {},
   "source": [
    "<figure>\n",
    "<div align=\"center\"><img src=\"https://runestone.academy/runestone/books/published/pythonds3/_images/shellsortD.png\" width=\"70%\"></div>\n",
    "</figure>"
   ]
  },
  {
   "cell_type": "markdown",
   "metadata": {},
   "source": [
    "We said earlier that the way in which the increments are chosen is the\n",
    "unique feature of the shell sort. The function shown in :ref:`ActiveCode 1 <lst_shell>`\n",
    "uses a different set of increments. In this case, we begin with\n",
    ":math:`\\frac {n}{2}` sublists. On the next pass,\n",
    ":math:`\\frac {n}{4}` sublists are sorted. Eventually, a single list is\n",
    "sorted with the basic insertion sort. :ref:`Figure 9 <fig_incrementsD>` shows the\n",
    "first sublists for our example using this increment.\n",
    "\n",
    "The following invocation of the ``shell_sort`` function shows the\n",
    "partially sorted lists after each increment, with the final sort being\n",
    "an insertion sort with an increment of one."
   ]
  },
  {
   "cell_type": "code",
   "execution_count": 12,
   "metadata": {},
   "outputs": [
    {
     "name": "stdout",
     "output_type": "stream",
     "text": [
      "After increments of size 4 the list is [20, 26, 44, 17, 54, 31, 93, 55, 77]\n",
      "After increments of size 2 the list is [20, 17, 44, 26, 54, 31, 77, 55, 93]\n",
      "After increments of size 1 the list is [17, 20, 26, 31, 44, 54, 55, 77, 93]\n",
      "[17, 20, 26, 31, 44, 54, 55, 77, 93]\n"
     ]
    }
   ],
   "source": [
    "def shell_sort(a_list):\n",
    "    sublist_count = len(a_list) // 2\n",
    "    while sublist_count > 0:\n",
    "        for pos_start in range(sublist_count):\n",
    "            gap_insertion_sort(a_list, pos_start, sublist_count)\n",
    "        print(\"After increments of size\", sublist_count, \"the list is\", a_list)\n",
    "        sublist_count = sublist_count // 2\n",
    "\n",
    "\n",
    "def gap_insertion_sort(a_list, start, gap):\n",
    "    for i in range(start + gap, len(a_list), gap):\n",
    "        cur_val = a_list[i]\n",
    "        cur_pos = i\n",
    "        while cur_pos >= gap and a_list[cur_pos - gap] > cur_val:\n",
    "            a_list[cur_pos] = a_list[cur_pos - gap]\n",
    "            cur_pos = cur_pos - gap\n",
    "        a_list[cur_pos] = cur_val\n",
    "\n",
    "\n",
    "a_list = [54, 26, 93, 17, 77, 31, 44, 55, 20]\n",
    "shell_sort(a_list)\n",
    "print(a_list)"
   ]
  },
  {
   "cell_type": "markdown",
   "metadata": {},
   "source": [
    "At first glance you may think that a Shell sort cannot be better than an\n",
    "insertion sort, since it does a complete insertion sort as the last\n",
    "step. It turns out, however, that this final insertion sort does not\n",
    "need to do very many comparisons (or shifts) since the list has been\n",
    "pre-sorted by earlier incremental insertion sorts, as described above.\n",
    "In other words, each pass produces a list that is “more sorted” than the\n",
    "previous one. This makes the final pass very efficient.\n",
    "\n",
    "Although a general analysis of the shell sort is well beyond the scope\n",
    "of this text, we can say that it tends to fall somewhere between\n",
    ":math:`O(n)` and :math:`O(n^{2})`, based on the behavior described\n",
    "above. For the increments shown in :ref:`Listing 5 <lst_shell>`, the performance is\n",
    ":math:`O(n^{2})`. By changing the increment, for example using\n",
    ":math:`2^{k}-1` (1, 3, 7, 15, 31, and so on), a shell sort can perform\n",
    "at :math:`O(n^{\\frac {3}{2}})`."
   ]
  },
  {
   "cell_type": "markdown",
   "metadata": {},
   "source": [
    "__퀴즈__"
   ]
  },
  {
   "cell_type": "markdown",
   "metadata": {},
   "source": [
    "리스트 `[5, 16, 20, 12, 3, 8, 9, 17, 19, 7]`에 대해 \n",
    "gap size 3으로 자리교환(swapping)을 진행했을 때\n",
    "리스트는 어떤 모습인가?\n",
    "\n",
    "정답: `[5, 3, 8, 7, 16, 19, 9, 17, 20, 12]`"
   ]
  },
  {
   "cell_type": "markdown",
   "metadata": {},
   "source": [
    "### Discussion Questions"
   ]
  },
  {
   "cell_type": "markdown",
   "metadata": {},
   "source": [
    "1. Generate a random list of integers. Show how this list is sorted by\n",
    "   the following algorithms:\n",
    "\n",
    "   -  insertion sort\n",
    "\n",
    "   -  shell sort (you decide on the increments)\n",
    "\n",
    "1. Consider the following list of integers: [1, 2, 3, 4, 5, 6, 7, 8, 9, 10]. Show\n",
    "   how this list is sorted by the following algorithms:\n",
    "\n",
    "   -  insertion sort\n",
    "\n",
    "   -  shell sort (you decide on the increments)\n",
    "\n",
    "1. Consider the following list of integers: [10, 9, 8, 7, 6, 5, 4, 3, 2, 1]. Show\n",
    "   how this list is sorted by the following algorithms:\n",
    "\n",
    "   -  insertion sort\n",
    "\n",
    "   -  shell sort (you decide on the increments)\n",
    "\n",
    "1. Consider the list of characters: [``\"P\", \"Y\", \"T\", \"H\", \"O\", \"N\"``]. Show\n",
    "   how this list is sorted using the following algorithms:\n",
    "\n",
    "   -  insertion sort\n",
    "\n",
    "   -  shell sort (you decide on the increments)"
   ]
  },
  {
   "cell_type": "markdown",
   "metadata": {},
   "source": [
    "### 프로그래밍 실습 문제"
   ]
  },
  {
   "cell_type": "markdown",
   "metadata": {},
   "source": [
    "1. Using a random number generator, create a list of 500 integers.\n",
    "   Perform a benchmark analysis using some of the sorting algorithms\n",
    "   from this chapter. What is the difference in execution speed?\n",
    "\n",
    "1. Perform a benchmark analysis for a shell sort, using different\n",
    "   increment sets on the same list.\n",
    "\n",
    "1. One way to improve the quick sort is to use an insertion sort on\n",
    "   lists that have a small length (call it the “partition limit”). Why\n",
    "   does this make sense? Re-implement the quick sort and use it to sort\n",
    "   a random list of integers. Perform an analysis using different list\n",
    "   sizes for the partition limit."
   ]
  }
 ],
 "metadata": {
  "kernelspec": {
   "display_name": "Python 3",
   "language": "python",
   "name": "python3"
  },
  "language_info": {
   "codemirror_mode": {
    "name": "ipython",
    "version": 3
   },
   "file_extension": ".py",
   "mimetype": "text/x-python",
   "name": "python",
   "nbconvert_exporter": "python",
   "pygments_lexer": "ipython3",
   "version": "3.8.8"
  }
 },
 "nbformat": 4,
 "nbformat_minor": 4
}
