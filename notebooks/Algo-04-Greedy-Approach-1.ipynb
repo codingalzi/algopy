{
 "cells": [
  {
   "cell_type": "markdown",
   "metadata": {
    "slideshow": {
     "slide_type": "slide"
    }
   },
   "source": [
    "# 4장 탐욕 알고리즘"
   ]
  },
  {
   "cell_type": "markdown",
   "metadata": {
    "slideshow": {
     "slide_type": "slide"
    }
   },
   "source": [
    "## 주요 내용"
   ]
  },
  {
   "cell_type": "markdown",
   "metadata": {
    "slideshow": {
     "slide_type": ""
    }
   },
   "source": [
    "* 1절 최소비용 신장트리: 프림 알고리즘"
   ]
  },
  {
   "cell_type": "markdown",
   "metadata": {
    "slideshow": {
     "slide_type": ""
    }
   },
   "source": [
    "* 2절 단일출발점 최단경로: 다익스트라 알고리즘"
   ]
  },
  {
   "cell_type": "markdown",
   "metadata": {
    "slideshow": {
     "slide_type": ""
    }
   },
   "source": [
    "* 5절 탐욕 알고리즘과 동적계획법 알고리즘 비교: 0-1 배낭채우기 문제"
   ]
  },
  {
   "cell_type": "markdown",
   "metadata": {
    "slideshow": {
     "slide_type": "slide"
    }
   },
   "source": [
    "## 탐욕 알고리즘이란?"
   ]
  },
  {
   "cell_type": "markdown",
   "metadata": {
    "slideshow": {
     "slide_type": ""
    }
   },
   "source": [
    "* 선택 순간의 최적(locally optimal) 대상을 선택하는 기법"
   ]
  },
  {
   "cell_type": "markdown",
   "metadata": {
    "slideshow": {
     "slide_type": "fragment"
    }
   },
   "source": [
    "* 동적계획법과 마찬가지로 최적화 문제를 풀기 위해 주로 사용됨."
   ]
  },
  {
   "cell_type": "markdown",
   "metadata": {
    "slideshow": {
     "slide_type": "fragment"
    }
   },
   "source": [
    "* 차이점: 입력사례를 분할하지 않음."
   ]
  },
  {
   "cell_type": "markdown",
   "metadata": {
    "slideshow": {
     "slide_type": "slide"
    }
   },
   "source": [
    "### 예제: 거스름돈 문제"
   ]
  },
  {
   "cell_type": "markdown",
   "metadata": {
    "slideshow": {
     "slide_type": ""
    }
   },
   "source": [
    "* 문제: 거스름돈 360원 돌려주기"
   ]
  },
  {
   "cell_type": "markdown",
   "metadata": {
    "slideshow": {
     "slide_type": ""
    }
   },
   "source": [
    "* 조건: 사용하는 동전 개수 최소화하기"
   ]
  },
  {
   "cell_type": "markdown",
   "metadata": {
    "slideshow": {
     "slide_type": ""
    }
   },
   "source": [
    "* 동전 종류\n",
    "    * 500원\n",
    "    * 250원\n",
    "    * 100원\n",
    "    * 50원\n",
    "    * 10원"
   ]
  },
  {
   "cell_type": "markdown",
   "metadata": {
    "slideshow": {
     "slide_type": "slide"
    }
   },
   "source": [
    "#### 해결책: 탐욕 알고리즘 활용"
   ]
  },
  {
   "cell_type": "markdown",
   "metadata": {
    "slideshow": {
     "slide_type": ""
    }
   },
   "source": [
    "* 가장 큰 액수의 동전부터 최대한 많이 사용"
   ]
  },
  {
   "cell_type": "markdown",
   "metadata": {
    "slideshow": {
     "slide_type": ""
    }
   },
   "source": [
    "            500원: 0개\n",
    "            250원: 1개\n",
    "            100원: 1개\n",
    "            50원: 0개\n",
    "            10원: 1개"
   ]
  },
  {
   "cell_type": "markdown",
   "metadata": {
    "slideshow": {
     "slide_type": "fragment"
    }
   },
   "source": [
    "* 항상 동전의 개수가 최소가 되도록 거스름돈을 돌려줄 수 있음.\n",
    "    * 증명 생략"
   ]
  },
  {
   "cell_type": "markdown",
   "metadata": {
    "slideshow": {
     "slide_type": "slide"
    }
   },
   "source": [
    "### 탐욕 알고리즘의 한계"
   ]
  },
  {
   "cell_type": "markdown",
   "metadata": {
    "slideshow": {
     "slide_type": ""
    }
   },
   "source": [
    "* 탐욕 알고리즘이 항상 최적의 해답을 제시하지는 못함."
   ]
  },
  {
   "cell_type": "markdown",
   "metadata": {
    "slideshow": {
     "slide_type": "fragment"
    }
   },
   "source": [
    "* 따라서 탐욕적 알고리즘을 적용하여 얻은 결과가 최적의 해답인지 여부를 따로 검증해야 함."
   ]
  },
  {
   "cell_type": "markdown",
   "metadata": {
    "slideshow": {
     "slide_type": "slide"
    }
   },
   "source": [
    "#### 반례"
   ]
  },
  {
   "cell_type": "markdown",
   "metadata": {
    "slideshow": {
     "slide_type": ""
    }
   },
   "source": [
    "* 160원을 거슬러주어야 하는데 동전 종류가 다음과 같은 경우\n",
    "    * 120원\n",
    "    * 100원\n",
    "    * 50원\n",
    "    * 10원"
   ]
  },
  {
   "cell_type": "markdown",
   "metadata": {
    "slideshow": {
     "slide_type": "slide"
    }
   },
   "source": [
    "* 탐욕 알고리즘 해법: 5개 동전 필요"
   ]
  },
  {
   "cell_type": "markdown",
   "metadata": {},
   "source": [
    "            120원: 1개\n",
    "            100원: 0개\n",
    "             50원: 0개\n",
    "             10원: 4개"
   ]
  },
  {
   "cell_type": "markdown",
   "metadata": {
    "slideshow": {
     "slide_type": "fragment"
    }
   },
   "source": [
    "* 최적 해법: 3개 동전 필요"
   ]
  },
  {
   "cell_type": "markdown",
   "metadata": {},
   "source": [
    "            120원: 0개\n",
    "            100원: 1개\n",
    "             50원: 1개\n",
    "             10원: 1개"
   ]
  },
  {
   "cell_type": "markdown",
   "metadata": {
    "slideshow": {
     "slide_type": "slide"
    }
   },
   "source": [
    "### 탐욕 알고리즘 기본 아이디어"
   ]
  },
  {
   "cell_type": "markdown",
   "metadata": {
    "slideshow": {
     "slide_type": ""
    }
   },
   "source": [
    "* 공집합에서 출발하여 해당 집합에 원소를 아래 과정을 거쳐 문제의 해답을 얻을 때까지 추가"
   ]
  },
  {
   "cell_type": "markdown",
   "metadata": {
    "slideshow": {
     "slide_type": "fragment"
    }
   },
   "source": [
    "1) 선택과정: 지정된 기준에 따라 집합에 추가할 최적의 원소 선택."
   ]
  },
  {
   "cell_type": "markdown",
   "metadata": {
    "slideshow": {
     "slide_type": "fragment"
    }
   },
   "source": [
    "2) 적절성 검사: 선택된 원소가 추가된 새로운 집합의 적절성 판단"
   ]
  },
  {
   "cell_type": "markdown",
   "metadata": {
    "slideshow": {
     "slide_type": "fragment"
    }
   },
   "source": [
    "3) 해답점검: 새로운 집합이 문제의 해답인지 여부 판단. \n",
    "* 해답이면 종료.\n",
    "* 그렇지 않으면 선택과정부터 다시 반복"
   ]
  },
  {
   "cell_type": "markdown",
   "metadata": {
    "slideshow": {
     "slide_type": "slide"
    }
   },
   "source": [
    "## 1절 최소비용 신장트리"
   ]
  },
  {
   "cell_type": "markdown",
   "metadata": {
    "slideshow": {
     "slide_type": "slide"
    }
   },
   "source": [
    "### 가중치 포함 비방향그래프"
   ]
  },
  {
   "cell_type": "markdown",
   "metadata": {
    "slideshow": {
     "slide_type": ""
    }
   },
   "source": [
    "<div align=\"center\"><img src=\"./images/algo04/algo04-01.png\" width=\"300\"/></div>"
   ]
  },
  {
   "cell_type": "markdown",
   "metadata": {
    "slideshow": {
     "slide_type": "fragment"
    }
   },
   "source": [
    "* 가중치: 음이 아닌 수."
   ]
  },
  {
   "cell_type": "markdown",
   "metadata": {
    "slideshow": {
     "slide_type": ""
    }
   },
   "source": [
    "* 이음선(edge, 변): 방향 없음.\n",
    "    * 두 마디 사이에 단순히 \"이음선이 있다\"라고만 말함."
   ]
  },
  {
   "cell_type": "markdown",
   "metadata": {
    "slideshow": {
     "slide_type": "slide"
    }
   },
   "source": [
    "### 경로"
   ]
  },
  {
   "cell_type": "markdown",
   "metadata": {
    "slideshow": {
     "slide_type": ""
    }
   },
   "source": [
    "* 경로(path): 연결된 이음선으로 이루어진 마디의 나열\n",
    "    * 마디 $u$에서 마디 $v$로 가는 경로가 존재하면, $v$에서 $u$로 가는 경로도 존재.\n",
    "        (이음선에 방향성이 없기 때문)"
   ]
  },
  {
   "cell_type": "markdown",
   "metadata": {
    "slideshow": {
     "slide_type": ""
    }
   },
   "source": [
    "* 두 마디의 연결성 = 두 마디 사이에 경로의 존재 여부"
   ]
  },
  {
   "cell_type": "markdown",
   "metadata": {
    "slideshow": {
     "slide_type": "fragment"
    }
   },
   "source": [
    "* __연결된 그래프__: 모든 마디 사이에 경로가 존재하는 그래프"
   ]
  },
  {
   "cell_type": "markdown",
   "metadata": {
    "slideshow": {
     "slide_type": "slide"
    }
   },
   "source": [
    "### 단순순환경로(simple cycle)와 트리"
   ]
  },
  {
   "cell_type": "markdown",
   "metadata": {},
   "source": [
    "* 어떤 마디에서 출발하여 다시 돌아오는 경로에 서로 다른 3개의 마디가 있고, \n",
    "    경로상의 모든 마디가 서로 다른 경로"
   ]
  },
  {
   "cell_type": "markdown",
   "metadata": {
    "slideshow": {
     "slide_type": "fragment"
    }
   },
   "source": [
    "* 비순환적 비방향그래프: 단순순환경로를 전혀 포함하지 않는 비방향그래프"
   ]
  },
  {
   "cell_type": "markdown",
   "metadata": {
    "slideshow": {
     "slide_type": "fragment"
    }
   },
   "source": [
    "* __트리__: 연결된 비순환적 비방향그래프"
   ]
  },
  {
   "cell_type": "markdown",
   "metadata": {
    "slideshow": {
     "slide_type": "slide"
    }
   },
   "source": [
    "### 신장트리(spanning tree)"
   ]
  },
  {
   "cell_type": "markdown",
   "metadata": {
    "slideshow": {
     "slide_type": ""
    }
   },
   "source": [
    "* 가정: 가중치를 포함하며 연결된 비방향그래프 G가 주어졌음."
   ]
  },
  {
   "cell_type": "markdown",
   "metadata": {
    "slideshow": {
     "slide_type": "fragment"
    }
   },
   "source": [
    "* G의 신장트리: G의 마디는 그대로 두면서 이음선의 일부를 제거하여 만들어진 트리"
   ]
  },
  {
   "cell_type": "markdown",
   "metadata": {
    "slideshow": {
     "slide_type": "fragment"
    }
   },
   "source": [
    "* G의 최소비용 신장트리: 트리에 포함된 이음선의 가중치들의 합이 최소인 G의 신장트리"
   ]
  },
  {
   "cell_type": "markdown",
   "metadata": {
    "slideshow": {
     "slide_type": "slide"
    }
   },
   "source": [
    "### 신장트리의 특징"
   ]
  },
  {
   "cell_type": "markdown",
   "metadata": {
    "slideshow": {
     "slide_type": ""
    }
   },
   "source": [
    "* 모든 신장트리가 최소비용 신장트리는 아님."
   ]
  },
  {
   "cell_type": "markdown",
   "metadata": {
    "slideshow": {
     "slide_type": "fragment"
    }
   },
   "source": [
    "* 여러 개의 최소비용 신장트리 존재 가능."
   ]
  },
  {
   "cell_type": "markdown",
   "metadata": {
    "slideshow": {
     "slide_type": "slide"
    }
   },
   "source": [
    "### 예제"
   ]
  },
  {
   "cell_type": "markdown",
   "metadata": {
    "slideshow": {
     "slide_type": "slide"
    }
   },
   "source": [
    "<div align=\"center\"><img src=\"./images/algo04/algo04-02a.png\" width=\"600\"/></div>"
   ]
  },
  {
   "cell_type": "markdown",
   "metadata": {
    "slideshow": {
     "slide_type": "slide"
    }
   },
   "source": [
    "### 최소비용 신장트리 활용 예제"
   ]
  },
  {
   "cell_type": "markdown",
   "metadata": {},
   "source": [
    "* 도로건설: 도시들을 모두 연결하면서 도로의 길이가 최소가 되도록 하는 문제"
   ]
  },
  {
   "cell_type": "markdown",
   "metadata": {},
   "source": [
    "* 통신: 통신선의 길이가 최소가 되도록 통신케이블 망을 구성하는 문제"
   ]
  },
  {
   "cell_type": "markdown",
   "metadata": {},
   "source": [
    "* 배관: 배관의 총 길이가 최도가 되도록 연결하는 문제"
   ]
  },
  {
   "cell_type": "markdown",
   "metadata": {
    "slideshow": {
     "slide_type": "slide"
    }
   },
   "source": [
    "### 최소비용 신장트리 구하기: 무작정 방법(brute-force method)"
   ]
  },
  {
   "cell_type": "markdown",
   "metadata": {
    "slideshow": {
     "slide_type": ""
    }
   },
   "source": [
    "* 알고리즘: 모든 신장트리를 확인하여 최소비용 신장트리 선택하기"
   ]
  },
  {
   "cell_type": "markdown",
   "metadata": {
    "slideshow": {
     "slide_type": "fragment"
    }
   },
   "source": [
    "* 복잡도: 최악의 경우 지수함수 복잡도보다 나쁨. 예를 들어, 아래 복잡도보다 나쁨."
   ]
  },
  {
   "cell_type": "markdown",
   "metadata": {},
   "source": [
    "$$\n",
    "\\Theta(n^{n-2})\n",
    "$$"
   ]
  },
  {
   "cell_type": "markdown",
   "metadata": {
    "slideshow": {
     "slide_type": "slide"
    }
   },
   "source": [
    "### 프림(Prim) 알고리즘"
   ]
  },
  {
   "cell_type": "markdown",
   "metadata": {
    "slideshow": {
     "slide_type": "slide"
    }
   },
   "source": [
    "#### 전제조건"
   ]
  },
  {
   "cell_type": "markdown",
   "metadata": {
    "slideshow": {
     "slide_type": ""
    }
   },
   "source": [
    "* 가중치를 포함하고 연결된 비방향그래프 $G$가 아래와 같이 주어졌음:"
   ]
  },
  {
   "cell_type": "markdown",
   "metadata": {},
   "source": [
    "$$\n",
    "G = (V, E)\n",
    "$$"
   ]
  },
  {
   "cell_type": "markdown",
   "metadata": {
    "slideshow": {
     "slide_type": ""
    }
   },
   "source": [
    "* $V$: 마디들의 집합"
   ]
  },
  {
   "cell_type": "markdown",
   "metadata": {
    "slideshow": {
     "slide_type": ""
    }
   },
   "source": [
    "* $E$: 이음선들의 집합"
   ]
  },
  {
   "cell_type": "markdown",
   "metadata": {
    "slideshow": {
     "slide_type": "slide"
    }
   },
   "source": [
    "#### 프림 알고리즘 기본 아디이어"
   ]
  },
  {
   "cell_type": "markdown",
   "metadata": {},
   "source": [
    "$G = (V, E)$\n",
    "\n",
    "$Y = \\{ v_1 \\}$\n",
    "<br>\n",
    "$F = \\emptyset$"
   ]
  },
  {
   "cell_type": "markdown",
   "metadata": {
    "slideshow": {
     "slide_type": "fragment"
    }
   },
   "source": [
    "while (사례 미해결):\n",
    "\n",
    "&nbsp;&nbsp;&nbsp;&nbsp;&nbsp;&nbsp; $(V-Y)$에 속한 마디 중에서 $Y$와 가장 가까운(최소거리) 마디 선택\n",
    "\n",
    "&nbsp;&nbsp;&nbsp;&nbsp;&nbsp;&nbsp; 해당 마디를 $Y$에 추가\n",
    "<br>\n",
    "&nbsp;&nbsp;&nbsp;&nbsp;&nbsp;&nbsp; 해당 마디 선택에 사용된 이음선을 $F$에 추가\n",
    "\n",
    "&nbsp;&nbsp;&nbsp;&nbsp;&nbsp;&nbsp; if ($Y == V$):\n",
    "<br>\n",
    "&nbsp;&nbsp;&nbsp;&nbsp;&nbsp;&nbsp; &nbsp;&nbsp;&nbsp;&nbsp;&nbsp;&nbsp; 사례해결"
   ]
  },
  {
   "cell_type": "markdown",
   "metadata": {
    "slideshow": {
     "slide_type": "slide"
    }
   },
   "source": [
    "#### 예제"
   ]
  },
  {
   "cell_type": "markdown",
   "metadata": {
    "slideshow": {
     "slide_type": ""
    }
   },
   "source": [
    "<div align=\"center\"><img src=\"./images/algo04/algo04-03a.png\" width=\"500\"/></div>\n",
    "<br>\n",
    "\n",
    "<div align=\"center\"><img src=\"./images/algo04/algo04-04a.png\" width=\"500\"/></div>"
   ]
  },
  {
   "cell_type": "markdown",
   "metadata": {
    "slideshow": {
     "slide_type": "slide"
    }
   },
   "source": [
    "### 프림 알고리즘의 최적여부 증명"
   ]
  },
  {
   "cell_type": "markdown",
   "metadata": {
    "slideshow": {
     "slide_type": "slide"
    }
   },
   "source": [
    "* 프림 알고리즘이 항상 최소비용 신장트리를 생성하는지 증명해야 함."
   ]
  },
  {
   "cell_type": "markdown",
   "metadata": {
    "slideshow": {
     "slide_type": "fragment"
    }
   },
   "source": [
    "* 결과가 신장트리라는 것은 확실함.\n",
    "    * $(V == Y)$ 일 때 종료.\n",
    "    * 모든 마디가 서로 연결됨.\n",
    "    * 단순순환경로 존재하지 않음."
   ]
  },
  {
   "cell_type": "markdown",
   "metadata": {
    "slideshow": {
     "slide_type": "fragment"
    }
   },
   "source": [
    "* 하지만 최소비용 신장트리 여부는 불확실함."
   ]
  },
  {
   "cell_type": "markdown",
   "metadata": {
    "slideshow": {
     "slide_type": "slide"
    }
   },
   "source": [
    "#### 유망한 이음선 집합"
   ]
  },
  {
   "cell_type": "markdown",
   "metadata": {
    "slideshow": {
     "slide_type": ""
    }
   },
   "source": [
    "* 전제: \n",
    "\n",
    "    $$G = (V, E) \\quad\\text{이고}\\quad F \\subseteq E$$"
   ]
  },
  {
   "cell_type": "markdown",
   "metadata": {
    "slideshow": {
     "slide_type": "fragment"
    }
   },
   "source": [
    "* $F$에 이음선을 추가하여 최소비용 신장트리를 만들 수 있을 때 \"$F$는 유망하다(promissing)\" 라고 부름."
   ]
  },
  {
   "cell_type": "markdown",
   "metadata": {
    "slideshow": {
     "slide_type": "slide"
    }
   },
   "source": [
    "#### 보조정리"
   ]
  },
  {
   "cell_type": "markdown",
   "metadata": {
    "slideshow": {
     "slide_type": ""
    }
   },
   "source": [
    "* 전제 1: $G = (V, E)$ 이고 $F (\\subseteq E)$는 유망함."
   ]
  },
  {
   "cell_type": "markdown",
   "metadata": {
    "slideshow": {
     "slide_type": "fragment"
    }
   },
   "source": [
    "* 전제 2: $Y$는 $F$에 사용된 마디들의 집합"
   ]
  },
  {
   "cell_type": "markdown",
   "metadata": {
    "slideshow": {
     "slide_type": "fragment"
    }
   },
   "source": [
    "* 전제 3: $Y$에 있는 정점과 $(V-Y)$에 있는 정점을 잇는 이음선 중에서\n",
    "    가중치가 가장 적은 이음선 중에 하나가 $e$."
   ]
  },
  {
   "cell_type": "markdown",
   "metadata": {
    "slideshow": {
     "slide_type": "fragment"
    }
   },
   "source": [
    "* 결론: $F \\cup \\{ e \\}$ 또한 유망함."
   ]
  },
  {
   "cell_type": "markdown",
   "metadata": {
    "slideshow": {
     "slide_type": "slide"
    }
   },
   "source": [
    "##### 보조정리 증명 (그림으로 설명)"
   ]
  },
  {
   "cell_type": "markdown",
   "metadata": {
    "slideshow": {
     "slide_type": ""
    }
   },
   "source": [
    "<div align=\"center\"><img src=\"./images/algo04/algo04-05a.png\" width=\"300\"/></div>"
   ]
  },
  {
   "cell_type": "markdown",
   "metadata": {
    "slideshow": {
     "slide_type": "slide"
    }
   },
   "source": [
    "#### 정리"
   ]
  },
  {
   "cell_type": "markdown",
   "metadata": {
    "slideshow": {
     "slide_type": ""
    }
   },
   "source": [
    "* 프림 알고리즘은 항상 최소비용 신장트리를 생성한다. "
   ]
  },
  {
   "cell_type": "markdown",
   "metadata": {
    "slideshow": {
     "slide_type": "slide"
    }
   },
   "source": [
    "##### 증명 (귀납법 사용)"
   ]
  },
  {
   "cell_type": "markdown",
   "metadata": {
    "slideshow": {
     "slide_type": ""
    }
   },
   "source": [
    "* 귀납법을 사용하여 while 반복문에서 확장되는 $F$가 항상 유망하다는 것을 증명함."
   ]
  },
  {
   "cell_type": "markdown",
   "metadata": {
    "slideshow": {
     "slide_type": "fragment"
    }
   },
   "source": [
    "* 귀납기초: 공집합은 당연히 유망함."
   ]
  },
  {
   "cell_type": "markdown",
   "metadata": {
    "slideshow": {
     "slide_type": "fragment"
    }
   },
   "source": [
    "* 귀납단계: 보조정리에 의해 while 반복문에서 확장되는 $F$는 언제나 유망함.\n",
    "    * 귀납가정: while 반복문이 시작할 때 $F$가 유망하다고 가정\n",
    "    * 귀납절차: 보조정리에 의해 $F\\cup\\{ e \\}$도 유망함. (알고리즘 참조)"
   ]
  },
  {
   "cell_type": "markdown",
   "metadata": {
    "slideshow": {
     "slide_type": "fragment"
    }
   },
   "source": [
    "* 귀납증명 완료"
   ]
  },
  {
   "cell_type": "markdown",
   "metadata": {
    "slideshow": {
     "slide_type": "slide"
    }
   },
   "source": [
    "### 프림 알고리즘 구현"
   ]
  },
  {
   "cell_type": "code",
   "execution_count": 1,
   "metadata": {
    "slideshow": {
     "slide_type": "slide"
    }
   },
   "outputs": [],
   "source": [
    "from math import inf\n",
    "from collections import defaultdict"
   ]
  },
  {
   "cell_type": "code",
   "execution_count": 2,
   "metadata": {
    "slideshow": {
     "slide_type": "slide"
    }
   },
   "outputs": [],
   "source": [
    "def prim(W):\n",
    "    V = len(W)                  # 마디: 그래프 행의 인덱스를 마디 이름으로 사용\n",
    "    F = defaultdict(list)       # 신장트리에 포함될 이음선들의 집합. \n",
    "                                # 키: 마디, \n",
    "                                # 키값: 추가되는 이음선에 사용된 다른 마디들의 리스트\n",
    "    nearest = [0] * V           # i번 인덱스 값: 신장트리에 속한 마디 중 가장 가까운 마디\n",
    "    distance = [W[0][i] for i in range(V)]  # i번 인덱스 값: nearest[i]와 i를 잇는 \n",
    "                                # 이음선의 가중치. -1이면 이미 신장트리에 포함된 것으로 간주\n",
    "    distance[0] = -1            # V0 는 이미 포함되어 있다고 가정\n",
    "    for _ in range(V-1):        # 신장트리에 속할 이음선을 모든 마디가 선택될 때가지 하나씩 추가\n",
    "        # distance 정보를 이용하여 아직 신장트리에 속하지 않으면서 가장 가까운 마디 선택\n",
    "        min = inf\n",
    "        for i in range(1, V):\n",
    "            if (0 < distance[i] < min):\n",
    "                min = distance[i]\n",
    "                vnear = i\n",
    "        # 선택된 마디와 가장 가까운 마디 사이의 이음선을 신장트리에 추가\n",
    "        F[nearest[vnear]].append(vnear)\n",
    "        distance[vnear] = -1    # 선택된 마디 표시\n",
    "        # 모든 마디를 대상으로 distance와 nearest 업데이트 (F가 수정되었기 때문)\n",
    "        for i in range(1, V):\n",
    "            if W[i][vnear] < distance[i]:\n",
    "                distance[i] = W[i][vnear]\n",
    "                nearest[i] = vnear\n",
    "    return F                    # 신장트리 반환"
   ]
  },
  {
   "cell_type": "code",
   "execution_count": 3,
   "metadata": {
    "slideshow": {
     "slide_type": "slide"
    }
   },
   "outputs": [],
   "source": [
    "W = [[0,   1,   3,   inf, inf],\n",
    "     [1,   0,   3,   6,   inf],\n",
    "     [3,   3,   0,   4,   2  ],\n",
    "     [inf, 6,   4,   0,   5  ],\n",
    "     [inf, inf, 2,   5,   0  ]]"
   ]
  },
  {
   "cell_type": "code",
   "execution_count": 4,
   "metadata": {
    "slideshow": {
     "slide_type": "fragment"
    }
   },
   "outputs": [
    {
     "data": {
      "text/plain": [
       "defaultdict(list, {0: [1, 2], 2: [4, 3]})"
      ]
     },
     "execution_count": 4,
     "metadata": {},
     "output_type": "execute_result"
    }
   ],
   "source": [
    "prim(W)"
   ]
  },
  {
   "cell_type": "markdown",
   "metadata": {
    "slideshow": {
     "slide_type": "slide"
    }
   },
   "source": [
    "#### 코드 설명"
   ]
  },
  {
   "cell_type": "markdown",
   "metadata": {
    "slideshow": {
     "slide_type": "slide"
    }
   },
   "source": [
    "```python\n",
    "V = len(W)                  # 마디: 그래프 행의 인덱스를 마디 이름으로 사용\n",
    "F = defaultdict(list)       # 신장트리에 포함될 이음선들의 집합. \n",
    "                            # 키: 마디, \n",
    "                            # 키값: 추가되는 이음선에 사용된 다른 마디들의 리스트\n",
    "```"
   ]
  },
  {
   "cell_type": "markdown",
   "metadata": {
    "slideshow": {
     "slide_type": "fragment"
    }
   },
   "source": [
    "```python\n",
    "nearest = [0] * V                       # i번 인덱스 값: 신장트리에 속한 마디 중 가장 가까운 마디\n",
    "distance = [W[0][i] for i in range(V)]  # i번 인덱스 값: nearest[i]와 i를 잇는 이음선의 가중치\n",
    "                                        # -1 이면 이미 신장트리에 포함된 것으로 간주\n",
    "distance[0] = -1                        # V0 는 이미 포함되어 있다고 가정\n",
    "```"
   ]
  },
  {
   "cell_type": "markdown",
   "metadata": {
    "slideshow": {
     "slide_type": "slide"
    }
   },
   "source": [
    "```python\n",
    "for _ in range(V-1):        # 신장트리에 속할 이음선을 모든 마디가 선택될 때가지 하나씩 추가\n",
    "```"
   ]
  },
  {
   "cell_type": "markdown",
   "metadata": {
    "slideshow": {
     "slide_type": "fragment"
    }
   },
   "source": [
    "```python\n",
    "    # distance 정보를 이용하여 아직 신장트리에 속하지 않으면서 가장 가까운 마디 선택\n",
    "    min = inf\n",
    "    for i in range(1, V):\n",
    "        if (0 < distance[i] < min):\n",
    "            min = distance[i]\n",
    "            vnear = i\n",
    "```"
   ]
  },
  {
   "cell_type": "markdown",
   "metadata": {
    "slideshow": {
     "slide_type": "fragment"
    }
   },
   "source": [
    "```python\n",
    "    # 선택된 마디와 가장 가까운 마디 사이의 이음선을 신장트리에 추가\n",
    "    F[nearest[vnear]].append(vnear)\n",
    "    distance[vnear] = -1                # 선택된 마디 표시\n",
    "```"
   ]
  },
  {
   "cell_type": "markdown",
   "metadata": {
    "slideshow": {
     "slide_type": "fragment"
    }
   },
   "source": [
    "```python\n",
    "    # 모든 마디를 대상으로 distance와 nearest 업데이트 (F가 수정되었기 때문)\n",
    "    for i in range(1, V):\n",
    "        if W[i][vnear] < distance[i]:\n",
    "            distance[i] = W[i][vnear]\n",
    "            nearest[i] = vnear\n",
    "```"
   ]
  },
  {
   "cell_type": "markdown",
   "metadata": {
    "slideshow": {
     "slide_type": "slide"
    }
   },
   "source": [
    "### 프림 알고리즘 일정 시간복잡도 분석"
   ]
  },
  {
   "cell_type": "markdown",
   "metadata": {
    "slideshow": {
     "slide_type": ""
    }
   },
   "source": [
    "* 입력크기: 마디 수 $n$"
   ]
  },
  {
   "cell_type": "markdown",
   "metadata": {
    "slideshow": {
     "slide_type": ""
    }
   },
   "source": [
    "* 단위연산: 중첩 for 반복문"
   ]
  },
  {
   "cell_type": "markdown",
   "metadata": {
    "slideshow": {
     "slide_type": "fragment"
    }
   },
   "source": [
    "* 일정 시간복잡도: $n-1$ 번 반복되는 명령문 두 개가 $n-1$번 반복되는 반복문 안에 들어 있음. \n",
    "    따라서 다음이 성립:"
   ]
  },
  {
   "cell_type": "markdown",
   "metadata": {},
   "source": [
    "$$\n",
    "T(n) = 2(n-1)(n-1) = \\Theta(n^2)\n",
    "$$"
   ]
  },
  {
   "cell_type": "markdown",
   "metadata": {
    "slideshow": {
     "slide_type": "slide"
    }
   },
   "source": [
    "## 연습문제"
   ]
  },
  {
   "cell_type": "markdown",
   "metadata": {
    "slideshow": {
     "slide_type": "slide"
    }
   },
   "source": [
    "#### 문제 1\n",
    "\n",
    "아래 비방향그래프의 최소신장트리를 찾는 과정을 단계별로 묘사하라."
   ]
  },
  {
   "cell_type": "markdown",
   "metadata": {
    "slideshow": {
     "slide_type": ""
    }
   },
   "source": [
    "<div align=\"center\"><img src=\"./images/algo04/algo04-09.png\" width=\"400\"/></div>"
   ]
  },
  {
   "cell_type": "markdown",
   "metadata": {
    "slideshow": {
     "slide_type": "slide"
    }
   },
   "source": [
    "* 신장트리에 추가되는 이음선의 순서는 다음과 같음:\n",
    "    \n",
    "    * Y = {1}\n",
    "        * v4-v1의 거리가 17로 가장 짧음.\n",
    "    * Y = {1, 4}\n",
    "        * v8-v4의 거리가 3으로 가장 짧음.\n",
    "    * Y = {1, 4, 8}\n",
    "        * v9-v8의 거리가 4로 가장 짧음.\n",
    "    * Y = {1, 4, 8, 9}\n",
    "        * v5-v4의 거리가 10으로 가장 짧음.\n",
    "    * Y = {1, 4, 8, 9, 5}\n",
    "        * v10-v9의 거리가 12로 가장 짧음.\n",
    "    * Y = {1, 4, 8, 9, 5, 10}\n",
    "        * v6-v10의 거리가 6으로 가장 짧음.\n",
    "    * Y = {1, 4, 8, 9, 5, 10, 6}\n",
    "        * v3-v4의 거리가 18로 가장 짧음.\n",
    "    * Y = {1, 4, 8, 9, 5, 10, 6, 3}\n",
    "        * v7-v3의 거리가 5로 가장 짧음.\n",
    "    * Y = {1, 4, 8, 9, 5, 10, 6, 3, 7}\n",
    "        * v2-v1의 거리가 32로 가장 짧음.\n",
    "    * Y = {1, 4, 8, 9, 5, 10, 6, 3, 7, 2}"
   ]
  },
  {
   "cell_type": "markdown",
   "metadata": {
    "slideshow": {
     "slide_type": "slide"
    }
   },
   "source": [
    "* 아래 그래프에서 확인할 수 있음. 빨강색 숫자는 최소비용신장트리에 추가되는 순서를 가리킴."
   ]
  },
  {
   "cell_type": "markdown",
   "metadata": {
    "slideshow": {
     "slide_type": ""
    }
   },
   "source": [
    "<div align=\"center\"><img src=\"./images/algo04/algo04-09a.png\" width=\"400\"/></div>"
   ]
  },
  {
   "cell_type": "markdown",
   "metadata": {
    "slideshow": {
     "slide_type": "slide"
    }
   },
   "source": [
    "#### 확인하기"
   ]
  },
  {
   "cell_type": "markdown",
   "metadata": {
    "slideshow": {
     "slide_type": ""
    }
   },
   "source": [
    "* 위 비방향그래프를 2차원 행렬로 표기하면 다음과  같음."
   ]
  },
  {
   "cell_type": "code",
   "execution_count": 5,
   "metadata": {
    "slideshow": {
     "slide_type": ""
    }
   },
   "outputs": [],
   "source": [
    "W = [[  0,  32, inf,  17, inf, inf, inf, inf, inf, inf],\n",
    "     [ 32,   0, inf, inf,  45, inf, inf, inf, inf, inf],\n",
    "     [inf, inf,   0,  18, inf, inf,   5, inf, inf, inf],\n",
    "     [ 17, inf,  18,   0,  10, inf, inf,   3, inf, inf],\n",
    "     [inf,  45, inf,  10,   0,  28, inf, inf,  25, inf],\n",
    "     [inf, inf, inf, inf,  28,   0, inf, inf, inf,   6],\n",
    "     [inf, inf,   5, inf, inf, inf,   0,  59, inf, inf],\n",
    "     [inf, inf, inf,   3, inf, inf,  59,   0,   4, inf],\n",
    "     [inf, inf, inf, inf,  25, inf, inf,   4,   0,  12],\n",
    "     [inf, inf, inf, inf, inf,   6, inf, inf,  12,   0]]"
   ]
  },
  {
   "cell_type": "markdown",
   "metadata": {
    "slideshow": {
     "slide_type": "slide"
    }
   },
   "source": [
    "* 따라서 아래와 같이 최소비용신장트리를 확인됨."
   ]
  },
  {
   "cell_type": "code",
   "execution_count": 6,
   "metadata": {
    "slideshow": {
     "slide_type": ""
    }
   },
   "outputs": [
    {
     "data": {
      "text/plain": [
       "defaultdict(list, {0: [3, 1], 3: [7, 4, 2], 7: [8], 8: [9], 9: [5], 2: [6]})"
      ]
     },
     "execution_count": 6,
     "metadata": {},
     "output_type": "execute_result"
    }
   ],
   "source": [
    "prim(W)"
   ]
  }
 ],
 "metadata": {
  "celltoolbar": "Slideshow",
  "kernelspec": {
   "display_name": "Python 3",
   "language": "python",
   "name": "python3"
  },
  "language_info": {
   "codemirror_mode": {
    "name": "ipython",
    "version": 3
   },
   "file_extension": ".py",
   "mimetype": "text/x-python",
   "name": "python",
   "nbconvert_exporter": "python",
   "pygments_lexer": "ipython3",
   "version": "3.8.3"
  }
 },
 "nbformat": 4,
 "nbformat_minor": 4
}
