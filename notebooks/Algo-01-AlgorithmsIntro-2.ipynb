{
 "cells": [
  {
   "cell_type": "markdown",
   "metadata": {
    "slideshow": {
     "slide_type": "slide"
    }
   },
   "source": [
    "## 2절 효율적 알고리즘 개발 중요성"
   ]
  },
  {
   "cell_type": "markdown",
   "metadata": {
    "slideshow": {
     "slide_type": "slide"
    }
   },
   "source": [
    "### 효율적 검색 알고리즘 예제: 이분검색"
   ]
  },
  {
   "cell_type": "markdown",
   "metadata": {
    "slideshow": {
     "slide_type": "slide"
    }
   },
   "source": [
    "* 문제: 항목이 __비내림차순(오름차순)으로 정렬된 리스트__ $S$에 $x$가 항목으로 포함되어 있는가?"
   ]
  },
  {
   "cell_type": "markdown",
   "metadata": {
    "slideshow": {
     "slide_type": "fragment"
    }
   },
   "source": [
    "* 입력 파라미터: 리스트 $S$와 값 $x$"
   ]
  },
  {
   "cell_type": "markdown",
   "metadata": {
    "slideshow": {
     "slide_type": "fragment"
    }
   },
   "source": [
    "* 리턴값: \n",
    "    * $x$가 $S$의 항목일 경우: $x$의 위치 인덱스\n",
    "    * 항목이 아닐 경우 -1."
   ]
  },
  {
   "cell_type": "code",
   "execution_count": 1,
   "metadata": {
    "cell_style": "center",
    "slideshow": {
     "slide_type": "slide"
    }
   },
   "outputs": [],
   "source": [
    "# 이분검색 알고리즘\n",
    "\n",
    "def binsearch(S, x):\n",
    "    low, high = 0, len(S)-1\n",
    "    location = -1\n",
    "\n",
    "    # while 반복문 실행횟수 확인용    \n",
    "    loop_count = 0\n",
    "\n",
    "    while low <= high and location == -1:\n",
    "        loop_count += 1\n",
    "        mid = (low + high)//2\n",
    "\n",
    "        if x == S[mid]:\n",
    "            location = mid\n",
    "        elif x < S[mid]:\n",
    "            high = mid - 1\n",
    "        else:\n",
    "            low = mid + 1\n",
    "    \n",
    "    return (location, loop_count)    "
   ]
  },
  {
   "cell_type": "code",
   "execution_count": 2,
   "metadata": {
    "cell_style": "center",
    "slideshow": {
     "slide_type": "slide"
    }
   },
   "outputs": [
    {
     "name": "stdout",
     "output_type": "stream",
     "text": [
      "(5, 5)\n"
     ]
    }
   ],
   "source": [
    "seq = list(range(30))\n",
    "val = 5\n",
    "\n",
    "print(binsearch(seq, val))"
   ]
  },
  {
   "cell_type": "code",
   "execution_count": 3,
   "metadata": {
    "cell_style": "center",
    "slideshow": {
     "slide_type": "fragment"
    }
   },
   "outputs": [
    {
     "name": "stdout",
     "output_type": "stream",
     "text": [
      "(10, 3)\n"
     ]
    }
   ],
   "source": [
    "seq = list(range(30))\n",
    "val = 10\n",
    "\n",
    "print(binsearch(seq, val))"
   ]
  },
  {
   "cell_type": "code",
   "execution_count": 4,
   "metadata": {
    "cell_style": "center",
    "slideshow": {
     "slide_type": "fragment"
    }
   },
   "outputs": [
    {
     "name": "stdout",
     "output_type": "stream",
     "text": [
      "(20, 4)\n"
     ]
    }
   ],
   "source": [
    "seq = list(range(30))\n",
    "val = 20\n",
    "\n",
    "print(binsearch(seq, val))"
   ]
  },
  {
   "cell_type": "code",
   "execution_count": 5,
   "metadata": {
    "cell_style": "center",
    "slideshow": {
     "slide_type": "slide"
    }
   },
   "outputs": [
    {
     "name": "stdout",
     "output_type": "stream",
     "text": [
      "(29, 5)\n"
     ]
    }
   ],
   "source": [
    "seq = list(range(30))\n",
    "val = 29\n",
    "\n",
    "print(binsearch(seq, val))"
   ]
  },
  {
   "cell_type": "code",
   "execution_count": 6,
   "metadata": {
    "cell_style": "center",
    "slideshow": {
     "slide_type": "fragment"
    }
   },
   "outputs": [
    {
     "name": "stdout",
     "output_type": "stream",
     "text": [
      "(-1, 5)\n"
     ]
    }
   ],
   "source": [
    "seq = list(range(30))\n",
    "val = 30\n",
    "\n",
    "print(binsearch(seq, val))"
   ]
  },
  {
   "cell_type": "code",
   "execution_count": 7,
   "metadata": {
    "cell_style": "center",
    "slideshow": {
     "slide_type": "fragment"
    }
   },
   "outputs": [
    {
     "name": "stdout",
     "output_type": "stream",
     "text": [
      "(-1, 5)\n"
     ]
    }
   ],
   "source": [
    "seq = list(range(30))\n",
    "val = 100\n",
    "\n",
    "print(binsearch(seq, val))"
   ]
  },
  {
   "cell_type": "markdown",
   "metadata": {
    "slideshow": {
     "slide_type": "fragment"
    }
   },
   "source": [
    "* 입력값이 달라져도 `while` 반복문의 실행횟수가 거의 변하지 않음."
   ]
  },
  {
   "cell_type": "markdown",
   "metadata": {
    "slideshow": {
     "slide_type": "slide"
    }
   },
   "source": [
    "#### 파이썬튜터 활용: 이분검색\n",
    "\n",
    "* 위 이분검색 코드를 \n",
    "[PythonTutor: 이분검색](http://pythontutor.com/visualize.html#code=%23%20%EC%9D%B4%EB%B6%84%EA%B2%80%EC%83%89%20%EC%95%8C%EA%B3%A0%EB%A6%AC%EC%A6%98%0A%0Adef%20binsearch%28S,%20x%29%3A%0A%20%20%20%20low,%20high%20%3D%200,%20len%28S%29-1%0A%20%20%20%20location%20%3D%20-1%0A%20%20%20%20%0A%20%20%20%20%23%20while%20%EB%B0%98%EB%B3%B5%EB%AC%B8%20%EC%8B%A4%ED%96%89%ED%9A%9F%EC%88%98%20%ED%99%95%EC%9D%B8%EC%9A%A9%20%20%20%20%0A%20%20%20%20loop_count%20%3D%200%0A%0A%20%20%20%20while%20low%20%3C%3D%20high%20and%20location%20%3D%3D%20-1%3A%0A%20%20%20%20%20%20%20%20loop_count%20%2B%3D%201%0A%20%20%20%20%20%20%20%20mid%20%3D%20%28low%20%2B%20high%29//2%0A%0A%20%20%20%20%20%20%20%20if%20x%20%3D%3D%20S%5Bmid%5D%3A%0A%20%20%20%20%20%20%20%20%20%20%20%20location%20%3D%20mid%0A%20%20%20%20%20%20%20%20elif%20x%20%3C%20S%5Bmid%5D%3A%0A%20%20%20%20%20%20%20%20%20%20%20%20high%20%3D%20mid%20-%201%0A%20%20%20%20%20%20%20%20else%3A%0A%20%20%20%20%20%20%20%20%20%20%20%20low%20%3D%20mid%20%2B%201%0A%20%20%20%20%0A%20%20%20%20return%20%28location,%20loop_count%29%20%20%20%20%0A%20%20%20%20%20%20%20%20%0Aseq%20%3D%20list%28range%2830%29%29%0Aval%20%3D%205%0A%0Aprint%28binsearch%28seq,%20val%29%29&cumulative=false&curInstr=0&heapPrimitives=nevernest&mode=display&origin=opt-frontend.js&py=3&rawInputLstJSON=%5B%5D&textReferences=false)\n",
    "에서 실행하면서 메모리에서의 변화 확인 가능"
   ]
  },
  {
   "cell_type": "markdown",
   "metadata": {
    "slideshow": {
     "slide_type": "slide"
    }
   },
   "source": [
    "#### 이분검색 분석\n",
    "\n",
    "* 이분검색으로 특정 값의 위치를 확인하기 위해서 \n",
    "    $S$의 항목 몇 개를 검색해야 하는가?\n",
    "    <br>\n",
    "    \n",
    "    * `while` 반복문이 실행될 때마다 검색 대상의 총 크기가 절반으로 감소됨.\n",
    "    * 따라서 최악의 경우 $(\\lfloor\\lg n\\rfloor + 1)$개의 항목만 검사하면 됨.\n",
    "    * 여기서 $\\lg := \\log_2$."
   ]
  },
  {
   "cell_type": "markdown",
   "metadata": {
    "slideshow": {
     "slide_type": "slide"
    }
   },
   "source": [
    "### 순차검색 vs 이분검색"
   ]
  },
  {
   "cell_type": "markdown",
   "metadata": {
    "slideshow": {
     "slide_type": "slide"
    }
   },
   "source": [
    "* 최악의 경우 확인 항목수"
   ]
  },
  {
   "cell_type": "markdown",
   "metadata": {
    "slideshow": {
     "slide_type": ""
    }
   },
   "source": [
    "| <div style=\"width:150px\">배열 크기</div> | <div style=\"width:150px\">순차 검색</div> | <div style=\"width:150px\">이분 검색</div> |\n",
    "|--------:|--------:|--------:|\n",
    "| $n$ | $n$ | $\\lg n + 1$ |\n",
    "| $128$ | $128$ | $8$ |\n",
    "| $1,024$ | $1,024$ | $11$ |\n",
    "| $1,048,576$ | $1,048,576$ | $21$ |\n",
    "| $4,294,967,296$ | $4,294,967,296$ | $33$ |"
   ]
  },
  {
   "cell_type": "markdown",
   "metadata": {
    "slideshow": {
     "slide_type": "slide"
    }
   },
   "source": [
    "#### 이분검색 활용"
   ]
  },
  {
   "cell_type": "markdown",
   "metadata": {
    "slideshow": {
     "slide_type": ""
    }
   },
   "source": [
    "* 다음, 네이버, 구글, 트위터 등등 수백에서 수천만의 회원을 대상으로 검색을 진행하고자 한다면 어떤 알고리즘 선택?"
   ]
  },
  {
   "cell_type": "markdown",
   "metadata": {
    "slideshow": {
     "slide_type": "fragment"
    }
   },
   "source": [
    "<div align=\"center\"><b>당연히 이분검색!</b></div>"
   ]
  },
  {
   "cell_type": "markdown",
   "metadata": {
    "slideshow": {
     "slide_type": "fragment"
    }
   },
   "source": [
    "* 이분 검색은 검색 속도가 사실상 최고로 빠름"
   ]
  },
  {
   "cell_type": "markdown",
   "metadata": {
    "slideshow": {
     "slide_type": "slide"
    }
   },
   "source": [
    "#### 예제: 피보나찌 수 구하기 알고리즘"
   ]
  },
  {
   "cell_type": "markdown",
   "metadata": {
    "slideshow": {
     "slide_type": "slide"
    }
   },
   "source": [
    "* 피보나치 수열 정의"
   ]
  },
  {
   "cell_type": "markdown",
   "metadata": {
    "slideshow": {
     "slide_type": ""
    }
   },
   "source": [
    "\\begin{align*}\n",
    "f_0 & = 0 \\\\\n",
    "f_1 & = 1 \\\\\n",
    "f_n & = f_{n-2} + f_{n-1} \\quad (n \\ge 2)\n",
    "\\end{align*}"
   ]
  },
  {
   "cell_type": "markdown",
   "metadata": {
    "slideshow": {
     "slide_type": "fragment"
    }
   },
   "source": [
    "* 피보나찌 수 예제"
   ]
  },
  {
   "cell_type": "markdown",
   "metadata": {
    "slideshow": {
     "slide_type": ""
    }
   },
   "source": [
    "$$0, 1, 1, 2, 3, 5, 8, 13, 21, 34, 55, 89, 144, 233, \\dots$$"
   ]
  },
  {
   "cell_type": "markdown",
   "metadata": {
    "slideshow": {
     "slide_type": "slide"
    }
   },
   "source": [
    "#### 피보나찌 수 구하기 알고리즘(재귀)\n",
    "\n",
    "* 문제: 피보나찌 수열에서 $n$번째 수를 구하라.\n",
    "* 입력: 음이 아닌 정수\n",
    "* 출력: $n$번째 피보나찌 수"
   ]
  },
  {
   "cell_type": "code",
   "execution_count": 8,
   "metadata": {
    "slideshow": {
     "slide_type": "slide"
    }
   },
   "outputs": [],
   "source": [
    "# 피보나찌 수 구하기 알고리즘(재귀)\n",
    "\n",
    "def fib(n):\n",
    "    if (n <= 1):\n",
    "        return n\n",
    "    else:\n",
    "        return fib(n-2) + fib(n-1)"
   ]
  },
  {
   "cell_type": "code",
   "execution_count": 9,
   "metadata": {
    "cell_style": "center",
    "slideshow": {
     "slide_type": "fragment"
    }
   },
   "outputs": [
    {
     "data": {
      "text/plain": [
       "2"
      ]
     },
     "execution_count": 9,
     "metadata": {},
     "output_type": "execute_result"
    }
   ],
   "source": [
    "fib(3)"
   ]
  },
  {
   "cell_type": "code",
   "execution_count": 10,
   "metadata": {
    "cell_style": "center",
    "slideshow": {
     "slide_type": "fragment"
    }
   },
   "outputs": [
    {
     "data": {
      "text/plain": [
       "8"
      ]
     },
     "execution_count": 10,
     "metadata": {},
     "output_type": "execute_result"
    }
   ],
   "source": [
    "fib(6)"
   ]
  },
  {
   "cell_type": "code",
   "execution_count": 11,
   "metadata": {
    "cell_style": "center",
    "slideshow": {
     "slide_type": "fragment"
    }
   },
   "outputs": [
    {
     "data": {
      "text/plain": [
       "55"
      ]
     },
     "execution_count": 11,
     "metadata": {},
     "output_type": "execute_result"
    }
   ],
   "source": [
    "fib(10)"
   ]
  },
  {
   "cell_type": "markdown",
   "metadata": {
    "slideshow": {
     "slide_type": "slide"
    }
   },
   "source": [
    "#### `fib` 함수 분석\n",
    "\n",
    "* 작성하기도 이해하기도 쉽지만, 매우 비효율적임."
   ]
  },
  {
   "cell_type": "markdown",
   "metadata": {
    "slideshow": {
     "slide_type": "fragment"
    }
   },
   "source": [
    "* 이유는 동일한 값을 반복적으로 계산하기 때문."
   ]
  },
  {
   "cell_type": "markdown",
   "metadata": {
    "slideshow": {
     "slide_type": "slide"
    }
   },
   "source": [
    "* 예를들어, `fib(5)`를 계산하기 위해 `fib(2)`가 세 번 호출됨. 아래 나무구조 그림 참조."
   ]
  },
  {
   "cell_type": "markdown",
   "metadata": {
    "slideshow": {
     "slide_type": "fragment"
    }
   },
   "source": [
    "<div align=\"center\"><img src=\"./images/algo01-03.png\" width=\"600\"/></div>"
   ]
  },
  {
   "cell_type": "markdown",
   "metadata": {
    "slideshow": {
     "slide_type": "slide"
    }
   },
   "source": [
    "#### `fib` 함수 호출 횟수\n",
    "\n",
    "* $T(n)$ = `fib(n)`을 계산하기 위해 `fib` 함수를 호출한 횟수. \n",
    "    * 즉, `fib(n)`을 위한 재귀 나무구조에 포함된 마디(node)의 개수"
   ]
  },
  {
   "cell_type": "markdown",
   "metadata": {
    "slideshow": {
     "slide_type": "slide"
    }
   },
   "source": [
    "* 아래 부등식 성립."
   ]
  },
  {
   "cell_type": "markdown",
   "metadata": {
    "slideshow": {
     "slide_type": "fragment"
    }
   },
   "source": [
    "\\begin{align*}\n",
    "T(0) &= 1 \\\\\n",
    "T(1) &= 1 \\\\\n",
    "T(n) &= T(n - 1) + T(n - 2) +1  \\quad (n \\ge 2) \\\\\n",
    "     &> 2 \\times T(n - 2) \t    \\qquad\\qquad\\quad\\; (T(n - 1) > T(n - 2)) \\\\\n",
    "     &> 2^2 \\times T(n - 4)     \\\\\n",
    "     &> 2^3 \\times T(n - 6)     \\\\\n",
    "     &  \\dots                   \\\\\n",
    "     &> 2^{n/2} \\times T(0) = 2^{n/2}\n",
    "\\end{align*}"
   ]
  },
  {
   "cell_type": "markdown",
   "metadata": {
    "slideshow": {
     "slide_type": "slide"
    }
   },
   "source": [
    "#### 피보나찌 수 구하기 알고리즘 (반복)\n",
    "\n",
    "* 한 번 계산한 값을 리스트에 저장."
   ]
  },
  {
   "cell_type": "markdown",
   "metadata": {
    "slideshow": {
     "slide_type": "fragment"
    }
   },
   "source": [
    "* 중복 계산 없음: 필요할 때 저장된 값 활용"
   ]
  },
  {
   "cell_type": "markdown",
   "metadata": {
    "slideshow": {
     "slide_type": "fragment"
    }
   },
   "source": [
    "* 하지만 입력크기에 비례하는 리스트 저장공간 활용"
   ]
  },
  {
   "cell_type": "markdown",
   "metadata": {
    "slideshow": {
     "slide_type": "fragment"
    }
   },
   "source": [
    "* 매우 비효율적인 메모리 활용으로 피보나찌 수 계산에 제한 받음."
   ]
  },
  {
   "cell_type": "code",
   "execution_count": 1,
   "metadata": {
    "slideshow": {
     "slide_type": "slide"
    }
   },
   "outputs": [],
   "source": [
    "# 피보나찌 수 구하기 알고리즘 (반복)\n",
    "# 비효율적 메모리 활용\n",
    "\n",
    "def fib2(n):\n",
    "    f = []\n",
    "    \n",
    "    f.append(0)\n",
    "    if n > 0:\n",
    "        f.append(1)\n",
    "        for i in range(2, n+1):\n",
    "            fi = f[i-2] + f[i-1]\n",
    "            f.append(fi)\n",
    "    return f[n]"
   ]
  },
  {
   "cell_type": "code",
   "execution_count": 13,
   "metadata": {
    "cell_style": "center",
    "slideshow": {
     "slide_type": "fragment"
    }
   },
   "outputs": [
    {
     "data": {
      "text/plain": [
       "2"
      ]
     },
     "execution_count": 13,
     "metadata": {},
     "output_type": "execute_result"
    }
   ],
   "source": [
    "fib2(3)"
   ]
  },
  {
   "cell_type": "code",
   "execution_count": 14,
   "metadata": {
    "cell_style": "center",
    "slideshow": {
     "slide_type": "fragment"
    }
   },
   "outputs": [
    {
     "data": {
      "text/plain": [
       "8"
      ]
     },
     "execution_count": 14,
     "metadata": {},
     "output_type": "execute_result"
    }
   ],
   "source": [
    "fib2(6)"
   ]
  },
  {
   "cell_type": "code",
   "execution_count": 15,
   "metadata": {
    "cell_style": "center",
    "slideshow": {
     "slide_type": "fragment"
    }
   },
   "outputs": [
    {
     "data": {
      "text/plain": [
       "55"
      ]
     },
     "execution_count": 15,
     "metadata": {},
     "output_type": "execute_result"
    }
   ],
   "source": [
    "fib2(10)"
   ]
  },
  {
   "cell_type": "code",
   "execution_count": 16,
   "metadata": {
    "cell_style": "center",
    "slideshow": {
     "slide_type": "fragment"
    }
   },
   "outputs": [
    {
     "data": {
      "text/plain": [
       "233"
      ]
     },
     "execution_count": 16,
     "metadata": {},
     "output_type": "execute_result"
    }
   ],
   "source": [
    "fib2(13)"
   ]
  },
  {
   "cell_type": "markdown",
   "metadata": {
    "slideshow": {
     "slide_type": "slide"
    }
   },
   "source": [
    "* `fib2(백만)` 계산 가능. 몇 분 걸림. "
   ]
  },
  {
   "cell_type": "markdown",
   "metadata": {
    "slideshow": {
     "slide_type": "fragment"
    }
   },
   "source": [
    "* 중복 계산이 없는 반복 알고리즘은 수행속도가 훨씬 더 빠름."
   ]
  },
  {
   "cell_type": "markdown",
   "metadata": {
    "slideshow": {
     "slide_type": "slide"
    }
   },
   "source": [
    "#### `fib2` 함수 분석\n",
    "\n",
    "* `fib2` 함수 호출 횟수 $T(n)$\n",
    "    * $T(n) = n + 1$\n",
    "    * 즉, `f[0]`부터 `f[n]`까지 한 번씩만 계산"
   ]
  },
  {
   "cell_type": "markdown",
   "metadata": {
    "slideshow": {
     "slide_type": "slide"
    }
   },
   "source": [
    "### 두 피보나찌 알고리즘의 비교\n",
    "\n",
    "* 가정: 피보나찌 수 하나를 계산하는 데 걸리는 시간 = 1 ns.\n",
    "    * 1 ns = $10^{-9}$ 초\n",
    "    * 1 $\\mu$s = $10^{-6}$ 초\n",
    "    <br>"
   ]
  },
  {
   "cell_type": "markdown",
   "metadata": {
    "slideshow": {
     "slide_type": "fragment"
    }
   },
   "source": [
    "| <div style=\"width:80px\">$n$</div> | <div style=\"width:110px\">$n+1$</div> | <div style=\"width:100px\">$2^{n/2}$</div> | <div style=\"width:100px\">반복</div> |<div style=\"width:100px\">재귀</div> |\n",
    "|--------:|--------:|--------:|--------:|--------:|\n",
    "| $40$ | $41$ | $1,048,576$ | $41$ ns | $1048$ $\\mu$s |\n",
    "| $60$ | $61$ | $1.1 \\times 10^9$ | $61$ ns | $1$ 초 |\n",
    "| $80$ | $81$ | $1.1 \\times 10^{12}$ | $81$ ns | $18$ 분 |\n",
    "| $100$ | $101$ | $1.1 \\times 10^{15}$ | $101$ ns | $13$ 일 |\n",
    "| $120$ | $121$ | $1.2 \\times 10^{18}$ | $121$ ns | $36$ 년 |\n",
    "| $160$ | $161$ | $1.2 \\times 10^{24}$ | $161$ ns | $3.8 \\times 10^7$ 년 |\n",
    "| $200$ | $201$ | $1.3 \\times 10^{30}$ | $201$ ns | $4 \\times 10^{13}$ 년 |"
   ]
  },
  {
   "cell_type": "markdown",
   "metadata": {
    "slideshow": {
     "slide_type": "slide"
    }
   },
   "source": [
    "#### 피보나찌 수 구하기 알고리즘 (반복 버전 2)\n",
    "\n",
    "* 한 번 계산한 값을 리스트에 저장."
   ]
  },
  {
   "cell_type": "markdown",
   "metadata": {
    "slideshow": {
     "slide_type": "fragment"
    }
   },
   "source": [
    "* 중복 계산 없음: 필요할 때 저장된 값 활용"
   ]
  },
  {
   "cell_type": "markdown",
   "metadata": {
    "slideshow": {
     "slide_type": "fragment"
    }
   },
   "source": [
    "* 입력크기에 상관없이 길이가 2인 메모리 저장공간 활용"
   ]
  },
  {
   "cell_type": "markdown",
   "metadata": {
    "slideshow": {
     "slide_type": "fragment"
    }
   },
   "source": [
    "* `fib2` 함수보다 더 많은 피보나찌 수 계산 가능. "
   ]
  },
  {
   "cell_type": "code",
   "execution_count": 17,
   "metadata": {
    "slideshow": {
     "slide_type": "slide"
    }
   },
   "outputs": [],
   "source": [
    "# 피보나찌 수 구하기 알고리즘 (반복)\n",
    "# 효율적 메모리 활용\n",
    "\n",
    "def fib3(n):\n",
    "    f = []\n",
    "    \n",
    "    f.append(0)\n",
    "    if n > 0:\n",
    "        f.append(1)\n",
    "        for i in range(2, n+1):\n",
    "            fi = f[0] + f[1]\n",
    "            f[0], f[1] = f[1], fi\n",
    "    return f[1]    "
   ]
  },
  {
   "cell_type": "markdown",
   "metadata": {
    "slideshow": {
     "slide_type": "slide"
    }
   },
   "source": [
    "* `fib3(백만)` 계산 가능. 몇 초 걸림. \n",
    "* `fib2(백만)`에 비해 백 배정도 빠름.\n",
    "* 천만번째 피보나찌 수? 글쎄..."
   ]
  }
 ],
 "metadata": {
  "celltoolbar": "Slideshow",
  "kernelspec": {
   "display_name": "Python 3",
   "language": "python",
   "name": "python3"
  },
  "language_info": {
   "codemirror_mode": {
    "name": "ipython",
    "version": 3
   },
   "file_extension": ".py",
   "mimetype": "text/x-python",
   "name": "python",
   "nbconvert_exporter": "python",
   "pygments_lexer": "ipython3",
   "version": "3.7.6"
  }
 },
 "nbformat": 4,
 "nbformat_minor": 4
}
