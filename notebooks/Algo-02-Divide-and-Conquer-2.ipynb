{
 "cells": [
  {
   "cell_type": "markdown",
   "metadata": {
    "slideshow": {
     "slide_type": "slide"
    }
   },
   "source": [
    "## 4절 퀵정렬(분할교환정렬)"
   ]
  },
  {
   "cell_type": "markdown",
   "metadata": {
    "slideshow": {
     "slide_type": "slide"
    }
   },
   "source": [
    "* 호어(Hoare)가 1962년에 개발\n",
    "\n",
    "* 합병정렬과 비슷\n",
    "    * 입력 리스트를 보다 작은 두 개의 리스트로 분할\n",
    "    * 각각의 보다 작은 리스트를 재귀적으로 정렬"
   ]
  },
  {
   "cell_type": "markdown",
   "metadata": {
    "slideshow": {
     "slide_type": "slide"
    }
   },
   "source": [
    "* 분할 방식\n",
    "    * 기준원소(pivot) 선정\n",
    "    * 기준원소보다 작은 값은 모두 리스트 왼쪽으로 이동\n",
    "    * 기준원소보다 큰 값은 모두 리스트 오른쪽으로 이동\n",
    "\n",
    "* 기준원소\n",
    "    * 보통 맨 왼편에 위치한 값 선정\n",
    "    * 무엇을 선택해도 확률적으로 동일함.\n",
    "\n",
    "* 항상 가장 빠른 정렬 알고리즘은 아니지만 평균적으로 가장 빠름."
   ]
  },
  {
   "cell_type": "markdown",
   "metadata": {
    "slideshow": {
     "slide_type": "slide"
    }
   },
   "source": [
    "#### 퀵정렬 작동 예제"
   ]
  },
  {
   "cell_type": "markdown",
   "metadata": {
    "slideshow": {
     "slide_type": "slide"
    }
   },
   "source": [
    "* 정렬 대상: `15 22 13 27 12 10 20 25`"
   ]
  },
  {
   "cell_type": "markdown",
   "metadata": {
    "slideshow": {
     "slide_type": "fragment"
    }
   },
   "source": [
    "<div align=\"center\"><img src=\"./images/algo02/algo02-03.png\" width=\"400\"/></div>"
   ]
  },
  {
   "cell_type": "markdown",
   "metadata": {
    "slideshow": {
     "slide_type": "slide"
    }
   },
   "source": [
    "### 파이썬 구현: 퀵정렬 재귀"
   ]
  },
  {
   "cell_type": "markdown",
   "metadata": {
    "slideshow": {
     "slide_type": "slide"
    }
   },
   "source": [
    "#### 분할 알고리즘"
   ]
  },
  {
   "cell_type": "code",
   "execution_count": 1,
   "metadata": {
    "slideshow": {
     "slide_type": "slide"
    }
   },
   "outputs": [],
   "source": [
    "# 분할 알고리즘: 기준원소(pivot)를 사용하여 리스트 분할하기\n",
    "# 기준원소: 리스트의 맨 왼편에 위치한 값\n",
    "# 주의: 리스트의 항목을 직접 수정함. 따라서 제자리 분할임.\n",
    "\n",
    "\n",
    "def partition(aList, low, high):\n",
    "\n",
    "    pivotitem = aList[low]     # 기준원소(pivot)\n",
    "    pivotpoint = low           # 분할 후 기준원소가 저장될 위치\n",
    " \n",
    "    # 기준원소 보다 작은 값을 리스트 왼편에 위치시키기\n",
    "    # i 는 기준원소를 제외한 구간 내 항목 전체를 대상으로 움직임\n",
    "\n",
    "    for i in range(low+1, high+1):\n",
    "        if aList[i] < pivotitem:\n",
    "            pivotpoint += 1\n",
    "            aList[i], aList[pivotpoint] = aList[pivotpoint], aList[i]\n",
    "    \n",
    "    # 분할이 완료된 후 기준원소를 적절한 위치(pivotpoint)로 옮기기\n",
    "    aList[low], aList[pivotpoint] = aList[pivotpoint], aList[low]\n",
    "    return pivotpoint"
   ]
  },
  {
   "cell_type": "markdown",
   "metadata": {
    "slideshow": {
     "slide_type": "slide"
    }
   },
   "source": [
    "#### 기준원소 분할 예제"
   ]
  },
  {
   "cell_type": "code",
   "execution_count": 2,
   "metadata": {
    "slideshow": {
     "slide_type": "slide"
    }
   },
   "outputs": [
    {
     "name": "stdout",
     "output_type": "stream",
     "text": [
      "[10, 13, 12, 15, 22, 27, 20, 25]\n"
     ]
    }
   ],
   "source": [
    "aList = [15, 22, 13, 27, 12, 10, 20, 25]\n",
    "n = len(aList)\n",
    "\n",
    "partition(aList, 0, n-1)\n",
    "print(aList)"
   ]
  },
  {
   "cell_type": "markdown",
   "metadata": {
    "slideshow": {
     "slide_type": ""
    }
   },
   "source": [
    "<div align=\"center\"><img src=\"./images/algo02/algo02-04.png\" width=\"400\"/></div>"
   ]
  },
  {
   "cell_type": "markdown",
   "metadata": {
    "slideshow": {
     "slide_type": "slide"
    }
   },
   "source": [
    "* 참조: [PythonTutor: 분할 알고리즘, 기준원소 사용](http://pythontutor.com/visualize.html#code=%23%20%EB%B6%84%ED%95%A0%20%EC%95%8C%EA%B3%A0%EB%A6%AC%EC%A6%98%3A%20%EA%B8%B0%EC%A4%80%EC%9B%90%EC%86%8C%28pivot%29%EB%A5%BC%20%EC%82%AC%EC%9A%A9%ED%95%98%EC%97%AC%20%EB%A6%AC%EC%8A%A4%ED%8A%B8%20%EB%B6%84%ED%95%A0%ED%95%98%EA%B8%B0%0A%23%20%EA%B8%B0%EC%A4%80%EC%9B%90%EC%86%8C%3A%20%EB%A6%AC%EC%8A%A4%ED%8A%B8%EC%9D%98%20%EB%A7%A8%20%EC%99%BC%ED%8E%B8%EC%97%90%20%EC%9C%84%EC%B9%98%ED%95%9C%20%EA%B0%92%0A%23%20%EC%A3%BC%EC%9D%98%3A%20%EB%A6%AC%EC%8A%A4%ED%8A%B8%EC%9D%98%20%ED%95%AD%EB%AA%A9%EC%9D%84%20%EC%A7%81%EC%A0%91%20%EC%88%98%EC%A0%95%ED%95%A8.%20%EB%94%B0%EB%9D%BC%EC%84%9C%20%EC%A0%9C%EC%9E%90%EB%A6%AC%20%EB%B6%84%ED%95%A0%EC%9E%84.%0A%0A%0Adef%20partition%28aList,%20low,%20high%29%3A%0A%0A%20%20%20%20pivotitem%20%3D%20aList%5Blow%5D%20%20%20%20%20%23%20%EA%B8%B0%EC%A4%80%EC%9B%90%EC%86%8C%28pivot%29%0A%20%20%20%20pivotpoint%20%3D%20low%20%20%20%20%20%20%20%20%20%20%20%23%20%EB%B6%84%ED%95%A0%20%ED%9B%84%20%EA%B8%B0%EC%A4%80%EC%9B%90%EC%86%8C%20%EC%9C%84%EC%B9%98%0A%20%0A%20%20%20%20%23%20%EA%B8%B0%EC%A4%80%EC%9B%90%EC%86%8C%20%EB%B3%B4%EB%8B%A4%20%EC%9E%91%EC%9D%80%20%EA%B0%92%EC%9D%84%20%EB%A6%AC%EC%8A%A4%ED%8A%B8%20%EC%99%BC%ED%8E%B8%EC%97%90%20%EC%9C%84%EC%B9%98%EC%8B%9C%ED%82%A4%EA%B8%B0%0A%20%20%20%20%23%20i%20%EB%8A%94%20%EA%B8%B0%EC%A4%80%EC%9B%90%EC%86%8C%EB%A5%BC%20%EC%A0%9C%EC%99%B8%ED%95%9C%20%EA%B5%AC%EA%B0%84%20%EB%82%B4%20%EC%A0%84%EC%B2%B4%20%ED%95%AD%EB%AA%A9%20%EB%8C%80%EC%83%81%EC%9C%BC%EB%A1%9C%20%EC%9B%80%EC%A7%81%EC%9E%84%0A%20%20%20%20for%20i%20in%20range%28low%2B1,%20high%2B1%29%3A%0A%20%20%20%20%20%20%20%20if%20aList%5Bi%5D%20%3C%20pivotitem%3A%0A%20%20%20%20%20%20%20%20%20%20%20%20pivotpoint%20%2B%3D%201%0A%20%20%20%20%20%20%20%20%20%20%20%20aList%5Bi%5D,%20aList%5Bpivotpoint%5D%20%3D%20aList%5Bpivotpoint%5D,%20aList%5Bi%5D%0A%20%20%20%20%0A%20%20%20%20%23%20%EB%B6%84%ED%95%A0%EC%9D%B4%20%EC%99%84%EB%A3%8C%EB%90%9C%20%ED%9B%84%20%EA%B8%B0%EC%A4%80%EC%9B%90%EC%86%8C%EB%A5%BC%20%EC%A0%81%EC%A0%88%ED%95%9C%20%EC%9C%84%EC%B9%98%28pivotpoint%29%EB%A1%9C%20%EC%98%AE%EA%B8%B0%EA%B8%B0%0A%20%20%20%20aList%5Blow%5D,%20aList%5Bpivotpoint%5D%20%3D%20aList%5Bpivotpoint%5D,%20aList%5Blow%5D%0A%20%20%20%20return%20pivotpoint%0A%0A%0AaList%20%3D%20%5B15,%2022,%2013,%2027,%2012,%2010,%2020,%2025%5D%0An%20%3D%20len%28aList%29%0A%0Apartition%28aList,%200,%20n-1%29&cumulative=false&curInstr=0&heapPrimitives=nevernest&mode=display&origin=opt-frontend.js&py=3&rawInputLstJSON=%5B%5D&textReferences=false)"
   ]
  },
  {
   "cell_type": "markdown",
   "metadata": {
    "slideshow": {
     "slide_type": "slide"
    }
   },
   "source": [
    "#### 퀵정렬 알고리즘(재귀)"
   ]
  },
  {
   "cell_type": "code",
   "execution_count": 3,
   "metadata": {
    "slideshow": {
     "slide_type": "slide"
    }
   },
   "outputs": [],
   "source": [
    "# 퀵정렬 재귀\n",
    "\n",
    "# 주의: 리스트의 항목을 직접 수정함. 따라서 제자리 정렬임.\n",
    "\n",
    "def quickSort(aList, low, high):\n",
    "    if low < high:\n",
    "        # 분할 후 기준원소 위치 확인\n",
    "        pivotpoint = partition(aList, low, high)\n",
    "\n",
    "        # 분할된 부분 정렬(재귀)\n",
    "        quickSort(aList, low, pivotpoint-1)\n",
    "        quickSort(aList, pivotpoint+1, high)\n",
    "        \n",
    "    return aList"
   ]
  },
  {
   "cell_type": "markdown",
   "metadata": {
    "slideshow": {
     "slide_type": "slide"
    }
   },
   "source": [
    "#### 퀵정렬 예제"
   ]
  },
  {
   "cell_type": "code",
   "execution_count": 4,
   "metadata": {
    "slideshow": {
     "slide_type": "fragment"
    }
   },
   "outputs": [
    {
     "data": {
      "text/plain": [
       "[10, 12, 13, 15, 20, 22, 25, 27]"
      ]
     },
     "execution_count": 4,
     "metadata": {},
     "output_type": "execute_result"
    }
   ],
   "source": [
    "quickSort(aList, 0, n-1)"
   ]
  },
  {
   "cell_type": "markdown",
   "metadata": {
    "slideshow": {
     "slide_type": "slide"
    }
   },
   "source": [
    "* 참조: [PythonTutor: 퀵정렬 재귀](http://pythontutor.com/visualize.html#code=%23%20%EB%B6%84%ED%95%A0%20%EC%95%8C%EA%B3%A0%EB%A6%AC%EC%A6%98%3A%20%EA%B8%B0%EC%A4%80%EC%9B%90%EC%86%8C%28pivot%29%EB%A5%BC%20%EC%82%AC%EC%9A%A9%ED%95%98%EC%97%AC%20%EB%A6%AC%EC%8A%A4%ED%8A%B8%20%EB%B6%84%ED%95%A0%ED%95%98%EA%B8%B0%0A%23%20%EA%B8%B0%EC%A4%80%EC%9B%90%EC%86%8C%3A%20%EB%A6%AC%EC%8A%A4%ED%8A%B8%EC%9D%98%20%EB%A7%A8%20%EC%99%BC%ED%8E%B8%EC%97%90%20%EC%9C%84%EC%B9%98%ED%95%9C%20%EA%B0%92%0A%23%20%EC%A3%BC%EC%9D%98%3A%20%EB%A6%AC%EC%8A%A4%ED%8A%B8%EC%9D%98%20%ED%95%AD%EB%AA%A9%EC%9D%84%20%EC%A7%81%EC%A0%91%20%EC%88%98%EC%A0%95%ED%95%A8.%20%EB%94%B0%EB%9D%BC%EC%84%9C%20%EC%A0%9C%EC%9E%90%EB%A6%AC%20%EB%B6%84%ED%95%A0%EC%9E%84.%0A%0Adef%20partition%28aList,%20low,%20high%29%3A%0A%0A%20%20%20%20pivotitem%20%3D%20aList%5Blow%5D%20%20%20%20%20%23%20%EA%B8%B0%EC%A4%80%EC%9B%90%EC%86%8C%28pivot%29%0A%20%20%20%20pivotpoint%20%3D%20low%20%20%20%20%20%20%20%20%20%20%20%23%20%EB%B6%84%ED%95%A0%20%ED%9B%84%20%EA%B8%B0%EC%A4%80%EC%9B%90%EC%86%8C%20%EC%9C%84%EC%B9%98%0A%20%0A%20%20%20%20%23%20%EA%B8%B0%EC%A4%80%EC%9B%90%EC%86%8C%20%EB%B3%B4%EB%8B%A4%20%EC%9E%91%EC%9D%80%20%EA%B0%92%EC%9D%84%20%EB%A6%AC%EC%8A%A4%ED%8A%B8%20%EC%99%BC%ED%8E%B8%EC%97%90%20%EC%9C%84%EC%B9%98%EC%8B%9C%ED%82%A4%EA%B8%B0%0A%20%20%20%20%23%20i%20%EB%8A%94%20%EA%B8%B0%EC%A4%80%EC%9B%90%EC%86%8C%EB%A5%BC%20%EC%A0%9C%EC%99%B8%ED%95%9C%20%EA%B5%AC%EA%B0%84%20%EB%82%B4%20%EC%A0%84%EC%B2%B4%20%ED%95%AD%EB%AA%A9%20%EB%8C%80%EC%83%81%EC%9C%BC%EB%A1%9C%20%EC%9B%80%EC%A7%81%EC%9E%84%0A%20%20%20%20for%20i%20in%20range%28low%2B1,%20high%2B1%29%3A%0A%20%20%20%20%20%20%20%20if%20aList%5Bi%5D%20%3C%20pivotitem%3A%0A%20%20%20%20%20%20%20%20%20%20%20%20pivotpoint%20%2B%3D%201%0A%20%20%20%20%20%20%20%20%20%20%20%20aList%5Bi%5D,%20aList%5Bpivotpoint%5D%20%3D%20aList%5Bpivotpoint%5D,%20aList%5Bi%5D%0A%20%20%20%20%0A%20%20%20%20%23%20%EB%B6%84%ED%95%A0%EC%9D%B4%20%EC%99%84%EB%A3%8C%EB%90%9C%20%ED%9B%84%20%EA%B8%B0%EC%A4%80%EC%9B%90%EC%86%8C%EB%A5%BC%20%EC%A0%81%EC%A0%88%ED%95%9C%20%EC%9C%84%EC%B9%98%28pivotpoint%29%EB%A1%9C%20%EC%98%AE%EA%B8%B0%EA%B8%B0%0A%20%20%20%20aList%5Blow%5D,%20aList%5Bpivotpoint%5D%20%3D%20aList%5Bpivotpoint%5D,%20aList%5Blow%5D%0A%20%20%20%20return%20pivotpoint%0A%0A%0A%23%20%EB%B9%A0%EB%A5%B8%EC%A0%95%EB%A0%AC%20%EC%9E%AC%EA%B7%80%0A%0A%23%20%EC%A3%BC%EC%9D%98%3A%20%EB%A6%AC%EC%8A%A4%ED%8A%B8%EC%9D%98%20%ED%95%AD%EB%AA%A9%EC%9D%84%20%EC%A7%81%EC%A0%91%20%EC%88%98%EC%A0%95%ED%95%A8.%20%0A%23%20%EB%94%B0%EB%9D%BC%EC%84%9C%20%EC%A0%9C%EC%9E%90%EB%A6%AC%20%EC%A0%95%EB%A0%AC%EC%9E%84.%0A%0Adef%20quickSort%28aList,%20low,%20high%29%3A%0A%20%20%20%20if%20low%20%3C%20high%3A%0A%20%20%20%20%20%20%20%20%23%20%EB%B6%84%ED%95%A0%20%ED%9B%84%20%EA%B8%B0%EC%A4%80%EC%9B%90%EC%86%8C%20%EC%9C%84%EC%B9%98%20%ED%99%95%EC%9D%B8%0A%20%20%20%20%20%20%20%20pivotpoint%20%3D%20partition%28aList,%20low,%20high%29%0A%0A%20%20%20%20%20%20%20%20%23%20%EB%B6%84%ED%95%A0%EB%90%9C%20%EB%B6%80%EB%B6%84%20%EC%A0%95%EB%A0%AC%28%EC%9E%AC%EA%B7%80%29%0A%20%20%20%20%20%20%20%20quickSort%28aList,%20low,%20pivotpoint-1%29%0A%20%20%20%20%20%20%20%20quickSort%28aList,%20pivotpoint%2B1,%20high%29%0A%20%20%20%20%20%20%20%20%0A%20%20%20%20return%20aList%0A%0AaList%20%3D%20%5B15,%2022,%2013,%2027,%2012,%2010,%2020,%2025%5D%0An%20%3D%20len%28aList%29%0A%0AquickSort%28aList,%200,%20n-1%29&cumulative=false&curInstr=0&heapPrimitives=nevernest&mode=display&origin=opt-frontend.js&py=3&rawInputLstJSON=%5B%5D&textReferences=false)"
   ]
  },
  {
   "cell_type": "markdown",
   "metadata": {
    "slideshow": {
     "slide_type": "slide"
    }
   },
   "source": [
    "### 일정 시간복잡도 분석: 분할(`partition`) 알고리즘"
   ]
  },
  {
   "cell_type": "markdown",
   "metadata": {
    "slideshow": {
     "slide_type": "slide"
    }
   },
   "source": [
    "#### 일정 시간복잡도 $T(n)$\n",
    "\n",
    "* 입력크기($n$): 정렬대상 조사구간 크기\n",
    "* 단위연산: 기준원소(pivot)와의 비교 횟수"
   ]
  },
  {
   "cell_type": "markdown",
   "metadata": {
    "slideshow": {
     "slide_type": "slide"
    }
   },
   "source": [
    "* 첫째 원소(기준원소)를 제외한 모든 원소와 비교. 따라서 다음 성립:\n",
    "\n",
    "    $$T(n) = n-1$$"
   ]
  },
  {
   "cell_type": "markdown",
   "metadata": {
    "slideshow": {
     "slide_type": "slide"
    }
   },
   "source": [
    "### 최악 시간복잡도 분석: 퀵정렬(`quicksort`) 알고리즘"
   ]
  },
  {
   "cell_type": "markdown",
   "metadata": {
    "slideshow": {
     "slide_type": ""
    }
   },
   "source": [
    "* 입력크기($n$): 정렬대상 리스트 구간 크기\n",
    "* 단위연산: `partition` 함수 실행 과정에서 기준원소(pivot)와의 비교 횟수"
   ]
  },
  {
   "cell_type": "markdown",
   "metadata": {
    "slideshow": {
     "slide_type": "slide"
    }
   },
   "source": [
    "#### 이미 오름차순으로 정렬된 리스트 정렬 시간 복잡도"
   ]
  },
  {
   "cell_type": "markdown",
   "metadata": {
    "slideshow": {
     "slide_type": ""
    }
   },
   "source": [
    "* 이미 오름차순으로 정렬된 리스트를  정렬할 때의 시간 복잡도 $T(n)$ 계산"
   ]
  },
  {
   "cell_type": "markdown",
   "metadata": {
    "slideshow": {
     "slide_type": ""
    }
   },
   "source": [
    "* 맨 왼편에 위치한 기준원소가 항상 제일 작은 값이라서 분할 후 기준원소 왼편에 위치할 리스트는 공리스트.\n",
    "    따라서:"
   ]
  },
  {
   "cell_type": "markdown",
   "metadata": {
    "slideshow": {
     "slide_type": ""
    }
   },
   "source": [
    "\\begin{align*}\n",
    "T(n) &= T(0) + T(n-1) + (n-1) \\\\\n",
    "     &= T(n-1) + (n-1) \\\\\n",
    "     & \\\\\n",
    "T(0) &= 0\n",
    "\\end{align*}"
   ]
  },
  {
   "cell_type": "markdown",
   "metadata": {
    "slideshow": {
     "slide_type": "slide"
    }
   },
   "source": [
    "* 위 점화식을 풀면 다음이 성립:"
   ]
  },
  {
   "cell_type": "markdown",
   "metadata": {
    "slideshow": {
     "slide_type": ""
    }
   },
   "source": [
    "$$T(n) = \\frac{n(n-1)}{2}$$"
   ]
  },
  {
   "cell_type": "markdown",
   "metadata": {
    "slideshow": {
     "slide_type": "slide"
    }
   },
   "source": [
    "* 증명:"
   ]
  },
  {
   "cell_type": "markdown",
   "metadata": {
    "slideshow": {
     "slide_type": ""
    }
   },
   "source": [
    "\\begin{align*}\n",
    "    T(n) &= T(n-1) + (n-1) \\\\\n",
    "         &= T(n-2) + (n-2) + (n-1) \\\\\n",
    "         &= \\cdots \\\\\n",
    "         &= T(1) + 1 + 2 + \\cdots + (n-1) \\\\\n",
    "         &= T(0) + 0 + 1 + \\cdots + (n-1) \\\\\n",
    "         & = \\frac{n(n-1)}{2}\n",
    "\\end{align*}"
   ]
  },
  {
   "cell_type": "markdown",
   "metadata": {
    "slideshow": {
     "slide_type": "slide"
    }
   },
   "source": [
    "#### 최악 시간복잡도 $W(n)$"
   ]
  },
  {
   "cell_type": "markdown",
   "metadata": {},
   "source": [
    "* 아래 부등식 증명 가능."
   ]
  },
  {
   "cell_type": "markdown",
   "metadata": {},
   "source": [
    "$$W(n) \\le \\frac{n(n-1)}{2}$$"
   ]
  },
  {
   "cell_type": "markdown",
   "metadata": {
    "slideshow": {
     "slide_type": "fragment"
    }
   },
   "source": [
    "* 증명: 귀납법 활용(생략)"
   ]
  },
  {
   "cell_type": "markdown",
   "metadata": {
    "slideshow": {
     "slide_type": "slide"
    }
   },
   "source": [
    "* 결론"
   ]
  },
  {
   "cell_type": "markdown",
   "metadata": {},
   "source": [
    "$$W(n) = \\frac{n(n-1)}{2} \\in \\Theta(n^2)$$"
   ]
  },
  {
   "cell_type": "markdown",
   "metadata": {
    "slideshow": {
     "slide_type": "slide"
    }
   },
   "source": [
    "### 평균 시간복잡도 분석: 퀵정렬(`quicksort`) 알고리즘"
   ]
  },
  {
   "cell_type": "markdown",
   "metadata": {
    "slideshow": {
     "slide_type": ""
    }
   },
   "source": [
    "* 입력크기($n$): 정렬대상 리스트 길이\n",
    "* 단위연산: `partition` 함수 실행 과정에서 기준원소(pivot)와의 비교 횟수"
   ]
  },
  {
   "cell_type": "markdown",
   "metadata": {
    "slideshow": {
     "slide_type": "slide"
    }
   },
   "source": [
    "#### 가정\n",
    "\n",
    "* 배열의 원소가 무작위적으로 흩어져 있음.\n",
    "* 따라서 기준원소의 위치(pivotpoint)가 동일한 확률 $1/n$으로 0부터 $(n-1)$ 사이의 임의의 값이 됨."
   ]
  },
  {
   "cell_type": "markdown",
   "metadata": {
    "slideshow": {
     "slide_type": "slide"
    }
   },
   "source": [
    "#### 기준원소의 위치가 $p$인 경우"
   ]
  },
  {
   "cell_type": "markdown",
   "metadata": {},
   "source": [
    "* 길이가 각각 $p$과 $(n-p-1)$인 부분배열로 나뉘어짐.\n",
    "* 따라서 정렬을 위해 평균적으로 아래 시간이 걸릴것으로 예상됨:"
   ]
  },
  {
   "cell_type": "markdown",
   "metadata": {
    "slideshow": {
     "slide_type": "fragment"
    }
   },
   "source": [
    "$$\\frac{1}{n}\\, \\big[ A(p) + A(n-p-1) \\big]$$"
   ]
  },
  {
   "cell_type": "markdown",
   "metadata": {
    "slideshow": {
     "slide_type": "fragment"
    }
   },
   "source": [
    "* $\\frac 1 n$은 기준원소의 위치가 $p$일 확률."
   ]
  },
  {
   "cell_type": "markdown",
   "metadata": {
    "slideshow": {
     "slide_type": "slide"
    }
   },
   "source": [
    "#### 평균 시간복잡도 $A(n)$"
   ]
  },
  {
   "cell_type": "markdown",
   "metadata": {},
   "source": [
    "* 앞서 구한 식을 임의의 $p$에 대해서 구해 더하면 평균 시간복잡도가 됨."
   ]
  },
  {
   "cell_type": "markdown",
   "metadata": {
    "slideshow": {
     "slide_type": "fragment"
    }
   },
   "source": [
    "\\begin{align*}\n",
    "A(n) &= \\sum_{p=0}^{n-1} \\frac{1}{n}\\, \\big[ A(p) + A(n-p-1) \\big] + (n-1)\n",
    "\\end{align*}"
   ]
  },
  {
   "cell_type": "markdown",
   "metadata": {
    "slideshow": {
     "slide_type": "fragment"
    }
   },
   "source": [
    "* $(n-1)$은 분할에 걸리는 시간을 가리킴."
   ]
  },
  {
   "cell_type": "markdown",
   "metadata": {
    "slideshow": {
     "slide_type": "fragment"
    }
   },
   "source": [
    "* 위 식을 정리하면 다음과 같음(증명 생략)."
   ]
  },
  {
   "cell_type": "markdown",
   "metadata": {
    "slideshow": {
     "slide_type": ""
    }
   },
   "source": [
    "\\begin{align*}\n",
    "A(n) &\\approx 1.38(n+1) \\lg n \\in \\Theta(n\\, \\lg n)\n",
    "\\end{align*}"
   ]
  },
  {
   "cell_type": "markdown",
   "metadata": {
    "slideshow": {
     "slide_type": "slide"
    }
   },
   "source": [
    "## 5절 슈트라센의 행렬곱셈 알고리즘"
   ]
  },
  {
   "cell_type": "markdown",
   "metadata": {
    "slideshow": {
     "slide_type": "slide"
    }
   },
   "source": [
    "* 행렬곱셈의 정의는 매우 간단함.\n",
    "* 하지만 행렬의 크기가 커짐에 따라 매우 오랜 시간 소요됨.\n",
    "* 이유: 두 개의 $n \\times n$ 행렬 곱셈에 대한 시간복잡도는 $\\Theta(n^3)$임.\n",
    "    * 입력크기: 정방행렬의 행의 개수 $n$ \n",
    "    * 단위연산: 곱셈"
   ]
  },
  {
   "cell_type": "markdown",
   "metadata": {
    "slideshow": {
     "slide_type": "slide"
    }
   },
   "source": [
    "### 표준 행렬곱셈 정의"
   ]
  },
  {
   "cell_type": "markdown",
   "metadata": {},
   "source": [
    "* 일반적으로 알려진 행렬곱셈의 정의는 다음과 같음:"
   ]
  },
  {
   "cell_type": "markdown",
   "metadata": {
    "slideshow": {
     "slide_type": "fragment"
    }
   },
   "source": [
    "<div align=\"center\"><img src=\"./images/algo02/algo02-05.png\" width=\"300\"/></div>\n",
    "\n",
    "<출처: [위키피디아 - 행렬곱셈](https://en.wikipedia.org/wiki/Matrix_multiplication)>"
   ]
  },
  {
   "cell_type": "markdown",
   "metadata": {
    "slideshow": {
     "slide_type": "slide"
    }
   },
   "source": [
    "#### 예제"
   ]
  },
  {
   "cell_type": "markdown",
   "metadata": {
    "slideshow": {
     "slide_type": "slide"
    }
   },
   "source": [
    "행렬 $A$와 $B$가 아래와 같이 주어졌을 때,\n",
    "\n",
    "$$\n",
    "A = \\begin{bmatrix}\n",
    "        a_{1 1} & a_{1 2}\\\\\n",
    "        a_{2 1} & a_{2 2}\n",
    "        \\end{bmatrix} \\qquad\n",
    "B = \\begin{bmatrix}\n",
    "        b_{1 1} & b_{1 2}\\\\\n",
    "        b_{2 1} & b_{2 2}\n",
    "        \\end{bmatrix}\n",
    "$$"
   ]
  },
  {
   "cell_type": "markdown",
   "metadata": {
    "slideshow": {
     "slide_type": "fragment"
    }
   },
   "source": [
    "두 행렬의 곱 $C$을 정의할 수 있다.\n",
    "\n",
    "$$\n",
    "C = A \\times B = \\begin{bmatrix}\n",
    "        c_{1 1} & c_{1 2}\\\\\n",
    "        c_{2 1} & c_{2 2}\n",
    "        \\end{bmatrix}\n",
    "$$"
   ]
  },
  {
   "cell_type": "markdown",
   "metadata": {
    "slideshow": {
     "slide_type": "fragment"
    }
   },
   "source": [
    "이때 다음이 성립한다. \n",
    "\n",
    "\\begin{align*}\n",
    "c_{i j} &= a_{i 1} \\cdot b_{1 j} + a_{i 2} \\cdot b_{2 j} \\\\\n",
    "        &= \\sum_{k=1}^{2} a_{i k} \\cdot b_{k j}\n",
    "\\end{align*}"
   ]
  },
  {
   "cell_type": "markdown",
   "metadata": {
    "slideshow": {
     "slide_type": "slide"
    }
   },
   "source": [
    "예를 들어\n",
    "\n",
    "\\begin{align*}\n",
    "    \\begin{bmatrix}\n",
    "    2 & 3 \\\\\n",
    "    4 & 1\n",
    "    \\end{bmatrix} \n",
    "    \\times\n",
    "    \\begin{bmatrix}\n",
    "    5 & 7 \\\\\n",
    "    6 & 8\n",
    "    \\end{bmatrix}\n",
    "    &=\n",
    "    \\begin{bmatrix}\n",
    "    2\\times 5 + 3\\times 6 & 2 \\times 7 + 3 \\times 8 \\\\\n",
    "    4 \\times 5 + 1 \\times 6 & 4 \\times 7 + 1 \\times 8\n",
    "    \\end{bmatrix} \\\\\n",
    "    &=\n",
    "    \\begin{bmatrix}\n",
    "    28 & 38 \\\\\n",
    "    26 & 36\n",
    "    \\end{bmatrix}\n",
    "\\end{align*}"
   ]
  },
  {
   "cell_type": "markdown",
   "metadata": {
    "slideshow": {
     "slide_type": "slide"
    }
   },
   "source": [
    "### 표준 행렬곱셈 일반화"
   ]
  },
  {
   "cell_type": "markdown",
   "metadata": {
    "slideshow": {
     "slide_type": ""
    }
   },
   "source": [
    "* 두 개의 $n \\times n$ 행렬곱셈 결과"
   ]
  },
  {
   "cell_type": "markdown",
   "metadata": {
    "slideshow": {
     "slide_type": "fragment"
    }
   },
   "source": [
    "\\begin{align*}\n",
    "c_{i j} &= a_{i 1} \\cdot b_{1 j} + a_{i 2} \\cdot b_{2 j} + \\cdots + a_{i n} \\cdot b_{n j} \\\\\n",
    "        &= \\sum_{k=1}^{n} a_{i k} \\cdot b_{k j}\n",
    "\\end{align*}"
   ]
  },
  {
   "cell_type": "markdown",
   "metadata": {
    "slideshow": {
     "slide_type": "slide"
    }
   },
   "source": [
    "### 표준 행렬곱셈 알고리즘"
   ]
  },
  {
   "cell_type": "code",
   "execution_count": 5,
   "metadata": {},
   "outputs": [],
   "source": [
    "A = [[2, 3],\n",
    "     [4, 1]]\n",
    "\n",
    "B = [[5, 7],\n",
    "     [6, 8]]"
   ]
  },
  {
   "cell_type": "code",
   "execution_count": 6,
   "metadata": {
    "slideshow": {
     "slide_type": "slide"
    }
   },
   "outputs": [],
   "source": [
    "C = [[0, 0],\n",
    "     [0, 0]]"
   ]
  },
  {
   "cell_type": "code",
   "execution_count": 7,
   "metadata": {
    "slideshow": {
     "slide_type": "fragment"
    }
   },
   "outputs": [],
   "source": [
    "for i in range(0,2):\n",
    "    for j in range(0, 2):\n",
    "        for k in range(0, 2):\n",
    "            C[i][j] += A[i][k] * B[k][j]"
   ]
  },
  {
   "cell_type": "code",
   "execution_count": 8,
   "metadata": {
    "slideshow": {
     "slide_type": "fragment"
    }
   },
   "outputs": [
    {
     "data": {
      "text/plain": [
       "[[28, 38], [26, 36]]"
      ]
     },
     "execution_count": 8,
     "metadata": {},
     "output_type": "execute_result"
    }
   ],
   "source": [
    "C"
   ]
  },
  {
   "cell_type": "code",
   "execution_count": 9,
   "metadata": {
    "slideshow": {
     "slide_type": "slide"
    }
   },
   "outputs": [],
   "source": [
    "def matrixmult(A, B):\n",
    "    n = len(A)\n",
    "    \n",
    "    # C 행렬을 초기화 하기 위해 리스트 조건제시법 활용\n",
    "    C = [[0 for _ in range(n)] for _ in range(n)]\n",
    "\n",
    "    for i in range(0,2):\n",
    "        for j in range(0, 2):\n",
    "            for k in range(0, 2):\n",
    "                C[i][j] += A[i][k] * B[k][j]\n",
    "    \n",
    "    return C"
   ]
  },
  {
   "cell_type": "code",
   "execution_count": 10,
   "metadata": {
    "slideshow": {
     "slide_type": "fragment"
    }
   },
   "outputs": [
    {
     "data": {
      "text/plain": [
       "[[28, 38], [26, 36]]"
      ]
     },
     "execution_count": 10,
     "metadata": {},
     "output_type": "execute_result"
    }
   ],
   "source": [
    "matrixmult(A, B)"
   ]
  },
  {
   "cell_type": "markdown",
   "metadata": {
    "slideshow": {
     "slide_type": "slide"
    }
   },
   "source": [
    "#### 리스트 조건제시법으로 좀 더 단순하게 정의할 수 있음."
   ]
  },
  {
   "cell_type": "code",
   "execution_count": 11,
   "metadata": {
    "slideshow": {
     "slide_type": ""
    }
   },
   "outputs": [],
   "source": [
    "def matrixmult_com(A, B):\n",
    "    n = len(A)\n",
    "    C = [[sum([A[i][k] * B[k][j] for k in range(n)]) for j in range(n)] for i in range(n)]\n",
    "    return C"
   ]
  },
  {
   "cell_type": "code",
   "execution_count": 12,
   "metadata": {
    "slideshow": {
     "slide_type": "fragment"
    }
   },
   "outputs": [
    {
     "data": {
      "text/plain": [
       "[[28, 38], [26, 36]]"
      ]
     },
     "execution_count": 12,
     "metadata": {},
     "output_type": "execute_result"
    }
   ],
   "source": [
    "matrixmult_com(A, B)"
   ]
  },
  {
   "cell_type": "markdown",
   "metadata": {
    "slideshow": {
     "slide_type": "slide"
    }
   },
   "source": [
    "#### 넘파이 활용\n",
    "\n",
    "* 넘파이 어레이의 인덱싱, 슬라이싱 기능이 탁월함.\n",
    "* 기본 리스트를 이용할 경우 훨씬 많은 수고를 써야 함."
   ]
  },
  {
   "cell_type": "code",
   "execution_count": 13,
   "metadata": {
    "slideshow": {
     "slide_type": "fragment"
    }
   },
   "outputs": [],
   "source": [
    "import numpy as np\n",
    "\n",
    "def matrixmult_np(A, B):\n",
    "    n = len(A)\n",
    "    \n",
    "    # (nxn) 크기의 0행렬 생성. 실수가 아닌 정수 행렬 생성.\n",
    "    C = np.zeros((n,n), dtype=int)\n",
    "\n",
    "    for i in range(0,2):\n",
    "        for j in range(0, 2):\n",
    "            for k in range(0, 2):\n",
    "                C[i, j] += A[i, k] * B[k, j]\n",
    "    \n",
    "    return C"
   ]
  },
  {
   "cell_type": "code",
   "execution_count": 14,
   "metadata": {
    "slideshow": {
     "slide_type": "slide"
    }
   },
   "outputs": [],
   "source": [
    "A1 = np.array(A)\n",
    "B1 = np.array(B)"
   ]
  },
  {
   "cell_type": "code",
   "execution_count": 15,
   "metadata": {
    "slideshow": {
     "slide_type": ""
    }
   },
   "outputs": [
    {
     "data": {
      "text/plain": [
       "array([[28, 38],\n",
       "       [26, 36]])"
      ]
     },
     "execution_count": 15,
     "metadata": {},
     "output_type": "execute_result"
    }
   ],
   "source": [
    "matrixmult_np(A1, B1)"
   ]
  },
  {
   "cell_type": "markdown",
   "metadata": {
    "slideshow": {
     "slide_type": "slide"
    }
   },
   "source": [
    "### 표준 행렬곱셈의 일정 시간복잡도 분석"
   ]
  },
  {
   "cell_type": "markdown",
   "metadata": {},
   "source": [
    "#### 곱셈 기준"
   ]
  },
  {
   "cell_type": "markdown",
   "metadata": {},
   "source": [
    "* 입력크기: 정방행렬의 행의 수 $n$\n",
    "* 단위연산: 가장 안쪽에 있는 for 반복문에서 사용된 곱셈"
   ]
  },
  {
   "cell_type": "markdown",
   "metadata": {
    "slideshow": {
     "slide_type": "slide"
    }
   },
   "source": [
    "* 총 곱셈 횟수:"
   ]
  },
  {
   "cell_type": "markdown",
   "metadata": {},
   "source": [
    "$$\n",
    "T(n) = n \\times n \\times n = n^3 \\in \\Theta(n^3)\n",
    "$$"
   ]
  },
  {
   "cell_type": "markdown",
   "metadata": {
    "slideshow": {
     "slide_type": "slide"
    }
   },
   "source": [
    "#### 덧셈 기준"
   ]
  },
  {
   "cell_type": "markdown",
   "metadata": {},
   "source": [
    "* 입력크기: 정방행렬의 행의 수 $n$\n",
    "* 단위연산: 가장 안쪽에 있는 for 반복문에서 사용된 덧셈"
   ]
  },
  {
   "cell_type": "markdown",
   "metadata": {
    "slideshow": {
     "slide_type": "slide"
    }
   },
   "source": [
    "* 총 덧셈 횟수:"
   ]
  },
  {
   "cell_type": "markdown",
   "metadata": {},
   "source": [
    "$$\n",
    "T(n) = n \\times n \\times (n-1) = n^3 - n^2 \\in \\Theta(n^3)\n",
    "$$"
   ]
  },
  {
   "cell_type": "markdown",
   "metadata": {
    "slideshow": {
     "slide_type": "slide"
    }
   },
   "source": [
    "### 슈트라쎈 행렬곱셈"
   ]
  },
  {
   "cell_type": "markdown",
   "metadata": {
    "slideshow": {
     "slide_type": "slide"
    }
   },
   "source": [
    "행렬 $A$와 $B$가 아래와 같이 주어졌을 때,\n",
    "\n",
    "$$\n",
    "A = \\begin{bmatrix}\n",
    "        a_{1 1} & a_{1 2}\\\\\n",
    "        a_{2 1} & a_{2 2}\n",
    "        \\end{bmatrix} \\qquad\n",
    "B = \\begin{bmatrix}\n",
    "        b_{1 1} & b_{1 2}\\\\\n",
    "        b_{2 1} & b_{2 2}\n",
    "        \\end{bmatrix}\n",
    "$$"
   ]
  },
  {
   "cell_type": "markdown",
   "metadata": {
    "slideshow": {
     "slide_type": "slide"
    }
   },
   "source": [
    "다음이 성립한다. "
   ]
  },
  {
   "cell_type": "markdown",
   "metadata": {
    "slideshow": {
     "slide_type": ""
    }
   },
   "source": [
    "$$\n",
    "C = A \\times B = \\begin{bmatrix}\n",
    "        m_1 + m_4 - m_5 + m_7 & m_3 + m_5\\\\\n",
    "        m_2 + m_4 & m_1 + m_3 - m_2 + m_6\n",
    "        \\end{bmatrix}\n",
    "$$"
   ]
  },
  {
   "cell_type": "markdown",
   "metadata": {
    "slideshow": {
     "slide_type": "fragment"
    }
   },
   "source": [
    "\\begin{align*}\n",
    "m_1 &= (a_{1 1} + a_{2 2})\\, (b_{1 1} + b_{2 2}) \\\\\n",
    "m_2 &= (a_{2 1} + a_{2 2})\\, b_{1 1}\\\\\n",
    "m_3 &= a_{1 1}\\, (b_{1 2} - b_{2 2})\\\\\n",
    "m_4 &= a_{2 2}\\, (b_{2 1} - b_{1 1})\\\\\n",
    "m_5 &= (a_{1 1} + a_{1 2})\\, b_{2 2}\\\\\n",
    "m_6 &= (a_{2 1} - a_{1 1})\\, (b_{1 1} + b_{1 2})\\\\\n",
    "m_7 &= (a_{1 2} - a{2 2})\\, (b_{2 1} + b_{2 2})\n",
    "\\end{align*}"
   ]
  },
  {
   "cell_type": "markdown",
   "metadata": {
    "slideshow": {
     "slide_type": "slide"
    }
   },
   "source": [
    "#### 슈트라쎈의 $2\\times 2$ 행렬곱셈 시간복잡도"
   ]
  },
  {
   "cell_type": "markdown",
   "metadata": {},
   "source": [
    "* 슈트라쎈 행렬곱셈에 필요한 연산:\n",
    "    * 곱셈: 7번\n",
    "    * 덧셈/뺄셈: 18번"
   ]
  },
  {
   "cell_type": "markdown",
   "metadata": {
    "slideshow": {
     "slide_type": "fragment"
    }
   },
   "source": [
    "* 표준 행렬곱셈에 필요한 연산:\n",
    "    * 곱셈: 8번\n",
    "    * 덧셈/뺄셈: 4번"
   ]
  },
  {
   "cell_type": "markdown",
   "metadata": {
    "slideshow": {
     "slide_type": "slide"
    }
   },
   "source": [
    "### 슈트라쎈 행렬곱셈 일반화"
   ]
  },
  {
   "cell_type": "markdown",
   "metadata": {
    "slideshow": {
     "slide_type": ""
    }
   },
   "source": [
    "* 가정:"
   ]
  },
  {
   "cell_type": "markdown",
   "metadata": {},
   "source": [
    "$$n = 2^k$$"
   ]
  },
  {
   "cell_type": "markdown",
   "metadata": {
    "slideshow": {
     "slide_type": "fragment"
    }
   },
   "source": [
    "* $A$와 $B$ 두 행렬을 각각 4개의 아래와 같이 부분행렬로 나눔."
   ]
  },
  {
   "cell_type": "markdown",
   "metadata": {
    "slideshow": {
     "slide_type": ""
    }
   },
   "source": [
    "$$\n",
    "A = \\begin{bmatrix}\n",
    "        A_{1 1} & A_{1 2}\\\\\n",
    "        A_{2 1} & A_{2 2}\n",
    "        \\end{bmatrix} \\qquad\n",
    "B = \\begin{bmatrix}\n",
    "        B_{1 1} & B_{1 2}\\\\\n",
    "        B_{2 1} & B_{2 2}\n",
    "        \\end{bmatrix}\n",
    "$$"
   ]
  },
  {
   "cell_type": "markdown",
   "metadata": {
    "slideshow": {
     "slide_type": "slide"
    }
   },
   "source": [
    "* 이제 $C$를 다음과 같이 계산할 수 있음."
   ]
  },
  {
   "cell_type": "markdown",
   "metadata": {
    "slideshow": {
     "slide_type": ""
    }
   },
   "source": [
    "<div align=\"center\"><img src=\"./images/algo02/algo02-06.png\" width=\"450\"/></div>"
   ]
  },
  {
   "cell_type": "markdown",
   "metadata": {
    "slideshow": {
     "slide_type": "fragment"
    }
   },
   "source": [
    "* 여기에 슈트라쎈 행렬곱셈 적용:"
   ]
  },
  {
   "cell_type": "markdown",
   "metadata": {
    "slideshow": {
     "slide_type": "slide"
    }
   },
   "source": [
    "$$\n",
    "C = A \\times B = \\begin{bmatrix}\n",
    "        M_1 + M_4 - M_5 + M_7 & M_3 + M_5\\\\\n",
    "        M_2 + M_4 & M_1 + M_3 - M_2 + M_6\n",
    "        \\end{bmatrix}\n",
    "$$"
   ]
  },
  {
   "cell_type": "markdown",
   "metadata": {
    "slideshow": {
     "slide_type": "fragment"
    }
   },
   "source": [
    "\\begin{align*}\n",
    "M_1 &= (A_{1 1} + A_{2 2})\\times (B_{1 1} + B_{2 2}) \\\\\n",
    "M_2 &= (A_{2 1} + A_{2 2})\\times B_{1 1}\\\\\n",
    "M_3 &= A_{1 1}\\times (B_{1 2} - B_{2 2})\\\\\n",
    "M_4 &= A_{2 2}\\times (B_{2 1} - B_{1 1})\\\\\n",
    "M_5 &= (A_{1 1} + A_{1 2})\\times B_{2 2}\\\\\n",
    "M_6 &= (A_{2 1} - A_{1 1})\\times (B_{1 1} + B_{1 2})\\\\\n",
    "M_7 &= (A_{1 2} - a{2 2})\\times (B_{2 1} + B_{2 2})\n",
    "\\end{align*}"
   ]
  },
  {
   "cell_type": "markdown",
   "metadata": {
    "slideshow": {
     "slide_type": "slide"
    }
   },
   "source": [
    "### 슈트라쎈 행렬곱셈 파이썬 알고리즘"
   ]
  },
  {
   "cell_type": "markdown",
   "metadata": {},
   "source": [
    "* `numpy` 모듈의 `array` 활용\n",
    "* 그렇지 않으면 행렬 분할(partition)과 행렬 합병을 구현하기가 매우 불편해짐."
   ]
  },
  {
   "cell_type": "markdown",
   "metadata": {
    "slideshow": {
     "slide_type": "slide"
    }
   },
   "source": [
    "#### 행렬 분할 알고리즘"
   ]
  },
  {
   "cell_type": "markdown",
   "metadata": {
    "slideshow": {
     "slide_type": "slide"
    }
   },
   "source": [
    "* $n \\times n$ 행렬을 크기가 절반인 네 개의 부분행렬로 분할하기"
   ]
  },
  {
   "cell_type": "code",
   "execution_count": 16,
   "metadata": {
    "slideshow": {
     "slide_type": ""
    }
   },
   "outputs": [],
   "source": [
    "import numpy as np \n",
    "\n",
    "def partition(matrix): \n",
    "    \"\"\" \n",
    "    (n x n) 크기의 행렬을 (n/2 x n/2) 크기의 행렬 4개로 분할하기\n",
    "    \"\"\"\n",
    "    size = len(matrix)\n",
    "    size2 = size//2\n",
    "    return (matrix[:size2, :size2], matrix[:size2, size2:], \n",
    "            matrix[size2:, :size2], matrix[size2:, size2:])"
   ]
  },
  {
   "cell_type": "markdown",
   "metadata": {
    "slideshow": {
     "slide_type": "slide"
    }
   },
   "source": [
    "#### 슈트라쎈 알고리즘"
   ]
  },
  {
   "cell_type": "code",
   "execution_count": 17,
   "metadata": {
    "slideshow": {
     "slide_type": "slide"
    }
   },
   "outputs": [],
   "source": [
    "# 분할정복을 활용한 슈트라센의 행렬곱셈 (재귀)\n",
    "\n",
    "def strassen(A, B): \n",
    "    # n=2 일 경우: 일반 정의가 좀 더 빠름\n",
    "    if len(A) == 1: \n",
    "        return A * B\n",
    "\n",
    "    # 행렬 인자 4등분하기. 재귀적으로 (2x2) 행렬이 만들어질 때까지.\n",
    "    A11, A12, A21, A22 = partition(A) \n",
    "    B11, B12, B21, B22 = partition(B) \n",
    "\n",
    "    # 분할된 부분행렬에 대해 재귀 적용\n",
    "    M1 = strassen(A11 + A22, B11 + B22) \n",
    "    M2 = strassen(A21 + A22, B11) \n",
    "    M3 = strassen(A11, B12 - B22) \n",
    "    M4 = strassen(A22, B21 - B11) \n",
    "    M5 = strassen(A11 + A12, B22) \n",
    "    M6 = strassen(A21 - A11, B11 + B12) \n",
    "    M7 = strassen(A12 - A22, B21 + B22) \n",
    "\n",
    "    # 4개의 부분행렬 완성\n",
    "    C11 = M1 + M4 - M5 + M7 \n",
    "    C12 = M3 + M5 \n",
    "    C21 = M2 + M4 \n",
    "    C22 = M1 + M3 - M2 + M6 \n",
    "\n",
    "    # 4개의 부분행렬을 하나의 행렬로 합병\n",
    "    C = np.vstack((np.hstack((C11, C12)), np.hstack((C21, C22)))) \n",
    "\n",
    "    return C"
   ]
  },
  {
   "cell_type": "code",
   "execution_count": 18,
   "metadata": {
    "slideshow": {
     "slide_type": "slide"
    }
   },
   "outputs": [],
   "source": [
    "A2 = np.array([[1, 2, 3, 4],\n",
    "              [5, 6, 7, 8],\n",
    "              [9, 1, 2, 3],\n",
    "              [4, 5, 6, 7]])\n",
    "\n",
    "B2 = np.array([[8, 9, 1, 2],\n",
    "              [3, 4, 5, 6],\n",
    "              [7, 8, 9, 1],\n",
    "              [2, 3, 4, 5]])"
   ]
  },
  {
   "cell_type": "code",
   "execution_count": 19,
   "metadata": {},
   "outputs": [
    {
     "data": {
      "text/plain": [
       "array([[ 43,  53,  54,  37],\n",
       "       [123, 149, 130,  93],\n",
       "       [ 95, 110,  44,  41],\n",
       "       [103, 125, 111,  79]])"
      ]
     },
     "execution_count": 19,
     "metadata": {},
     "output_type": "execute_result"
    }
   ],
   "source": [
    "strassen(A2, B2)"
   ]
  },
  {
   "cell_type": "markdown",
   "metadata": {
    "slideshow": {
     "slide_type": "slide"
    }
   },
   "source": [
    "* 참조: [PythonTutor: 슈트라쎈 행렬곱셈 작동 예제](http://pythontutor.com/visualize.html#code=import%20numpy%20as%20np%20%0A%0Adef%20matrixmult_np%28A,%20B%29%3A%0A%20%20%20%20n%20%3D%20len%28A%29%0A%20%20%20%20%0A%20%20%20%20%23%20%28nxn%29%20%ED%81%AC%EA%B8%B0%EC%9D%98%200%ED%96%89%EB%A0%AC%20%EC%83%9D%EC%84%B1.%20%EC%8B%A4%EC%88%98%EA%B0%80%20%EC%95%84%EB%8B%8C%20%EC%A0%95%EC%88%98%20%ED%96%89%EB%A0%AC%20%EC%83%9D%EC%84%B1.%0A%20%20%20%20C%20%3D%20np.zeros%28%28n,n%29,%20dtype%3Dint%29%0A%0A%20%20%20%20for%20i%20in%20range%280,2%29%3A%0A%20%20%20%20%20%20%20%20for%20j%20in%20range%280,%202%29%3A%0A%20%20%20%20%20%20%20%20%20%20%20%20for%20k%20in%20range%280,%202%29%3A%0A%20%20%20%20%20%20%20%20%20%20%20%20%20%20%20%20C%5Bi,%20j%5D%20%2B%3D%20A%5Bi,%20k%5D%20*%20B%5Bk,%20j%5D%0A%20%20%20%20%0A%20%20%20%20return%20C%0A%20%20%20%20%0Adef%20partition%28matrix%29%3A%20%0A%20%20%20%20%22%22%22%20%0A%20%20%20%20%28n%20x%20n%29%20%ED%81%AC%EA%B8%B0%EC%9D%98%20%ED%96%89%EB%A0%AC%EC%9D%84%20%28n/2%20x%20n/2%29%20%ED%81%AC%EA%B8%B0%EC%9D%98%20%ED%96%89%EB%A0%AC%204%EA%B0%9C%EB%A1%9C%20%EB%B6%84%ED%95%A0%ED%95%98%EA%B8%B0%0A%20%20%20%20%22%22%22%0A%20%20%20%20size%20%3D%20len%28matrix%29%0A%20%20%20%20size2%20%3D%20size//2%0A%20%20%20%20return%20%28matrix%5B%3Asize2,%20%3Asize2%5D,%20matrix%5B%3Asize2,%20size2%3A%5D,%20%0A%20%20%20%20%20%20%20%20%20%20%20%20matrix%5Bsize2%3A,%20%3Asize2%5D,%20matrix%5Bsize2%3A,%20size2%3A%5D%29%0A%20%20%20%20%20%20%20%20%20%20%20%20%0A%23%20%EB%B6%84%ED%95%A0%EC%A0%95%EB%B3%B5%EC%9D%84%20%ED%99%9C%EC%9A%A9%ED%95%9C%20%EC%8A%88%ED%8A%B8%EB%9D%BC%EC%84%BC%EC%9D%98%20%ED%96%89%EB%A0%AC%EA%B3%B1%EC%85%88%20%28%EC%9E%AC%EA%B7%80%29%0A%0Adef%20strassen%28A,%20B%29%3A%20%0A%20%20%20%20%23%20n%3D2%20%EC%9D%BC%20%EA%B2%BD%EC%9A%B0%3A%20%EC%9D%BC%EB%B0%98%20%EC%A0%95%EC%9D%98%EA%B0%80%20%EC%A2%80%20%EB%8D%94%20%EB%B9%A0%EB%A6%84%0A%20%20%20%20if%20len%28A%29%20%3D%3D%202%3A%20%0A%20%20%20%20%20%20%20%20return%20matrixmult_np%28A,%20B%29%0A%0A%20%20%20%20%23%23%20n%20%3D%201%20%EB%A1%9C%20%EC%84%A4%EC%A0%95%ED%95%A0%20%EC%88%98%EB%8F%84%20%EC%9E%88%EC%9D%8C%0A%20%20%20%20%23%20if%20len%28A%29%20%3D%3D%201%3A%20%0A%20%20%20%20%23%20%20%20%20%20return%20A%20*%20B%0A%0A%20%20%20%20%23%20%ED%96%89%EB%A0%AC%20%EC%9D%B8%EC%9E%90%204%EB%93%B1%EB%B6%84%ED%95%98%EA%B8%B0.%20%EC%9E%AC%EA%B7%80%EC%A0%81%EC%9C%BC%EB%A1%9C%20%282x2%29%20%ED%96%89%EB%A0%AC%EC%9D%B4%20%EB%A7%8C%EB%93%A4%EC%96%B4%EC%A7%88%20%EB%95%8C%EA%B9%8C%EC%A7%80.%0A%20%20%20%20A11,%20A12,%20A21,%20A22%20%3D%20partition%28A%29%20%0A%20%20%20%20B11,%20B12,%20B21,%20B22%20%3D%20partition%28B%29%20%0A%0A%20%20%20%20%23%20%EB%B6%84%ED%95%A0%EB%90%9C%20%EB%B6%80%EB%B6%84%ED%96%89%EB%A0%AC%EC%97%90%20%EB%8C%80%ED%95%B4%20%EC%9E%AC%EA%B7%80%20%EC%A0%81%EC%9A%A9%0A%20%20%20%20M1%20%3D%20strassen%28A11%20%2B%20A22,%20B11%20%2B%20B22%29%20%0A%20%20%20%20M2%20%3D%20strassen%28A21%20%2B%20A22,%20B11%29%20%0A%20%20%20%20M3%20%3D%20strassen%28A11,%20B12%20-%20B22%29%20%0A%20%20%20%20M4%20%3D%20strassen%28A22,%20B21%20-%20B11%29%20%0A%20%20%20%20M5%20%3D%20strassen%28A11%20%2B%20A12,%20B22%29%20%0A%20%20%20%20M6%20%3D%20strassen%28A21%20-%20A11,%20B11%20%2B%20B12%29%20%0A%20%20%20%20M7%20%3D%20strassen%28A12%20-%20A22,%20B21%20%2B%20B22%29%20%0A%0A%20%20%20%20%23%204%EA%B0%9C%EC%9D%98%20%EB%B6%80%EB%B6%84%ED%96%89%EB%A0%AC%20%EC%99%84%EC%84%B1%0A%20%20%20%20C11%20%3D%20M1%20%2B%20M4%20-%20M5%20%2B%20M7%20%0A%20%20%20%20C12%20%3D%20M3%20%2B%20M5%20%0A%20%20%20%20C21%20%3D%20M2%20%2B%20M4%20%0A%20%20%20%20C22%20%3D%20M1%20%2B%20M3%20-%20M2%20%2B%20M6%20%0A%0A%20%20%20%20%23%204%EA%B0%9C%EC%9D%98%20%EB%B6%80%EB%B6%84%ED%96%89%EB%A0%AC%EC%9D%84%20%ED%95%98%EB%82%98%EC%9D%98%20%ED%96%89%EB%A0%AC%EB%A1%9C%20%ED%95%A9%EB%B3%91%0A%20%20%20%20C%20%3D%20np.vstack%28%28np.hstack%28%28C11,%20C12%29%29,%20np.hstack%28%28C21,%20C22%29%29%29%29%20%0A%0A%20%20%20%20return%20C%0A%0AA2%20%3D%20np.array%28%5B%5B1,%202,%203,%204%5D,%0A%20%20%20%20%20%20%20%20%20%20%20%20%20%20%5B5,%206,%207,%208%5D,%0A%20%20%20%20%20%20%20%20%20%20%20%20%20%20%5B9,%201,%202,%203%5D,%0A%20%20%20%20%20%20%20%20%20%20%20%20%20%20%5B4,%205,%206,%207%5D%5D%29%0A%0AB2%20%3D%20np.array%28%5B%5B8,%209,%201,%202%5D,%0A%20%20%20%20%20%20%20%20%20%20%20%20%20%20%5B3,%204,%205,%206%5D,%0A%20%20%20%20%20%20%20%20%20%20%20%20%20%20%5B7,%208,%209,%201%5D,%0A%20%20%20%20%20%20%20%20%20%20%20%20%20%20%5B2,%203,%204,%205%5D%5D%29%0A%20%20%20%20%20%20%20%20%20%20%20%20%20%20%0Astrassen%28A2,%20B2%29&cumulative=false&curInstr=0&heapPrimitives=nevernest&mode=display&origin=opt-frontend.js&py=py3anaconda&rawInputLstJSON=%5B%5D&textReferences=false)"
   ]
  },
  {
   "cell_type": "markdown",
   "metadata": {
    "slideshow": {
     "slide_type": "slide"
    }
   },
   "source": [
    "### 슈트라쎈 행렬곱셈의 일정 시간복잡도 분석"
   ]
  },
  {
   "cell_type": "markdown",
   "metadata": {
    "slideshow": {
     "slide_type": "slide"
    }
   },
   "source": [
    "#### 곱셈 기준"
   ]
  },
  {
   "cell_type": "markdown",
   "metadata": {},
   "source": [
    "* 입력크기: 정방행렬의 행의 수 $n = 2^k$\n",
    "* 단위연산: 곱셈 호출 횟수"
   ]
  },
  {
   "cell_type": "markdown",
   "metadata": {
    "slideshow": {
     "slide_type": "slide"
    }
   },
   "source": [
    "* 총 곱셈 횟수:"
   ]
  },
  {
   "cell_type": "markdown",
   "metadata": {},
   "source": [
    "\\begin{align*}\n",
    "T(n) &= 7\\, T \\big(\\frac n 2 \\big) \\\\\n",
    "T(1) &= 1\n",
    "\\end{align*}"
   ]
  },
  {
   "cell_type": "markdown",
   "metadata": {
    "slideshow": {
     "slide_type": "slide"
    }
   },
   "source": [
    "이 식을 전개하면:"
   ]
  },
  {
   "cell_type": "markdown",
   "metadata": {},
   "source": [
    "\\begin{align*}\n",
    "T(n) &= 7\\, T(2^{k-1}) \\\\\n",
    "     &= 7^2\\, T(2^{k-2}) \\\\\n",
    "     &= \\dots \\\\\n",
    "     &= 7^k T(1)\\\\\n",
    "     &= 7^k \\\\\n",
    "     &= 7^{\\lg n} = n^{\\lg 7} \\\\\n",
    "     &\\approx n^{2.81} \\\\\n",
    "     &\\in \\Theta(n^{2.81})\n",
    "\\end{align*}"
   ]
  },
  {
   "cell_type": "markdown",
   "metadata": {
    "slideshow": {
     "slide_type": "slide"
    }
   },
   "source": [
    "#### 덧셈/뺄셈 기준"
   ]
  },
  {
   "cell_type": "markdown",
   "metadata": {},
   "source": [
    "* 입력크기: 정방행렬의 행의 수 $n = 2^k$\n",
    "* 단위연산: 덧셈/뺄셈 호출 횟수"
   ]
  },
  {
   "cell_type": "markdown",
   "metadata": {
    "slideshow": {
     "slide_type": "slide"
    }
   },
   "source": [
    "* 총 덧셈/뺄셈 횟수:"
   ]
  },
  {
   "cell_type": "markdown",
   "metadata": {},
   "source": [
    "\\begin{align*}\n",
    "T(n) &= 7\\, T \\big( \\frac n 2 \\big) + 18 \\big( \\frac n 2 \\big)^2\\\\\n",
    "T(1) &= 0\n",
    "\\end{align*}"
   ]
  },
  {
   "cell_type": "markdown",
   "metadata": {
    "slideshow": {
     "slide_type": "slide"
    }
   },
   "source": [
    "이 식을 전개하면:"
   ]
  },
  {
   "cell_type": "markdown",
   "metadata": {},
   "source": [
    "\\begin{align*}\n",
    "T(n) &= 6 n^{\\lg 7} -6 n^{2} \\\\\n",
    "     &\\approx 6 n^{2.81} - 6 n^2 \\\\\n",
    "     &\\in \\Theta(n^{2.81})\n",
    "\\end{align*}"
   ]
  },
  {
   "cell_type": "markdown",
   "metadata": {
    "slideshow": {
     "slide_type": "slide"
    }
   },
   "source": [
    "### $n = 2^k$가 아닌 경우"
   ]
  },
  {
   "cell_type": "markdown",
   "metadata": {},
   "source": [
    "* 0으로 이루어진 행과 열을 필요한 만큼 추가하여 $2^k$ 모양의 행렬로 만든 후 슈트라쎈 알고리즘 적용\n",
    "* 이후 0으로 이루어진 행과 열 삭제.\n",
    "* 따라서 시간복잡도는 $\\Theta(n^{2.81})$로 동일함."
   ]
  },
  {
   "cell_type": "markdown",
   "metadata": {
    "slideshow": {
     "slide_type": "slide"
    }
   },
   "source": [
    "### 표준 알고리즘 대 슈트라센 알고르즘"
   ]
  },
  {
   "cell_type": "markdown",
   "metadata": {},
   "source": [
    "|      | 표준 알고리즘 | 슈트라쎈 알고리즘 |\n",
    "| :--- | :---   | :---       |\n",
    "| 곱셉  | $n^3$  | $n^{2.81}$ |\n",
    "| 덧셈/뺄셈 | $n^3 - n^2$| $6 n^{2.81} - 6 n^2$ |"
   ]
  },
  {
   "cell_type": "markdown",
   "metadata": {
    "slideshow": {
     "slide_type": "slide"
    }
   },
   "source": [
    "### 기타 알고리즘"
   ]
  },
  {
   "cell_type": "markdown",
   "metadata": {
    "slideshow": {
     "slide_type": ""
    }
   },
   "source": [
    "* 슈트라센 알고리즘보다 효율적인 알고리즘은 아직 알려지지 않았음."
   ]
  },
  {
   "cell_type": "markdown",
   "metadata": {
    "slideshow": {
     "slide_type": "fragment"
    }
   },
   "source": [
    "* 이론상: 모든 행렬곱셈 알고리즘의 복잡도는 $\\Theta(n^2)$ 이상이어야 함."
   ]
  },
  {
   "cell_type": "markdown",
   "metadata": {
    "slideshow": {
     "slide_type": "fragment"
    }
   },
   "source": [
    "* 하지만: 아직 $\\Theta(n^2)$의 시간복잡도를 갖는 알고리즘은 알려지지 않았으며, 불가능하다는 증명도 없음."
   ]
  },
  {
   "cell_type": "markdown",
   "metadata": {
    "slideshow": {
     "slide_type": "slide"
    }
   },
   "source": [
    "## 8절 분할정복을 사용할 수 없는 경우"
   ]
  },
  {
   "cell_type": "markdown",
   "metadata": {
    "slideshow": {
     "slide_type": "slide"
    }
   },
   "source": [
    "### 경우 1"
   ]
  },
  {
   "cell_type": "markdown",
   "metadata": {},
   "source": [
    "* 크기가 $n$인 입력이 2개 이상의 조각으로 분할되며, 분할된 부분들의 크기가 거의 $n$에 가깝게 되는 경우\n",
    "* 시간복잡도: 지수 시간\n",
    "* 예제: 1장에서 살펴본 피보나찌 수열 계산 함수(재귀)\n",
    "    \n",
    "    ```python\n",
    "    fib(k) = fib(k-2) + fib(k-1)\n",
    "    ```"
   ]
  },
  {
   "cell_type": "markdown",
   "metadata": {
    "slideshow": {
     "slide_type": "slide"
    }
   },
   "source": [
    "### 경우 2"
   ]
  },
  {
   "cell_type": "markdown",
   "metadata": {},
   "source": [
    "* 크기가 $n$인 입력이 거의 $n$개의 조각으로 분할되며, 분할된 부분의 크기가 $n/c$인 경우. 단, $c$는 상수.\n",
    "* 시간복잡도: $n^{\\Theta(\\lg n)}$\n",
    "* 예제: \n",
    "\n",
    "    \\begin{align*}\n",
    "    T(n) &= n\\, T(n/c)\n",
    "    \\end{align*}"
   ]
  },
  {
   "cell_type": "markdown",
   "metadata": {
    "slideshow": {
     "slide_type": "slide"
    }
   },
   "source": [
    "## 연습문제"
   ]
  },
  {
   "cell_type": "markdown",
   "metadata": {
    "slideshow": {
     "slide_type": "slide"
    }
   },
   "source": [
    "### 지수 시간복잡도 문제: 하노이탑\n",
    "\n",
    "* 연습문제 17번 참조"
   ]
  },
  {
   "cell_type": "markdown",
   "metadata": {
    "slideshow": {
     "slide_type": "slide"
    }
   },
   "source": [
    "#### 문제\n",
    "\n",
    "* 말뚝 3개와 크기가 모두 다른 구멍난 디스크 $n$개가 주어졌음.\n",
    "* 한 말뚝에 쌓여 있는 $n$개의 디스크를 다른 말뚝으로 옮겨여 함."
   ]
  },
  {
   "cell_type": "markdown",
   "metadata": {
    "slideshow": {
     "slide_type": "fragment"
    }
   },
   "source": [
    "#### 제한 조건\n",
    "\n",
    "1. 세 개의 말뚝 이외에는 디스크를 놓을 수 없음.\n",
    "2. 한 번에 하나의 디스크만 옮길 수 있음.\n",
    "3. 큰 디스크를 작은 디스크 위에 올려놓을 수 없음."
   ]
  },
  {
   "cell_type": "markdown",
   "metadata": {
    "slideshow": {
     "slide_type": "slide"
    }
   },
   "source": [
    "#### 작동법 참조\n",
    "\n",
    "* [About the Towers of Hanoi](http://www.cs.cmu.edu/~cburch/survey/recurse/hanoi.html): 직접 실행 가능"
   ]
  },
  {
   "cell_type": "markdown",
   "metadata": {
    "slideshow": {
     "slide_type": "slide"
    }
   },
   "source": [
    "#### 해결책 1"
   ]
  },
  {
   "cell_type": "markdown",
   "metadata": {},
   "source": [
    "* 의사코드 수준의 재귀 알고리즘.\n",
    "* 하지만 알고리즘 핵심은 모두 포함됨."
   ]
  },
  {
   "cell_type": "code",
   "execution_count": 20,
   "metadata": {
    "slideshow": {
     "slide_type": "slide"
    }
   },
   "outputs": [],
   "source": [
    "def pseudo_hanoi(begin, end, temp, n): \n",
    "    if n==1: \n",
    "        print(f\"{begin}에서 디스크 1개를 {end}로 옮기세요\")\n",
    "        return\n",
    "\n",
    "    pseudo_hanoi(begin, temp, end, n-1) \n",
    "    print(f\"{begin}에서 디스크 {n}을 {end}로 옮기세요\")\n",
    "    pseudo_hanoi(temp, end, begin, n-1) "
   ]
  },
  {
   "cell_type": "code",
   "execution_count": 21,
   "metadata": {
    "slideshow": {
     "slide_type": "slide"
    }
   },
   "outputs": [
    {
     "name": "stdout",
     "output_type": "stream",
     "text": [
      "말뚝 A에서 디스크 1개를 말뚝 C로 옮기세요\n"
     ]
    }
   ],
   "source": [
    "# 디스크 1개\n",
    "num_disks = 1\n",
    "\n",
    "pseudo_hanoi('말뚝 A','말뚝 C','말뚝 B', num_disks) "
   ]
  },
  {
   "cell_type": "code",
   "execution_count": 22,
   "metadata": {
    "slideshow": {
     "slide_type": "slide"
    }
   },
   "outputs": [
    {
     "name": "stdout",
     "output_type": "stream",
     "text": [
      "말뚝 A에서 디스크 1개를 말뚝 C로 옮기세요\n",
      "말뚝 A에서 디스크 2을 말뚝 B로 옮기세요\n",
      "말뚝 C에서 디스크 1개를 말뚝 B로 옮기세요\n",
      "말뚝 A에서 디스크 3을 말뚝 C로 옮기세요\n",
      "말뚝 B에서 디스크 1개를 말뚝 A로 옮기세요\n",
      "말뚝 B에서 디스크 2을 말뚝 C로 옮기세요\n",
      "말뚝 A에서 디스크 1개를 말뚝 C로 옮기세요\n"
     ]
    }
   ],
   "source": [
    "# 디스크 3개\n",
    "num_disks = 3\n",
    "\n",
    "pseudo_hanoi('말뚝 A','말뚝 C','말뚝 B', num_disks) "
   ]
  },
  {
   "cell_type": "markdown",
   "metadata": {
    "slideshow": {
     "slide_type": "slide"
    }
   },
   "source": [
    "#### `pseudo_hanoi`의 일정 시간복잡도\n",
    "\n",
    "* 입력크기: 디스크 수 $n$\n",
    "* 단위연산: 이동 횟수"
   ]
  },
  {
   "cell_type": "markdown",
   "metadata": {
    "slideshow": {
     "slide_type": "slide"
    }
   },
   "source": [
    "* 이동할 때 마다 카운트를 세면 됨. 따라서 아래 점화식 성립:"
   ]
  },
  {
   "cell_type": "markdown",
   "metadata": {},
   "source": [
    "\\begin{align*}\n",
    "T(n) &= T(n-1) + 1 + T(n-1) \\\\\n",
    "     &= 2\\, T(n-1) + 1 \\\\\n",
    "     & \\\\\n",
    "T(1) &= 1\n",
    "\\end{align*}"
   ]
  },
  {
   "cell_type": "markdown",
   "metadata": {
    "slideshow": {
     "slide_type": "slide"
    }
   },
   "source": [
    "* 따라서 다음 성립:"
   ]
  },
  {
   "cell_type": "markdown",
   "metadata": {},
   "source": [
    "\\begin{align*}\n",
    "T(n) &= T(n-1) + 1 + T(n-1) \\\\\n",
    "     &= 2\\, T(n-1) + 1 \\\\\n",
    "     &= 2^2\\, T(n-2) + 2 + 1 \\\\\n",
    "     &= \\dots \\\\\n",
    "     &= 2^{n-1}\\, T(1) + 2^{n-2} + 2^{n-3} + \\cdots + 2 + 1\\\\\n",
    "     &= 2^{n-1} + 2^{n-2} + 2^{n-3} + \\cdots + 2 + 1\\\\\n",
    "     &= 2^n - 1\n",
    "\\end{align*}"
   ]
  },
  {
   "cell_type": "markdown",
   "metadata": {
    "slideshow": {
     "slide_type": "slide"
    }
   },
   "source": [
    "* 이동횟수 확인을 위해 count 변수 활용 가능"
   ]
  },
  {
   "cell_type": "code",
   "execution_count": 23,
   "metadata": {
    "slideshow": {
     "slide_type": ""
    }
   },
   "outputs": [],
   "source": [
    "def pseudo_hanoi_(begin, end, temp, n): \n",
    "    count = 0\n",
    "    if n==1: \n",
    "        print(f\"{begin}에서 디스크 1개를 {end}로 옮기세요\")\n",
    "        return count+1\n",
    "\n",
    "    count += pseudo_hanoi_(begin, temp, end, n-1) \n",
    "    print(f\"{begin}에서 디스크 {n}을 {end}로 옮기세요\")\n",
    "    count += 1\n",
    "    count += pseudo_hanoi_(temp, end, begin, n-1) \n",
    "    \n",
    "    return count"
   ]
  },
  {
   "cell_type": "code",
   "execution_count": 24,
   "metadata": {
    "slideshow": {
     "slide_type": "slide"
    }
   },
   "outputs": [
    {
     "name": "stdout",
     "output_type": "stream",
     "text": [
      "말뚝 A에서 디스크 1개를 말뚝 B로 옮기세요\n",
      "말뚝 A에서 디스크 2을 말뚝 C로 옮기세요\n",
      "말뚝 B에서 디스크 1개를 말뚝 C로 옮기세요\n",
      "말뚝 A에서 디스크 3을 말뚝 B로 옮기세요\n",
      "말뚝 C에서 디스크 1개를 말뚝 A로 옮기세요\n",
      "말뚝 C에서 디스크 2을 말뚝 B로 옮기세요\n",
      "말뚝 A에서 디스크 1개를 말뚝 B로 옮기세요\n",
      "말뚝 A에서 디스크 4을 말뚝 C로 옮기세요\n",
      "말뚝 B에서 디스크 1개를 말뚝 C로 옮기세요\n",
      "말뚝 B에서 디스크 2을 말뚝 A로 옮기세요\n",
      "말뚝 C에서 디스크 1개를 말뚝 A로 옮기세요\n",
      "말뚝 B에서 디스크 3을 말뚝 C로 옮기세요\n",
      "말뚝 A에서 디스크 1개를 말뚝 B로 옮기세요\n",
      "말뚝 A에서 디스크 2을 말뚝 C로 옮기세요\n",
      "말뚝 B에서 디스크 1개를 말뚝 C로 옮기세요\n"
     ]
    },
    {
     "data": {
      "text/plain": [
       "15"
      ]
     },
     "execution_count": 24,
     "metadata": {},
     "output_type": "execute_result"
    }
   ],
   "source": [
    "# 디스크 4개\n",
    "num_disks = 4\n",
    "\n",
    "pseudo_hanoi_('말뚝 A','말뚝 C','말뚝 B', num_disks) "
   ]
  },
  {
   "cell_type": "markdown",
   "metadata": {
    "slideshow": {
     "slide_type": "fragment"
    }
   },
   "source": [
    "* 참조\n",
    "\n",
    "$$\n",
    "15 = 2^4 -1\n",
    "$$"
   ]
  },
  {
   "cell_type": "markdown",
   "metadata": {
    "slideshow": {
     "slide_type": "slide"
    }
   },
   "source": [
    "#### 해결책 2"
   ]
  },
  {
   "cell_type": "markdown",
   "metadata": {},
   "source": [
    "* 말뚝에 실제로 쌓이는 것까지 구현하기\n",
    "* 말뚝을 리스트로 구현\n",
    "* 주의사항\n",
    "    * 큰 숫자가 먼저 들어오지만, 작은 숫자가 먼저 나가는 기능을 구현해야 함.\n",
    "    * 아이디어: 스택처럼 작동하도록 해야함. \n",
    "        * 스택(stack): FILO(First In Last Out)를 따르는 자료구조\n",
    "    * 리트스 자료형의 `pop()`과 `append()` 메서드 활용"
   ]
  },
  {
   "cell_type": "code",
   "execution_count": 25,
   "metadata": {
    "slideshow": {
     "slide_type": "slide"
    }
   },
   "outputs": [],
   "source": [
    "# 말뚝 인자로 리스트 활용\n",
    "\n",
    "def hanoi_list(begin, end, temp, n):\n",
    "    if n == 1: \n",
    "        end.append(begin.pop())\n",
    "    else:\n",
    "        hanoi_list(begin, temp, end, n - 1) \n",
    "        hanoi_list(begin, end, temp, 1) \n",
    "        hanoi_list(temp, end, begin, n - 1)"
   ]
  },
  {
   "cell_type": "code",
   "execution_count": 26,
   "metadata": {
    "slideshow": {
     "slide_type": "slide"
    }
   },
   "outputs": [],
   "source": [
    "tower_a = []\n",
    "tower_b = []\n",
    "tower_c = []\n",
    "\n",
    "# 디스크 수\n",
    "num_discs = 3\n",
    "\n",
    "for i in range(num_discs, 0, -1):\n",
    "    tower_a.append(i)"
   ]
  },
  {
   "cell_type": "code",
   "execution_count": 27,
   "metadata": {
    "slideshow": {
     "slide_type": "slide"
    }
   },
   "outputs": [
    {
     "name": "stdout",
     "output_type": "stream",
     "text": [
      "시작할 때:\n",
      "tower_a: [3, 2, 1]\n",
      "tower_b: []\n",
      "tower_c: []\n",
      "\n",
      "이동 후:\n",
      "tower_a: []\n",
      "tower_b: []\n",
      "tower_c: [3, 2, 1]\n"
     ]
    }
   ],
   "source": [
    "# 시작할 때\n",
    "print(\"시작할 때:\")\n",
    "print(f\"tower_a: {tower_a}\")\n",
    "print(f\"tower_b: {tower_b}\")\n",
    "print(f\"tower_c: {tower_c}\")\n",
    "    \n",
    "hanoi_list(tower_a, tower_c, tower_b, num_discs) \n",
    "\n",
    "# 이동 후\n",
    "print(\"\\n이동 후:\")\n",
    "print(f\"tower_a: {tower_a}\")\n",
    "print(f\"tower_b: {tower_b}\")\n",
    "print(f\"tower_c: {tower_c}\")"
   ]
  },
  {
   "cell_type": "markdown",
   "metadata": {
    "slideshow": {
     "slide_type": "slide"
    }
   },
   "source": [
    "#### 해결책 3"
   ]
  },
  {
   "cell_type": "markdown",
   "metadata": {},
   "source": [
    "* 말뚝 구현을 위해 스택 자료구조 직접 활용 가능.\n",
    "* 스택 클래스를 직접 선언함. 다음 두 가지 메서드 구현해야 함.\n",
    "    * `push()`: 항목 추가를 위한 메서드\n",
    "    * `pop()`: 항목 삭제를 위한 메서드"
   ]
  },
  {
   "cell_type": "code",
   "execution_count": 28,
   "metadata": {
    "slideshow": {
     "slide_type": "slide"
    }
   },
   "outputs": [],
   "source": [
    "class Stack():\n",
    "    def __init__(self):\n",
    "        self._container = []\n",
    "\n",
    "    def push(self, item):\n",
    "        self._container.append(item)\n",
    "\n",
    "    def pop(self):\n",
    "        return self._container.pop()\n",
    "\n",
    "    def __repr__(self):\n",
    "        return repr(self._container)"
   ]
  },
  {
   "cell_type": "code",
   "execution_count": 29,
   "metadata": {
    "slideshow": {
     "slide_type": "slide"
    }
   },
   "outputs": [],
   "source": [
    "def hanoi(begin, end, temp, n):\n",
    "    if n == 1: \n",
    "        end.push(begin.pop())\n",
    "    else:\n",
    "        hanoi(begin, temp, end, n - 1) \n",
    "        hanoi(begin, end, temp, 1) \n",
    "        hanoi(temp, end, begin, n - 1)"
   ]
  },
  {
   "cell_type": "code",
   "execution_count": 30,
   "metadata": {
    "slideshow": {
     "slide_type": "slide"
    }
   },
   "outputs": [],
   "source": [
    "tower_a = Stack() \n",
    "tower_b = Stack() \n",
    "tower_c = Stack()\n",
    "\n",
    "# 디스크 수\n",
    "num_discs = 5\n",
    "\n",
    "for i in range(num_discs, 0, -1):\n",
    "    tower_a.push(i)"
   ]
  },
  {
   "cell_type": "code",
   "execution_count": 31,
   "metadata": {
    "slideshow": {
     "slide_type": "slide"
    }
   },
   "outputs": [
    {
     "name": "stdout",
     "output_type": "stream",
     "text": [
      "시작할 때:\n",
      "tower_a: [5, 4, 3, 2, 1]\n",
      "tower_b: []\n",
      "tower_c: []\n",
      "\n",
      "이동 후:\n",
      "tower_a: []\n",
      "tower_b: []\n",
      "tower_c: [5, 4, 3, 2, 1]\n"
     ]
    }
   ],
   "source": [
    "# 시작할 때\n",
    "print(\"시작할 때:\")\n",
    "print(f\"tower_a: {tower_a}\")\n",
    "print(f\"tower_b: {tower_b}\")\n",
    "print(f\"tower_c: {tower_c}\")\n",
    "    \n",
    "hanoi(tower_a, tower_c, tower_b, num_discs) \n",
    "\n",
    "# 이동 후\n",
    "print(\"\\n이동 후:\")\n",
    "print(f\"tower_a: {tower_a}\")\n",
    "print(f\"tower_b: {tower_b}\")\n",
    "print(f\"tower_c: {tower_c}\")"
   ]
  },
  {
   "cell_type": "markdown",
   "metadata": {
    "slideshow": {
     "slide_type": "slide"
    }
   },
   "source": [
    "* 참조: [PythonTutor: 하노이탑 실행 과정](http://pythontutor.com/visualize.html#code=class%20Stack%28%29%3A%0A%20%20%20%20def%20__init__%28self%29%3A%0A%20%20%20%20%20%20%20%20self._container%20%3D%20%5B%5D%0A%0A%20%20%20%20def%20push%28self,%20item%29%3A%0A%20%20%20%20%20%20%20%20self._container.append%28item%29%0A%0A%20%20%20%20def%20pop%28self%29%3A%0A%20%20%20%20%20%20%20%20return%20self._container.pop%28%29%0A%0A%20%20%20%20def%20__repr__%28self%29%3A%0A%20%20%20%20%20%20%20%20return%20repr%28self._container%29%0A%20%20%20%20%20%20%20%20%0Adef%20hanoi%28begin,%20end,%20temp,%20n%29%3A%0A%20%20%20%20if%20n%20%3D%3D%201%3A%20%0A%20%20%20%20%20%20%20%20end.push%28begin.pop%28%29%29%0A%20%20%20%20else%3A%0A%20%20%20%20%20%20%20%20hanoi%28begin,%20temp,%20end,%20n%20-%201%29%20%0A%20%20%20%20%20%20%20%20hanoi%28begin,%20end,%20temp,%201%29%20%0A%20%20%20%20%20%20%20%20hanoi%28temp,%20end,%20begin,%20n%20-%201%29%0A%20%20%20%20%20%20%20%20%0Anum_discs%20%3D%203%0Atower_a%20%3D%20Stack%28%29%20%0Atower_b%20%3D%20Stack%28%29%20%0Atower_c%20%3D%20Stack%28%29%0A%0Afor%20i%20in%20range%28num_discs,%200,%20-1%29%3A%0A%20%20%20%20tower_a.push%28i%29%0A%0Ahanoi%28tower_a,%20tower_c,%20tower_b,%20num_discs%29%20&cumulative=false&curInstr=0&heapPrimitives=nevernest&mode=display&origin=opt-frontend.js&py=3&rawInputLstJSON=%5B%5D&textReferences=false)"
   ]
  }
 ],
 "metadata": {
  "celltoolbar": "Slideshow",
  "kernelspec": {
   "display_name": "Python 3",
   "language": "python",
   "name": "python3"
  },
  "language_info": {
   "codemirror_mode": {
    "name": "ipython",
    "version": 3
   },
   "file_extension": ".py",
   "mimetype": "text/x-python",
   "name": "python",
   "nbconvert_exporter": "python",
   "pygments_lexer": "ipython3",
   "version": "3.7.6"
  }
 },
 "nbformat": 4,
 "nbformat_minor": 4
}
