{
 "cells": [
  {
   "cell_type": "markdown",
   "metadata": {
    "slideshow": {
     "slide_type": "slide"
    }
   },
   "source": [
    "# 2장 분할정복"
   ]
  },
  {
   "cell_type": "markdown",
   "metadata": {
    "slideshow": {
     "slide_type": "slide"
    }
   },
   "source": [
    "## 주요 내용"
   ]
  },
  {
   "cell_type": "markdown",
   "metadata": {
    "slideshow": {
     "slide_type": "slide"
    }
   },
   "source": [
    "### 1편\n",
    "\n",
    "* 1절 이분검색"
   ]
  },
  {
   "cell_type": "markdown",
   "metadata": {
    "slideshow": {
     "slide_type": "fragment"
    }
   },
   "source": [
    "* 2절 합병정렬"
   ]
  },
  {
   "cell_type": "markdown",
   "metadata": {
    "slideshow": {
     "slide_type": "fragment"
    }
   },
   "source": [
    "* 3절 분할정복 설계방법"
   ]
  },
  {
   "cell_type": "markdown",
   "metadata": {
    "slideshow": {
     "slide_type": "slide"
    }
   },
   "source": [
    "### 2편\n",
    "\n",
    "* 4절 퀵정렬(분할교환정렬)"
   ]
  },
  {
   "cell_type": "markdown",
   "metadata": {
    "slideshow": {
     "slide_type": "fragment"
    }
   },
   "source": [
    "* 5절 슈트라쎈의 행렬곱셈 알고리즘"
   ]
  },
  {
   "cell_type": "markdown",
   "metadata": {
    "slideshow": {
     "slide_type": "fragment"
    }
   },
   "source": [
    "* 8절 분할정복법을 사용할 수 없는 경우"
   ]
  },
  {
   "cell_type": "markdown",
   "metadata": {
    "slideshow": {
     "slide_type": "slide"
    }
   },
   "source": [
    "## 1절 이분검색"
   ]
  },
  {
   "cell_type": "markdown",
   "metadata": {
    "slideshow": {
     "slide_type": "slide"
    }
   },
   "source": [
    "* 분할정복은 재귀 알고리즘으로 쉽게 구현 가능"
   ]
  },
  {
   "cell_type": "markdown",
   "metadata": {
    "slideshow": {
     "slide_type": "slide"
    }
   },
   "source": [
    "### 재귀 예제: 이분검색"
   ]
  },
  {
   "cell_type": "markdown",
   "metadata": {
    "slideshow": {
     "slide_type": "fragment"
    }
   },
   "source": [
    "* 문제: 항목이 __비내림차순(오름차순)으로 정렬된 리스트__ $S$에 $x$가 항목으로 포함되어 있는가?\n",
    "\n",
    "* 입력 파라미터: 리스트 $S$와 값 $x$\n",
    "\n",
    "* 리턴값: \n",
    "    * $x$가 $S$의 항목일 경우: $x$의 위치 인덱스\n",
    "    * 항목이 아닐 경우 -1."
   ]
  },
  {
   "cell_type": "markdown",
   "metadata": {
    "slideshow": {
     "slide_type": "slide"
    }
   },
   "source": [
    "#### 복습: while 반복문을 활용한 이분검색"
   ]
  },
  {
   "cell_type": "code",
   "execution_count": 1,
   "metadata": {
    "slideshow": {
     "slide_type": ""
    }
   },
   "outputs": [],
   "source": [
    "# 이분검색 알고리즘\n",
    "\n",
    "def binsearch(S, x):\n",
    "    low, high = 0, len(S)-1\n",
    "    location = -1\n",
    "\n",
    "    # while 반복문 실행횟수 확인용    \n",
    "    loop_count = 0\n",
    "\n",
    "    while low <= high and location == -1:\n",
    "        loop_count += 1\n",
    "        mid = (low + high)//2\n",
    "\n",
    "        if x == S[mid]:\n",
    "            location = mid\n",
    "        elif x < S[mid]:\n",
    "            high = mid - 1\n",
    "        else:\n",
    "            low = mid + 1\n",
    "    \n",
    "    return (location, loop_count)    "
   ]
  },
  {
   "cell_type": "markdown",
   "metadata": {
    "slideshow": {
     "slide_type": "slide"
    }
   },
   "source": [
    "#### 설계 전략\n",
    "\n",
    "1. $x$가 배열의 중앙에 위치하고 있는 항목과 같으면 해당 항목 인덱스 리턴.\n",
    "2. 그렇지 않으면 아래 실행\n",
    "    * 분할: 배열을 중앙에 위치한 항목을 기준으로 반으로 분할\n",
    "        * $x$가 중앙에 위치한 항목보다 작으면 왼쪽 배열 반쪽 선택\n",
    "        * 그렇지 않으면 오른쪽 배열 반쪽을 선택\n",
    "    * 정복: 선택된 반쪽 배열을 대상으로 1번 단계부터 다시 시작\n",
    "3. 취합: 불필요!"
   ]
  },
  {
   "cell_type": "markdown",
   "metadata": {
    "slideshow": {
     "slide_type": "slide"
    }
   },
   "source": [
    "<div align=\"center\"><img src=\"./images/algo02/algo02-01.png\" width=\"400\"/></div>"
   ]
  },
  {
   "cell_type": "markdown",
   "metadata": {
    "slideshow": {
     "slide_type": "slide"
    }
   },
   "source": [
    "### 재귀 이해\n",
    "\n",
    "* \"정복: 선택된 반쪽 배열을 대상으로 1번 단계부터 다시 시작\" 이라는 표현이 __재귀__를 의미함.\n",
    "* 분할정복으로 재귀 알고리즘을 개발할 때 아래 사항을 고려해야 함.\n",
    "    * 분할한 작은 입력사례의 답으로부터 전체 입력사례에 대한 답을 구하는 방법 고안\n",
    "    * 더 이상 분할이 불가능한 입력사례에 대한 판단할 종료조건 정하기\n",
    "    * 종료조건을 만족하는 경우 답을 구하는 방법 정하기"
   ]
  },
  {
   "cell_type": "markdown",
   "metadata": {
    "slideshow": {
     "slide_type": "slide"
    }
   },
   "source": [
    "### 파이썬 구현: 이분검색 재귀"
   ]
  },
  {
   "cell_type": "code",
   "execution_count": 2,
   "metadata": {
    "slideshow": {
     "slide_type": "slide"
    }
   },
   "outputs": [],
   "source": [
    "# 이분검색 재귀\n",
    "\n",
    "def location(S,x, low, high):\n",
    "    if low > high:\n",
    "        return -1\n",
    "\n",
    "    mid = (low + high)//2\n",
    "    if x == S[mid]:\n",
    "        return mid\n",
    "    elif x < S[mid]:\n",
    "        return location(S, x, low, mid-1)\n",
    "    else:\n",
    "        return location(S, x, mid+1, high)"
   ]
  },
  {
   "cell_type": "code",
   "execution_count": 3,
   "metadata": {
    "slideshow": {
     "slide_type": "fragment"
    }
   },
   "outputs": [
    {
     "name": "stdout",
     "output_type": "stream",
     "text": [
      "4\n"
     ]
    }
   ],
   "source": [
    "sec = [10, 12, 13, 14, 18, 20, 25, 27, 30, 35, 40, 45, 47]\n",
    "x = 18\n",
    "\n",
    "print(location(sec, x, 0, len(sec)-1))"
   ]
  },
  {
   "cell_type": "markdown",
   "metadata": {
    "slideshow": {
     "slide_type": "slide"
    }
   },
   "source": [
    "#### 주의사항\n",
    "\n",
    "* 책 설명과는 달리 `location` 함수의 인자로 `S`와 `x`를 추가하였음.\n",
    "* 이유: `location` 함수를 임의의 리스트와 임의의 값에 대해 사용하기 위해서.\n",
    "* 책에서 `S`와 `x`를 인자로 사용하지 않은 이유:\n",
    "    * `location` 함수를 재귀로 호출할 때마다 `S`와 `x`의 값이 매번 새롭게 할당되어 메모리가 많이 사용됨.\n",
    "* 하지만 파이썬의 경우 기존의 리스트를 가리키는 변수를 재활용 함."
   ]
  },
  {
   "cell_type": "markdown",
   "metadata": {
    "slideshow": {
     "slide_type": "slide"
    }
   },
   "source": [
    "* 참조: [PythonTutor: 이분검색 재귀](http://pythontutor.com/visualize.html#code=%23%20%EC%9D%B4%EB%B6%84%EA%B2%80%EC%83%89%20%EC%9E%AC%EA%B7%80%0A%0Adef%20location%28S,x,%20low,%20high%29%3A%0A%20%20%20%20if%20low%20%3E%20high%3A%0A%20%20%20%20%20%20%20%20return%20-1%0A%0A%20%20%20%20mid%20%3D%20%28low%20%2B%20high%29//2%0A%20%20%20%20if%20x%20%3D%3D%20S%5Bmid%5D%3A%0A%20%20%20%20%20%20%20%20return%20mid%0A%20%20%20%20elif%20x%20%3C%20S%5Bmid%5D%3A%0A%20%20%20%20%20%20%20%20return%20location%28S,%20x,%20low,%20mid-1%29%0A%20%20%20%20else%3A%0A%20%20%20%20%20%20%20%20return%20location%28S,%20x,%20mid%2B1,%20high%29%0A%0Asec%20%3D%20%5B10,%2012,%2013,%2014,%2018,%2020,%2025,%2027,%2030,%2035,%2040,%2045,%2047%5D%0Ax%20%3D%2018%0A%0Aprint%28location%28sec,%20x,%200,%20len%28sec%29-1%29%29&cumulative=false&curInstr=0&heapPrimitives=nevernest&mode=display&origin=opt-frontend.js&py=3&rawInputLstJSON=%5B%5D&textReferences=false)"
   ]
  },
  {
   "cell_type": "markdown",
   "metadata": {
    "slideshow": {
     "slide_type": "slide"
    }
   },
   "source": [
    "### 최악 시간복잡도 분석: 이분검색 재귀"
   ]
  },
  {
   "cell_type": "markdown",
   "metadata": {
    "slideshow": {
     "slide_type": "slide"
    }
   },
   "source": [
    "* 입력크기: 리스트 길이\n",
    "* 단위연산: `x`와 `S[mid]` 비교"
   ]
  },
  {
   "cell_type": "markdown",
   "metadata": {
    "slideshow": {
     "slide_type": "slide"
    }
   },
   "source": [
    "#### $n = 2^k$인 경우\n",
    "\n",
    "* 아래 점화식 성립\n",
    "\n",
    "    \\begin{align*}\n",
    "    W(n) &= W \\Big(\\frac n 2 \\Big) + 1 \\quad \\text{if }\\, n>1\\\\\n",
    "    W(1) &= 1\n",
    "    \\end{align*}\n",
    "\n",
    "* 위 점화식에 대한 해답:\n",
    "\n",
    "    $$W(n) = \\lg n + 1$$"
   ]
  },
  {
   "cell_type": "markdown",
   "metadata": {
    "slideshow": {
     "slide_type": "slide"
    }
   },
   "source": [
    "* 점화식 해답 설명\n",
    "\n",
    "    \\begin{align*}\n",
    "    W(1) &= 1 \\\\\n",
    "    W(2) &= W(1) + 1 = 2 \\\\\n",
    "    W(2^2) &= W(2) + 1 = 3 \\\\\n",
    "    W(2^3) &= W(2^2) + 1 = 4 \\\\\n",
    "    ... & \\\\\n",
    "    W(2^k) &= W(2^{k-1}) + 1 = k+1 = \\lg (2^k) + 1\\\\\n",
    "    \\end{align*}    "
   ]
  },
  {
   "cell_type": "markdown",
   "metadata": {
    "slideshow": {
     "slide_type": "slide"
    }
   },
   "source": [
    "#### 일반적인 경우\n",
    "\n",
    "* 아래 최악 시간복잡도 성립\n",
    "\n",
    "    \\begin{align*}\n",
    "    W(n) &= \\lfloor \\lg n \\rfloor + 1 \\in \\Theta(\\lg n)\n",
    "    \\end{align*}\n",
    "    \n",
    "* 증명: 생략"
   ]
  },
  {
   "cell_type": "markdown",
   "metadata": {
    "slideshow": {
     "slide_type": "slide"
    }
   },
   "source": [
    "## 2절 합병정렬"
   ]
  },
  {
   "cell_type": "markdown",
   "metadata": {
    "slideshow": {
     "slide_type": "slide"
    }
   },
   "source": [
    "* 문제: 리스트의 항목을 비내림차순(오름차순)으로 정렬하기\n",
    "\n",
    "* 입력 파라미터: 리스트 $S$\n",
    "\n",
    "* 리턴값: $S$의 모든 항목을 크기순으로 포함한 리스트"
   ]
  },
  {
   "cell_type": "markdown",
   "metadata": {
    "slideshow": {
     "slide_type": "slide"
    }
   },
   "source": [
    "#### 설계 전략\n",
    "\n",
    "1. 분할: 배열을 반으로 분할\n",
    "2. 정복: 분할된 왼쪽/오른쪽 배열을 대상으로 다음 실행\n",
    "    * 배열의 크기가 2 이상이면 1번 분할 단계로 이동\n",
    "    * 두 배열의 크기가 1이면 3번 통합 단계로 이동\n",
    "3. 통합: 정렬된 두 배열을 합병정렬 후 아직 정복되지 않은 배열이 남아 있는 경우 2번 정복 단계로 이동"
   ]
  },
  {
   "cell_type": "markdown",
   "metadata": {
    "slideshow": {
     "slide_type": "slide"
    }
   },
   "source": [
    "<div align=\"center\"><img src=\"./images/algo02/algo02-02.png\" width=\"400\"/></div>"
   ]
  },
  {
   "cell_type": "markdown",
   "metadata": {
    "slideshow": {
     "slide_type": "slide"
    }
   },
   "source": [
    "### 파이썬 구현: 합병정렬 재귀"
   ]
  },
  {
   "cell_type": "markdown",
   "metadata": {
    "slideshow": {
     "slide_type": "slide"
    }
   },
   "source": [
    "#### 정렬된 두 리스트를 정렬된 리스트로 합병하기\n",
    "\n",
    "* 입력값: 정렬된 두 리스트\n",
    "* 리턴값: 두 리스트의 항목을 비내림차순으로 정렬한 리스트"
   ]
  },
  {
   "cell_type": "markdown",
   "metadata": {
    "slideshow": {
     "slide_type": "slide"
    }
   },
   "source": [
    "#### 예제: 작동법 설명"
   ]
  },
  {
   "cell_type": "markdown",
   "metadata": {
    "slideshow": {
     "slide_type": "fragment"
    }
   },
   "source": [
    "| 비교횟수    | left | right | 합병결과 |\n",
    "| :---: | :--- | :---  | :--- |\n",
    "| 1 | __10__ 12 20 27 | __13__ 15 22 25 | 10 |\n",
    "| 2 | 10 __12__ 20 27 | __13__ 15 22 25 | 10 12 |\n",
    "| 3 | 10 12 __20__ 27 | __13__ 15 22 25 | 10 12 13|\n",
    "| 4 | 10 12 __20__ 27 | 13 __15__ 22 25 | 10 12 13 15|\n",
    "| 5 | 10 12 __20__ 27 | 13 15 __22__ 25 | 10 12 13 15 20 |\n",
    "| 6 | 10 12 20 __27__ | 13 15 __22__ 25 | 10 12 13 15 20 22 |\n",
    "| 7 | 10 12 20 __27__ | 13 15 22 __25__ | 10 12 13 15 20 22 25 |\n",
    "|   | 10 12 20 27 | 13 15 22 25 | 10 12 13 15 20 22 25 27 |\n"
   ]
  },
  {
   "cell_type": "code",
   "execution_count": 4,
   "metadata": {
    "slideshow": {
     "slide_type": "slide"
    }
   },
   "outputs": [],
   "source": [
    "# 정렬된 두 리스트를 정렬된 리스트로 합병하기\n",
    "\n",
    "def merge(lList, rList):\n",
    "    mergedList =[] \n",
    "  \n",
    "    while len(lList)>0 and len(rList)>0: \n",
    "        if lList[0] < rList[0]: \n",
    "            mergedList.append(lList.pop(0))\n",
    "        else: \n",
    "            mergedList.append(rList.pop(0)) \n",
    "\n",
    "    mergedList.extend(lList) \n",
    "    mergedList.extend(rList) \n",
    "                  \n",
    "    return mergedList "
   ]
  },
  {
   "cell_type": "code",
   "execution_count": 5,
   "metadata": {
    "slideshow": {
     "slide_type": "slide"
    }
   },
   "outputs": [
    {
     "data": {
      "text/plain": [
       "[10, 12, 13, 15, 20, 22, 25, 27]"
      ]
     },
     "execution_count": 5,
     "metadata": {},
     "output_type": "execute_result"
    }
   ],
   "source": [
    "a = [10, 12, 20, 27]\n",
    "b = [13, 15, 22, 25]\n",
    "merge(a, b)"
   ]
  },
  {
   "cell_type": "code",
   "execution_count": 6,
   "metadata": {
    "slideshow": {
     "slide_type": "slide"
    }
   },
   "outputs": [],
   "source": [
    "# 합병정렬 재귀\n",
    "\n",
    "def mergesort(aList):\n",
    "    if len(aList) <= 1:\n",
    "        return aList\n",
    "\n",
    "    mid = len(aList) // 2\n",
    "\n",
    "    lList = mergesort(aList[:mid])\n",
    "    rList = mergesort(aList[mid:])\n",
    "\n",
    "    return merge(lList, rList)"
   ]
  },
  {
   "cell_type": "code",
   "execution_count": 7,
   "metadata": {
    "slideshow": {
     "slide_type": "fragment"
    }
   },
   "outputs": [
    {
     "data": {
      "text/plain": [
       "[10, 12, 13, 15, 20, 22, 25, 27]"
      ]
     },
     "execution_count": 7,
     "metadata": {},
     "output_type": "execute_result"
    }
   ],
   "source": [
    "aList = [27, 10, 12, 20, 25, 13, 15, 22]\n",
    "\n",
    "mergesort(aList)"
   ]
  },
  {
   "cell_type": "markdown",
   "metadata": {
    "slideshow": {
     "slide_type": "slide"
    }
   },
   "source": [
    "* 참조: [PythonTutor: 합병정렬 재귀](http://pythontutor.com/visualize.html#code=%23%20%EC%A0%95%EB%A0%AC%EB%90%9C%20%EB%91%90%20%EB%A6%AC%EC%8A%A4%ED%8A%B8%EB%A5%BC%20%EC%A0%95%EB%A0%AC%EB%90%9C%20%EB%A6%AC%EC%8A%A4%ED%8A%B8%EB%A1%9C%20%ED%95%A9%EB%B3%91%ED%95%98%EA%B8%B0%0A%0Adef%20merge%28lList,%20rList%29%3A%0A%20%20%20%20mergedList%20%3D%5B%5D%20%0A%20%20%0A%20%20%20%20while%20len%28lList%29%3E0%20and%20len%28rList%29%3E0%3A%20%0A%20%20%20%20%20%20%20%20if%20lList%5B0%5D%20%3C%20rList%5B0%5D%3A%20%0A%20%20%20%20%20%20%20%20%20%20%20%20mergedList.append%28lList.pop%280%29%29%0A%20%20%20%20%20%20%20%20else%3A%20%0A%20%20%20%20%20%20%20%20%20%20%20%20mergedList.append%28rList.pop%280%29%29%20%0A%0A%20%20%20%20mergedList.extend%28lList%29%20%0A%20%20%20%20mergedList.extend%28rList%29%20%0A%20%20%20%20%20%20%20%20%20%20%20%20%20%20%20%20%20%20%0A%20%20%20%20return%20mergedList%20%0A%0A%23%20%ED%95%A9%EB%B3%91%EC%A0%95%EB%A0%AC%20%EC%9E%AC%EA%B7%80%0A%0Adef%20mergesort%28aList%29%3A%0A%20%20%20%20if%20len%28aList%29%20%3C%3D%201%3A%0A%20%20%20%20%20%20%20%20return%20aList%0A%0A%20%20%20%20mid%20%3D%20len%28aList%29%20//%202%0A%0A%20%20%20%20lList%20%3D%20mergesort%28aList%5B%3Amid%5D%29%0A%20%20%20%20rList%20%3D%20mergesort%28aList%5Bmid%3A%5D%29%0A%0A%20%20%20%20return%20merge%28lList,%20rList%29%0A%0A%0AaList%20%3D%20%5B27,%2010,%2012,%2020,%2025,%2013,%2015,%2022%5D%0A%0Aprint%28mergesort%28aList%29%29&cumulative=false&curInstr=0&heapPrimitives=nevernest&mode=display&origin=opt-frontend.js&py=3&rawInputLstJSON=%5B%5D&textReferences=false)"
   ]
  },
  {
   "cell_type": "markdown",
   "metadata": {
    "slideshow": {
     "slide_type": "slide"
    }
   },
   "source": [
    "### 최악 시간복잡도 분석: 합병(`merge`) 알고리즘"
   ]
  },
  {
   "cell_type": "markdown",
   "metadata": {
    "slideshow": {
     "slide_type": "slide"
    }
   },
   "source": [
    "* 입력크기: 리스트 길이\n",
    "* 단위연산: 비교연산"
   ]
  },
  {
   "cell_type": "markdown",
   "metadata": {
    "slideshow": {
     "slide_type": "slide"
    }
   },
   "source": [
    "#### 최악의 경우 예제: \n",
    "\n",
    "* 오른쪽 리스트의 마지막 원소를 제외한 나머지를 먼저 옮긴다.\n",
    "* 왼쪽 리스트의 모든 원소를 옮긴다.\n",
    "* 오른쪽 마지막 원소를 옮긴다."
   ]
  },
  {
   "cell_type": "code",
   "execution_count": 8,
   "metadata": {
    "slideshow": {
     "slide_type": "slide"
    }
   },
   "outputs": [],
   "source": [
    "def merge_count(lList, rList):\n",
    "    mergedList =[] \n",
    "    count = 0\n",
    "    \n",
    "    while len(lList)>0 and len(rList)>0: \n",
    "        count += 1\n",
    "        if lList[0] < rList[0]: \n",
    "            mergedList.append(lList.pop(0))\n",
    "        else: \n",
    "            mergedList.append(rList.pop(0)) \n",
    "\n",
    "    mergedList.extend(lList) \n",
    "    mergedList.extend(rList) \n",
    "                  \n",
    "    print(f\"count: {count}\")\n",
    "\n",
    "    return mergedList"
   ]
  },
  {
   "cell_type": "code",
   "execution_count": 9,
   "metadata": {
    "slideshow": {
     "slide_type": "slide"
    }
   },
   "outputs": [
    {
     "name": "stdout",
     "output_type": "stream",
     "text": [
      "count: 7\n"
     ]
    },
    {
     "data": {
      "text/plain": [
       "[13, 15, 17, 18, 20, 23, 26, 27]"
      ]
     },
     "execution_count": 9,
     "metadata": {},
     "output_type": "execute_result"
    }
   ],
   "source": [
    "a1 = [18, 20, 23, 26]\n",
    "b1 = [13, 15, 17, 27]\n",
    "merge_count(a1, b1)"
   ]
  },
  {
   "cell_type": "markdown",
   "metadata": {
    "slideshow": {
     "slide_type": "slide"
    }
   },
   "source": [
    "#### 최선의 경우 예제: \n",
    "\n",
    "* 왼쪽 리스트 모든 항목이 오른쪽 리스트의 항목보다 작은 경우"
   ]
  },
  {
   "cell_type": "code",
   "execution_count": 10,
   "metadata": {
    "slideshow": {
     "slide_type": "slide"
    }
   },
   "outputs": [
    {
     "name": "stdout",
     "output_type": "stream",
     "text": [
      "count: 4\n"
     ]
    },
    {
     "data": {
      "text/plain": [
       "[10, 12, 16, 18, 19, 20, 22, 27]"
      ]
     },
     "execution_count": 10,
     "metadata": {},
     "output_type": "execute_result"
    }
   ],
   "source": [
    "a = [10, 12, 16, 18]\n",
    "b = [19, 20, 22, 27]\n",
    "merge_count(a, b)"
   ]
  },
  {
   "cell_type": "markdown",
   "metadata": {
    "slideshow": {
     "slide_type": "slide"
    }
   },
   "source": [
    "### 최악 시간복잡도 분석: 합병정렬(`mergesort`) 알고리즘"
   ]
  },
  {
   "cell_type": "markdown",
   "metadata": {
    "slideshow": {
     "slide_type": "slide"
    }
   },
   "source": [
    "* 입력크기: 리스트 길이\n",
    "* 단위연산: `merge` 함수에서 발생하는 비교연산"
   ]
  },
  {
   "cell_type": "markdown",
   "metadata": {
    "slideshow": {
     "slide_type": "slide"
    }
   },
   "source": [
    "#### $n = 2^k$인 경우"
   ]
  },
  {
   "cell_type": "markdown",
   "metadata": {},
   "source": [
    "* 아래 점화식 성립: $n > 1$ 인 경우\n",
    "    \n",
    "\\begin{align*}\n",
    "W(n) &= W \\Big(\\frac n 2 \\Big) + W \\Big(\\frac n 2 \\Big) + (n-1) \\\\\n",
    "     &= 2\\, W \\Big(\\frac n 2 \\Big) + (n-1)\n",
    "\\end{align*}\n",
    "    \n",
    "* 종료 조건: \n",
    "\n",
    "    $$W(1) = 0$$"
   ]
  },
  {
   "cell_type": "markdown",
   "metadata": {
    "slideshow": {
     "slide_type": "slide"
    }
   },
   "source": [
    "* 위 점화식에 대한 해답:\n",
    "\n",
    "    $$W(n) = n\\, \\lg n - (n- 1) \\in \\Theta(n\\, \\lg n)$$\n",
    "    "
   ]
  },
  {
   "cell_type": "markdown",
   "metadata": {},
   "source": [
    "* 증명: 생략"
   ]
  },
  {
   "cell_type": "markdown",
   "metadata": {
    "slideshow": {
     "slide_type": "slide"
    }
   },
   "source": [
    "#### 일반적인 경우"
   ]
  },
  {
   "cell_type": "markdown",
   "metadata": {
    "slideshow": {
     "slide_type": ""
    }
   },
   "source": [
    "* 아래 점화식 성립:\n",
    "\n",
    "    \\begin{align*}\n",
    "    W(n) &= W \\Big(\\Big\\lfloor \\frac n 2 \\Big\\rfloor\\Big) + W \\Big(\\Big\\lceil\\frac n 2 \\Big\\rceil\\Big) + (n-1)\n",
    "    \\end{align*}"
   ]
  },
  {
   "cell_type": "markdown",
   "metadata": {
    "slideshow": {
     "slide_type": ""
    }
   },
   "source": [
    "* 따라서 다음 최악 시간복잡도 성립\n",
    "\n",
    "    \\begin{align*}\n",
    "    W(n) &\\in \\Theta(n\\,\\lg n)\n",
    "    \\end{align*}\n",
    "    "
   ]
  },
  {
   "cell_type": "markdown",
   "metadata": {
    "slideshow": {
     "slide_type": ""
    }
   },
   "source": [
    "* 증명: 생략"
   ]
  },
  {
   "cell_type": "markdown",
   "metadata": {
    "slideshow": {
     "slide_type": "slide"
    }
   },
   "source": [
    "### 제자리 합병정렬"
   ]
  },
  {
   "cell_type": "markdown",
   "metadata": {
    "slideshow": {
     "slide_type": "slide"
    }
   },
   "source": [
    "* 앞서 살펴본 `mergesort()` 함수는 호출될 때마다 매번 `aList` 인자에 대한 메모리를 새롭게 사용."
   ]
  },
  {
   "cell_type": "markdown",
   "metadata": {
    "slideshow": {
     "slide_type": ""
    }
   },
   "source": [
    "* 이유: 파이썬 리스트의 슬라이싱을 사용하기 때문\n",
    "    \n",
    "    ```python\n",
    "    lList = mergesort(aList[:mid])\n",
    "    rList = mergesort(aList[mid:])\n",
    "    ```"
   ]
  },
  {
   "cell_type": "markdown",
   "metadata": {
    "slideshow": {
     "slide_type": "fragment"
    }
   },
   "source": [
    "* 재귀 함수를 호출할 때 추가 메모리를 사용하지 않는 방법\n",
    "    * `low`와 `high`를 추가 인자로 사용하여 주어진 리스트에서 살펴볼 구간을 가리키도록 함.\n",
    "    "
   ]
  },
  {
   "cell_type": "markdown",
   "metadata": {
    "slideshow": {
     "slide_type": ""
    }
   },
   "source": [
    "* 이런 합병정렬 알고리즘을 __제자리__ 합병정렬이라 부름."
   ]
  },
  {
   "cell_type": "code",
   "execution_count": 11,
   "metadata": {
    "slideshow": {
     "slide_type": "slide"
    }
   },
   "outputs": [],
   "source": [
    "# 제자리 합병정렬 재귀\n",
    "\n",
    "def mergesort2(aList, low, high):\n",
    "    if (low < high):\n",
    "\n",
    "        mid = (low + high) // 2\n",
    "\n",
    "        lList = mergesort2(aList, low, mid)\n",
    "        rList = mergesort2(aList, mid+1, high)\n",
    "\n",
    "        return merge(lList, rList)\n",
    "    return aList[low:low+1]"
   ]
  },
  {
   "cell_type": "code",
   "execution_count": 12,
   "metadata": {
    "slideshow": {
     "slide_type": "fragment"
    }
   },
   "outputs": [
    {
     "name": "stdout",
     "output_type": "stream",
     "text": [
      "[10, 12, 13, 15, 20, 22, 25, 27]\n"
     ]
    }
   ],
   "source": [
    "aList = [27, 10, 12, 20, 25, 13, 15, 22]\n",
    "\n",
    "print(mergesort2(aList, 0, 7))"
   ]
  },
  {
   "cell_type": "markdown",
   "metadata": {
    "slideshow": {
     "slide_type": "slide"
    }
   },
   "source": [
    "* 참조: [PythonTutor: 제자리 합병정렬 재귀](http://pythontutor.com/visualize.html#code=%23%20%EC%A0%95%EB%A0%AC%EB%90%9C%20%EB%91%90%20%EB%A6%AC%EC%8A%A4%ED%8A%B8%EB%A5%BC%20%EC%A0%95%EB%A0%AC%EB%90%9C%20%EB%A6%AC%EC%8A%A4%ED%8A%B8%EB%A1%9C%20%ED%95%A9%EB%B3%91%ED%95%98%EA%B8%B0%0A%0Adef%20merge%28lList,%20rList%29%3A%0A%20%20%20%20mergedList%20%3D%5B%5D%20%0A%20%20%0A%20%20%20%20while%20len%28lList%29%3E0%20and%20len%28rList%29%3E0%3A%20%0A%20%20%20%20%20%20%20%20if%20lList%5B0%5D%20%3C%20rList%5B0%5D%3A%20%0A%20%20%20%20%20%20%20%20%20%20%20%20mergedList.append%28lList.pop%280%29%29%0A%20%20%20%20%20%20%20%20else%3A%20%0A%20%20%20%20%20%20%20%20%20%20%20%20mergedList.append%28rList.pop%280%29%29%20%0A%0A%20%20%20%20mergedList.extend%28lList%29%20%0A%20%20%20%20mergedList.extend%28rList%29%20%0A%20%20%20%20%20%20%20%20%20%20%20%20%20%20%20%20%20%20%0A%20%20%20%20return%20mergedList%20%0A%0A%23%20%EC%A0%9C%EC%9E%90%EB%A6%AC%20%ED%95%A9%EB%B3%91%EC%A0%95%EB%A0%AC%20%EC%9E%AC%EA%B7%80%0A%0Adef%20mergesort2%28aList,%20low,%20high%29%3A%0A%20%20%20%20%0A%20%20%20%20if%20%28low%20%3C%20high%29%3A%0A%0A%20%20%20%20%20%20%20%20mid%20%3D%20%28low%20%2B%20high%29%20//%202%0A%0A%20%20%20%20%20%20%20%20lList%20%3D%20mergesort2%28aList,%20low,%20mid%29%0A%20%20%20%20%20%20%20%20rList%20%3D%20mergesort2%28aList,%20mid%2B1,%20high%29%0A%0A%20%20%20%20%20%20%20%20return%20merge%28lList,%20rList%29%0A%20%20%20%20return%20aList%5Blow%3Alow%2B1%5D%0A%20%20%20%20%0A%0AaList%20%3D%20%5B27,%2010,%2012,%2020,%2025,%2013,%2015,%2022%5D%0A%0Aprint%28mergesort2%28aList,%200,%207%29%29&cumulative=false&curInstr=0&heapPrimitives=nevernest&mode=display&origin=opt-frontend.js&py=3&rawInputLstJSON=%5B%5D&textReferences=false)"
   ]
  },
  {
   "cell_type": "markdown",
   "metadata": {
    "slideshow": {
     "slide_type": "slide"
    }
   },
   "source": [
    "### `mergesort` 와 `mergesort2` 공간복잡도"
   ]
  },
  {
   "cell_type": "markdown",
   "metadata": {
    "slideshow": {
     "slide_type": ""
    }
   },
   "source": [
    "* 두 알고리즘의 시간 복잡도는 동일하지만 공간복잡도는 크게 차이남."
   ]
  },
  {
   "cell_type": "markdown",
   "metadata": {
    "slideshow": {
     "slide_type": "slide"
    }
   },
   "source": [
    "#### `mergesort`의 추가 메모리 공간복잡도\n",
    "\n",
    "* `merge`를 재귀호출할 때마다 입력 리스트만큼 메모리 추가 사용\n",
    "* 따라서 `merge`의 최악 시간복잡도만큼 추가 메모리 사용\n",
    "* 즉, `mergesort` 알고리즘의 추가 메모리 일정 공간복잡도는 $\\Theta(n \\lg n)$"
   ]
  },
  {
   "cell_type": "markdown",
   "metadata": {
    "slideshow": {
     "slide_type": "slide"
    }
   },
   "source": [
    "#### `mergesort2`의 추가 메모리 공간 복잡도\n",
    "\n",
    "* 재귀 호출할 때 추가 메모리를 사용하지 않음. \n",
    "* 즉, 추가 메모리에 대한 일정 공간복잡도는 상수. 즉, $\\Theta(1)$."
   ]
  },
  {
   "cell_type": "markdown",
   "metadata": {
    "slideshow": {
     "slide_type": "slide"
    }
   },
   "source": [
    "#### `mergesort` 와 `mergesort2`의 실행시간 비교"
   ]
  },
  {
   "cell_type": "markdown",
   "metadata": {
    "slideshow": {
     "slide_type": ""
    }
   },
   "source": [
    "* 실행시간 거의 차이 없음. 즉, 공간복잡도의 차이가 실행시간에 크게 영향 미치지는 않음.\n",
    "* `merge` 함수를 실행할 때 드는 비용이 절대적이기 때문."
   ]
  },
  {
   "cell_type": "code",
   "execution_count": 13,
   "metadata": {
    "slideshow": {
     "slide_type": "slide"
    }
   },
   "outputs": [],
   "source": [
    "# 시간 측정을 위한 모듈\n",
    "\n",
    "import time"
   ]
  },
  {
   "cell_type": "code",
   "execution_count": 14,
   "metadata": {
    "slideshow": {
     "slide_type": ""
    }
   },
   "outputs": [
    {
     "name": "stdout",
     "output_type": "stream",
     "text": [
      "걸린시간: 95.59초\n"
     ]
    }
   ],
   "source": [
    "bigNum = 1000000\n",
    "reversedList = list(range(bigNum, 0, -1))\n",
    "\n",
    "start_time = time.time()\n",
    "mergesort(reversedList)\n",
    "end_time = time.time()\n",
    "\n",
    "duration = end_time - start_time\n",
    "print(f\"걸린시간: {duration:.2f}초\")"
   ]
  },
  {
   "cell_type": "code",
   "execution_count": 15,
   "metadata": {
    "slideshow": {
     "slide_type": "slide"
    }
   },
   "outputs": [
    {
     "name": "stdout",
     "output_type": "stream",
     "text": [
      "걸린시간: 96.02초\n"
     ]
    }
   ],
   "source": [
    "bigNum = 1000000\n",
    "reversedList = list(range(bigNum, 0, -1))\n",
    "\n",
    "start_time = time.time()\n",
    "mergesort2(reversedList, 0, bigNum)\n",
    "end_time = time.time()\n",
    "\n",
    "duration = end_time - start_time\n",
    "print(f\"걸린시간: {duration:.2f}초\")"
   ]
  },
  {
   "cell_type": "markdown",
   "metadata": {
    "slideshow": {
     "slide_type": "slide"
    }
   },
   "source": [
    "## 3절 분할정복 전략"
   ]
  },
  {
   "cell_type": "markdown",
   "metadata": {
    "slideshow": {
     "slide_type": ""
    }
   },
   "source": [
    "* 분할(Divide)\n",
    "    * 입력사례를 여러 개의 보다 작은 입력 사례로 분할한다."
   ]
  },
  {
   "cell_type": "markdown",
   "metadata": {
    "slideshow": {
     "slide_type": "fragment"
    }
   },
   "source": [
    "* 정복(Conquer: 해결)\n",
    "    * 각각의 보다 작은 입력사례에 대한 문제를 해결한다. \n",
    "    * 입력사례가 충분히 작지 않으면 분할 과정으로 돌아간다."
   ]
  },
  {
   "cell_type": "markdown",
   "metadata": {
    "slideshow": {
     "slide_type": "fragment"
    }
   },
   "source": [
    "* (필요한 경우) 취합\n",
    "    * 보다 작은 입력사례에 대한 해답을 취합하여 원래 문제에 대한 해답을 구한다."
   ]
  }
 ],
 "metadata": {
  "celltoolbar": "Slideshow",
  "kernelspec": {
   "display_name": "Python 3",
   "language": "python",
   "name": "python3"
  },
  "language_info": {
   "codemirror_mode": {
    "name": "ipython",
    "version": 3
   },
   "file_extension": ".py",
   "mimetype": "text/x-python",
   "name": "python",
   "nbconvert_exporter": "python",
   "pygments_lexer": "ipython3",
   "version": "3.7.6"
  }
 },
 "nbformat": 4,
 "nbformat_minor": 4
}
