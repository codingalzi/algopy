{
 "cells": [
  {
   "cell_type": "markdown",
   "metadata": {},
   "source": [
    "# 1장 강좌 소개 3부"
   ]
  },
  {
   "cell_type": "markdown",
   "metadata": {},
   "source": [
    "Copyright (C)  Brad Miller, David Ranum.\n",
    "This work is licensed under the Creative Commons Attribution-NonCommercial-ShareAlike 4.0 International License. To view a copy of this license, visit http://creativecommons.org/licenses/by-nc-sa/4.0/."
   ]
  },
  {
   "cell_type": "markdown",
   "metadata": {},
   "source": [
    "## 1.13 파이썬 활용 객체 지향 프로그래밍(OOP): 클래스 정의"
   ]
  },
  {
   "cell_type": "markdown",
   "metadata": {},
   "source": [
    "파이썬은 객체 지향 프로그래밍 언어이며,\n",
    "지금까지 다양한 내장 클래스를 이용한 자료형와 자료 구조를 살펴보았다.\n",
    "객체 지향 프로그래밍 언어의 가장 큰 장점 중의 하나는 사용자가 직접\n",
    "문제 해결에 필요한 자료형을 클래스를 이용하여 정의할 수 있는 것이다. \n",
    "\n",
    "여기서는 추상 자료형(ADT)을 이용하여 새로운 자료형을 정의하는 것을 다룬다.\n",
    "즉, 자료형이 가져야 하는 __상태__(state)와 __기능__(메서드)를 이용하여 클래스를 정의한다. \n",
    "참고로 추상 자료형을 정의과정은 해당 자료형의 활용법을 잘 설명한다. "
   ]
  },
  {
   "cell_type": "markdown",
   "metadata": {},
   "source": [
    "### 예제: `Fraction` 클래스 정의하기"
   ]
  },
  {
   "cell_type": "markdown",
   "metadata": {},
   "source": [
    "분수들의 클래스를 추상 자료형으로 정의해보자.\n",
    "`Fraction` 클래스의 상태는 아래 정보를 담는다.\n",
    "\n",
    "- 분수는 임의의 정수를 갖는 분자와 임의의 0이 아닌 정수를 갖는 분모로 구성된다.\n",
    "\n",
    "`Fraction` 클래스는 기본적으로 분수들의 사칙연산 기능을 제공해야 한다.\n",
    "또한 '3/5'와 같이 표현할 수 있어야 하며, 사칙연산의 계산결과는\n",
    "모두 기약분수로 표현되도록 한다.\n",
    "\n",
    "파이썬을 이용한 클래스 정의 형식은 다음과 같다.\n",
    "\n",
    "```python\n",
    "class Fraction:\n",
    "    \n",
    "    # 상태 지정 및 메서드 선언\n",
    "```"
   ]
  },
  {
   "cell_type": "markdown",
   "metadata": {},
   "source": [
    "#### 클래스 생성자"
   ]
  },
  {
   "cell_type": "markdown",
   "metadata": {},
   "source": [
    "모든 파이썬 클래스는 __생성자__라는 `__init__()` 메서드가 포함되어야 한다. \n",
    "생성자는 생성되는 클래스의 인스턴스(instance)의 상태 정보에 필요한 값들을\n",
    "인자로 받는다.\n",
    "`Fraction` 클래스의 경우 분자와 분모에 해당하는 값을 받아 지정된 값으로 \n",
    "이루어진 분수를 하나의 객체로 생성하는 데에 사용한다."
   ]
  },
  {
   "cell_type": "code",
   "execution_count": 1,
   "metadata": {},
   "outputs": [],
   "source": [
    "class Fraction:\n",
    "    \"\"\"Fraction 클래스\"\"\"\n",
    "    def __init__(self, top, bottom):\n",
    "        \"\"\"생성자 메서드\n",
    "        top: 분자\n",
    "        bottom: 분모\n",
    "        \"\"\"\n",
    "        self.num = top\n",
    "        self.den = bottom"
   ]
  },
  {
   "cell_type": "markdown",
   "metadata": {},
   "source": [
    "`Fraction` 클래스의 생성자에 사용된 매개변수(parameter)와 인스턴스 변수는 다음과 같다.\n",
    "\n",
    "- `self`: 생성되는 인스턴스 자신을 가리킴. 파이썬 클래스의 모든 (인스턴스) 메서드의 첫째 인자로 사용됨.\n",
    "    메서드를 호출할 때 `self`에 대한 인자는 사용하지 않음.\n",
    "- `top`: 생성되는 분수의 분자로 사용될 값을 받는 매개변수\n",
    "- `bottom`: 생성되는 분수의 분모로 사용될 값을 받는 매개변수\n",
    "- `self.num`: 생성되는 분수의 분자로 사용되는 값을 가리키는 인스턴스 변수(속성 변수)\n",
    "- `self.den`: 생성되는 분수의 분모로 사용되는 값을 가리키는 인스턴스 변수(속성 변수)\n",
    "\n",
    "`self.num`과 `self.den`이 생성되는 분수의 상태(state)를 저장하는 역할을 수행한다."
   ]
  },
  {
   "cell_type": "markdown",
   "metadata": {},
   "source": [
    "#### 인스턴스 생성"
   ]
  },
  {
   "cell_type": "markdown",
   "metadata": {},
   "source": [
    "`Fraction` 클래스의 인스턴스, 즉 __하나의 분수에 해당하는 객체__를 선언하려면\n",
    "생성자 함수는 `__init__()` 메서드를 분자, 분모에 해당하는 인자와 함께 호출해야 한다.\n",
    "생성자를 호출하려면 아래처럼 클래스 이름을 마치 함수처럼 활용한다."
   ]
  },
  {
   "cell_type": "code",
   "execution_count": 2,
   "metadata": {},
   "outputs": [],
   "source": [
    "my_fraction = Fraction(3, 5)"
   ]
  },
  {
   "cell_type": "markdown",
   "metadata": {},
   "source": [
    "`my_fraction` 변수는 $\\frac {3}{5}$에 해당하는 객체를 가리킨다(<그림 5> 참조)."
   ]
  },
  {
   "cell_type": "markdown",
   "metadata": {},
   "source": [
    "<figure>\n",
    "<img src=\"https://raw.githubusercontent.com/codingalzi/problem_solving_with_algorithms/master/_sources/Introduction/Figures/fraction1.png\" width=\"50%\">\n",
    "    <figcaption>그림 5: Fraction 클래스의 인스턴스</figcaption>\n",
    "</figure>"
   ]
  },
  {
   "cell_type": "markdown",
   "metadata": {},
   "source": [
    "#### 매직 메서드"
   ]
  },
  {
   "cell_type": "markdown",
   "metadata": {},
   "source": [
    "`my_frantion`이 가리키는 분수는 '3/5'에 해당하는 분수이다. \n",
    "그런데 `print()` 함수를 이용하여 이 사실을 확인하려면 \n",
    "이상한 결과만 확인한다."
   ]
  },
  {
   "cell_type": "code",
   "execution_count": 3,
   "metadata": {},
   "outputs": [
    {
     "name": "stdout",
     "output_type": "stream",
     "text": [
      "<__main__.Fraction object at 0x0000023E371C2130>\n"
     ]
    }
   ],
   "source": [
    "print(my_fraction)"
   ]
  },
  {
   "cell_type": "markdown",
   "metadata": {},
   "source": [
    "이유는 `Fraction` 클래스가 자신의 인스턴스를 소개하는 기능을 제공하지 않았기 때문이다. \n",
    "결국 `my_fraction` 입장에서는 자신이 어떤 클래스의 인스턴스이며 \n",
    "자신이 저장된 메모리 주소만을 알려준다. "
   ]
  },
  {
   "cell_type": "markdown",
   "metadata": {},
   "source": [
    "##### `__str__()` 메서드"
   ]
  },
  {
   "cell_type": "markdown",
   "metadata": {},
   "source": [
    "파이썬의 모든 클래스는 생성자와 함께 기본적으로 포함하는 메서드 목록이 있다. \n",
    "이유는 파이썬의 모든 클래스는 기본적으로 최상위 클래스인 `object` 클래스를 \n",
    "상속한다.\n",
    "따라서 `Fraction` 클래스의 엄밀한 정의는 다음과 같다. "
   ]
  },
  {
   "cell_type": "code",
   "execution_count": 4,
   "metadata": {},
   "outputs": [],
   "source": [
    "class Fraction(object):\n",
    "    \"\"\"Fraction 클래스\"\"\"\n",
    "\n",
    "    def __init__(self, top, bottom):\n",
    "        \"\"\"생성자 메서드\n",
    "        top: 분자\n",
    "        bottom: 분모\n",
    "        \"\"\"\n",
    "        self.num = top\n",
    "        self.den = bottom"
   ]
  },
  {
   "cell_type": "markdown",
   "metadata": {},
   "source": [
    "상속을 통해 `__init__()` 등 기본으로 지정된 메서드를 여러 개 함께 상속한다.\n",
    "이렇게 자동으로 상속받으며 두 개의 밑줄이 양쪽을 감싼느 메서드를 __매직 메서드__(magic method)라 부르며,\n",
    "이중에 `__str__()` 메서드도 포함된다.\n",
    "이 사실을  `dir()` 함수를 이용하여 확인할 수 있다."
   ]
  },
  {
   "cell_type": "code",
   "execution_count": 5,
   "metadata": {},
   "outputs": [
    {
     "data": {
      "text/plain": [
       "['__class__',\n",
       " '__delattr__',\n",
       " '__dict__',\n",
       " '__dir__',\n",
       " '__doc__',\n",
       " '__eq__',\n",
       " '__format__',\n",
       " '__ge__',\n",
       " '__getattribute__',\n",
       " '__gt__',\n",
       " '__hash__',\n",
       " '__init__',\n",
       " '__init_subclass__',\n",
       " '__le__',\n",
       " '__lt__',\n",
       " '__module__',\n",
       " '__ne__',\n",
       " '__new__',\n",
       " '__reduce__',\n",
       " '__reduce_ex__',\n",
       " '__repr__',\n",
       " '__setattr__',\n",
       " '__sizeof__',\n",
       " '__str__',\n",
       " '__subclasshook__',\n",
       " '__weakref__']"
      ]
     },
     "execution_count": 5,
     "metadata": {},
     "output_type": "execute_result"
    }
   ],
   "source": [
    "dir(Fraction)"
   ]
  },
  {
   "cell_type": "markdown",
   "metadata": {},
   "source": [
    "언급된 매직메서드 각자는 고유의 역할을 수행하기에 준비되었지만 대부분 본체가 없는,\n",
    "즉 제대로 정의되지 않은 채로 상속된다. \n",
    "이 중에 `__str__()` 메서드는 해당 클래스의 인스턴스를 `print()` 함수를 통해\n",
    "어떻게 보여줄 것인가를 문자열로 지정하는 함수로 활용된다."
   ]
  },
  {
   "cell_type": "markdown",
   "metadata": {},
   "source": [
    "`Fraction` 클래스를 선언할 때 `__str__()` 메서드를 아래처럼 재정의(overriding) 해보자."
   ]
  },
  {
   "cell_type": "code",
   "execution_count": 6,
   "metadata": {},
   "outputs": [],
   "source": [
    "class Fraction:\n",
    "    \"\"\"Fraction 클래스\"\"\"\n",
    "\n",
    "    def __init__(self, top, bottom):\n",
    "        \"\"\"생성자 메서드\n",
    "        top: 분자\n",
    "        bottom: 분모\n",
    "        \"\"\"\n",
    "        self.num = top\n",
    "        self.den = bottom\n",
    "\n",
    "    def __str__(self):\n",
    "        return f\"{self.num}/{self.den}\""
   ]
  },
  {
   "cell_type": "code",
   "execution_count": 7,
   "metadata": {},
   "outputs": [],
   "source": [
    "my_fraction = Fraction(3, 5)"
   ]
  },
  {
   "cell_type": "markdown",
   "metadata": {},
   "source": [
    "이제 `print()` 함수가 원했던 대로 작동한다."
   ]
  },
  {
   "cell_type": "code",
   "execution_count": 8,
   "metadata": {},
   "outputs": [
    {
     "name": "stdout",
     "output_type": "stream",
     "text": [
      "3/5\n"
     ]
    }
   ],
   "source": [
    "print(my_fraction)"
   ]
  },
  {
   "cell_type": "markdown",
   "metadata": {},
   "source": [
    "`__str__()` 메서드를 직접 호출해도 동일한 결과를 얻는다. "
   ]
  },
  {
   "cell_type": "code",
   "execution_count": 9,
   "metadata": {},
   "outputs": [
    {
     "data": {
      "text/plain": [
       "'3/5'"
      ]
     },
     "execution_count": 9,
     "metadata": {},
     "output_type": "execute_result"
    }
   ],
   "source": [
    "my_fraction.__str__()"
   ]
  },
  {
   "cell_type": "code",
   "execution_count": 10,
   "metadata": {},
   "outputs": [
    {
     "name": "stdout",
     "output_type": "stream",
     "text": [
      "피자의 3/5를 먹었다.\n"
     ]
    }
   ],
   "source": [
    "print(f\"피자의 {my_fraction}를 먹었다.\")"
   ]
  },
  {
   "cell_type": "markdown",
   "metadata": {},
   "source": [
    "`str()` 함수는 인자로 사용된 객체가 제공하는 `__str__()` 메서드를 내부에서 호출한다."
   ]
  },
  {
   "cell_type": "code",
   "execution_count": 11,
   "metadata": {},
   "outputs": [
    {
     "data": {
      "text/plain": [
       "'3/5'"
      ]
     },
     "execution_count": 11,
     "metadata": {},
     "output_type": "execute_result"
    }
   ],
   "source": [
    "str(my_fraction)"
   ]
  },
  {
   "cell_type": "markdown",
   "metadata": {},
   "source": [
    "#### 연산자 중복정의(overloading)"
   ]
  },
  {
   "cell_type": "markdown",
   "metadata": {},
   "source": [
    "분수의 덧셈을 시도하면 오류가 발생한다."
   ]
  },
  {
   "cell_type": "code",
   "execution_count": 12,
   "metadata": {},
   "outputs": [],
   "source": [
    "f1 = Fraction(1, 4)\n",
    "f2 = Fraction(1, 2)"
   ]
  },
  {
   "cell_type": "code",
   "execution_count": 13,
   "metadata": {},
   "outputs": [
    {
     "ename": "TypeError",
     "evalue": "unsupported operand type(s) for +: 'Fraction' and 'Fraction'",
     "output_type": "error",
     "traceback": [
      "\u001b[1;31m---------------------------------------------------------------------------\u001b[0m",
      "\u001b[1;31mTypeError\u001b[0m                                 Traceback (most recent call last)",
      "\u001b[1;32m<ipython-input-13-ad0256b81ae0>\u001b[0m in \u001b[0;36m<module>\u001b[1;34m\u001b[0m\n\u001b[1;32m----> 1\u001b[1;33m \u001b[0mf1\u001b[0m \u001b[1;33m+\u001b[0m \u001b[0mf2\u001b[0m\u001b[1;33m\u001b[0m\u001b[1;33m\u001b[0m\u001b[0m\n\u001b[0m",
      "\u001b[1;31mTypeError\u001b[0m: unsupported operand type(s) for +: 'Fraction' and 'Fraction'"
     ]
    }
   ],
   "source": [
    "f1 + f2"
   ]
  },
  {
   "cell_type": "markdown",
   "metadata": {},
   "source": [
    "이유는 덧셈 연산자 `+`가 `Fraction` 클래스의 인스턴스에 대해 지원되지 않기 때문이다. "
   ]
  },
  {
   "cell_type": "markdown",
   "metadata": {},
   "source": [
    "##### `__add__()` 메서드"
   ]
  },
  {
   "cell_type": "markdown",
   "metadata": {},
   "source": [
    "덧셈, 뺄셈 등 사칙연산에 대해 일반적으로 사용되는 기호를 사용하려면\n",
    "각각의 기호에 해당하는 매직 메서드를 선언해야 한다. \n",
    "예를 들어 분수의 덧셈을 위해 `+` 연산자를 사용하려면 \n",
    "`Fraction` 클래스에 `__add__()` 메서드가 적절하게 정의되어 있어야 한다.\n",
    "그러면 아래 표현식은 `f1 + f2`에 해당하는 값을 가리키게 된다."
   ]
  },
  {
   "cell_type": "markdown",
   "metadata": {},
   "source": [
    "```python\n",
    "f1.__add__(f2)\n",
    "```"
   ]
  },
  {
   "cell_type": "markdown",
   "metadata": {},
   "source": [
    "분수의 덧셈은 아래와 같이 정의된다.\n",
    "\n",
    "$$\\frac {a}{b} + \\frac {c}{d} = \\frac {ad}{bd} + \\frac {cb}{bd} = \\frac{ad+cb}{bd}$$\n",
    "\n",
    "이를 구현하는 `__add__()` 메서드를 `Fraction` 클래스에 추가하자."
   ]
  },
  {
   "cell_type": "code",
   "execution_count": 14,
   "metadata": {},
   "outputs": [],
   "source": [
    "class Fraction:\n",
    "    \"\"\"Fraction 클래스\"\"\"\n",
    "\n",
    "    def __init__(self, top, bottom):\n",
    "        \"\"\"생성자 메서드\n",
    "        top: 분자\n",
    "        bottom: 분모\n",
    "        \"\"\"\n",
    "        self.num = top\n",
    "        self.den = bottom\n",
    "\n",
    "    def __str__(self):\n",
    "        return f\"{self.num}/{self.den}\"\n",
    "\n",
    "    def __add__(self, other_fraction):\n",
    "        new_num = self.num * other_fraction.den + \\\n",
    "                    self.den * other_fraction.num\n",
    "        new_den = self.den * other_fraction.den\n",
    "\n",
    "        return Fraction(new_num, new_den)"
   ]
  },
  {
   "cell_type": "code",
   "execution_count": 15,
   "metadata": {},
   "outputs": [
    {
     "name": "stdout",
     "output_type": "stream",
     "text": [
      "6/8\n"
     ]
    }
   ],
   "source": [
    "f1 = Fraction(1, 4)\n",
    "f2 = Fraction(1, 2)\n",
    "f3 = f1 + f2\n",
    "print(f3)"
   ]
  },
  {
   "cell_type": "markdown",
   "metadata": {},
   "source": [
    "덧셈이 잘 작동하지만 결과값이 기약분수의 형태가 아니다. \n",
    "기약분수를 계산하려면 최대공약수(gcd)를 계산하는 알고리즘이 필요하다."
   ]
  },
  {
   "cell_type": "markdown",
   "metadata": {},
   "source": [
    "##### 유클리드 호젯법"
   ]
  },
  {
   "cell_type": "markdown",
   "metadata": {},
   "source": [
    "두 개의 정수 $m$과 $n$의 최대공약수를 가장 빠르고 효율적으로 계산하는 기법은 유클리드 호젯법이다.\n",
    "\n",
    "- $m$을 $n$으로 나눌 수 있으면 $n$이 최대공약수이다.\n",
    "- 그렇지 않으면 $n$과 $m\\,\\%\\, n$의 최대공약수가 원하는 최대공약수이다.\n",
    "\n",
    "위 기법을 구현하면 다음과 같다."
   ]
  },
  {
   "cell_type": "code",
   "execution_count": 16,
   "metadata": {},
   "outputs": [],
   "source": [
    "def gcd(m, n):\n",
    "    while m % n != 0:\n",
    "        m, n = n, m % n\n",
    "    return n"
   ]
  },
  {
   "cell_type": "code",
   "execution_count": 17,
   "metadata": {},
   "outputs": [
    {
     "name": "stdout",
     "output_type": "stream",
     "text": [
      "10\n"
     ]
    }
   ],
   "source": [
    "print(gcd(20, 10))"
   ]
  },
  {
   "cell_type": "code",
   "execution_count": 18,
   "metadata": {},
   "outputs": [
    {
     "name": "stdout",
     "output_type": "stream",
     "text": [
      "10\n"
     ]
    }
   ],
   "source": [
    "print(gcd(20, 30))"
   ]
  },
  {
   "cell_type": "markdown",
   "metadata": {},
   "source": [
    "`gcd()` 함수를 `__add__()` 함수의 정의해 활용하자. "
   ]
  },
  {
   "cell_type": "code",
   "execution_count": 19,
   "metadata": {},
   "outputs": [],
   "source": [
    "class Fraction:\n",
    "    \"\"\"Fraction 클래스\"\"\"\n",
    "\n",
    "    def __init__(self, top, bottom):\n",
    "        \"\"\"생성자 메서드\n",
    "        top: 분자\n",
    "        bottom: 분모\n",
    "        \"\"\"\n",
    "        self.num = top\n",
    "        self.den = bottom\n",
    "\n",
    "    def __str__(self):\n",
    "        return f\"{self.num}/{self.den}\"\n",
    "\n",
    "    def __add__(self, other_fraction):\n",
    "        new_num = self.num * other_fraction.den + \\\n",
    "                     self.den * other_fraction.num\n",
    "        new_den = self.den * other_fraction.den\n",
    "        common = gcd(new_num, new_den)\n",
    "        \n",
    "        return Fraction(new_num // common, new_den // common)"
   ]
  },
  {
   "cell_type": "markdown",
   "metadata": {},
   "source": [
    "이제 `Fraction`의 인스턴스는 모두 두 개의 메서드를 갖는다(<그림 6>). "
   ]
  },
  {
   "cell_type": "markdown",
   "metadata": {},
   "source": [
    "<figure>\n",
    "<img src=\"https://raw.githubusercontent.com/codingalzi/problem_solving_with_algorithms/master/_sources/Introduction/Figures/fraction2.png\" width=\"50%\">\n",
    "    <figcaption>그림 6: 두 개의 메서드를 갖는 Fraction 클래스의 인스턴스</figcaption>\n",
    "</figure>"
   ]
  },
  {
   "cell_type": "markdown",
   "metadata": {},
   "source": [
    "이제 8/6이 아니라 3/4를 반환한다."
   ]
  },
  {
   "cell_type": "code",
   "execution_count": 20,
   "metadata": {},
   "outputs": [
    {
     "name": "stdout",
     "output_type": "stream",
     "text": [
      "3/4\n"
     ]
    }
   ],
   "source": [
    "f1 = Fraction(1, 4)\n",
    "f2 = Fraction(1, 2)\n",
    "f3 = f1 + f2\n",
    "print(f3)"
   ]
  },
  {
   "cell_type": "markdown",
   "metadata": {},
   "source": [
    "##### 동등성과 동일성"
   ]
  },
  {
   "cell_type": "markdown",
   "metadata": {},
   "source": [
    "두 객체의 __동일성__(identity) 여부는 비교되는 두 객체가 동일한 메모리 주소에 저장되었는가에 따라 결정된다.\n",
    "반면에 메모리의 주소가 아니라 객체가 표현하는 값의 동일성 여부에 따라\n",
    "두 값을 비교 판정하는 것은 __동등성__(equality) 여부이다. \n",
    "예를 들어, 아래 두 객체 모두 분수 1/2를 객체를 가리키지만 서로 독립적으로 생성되었기에\n",
    "서로 다른 메모리에 저장되며, 따라서 두 변수 `x`와 `y`는 서로 다른 객체를 참조한다.\n",
    "따라서 두 변수가 참조하는 값은 동등하지 않다고 판정된다.\n",
    "이와같이 두 값의 동등성을 판단하는 것을 __얕은 동등성__(shallow equality)이라 부른다."
   ]
  },
  {
   "cell_type": "code",
   "execution_count": 21,
   "metadata": {},
   "outputs": [
    {
     "data": {
      "text/plain": [
       "False"
      ]
     },
     "execution_count": 21,
     "metadata": {},
     "output_type": "execute_result"
    }
   ],
   "source": [
    "x = Fraction(1, 2)\n",
    "y = Fraction(1, 2)\n",
    "x == y"
   ]
  },
  {
   "cell_type": "markdown",
   "metadata": {},
   "source": [
    "물론 두 객체가 동일하지 않다고 판단된다."
   ]
  },
  {
   "cell_type": "code",
   "execution_count": 22,
   "metadata": {},
   "outputs": [
    {
     "data": {
      "text/plain": [
       "False"
      ]
     },
     "execution_count": 22,
     "metadata": {},
     "output_type": "execute_result"
    }
   ],
   "source": [
    "x is y"
   ]
  },
  {
   "cell_type": "markdown",
   "metadata": {},
   "source": [
    "__참고__: [PythonTutor-얕은 동등성](https://pythontutor.com/visualize.html#code=class%20Fraction%3A%0A%20%20%20%20%22%22%22Fraction%20%ED%81%B4%EB%9E%98%EC%8A%A4%22%22%22%0A%0A%20%20%20%20def%20__init__%28self,%20top,%20bottom%29%3A%0A%20%20%20%20%20%20%20%20%22%22%22%EC%83%9D%EC%84%B1%EC%9E%90%20%EB%A9%94%EC%84%9C%EB%93%9C%0A%20%20%20%20%20%20%20%20top%3A%20%EB%B6%84%EC%9E%90%0A%20%20%20%20%20%20%20%20bottom%3A%20%EB%B6%84%EB%AA%A8%0A%20%20%20%20%20%20%20%20%22%22%22%0A%20%20%20%20%20%20%20%20self.num%20%3D%20top%0A%20%20%20%20%20%20%20%20self.den%20%3D%20bottom%0A%0A%20%20%20%20def%20__str__%28self%29%3A%0A%20%20%20%20%20%20%20%20return%20f%22%7Bself.num%7D/%7Bself.den%7D%22%0A%0A%20%20%20%20def%20__add__%28self,%20other_fraction%29%3A%0A%20%20%20%20%20%20%20%20new_num%20%3D%20self.num%20*%20other_fraction.den%20%2B%20%5C%0A%20%20%20%20%20%20%20%20%20%20%20%20%20%20%20%20%20%20%20%20%20self.den%20*%20other_fraction.num%0A%20%20%20%20%20%20%20%20new_den%20%3D%20self.den%20*%20other_fraction.den%0A%20%20%20%20%20%20%20%20common%20%3D%20gcd%28new_num,%20new_den%29%0A%20%20%20%20%20%20%20%20%0A%20%20%20%20%20%20%20%20return%20Fraction%28new_num%20//%20common,%20new_den%20//%20common%29%0A%0Ax%20%3D%20Fraction%281,%202%29%0Ay%20%3D%20Fraction%281,%202%29%0Aprint%28x%20%3D%3D%20y%29&cumulative=false&curInstr=0&heapPrimitives=nevernest&mode=display&origin=opt-frontend.js&py=3&rawInputLstJSON=%5B%5D&textReferences=false)"
   ]
  },
  {
   "cell_type": "markdown",
   "metadata": {},
   "source": [
    "반면에 아래처럼 두 변수가 참조하는 객체를 동일(identical)하게 하면 당연히 다른 결과가 나온다."
   ]
  },
  {
   "cell_type": "code",
   "execution_count": 23,
   "metadata": {},
   "outputs": [
    {
     "name": "stdout",
     "output_type": "stream",
     "text": [
      "True\n",
      "True\n"
     ]
    }
   ],
   "source": [
    "x = Fraction(1, 2)\n",
    "y = x\n",
    "print(x == y)\n",
    "print(x is y)"
   ]
  },
  {
   "cell_type": "markdown",
   "metadata": {},
   "source": [
    "<figure>\n",
    "<img src=\"https://raw.githubusercontent.com/codingalzi/problem_solving_with_algorithms/master/_sources/Introduction/Figures/fraction3.png\" width=\"80%\">\n",
    "    <figcaption>표 7: 얕은 동일성 대 깊은 동일성</figcaption>\n",
    "</figure>"
   ]
  },
  {
   "cell_type": "markdown",
   "metadata": {},
   "source": [
    "반면에 __깊은 동등성__(deep equality)은 두 객체가 (의도된) 동일한 값을\n",
    "가리키는가 여부를 결정하며, 이를 위해 \n",
    "`__eq__` 매직 메서드를 이용한다.\n",
    "두 분수의 동등성은 아래와 같이 정의된다.\n",
    "\n",
    "$$\\frac {a}{b} = \\frac {c}{d} \\Longleftrightarrow ad = bc$$\n",
    "\n",
    "이를 구현하는 `__eq__()` 메서드를 `Fraction` 클래스에 추가하자."
   ]
  },
  {
   "cell_type": "code",
   "execution_count": 24,
   "metadata": {},
   "outputs": [],
   "source": [
    "class Fraction:\n",
    "    \"\"\"Fraction 클래스\"\"\"\n",
    "\n",
    "    def __init__(self, top, bottom):\n",
    "        \"\"\"생성자 메서드\n",
    "        top: 분자\n",
    "        bottom: 분모\n",
    "        \"\"\"\n",
    "        self.num = top\n",
    "        self.den = bottom\n",
    "\n",
    "    def __str__(self):\n",
    "        return f\"{self.num}/{self.den}\"\n",
    "\n",
    "    def __add__(self, other_fraction):\n",
    "        new_num = self.num * other_fraction.den + \\\n",
    "                     self.den * other_fraction.num\n",
    "        new_den = self.den * other_fraction.den\n",
    "        common = gcd(new_num, new_den)\n",
    "        \n",
    "        return Fraction(new_num // common, new_den // common)\n",
    "\n",
    "    def __eq__(self, other_fraction):\n",
    "        first_num = self.num * other_fraction.den\n",
    "        second_num = other_fraction.num * self.den\n",
    "\n",
    "        return first_num == second_num"
   ]
  },
  {
   "cell_type": "code",
   "execution_count": 25,
   "metadata": {},
   "outputs": [
    {
     "name": "stdout",
     "output_type": "stream",
     "text": [
      "True\n"
     ]
    }
   ],
   "source": [
    "x = Fraction(1, 2)\n",
    "y = Fraction(1, 2)\n",
    "print(x == y)"
   ]
  },
  {
   "cell_type": "code",
   "execution_count": 26,
   "metadata": {},
   "outputs": [
    {
     "name": "stdout",
     "output_type": "stream",
     "text": [
      "False\n"
     ]
    }
   ],
   "source": [
    "x = Fraction(1, 2)\n",
    "y = Fraction(2, 3)\n",
    "print(x == y)"
   ]
  },
  {
   "cell_type": "markdown",
   "metadata": {},
   "source": [
    "#### 연습문제"
   ]
  },
  {
   "cell_type": "markdown",
   "metadata": {},
   "source": [
    "`f1`, `f2`가 아래와 같이 정의된다."
   ]
  },
  {
   "cell_type": "code",
   "execution_count": 27,
   "metadata": {},
   "outputs": [],
   "source": [
    "f1 = Fraction(1, 4)\n",
    "f2 = Fraction(1, 2)"
   ]
  },
  {
   "cell_type": "markdown",
   "metadata": {},
   "source": [
    "그런데 `f1 + f2`의 결과를 직접 확인하려 하면 원하는 대로 보여지지 않는다."
   ]
  },
  {
   "cell_type": "code",
   "execution_count": 28,
   "metadata": {},
   "outputs": [
    {
     "data": {
      "text/plain": [
       "<__main__.Fraction at 0x23e372c3f70>"
      ]
     },
     "execution_count": 28,
     "metadata": {},
     "output_type": "execute_result"
    }
   ],
   "source": [
    "f1 + f2"
   ]
  },
  {
   "cell_type": "markdown",
   "metadata": {},
   "source": [
    "어떤 매직 메서드를 구현하면 되는지 확인하고 직접 구현하라."
   ]
  },
  {
   "cell_type": "markdown",
   "metadata": {},
   "source": [
    "#### 연습문제\n",
    "\n",
    "다음 연산자들을 지원하는 매직 메서드를 중복정의하라.\n",
    "\n",
    "    *, /, -, >, <"
   ]
  },
  {
   "cell_type": "markdown",
   "metadata": {},
   "source": [
    "#### 연습문제\n",
    "\n",
    "다음 연산자들을 사용하기 위해 별도로 특정 매직 메서드를 구현해야 하는지 확인하라.\n",
    "\n",
    "    >=, <="
   ]
  },
  {
   "cell_type": "markdown",
   "metadata": {},
   "source": [
    "#### 연습문제"
   ]
  },
  {
   "cell_type": "markdown",
   "metadata": {},
   "source": [
    "컴퓨터가 제공하는 부동소수점은 불완전하다.\n",
    "예를 들어, 아래 코드는 100만분의 1을 100만번 더했을 때 \n",
    "1이 계산되지 않음을 보여준다."
   ]
  },
  {
   "cell_type": "code",
   "execution_count": 29,
   "metadata": {},
   "outputs": [
    {
     "name": "stdout",
     "output_type": "stream",
     "text": [
      "1.000000000007918\n",
      "False\n"
     ]
    }
   ],
   "source": [
    "x = 0.000001\n",
    "y = 0\n",
    "\n",
    "for _ in range(1000000):\n",
    "    y += x\n",
    "\n",
    "print(y)\n",
    "print(y == 1)"
   ]
  },
  {
   "cell_type": "markdown",
   "metadata": {},
   "source": [
    "분수 클래스 `Fraction`를 이용하면 보다 엄밀한 계산이 가능함을 보여라."
   ]
  },
  {
   "cell_type": "markdown",
   "metadata": {},
   "source": [
    "### 상속: 논리 회로"
   ]
  },
  {
   "cell_type": "markdown",
   "metadata": {},
   "source": [
    "__상속__(inheritance)은 객체 지향 프로그래밍의 또 다른 주요 요소이다. \n",
    "클래스를 선언할 때 다른 클래스의 상태(state)와 메서드를 상속 받아 활용할 수 있다.\n",
    "상속을 받는 클래스를 __자식 클래스__ 또는 __하위 클래스__, \n",
    "상속을 해주는 클래스를 __부모 클래스__ 또는 __상위 클래스__라고 부른다. "
   ]
  },
  {
   "cell_type": "markdown",
   "metadata": {},
   "source": [
    "<그림 8>이 파이썬 모음 자료형의 상속 체계를 보여준다. \n",
    "예를 들어, `list` 클래스는 `Sequence` 클래스를 상속하며,\n",
    "`Sequence`는 `Collection` 클래를 상속한다. \n",
    "이를 'is-a' 관계를 표현하면 \"리스트는 시퀀스 모음 자료형이다\" 등으로 말한다.\n",
    "이와 달리 항목들의 순서를 고려하지 않는 `dict`와 `set` 은 \n",
    "`Sequence` 클래스와 'is-a' 관계를 갖지 않는다. "
   ]
  },
  {
   "cell_type": "markdown",
   "metadata": {},
   "source": [
    "<figure>\n",
    "<img src=\"https://raw.githubusercontent.com/codingalzi/problem_solving_with_algorithms/master/_sources/Introduction/Figures/inheritance1.png\" width=\"70%\">\n",
    "    <figcaption>그림 8: 파이썬 모음 자료형의 상속 체계</figcaption>\n",
    "</figure>"
   ]
  },
  {
   "cell_type": "markdown",
   "metadata": {},
   "source": [
    "`list`, `tuple`, `str` 클래스 모두 `Sequence` 클래스를 상속하기에\n",
    "자신들의 객체를 다루는 공통된 방식을 갖는다.\n",
    "반면에 서로 구별되는 각 자료형 고유의 속성과 메서드를 갖는다. \n",
    "이렇듯 자식 클래스는 서로 공통된 요소와 각 자식 클래스 고유의 요소를 함께 갖는다."
   ]
  },
  {
   "cell_type": "markdown",
   "metadata": {},
   "source": [
    "클래스 상속을 활용할 때의 주요 장점은 다음과 같다. \n",
    "- 기존에 작성된 코드를 필요에 따라 수정, 재활용 가능.\n",
    "- 데이터(객체) 사이의 관계를 보다 잘 이해할 수 있음."
   ]
  },
  {
   "cell_type": "markdown",
   "metadata": {},
   "source": [
    "#### 논리 게이트\n",
    "\n",
    "전자식 스위치(electronic switch)를 시뮬레이션 하는 논리 회로(logical circuit)를\n",
    "구현하는 과정을 통해 클래스 상속을 자세히 알아본다. \n",
    "논리 회로는 논리 게이트의 입력과 출력 사이의 부울 대수(Boolearn algebra)적 관계를 \n",
    "표현한다.\n",
    "__논리 게이트__(logic gate)는 0(거짓) 또는 1(참)을 입력받아 0 또는 1을 출력하는 장치이며\n",
    "논리 회로는 이런 논리 게이트를 논리적으로 조합한 회로를 가리킨다."
   ]
  },
  {
   "cell_type": "markdown",
   "metadata": {},
   "source": [
    "AND 게이트는 `and` 논리 연산자처럼,\n",
    "OR 게이트는 `or` 논리 연산자처럼 작동한다.\n",
    "NOT 게이트는 `not` 논리 연산자처럼 작동한다.\n",
    "<표 9>는 논리 게이트와 논리 연산자 사이의 관계를 보여준다."
   ]
  },
  {
   "cell_type": "markdown",
   "metadata": {},
   "source": [
    "<figure>\n",
    "<img src=\"https://raw.githubusercontent.com/codingalzi/problem_solving_with_algorithms/master/_sources/Introduction/Figures/truthtable.png\" width=\"50%\">\n",
    "    <figcaption>표 9: 세 종류의 논리 게이트와 논리 연산자</figcaption>\n",
    "</figure>"
   ]
  },
  {
   "cell_type": "markdown",
   "metadata": {},
   "source": [
    "논리 회로(logic circuit)는 논리 게이트를 다양한 방식으로 조합한 결과를 나타내며,\n",
    "각각의 논리 회로는 부울값(`True` 또는 `False`)을 인자로 받는 논리 함수 역할을 수행한다.\n",
    "<그림 10>은 두 개의 AND 게이트, 한 개의 OR 게이트, 한 개의 NOT 게이트를 이용하는\n",
    "논리 회로를 보여준다. \n",
    "네 개의 입력값을 논리 회로에 넣어주면 최종적으로 NOT 게이트에서 적절한 결과를 출력한다. "
   ]
  },
  {
   "cell_type": "markdown",
   "metadata": {},
   "source": [
    "<figure>\n",
    "<img src=\"https://raw.githubusercontent.com/codingalzi/problem_solving_with_algorithms/master/_sources/Introduction/Figures/circuit1.png\" width=\"50%\">\n",
    "    <figcaption>그림 10: 논리 회로(logic circuit)</figcaption>\n",
    "</figure>"
   ]
  },
  {
   "cell_type": "markdown",
   "metadata": {},
   "source": [
    "#### 논리 게이트 상속 체계"
   ]
  },
  {
   "cell_type": "markdown",
   "metadata": {},
   "source": [
    "여기서 사용되는 논리 게이트는 입력값의 개수에 따라 크게 __이항 게이트__(binary gate)와\n",
    "__단항 게이트__(unary gate)로 나뉜다.\n",
    "AND 게이트와 OR 게이트는 이항 게이트이며, NOT 게이트는 단항 게이트이다.\n",
    "반면에 이항 게이트와 단항 게이트 모두 논리 게이트라는 공통점을 갖는다.\n",
    "이 관계를 아래 <그림 11>이 잘 보여준다. "
   ]
  },
  {
   "cell_type": "markdown",
   "metadata": {},
   "source": [
    "<figure>\n",
    "<img src=\"https://raw.githubusercontent.com/codingalzi/problem_solving_with_algorithms/master/_sources/Introduction/Figures/gates.png\" width=\"50%\">\n",
    "    <figcaption>그림 11: 논리 게이트 상속 체계</figcaption>\n",
    "</figure>"
   ]
  },
  {
   "cell_type": "markdown",
   "metadata": {},
   "source": [
    "##### LogicGate 클래스"
   ]
  },
  {
   "cell_type": "markdown",
   "metadata": {},
   "source": [
    "논리 게이트 상속 체계의 최상위 클래스인 `LogicGate` 클래스를 선언한다.\n",
    "포함되는 속성(state)와 기능(메서드)는 다음과 같다.\n",
    "\n",
    "- `label`: 게이트 이름 저장\n",
    "- `output`: 게이트 출력값 저장\n",
    "- `get_label()`: 게이트 이름 반환 메서드\n",
    "- `get_output()`: 게이트 출력값 반환 메서드"
   ]
  },
  {
   "cell_type": "code",
   "execution_count": 30,
   "metadata": {},
   "outputs": [],
   "source": [
    "class LogicGate:\n",
    "    def __init__(self, lbl):\n",
    "        self.label = lbl      # 사용자 지정\n",
    "        self.output = None    # 자식 클래스의 실행 결과로 지정됨.\n",
    "\n",
    "    def get_label(self):\n",
    "        return self.label\n",
    "\n",
    "    def get_output(self):\n",
    "        self.output = self.perform_gate_logic()  # 자식 클래스에서 구현\n",
    "        return self.output"
   ]
  },
  {
   "cell_type": "markdown",
   "metadata": {},
   "source": [
    "`get_output()` 함수는 아직 정외되지 않은 `perform_gate_logic()` 함수를\n",
    "이용하여 정의되었다. \n",
    "하지만 `perform_gate_logic()` 함수는 게이트의 출력값을 계산하는 함수이기에\n",
    "구체적인 정의는 구체적인 게이트를 선언하는 데에 사용되는 자식 클래스에서 지정된다."
   ]
  },
  {
   "cell_type": "markdown",
   "metadata": {},
   "source": [
    "##### `BinaryGate` 클래스와 `UnaryGate` 클래스"
   ]
  },
  {
   "cell_type": "markdown",
   "metadata": {},
   "source": [
    "이항 게이트와 단항 게이트가 사용하는 입력값의 개수가 다른 특성을 갖기에\n",
    "두 게이트의 특성 차이를 서로 다른 클래스로 선언한다.\n",
    "이항 게이트와 단항 게이트 모두 논리 게이트이기에 \n",
    "`BinaryGate` 클래스, `UnaryGate` 클래스 모두 `LogicGate`를 상속하면서\n",
    "동시에 각자 입력값을 처리하는 방법과 기능을 추가한다."
   ]
  },
  {
   "cell_type": "code",
   "execution_count": 31,
   "metadata": {},
   "outputs": [],
   "source": [
    "# 이항 게이트\n",
    "class BinaryGate(LogicGate):\n",
    "    def __init__(self, lbl):\n",
    "        LogicGate.__init__(self, lbl)  # LogicGate의 생성자 함수 실행\n",
    "        self.pin_a = None              # 첫째 핀 값 저장\n",
    "        self.pin_b = None              # 둘째 핀 값 저장\n",
    "    \n",
    "    # 첫째 입력값 받기 및 반환\n",
    "    def get_pin_a(self):\n",
    "        return int(input(f\"{self.get_label()} 게이트에 대한 첫째 핀 값 입력: \"))\n",
    "\n",
    "    # 둘째 입력값 받기 및 반환\n",
    "    def get_pin_b(self):\n",
    "        return int(input(f\"{self.get_label()} 게이트에 대한 둘째 핀 값 입력: \"))\n",
    "\n",
    "# 단항 게이트\n",
    "class UnaryGate(LogicGate):\n",
    "    def __init__(self, lbl):\n",
    "        LogicGate.__init__(self, lbl)\n",
    "        self.pin = None\n",
    "\n",
    "    # 입력값 받기 및 반환\n",
    "    def get_pin(self):\n",
    "        return int(input(f\"{self.get_label()} 게이트에 대한 핀 값 입력: \"))"
   ]
  },
  {
   "cell_type": "markdown",
   "metadata": {},
   "source": [
    "생성자 함수의 본체에 사용된 아래 코드는 부모 클래스의 생성자를 먼저 호출하는 것을 보여준다. \n",
    "\n",
    "```python\n",
    "LogicGate.__init__(self, lbl)\n",
    "```\n",
    "\n",
    "부모 클래스의 이름을 명시하는 방법 대신에 아래 처럼 `super()` 함수를 \n",
    "다양한 방식으로 사용할 수 있다. \n",
    "\n",
    "```python\n",
    "super().__init__(lbl)\n",
    "super(UnaryGate, self).__init__(lbl)\n",
    "super().__init__(\"UnaryGate\", lbl)\n",
    "```\n",
    "\n",
    "__참고__: 위 사용법에 대한 구체적인 설명은 [RealPython: Supercharge Your Classes with Python super()](https://realpython.com/python-super/)를 참조한다.\n",
    "아래 방식을 사용할 것을 추천한다. \n",
    "다른 방식은 다중 클래스 상속 등 보다 복잡하고 경우에만 의미를 갖는다. \n",
    "\n",
    "```python\n",
    "super().__init__(lbl)\n",
    "```"
   ]
  },
  {
   "cell_type": "code",
   "execution_count": 32,
   "metadata": {},
   "outputs": [],
   "source": [
    "# 이항 게이트\n",
    "class BinaryGate(LogicGate):\n",
    "    def __init__(self, lbl):\n",
    "        super().__init__(lbl)  # LogicGate의 생성자 함수 실행\n",
    "        self.pin_a = None              # 첫째 핀 값 저장\n",
    "        self.pin_b = None              # 둘째 핀 값 저장\n",
    "    \n",
    "    # 첫째 입력값 받기 및 반환\n",
    "    def get_pin_a(self):\n",
    "        return int(input(f\"{self.get_label()} 게이트에 대한 첫째 핀 값 입력: \"))\n",
    "\n",
    "    # 둘째 입력값 받기 및 반환\n",
    "    def get_pin_b(self):\n",
    "        return int(input(f\"{self.get_label()} 게이트에 대한 둘째 핀 값 입력: \"))\n",
    "\n",
    "# 단항 게이트\n",
    "class UnaryGate(LogicGate):\n",
    "    def __init__(self, lbl):\n",
    "        super().__init__(lbl)\n",
    "        self.pin = None\n",
    "\n",
    "    # 입력값 받기 및 반환\n",
    "    def get_pin(self):\n",
    "        return int(input(f\"{self.get_label()} 게이트에 대한 핀 값 입력: \"))"
   ]
  },
  {
   "cell_type": "markdown",
   "metadata": {},
   "source": [
    "##### `AndGate` 클래스, `OrGate` 클래스, `NotGate` 클래스"
   ]
  },
  {
   "cell_type": "markdown",
   "metadata": {},
   "source": [
    "이제 구체적인 논리 게이트를 선언하는 일만 남았으며\n",
    "이항 게이트 또는 단항 게이트 여부에 따라 `BinaryGate` 또는 `UnaryGate`를\n",
    "계승하면서 최상위 게이트 클래스인 `LogicGate`에서\n",
    "언급된 `perform_gate_logic()` 함수를 정의해야 한다. \n",
    "`perform_gate_logic()` 함수는 호출되었을 때 해당 게이트 객체가 출력하는 값을\n",
    "반환해야 하며,\n",
    "반환값 계산에 사용되는 값은 입력된 두 개 또는 한 개의 핀 값을 이용한다.\n",
    "\n",
    "아래 코드는 `AndGate` 클래스를 구현한다."
   ]
  },
  {
   "cell_type": "code",
   "execution_count": 35,
   "metadata": {},
   "outputs": [],
   "source": [
    "class AndGate(BinaryGate):\n",
    "    def __init__(self, lbl):\n",
    "        super().__init__(lbl)\n",
    "\n",
    "    def perform_gate_logic(self):\n",
    "        a = self.get_pin_a()   # 첫째 핀 값\n",
    "        b = self.get_pin_b()   # 둘째 핀 값\n",
    "        \n",
    "        if a == 1 and b == 1:\n",
    "            return 1\n",
    "        else:\n",
    "            return 0"
   ]
  },
  {
   "cell_type": "markdown",
   "metadata": {},
   "source": [
    "아래 코드를 실행하면 아래 메서드들이 차례로 호출된다.\n",
    "\n",
    "- `LogicGate` 클래스의 `get_output()` 메서드\n",
    "- `AndGate` 클래스의 `perform_gate_logic()` 메서드\n",
    "- `BinaryGate` 클래스의 `get_pin_a()` 메서드\n",
    "    - `input()` 함수\n",
    "    - `int()` 함수\n",
    "- `BinaryGate` 클래스의 `get_pin_b()` 메서드\n",
    "    - `input()` 함수\n",
    "    - `int()` 함수"
   ]
  },
  {
   "cell_type": "code",
   "execution_count": 36,
   "metadata": {},
   "outputs": [
    {
     "name": "stdout",
     "output_type": "stream",
     "text": [
      "G1 게이트에 대한 첫째 핀 값 입력: 1\n",
      "G1 게이트에 대한 둘째 핀 값 입력: 0\n"
     ]
    },
    {
     "data": {
      "text/plain": [
       "0"
      ]
     },
     "execution_count": 36,
     "metadata": {},
     "output_type": "execute_result"
    }
   ],
   "source": [
    "g1 = AndGate(\"G1\")\n",
    "g1.get_output()"
   ]
  },
  {
   "cell_type": "markdown",
   "metadata": {},
   "source": [
    "`OrGate` 클래스도 유사하게 정의된다."
   ]
  },
  {
   "cell_type": "code",
   "execution_count": 37,
   "metadata": {},
   "outputs": [],
   "source": [
    "class OrGate(BinaryGate):\n",
    "    def __init__(self, lbl):\n",
    "        super().__init__(lbl)\n",
    "\n",
    "    def perform_gate_logic(self):\n",
    "        a = self.get_pin_a()   # 첫째 핀 값\n",
    "        b = self.get_pin_b()   # 둘째 핀 값\n",
    "        \n",
    "        if a == 1 or b == 1:\n",
    "            return 1\n",
    "        else:\n",
    "            return 0"
   ]
  },
  {
   "cell_type": "markdown",
   "metadata": {},
   "source": [
    "`NotGate`는 하지만 `UnaryGate`를 상속하며\n",
    "`get_pin()` 메서드 하나만 사용한다."
   ]
  },
  {
   "cell_type": "code",
   "execution_count": 38,
   "metadata": {},
   "outputs": [],
   "source": [
    "class NotGate(UnaryGate):\n",
    "    def __init__(self, lbl):\n",
    "        super().__init__(lbl)\n",
    "\n",
    "    def perform_gate_logic(self):\n",
    "        if self.get_pin():   # 1은 True를 의미함.\n",
    "            return 0\n",
    "        else:\n",
    "            return 1"
   ]
  },
  {
   "cell_type": "markdown",
   "metadata": {},
   "source": [
    "아래 코드를 실행했을 때 호출되는 메서드들의 순서은 앞서의 설명과 거의 같다."
   ]
  },
  {
   "cell_type": "code",
   "execution_count": 39,
   "metadata": {},
   "outputs": [
    {
     "name": "stdout",
     "output_type": "stream",
     "text": [
      "G2 게이트에 대한 첫째 핀 값 입력: 0\n",
      "G2 게이트에 대한 둘째 핀 값 입력: 0\n"
     ]
    },
    {
     "data": {
      "text/plain": [
       "0"
      ]
     },
     "execution_count": 39,
     "metadata": {},
     "output_type": "execute_result"
    }
   ],
   "source": [
    "g2 = OrGate(\"G2\")\n",
    "g2.get_output()"
   ]
  },
  {
   "cell_type": "code",
   "execution_count": 40,
   "metadata": {},
   "outputs": [
    {
     "name": "stdout",
     "output_type": "stream",
     "text": [
      "G2 게이트에 대한 첫째 핀 값 입력: 1\n",
      "G2 게이트에 대한 둘째 핀 값 입력: 0\n"
     ]
    },
    {
     "data": {
      "text/plain": [
       "1"
      ]
     },
     "execution_count": 40,
     "metadata": {},
     "output_type": "execute_result"
    }
   ],
   "source": [
    "g2.get_output()"
   ]
  },
  {
   "cell_type": "code",
   "execution_count": 41,
   "metadata": {},
   "outputs": [
    {
     "name": "stdout",
     "output_type": "stream",
     "text": [
      "G3 게이트에 대한 핀 값 입력: 0\n"
     ]
    },
    {
     "data": {
      "text/plain": [
       "1"
      ]
     },
     "execution_count": 41,
     "metadata": {},
     "output_type": "execute_result"
    }
   ],
   "source": [
    "g3 = NotGate(\"G3\")\n",
    "g3.get_output()"
   ]
  },
  {
   "cell_type": "markdown",
   "metadata": {},
   "source": [
    "#### 논리 게이트 연결 장치 클래스"
   ]
  },
  {
   "cell_type": "markdown",
   "metadata": {},
   "source": [
    "논리 회로를 설계하려면 논리 게이트를 연결하는 장치가 필요하다.\n",
    "이를 위해 `Connector` 클래스를 선언한다."
   ]
  },
  {
   "cell_type": "markdown",
   "metadata": {},
   "source": [
    "##### `Connector` 클래스"
   ]
  },
  {
   "cell_type": "markdown",
   "metadata": {},
   "source": [
    "`Connector` 클래스는 두 개의 논리 게이트를 연결하여 하나의 논리회로를 구성하는 기능을 지원한다.\n",
    "`Connector` 클래스의 객체를 이용하여 논리회로를 구성하는 방식은 다음과 같다.\n",
    "\n",
    "- 입력 게이트와 출력 게이트로 사용될 두 개의 논리 게이트 지정\n",
    "- 출력 게이트의 핀 값으로 연결 `Connector` 객체를 지정.\n",
    "    - `Connector` 객체의 `fgate` 값이 입력 핀 값으로 사용될 것임.\n",
    "    - 핀 값이 지정되지 않았을 경우: 사용자에게 입력 요구"
   ]
  },
  {
   "cell_type": "markdown",
   "metadata": {},
   "source": [
    "<figure>\n",
    "<img src=\"https://raw.githubusercontent.com/codingalzi/problem_solving_with_algorithms/master/_sources/Introduction/Figures/connector.png\" width=\"50%\">\n",
    "    <figcaption>그림 12: 입력 게이트와 출력 게이트를 연결하는 Connector</figcaption>\n",
    "</figure>"
   ]
  },
  {
   "cell_type": "markdown",
   "metadata": {},
   "source": [
    "__참고__: `Connector` 클래스의 객체는 생성될 때 사용되는 두 개의 논리 게이트와\n",
    "'__has-a__' 관계를 갖는다고 말한다."
   ]
  },
  {
   "cell_type": "code",
   "execution_count": 42,
   "metadata": {},
   "outputs": [],
   "source": [
    "class Connector:\n",
    "    def __init__(self, fgate, tgate):\n",
    "        self.from_gate = fgate   # 입력 게이트 지정\n",
    "        self.to_gate = tgate     # 출력 게이트 지정\n",
    "\n",
    "        tgate.set_next_pin(self) # 출력 게이트의 핀 값으로 객체 자신을 지정\n",
    "\n",
    "    def get_from(self):          # 입력 게이트 확인 메서드\n",
    "        return self.from_gate\n",
    "\n",
    "    def get_to(self):            # 출력 게이트 확인 메서드\n",
    "        return self.to_gate"
   ]
  },
  {
   "cell_type": "markdown",
   "metadata": {},
   "source": [
    "`set_next_pin()` 함수는 모든 논리 게이트에서 공유되어야 하지만\n",
    "이항 또는 단항 게이트 여부에 따라 정의가 달라진다.\n",
    "따라서 `BinaryGate` 클래스와 `UnaryGate` 클래스에서 정의된다.\n",
    "\n",
    "또한 핀 값이 `Connector` 클래스의 객체가 사용되어야 하므로\n",
    "`get_pin_a()`, `get_pin_b()`, `get_pin()` 함수들도 적절하게 수정되어야 한다.\n",
    "\n",
    "- 핀 값으로 `Connector` 객체가 사용된 경우: 커넥터에 연결된 입력 게이트의 출력값 사용\n",
    "- 그렇지 않은 경우: 사용자에게 입력값 요구"
   ]
  },
  {
   "cell_type": "code",
   "execution_count": 43,
   "metadata": {},
   "outputs": [],
   "source": [
    "# 이항 게이트\n",
    "class BinaryGate(LogicGate):\n",
    "    def __init__(self, lbl):\n",
    "        super().__init__(lbl)  # LogicGate의 생성자 함수 실행\n",
    "        self.pin_a = None              # 첫째 핀 값 저장\n",
    "        self.pin_b = None              # 둘째 핀 값 저장\n",
    "    \n",
    "    # 첫째 입력값 받기 및 반환\n",
    "    def get_pin_a(self):\n",
    "        if self.pin_a == None:\n",
    "            return int(input(f\"{self.get_label()} 게이트에 대한 첫째 핀 값 입력: \"))\n",
    "        else:\n",
    "            return self.pin_a.get_from().get_output()\n",
    "\n",
    "    # 둘째 입력값 받기 및 반환\n",
    "    def get_pin_b(self):\n",
    "        if self.pin_b == None:\n",
    "            return int(input(f\"{self.get_label()} 게이트에 대한 둘째 핀 값 입력: \"))\n",
    "        else:\n",
    "            return self.pin_b.get_from().get_output()\n",
    "\n",
    "    def set_next_pin(self, connector):\n",
    "        if self.pin_a == None:\n",
    "            self.pin_a = connector\n",
    "        elif self.pin_b == None:\n",
    "            self.pin_b = connector\n",
    "        else:\n",
    "            print(\"비어있는 핀이 없어요!\")"
   ]
  },
  {
   "cell_type": "code",
   "execution_count": 44,
   "metadata": {},
   "outputs": [],
   "source": [
    "# 단항 게이트\n",
    "class UnaryGate(LogicGate):\n",
    "    def __init__(self, lbl):\n",
    "        super().__init__(lbl)\n",
    "        self.pin = None\n",
    "\n",
    "    # 입력값 받기 및 반환\n",
    "    def get_pin(self):\n",
    "        return int(input(f\"{self.get_label()} 게이트에 대한 핀 값 입력: \"))\n",
    "    \n",
    "    def get_pin(self):\n",
    "        if self.pin == None:\n",
    "            return int(input(f\"{self.get_label()} 게이트에 대한 핀 값 입력: \"))\n",
    "        else:\n",
    "            return self.pin.get_from().get_output()\n",
    "\n",
    "    def set_next_pin(self, connector):\n",
    "        if self.pin == None:\n",
    "            self.pin = connector\n",
    "        else:\n",
    "            print(\"비어있는 핀이 없어요!\")"
   ]
  },
  {
   "cell_type": "markdown",
   "metadata": {},
   "source": [
    "__주의사항__: `BinaryGate`와 `UnaryGate`를 새로 정의하였기에\n",
    "이들을 상속 받는 다른 모든 논리 게이트들을 다시 선언해야 한다.\n",
    "여기서는 지금까지 언급된 코드를 정리하는 형식으로 재선언을 대신한다."
   ]
  },
  {
   "cell_type": "code",
   "execution_count": 45,
   "metadata": {},
   "outputs": [],
   "source": [
    "class LogicGate:\n",
    "\n",
    "    def __init__(self, lbl):\n",
    "        self.name = lbl\n",
    "        self.output = None\n",
    "\n",
    "    def get_label(self):\n",
    "        return self.name\n",
    "\n",
    "    def get_output(self):\n",
    "        self.output = self.perform_gate_logic()\n",
    "        return self.output\n",
    "\n",
    "# 이항 게이트\n",
    "class BinaryGate(LogicGate):\n",
    "    def __init__(self, lbl):\n",
    "        super().__init__(lbl)  # LogicGate의 생성자 함수 실행\n",
    "        self.pin_a = None              # 첫째 핀 값 저장\n",
    "        self.pin_b = None              # 둘째 핀 값 저장\n",
    "    \n",
    "    # 첫째 입력값 받기 및 반환\n",
    "    def get_pin_a(self):\n",
    "        if self.pin_a == None:\n",
    "            return int(input(f\"{self.get_label()} 게이트에 대한 첫째 핀 값 입력: \"))\n",
    "        else:\n",
    "            return self.pin_a.get_from().get_output()\n",
    "\n",
    "    # 둘째 입력값 받기 및 반환\n",
    "    def get_pin_b(self):\n",
    "        if self.pin_b == None:\n",
    "            return int(input(f\"{self.get_label()} 게이트에 대한 둘째 핀 값 입력: \"))\n",
    "        else:\n",
    "            return self.pin_b.get_from().get_output()\n",
    "\n",
    "    def set_next_pin(self, connector):\n",
    "        if self.pin_a == None:\n",
    "            self.pin_a = connector\n",
    "        elif self.pin_b == None:\n",
    "            self.pin_b = connector\n",
    "        else:\n",
    "            print(\"비어있는 핀이 없어요!\")\n",
    "\n",
    "class AndGate(BinaryGate):\n",
    "\n",
    "    def __init__(self, lbl):\n",
    "        BinaryGate.__init__(self, lbl)\n",
    "\n",
    "    def perform_gate_logic(self):\n",
    "\n",
    "        a = self.get_pin_a()\n",
    "        b = self.get_pin_b()\n",
    "        if a == 1 and b == 1:\n",
    "            return 1\n",
    "        else:\n",
    "            return 0\n",
    "\n",
    "class OrGate(BinaryGate):\n",
    "\n",
    "    def __init__(self, lbl):\n",
    "        BinaryGate.__init__(self, lbl)\n",
    "\n",
    "    def perform_gate_logic(self):\n",
    "\n",
    "        a = self.get_pin_a()\n",
    "        b = self.get_pin_b()\n",
    "        if a == 1 or b == 1:\n",
    "            return 1\n",
    "        else:\n",
    "            return 0\n",
    "\n",
    "# 단항 게이트\n",
    "class UnaryGate(LogicGate):\n",
    "    def __init__(self, lbl):\n",
    "        super().__init__(lbl)\n",
    "        self.pin = None\n",
    "\n",
    "    # 입력값 받기 및 반환\n",
    "    def get_pin(self):\n",
    "        return int(input(f\"{self.get_label()} 게이트에 대한 핀 값 입력: \"))\n",
    "    \n",
    "    def get_pin(self):\n",
    "        if self.pin == None:\n",
    "            return int(input(f\"{self.get_label()} 게이트에 대한 핀 값 입력: \"))\n",
    "        else:\n",
    "            return self.pin.get_from().get_output()\n",
    "\n",
    "    def set_next_pin(self, connector):\n",
    "        if self.pin == None:\n",
    "            self.pin = connector\n",
    "        else:\n",
    "            print(\"비어있는 핀이 없어요!\")\n",
    "\n",
    "class NotGate(UnaryGate):\n",
    "\n",
    "    def __init__(self, lbl):\n",
    "        UnaryGate.__init__(self, lbl)\n",
    "\n",
    "    def perform_gate_logic(self):\n",
    "        if self.get_pin():\n",
    "            return 0\n",
    "        else:\n",
    "            return 1\n",
    "\n",
    "class Connector:\n",
    "\n",
    "    def __init__(self, fgate, tgate):\n",
    "        self.from_gate = fgate\n",
    "        self.to_gate = tgate\n",
    "\n",
    "        tgate.set_next_pin(self)\n",
    "\n",
    "    def get_from(self):\n",
    "        return self.from_gate\n",
    "\n",
    "    def get_to(self):\n",
    "        return self.to_gate"
   ]
  },
  {
   "cell_type": "markdown",
   "metadata": {},
   "source": [
    "논리 회로에 사용된 임의의 논리 게이트의 출력값을 계산하려고 \n",
    "`get_output()` 메서드를 호출하면 논리 회로의 연결망을 따라\n",
    "역순으로 입력값을 요구하는 과정을 거친 후\n",
    "다시 순방향으로 출력값을 계산한다.\n",
    "\n",
    "이어지는 코드는 앞서 보았던 다음 논리 회로를 구현한다.\n",
    "\n",
    "<figure>\n",
    "<img src=\"https://raw.githubusercontent.com/codingalzi/problem_solving_with_algorithms/master/_sources/Introduction/Figures/circuit1.png\" width=\"50%\">\n",
    "</figure>"
   ]
  },
  {
   "cell_type": "code",
   "execution_count": 46,
   "metadata": {},
   "outputs": [],
   "source": [
    "g1 = AndGate(\"G1\")\n",
    "g2 = AndGate(\"G2\")\n",
    "g3 = OrGate(\"G3\")\n",
    "g4 = NotGate(\"G4\")"
   ]
  },
  {
   "cell_type": "code",
   "execution_count": 47,
   "metadata": {},
   "outputs": [],
   "source": [
    "c1 = Connector(g1, g3)\n",
    "c2 = Connector(g2, g3)\n",
    "c3 = Connector(g3, g4)"
   ]
  },
  {
   "cell_type": "markdown",
   "metadata": {},
   "source": [
    "마지막 게이트 `g4`에서의 출력값을 구하려고 하면\n",
    "네 개의 입력값을 요구한다.\n",
    "이유는 맨 왼편에 위치한 두 개의 `AndGate` 객체가 각각 두 개씩 핀 값을 \n",
    "사용자에게 요구하기 때문이다."
   ]
  },
  {
   "cell_type": "code",
   "execution_count": 48,
   "metadata": {},
   "outputs": [
    {
     "name": "stdout",
     "output_type": "stream",
     "text": [
      "G1 게이트에 대한 첫째 핀 값 입력: 0\n",
      "G1 게이트에 대한 둘째 핀 값 입력: 1\n",
      "G2 게이트에 대한 첫째 핀 값 입력: 1\n",
      "G2 게이트에 대한 둘째 핀 값 입력: 1\n"
     ]
    },
    {
     "data": {
      "text/plain": [
       "0"
      ]
     },
     "execution_count": 48,
     "metadata": {},
     "output_type": "execute_result"
    }
   ],
   "source": [
    "g4.get_output()"
   ]
  },
  {
   "cell_type": "markdown",
   "metadata": {},
   "source": [
    "#### 연습문제"
   ]
  },
  {
   "cell_type": "markdown",
   "metadata": {},
   "source": [
    "`NorGate`와 `NandGate` 두 개의 클래스를 선언하라.\n",
    "- `NandGates` 클래스의 출력값: `AndGates`의 출력값에 `not` 연산자를 적용한 결과\n",
    "- `NorGates` 클래스의 출력값: `OrGates`의 출력값에 `not` 연산자를 적용한 결과\n",
    "\n",
    "__힌트__: `AndGate` 클래스와 `OrGate` 클래스를 적절하게 상속할 것.\n",
    "[유튜브 설명: 논리게이트](https://www.youtube.com/watch?v=brrpvAlzOyM \"logicgates\") 참고."
   ]
  },
  {
   "cell_type": "markdown",
   "metadata": {},
   "source": [
    "#### 연습문제"
   ]
  },
  {
   "cell_type": "markdown",
   "metadata": {},
   "source": [
    "아래 두 부울식이 동일한 값을 가리킴을 증명하는 논리회로를 작성하라. \n",
    "단, 앞서 정의한 `NandGate`와 `NorGate`를 함께 활용한다. \n",
    "\n",
    "- `not ((A and B) or (C and D))`\n",
    "- `not(A and B ) and not (C and D)`\n",
    "\n",
    "__힌트__: [XOR 게이트](https://m.blog.naver.com/PostView.naver?isHttpsRedirect=true&blogId=cni1577&logNo=221619153912) 활용"
   ]
  },
  {
   "cell_type": "markdown",
   "metadata": {},
   "source": [
    "#### 도전 연습 문제"
   ]
  },
  {
   "cell_type": "markdown",
   "metadata": {},
   "source": [
    "__플립플롭__(flip-flop) 논리 회로는 장치를 리셋(reset)하지 전까지 마지막에 입력된 데이터를 보관한다. \n",
    "아래 그림은 NOR 게이트 두 개를 활용한 간단한 플립플롭 논리 회로를 보여준다.\n",
    "\n",
    "Reset과 Set 모두 첫 입력값이 0이면 출력값은 0이된다.\n",
    "이유는 Reset 이 연결된 NOR 게이트의 둘째 입력값이 없기 때문이다.\n",
    "이제 Set에 1을 입력하면 출력값이 1로 바뀐다. \n",
    "이유는 Set의 값이 1이기에 연결된 NOR 게이트의 출력값이 0이 되기 때문이다.\n",
    "그리고 이 출력값은 Set의 입력값이 0이 되어도 변하지 않는다.\n",
    "다만 Reset이 입력값이 1이 되는 순간, \n",
    "즉, 장치를 리셋하는 순간 0을 출력한다. \n",
    "\n",
    "위 그림을 참조하여 플립플롭 논리 회로를 구현하라."
   ]
  },
  {
   "cell_type": "markdown",
   "metadata": {},
   "source": [
    "<figure>\n",
    "<img src=\"https://raw.githubusercontent.com/codingalzi/problem_solving_with_algorithms/master/_sources/Introduction/Figures/flipflop.png\" width=\"30%\">\n",
    "</figure>"
   ]
  },
  {
   "cell_type": "markdown",
   "metadata": {},
   "source": [
    "## 프로그래밍 과제"
   ]
  },
  {
   "cell_type": "markdown",
   "metadata": {},
   "source": [
    "1. Implement the simple methods ``get_num`` and ``get_den`` that will\n",
    "   return the numerator and denominator of a fraction.\n",
    "\n",
    "1. In many ways it would be better if all fractions were maintained in\n",
    "   lowest terms right from the start. Modify the constructor for the\n",
    "   ``Fraction`` class so that ``GCD`` is used to reduce fractions\n",
    "   immediately. Notice that this means the ``__add__`` function no\n",
    "   longer needs to reduce. Make the necessary modifications.\n",
    "\n",
    "1. Implement the remaining simple arithmetic operators (``__sub__``,\n",
    "   ``__mul__``, and ``__truediv__``).\n",
    "\n",
    "1. Implement the remaining relational operators (``__gt__``,\n",
    "   ``__ge__``, ``__lt__``, ``__le__``, and ``__ne__``).\n",
    "\n",
    "1. Modify the constructor for the fraction class so that it checks to\n",
    "   make sure that the numerator and denominator are both integers. If\n",
    "   either is not an integer, the constructor should raise an exception.\n",
    "\n",
    "1. In the definition of fractions we assumed that negative fractions\n",
    "   have a negative numerator and a positive denominator. Using a\n",
    "   negative denominator would cause some of the relational operators to\n",
    "   give incorrect results. In general, this is an unnecessary\n",
    "   constraint. Modify the constructor to allow the user to pass a\n",
    "   negative denominator so that all of the operators continue to work\n",
    "   properly.\n",
    "\n",
    "1. Research the ``__radd__`` method. How does it differ from\n",
    "   ``__add__``? When is it used? Implement ``__radd__``.\n",
    "\n",
    "1. Repeat the last question but this time consider the ``__iadd__``\n",
    "   method.\n",
    "\n",
    "1. Research the ``__repr__`` method. How does it differ from\n",
    "   ``__str__``? When is it used? Implement ``__repr__``.\n",
    "\n",
    "1. Research other types of gates that exist (such as NAND, NOR, and\n",
    "   XOR). Add them to the circuit hierarchy. How much additional coding\n",
    "   did you need to do?\n",
    "\n",
    "1. The most simple arithmetic circuit is known as the half adder.\n",
    "   Research the simple half-adder circuit. Implement this circuit.\n",
    "\n",
    "1. Now extend that circuit and implement an 8-bit full adder.\n",
    "\n",
    "1. The circuit simulation shown in this chapter works in a backward\n",
    "   direction. In other words, given a circuit, the output is produced by\n",
    "   working back through the input values, which in turn cause other\n",
    "   outputs to be queried. This continues until external input lines are\n",
    "   found, at which point the user is asked for values. Modify the\n",
    "   implementation so that the action is in the forward direction; upon\n",
    "   receiving inputs the circuit produces an output.\n",
    "\n",
    "1. Design a class to represent a playing card and another one to represent a deck of cards.\n",
    "   Using these two classes, implement your favorite card game.\n",
    "\n",
    "1. Find a Sudoku puzzle online or in the local newspaper. Write a program to solve\n",
    "   the puzzle."
   ]
  }
 ],
 "metadata": {
  "kernelspec": {
   "display_name": "Python 3",
   "language": "python",
   "name": "python3"
  },
  "language_info": {
   "codemirror_mode": {
    "name": "ipython",
    "version": 3
   },
   "file_extension": ".py",
   "mimetype": "text/x-python",
   "name": "python",
   "nbconvert_exporter": "python",
   "pygments_lexer": "ipython3",
   "version": "3.8.8"
  }
 },
 "nbformat": 4,
 "nbformat_minor": 4
}
