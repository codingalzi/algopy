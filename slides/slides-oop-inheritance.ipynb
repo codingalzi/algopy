{
 "cells": [
  {
   "cell_type": "markdown",
   "id": "3efee1fe",
   "metadata": {
    "slideshow": {
     "slide_type": "slide"
    }
   },
   "source": [
    "# 상속"
   ]
  },
  {
   "cell_type": "markdown",
   "id": "64b2d26a",
   "metadata": {
    "slideshow": {
     "slide_type": "slide"
    }
   },
   "source": [
    "## 상속이란?"
   ]
  },
  {
   "cell_type": "markdown",
   "id": "4d76c577",
   "metadata": {},
   "source": [
    "- **상속**<font size='2'>inheritance</font>: 객체 지향 프로그래밍의 또 다른 주요 요소"
   ]
  },
  {
   "cell_type": "markdown",
   "id": "8a53babf",
   "metadata": {},
   "source": [
    "- 클래스를 선언할 때 다른 클래스의 속성과 메서드 상속 가능"
   ]
  },
  {
   "cell_type": "markdown",
   "id": "931cfe4c",
   "metadata": {},
   "source": [
    "- 상속을 받는 클래스: **자식 클래스** 또는 **하위 클래스**, "
   ]
  },
  {
   "cell_type": "markdown",
   "id": "53600e33",
   "metadata": {},
   "source": [
    "- 상속을 하는 클래스: **부모 클래스** 또는 **상위 클래스**"
   ]
  },
  {
   "cell_type": "markdown",
   "id": "017997d4",
   "metadata": {
    "slideshow": {
     "slide_type": "slide"
    }
   },
   "source": [
    "### 상속 활용 클래스 선언"
   ]
  },
  {
   "cell_type": "markdown",
   "id": "ac5241b8",
   "metadata": {},
   "source": [
    "```python\n",
    "class 자식클래스(부모클래스):\n",
    "    클래스 본문\n",
    "```"
   ]
  },
  {
   "cell_type": "markdown",
   "id": "636abf07",
   "metadata": {
    "slideshow": {
     "slide_type": "slide"
    }
   },
   "source": [
    "## 모음 자료형의 상속 체계"
   ]
  },
  {
   "cell_type": "markdown",
   "id": "b413b667",
   "metadata": {},
   "source": [
    "<div align=\"center\"><img src=\"https://raw.githubusercontent.com/codingalzi/algopy/master/jupyter-book/imgs/inheritance1.png\" width=\"50%\"></div>"
   ]
  },
  {
   "cell_type": "markdown",
   "id": "5fa6ad09",
   "metadata": {
    "slideshow": {
     "slide_type": "slide"
    }
   },
   "source": [
    "## Vector 클래스"
   ]
  },
  {
   "cell_type": "markdown",
   "id": "5ef74cf6",
   "metadata": {
    "slideshow": {
     "slide_type": ""
    }
   },
   "source": [
    "- 벡터: 정수 또는 부동소수점으로 구성된 리스트 형식의 모음 자료형"
   ]
  },
  {
   "cell_type": "markdown",
   "id": "cdaec6a8",
   "metadata": {
    "slideshow": {
     "slide_type": ""
    }
   },
   "source": [
    "- 예제: 넘파이(Numpy) 1차원 어레이"
   ]
  },
  {
   "cell_type": "markdown",
   "id": "14d671c1",
   "metadata": {
    "slideshow": {
     "slide_type": ""
    }
   },
   "source": [
    "- 길이가 동일한 두 벡터의 내적: 위치가 같은 두 항목의 곱셈의 합"
   ]
  },
  {
   "cell_type": "markdown",
   "id": "d26a8e32",
   "metadata": {
    "slideshow": {
     "slide_type": ""
    }
   },
   "source": [
    "- 내적 연산을 지원하도록 `list` 클래스의 기능 확장 필요"
   ]
  },
  {
   "cell_type": "markdown",
   "id": "962a465d",
   "metadata": {
    "slideshow": {
     "slide_type": "slide"
    }
   },
   "source": [
    "### `Vector` 클래스 선언"
   ]
  },
  {
   "cell_type": "markdown",
   "id": "85750a52",
   "metadata": {},
   "source": [
    "```python\n",
    "class Vector(list):\n",
    "    def __init__(self, items):\n",
    "        super().__init__(items)\n",
    "        self.len = self.__len__()\n",
    "\n",
    "    # 벡터 내적\n",
    "    def dot(self, other):\n",
    "        if self.len != other.len:\n",
    "            raise RuntimeError(\"두 벡터의 길이가 달라요!\")\n",
    "        sum = 0\n",
    "        for i in range(self.len):\n",
    "            sum += self[i] * other[i]\n",
    "        return sum\n",
    "```"
   ]
  },
  {
   "cell_type": "markdown",
   "id": "07fd7996",
   "metadata": {
    "slideshow": {
     "slide_type": "slide"
    }
   },
   "source": [
    "```python\n",
    ">>> x = Vector([2, 3, 4])\n",
    ">>> y = Vector([5, 6, 9])\n",
    "\n",
    ">>> print(x) # __str__() 메서드 상속\n",
    "[2, 3, 4]\n",
    "\n",
    ">>> x.dot(y) # 내적: 2*5 + 3*6 + 4*9\n",
    "64\n",
    "```"
   ]
  },
  {
   "cell_type": "markdown",
   "id": "ec8580e2",
   "metadata": {
    "slideshow": {
     "slide_type": "slide"
    }
   },
   "source": [
    "## 메서드 재정의"
   ]
  },
  {
   "cell_type": "markdown",
   "id": "b0e64ad5",
   "metadata": {},
   "source": [
    "- `append()` 메서드가 잘 작동하는 것처럼 보임\n",
    "\n",
    "- 반면에 `len` 속성의 값이 4로 변하지 않음\n",
    "\n",
    "- 그런데 `__len__()` 메서드와 `len()` 함수는 잘 작동"
   ]
  },
  {
   "cell_type": "markdown",
   "id": "1fc6870f",
   "metadata": {},
   "source": [
    "```python\n",
    ">>> x.append(5)\n",
    "\n",
    ">>> x\n",
    "[2, 3, 4, 5]\n",
    "\n",
    ">>> x.len\n",
    "3\n",
    "\n",
    ">>> x.__len__()\n",
    "4\n",
    "\n",
    ">>> len(x)\n",
    "4\n",
    "```"
   ]
  },
  {
   "cell_type": "markdown",
   "id": "6e186d4e",
   "metadata": {
    "slideshow": {
     "slide_type": "slide"
    }
   },
   "source": [
    "### `append()`, `pop()` 재정의"
   ]
  },
  {
   "cell_type": "markdown",
   "id": "1a7f246f",
   "metadata": {},
   "source": [
    "```python\n",
    "class Vector(list):\n",
    "\n",
    "    ... (중략)\n",
    "    \n",
    "    # append() 메서드 재정의\n",
    "    def append(self, item):\n",
    "        super().append(item) # 부모 클래스의 append() 메서드 호출\n",
    "        self.len = self.__len__()\n",
    "\n",
    "    # pop() 메서드 재정의\n",
    "    def pop(self, idx=-1):\n",
    "        super().pop(idx)     # 부모 클래스의 pop() 메서드 호출\n",
    "        self.len = self.__len__()\n",
    "```"
   ]
  },
  {
   "cell_type": "markdown",
   "id": "6eed4c24",
   "metadata": {
    "slideshow": {
     "slide_type": "slide"
    }
   },
   "source": [
    "### 인덱싱, 슬라이싱"
   ]
  },
  {
   "cell_type": "markdown",
   "id": "8b237333",
   "metadata": {},
   "source": [
    "- 인덱싱과 슬라이싱은 관련 메서드를 재정의 하지 않았기에 리스트의 경우와 동일하게 작동"
   ]
  },
  {
   "cell_type": "markdown",
   "id": "15dc97f4",
   "metadata": {},
   "source": [
    "```python\n",
    ">>> x = Vector([2, 3, 4])\n",
    "\n",
    ">>> x.append(5)\n",
    "\n",
    ">>> x.pop()\n",
    "\n",
    ">>> x.pop(1)\n",
    "\n",
    ">>> x\n",
    "[2, 4]\n",
    "\n",
    ">>> x[0]\n",
    "2\n",
    "\n",
    ">>> x[:2]\n",
    "[2, 4]\n",
    "```"
   ]
  },
  {
   "cell_type": "markdown",
   "id": "8c0ed0c5",
   "metadata": {
    "slideshow": {
     "slide_type": "slide"
    }
   },
   "source": [
    "### 외부 함수 선언: 메서드 활용"
   ]
  },
  {
   "cell_type": "markdown",
   "id": "0b0feb09",
   "metadata": {},
   "source": [
    "- 아래 `dot()` 함수: 벡터의 내적을 함수로 지정하면 편리함\n",
    "\n",
    "- `dot()` 함수를 호출하면 `Vector` 클래스의 `dot()` 메서드가 실행됨"
   ]
  },
  {
   "cell_type": "markdown",
   "id": "8fe651b7",
   "metadata": {},
   "source": [
    "```python\n",
    "def dot(x, y):\n",
    "    assert isinstance(x, Vector) and isinstance(y, Vector)\n",
    "\n",
    "    return x.dot(y)\n",
    "```"
   ]
  },
  {
   "cell_type": "markdown",
   "id": "58f635b4",
   "metadata": {},
   "source": [
    "```python\n",
    ">>> dot(x, y) == x.dot(y)\n",
    "True\n",
    "```"
   ]
  },
  {
   "cell_type": "markdown",
   "id": "7e58a227",
   "metadata": {
    "slideshow": {
     "slide_type": "slide"
    }
   },
   "source": [
    "### `__add__()` 매직 메서드 재정의: 벡터 합"
   ]
  },
  {
   "cell_type": "markdown",
   "id": "63551e63",
   "metadata": {},
   "source": [
    "```python\n",
    "class Vector(list):\n",
    "\n",
    "    ... (중략)\n",
    "    \n",
    "    def __add__(self, other):\n",
    "        # 벡터의 길이가 다르면 실행 오류 발생\n",
    "        if self.len != other.len:\n",
    "            raise RuntimeError(\"두 벡터의 길이가 달라요!\")\n",
    "\n",
    "        # 벡터 합 계산: 각 항목들의 합으로 이루어진 벡터\n",
    "        new_list = []\n",
    "        \n",
    "        for i in range(self.len):\n",
    "            item = self[i] + other[i]\n",
    "            new_list.append(item)\n",
    "\n",
    "        return Vector(new_list)\n",
    "```"
   ]
  },
  {
   "cell_type": "markdown",
   "id": "59e07675",
   "metadata": {
    "slideshow": {
     "slide_type": "slide"
    }
   },
   "source": [
    "```python\n",
    ">>> x = Vector([2, 3, 4])\n",
    "\n",
    ">>> y = Vector([5, 6, 9])\n",
    "\n",
    ">>> x + y\n",
    "[7, 9, 13]\n",
    "```"
   ]
  }
 ],
 "metadata": {
  "celltoolbar": "Slideshow",
  "kernelspec": {
   "display_name": "Python 3 (ipykernel)",
   "language": "python",
   "name": "python3"
  },
  "language_info": {
   "codemirror_mode": {
    "name": "ipython",
    "version": 3
   },
   "file_extension": ".py",
   "mimetype": "text/x-python",
   "name": "python",
   "nbconvert_exporter": "python",
   "pygments_lexer": "ipython3",
   "version": "3.12.2"
  }
 },
 "nbformat": 4,
 "nbformat_minor": 5
}
