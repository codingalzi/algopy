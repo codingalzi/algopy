{
 "cells": [
  {
   "cell_type": "markdown",
   "metadata": {
    "slideshow": {
     "slide_type": "slide"
    }
   },
   "source": [
    "# 최적화 문제와 동적계획법"
   ]
  },
  {
   "cell_type": "markdown",
   "metadata": {
    "slideshow": {
     "slide_type": "slide"
    }
   },
   "source": [
    "## 주요 내용"
   ]
  },
  {
   "cell_type": "markdown",
   "metadata": {},
   "source": [
    "- 최적화 문제"
   ]
  },
  {
   "cell_type": "markdown",
   "metadata": {},
   "source": [
    "- 메모이제이션"
   ]
  },
  {
   "cell_type": "markdown",
   "metadata": {},
   "source": [
    "- 동적계획법"
   ]
  },
  {
   "cell_type": "markdown",
   "metadata": {},
   "source": [
    "- 잔돈 지불 문제"
   ]
  },
  {
   "cell_type": "markdown",
   "metadata": {},
   "source": [
    "- 이항 계수"
   ]
  },
  {
   "cell_type": "markdown",
   "metadata": {
    "slideshow": {
     "slide_type": "slide"
    }
   },
   "source": [
    "## 최적화 문제"
   ]
  },
  {
   "cell_type": "markdown",
   "metadata": {},
   "source": [
    "- 여러 개의 해답 중에서 주어진 조건을 만족하는 최적의 해답을 찾는 문제"
   ]
  },
  {
   "cell_type": "markdown",
   "metadata": {},
   "source": [
    "- 최적의 기준: 특정 기준에 맞는 최댓값 또는 최솟값"
   ]
  },
  {
   "cell_type": "markdown",
   "metadata": {
    "slideshow": {
     "slide_type": "slide"
    }
   },
   "source": [
    "### 예제: 두 지점 사이의 최단 경로 찾기 문제"
   ]
  },
  {
   "cell_type": "markdown",
   "metadata": {
    "slideshow": {
     "slide_type": ""
    }
   },
   "source": [
    "- $v_1$에서 다른 지점으로 이동하는 가장 짧은 경로 찾기\n",
    "- 숫자는 두 지점 사이의 경로의 길이"
   ]
  },
  {
   "cell_type": "markdown",
   "metadata": {},
   "source": [
    "<figure>\n",
    "<div align=\"center\"><img src=\"https://raw.githubusercontent.com/codingrg-hknu/FoundationsOfAlgorithms/master/slides/images/algo04/algo04-07.png\" width=\"30%\"></div>\n",
    "</figure>"
   ]
  },
  {
   "cell_type": "markdown",
   "metadata": {
    "slideshow": {
     "slide_type": "slide"
    }
   },
   "source": [
    "## 잔돈 지불 문제"
   ]
  },
  {
   "cell_type": "markdown",
   "metadata": {},
   "source": [
    "- 63원을 지불하기 위해 필요한 최소한의 동전 수 계산하기"
   ]
  },
  {
   "cell_type": "markdown",
   "metadata": {},
   "source": [
    "- 1원, 5원, 10원, 25원짜리 동전만 이용"
   ]
  },
  {
   "cell_type": "markdown",
   "metadata": {
    "slideshow": {
     "slide_type": "slide"
    }
   },
   "source": [
    "### 기법 1: 탐욕 기법"
   ]
  },
  {
   "cell_type": "markdown",
   "metadata": {},
   "source": [
    "- 정해진 기준에 따라 **매 선택 순간에 가장 좋은 것**을 선택하는 기법"
   ]
  },
  {
   "cell_type": "markdown",
   "metadata": {},
   "source": [
    "- 잔돈 지불 문제의 경우: 가능한 가장 큰 단위의 동전 먼저 사용. 동전 최소 6개 필요\n",
    "    - 25원 동전: 2개\n",
    "    - 10원 동전: 1개\n",
    "    - 1원 동전: 3개"
   ]
  },
  {
   "cell_type": "markdown",
   "metadata": {},
   "source": [
    "- 탐욕 알고리즘이 항상 최선의 해답을 제공하지는 않음\n",
    "    - 잔돈 30원 지불 방법: 10원 동전 3개\n",
    "    - 탐욕 기법: 25원 동전 1나와 1원 동전 5개, 총 6개 필요"
   ]
  },
  {
   "cell_type": "markdown",
   "metadata": {
    "slideshow": {
     "slide_type": "slide"
    }
   },
   "source": [
    "### 기법 2: 완전 탐색"
   ]
  },
  {
   "cell_type": "markdown",
   "metadata": {},
   "source": [
    "- 가능한 모든 경우를 고려하는 기법\n",
    "- **부르트 포스**<font size='2'>brute force</font> 기법이라고도 불림"
   ]
  },
  {
   "cell_type": "markdown",
   "metadata": {},
   "source": [
    "$$\n",
    "\\text{동전개수} =\n",
    "min\n",
    "\\begin{cases}\n",
    "1 + \\text{동전개수}(\\text{지불액} - 1)\\quad\\quad \\text{(1원 동전 최소 하나)} \\\\\n",
    "1 + \\text{동전개수}(\\text{지불액} - 5)\\quad\\quad \\text{(5원 동전 최소 하나)} \\\\\n",
    "1 + \\text{동전개수}(\\text{지불액} - 10)\\quad\\quad \\text{(10원 동전 최소 하나)} \\\\\n",
    "1 + \\text{동전개수}(\\text{지불액} - 25)\\quad\\quad \\text{(25원 동전 최소 하나)}\n",
    "\\end{cases}\n",
    "$$"
   ]
  },
  {
   "cell_type": "code",
   "execution_count": 1,
   "metadata": {
    "slideshow": {
     "slide_type": "slide"
    }
   },
   "outputs": [],
   "source": [
    "def make_change_1(coin_value_list, change):\n",
    "    min_coins = change                          # 최소 동전 개수 초기화\n",
    "\n",
    "    if change in coin_value_list:               # 종료 조건\n",
    "        return 1\n",
    "    else:\n",
    "        # 사용 가능한 동전 목록\n",
    "        available_coins = [c for c in coin_value_list if c <= change]\n",
    "\n",
    "        # 하나의 동전을 사용한 각각의 경우: 재귀 적용\n",
    "        for i in available_coins:  \n",
    "            num_coins = 1 + make_change_1(coin_value_list, change - i)\n",
    "            \n",
    "            if num_coins < min_coins:            # 최소 동전 수 업데이트\n",
    "                min_coins = num_coins\n",
    "    \n",
    "    return min_coins"
   ]
  },
  {
   "cell_type": "code",
   "execution_count": 2,
   "metadata": {},
   "outputs": [
    {
     "data": {
      "text/plain": [
       "6"
      ]
     },
     "execution_count": 2,
     "metadata": {},
     "output_type": "execute_result"
    }
   ],
   "source": [
    "make_change_1([1, 5, 10, 25], 63)"
   ]
  },
  {
   "cell_type": "markdown",
   "metadata": {
    "slideshow": {
     "slide_type": "slide"
    }
   },
   "source": [
    "### 재귀 알고리즘의 기본 문제"
   ]
  },
  {
   "cell_type": "markdown",
   "metadata": {},
   "source": [
    "- 재귀 알고리즘의 실행에 많은 시간 소요\n",
    "- `make_change_1([1, 5, 10, 25], 63)` 실행:  67,716,925 번의 재귀 호출 발생\n",
    "- 아래 그림: `make_change_1([1, 5, 10, 25], 16)`를 실행할 때 `make_change_1([1, 5, 10, 25], 15)`가 최소 3번 이상 호출됨을 보여줌.\n",
    "    실제로는 52번 호출됨."
   ]
  },
  {
   "cell_type": "markdown",
   "metadata": {},
   "source": [
    "<figure>\n",
    "<div align=\"center\"><img src=\"https://raw.githubusercontent.com/codingalzi/algopy/master/notebooks/_images/callTree.png\" width=\"60%\"></div>\n",
    "</figure>"
   ]
  },
  {
   "cell_type": "markdown",
   "metadata": {
    "slideshow": {
     "slide_type": "slide"
    }
   },
   "source": [
    "### 기법 3: 메모이제이션"
   ]
  },
  {
   "cell_type": "markdown",
   "metadata": {},
   "source": [
    "- 작은 입력크기에 대한 반환값을 기억해두고 필요한 경우 재활용하는 기법"
   ]
  },
  {
   "cell_type": "markdown",
   "metadata": {
    "slideshow": {
     "slide_type": "slide"
    }
   },
   "source": [
    "<figure>\n",
    "<div align=\"center\"><img src=\"https://raw.githubusercontent.com/codingalzi/algopy/master/jupyter-book/imgs/change01.png\" width=\"20%\"></div>\n",
    "</figure>"
   ]
  },
  {
   "cell_type": "code",
   "execution_count": 4,
   "metadata": {
    "slideshow": {
     "slide_type": "slide"
    }
   },
   "outputs": [],
   "source": [
    "from collections import defaultdict\n",
    "def make_change_2(coin_value_list, change, known_results=defaultdict(int)):    \n",
    "    min_coins = change # 가장 큰 값으로 시작\n",
    "    \n",
    "    if change in coin_value_list:\n",
    "        known_results[change] = 1\n",
    "        return 1\n",
    "    \n",
    "    # 기존에 호출되었다면 저장된 값 재활용\n",
    "    # 키의 값이 0보다 크면, 이미 계산된 경우를 가리킴\n",
    "    elif known_results[change] > 0:\n",
    "        return known_results[change]\n",
    "    \n",
    "    else:\n",
    "        # 사용 가능한 동전 목록\n",
    "        available_coins = [c for c in coin_value_list if c <= change]\n",
    "\n",
    "        for i in available_coins:\n",
    "            num_coins = 1 + make_change_2(coin_value_list, \n",
    "                                          change - i, known_results)\n",
    "            if num_coins < min_coins:\n",
    "                min_coins = num_coins\n",
    "            known_results[change] = min_coins\n",
    "    return min_coins"
   ]
  },
  {
   "cell_type": "markdown",
   "metadata": {
    "slideshow": {
     "slide_type": "slide"
    }
   },
   "source": [
    "### 기법 4: 동적계획법"
   ]
  },
  {
   "cell_type": "markdown",
   "metadata": {},
   "source": [
    "- 재귀를 사용하지 않는 대신 재귀 알고리즘의 종료조건에서 출발하여\n",
    "    차례대로 필요한 인자에 해당하는 값까지 쌓아가는 기법"
   ]
  },
  {
   "cell_type": "markdown",
   "metadata": {},
   "source": [
    "- 잔돈 63원을 지불해야 하는 경우: 1원부터 출발해서 63원까지 각각의 경우에 필요한 최소 동전 수 계산"
   ]
  },
  {
   "cell_type": "markdown",
   "metadata": {},
   "source": [
    "- 메모이제이션 기법을 거꾸로 적용하는 것과 유사"
   ]
  },
  {
   "cell_type": "markdown",
   "metadata": {},
   "source": [
    "- 1원, 2원, 3원 등부터 63원까지 **모든 경우**에 대해 차례대로 필요한 최소 동전 수를 저장하여 재활용"
   ]
  },
  {
   "cell_type": "markdown",
   "metadata": {
    "slideshow": {
     "slide_type": "slide"
    }
   },
   "source": [
    "**예제**"
   ]
  },
  {
   "cell_type": "markdown",
   "metadata": {
    "slideshow": {
     "slide_type": ""
    }
   },
   "source": [
    "11원을 지불하고자 하는 경우 미리 계산되어 저장된 아래 세 경우를 확인한 다음에 최솟값을 선택\n",
    "\n",
    "- 1원 동전 사용: 나머지 10원을 지불할 때 필요한 최소 동전 수에 1을 더한 값\n",
    "- 5원 동전 사용: 나머지 6원을 지불할 때 필요한 최소 동전 수에 1을 더한 값\n",
    "- 10원 동전 사용: 나머지 1원을 지불할 때 필요한 최소 동전 수에 1을 더한 값"
   ]
  },
  {
   "cell_type": "markdown",
   "metadata": {
    "slideshow": {
     "slide_type": "slide"
    }
   },
   "source": [
    "<figure>\n",
    "<div align=\"center\"><img src=\"https://raw.githubusercontent.com/codingalzi/algopy/master/notebooks/_images/changeTable.png\" width=\"40%\"></div>\n",
    "</figure>"
   ]
  },
  {
   "cell_type": "code",
   "execution_count": 5,
   "metadata": {
    "slideshow": {
     "slide_type": "slide"
    }
   },
   "outputs": [],
   "source": [
    "from collections import defaultdict\n",
    "\n",
    "def make_change_3(coin_value_list, change):\n",
    "    min_coins = defaultdict(int)\n",
    "    \n",
    "    # 1원부터 차례대로 최소 동전 수 계산\n",
    "    for changeToMake in range(1, change + 1):\n",
    "        coin_count = changeToMake # 가장 큰 값으로 시작\n",
    "        # 사용 가능한 동전 목록\n",
    "        available_coins = [c for c in coin_value_list if c <= changeToMake]\n",
    "\n",
    "        for j in available_coins:\n",
    "            if min_coins[changeToMake - j] + 1 < coin_count:\n",
    "                coin_count = min_coins[changeToMake - j] + 1\n",
    "        \n",
    "        min_coins[changeToMake] = coin_count\n",
    "    \n",
    "    # 최종적으로 계산된 값 반환\n",
    "    return min_coins[change]"
   ]
  },
  {
   "cell_type": "markdown",
   "metadata": {
    "slideshow": {
     "slide_type": "slide"
    }
   },
   "source": [
    "**잔돈 지불 방법 출력**"
   ]
  },
  {
   "cell_type": "code",
   "execution_count": 6,
   "metadata": {},
   "outputs": [],
   "source": [
    "from collections import defaultdict\n",
    "\n",
    "def make_change_4(coin_value_list, change):\n",
    "    min_coins = defaultdict(int)\n",
    "    coins_used = defaultdict(int)\n",
    "    \n",
    "    for changeToMake in range(1, change + 1):\n",
    "        coin_count = changeToMake \n",
    "        # 마지막으로 사용된 코인 저장 용도. 1원부터 시작\n",
    "        new_coin = 1              \n",
    "\n",
    "        available_coins = [c for c in coin_value_list if c <= changeToMake]\n",
    "        for j in available_coins:\n",
    "            if min_coins[changeToMake - j] + 1 < coin_count:\n",
    "                coin_count = min_coins[changeToMake - j] + 1\n",
    "                new_coin = j\n",
    "        \n",
    "        min_coins[changeToMake] = coin_count\n",
    "        # changeToMake 를 지불할 때 사용되는 마지막 동전 기억\n",
    "        coins_used[changeToMake] = new_coin    \n",
    "    \n",
    "    return min_coins[change], coins_used"
   ]
  },
  {
   "cell_type": "code",
   "execution_count": 7,
   "metadata": {
    "slideshow": {
     "slide_type": "slide"
    }
   },
   "outputs": [],
   "source": [
    "\n",
    "def print_coins(coins_used, change):\n",
    "    coin = change\n",
    "    while coin > 0:\n",
    "        this_coin = coins_used[coin]\n",
    "        print(this_coin, end=\" \")\n",
    "        coin = coin - this_coin\n",
    "    print()"
   ]
  },
  {
   "cell_type": "code",
   "execution_count": 8,
   "metadata": {},
   "outputs": [
    {
     "name": "stdout",
     "output_type": "stream",
     "text": [
      "잔돈 63 센트를 지불하기 위해 다음 6 개의 동전 필요: 1 1 1 10 25 25 \n"
     ]
    }
   ],
   "source": [
    "amount = 63\n",
    "coin_list = [1, 5, 10, 25]\n",
    "\n",
    "num_coins, coins_used = make_change_4(coin_list, amount)\n",
    "\n",
    "print(f\"잔돈 {amount} 센트를 지불하기 위해 다음 {num_coins} 개의 동전 필요:\", end=\" \")\n",
    "print_coins(coins_used, amount)"
   ]
  },
  {
   "cell_type": "markdown",
   "metadata": {
    "slideshow": {
     "slide_type": "slide"
    }
   },
   "source": [
    "## 이항 계수"
   ]
  },
  {
   "cell_type": "markdown",
   "metadata": {},
   "source": [
    "아래 다항 등식에서 사용되는 계수 ${n \\choose k}$:\n",
    "\n",
    "$$\n",
    "\\begin{align*}\n",
    "(a + b)^n &= a^n + {n\\choose 1}a^{n-1}b + {n\\choose 2}a^{n-2}b^2 + \\cdots + {n\\choose n-1} ab^{n-1} + b^n \\\\\n",
    "&= \\sum_{k=0}^{n} {n\\choose k}a^{n-k} b^{k}\n",
    "\\end{align*}\n",
    "$$"
   ]
  },
  {
   "cell_type": "markdown",
   "metadata": {},
   "source": [
    "실제 값은 다음과 같음:\n",
    "\n",
    "$$\n",
    "{n\\choose k} = \\frac{n!}{k! \\, (n-k)!}    \n",
    "$$"
   ]
  },
  {
   "cell_type": "markdown",
   "metadata": {
    "slideshow": {
     "slide_type": "slide"
    }
   },
   "source": [
    "### 조합"
   ]
  },
  {
   "cell_type": "markdown",
   "metadata": {},
   "source": [
    "서로 다른 $n$ 개의 구술에서 임의로 서로 다른 $k$개의 구술을 선택하는 방법을 의미하기도 함:\n",
    "\n",
    "$$\n",
    "{n\\choose k} = \n",
    "\\begin{cases}\n",
    "{n-1 \\choose k-1} + {n-1\\choose k} & , 0 < k < n\\\\\n",
    "& \\\\\n",
    "1 & , k \\in \\{0, n\\}\n",
    "\\end{cases}\n",
    "$$"
   ]
  },
  {
   "cell_type": "markdown",
   "metadata": {
    "slideshow": {
     "slide_type": "slide"
    }
   },
   "source": [
    "### 파스칼의 삼각형"
   ]
  },
  {
   "cell_type": "markdown",
   "metadata": {},
   "source": [
    "<div align=\"center\"><img src=\"https://raw.githubusercontent.com/codingrg-hknu/FoundationsOfAlgorithms/master/slides/images/algo03/algo03-01.gif\" width=\"300\"/></div>"
   ]
  },
  {
   "cell_type": "markdown",
   "metadata": {
    "slideshow": {
     "slide_type": "slide"
    }
   },
   "source": [
    "### 이항 계수 계산: 재귀 활용"
   ]
  },
  {
   "cell_type": "code",
   "execution_count": 9,
   "metadata": {},
   "outputs": [],
   "source": [
    "def bin_coeff(n, k):\n",
    "    # 종료조건\n",
    "    if k == 0 or k == n:\n",
    "        return 1\n",
    "    else: # 재귀\n",
    "        return bin_coeff(n-1, k-1) + bin_coeff(n-1, k)"
   ]
  },
  {
   "cell_type": "markdown",
   "metadata": {},
   "source": [
    "- `bin_coeff(n, k)` 계산을 위한 `bin_coeff()` 함수 재귀 호출 횟수\n",
    "\n",
    "    $$\n",
    "    2{n\\choose k} -1\n",
    "    $$"
   ]
  },
  {
   "cell_type": "markdown",
   "metadata": {},
   "source": [
    "- 기본적으로 지수함수 정도의 나쁜 시간복잡도\n",
    "\n",
    "    $$\n",
    "    {n\\choose k} \\approx \\frac{n^k}{k!}\n",
    "    $$"
   ]
  },
  {
   "cell_type": "markdown",
   "metadata": {
    "slideshow": {
     "slide_type": "slide"
    }
   },
   "source": [
    "### 이항 계수 계산: 동적계획법 적용"
   ]
  },
  {
   "cell_type": "markdown",
   "metadata": {},
   "source": [
    "2차원 행렬 $B$의 항목을 파스칼의 삼각형이 만들어지는 과정과 동일한 방식으로 채움.\n",
    "- 숫자가 표시되지 않는 영역은 모두 0으로 채워졌다고 가정\n",
    "- $B[0][0]$ 에서 시작\n",
    "- 위에서 아래로 재귀 관계식을 적용하여 파스칼의 삼각형을 완성해 나감"
   ]
  },
  {
   "cell_type": "markdown",
   "metadata": {},
   "source": [
    "<figure>\n",
    "<div align=\"center\"><img src=\"https://raw.githubusercontent.com/codingalzi/algopy/master/notebooks/_images/pascalTriangle.png\" width=\"40%\"></div>\n",
    "</figure>"
   ]
  },
  {
   "cell_type": "code",
   "execution_count": 10,
   "metadata": {
    "slideshow": {
     "slide_type": "slide"
    }
   },
   "outputs": [],
   "source": [
    "def bin_coeff2(n, k):\n",
    "    # (n, k) 모양의 2차원 행렬 준비. 리스트 조건제시법 활용\n",
    "    \n",
    "    B = [[0 for _ in range(k+1)] for _ in range(n+1)]\n",
    "    \n",
    "    # 동적계획법으로 행렬 대각선 이하 부분 채워나가기\n",
    "    for i in range(n+1):\n",
    "        for j in range(min(i, k) + 1):\n",
    "            if j == 0 or j == i:\n",
    "                B[i][j] = 1\n",
    "            else:\n",
    "                B[i][j] = B[i-1][j-1] + B[i-1][j]\n",
    "    \n",
    "    return B[n][k]"
   ]
  },
  {
   "cell_type": "markdown",
   "metadata": {
    "slideshow": {
     "slide_type": "slide"
    }
   },
   "source": [
    "### `bin_coeff2(n, k)` 함수의 시간복잡도"
   ]
  },
  {
   "cell_type": "markdown",
   "metadata": {},
   "source": [
    "* 입력 크기: $n$과 $k$\n",
    "* 계산단위: `j` 변수에 대한 `for` 반복문 실행횟수\n",
    "\n",
    "| i 값 | 반복횟수 |\n",
    "| --- | --- |\n",
    "| 0 |       1 |\n",
    "| 1 |      2 |\n",
    "| 2 |      3 |\n",
    "| ... | ... |\n",
    "| k-1 |    k |\n",
    "| k |       k+1 |\n",
    "| k+1 |  k+1 |\n",
    "| ... | ... |\n",
    "| n |      k+1 |\n"
   ]
  },
  {
   "cell_type": "markdown",
   "metadata": {},
   "source": [
    "$$\n",
    "\\begin{align*}\n",
    "T(n, k) &= 1 + 2 + 3 + \\cdots + k + (k+1)\\cdot (n-k+1) \\\\\n",
    "&= \\frac{(2n-k+2)(k+1)}{2} \\\\\n",
    "& \\in O(n\\,k)\n",
    "\\end{align*}\n",
    "$$"
   ]
  }
 ],
 "metadata": {
  "celltoolbar": "Slideshow",
  "kernelspec": {
   "display_name": "Python 3 (ipykernel)",
   "language": "python",
   "name": "python3"
  },
  "language_info": {
   "codemirror_mode": {
    "name": "ipython",
    "version": 3
   },
   "file_extension": ".py",
   "mimetype": "text/x-python",
   "name": "python",
   "nbconvert_exporter": "python",
   "pygments_lexer": "ipython3",
   "version": "3.11.4"
  },
  "vscode": {
   "interpreter": {
    "hash": "6c86b3592b6800d985c04531f2c445f0fa6967131b8dd6395a925f7622e55602"
   }
  }
 },
 "nbformat": 4,
 "nbformat_minor": 4
}
