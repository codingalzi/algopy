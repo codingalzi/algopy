{
 "cells": [
  {
   "cell_type": "markdown",
   "metadata": {
    "slideshow": {
     "slide_type": "slide"
    }
   },
   "source": [
    "# 시간 복잡도"
   ]
  },
  {
   "cell_type": "markdown",
   "metadata": {
    "slideshow": {
     "slide_type": "slide"
    }
   },
   "source": [
    "## 주요 내용"
   ]
  },
  {
   "cell_type": "markdown",
   "metadata": {},
   "source": [
    "- 알고리즘 복잡도 분석"
   ]
  },
  {
   "cell_type": "markdown",
   "metadata": {},
   "source": [
    "- 시간 복잡도와 \"Big-O\" 표현식"
   ]
  },
  {
   "cell_type": "markdown",
   "metadata": {},
   "source": [
    "- 최선, 최악, 평균 시간 복잡도"
   ]
  },
  {
   "cell_type": "markdown",
   "metadata": {
    "slideshow": {
     "slide_type": "slide"
    }
   },
   "source": [
    "## 알고리즘 복잡도 분석"
   ]
  },
  {
   "cell_type": "markdown",
   "metadata": {},
   "source": [
    "- 동일한 문제를 해결하는 프로그램 두 개의 성능을 어떻게 비교할 수 있을까?"
   ]
  },
  {
   "cell_type": "markdown",
   "metadata": {},
   "source": [
    "- 먼저 알고리즘과 프로그램의 차이점을 이해해야 한다."
   ]
  },
  {
   "cell_type": "markdown",
   "metadata": {
    "slideshow": {
     "slide_type": "slide"
    }
   },
   "source": [
    "### 알고리즘 vs. 프로그램"
   ]
  },
  {
   "cell_type": "markdown",
   "metadata": {},
   "source": [
    "- 알고리즘\n",
    "    - 주어진 **문제를 해결하기 위한 절차**의 단계별 설명서.\n",
    "    - 주어진 문제의 모든 사례를 해결할 수 있어야 함.\n",
    "    - 예제: 최대공약수 구하기 문제를 해결하는 알고리즘은 임의의 두 정수의 최대공약수를 계산해야 함.\n",
    "    - 특정 프로그래밍언어 또는 프로그램 구현 방식과 무관함\n",
    "    - 주어진 문제를 해결하는 여러 종류의 알고리즘 존재 가능"
   ]
  },
  {
   "cell_type": "markdown",
   "metadata": {},
   "source": [
    "- (컴퓨터) 프로그램\n",
    "    - 주어진 문제를 해결하기 위해 **특정** 프로그래밍언어로 작성되어 실행이 가능한 코드\n",
    "    - 사용하는 프로그래밍언어와 작성자에 따른 여러 종류의 프로그램 존재\n",
    "    - 프로그램의 핵심은 문제해결을 위한 특정 알고리즘!\n",
    "    - 동일한 알고리즘을 이용하더라도 다르게 보이는 프로그램 구현 가능"
   ]
  },
  {
   "cell_type": "markdown",
   "metadata": {
    "slideshow": {
     "slide_type": "slide"
    }
   },
   "source": [
    "### 문제와 알고리즘"
   ]
  },
  {
   "cell_type": "markdown",
   "metadata": {},
   "source": [
    "- '두 정수의 최대공약수 구하기' **문제**를 해결하는 **알고리즘**\n",
    "    - 임의의 두 정수에 대해 동일한 방식으로 최대공약수를 구해야 함\n",
    "    - **문제의 특정 사례**에 의존하지 않아야 함."
   ]
  },
  {
   "cell_type": "markdown",
   "metadata": {},
   "source": [
    "- 주어진 문제를 해결하는 여러 알고리즘이 존재 가능"
   ]
  },
  {
   "cell_type": "markdown",
   "metadata": {
    "slideshow": {
     "slide_type": "slide"
    }
   },
   "source": [
    "### 문제 하나, 알고리즘 여러 개"
   ]
  },
  {
   "cell_type": "markdown",
   "metadata": {},
   "source": [
    "- 알고리즘 1: 초등학교에서 배운 방식\n",
    "\n",
    "<div align=\"center\"><img src=\"https://raw.githubusercontent.com/codingalzi/algopy/master/notebooks/_images/gcd_school.png\" width=\"60%\"></div>"
   ]
  },
  {
   "cell_type": "markdown",
   "metadata": {
    "slideshow": {
     "slide_type": "slide"
    }
   },
   "source": [
    "- 알고리즘 2: 유클리드 호제법 방식\n",
    "\n",
    "<div align=\"center\"><img src=\"https://raw.githubusercontent.com/codingalzi/algopy/master/notebooks/_images/gcd_euclid.jpg\" width=\"70%\"></div>\n"
   ]
  },
  {
   "cell_type": "markdown",
   "metadata": {
    "slideshow": {
     "slide_type": "slide"
    }
   },
   "source": [
    "### 알고리즘 하나, 프로그램 여러 개"
   ]
  },
  {
   "cell_type": "markdown",
   "metadata": {},
   "source": [
    "프로그램 1"
   ]
  },
  {
   "cell_type": "code",
   "execution_count": 1,
   "metadata": {},
   "outputs": [],
   "source": [
    "def sum_of_n(n):\n",
    "    the_sum = 0\n",
    "    for i in range(1, n + 1):\n",
    "        the_sum = the_sum + i\n",
    "\n",
    "    return the_sum"
   ]
  },
  {
   "cell_type": "markdown",
   "metadata": {},
   "source": [
    "프로그램 2"
   ]
  },
  {
   "cell_type": "code",
   "execution_count": 2,
   "metadata": {
    "slideshow": {
     "slide_type": ""
    }
   },
   "outputs": [],
   "source": [
    "def foo(tom):\n",
    "    fred = 0\n",
    "    for bill in range(1, tom + 1):\n",
    "        barney = bill\n",
    "        fred = fred + barney\n",
    "\n",
    "    return fred"
   ]
  },
  {
   "cell_type": "markdown",
   "metadata": {
    "slideshow": {
     "slide_type": "slide"
    }
   },
   "source": [
    "### 알고리즘 비교"
   ]
  },
  {
   "cell_type": "markdown",
   "metadata": {},
   "source": [
    "- 두 프로그램 중에서 어떤 프로그램이 보다 좋은 프로그램인가?\n",
    "    - 가독성, 명료성 등을 기준으로 보면 <프로그램 1>이 보다 좋음"
   ]
  },
  {
   "cell_type": "markdown",
   "metadata": {},
   "source": [
    "- **알고리즘 복잡도 분석**\n",
    "    - 프로그램 실행에 필요한 **컴퓨팅 자원**의 양과 활용의 효율성 측정\n",
    "    - 이 기준에서 보면 위 두 프로그램은 알고리즘 측면에서 동일함."
   ]
  },
  {
   "cell_type": "markdown",
   "metadata": {
    "slideshow": {
     "slide_type": "slide"
    }
   },
   "source": [
    "### 컴퓨팅 자원"
   ]
  },
  {
   "cell_type": "markdown",
   "metadata": {},
   "source": [
    "- 공간량: 알고리즘을 구현한 프로그램이 실행 될 때 요구되는 메모리, 저장 공간 등의 양"
   ]
  },
  {
   "cell_type": "markdown",
   "metadata": {},
   "source": [
    "- 실행 시간: 알고리즘을 구현한 프로그램이 특정 결과를 반환할 때까지 걸리는 실행 시간"
   ]
  },
  {
   "cell_type": "markdown",
   "metadata": {
    "slideshow": {
     "slide_type": "slide"
    }
   },
   "source": [
    "### 입력 크기에 따라 실행 시간이 선형적으로 달라지는 알고리즘"
   ]
  },
  {
   "cell_type": "markdown",
   "metadata": {},
   "source": [
    "실행 시간 측정"
   ]
  },
  {
   "cell_type": "code",
   "execution_count": 3,
   "metadata": {},
   "outputs": [],
   "source": [
    "import time\n",
    "\n",
    "def sum_of_n_time(n):\n",
    "\n",
    "    start = time.time()   # 실행 시작\n",
    "    sum_of_n(n)           # 1부터 n까지의 합 계산\n",
    "    end = time.time()     # 실행 종료\n",
    "\n",
    "    return end - start   # 1부터 n까지의 합 계산에 필요한 시간"
   ]
  },
  {
   "cell_type": "markdown",
   "metadata": {
    "slideshow": {
     "slide_type": "slide"
    }
   },
   "source": [
    "1만까지의 합"
   ]
  },
  {
   "cell_type": "code",
   "execution_count": 4,
   "metadata": {},
   "outputs": [
    {
     "name": "stdout",
     "output_type": "stream",
     "text": [
      "1부터 10000까지 더하는데 평균적으로 0.00021초 걸림.\n"
     ]
    }
   ],
   "source": [
    "n = 10000\n",
    "m = 10\n",
    "time_sum = 0\n",
    "\n",
    "for i in range(m):\n",
    "    time_sum += sum_of_n_time(n)\n",
    "    \n",
    "print(f\"1부터 {n}까지 더하는데 평균적으로 {time_sum/m:7.5f}초 걸림.\")"
   ]
  },
  {
   "cell_type": "markdown",
   "metadata": {
    "slideshow": {
     "slide_type": ""
    }
   },
   "source": [
    "10만까지의 합"
   ]
  },
  {
   "cell_type": "code",
   "execution_count": 5,
   "metadata": {},
   "outputs": [
    {
     "name": "stdout",
     "output_type": "stream",
     "text": [
      "1부터 100000까지 더하는데 평균적으로 0.00239초 걸림.\n"
     ]
    }
   ],
   "source": [
    "n = 100000\n",
    "m = 10\n",
    "time_sum = 0\n",
    "\n",
    "for i in range(m):\n",
    "    time_sum += sum_of_n_time(n)\n",
    "    \n",
    "print(f\"1부터 {n}까지 더하는데 평균적으로 {time_sum/m:7.5f}초 걸림.\")"
   ]
  },
  {
   "cell_type": "markdown",
   "metadata": {
    "slideshow": {
     "slide_type": "slide"
    }
   },
   "source": [
    "100만까지의 합"
   ]
  },
  {
   "cell_type": "code",
   "execution_count": 6,
   "metadata": {},
   "outputs": [
    {
     "name": "stdout",
     "output_type": "stream",
     "text": [
      "1부터 1000000까지 더하는데 평균적으로 0.02529초 걸림.\n"
     ]
    }
   ],
   "source": [
    "n = 1000000\n",
    "m = 10\n",
    "time_sum = 0\n",
    "\n",
    "for i in range(m):\n",
    "    time_sum += sum_of_n_time(n)\n",
    "    \n",
    "print(f\"1부터 {n}까지 더하는데 평균적으로 {time_sum/m:7.5f}초 걸림.\")"
   ]
  },
  {
   "cell_type": "markdown",
   "metadata": {
    "slideshow": {
     "slide_type": ""
    }
   },
   "source": [
    "1천만까지의 합"
   ]
  },
  {
   "cell_type": "code",
   "execution_count": 7,
   "metadata": {},
   "outputs": [
    {
     "name": "stdout",
     "output_type": "stream",
     "text": [
      "1부터 10000000까지 더하는데 평균적으로 0.24920초 걸림.\n"
     ]
    }
   ],
   "source": [
    "n = 10000000\n",
    "m = 10\n",
    "time_sum = 0\n",
    "\n",
    "for i in range(m):\n",
    "    time_sum += sum_of_n_time(n)\n",
    "    \n",
    "print(f\"1부터 {n}까지 더하는데 평균적으로 {time_sum/m:7.5f}초 걸림.\")"
   ]
  },
  {
   "cell_type": "markdown",
   "metadata": {
    "slideshow": {
     "slide_type": "slide"
    }
   },
   "source": [
    "### 입력 크기에 상관 없이 실행 시간이 일정한 알고리즘"
   ]
  },
  {
   "cell_type": "markdown",
   "metadata": {},
   "source": [
    "**예제: 1 부터 n 까지 합 구하기** (다른 알고리즘)\n",
    "\n",
    "`sum_of_n_3()` 함수는 1부터 n까지의 합을 계산하기 위해 아래 식을 이용한다. \n",
    "\n",
    "$$\n",
    "\\sum_{i=1}^{n} i = \\frac {n\\,(n+1)}{2}\n",
    "$$"
   ]
  },
  {
   "cell_type": "code",
   "execution_count": 8,
   "metadata": {},
   "outputs": [],
   "source": [
    "def sum_of_n_2(n):\n",
    "    \n",
    "    sum = (n * (n + 1)) / 2\n",
    "    \n",
    "    return sum"
   ]
  },
  {
   "cell_type": "markdown",
   "metadata": {
    "slideshow": {
     "slide_type": "slide"
    }
   },
   "source": [
    "- 실행 시간 측정"
   ]
  },
  {
   "cell_type": "code",
   "execution_count": 9,
   "metadata": {
    "slideshow": {
     "slide_type": ""
    }
   },
   "outputs": [],
   "source": [
    "def sum_of_n_2_time(n):\n",
    "    start = time.time()  # 실행 시작\n",
    "    sum_of_n_2(n)\n",
    "    end = time.time()    # 실행 종료\n",
    "    \n",
    "    return end - start"
   ]
  },
  {
   "cell_type": "markdown",
   "metadata": {},
   "source": [
    "- 실행시간이 입력값에 의존하지 않음"
   ]
  },
  {
   "cell_type": "code",
   "execution_count": 10,
   "metadata": {},
   "outputs": [
    {
     "name": "stdout",
     "output_type": "stream",
     "text": [
      "1부터    10000까지 더하는데 평균적으로 0.0000003337860107초 걸림.\n",
      "1부터   100000까지 더하는데 평균적으로 0.0000001668930054초 걸림.\n",
      "1부터  1000000까지 더하는데 평균적으로 0.0000000000000000초 걸림.\n",
      "1부터 10000000까지 더하는데 평균적으로 0.0000000953674316초 걸림.\n"
     ]
    }
   ],
   "source": [
    "m = 10\n",
    "\n",
    "for n in [10000, 100000, 1000000, 10000000]:\n",
    "    time_sum = 0\n",
    "    \n",
    "    for i in range(m):\n",
    "        time_sum += sum_of_n_2_time(n)\n",
    "\n",
    "    print(f\"1부터 {n:8d}까지 더하는데 평균적으로 {time_sum/m:.16f}초 걸림.\")"
   ]
  },
  {
   "cell_type": "markdown",
   "metadata": {
    "slideshow": {
     "slide_type": "slide"
    }
   },
   "source": [
    "## 시간 복잡도"
   ]
  },
  {
   "cell_type": "markdown",
   "metadata": {},
   "source": [
    "- 실행 시간이 `sum_of_n()` 함수보다 훨씬 빠르지만 실행 시간을 절대적인 기준으로 사용되기 어려움."
   ]
  },
  {
   "cell_type": "markdown",
   "metadata": {},
   "source": [
    "- 프로그램 실행시간은 사용되는 컴퓨터, 실행 환경, 컴파일러, 프로그래밍언어 등등에 의존하기 때문임."
   ]
  },
  {
   "cell_type": "markdown",
   "metadata": {},
   "source": [
    "- 시간 복잡도를 이용한 알고리즘 복잡도 분석이 요구됨."
   ]
  },
  {
   "cell_type": "markdown",
   "metadata": {
    "slideshow": {
     "slide_type": "slide"
    }
   },
   "source": [
    "### 계산단위"
   ]
  },
  {
   "cell_type": "markdown",
   "metadata": {},
   "source": [
    "- 특정 연산자 또는 특정 명령문 등의 실행 횟수 확인"
   ]
  },
  {
   "cell_type": "markdown",
   "metadata": {},
   "source": [
    "- 계산단위: 실행시간을 측정하기 위해 사용되는 연산자 또는 특정 명령문"
   ]
  },
  {
   "cell_type": "markdown",
   "metadata": {},
   "source": [
    "- 무엇을 계산단위로 지정할 것인가는 알고리즘에 따라 적정하게 지정"
   ]
  },
  {
   "cell_type": "markdown",
   "metadata": {
    "slideshow": {
     "slide_type": "slide"
    }
   },
   "source": [
    "### `sum_of_n()` 함수의 일정 시간 복잡도"
   ]
  },
  {
   "cell_type": "markdown",
   "metadata": {},
   "source": [
    "```python\n",
    "def sum_of_n(n):\n",
    "    the_sum = 0                  # 한 번 할당\n",
    "    for i in range(1, n + 1):\n",
    "        the_sum = the_sum + i    # n 번 할당\n",
    "\n",
    "    return the_sum\n",
    "```"
   ]
  },
  {
   "cell_type": "markdown",
   "metadata": {},
   "source": [
    "- `sum_of_n()` 함수 알고리즘의 기본 계산 단위: 변수 할당\n",
    "\n",
    "- 변수 할당을 계산단위로 사용할 때의 `sum_of_n()` 함수의 일정 시간 복잡도\n",
    "\n",
    "$$\n",
    "T(n) = n + 1\n",
    "$$\n",
    "\n",
    "- $T(n)$의 의미: **크기가 $n$인 입력값에 대해 $T(n)$의 시간이 지나면 해당 알고리즘이 반환값을 계산하고 종료한다**\n",
    "    "
   ]
  },
  {
   "cell_type": "markdown",
   "metadata": {
    "slideshow": {
     "slide_type": "slide"
    }
   },
   "source": [
    "### `sum_of_n_2()` 함수의 일정 시간 복잡도"
   ]
  },
  {
   "cell_type": "markdown",
   "metadata": {},
   "source": [
    "```python\n",
    "def sum_of_n_2(n):\n",
    "    sum = (n * (n + 1)) / 2\n",
    "    return sum\n",
    "```"
   ]
  },
  {
   "cell_type": "markdown",
   "metadata": {},
   "source": [
    "$$T(n) = 1$$"
   ]
  },
  {
   "cell_type": "markdown",
   "metadata": {
    "slideshow": {
     "slide_type": "slide"
    }
   },
   "source": [
    "### 예제: 일정 시간 복잡도 계산"
   ]
  },
  {
   "cell_type": "code",
   "execution_count": 11,
   "metadata": {},
   "outputs": [],
   "source": [
    "def fun(n):\n",
    "    a = 5\n",
    "    b = 6\n",
    "    for i in range(n):\n",
    "        for j in range(n):\n",
    "            x = i * i\n",
    "            y = j * j\n",
    "            z = i * j\n",
    "    for k in range(n):\n",
    "        w = a * k + 45\n",
    "        v = b * b"
   ]
  },
  {
   "cell_type": "markdown",
   "metadata": {
    "slideshow": {
     "slide_type": ""
    }
   },
   "source": [
    "- 계산단위: 변수 할당\n",
    "- 일정 시간 복잡도\n",
    "\n",
    "$$\n",
    "T(n) = 3n^{2} + 2n + 2\n",
    "$$"
   ]
  },
  {
   "cell_type": "markdown",
   "metadata": {
    "slideshow": {
     "slide_type": "slide"
    }
   },
   "source": [
    "### `sum_of_n()` 함수의 Big-O 표현식"
   ]
  },
  {
   "cell_type": "markdown",
   "metadata": {},
   "source": [
    "- $T(n) = n + 1$ 에서 $1$은 별로 중요하지 않음\n",
    "    - 이유: n이 커질 수록 n+1 과 n의 차이는 무시될 수 있음."
   ]
  },
  {
   "cell_type": "markdown",
   "metadata": {},
   "source": [
    "- $T(n)$의 **Big-O 표현식**\n",
    "\n",
    "$$\n",
    "T(n) \\in O(n)\n",
    "$$"
   ]
  },
  {
   "cell_type": "markdown",
   "metadata": {
    "slideshow": {
     "slide_type": "slide"
    }
   },
   "source": [
    "### Big-O 표현식"
   ]
  },
  {
   "cell_type": "markdown",
   "metadata": {},
   "source": [
    "시간 복잡도 함수를 `Big-O` 표현식으로 표현하는 일반적인 방법\n",
    "\n",
    "- 입력 크기 $n$이 매우 커질 때 가장 중요한 역할을 수행하는 항 지정\n",
    "- 그런 항이 $f(n)$ 이라 할 때 아래처럼 표기:"
   ]
  },
  {
   "cell_type": "markdown",
   "metadata": {},
   "source": [
    "$$\n",
    "T(n) \\in O(f(n))\n",
    "$$"
   ]
  },
  {
   "cell_type": "markdown",
   "metadata": {
    "slideshow": {
     "slide_type": "slide"
    }
   },
   "source": [
    "**예제: $T(n)=3n^{2} + 2n + 2$**"
   ]
  },
  {
   "cell_type": "markdown",
   "metadata": {
    "slideshow": {
     "slide_type": ""
    }
   },
   "source": [
    "- 고차항이 가장 중요. \n",
    "- 상수배는 컴퓨터의 성능에 따라 발생할 수 있는 요인이기에 무시함."
   ]
  },
  {
   "cell_type": "markdown",
   "metadata": {
    "slideshow": {
     "slide_type": ""
    }
   },
   "source": [
    "$$\n",
    "T(n) \\in O(n^2)\n",
    "$$"
   ]
  },
  {
   "cell_type": "markdown",
   "metadata": {
    "slideshow": {
     "slide_type": "slide"
    }
   },
   "source": [
    "**예제: $T(n)=\\frac{1}{1000}n \\log n + 3n + 205$**"
   ]
  },
  {
   "cell_type": "markdown",
   "metadata": {},
   "source": [
    "- $n$ 보다 $n \\log n$ 이 더 큼."
   ]
  },
  {
   "cell_type": "markdown",
   "metadata": {},
   "source": [
    "$$\n",
    "T(n) \\in O(n \\log n)\n",
    "$$"
   ]
  },
  {
   "cell_type": "markdown",
   "metadata": {
    "slideshow": {
     "slide_type": "slide"
    }
   },
   "source": [
    "**예제: $T(n)=c$의 시간 복잡도 ($c$는 상수)**"
   ]
  },
  {
   "cell_type": "markdown",
   "metadata": {
    "slideshow": {
     "slide_type": ""
    }
   },
   "source": [
    "- 상수배는 무시"
   ]
  },
  {
   "cell_type": "markdown",
   "metadata": {
    "slideshow": {
     "slide_type": ""
    }
   },
   "source": [
    "$$\n",
    "T(n) \\in O(1)\n",
    "$$"
   ]
  },
  {
   "cell_type": "markdown",
   "metadata": {
    "slideshow": {
     "slide_type": "slide"
    }
   },
   "source": [
    "### 주요 시간 복잡도 함수"
   ]
  },
  {
   "cell_type": "markdown",
   "metadata": {},
   "source": [
    "| **시간 복잡도**  | **의미**| \n",
    "| --- | --- |\n",
    "| $1$ | 상수 시간|\n",
    "| $\\log n$ | 로그 시간 |\n",
    "| $n$ | 선형 시간 |\n",
    "| $n\\log n$ | 로그선형 시간 |\n",
    "| $n^{2}$ | 2차 시간 |\n",
    "| $2^{n}$ | 지수 시간|\n",
    "| $n!$    | 계승 시간 |"
   ]
  },
  {
   "cell_type": "markdown",
   "metadata": {
    "slideshow": {
     "slide_type": "slide"
    }
   },
   "source": [
    "### 시간 복잡도 함수의 그래프"
   ]
  },
  {
   "cell_type": "markdown",
   "metadata": {},
   "source": [
    "<div align=\"center\"><img src=\"https://raw.githubusercontent.com/codingalzi/algopy/master/notebooks/_images/big-o1.png\" width=\"80%\"></div>"
   ]
  },
  {
   "cell_type": "markdown",
   "metadata": {
    "slideshow": {
     "slide_type": "slide"
    }
   },
   "source": [
    "### 시간 복잡도와 실행시간"
   ]
  },
  {
   "cell_type": "markdown",
   "metadata": {},
   "source": [
    "* 가정: 계산 단위 실행 시간 = 1 ns(나노 초, 10억 분의 1 초)\n",
    "* ms(밀리 초): 천 분의 1초, $\\mu$s(마이크로 초): 100만 분의 1초\n",
    "* $n$: 입력 크기\n",
    "\n",
    "| $n$ | <div style=\"width:80px\">$\\lg n$</div> | <div style=\"width:100px\">$n$</div> | <div style=\"width:100px\">$n\\, \\lg n$</div> | <div style=\"width:100px\">$n^2$</div> | <div style=\"width:100px\">$2^n$</div> |\n",
    "|--------:|--------:|--------:|--------:|--------:|--------:|\n",
    "| $10$ | $0.003$ $\\mu$s| $0.01$ $\\mu$s | $0.033$ $\\mu$s | $0.10$ $\\mu$s | $1$ $\\mu$s |\n",
    "| $20$ | $0.004$ $\\mu$s| $0.02$ $\\mu$s | $0.086$ $\\mu$s | $0.40$ $\\mu$s | $1$ ms |\n",
    "| $30$ | $0.005$ $\\mu$s| $0.03$ $\\mu$s | $0.147$ $\\mu$s | $0.90$ $\\mu$s | $1$ 초 |\n",
    "| $40$ | $0.005$ $\\mu$s| $0.04$ $\\mu$s | $0.213$ $\\mu$s | $1.60$ $\\mu$s | $18.3$ 분 |\n",
    "| $50$ | $0.006$ $\\mu$s| $0.05$ $\\mu$s | $0.282$ $\\mu$s | $2.50$ $\\mu$s | $13$ 일 |\n",
    "| $10^2$ | $0.007$ $\\mu$s| $0.10$ $\\mu$s | $0.664$ $\\mu$s | $10.00$ $\\mu$s | $4 \\times 10^{13}$ 년 |\n",
    "| $10^3$ | $0.010$ $\\mu$s| $1.00$ $\\mu$s | $9.966$ $\\mu$s | $1.00$ ms | |\n",
    "| $10^4$ | $0.013$ $\\mu$s| $10.00$ $\\mu$s | $130.000$ $\\mu$s | $100.00$ ms | |\n",
    "| $10^5$ | $0.017$ $\\mu$s| $0.10$ ms | $1.670$ ms | $10.00$ 초 | |\n",
    "| $10^6$ | $0.020$ $\\mu$s| $1.00$ ms | $19.930$ ms | $16.70$ 초 | |\n",
    "| $10^7$ | $0.023$ $\\mu$s| $0.01$ 초 | $0.230$ 초 | $1.16$ 일 | |\n",
    "| $10^8$ | $0.027$ $\\mu$s| $0.10$ 초 | $2.660$ 초 | $115.70$ 일 | |\n",
    "| $10^9$ | $0.030$ $\\mu$s| $1.00$ 초 | $29.900$ 초 | $31.70$ 년 | |"
   ]
  },
  {
   "cell_type": "markdown",
   "metadata": {
    "slideshow": {
     "slide_type": "slide"
    }
   },
   "source": [
    "## 최선, 최악, 평균 시간 복잡도"
   ]
  },
  {
   "cell_type": "markdown",
   "metadata": {},
   "source": [
    "- 알고리즘의 시간 복잡도가 입력 크기뿐만 아니라 입력값 자체에 의존할 수도 있음."
   ]
  },
  {
   "cell_type": "markdown",
   "metadata": {},
   "source": [
    "- 일정 시간 복잡도 $T(n)$ 계산 불가능"
   ]
  },
  {
   "cell_type": "markdown",
   "metadata": {},
   "source": [
    "- 최선, 최악, 평균 시간 복잡도를 계산 필요"
   ]
  },
  {
   "cell_type": "markdown",
   "metadata": {
    "slideshow": {
     "slide_type": "slide"
    }
   },
   "source": [
    "### 순차 탐색"
   ]
  },
  {
   "cell_type": "markdown",
   "metadata": {},
   "source": [
    "<div align=\"center\"><img src=\"https://raw.githubusercontent.com/codingalzi/algopy/master/jupyter-book/imgs/seqsearch.png\" width=\"50%\"></div>"
   ]
  },
  {
   "cell_type": "code",
   "execution_count": 19,
   "metadata": {},
   "outputs": [],
   "source": [
    "def seqSearch(sequence, value):\n",
    "    for item in sequence:\n",
    "        if item == value:    # 계산 단위\n",
    "            return True\n",
    "    return found"
   ]
  },
  {
   "cell_type": "code",
   "execution_count": 20,
   "metadata": {
    "slideshow": {
     "slide_type": ""
    }
   },
   "outputs": [
    {
     "name": "stdout",
     "output_type": "stream",
     "text": [
      "True\n",
      "True\n"
     ]
    }
   ],
   "source": [
    "seq = [54, 26, 93, 17, 77, 31, 44, 55, 20, 65]\n",
    "seq_sorted = [17, 20, 26, 31, 44, 54, 55, 65, 77, 93]\n",
    "print(seqSearch(seq, 93))\n",
    "print(seqSearch(seq_sorted, 93))"
   ]
  },
  {
   "cell_type": "markdown",
   "metadata": {
    "slideshow": {
     "slide_type": "slide"
    }
   },
   "source": [
    "### `seqSearch()` 함수의 일정 시간 복잡도 $T(n)$ 계산 가능?"
   ]
  },
  {
   "cell_type": "markdown",
   "metadata": {
    "slideshow": {
     "slide_type": ""
    }
   },
   "source": [
    "- 입력 크기 $n$: 첫째인자로 사용되는 리스트의 길이"
   ]
  },
  {
   "cell_type": "markdown",
   "metadata": {
    "slideshow": {
     "slide_type": ""
    }
   },
   "source": [
    "- 계산 단위: 비교 연산 `==` 명령문"
   ]
  },
  {
   "cell_type": "markdown",
   "metadata": {
    "slideshow": {
     "slide_type": ""
    }
   },
   "source": [
    "- `seqSearch(testlist, 93)` 호출: 비교를 세 번 실행"
   ]
  },
  {
   "cell_type": "markdown",
   "metadata": {
    "slideshow": {
     "slide_type": ""
    }
   },
   "source": [
    "- `seqSearch(testlist_sorted, 93)` 호출: 비교 열 번 실행"
   ]
  },
  {
   "cell_type": "markdown",
   "metadata": {
    "slideshow": {
     "slide_type": ""
    }
   },
   "source": [
    "- 동일한 길이의 리스트를 사용하더라도 리스트에 포함된 항목들의 순서에 따라 실행시간이 달라짐."
   ]
  },
  {
   "cell_type": "markdown",
   "metadata": {
    "slideshow": {
     "slide_type": ""
    }
   },
   "source": [
    "- 일정 시간 복잡도 $T(n)$을 계산 불가능"
   ]
  },
  {
   "cell_type": "markdown",
   "metadata": {
    "slideshow": {
     "slide_type": "slide"
    }
   },
   "source": [
    "### `seqSearch()` 함수의 최선, 최악, 평균 시간 복잡도"
   ]
  },
  {
   "cell_type": "markdown",
   "metadata": {
    "slideshow": {
     "slide_type": ""
    }
   },
   "source": [
    "- 입력 크기 $n$에 의존하는 시간 복잡도의 최솟값, 최댓값, 평균값 계산 가능"
   ]
  },
  {
   "cell_type": "markdown",
   "metadata": {
    "slideshow": {
     "slide_type": ""
    }
   },
   "source": [
    "- 알고리즘의 **최선**(best), **최악**(worst), **평균**(average) 시간 복잡도 계산"
   ]
  },
  {
   "cell_type": "markdown",
   "metadata": {
    "slideshow": {
     "slide_type": ""
    }
   },
   "source": [
    "- 입력 크기는 리스트의 길이로 지정\n",
    "\n",
    "| | 최선 | 최악 | 평균 |\n",
    "| :---: | :---: | :---: | :---: |\n",
    "| 항목인 경우 | 1 | n | n/2 |\n",
    "| 항목이 아닌 경우 | n | n | n |"
   ]
  },
  {
   "cell_type": "markdown",
   "metadata": {
    "slideshow": {
     "slide_type": "slide"
    }
   },
   "source": [
    "### $B(n)$, $W(n)$, $A(n)$"
   ]
  },
  {
   "cell_type": "markdown",
   "metadata": {
    "slideshow": {
     "slide_type": ""
    }
   },
   "source": [
    "- $B(n)$, $W(n)$, $A(n)$: 각각 최선, 최악, 평균 시간 복잡도 함수를 가리킴"
   ]
  },
  {
   "cell_type": "markdown",
   "metadata": {
    "slideshow": {
     "slide_type": ""
    }
   },
   "source": [
    "- 일정 시간 복잡도 $T(n)$이 존재할 때: \n",
    "\n",
    "    $$T(n) = B(n) = A(n) = W(n)$$"
   ]
  },
  {
   "cell_type": "markdown",
   "metadata": {
    "slideshow": {
     "slide_type": ""
    }
   },
   "source": [
    "- 일정 시간 복잡도 $T(n)$이 존재하지 않을 때:\n",
    "\n",
    "    $$B(n) \\le A(n) \\le W(n)$$"
   ]
  },
  {
   "cell_type": "markdown",
   "metadata": {
    "slideshow": {
     "slide_type": "slide"
    }
   },
   "source": [
    "### 어구전철"
   ]
  },
  {
   "cell_type": "markdown",
   "metadata": {},
   "source": [
    "- 단어를 구성하는 문자의 순서를 바꾸어 새로운 단어 생성하기"
   ]
  },
  {
   "cell_type": "markdown",
   "metadata": {},
   "source": [
    "- 영어로 **애너그램**<font size='2'>anagram</font>"
   ]
  },
  {
   "cell_type": "markdown",
   "metadata": {},
   "source": [
    "- 예제:\n",
    "    - \"국왕\", \"왕국\"\n",
    "    - \"다들 힘내\", \"힘내 다들\", \"내 힘들다\"\n",
    "    - \"heart\", \"earth\"\n",
    "    - \"python\", \"typhon\" "
   ]
  },
  {
   "cell_type": "markdown",
   "metadata": {
    "slideshow": {
     "slide_type": "slide"
    }
   },
   "source": [
    "### 어구전철 확인 알고리즘 1: 일일이 확인하기"
   ]
  },
  {
   "cell_type": "code",
   "execution_count": 14,
   "metadata": {},
   "outputs": [],
   "source": [
    "def anagram_solution_1(s1, s2):\n",
    "    still_ok = True\n",
    "    if len(s1) != len(s2):\n",
    "        still_ok = False\n",
    "    s2_list = list(s2)\n",
    "    pos_1 = 0         \n",
    "\n",
    "    while pos_1 < len(s1) and still_ok:\n",
    "        pos_2 = 0                                 \n",
    "        found = False\n",
    "        while pos_2 < len(s2_list) and not found:\n",
    "            if s1[pos_1] == s2_list[pos_2]:\n",
    "                found = True\n",
    "            else:\n",
    "                pos_2 = pos_2 + 1\n",
    "        if found:\n",
    "            s2_list[pos_2] = None\n",
    "        else:\n",
    "            still_ok = False\n",
    "        pos_1 = pos_1 + 1\n",
    "\n",
    "    return still_ok"
   ]
  },
  {
   "cell_type": "markdown",
   "metadata": {
    "slideshow": {
     "slide_type": "slide"
    }
   },
   "source": [
    "### 두 문자열이 서로 어구전철일  때"
   ]
  },
  {
   "cell_type": "markdown",
   "metadata": {
    "slideshow": {
     "slide_type": ""
    }
   },
   "source": [
    "- 계산단위: 두 문자열 항목들 사이의 비교 연산\n",
    "- 입력 크기: 문자열의 길이\n",
    "- 두 문자열이 서로 어구전철일 때"
   ]
  },
  {
   "cell_type": "markdown",
   "metadata": {
    "slideshow": {
     "slide_type": ""
    }
   },
   "source": [
    "$$\n",
    "\\begin{align*}\n",
    "T(n) &= \\sum_{i=1}^{n} i \\\\\n",
    "    &= \\frac {n(n+1)}{2} \\\\\n",
    "    & = \\frac {1}{2}n^{2} + \\frac {1}{2}n \\in O(n^{2})\n",
    "\\end{align*}\n",
    "$$"
   ]
  },
  {
   "cell_type": "markdown",
   "metadata": {
    "slideshow": {
     "slide_type": "slide"
    }
   },
   "source": [
    "### 두 문자열의 길이가 같지만 서로 어구전철 관계가 아닐 때"
   ]
  },
  {
   "cell_type": "markdown",
   "metadata": {},
   "source": [
    "- 최선: 문자열 `s1`의 첫째 문자가 리스트 `s2_list`에 포함되지 않은 경우에 어구전철이 아니라고 판단"
   ]
  },
  {
   "cell_type": "markdown",
   "metadata": {},
   "source": [
    "$$\n",
    "B(n) = n\\\\\n",
    "$$"
   ]
  },
  {
   "cell_type": "markdown",
   "metadata": {
    "slideshow": {
     "slide_type": "slide"
    }
   },
   "source": [
    "- 최악: 첫째 문자열 `s1`의 마지막 문자가 리스트 `s2_list`에 포함되지 않은 경우에 어구전철이 아니라고 판단\n",
    "    - 처음 $(n-1)$개의 문자를 확인하는데 걸리는 최악 시간:\n",
    "    $$\n",
    "    2 + 3 + \\cdots + n\n",
    "    $$\n",
    "\n",
    "    - 마지막 문자가 `s2_list`에 없는 것을 확인하는 데에 $n$ 번의 비교 필요\n",
    "\n",
    "    $$\n",
    "    \\begin{align*}\n",
    "    W(n) &= 2 + 3 + \\cdots + n + n\\\\\n",
    "        &= \\frac {n(n+1)}{2} - 1 + n \\\\\n",
    "        & = \\frac {1}{2}n^{2} + \\frac {3}{2}n - 1\\\\\n",
    "        & \\in O(n^{2})\n",
    "    \\end{align*}\n",
    "    $$"
   ]
  },
  {
   "cell_type": "markdown",
   "metadata": {
    "slideshow": {
     "slide_type": "slide"
    }
   },
   "source": [
    "### 어구전철 확인 알고리즘 2: 정렬 후 비교"
   ]
  },
  {
   "cell_type": "markdown",
   "metadata": {},
   "source": [
    "- 두 문자열이 서로 어구전철인 경우: 비교 연산자가 $n$ 번 실행\n",
    "\n",
    "- `sort()` 함수의 시간 복잡도: 알고리즘에 따라 $O(n^2)$ 또는 $O(n\\log n)$\n",
    "\n",
    "- 따라서 위 알고리즘이 시간 복잡도는 사용되는 정렬 알고리즘의 시간 복잡도와 동일"
   ]
  },
  {
   "cell_type": "code",
   "execution_count": 15,
   "metadata": {},
   "outputs": [],
   "source": [
    "def anagram_solution_2(s1, s2):\n",
    "    a_list_1 = list(s1)\n",
    "    a_list_2 = list(s2)\n",
    "    a_list_1.sort()\n",
    "    a_list_2.sort()\n",
    "    pos = 0\n",
    "    matches = True\n",
    "    while pos < len(s1) and matches:\n",
    "        if a_list_1[pos] == a_list_2[pos]: \n",
    "            pos = pos + 1\n",
    "        else:\n",
    "            matches = False\n",
    "    return matches"
   ]
  },
  {
   "cell_type": "markdown",
   "metadata": {
    "slideshow": {
     "slide_type": "slide"
    }
   },
   "source": [
    "### 어구전철 확인 알고리즘 3: 빈도 활용"
   ]
  },
  {
   "cell_type": "code",
   "execution_count": 16,
   "metadata": {},
   "outputs": [],
   "source": [
    "def anagram_solution_3(s1, s2):\n",
    "    alphabets = \"abcdefghijklmnopqrstuvwxys\"\n",
    "    alpha_dict1 = dict()\n",
    "    alpha_dict2 = dict()\n",
    "    for s in alphabets:\n",
    "        alpha_dict1[s] = 0\n",
    "        alpha_dict2[s] = 0\n",
    "    for s in s1.lower():\n",
    "        alpha_dict1[s] += 1\n",
    "    for s in s2.lower():\n",
    "        alpha_dict2[s] += 1\n",
    "    for alpha in alphabets:\n",
    "        if alpha_dict1[alpha] == alpha_dict2[alpha]: # 계산 단위: 값 비교\n",
    "            continue\n",
    "        else:\n",
    "            return False\n",
    "    return True"
   ]
  },
  {
   "cell_type": "markdown",
   "metadata": {},
   "source": [
    "- 모든 알파벳에 대해 각 문자열에 포함된 빈도를 측정 후 비교\n",
    "- 길이가 $n$인 문자열에 포함된 문자들의 빈도를 확인하는 시간 복잡도\n",
    "\n",
    "$$\n",
    "\\begin{align*}\n",
    "B(n) &= 2n + 1 \\in O(n) \\\\\n",
    "W(n) &= 2n + 26 \\in O(n)\n",
    "\\end{align*}\n",
    "$$"
   ]
  },
  {
   "cell_type": "markdown",
   "metadata": {
    "slideshow": {
     "slide_type": "slide"
    }
   },
   "source": [
    "## 공간 복잡도 문제"
   ]
  },
  {
   "cell_type": "markdown",
   "metadata": {},
   "source": [
    "- `anagram_solution_3()`의 시간 복잡도는 이전 세 알고리즘에 비해 훨씬 좋음."
   ]
  },
  {
   "cell_type": "markdown",
   "metadata": {},
   "source": [
    "- 하지만 그 대신에 빈도 리스트를 새로 생성하기 위해 보다 많은 메모리를 사용\n",
    "    - `anagram_solution_1()`: 문자열 `s2`를 리스트로 변환한 값\n",
    "    - `anagram_solution_2()`: 두 문자열을 리스트로 형변환한 후 정렬. \n",
    "        그리고 정렬 과정에서 추가 메모리 사용 가능."
   ]
  }
 ],
 "metadata": {
  "celltoolbar": "Slideshow",
  "kernelspec": {
   "display_name": "Python 3 (ipykernel)",
   "language": "python",
   "name": "python3"
  },
  "language_info": {
   "codemirror_mode": {
    "name": "ipython",
    "version": 3
   },
   "file_extension": ".py",
   "mimetype": "text/x-python",
   "name": "python",
   "nbconvert_exporter": "python",
   "pygments_lexer": "ipython3",
   "version": "3.12.2"
  },
  "vscode": {
   "interpreter": {
    "hash": "6c86b3592b6800d985c04531f2c445f0fa6967131b8dd6395a925f7622e55602"
   }
  }
 },
 "nbformat": 4,
 "nbformat_minor": 4
}
