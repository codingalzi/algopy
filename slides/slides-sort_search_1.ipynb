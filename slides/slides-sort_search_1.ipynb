{
 "cells": [
  {
   "cell_type": "markdown",
   "metadata": {
    "slideshow": {
     "slide_type": "slide"
    }
   },
   "source": [
    "# 탐색과 분할 정복"
   ]
  },
  {
   "cell_type": "markdown",
   "metadata": {
    "slideshow": {
     "slide_type": "slide"
    }
   },
   "source": [
    "## 주요 내용"
   ]
  },
  {
   "cell_type": "markdown",
   "metadata": {},
   "source": [
    "- 순차 탐색"
   ]
  },
  {
   "cell_type": "markdown",
   "metadata": {},
   "source": [
    "- 이진 탐색"
   ]
  },
  {
   "cell_type": "markdown",
   "metadata": {},
   "source": [
    "- 분할 정복"
   ]
  },
  {
   "cell_type": "markdown",
   "metadata": {},
   "source": [
    "- 분할 정복과 재귀"
   ]
  },
  {
   "cell_type": "markdown",
   "metadata": {
    "slideshow": {
     "slide_type": "slide"
    }
   },
   "source": [
    "## 탐색"
   ]
  },
  {
   "cell_type": "markdown",
   "metadata": {},
   "source": [
    "모음 객체에 특정 값이 포함되었는지 여부와 포함된 위치를 확인하는 과정"
   ]
  },
  {
   "cell_type": "markdown",
   "metadata": {},
   "source": [
    "```python\n",
    ">>> 15 in [3, 5, 2, 4, 1]\n",
    "False\n",
    "\n",
    ">>> 3 in [3, 5, 2, 4, 1]\n",
    "True\n",
    "```"
   ]
  },
  {
   "cell_type": "markdown",
   "metadata": {
    "slideshow": {
     "slide_type": "slide"
    }
   },
   "source": [
    "### 순차 탐색"
   ]
  },
  {
   "cell_type": "markdown",
   "metadata": {},
   "source": [
    "- 인덱스 순서대로 항목 확인\n",
    "- 리스트, 튜플, 넘파이 어레이 등 항목들의 순선 인덱스 지원 객체 대상"
   ]
  },
  {
   "cell_type": "markdown",
   "metadata": {},
   "source": [
    "<figure>\n",
    "<div align=\"center\"><img src=\"https://runestone.academy/runestone/books/published/pythonds3/_images/seqsearch.png\" width=\"60%\"></div>\n",
    "</figure>"
   ]
  },
  {
   "cell_type": "markdown",
   "metadata": {
    "slideshow": {
     "slide_type": "slide"
    }
   },
   "source": [
    "### 순차 탐색 알고리즘"
   ]
  },
  {
   "cell_type": "markdown",
   "metadata": {
    "slideshow": {
     "slide_type": ""
    }
   },
   "source": [
    "```python\n",
    "def sequential_search(a_list, value):\n",
    "    # 순차 탐색\n",
    "    for item in a_list:\n",
    "        if item == value:    # 찾은 경우 바로 True 반환\n",
    "            return True\n",
    "\n",
    "    # for 문을 다 돌아도 찾지 못한 경우 False 반환\n",
    "    return False\n",
    "```"
   ]
  },
  {
   "cell_type": "markdown",
   "metadata": {
    "slideshow": {
     "slide_type": "slide"
    }
   },
   "source": [
    "### 순차 탐색 시간복잡도"
   ]
  },
  {
   "cell_type": "markdown",
   "metadata": {},
   "source": [
    "- 입력값의 크기: 리스트의 길이 $n$\n",
    "\n",
    "- 항목이 리스트에 포함된 경우: 최선, 최악, 평균 시간복잡도가 달라짐.\n",
    "- 항목이 리스트에 포함되지 않은 경우: 최선, 최악, 평균 시간복잡도가 $n$으로 동일함."
   ]
  },
  {
   "cell_type": "markdown",
   "metadata": {},
   "source": [
    "| | **최선** | **최악** | **평균** |\n",
    "| --- | --- | --- | --- | \n",
    "| 항목인 경우 | $1$ | $n$ | $\\frac{n}{2}$ |\n",
    "| 항목 아닌 경우 | $n$ | $n$ | $n$ |"
   ]
  },
  {
   "cell_type": "markdown",
   "metadata": {
    "slideshow": {
     "slide_type": "slide"
    }
   },
   "source": [
    "### 정렬된 리스트 순차 탐색"
   ]
  },
  {
   "cell_type": "markdown",
   "metadata": {},
   "source": [
    "- 리스트의 항목들이 오름차순으로 정렬된 경우의 순차 탐색\n",
    "- 항목을 확인하다가 찾아야 하는 값보다 큰 값이 항목으로 확인되면 탐색 멈춤"
   ]
  },
  {
   "cell_type": "markdown",
   "metadata": {},
   "source": [
    "<figure>\n",
    "<div align=\"center\"><img src=\"https://runestone.academy/runestone/books/published/pythonds3/_images/seqsearch2.png\" width=\"60%\"></div>\n",
    "</figure>"
   ]
  },
  {
   "cell_type": "markdown",
   "metadata": {
    "slideshow": {
     "slide_type": "slide"
    }
   },
   "source": [
    "```python\n",
    "def ordered_sequential_search(a_list, value):\n",
    "    for item in a_list:\n",
    "        if item == value:\n",
    "            return True\n",
    "        elif item > value: # 보다 큰 값이 확인되면 바로 탐색 중단\n",
    "            return False\n",
    "\n",
    "    return False\n",
    "```"
   ]
  },
  {
   "cell_type": "markdown",
   "metadata": {},
   "source": [
    "| | **최선** | **최악** | **평균** |\n",
    "| --- | --- | --- | --- | \n",
    "| 항목인 경우 | $1$ | $n$ | $\\frac{n}{2}$ |\n",
    "| 항목 아닌 경우 | $1$ | $n$ | $\\frac{n}{2}$ |"
   ]
  },
  {
   "cell_type": "markdown",
   "metadata": {
    "slideshow": {
     "slide_type": "slide"
    }
   },
   "source": [
    "### 퀴즈"
   ]
  },
  {
   "cell_type": "markdown",
   "metadata": {},
   "source": [
    "리스트 `[15, 18, 2, 19, 18, 0, 8, 14, 19, 14]`에 18이 포함되었는지\n",
    "여부를 판단하는 데에 필요한 항목 비교 횟수는 얼마인가?"
   ]
  },
  {
   "cell_type": "markdown",
   "metadata": {
    "slideshow": {
     "slide_type": "slide"
    }
   },
   "source": [
    "### 퀴즈"
   ]
  },
  {
   "cell_type": "markdown",
   "metadata": {},
   "source": [
    "리스트 `[3, 5, 6, 8, 11, 12, 14, 15, 17, 18]`에 13이 포함되었는지\n",
    "여부를 판단하는 데에 필요한 항목 비교 횟수는 얼마인가?"
   ]
  },
  {
   "cell_type": "markdown",
   "metadata": {
    "slideshow": {
     "slide_type": "slide"
    }
   },
   "source": [
    "### 이진 탐색"
   ]
  },
  {
   "cell_type": "markdown",
   "metadata": {},
   "source": [
    "- 정렬된 리스트 대상\n",
    "- 순차 탐색보다 훨씬 빠름"
   ]
  },
  {
   "cell_type": "markdown",
   "metadata": {},
   "source": [
    "<figure>\n",
    "<div align=\"center\"><img src=\"https://runestone.academy/runestone/books/published/pythonds3/_images/binsearch.png\" width=\"60%\"></div>\n",
    "</figure>"
   ]
  },
  {
   "cell_type": "markdown",
   "metadata": {
    "slideshow": {
     "slide_type": "slide"
    }
   },
   "source": [
    "### 이진 탐색 알고리즘"
   ]
  },
  {
   "cell_type": "markdown",
   "metadata": {},
   "source": [
    "```python\n",
    "def binary_search(a_list, value):\n",
    "    first = 0\n",
    "    last = len(a_list) - 1\n",
    "\n",
    "    while first <= last:\n",
    "        midpoint = (first + last) // 2\n",
    "       \n",
    "        if a_list[midpoint] == value:\n",
    "            return True\n",
    "        \n",
    "        elif value < a_list[midpoint]:\n",
    "            last = midpoint - 1\n",
    "        else:                         \n",
    "            first = midpoint + 1\n",
    "\n",
    "    return False\n",
    "```"
   ]
  },
  {
   "cell_type": "markdown",
   "metadata": {
    "slideshow": {
     "slide_type": "slide"
    }
   },
   "source": [
    "### 이진 탐색 시간복잡도"
   ]
  },
  {
   "cell_type": "markdown",
   "metadata": {},
   "source": [
    "- 최악의 경우 시간복잡도\n",
    "\n",
    "$$\n",
    "O(\\log_2 n)\n",
    "$$"
   ]
  },
  {
   "cell_type": "markdown",
   "metadata": {},
   "source": [
    "| **비교 횟수** | **탐색구간 크기** |\n",
    "| :---: | :---: |\n",
    "| $1$ | $\\frac{n}{2}$ |\n",
    "| $2$ | $\\frac{n}{4}$ |\n",
    "| $3$ | $\\frac{n}{8}$ |\n",
    "| $\\vdots$ | $\\vdots$ |\n",
    "| $k$ | $\\frac{n}{2^k}$ |\n"
   ]
  },
  {
   "cell_type": "markdown",
   "metadata": {
    "slideshow": {
     "slide_type": "slide"
    }
   },
   "source": [
    "### 이진 탐색 알고리즘의 한계"
   ]
  },
  {
   "cell_type": "markdown",
   "metadata": {},
   "source": [
    "- 리스트 정렬 필요"
   ]
  },
  {
   "cell_type": "markdown",
   "metadata": {},
   "source": [
    "- 정렬 알고리즘의 최악 시간 복잡도: $O(n^2)$"
   ]
  },
  {
   "cell_type": "markdown",
   "metadata": {},
   "source": [
    "- 정렬을 하고 이진 탐색을 사용할지, 아니면 그냥 순차탐색을 사용할지 판단 필요"
   ]
  },
  {
   "cell_type": "markdown",
   "metadata": {},
   "source": [
    "- 한번 정렬한 다음 활용을 반복한다면 이진 탐색 선택"
   ]
  },
  {
   "cell_type": "markdown",
   "metadata": {
    "slideshow": {
     "slide_type": "slide"
    }
   },
   "source": [
    "## 분할 정복"
   ]
  },
  {
   "cell_type": "markdown",
   "metadata": {},
   "source": [
    "- 큰 입력사례의 해법을 보다 작은 크기의 입력사례에서 찾는 기법"
   ]
  },
  {
   "cell_type": "markdown",
   "metadata": {},
   "source": [
    "- 예제: 이진 탐색"
   ]
  },
  {
   "cell_type": "markdown",
   "metadata": {
    "slideshow": {
     "slide_type": "slide"
    }
   },
   "source": [
    "### 분할 정복과 재귀"
   ]
  },
  {
   "cell_type": "markdown",
   "metadata": {},
   "source": [
    "- 분할 정복 기법으로 해결되는 문제 재귀 함수로 쉽게 구현 가능\n",
    "- 아래 함수: 이진 탐색 재귀 함수"
   ]
  },
  {
   "cell_type": "markdown",
   "metadata": {},
   "source": [
    "```python\n",
    "def binary_search_rec(a_list, value):\n",
    "    # 종료 조건\n",
    "    if len(a_list) == 0:\n",
    "        return False\n",
    "    # 리스트의 길이가 0보다 클 때\n",
    "    else:\n",
    "        midpoint = len(a_list) // 2\n",
    "        if a_list[midpoint] == value:\n",
    "            return True\n",
    "        \n",
    "        # 재귀호출: 탐색구간(입력값의 크기) 절반으로 줄이기\n",
    "        elif value < a_list[midpoint]:\n",
    "            return binary_search_rec(a_list[:midpoint], value)\n",
    "        else:\n",
    "            return binary_search_rec(a_list[midpoint + 1 :], value)\n",
    "```"
   ]
  },
  {
   "cell_type": "markdown",
   "metadata": {
    "slideshow": {
     "slide_type": "slide"
    }
   },
   "source": [
    "### 재귀 이진 탐색 알고리즘 시간 복잡도"
   ]
  },
  {
   "cell_type": "markdown",
   "metadata": {},
   "source": [
    "- $O(\\log n)$으로 보이지만 이는 정확하지 않음."
   ]
  },
  {
   "cell_type": "markdown",
   "metadata": {},
   "source": [
    "- 재귀호출될 때마다 새로운 리스트를 슬라이싱으로 생성하기 때문"
   ]
  },
  {
   "cell_type": "markdown",
   "metadata": {},
   "source": [
    "- 슬라이싱 시간 복잡도: 슬라이싱 구간의 크기 $k$에 선형적으로 비례하는 $O(k)$"
   ]
  },
  {
   "cell_type": "markdown",
   "metadata": {
    "slideshow": {
     "slide_type": "slide"
    }
   },
   "source": [
    "### 구간 지정 재귀 이진 탐색 알고리즘 "
   ]
  },
  {
   "cell_type": "markdown",
   "metadata": {},
   "source": [
    "```python\n",
    "def interval_binary_search_rec(a_list, value, first, last):\n",
    "    if len(a_list) == 0 or last < first:\n",
    "        return False\n",
    "    else:\n",
    "        midpoint = (first + last) // 2\n",
    "        if a_list[midpoint] == value:\n",
    "            return True\n",
    "        \n",
    "        # 재귀호출: 탐색구간 조정\n",
    "        elif value < a_list[midpoint]:\n",
    "            last = midpoint - 1\n",
    "            return interval_binary_search_rec(a_list, value, first, last)\n",
    "        else:\n",
    "            first = midpoint + 1\n",
    "            return interval_binary_search_rec(a_list, value, first, last)\n",
    "```"
   ]
  },
  {
   "cell_type": "markdown",
   "metadata": {
    "slideshow": {
     "slide_type": "slide"
    }
   },
   "source": [
    "### 퀴즈"
   ]
  },
  {
   "cell_type": "markdown",
   "metadata": {},
   "source": [
    "리스트 `[3, 5, 6, 8, 11, 12, 14, 15, 17, 18]`가 주어졌을 때\n",
    "재귀 이진 탐색 알고리즘을 이용하여 8을 탐색할 때\n",
    "비교되는 값들은 무엇인가?"
   ]
  },
  {
   "cell_type": "markdown",
   "metadata": {
    "slideshow": {
     "slide_type": "slide"
    }
   },
   "source": [
    "### 퀴즈"
   ]
  },
  {
   "cell_type": "markdown",
   "metadata": {},
   "source": [
    "리스트 `[3, 5, 6, 8, 11, 12, 14, 15, 17, 18]`가 주어졌을 때\n",
    "재귀 이진 탐색 알고리즘을 이용하여 16을 탐색할 때 비교되는 값들은 무엇인가?"
   ]
  }
 ],
 "metadata": {
  "celltoolbar": "Slideshow",
  "kernelspec": {
   "display_name": "Python 3 (ipykernel)",
   "language": "python",
   "name": "python3"
  },
  "language_info": {
   "codemirror_mode": {
    "name": "ipython",
    "version": 3
   },
   "file_extension": ".py",
   "mimetype": "text/x-python",
   "name": "python",
   "nbconvert_exporter": "python",
   "pygments_lexer": "ipython3",
   "version": "3.11.4"
  },
  "vscode": {
   "interpreter": {
    "hash": "6c86b3592b6800d985c04531f2c445f0fa6967131b8dd6395a925f7622e55602"
   }
  }
 },
 "nbformat": 4,
 "nbformat_minor": 4
}
