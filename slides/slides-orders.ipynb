{
 "cells": [
  {
   "cell_type": "markdown",
   "metadata": {
    "slideshow": {
     "slide_type": "slide"
    }
   },
   "source": [
    "# 차수"
   ]
  },
  {
   "cell_type": "markdown",
   "metadata": {
    "slideshow": {
     "slide_type": "slide"
    }
   },
   "source": [
    "## 주요 내용"
   ]
  },
  {
   "cell_type": "markdown",
   "metadata": {},
   "source": [
    "- 차수의 직관적 이해"
   ]
  },
  {
   "cell_type": "markdown",
   "metadata": {},
   "source": [
    "- $O$, $\\Omega$, $\\Theta$ 정의"
   ]
  },
  {
   "cell_type": "markdown",
   "metadata": {
    "slideshow": {
     "slide_type": "slide"
    }
   },
   "source": [
    "## 궁극적으로 빠르다? 느리다?"
   ]
  },
  {
   "cell_type": "markdown",
   "metadata": {},
   "source": [
    "> *\"입력값의 크기가 어느 정도 이상 크면 실행시간이 .... 보다 오래 걸린다\"* 라는 의미를 가리키는\n",
    "**궁극적으로 느리다/빠르다**의 개념 소개"
   ]
  },
  {
   "cell_type": "markdown",
   "metadata": {
    "slideshow": {
     "slide_type": "slide"
    }
   },
   "source": [
    "### 알고리즘 선택"
   ]
  },
  {
   "cell_type": "markdown",
   "metadata": {
    "slideshow": {
     "slide_type": ""
    }
   },
   "source": [
    "아래 두 알고리즘 중에서 어떤 알고리즘을 선택해야 할까?"
   ]
  },
  {
   "cell_type": "markdown",
   "metadata": {
    "slideshow": {
     "slide_type": ""
    }
   },
   "source": [
    "| 알고리즘 | 일정 시간 복잡도 |\n",
    "| :---: | :---: |\n",
    "| A |  $100n$ |\n",
    "| B | $0.01 n^2$ |"
   ]
  },
  {
   "cell_type": "markdown",
   "metadata": {
    "slideshow": {
     "slide_type": "slide"
    }
   },
   "source": [
    "### 입력 크기에 따른 선택"
   ]
  },
  {
   "cell_type": "markdown",
   "metadata": {
    "slideshow": {
     "slide_type": ""
    }
   },
   "source": [
    "| 입력 크기 `n` | 선택 알고리즘 |\n",
    "| :---: | :---: |\n",
    "| `n > 10,000` | A |\n",
    "| `n <= 10,000` | B |"
   ]
  },
  {
   "cell_type": "markdown",
   "metadata": {
    "slideshow": {
     "slide_type": ""
    }
   },
   "source": [
    "$$\n",
    "\\begin{align*}\n",
    "0.01 n^2 > 100n\\quad &\\Longleftrightarrow \\quad n^2 > 10000 n \\\\\n",
    "    &\\Longleftrightarrow \\quad n > 10000\n",
    "\\end{align*}\n",
    "$$"
   ]
  },
  {
   "cell_type": "markdown",
   "metadata": {
    "slideshow": {
     "slide_type": "slide"
    }
   },
   "source": [
    "### 궁극적으로 ..."
   ]
  },
  {
   "cell_type": "markdown",
   "metadata": {
    "slideshow": {
     "slide_type": ""
    }
   },
   "source": [
    "| 알고리즘 | 일정 시간 복잡도 |\n",
    "| :---: | :---: |\n",
    "| A |  $100n$ |\n",
    "| B | $0.01 n^2$ |"
   ]
  },
  {
   "cell_type": "markdown",
   "metadata": {
    "slideshow": {
     "slide_type": ""
    }
   },
   "source": [
    "- 알고리즘 A가 알고리즘 B 보다 궁극적으로 빠르다"
   ]
  },
  {
   "cell_type": "markdown",
   "metadata": {
    "slideshow": {
     "slide_type": ""
    }
   },
   "source": [
    "- 알고리즘 B가 알고리즘 A 보다 궁극적으로 느리다"
   ]
  },
  {
   "cell_type": "markdown",
   "metadata": {
    "slideshow": {
     "slide_type": "slide"
    }
   },
   "source": [
    "### 차수 개념 활용"
   ]
  },
  {
   "cell_type": "markdown",
   "metadata": {},
   "source": [
    "- 차수: \"궁극적으로 느리다/빠르다\"를 판단하는 기준"
   ]
  },
  {
   "cell_type": "markdown",
   "metadata": {},
   "source": [
    "- \"알고리즘 A의 시간 복잡도 함수의 차수가 $\\Theta(f(n))$ 이다\":"
   ]
  },
  {
   "cell_type": "markdown",
   "metadata": {},
   "source": [
    "> 입력 크기가 $n$인 임의의 입력값에 대해 알고리즘 A는 **항상 $f(n)$ 시간 정도 보다 빠르지도 느리지도 않게** 실행한다."
   ]
  },
  {
   "cell_type": "markdown",
   "metadata": {
    "slideshow": {
     "slide_type": "slide"
    }
   },
   "source": [
    "### 차수 예제"
   ]
  },
  {
   "cell_type": "markdown",
   "metadata": {
    "slideshow": {
     "slide_type": "slide"
    }
   },
   "source": [
    "| 효율성 | 알고리즘 복잡도 |\n",
    "| :---: | :--- |\n",
    "| 매우 효율적인 알고리즘 | $\\Theta(1)$, $\\Theta(\\log n)$, $\\Theta(n)$, $\\Theta(n \\log n)$ |\n",
    "| 경우에 따라 괜찮은 알고리즘 | $\\Theta(n^2)$, $\\Theta(n^3)$ |\n",
    "| 사실상 사용 불가 알고리즘 | $\\Theta(2^n)$, $\\Theta(n!)$ |"
   ]
  },
  {
   "cell_type": "markdown",
   "metadata": {
    "slideshow": {
     "slide_type": "slide"
    }
   },
   "source": [
    "## 차수의 정의"
   ]
  },
  {
   "cell_type": "markdown",
   "metadata": {
    "slideshow": {
     "slide_type": ""
    }
   },
   "source": [
    "차수($\\Theta$)를 엄밀하게 정의하려면 Big-$O$와 $\\Omega$(Omega, 오메가) 개념이 요구된다."
   ]
  },
  {
   "cell_type": "markdown",
   "metadata": {
    "slideshow": {
     "slide_type": "slide"
    }
   },
   "source": [
    "### Big-$O$ 표기법"
   ]
  },
  {
   "cell_type": "markdown",
   "metadata": {},
   "source": [
    "다음 성질을 갖는 양의 실수 $c$ 와 양의 정수 $N$ 이 존재할 때 $g(n)\\in O(f(n))$ 으로 표현한다.\n",
    "\n",
    "$$\\text{$n \\ge N$인 임의의 정수 $n$에 대해 $g(n) \\le c\\cdot f(n)$}$$"
   ]
  },
  {
   "cell_type": "markdown",
   "metadata": {
    "slideshow": {
     "slide_type": "slide"
    }
   },
   "source": [
    "### Big-$O$ 알고리즘의 시간 복잡도 측면"
   ]
  },
  {
   "cell_type": "markdown",
   "metadata": {
    "slideshow": {
     "slide_type": ""
    }
   },
   "source": [
    "- 입력 크기 $n$에 대해 시간 복잡도 $g(n)$의 실행시간이 궁극적으로 $f(n)$보다 나쁘지는 않음을 의미한다.\n",
    "- $g(n)$의 실행시간이 최악(worst)의 경우에도 $f(n)$의 실행시간보다는 느리지 않다."
   ]
  },
  {
   "cell_type": "markdown",
   "metadata": {
    "slideshow": {
     "slide_type": ""
    }
   },
   "source": [
    "<div align=\"center\"><img src=\"https://raw.githubusercontent.com/codingalzi/algopy/master/jupyter-book/imgs/algo01/algo01-08.png\" width=\"300\"/></div>\n",
    "\n",
    "<br>"
   ]
  },
  {
   "cell_type": "markdown",
   "metadata": {
    "slideshow": {
     "slide_type": "slide"
    }
   },
   "source": [
    "### 예제 1"
   ]
  },
  {
   "cell_type": "markdown",
   "metadata": {
    "slideshow": {
     "slide_type": ""
    }
   },
   "source": [
    "$n \\ge 10$인 경우 다음 부등식이 참이다.\n",
    "\n",
    "$$n^2+10n \\le 2n^2$$\n",
    "\n",
    "따라서 $c=2$와 $N=10$을 선택하면 Big-$O$의 정의에 의해 다음이 성립한다.\n",
    "\n",
    "$$n^2+10n \\in O(n^2)$$\n",
    "\n",
    "아래 그래프가 이를 잘 설명한다."
   ]
  },
  {
   "cell_type": "markdown",
   "metadata": {
    "slideshow": {
     "slide_type": ""
    }
   },
   "source": [
    "<div align=\"center\"><img src=\"https://raw.githubusercontent.com/codingalzi/algopy/master/jupyter-book/imgs/algo01/algo01-09.png\" width=\"330\"/></div>"
   ]
  },
  {
   "cell_type": "markdown",
   "metadata": {
    "slideshow": {
     "slide_type": "slide"
    }
   },
   "source": [
    "### 예제 2"
   ]
  },
  {
   "cell_type": "markdown",
   "metadata": {
    "cell_style": "center",
    "slideshow": {
     "slide_type": ""
    }
   },
   "source": [
    "모든 정수 $n$에 대해 다음 부등식이 참이다\n",
    "\n",
    "$$5n^2 \\le 5n^2$$\n",
    "\n",
    "따라서 $c=5$와 $N=1$을 선택하면 Big-$O$의 정의에 의해 다음이 성립한다.\n",
    "\n",
    "$$5n^2 \\in O(n^2)$$\n"
   ]
  },
  {
   "cell_type": "markdown",
   "metadata": {
    "slideshow": {
     "slide_type": "slide"
    }
   },
   "source": [
    "### 예제 3"
   ]
  },
  {
   "cell_type": "markdown",
   "metadata": {
    "cell_style": "center",
    "slideshow": {
     "slide_type": ""
    }
   },
   "source": [
    "2보다 같거나 큰 임의의 양의 정수 $n$에 대해 다음 부등식이 참이다.\n",
    "\n",
    "$$2\\, n\\, \\log(n) \\le n^2$$\n",
    "\n",
    "따라서 $c = 1$과 $N=2$을 선택하면 Big-$O$의 정의에 의해 다음이 성립한다.\n",
    "\n",
    "$$2\\, n\\, \\log(n) \\in O(n^2)$$"
   ]
  },
  {
   "cell_type": "markdown",
   "metadata": {
    "slideshow": {
     "slide_type": "slide"
    }
   },
   "source": [
    "### 예제 4"
   ]
  },
  {
   "cell_type": "markdown",
   "metadata": {
    "cell_style": "center",
    "slideshow": {
     "slide_type": ""
    }
   },
   "source": [
    "임의의 양의 정수 $n$에 대해 다음 부등식이 참이다.\n",
    "\n",
    "$$n \\le n^2$$\n",
    "\n",
    "따라서 $c=1$과 $N=1$을 선택하면 Big-$O$의 정의에 의해 다음이 성립한다.\n",
    "\n",
    "$$n \\in O(n^2)$$"
   ]
  },
  {
   "cell_type": "markdown",
   "metadata": {
    "slideshow": {
     "slide_type": "slide"
    }
   },
   "source": [
    "### 예제 5"
   ]
  },
  {
   "cell_type": "markdown",
   "metadata": {
    "slideshow": {
     "slide_type": ""
    }
   },
   "source": [
    "$c$와 $N$을 아무리 크게 잡더라도 $n$이 $c$보다 크면 다음 부등식이 참이다.\n",
    "\n",
    "$$n^3 > c\\cdot n^2$$\n",
    "\n",
    "따라서 다음이 성립한다.\n",
    "\n",
    "$$n^3 \\not\\in O(n^2)$$\n"
   ]
  },
  {
   "cell_type": "markdown",
   "metadata": {
    "slideshow": {
     "slide_type": "slide"
    }
   },
   "source": [
    "### $O(f(n))$"
   ]
  },
  {
   "cell_type": "markdown",
   "metadata": {
    "slideshow": {
     "slide_type": ""
    }
   },
   "source": [
    "$O(f(n))$ 에 속하는 시간 복잡도 함수는 기본적으로 $f(n)$ 과 비슷하거나 보다 느리게 증가하는 그래프를 갖는다."
   ]
  },
  {
   "cell_type": "markdown",
   "metadata": {
    "slideshow": {
     "slide_type": ""
    }
   },
   "source": [
    "<div align=\"center\"><img src=\"https://raw.githubusercontent.com/codingalzi/algopy/master/jupyter-book/imgs/algo01/algo01-10.png\" width=\"250\"/></div>"
   ]
  },
  {
   "cell_type": "markdown",
   "metadata": {
    "slideshow": {
     "slide_type": "slide"
    }
   },
   "source": [
    "### $\\Omega$ 표기법"
   ]
  },
  {
   "cell_type": "markdown",
   "metadata": {},
   "source": [
    "다음 성질을 갖는 양의 실수 $c$ 와 양의 정수 $N$ 이 존재할 때 $g(n)\\in \\Omega(f(n))$ 으로 표현한다.\n",
    "\n",
    "$$\\text{$n \\ge N$인 임의의 정수 $n$에 대해 $g(n) \\ge c\\cdot f(n)$}$$"
   ]
  },
  {
   "cell_type": "markdown",
   "metadata": {
    "slideshow": {
     "slide_type": "slide"
    }
   },
   "source": [
    "### 알고리즘의 시간 복잡도 측면"
   ]
  },
  {
   "cell_type": "markdown",
   "metadata": {
    "slideshow": {
     "slide_type": ""
    }
   },
   "source": [
    "- 입력 크기 $n$에 대해 시간 복잡도 $g(n)$의 수행시간은 궁극적으로 $f(n)$보다 효율적이지 못함을 의미한다.\n",
    "- $g(n)$의 수행시간이 최선(best)의 경우에도 $f(n)$의 수행시간보다는 빠르지 않다."
   ]
  },
  {
   "cell_type": "markdown",
   "metadata": {
    "slideshow": {
     "slide_type": ""
    }
   },
   "source": [
    "<div align=\"center\"><img src=\"https://raw.githubusercontent.com/codingalzi/algopy/master/jupyter-book/imgs/algo01/algo01-11.png\" width=\"300\"/></div>"
   ]
  },
  {
   "cell_type": "markdown",
   "metadata": {
    "slideshow": {
     "slide_type": "slide"
    }
   },
   "source": [
    "### 예제 6"
   ]
  },
  {
   "cell_type": "markdown",
   "metadata": {
    "cell_style": "center",
    "slideshow": {
     "slide_type": ""
    }
   },
   "source": [
    "2보다 같거나 큰 임의의 양의 정수 $n$에 대해 다음 부등식이 참이다.\n",
    "\n",
    "$$\\frac{n(n-1)}{2} \\ge \\frac{n^2}{4}$$\n",
    "\n",
    "따라서 $c = \\frac 1 4$과 $N=2$을 선택하면 $\\Omega$의 정의에 의해 다음이 성립한다.\n",
    "\n",
    "$$\\frac{n(n-1)}{2} \\in \\Omega(n^2)$$"
   ]
  },
  {
   "cell_type": "markdown",
   "metadata": {
    "slideshow": {
     "slide_type": "slide"
    }
   },
   "source": [
    "### 예제 7"
   ]
  },
  {
   "cell_type": "markdown",
   "metadata": {
    "slideshow": {
     "slide_type": ""
    }
   },
   "source": [
    "임의의 양의 정수 $n$에 대해 다음 부등식이 참이다.\n",
    "\n",
    "$$n^3 \\ge n^2$$\n",
    "\n",
    "따라서 $c = 1$과 $N = 1$을 선택하면 $\\Omega$의 정의에 의해 다음이 성립한다.\n",
    "\n",
    "$$n^3 \\in \\Omega(n^2)$$"
   ]
  },
  {
   "cell_type": "markdown",
   "metadata": {
    "slideshow": {
     "slide_type": "slide"
    }
   },
   "source": [
    "### 예제 8"
   ]
  },
  {
   "cell_type": "markdown",
   "metadata": {
    "slideshow": {
     "slide_type": ""
    }
   },
   "source": [
    "임의의 정수 $n$에 대해 다음 부등식이 참이다.\n",
    "\n",
    "$$6 n^6 + n^4 \\ge n^2$$\n",
    "\n",
    "따라서 $c = 1$과 $N = 1$을 선택하면 $\\Omega$의 정의에 의해 다음이 성립한다.\n",
    "\n",
    "$$6 n^6 + n^4 \\in \\Omega(n^2)$$"
   ]
  },
  {
   "cell_type": "markdown",
   "metadata": {
    "slideshow": {
     "slide_type": "slide"
    }
   },
   "source": [
    "### 예제 9"
   ]
  },
  {
   "cell_type": "markdown",
   "metadata": {
    "slideshow": {
     "slide_type": ""
    }
   },
   "source": [
    "임의의 양의 정수 $n$에 대해 다음 부등식이 참이다.\n",
    "\n",
    "$$2^n + 4n \\ge n^2$$\n",
    "\n",
    "따라서 $c = 1$과 $N = 1$을 선택하면 $\\Omega$의 정의에 의해 다음이 성립한다.\n",
    "\n",
    "$$2^n + 4n \\in \\Omega(n^2)$$"
   ]
  },
  {
   "cell_type": "markdown",
   "metadata": {
    "slideshow": {
     "slide_type": "slide"
    }
   },
   "source": [
    "### 예제 10"
   ]
  },
  {
   "cell_type": "markdown",
   "metadata": {
    "slideshow": {
     "slide_type": ""
    }
   },
   "source": [
    "양의 실수 $c$를 아무리 작게 잡더라도 $n$ 이 $\\frac 1 c$ 보다 크면 다음 부등식이 참이다.\n",
    "\n",
    "$$n \\le c\\, n^2$$\n",
    "\n",
    "따라서 다음이 성립한다.\n",
    "\n",
    "$$n \\not\\in \\Omega(n^2)$$\n"
   ]
  },
  {
   "cell_type": "markdown",
   "metadata": {
    "slideshow": {
     "slide_type": "slide"
    }
   },
   "source": [
    "### $\\Omega(f(n))$"
   ]
  },
  {
   "cell_type": "markdown",
   "metadata": {
    "slideshow": {
     "slide_type": ""
    }
   },
   "source": [
    "$\\Omega(f(n))$ 에 속하는 시간 복잡도 함수는 기본적으로 $f(n)$ 과 비슷하거나 보다 빠르게 증가하는 그래프를 갖는다."
   ]
  },
  {
   "cell_type": "markdown",
   "metadata": {
    "slideshow": {
     "slide_type": ""
    }
   },
   "source": [
    "<div align=\"center\"><img src=\"https://raw.githubusercontent.com/codingalzi/algopy/master/jupyter-book/imgs/algo01/algo01-12.png\" width=\"250\"/></div>"
   ]
  },
  {
   "cell_type": "markdown",
   "metadata": {
    "slideshow": {
     "slide_type": "slide"
    }
   },
   "source": [
    "### 차수($\\Theta$) 표기법"
   ]
  },
  {
   "cell_type": "markdown",
   "metadata": {},
   "source": [
    "$$\\Theta(f(n)) = O(f(n)) \\cap \\Omega(f(n))$$"
   ]
  },
  {
   "cell_type": "markdown",
   "metadata": {
    "slideshow": {
     "slide_type": ""
    }
   },
   "source": [
    "$\\Theta(f(n))$ 에 속하는 시간 복잡도 함수는 기본적으로 $f(n)$ 과 비슷하게 증가하는 그래프를 갖는다."
   ]
  },
  {
   "cell_type": "markdown",
   "metadata": {
    "slideshow": {
     "slide_type": ""
    }
   },
   "source": [
    "<div align=\"center\"><img src=\"https://raw.githubusercontent.com/codingalzi/algopy/master/jupyter-book/imgs/algo01/algo01-14.png\" width=\"350\"/></div>"
   ]
  },
  {
   "cell_type": "markdown",
   "metadata": {
    "slideshow": {
     "slide_type": "slide"
    }
   },
   "source": [
    "### 알고리즘의 시간 복잡도 측면"
   ]
  },
  {
   "cell_type": "markdown",
   "metadata": {
    "slideshow": {
     "slide_type": ""
    }
   },
   "source": [
    "- $\\Theta(f(n))$의 차수를 갖는 알고리즘은\n",
    "입력 크기 $n$에 대해 최악의 경우와 최선의 경우 모두 시간 복잡도 $f(n)$의 수행시간보다 느리지도 않고 빠르지도 않다.\n",
    "- 기본적으로 $f(n)$의 시간 내에 실행이 종료되며, 아래 그림이 이를 잘 반영한다."
   ]
  },
  {
   "cell_type": "markdown",
   "metadata": {
    "slideshow": {
     "slide_type": ""
    }
   },
   "source": [
    "<div align=\"center\"><img src=\"https://raw.githubusercontent.com/codingalzi/algopy/master/jupyter-book/imgs/algo01/algo01-13.png\" width=\"300\"/></div>"
   ]
  },
  {
   "cell_type": "markdown",
   "metadata": {
    "slideshow": {
     "slide_type": "slide"
    }
   },
   "source": [
    "### 차수의 특성"
   ]
  },
  {
   "cell_type": "markdown",
   "metadata": {},
   "source": [
    "1. $g(n) \\in O(f(n))$ 이 성립하면 $f(n) \\in \\Omega(g(n))$ 도 성립한다.\n",
    "\n",
    "2. $f(n) \\in \\Omega(g(n))$ 이 성립하면 $g(n) \\in O(f(n))$ 도 성립한다.\n",
    "\n",
    "3. $g(n) \\in \\Theta(f(n))$ 이 성립하면 $f(n) \\in \\Theta(g(n))$ 도 성립한다.\n",
    "\n",
    "4. 로그 함수는 모두 동일한 복잡도 카테고리에 속한다.\n",
    "\n",
    "    $$\\log_a n \\in \\Theta(\\log_b n)$$"
   ]
  },
  {
   "cell_type": "markdown",
   "metadata": {
    "slideshow": {
     "slide_type": "slide"
    }
   },
   "source": [
    "$2 < j < k$ 와 $1 < a< b$ 가 성립한다고 가정했을 때 다음이 성립한다."
   ]
  },
  {
   "cell_type": "markdown",
   "metadata": {
    "slideshow": {
     "slide_type": ""
    }
   },
   "source": [
    "$$\\Theta(\\lg n), \\;\\; \\Theta(n),\\;\\; \\Theta(n\\, \\lg n),\\;\\; \\Theta(n^2),\\;\\; \\Theta(n^j),\\;\\; \\Theta(n^k),\\;\\; \\Theta(a^n),\\;\\; \\Theta(b^n),\\;\\; \\Theta(n!)$$"
   ]
  }
 ],
 "metadata": {
  "celltoolbar": "Slideshow",
  "kernelspec": {
   "display_name": "Python 3 (ipykernel)",
   "language": "python",
   "name": "python3"
  },
  "language_info": {
   "codemirror_mode": {
    "name": "ipython",
    "version": 3
   },
   "file_extension": ".py",
   "mimetype": "text/x-python",
   "name": "python",
   "nbconvert_exporter": "python",
   "pygments_lexer": "ipython3",
   "version": "3.12.2"
  },
  "vscode": {
   "interpreter": {
    "hash": "6c86b3592b6800d985c04531f2c445f0fa6967131b8dd6395a925f7622e55602"
   }
  }
 },
 "nbformat": 4,
 "nbformat_minor": 4
}
