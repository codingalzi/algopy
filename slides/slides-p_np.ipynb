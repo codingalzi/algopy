{
 "cells": [
  {
   "cell_type": "markdown",
   "metadata": {
    "slideshow": {
     "slide_type": "slide"
    }
   },
   "source": [
    "# P-NP 문제"
   ]
  },
  {
   "cell_type": "markdown",
   "metadata": {
    "slideshow": {
     "slide_type": "slide"
    }
   },
   "source": [
    "## 주요 내용"
   ]
  },
  {
   "cell_type": "markdown",
   "metadata": {},
   "source": [
    "* 문제 난이도"
   ]
  },
  {
   "cell_type": "markdown",
   "metadata": {},
   "source": [
    "* **P** 대 **NP**"
   ]
  },
  {
   "cell_type": "markdown",
   "metadata": {},
   "source": [
    "* **NP**-완전과 **NP**-난해"
   ]
  },
  {
   "cell_type": "markdown",
   "metadata": {
    "slideshow": {
     "slide_type": "slide"
    }
   },
   "source": [
    "## 문제 난이도"
   ]
  },
  {
   "cell_type": "markdown",
   "metadata": {
    "slideshow": {
     "slide_type": ""
    }
   },
   "source": [
    "- 문제의 난이도: 문제를 해결하는 알고리즘이 가질 수 있는 **가장 낮은 계산 복잡도**"
   ]
  },
  {
   "cell_type": "markdown",
   "metadata": {
    "slideshow": {
     "slide_type": ""
    }
   },
   "source": [
    "- 행렬 곱셈 문제의 난이도: $\\Omega(n^2)$"
   ]
  },
  {
   "cell_type": "markdown",
   "metadata": {},
   "source": [
    "- 주어진 문제의 난이도를 항상 확인할 수 있는 것은 아님."
   ]
  },
  {
   "cell_type": "markdown",
   "metadata": {
    "slideshow": {
     "slide_type": "slide"
    }
   },
   "source": [
    "### 다항 시간 알고리즘"
   ]
  },
  {
   "cell_type": "markdown",
   "metadata": {},
   "source": [
    "- **다항 시간**<font size='2'>polynomial time</font> 알고리즘: 최악 시간 복잡도가 어떤 다항식 $p(n)$에 대해 다음이 성립\n",
    "\n",
    "    $$\n",
    "    W(n) \\in O(p(n))\n",
    "    $$"
   ]
  },
  {
   "cell_type": "markdown",
   "metadata": {},
   "source": [
    "- 예제\n",
    "\n",
    "    $$\n",
    "    2n \\qquad 3 n^3 + 4n \\qquad 5n+n^{10} \\qquad n \\lg n\n",
    "    $$"
   ]
  },
  {
   "cell_type": "markdown",
   "metadata": {},
   "source": [
    "- $n\\lg n$ 또한 다항 시간 복잡도 함수로 간주"
   ]
  },
  {
   "cell_type": "markdown",
   "metadata": {},
   "source": [
    "- 최악 시간 복잡도가 아래와 같은 알고리즘은 다항 시간 알고리즘이 아님.\n",
    "\n",
    "    $$\n",
    "    2^n \\qquad 2^{0.01 n} \\qquad 2^{\\sqrt{n}} \\qquad n!\n",
    "    $$"
   ]
  },
  {
   "cell_type": "markdown",
   "metadata": {
    "slideshow": {
     "slide_type": "slide"
    }
   },
   "source": [
    "### 난이도 분류"
   ]
  },
  {
   "cell_type": "markdown",
   "metadata": {
    "slideshow": {
     "slide_type": ""
    }
   },
   "source": [
    "첫째, 다항 시간 알고리즘이 존재하는 문제\n",
    "\n",
    "* 정렬된 배열을 대상으로 검색:  $\\Theta(\\lg n)$\n",
    "* 행렬 곱셈: $\\Theta(n^{2.3728639})$"
   ]
  },
  {
   "cell_type": "markdown",
   "metadata": {
    "slideshow": {
     "slide_type": "slide"
    }
   },
   "source": [
    "둘째, 다루기 힘들다고 증명된 문제\n",
    "\n",
    "* 그래프의 모든 경로를 다 출력해야 하는 문제처럼 지수승 만큼의 출력을 요구하는 문제\n",
    "* 정지문제<font size='2'>Halting problem</font> 처럼 지수승 이상의 출력을 요구하진 않지만 \n",
    "    다항 시간 내에 풀 수 없음이 증명된 문제"
   ]
  },
  {
   "cell_type": "markdown",
   "metadata": {
    "slideshow": {
     "slide_type": "slide"
    }
   },
   "source": [
    "셋째, 다항 시간 알고리즘이 알려지지 않았지만 다항 시간 알고리즘이 존재하지 않는다는 증명도 없는 문제\n",
    "\n",
    "- 0-1 배낭채우기 문제\n",
    "- 외판원 문제\n",
    "- m-색칠하기 문제 (m > 2)"
   ]
  },
  {
   "cell_type": "markdown",
   "metadata": {
    "slideshow": {
     "slide_type": "slide"
    }
   },
   "source": [
    "### 외판원 문제"
   ]
  },
  {
   "cell_type": "markdown",
   "metadata": {
    "slideshow": {
     "slide_type": ""
    }
   },
   "source": [
    "- 일주 경로 1: `v0 -> v1 -> v2 -> v3 -> v0`\n",
    "- 일주 경로 2: `v0 -> v2 -> v1 -> v3 -> v0`\n",
    "- 일주 경로 3: `v0 -> v2 -> v3 -> v1 -> v0`\n",
    "- 동적계획법을 이용한 알고리즘: $O(n^2\\, 2^n)$"
   ]
  },
  {
   "cell_type": "markdown",
   "metadata": {
    "slideshow": {
     "slide_type": ""
    }
   },
   "source": [
    "<div align=\"center\"><img src=\"https://raw.githubusercontent.com/codingalzi/algopy/master/jupyter-book/imgs/salesman-01.png\" width=\"150\"/></div>"
   ]
  },
  {
   "cell_type": "markdown",
   "metadata": {
    "slideshow": {
     "slide_type": "slide"
    }
   },
   "source": [
    "## P 대 NP"
   ]
  },
  {
   "cell_type": "markdown",
   "metadata": {
    "slideshow": {
     "slide_type": "slide"
    }
   },
   "source": [
    "### 결정론적 vs. 비결정론적 튜링 기계"
   ]
  },
  {
   "cell_type": "markdown",
   "metadata": {
    "slideshow": {
     "slide_type": ""
    }
   },
   "source": [
    "<div align=\"center\"><img src=\"https://upload.wikimedia.org/wikipedia/commons/thumb/1/16/Difference_between_deterministic_and_Nondeterministic.svg/1920px-Difference_between_deterministic_and_Nondeterministic.svg.png\" width=\"700\"/></div>"
   ]
  },
  {
   "cell_type": "markdown",
   "metadata": {
    "slideshow": {
     "slide_type": "slide"
    }
   },
   "source": [
    "### 비결정론적 알고리즘"
   ]
  },
  {
   "cell_type": "markdown",
   "metadata": {},
   "source": [
    "- 비결정론적 튜링 기계로 구현될 수 있는 알고리즘"
   ]
  },
  {
   "cell_type": "markdown",
   "metadata": {},
   "source": [
    "- 비결정론적 다항 시간 알고리즘: 다항 시간 계산 복잡도를 갖는 비결정론적 알고리즘"
   ]
  },
  {
   "cell_type": "markdown",
   "metadata": {},
   "source": [
    "- (결정론적) 튜링 기계로 구현될 수 있는 알고리즘: 결정론적<font size='2'>deterministic</font> 알고리즘"
   ]
  },
  {
   "cell_type": "markdown",
   "metadata": {
    "slideshow": {
     "slide_type": "slide"
    }
   },
   "source": [
    "### 집합 P"
   ]
  },
  {
   "cell_type": "markdown",
   "metadata": {},
   "source": [
    "- **P**: 다항 시간 알고리즘으로 해결 가능한 모든 문제의 집합\n",
    "    - 탐색 알고리즘은 대부분 **P**에 포함됨."
   ]
  },
  {
   "cell_type": "markdown",
   "metadata": {},
   "source": [
    "- 수도쿠 문제, 외판원 문제가 집합 **P**에 속하는지 여부는 아직 모름."
   ]
  },
  {
   "cell_type": "markdown",
   "metadata": {},
   "source": [
    "- 두 문제에 대해 \"다항 시간 알고리즘이 존재하지 않는다\" 라는 주장 또한 아직 증명되지 않았음."
   ]
  },
  {
   "cell_type": "markdown",
   "metadata": {
    "slideshow": {
     "slide_type": "slide"
    }
   },
   "source": [
    "### 집합 NP"
   ]
  },
  {
   "cell_type": "markdown",
   "metadata": {},
   "source": [
    "- **NP**: 비결정론적 다항 시간 알고리즘으로 진위여부를 해결할 수 있는 문제들의 집합"
   ]
  },
  {
   "cell_type": "markdown",
   "metadata": {},
   "source": [
    "- 해당 알고리즘이 문제를 제대로 해결하는지 여부를 검증하는 데에 다항 시간이 요구되는 알고리즘"
   ]
  },
  {
   "cell_type": "markdown",
   "metadata": {},
   "source": [
    "- 예제: 수도쿠 문제, 외판원 문제, 소인수분해 문제\n",
    "    - 문제에 대한 답이 제시되었을 때 해당 답이 제대로 된 해답인지 여부를 판단하는 일은 다항 시간 내에 판단할 수 있음"
   ]
  },
  {
   "cell_type": "markdown",
   "metadata": {
    "slideshow": {
     "slide_type": "slide"
    }
   },
   "source": [
    "### P-NP 문제"
   ]
  },
  {
   "cell_type": "markdown",
   "metadata": {},
   "source": [
    "- **P** 에 속하는 문제는 모두 **NP**에 속함\n",
    "- **P** 와 **NP**가 동일한지 여부에 대해서는 아직 답을 모름. 100만 달러의 상금이 걸린 \n",
    "[**밀레니엄 문제**](https://ko.wikipedia.org/wiki/%EB%B0%80%EB%A0%88%EB%8B%88%EC%97%84_%EB%AC%B8%EC%A0%9C)중에 하나."
   ]
  },
  {
   "cell_type": "markdown",
   "metadata": {},
   "source": [
    "<div align=\"center\"><img src=\"https://raw.githubusercontent.com/codingalzi/algopy/master/jupyter-book/imgs/algo09/p-np-2.png\" width=\"600\"/></div>"
   ]
  },
  {
   "cell_type": "markdown",
   "metadata": {
    "slideshow": {
     "slide_type": "slide"
    }
   },
   "source": [
    "## NP-완전과 NP-난해"
   ]
  },
  {
   "cell_type": "markdown",
   "metadata": {
    "slideshow": {
     "slide_type": "slide"
    }
   },
   "source": [
    "### 다항시간 다대일 축소 변환"
   ]
  },
  {
   "cell_type": "markdown",
   "metadata": {
    "slideshow": {
     "slide_type": ""
    }
   },
   "source": [
    "- 문제 A를 문제 B로 다항시간 다대일 축소 변환 가능: 문제 A를 문제 B로 변환하는 다항시간 변환 알고리즘이 존재\n",
    "    "
   ]
  },
  {
   "cell_type": "markdown",
   "metadata": {
    "slideshow": {
     "slide_type": ""
    }
   },
   "source": [
    "- 문제 B를 다항 시간 내에 해결할 수 있다면 문제 A도 다항 시간 내에 해결할 수 있음의 의미함."
   ]
  },
  {
   "cell_type": "markdown",
   "metadata": {
    "slideshow": {
     "slide_type": "slide"
    }
   },
   "source": [
    "### **NP-완전**<font size='2'>NP-complete</font>"
   ]
  },
  {
   "cell_type": "markdown",
   "metadata": {},
   "source": [
    "다음 두 조건을 만족하는 문제 B를 **NP-완전**<font size='2'>NP-complete</font>이라 한다.\n",
    "\n",
    "- **NP**에 속한다.\n",
    "- **NP**에 속하는 임의의 다른 문제 A를 다항시간 내에 B의 문제로 축소 변환하기가 가능하다."
   ]
  },
  {
   "cell_type": "markdown",
   "metadata": {},
   "source": [
    "- 외판원 문제, 0-1 배낭채우기 등등"
   ]
  },
  {
   "cell_type": "markdown",
   "metadata": {},
   "source": [
    "- **NP-난해**<font size='2'>NP-hard</font> 문제: **NP**-완전 문제만큼 다루기 어려운 문제"
   ]
  },
  {
   "cell_type": "markdown",
   "metadata": {
    "slideshow": {
     "slide_type": "slide"
    }
   },
   "source": [
    "### P-NP 문제의 현재 상태"
   ]
  },
  {
   "cell_type": "markdown",
   "metadata": {
    "slideshow": {
     "slide_type": ""
    }
   },
   "source": [
    "- 하나의 **NP**-완전 문제가 **P**에 속한다는 것이 입증되면 **P** = **NP**가 성립. 하지만 아직 미해결."
   ]
  },
  {
   "cell_type": "markdown",
   "metadata": {
    "slideshow": {
     "slide_type": ""
    }
   },
   "source": [
    "<div align=\"center\"><img src=\"https://raw.githubusercontent.com/codingalzi/algopy/master/jupyter-book/imgs/algo09/algo09-03.png\" width=\"600\"/></div>"
   ]
  }
 ],
 "metadata": {
  "celltoolbar": "Slideshow",
  "kernelspec": {
   "display_name": "Python 3 (ipykernel)",
   "language": "python",
   "name": "python3"
  },
  "language_info": {
   "codemirror_mode": {
    "name": "ipython",
    "version": 3
   },
   "file_extension": ".py",
   "mimetype": "text/x-python",
   "name": "python",
   "nbconvert_exporter": "python",
   "pygments_lexer": "ipython3",
   "version": "3.11.4"
  },
  "vscode": {
   "interpreter": {
    "hash": "6c86b3592b6800d985c04531f2c445f0fa6967131b8dd6395a925f7622e55602"
   }
  }
 },
 "nbformat": 4,
 "nbformat_minor": 4
}
