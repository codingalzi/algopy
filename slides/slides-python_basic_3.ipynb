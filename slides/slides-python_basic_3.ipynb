{
 "cells": [
  {
   "cell_type": "markdown",
   "id": "3efee1fe",
   "metadata": {
    "slideshow": {
     "slide_type": "slide"
    }
   },
   "source": [
    "# 클래스, 인스턴스, 객체"
   ]
  },
  {
   "cell_type": "markdown",
   "id": "31737ddd",
   "metadata": {
    "slideshow": {
     "slide_type": "slide"
    }
   },
   "source": [
    "## 주요 내용"
   ]
  },
  {
   "cell_type": "markdown",
   "id": "c40bc08a",
   "metadata": {},
   "source": [
    "- 파이썬: 객체 지향 프로그래밍 언어\n",
    "- 객체 지향 프로그래밍 언어의 가장 큰 장점: 사용자가 직접 필요한 자료형을 클래스로 정의하고 객체를 생성하여 활용\n",
    "- 예제: `fractions` 모듈에 포함된 [`Fraction` 클래스](https://docs.python.org/ko/3/library/fractions.html) 직접 정의\n",
    "    - 클래스, 인스턴, 객체 개념 소개\n",
    "    - `1/2`, `2/7` 처럼 기약분수들의 자료형 역할 수행\n",
    "    - 분수들의 덧셈, 크기 비교 등 지원"
   ]
  },
  {
   "cell_type": "markdown",
   "id": "fd9b0bf8",
   "metadata": {
    "slideshow": {
     "slide_type": "slide"
    }
   },
   "source": [
    "## 클래스 선언과 생성자"
   ]
  },
  {
   "cell_type": "markdown",
   "id": "38d315bf",
   "metadata": {},
   "source": [
    "- `__init__()` 메서드\n",
    "    - 클래스의 인스턴스를 생성하는 **생성자**\n",
    "    - 인스턴스의 속성으로 저장될 정보와 관련된 값을 인자로 받음\n",
    "- `Fraction` 클래스의 생성자\n",
    "    - 분자와 분모에 해당하는 값을 받아 저장하는 기능을 수행"
   ]
  },
  {
   "cell_type": "code",
   "execution_count": 9,
   "id": "cdf42278",
   "metadata": {},
   "outputs": [],
   "source": [
    "class Fraction:\n",
    "    def __init__(self, top, bottom):\n",
    "        \"\"\"생성자 메서드\n",
    "        top: 분자\n",
    "        bottom: 분모\n",
    "        \"\"\"\n",
    "\n",
    "        self.top = top\n",
    "        self.bottom = bottom"
   ]
  },
  {
   "cell_type": "markdown",
   "id": "90a26680",
   "metadata": {
    "slideshow": {
     "slide_type": "slide"
    }
   },
   "source": [
    "## 인스턴스와 객체"
   ]
  },
  {
   "cell_type": "markdown",
   "id": "a9af534b",
   "metadata": {
    "slideshow": {
     "slide_type": "slide"
    }
   },
   "source": [
    "### 인스턴스 생성"
   ]
  },
  {
   "cell_type": "markdown",
   "id": "fe150640",
   "metadata": {},
   "source": [
    "- 아래 코드\n",
    "    - `Fraction` 클래스의 인스턴스 생성\n",
    "    - `__init__()` 가 분자에 해당하는 3, 분모에 해당하는 5를 인자로 사용하여 호출됨\n",
    "    - 최종적으로 `3/5`에 해당하는 객체 생성"
   ]
  },
  {
   "cell_type": "code",
   "execution_count": 10,
   "id": "9853bc25",
   "metadata": {},
   "outputs": [],
   "source": [
    "f35 = Fraction(3, 5)"
   ]
  },
  {
   "cell_type": "markdown",
   "id": "fcca7c3c",
   "metadata": {
    "slideshow": {
     "slide_type": "slide"
    }
   },
   "source": [
    "- 메모리 상태 변화: `f35` 변수가 `3/5`에 해당하는 분수 객체 가리킴"
   ]
  },
  {
   "cell_type": "markdown",
   "id": "8cf6666d",
   "metadata": {},
   "source": [
    "<div align=\"center\" border=\"1px\"><img src=\"https://raw.githubusercontent.com/codingalzi/pybook/master/jupyter-book/images/fraction1.png\" width=\"80%\"></div>"
   ]
  },
  {
   "cell_type": "markdown",
   "id": "5af8c0ec",
   "metadata": {
    "slideshow": {
     "slide_type": "slide"
    }
   },
   "source": [
    "### `self`의 역할"
   ]
  },
  {
   "cell_type": "markdown",
   "id": "cce84f7d",
   "metadata": {
    "slideshow": {
     "slide_type": ""
    }
   },
   "source": [
    "- `f35 = Fraction(3, 5)` 방식으로 변수 할당이 실행될 때 내부에서 다음이 실행됨\n",
    "\n",
    "    ```python\n",
    "    >>> __init__(f35, 3, 5)\n",
    "    ```\n",
    "\n",
    "- 즉, `self` 매개변수는 현재 생성되는 객체를 인자로 사용함"
   ]
  },
  {
   "cell_type": "markdown",
   "id": "463ac91d",
   "metadata": {},
   "source": [
    "### 인스턴스 변수와 속성"
   ]
  },
  {
   "cell_type": "markdown",
   "id": "fb160b91",
   "metadata": {},
   "source": [
    "- 인스턴스 변수\n",
    "    - 클래스 내부에서 `self`와 함께 선언된 변수\n",
    "    - `Fraction` 클래스의 인스턴스 변수: `top` 과 `bottom`\n",
    "    - 클래스의 영역<font size='2'>scope</font>에서만 의미를 가짐."
   ]
  },
  {
   "cell_type": "markdown",
   "id": "8d9012ac",
   "metadata": {},
   "source": [
    "- 인스턴스 속성\n",
    "    - 클래스의 인스턴스가 생성되면서 인스턴스 변수가 가리키는 값\n",
    "    - 클래스의 인스턴스가 생성되어야만 의미를 가짐"
   ]
  },
  {
   "cell_type": "markdown",
   "id": "4d8871b0",
   "metadata": {
    "slideshow": {
     "slide_type": "slide"
    }
   },
   "source": [
    "### `__dict__` 속성"
   ]
  },
  {
   "cell_type": "markdown",
   "id": "833c15a1",
   "metadata": {
    "slideshow": {
     "slide_type": "slide"
    }
   },
   "source": [
    "- 인스턴스 변수와 인스턴스 속성 정보를 사전으로 저장"
   ]
  },
  {
   "cell_type": "code",
   "execution_count": 3,
   "id": "2f9ea922",
   "metadata": {},
   "outputs": [
    {
     "data": {
      "text/plain": [
       "{'top': 3, 'bottom': 5}"
      ]
     },
     "execution_count": 3,
     "metadata": {},
     "output_type": "execute_result"
    }
   ],
   "source": [
    "f35.__dict__"
   ]
  },
  {
   "cell_type": "markdown",
   "id": "413a710b",
   "metadata": {
    "slideshow": {
     "slide_type": "slide"
    }
   },
   "source": [
    "## 인스턴스 메서드"
   ]
  },
  {
   "cell_type": "markdown",
   "id": "a2f534fe",
   "metadata": {},
   "source": [
    "- 메서드: 클래스 내부에서 선언된 함수\n",
    "- 인스턴스 메서드\n",
    "    - 첫째 인자로 `self` 를 사용하는 메서드\n",
    "    - 클래스의 인스턴스가 생성되어야만 활용될 수 있음."
   ]
  },
  {
   "cell_type": "markdown",
   "id": "8b65e427",
   "metadata": {},
   "source": [
    "### 매직 메서드"
   ]
  },
  {
   "cell_type": "markdown",
   "id": "071c34d3",
   "metadata": {},
   "source": [
    "- 클래스에 기본적으로 포함되는 인스턴스 메서드\n",
    "- 밑줄 두 개로 감싸진 이름을 가진 메서드\n",
    "- 클래스가 기본적으로 갖춰야 하는 기능 제공"
   ]
  },
  {
   "cell_type": "markdown",
   "id": "ad3f3354",
   "metadata": {
    "slideshow": {
     "slide_type": "slide"
    }
   },
   "source": [
    "### `dir()` 함수"
   ]
  },
  {
   "cell_type": "markdown",
   "id": "0c66601e",
   "metadata": {
    "slideshow": {
     "slide_type": "slide"
    }
   },
   "source": [
    "- 객체(클래스의 인스턴서)에 포함된 인스턴스 속성, 매직 메서드들의 리스트 확인"
   ]
  },
  {
   "cell_type": "code",
   "execution_count": 4,
   "id": "72b829a6",
   "metadata": {},
   "outputs": [
    {
     "name": "stdout",
     "output_type": "stream",
     "text": [
      "['__class__', '__delattr__', '__dict__', '__dir__', '__doc__', '__eq__', '__format__', '__ge__', '__getattribute__', '__getstate__', '__gt__', '__hash__', '__init__', '__init_subclass__', '__le__', '__lt__', '__module__', '__ne__', '__new__', '__reduce__', '__reduce_ex__', '__repr__', '__setattr__', '__sizeof__', '__str__', '__subclasshook__', '__weakref__', 'bottom', 'top']\n"
     ]
    }
   ],
   "source": [
    "print(dir(f35))"
   ]
  },
  {
   "cell_type": "markdown",
   "id": "56a78050",
   "metadata": {
    "slideshow": {
     "slide_type": "slide"
    }
   },
   "source": [
    "### `__str__()` 메서드"
   ]
  },
  {
   "cell_type": "markdown",
   "id": "66dfa1f3",
   "metadata": {},
   "source": [
    "- `print()` 함수가 이상하게 작동함."
   ]
  },
  {
   "cell_type": "code",
   "execution_count": 11,
   "id": "9b156b57",
   "metadata": {},
   "outputs": [
    {
     "name": "stdout",
     "output_type": "stream",
     "text": [
      "<__main__.Fraction object at 0x000001D361E5D750>\n"
     ]
    }
   ],
   "source": [
    "print(f35)"
   ]
  },
  {
   "cell_type": "markdown",
   "id": "944a9d2e",
   "metadata": {
    "slideshow": {
     "slide_type": "slide"
    }
   },
   "source": [
    "- `Fraction` 클래스를 선언할 때 `__str__()` 메서드를 아래처럼 재정의(overriding) 필요"
   ]
  },
  {
   "cell_type": "code",
   "execution_count": 5,
   "id": "8eee66b5",
   "metadata": {},
   "outputs": [],
   "source": [
    "class Fraction:\n",
    "    \"\"\"Fraction 클래스\"\"\"\n",
    "\n",
    "    def __init__(self, top, bottom):\n",
    "        \"\"\"생성자 메서드\n",
    "        top: 분자\n",
    "        bottom: 분모\n",
    "        \"\"\"\n",
    "        self.top = top\n",
    "        self.bottom = bottom\n",
    "\n",
    "    def __str__(self):\n",
    "        return f\"{self.top}/{self.bottom}\"  # 3/5, 1/2 형식으로 출력"
   ]
  },
  {
   "cell_type": "code",
   "execution_count": 6,
   "id": "51d5d153",
   "metadata": {},
   "outputs": [],
   "source": [
    "f35 = Fraction(3, 5)"
   ]
  },
  {
   "cell_type": "code",
   "execution_count": 7,
   "id": "6b9674b6",
   "metadata": {},
   "outputs": [
    {
     "name": "stdout",
     "output_type": "stream",
     "text": [
      "3/5\n"
     ]
    }
   ],
   "source": [
    "print(f35)"
   ]
  },
  {
   "cell_type": "markdown",
   "id": "2eb59936",
   "metadata": {
    "slideshow": {
     "slide_type": "slide"
    }
   },
   "source": [
    "### `__repr__()` 메서드"
   ]
  },
  {
   "cell_type": "markdown",
   "id": "a68e6d76",
   "metadata": {},
   "source": [
    "- 그냥 `f35` 를 확인하려하면 이상하게 작동함."
   ]
  },
  {
   "cell_type": "code",
   "execution_count": 12,
   "id": "5e69cb6d",
   "metadata": {},
   "outputs": [
    {
     "data": {
      "text/plain": [
       "<__main__.Fraction at 0x1d361e5d750>"
      ]
     },
     "execution_count": 12,
     "metadata": {},
     "output_type": "execute_result"
    }
   ],
   "source": [
    "f35"
   ]
  },
  {
   "cell_type": "markdown",
   "id": "1060b1b0",
   "metadata": {
    "slideshow": {
     "slide_type": "slide"
    }
   },
   "source": [
    "- 이를 해결하려면 `__repr__()` 메서드를 재정의 해야 함."
   ]
  },
  {
   "cell_type": "code",
   "execution_count": 13,
   "id": "920f36f5",
   "metadata": {},
   "outputs": [],
   "source": [
    "class Fraction:\n",
    "    \"\"\"Fraction 클래스\"\"\"\n",
    "\n",
    "    def __init__(self, top, bottom):\n",
    "        \"\"\"생성자 메서드\n",
    "        top: 분자\n",
    "        bottom: 분모\n",
    "        \"\"\"\n",
    "        self.top = top\n",
    "        self.bottom = bottom\n",
    "\n",
    "    def __str__(self):\n",
    "        return f\"{self.top}/{self.bottom}\"  # 3/5, 1/2 형식으로 출력\n",
    "    \n",
    "    def __repr__(self):\n",
    "        return f\"{self.top}/{self.bottom}\"  # 3/5, 1/2 형식으로 출력"
   ]
  },
  {
   "cell_type": "code",
   "execution_count": 14,
   "id": "658b9217",
   "metadata": {},
   "outputs": [],
   "source": [
    "f35 = Fraction(3, 5)"
   ]
  },
  {
   "cell_type": "code",
   "execution_count": 15,
   "id": "86d81ae1",
   "metadata": {},
   "outputs": [
    {
     "data": {
      "text/plain": [
       "3/5"
      ]
     },
     "execution_count": 15,
     "metadata": {},
     "output_type": "execute_result"
    }
   ],
   "source": [
    "f35"
   ]
  },
  {
   "cell_type": "markdown",
   "id": "b34f6653",
   "metadata": {
    "slideshow": {
     "slide_type": "slide"
    }
   },
   "source": [
    "- `__repr__()` 메서드를 `__str__()` 대신 사용 가능"
   ]
  },
  {
   "cell_type": "code",
   "execution_count": 16,
   "id": "8480192f",
   "metadata": {},
   "outputs": [],
   "source": [
    "class Fraction:\n",
    "    \"\"\"Fraction 클래스\"\"\"\n",
    "\n",
    "    def __init__(self, top, bottom):\n",
    "        \"\"\"생성자 메서드\n",
    "        top: 분자\n",
    "        bottom: 분모\n",
    "        \"\"\"\n",
    "        self.top = top\n",
    "        self.bottom = bottom\n",
    "\n",
    "#     def __str__(self):\n",
    "#         return f\"{self.top}/{self.bottom}\"  # 3/5, 1/2 형식으로 출력\n",
    "    \n",
    "    def __repr__(self):\n",
    "        return f\"{self.bottom}분의 {self.top}\"  # 5분의 3 형식으로 출력"
   ]
  },
  {
   "cell_type": "code",
   "execution_count": 17,
   "id": "254ca226",
   "metadata": {},
   "outputs": [],
   "source": [
    "f35 = Fraction(3, 5)"
   ]
  },
  {
   "cell_type": "code",
   "execution_count": 18,
   "id": "9a6a89da",
   "metadata": {},
   "outputs": [
    {
     "data": {
      "text/plain": [
       "5분의 3"
      ]
     },
     "execution_count": 18,
     "metadata": {},
     "output_type": "execute_result"
    }
   ],
   "source": [
    "f35"
   ]
  },
  {
   "cell_type": "code",
   "execution_count": 19,
   "id": "ffef8e79",
   "metadata": {},
   "outputs": [
    {
     "name": "stdout",
     "output_type": "stream",
     "text": [
      "5분의 3\n"
     ]
    }
   ],
   "source": [
    "print(f35)"
   ]
  },
  {
   "cell_type": "markdown",
   "id": "f0758469",
   "metadata": {},
   "source": [
    "### `__add__()` 메서드"
   ]
  },
  {
   "cell_type": "markdown",
   "id": "00133c1d",
   "metadata": {},
   "source": [
    "- 분수들의 덧셈을 지원하기 위해 필요"
   ]
  },
  {
   "cell_type": "code",
   "execution_count": 20,
   "id": "f44d2594",
   "metadata": {},
   "outputs": [],
   "source": [
    "class Fraction:\n",
    "    \"\"\"Fraction 클래스\"\"\"\n",
    "\n",
    "    def __init__(self, top, bottom):\n",
    "        \"\"\"생성자 메서드\n",
    "        top: 분자\n",
    "        bottom: 분모\n",
    "        \"\"\"\n",
    "        self.top = top\n",
    "        self.bottom = bottom\n",
    "\n",
    "    def __repr__(self):\n",
    "        return f\"{self.top}/{self.bottom}\"\n",
    "\n",
    "    def __add__(self, other):\n",
    "        new_top = self.top * other.bottom + self.bottom * other.top\n",
    "        new_bottom = self.bottom * other.bottom\n",
    "\n",
    "        return Fraction(new_top, new_bottom)"
   ]
  },
  {
   "cell_type": "code",
   "execution_count": 21,
   "id": "0d77901d",
   "metadata": {},
   "outputs": [
    {
     "data": {
      "text/plain": [
       "6/8"
      ]
     },
     "execution_count": 21,
     "metadata": {},
     "output_type": "execute_result"
    }
   ],
   "source": [
    "f14 = Fraction(1, 4)\n",
    "f12 = Fraction(1, 2)\n",
    "\n",
    "f14 + f12"
   ]
  },
  {
   "cell_type": "markdown",
   "id": "87e842e6",
   "metadata": {},
   "source": [
    "- 기약분수 처리: `gcd()` 함수 활용"
   ]
  },
  {
   "cell_type": "code",
   "execution_count": 24,
   "id": "4dd134f2",
   "metadata": {},
   "outputs": [],
   "source": [
    "def gcd(m, n):\n",
    "    while m % n != 0:\n",
    "        m, n = n, m % n\n",
    "    return n"
   ]
  },
  {
   "cell_type": "code",
   "execution_count": 28,
   "id": "562ddbdf",
   "metadata": {},
   "outputs": [
    {
     "name": "stdout",
     "output_type": "stream",
     "text": [
      "2\n",
      "4\n"
     ]
    }
   ],
   "source": [
    "print(gcd(6, 14))\n",
    "print(gcd(8, 20))"
   ]
  },
  {
   "cell_type": "code",
   "execution_count": 26,
   "id": "e8107808",
   "metadata": {
    "slideshow": {
     "slide_type": "slide"
    }
   },
   "outputs": [],
   "source": [
    "class Fraction:\n",
    "    \"\"\"Fraction 클래스\"\"\"\n",
    "\n",
    "    def __init__(self, top, bottom):\n",
    "        \"\"\"생성자 메서드\n",
    "        top: 분자\n",
    "        bottom: 분모\n",
    "        \"\"\"\n",
    "        self.top = top\n",
    "        self.bottom = bottom\n",
    "\n",
    "    def __repr__(self):\n",
    "        return f\"{self.top}/{self.bottom}\"\n",
    "\n",
    "    def __add__(self, other):\n",
    "        new_top = self.top * other.bottom + \\\n",
    "                     self.bottom * other.top\n",
    "        new_bottom = self.bottom * other.bottom\n",
    "        common = gcd(new_top, new_bottom)\n",
    "        \n",
    "        return Fraction(new_top // common, new_bottom // common)"
   ]
  },
  {
   "cell_type": "code",
   "execution_count": 27,
   "id": "7477f07a",
   "metadata": {},
   "outputs": [
    {
     "data": {
      "text/plain": [
       "3/4"
      ]
     },
     "execution_count": 27,
     "metadata": {},
     "output_type": "execute_result"
    }
   ],
   "source": [
    "f14 = Fraction(1, 4)\n",
    "f12 = Fraction(1, 2)\n",
    "\n",
    "f14 + f12"
   ]
  },
  {
   "cell_type": "markdown",
   "id": "bce2c9a4",
   "metadata": {
    "slideshow": {
     "slide_type": "slide"
    }
   },
   "source": [
    "### `__eq__()` 메서드"
   ]
  },
  {
   "cell_type": "markdown",
   "id": "e3be611c",
   "metadata": {
    "slideshow": {
     "slide_type": ""
    }
   },
   "source": [
    "- 두 객체의 동일성<font size='2'>identity</font>: 두 객체가 동일한 메모리 주소에 저장되었는가에 따라 결정됨\n",
    "- 두 객체의 동등성<font size='2'>equality</font>: 메모리의 주소가 아니라 객체가 표현하는 값의 동일성 여부 판정\n",
    "- 아래 `f1`과 `f2`는 동일하지도, 동등하지도 않음."
   ]
  },
  {
   "cell_type": "code",
   "execution_count": 29,
   "id": "c47c6ae5",
   "metadata": {},
   "outputs": [
    {
     "name": "stdout",
     "output_type": "stream",
     "text": [
      "False\n",
      "False\n"
     ]
    }
   ],
   "source": [
    "f1 = Fraction(1, 2)\n",
    "f2 = Fraction(1, 2)\n",
    "\n",
    "print(f1 is f2) # 동일성\n",
    "print(f1 == f2) # 동등성"
   ]
  },
  {
   "cell_type": "markdown",
   "id": "f715c534",
   "metadata": {
    "slideshow": {
     "slide_type": "slide"
    }
   },
   "source": [
    "<div align=\"center\" border=\"1px\"><img src=\"https://raw.githubusercontent.com/codingalzi/pybook/master/jupyter-book/images/fraction3.png\" width=\"80%\"></div>"
   ]
  },
  {
   "cell_type": "markdown",
   "id": "5b7e4160",
   "metadata": {
    "slideshow": {
     "slide_type": "slide"
    }
   },
   "source": [
    "### 동일성"
   ]
  },
  {
   "cell_type": "markdown",
   "id": "6ff66a66",
   "metadata": {
    "slideshow": {
     "slide_type": ""
    }
   },
   "source": [
    "- 동일한 객체를 가리키면 동일하면서 동시에 동등함."
   ]
  },
  {
   "cell_type": "code",
   "execution_count": 36,
   "id": "4ba3447e",
   "metadata": {},
   "outputs": [
    {
     "name": "stdout",
     "output_type": "stream",
     "text": [
      "True\n",
      "True\n"
     ]
    }
   ],
   "source": [
    "f1 = Fraction(1, 2)\n",
    "f2 = f1\n",
    "\n",
    "print(f1 is f2) # 동일성\n",
    "print(f1 == f2) # 동등성"
   ]
  },
  {
   "cell_type": "markdown",
   "id": "ab673930",
   "metadata": {
    "slideshow": {
     "slide_type": "slide"
    }
   },
   "source": [
    "<div align=\"center\" border=\"1px\"><img src=\"https://raw.githubusercontent.com/codingalzi/pybook/master/jupyter-book/images/fraction4.png\" width=\"80%\"></div>"
   ]
  },
  {
   "cell_type": "markdown",
   "id": "b1270fe6",
   "metadata": {
    "slideshow": {
     "slide_type": "slide"
    }
   },
   "source": [
    "### 동등성"
   ]
  },
  {
   "cell_type": "markdown",
   "id": "00cab37b",
   "metadata": {},
   "source": [
    "- 두 분수의 동등성:\n",
    "\n",
    "    $$\\frac {a}{b} = \\frac {c}{d} \\Longleftrightarrow ad = bc$$\n",
    "    \n",
    "- `__eq__` 매직 메서드: 두 객체의 동등성 정의    "
   ]
  },
  {
   "cell_type": "code",
   "execution_count": 30,
   "id": "5d32f339",
   "metadata": {
    "slideshow": {
     "slide_type": "slide"
    }
   },
   "outputs": [],
   "source": [
    "class Fraction:\n",
    "    \"\"\"Fraction 클래스\"\"\"\n",
    "\n",
    "    def __init__(self, top, bottom):\n",
    "        \"\"\"생성자 메서드\n",
    "        top: 분자\n",
    "        bottom: 분모\n",
    "        \"\"\"\n",
    "        self.top = top\n",
    "        self.bottom = bottom\n",
    "\n",
    "    def __repr__(self):\n",
    "        return f\"{self.top}/{self.bottom}\"\n",
    "\n",
    "    def __add__(self, other):\n",
    "        new_top = self.top * other.bottom + \\\n",
    "                     self.bottom * other.top\n",
    "        new_bottom = self.bottom * other.bottom\n",
    "        common = gcd(new_top, new_bottom)\n",
    "        \n",
    "        return Fraction(new_top // common, new_bottom // common)\n",
    "\n",
    "    def __eq__(self, other):\n",
    "        first_top = self.top * other.bottom\n",
    "        second_top = other.top * self.bottom\n",
    "\n",
    "        return first_top == second_top"
   ]
  },
  {
   "cell_type": "code",
   "execution_count": 32,
   "id": "c515be72",
   "metadata": {
    "slideshow": {
     "slide_type": "slide"
    }
   },
   "outputs": [
    {
     "name": "stdout",
     "output_type": "stream",
     "text": [
      "False\n",
      "True\n"
     ]
    }
   ],
   "source": [
    "f1 = Fraction(1, 2)\n",
    "f2 = Fraction(1, 2)\n",
    "\n",
    "print(f1 is f2) # 동일성\n",
    "print(f1 == f2) # 동등성"
   ]
  },
  {
   "cell_type": "markdown",
   "id": "6abf60ff",
   "metadata": {},
   "source": [
    "- `f1 == f2` 는 `__eq__()` 메서드를 다음과 같이 호출함"
   ]
  },
  {
   "cell_type": "code",
   "execution_count": 33,
   "id": "bdd9d2c0",
   "metadata": {},
   "outputs": [
    {
     "data": {
      "text/plain": [
       "True"
      ]
     },
     "execution_count": 33,
     "metadata": {},
     "output_type": "execute_result"
    }
   ],
   "source": [
    "f1.__eq__(f2)"
   ]
  },
  {
   "cell_type": "markdown",
   "id": "d51608b9",
   "metadata": {},
   "source": [
    "보다 다양한 매직 메서드에 대해서는 연습문제를 참고한다."
   ]
  },
  {
   "cell_type": "markdown",
   "id": "a98c9f11",
   "metadata": {
    "slideshow": {
     "slide_type": "slide"
    }
   },
   "source": [
    "### 인스턴스 메서드: 분모와 분자 추출"
   ]
  },
  {
   "cell_type": "markdown",
   "id": "46fce7c5",
   "metadata": {},
   "source": [
    "- `numerator()` 메서드: 분자 반환\n",
    "- `denominator()` 메서드: 분모 반환"
   ]
  },
  {
   "cell_type": "code",
   "execution_count": 36,
   "id": "654bf06a",
   "metadata": {},
   "outputs": [],
   "source": [
    "class Fraction:\n",
    "    \"\"\"Fraction 클래스\"\"\"\n",
    "\n",
    "    def __init__(self, top, bottom):\n",
    "        \"\"\"생성자 메서드\n",
    "        top: 분자\n",
    "        bottom: 분모\n",
    "        \"\"\"\n",
    "        self.top = top\n",
    "        self.bottom = bottom\n",
    "\n",
    "    def __repr__(self):\n",
    "        return f\"{self.top}/{self.bottom}\"\n",
    "\n",
    "    def __add__(self, other):\n",
    "        new_top = self.top * other.bottom + \\\n",
    "                     self.bottom * other.top\n",
    "        new_bottom = self.bottom * other.bottom\n",
    "        common = gcd(new_top, new_bottom)\n",
    "        \n",
    "        return Fraction(new_top // common, new_bottom // common)\n",
    "\n",
    "    def __eq__(self, other):\n",
    "        first_top = self.top * other.bottom\n",
    "        second_top = other.top * self.bottom\n",
    "\n",
    "        return first_top == second_top\n",
    "    \n",
    "    def numerator(self):\n",
    "        return self.top\n",
    "\n",
    "    def denominator(self):\n",
    "        return self.bottom"
   ]
  },
  {
   "cell_type": "code",
   "execution_count": 37,
   "id": "bf1d9c86",
   "metadata": {
    "slideshow": {
     "slide_type": "slide"
    }
   },
   "outputs": [],
   "source": [
    "f3 = Fraction(2, 3)"
   ]
  },
  {
   "cell_type": "code",
   "execution_count": 38,
   "id": "b9dfd1bb",
   "metadata": {},
   "outputs": [
    {
     "data": {
      "text/plain": [
       "2"
      ]
     },
     "execution_count": 38,
     "metadata": {},
     "output_type": "execute_result"
    }
   ],
   "source": [
    "f3.numerator()"
   ]
  },
  {
   "cell_type": "code",
   "execution_count": 39,
   "id": "91d38c10",
   "metadata": {},
   "outputs": [
    {
     "data": {
      "text/plain": [
       "3"
      ]
     },
     "execution_count": 39,
     "metadata": {},
     "output_type": "execute_result"
    }
   ],
   "source": [
    "f3.denominator()"
   ]
  },
  {
   "cell_type": "markdown",
   "id": "34f141bf",
   "metadata": {
    "slideshow": {
     "slide_type": "slide"
    }
   },
   "source": [
    "### 인스턴스 메서드: 부동소수점으로의 변환"
   ]
  },
  {
   "cell_type": "markdown",
   "id": "1a725d47",
   "metadata": {},
   "source": [
    "- `to_float()` 메서드: 분수를 부동소수점으로 변환"
   ]
  },
  {
   "cell_type": "code",
   "execution_count": 43,
   "id": "1ad3d2b3",
   "metadata": {},
   "outputs": [],
   "source": [
    "class Fraction:\n",
    "    \"\"\"Fraction 클래스\"\"\"\n",
    "\n",
    "    def __init__(self, top, bottom):\n",
    "        \"\"\"생성자 메서드\n",
    "        top: 분자\n",
    "        bottom: 분모\n",
    "        \"\"\"\n",
    "        self.top = top\n",
    "        self.bottom = bottom\n",
    "\n",
    "    def __repr__(self):\n",
    "        return f\"{self.top}/{self.bottom}\"\n",
    "\n",
    "    def __add__(self, other):\n",
    "        new_top = self.top * other.bottom + \\\n",
    "                     self.bottom * other.top\n",
    "        new_bottom = self.bottom * other.bottom\n",
    "        common = gcd(new_top, new_bottom)\n",
    "        \n",
    "        return Fraction(new_top // common, new_bottom // common)\n",
    "\n",
    "    def __eq__(self, other):\n",
    "        first_top = self.top * other.bottom\n",
    "        second_top = other.top * self.bottom\n",
    "\n",
    "        return first_top == second_top\n",
    "    \n",
    "    def numerator(self):\n",
    "        return self.top\n",
    "\n",
    "    def denominator(self):\n",
    "        return self.bottom\n",
    "    \n",
    "    def to_float(self):\n",
    "        return self.numerator() / self.denominator()"
   ]
  },
  {
   "cell_type": "code",
   "execution_count": 44,
   "id": "f591114e",
   "metadata": {
    "slideshow": {
     "slide_type": "slide"
    }
   },
   "outputs": [],
   "source": [
    "f3 = Fraction(2, 3)"
   ]
  },
  {
   "cell_type": "code",
   "execution_count": 45,
   "id": "0da42e45",
   "metadata": {},
   "outputs": [
    {
     "data": {
      "text/plain": [
       "0.6666666666666666"
      ]
     },
     "execution_count": 45,
     "metadata": {},
     "output_type": "execute_result"
    }
   ],
   "source": [
    "f3.to_float()"
   ]
  }
 ],
 "metadata": {
  "celltoolbar": "Slideshow",
  "kernelspec": {
   "display_name": "Python 3 (ipykernel)",
   "language": "python",
   "name": "python3"
  },
  "language_info": {
   "codemirror_mode": {
    "name": "ipython",
    "version": 3
   },
   "file_extension": ".py",
   "mimetype": "text/x-python",
   "name": "python",
   "nbconvert_exporter": "python",
   "pygments_lexer": "ipython3",
   "version": "3.11.4"
  }
 },
 "nbformat": 4,
 "nbformat_minor": 5
}
