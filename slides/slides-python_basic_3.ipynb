{
 "cells": [
  {
   "cell_type": "markdown",
   "id": "3efee1fe",
   "metadata": {
    "slideshow": {
     "slide_type": "slide"
    }
   },
   "source": [
    "# 클래스, 인스턴스, 객체"
   ]
  },
  {
   "cell_type": "markdown",
   "id": "31737ddd",
   "metadata": {
    "slideshow": {
     "slide_type": "slide"
    }
   },
   "source": [
    "## 주요 내용"
   ]
  },
  {
   "cell_type": "markdown",
   "id": "8ff44236",
   "metadata": {},
   "source": [
    "- 파이썬: 객체 지향 프로그래밍 언어 활용"
   ]
  },
  {
   "cell_type": "markdown",
   "id": "e1d1c24e",
   "metadata": {},
   "source": [
    "- 직접 필요한 자료형을 클래스로 정의하고 객체 활용"
   ]
  },
  {
   "cell_type": "markdown",
   "id": "1cfdee9d",
   "metadata": {
    "slideshow": {
     "slide_type": "slide"
    }
   },
   "source": [
    "### 예제: [`Fraction` 클래스](https://docs.python.org/ko/3/library/fractions.html) 직접 정의\n",
    "    "
   ]
  },
  {
   "cell_type": "markdown",
   "id": "a96c04d4",
   "metadata": {},
   "source": [
    "- 클래스, 인스턴, 객체 개념 소개"
   ]
  },
  {
   "cell_type": "markdown",
   "id": "a3dabca7",
   "metadata": {},
   "source": [
    "- `1/2`, `2/7` 처럼 기약분수들의 자료형 역할 수행"
   ]
  },
  {
   "cell_type": "markdown",
   "id": "c40bc08a",
   "metadata": {},
   "source": [
    "- 분수들의 덧셈, 크기 비교 등 지원"
   ]
  },
  {
   "cell_type": "markdown",
   "id": "fd9b0bf8",
   "metadata": {
    "slideshow": {
     "slide_type": "slide"
    }
   },
   "source": [
    "## 클래스 선언과 생성자"
   ]
  },
  {
   "cell_type": "markdown",
   "id": "38d315bf",
   "metadata": {},
   "source": [
    "- `__init__()` 메서드\n",
    "    - 클래스의 인스턴스를 생성하는 **생성자**\n",
    "    - 인스턴스의 속성으로 저장될 정보와 관련된 값을 인자로 받음\n",
    "- `Fraction` 클래스의 생성자: 분자와 분모 저장"
   ]
  },
  {
   "cell_type": "markdown",
   "id": "f5a1826b",
   "metadata": {},
   "source": [
    "```python\n",
    "class Fraction:\n",
    "    def __init__(self, top, bottom):\n",
    "        \"\"\"생성자 메서드\n",
    "        top: 분자\n",
    "        bottom: 분모\n",
    "        \"\"\"\n",
    "\n",
    "        self.top = top\n",
    "        self.bottom = bottom\n",
    "```"
   ]
  },
  {
   "cell_type": "markdown",
   "id": "a9af534b",
   "metadata": {
    "slideshow": {
     "slide_type": "slide"
    }
   },
   "source": [
    "## 인스턴스(객체) 생성"
   ]
  },
  {
   "cell_type": "markdown",
   "id": "535d1d1e",
   "metadata": {},
   "source": [
    "```python\n",
    ">>> f35 = Fraction(3, 5)\n",
    "```"
   ]
  },
  {
   "cell_type": "markdown",
   "id": "f8adca38",
   "metadata": {},
   "source": [
    "- `Fraction` 클래스의 인스턴스 생성\n",
    "- `__init__()` 메서드: 분자는 3, 분모는 5로 지정\n",
    "- 최종적으로 `3/5`에 해당하는 객체 생성"
   ]
  },
  {
   "cell_type": "markdown",
   "id": "fcca7c3c",
   "metadata": {
    "slideshow": {
     "slide_type": "slide"
    }
   },
   "source": [
    "### 메모리 상태 변화"
   ]
  },
  {
   "cell_type": "markdown",
   "id": "8cf6666d",
   "metadata": {},
   "source": [
    "<div align=\"center\" border=\"1px\"><img src=\"https://raw.githubusercontent.com/codingalzi/pybook/master/jupyter-book/images/fraction1.png\" width=\"80%\"></div>"
   ]
  },
  {
   "cell_type": "markdown",
   "id": "5af8c0ec",
   "metadata": {
    "slideshow": {
     "slide_type": "slide"
    }
   },
   "source": [
    "### `self`의 역할"
   ]
  },
  {
   "cell_type": "markdown",
   "id": "88c64cc5",
   "metadata": {
    "slideshow": {
     "slide_type": ""
    }
   },
   "source": [
    "- `f35 = Fraction(3, 5)` 방식으로 변수 할당이 실행될 때 내부에서 다음이 실행됨\n",
    "\n",
    "    ```python\n",
    "    __init__(f35, 3, 5)\n",
    "    ```"
   ]
  },
  {
   "cell_type": "markdown",
   "id": "cce84f7d",
   "metadata": {
    "slideshow": {
     "slide_type": ""
    }
   },
   "source": [
    "- 즉, `self` 매개변수는 현재 생성되는 객체를 인자로 사용함"
   ]
  },
  {
   "cell_type": "markdown",
   "id": "463ac91d",
   "metadata": {
    "slideshow": {
     "slide_type": "slide"
    }
   },
   "source": [
    "### 인스턴스 변수와 속성"
   ]
  },
  {
   "cell_type": "markdown",
   "id": "fb160b91",
   "metadata": {},
   "source": [
    "- 인스턴스 변수\n",
    "    - 클래스 내부에서 `self`와 함께 선언된 변수\n",
    "    - `Fraction` 클래스의 인스턴스 변수: `top` 과 `bottom`\n",
    "    - 클래스의 영역<font size='2'>scope</font>에서만 의미를 가짐."
   ]
  },
  {
   "cell_type": "markdown",
   "id": "8d9012ac",
   "metadata": {},
   "source": [
    "- 인스턴스 속성\n",
    "    - 클래스의 인스턴스가 생성되면서 인스턴스 변수가 가리키는 값\n",
    "    - 클래스의 인스턴스가 생성되어야만 의미를 가짐"
   ]
  },
  {
   "cell_type": "markdown",
   "id": "4d8871b0",
   "metadata": {
    "slideshow": {
     "slide_type": "slide"
    }
   },
   "source": [
    "### `__dict__` 속성"
   ]
  },
  {
   "cell_type": "markdown",
   "id": "833c15a1",
   "metadata": {
    "slideshow": {
     "slide_type": ""
    }
   },
   "source": [
    "- 인스턴스 변수와 인스턴스 속성 정보를 사전으로 저장"
   ]
  },
  {
   "cell_type": "markdown",
   "id": "26cca4a5",
   "metadata": {},
   "source": [
    "```python\n",
    ">>> f35.__dict__\n",
    "{'top': 3, 'bottom': 5}\n",
    "```"
   ]
  },
  {
   "cell_type": "markdown",
   "id": "413a710b",
   "metadata": {
    "slideshow": {
     "slide_type": "slide"
    }
   },
   "source": [
    "## 인스턴스 메서드"
   ]
  },
  {
   "cell_type": "markdown",
   "id": "ddacc451",
   "metadata": {},
   "source": [
    "- 메서드: 클래스 내부에서 선언된 함수"
   ]
  },
  {
   "cell_type": "markdown",
   "id": "a2f534fe",
   "metadata": {},
   "source": [
    "- 인스턴스 메서드\n",
    "    - 첫째 인자로 `self` 를 사용하는 메서드\n",
    "    - 클래스의 인스턴스가 생성되어야만 활용될 수 있음."
   ]
  },
  {
   "cell_type": "markdown",
   "id": "8b65e427",
   "metadata": {
    "slideshow": {
     "slide_type": "slide"
    }
   },
   "source": [
    "### 매직 메서드"
   ]
  },
  {
   "cell_type": "markdown",
   "id": "784c1acf",
   "metadata": {},
   "source": [
    "- 클래스에 기본적으로 포함되는 인스턴스 메서드"
   ]
  },
  {
   "cell_type": "markdown",
   "id": "f46f5faa",
   "metadata": {},
   "source": [
    "- 밑줄 두 개로 감싸진 이름을 가진 메서드"
   ]
  },
  {
   "cell_type": "markdown",
   "id": "071c34d3",
   "metadata": {},
   "source": [
    "- 클래스가 기본적으로 갖춰야 하는 기능 제공"
   ]
  },
  {
   "cell_type": "markdown",
   "id": "ad3f3354",
   "metadata": {
    "slideshow": {
     "slide_type": "slide"
    }
   },
   "source": [
    "### `dir()` 함수"
   ]
  },
  {
   "cell_type": "markdown",
   "id": "0c66601e",
   "metadata": {
    "slideshow": {
     "slide_type": ""
    }
   },
   "source": [
    "- 객체(클래스의 인스턴서)에 포함된 인스턴스 속성, 매직 메서드들의 리스트 확인"
   ]
  },
  {
   "cell_type": "markdown",
   "id": "d2246ea3",
   "metadata": {},
   "source": [
    "```python\n",
    ">>> print(dir(f35))\n",
    "['__class__', '__delattr__', '__dict__', '__dir__', '__doc__', '__eq__', '__format__', '__ge__', '__getattribute__', '__gt__', '__hash__', '__init__', '__init_subclass__', '__le__', '__lt__', '__module__', '__ne__', '__new__', '__reduce__', '__reduce_ex__', '__repr__', '__setattr__', '__sizeof__', '__str__', '__subclasshook__', '__weakref__', 'bottom', 'top']\n",
    "```"
   ]
  },
  {
   "cell_type": "markdown",
   "id": "56a78050",
   "metadata": {
    "slideshow": {
     "slide_type": "slide"
    }
   },
   "source": [
    "### `__str__()` 메서드"
   ]
  },
  {
   "cell_type": "markdown",
   "id": "ac7bc88b",
   "metadata": {},
   "source": [
    "```python\n",
    ">>> print(f35)\n",
    "<__main__.Fraction object at 0x000002ABAACBAC50>\n",
    "```"
   ]
  },
  {
   "cell_type": "markdown",
   "id": "a1207379",
   "metadata": {
    "slideshow": {
     "slide_type": "slide"
    }
   },
   "source": [
    "```python\n",
    "class Fraction:\n",
    "    \"\"\"Fraction 클래스\"\"\"\n",
    "\n",
    "    def __init__(self, top, bottom):\n",
    "        \"\"\"생성자 메서드\n",
    "        top: 분자\n",
    "        bottom: 분모\n",
    "        \"\"\"\n",
    "        self.top = top\n",
    "        self.bottom = bottom\n",
    "\n",
    "    def __str__(self):\n",
    "        return f\"{self.top}/{self.bottom}\"  # 3/5, 1/2 형식으로 출력\n",
    "```"
   ]
  },
  {
   "cell_type": "markdown",
   "id": "f12de508",
   "metadata": {},
   "source": [
    "```python\n",
    ">>> f35 = Fraction(3, 5)\n",
    "\n",
    ">>> print(f35)\n",
    "3/5\n",
    "```"
   ]
  },
  {
   "cell_type": "markdown",
   "id": "2eb59936",
   "metadata": {
    "slideshow": {
     "slide_type": "slide"
    }
   },
   "source": [
    "### `__repr__()` 메서드"
   ]
  },
  {
   "cell_type": "markdown",
   "id": "9956a363",
   "metadata": {},
   "source": [
    "```python\n",
    ">>> f35\n",
    "<__main__.Fraction at 0x2abaabd0c40>\n",
    "```"
   ]
  },
  {
   "cell_type": "markdown",
   "id": "4735fbb7",
   "metadata": {
    "slideshow": {
     "slide_type": "slide"
    }
   },
   "source": [
    "```python\n",
    "class Fraction:\n",
    "    \"\"\"Fraction 클래스\"\"\"\n",
    "\n",
    "    def __init__(self, top, bottom):\n",
    "        \"\"\"생성자 메서드\n",
    "        top: 분자\n",
    "        bottom: 분모\n",
    "        \"\"\"\n",
    "        self.top = top\n",
    "        self.bottom = bottom\n",
    "\n",
    "    def __str__(self):\n",
    "        return f\"{self.top}/{self.bottom}\"  # 3/5, 1/2 형식으로 출력\n",
    "    \n",
    "    def __repr__(self):\n",
    "        return f\"{self.top}/{self.bottom}\"  # 3/5, 1/2 형식으로 출력\n",
    "```    "
   ]
  },
  {
   "cell_type": "markdown",
   "id": "f312cb81",
   "metadata": {},
   "source": [
    "```python\n",
    ">>> f35 = Fraction(3, 5)\n",
    "\n",
    ">>> f35\n",
    "3/5\n",
    "```"
   ]
  },
  {
   "cell_type": "markdown",
   "id": "6666f3c1",
   "metadata": {
    "slideshow": {
     "slide_type": "slide"
    }
   },
   "source": [
    "```python\n",
    "class Fraction:\n",
    "    \"\"\"Fraction 클래스\"\"\"\n",
    "\n",
    "    def __init__(self, top, bottom):\n",
    "        \"\"\"생성자 메서드\n",
    "        top: 분자\n",
    "        bottom: 분모\n",
    "        \"\"\"\n",
    "        self.top = top\n",
    "        self.bottom = bottom\n",
    "\n",
    "    #     def __str__(self):\n",
    "    #         return f\"{self.top}/{self.bottom}\"  # 3/5, 1/2 형식으로 출력\n",
    "\n",
    "    # __str__() 메서드 대신 활용 가능\n",
    "    def __repr__(self):\n",
    "        return f\"{self.bottom}분의 {self.top}\"  # 5분의 3 형식으로 출력\n",
    "```    "
   ]
  },
  {
   "cell_type": "markdown",
   "id": "e0884043",
   "metadata": {},
   "source": [
    "```python\n",
    ">>> f35 = Fraction(3, 5)\n",
    "\n",
    ">>> f35\n",
    "5분의 3\n",
    "\n",
    ">>> print(f35)\n",
    "5분의 3\n",
    "```"
   ]
  },
  {
   "cell_type": "markdown",
   "id": "f0758469",
   "metadata": {
    "slideshow": {
     "slide_type": "slide"
    }
   },
   "source": [
    "### `__add__()` 메서드"
   ]
  },
  {
   "cell_type": "markdown",
   "id": "a76d895f",
   "metadata": {},
   "source": [
    "```python\n",
    "class Fraction:\n",
    "    \"\"\"Fraction 클래스\"\"\"\n",
    "\n",
    "    def __init__(self, top, bottom):\n",
    "        \"\"\"생성자 메서드\n",
    "        top: 분자\n",
    "        bottom: 분모\n",
    "        \"\"\"\n",
    "        self.top = top\n",
    "        self.bottom = bottom\n",
    "\n",
    "    def __repr__(self):\n",
    "        return f\"{self.top}/{self.bottom}\"\n",
    "\n",
    "    def __add__(self, other):\n",
    "        new_top = self.top * other.bottom + self.bottom * other.top\n",
    "        new_bottom = self.bottom * other.bottom\n",
    "\n",
    "        return Fraction(new_top, new_bottom)\n",
    "```    "
   ]
  },
  {
   "cell_type": "markdown",
   "id": "9aa1bdb6",
   "metadata": {},
   "source": [
    "```python\n",
    ">>> f14 = Fraction(1, 4)\n",
    "\n",
    ">>> f12 = Fraction(1, 2)\n",
    "\n",
    ">>> f14 + f12\n",
    "6/8\n",
    "```"
   ]
  },
  {
   "cell_type": "markdown",
   "id": "87e842e6",
   "metadata": {
    "slideshow": {
     "slide_type": "slide"
    }
   },
   "source": [
    "### 기약분수 처리: `gcd()` 함수 활용"
   ]
  },
  {
   "cell_type": "markdown",
   "id": "4409d5cb",
   "metadata": {},
   "source": [
    "```python\n",
    "def gcd(m, n):\n",
    "    while m % n != 0:\n",
    "        m, n = n, m % n\n",
    "    return n\n",
    "```"
   ]
  },
  {
   "cell_type": "markdown",
   "id": "2b843f4a",
   "metadata": {},
   "source": [
    "```python\n",
    ">>> print(gcd(6, 14))\n",
    "2\n",
    "\n",
    ">>> print(gcd(8, 20))\n",
    "4\n",
    "```"
   ]
  },
  {
   "cell_type": "markdown",
   "id": "ab764edb",
   "metadata": {
    "slideshow": {
     "slide_type": "slide"
    }
   },
   "source": [
    "```python\n",
    "class Fraction:\n",
    "    \"\"\"Fraction 클래스\"\"\"\n",
    "\n",
    "    def __init__(self, top, bottom):\n",
    "        \"\"\"생성자 메서드\n",
    "        top: 분자\n",
    "        bottom: 분모\n",
    "        \"\"\"\n",
    "        self.top = top\n",
    "        self.bottom = bottom\n",
    "\n",
    "    def __repr__(self):\n",
    "        return f\"{self.top}/{self.bottom}\"\n",
    "\n",
    "    def __add__(self, other):\n",
    "        new_top = self.top * other.bottom + \\\n",
    "                     self.bottom * other.top\n",
    "        new_bottom = self.bottom * other.bottom\n",
    "        common = gcd(new_top, new_bottom)\n",
    "        \n",
    "        return Fraction(new_top // common, new_bottom // common)\n",
    "```    "
   ]
  },
  {
   "cell_type": "markdown",
   "id": "8a55be49",
   "metadata": {},
   "source": [
    "```python\n",
    ">>> f14 = Fraction(1, 4)\n",
    "\n",
    ">>> f12 = Fraction(1, 2)\n",
    "\n",
    ">>> f14 + f12\n",
    "3/4\n",
    "```"
   ]
  },
  {
   "cell_type": "markdown",
   "id": "bce2c9a4",
   "metadata": {
    "slideshow": {
     "slide_type": "slide"
    }
   },
   "source": [
    "### `__eq__()` 메서드"
   ]
  },
  {
   "cell_type": "markdown",
   "id": "6dfa8c63",
   "metadata": {
    "slideshow": {
     "slide_type": ""
    }
   },
   "source": [
    "- 두 객체의 동일성<font size='2'>identity</font>: 두 객체가 동일한 메모리 주소에 저장되었는가에 따라 결정됨"
   ]
  },
  {
   "cell_type": "markdown",
   "id": "1b168b57",
   "metadata": {
    "slideshow": {
     "slide_type": ""
    }
   },
   "source": [
    "- 두 객체의 동등성<font size='2'>equality</font>: 메모리의 주소가 아니라 객체가 표현하는 값의 동일성 여부 판정"
   ]
  },
  {
   "cell_type": "markdown",
   "id": "e3be611c",
   "metadata": {
    "slideshow": {
     "slide_type": "slide"
    }
   },
   "source": [
    "- 아래 `f1`과 `f2`는 동일하지도, 동등하지도 않음."
   ]
  },
  {
   "cell_type": "markdown",
   "id": "d55aff93",
   "metadata": {},
   "source": [
    "```python\n",
    ">>> f1 = Fraction(1, 2)\n",
    "\n",
    ">>> f2 = Fraction(1, 2)\n",
    "\n",
    ">>> print(f1 is f2) # 동일성\n",
    "False\n",
    "\n",
    ">>> print(f1 == f2) # 동등성\n",
    "False\n",
    "```"
   ]
  },
  {
   "cell_type": "markdown",
   "id": "f715c534",
   "metadata": {
    "slideshow": {
     "slide_type": "slide"
    }
   },
   "source": [
    "<div align=\"center\" border=\"1px\"><img src=\"https://raw.githubusercontent.com/codingalzi/pybook/master/jupyter-book/images/fraction3.png\" width=\"80%\"></div>"
   ]
  },
  {
   "cell_type": "markdown",
   "id": "5b7e4160",
   "metadata": {
    "slideshow": {
     "slide_type": "slide"
    }
   },
   "source": [
    "### 동일성"
   ]
  },
  {
   "cell_type": "markdown",
   "id": "6ff66a66",
   "metadata": {
    "slideshow": {
     "slide_type": ""
    }
   },
   "source": [
    "- 동일한 객체를 가리키면 동일하면서 동시에 동등함."
   ]
  },
  {
   "cell_type": "markdown",
   "id": "dd8cbd83",
   "metadata": {},
   "source": [
    "```python\n",
    ">>> f1 = Fraction(1, 2)\n",
    "\n",
    ">>> f2 = f1\n",
    "\n",
    ">>> print(f1 is f2) # 동일성\n",
    "True\n",
    "\n",
    ">>> print(f1 == f2) # 동등성\n",
    "True\n",
    "```"
   ]
  },
  {
   "cell_type": "markdown",
   "id": "ab673930",
   "metadata": {
    "slideshow": {
     "slide_type": "slide"
    }
   },
   "source": [
    "<div align=\"center\" border=\"1px\"><img src=\"https://raw.githubusercontent.com/codingalzi/pybook/master/jupyter-book/images/fraction4.png\" width=\"80%\"></div>"
   ]
  },
  {
   "cell_type": "markdown",
   "id": "b1270fe6",
   "metadata": {
    "slideshow": {
     "slide_type": "slide"
    }
   },
   "source": [
    "### 동등성"
   ]
  },
  {
   "cell_type": "markdown",
   "id": "00cab37b",
   "metadata": {},
   "source": [
    "- 두 분수의 동등성:\n",
    "\n",
    "    $$\\frac {a}{b} = \\frac {c}{d} \\Longleftrightarrow ad = bc$$\n",
    "    \n",
    "- `__eq__` 매직 메서드: 두 객체의 동등성 정의    "
   ]
  },
  {
   "cell_type": "markdown",
   "id": "537fd025",
   "metadata": {
    "slideshow": {
     "slide_type": "slide"
    }
   },
   "source": [
    "```python\n",
    "class Fraction:\n",
    "    \"\"\"Fraction 클래스\"\"\"\n",
    "\n",
    "    def __init__(self, top, bottom):\n",
    "        \"\"\"생성자 메서드\n",
    "        top: 분자\n",
    "        bottom: 분모\n",
    "        \"\"\"\n",
    "        self.top = top\n",
    "        self.bottom = bottom\n",
    "\n",
    "    ...(중략)\n",
    "    \n",
    "    def __eq__(self, other):\n",
    "        first_top = self.top * other.bottom\n",
    "        second_top = other.top * self.bottom\n",
    "\n",
    "        return first_top == second_top\n",
    "```    "
   ]
  },
  {
   "cell_type": "markdown",
   "id": "2142e46c",
   "metadata": {
    "slideshow": {
     "slide_type": "slide"
    }
   },
   "source": [
    "```python\n",
    ">>> f1 = Fraction(1, 2)\n",
    "\n",
    ">>> f2 = Fraction(1, 2)\n",
    "\n",
    ">>> print(f1 is f2) # 동일성\n",
    "False\n",
    "\n",
    ">>> print(f1 == f2) # 동등성\n",
    "True\n",
    "```"
   ]
  },
  {
   "cell_type": "markdown",
   "id": "697141b7",
   "metadata": {
    "slideshow": {
     "slide_type": "slide"
    }
   },
   "source": [
    "### `self`와 `other`"
   ]
  },
  {
   "cell_type": "markdown",
   "id": "86be5860",
   "metadata": {
    "slideshow": {
     "slide_type": ""
    }
   },
   "source": [
    "- 주로 이항 연산자를 정의할 때 활용됨\n",
    "    - `self`: 객체 자신. 연산의 중심 역할 수행\n",
    "    - `other`: 다른 객체. 연산에 필요한 역할 수행"
   ]
  },
  {
   "cell_type": "markdown",
   "id": "6abf60ff",
   "metadata": {
    "slideshow": {
     "slide_type": ""
    }
   },
   "source": [
    "- `f1 == f2` 는 `__eq__()` 메서드를 다음과 같이 호출함\n",
    "\n",
    "    ```python\n",
    "    >>> f1.__eq__(f2)\n",
    "    ```"
   ]
  },
  {
   "cell_type": "markdown",
   "id": "63a698af",
   "metadata": {},
   "source": [
    "- 내부적으로는 다음과 같이 실행됨\n",
    "\n",
    "    ```python\n",
    "    __eq__(f1, f2)\n",
    "    ```"
   ]
  },
  {
   "cell_type": "markdown",
   "id": "a98c9f11",
   "metadata": {
    "slideshow": {
     "slide_type": "slide"
    }
   },
   "source": [
    "### 인스턴스 메서드: 분모와 분자 추출"
   ]
  },
  {
   "cell_type": "markdown",
   "id": "46fce7c5",
   "metadata": {},
   "source": [
    "- `numerator()` 메서드: 분자 반환\n",
    "- `denominator()` 메서드: 분모 반환"
   ]
  },
  {
   "cell_type": "markdown",
   "id": "0434e5fd",
   "metadata": {},
   "source": [
    "```python\n",
    "class Fraction:\n",
    "    \"\"\"Fraction 클래스\"\"\"\n",
    "\n",
    "    def __init__(self, top, bottom):\n",
    "        \"\"\"생성자 메서드\n",
    "        top: 분자\n",
    "        bottom: 분모\n",
    "        \"\"\"\n",
    "        self.top = top\n",
    "        self.bottom = bottom\n",
    "\n",
    "    ...(중략)\n",
    "    \n",
    "    def numerator(self):\n",
    "        return self.top\n",
    "\n",
    "    def denominator(self):\n",
    "        return self.bottom\n",
    "```    "
   ]
  },
  {
   "cell_type": "markdown",
   "id": "179313e4",
   "metadata": {
    "slideshow": {
     "slide_type": "slide"
    }
   },
   "source": [
    "```python\n",
    ">>> f3 = Fraction(2, 3)\n",
    "\n",
    ">>> f3.numerator()\n",
    "2\n",
    "\n",
    ">>> f3.denominator()\n",
    "3\n",
    "```"
   ]
  },
  {
   "cell_type": "markdown",
   "id": "34f141bf",
   "metadata": {
    "slideshow": {
     "slide_type": "slide"
    }
   },
   "source": [
    "### 인스턴스 메서드: 부동소수점으로의 변환"
   ]
  },
  {
   "cell_type": "markdown",
   "id": "1a725d47",
   "metadata": {},
   "source": [
    "- `to_float()` 메서드: 분수를 부동소수점으로 변환"
   ]
  },
  {
   "cell_type": "markdown",
   "id": "f3920d9b",
   "metadata": {},
   "source": [
    "```python\n",
    "class Fraction:\n",
    "    \"\"\"Fraction 클래스\"\"\"\n",
    "\n",
    "    def __init__(self, top, bottom):\n",
    "        \"\"\"생성자 메서드\n",
    "        top: 분자\n",
    "        bottom: 분모\n",
    "        \"\"\"\n",
    "        self.top = top\n",
    "        self.bottom = bottom\n",
    "\n",
    "        ...(중략)\n",
    "            \n",
    "    def to_float(self):\n",
    "        return self.numerator() / self.denominator()\n",
    "```    "
   ]
  },
  {
   "cell_type": "markdown",
   "id": "d21f95ab",
   "metadata": {
    "slideshow": {
     "slide_type": ""
    }
   },
   "source": [
    "```python\n",
    ">>> f3 = Fraction(2, 3)\n",
    "\n",
    ">>> f3.to_float()\n",
    "0.6666666666666666\n",
    "```"
   ]
  }
 ],
 "metadata": {
  "celltoolbar": "Slideshow",
  "kernelspec": {
   "display_name": "Python 3 (ipykernel)",
   "language": "python",
   "name": "python3"
  },
  "language_info": {
   "codemirror_mode": {
    "name": "ipython",
    "version": 3
   },
   "file_extension": ".py",
   "mimetype": "text/x-python",
   "name": "python",
   "nbconvert_exporter": "python",
   "pygments_lexer": "ipython3",
   "version": "3.10.9"
  }
 },
 "nbformat": 4,
 "nbformat_minor": 5
}
