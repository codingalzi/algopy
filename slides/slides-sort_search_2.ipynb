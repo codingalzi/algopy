{
 "cells": [
  {
   "cell_type": "markdown",
   "metadata": {
    "slideshow": {
     "slide_type": "slide"
    }
   },
   "source": [
    "# 버블/선택/합병/퀵 정렬"
   ]
  },
  {
   "cell_type": "markdown",
   "metadata": {
    "slideshow": {
     "slide_type": "slide"
    }
   },
   "source": [
    "## 주요 내용"
   ]
  },
  {
   "cell_type": "markdown",
   "metadata": {},
   "source": [
    "- 버블 정렬"
   ]
  },
  {
   "cell_type": "markdown",
   "metadata": {},
   "source": [
    "- 선택 정렬"
   ]
  },
  {
   "cell_type": "markdown",
   "metadata": {},
   "source": [
    "- 합병 정렬"
   ]
  },
  {
   "cell_type": "markdown",
   "metadata": {},
   "source": [
    "- 퀵 정렬"
   ]
  },
  {
   "cell_type": "markdown",
   "metadata": {
    "slideshow": {
     "slide_type": "slide"
    }
   },
   "source": [
    "### 정렬"
   ]
  },
  {
   "cell_type": "markdown",
   "metadata": {},
   "source": [
    "- 모음 객체에 포함된 항목들을 특정 크기 기준에 따라 오름차순 또는 내림차순으로 순서대로 위치시키는 과정"
   ]
  },
  {
   "cell_type": "markdown",
   "metadata": {},
   "source": [
    "- 문자열들로 이루어진 리스트의 항목을 알파벳 순서대로 정렬하기"
   ]
  },
  {
   "cell_type": "markdown",
   "metadata": {},
   "source": [
    "- 도시들의 리스트를 인구, 면적, 또는 우편번호 등으로 정렬하기"
   ]
  },
  {
   "cell_type": "markdown",
   "metadata": {},
   "source": [
    "- 정렬 활용 예제: 어구전철 관계 확인, 이진탐색 등"
   ]
  },
  {
   "cell_type": "markdown",
   "metadata": {
    "slideshow": {
     "slide_type": "slide"
    }
   },
   "source": [
    "### 정렬 알고리즘"
   ]
  },
  {
   "cell_type": "markdown",
   "metadata": {},
   "source": [
    "- 다양한 종류의 정렬 알고리즘 존재"
   ]
  },
  {
   "cell_type": "markdown",
   "metadata": {},
   "source": [
    "- 모든 경우에 항상 효율적으로 작동하는 정렬 알고리즘은 없음."
   ]
  },
  {
   "cell_type": "markdown",
   "metadata": {},
   "source": [
    "- 정렬 알고리즘의 시간복잡도 분석에 사용되는 기본 단위연산\n",
    "    - 두 값의 크기 비교: 두 항목의 크기를 서로 비교할 수 있어야 함.\n",
    "    - 두 항목의 자리 교환: 예를 들어, 보다 작은 값을 보다 큰 값보다 왼편에 위치하도록 해야 함."
   ]
  },
  {
   "cell_type": "markdown",
   "metadata": {
    "slideshow": {
     "slide_type": "slide"
    }
   },
   "source": [
    "## 버블 정렬"
   ]
  },
  {
   "cell_type": "markdown",
   "metadata": {
    "slideshow": {
     "slide_type": "slide"
    }
   },
   "source": [
    "### 패스"
   ]
  },
  {
   "cell_type": "markdown",
   "metadata": {},
   "source": [
    "- **버블 정렬**<font size='2'>bubble sort</font> 알고리즘은 **패스**<font size='2'>pass</font>로 구성됨."
   ]
  },
  {
   "cell_type": "markdown",
   "metadata": {},
   "source": [
    "- 패스: 연속된 위치의 두 수를 비교하여 작은 항목은 왼쪽으로, 큰 항목은 오른쪽으로 자리를 바꾸는 일을\n",
    "    리스트의 맨 왼쪽에서 시작하여 오를쪽 끝까지 진행"
   ]
  },
  {
   "cell_type": "markdown",
   "metadata": {},
   "source": [
    "- 하나의 패스가 완료되면 패스 과정에서 확인된 가장 큰 항목이 리스트의 맨 오른쪽에 위치"
   ]
  },
  {
   "cell_type": "markdown",
   "metadata": {},
   "source": [
    "- 가장 큰 수가 위치한 곳을 제외한 왼쪽 구간을 대상으로 패스 반복"
   ]
  },
  {
   "cell_type": "markdown",
   "metadata": {},
   "source": [
    "- 가장 큰 항목은 리스트의 맨 오른편에 위치하고 모든 항목이 크기 순서대로 정렬된 리스트 생성"
   ]
  },
  {
   "cell_type": "markdown",
   "metadata": {
    "slideshow": {
     "slide_type": "slide"
    }
   },
   "source": [
    "### 첫번째 패스"
   ]
  },
  {
   "cell_type": "markdown",
   "metadata": {
    "slideshow": {
     "slide_type": ""
    }
   },
   "source": [
    "<figure>\n",
    "<div align=\"center\"><img src=\"https://runestone.academy/runestone/books/published/pythonds3/_images/bubblepass.png\" width=\"60%\"></div>\n",
    "</figure>"
   ]
  },
  {
   "cell_type": "markdown",
   "metadata": {
    "slideshow": {
     "slide_type": "slide"
    }
   },
   "source": [
    "### 버블 정렬 알고리즘 구현"
   ]
  },
  {
   "cell_type": "markdown",
   "metadata": {},
   "source": [
    "```python\n",
    "def bubble_sort(a_list):\n",
    "    # 패스. 자리교환 인덱스 끝자리 지정\n",
    "    for a_pass in range(len(a_list) - 1, 0, -1):  \n",
    "        # 크기비교 및 자리교환\n",
    "        for j in range(a_pass):  \n",
    "            if a_list[j] > a_list[j + 1]:\n",
    "                a_list[j], a_list[j+1] = a_list[j + 1], a_list[j]\n",
    "```"
   ]
  },
  {
   "cell_type": "markdown",
   "metadata": {
    "slideshow": {
     "slide_type": "slide"
    }
   },
   "source": [
    "### 버블 정렬 시간복잡도 분석"
   ]
  },
  {
   "cell_type": "markdown",
   "metadata": {},
   "source": [
    "| **패 &nbsp;&nbsp;&nbsp;&nbsp; 스** | **비교 횟수** |\n",
    "| :---: | :---: |\n",
    "| $1$ | $n-1$ |\n",
    "| $2$ | $n-2$ |\n",
    "| $3$ | $n-3$ |\n",
    "| $\\vdots$ | $\\vdots$ |\n",
    "| $n-1$ | $1$ |"
   ]
  },
  {
   "cell_type": "markdown",
   "metadata": {},
   "source": [
    "- 항목 비교\n",
    "\n",
    "    $$\n",
    "    1 + 2 + \\cdots + (n-1) = \\frac{n (n-1)}{2} = \\frac{1}{2} n^2 - \\frac{1}{2} n \\in O(n^2)\n",
    "    $$"
   ]
  },
  {
   "cell_type": "markdown",
   "metadata": {},
   "source": [
    "- 자리교환: 하나의 패스 동안 최소 0, 최대 비교횟수와 동일하게 발생. 평균적으로 비교횟수의 절반정도 발생."
   ]
  },
  {
   "cell_type": "markdown",
   "metadata": {},
   "source": [
    "- 최선, 최악, 평균 시간복잡도 모두: $O(n^2)$"
   ]
  },
  {
   "cell_type": "markdown",
   "metadata": {
    "slideshow": {
     "slide_type": "slide"
    }
   },
   "source": [
    "### 버블 정렬 조기종료"
   ]
  },
  {
   "cell_type": "markdown",
   "metadata": {},
   "source": [
    "```python\n",
    "def bubble_sort_early_stop(a_list):\n",
    "    for a_pass in range(len(a_list) - 1, 0, -1):\n",
    "        exchanges = False # 패스 기간 내 자리교환 발생 여부 저장\n",
    "        for j in range(a_pass):\n",
    "            if a_list[j] > a_list[j + 1]:\n",
    "                a_list[j], a_list[j+1] = a_list[j + 1], a_list[j]\n",
    "                exchanges = True\n",
    "        \n",
    "        # 자리교환이 발생하지 않은 경우 조기종료\n",
    "        if not exchanges: \n",
    "            print(\"조기종료!\")\n",
    "            break\n",
    "```"
   ]
  },
  {
   "cell_type": "markdown",
   "metadata": {
    "slideshow": {
     "slide_type": "slide"
    }
   },
   "source": [
    "### 퀴즈"
   ]
  },
  {
   "cell_type": "markdown",
   "metadata": {},
   "source": [
    "리스트 `[19, 1, 9, 7, 3, 10, 13, 15, 8, 12]`에 대해 버블 정렬을 진행할 때\n",
    "세 번의 패스가 완성된 후의 리스트는 어떤 모습인가?"
   ]
  },
  {
   "cell_type": "markdown",
   "metadata": {
    "slideshow": {
     "slide_type": "slide"
    }
   },
   "source": [
    "## 선택 정렬"
   ]
  },
  {
   "cell_type": "markdown",
   "metadata": {},
   "source": [
    "- 작동과정은 기본적으로 버블 정렬과 동일"
   ]
  },
  {
   "cell_type": "markdown",
   "metadata": {},
   "source": [
    "- 자리교환을 바로 실행하는 게 아니라 패스 별로 최댓값을 확인한 다음에 최종적으로 필요에 따라 딱 한 번 자리교환 실행"
   ]
  },
  {
   "cell_type": "markdown",
   "metadata": {
    "slideshow": {
     "slide_type": "slide"
    }
   },
   "source": [
    "<figure>\n",
    "<div align=\"center\"><img src=\"https://runestone.academy/runestone/books/published/pythonds3/_images/selectionsortnew.png\" width=\"55%\"></div>\n",
    "</figure>"
   ]
  },
  {
   "cell_type": "markdown",
   "metadata": {
    "slideshow": {
     "slide_type": "slide"
    }
   },
   "source": [
    "### 선택 정렬 알고리즘 구현"
   ]
  },
  {
   "cell_type": "markdown",
   "metadata": {},
   "source": [
    "```python\n",
    "def selection_sort(a_list):\n",
    "    \n",
    "    for a_pass in range(len(a_list)-1, 0, -1):\n",
    "        max_idx = 0\n",
    "        for j in range(a_pass):\n",
    "            if a_list[j] > a_list[max_idx]:\n",
    "                max_idx = j\n",
    "        # a_pass 인덱스 이전까지 찾은 최댓값과 \n",
    "        # a_pass 위치의 값 자리교환 여부 판단\n",
    "        if a_list[max_idx] > a_list[a_pass]:\n",
    "            a_list[max_idx], a_list[a_pass] = a_list[a_pass], a_list[max_idx]\n",
    "```"
   ]
  },
  {
   "cell_type": "markdown",
   "metadata": {
    "slideshow": {
     "slide_type": "slide"
    }
   },
   "source": [
    "### 선택 정렬 시간복잡도 분석"
   ]
  },
  {
   "cell_type": "markdown",
   "metadata": {},
   "source": [
    "- 크기비교: 버블 정렬의 경우와 동일"
   ]
  },
  {
   "cell_type": "markdown",
   "metadata": {},
   "source": [
    "- 자리교환 횟수: 최대 $(n-1)$ 번 발생"
   ]
  },
  {
   "cell_type": "markdown",
   "metadata": {},
   "source": [
    "- 버블 정렬보다 조금 빠름."
   ]
  },
  {
   "cell_type": "markdown",
   "metadata": {
    "slideshow": {
     "slide_type": "slide"
    }
   },
   "source": [
    "### 퀴즈"
   ]
  },
  {
   "cell_type": "markdown",
   "metadata": {},
   "source": [
    "리스트 `[11, 7, 12, 14, 19, 1, 6, 18, 8, 20]`에 대해 \n",
    "선택 정렬을 진행할 때\n",
    "세 번의 패스가 완성된 후의 리스트는 어떤 모습인가?"
   ]
  },
  {
   "cell_type": "markdown",
   "metadata": {
    "slideshow": {
     "slide_type": "slide"
    }
   },
   "source": [
    "## 합병 정렬"
   ]
  },
  {
   "cell_type": "markdown",
   "metadata": {},
   "source": [
    "- 분할 정복 기법을 이용"
   ]
  },
  {
   "cell_type": "markdown",
   "metadata": {},
   "source": [
    "- **합병 정렬**<font size='2'>merge sort</font>에 사용되는 분할과 정복\n",
    "    - 분할: 리스트의 길이가 1이 될 때까지 반복적으로 이등분한다.\n",
    "    - 정복: 길이가 작은 두 개의 리스트를 합병해서 보다 큰 길이의 리스트를 생성한다.\n",
    "        합병 과정에서 항목들을 크기 순으로 정렬한다."
   ]
  },
  {
   "cell_type": "markdown",
   "metadata": {
    "slideshow": {
     "slide_type": "slide"
    }
   },
   "source": [
    "### 분할 과정"
   ]
  },
  {
   "cell_type": "markdown",
   "metadata": {},
   "source": [
    "```python\n",
    "def merge_sort(a_list):\n",
    "    # 분할 과정: 이등분 반복\n",
    "    if len(a_list)>1:\n",
    "        print(\"분할:\", a_list)\n",
    "\n",
    "        mid = len(a_list) // 2\n",
    "        left_half = a_list[:mid]\n",
    "        right_half = a_list[mid:]\n",
    "        \n",
    "        # 재귀 호출\n",
    "        merge_sort(left_half)\n",
    "        merge_sort(right_half)\n",
    "\n",
    "        # 합병 과정: 작은 리스트 두 개 합병하면서 정렬\n",
    "        merge(a_list, left_half, right_half)\n",
    "        print(\"합병:\", a_list)\n",
    "```"
   ]
  },
  {
   "cell_type": "markdown",
   "metadata": {
    "slideshow": {
     "slide_type": "slide"
    }
   },
   "source": [
    "<figure>\n",
    "<div align=\"center\"><img src=\"https://runestone.academy/runestone/books/published/pythonds3/_images/mergesortA.png\" width=\"70%\"></div>\n",
    "</figure>"
   ]
  },
  {
   "cell_type": "markdown",
   "metadata": {
    "slideshow": {
     "slide_type": "slide"
    }
   },
   "source": [
    "### 합병 과정"
   ]
  },
  {
   "cell_type": "markdown",
   "metadata": {},
   "source": [
    "```python\n",
    "def merge(a_list, left_half, right_half):\n",
    "    i, j, k = 0, 0, 0\n",
    "    while i < len(left_half) and j < len(right_half):\n",
    "        if left_half[i] <= right_half[j]:\n",
    "            a_list[k] = left_half[i]\n",
    "            i = i + 1\n",
    "        else:\n",
    "            a_list[k] = right_half[j]\n",
    "            j = j + 1\n",
    "        k = k + 1\n",
    "\n",
    "    while i < len(left_half):\n",
    "        a_list[k] = left_half[i]\n",
    "        i = i + 1\n",
    "        k = k + 1\n",
    "\n",
    "    while j < len(right_half):\n",
    "        a_list[k] = right_half[j]\n",
    "        j = j + 1\n",
    "        k = k + 1\n",
    "```"
   ]
  },
  {
   "cell_type": "markdown",
   "metadata": {
    "slideshow": {
     "slide_type": "slide"
    }
   },
   "source": [
    "<figure>\n",
    "<div align=\"center\"><img src=\"https://runestone.academy/runestone/books/published/pythonds3/_images/mergesortB.png\" width=\"60%\"></div>\n",
    "</figure>"
   ]
  },
  {
   "cell_type": "markdown",
   "metadata": {
    "slideshow": {
     "slide_type": "slide"
    }
   },
   "source": [
    "### 분할과 합병이 재귀적으로 발생하는 순서"
   ]
  },
  {
   "cell_type": "markdown",
   "metadata": {},
   "source": [
    "```python\n",
    ">>> a_list = [54, 26, 93, 17, 77, 31, 44, 55, 20]\n",
    ">>> merge_sort(a_list)\n",
    "분할: [54, 26, 93, 17, 77, 31, 44, 55, 20]\n",
    "분할: [54, 26, 93, 17]\n",
    "분할: [54, 26]\n",
    "합병: [26, 54]\n",
    "분할: [93, 17]\n",
    "합병: [17, 93]\n",
    "합병: [17, 26, 54, 93]\n",
    "분할: [77, 31, 44, 55, 20]\n",
    "분할: [77, 31]\n",
    "합병: [31, 77]\n",
    "분할: [44, 55, 20]\n",
    "분할: [55, 20]\n",
    "합병: [20, 55]\n",
    "합병: [20, 44, 55]\n",
    "합병: [20, 31, 44, 55, 77]\n",
    "합병: [17, 20, 26, 31, 44, 54, 55, 77, 93]\n",
    "```"
   ]
  },
  {
   "cell_type": "markdown",
   "metadata": {
    "slideshow": {
     "slide_type": "slide"
    }
   },
   "source": [
    "<figure>\n",
    "<div align=\"center\"><img src=\"https://github.com/codingalzi/algopy/blob/master/jupyter-book/imgs/merge-sort02.png?raw=true\" width=\"60%\"></div>\n",
    "</figure>"
   ]
  },
  {
   "cell_type": "markdown",
   "metadata": {
    "slideshow": {
     "slide_type": "slide"
    }
   },
   "source": [
    "### 합병 정렬 시간복잡도 분석"
   ]
  },
  {
   "cell_type": "markdown",
   "metadata": {},
   "source": [
    "- 입력 크기: 리스트의 길이 $n$"
   ]
  },
  {
   "cell_type": "markdown",
   "metadata": {},
   "source": [
    "- 분할 과정\n",
    "    - 비교연산이나 위치 이동이 전혀 없음."
   ]
  },
  {
   "cell_type": "markdown",
   "metadata": {},
   "source": [
    "- 합병 과정\n",
    "    - 합병과정을 그래프로 간주하면 높이가 `int(log(n)) + 1` 인 가지가 두 개로 갈라지는 이진 트리임.\n",
    "    - 하나의 레벨(나무의 동일한 높이)에서 합병이 여러 번 발생하는 데 각각의 합병 과정에서 발생하는\n",
    "        항목 비교와 위치 이동을 다 합치면 최대 `2*n`번임.\n",
    "    - 따라서 합병 과정에서 발생하는 항목 비교와 위치 이동은 최악의 경우 $O(n \\log n)$의 시간복잡도를 가짐."
   ]
  },
  {
   "cell_type": "markdown",
   "metadata": {
    "slideshow": {
     "slide_type": "slide"
    }
   },
   "source": [
    "### 슬라이싱과 추가 메모리 사용"
   ]
  },
  {
   "cell_type": "markdown",
   "metadata": {},
   "source": [
    "- 슬라이싱을 이용: 실제 시간복잡도는 $O(n^2 \\log n)$"
   ]
  },
  {
   "cell_type": "markdown",
   "metadata": {},
   "source": [
    "- 길이가 $k$인 구간을 슬라이싱 하는 알고리즘의 시간복잡도: $O(k)$"
   ]
  },
  {
   "cell_type": "markdown",
   "metadata": {},
   "source": [
    "- 버블 정렬과 선택 정렬: 추가 메모리 사용하지 않음"
   ]
  },
  {
   "cell_type": "markdown",
   "metadata": {
    "slideshow": {
     "slide_type": "slide"
    }
   },
   "source": [
    "### 합병 정렬 연습"
   ]
  },
  {
   "cell_type": "markdown",
   "metadata": {
    "slideshow": {
     "slide_type": "slide"
    }
   },
   "source": [
    "<figure>\n",
    "<div align=\"center\"><img src=\"https://github.com/codingalzi/algopy/blob/master/jupyter-book/imgs/merge-sort06.png?raw=true\" width=\"55%\"></div>\n",
    "</figure>"
   ]
  },
  {
   "cell_type": "markdown",
   "metadata": {
    "slideshow": {
     "slide_type": "slide"
    }
   },
   "source": [
    "<figure>\n",
    "<div align=\"center\"><img src=\"https://github.com/codingalzi/algopy/blob/master/jupyter-book/imgs/merge-sort04.png?raw=true\" width=\"55%\"></div>\n",
    "</figure>"
   ]
  },
  {
   "cell_type": "markdown",
   "metadata": {
    "slideshow": {
     "slide_type": "slide"
    }
   },
   "source": [
    "## 퀵 정렬"
   ]
  },
  {
   "cell_type": "markdown",
   "metadata": {
    "slideshow": {
     "slide_type": "slide"
    }
   },
   "source": [
    "### 피벗 지정"
   ]
  },
  {
   "cell_type": "markdown",
   "metadata": {},
   "source": [
    "- 리스트의 임의의 값을 사용 가능"
   ]
  },
  {
   "cell_type": "markdown",
   "metadata": {},
   "source": [
    "- 여기서는 맨 왼편에 위치한 값을 사용"
   ]
  },
  {
   "cell_type": "markdown",
   "metadata": {},
   "source": [
    "- 경우에 따라 양끝과 중앙에 위치한 세 값의 중앙값을 사용"
   ]
  },
  {
   "cell_type": "markdown",
   "metadata": {},
   "source": [
    "- 오른쪽 맨 끝, 또는 중앙에 위치한 값 등도 사용"
   ]
  },
  {
   "cell_type": "markdown",
   "metadata": {},
   "source": [
    "- 알고리즘의 성능 차이는 기본적으로 없으며, 입력 사례에 따라 달라짐."
   ]
  },
  {
   "cell_type": "markdown",
   "metadata": {},
   "source": [
    "<figure>\n",
    "<div align=\"center\"><img src=\"https://runestone.academy/runestone/books/published/pythonds3/_images/firstsplit.png\" width=\"60%\"></div>\n",
    "</figure>"
   ]
  },
  {
   "cell_type": "markdown",
   "metadata": {
    "slideshow": {
     "slide_type": "slide"
    }
   },
   "source": [
    "### 분할과 정복"
   ]
  },
  {
   "cell_type": "markdown",
   "metadata": {},
   "source": [
    "- 분할과 정복을 동시에 진행"
   ]
  },
  {
   "cell_type": "markdown",
   "metadata": {},
   "source": [
    "- 한 번의 분할과정을 통해 두 개의 보다 작은 리스트로 분할"
   ]
  },
  {
   "cell_type": "markdown",
   "metadata": {},
   "source": [
    "- 분할 과정 중에 정복을 동시 실행"
   ]
  },
  {
   "cell_type": "markdown",
   "metadata": {},
   "source": [
    "- 쪼개진 작은 구간에 대해 동일 과정 반복 적용"
   ]
  },
  {
   "cell_type": "markdown",
   "metadata": {
    "slideshow": {
     "slide_type": "slide"
    }
   },
   "source": [
    "<figure>\n",
    "<div align=\"center\"><img src=\"https://runestone.academy/runestone/books/published/pythonds3/_images/partitionA.png\" width=\"50%\"></div>\n",
    "</figure>"
   ]
  },
  {
   "cell_type": "markdown",
   "metadata": {
    "slideshow": {
     "slide_type": "slide"
    }
   },
   "source": [
    "### 분할과 정복의 한 단계"
   ]
  },
  {
   "cell_type": "markdown",
   "metadata": {},
   "source": [
    "```python\n",
    "def partition(a_list, first, last):\n",
    "    pivot_val = a_list[first]   # 피벗\n",
    "    left_mark = first + 1       # 탐색 구간 시작\n",
    "    right_mark = last           # 탐색 구간 끝\n",
    "    done = False                # 탐색 종료여부 확인\n",
    "\n",
    "    while not done:\n",
    "        while left_mark <= right_mark and a_list[left_mark] < pivot_val:\n",
    "            left_mark = left_mark + 1\n",
    "        while left_mark <= right_mark and a_list[right_mark] >= pivot_val:\n",
    "            right_mark = right_mark - 1\n",
    "        # 자리 교환\n",
    "        if right_mark < left_mark:\n",
    "            done = True\n",
    "        else:\n",
    "            a_list[left_mark], a_list[right_mark] = a_list[right_mark], a_list[left_mark]\n",
    "            \n",
    "    # 피벗 자리 교환\n",
    "    a_list[first], a_list[right_mark] = a_list[right_mark], a_list[first]\n",
    "\n",
    "    # 피벗 위치 반환\n",
    "    return right_mark\n",
    "```"
   ]
  },
  {
   "cell_type": "markdown",
   "metadata": {
    "slideshow": {
     "slide_type": "slide"
    }
   },
   "source": [
    "### 재귀 적용"
   ]
  },
  {
   "cell_type": "markdown",
   "metadata": {},
   "source": [
    "```python\n",
    "def quick_sort_helper(a_list, first, last):\n",
    "    if first < last:\n",
    "        split = partition(a_list, first, last)\n",
    "\n",
    "        quick_sort_helper(a_list, first, split - 1)\n",
    "        quick_sort_helper(a_list, split + 1, last)\n",
    "```"
   ]
  },
  {
   "cell_type": "markdown",
   "metadata": {},
   "source": [
    "<figure>\n",
    "<div align=\"center\"><img src=\"https://runestone.academy/runestone/books/published/pythonds3/_images/partitionB.png\" width=\"60%\"></div>\n",
    "</figure>"
   ]
  },
  {
   "cell_type": "markdown",
   "metadata": {
    "slideshow": {
     "slide_type": "slide"
    }
   },
   "source": [
    "### 재귀 함수 구현"
   ]
  },
  {
   "cell_type": "markdown",
   "metadata": {},
   "source": [
    "```python\n",
    "def quick_sort(a_list):\n",
    "    quick_sort_helper(a_list, 0, len(a_list) - 1)\n",
    "```"
   ]
  },
  {
   "cell_type": "markdown",
   "metadata": {
    "slideshow": {
     "slide_type": "slide"
    }
   },
   "source": [
    "### 퀵 정렬 시간복잡도 분석"
   ]
  },
  {
   "cell_type": "markdown",
   "metadata": {},
   "source": [
    "- 이상적인 경우\n",
    "    - 리스트를 거의 정확하게 이등분\n",
    "    - 이 경우 분할 횟수: $\\log n$\n",
    "    - 한 번 분할할 때마다 피벗과 나머지 값들이 비교되고 필요에 따라 자리교환이 발생: $O(n)$ \n",
    "    - 최선 시간복잡도: $O(n \\log n)$"
   ]
  },
  {
   "cell_type": "markdown",
   "metadata": {},
   "source": [
    "- 최악의 경우\n",
    "    - 분할이 한쪽으로 쏠림.\n",
    "    - 예를 들어, 거의 정렬이 되어있는 경우: 피벗을 기준으로 1대 (n-1) 개의 부분 리스트로 분할될 수 있음\n",
    "    - 최대 $n$ 번에 가까운 분할이 필요\n",
    "    - 최악 시간복잡도: $O(n^2)$"
   ]
  },
  {
   "cell_type": "markdown",
   "metadata": {
    "slideshow": {
     "slide_type": "slide"
    }
   },
   "source": [
    "### 합병 정렬 대 퀵 정렬"
   ]
  },
  {
   "cell_type": "markdown",
   "metadata": {},
   "source": [
    "- 합병 정렬\n",
    "    - 퀵 정렬에 비해 시간복잡도 측면에서 이론적으로 좋음\n",
    "    - 하지만 공간복잡도와 자리 교환 횟수 측면에서 비효율적"
   ]
  },
  {
   "cell_type": "markdown",
   "metadata": {},
   "source": [
    "- 퀵 정렬이 대부분의 운영체제와 프로그래밍언어에서 최적화된 형식으로 활용됨"
   ]
  },
  {
   "cell_type": "markdown",
   "metadata": {
    "slideshow": {
     "slide_type": "slide"
    }
   },
   "source": [
    "### 정렬 알고리즘 시간복잡도 비교"
   ]
  },
  {
   "cell_type": "markdown",
   "metadata": {},
   "source": [
    "- 1부터 100까지의 정수 중에서 무작위로 선택된 1,000 개의 정수들로 구성된 리스트 대상\n",
    "- 조기 종료를 사용하는 버블 정렬은 조기 종료가 없는 경우보다 미세하게 느림. 이유는 `if` 명령문을 실행하기 때문에 \n",
    "    조기 종료의 장점이 상쇄되는 것으로 추정.\n",
    "- 선택 정렬이 버블 정렬 보다 두 배 정도 빠름.\n",
    "- 퀵 정렬 대 합병 정렬: 퀵 정렬이 합병 정렬보다 1.5배 정도 빠름.\n",
    "    일반적으로 퀵 정렬이 합병 정렬보다 평균적으로 2배 정도 빠르다고 알려져 있음.   "
   ]
  },
  {
   "cell_type": "markdown",
   "metadata": {},
   "source": [
    "| 알고리즘 | 최선 | 평균 | 최악 | 모의실험 |\n",
    "| :---: | :---: | :---: | :---: | :---: |\n",
    "| 버블 정렬 | n^2 | n^2 | n^2 | 0.022219 |\n",
    "| 버블 정렬(조기 종료) | n^2 | n^2 | n^2 | 0.022225 |\n",
    "| 선택 정렬 | n^2 | n^2 | n^2 | 0.011253 |\n",
    "| 합병 정렬 | n log n | n log n | n log n | 0.000853 |\n",
    "| 퀵 정렬 | n log n | n log n | n^2 | 0.000560 |"
   ]
  },
  {
   "cell_type": "markdown",
   "metadata": {
    "slideshow": {
     "slide_type": "slide"
    }
   },
   "source": [
    "- 리스트의 길이를 몇 만 단위로 늘리면 퀵 정렬이 오히려 합병 정렬보다 느려짐\n",
    "- 파이썬에서 매우 긴 리스트를 다루는 방식의 한계때문으로 추정됨.\n",
    "- 리스트의 길이를 2만으로 할 경우의 모의실험 결과는 다음과 같음."
   ]
  },
  {
   "cell_type": "markdown",
   "metadata": {},
   "source": [
    "| 알고리즘 | 최선 | 평균 | 최악 | 모의실험 |\n",
    "| :---: | :---: | :---: | :---: | :---: |\n",
    "| 버블 정렬 | n^2 | n^2 | n^2 | 9.129473 |\n",
    "| 버블 정렬(조기 종료) | n^2 | n^2 | n^2 | 9.414862 |\n",
    "| 선택 정렬 | n^2 | n^2 | n^2 | 4.365451 |\n",
    "| 합병 정렬 | n log n | n log n | n log n | 0.023475 |\n",
    "| 퀵 정렬 | n log n | n log n | n^2 | 0.056168 |"
   ]
  },
  {
   "cell_type": "markdown",
   "metadata": {
    "slideshow": {
     "slide_type": "slide"
    }
   },
   "source": [
    "### 퀵 정렬 연습"
   ]
  },
  {
   "cell_type": "markdown",
   "metadata": {
    "slideshow": {
     "slide_type": "slide"
    }
   },
   "source": [
    "<figure>\n",
    "<div align=\"center\"><img src=\"https://github.com/codingalzi/algopy/blob/master/jupyter-book/imgs/merge-sort06.png?raw=true\" width=\"55%\"></div>\n",
    "</figure>"
   ]
  },
  {
   "cell_type": "markdown",
   "metadata": {
    "slideshow": {
     "slide_type": "slide"
    }
   },
   "source": [
    "<figure>\n",
    "<div align=\"center\"><img src=\"https://github.com/codingalzi/algopy/blob/master/jupyter-book/imgs/merge-sort04.png?raw=true\" width=\"55%\"></div>\n",
    "</figure>"
   ]
  }
 ],
 "metadata": {
  "celltoolbar": "Slideshow",
  "kernelspec": {
   "display_name": "Python 3 (ipykernel)",
   "language": "python",
   "name": "python3"
  },
  "language_info": {
   "codemirror_mode": {
    "name": "ipython",
    "version": 3
   },
   "file_extension": ".py",
   "mimetype": "text/x-python",
   "name": "python",
   "nbconvert_exporter": "python",
   "pygments_lexer": "ipython3",
   "version": "3.11.4"
  },
  "vscode": {
   "interpreter": {
    "hash": "6c86b3592b6800d985c04531f2c445f0fa6967131b8dd6395a925f7622e55602"
   }
  }
 },
 "nbformat": 4,
 "nbformat_minor": 4
}
