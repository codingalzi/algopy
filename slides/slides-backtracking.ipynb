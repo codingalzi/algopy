{
 "cells": [
  {
   "cell_type": "markdown",
   "metadata": {
    "slideshow": {
     "slide_type": "slide"
    }
   },
   "source": [
    "# 되추적 기법"
   ]
  },
  {
   "cell_type": "markdown",
   "metadata": {
    "slideshow": {
     "slide_type": "slide"
    }
   },
   "source": [
    "## 주요 내용"
   ]
  },
  {
   "cell_type": "markdown",
   "metadata": {
    "slideshow": {
     "slide_type": ""
    }
   },
   "source": [
    "- 제약 충족 문제"
   ]
  },
  {
   "cell_type": "markdown",
   "metadata": {
    "slideshow": {
     "slide_type": ""
    }
   },
   "source": [
    "- 되추적 기법"
   ]
  },
  {
   "cell_type": "markdown",
   "metadata": {
    "slideshow": {
     "slide_type": ""
    }
   },
   "source": [
    "- n-여왕말 문제"
   ]
  },
  {
   "cell_type": "markdown",
   "metadata": {
    "slideshow": {
     "slide_type": ""
    }
   },
   "source": [
    "- 그래프 색칠하기"
   ]
  },
  {
   "cell_type": "markdown",
   "metadata": {
    "slideshow": {
     "slide_type": "slide"
    }
   },
   "source": [
    "## 제약 충족 문제"
   ]
  },
  {
   "cell_type": "markdown",
   "metadata": {
    "slideshow": {
     "slide_type": ""
    }
   },
   "source": [
    "- 여러 개의 대상 각각에 할당할 값을 특정 도메인(영역)에서 정해진 제약 조건에 따라 선택하는 문제"
   ]
  },
  {
   "cell_type": "markdown",
   "metadata": {
    "slideshow": {
     "slide_type": ""
    }
   },
   "source": [
    "- 예제: n-여왕말 문제"
   ]
  },
  {
   "cell_type": "markdown",
   "metadata": {
    "slideshow": {
     "slide_type": "slide"
    }
   },
   "source": [
    "### 4-여왕말 문제"
   ]
  },
  {
   "cell_type": "markdown",
   "metadata": {
    "slideshow": {
     "slide_type": ""
    }
   },
   "source": [
    "- 여왕말: 체스판에서 상하좌우, 대각선 등 임의로 움직일 수 있음"
   ]
  },
  {
   "cell_type": "markdown",
   "metadata": {
    "slideshow": {
     "slide_type": ""
    }
   },
   "source": [
    "- 4-여왕말 문제\n",
    "    * (대상) 변수: 1번부터 4번까지 이름이 붙은 네 개의 여왕말\n",
    "    * 도메인: `4x4` 모양의 체스판에 포함된 1번 열부터 4번 열\n",
    "    * 제약 조건: 서로 다른 두 개의 여왕말이 하나의 행, 열, 또는 대각선 상에 위치하지 않음"
   ]
  },
  {
   "cell_type": "markdown",
   "metadata": {
    "slideshow": {
     "slide_type": "slide"
    }
   },
   "source": [
    "### 제약 조건 충족 여부"
   ]
  },
  {
   "cell_type": "markdown",
   "metadata": {
    "slideshow": {
     "slide_type": ""
    }
   },
   "source": [
    "<p><div align=\"center\"><img src=\"https://raw.githubusercontent.com/codingalzi/algopy/master/jupyter-book/imgs/algo05/algo05-01a.png\" width=\"150\"/></div></p>"
   ]
  },
  {
   "cell_type": "markdown",
   "metadata": {
    "slideshow": {
     "slide_type": "slide"
    }
   },
   "source": [
    "## 되추적 기법"
   ]
  },
  {
   "cell_type": "markdown",
   "metadata": {
    "slideshow": {
     "slide_type": ""
    }
   },
   "source": [
    "- 제약 충족 문제를 해결하는 기법"
   ]
  },
  {
   "cell_type": "markdown",
   "metadata": {
    "slideshow": {
     "slide_type": ""
    }
   },
   "source": [
    "- 백트래킹<font size='2'>backtracking</font>으로 불리기도 함"
   ]
  },
  {
   "cell_type": "markdown",
   "metadata": {
    "slideshow": {
     "slide_type": ""
    }
   },
   "source": [
    "- 많은 제약 충족 문제가 제약 조건만 서로 다를 뿐 동일한 되추적 알고리즘으로 해결 가능"
   ]
  },
  {
   "cell_type": "markdown",
   "metadata": {
    "slideshow": {
     "slide_type": "slide"
    }
   },
   "source": [
    "### 되추적 기법 관련 개념"
   ]
  },
  {
   "cell_type": "markdown",
   "metadata": {
    "slideshow": {
     "slide_type": ""
    }
   },
   "source": [
    "* 깊이 우선 탐색"
   ]
  },
  {
   "cell_type": "markdown",
   "metadata": {
    "slideshow": {
     "slide_type": ""
    }
   },
   "source": [
    "* 상태 공간 트리"
   ]
  },
  {
   "cell_type": "markdown",
   "metadata": {
    "slideshow": {
     "slide_type": ""
    }
   },
   "source": [
    "* 노드의 유망성"
   ]
  },
  {
   "cell_type": "markdown",
   "metadata": {
    "slideshow": {
     "slide_type": ""
    }
   },
   "source": [
    "* 가지치기"
   ]
  },
  {
   "cell_type": "markdown",
   "metadata": {
    "slideshow": {
     "slide_type": "slide"
    }
   },
   "source": [
    "### 깊이 우선 탐색"
   ]
  },
  {
   "cell_type": "markdown",
   "metadata": {
    "slideshow": {
     "slide_type": ""
    }
   },
   "source": [
    "<p><p><div align=\"center\"><img src=\"https://raw.githubusercontent.com/codingalzi/algopy/master/jupyter-book/imgs/algo05/algo05-02.png\" width=\"400\"/></div></p></p>"
   ]
  },
  {
   "cell_type": "markdown",
   "metadata": {
    "slideshow": {
     "slide_type": "slide"
    }
   },
   "source": [
    "**상태 공간 트리**"
   ]
  },
  {
   "cell_type": "markdown",
   "metadata": {},
   "source": [
    "- (대상) 변수가 가질 수 있는 모든 값으로 구성된 트리\n",
    "- 예제: `4x4`로 이루어진 체스판에 네 개의 체스 여왕말을 놓을 수 있는 위치를 노드로 표현한 상태 공간 트리\n",
    "    * 루트: 출발 노드이며 여왕말의 위치와는 무관함.\n",
    "    * 깊이 $k$의 노드: $k$ 번째 여왕말이 놓일 수 있는 열 위치\n"
   ]
  },
  {
   "cell_type": "markdown",
   "metadata": {
    "slideshow": {
     "slide_type": ""
    }
   },
   "source": [
    "<p><p><div align=\"center\"><img src=\"https://raw.githubusercontent.com/codingalzi/algopy/master/jupyter-book/imgs/algo05/algo05-03.png\" width=\"500\"/></div></p></p>"
   ]
  },
  {
   "cell_type": "markdown",
   "metadata": {
    "slideshow": {
     "slide_type": "slide"
    }
   },
   "source": [
    "### 노드의 유망성"
   ]
  },
  {
   "cell_type": "markdown",
   "metadata": {
    "slideshow": {
     "slide_type": ""
    }
   },
   "source": [
    "- 지정된 제약 조건을 만족시키는 노드\n",
    "- 예제: 아래 그림 참고.\n",
    "    - 첫째 여왕말의 위치에 따라 둘째 여왕말이 놓일 수 있는 위치에 해당하는 노드의 유망성이 결정됨\n",
    "    - 둘째 여왕말에 대해 1번, 2번 칸에 해당하는 노드는 유망하지 않음"
   ]
  },
  {
   "cell_type": "markdown",
   "metadata": {
    "slideshow": {
     "slide_type": ""
    }
   },
   "source": [
    "<p><div align=\"center\"><img src=\"https://raw.githubusercontent.com/codingalzi/algopy/master/jupyter-book/imgs/algo05/algo05-04.png\" width=\"300\"/></div></p>"
   ]
  },
  {
   "cell_type": "markdown",
   "metadata": {
    "slideshow": {
     "slide_type": "slide"
    }
   },
   "source": [
    "### 가지치기"
   ]
  },
  {
   "cell_type": "markdown",
   "metadata": {},
   "source": [
    "- 특정 노드에서 시작되는 가지를 제거하기\n",
    "- 예제: `4x4`로 이루어진 체스판의 상태 공간 트리에서 유망하지 않은 노드를 가지치기한 결과"
   ]
  },
  {
   "cell_type": "markdown",
   "metadata": {
    "slideshow": {
     "slide_type": ""
    }
   },
   "source": [
    "<p><div align=\"center\"><img src=\"https://raw.githubusercontent.com/codingalzi/algopy/master/jupyter-book/imgs/algo05/algo05-05.png\" width=\"600\"/></div></p>"
   ]
  },
  {
   "cell_type": "markdown",
   "metadata": {
    "slideshow": {
     "slide_type": "slide"
    }
   },
   "source": [
    "**4-여왕말 문제 되추적 알고리즘**"
   ]
  },
  {
   "cell_type": "markdown",
   "metadata": {
    "slideshow": {
     "slide_type": ""
    }
   },
   "source": [
    "<p><div align=\"center\"><img src=\"https://raw.githubusercontent.com/codingalzi/algopy/master/jupyter-book/imgs/algo05/algo05-06.png\" width=\"600\"/></div></p>"
   ]
  },
  {
   "cell_type": "markdown",
   "metadata": {
    "slideshow": {
     "slide_type": "slide"
    }
   },
   "source": [
    "### 되추적 알고리즘 vs. 깊이 우선 탐색"
   ]
  },
  {
   "cell_type": "markdown",
   "metadata": {
    "slideshow": {
     "slide_type": ""
    }
   },
   "source": [
    "- 4-여왕말 문제 해결 알고리즘: 되추적 알고리즘 대 깊이 우선 탐색"
   ]
  },
  {
   "cell_type": "markdown",
   "metadata": {
    "slideshow": {
     "slide_type": ""
    }
   },
   "source": [
    "- 깊이 우선 탐색 알고리즘: 155 개의 노드 탐색"
   ]
  },
  {
   "cell_type": "markdown",
   "metadata": {
    "slideshow": {
     "slide_type": ""
    }
   },
   "source": [
    "- 되추적 알고리즘: 27개의 노드 탐색"
   ]
  },
  {
   "cell_type": "markdown",
   "metadata": {
    "slideshow": {
     "slide_type": "slide"
    }
   },
   "source": [
    "## n-여왕말 문제"
   ]
  },
  {
   "cell_type": "markdown",
   "metadata": {
    "slideshow": {
     "slide_type": ""
    }
   },
   "source": [
    "* (대상) 변수: 1번부터 n번까지 이름이 붙은 n 개의 여왕말"
   ]
  },
  {
   "cell_type": "markdown",
   "metadata": {
    "slideshow": {
     "slide_type": ""
    }
   },
   "source": [
    "* 도메인: `nxn` 모양의 체스판에 포함된 1번부터 n번 열"
   ]
  },
  {
   "cell_type": "markdown",
   "metadata": {
    "slideshow": {
     "slide_type": ""
    }
   },
   "source": [
    "* 제약 조건: 서로 다른 두 개의 여왕말이 하나의 행, 열, 또는 대각선 상에 위치하지 않음"
   ]
  },
  {
   "cell_type": "markdown",
   "metadata": {
    "slideshow": {
     "slide_type": "slide"
    }
   },
   "source": [
    "### 예제: 8-여왕말 문제"
   ]
  },
  {
   "cell_type": "code",
   "execution_count": 1,
   "metadata": {
    "slideshow": {
     "slide_type": ""
    }
   },
   "outputs": [],
   "source": [
    "from collections import defaultdict\n",
    "\n",
    "variables = range(1, 9)\n",
    "\n",
    "domains = defaultdict(list)\n",
    "columns = range(1, 9)\n",
    "for var in variables:\n",
    "    domains[var] = columns"
   ]
  },
  {
   "cell_type": "code",
   "execution_count": 2,
   "metadata": {},
   "outputs": [
    {
     "data": {
      "text/plain": [
       "defaultdict(list,\n",
       "            {1: range(1, 9),\n",
       "             2: range(1, 9),\n",
       "             3: range(1, 9),\n",
       "             4: range(1, 9),\n",
       "             5: range(1, 9),\n",
       "             6: range(1, 9),\n",
       "             7: range(1, 9),\n",
       "             8: range(1, 9)})"
      ]
     },
     "execution_count": 2,
     "metadata": {},
     "output_type": "execute_result"
    }
   ],
   "source": [
    "domains"
   ]
  },
  {
   "cell_type": "markdown",
   "metadata": {
    "slideshow": {
     "slide_type": "slide"
    }
   },
   "source": [
    "### 유망성 판단"
   ]
  },
  {
   "cell_type": "markdown",
   "metadata": {},
   "source": [
    "위치가 이미 정해진 여왕말들을 대상으로 다음 세 개의 제약 조건이 성립함을 확인한다."
   ]
  },
  {
   "cell_type": "markdown",
   "metadata": {},
   "source": [
    "- 동일한 행에 위치하지 않기: 각각의 여왕말이 다른 행에 위치되도록 하기에 알고리즘이 작동하기에 자연스럽게 처리됨."
   ]
  },
  {
   "cell_type": "markdown",
   "metadata": {},
   "source": [
    "- 동일한 열에 위치하지 않기: 서로 다른 키에 대해 동일한 값이 사용되지 않도록 해야 함."
   ]
  },
  {
   "cell_type": "markdown",
   "metadata": {
    "slideshow": {
     "slide_type": "slide"
    }
   },
   "source": [
    "- 동일한 대각선 상에 위치하지 않기: \n",
    "    두 개의 여왕말 `q1`, `q2`가 동일한 대각선 상에 위치하려면 행과 열의 차이의 절댓값이 같아야 함(아래 그림 참고.\n",
    "    아래 식에서 예를 들어 `q1r`과 `q1c`는 각각 `q1`이 위치한 행과 열의 좌표를 가리킴.\n",
    "\n",
    "    ```python\n",
    "    abs(q1r - q2r) == abs(q1c - q2c)\n",
    "    ```\n",
    "\n",
    "    "
   ]
  },
  {
   "cell_type": "markdown",
   "metadata": {
    "slideshow": {
     "slide_type": ""
    }
   },
   "source": [
    "<p><div align=\"center\"><img src=\"https://raw.githubusercontent.com/codingalzi/algopy/master/jupyter-book/imgs/algo05/algo05-07.png\" width=\"300\"/></div></p>"
   ]
  },
  {
   "cell_type": "code",
   "execution_count": 3,
   "metadata": {
    "slideshow": {
     "slide_type": "slide"
    }
   },
   "outputs": [],
   "source": [
    "def promissing_queens(assignment=defaultdict(int)):\n",
    "\n",
    "    # q1: 모든 여왕말 대상으로 유망성 확인\n",
    "    for q1r, q1c in assignment.items(): # q1의 행과 열\n",
    "\n",
    "        # q2 = 아랫쪽에 자리한 여왕말들과 함께 제약 조건 성립 여부 확인\n",
    "        # q1r과 q2r은 자연스럽게 다름\n",
    "        for q2r in range(q1r + 1, len(assignment) + 1): \n",
    "            q2c = assignment[q2r]\n",
    "            if q1c == q2c:                       # 동일 열에 위치?\n",
    "                return False\n",
    "            if abs(q1r - q2r) == abs(q1c - q2c): # 동일 대각선상에 위치?\n",
    "                return False \n",
    "\n",
    "    # 모든 변수에 대해 제약조건 만족됨\n",
    "    return True "
   ]
  },
  {
   "cell_type": "markdown",
   "metadata": {
    "slideshow": {
     "slide_type": "slide"
    }
   },
   "source": [
    "### 되추적 함수 구현"
   ]
  },
  {
   "cell_type": "markdown",
   "metadata": {},
   "source": [
    "- 지금까지 설명한 내용을 재귀 함수로 구현"
   ]
  },
  {
   "cell_type": "markdown",
   "metadata": {},
   "source": [
    "- 재귀는 새로운 여왕말을 위치시킬 때마다 호출"
   ]
  },
  {
   "cell_type": "code",
   "execution_count": 4,
   "metadata": {
    "slideshow": {
     "slide_type": "slide"
    }
   },
   "outputs": [],
   "source": [
    "def backtracking_search_queens(num_queens, assignment=defaultdict(int)):\n",
    "    \n",
    "    variables = range(1, num_queens+1)\n",
    "    domains = defaultdict(list)\n",
    "\n",
    "    columns = range(1, num_queens+1)\n",
    "    for var in variables:\n",
    "        domains[var] = columns\n",
    "    \n",
    "    if len(assignment) == len(variables):\n",
    "        return assignment\n",
    "    \n",
    "    unassigned = [v for v in variables if v not in assignment]\n",
    "    first = unassigned[0] # 다음 대상 여왕말\n",
    "    \n",
    "    for value in domains[first]:\n",
    "        local_assignment = assignment.copy()\n",
    "        local_assignment[first] = value\n",
    "\n",
    "        if promissing_queens(local_assignment):\n",
    "            result = backtracking_search_queens(num_queens, local_assignment)\n",
    "\n",
    "            if result is not None:\n",
    "                return result\n",
    "\n",
    "    return None    "
   ]
  },
  {
   "cell_type": "markdown",
   "metadata": {
    "slideshow": {
     "slide_type": "slide"
    }
   },
   "source": [
    "### n-여왕말 문제 되추적 알고리즘의 시간 복잡도"
   ]
  },
  {
   "cell_type": "markdown",
   "metadata": {},
   "source": [
    "- n 개의 여왕말이 주어졌을 때 상태 공간 트리에 포함된 탐색 대상 노드의 수\n",
    "\n",
    "$$\n",
    "1 + n + n^2 + n^3 + \\cdots + n^n = \\frac{n^{n+1}-1}{n-1}\n",
    "$$"
   ]
  },
  {
   "cell_type": "markdown",
   "metadata": {},
   "source": [
    "- 이보다 더 효율적인 알고리즘은 아직 알려지지 않았음."
   ]
  },
  {
   "cell_type": "markdown",
   "metadata": {
    "slideshow": {
     "slide_type": "slide"
    }
   },
   "source": [
    "## m-색칠 문제와 4색 정리"
   ]
  },
  {
   "cell_type": "markdown",
   "metadata": {
    "slideshow": {
     "slide_type": "slide"
    }
   },
   "source": [
    "### m-색칠 문제"
   ]
  },
  {
   "cell_type": "markdown",
   "metadata": {
    "slideshow": {
     "slide_type": ""
    }
   },
   "source": [
    "- 최대 m 개의 색을 이용하여 **무방향 그래프의 서로 인접한 노드가 서로 다른 색을 갖는다**는 \n",
    "    색칠 조건이 만족되도록 색칠하는 문제"
   ]
  },
  {
   "cell_type": "markdown",
   "metadata": {},
   "source": [
    "<p>\n",
    "<table class=\"field\">\n",
    "  <tr>\n",
    "    <td style=\"padding:0 50px 0 50px;\">\n",
    "      <div><img src=\"https://raw.githubusercontent.com/codingalzi/algopy/master/jupyter-book/imgs/algo05/algo05-08c.png\" width=\"200\"/></div>\n",
    "    </td>\n",
    "    <td style=\"padding:0 50px 0 50px;\">\n",
    "      <div align=\"center\"><img src=\"https://raw.githubusercontent.com/codingalzi/algopy/master/jupyter-book/imgs/algo05/algo05-08d.png\" width=\"200\"/></div>\n",
    "      </td>\n",
    "  </tr>\n",
    "</table>\n",
    "</p>"
   ]
  },
  {
   "cell_type": "markdown",
   "metadata": {
    "slideshow": {
     "slide_type": "slide"
    }
   },
   "source": [
    "### 지도 색칠"
   ]
  },
  {
   "cell_type": "markdown",
   "metadata": {
    "slideshow": {
     "slide_type": ""
    }
   },
   "source": [
    "<p><div align=\"center\"><img src=\"https://upload.wikimedia.org/wikipedia/commons/thumb/8/8a/Four_Colour_Map_Example.svg/1920px-Four_Colour_Map_Example.svg.png\" width=\"300\"/></div></p>\n",
    "\n",
    "<p><div style=\"text-align: center\">&lt;그림 출처: <a href=\"https://ko.wikipedia.org/wiki/4색정리\">위키피디아: 4색정리</a>&gt;</div></p>"
   ]
  },
  {
   "cell_type": "markdown",
   "metadata": {
    "slideshow": {
     "slide_type": "slide"
    }
   },
   "source": [
    "- 지도와 지도를 평면 그래프로 서로 일대일 대응\n",
    "- 평면 그래프: 서로 교차하는 간선이 없는 무방향 그래프\n",
    "    * 노드: 지도에 사용된 국가, 지역 등의 영역\n",
    "    * 간선: 서로 인접한 두 영역 연결"
   ]
  },
  {
   "cell_type": "markdown",
   "metadata": {
    "slideshow": {
     "slide_type": ""
    }
   },
   "source": [
    "<p><div align=\"center\"><img src=\"https://raw.githubusercontent.com/codingalzi/algopy/master/jupyter-book/imgs/algo05/algo05-09a.png\" width=\"400\"/></div></p>"
   ]
  },
  {
   "cell_type": "markdown",
   "metadata": {
    "slideshow": {
     "slide_type": "slide"
    }
   },
   "source": [
    "### m-색칠 문제와 되추적 기법"
   ]
  },
  {
   "cell_type": "markdown",
   "metadata": {
    "slideshow": {
     "slide_type": "slide"
    }
   },
   "source": [
    "* (대상) 변수: 1번부터 n번까지 이름이 붙은 n 개의 노드\n",
    "* 도메인: 1번부터 m번까지 이름이 붙은 m 종류의 색\n",
    "* 제약 조건: 간선으로 연결된 이웃 노드는 서로 다른 색을 가져야 함."
   ]
  },
  {
   "cell_type": "markdown",
   "metadata": {},
   "source": [
    "<p>\n",
    "<table class=\"field\">\n",
    "  <tr>\n",
    "    <td style=\"padding:0 50px 0 50px;\">\n",
    "      <div><img src=\"https://raw.githubusercontent.com/codingalzi/algopy/master/jupyter-book/imgs/algo05/algo05-08d.png\" width=\"200\"/></div>\n",
    "    </td>\n",
    "    <td style=\"padding:0 50px 0 50px;\">\n",
    "      <div align=\"center\"><img src=\"https://raw.githubusercontent.com/codingalzi/algopy/master/jupyter-book/imgs/algo05/algo05-11.png\" width=\"400\"/></div>\n",
    "      </td>\n",
    "  </tr>\n",
    "</table>\n",
    "</p>"
   ]
  },
  {
   "cell_type": "markdown",
   "metadata": {
    "slideshow": {
     "slide_type": "slide"
    }
   },
   "source": [
    "### 3-색칠 문제 예제"
   ]
  },
  {
   "cell_type": "code",
   "execution_count": 1,
   "metadata": {
    "slideshow": {
     "slide_type": ""
    }
   },
   "outputs": [],
   "source": [
    "from collections import defaultdict\n",
    "\n",
    "# 변수: 네 노드의 번호, 즉, 1, 2, 3, 4\n",
    "variables = [1, 2, 3, 4]\n",
    "\n",
    "# 도메인: 각각의 노드에 칠할 수 있는 가능한 모든 색상\n",
    "# 3-색칠하기: 1(빨강), 2(파랑), 3(갈색)\n",
    "domains = defaultdict(list)\n",
    "colors = [1, 2, 3]\n",
    "\n",
    "for var in variables:\n",
    "    domains[var] = colors"
   ]
  },
  {
   "cell_type": "code",
   "execution_count": 2,
   "metadata": {},
   "outputs": [
    {
     "data": {
      "text/plain": [
       "defaultdict(list, {1: [1, 2, 3], 2: [1, 2, 3], 3: [1, 2, 3], 4: [1, 2, 3]})"
      ]
     },
     "execution_count": 2,
     "metadata": {},
     "output_type": "execute_result"
    }
   ],
   "source": [
    "domains"
   ]
  },
  {
   "cell_type": "markdown",
   "metadata": {
    "slideshow": {
     "slide_type": "slide"
    }
   },
   "source": [
    "### 유망성 판단"
   ]
  },
  {
   "cell_type": "markdown",
   "metadata": {},
   "source": [
    "- `variable`: 새롭게 색이 할당된 노드\n",
    "- `constraints`: 평면 그래프의 간선 정보를 담은 사전\n",
    "- `assigment`: 되추적 기법 적용 기간동안 색이 할당된 노드들의 정보를 담은 사전"
   ]
  },
  {
   "cell_type": "code",
   "execution_count": 6,
   "metadata": {},
   "outputs": [],
   "source": [
    "def promissing_colors(variable: int, \n",
    "                      constraints=defaultdict(list), \n",
    "                      assignment=defaultdict(int)):\n",
    "\n",
    "    for var in constraints[variable]:\n",
    "        if (var in assignment) and (assignment[var] == assignment[variable]):\n",
    "            return False\n",
    "\n",
    "    return True "
   ]
  },
  {
   "cell_type": "markdown",
   "metadata": {
    "slideshow": {
     "slide_type": "slide"
    }
   },
   "source": [
    "### 간선 정보 예제"
   ]
  },
  {
   "cell_type": "markdown",
   "metadata": {
    "slideshow": {
     "slide_type": ""
    }
   },
   "source": [
    "<p><div align=\"center\"><img src=\"https://raw.githubusercontent.com/codingalzi/algopy/master/jupyter-book/imgs/algo05/algo05-08c.png\" width=\"200\"/></div></p>"
   ]
  },
  {
   "cell_type": "code",
   "execution_count": 5,
   "metadata": {},
   "outputs": [],
   "source": [
    "# 각 노드에 대한 이웃 노드의 리스트\n",
    "constraints = {\n",
    "    1 : [2, 3, 4],\n",
    "    2 : [1, 3],\n",
    "    3 : [1, 2, 4],\n",
    "    4 : [1, 3]\n",
    "}"
   ]
  },
  {
   "cell_type": "markdown",
   "metadata": {
    "slideshow": {
     "slide_type": "slide"
    }
   },
   "source": [
    "### 되추적 함수 구현"
   ]
  },
  {
   "cell_type": "markdown",
   "metadata": {},
   "source": [
    "- `num_nodes`: 노드의 수\n",
    "- `num_colors`: 사용 가능한 색의 수\n",
    "- `constraints`: 평면 그래프의 간선 정보를 담은 사전\n",
    "- `assigment`: 되추적 기법 적용 기간동안 색이 할당된 노드들의 정보를 담은 사전"
   ]
  },
  {
   "cell_type": "code",
   "execution_count": 8,
   "metadata": {
    "slideshow": {
     "slide_type": ""
    }
   },
   "outputs": [],
   "source": [
    "def backtracking_search_colors(num_nodes, \n",
    "                               num_colors, \n",
    "                               constraints=defaultdict(list), \n",
    "                               assignment=defaultdict(int)):\n",
    "\n",
    "    variables = range(1, num_nodes+1)\n",
    "    domains = defaultdict(list)\n",
    "    colors = range(1, num_colors+1)\n",
    "    for var in variables:\n",
    "        domains[var] = colors\n",
    "        \n",
    "    if len(assignment) == len(variables):\n",
    "        return assignment\n",
    "    \n",
    "    unassigned = [v for v in variables if v not in assignment]\n",
    "    first = unassigned[0]\n",
    "    for value in domains[first]:\n",
    "        local_assignment = assignment.copy()\n",
    "        local_assignment[first] = value\n",
    "        if promissing_colors(first, constraints, local_assignment):\n",
    "            result = backtracking_search_colors(num_nodes, num_colors, constraints, local_assignment)\n",
    "            if result is not None:\n",
    "                return result\n",
    "    return None    "
   ]
  },
  {
   "cell_type": "code",
   "execution_count": 11,
   "metadata": {
    "slideshow": {
     "slide_type": "slide"
    }
   },
   "outputs": [
    {
     "data": {
      "text/plain": [
       "defaultdict(int, {1: 1, 2: 2, 3: 3, 4: 2})"
      ]
     },
     "execution_count": 11,
     "metadata": {},
     "output_type": "execute_result"
    }
   ],
   "source": [
    "backtracking_search_colors(4, 3, constraints)"
   ]
  },
  {
   "cell_type": "code",
   "execution_count": 13,
   "metadata": {
    "slideshow": {
     "slide_type": ""
    }
   },
   "outputs": [
    {
     "name": "stdout",
     "output_type": "stream",
     "text": [
      "두 가지 색으로 색칠 제약조건 충족 불가능\n"
     ]
    }
   ],
   "source": [
    "if not backtracking_search_colors(4, 2, constraints):\n",
    "    print(\"두 가지 색으로 색칠 제약조건 충족 불가능\")"
   ]
  },
  {
   "cell_type": "markdown",
   "metadata": {
    "slideshow": {
     "slide_type": "slide"
    }
   },
   "source": [
    "### m-색칠 문제 되추적 알고리즘의 시간 복잡도"
   ]
  },
  {
   "cell_type": "markdown",
   "metadata": {},
   "source": [
    "- n 개의 노드를 m 개의 색으로 칠해야 하는 문제의 상태 공간 트리의 노드의 수\n",
    "\n",
    "$$\n",
    "1 + m + m^2 + m^3 + \\cdots + m^n = \\frac{m^{n+1}-1}{m-1}\n",
    "$$"
   ]
  },
  {
   "cell_type": "markdown",
   "metadata": {},
   "source": [
    "- 이보다 더 효율적인 알고리즘은 아직 알려지지 않았음."
   ]
  },
  {
   "cell_type": "markdown",
   "metadata": {
    "slideshow": {
     "slide_type": "slide"
    }
   },
   "source": [
    "### 4색 정리"
   ]
  },
  {
   "cell_type": "markdown",
   "metadata": {
    "slideshow": {
     "slide_type": ""
    }
   },
   "source": [
    "- 1852년에 영국인 프랜시스 구쓰리<font size='2'>Francis Guthrie</font>가 세울 가설\n",
    "- 영국의 인접한 두 개의 주를 서로 다른 색으로 칠하기 위해 필요한 색이 최소 4개\n",
    "- 4색 정리가 증명되기까지 124년이 걸렸음."
   ]
  },
  {
   "cell_type": "markdown",
   "metadata": {
    "slideshow": {
     "slide_type": ""
    }
   },
   "source": [
    "<p><div align=\"center\"><img src=\"https://raw.githubusercontent.com/codingalzi/algopy/master/jupyter-book/imgs/england-4color-map.png\" width=\"400\"/></div></p>\n",
    "\n",
    "<p><div style=\"text-align: center\">&lt;그림 출처: <a href=\"https://www.gif-map.com/maps-of-europe/maps-of-united-kingdom/maps-of-england/administrative-map-of-england\">Administrative map of England</a>&gt;</div></p>"
   ]
  },
  {
   "cell_type": "markdown",
   "metadata": {
    "slideshow": {
     "slide_type": "slide"
    }
   },
   "source": [
    "최초의 증명은 1976년에 K. Appel과 W. Haken이 제시하였다. \n",
    "두 사람의 증명이 500 쪽 논문으로 제시되었는데 일부 내용은 컴퓨터 프로그램을 사용하도록 되어 있다.\n",
    "그런데 증명에 사용된 컴퓨터 프로그램에 대한 신뢰성 때문에 오랜 시간동안 100% 인정받지 못하다가\n",
    "2005년에 G. Gonthier에 의해 두 사람의 사용한 증명이 모두 옳았음이 검증되었다."
   ]
  },
  {
   "cell_type": "markdown",
   "metadata": {},
   "source": [
    "준비중 ..."
   ]
  }
 ],
 "metadata": {
  "celltoolbar": "Slideshow",
  "kernelspec": {
   "display_name": "Python 3 (ipykernel)",
   "language": "python",
   "name": "python3"
  },
  "language_info": {
   "codemirror_mode": {
    "name": "ipython",
    "version": 3
   },
   "file_extension": ".py",
   "mimetype": "text/x-python",
   "name": "python",
   "nbconvert_exporter": "python",
   "pygments_lexer": "ipython3",
   "version": "3.11.5"
  }
 },
 "nbformat": 4,
 "nbformat_minor": 4
}
