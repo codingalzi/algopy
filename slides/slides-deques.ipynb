{
 "cells": [
  {
   "cell_type": "markdown",
   "metadata": {
    "slideshow": {
     "slide_type": "slide"
    }
   },
   "source": [
    "# 덱<font size='2'>Deque</font>"
   ]
  },
  {
   "cell_type": "markdown",
   "metadata": {
    "slideshow": {
     "slide_type": "slide"
    }
   },
   "source": [
    "## 주요 내용"
   ]
  },
  {
   "cell_type": "markdown",
   "metadata": {
    "slideshow": {
     "slide_type": ""
    }
   },
   "source": [
    "- 선형 자료구조"
   ]
  },
  {
   "cell_type": "markdown",
   "metadata": {
    "slideshow": {
     "slide_type": ""
    }
   },
   "source": [
    "- 덱 자료구조"
   ]
  },
  {
   "cell_type": "markdown",
   "metadata": {
    "slideshow": {
     "slide_type": ""
    }
   },
   "source": [
    "- 덱 활용"
   ]
  },
  {
   "cell_type": "markdown",
   "metadata": {
    "slideshow": {
     "slide_type": "slide"
    }
   },
   "source": [
    "## 선형 자료구조"
   ]
  },
  {
   "cell_type": "markdown",
   "metadata": {},
   "source": [
    "- 여러 개의 항목을 순서에 맞춰 추가하고 삭제할 수 있는 자료구조"
   ]
  },
  {
   "cell_type": "markdown",
   "metadata": {},
   "source": [
    "- 항목의 추가/삭제 방식에 따라 서로 다르게 작동하며 일반적으로 다음 선형 자료구조가 활용됨.\n",
    "    - 리스트<font size='2'>list</font>\n",
    "    - 덱<font size='2'>deque</font>\n",
    "    - 큐<font size='2'>queue</font>\n",
    "    - 스택<font size='2'>stack</font>\n",
    "    - 연결 리스트<font size='2'>linked list</font>\n",
    "    - 정렬 리스트<font size='2'>sorted list</font>"
   ]
  },
  {
   "cell_type": "markdown",
   "metadata": {
    "slideshow": {
     "slide_type": "slide"
    }
   },
   "source": [
    "### 머리와 꼬리"
   ]
  },
  {
   "cell_type": "markdown",
   "metadata": {},
   "source": [
    "- 선형 자료구조의 양 끝인 머리와 꼬리를 부르는 이름 다를 수 있음."
   ]
  },
  {
   "cell_type": "markdown",
   "metadata": {},
   "source": [
    "| 양 끝 | 별칭 |\n",
    "| :---: | :--- |\n",
    "| 머리 | 헤드(head), 위(top), 앞(front) |\n",
    "| 꼬리 | 테일(tail), 아래(bottom), 뒤(rear) |"
   ]
  },
  {
   "cell_type": "markdown",
   "metadata": {
    "slideshow": {
     "slide_type": "slide"
    }
   },
   "source": [
    "### 덱, 큐, 스택 자료구조 구현"
   ]
  },
  {
   "cell_type": "markdown",
   "metadata": {},
   "source": [
    "- 파이썬은 큐, 스택, 덱 자료구조 이미 제공\n",
    "    - 덱: [collections](https://docs.python.org/3/library/collections.html#collections.deque) 모듈의 `deque` 클래스\n",
    "    - 큐와 스택: [queue](https://docs.python.org/3/library/queue.html) 모듈의 `Queue` 클래스와 `LifoQueue` 클래스"
   ]
  },
  {
   "cell_type": "markdown",
   "metadata": {},
   "source": [
    "- 덱, 큐, 스택을 추상 자료형으로 선언한 뒤에 직접 파이썬 클래스로 구현해보기"
   ]
  },
  {
   "cell_type": "markdown",
   "metadata": {
    "slideshow": {
     "slide_type": "slide"
    }
   },
   "source": [
    "## 덱 추상 자료형"
   ]
  },
  {
   "cell_type": "markdown",
   "metadata": {},
   "source": [
    "- 덱<font size='2'>deque</font>: double-ended queue의 줄임말."
   ]
  },
  {
   "cell_type": "markdown",
   "metadata": {},
   "source": [
    "- 항목의 빠른 추가와 삭제 지원"
   ]
  },
  {
   "cell_type": "markdown",
   "metadata": {},
   "source": [
    "- 리스트와 유사한 자료구조이지만 다음 측면에서 다름\n",
    "    - 항목 추가와 삭제가 기본적으로 머리<font size='2'>head</font>와 꼬리<font size='2'>tail</font>에서만 이루어짐.\n",
    "    - 항목의 추가와 삭제가 리스트의 `append()`, `pop()` 메서드보다 빠름"
   ]
  },
  {
   "cell_type": "markdown",
   "metadata": {},
   "source": [
    "<p><div align=\"center\"><img src=\"https://raw.githubusercontent.com/codingalzi/algopy/master/jupyter-book/imgs/deque.png\" width=\"70%\"></div></p>"
   ]
  },
  {
   "cell_type": "markdown",
   "metadata": {
    "slideshow": {
     "slide_type": "slide"
    }
   },
   "source": [
    "### `Deque` 추상 클래스"
   ]
  },
  {
   "cell_type": "markdown",
   "metadata": {},
   "source": [
    "| 정의 | 기능 |\n",
    "| :---: | :--- |\n",
    "| `Deque` | 덱 추상 클래스 |\n",
    "| `append()` | 머리에 새로운 항목 추가. 반환값 없음. |\n",
    "| `appendleft()` |  꼬리에 새로운 항목 추가. 반환값 없음. |\n",
    "| `pop()` | 머리 항목 삭제. 삭제된 항목 반환 |\n",
    "| `popleft()` | 꼬리 항목 삭제. 삭제된 항목 반환. |"
   ]
  },
  {
   "cell_type": "markdown",
   "metadata": {
    "slideshow": {
     "slide_type": "slide"
    }
   },
   "source": [
    "### `Deque` 추상 클래스 구현"
   ]
  },
  {
   "cell_type": "code",
   "execution_count": 1,
   "metadata": {},
   "outputs": [],
   "source": [
    "class Deque:\n",
    "    def __init__(self, items=[]):\n",
    "        self._items = items\n",
    "    def __len__(self):\n",
    "        return len(self._items)\n",
    "    def append(self, item):\n",
    "        self._items.append(item)\n",
    "    def appendleft(self, item):\n",
    "        raise NotImplementedError\n",
    "    def pop(self):\n",
    "        return self._items.pop()\n",
    "    def popleft(self):\n",
    "        raise NotImplementedError"
   ]
  },
  {
   "cell_type": "markdown",
   "metadata": {
    "slideshow": {
     "slide_type": "slide"
    }
   },
   "source": [
    "### 추상 클래스 활용의 한계"
   ]
  },
  {
   "cell_type": "code",
   "execution_count": 2,
   "metadata": {},
   "outputs": [
    {
     "ename": "NotImplementedError",
     "evalue": "",
     "output_type": "error",
     "traceback": [
      "\u001b[0;31m---------------------------------------------------------------------------\u001b[0m",
      "\u001b[0;31mNotImplementedError\u001b[0m                       Traceback (most recent call last)",
      "Cell \u001b[0;32mIn[2], line 2\u001b[0m\n\u001b[1;32m      1\u001b[0m deque_adt \u001b[38;5;241m=\u001b[39m Deque()\n\u001b[0;32m----> 2\u001b[0m deque_adt\u001b[38;5;241m.\u001b[39mappendleft(\u001b[38;5;124m\"\u001b[39m\u001b[38;5;124m덱 항목\u001b[39m\u001b[38;5;124m\"\u001b[39m)\n",
      "Cell \u001b[0;32mIn[1], line 9\u001b[0m, in \u001b[0;36mDeque.appendleft\u001b[0;34m(self, item)\u001b[0m\n\u001b[1;32m      8\u001b[0m \u001b[38;5;28;01mdef\u001b[39;00m \u001b[38;5;21mappendleft\u001b[39m(\u001b[38;5;28mself\u001b[39m, item):\n\u001b[0;32m----> 9\u001b[0m     \u001b[38;5;28;01mraise\u001b[39;00m \u001b[38;5;167;01mNotImplementedError\u001b[39;00m\n",
      "\u001b[0;31mNotImplementedError\u001b[0m: "
     ]
    }
   ],
   "source": [
    "deque_adt = Deque()\n",
    "deque_adt.appendleft(\"덱 항목\")"
   ]
  },
  {
   "cell_type": "markdown",
   "metadata": {
    "slideshow": {
     "slide_type": "slide"
    }
   },
   "source": [
    "### 구상 클래스"
   ]
  },
  {
   "cell_type": "markdown",
   "metadata": {},
   "source": [
    "- 추상 클래스의 인스턴스는 제대로 활용할 수 없음"
   ]
  },
  {
   "cell_type": "markdown",
   "metadata": {},
   "source": [
    "- 구상 클래스<font size='2'>concrete class</font>\n",
    "    - 포함된 모든 메서드의 본문이 제대로 구현된 클래스\n",
    "    - 즉, 추상 자료형을 자료구조로 제대로 활용할 수 있도록 구현된 클래스"
   ]
  },
  {
   "cell_type": "markdown",
   "metadata": {
    "slideshow": {
     "slide_type": "slide"
    }
   },
   "source": [
    "## 덱 자료구조 구현"
   ]
  },
  {
   "cell_type": "code",
   "execution_count": 3,
   "metadata": {},
   "outputs": [],
   "source": [
    "class myDeque(Deque):\n",
    "    def __init__(self, items=[]):\n",
    "        super().__init__(items)\n",
    "\n",
    "    def __repr__(self):\n",
    "        return f\"deque({self._items})\"\n",
    "    \n",
    "    def appendleft(self, item):\n",
    "        self._items.insert(0, item)\n",
    "\n",
    "    def popleft(self):\n",
    "        return self._items.pop(0)"
   ]
  },
  {
   "cell_type": "markdown",
   "metadata": {
    "slideshow": {
     "slide_type": "slide"
    }
   },
   "source": [
    "### 덱 객체 기초 활용법"
   ]
  },
  {
   "cell_type": "code",
   "execution_count": 4,
   "metadata": {
    "slideshow": {
     "slide_type": ""
    }
   },
   "outputs": [
    {
     "name": "stdout",
     "output_type": "stream",
     "text": [
      "deque(['dog', 4, 'cat', True])\n",
      "8.4\n",
      "True\n",
      "deque(['dog', 4, 'cat'])\n"
     ]
    }
   ],
   "source": [
    "d=myDeque([])\n",
    "d.append(4)\n",
    "d.appendleft('dog')\n",
    "d.append('cat')\n",
    "d.append(True)\n",
    "print(d)\n",
    "d.appendleft(8.4)\n",
    "print(d.popleft())\n",
    "print(d.pop())\n",
    "print(d)"
   ]
  },
  {
   "cell_type": "markdown",
   "metadata": {
    "slideshow": {
     "slide_type": "slide"
    }
   },
   "source": [
    "## `collections.deque` 클래스"
   ]
  },
  {
   "cell_type": "markdown",
   "metadata": {},
   "source": [
    "- `collections` 모듈이 덱 추상 자료형을 자료구조로 구현한 `deque` 클래스를 지원"
   ]
  },
  {
   "cell_type": "markdown",
   "metadata": {},
   "source": [
    "- `myDeque` 보다 항목의 추가와 삭제가 빠름."
   ]
  },
  {
   "cell_type": "markdown",
   "metadata": {},
   "source": [
    "- `appendleft()`는 20 배 정도, `popleft()`는 2천배 이상"
   ]
  },
  {
   "cell_type": "markdown",
   "metadata": {
    "slideshow": {
     "slide_type": "slide"
    }
   },
   "source": [
    "### `append()` 메서드 속도 비교"
   ]
  },
  {
   "cell_type": "code",
   "execution_count": 5,
   "metadata": {
    "slideshow": {
     "slide_type": ""
    }
   },
   "outputs": [],
   "source": [
    "from collections import deque"
   ]
  },
  {
   "cell_type": "code",
   "execution_count": 6,
   "metadata": {
    "slideshow": {
     "slide_type": ""
    }
   },
   "outputs": [
    {
     "name": "stdout",
     "output_type": "stream",
     "text": [
      "CPU times: user 7.84 ms, sys: 0 ns, total: 7.84 ms\n",
      "Wall time: 7.83 ms\n"
     ]
    }
   ],
   "source": [
    "%%time\n",
    "n = 100_000\n",
    "dec1 = myDeque([])\n",
    "for k in range(n):\n",
    "    dec1.append(k)"
   ]
  },
  {
   "cell_type": "code",
   "execution_count": 7,
   "metadata": {},
   "outputs": [
    {
     "name": "stdout",
     "output_type": "stream",
     "text": [
      "CPU times: user 4.96 ms, sys: 0 ns, total: 4.96 ms\n",
      "Wall time: 4.93 ms\n"
     ]
    }
   ],
   "source": [
    "%%time\n",
    "n = 100_000\n",
    "dec1 = deque([])\n",
    "for k in range(n):\n",
    "    dec1.append(k)"
   ]
  },
  {
   "cell_type": "markdown",
   "metadata": {
    "slideshow": {
     "slide_type": "slide"
    }
   },
   "source": [
    "### `appendleft()` 메서드 속도 비교"
   ]
  },
  {
   "cell_type": "code",
   "execution_count": 8,
   "metadata": {},
   "outputs": [
    {
     "name": "stdout",
     "output_type": "stream",
     "text": [
      "CPU times: user 801 ms, sys: 1.65 ms, total: 803 ms\n",
      "Wall time: 803 ms\n"
     ]
    }
   ],
   "source": [
    "%%time\n",
    "n = 100_000\n",
    "dec1 = myDeque([])\n",
    "for k in range(n):\n",
    "    dec1.appendleft(k)"
   ]
  },
  {
   "cell_type": "code",
   "execution_count": 9,
   "metadata": {},
   "outputs": [
    {
     "name": "stdout",
     "output_type": "stream",
     "text": [
      "CPU times: user 5.35 ms, sys: 0 ns, total: 5.35 ms\n",
      "Wall time: 5.25 ms\n"
     ]
    }
   ],
   "source": [
    "%%time\n",
    "n = 100_000\n",
    "dec1 = deque([])\n",
    "for k in range(n):\n",
    "    dec1.appendleft(k)"
   ]
  },
  {
   "cell_type": "markdown",
   "metadata": {
    "slideshow": {
     "slide_type": "slide"
    }
   },
   "source": [
    "### `pop()` 메서드 속도 비교"
   ]
  },
  {
   "cell_type": "code",
   "execution_count": 10,
   "metadata": {},
   "outputs": [
    {
     "name": "stdout",
     "output_type": "stream",
     "text": [
      "CPU times: user 8.08 ms, sys: 0 ns, total: 8.08 ms\n",
      "Wall time: 8 ms\n"
     ]
    }
   ],
   "source": [
    "%%time\n",
    "n = 100_000\n",
    "dec1 = myDeque(list(range(n)))\n",
    "for _ in range(n):\n",
    "    dec1.pop()"
   ]
  },
  {
   "cell_type": "code",
   "execution_count": 11,
   "metadata": {},
   "outputs": [
    {
     "name": "stdout",
     "output_type": "stream",
     "text": [
      "CPU times: user 5.1 ms, sys: 0 ns, total: 5.1 ms\n",
      "Wall time: 5.03 ms\n"
     ]
    }
   ],
   "source": [
    "%%time\n",
    "n = 100_000\n",
    "dec1 = deque(list(range(n)))\n",
    "for _ in range(n):\n",
    "    dec1.pop()"
   ]
  },
  {
   "cell_type": "markdown",
   "metadata": {
    "slideshow": {
     "slide_type": "slide"
    }
   },
   "source": [
    "### `popleft()` 메서드 속도 비교"
   ]
  },
  {
   "cell_type": "code",
   "execution_count": 12,
   "metadata": {},
   "outputs": [
    {
     "name": "stdout",
     "output_type": "stream",
     "text": [
      "CPU times: user 484 ms, sys: 319 μs, total: 484 ms\n",
      "Wall time: 484 ms\n"
     ]
    }
   ],
   "source": [
    "%%time\n",
    "n = 100_000\n",
    "dec1 = myDeque(list(range(n)))\n",
    "for _ in range(n):\n",
    "    dec1.popleft()"
   ]
  },
  {
   "cell_type": "code",
   "execution_count": 13,
   "metadata": {},
   "outputs": [
    {
     "name": "stdout",
     "output_type": "stream",
     "text": [
      "CPU times: user 4.94 ms, sys: 0 ns, total: 4.94 ms\n",
      "Wall time: 4.89 ms\n"
     ]
    }
   ],
   "source": [
    "%%time\n",
    "n = 100_000\n",
    "dec1 = deque(list(range(n)))\n",
    "for _ in range(n):\n",
    "    dec1.popleft()"
   ]
  },
  {
   "cell_type": "markdown",
   "metadata": {
    "slideshow": {
     "slide_type": "slide"
    }
   },
   "source": [
    "### `myDeque`와 `collections.deque`의 차이"
   ]
  },
  {
   "cell_type": "markdown",
   "metadata": {},
   "source": [
    "- `myDeque` 클래스의 `appendleft()`와 `popleft()`는 리스트의 0번 인덱스에서 항목을 추가하거나 삭제함."
   ]
  },
  {
   "cell_type": "markdown",
   "metadata": {},
   "source": [
    "- 이를 위해 사용되는 리스트의 `insert(0, item)`와 `pop(0)`은 실행시간이 리스트의 길이에 의존함."
   ]
  },
  {
   "cell_type": "markdown",
   "metadata": {},
   "source": [
    "- 반면에 `collections.deque` 클래스는 항목을 저장할 때 리스트가 아닌 다른 방식으로 항목을 저장하며,\n",
    "머리와 꼬리에서 항목을 저장하고 삭제하는 일이 리스트의 길이에 무관하게 일정한 시간이 걸림."
   ]
  },
  {
   "cell_type": "markdown",
   "metadata": {},
   "source": [
    "- 하지만 `collections.deque`의 메서드가 항상 리스트의 메서드보다 빠른 것은 아니기에 필요에 따라\n",
    "    리스트 또는 `collections.deque` 중에 하나의 자료구조를 선택해야 함."
   ]
  },
  {
   "cell_type": "markdown",
   "metadata": {
    "slideshow": {
     "slide_type": "slide"
    }
   },
   "source": [
    "## 덱 활용: 회문 판별기"
   ]
  },
  {
   "cell_type": "markdown",
   "metadata": {},
   "source": [
    "- 회문<font size='2'>palindrome</font>: 앞으로 읽어도, 뒤로 읽어도 동일한 단어 또는 문장\n",
    "    - 한글 회문 예제: '기러기', '우영우', '토마토', \"인싸 의사의 싸인\", \"여보게, 저기 저게 보여?\" 등등\n",
    "    - 영어 회문 예제: 'mom', 'radar', 'Yo! Banana boy.', 'I did, did I?', 'No lemon, no melon' 등등"
   ]
  },
  {
   "cell_type": "markdown",
   "metadata": {},
   "source": [
    "<p><div align=\"center\"><img src=\"https://raw.githubusercontent.com/codingalzi/algopy/master/jupyter-book/imgs/palindrome.png\" width=\"60%\"></div></p>"
   ]
  },
  {
   "cell_type": "markdown",
   "metadata": {
    "slideshow": {
     "slide_type": "slide"
    }
   },
   "source": [
    "## 회문 판별기 구현"
   ]
  },
  {
   "cell_type": "code",
   "execution_count": 14,
   "metadata": {},
   "outputs": [],
   "source": [
    "def pal_checker(text):\n",
    "    # 덱 객체 생성\n",
    "    char_deque = myDeque([])\n",
    "    for ch in text:\n",
    "        char_deque.appendleft(ch)\n",
    "\n",
    "    # 머리와 꼬리 항목 비교\n",
    "    while len(char_deque) > 1:\n",
    "        first = char_deque.pop()\n",
    "        last = char_deque.popleft()\n",
    "        # 대칭 문자가 다를 경우 회문 아님 판정\n",
    "        if first != last:\n",
    "            return False\n",
    "\n",
    "    # 이전 반복문을 무사히 통과하면 회문 판정\n",
    "    return True"
   ]
  },
  {
   "cell_type": "markdown",
   "metadata": {
    "slideshow": {
     "slide_type": "slide"
    }
   },
   "source": [
    "<p><div align=\"center\"><img src=\"https://raw.githubusercontent.com/codingalzi/algopy/master/jupyter-book/imgs/palindromesetup.png\" width=\"70%\"></div></p>"
   ]
  },
  {
   "cell_type": "code",
   "execution_count": 15,
   "metadata": {
    "slideshow": {
     "slide_type": "slide"
    }
   },
   "outputs": [],
   "source": [
    "assert pal_checker(\"기러기\") == True\n",
    "assert pal_checker(\"사이다\") == False\n",
    "assert pal_checker(\"radar\") == True\n",
    "assert pal_checker(\"tomato\") == False"
   ]
  },
  {
   "cell_type": "code",
   "execution_count": 16,
   "metadata": {
    "slideshow": {
     "slide_type": "slide"
    }
   },
   "outputs": [
    {
     "ename": "AssertionError",
     "evalue": "",
     "output_type": "error",
     "traceback": [
      "\u001b[0;31m---------------------------------------------------------------------------\u001b[0m",
      "\u001b[0;31mAssertionError\u001b[0m                            Traceback (most recent call last)",
      "Cell \u001b[0;32mIn[16], line 1\u001b[0m\n\u001b[0;32m----> 1\u001b[0m \u001b[38;5;28;01massert\u001b[39;00m pal_checker(\u001b[38;5;124m\"\u001b[39m\u001b[38;5;124mBob\u001b[39m\u001b[38;5;124m\"\u001b[39m) \u001b[38;5;241m==\u001b[39m \u001b[38;5;28;01mTrue\u001b[39;00m\n\u001b[1;32m      2\u001b[0m \u001b[38;5;28;01massert\u001b[39;00m pal_checker(\u001b[38;5;124m\"\u001b[39m\u001b[38;5;124m인싸 의사의 싸인\u001b[39m\u001b[38;5;124m\"\u001b[39m) \u001b[38;5;241m==\u001b[39m \u001b[38;5;28;01mTrue\u001b[39;00m\n\u001b[1;32m      3\u001b[0m \u001b[38;5;28;01massert\u001b[39;00m pal_checker(\u001b[38;5;124m\"\u001b[39m\u001b[38;5;124m여보게, 저기 저게 보여?\u001b[39m\u001b[38;5;124m\"\u001b[39m) \u001b[38;5;241m==\u001b[39m \u001b[38;5;28;01mTrue\u001b[39;00m\n",
      "\u001b[0;31mAssertionError\u001b[0m: "
     ]
    }
   ],
   "source": [
    "assert pal_checker(\"Bob\") == True\n",
    "assert pal_checker(\"인싸 의사의 싸인\") == True\n",
    "assert pal_checker(\"여보게, 저기 저게 보여?\") == True\n",
    "assert pal_checker('I did, did I?') == True\n",
    "assert pal_checker('No lemon, no melon') == True"
   ]
  }
 ],
 "metadata": {
  "celltoolbar": "Slideshow",
  "kernelspec": {
   "display_name": "Python 3 (ipykernel)",
   "language": "python",
   "name": "python3"
  },
  "language_info": {
   "codemirror_mode": {
    "name": "ipython",
    "version": 3
   },
   "file_extension": ".py",
   "mimetype": "text/x-python",
   "name": "python",
   "nbconvert_exporter": "python",
   "pygments_lexer": "ipython3",
   "version": "3.12.2"
  },
  "vscode": {
   "interpreter": {
    "hash": "6c86b3592b6800d985c04531f2c445f0fa6967131b8dd6395a925f7622e55602"
   }
  }
 },
 "nbformat": 4,
 "nbformat_minor": 4
}
