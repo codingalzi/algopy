{
 "cells": [
  {
   "cell_type": "markdown",
   "metadata": {
    "slideshow": {
     "slide_type": "slide"
    }
   },
   "source": [
    "# 스택(Stack)"
   ]
  },
  {
   "cell_type": "markdown",
   "metadata": {
    "slideshow": {
     "slide_type": "slide"
    }
   },
   "source": [
    "## 스택의 정의"
   ]
  },
  {
   "cell_type": "markdown",
   "metadata": {},
   "source": [
    "- 항목의 추가 및 삭제: **탑**<font size='2'>top</font>이라 불리는 한 쪽 끝에서만 허용\n",
    "- 탑: 가장 나중에 추가된 항목의 위치\n",
    "- 베이스: 남아 있는 항목 중에서 가장 먼저 추가된 항목의 위치"
   ]
  },
  {
   "cell_type": "markdown",
   "metadata": {},
   "source": [
    "<figure>\n",
    "<div align=\"center\"><img src=\"https://runestone.academy/runestone/books/published/pythonds3/_images/primitive.png\" width=\"60%\"></div>\n",
    "</figure>"
   ]
  },
  {
   "cell_type": "markdown",
   "metadata": {
    "slideshow": {
     "slide_type": "slide"
    }
   },
   "source": [
    "### 후입선출<font size='2'>last-in first-out</font>(LIFO)"
   ]
  },
  {
   "cell_type": "markdown",
   "metadata": {},
   "source": [
    "<figure>\n",
    "<div align=\"center\"><img src=\"https://runestone.academy/runestone/books/published/pythonds3/_images/simplereversal.png\" width=\"75%\"></div>\n",
    "</figure>"
   ]
  },
  {
   "cell_type": "markdown",
   "metadata": {
    "slideshow": {
     "slide_type": "slide"
    }
   },
   "source": [
    "## `Stack` 추상 자료형"
   ]
  },
  {
   "cell_type": "markdown",
   "metadata": {},
   "source": [
    "- `Stack(maxsize=0)`: 비어 있는 스택 생성. \n",
    "    maxsize를 양의 정수로 지정하면 항목을 최대 그만큼 담을 수 있음. \n",
    "    아니면 제한 없음.\n",
    "- `put(item)`: `maxsize`가 양의 정수이면서 항목을 추가하면 허용되는 항목의 수를 초과하는 경우 \n",
    "    먼저 탑(top) 항목을 제거한 다음 새로운 항목을 탑에 추가. 반환값 없음.\n",
    "- `get()`: 탑 항목 삭제. 삭제된 항목 반환.\n",
    "- `peek()`: 탑 항목 반환. 하지만 삭제하진 않음.\n",
    "- `empty()`: 스택이 비었는지 여부 판단. 부울값 반환.\n",
    "- `full()`: 스택이 꽉 차 있는지 여부 판단. 부울값 반환.\n",
    "- `qsize()`:  항목 개수 반환."
   ]
  },
  {
   "cell_type": "markdown",
   "metadata": {
    "slideshow": {
     "slide_type": "slide"
    }
   },
   "source": [
    "| 스택 연산| 스택 항목 | 반환값 |\n",
    "| :--- | :--- | :--- |\n",
    "| `s = Stack(maxsize=4)` | `[]` | |\n",
    "| `s.empty()` | `[]` | `True` |\n",
    "| `s.put(4)` | `[4]` | |\n",
    "| `s.put('dog')` | `[4, 'dog']` | |\n",
    "| `s.peek()` | `[4, 'dog']` | `'dog'` |\n",
    "| `s.put(True)` | `[4, 'dog', True]` | |\n",
    "| `s.qsize()` | `[4, 'dog', True]` | `3` |\n",
    "| `s.empty()` | `[4, 'dog', True]` | `False` |\n",
    "| `s.put(8.4)` | `[4, 'dog', True, 8.4]` | |\n",
    "| `s.full()` | `[4, 'dog', True, 8.4]` | `True` |\n",
    "| `s.get()` | `[4, 'dog', True]` | `8.4` |\n",
    "| `s.get()` | `[4, 'dog']` | `True` |\n",
    "| `s.qsize()` | `[4, 'dog']` | `2` |"
   ]
  },
  {
   "cell_type": "markdown",
   "metadata": {
    "slideshow": {
     "slide_type": "slide"
    }
   },
   "source": [
    "## 스택 자료구조 구현"
   ]
  },
  {
   "cell_type": "markdown",
   "metadata": {},
   "source": [
    "```python\n",
    "class Stack:\n",
    "    def __init__(self, maxsize=0):\n",
    "        self.maxsize = maxsize\n",
    "        self._items = []\n",
    "\n",
    "    def __repr__(self):\n",
    "        return f\"<{self._items}>\"\n",
    "        \n",
    "    def empty(self):\n",
    "        return not bool(self._items)\n",
    "\n",
    "    def full(self):\n",
    "        if self.maxsize <= 0:\n",
    "            return False\n",
    "        elif self.qsize() == self.maxsize:\n",
    "            return True\n",
    "        else:\n",
    "            return False\n",
    "        \n",
    "    ... (이어짐)\n",
    "```"
   ]
  },
  {
   "cell_type": "markdown",
   "metadata": {
    "slideshow": {
     "slide_type": "slide"
    }
   },
   "source": [
    "```python\n",
    "class Stack:\n",
    "    \n",
    "    ,,, (중략)\n",
    "    \n",
    "    def put(self, item):\n",
    "        if self.full() == True:\n",
    "            self.get()\n",
    "            \n",
    "        self._items.append(item)\n",
    "\n",
    "    def get(self):\n",
    "        return self._items.pop()\n",
    "\n",
    "    def peek(self):\n",
    "        if not self.empty():\n",
    "            return self._items[-1]\n",
    "        else:\n",
    "            print(\"스택이 비어 있어요!\")\n",
    "\n",
    "    def qsize(self):\n",
    "        return len(self._items)\n",
    "```"
   ]
  },
  {
   "cell_type": "markdown",
   "metadata": {
    "slideshow": {
     "slide_type": "slide"
    }
   },
   "source": [
    "### 예제"
   ]
  },
  {
   "cell_type": "markdown",
   "metadata": {},
   "source": [
    "```python\n",
    ">>> m = Stack()\n",
    ">>> m.put(\"x\")\n",
    ">>> m.put(\"y\")\n",
    ">>> m.get()\n",
    ">>> m.put(\"z\")\n",
    ">>> m.peek()\n",
    "'z'\n",
    "```"
   ]
  },
  {
   "cell_type": "markdown",
   "metadata": {
    "slideshow": {
     "slide_type": "slide"
    }
   },
   "source": [
    "### 예제"
   ]
  },
  {
   "cell_type": "markdown",
   "metadata": {},
   "source": [
    "```python\n",
    ">>> m = Stack()\n",
    ">>> m.put(\"x\")\n",
    ">>> m.put(\"y\")\n",
    ">>> m.put(\"z\")\n",
    "\n",
    ">>> while not m.empty():\n",
    "...     m.get()\n",
    "\n",
    ">>> m.peek()\n",
    "스택이 비어 있어요!\n",
    "```"
   ]
  },
  {
   "cell_type": "markdown",
   "metadata": {
    "slideshow": {
     "slide_type": "slide"
    }
   },
   "source": [
    "### 구현 방식에 따른 속도 차이"
   ]
  },
  {
   "cell_type": "markdown",
   "metadata": {},
   "source": [
    "```python\n",
    "class Stack_left:\n",
    "\n",
    "    ... (중략)\n",
    "    \n",
    "    def put(self, item):\n",
    "        if self.full() == True:\n",
    "            self.get()\n",
    "            \n",
    "        self._items.insert(0, item)\n",
    "\n",
    "    def get(self):\n",
    "        return self._items.pop(0)\n",
    "```"
   ]
  },
  {
   "cell_type": "markdown",
   "metadata": {
    "slideshow": {
     "slide_type": "slide"
    }
   },
   "source": [
    "### 성능 비교"
   ]
  },
  {
   "cell_type": "markdown",
   "metadata": {},
   "source": [
    "- 항목 추가에 걸리는 시간: `Stack` 클래스가 100배 정도 빠름"
   ]
  },
  {
   "cell_type": "markdown",
   "metadata": {},
   "source": [
    "- 항목 삭제에 걸리는 시간: `Stack` 클래스가 1,000배 이상 빠름"
   ]
  },
  {
   "cell_type": "markdown",
   "metadata": {},
   "source": [
    "- 리스트의 0번 인덱스를 탑으로 사용하면 항목을 추가하거나 삭제할 때마다 \n",
    "    나머지 항목들의 위치를 이동시키기 위해 보다 많은 시간이 요구되기 때문"
   ]
  },
  {
   "cell_type": "markdown",
   "metadata": {
    "slideshow": {
     "slide_type": "slide"
    }
   },
   "source": [
    "### `queue` 모듈의 `LifoQueue` 클래스"
   ]
  },
  {
   "cell_type": "markdown",
   "metadata": {},
   "source": [
    "- `queue` 모듈의 `LifoQueue` 클래스가 스택 자료구조를 가리킴"
   ]
  },
  {
   "cell_type": "markdown",
   "metadata": {},
   "source": [
    "- 앞서 정의한 `Stack` 클래스보다 10배 정도 느림"
   ]
  },
  {
   "cell_type": "markdown",
   "metadata": {
    "slideshow": {
     "slide_type": "slide"
    }
   },
   "source": [
    "## 스택 실전 활용"
   ]
  },
  {
   "cell_type": "markdown",
   "metadata": {
    "slideshow": {
     "slide_type": "slide"
    }
   },
   "source": [
    "### 괄호 짝맞추기 문제"
   ]
  },
  {
   "cell_type": "markdown",
   "metadata": {},
   "source": [
    "짝이 맞지 않으면 오류가 발생한다."
   ]
  },
  {
   "cell_type": "markdown",
   "metadata": {},
   "source": [
    "```python\n",
    ">>> (5 + 6) * (7 + 8) / (4 + 3\n",
    "  Input In [7]\n",
    "    (5 + 6) * (7 + 8) / (4 + 3\n",
    "                              ^\n",
    "SyntaxError: unexpected EOF while parsing\n",
    "```"
   ]
  },
  {
   "cell_type": "markdown",
   "metadata": {},
   "source": [
    "표현식을 작성할 때 여는 괄호 하나와 닫는 괄호 하나가 짝이 맞아야 한다."
   ]
  },
  {
   "cell_type": "markdown",
   "metadata": {},
   "source": [
    "$$(5 + 6) * (7 + 8) / (4 + 3)$$"
   ]
  },
  {
   "cell_type": "markdown",
   "metadata": {},
   "source": [
    "괄호만 고려할 경우 다음 모양이 된다."
   ]
  },
  {
   "cell_type": "markdown",
   "metadata": {},
   "source": [
    "```python\n",
    "()()()\n",
    "```"
   ]
  },
  {
   "cell_type": "markdown",
   "metadata": {
    "slideshow": {
     "slide_type": "slide"
    }
   },
   "source": [
    "다음은 괄호 짝이 맞는 경우들이다."
   ]
  },
  {
   "cell_type": "markdown",
   "metadata": {
    "slideshow": {
     "slide_type": ""
    }
   },
   "source": [
    "```python\n",
    "(()()()())\n",
    "\n",
    "(((())))\n",
    "\n",
    "(()((())()))\n",
    "```"
   ]
  },
  {
   "cell_type": "markdown",
   "metadata": {},
   "source": [
    "괄호 짝이 맞지 않는 경우는 다음과 같다."
   ]
  },
  {
   "cell_type": "markdown",
   "metadata": {},
   "source": [
    "```python\n",
    "((((((())\n",
    "\n",
    "()))\n",
    "\n",
    "(()()(()\n",
    "```"
   ]
  },
  {
   "cell_type": "markdown",
   "metadata": {
    "slideshow": {
     "slide_type": "slide"
    }
   },
   "source": [
    "- 괄호로 이루어진 문자열이 주어졌을 때 왼편부터 시작해서 여는 괄호와 닫는 괄호를 \n",
    "    만날 때마다 아래 작업을 반복\n",
    "\n",
    "    - 여는 괄호: 스택에 추가\n",
    "    - 닫는 괄호: 스택의 탑 항목 삭제"
   ]
  },
  {
   "cell_type": "markdown",
   "metadata": {
    "slideshow": {
     "slide_type": ""
    }
   },
   "source": [
    "- 위 작업을 반복하다 보면 아래 세 가지 경우가 발생\n",
    "\n",
    "    - 문자열을 다 확인하기 전에 스택이 비워지는 경우: 닫는 괄호가 너무 많음\n",
    "    - 끝까지 확인했을 때 스택이 비워지지 않은 경우: 여는 괄호가 너무 많음\n",
    "    - 그렇지 않으면 모든 괄호의 짝이 맞음."
   ]
  },
  {
   "cell_type": "markdown",
   "metadata": {
    "slideshow": {
     "slide_type": "slide"
    }
   },
   "source": [
    "### 괄호 짝맞추기 알고리즘"
   ]
  },
  {
   "cell_type": "markdown",
   "metadata": {},
   "source": [
    "```python\n",
    "def par_checker(symbol_string):\n",
    "\n",
    "    s = Stack()\n",
    "    \n",
    "    for symbol in symbol_string:\n",
    "        if symbol == \"(\":\n",
    "            s.put(symbol)\n",
    "        elif s.empty():\n",
    "            return False\n",
    "        else:\n",
    "            s.get()\n",
    "\n",
    "    return s.empty()\n",
    "```"
   ]
  },
  {
   "cell_type": "markdown",
   "metadata": {},
   "source": [
    "<figure>\n",
    "<div align=\"center\"><img src=\"https://runestone.academy/runestone/books/published/pythonds3/_images/simpleparcheck.png\" width=\"70%\"></div>\n",
    "</figure>"
   ]
  },
  {
   "cell_type": "markdown",
   "metadata": {
    "slideshow": {
     "slide_type": "slide"
    }
   },
   "source": [
    "### 괄호 짝맞추기 문제(일반화)"
   ]
  },
  {
   "cell_type": "markdown",
   "metadata": {},
   "source": [
    "소, 중, 대 세 종류의 괄호를 대상으로 짝맞추기 문제를 해결한다.\n",
    "\n",
    "- `(`, `)`: 튜플, 표현식 등\n",
    "- `{`, `}`: 사전, 집합 등\n",
    "- `[`, `]`: 리스트 등"
   ]
  },
  {
   "cell_type": "markdown",
   "metadata": {
    "slideshow": {
     "slide_type": "slide"
    }
   },
   "source": [
    "다음은 괄호 짝이 맞는 경우들이다."
   ]
  },
  {
   "cell_type": "markdown",
   "metadata": {
    "slideshow": {
     "slide_type": ""
    }
   },
   "source": [
    "```python\n",
    "{ { ( [ ] [ ] ) } ( ) }\n",
    "\n",
    "[ [ { { ( ( ) ) } } ] ]\n",
    "\n",
    "[ ] [ ] [ ] ( ) { }\n",
    "```"
   ]
  },
  {
   "cell_type": "markdown",
   "metadata": {},
   "source": [
    "다음은 괄호 짝이 맞지 않는 경우들이다.\n",
    "    "
   ]
  },
  {
   "cell_type": "markdown",
   "metadata": {},
   "source": [
    "```python\n",
    "( [ ) )\n",
    "\n",
    "( ( ( ) ] ) )\n",
    "\n",
    "[ { ( ) ]\n",
    "```"
   ]
  },
  {
   "cell_type": "markdown",
   "metadata": {
    "slideshow": {
     "slide_type": "slide"
    }
   },
   "source": [
    "```python\n",
    "def balance_checker(symbol_string):\n",
    "    s = Stack()\n",
    "    for symbol in symbol_string:\n",
    "        if symbol in \"([{\":\n",
    "            s.put(symbol)\n",
    "        elif s.empty():\n",
    "            return False\n",
    "        elif not matches(s.get(), symbol):\n",
    "            return False\n",
    "\n",
    "    return s.empty()\n",
    "\n",
    "def matches(sym_left, sym_right):\n",
    "    all_lefts = \"([{\"\n",
    "    all_rights = \")]}\"\n",
    "    return all_lefts.index(sym_left) == all_rights.index(sym_right)\n",
    "```"
   ]
  },
  {
   "cell_type": "markdown",
   "metadata": {
    "slideshow": {
     "slide_type": "slide"
    }
   },
   "source": [
    "## 중위/전위/후위 표기법"
   ]
  },
  {
   "cell_type": "markdown",
   "metadata": {
    "slideshow": {
     "slide_type": ""
    }
   },
   "source": [
    "| 중위 표기법 | 전위 표기법 | 후위 표기법 |\n",
    "| :--- | :--- | :--- |\n",
    "| `x + y` | `+ x y` | `x y +` |\n",
    "| `x + y * z` | `+ x * y z` | `x y z * +` |\n",
    "| `(x + y) * z` | `* + x y z` | `x y + z *` |\n",
    "| `x + y * z + v` | `+ + x * y z v` | `x y z * + v +` |\n",
    "| `(x + y) * (z + v)` | `* + x y + z v` | `x y + z v + *` |\n",
    "| `x * y + z * v` | `+ * x y * z v` | `x y * z v * +` |\n",
    "| `x + y + z + v` | `+ + + x y z v` | `x y + z + v +` |"
   ]
  },
  {
   "cell_type": "markdown",
   "metadata": {
    "slideshow": {
     "slide_type": "slide"
    }
   },
   "source": [
    "## 표기법 변환"
   ]
  },
  {
   "cell_type": "markdown",
   "metadata": {},
   "source": [
    "`(A + B) * C - (D - E) * (F + G)` 를 전위/후위 표기법으로 표현하는 과정은 다음과 같다."
   ]
  },
  {
   "cell_type": "markdown",
   "metadata": {},
   "source": [
    "<figure>\n",
    "<div align=\"center\"><img src=\"https://runestone.academy/ns/books/published/pythonds3/_images/complexmove.png\" width=\"80%\"></div>\n",
    "</figure>"
   ]
  },
  {
   "cell_type": "markdown",
   "metadata": {
    "slideshow": {
     "slide_type": "slide"
    }
   },
   "source": [
    "### 표기법 변환 알고리즘"
   ]
  },
  {
   "cell_type": "markdown",
   "metadata": {},
   "source": [
    "`A * B + C * D`를 후위 표기법으로 변환하는 과정은 다음과 같다."
   ]
  },
  {
   "cell_type": "markdown",
   "metadata": {},
   "source": [
    "<figure>\n",
    "<div align=\"center\"><img src=\"https://runestone.academy/ns/books/published/pythonds3/_images/intopost.png\" width=\"80%\"></div>\n",
    "</figure>"
   ]
  },
  {
   "cell_type": "markdown",
   "metadata": {
    "slideshow": {
     "slide_type": "slide"
    }
   },
   "source": [
    "1. 연산자와 여는 괄호를 쌓아 둘 스택 `op_stack`을 준비해 놓는다.\n",
    "   또한 후위 표현식에 사용될 기호를 차례대로 저장할 빈 리스트 `postfix_list`도 준비한다.\n",
    "\n",
    "   ```python\n",
    "   op_stack = Stack()\n",
    "   postfix_list = []\n",
    "   ```\n",
    "\n",
    "1. 문자열로 입력된 중위 표현식을 `split()` 메서드를 이용하여 리스트로 변환한다.\n",
    "\n",
    "1. 리스트의 항목(토큰, token)의 종류에 따라 아래 과정을 처리한다.\n",
    "   - 피연산자인 경우: `postfix_list`에 추가한다.\n",
    "   - 여는 괄호인 경우: `op_stack`에 추가한다.\n",
    "   - 닫는 괄호인 경우: `op_stack`에서 여는 괄호를 만날 때까지 탑을 빼서 `postfix_list`에 추가한다.\n",
    "   - 연산자(`*`, `/`, `+`, `-`)인 경우: `op_stack`에 추가한다. \n",
    "      단, 먼저 `op_stack`으로부터 우선순위가 높거나 같은 연산자를 모두 탑에서 빼서 `postfix_list`에 추가해야 한다.\n",
    "\n",
    "1. 입력된 중위 표현식에 사용된 모든 기호를 처리했다면 `op_stack`에 남아있는 모든 연산자를 빼서\n",
    "   `postfix_list`에 추가한다."
   ]
  },
  {
   "cell_type": "markdown",
   "metadata": {
    "slideshow": {
     "slide_type": "slide"
    }
   },
   "source": [
    "### 연산자 우선순위"
   ]
  },
  {
   "cell_type": "markdown",
   "metadata": {},
   "source": [
    "연산자들 사이의 우선순위를 지정한다."
   ]
  },
  {
   "cell_type": "markdown",
   "metadata": {
    "slideshow": {
     "slide_type": ""
    }
   },
   "source": [
    "```python\n",
    "precedence = {'*': 3, '/': 3, '+': 2, '-': 2, '(': 1}\n",
    "```"
   ]
  },
  {
   "cell_type": "markdown",
   "metadata": {
    "slideshow": {
     "slide_type": "slide"
    }
   },
   "source": [
    "### 중위 표현식 => 후위 표현식"
   ]
  },
  {
   "cell_type": "markdown",
   "metadata": {
    "slideshow": {
     "slide_type": ""
    }
   },
   "source": [
    "```python\n",
    "def infix_to_postfix(infix_expr):\n",
    "    op_stack = Stack()\n",
    "    postfix_list = []\n",
    "    token_list = infix_expr.split()\n",
    "\n",
    "    for token in token_list:\n",
    "        if token not in '()*/+-':\n",
    "            postfix_list.append(token)\n",
    "        elif token == \"(\":\n",
    "            op_stack.put(token)\n",
    "        elif token == \")\":\n",
    "            top_token = op_stack.get()\n",
    "            while top_token != \"(\":\n",
    "                postfix_list.append(top_token)\n",
    "                top_token = op_stack.get()\n",
    "        else:\n",
    "            while (not op_stack.empty()) \n",
    "                   and (precedence[op_stack.peek()] >= precedence[token]):\n",
    "                postfix_list.append(op_stack.get())\n",
    "            op_stack.put(token)\n",
    "\n",
    "    while not op_stack.empty():\n",
    "        postfix_list.append(op_stack.get())\n",
    "\n",
    "    return \" \".join(postfix_list)\n",
    "```"
   ]
  },
  {
   "cell_type": "markdown",
   "metadata": {
    "slideshow": {
     "slide_type": "slide"
    }
   },
   "source": [
    "## 후위 표현식의 값 계산"
   ]
  },
  {
   "cell_type": "markdown",
   "metadata": {},
   "source": [
    "후위 표현식 `4 5 6 * +`을 계산하는 과정은 다음과 같다."
   ]
  },
  {
   "cell_type": "markdown",
   "metadata": {},
   "source": [
    "<figure>\n",
    "<div align=\"center\"><img src=\"https://runestone.academy/ns/books/published/pythonds3/_images/evalpostfix1.png\" width=\"65%\"></div>\n",
    "</figure>"
   ]
  },
  {
   "cell_type": "markdown",
   "metadata": {
    "slideshow": {
     "slide_type": "slide"
    }
   },
   "source": [
    "후위 표현식 `7 8 + 3 2 + /`을 계산하는 과정은 다음과 같다."
   ]
  },
  {
   "cell_type": "markdown",
   "metadata": {},
   "source": [
    "<figure>\n",
    "<div align=\"center\"><img src=\"https://runestone.academy/ns/books/published/pythonds3/_images/evalpostfix2.png\" width=\"70%\"></div>\n",
    "</figure>"
   ]
  },
  {
   "cell_type": "markdown",
   "metadata": {
    "slideshow": {
     "slide_type": "slide"
    }
   },
   "source": [
    "1. `operand_stack` 라는 비어있는 스택을 준비한다.\n",
    "1. 후위 표현식 문자열을 `split()` 메서드를 이용하여 리스트로 변환한다.\n",
    "1. 리스트를 왼쪽에서부터 하나씩 차례대로 확인하면서 확인된 기호의 종류에 다라 아래 과정을 반복한다.\n",
    "   - 피연산자인 경우: 수(number)로 변환한 다음 `operand_stack`에 추가한다.\n",
    "   - `*, /, +, -` 중 하나인 경우: `operand_stack`을 두 번 `get()`한다. \n",
    "      첫번째로 얻어진 값은 둘째 인자로,\n",
    "      두번째로 얻어진 값은 첫째 인자로 지정한다.\n",
    "      두 인자를 이용하여 연산을 실행한 다음\n",
    "      계산된 값을 다시 `operand_stack`에 추가한다.\n",
    "1. 리스트의 모든 항목을 확인한 다음에 `operand_stack`에 납아있는 유일한 값을 주어진 표현식을 계산한 값으로 사용한다."
   ]
  },
  {
   "cell_type": "markdown",
   "metadata": {
    "slideshow": {
     "slide_type": "slide"
    }
   },
   "source": [
    "### 후위 표현식 계산 함수"
   ]
  },
  {
   "cell_type": "markdown",
   "metadata": {
    "slideshow": {
     "slide_type": ""
    }
   },
   "source": [
    "```python\n",
    "def postfix_eval(postfix_expr):\n",
    "    operand_stack = Stack()\n",
    "    token_list = postfix_expr.split()\n",
    "    print(operand_stack)\n",
    "\n",
    "    for token in token_list:\n",
    "        if token not in '*/+-':\n",
    "            operand_stack.put(int(token))\n",
    "        else:\n",
    "            operand2 = operand_stack.get()\n",
    "            operand1 = operand_stack.get()\n",
    "            result = do_math(token, operand1, operand2)\n",
    "            operand_stack.put(result)\n",
    "        print(operand_stack)\n",
    "\n",
    "    return operand_stack.get()\n",
    "```"
   ]
  },
  {
   "cell_type": "markdown",
   "metadata": {
    "slideshow": {
     "slide_type": "slide"
    }
   },
   "source": [
    "```python\n",
    "def do_math(op, op1, op2):\n",
    "    if op == \"*\":\n",
    "        return op1 * op2\n",
    "    elif op == \"/\":\n",
    "        return op1 / op2\n",
    "    elif op == \"+\":\n",
    "        return op1 + op2\n",
    "    else:\n",
    "        return op1 - op2\n",
    "```"
   ]
  }
 ],
 "metadata": {
  "celltoolbar": "Slideshow",
  "kernelspec": {
   "display_name": "Python 3 (ipykernel)",
   "language": "python",
   "name": "python3"
  },
  "language_info": {
   "codemirror_mode": {
    "name": "ipython",
    "version": 3
   },
   "file_extension": ".py",
   "mimetype": "text/x-python",
   "name": "python",
   "nbconvert_exporter": "python",
   "pygments_lexer": "ipython3",
   "version": "3.12.2"
  },
  "vscode": {
   "interpreter": {
    "hash": "6c86b3592b6800d985c04531f2c445f0fa6967131b8dd6395a925f7622e55602"
   }
  }
 },
 "nbformat": 4,
 "nbformat_minor": 4
}
