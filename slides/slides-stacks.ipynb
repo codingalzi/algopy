{
 "cells": [
  {
   "cell_type": "markdown",
   "metadata": {
    "slideshow": {
     "slide_type": "slide"
    }
   },
   "source": [
    "# 스택<font size='2'>Stack</font>"
   ]
  },
  {
   "cell_type": "markdown",
   "metadata": {
    "slideshow": {
     "slide_type": "slide"
    }
   },
   "source": [
    "## 스택의 정의"
   ]
  },
  {
   "cell_type": "markdown",
   "metadata": {},
   "source": [
    "- 항목의 추가 및 삭제: **탑**<font size='2'>top</font>이라 불리는 한 쪽 끝에서만 허용\n",
    "- 탑: 가장 나중에 추가된 항목의 위치\n",
    "- 베이스: 남아 있는 항목 중에서 가장 먼저 추가된 항목의 위치\n",
    "- **후입선출**<font size='2'>last-in first-out</font>(LIFO) 원리 따름"
   ]
  },
  {
   "cell_type": "markdown",
   "metadata": {},
   "source": [
    "<p><div align=\"center\"><img src=\"https://raw.githubusercontent.com/codingalzi/algopy/master/jupyter-book/imgs/lifo.png\" width=\"50%\"></div></p>"
   ]
  },
  {
   "cell_type": "markdown",
   "metadata": {
    "slideshow": {
     "slide_type": "slide"
    }
   },
   "source": [
    "## 스택 자료구조 구현"
   ]
  },
  {
   "cell_type": "markdown",
   "metadata": {},
   "source": [
    "- 항목의 추가와 삭제를 탑이라고 부르는 곳에서만 처리\n",
    "- 하지만 그 이외에는 큐와 동일한 기능 지원\n",
    "- 파이썬에서 스택 자료구조로 제공되는 `queue.LifoQueue` 클래스가 큐 자료구조인 `queue.Queue`와 동일한 이름의 메서드를 제공\n",
    "- `Queue` 추상 자료형을 구상 클래스로 상속하는 방식으로 스택 자료구조를 선언"
   ]
  },
  {
   "cell_type": "code",
   "execution_count": 1,
   "metadata": {
    "slideshow": {
     "slide_type": "slide"
    }
   },
   "outputs": [],
   "source": [
    "class Queue:\n",
    "    def __init__(self, maxsize=0):\n",
    "        raise NotImplementedError(\n",
    "            \"\"\"아래 두 변수 구현 필요\n",
    "            self._maxsize=maxsize\n",
    "            self._container=비어 있는 모음 객체. 항목 저장.\n",
    "            \"\"\")\n",
    "    \n",
    "    def qsize(self):\n",
    "        return len(self._container)\n",
    "    \n",
    "    def empty(self):\n",
    "        return not self._container\n",
    "\n",
    "    def full(self):\n",
    "        if self._maxsize <= 0:\n",
    "            return False\n",
    "        elif self.qsize() < self._maxsize:\n",
    "            return False\n",
    "        else:\n",
    "            return True            \n",
    "\n",
    "    def put(self, item):\n",
    "        raise NotImplementedError\n",
    "\n",
    "    def get(self):\n",
    "        raise NotImplementedError"
   ]
  },
  {
   "cell_type": "code",
   "execution_count": 2,
   "metadata": {
    "slideshow": {
     "slide_type": "slide"
    }
   },
   "outputs": [],
   "source": [
    "class Stack(Queue):\n",
    "    def __init__(self, maxsize=0):\n",
    "        \"\"\"\n",
    "        - 새로운 스택 생성\n",
    "        - _maxsize: 최대 항목 수. 0은 무한대 의미.\n",
    "        - _container: 항목 저장 장치. list 활용\n",
    "        \"\"\"\n",
    "        self._maxsize = maxsize\n",
    "        self._container = list() # 비어있는 리스트\n",
    "    \n",
    "    def __repr__(self):\n",
    "        \"\"\"스택 표기법: stack([1, 2, 3]) 등등\"\"\"\n",
    "        return f\"stack({self._container})\"\n",
    "    \n",
    "    def put(self, item):\n",
    "        \"\"\"\n",
    "        _maxsize를 못 채웠을 경우에만 항목 추가\n",
    "        \"\"\"\n",
    "        if not self.full():\n",
    "            self._container.append(item)\n",
    "        else:\n",
    "            print(\"추가되지 않아요!\")\n",
    "\n",
    "    def get(self):\n",
    "        \"\"\"머리 항목 삭제 후 반환\"\"\"\n",
    "        return self._container.pop()"
   ]
  },
  {
   "cell_type": "code",
   "execution_count": 3,
   "metadata": {
    "slideshow": {
     "slide_type": "slide"
    }
   },
   "outputs": [
    {
     "name": "stdout",
     "output_type": "stream",
     "text": [
      "stack([4, 'dog', True])\n",
      "True\n",
      "stack([4, 'dog', True, 8.4])\n",
      "추가되지 않아요!\n",
      "stack([4, 'dog', True, 8.4])\n",
      "8.4\n",
      "True\n",
      "2\n",
      "stack([4, 'dog'])\n",
      "False\n"
     ]
    }
   ],
   "source": [
    "s = Stack(maxsize=4)\n",
    "\n",
    "s.put(4)\n",
    "s.put(\"dog\")\n",
    "s.put(True)\n",
    "print(s)\n",
    "s.put(8.4)\n",
    "print(s.full())\n",
    "print(s)\n",
    "s.put(\"하나 더?\")\n",
    "print(s)\n",
    "print(s.get())\n",
    "print(s.get())\n",
    "print(s.qsize())\n",
    "print(s)\n",
    "print(s.empty())"
   ]
  },
  {
   "cell_type": "markdown",
   "metadata": {
    "slideshow": {
     "slide_type": "slide"
    }
   },
   "source": [
    "## `queue` 모듈의 `LifoQueue` 클래스"
   ]
  },
  {
   "cell_type": "code",
   "execution_count": 4,
   "metadata": {},
   "outputs": [],
   "source": [
    "import queue"
   ]
  },
  {
   "cell_type": "markdown",
   "metadata": {
    "slideshow": {
     "slide_type": "slide"
    }
   },
   "source": [
    "### `put()` 메서드 속도 비교"
   ]
  },
  {
   "cell_type": "code",
   "execution_count": 5,
   "metadata": {},
   "outputs": [
    {
     "name": "stdout",
     "output_type": "stream",
     "text": [
      "CPU times: user 7.95 ms, sys: 0 ns, total: 7.95 ms\n",
      "Wall time: 7.94 ms\n"
     ]
    }
   ],
   "source": [
    "%%time\n",
    "\n",
    "n = 100_000\n",
    "q1 = Stack(maxsize=0)\n",
    "\n",
    "for k in range(n):\n",
    "    q1.put(k)"
   ]
  },
  {
   "cell_type": "code",
   "execution_count": 6,
   "metadata": {
    "slideshow": {
     "slide_type": ""
    }
   },
   "outputs": [
    {
     "name": "stdout",
     "output_type": "stream",
     "text": [
      "CPU times: user 31.7 ms, sys: 0 ns, total: 31.7 ms\n",
      "Wall time: 31.4 ms\n"
     ]
    }
   ],
   "source": [
    "%%time\n",
    "\n",
    "n = 100_000\n",
    "q2 = queue.LifoQueue(maxsize=0)\n",
    "\n",
    "for k in range(n):\n",
    "    q2.put(k)"
   ]
  },
  {
   "cell_type": "markdown",
   "metadata": {
    "slideshow": {
     "slide_type": "slide"
    }
   },
   "source": [
    "### `get()` 메서드 속도 비교"
   ]
  },
  {
   "cell_type": "code",
   "execution_count": 7,
   "metadata": {},
   "outputs": [
    {
     "name": "stdout",
     "output_type": "stream",
     "text": [
      "CPU times: user 3.73 ms, sys: 0 ns, total: 3.73 ms\n",
      "Wall time: 3.74 ms\n"
     ]
    }
   ],
   "source": [
    "%%time\n",
    "\n",
    "for k in range(n):\n",
    "    q1.get()"
   ]
  },
  {
   "cell_type": "code",
   "execution_count": 8,
   "metadata": {},
   "outputs": [
    {
     "name": "stdout",
     "output_type": "stream",
     "text": [
      "CPU times: user 32.6 ms, sys: 0 ns, total: 32.6 ms\n",
      "Wall time: 32.4 ms\n"
     ]
    }
   ],
   "source": [
    "%%time\n",
    "\n",
    "for k in range(n):\n",
    "    q2.get()"
   ]
  },
  {
   "cell_type": "markdown",
   "metadata": {
    "slideshow": {
     "slide_type": "slide"
    }
   },
   "source": [
    "## 스택 활용: 괄호 매칭 여부 판정"
   ]
  },
  {
   "cell_type": "markdown",
   "metadata": {
    "slideshow": {
     "slide_type": "slide"
    }
   },
   "source": [
    "### 괄호 종류"
   ]
  },
  {
   "cell_type": "markdown",
   "metadata": {},
   "source": [
    "| 괄호 종류 | 기호 | 활용 예제 |\n",
    "| :---: | :---: | :--- |\n",
    "| 소괄호 |`(`, `)` | 튜플, 수식 |\n",
    "| 중괄호 | `{`, `}` | 사전, 집합 |\n",
    "| 대괄호 | `[`, `]` | 리스트 |"
   ]
  },
  {
   "cell_type": "markdown",
   "metadata": {
    "slideshow": {
     "slide_type": "slide"
    }
   },
   "source": [
    "### 괄호 매칭 여부 판정"
   ]
  },
  {
   "cell_type": "markdown",
   "metadata": {},
   "source": [
    "파이썬은 코드를 실행하기 전에 구문 검사를 진행\n",
    "\n",
    "괄호의 짝이 맞지 않으면 바로 구문 오류(`SyntaxError`)를 발생시킴"
   ]
  },
  {
   "cell_type": "code",
   "execution_count": 9,
   "metadata": {},
   "outputs": [
    {
     "ename": "SyntaxError",
     "evalue": "closing parenthesis '}' does not match opening parenthesis '(' (2289090069.py, line 1)",
     "output_type": "error",
     "traceback": [
      "\u001b[0;36m  Cell \u001b[0;32mIn[9], line 1\u001b[0;36m\u001b[0m\n\u001b[0;31m    x = [1, 2, (5, 3), ('a':7, 'b':9}]\u001b[0m\n\u001b[0m                                    ^\u001b[0m\n\u001b[0;31mSyntaxError\u001b[0m\u001b[0;31m:\u001b[0m closing parenthesis '}' does not match opening parenthesis '('\n"
     ]
    }
   ],
   "source": [
    "x = [1, 2, (5, 3), ('a':7, 'b':9}]"
   ]
  },
  {
   "cell_type": "code",
   "execution_count": 10,
   "metadata": {},
   "outputs": [],
   "source": [
    "x = [1, 2, (5, 3), {'a':7, 'b':9}]"
   ]
  },
  {
   "cell_type": "markdown",
   "metadata": {
    "slideshow": {
     "slide_type": "slide"
    }
   },
   "source": [
    "### 괄호 문자열"
   ]
  },
  {
   "cell_type": "markdown",
   "metadata": {},
   "source": [
    "표현식에 사용된 괄호만 고려"
   ]
  },
  {
   "cell_type": "markdown",
   "metadata": {},
   "source": [
    "```python\n",
    "[(){}]\n",
    "```"
   ]
  },
  {
   "cell_type": "markdown",
   "metadata": {},
   "source": [
    "괄호가 중첩되어 사용되면 괄호 매칭 여부의 판단이 보다 어려워짐."
   ]
  },
  {
   "cell_type": "markdown",
   "metadata": {},
   "source": [
    "```python\n",
    "{{([][])}()}\n",
    "[[{{(())}}]]\n",
    "[][][](){}\n",
    "([))\n",
    "((()]))\n",
    "[{()]\n",
    "```"
   ]
  },
  {
   "cell_type": "markdown",
   "metadata": {
    "slideshow": {
     "slide_type": "slide"
    }
   },
   "source": [
    "### 괄호 문자열 대상 괄호 매칭 여부 판정"
   ]
  },
  {
   "cell_type": "markdown",
   "metadata": {},
   "source": [
    "스택 자료구조를 활용하여 괄호만으로 구성된 문자열에 대해 괄호 매칭 여부를 판정\n",
    "\n",
    "- 비어있는 스택을 하나 생성\n",
    "- 괄호 문자열에 포함된 기호에 대해 아래 작업 반복\n",
    "    - 여는 괄호: 스택에 추가\n",
    "    - 닫는 괄호: 스택의 탑 항목 삭제\n",
    "\n",
    "예제: `{[()]}`에 대해 괄호 매칭 여부 판정"
   ]
  },
  {
   "cell_type": "markdown",
   "metadata": {},
   "source": [
    "<p><div align=\"center\"><img src=\"https://raw.githubusercontent.com/codingalzi/algopy/master/jupyter-book/imgs/balanced_parentheses1.png\" width=\"70%\"></div></p>"
   ]
  },
  {
   "cell_type": "markdown",
   "metadata": {
    "slideshow": {
     "slide_type": "slide"
    }
   },
   "source": [
    "### 괄호 매칭이 거짓인 경우 1"
   ]
  },
  {
   "cell_type": "markdown",
   "metadata": {},
   "source": [
    "`{[(])}`의 경우: 탑에 위치한 여는 괄호와 표현식에 있는 닫는 괄호가 달라서 여는 괄호와 닫는 괄호가 매칭되지 않음"
   ]
  },
  {
   "cell_type": "markdown",
   "metadata": {},
   "source": [
    "<p><div align=\"center\"><img src=\"https://raw.githubusercontent.com/codingalzi/algopy/master/jupyter-book/imgs/balanced_parentheses2.png\" width=\"55%\"></div></p>"
   ]
  },
  {
   "cell_type": "markdown",
   "metadata": {
    "slideshow": {
     "slide_type": "slide"
    }
   },
   "source": [
    "### 괄호 매칭이 거짓인 경우 2"
   ]
  },
  {
   "cell_type": "markdown",
   "metadata": {},
   "source": [
    "`[()]}`의 경우: 아직 확인해야할 닫는 괄호가 있지만 스택이 먼저 비워질 수 있음."
   ]
  },
  {
   "cell_type": "markdown",
   "metadata": {},
   "source": [
    "<p><div align=\"center\"><img src=\"https://raw.githubusercontent.com/codingalzi/algopy/master/jupyter-book/imgs/balanced_parentheses3.png\" width=\"60%\"></div></p>"
   ]
  },
  {
   "cell_type": "markdown",
   "metadata": {
    "slideshow": {
     "slide_type": "slide"
    }
   },
   "source": [
    "### 괄호 매칭이 거짓인 경우 3"
   ]
  },
  {
   "cell_type": "markdown",
   "metadata": {},
   "source": [
    "`{[()]`의 경우: 문자열에 포함된 모든 괄호를 확인했음에도 불구하고 스택에 항목이 남아 있을 수 있음."
   ]
  },
  {
   "cell_type": "markdown",
   "metadata": {},
   "source": [
    "<p><div align=\"center\"><img src=\"https://raw.githubusercontent.com/codingalzi/algopy/master/jupyter-book/imgs/balanced_parentheses4.png\" width=\"70%\"></div></p>"
   ]
  },
  {
   "cell_type": "markdown",
   "metadata": {
    "slideshow": {
     "slide_type": "slide"
    }
   },
   "source": [
    "### 두 괄호의 매칭 여부 판정"
   ]
  },
  {
   "cell_type": "code",
   "execution_count": 11,
   "metadata": {},
   "outputs": [],
   "source": [
    "def matches(par_left, par_right):\n",
    "    all_lefts = \"([{\"\n",
    "    all_rights = \")]}\"\n",
    "    \n",
    "    if (par_left not in all_lefts) or (par_right not in all_rights):\n",
    "        return False\n",
    "    \n",
    "    return all_lefts.index(par_left) == all_rights.index(par_right)"
   ]
  },
  {
   "cell_type": "code",
   "execution_count": 12,
   "metadata": {},
   "outputs": [
    {
     "name": "stdout",
     "output_type": "stream",
     "text": [
      "True\n",
      "True\n",
      "True\n",
      "False\n",
      "False\n",
      "False\n"
     ]
    }
   ],
   "source": [
    "print(matches('(', ')'))\n",
    "print(matches('[', ']'))\n",
    "print(matches('{', '}'))\n",
    "print(matches('(', ']'))\n",
    "print(matches('[', '}'))\n",
    "print(matches('(', '('))"
   ]
  },
  {
   "cell_type": "markdown",
   "metadata": {
    "slideshow": {
     "slide_type": "slide"
    }
   },
   "source": [
    "### 괄호 매칭 여부 판정 함수"
   ]
  },
  {
   "cell_type": "code",
   "execution_count": 13,
   "metadata": {},
   "outputs": [],
   "source": [
    "def balance_checker(par_string):\n",
    "    s = Stack()\n",
    "    \n",
    "    for symbol in par_string:\n",
    "        if symbol in \"([{\":\n",
    "            s.put(symbol)\n",
    "        elif s.empty():    \n",
    "            return False\n",
    "        elif not matches(s.get(), symbol): \n",
    "            return False  \n",
    "\n",
    "    return s.empty()"
   ]
  },
  {
   "cell_type": "code",
   "execution_count": 14,
   "metadata": {
    "slideshow": {
     "slide_type": "slide"
    }
   },
   "outputs": [
    {
     "name": "stdout",
     "output_type": "stream",
     "text": [
      "True\n",
      "True\n",
      "True\n",
      "False\n",
      "False\n",
      "False\n"
     ]
    }
   ],
   "source": [
    "print(balance_checker('{{([][])}()}'))\n",
    "print(balance_checker('[[{{(())}}]]'))\n",
    "print(balance_checker('[][][](){}'))\n",
    "print(balance_checker('([))'))\n",
    "print(balance_checker('((()]))'))\n",
    "print(balance_checker('[{()]'))"
   ]
  },
  {
   "cell_type": "markdown",
   "metadata": {
    "slideshow": {
     "slide_type": "slide"
    }
   },
   "source": [
    "### 표현식 대상 괄호 매칭 판정"
   ]
  },
  {
   "cell_type": "markdown",
   "metadata": {},
   "source": [
    "표현식에 포함된 문자 중에서 괄호가 아니면 무시하도록 하는 기능 추가"
   ]
  },
  {
   "cell_type": "code",
   "execution_count": 15,
   "metadata": {},
   "outputs": [],
   "source": [
    "def balance_checker(exp_string):\n",
    "    s = Stack()\n",
    "\n",
    "    for symbol in exp_string:\n",
    "        if symbol not in \"()[]{}\":   # 괄호가 아니면 무시\n",
    "            continue\n",
    "        elif symbol in \"([{\":\n",
    "            s.put(symbol)\n",
    "        elif s.empty():\n",
    "            return False\n",
    "        elif not matches(s.get(), symbol):\n",
    "            return False\n",
    "\n",
    "    return s.empty()"
   ]
  },
  {
   "cell_type": "code",
   "execution_count": 16,
   "metadata": {
    "slideshow": {
     "slide_type": "slide"
    }
   },
   "outputs": [
    {
     "name": "stdout",
     "output_type": "stream",
     "text": [
      "True\n",
      "False\n",
      "True\n",
      "False\n",
      "True\n",
      "False\n"
     ]
    }
   ],
   "source": [
    "print(balance_checker('{({([][])}())}'))\n",
    "print(balance_checker('[{()]'))\n",
    "print(balance_checker('(A + B) * C - (D - E) * (F + G)'))\n",
    "print(balance_checker('(5 + 6) * (7 + 8) / (4 + 3'))\n",
    "print(balance_checker(\"[1, 2, (5, 3), {'a':7, 'b':9}]\"))\n",
    "print(balance_checker(\"[1, 2, (5, 3), ('a':7, 'b':9}]\"))"
   ]
  }
 ],
 "metadata": {
  "celltoolbar": "Slideshow",
  "kernelspec": {
   "display_name": "Python 3 (ipykernel)",
   "language": "python",
   "name": "python3"
  },
  "language_info": {
   "codemirror_mode": {
    "name": "ipython",
    "version": 3
   },
   "file_extension": ".py",
   "mimetype": "text/x-python",
   "name": "python",
   "nbconvert_exporter": "python",
   "pygments_lexer": "ipython3",
   "version": "3.12.2"
  },
  "vscode": {
   "interpreter": {
    "hash": "6c86b3592b6800d985c04531f2c445f0fa6967131b8dd6395a925f7622e55602"
   }
  }
 },
 "nbformat": 4,
 "nbformat_minor": 4
}
