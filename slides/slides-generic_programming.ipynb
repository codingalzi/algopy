{
 "cells": [
  {
   "cell_type": "markdown",
   "metadata": {
    "slideshow": {
     "slide_type": "slide"
    }
   },
   "source": [
    "# 제네릭 프로그래밍"
   ]
  },
  {
   "cell_type": "markdown",
   "metadata": {
    "slideshow": {
     "slide_type": "slide"
    }
   },
   "source": [
    "## 주요 내용"
   ]
  },
  {
   "cell_type": "markdown",
   "metadata": {},
   "source": [
    "- 제네릭 프로그래밍 소개"
   ]
  },
  {
   "cell_type": "markdown",
   "metadata": {},
   "source": [
    "- 제네릭 되추적 알고리즘"
   ]
  },
  {
   "cell_type": "markdown",
   "metadata": {
    "slideshow": {
     "slide_type": "slide"
    }
   },
   "source": [
    "## 제네릭 프로그래밍이란?"
   ]
  },
  {
   "cell_type": "markdown",
   "metadata": {
    "slideshow": {
     "slide_type": ""
    }
   },
   "source": [
    "- 하나의 자료형에만 의존하지 않고 공통 속성을 갖는 여러 자료형<font size='2'>daya type</font>에 대해 \n",
    "동일하게 작동하는 알고리즘을 작성하는 기법"
   ]
  },
  {
   "cell_type": "markdown",
   "metadata": {
    "slideshow": {
     "slide_type": ""
    }
   },
   "source": [
    "- 제네릭 프로그래밍 기법으로 작성된 알고리즘은 하나의 문제만이 아닌 공통 속성을 갖는 여러 문제를 대상으로 적용 가능"
   ]
  },
  {
   "cell_type": "markdown",
   "metadata": {
    "slideshow": {
     "slide_type": ""
    }
   },
   "source": [
    "- 제네릭 프로그래밍 구현 기법\n",
    "    - 모듈 활용: 파이썬처럼 고계 함수<font size='2'>higher-order function</font>를 지원하는 프로그래밍언어의 경우 활용\n",
    "    - 다형성<font size='2'>polymorphism</font> 활용: 다양한 자료형을 마치 하나의 자료형 처럼 다루는 기법. \n",
    "        자바, 파이썬 등에서 제공하는 제네릭 클래스 활용."
   ]
  },
  {
   "cell_type": "markdown",
   "metadata": {
    "slideshow": {
     "slide_type": "slide"
    }
   },
   "source": [
    "## 모듈 활용"
   ]
  },
  {
   "cell_type": "markdown",
   "metadata": {},
   "source": [
    "다음 두 알고리즘은 사실상 동일한 되추적 알고리즘을 사용함\n",
    "\n",
    "- n-여왕말 문제: `backtracking_search_queens(num_queens, assignment)` 함수\n",
    "- m-색칠 문제: `backtracking_search_colors(num_nodes, num_colors, constraints, assignment)` 함수"
   ]
  },
  {
   "cell_type": "markdown",
   "metadata": {},
   "source": [
    "두 알고리즘의 근본적인 차이점: 유망성 함수\n",
    "\n",
    "- n-여왕말 문제: `promissing_queens()` 함수\n",
    "- m-색칠 문제: `promissing_colors()` 함수"
   ]
  },
  {
   "cell_type": "markdown",
   "metadata": {
    "slideshow": {
     "slide_type": "slide"
    }
   },
   "source": [
    "`backtracking_search()` 함수: 제네릭 되추적 알고리즘"
   ]
  },
  {
   "cell_type": "code",
   "execution_count": 1,
   "metadata": {
    "slideshow": {
     "slide_type": ""
    }
   },
   "outputs": [],
   "source": [
    "from typing import List, Dict, Callable\n",
    "\n",
    "def backtracking_search(variables: List[int],\n",
    "                        domains: Dict[int, List[int]],\n",
    "                        promissing: Callable[[int, Dict[int, int]], bool], \n",
    "                        assignment: Dict[int, int] = {}):\n",
    "    \n",
    "    if len(assignment) == len(variables):\n",
    "        return assignment\n",
    "\n",
    "    unassigned = [v for v in variables if v not in assignment]\n",
    "    first = unassigned[0]\n",
    "\n",
    "    for value in domains[first]:\n",
    "        local_assignment = assignment.copy()\n",
    "        local_assignment[first] = value\n",
    "\n",
    "        if promissing(first, local_assignment):\n",
    "            result = backtracking_search(variables, domains, \n",
    "                                         promissing, local_assignment)\n",
    "            if result is not None:\n",
    "                return result\n",
    "\n",
    "    return None"
   ]
  },
  {
   "cell_type": "markdown",
   "metadata": {
    "slideshow": {
     "slide_type": "slide"
    }
   },
   "source": [
    "`promissing` 매개변수의 자료형으로 지정된 `Callable[[int, Dict[int, int]], bool]`의 의미"
   ]
  },
  {
   "cell_type": "markdown",
   "metadata": {
    "slideshow": {
     "slide_type": ""
    }
   },
   "source": [
    "- 함수 인자 사용: `Callable`"
   ]
  },
  {
   "cell_type": "markdown",
   "metadata": {
    "slideshow": {
     "slide_type": ""
    }
   },
   "source": [
    "- 두 개의 인자 사용: `[int, Dict[int, int]]`\n",
    "    - 첫째 인자: 정수(`int`)\n",
    "    - 둘째 인자: 키와 값 모두 정수를 사용하는 사전 객체(`Dict[int, int]`)"
   ]
  },
  {
   "cell_type": "markdown",
   "metadata": {
    "slideshow": {
     "slide_type": ""
    }
   },
   "source": [
    "- 반환값 자료형: `bool`"
   ]
  },
  {
   "cell_type": "markdown",
   "metadata": {
    "slideshow": {
     "slide_type": "slide"
    }
   },
   "source": [
    "### 자료형 힌트"
   ]
  },
  {
   "cell_type": "markdown",
   "metadata": {},
   "source": [
    "- 파이썬 최신 버전: 함수의 매개변수의자료형을 명시 가능"
   ]
  },
  {
   "cell_type": "markdown",
   "metadata": {},
   "source": [
    "- 참고: [자료형 힌트 지원](https://docs.python.org/3/library/typing.html)"
   ]
  },
  {
   "cell_type": "markdown",
   "metadata": {
    "slideshow": {
     "slide_type": "slide"
    }
   },
   "source": [
    "### 4-여왕말 문제 해결"
   ]
  },
  {
   "cell_type": "markdown",
   "metadata": {},
   "source": [
    "- 변수: 네 개의 여왕말"
   ]
  },
  {
   "cell_type": "code",
   "execution_count": 2,
   "metadata": {},
   "outputs": [],
   "source": [
    "variables : List[int] = [1, 2, 3, 4]"
   ]
  },
  {
   "cell_type": "markdown",
   "metadata": {},
   "source": [
    "- 도메인: 하나의 여왕말이 위치할 수 있는 가능한 모든 칸. 항상 네 종류의 값 사용."
   ]
  },
  {
   "cell_type": "code",
   "execution_count": 3,
   "metadata": {},
   "outputs": [],
   "source": [
    "domains: Dict[int, List[int]] = {}\n",
    "\n",
    "columns = [1, 2, 3, 4]  # 네 개의 열 또는 색\n",
    "for var in variables:\n",
    "    domains[var] = columns"
   ]
  },
  {
   "cell_type": "markdown",
   "metadata": {
    "slideshow": {
     "slide_type": "slide"
    }
   },
   "source": [
    "4-여왕말 문제의 유망성 함수가 `constraint_queens` 모듈에 선언되어 있다고 가정"
   ]
  },
  {
   "cell_type": "markdown",
   "metadata": {},
   "source": [
    "```python\n",
    "from typing import List, Dict\n",
    "\n",
    "def promissing(variable: int, assignment: Dict[int, int]):\n",
    "\n",
    "    for q1r, q1c in assignment.items(): \n",
    "        \n",
    "        for q2r in range(q1r + 1, len(assignment) + 1): \n",
    "            q2c = assignment[q2r]\n",
    "            if q1c == q2c:\n",
    "                return False\n",
    "            if abs(q1r - q2r) == abs(q1c - q2c):\n",
    "                return False \n",
    "    \n",
    "    return True \n",
    "```"
   ]
  },
  {
   "cell_type": "code",
   "execution_count": 4,
   "metadata": {
    "slideshow": {
     "slide_type": "slide"
    }
   },
   "outputs": [
    {
     "data": {
      "text/plain": [
       "{1: 2, 2: 4, 3: 1, 4: 3}"
      ]
     },
     "execution_count": 4,
     "metadata": {},
     "output_type": "execute_result"
    }
   ],
   "source": [
    "from constraint_queens import promissing\n",
    "\n",
    "backtracking_search(variables, domains, promissing=promissing)"
   ]
  },
  {
   "cell_type": "markdown",
   "metadata": {
    "slideshow": {
     "slide_type": "slide"
    }
   },
   "source": [
    "### 4-색칠 문제 해결"
   ]
  },
  {
   "cell_type": "markdown",
   "metadata": {},
   "source": [
    "- 변수:  다섯 개의 노드"
   ]
  },
  {
   "cell_type": "code",
   "execution_count": 5,
   "metadata": {},
   "outputs": [],
   "source": [
    "variables : List[int] = [1, 2, 3, 4, 5]"
   ]
  },
  {
   "cell_type": "markdown",
   "metadata": {},
   "source": [
    "- 도메인: 하나의 노드가 가질 수 있는 가능한 모든 색. 항상 네 종류의 색 사용."
   ]
  },
  {
   "cell_type": "code",
   "execution_count": 6,
   "metadata": {},
   "outputs": [],
   "source": [
    "domains: Dict[int, List[int]] = {}\n",
    "\n",
    "columns = [1, 2, 3, 4]  # 네 개의 열 또는 색\n",
    "for var in variables:\n",
    "    domains[var] = columns"
   ]
  },
  {
   "cell_type": "markdown",
   "metadata": {
    "slideshow": {
     "slide_type": "slide"
    }
   },
   "source": [
    "아래 그래프와 같은 4-색칠 문제 해결에 사용되는 유망성 판단 함수는 다음과 같으며\n",
    "`constraint_colors` 모듈에 저장되어 있다고 가정"
   ]
  },
  {
   "cell_type": "markdown",
   "metadata": {},
   "source": [
    "<p>\n",
    "<table class=\"field\">\n",
    "  <tr>\n",
    "    <td style=\"padding:0 50px 0 50px;\">\n",
    "      <div><img src=\"https://raw.githubusercontent.com/codingalzi/algopy/master/jupyter-book/imgs/four-colors01a.png\" width=\"200\"/>\n",
    "    </td>\n",
    "    <td style=\"padding:0 50px 0 50px;\">\n",
    "      <div align=\"center\"><img src=\"https://raw.githubusercontent.com/codingalzi/algopy/master/jupyter-book/imgs/four-colors01.png\" width=\"400\"/>\n",
    "      </td>\n",
    "  </tr>\n",
    "</table>\n",
    "</p>"
   ]
  },
  {
   "cell_type": "markdown",
   "metadata": {
    "slideshow": {
     "slide_type": "slide"
    }
   },
   "source": [
    "```python\n",
    "from typing import List, Dict\n",
    "\n",
    "def promissing(variable: int, assignment: Dict[int, int]):\n",
    "\n",
    "    constraints = {\n",
    "        1 : [2, 3, 4, 5],\n",
    "        2 : [1, 3, 4, 5],\n",
    "        3 : [1, 2, 4],\n",
    "        4 : [1, 2, 3, 5]\n",
    "    }\n",
    "\n",
    "    for var in constraints[variable]:\n",
    "        if (var in assignment) and (assignment[var] == assignment[variable]):\n",
    "            return False\n",
    "    \n",
    "    return True \n",
    "```"
   ]
  },
  {
   "cell_type": "code",
   "execution_count": 7,
   "metadata": {
    "slideshow": {
     "slide_type": "slide"
    }
   },
   "outputs": [
    {
     "data": {
      "text/plain": [
       "{1: 1, 2: 2, 3: 3, 4: 4, 5: 3}"
      ]
     },
     "execution_count": 7,
     "metadata": {},
     "output_type": "execute_result"
    }
   ],
   "source": [
    "from constraint_colors import promissing\n",
    "\n",
    "backtracking_search(variables, domains, promissing=promissing)"
   ]
  },
  {
   "cell_type": "markdown",
   "metadata": {},
   "source": [
    "<p>\n",
    "<table class=\"field\">\n",
    "  <tr>\n",
    "    <td style=\"padding:0 50px 0 50px;\">\n",
    "      <div><img src=\"https://raw.githubusercontent.com/codingalzi/algopy/master/jupyter-book/imgs/four-colors02a.png\" width=\"200\"/>\n",
    "    </td>\n",
    "    <td style=\"padding:0 50px 0 50px;\">\n",
    "      <div align=\"center\"><img src=\"https://raw.githubusercontent.com/codingalzi/algopy/master/jupyter-book/imgs/four-colors02.png\" width=\"400\"/>\n",
    "      </td>\n",
    "  </tr>\n",
    "</table>\n",
    "</p>"
   ]
  }
 ],
 "metadata": {
  "celltoolbar": "Slideshow",
  "kernelspec": {
   "display_name": "Python 3 (ipykernel)",
   "language": "python",
   "name": "python3"
  },
  "language_info": {
   "codemirror_mode": {
    "name": "ipython",
    "version": 3
   },
   "file_extension": ".py",
   "mimetype": "text/x-python",
   "name": "python",
   "nbconvert_exporter": "python",
   "pygments_lexer": "ipython3",
   "version": "3.11.4"
  }
 },
 "nbformat": 4,
 "nbformat_minor": 4
}
