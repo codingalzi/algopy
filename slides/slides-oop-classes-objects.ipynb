{
 "cells": [
  {
   "cell_type": "markdown",
   "id": "3efee1fe",
   "metadata": {
    "slideshow": {
     "slide_type": "slide"
    }
   },
   "source": [
    "# 1. 클래스, 인스턴스, 객체"
   ]
  },
  {
   "cell_type": "markdown",
   "id": "31737ddd",
   "metadata": {
    "slideshow": {
     "slide_type": "slide"
    }
   },
   "source": [
    "## 주요 내용"
   ]
  },
  {
   "cell_type": "markdown",
   "id": "3f710588",
   "metadata": {},
   "source": [
    "- 클래스, 인스턴스, 객체 개념 확인"
   ]
  },
  {
   "cell_type": "markdown",
   "id": "822e8804",
   "metadata": {},
   "source": [
    "- 예제: 기약분수들의 자료형인 `Fraction` 클래스 선언"
   ]
  },
  {
   "cell_type": "markdown",
   "id": "a3dabca7",
   "metadata": {},
   "source": [
    "- `Fraction` 클래스의 인스턴스: `1/2`, `2/7` 등과 같은 기약분수"
   ]
  },
  {
   "cell_type": "markdown",
   "id": "c40bc08a",
   "metadata": {},
   "source": [
    "- 분수들의 덧셈, 동등성 비교 등을 지원하는 메서드 활용"
   ]
  },
  {
   "cell_type": "markdown",
   "id": "fd9b0bf8",
   "metadata": {
    "slideshow": {
     "slide_type": "slide"
    }
   },
   "source": [
    "## 1.1. 클래스 선언과 생성자"
   ]
  },
  {
   "cell_type": "markdown",
   "id": "c326f9dd",
   "metadata": {
    "slideshow": {
     "slide_type": "slide"
    }
   },
   "source": [
    "### 1.1.1. 클래스 선언"
   ]
  },
  {
   "cell_type": "markdown",
   "id": "3ef9370b",
   "metadata": {},
   "source": [
    "- 파이썬 클래스의 선언은 다음 형식을 따름."
   ]
  },
  {
   "cell_type": "markdown",
   "id": "a55cec34",
   "metadata": {},
   "source": [
    "```python\n",
    "class 클래스명:\n",
    "    ...\n",
    "    # 속성 지정 및 메서드 선언\n",
    "```"
   ]
  },
  {
   "cell_type": "markdown",
   "id": "67aaf808",
   "metadata": {
    "slideshow": {
     "slide_type": "slide"
    }
   },
   "source": [
    "### 1.1.2. 생성자"
   ]
  },
  {
   "cell_type": "markdown",
   "id": "38d315bf",
   "metadata": {},
   "source": [
    "- `Fraction` 클래스의 생성자: 분자와 분모를 입력받아 저장\n",
    "- `__init__()` 메서드\n",
    "    - 클래스의 인스턴스를 생성하는 **생성자**\n",
    "    - 인스턴스의 속성으로 저장될 정보와 관련된 값 저장"
   ]
  },
  {
   "cell_type": "code",
   "execution_count": 1,
   "id": "f923efb6",
   "metadata": {},
   "outputs": [],
   "source": [
    "class Fraction:\n",
    "    def __init__(self, top, bottom):\n",
    "        \"\"\"생성자 메서드\n",
    "        top: 분자\n",
    "        bottom: 분모\n",
    "        \"\"\"\n",
    "\n",
    "        self.top = top\n",
    "        self.bottom = bottom"
   ]
  },
  {
   "cell_type": "markdown",
   "id": "a9af534b",
   "metadata": {
    "slideshow": {
     "slide_type": "slide"
    }
   },
   "source": [
    "## 1.2. 인스턴스와 객체"
   ]
  },
  {
   "cell_type": "markdown",
   "id": "d43d4b22",
   "metadata": {},
   "source": [
    "객체는 특정 클래스의 인스턴스로 생성된다."
   ]
  },
  {
   "cell_type": "markdown",
   "id": "de1baa6b",
   "metadata": {
    "slideshow": {
     "slide_type": "slide"
    }
   },
   "source": [
    "### 1.2.1. 인스턴스 생성"
   ]
  },
  {
   "cell_type": "code",
   "execution_count": 2,
   "id": "de560915",
   "metadata": {},
   "outputs": [],
   "source": [
    "f35 = Fraction(3, 5)"
   ]
  },
  {
   "cell_type": "markdown",
   "id": "f8adca38",
   "metadata": {},
   "source": [
    "- `__init__()` 메서드: 분자는 3, 분모는 5로 지정\n",
    "- 최종적으로 `3/5`에 해당하는 객체 생성"
   ]
  },
  {
   "cell_type": "markdown",
   "id": "8cf6666d",
   "metadata": {},
   "source": [
    "<div align=\"center\" border=\"1px\"><img src=\"https://raw.githubusercontent.com/codingalzi/pybook/master/jupyter-book/images/fraction1.png\" width=\"50%\"></div>"
   ]
  },
  {
   "cell_type": "markdown",
   "id": "5af8c0ec",
   "metadata": {
    "slideshow": {
     "slide_type": "slide"
    }
   },
   "source": [
    "### `self`의 기능"
   ]
  },
  {
   "cell_type": "markdown",
   "id": "48326966",
   "metadata": {
    "slideshow": {
     "slide_type": ""
    }
   },
   "source": [
    "- `f35 = Fraction(3, 5)` 방식으로 변수 할당이 실행될 때 내부에서 다음이 실행됨\n",
    "\n",
    "    ```python\n",
    "    __init__(f35, 3, 5)\n",
    "    ```"
   ]
  },
  {
   "cell_type": "markdown",
   "id": "2cbcf1c2",
   "metadata": {
    "slideshow": {
     "slide_type": ""
    }
   },
   "source": [
    "- 즉, `self` 매개변수는 현재 생성되는 객체를 인자로 사용함"
   ]
  },
  {
   "cell_type": "markdown",
   "id": "463ac91d",
   "metadata": {
    "slideshow": {
     "slide_type": "slide"
    }
   },
   "source": [
    "### 1.2.2. 인스턴스 변수와 속성"
   ]
  },
  {
   "cell_type": "markdown",
   "id": "2c6e1817",
   "metadata": {},
   "source": [
    "- 인스턴스 변수: 클래스 내부에서 `self`와 함께 선언된 변수."
   ]
  },
  {
   "cell_type": "markdown",
   "id": "b0ee13a6",
   "metadata": {},
   "source": [
    "- `Fraction` 클래스의 인스턴스 변수: `top` 과 `bottom`"
   ]
  },
  {
   "cell_type": "markdown",
   "id": "5ac14884",
   "metadata": {},
   "source": [
    "- 클래스 내부에서만, 따라서 생성되는 객체 고유의 속성을 가리키는 역할 수행"
   ]
  },
  {
   "cell_type": "markdown",
   "id": "fb160b91",
   "metadata": {},
   "source": [
    "- 생성된 객체의 속성을 가리킨다는 의미에서 인스턴스 속성으로도 불림."
   ]
  },
  {
   "cell_type": "markdown",
   "id": "413a710b",
   "metadata": {
    "slideshow": {
     "slide_type": "slide"
    }
   },
   "source": [
    "## 1.3. 매직 메서드"
   ]
  },
  {
   "cell_type": "markdown",
   "id": "30f250dd",
   "metadata": {
    "slideshow": {
     "slide_type": "slide"
    }
   },
   "source": [
    "### 인스턴스 메서드"
   ]
  },
  {
   "cell_type": "markdown",
   "id": "ddacc451",
   "metadata": {},
   "source": [
    "- 메서드: 클래스 내부에서 선언된 함수"
   ]
  },
  {
   "cell_type": "markdown",
   "id": "a2f534fe",
   "metadata": {},
   "source": [
    "- 인스턴스 메서드\n",
    "    - 첫째 인자로 `self` 를 사용하는 메서드\n",
    "    - 클래스의 인스턴스가 생성되어야만 활용될 수 있음."
   ]
  },
  {
   "cell_type": "markdown",
   "id": "8b65e427",
   "metadata": {
    "slideshow": {
     "slide_type": "slide"
    }
   },
   "source": [
    "### 매직 메서드"
   ]
  },
  {
   "cell_type": "markdown",
   "id": "784c1acf",
   "metadata": {},
   "source": [
    "- 클래스에 기본적으로 포함되는 인스턴스 메서드"
   ]
  },
  {
   "cell_type": "markdown",
   "id": "071c34d3",
   "metadata": {},
   "source": [
    "- 클래스가 기본적으로 갖춰야 하는 기능 제공"
   ]
  },
  {
   "cell_type": "markdown",
   "id": "3b8a1ad4",
   "metadata": {},
   "source": [
    "- 메서드 이름이 밑줄 두 개로 감싸짐."
   ]
  },
  {
   "cell_type": "markdown",
   "id": "ad3f3354",
   "metadata": {
    "slideshow": {
     "slide_type": "slide"
    }
   },
   "source": [
    "### `dir()` 함수"
   ]
  },
  {
   "cell_type": "markdown",
   "id": "0c66601e",
   "metadata": {
    "slideshow": {
     "slide_type": ""
    }
   },
   "source": [
    "- 객체(클래스의 인스턴서)에 포함된 인스턴스 변수와 매직 메서드로 구성된 리스트 반환."
   ]
  },
  {
   "cell_type": "code",
   "execution_count": 3,
   "id": "1d256690",
   "metadata": {},
   "outputs": [
    {
     "name": "stdout",
     "output_type": "stream",
     "text": [
      "['__class__', '__delattr__', '__dict__', '__dir__', '__doc__', '__eq__', '__format__', '__ge__', '__getattribute__', '__getstate__', '__gt__', '__hash__', '__init__', '__init_subclass__', '__le__', '__lt__', '__module__', '__ne__', '__new__', '__reduce__', '__reduce_ex__', '__repr__', '__setattr__', '__sizeof__', '__str__', '__subclasshook__', '__weakref__']\n"
     ]
    }
   ],
   "source": [
    "print(dir(Fraction))"
   ]
  },
  {
   "cell_type": "markdown",
   "id": "d4b1b6c7",
   "metadata": {
    "slideshow": {
     "slide_type": "slide"
    }
   },
   "source": [
    "### 1.3.1. 객체 출력"
   ]
  },
  {
   "cell_type": "markdown",
   "id": "56a78050",
   "metadata": {
    "slideshow": {
     "slide_type": "slide"
    }
   },
   "source": [
    "### `__str__()` 매직 메서드"
   ]
  },
  {
   "cell_type": "markdown",
   "id": "3a142ae6",
   "metadata": {},
   "source": [
    "- `f35` 는 ‘3/5’에 해당하는 분수를 가리켜야 함.\n",
    "- 그런데 `print()` 함수를 이용하여 이 사실을 확인하려면 이해할 수 없는 결과가 출력됨."
   ]
  },
  {
   "cell_type": "code",
   "execution_count": 4,
   "id": "89bf86d0",
   "metadata": {},
   "outputs": [
    {
     "name": "stdout",
     "output_type": "stream",
     "text": [
      "<__main__.Fraction object at 0x7f4bb384d7f0>\n"
     ]
    }
   ],
   "source": [
    "print(f35)"
   ]
  },
  {
   "cell_type": "markdown",
   "id": "7447344c",
   "metadata": {
    "slideshow": {
     "slide_type": "slide"
    }
   },
   "source": [
    "### `__str__()` 매직 메서드 재정의"
   ]
  },
  {
   "cell_type": "markdown",
   "id": "cb17402c",
   "metadata": {},
   "source": [
    "- `__str__()` 메서드를 필요한 방식으로 재정의해야 함."
   ]
  },
  {
   "cell_type": "code",
   "execution_count": 5,
   "id": "9379f8f9",
   "metadata": {
    "slideshow": {
     "slide_type": ""
    }
   },
   "outputs": [],
   "source": [
    "class Fraction:\n",
    "    def __init__(self, top, bottom):\n",
    "        self.top = top\n",
    "        self.bottom = bottom\n",
    "\n",
    "    def __str__(self):\n",
    "        return f\"{self.top}/{self.bottom}\"  # 3/5, 1/2 형식으로 출력"
   ]
  },
  {
   "cell_type": "code",
   "execution_count": 6,
   "id": "e9d75dda",
   "metadata": {},
   "outputs": [
    {
     "name": "stdout",
     "output_type": "stream",
     "text": [
      "3/5\n"
     ]
    }
   ],
   "source": [
    "f35 = Fraction(3, 5)\n",
    "print(f35)"
   ]
  },
  {
   "cell_type": "markdown",
   "id": "2eb59936",
   "metadata": {
    "slideshow": {
     "slide_type": "slide"
    }
   },
   "source": [
    "### `__repr__()` 매직 메서드"
   ]
  },
  {
   "cell_type": "markdown",
   "id": "81b01261",
   "metadata": {},
   "source": [
    "- 반면에 `f35`를 확인하면 제대로 출력되지 않음."
   ]
  },
  {
   "cell_type": "code",
   "execution_count": 7,
   "id": "3b6cc33e",
   "metadata": {},
   "outputs": [
    {
     "data": {
      "text/plain": [
       "<__main__.Fraction at 0x7f4bb3882d80>"
      ]
     },
     "execution_count": 7,
     "metadata": {},
     "output_type": "execute_result"
    }
   ],
   "source": [
    "f35"
   ]
  },
  {
   "cell_type": "markdown",
   "id": "a6cc50d8",
   "metadata": {
    "slideshow": {
     "slide_type": "slide"
    }
   },
   "source": [
    "### `__repr__()` 매직 메서드 재정의"
   ]
  },
  {
   "cell_type": "markdown",
   "id": "c1cc7fdc",
   "metadata": {},
   "source": [
    "- `__repr__()` 메서드를 필요한 방식으로 재정의해야 함."
   ]
  },
  {
   "cell_type": "code",
   "execution_count": 8,
   "id": "ba6f24e8",
   "metadata": {
    "slideshow": {
     "slide_type": ""
    }
   },
   "outputs": [],
   "source": [
    "class Fraction:\n",
    "    def __init__(self, top, bottom):\n",
    "        self.top = top\n",
    "        self.bottom = bottom\n",
    "\n",
    "    def __str__(self):\n",
    "        return f\"{self.top}/{self.bottom}\"\n",
    "    \n",
    "    def __repr__(self):\n",
    "        return f\"{self.top}/{self.bottom}\""
   ]
  },
  {
   "cell_type": "code",
   "execution_count": 9,
   "id": "8fad4375",
   "metadata": {},
   "outputs": [
    {
     "data": {
      "text/plain": [
       "3/5"
      ]
     },
     "execution_count": 9,
     "metadata": {},
     "output_type": "execute_result"
    }
   ],
   "source": [
    "f35 = Fraction(3, 5)\n",
    "f35"
   ]
  },
  {
   "cell_type": "markdown",
   "id": "e8af610d",
   "metadata": {
    "slideshow": {
     "slide_type": "slide"
    }
   },
   "source": [
    "### `__repr__()` 대 `__str__()`"
   ]
  },
  {
   "cell_type": "code",
   "execution_count": 10,
   "id": "ec1f7cb4",
   "metadata": {
    "slideshow": {
     "slide_type": ""
    }
   },
   "outputs": [],
   "source": [
    "class Fraction:\n",
    "    def __init__(self, top, bottom):\n",
    "        self.top = top\n",
    "        self.bottom = bottom\n",
    "\n",
    "    def __str__(self):\n",
    "        return f\"{self.top}/{self.bottom}\"  # 3/5, 1/2 형식으로 출력\n",
    "\n",
    "    def __repr__(self):\n",
    "        return f\"{self.bottom}분의 {self.top}\"  # 5분의 3 형식으로 출력"
   ]
  },
  {
   "cell_type": "code",
   "execution_count": 11,
   "id": "25007cd0",
   "metadata": {},
   "outputs": [
    {
     "data": {
      "text/plain": [
       "5분의 3"
      ]
     },
     "execution_count": 11,
     "metadata": {},
     "output_type": "execute_result"
    }
   ],
   "source": [
    "f35 = Fraction(3, 5)\n",
    "f35"
   ]
  },
  {
   "cell_type": "code",
   "execution_count": 12,
   "id": "96718f74",
   "metadata": {},
   "outputs": [
    {
     "name": "stdout",
     "output_type": "stream",
     "text": [
      "3/5\n"
     ]
    }
   ],
   "source": [
    "print(f35)"
   ]
  },
  {
   "cell_type": "markdown",
   "id": "4d31e033",
   "metadata": {
    "slideshow": {
     "slide_type": "slide"
    }
   },
   "source": [
    "### `__repr__()` 만 사용 가능"
   ]
  },
  {
   "cell_type": "code",
   "execution_count": 13,
   "id": "166b78be",
   "metadata": {
    "slideshow": {
     "slide_type": ""
    }
   },
   "outputs": [],
   "source": [
    "class Fraction:\n",
    "    def __init__(self, top, bottom):\n",
    "        self.top = top\n",
    "        self.bottom = bottom\n",
    "\n",
    "    def __repr__(self):\n",
    "        return f\"{self.bottom}/{self.top}\""
   ]
  },
  {
   "cell_type": "code",
   "execution_count": 14,
   "id": "a4cbd451",
   "metadata": {},
   "outputs": [
    {
     "data": {
      "text/plain": [
       "5/3"
      ]
     },
     "execution_count": 14,
     "metadata": {},
     "output_type": "execute_result"
    }
   ],
   "source": [
    "f35 = Fraction(3, 5)\n",
    "f35"
   ]
  },
  {
   "cell_type": "code",
   "execution_count": 15,
   "id": "fff1815e",
   "metadata": {},
   "outputs": [
    {
     "name": "stdout",
     "output_type": "stream",
     "text": [
      "5/3\n"
     ]
    }
   ],
   "source": [
    "print(f35)"
   ]
  },
  {
   "cell_type": "markdown",
   "id": "f0758469",
   "metadata": {
    "slideshow": {
     "slide_type": "slide"
    }
   },
   "source": [
    "### 1.3.2. 인스턴스 연산"
   ]
  },
  {
   "cell_type": "markdown",
   "id": "4692143c",
   "metadata": {},
   "source": [
    "- 덧셈 연산이 지원되지 않음."
   ]
  },
  {
   "cell_type": "code",
   "execution_count": 16,
   "id": "a8c68e62",
   "metadata": {},
   "outputs": [],
   "source": [
    "f14 = Fraction(1, 4)\n",
    "f12 = Fraction(1, 2)"
   ]
  },
  {
   "cell_type": "code",
   "execution_count": 17,
   "id": "77dd3d0e",
   "metadata": {},
   "outputs": [
    {
     "ename": "TypeError",
     "evalue": "unsupported operand type(s) for +: 'Fraction' and 'Fraction'",
     "output_type": "error",
     "traceback": [
      "\u001b[0;31m---------------------------------------------------------------------------\u001b[0m",
      "\u001b[0;31mTypeError\u001b[0m                                 Traceback (most recent call last)",
      "Cell \u001b[0;32mIn[17], line 1\u001b[0m\n\u001b[0;32m----> 1\u001b[0m f14 \u001b[38;5;241m+\u001b[39m f12\n",
      "\u001b[0;31mTypeError\u001b[0m: unsupported operand type(s) for +: 'Fraction' and 'Fraction'"
     ]
    }
   ],
   "source": [
    "f14 + f12"
   ]
  },
  {
   "cell_type": "markdown",
   "id": "e8a83a0c",
   "metadata": {
    "slideshow": {
     "slide_type": "slide"
    }
   },
   "source": [
    "### `__add__()` 매직 메서드"
   ]
  },
  {
   "cell_type": "markdown",
   "id": "8881452a",
   "metadata": {},
   "source": [
    "- 아래 성질을 이용하는 `__add__()` 매직 메서드 선언 필요"
   ]
  },
  {
   "cell_type": "markdown",
   "id": "6a464333",
   "metadata": {},
   "source": [
    "$$\\frac {a}{b} + \\frac {c}{d} = \\frac{ad+cb}{bd}$$"
   ]
  },
  {
   "cell_type": "code",
   "execution_count": 18,
   "id": "831c0d6a",
   "metadata": {
    "slideshow": {
     "slide_type": "slide"
    }
   },
   "outputs": [],
   "source": [
    "class Fraction:\n",
    "    def __init__(self, top, bottom):\n",
    "        self.top = top\n",
    "        self.bottom = bottom\n",
    "\n",
    "    def __repr__(self):\n",
    "        return f\"{self.top}/{self.bottom}\"\n",
    "\n",
    "    def __add__(self, other):\n",
    "        new_top = self.top * other.bottom + self.bottom * other.top\n",
    "        new_bottom = self.bottom * other.bottom\n",
    "\n",
    "        return Fraction(new_top, new_bottom)"
   ]
  },
  {
   "cell_type": "code",
   "execution_count": 19,
   "id": "e88f1a71",
   "metadata": {},
   "outputs": [
    {
     "data": {
      "text/plain": [
       "6/8"
      ]
     },
     "execution_count": 19,
     "metadata": {},
     "output_type": "execute_result"
    }
   ],
   "source": [
    "f14 = Fraction(1, 4)\n",
    "f12 = Fraction(1, 2)\n",
    "\n",
    "f14 + f12"
   ]
  },
  {
   "cell_type": "markdown",
   "id": "87e842e6",
   "metadata": {
    "slideshow": {
     "slide_type": "slide"
    }
   },
   "source": [
    "### 기약분수 처리: `gcd()` 함수"
   ]
  },
  {
   "cell_type": "markdown",
   "id": "6ef9bb95",
   "metadata": {},
   "source": [
    "- `1/4 + 1/2`의 계산이 `3/4`가 아닌 `6/8`로 계산됨.\n",
    "- 즉, 기약분수로의 변환이 진행되지 않음.\n",
    "- 분모와 분자를 두 수의 최대공약수로 나눠야 함."
   ]
  },
  {
   "cell_type": "code",
   "execution_count": 20,
   "id": "4b00b308",
   "metadata": {},
   "outputs": [],
   "source": [
    "def gcd(m, n):\n",
    "    while m % n != 0:\n",
    "        m, n = n, m % n\n",
    "    return n"
   ]
  },
  {
   "cell_type": "code",
   "execution_count": 21,
   "id": "2a78b08a",
   "metadata": {},
   "outputs": [
    {
     "name": "stdout",
     "output_type": "stream",
     "text": [
      "2\n",
      "4\n"
     ]
    }
   ],
   "source": [
    "print(gcd(6, 14))\n",
    "print(gcd(8, 20))"
   ]
  },
  {
   "cell_type": "code",
   "execution_count": 22,
   "id": "54637b11",
   "metadata": {
    "slideshow": {
     "slide_type": "slide"
    }
   },
   "outputs": [],
   "source": [
    "class Fraction:\n",
    "    def __init__(self, top, bottom):\n",
    "        self.top = top\n",
    "        self.bottom = bottom\n",
    "\n",
    "    def __repr__(self):\n",
    "        return f\"{self.top}/{self.bottom}\"\n",
    "\n",
    "    def __add__(self, other):\n",
    "        new_top = self.top * other.bottom + \\\n",
    "                     self.bottom * other.top\n",
    "        new_bottom = self.bottom * other.bottom\n",
    "        common = gcd(new_top, new_bottom)\n",
    "        \n",
    "        return Fraction(new_top // common, new_bottom // common)"
   ]
  },
  {
   "cell_type": "code",
   "execution_count": 23,
   "id": "386649c1",
   "metadata": {},
   "outputs": [
    {
     "data": {
      "text/plain": [
       "3/4"
      ]
     },
     "execution_count": 23,
     "metadata": {},
     "output_type": "execute_result"
    }
   ],
   "source": [
    "f14 = Fraction(1, 4)\n",
    "f12 = Fraction(1, 2)\n",
    "\n",
    "f14 + f12"
   ]
  },
  {
   "cell_type": "markdown",
   "id": "112f5a71",
   "metadata": {
    "slideshow": {
     "slide_type": "slide"
    }
   },
   "source": [
    "### 연산 실행: `self`와 `other`"
   ]
  },
  {
   "cell_type": "markdown",
   "id": "23ce4b28",
   "metadata": {},
   "source": [
    "- `f14 + f12` 표현식이 실행되면 실제로는 `f14` 객체의 `__add__()` 메서드가 다음과 같이 호출됨.\n",
    "\n",
    "- 즉, `f14` 를 기준(self)으로 다른 값(other) `f12`와의 덧셈이 실행됨."
   ]
  },
  {
   "cell_type": "code",
   "execution_count": 24,
   "id": "86a5f1ad",
   "metadata": {},
   "outputs": [
    {
     "data": {
      "text/plain": [
       "3/4"
      ]
     },
     "execution_count": 24,
     "metadata": {},
     "output_type": "execute_result"
    }
   ],
   "source": [
    "f14.__add__(f12)"
   ]
  },
  {
   "cell_type": "markdown",
   "id": "ffc3d86f",
   "metadata": {
    "slideshow": {
     "slide_type": "slide"
    }
   },
   "source": [
    "### 1.3.3. 인스턴스 동일성/동등성"
   ]
  },
  {
   "cell_type": "markdown",
   "id": "649c603b",
   "metadata": {},
   "source": [
    "- 두 객체의 동일성<font size='2'>identity</font>: 두 객체가 동일한 메모리 주소에 저장되었는가에 따라 결정됨."
   ]
  },
  {
   "cell_type": "markdown",
   "id": "b9f801ab",
   "metadata": {},
   "source": [
    "- 두 객체의 동등성<font size='2'>equality</font>: 두 객체가 가리키는 값들의 동일성으로 결정"
   ]
  },
  {
   "cell_type": "markdown",
   "id": "bce2c9a4",
   "metadata": {
    "slideshow": {
     "slide_type": "slide"
    }
   },
   "source": [
    "### `is` 연산자: 동일성 판단"
   ]
  },
  {
   "cell_type": "code",
   "execution_count": 25,
   "id": "c2981b5e",
   "metadata": {},
   "outputs": [
    {
     "name": "stdout",
     "output_type": "stream",
     "text": [
      "동일성: True ,  동등성: True\n"
     ]
    }
   ],
   "source": [
    "f1 = Fraction(1, 2)\n",
    "f2 = f1\n",
    "print(\"동일성:\", f1 is f2, \", \", \"동등성:\", f1 == f2)"
   ]
  },
  {
   "cell_type": "markdown",
   "id": "72f180ac",
   "metadata": {},
   "source": [
    "<div align=\"center\" border=\"1px\"><img src=\"https://raw.githubusercontent.com/codingalzi/pybook/master/jupyter-book/images/fraction4.png\" width=\"50%\"></div>"
   ]
  },
  {
   "cell_type": "markdown",
   "id": "1fbd390f",
   "metadata": {
    "slideshow": {
     "slide_type": "slide"
    }
   },
   "source": [
    "### `==` 연산자: 동등성 판단"
   ]
  },
  {
   "cell_type": "code",
   "execution_count": 26,
   "id": "cfee0e0a",
   "metadata": {},
   "outputs": [
    {
     "name": "stdout",
     "output_type": "stream",
     "text": [
      "동일성: False ,  동등성: False\n"
     ]
    }
   ],
   "source": [
    "f1 = Fraction(1, 2)\n",
    "f2 = Fraction(1, 2)\n",
    "print(\"동일성:\", f1 is f2, \", \", \"동등성:\", f1 == f2)"
   ]
  },
  {
   "cell_type": "markdown",
   "id": "f715c534",
   "metadata": {
    "slideshow": {
     "slide_type": ""
    }
   },
   "source": [
    "<div align=\"center\" border=\"1px\"><img src=\"https://raw.githubusercontent.com/codingalzi/pybook/master/jupyter-book/images/fraction3.png\" width=\"50%\"></div>"
   ]
  },
  {
   "cell_type": "markdown",
   "id": "df4b3729",
   "metadata": {
    "slideshow": {
     "slide_type": "slide"
    }
   },
   "source": [
    "### `__eq__()` 매직 메서드"
   ]
  },
  {
   "cell_type": "markdown",
   "id": "00cab37b",
   "metadata": {},
   "source": [
    "- `__eq__` 매직 메서드: 두 객체의 동등성을 정의하여 동일하진 않지만 동등하도록 판정되도록 하게 만듦.\n",
    "- 두 분수의 동등성은 아래와 같이 판단됨:\n",
    "\n",
    "    $$\\frac {a}{b} = \\frac {c}{d} \\Longleftrightarrow ad = bc$$\n",
    "    "
   ]
  },
  {
   "cell_type": "code",
   "execution_count": 27,
   "id": "44d7656c",
   "metadata": {
    "slideshow": {
     "slide_type": "slide"
    }
   },
   "outputs": [],
   "source": [
    "class Fraction:\n",
    "    def __init__(self, top, bottom):\n",
    "        self.top = top\n",
    "        self.bottom = bottom\n",
    "\n",
    "    def __repr__(self):\n",
    "        return f\"{self.top}/{self.bottom}\"\n",
    "\n",
    "    def __add__(self, other):\n",
    "        new_top = self.top * other.bottom + \\\n",
    "                     self.bottom * other.top\n",
    "        new_bottom = self.bottom * other.bottom\n",
    "        common = gcd(new_top, new_bottom)\n",
    "        \n",
    "        return Fraction(new_top // common, new_bottom // common)\n",
    "\n",
    "    def __eq__(self, other):  # 분수 객체의 동등성\n",
    "        first_top = self.top * other.bottom\n",
    "        second_top = other.top * self.bottom\n",
    "\n",
    "        return first_top == second_top"
   ]
  },
  {
   "cell_type": "code",
   "execution_count": 28,
   "id": "8d1b64c3",
   "metadata": {
    "slideshow": {
     "slide_type": "slide"
    }
   },
   "outputs": [
    {
     "name": "stdout",
     "output_type": "stream",
     "text": [
      "동일성: False ,  동등성: True\n"
     ]
    }
   ],
   "source": [
    "f1 = Fraction(1, 2)\n",
    "f2 = Fraction(1, 2)\n",
    "print(\"동일성:\", f1 is f2, \", \", \"동등성:\", f1 == f2)"
   ]
  },
  {
   "cell_type": "markdown",
   "id": "a98c9f11",
   "metadata": {
    "slideshow": {
     "slide_type": "slide"
    }
   },
   "source": [
    "## 1.4. 인스턴스 메서드"
   ]
  },
  {
   "cell_type": "markdown",
   "id": "6a68a0ac",
   "metadata": {},
   "source": [
    "- 매직 메서드 이외에 클래스에 다른 기능을 제공하는 인스턴스 메서드 선언 가능"
   ]
  },
  {
   "cell_type": "markdown",
   "id": "5d2d5bfc",
   "metadata": {
    "slideshow": {
     "slide_type": "slide"
    }
   },
   "source": [
    "### 예제: 분모와 분자 추출"
   ]
  },
  {
   "cell_type": "code",
   "execution_count": 29,
   "id": "877832c0",
   "metadata": {
    "slideshow": {
     "slide_type": "slide"
    }
   },
   "outputs": [],
   "source": [
    "class Fraction:\n",
    "    def __init__(self, top, bottom):\n",
    "        self.top = top\n",
    "        self.bottom = bottom\n",
    "    def __repr__(self):\n",
    "        return f\"{self.top}/{self.bottom}\"\n",
    "    def __add__(self, other):\n",
    "        new_top = self.top * other.bottom + \\\n",
    "                     self.bottom * other.top\n",
    "        new_bottom = self.bottom * other.bottom\n",
    "        common = gcd(new_top, new_bottom)\n",
    "        return Fraction(new_top // common, new_bottom // common)\n",
    "    def __eq__(self, other):\n",
    "        first_top = self.top * other.bottom\n",
    "        second_top = other.top * self.bottom\n",
    "        return first_top == second_top\n",
    "    \n",
    "    def numerator(self):\n",
    "        return self.top     # 분자 반환\n",
    "    def denominator(self):\n",
    "        return self.bottom  # 분모 반환"
   ]
  },
  {
   "cell_type": "code",
   "execution_count": 30,
   "id": "c3fc23ac",
   "metadata": {
    "slideshow": {
     "slide_type": "slide"
    }
   },
   "outputs": [
    {
     "name": "stdout",
     "output_type": "stream",
     "text": [
      "분자: 2\n",
      "분모: 3\n"
     ]
    }
   ],
   "source": [
    "f3 = Fraction(2, 3)\n",
    "print(\"분자:\", f3.numerator())\n",
    "print(\"분모:\", f3.denominator())"
   ]
  },
  {
   "cell_type": "markdown",
   "id": "34f141bf",
   "metadata": {
    "slideshow": {
     "slide_type": "slide"
    }
   },
   "source": [
    "### 예제: 부동소수점으로의 변환"
   ]
  },
  {
   "cell_type": "markdown",
   "id": "1a725d47",
   "metadata": {},
   "source": [
    "- 분수를 부동소수점으로 변환"
   ]
  },
  {
   "cell_type": "code",
   "execution_count": 31,
   "id": "c8dfcc4b",
   "metadata": {
    "slideshow": {
     "slide_type": "slide"
    }
   },
   "outputs": [],
   "source": [
    "class Fraction:\n",
    "    def __init__(self, top, bottom):\n",
    "        self.top = top\n",
    "        self.bottom = bottom\n",
    "    def __repr__(self):\n",
    "        return f\"{self.top}/{self.bottom}\"\n",
    "    def __add__(self, other):\n",
    "        new_top = self.top * other.bottom + \\\n",
    "                     self.bottom * other.top\n",
    "        new_bottom = self.bottom * other.bottom\n",
    "        common = gcd(new_top, new_bottom)\n",
    "        return Fraction(new_top // common, new_bottom // common)\n",
    "    def __eq__(self, other):\n",
    "        first_top = self.top * other.bottom\n",
    "        second_top = other.top * self.bottom\n",
    "        return first_top == second_top\n",
    "    def numerator(self):\n",
    "        return self.top\n",
    "    def denominator(self):\n",
    "        return self.bottom\n",
    "    \n",
    "    def to_float(self):\n",
    "        return self.numerator() / self.denominator()"
   ]
  },
  {
   "cell_type": "code",
   "execution_count": 32,
   "id": "c2eb4868",
   "metadata": {
    "slideshow": {
     "slide_type": "slide"
    }
   },
   "outputs": [
    {
     "name": "stdout",
     "output_type": "stream",
     "text": [
      "0.6666666666666666\n"
     ]
    }
   ],
   "source": [
    "f3 = Fraction(2, 3)\n",
    "print(f3.to_float())"
   ]
  }
 ],
 "metadata": {
  "celltoolbar": "Slideshow",
  "kernelspec": {
   "display_name": "Python 3 (ipykernel)",
   "language": "python",
   "name": "python3"
  },
  "language_info": {
   "codemirror_mode": {
    "name": "ipython",
    "version": 3
   },
   "file_extension": ".py",
   "mimetype": "text/x-python",
   "name": "python",
   "nbconvert_exporter": "python",
   "pygments_lexer": "ipython3",
   "version": "3.12.2"
  }
 },
 "nbformat": 4,
 "nbformat_minor": 5
}
