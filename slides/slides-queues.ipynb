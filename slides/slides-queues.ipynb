{
 "cells": [
  {
   "cell_type": "markdown",
   "metadata": {
    "slideshow": {
     "slide_type": "slide"
    }
   },
   "source": [
    "# 큐(Queue)"
   ]
  },
  {
   "cell_type": "markdown",
   "metadata": {
    "slideshow": {
     "slide_type": "slide"
    }
   },
   "source": [
    "## 주요 내용"
   ]
  },
  {
   "cell_type": "markdown",
   "metadata": {
    "slideshow": {
     "slide_type": ""
    }
   },
   "source": [
    "- 선형 자료구조"
   ]
  },
  {
   "cell_type": "markdown",
   "metadata": {
    "slideshow": {
     "slide_type": ""
    }
   },
   "source": [
    "- 큐 자료구조"
   ]
  },
  {
   "cell_type": "markdown",
   "metadata": {
    "slideshow": {
     "slide_type": ""
    }
   },
   "source": [
    "- 큐 활용"
   ]
  },
  {
   "cell_type": "markdown",
   "metadata": {
    "slideshow": {
     "slide_type": "slide"
    }
   },
   "source": [
    "## 선형 자료구조"
   ]
  },
  {
   "cell_type": "markdown",
   "metadata": {},
   "source": [
    "- 선형 자료구조\n",
    "    - 여러 개의 항목을 일렬로 나열하여 저장\n",
    "    - 나열된 순서, 즉 저장된 위치가 중요"
   ]
  },
  {
   "cell_type": "markdown",
   "metadata": {},
   "source": [
    "- 항목의 추가/삭제 방식에 따라 작동\n",
    "\n",
    "    - 큐<font size='2'>queue</font>\n",
    "    - 스택<font size='2'>stack</font>\n",
    "    - 덱<font size='2'>deque</font>\n",
    "    - 연결 리스트<font size='2'>linked list</font>\n",
    "    - 정렬 리스트<font size='2'>sorted list</font>"
   ]
  },
  {
   "cell_type": "markdown",
   "metadata": {
    "slideshow": {
     "slide_type": "slide"
    }
   },
   "source": [
    "- 선형 자료구조의 양 끝을 부르는 이름\n",
    "    - 머리: 헤드(head), 탑(top), 프론트(front)\n",
    "    - 꼬리: 테일(tail), 바틈(bottom), 리어(rear)"
   ]
  },
  {
   "cell_type": "markdown",
   "metadata": {},
   "source": [
    "- 파이썬 제공\n",
    "\n",
    "    - 큐와 스택: [queue](https://docs.python.org/3/library/queue.html) 모듈의 `Queue` 클래스와 `LifoQueue` 클래스\n",
    "    - 덱: [collections](https://docs.python.org/3/library/collections.html#collections.deque) 모듈의 \n",
    "    `deque` 클래스"
   ]
  },
  {
   "cell_type": "markdown",
   "metadata": {
    "slideshow": {
     "slide_type": "slide"
    }
   },
   "source": [
    "## 큐의 정의"
   ]
  },
  {
   "cell_type": "markdown",
   "metadata": {},
   "source": [
    "- 먼저 들어온 항목이 먼저 나간다는 **선입선출**<font size='2'>first in, first out</font>(FIFO) 원리를 따름\n",
    "- 항목들의 추가와 삭제는 입력 순서에 따라 한쪽 방향으로 이동"
   ]
  },
  {
   "cell_type": "markdown",
   "metadata": {},
   "source": [
    "<figure>\n",
    "<div align=\"center\"><img src=\"https://runestone.academy/runestone/books/published/pythonds3/_images/basicqueue.png\" width=\"55%\"></div>\n",
    "</figure>"
   ]
  },
  {
   "cell_type": "markdown",
   "metadata": {
    "slideshow": {
     "slide_type": "slide"
    }
   },
   "source": [
    "### 큐의 활용"
   ]
  },
  {
   "cell_type": "markdown",
   "metadata": {},
   "source": [
    "- 은행 창구에서 번호표"
   ]
  },
  {
   "cell_type": "markdown",
   "metadata": {},
   "source": [
    "- 프린터는 인쇄 과제가 생성된 순서대로 출력"
   ]
  },
  {
   "cell_type": "markdown",
   "metadata": {},
   "source": [
    "- 키보드 타이핑 내용이 버퍼(buffer)와 같은 큐에 잠시 저장되어 있다가 순서대로 편집기에 표시됨."
   ]
  },
  {
   "cell_type": "markdown",
   "metadata": {},
   "source": [
    "- 컴퓨터 CPU가 사용자가 내린 명령문을 처리하는 것 또한 특정 형식의 큐를 이용"
   ]
  },
  {
   "cell_type": "markdown",
   "metadata": {
    "slideshow": {
     "slide_type": "slide"
    }
   },
   "source": [
    "### 예제: 버퍼 활용"
   ]
  },
  {
   "cell_type": "markdown",
   "metadata": {},
   "source": [
    "```python\n",
    ">>> help(print)\n",
    "Help on built-in function print in module builtins:\n",
    "\n",
    "print(*args, sep=' ', end='\\n', file=None, flush=False)\n",
    "    Prints the values to a stream, or to sys.stdout by default.\n",
    "\n",
    "    sep\n",
    "      string inserted between values, default a space.\n",
    "    end\n",
    "      string appended after the last value, default a newline.\n",
    "    file\n",
    "      a file-like object (stream); defaults to the current sys.stdout.\n",
    "    flush\n",
    "      whether to forcibly flush the stream.\n",
    "```"
   ]
  },
  {
   "cell_type": "markdown",
   "metadata": {
    "slideshow": {
     "slide_type": "slide"
    }
   },
   "source": [
    "- `end` 키워드와 `flush` 키워드 조합"
   ]
  },
  {
   "cell_type": "markdown",
   "metadata": {},
   "source": [
    "```python\n",
    "import time\n",
    "\n",
    "for i in range(10):\n",
    "    print(i, end=' ')\n",
    "    time.sleep(1)\n",
    "```"
   ]
  },
  {
   "cell_type": "markdown",
   "metadata": {},
   "source": [
    "<div align=\"center\"><img src=\"https://raw.githubusercontent.com/codingalzi/algopy/master/notebooks/_images/print_buffer_2.gif\" width=\"55%\"></div>"
   ]
  },
  {
   "cell_type": "markdown",
   "metadata": {
    "slideshow": {
     "slide_type": "slide"
    }
   },
   "source": [
    "- `flush=True`로 지정하면 다르게 작동함."
   ]
  },
  {
   "cell_type": "markdown",
   "metadata": {},
   "source": [
    "```python\n",
    "import time\n",
    "\n",
    "for i in range(10):\n",
    "    print(i, end=' ', flush=True)\n",
    "    time.sleep(1)\n",
    "```"
   ]
  },
  {
   "cell_type": "markdown",
   "metadata": {
    "slideshow": {
     "slide_type": "slide"
    }
   },
   "source": [
    "## `Queue` 추상 자료형"
   ]
  },
  {
   "cell_type": "markdown",
   "metadata": {},
   "source": [
    "-  `Queue(maxsize=0)`: 비어 있는 큐 생성. `maxsize`를 양의 정수로 지정하면 항목을 최대 그만큼 담을 수 있음. \n",
    "    아니면 제한 없음."
   ]
  },
  {
   "cell_type": "markdown",
   "metadata": {},
   "source": [
    "-  `put(item)`: maxsize가 양의 정수인 경우 최대 항목수를 초과 한 경우\n",
    "    먼저 머리(head, front)를 제거한 다음 새로운 항목을 꼬리(rear, tail)에 추가. 반환값 없음."
   ]
  },
  {
   "cell_type": "markdown",
   "metadata": {},
   "source": [
    "-  `get()`: 머리(head, front) 항목 삭제. 삭제된 항목 반환."
   ]
  },
  {
   "cell_type": "markdown",
   "metadata": {},
   "source": [
    "-  `empty()`: 큐가 비었는지 여부 판단. 부울값 반환."
   ]
  },
  {
   "cell_type": "markdown",
   "metadata": {},
   "source": [
    "-  `full()`: 큐가 꽉 차 있는지 여부 판단. 부울값 반환."
   ]
  },
  {
   "cell_type": "markdown",
   "metadata": {},
   "source": [
    "-  `qsize()`: 큐에 포함된 항목 개수 반환."
   ]
  },
  {
   "cell_type": "markdown",
   "metadata": {
    "slideshow": {
     "slide_type": "slide"
    }
   },
   "source": [
    "## 큐 자료구조 구현"
   ]
  },
  {
   "cell_type": "markdown",
   "metadata": {
    "slideshow": {
     "slide_type": ""
    }
   },
   "source": [
    "```python\n",
    "class Queue:\n",
    "    def __init__(self, maxsize=0):\n",
    "        self.maxsize = maxsize\n",
    "        self._items = []\n",
    "    def __repr__(self):\n",
    "        return f\"<<{self._items}>>\"\n",
    "    def empty(self):\n",
    "        return not bool(self._items)\n",
    "    def full(self):\n",
    "        if self.maxsize <= 0:\n",
    "            return False\n",
    "        elif self.qsize() == self.maxsize:\n",
    "            return True\n",
    "        else:\n",
    "            return False\n",
    "    def put(self, item):\n",
    "        if self.full() == True:\n",
    "            self.get()\n",
    "        self._items.insert(0, item)\n",
    "    def get(self):\n",
    "        return self._items.pop()\n",
    "\n",
    "    def qsize(self):\n",
    "        return len(self._items)\n",
    "```"
   ]
  },
  {
   "cell_type": "markdown",
   "metadata": {
    "slideshow": {
     "slide_type": "slide"
    }
   },
   "source": [
    "```python\n",
    ">>> q = Queue(maxsize=4)\n",
    "\n",
    ">>> print(q.empty())\n",
    "True\n",
    "\n",
    ">>> q.put(4)\n",
    "\n",
    ">>> q.put(\"dog\")\n",
    "\n",
    ">>> q.put(True)\n",
    "\n",
    ">>> print(q)\n",
    "<<[True, 'dog', 4]>>\n",
    "\n",
    ">>> print(q.full())\n",
    "False\n",
    "\n",
    ">>> print(q.qsize())\n",
    "3\n",
    "\n",
    ">>> print(q.empty())\n",
    "False\n",
    "```"
   ]
  },
  {
   "cell_type": "markdown",
   "metadata": {
    "slideshow": {
     "slide_type": "slide"
    }
   },
   "source": [
    "```python\n",
    ">>> q.put(8.4)\n",
    "\n",
    ">>> print(q.full())\n",
    "True\n",
    "\n",
    ">>> print(q)\n",
    "<<[8.4, True, 'dog', 4]>>\n",
    "\n",
    ">>> q.put(\"하나 더?\")\n",
    "\n",
    ">>> print(q)\n",
    "<<['하나 더?', 8.4, True, 'dog']>>\n",
    "\n",
    ">>> print(q.get())\n",
    "dog\n",
    "\n",
    ">>> print(q.get())\n",
    "True\n",
    "\n",
    ">>> print(q.qsize())\n",
    "2\n",
    "\n",
    ">>> print(q)\n",
    "<<['하나 더?', 8.4]>>\n",
    "```"
   ]
  },
  {
   "cell_type": "markdown",
   "metadata": {
    "slideshow": {
     "slide_type": "slide"
    }
   },
   "source": [
    "## 실전 예제 1: 폭탄 돌리기"
   ]
  },
  {
   "cell_type": "markdown",
   "metadata": {},
   "source": [
    "<figure>\n",
    "<div align=\"center\"><img src=\"https://runestone.academy/runestone/books/published/pythonds3/_images/hotpotato.png\" width=\"60%\"></div>\n",
    "</figure>"
   ]
  },
  {
   "cell_type": "markdown",
   "metadata": {
    "slideshow": {
     "slide_type": "slide"
    }
   },
   "source": [
    "### 게임 구현"
   ]
  },
  {
   "cell_type": "markdown",
   "metadata": {},
   "source": [
    "- 게임 시작: 사람들의 리스트(`name_list`)와 정수(`num`)\n",
    "- 폭탄 위치: 큐의 머리(리스트의 가장 오른편)에 있는 사람\n",
    "- 폭탄 전달: 머리 항목 삭제 후 바로 꼬리(리스트의 0번 인덱스 위치)에 추가\n",
    "- 탈락: `num`번의 폭탄 돌리기 이후 머리에 위치한 사람 탈락 \n",
    "- 게임 정지: 한 명이 남을 때까지 반복"
   ]
  },
  {
   "cell_type": "markdown",
   "metadata": {},
   "source": [
    "<figure>\n",
    "<div align=\"center\"><img src=\"https://runestone.academy/runestone/books/published/pythonds3/_images/namequeue.png\" width=\"70%\"></div>\n",
    "</figure>"
   ]
  },
  {
   "cell_type": "markdown",
   "metadata": {
    "slideshow": {
     "slide_type": "slide"
    }
   },
   "source": [
    "```python\n",
    "def hot_potato(name_list, num):\n",
    "\n",
    "    sim_queue = Queue()\n",
    "\n",
    "    for name in name_list:\n",
    "        sim_queue.put(name)\n",
    "\n",
    "    while sim_queue.qsize() > 1:\n",
    "        for i in range(num):\n",
    "            sim_queue.put(sim_queue.get())\n",
    "\n",
    "        sim_queue.get()\n",
    "\n",
    "    return sim_queue.get()\n",
    "```"
   ]
  },
  {
   "cell_type": "markdown",
   "metadata": {},
   "source": [
    "```python\n",
    ">>> print(hot_potato([\"형택\", \"진서\", \"은혜\", \"민규\", \"정은\", \"청용\"], 7))\n",
    "은혜\n",
    "```"
   ]
  },
  {
   "cell_type": "markdown",
   "metadata": {
    "slideshow": {
     "slide_type": "slide"
    }
   },
   "source": [
    "##  실전 예제 2: 프린터 인쇄 모의실험"
   ]
  },
  {
   "cell_type": "markdown",
   "metadata": {},
   "source": [
    "<figure>\n",
    "<div align=\"center\"><img src=\"https://runestone.academy/runestone/books/published/pythonds3/_images/simulationsetup.png\" width=\"70%\"></div>\n",
    "</figure>"
   ]
  },
  {
   "cell_type": "markdown",
   "metadata": {
    "slideshow": {
     "slide_type": "slide"
    }
   },
   "source": [
    "### 필요한 객체 확인"
   ]
  },
  {
   "cell_type": "markdown",
   "metadata": {
    "slideshow": {
     "slide_type": ""
    }
   },
   "source": [
    "- 프린터 객체: `Printer` 클래스의 인스턴스. 프린터의 기본 기능 제공\n",
    "    - 인쇄 속도: 분당 출력 쪽 수(ppm)\n",
    "    - 프린터 상태: busy 또는 대기\n",
    "    - 인쇄 과제 실행\n",
    "    - 인쇄 과제별 수행 시간 측정"
   ]
  },
  {
   "cell_type": "markdown",
   "metadata": {
    "slideshow": {
     "slide_type": ""
    }
   },
   "source": [
    "- 인쇄 과제 객체: `Task` 클래스의 인스턴스. 실행할 인쇄 과제 정보 저장\n",
    "    - 출력 쪽 수\n",
    "    - 인쇄 과제가 생성된 시간\n",
    "    - 인쇄까지 대기 시간: 생성부터 인쇄 시작까지의 대기 시간"
   ]
  },
  {
   "cell_type": "markdown",
   "metadata": {
    "slideshow": {
     "slide_type": ""
    }
   },
   "source": [
    "- 인쇄 큐 객체: `Queue` 클래스의 인스턴스\n",
    "    - 인쇄 과제 대기 목록"
   ]
  },
  {
   "cell_type": "markdown",
   "metadata": {
    "slideshow": {
     "slide_type": "slide"
    }
   },
   "source": [
    "### 180분의 1의 확률"
   ]
  },
  {
   "cell_type": "markdown",
   "metadata": {},
   "source": [
    "모의실험에 대한 추가 전제 사항이 있다.\n",
    "\n",
    "- 사람들이 무작위적으로 시간당 20건의 인쇄 명령 실행\n",
    "- 인쇄는 과제당 최대 20쪽까지 허용."
   ]
  },
  {
   "cell_type": "markdown",
   "metadata": {},
   "source": [
    "$$\n",
    "\\frac{20\\, 건}{1\\, 시간}\n",
    "\\, = \n",
    "\\frac {20\\, 건} {3600\\, 초}=\n",
    "\\frac {1\\, 건} {180\\, 초}\n",
    "$$"
   ]
  },
  {
   "cell_type": "markdown",
   "metadata": {},
   "source": [
    "```python\n",
    "def new_print_task():\n",
    "    return 180 == random.randrange(1, 181)\n",
    "```"
   ]
  },
  {
   "cell_type": "markdown",
   "metadata": {
    "slideshow": {
     "slide_type": "slide"
    }
   },
   "source": [
    "### `Printer` 클래스"
   ]
  },
  {
   "cell_type": "markdown",
   "metadata": {},
   "source": [
    "- 분당 출력 쪽 수\n",
    "- 다음 인쇄 과제 지정하기\n",
    "- 현재 실행 중인 인쇄 과제 확인\n",
    "- 수행중인 인쇄 과제의 남은 실행 시간동안 busy 상태 유지. 인쇄 과정을 간적접으로 묘사함."
   ]
  },
  {
   "cell_type": "markdown",
   "metadata": {
    "slideshow": {
     "slide_type": "slide"
    }
   },
   "source": [
    "```python\n",
    "class Printer:\n",
    "    def __init__(self, ppm):\n",
    "        self.page_rate = ppm                  \n",
    "        self.current_task = None              \n",
    "        self.time_remaining = 0               \n",
    "\n",
    "    def tick(self):\n",
    "        if self.current_task is not None:     \n",
    "            self.time_remaining = self.time_remaining - 1\n",
    "            if self.time_remaining <= 0:\n",
    "                self.current_task = None\n",
    "\n",
    "    def busy(self):                              \n",
    "        return self.current_task is not None\n",
    "\n",
    "    def start_next(self, new_task):              \n",
    "        self.current_task = new_task\n",
    "        self.time_remaining = new_task.get_pages() * 60 / self.page_rate \n",
    "```"
   ]
  },
  {
   "cell_type": "markdown",
   "metadata": {
    "slideshow": {
     "slide_type": "slide"
    }
   },
   "source": [
    "### `Task` 클래스"
   ]
  },
  {
   "cell_type": "markdown",
   "metadata": {},
   "source": [
    "- 인쇄 과제 생성 시간\n",
    "- 인쇄 대상 페이지 수: 1~20 사이의 무작위 수\n",
    "- 과제 생성 후 인쇄 시작까지 대기 시간"
   ]
  },
  {
   "cell_type": "markdown",
   "metadata": {},
   "source": [
    "```python\n",
    "import random\n",
    "\n",
    "class Task:\n",
    "    def __init__(self, time):\n",
    "        self.timestamp = time                   \n",
    "        self.pages = random.randrange(1, 21)    \n",
    "\n",
    "    def get_stamp(self):                        \n",
    "        return self.timestamp\n",
    "\n",
    "    def get_pages(self):                        \n",
    "        return self.pages\n",
    "\n",
    "    def waiting_time(self, current_time):       \n",
    "        return current_time - self.timestamp\n",
    "```"
   ]
  },
  {
   "cell_type": "markdown",
   "metadata": {
    "slideshow": {
     "slide_type": "slide"
    }
   },
   "source": [
    "### 모의실험 내용"
   ]
  },
  {
   "cell_type": "markdown",
   "metadata": {
    "slideshow": {
     "slide_type": ""
    }
   },
   "source": [
    "1. 초당 180분의 1의 확률로 인쇄 과제 생성\n",
    "    - 생성된 시간 저장. \n",
    "        나중에 프린터가 실행될 때의 시간을 확인하여 대기시간을 측정할 수 있도록 함.\n",
    "    - 인쇄 과제 생성 후 바로 인쇄 과제 큐에 추가"
   ]
  },
  {
   "cell_type": "markdown",
   "metadata": {
    "slideshow": {
     "slide_type": ""
    }
   },
   "source": [
    "2. 프린터가 대기 상태이고 인쇄 과제 큐에 과제가 남아 있으면 아래 과제 수행\n",
    "    - 인쇄 과제 큐의 헤드를 삭제하고 수행할 과제로 지정\n",
    "    - 해당 과제의 대기 시간을 계산(현재 시간과 과제 생성시간의 차이)한 후에\n",
    "        모든 과제의 대기 기간 리스트에 추가\n",
    "    - 인쇄 과제의 인쇄 쪽 수를 확인한 후에 인쇄에 필요한 시간 계산.\n",
    "        해당 시간 동안 프린터 상태가 `busy`로 표시되어 다음 인쇄 과제들은 큐에서 기다리게 됨.\n",
    "    - 해당 인쇄 과제가 완수되면 대기 상태로 전환됨."
   ]
  },
  {
   "cell_type": "markdown",
   "metadata": {
    "slideshow": {
     "slide_type": "slide"
    }
   },
   "source": [
    "### 모의실험 구현"
   ]
  },
  {
   "cell_type": "markdown",
   "metadata": {},
   "source": [
    "- `simulation()` 함수: 지정된 시간동안 인쇄 작업을 수행할 때 인쇄 과제당 평균 대기 시간 계산\n",
    "\n",
    "    - `num_seconds`: 프린터 작동 시간\n",
    "    - `pages_per_minutes`: 분당 출력 페이지 수\n",
    "\n",
    "- 가정: `for` 반복문이 초당 1회 실행\n",
    "    - `new_print_task()`\n",
    "    - `tick()`"
   ]
  },
  {
   "cell_type": "markdown",
   "metadata": {
    "slideshow": {
     "slide_type": "slide"
    }
   },
   "source": [
    "```python\n",
    "def simulation(num_seconds, pages_per_minute):\n",
    "    lab_printer = Printer(pages_per_minute)\n",
    "    print_queue = Queue()                  \n",
    "    waiting_times = []                     \n",
    "\n",
    "    for current_second in range(num_seconds):\n",
    "        if new_print_task():\n",
    "            task = Task(current_second)\n",
    "            print_queue.put(task)\n",
    "        if (not lab_printer.busy()) and (not print_queue.empty()): \n",
    "            nexttask = print_queue.get()\n",
    "            waiting_times.append(nexttask.waiting_time(current_second))\n",
    "            lab_printer.start_next(nexttask)\n",
    "        lab_printer.tick()\n",
    "    average_wait = sum(waiting_times) / len(waiting_times)\n",
    "\n",
    "    return average_wait\n",
    "```"
   ]
  },
  {
   "cell_type": "markdown",
   "metadata": {
    "slideshow": {
     "slide_type": "slide"
    }
   },
   "source": [
    "### 모의 실험 1"
   ]
  },
  {
   "cell_type": "markdown",
   "metadata": {},
   "source": [
    "- 프린터 성능과 실행시간\n",
    "    - 분당 출력 페이지 수: 5장\n",
    "    - 프린터를 실행 시간: 1시간\n",
    "- 모의실험 수행 횟수: 100번"
   ]
  },
  {
   "cell_type": "markdown",
   "metadata": {},
   "source": [
    "```python\n",
    ">>> import numpy as np\n",
    ">>> average_wait_list = []\n",
    ">>> for i in range(100):\n",
    "...     average_wait_list.append(simulation(3600, 5))\n",
    ">>> print(f\"평균 대기시간: {np.mean(average_wait_list):6.2f} 초\")\n",
    "평균 대기시간: 123.28 초\n",
    "```"
   ]
  },
  {
   "cell_type": "markdown",
   "metadata": {
    "slideshow": {
     "slide_type": "slide"
    }
   },
   "source": [
    "### 모의 실험 2"
   ]
  },
  {
   "cell_type": "markdown",
   "metadata": {},
   "source": [
    "- 분당 출력 페이지수: 10장"
   ]
  },
  {
   "cell_type": "markdown",
   "metadata": {},
   "source": [
    "```python\n",
    ">>> import numpy as np\n",
    ">>> average_wait_list = []\n",
    ">>> for i in range(100):\n",
    "...     average_wait_list.append(simulation(3600, 10))\n",
    ">>> print(f\"평균 대기시간: {np.mean(average_wait_list):6.2f} 초\")\n",
    "평균 대기시간: 19.40 초\n",
    "```"
   ]
  }
 ],
 "metadata": {
  "celltoolbar": "Slideshow",
  "kernelspec": {
   "display_name": "Python 3 (ipykernel)",
   "language": "python",
   "name": "python3"
  },
  "language_info": {
   "codemirror_mode": {
    "name": "ipython",
    "version": 3
   },
   "file_extension": ".py",
   "mimetype": "text/x-python",
   "name": "python",
   "nbconvert_exporter": "python",
   "pygments_lexer": "ipython3",
   "version": "3.11.4"
  },
  "vscode": {
   "interpreter": {
    "hash": "6c86b3592b6800d985c04531f2c445f0fa6967131b8dd6395a925f7622e55602"
   }
  }
 },
 "nbformat": 4,
 "nbformat_minor": 4
}
