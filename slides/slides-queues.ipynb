{
 "cells": [
  {
   "cell_type": "markdown",
   "metadata": {
    "slideshow": {
     "slide_type": "slide"
    }
   },
   "source": [
    "# 큐<font size='2'>Queue</font>"
   ]
  },
  {
   "cell_type": "markdown",
   "metadata": {
    "slideshow": {
     "slide_type": "slide"
    }
   },
   "source": [
    "## 주요 내용"
   ]
  },
  {
   "cell_type": "markdown",
   "metadata": {},
   "source": [
    "- 큐 추상 자료형"
   ]
  },
  {
   "cell_type": "markdown",
   "metadata": {
    "slideshow": {
     "slide_type": ""
    }
   },
   "source": [
    "- 큐 자료구조"
   ]
  },
  {
   "cell_type": "markdown",
   "metadata": {
    "slideshow": {
     "slide_type": ""
    }
   },
   "source": [
    "- 큐 활용"
   ]
  },
  {
   "cell_type": "markdown",
   "metadata": {
    "slideshow": {
     "slide_type": "slide"
    }
   },
   "source": [
    "## 큐의 정의"
   ]
  },
  {
   "cell_type": "markdown",
   "metadata": {},
   "source": [
    "- 큐<font size='2'>queue</font>: 항목 추가는 꼬리에서, 항목 삭제는 머리에서 이루어지는 선형 자료형\n",
    "- 먼저 들어온 항목이 먼저 나간다는 **선입선출**<font size='2'>first in, first out</font>(FIFO) 원리를 따름\n",
    "- 항목의 삭제가 추가된 순서대로 진행"
   ]
  },
  {
   "cell_type": "markdown",
   "metadata": {},
   "source": [
    "<p><div align=\"center\"><img src=\"https://raw.githubusercontent.com/codingalzi/algopy/master/jupyter-book/imgs/fifo.png\" width=\"50%\"></div></p>"
   ]
  },
  {
   "cell_type": "markdown",
   "metadata": {
    "slideshow": {
     "slide_type": "slide"
    }
   },
   "source": [
    "### 큐 활용 예제"
   ]
  },
  {
   "cell_type": "markdown",
   "metadata": {},
   "source": [
    "- 은행: 대기 순서에 따른 번호표 배분"
   ]
  },
  {
   "cell_type": "markdown",
   "metadata": {},
   "source": [
    "- 프린터: 순서에 따른 서류 인쇄"
   ]
  },
  {
   "cell_type": "markdown",
   "metadata": {},
   "source": [
    "- 키보드 입력: 키보드 입력값을 버퍼<font size='2'>buffer</font>에 잠시 저장한 다음에 처리 입력 순서대로 처리"
   ]
  },
  {
   "cell_type": "markdown",
   "metadata": {},
   "source": [
    "- 컴퓨터 CPU: 사용자 명령을 순차적으로 처리"
   ]
  },
  {
   "cell_type": "markdown",
   "metadata": {
    "slideshow": {
     "slide_type": "slide"
    }
   },
   "source": [
    "## `Queue` 추상 자료형"
   ]
  },
  {
   "cell_type": "markdown",
   "metadata": {},
   "source": [
    "-  `Queue(maxsize=0)`: 비어 있는 큐 생성. \n",
    "    `maxsize`를 최대로 많이 담을 수 있는 항목의 수. 0인 경우엔 항목 수 제한 없음."
   ]
  },
  {
   "cell_type": "markdown",
   "metadata": {},
   "source": [
    "-  `put(item)`: `maxsize`가 초과되지 않을 때 꼬리에 항목 추가"
   ]
  },
  {
   "cell_type": "markdown",
   "metadata": {},
   "source": [
    "-  `get()`: 머리 항목 삭제. 삭제된 항목 반환."
   ]
  },
  {
   "cell_type": "markdown",
   "metadata": {},
   "source": [
    "-  `empty()`: 큐가 비었는지 여부 판단. 부울값 반환."
   ]
  },
  {
   "cell_type": "markdown",
   "metadata": {},
   "source": [
    "-  `full()`: 큐가 꽉 차 있는지 여부 판단. 부울값 반환."
   ]
  },
  {
   "cell_type": "markdown",
   "metadata": {},
   "source": [
    "-  `qsize()`: 큐에 포함된 항목 개수 반환."
   ]
  },
  {
   "cell_type": "markdown",
   "metadata": {
    "slideshow": {
     "slide_type": "slide"
    }
   },
   "source": [
    "### Queue 추상 클래스"
   ]
  },
  {
   "cell_type": "code",
   "execution_count": 1,
   "metadata": {},
   "outputs": [],
   "source": [
    "class Queue:\n",
    "    def __init__(self, maxsize=0):\n",
    "        raise NotImplementedError\n",
    "    \n",
    "    def qsize(self):\n",
    "        raise NotImplementedError\n",
    "    \n",
    "    def empty(self):\n",
    "        raise NotImplementedError\n",
    "\n",
    "    def full(self):\n",
    "        raise NotImplementedError\n",
    "\n",
    "    def put(self, item):\n",
    "        raise NotImplementedError\n",
    "\n",
    "    def get(self):\n",
    "        raise NotImplementedError"
   ]
  },
  {
   "cell_type": "markdown",
   "metadata": {
    "slideshow": {
     "slide_type": "slide"
    }
   },
   "source": [
    "## 큐 자료구조 구현"
   ]
  },
  {
   "cell_type": "markdown",
   "metadata": {
    "slideshow": {
     "slide_type": "slide"
    }
   },
   "source": [
    "### `collections.deque` 활용"
   ]
  },
  {
   "cell_type": "markdown",
   "metadata": {},
   "source": [
    "- 꼬리에서의 항목 추가와 삭제를 빠르게 실행"
   ]
  },
  {
   "cell_type": "code",
   "execution_count": 2,
   "metadata": {
    "slideshow": {
     "slide_type": ""
    }
   },
   "outputs": [],
   "source": [
    "from collections import deque"
   ]
  },
  {
   "cell_type": "code",
   "execution_count": 3,
   "metadata": {
    "slideshow": {
     "slide_type": "slide"
    }
   },
   "outputs": [],
   "source": [
    "class myQueue(Queue):\n",
    "    def __init__(self, maxsize=0):\n",
    "        self._maxsize = maxsize\n",
    "        self._container = deque([])\n",
    "    \n",
    "    def __repr__(self):\n",
    "        return repr(self._container).replace(\"deque\", 'myQueue')\n",
    "    \n",
    "    def qsize(self):\n",
    "        return len(self._container)\n",
    "    \n",
    "    def empty(self):\n",
    "        return not self._container\n",
    "\n",
    "    def full(self):\n",
    "        if self._maxsize <= 0:\n",
    "            return False\n",
    "        elif self.qsize() < self._maxsize:\n",
    "            return False\n",
    "        else:\n",
    "            return True            \n",
    "\n",
    "    def put(self, item):\n",
    "        if not self.full():\n",
    "            self._container.appendleft(item)\n",
    "        else:\n",
    "            print(\"추가되지 않아요!\")\n",
    "\n",
    "    def get(self):\n",
    "        return self._container.pop()"
   ]
  },
  {
   "cell_type": "code",
   "execution_count": 12,
   "metadata": {
    "slideshow": {
     "slide_type": "slide"
    }
   },
   "outputs": [
    {
     "name": "stdout",
     "output_type": "stream",
     "text": [
      "myQueue([True, 'dog', 4])\n",
      "True\n",
      "myQueue([8.4, True, 'dog', 4])\n",
      "추가되지 않아요!\n",
      "myQueue([8.4, True, 'dog', 4])\n",
      "4\n",
      "dog\n",
      "2\n",
      "myQueue([8.4, True])\n",
      "False\n"
     ]
    }
   ],
   "source": [
    "q = myQueue(maxsize=4)\n",
    "\n",
    "q.put(4)\n",
    "q.put(\"dog\")\n",
    "q.put(True)\n",
    "print(q)\n",
    "q.put(8.4)\n",
    "print(q.full())\n",
    "print(q)\n",
    "q.put(\"하나 더?\")\n",
    "print(q)\n",
    "print(q.get())\n",
    "print(q.get())\n",
    "print(q.qsize())\n",
    "print(q)\n",
    "print(q.empty())"
   ]
  },
  {
   "cell_type": "markdown",
   "metadata": {
    "slideshow": {
     "slide_type": "slide"
    }
   },
   "source": [
    "## `queue.Queue` 클래스"
   ]
  },
  {
   "cell_type": "markdown",
   "metadata": {},
   "source": [
    "- 파이썬 `queue` 모듈이 큐 추상 자료형을 자료구조로 구현한 `Queue` 클래스 지원\n",
    "- `collections.deque`를 이용하여 정의한 `myQueue`가 항목의 추가와 삭제를 4, 5배 정도 빠르게 실행"
   ]
  },
  {
   "cell_type": "markdown",
   "metadata": {
    "slideshow": {
     "slide_type": "slide"
    }
   },
   "source": [
    "### `put()` 메서드 비교"
   ]
  },
  {
   "cell_type": "code",
   "execution_count": 5,
   "metadata": {},
   "outputs": [
    {
     "name": "stdout",
     "output_type": "stream",
     "text": [
      "CPU times: user 10.5 ms, sys: 0 ns, total: 10.5 ms\n",
      "Wall time: 10.4 ms\n"
     ]
    }
   ],
   "source": [
    "%%time\n",
    "\n",
    "n = 100_000\n",
    "q1 = myQueue(maxsize=0)\n",
    "\n",
    "for k in range(n):\n",
    "    q1.put(k)"
   ]
  },
  {
   "cell_type": "code",
   "execution_count": 6,
   "metadata": {},
   "outputs": [],
   "source": [
    "import queue"
   ]
  },
  {
   "cell_type": "code",
   "execution_count": 7,
   "metadata": {},
   "outputs": [
    {
     "name": "stdout",
     "output_type": "stream",
     "text": [
      "CPU times: user 52.5 ms, sys: 0 ns, total: 52.5 ms\n",
      "Wall time: 52.4 ms\n"
     ]
    }
   ],
   "source": [
    "%%time\n",
    "\n",
    "n = 100_000\n",
    "q2 = queue.Queue(maxsize=0)\n",
    "\n",
    "for k in range(n):\n",
    "    q2.put(k)"
   ]
  },
  {
   "cell_type": "markdown",
   "metadata": {
    "slideshow": {
     "slide_type": "slide"
    }
   },
   "source": [
    "### `get()` 메서드 비교"
   ]
  },
  {
   "cell_type": "code",
   "execution_count": 8,
   "metadata": {
    "slideshow": {
     "slide_type": ""
    }
   },
   "outputs": [
    {
     "name": "stdout",
     "output_type": "stream",
     "text": [
      "CPU times: user 7.23 ms, sys: 0 ns, total: 7.23 ms\n",
      "Wall time: 7.33 ms\n"
     ]
    }
   ],
   "source": [
    "%%time\n",
    "\n",
    "for k in range(n):\n",
    "    q1.get()"
   ]
  },
  {
   "cell_type": "code",
   "execution_count": 9,
   "metadata": {},
   "outputs": [
    {
     "name": "stdout",
     "output_type": "stream",
     "text": [
      "CPU times: user 53.5 ms, sys: 0 ns, total: 53.5 ms\n",
      "Wall time: 53.3 ms\n"
     ]
    }
   ],
   "source": [
    "%%time\n",
    "\n",
    "for k in range(n):\n",
    "    q2.get()"
   ]
  },
  {
   "cell_type": "markdown",
   "metadata": {
    "slideshow": {
     "slide_type": "slide"
    }
   },
   "source": [
    "## 큐 활용: 폭탄 돌리기 게임"
   ]
  },
  {
   "cell_type": "markdown",
   "metadata": {},
   "source": [
    "<figure>\n",
    "<div align=\"center\"><img src=\"https://raw.githubusercontent.com/codingalzi/algopy/master/jupyter-book/imgs/hotpotato.png\" width=\"50%\"></div>\n",
    "</figure>"
   ]
  },
  {
   "cell_type": "markdown",
   "metadata": {
    "slideshow": {
     "slide_type": "slide"
    }
   },
   "source": [
    "### 게임 구현"
   ]
  },
  {
   "cell_type": "markdown",
   "metadata": {},
   "source": [
    "- 게임 시작: 참여자들의 수 `player`와 폭탄 돌리기 횟수 `count`\n",
    "- 폭탄 시작 위치: 큐의 머리\n",
    "- 폭탄 전달: 머리 항목 삭제 후 바로 꼬리에 추가\n",
    "- 탈락: `cout`번의 폭탄 돌리기 이후 머리에 위치한 사람 탈락 \n",
    "- 게임 정지: 한 명이 남을 때까지 반복"
   ]
  },
  {
   "cell_type": "markdown",
   "metadata": {},
   "source": [
    "<figure>\n",
    "<div align=\"center\"><img src=\"https://raw.githubusercontent.com/codingalzi/algopy/master/jupyter-book/imgs/namequeue.png\" width=\"70%\"></div>\n",
    "</figure>"
   ]
  },
  {
   "cell_type": "code",
   "execution_count": 10,
   "metadata": {
    "slideshow": {
     "slide_type": "slide"
    }
   },
   "outputs": [],
   "source": [
    "def bombing(player, count):\n",
    "\n",
    "    player_queue = myQueue()\n",
    "    \n",
    "    for p in range(1, player+1):\n",
    "        player_queue.put(p)\n",
    "\n",
    "    while player_queue.qsize() > 1:\n",
    "        for i in range(count):\n",
    "            player_queue.put(player_queue.get())\n",
    "\n",
    "        player_queue.get()\n",
    "\n",
    "    return player_queue.get()"
   ]
  },
  {
   "cell_type": "code",
   "execution_count": 11,
   "metadata": {},
   "outputs": [
    {
     "name": "stdout",
     "output_type": "stream",
     "text": [
      "4\n"
     ]
    }
   ],
   "source": [
    "print(bombing(6, 5))"
   ]
  }
 ],
 "metadata": {
  "celltoolbar": "Slideshow",
  "kernelspec": {
   "display_name": "Python 3 (ipykernel)",
   "language": "python",
   "name": "python3"
  },
  "language_info": {
   "codemirror_mode": {
    "name": "ipython",
    "version": 3
   },
   "file_extension": ".py",
   "mimetype": "text/x-python",
   "name": "python",
   "nbconvert_exporter": "python",
   "pygments_lexer": "ipython3",
   "version": "3.12.2"
  },
  "vscode": {
   "interpreter": {
    "hash": "6c86b3592b6800d985c04531f2c445f0fa6967131b8dd6395a925f7622e55602"
   }
  }
 },
 "nbformat": 4,
 "nbformat_minor": 4
}
