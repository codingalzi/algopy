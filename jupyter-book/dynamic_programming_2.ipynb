{
 "cells": [
  {
   "cell_type": "markdown",
   "metadata": {},
   "source": [
    "# 플로이드-워셜 알고리즘"
   ]
  },
  {
   "cell_type": "markdown",
   "metadata": {},
   "source": [
    "**소스코드**\n",
    "\n",
    "아래 내용을 \n",
    "[(구글 코랩) 플로이드-워셜 알고리즘](https://colab.research.google.com/github/codingalzi/algopy/blob/master/jupyter-book/dynamic_programming_2.ipynb)에서 \n",
    "직접 실행할 수 있다."
   ]
  },
  {
   "cell_type": "markdown",
   "metadata": {},
   "source": [
    "**주요 내용**\n",
    "\n",
    "- 방향 그래프\n",
    "- 최단 경로 문제\n",
    "- 플로이드-워셜 알고리즘\n",
    "- 최적의 원칙"
   ]
  },
  {
   "cell_type": "markdown",
   "metadata": {
    "slideshow": {
     "slide_type": "slide"
    }
   },
   "source": [
    "## 그래프 용어"
   ]
  },
  {
   "cell_type": "markdown",
   "metadata": {
    "slideshow": {
     "slide_type": ""
    }
   },
   "source": [
    "그래프 관련 용어를 익혀두어야 한다.\n",
    "\n",
    "* 마디, 정점(vertex, node)\n",
    "* 이음선, 에지(edge, arc)\n",
    "* 방향 그래프(directed graph): 이음선에 방향이 포함된 그래프\n",
    "* 가중치(weight)\n",
    "* 가중치 포함 그래프(weighted graph)\n",
    "* 경로(path): 이음선으로 연결된 마디들의 나열. 즉, 하나의 마디에서 다른 마디로 가는 이음선의 연결.\n",
    "* 단순경로(simple path): 같은 마디를 두 번 지나지 않는 경로\n",
    "* 순환(cycle): 하나의 마디에서 출발하여 다시 그 마디로 돌아오는 경로\n",
    "* 순환 그래프(cyclic graph): 순환을 갖는 그래프\n",
    "* 비순환 그래프 (acyclic graph): 순환을 갖지 않는 그래프\n",
    "* 경로의 길이(length): \n",
    "    * 가중치 포함 그래프의 경우: 경로 상에 있는 가중치의 합\n",
    "    * 가중치 없는 그래프의 경우: 경로 상에 있는 이음선의 수"
   ]
  },
  {
   "cell_type": "markdown",
   "metadata": {
    "slideshow": {
     "slide_type": ""
    }
   },
   "source": [
    "**예제: 가중치 포함 방향그래프**\n",
    "\n",
    "<div align=\"center\"><img src=\"https://raw.githubusercontent.com/CodingRG-HKNU/FoundationsOfAlgorithms/master/slides/images/algo03/algo03-03.png\" width=\"350\"/></div>"
   ]
  },
  {
   "cell_type": "markdown",
   "metadata": {
    "slideshow": {
     "slide_type": "slide"
    }
   },
   "source": [
    "## 최단 경로 문제"
   ]
  },
  {
   "cell_type": "markdown",
   "metadata": {
    "slideshow": {
     "slide_type": "slide"
    }
   },
   "source": [
    "임의의 마디에서 다른 임의의 마디로 가는 최단 경로를 구하는 문제이다. \n",
    "이때 이음선의 가중치와 방향을 함께 고려한다. \n",
    "최단 경로는 순환을 포함하지 않는 단순 경로만 대상으로 한다."
   ]
  },
  {
   "cell_type": "markdown",
   "metadata": {
    "slideshow": {
     "slide_type": "slide"
    }
   },
   "source": [
    "**응용 사례**\n",
    "\n",
    "* 도시 간의 최단경로\n",
    "* 다구간 비행기표 여정\n",
    "* 지도앱에서 경유 추가"
   ]
  },
  {
   "cell_type": "markdown",
   "metadata": {},
   "source": [
    "그래프에서 $v_1$에서 $v_3$로 가는 단순경로와 경로 길이는 다음 세 종류이다.\n",
    "\n",
    "* $[v_1, v_2, v_3]$: 경로 길이는 $1 + 3 = 4$.\n",
    "* $[v_1, v_4, v_3]$: 경로 길이는 $1 + 2 = 3$.\n",
    "* $[v_1, v_2, v_4, v_3]$: 경로 길이는 $1 + 2 + 2 = 5$.\n",
    "\n",
    "이중에 $[v_1, v_4, v_3]$가 $v_1$에서 $v_3$로 가는 최단 경로이다."
   ]
  },
  {
   "cell_type": "markdown",
   "metadata": {},
   "source": [
    "**완전 탐색**"
   ]
  },
  {
   "cell_type": "markdown",
   "metadata": {},
   "source": [
    "완전 탐색(brute force) 알고리즘은\n",
    "두 마디 사이의 가능한 모든 경로의 길이를 계산한 후 그 중에 최단 경로를 선택한다.\n",
    "하지만 이 알고리즘은 지수보다 나쁜 시간복잡도를 가진다."
   ]
  },
  {
   "cell_type": "markdown",
   "metadata": {},
   "source": [
    "* 가정: \n",
    "    * $n$ 개의 마디: $v_1, v_2, ..., v_n$\n",
    "    * 모든 마디들 사이에 이음선 존재\n",
    "* $v_1$에서 $v_n$으로 가는 경로 중 나머지 모든 마디를 한 번씩 꼭 거쳐서 가는 경로들의 수는?\n",
    "    * $v_1$ 에서 출발하여 처음에 도착할 수 있는 마디의 가지 수는 $(n-2)$ 개\n",
    "    * 그 중에 하나를 선택하면, 그 다음에 도착할 수 있는 마디의 가지 수는 $(n-3)$개\n",
    "    * ...\n",
    "    * 따라서 총 경로의 개수는 다음과 같음:\n",
    "\n",
    "        $$(n-2)\\times(n-3)\\times\\cdots\\times 1= (n-2)!$$"
   ]
  },
  {
   "cell_type": "markdown",
   "metadata": {
    "slideshow": {
     "slide_type": "slide"
    }
   },
   "source": [
    "**동적계획법 적용**"
   ]
  },
  {
   "cell_type": "markdown",
   "metadata": {},
   "source": [
    "두 마디 사이의 최단경로를 동적계획법으로 계산하기 위해\n",
    "주어진 방향그래프의 **인접행렬**(adjacent matrix)을\n",
    "동적계획법 기법으로 업데이트하여 두 마디 사이의 최단 경로를 계산한다. "
   ]
  },
  {
   "cell_type": "markdown",
   "metadata": {
    "slideshow": {
     "slide_type": "slide"
    }
   },
   "source": [
    "**그래프의 인접행렬**"
   ]
  },
  {
   "cell_type": "markdown",
   "metadata": {
    "slideshow": {
     "slide_type": ""
    }
   },
   "source": [
    "그래프의 인접행렬은 마디와 마디를 잇는 이음선과 가중치의 정보를 표현하는 2차원 행렬이며\n",
    "다음과 같이 정의되는 $n\\times n$ 행렬 $W$로 표현된다.\n",
    "\n",
    "$$\n",
    "W[i][j] = \n",
    "\\begin{cases}\n",
    "\\text{이음선 가중치} & \\quad\\text{$v_i$ 에서 $v_j$ 로의 이음선이 존재하는 경우} \\\\\n",
    "\\infty & \\quad\\text{$v_i$ 에서 $v_j$ 로의 이음선이 존재하지 않는 경우} \\\\\n",
    "0 & \\quad \\text{$i = j$ 인 경우}\n",
    "\\end{cases}\n",
    "$$\n",
    "\n",
    "위 예제 그래프의 인접행렬은 다음과 같다."
   ]
  },
  {
   "cell_type": "code",
   "execution_count": 1,
   "metadata": {},
   "outputs": [],
   "source": [
    "# 무한에 해당하는 기호 사용\n",
    "from math import inf\n",
    "\n",
    "# inf 는 두 마디 사이에 이음선이 없음을 의미함.\n",
    "W = [[0, 1, inf, 1, 5],\n",
    "     [9, 0, 3, 2, inf],\n",
    "     [inf, inf, 0, 4, inf],\n",
    "     [inf, inf, 2, 0, 3],\n",
    "     [3, inf, inf, inf, 0]]"
   ]
  },
  {
   "cell_type": "markdown",
   "metadata": {
    "slideshow": {
     "slide_type": "slide"
    }
   },
   "source": [
    "**최단경로길이 행렬**"
   ]
  },
  {
   "cell_type": "markdown",
   "metadata": {},
   "source": [
    "반면에 각 마디들 사이의 최단경로의 길이를 담은 2차원 행렬 $D$는 다음과 같다."
   ]
  },
  {
   "cell_type": "code",
   "execution_count": 2,
   "metadata": {},
   "outputs": [],
   "source": [
    "D = [[0, 1, 3, 1, 4],\n",
    "    [8, 0, 3, 2, 5],\n",
    "    [10, 11, 0, 4, 7],\n",
    "    [6, 7, 2, 0, 3],\n",
    "    [3, 4, 6, 4, 0]]"
   ]
  },
  {
   "cell_type": "markdown",
   "metadata": {
    "slideshow": {
     "slide_type": "slide"
    }
   },
   "source": [
    "**최단경로 길이행렬 구하기**"
   ]
  },
  {
   "cell_type": "markdown",
   "metadata": {},
   "source": [
    "이제 남은 과제는 \"어떻게 $W$에서 $D$를 구할 것인가?\" 이다. "
   ]
  },
  {
   "cell_type": "markdown",
   "metadata": {
    "slideshow": {
     "slide_type": ""
    }
   },
   "source": [
    "<div align=\"center\"><img src=\"https://raw.githubusercontent.com/CodingRG-HKNU/FoundationsOfAlgorithms/master/slides/images/algo03/algo03-06.png\" width=\"600\"/></div>"
   ]
  },
  {
   "cell_type": "markdown",
   "metadata": {
    "slideshow": {
     "slide_type": "slide"
    }
   },
   "source": [
    "**동적계획법 전략**"
   ]
  },
  {
   "cell_type": "markdown",
   "metadata": {
    "slideshow": {
     "slide_type": "slide"
    }
   },
   "source": [
    "마디 $v_i$에서 마디 $v_j$로 가는 최단 경로를 계산하기 위해\n",
    "중간에 지나쳐야 하는 중간지점을 확대해 나가면서 최단경로를 업데이트하는 전략을 사용한다. \n",
    "이를 위해 $k$를 $0$부터 $n$까지 변하게 하면서 아래 조건에 맞는 행렬 $D^{(k)}$를\n",
    "동적계획법으로 생성한다. \n",
    "\n",
    "$$\n",
    "\\begin{align*}\n",
    "D^{(k)}[i][j] &= \\text{집합 $\\{v_1, v_2, \\dots, v_k\\}$ 에 속하는 마디만을 통해서} \\\\\n",
    "& \\,\\,\\quad\\,\\text{$v_i$ 에서 $v_j$ 로 가는 최단경로의 길이}\n",
    "\\end{align*}\n",
    "$$\n",
    "\n",
    "즉, $i$번째 행, $j$번째 열에 위치한 값은 $v_i$ 에서 $v_j$ 로 가는 최단경로의 길이이다.\n",
    "단, 해당 경로는 $v_1, v_2, \\dots, v_k$만 경유할 수 있다.\n",
    "이제 다음이 성립한다.\n",
    "\n",
    "$$\n",
    "\\begin{align*}\n",
    "D^{(0)} &= W \\\\\n",
    "D^{(n)} &= D\n",
    "\\end{align*}\n",
    "$$\n",
    "\n",
    "남은 과제는 $D^{(k-1)}$ 로부터 $D^{(k)}$를 \n",
    "아래 관계가 만족되도록 생성하는 것이다. \n",
    "\n",
    "$$\n",
    "D^{(0)} \\longrightarrow D^{(1)}\\longrightarrow D^{(2)}\n",
    "\\longrightarrow \\cdots \\longrightarrow D^{(n-1)}\\longrightarrow D^{(n)}\n",
    "$$"
   ]
  },
  {
   "cell_type": "markdown",
   "metadata": {
    "slideshow": {
     "slide_type": "slide"
    }
   },
   "source": [
    "**예제: $D^{(k)}[2][5]$ 계산하기**\n",
    "\n",
    "* $D^{(0)}[2][5] = W[2][5] = \\infty$ \n",
    "\n",
    "* $D^{(1)}[2][5] = \\min (D^{(0)}[2][5], d^{(1)}) = \\min(\\infty, 14) = 14$\n",
    "    - $d^{(1)}$은 $v_1$를 거치는 최단경로 길이: $d^{(1)} = \\text{len}([v_2, v_1, v_5]) = 14$\n",
    "\n",
    "* $D^{(2)}[2][5] = D^{(1)}[2][5] = 14$\n",
    "\n",
    "* $D^{(3)}[2][5] = D^{(2)}[2][5] = 14$\n",
    "\n",
    "* $D^{(4)}[2][5] = \\min (D^{(3)}[2][5], d^{(4)}) = \\min(14, 5) = 5$. \n",
    "    - $d^{(4)}$는 $v_4$를 거치는 최단경로 길이:\n",
    "\n",
    "$$\n",
    "\\begin{align*}\n",
    "d^{(4)} &= \\min(\\text{length}[v_2, v_4, v_5], \\text{length}[v_2, v_1, v_4, v_5], \\text{length}[v_2, v_3, v_4, v_5]) \\\\\n",
    "&= \\min(5, 13, 10) \\\\\n",
    "&= 5\n",
    "\\end{align*}\n",
    "$$\n",
    "\n",
    "* $D^{(5)}[2][5] = D^{(4)}[2][5] = 5$"
   ]
  },
  {
   "cell_type": "markdown",
   "metadata": {
    "slideshow": {
     "slide_type": "slide"
    }
   },
   "source": [
    "**$D^{(k)}$ 의 재귀적 성질**\n",
    "\n",
    "$D^{(k)}[i][j]$ 를 재귀적으로 정의할 수 있다.\n",
    "\n",
    "$$D^{(k)}[i][j] = \\min \\big( D^{(k-1)}[i][j],\\,D^{(k-1)}[i][k] + D^{(k-1)}[k][j] \\big)$$\n",
    "\n",
    "* 경우 1: $\\{v_1, v_2,\\dots, v_k\\}$ 에 속한 마디들만을 통해서 $v_i$에서 $v_j$로 가는 최단경로가 $v_k$를 거쳐가지 않는 경우.\n",
    "    \n",
    "    $$D^{(k)}[i][j] = D^{(k-1)}[i][j]$$\n",
    "    <br>\n",
    "\n",
    "* 경우 2: $\\{v_1, v_2,\\dots, v_k\\}$ 에 속한 마디들만을 통해서 $v_i$에서 $v_j$로 가는 최단경로가 $v_k$를 거쳐가는 경우.\n",
    "    \n",
    "    $$D^{(k)}[i][j] = D^{(k-1)}[i][k] + D^{(k-1)}[k][j]$$"
   ]
  },
  {
   "cell_type": "markdown",
   "metadata": {
    "slideshow": {
     "slide_type": "slide"
    }
   },
   "source": [
    "아래 그림 참조할 것.\n",
    "\n",
    "<div align=\"center\"><img src=\"https://raw.githubusercontent.com/CodingRG-HKNU/FoundationsOfAlgorithms/master/slides/images/algo03/algo03-07.png\" width=\"500\"/></div>"
   ]
  },
  {
   "cell_type": "markdown",
   "metadata": {
    "slideshow": {
     "slide_type": "slide"
    }
   },
   "source": [
    "## 플로이드-워셜 알고리즘"
   ]
  },
  {
   "cell_type": "markdown",
   "metadata": {
    "slideshow": {
     "slide_type": ""
    }
   },
   "source": [
    "**플로이드-워셜**(Floyd-Warshall) 알고리즘은 \n",
    "앞서 설명한 재귀적 성질을 이용하여 동적계획법으로 아래 화살표 과정을 구현하는 알고리즘이다. "
   ]
  },
  {
   "cell_type": "markdown",
   "metadata": {
    "slideshow": {
     "slide_type": ""
    }
   },
   "source": [
    "$$\n",
    "W = D^{(0)} \\longrightarrow D^{(1)}\\longrightarrow D^{(2)}\n",
    "\\longrightarrow \\cdots \\longrightarrow D^{(n-1)}\\longrightarrow D^{(n)} = D\n",
    "$$"
   ]
  },
  {
   "cell_type": "code",
   "execution_count": 3,
   "metadata": {
    "slideshow": {
     "slide_type": "slide"
    }
   },
   "outputs": [],
   "source": [
    "from copy import deepcopy\n",
    "\n",
    "def floyd_warshall(W):\n",
    "    n = len(W)\n",
    "\n",
    "    # D^(0) 지정\n",
    "    # 주의: deepcopy를 사용하지 않으면 W에 혼란을 발생시킴\n",
    "    D = deepcopy(W)\n",
    "\n",
    "    # k가 0부터 (n-1)까지 이동하면서 D가 D^(1), ..., D^(n)을 차례대로 모방함.\n",
    "    # 즉, D를 업데이트하는 방식을 이용하여 최종적으로 D^(n) 생성\n",
    "    for k in range(0, n):\n",
    "        # 행렬의 인덱스는 0부터 (n-1)까지 이동\n",
    "        for i in range(0, n):\n",
    "            for j in range(0, n):\n",
    "                D[i][j] = min(D[i][j] , D[i][k]+ D[k][j])\n",
    "    \n",
    "    # 최종 완성된 D 반환\n",
    "    return D"
   ]
  },
  {
   "cell_type": "code",
   "execution_count": 4,
   "metadata": {},
   "outputs": [
    {
     "data": {
      "text/plain": [
       "[[0, 1, 3, 1, 4],\n",
       " [8, 0, 3, 2, 5],\n",
       " [10, 11, 0, 4, 7],\n",
       " [6, 7, 2, 0, 3],\n",
       " [3, 4, 6, 4, 0]]"
      ]
     },
     "execution_count": 4,
     "metadata": {},
     "output_type": "execute_result"
    }
   ],
   "source": [
    "floyd_warshall(W)"
   ]
  },
  {
   "cell_type": "markdown",
   "metadata": {
    "slideshow": {
     "slide_type": "slide"
    }
   },
   "source": [
    "참조: [PythonTutor: 플로이드-워셜 알고리즘](https://pythontutor.com/visualize.html#code=def%20floyd_warshall%28W%29%3A%0A%20%20%20%20n%20%3D%20len%28W%29%0A%20%20%20%20D%20%3D%20W%0A%0A%20%20%20%20for%20k%20in%20range%280,%20n%29%3A%0A%20%20%20%20%20%20%20%20for%20i%20in%20range%280,%20n%29%3A%0A%20%20%20%20%20%20%20%20%20%20%20%20for%20j%20in%20range%280,%20n%29%3A%0A%20%20%20%20%20%20%20%20%20%20%20%20%20%20%20%20D%5Bi%5D%5Bj%5D%20%3D%20min%28D%5Bi%5D%5Bj%5D%20,%20D%5Bi%5D%5Bk%5D%2B%20D%5Bk%5D%5Bj%5D%29%0A%20%20%20%20%0A%20%20%20%20return%20D%0A%20%20%20%20%0Afrom%20math%20import%20inf%0A%0AW%20%3D%20%5B%5B0,%201,%20inf,%201,%205%5D,%0A%20%20%20%20%20%5B9,%200,%203,%202,%20inf%5D,%0A%20%20%20%20%20%5Binf,%20inf,%200,%204,%20inf%5D,%0A%20%20%20%20%20%5Binf,%20inf,%202,%200,%203%5D,%0A%20%20%20%20%20%5B3,%20inf,%20inf,%20inf,%200%5D%5D%0A%20%20%20%20%20%0Afloyd_warshall%28W%29&cumulative=false&curInstr=0&heapPrimitives=nevernest&mode=display&origin=opt-frontend.js&py=3&rawInputLstJSON=%5B%5D&textReferences=false)"
   ]
  },
  {
   "cell_type": "markdown",
   "metadata": {
    "slideshow": {
     "slide_type": "slide"
    }
   },
   "source": [
    "**최단경로 확인 알고리즘**"
   ]
  },
  {
   "cell_type": "markdown",
   "metadata": {},
   "source": [
    "이전 함수를 약간 수정하여 최단경로를 출력하는 함수를 구현한다.\n",
    "추가되어야 하는 사항은\n",
    "두 마디 사이의 최단경로에 사용된 마디 중에서 가장 큰 인덱스를 기억하는 행렬 $P$이다.\n",
    "\n",
    "$$\n",
    "P[i][j] =\n",
    "\\begin{cases}\n",
    "k & \\text{최단경로의 중간에 사용된 마디의 인덱스 중에서 가장 큰 값이 $k$인 경우} \\\\\n",
    "  & \\text{(아래 그림에서 사용된 $v_k$의 인덱스 $k$)}\\\\\n",
    "  & \\\\\n",
    "0 & \\text{최단경로의 중간에 사용된 마디가 없는 경우}\n",
    "\\end{cases}\n",
    "$$"
   ]
  },
  {
   "cell_type": "markdown",
   "metadata": {
    "slideshow": {
     "slide_type": ""
    }
   },
   "source": [
    "<div align=\"center\"><img src=\"https://raw.githubusercontent.com/CodingRG-HKNU/FoundationsOfAlgorithms/master/slides/images/algo03/algo03-07.png\" width=\"500\"/></div>"
   ]
  },
  {
   "cell_type": "code",
   "execution_count": 5,
   "metadata": {
    "slideshow": {
     "slide_type": ""
    }
   },
   "outputs": [],
   "source": [
    "from copy import deepcopy\n",
    "\n",
    "def floyd_warshall2(W):\n",
    "    n = len(W)\n",
    "\n",
    "    # deepcopy를 사용하지 않으면 D에 혼란을 발생시킴\n",
    "    D = deepcopy(W)\n",
    "    P = deepcopy(W)\n",
    "    \n",
    "    # P 행렬 초기화. 모든 항목을 -1로 설정\n",
    "    for i in range(n):\n",
    "        for j in range(n):\n",
    "            P[i][j] = -1\n",
    "\n",
    "    # k가 0부터 (n-1)까지 이동하면서 D가 D^(1), ..., D^(n)을 차례대로 모방함.\n",
    "    # 그와 함께 동시에 P 행렬도 차례대로 업데이트함.\n",
    "    for k in range(0, n):\n",
    "        for i in range(0, n):\n",
    "            for j in range(0, n):\n",
    "                if D[i][k]+ D[k][j] < D[i][j]:\n",
    "                    P[i][j] = k\n",
    "                    D[i][j] = D[i][k]+ D[k][j]\n",
    "    \n",
    "    # 최종 완성된 P도 반환\n",
    "    return D, P"
   ]
  },
  {
   "cell_type": "markdown",
   "metadata": {
    "slideshow": {
     "slide_type": "slide"
    }
   },
   "source": [
    "**최단경로 찍어보기: 방식 1**\n",
    "\n",
    "아래 `path` 함수는 두 마디 사이의 최단 경로상에 위치한 마디를 순서대로 보여준다."
   ]
  },
  {
   "cell_type": "code",
   "execution_count": 6,
   "metadata": {
    "slideshow": {
     "slide_type": ""
    }
   },
   "outputs": [],
   "source": [
    "def path(P, q, r):\n",
    "    # 인덱스가 0부터 출발하기에 -1 또는 +1을 적절히 조절해야 함.\n",
    "    if P[q-1][r-1] != -1:\n",
    "        v = P[q-1][r-1]\n",
    "\n",
    "        path(P, q, v+1)\n",
    "        print(v+1,end=' ')\n",
    "        path(P, v+1, r)"
   ]
  },
  {
   "cell_type": "markdown",
   "metadata": {
    "slideshow": {
     "slide_type": "slide"
    }
   },
   "source": [
    "예를 들어 $v_5$에서 $v_3$으로 가는 최단경로상의 중간마디는 다음과 같다.\n",
    "\n",
    "참조: [PythonTutor: 최단경로 확인하기 1](http://pythontutor.com/visualize.html#code=def%20path%28P,%20q,%20r%29%3A%0A%20%20%20%20%23%20%EC%9D%B8%EB%8D%B1%EC%8A%A4%EA%B0%80%200%EB%B6%80%ED%84%B0%20%EC%B6%9C%EB%B0%9C%ED%95%98%EA%B8%B0%EC%97%90%20-1%20%EB%98%90%EB%8A%94%20%2B1%EC%9D%84%20%EC%A0%81%EC%A0%88%ED%9E%88%20%EC%A1%B0%EC%A0%88%ED%95%B4%EC%95%BC%20%ED%95%A8.%0A%20%20%20%20if%20P%5Bq-1%5D%5Br-1%5D%20!%3D%20-1%3A%0A%20%20%20%20%20%20%20%20v%20%3D%20P%5Bq-1%5D%5Br-1%5D%0A%0A%20%20%20%20%20%20%20%20path%28P,%20q,%20v%2B1%29%0A%20%20%20%20%20%20%20%20print%28v%2B1,end%3D'%20'%29%0A%20%20%20%20%20%20%20%20path%28P,%20v%2B1,%20r%29%0A%0AP%20%3D%20%5B%5B-1,%20-1,%203,%20-1,%203%5D,%0A%20%20%20%20%5B4,%20-1,%20-1,%20-1,%203%5D,%0A%20%20%20%20%5B4,%204,%20-1,%20-1,%203%5D,%0A%20%20%20%20%5B4,%204,%20-1,%20-1,%20-1%5D,%0A%20%20%20%20%5B-1,%200,%203,%200,%20-1%5D%5D%0A%0Apath%28P,%205,%203%29%20%20%20%20%20%20%20%20%20&cumulative=false&curInstr=0&heapPrimitives=nevernest&mode=display&origin=opt-frontend.js&py=3&rawInputLstJSON=%5B%5D&textReferences=false)"
   ]
  },
  {
   "cell_type": "code",
   "execution_count": 7,
   "metadata": {},
   "outputs": [],
   "source": [
    "_, P = floyd_warshall2(W)"
   ]
  },
  {
   "cell_type": "code",
   "execution_count": 8,
   "metadata": {},
   "outputs": [
    {
     "data": {
      "text/plain": [
       "[[-1, -1, 3, -1, 3],\n",
       " [4, -1, -1, -1, 3],\n",
       " [4, 4, -1, -1, 3],\n",
       " [4, 4, -1, -1, -1],\n",
       " [-1, 0, 3, 0, -1]]"
      ]
     },
     "execution_count": 8,
     "metadata": {},
     "output_type": "execute_result"
    }
   ],
   "source": [
    "P"
   ]
  },
  {
   "cell_type": "code",
   "execution_count": 9,
   "metadata": {},
   "outputs": [
    {
     "name": "stdout",
     "output_type": "stream",
     "text": [
      "1 4 "
     ]
    }
   ],
   "source": [
    "path(P, 5, 3)"
   ]
  },
  {
   "cell_type": "markdown",
   "metadata": {
    "slideshow": {
     "slide_type": "slide"
    }
   },
   "source": [
    "**최단경로 찍어보기: 방식 2**\n",
    "\n",
    "최단경로 상에 위치한 마디를 리스트로 담을 수 있다.\n",
    "\n",
    "참조: [PythonTutor: 최단경로 확인하기 2](http://pythontutor.com/visualize.html#code=def%20path2%28P,%20q,%20r,%20route%29%3A%0A%20%20%20%20%23%20%EC%9D%B8%EB%8D%B1%EC%8A%A4%EA%B0%80%200%EB%B6%80%ED%84%B0%20%EC%B6%9C%EB%B0%9C%ED%95%98%EA%B8%B0%EC%97%90%20-1%20%EB%98%90%EB%8A%94%20%2B1%EC%9D%84%20%EC%A0%81%EC%A0%88%ED%9E%88%20%EC%A1%B0%EC%A0%88%ED%95%B4%EC%95%BC%20%ED%95%A8.%0A%20%20%20%20if%20P%5Bq-1%5D%5Br-1%5D%20!%3D%20-1%3A%0A%20%20%20%20%20%20%20%20v%20%3D%20P%5Bq-1%5D%5Br-1%5D%0A%0A%20%20%20%20%20%20%20%20path2%28P,%20q,%20v%2B1,%20route%29%0A%20%20%20%20%20%20%20%20route.append%28v%2B1%29%0A%20%20%20%20%20%20%20%20path2%28P,%20v%2B1,%20r,%20route%29%0A%20%20%20%20%20%20%20%20%0A%20%20%20%20return%20route%0A%20%20%20%20%0AP%20%3D%20%5B%5B-1,%20-1,%203,%20-1,%203%5D,%0A%20%20%20%20%20%5B4,%20-1,%20-1,%20-1,%203%5D,%0A%20%20%20%20%20%5B4,%204,%20-1,%20-1,%203%5D,%0A%20%20%20%20%20%5B4,%204,%20-1,%20-1,%20-1%5D,%0A%20%20%20%20%20%5B-1,%200,%203,%200,%20-1%5D%5D%0A%20%20%20%20%20%0Aprint%28path2%28P,%205,%203,%20%5B%5D%29%29&cumulative=false&curInstr=0&heapPrimitives=nevernest&mode=display&origin=opt-frontend.js&py=3&rawInputLstJSON=%5B%5D&textReferences=false)"
   ]
  },
  {
   "cell_type": "code",
   "execution_count": 10,
   "metadata": {
    "slideshow": {
     "slide_type": "slide"
    }
   },
   "outputs": [],
   "source": [
    "def path2(P, q, r, route):\n",
    "    # 인덱스가 0부터 출발하기에 -1 또는 +1을 적절히 조절해야 함.\n",
    "    if P[q-1][r-1] != -1:\n",
    "        v = P[q-1][r-1]\n",
    "\n",
    "        path2(P, q, v+1, route)\n",
    "        route.append(v+1)\n",
    "        path2(P, v+1, r, route)\n",
    "        \n",
    "    return route"
   ]
  },
  {
   "cell_type": "code",
   "execution_count": 11,
   "metadata": {
    "slideshow": {
     "slide_type": "slide"
    }
   },
   "outputs": [
    {
     "data": {
      "text/plain": [
       "[1, 4]"
      ]
     },
     "execution_count": 11,
     "metadata": {},
     "output_type": "execute_result"
    }
   ],
   "source": [
    "path2(P, 5, 3, [])"
   ]
  },
  {
   "cell_type": "markdown",
   "metadata": {
    "slideshow": {
     "slide_type": "slide"
    }
   },
   "source": [
    "위 결과를 이용하여 경로를 보다 예쁘게 출력할 수 있다."
   ]
  },
  {
   "cell_type": "code",
   "execution_count": 12,
   "metadata": {},
   "outputs": [],
   "source": [
    "def print_path2(P, i, j):\n",
    "    route = path2(P, i, j, [])\n",
    "    route.insert(0, i)\n",
    "    route.append(j)\n",
    "    print(\" -> \".join([str(v) for v in route]))"
   ]
  },
  {
   "cell_type": "code",
   "execution_count": 13,
   "metadata": {},
   "outputs": [
    {
     "name": "stdout",
     "output_type": "stream",
     "text": [
      "5 -> 1 -> 4 -> 3\n"
     ]
    }
   ],
   "source": [
    "print_path2(P, 5, 3)"
   ]
  },
  {
   "cell_type": "code",
   "execution_count": 14,
   "metadata": {},
   "outputs": [
    {
     "name": "stdout",
     "output_type": "stream",
     "text": [
      "2 -> 4 -> 5\n"
     ]
    }
   ],
   "source": [
    "print_path2(P, 2, 5)"
   ]
  },
  {
   "cell_type": "markdown",
   "metadata": {
    "slideshow": {
     "slide_type": "slide"
    }
   },
   "source": [
    "**최단경로 찍어보기: 방식 3**"
   ]
  },
  {
   "cell_type": "markdown",
   "metadata": {},
   "source": [
    "$$\n",
    "P[i][j] =\n",
    "\\begin{cases}\n",
    "k & \\text{최단경로상의 마디 중에서 $v_i$에 가장 가까운 마디의 인덱스가 $k$인 경우} \\\\\n",
    "0 & \\text{최단경로의 중간에 사용된 마디가 없는 경우}\n",
    "\\end{cases}\n",
    "$$"
   ]
  },
  {
   "cell_type": "code",
   "execution_count": 15,
   "metadata": {},
   "outputs": [],
   "source": [
    "from itertools import product\n",
    "\n",
    "def floyd_warshall3(W):\n",
    "    n = len(W)\n",
    "\n",
    "    D = deepcopy(W)\n",
    "    P = [[0]   * n for i in range(n)]\n",
    "    \n",
    "    for i, j in product(range(n), repeat=2):\n",
    "        if 0 < W[i][j] < inf:\n",
    "            P[i][j] = j\n",
    "    \n",
    "    for k, i, j in product(range(n), repeat=3):\n",
    "        sum_ik_kj = D[i][k] + D[k][j]\n",
    "        if D[i][j] > sum_ik_kj:\n",
    "            D[i][j] = sum_ik_kj\n",
    "            P[i][j]  = P[i][k]\n",
    "    return D, P"
   ]
  },
  {
   "cell_type": "code",
   "execution_count": 16,
   "metadata": {
    "slideshow": {
     "slide_type": "slide"
    }
   },
   "outputs": [],
   "source": [
    "def path3(D, P, i, j):\n",
    "    # 인덱스가 0부터 출발하기에 -1 또는 +1을 적절히 조절해야 함.\n",
    "        path = [i-1]\n",
    "        while path[-1] != j-1:\n",
    "            path.append(P[path[-1]][j-1])\n",
    "        route = ' → '.join(str(p + 1) for p in path)\n",
    "        print(f\"최단길이:{D[i-1][j-1]:>2}, 최단경로: {route}\")"
   ]
  },
  {
   "cell_type": "code",
   "execution_count": 17,
   "metadata": {},
   "outputs": [],
   "source": [
    "D, P = floyd_warshall3(W)"
   ]
  },
  {
   "cell_type": "code",
   "execution_count": 18,
   "metadata": {},
   "outputs": [
    {
     "name": "stdout",
     "output_type": "stream",
     "text": [
      "최단길이: 6, 최단경로: 5 → 1 → 4 → 3\n"
     ]
    }
   ],
   "source": [
    "path3(D, P, 5, 3)"
   ]
  },
  {
   "cell_type": "code",
   "execution_count": 19,
   "metadata": {},
   "outputs": [
    {
     "name": "stdout",
     "output_type": "stream",
     "text": [
      "최단길이: 5, 최단경로: 2 → 4 → 5\n"
     ]
    }
   ],
   "source": [
    "path3(D, P, 2, 5)"
   ]
  },
  {
   "cell_type": "markdown",
   "metadata": {
    "slideshow": {
     "slide_type": "slide"
    }
   },
   "source": [
    "## 최적의 원칙"
   ]
  },
  {
   "cell_type": "markdown",
   "metadata": {
    "slideshow": {
     "slide_type": "slide"
    }
   },
   "source": [
    "동적계획법에 의한 설계 절차는 일반적으로 다음 과정을 따른다.\n",
    "\n",
    "* 문제의 입력에 대해 최적의 해답을 제공하는 재귀 관계식 설정\n",
    "* 상향식으로 최적의 해답을 계산\n",
    "* 상향식으로 최적의 해답을 구축"
   ]
  },
  {
   "cell_type": "markdown",
   "metadata": {},
   "source": [
    "하지만 동적계획법에 의해 얻어진 해답이 최적이 되려면 해당 문제에 대해 **최적의 원칙**이 \n",
    "적용될 수 있어야 한다. \n",
    "최적의 원칙이 적용되는 문제는 \n",
    "해당 문제의 입력사례에 대한 최적의 해가 그 입력사례를 분할한 모든 부분사례에 대한 \n",
    "최적의 해를 포함하고 있어야 한다."
   ]
  },
  {
   "cell_type": "markdown",
   "metadata": {
    "slideshow": {
     "slide_type": "slide"
    }
   },
   "source": [
    "**예제: 최단경로 문제**"
   ]
  },
  {
   "cell_type": "markdown",
   "metadata": {},
   "source": [
    "$v_k$를 $v_i$에서 $v_j$로 가는 최적경로 상의 마디라고 하면,\n",
    "$v_i$에서 $v_k$ 로 가는 부분경로와 $v_k$에서 $v_j$로 가는\n",
    "부분경로도 반드시 최적이어야 한다."
   ]
  },
  {
   "cell_type": "markdown",
   "metadata": {
    "slideshow": {
     "slide_type": ""
    }
   },
   "source": [
    "<div align=\"center\"><img src=\"https://raw.githubusercontent.com/CodingRG-HKNU/FoundationsOfAlgorithms/master/slides/images/algo03/algo03-07.png\" width=\"500\"/></div>"
   ]
  },
  {
   "cell_type": "markdown",
   "metadata": {
    "slideshow": {
     "slide_type": "slide"
    }
   },
   "source": [
    "**최적의 원칙이 적용되지 않는 예제**"
   ]
  },
  {
   "cell_type": "markdown",
   "metadata": {
    "slideshow": {
     "slide_type": "fragment"
    }
   },
   "source": [
    "순환이 없는 최장경로를 구하는 문제는 최적의 원칙이 적용되지 않는다.\n",
    "\n",
    "예를 들어 아래 그래프에서 $v_1$에서 $v_4$로의 (순환이 없는) 최장경로는 $[v_1, v_3, v_2, v_4]$이다.\n",
    "그러나 이 경로의 부분 경로인 $v_1$에서 $v_3$으로의 (순환이 없는) 최장경로는 \n",
    "$[v_1, v_3]$이 아니고, $[v_1, v_2, v_3]$ 이다. \n",
    "따라서 최적의 원칙이 적용되지 않는다."
   ]
  },
  {
   "cell_type": "markdown",
   "metadata": {
    "slideshow": {
     "slide_type": ""
    }
   },
   "source": [
    "<div align=\"center\"><img src=\"https://raw.githubusercontent.com/CodingRG-HKNU/FoundationsOfAlgorithms/master/slides/images/algo03/algo03-08.png\" width=\"200\"/></div>"
   ]
  },
  {
   "cell_type": "markdown",
   "metadata": {},
   "source": [
    "## 연습 문제"
   ]
  },
  {
   "cell_type": "markdown",
   "metadata": {},
   "source": [
    "1. [(실습) 플로이드-워셜 알고리즘](https://colab.research.google.com/github/codingalzi/algopy/blob/master/excs/exc-dynamic_programming_2.ipynb)"
   ]
  }
 ],
 "metadata": {
  "kernelspec": {
   "display_name": "Python 3.9.12 ('base')",
   "language": "python",
   "name": "python3"
  },
  "language_info": {
   "codemirror_mode": {
    "name": "ipython",
    "version": 3
   },
   "file_extension": ".py",
   "mimetype": "text/x-python",
   "name": "python",
   "nbconvert_exporter": "python",
   "pygments_lexer": "ipython3",
   "version": "3.9.12"
  },
  "vscode": {
   "interpreter": {
    "hash": "ad0f3c8a064f687cbf898a0868fd45ba1c7e928ac8a0404f7c241d812ddc1e76"
   }
  }
 },
 "nbformat": 4,
 "nbformat_minor": 4
}
