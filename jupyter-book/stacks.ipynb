{
 "cells": [
  {
   "cell_type": "markdown",
   "metadata": {},
   "source": [
    "(sec:stacks)=\n",
    "# 스택<font size='2'>Stack</font>"
   ]
  },
  {
   "cell_type": "markdown",
   "metadata": {},
   "source": [
    "**참고** \n",
    "\n",
    "아래 내용은 [Problem Solving with Algorithms and Data Structures using Python](https://runestone.academy/ns/books/published/pythonds3/index.html)의 3장 내용을 \n",
    "일부 활용한다. "
   ]
  },
  {
   "cell_type": "markdown",
   "metadata": {},
   "source": [
    "**슬라이드**\n",
    "\n",
    "본문 내용을 요약한 [슬라이드](https://github.com/codingalzi/algopy/raw/master/slides/slides-stacks.pdf)를 다운로드할 수 있다."
   ]
  },
  {
   "cell_type": "markdown",
   "metadata": {},
   "source": [
    "**주요 내용**\n",
    "\n",
    "- 스택 자료구조\n",
    "- 스택 활용"
   ]
  },
  {
   "cell_type": "markdown",
   "metadata": {},
   "source": [
    "## 스택의 정의"
   ]
  },
  {
   "cell_type": "markdown",
   "metadata": {},
   "source": [
    "**스택**<font size='2'>stack</font>은 항목의 추가 및 삭제를 보통 **탑**<font size='2'>top</font>이라 불리는 한 쪽 끝에서만 허용한다.\n",
    "반면에 다른 한 쪽 끝은 **베이스**<font size='2'>base</font>라 한다. \n",
    "\n",
    "- 탑: 가장 나중에 추가된 항목의 위치\n",
    "- 베이스: 남아 있는 항목 중에서 가장 먼저 추가된 항목의 위치"
   ]
  },
  {
   "cell_type": "markdown",
   "metadata": {},
   "source": [
    "가장 나중에 추가된 항목이 가장 먼저 삭제되는 후입선출<font size='2'>last-in first-out</font>(LIFO) 원리를 따른다."
   ]
  },
  {
   "cell_type": "markdown",
   "metadata": {},
   "source": [
    "<p><div align=\"center\"><img src=\"https://raw.githubusercontent.com/codingalzi/algopy/master/jupyter-book/imgs/lifo.png\" width=\"50%\"></div></p>"
   ]
  },
  {
   "cell_type": "markdown",
   "metadata": {},
   "source": [
    "## 스택 자료구조 구현"
   ]
  },
  {
   "cell_type": "markdown",
   "metadata": {},
   "source": [
    "스택 자료구조는 큐 자료구조와는 달리 항목의 추가와 삭제를 탑이라고 부르는 곳에서만 처리한다.\n",
    "하지만 그 이외에는 큐와 동일한 기능을 지원한다.\n",
    "실제로 파이썬에서 스택 자료구조로 제공되는 `queue.LifoQueue` 클래스가\n",
    "큐 자료구조인 `queue.Queue`와 동일한 이름의 메서드를 제공한다.\n",
    "\n",
    "따라서 여기서도 {numref}`%s장<sec:queues>`에서 정의한 다음 `Queue` 추상 자료형을\n",
    "구상 클래스로 상속하는 방식으로 스택 자료구조를 선언한다."
   ]
  },
  {
   "cell_type": "code",
   "execution_count": 1,
   "metadata": {},
   "outputs": [],
   "source": [
    "class Queue:\n",
    "    def __init__(self, maxsize=0):\n",
    "        \"\"\"\n",
    "        - 새로운 큐 생성\n",
    "        - maxsize: 최대 항목 수. 0은 무한대 의미.\n",
    "        - 저장 방식은 자식 클래스가 지정해야 함.\n",
    "        \"\"\"\n",
    "        raise NotImplementedError(\n",
    "            \"\"\"아래 두 변수 구현 필요\n",
    "            self._maxsize=maxsize\n",
    "            self._container=비어 있는 모음 객체. 항목 저장.\n",
    "            \"\"\")\n",
    "    \n",
    "    def qsize(self):\n",
    "        \"\"\"항목 수 반환\"\"\"\n",
    "        return len(self._container)\n",
    "    \n",
    "    def empty(self):\n",
    "        \"\"\"비었는지 여부 확인\"\"\"\n",
    "        return not self._container\n",
    "\n",
    "    def full(self):\n",
    "        \"\"\"_maxsize 충족 여부 확인\"\"\"\n",
    "\n",
    "        if self._maxsize <= 0:\n",
    "            return False\n",
    "        elif self.qsize() < self._maxsize:\n",
    "            return False\n",
    "        else:\n",
    "            return True            \n",
    "\n",
    "    def put(self, item):\n",
    "        \"\"\"항목 추가\"\"\"\n",
    "        raise NotImplementedError\n",
    "\n",
    "    def get(self):\n",
    "        \"\"\"항목 삭제\"\"\"\n",
    "        raise NotImplementedError"
   ]
  },
  {
   "cell_type": "markdown",
   "metadata": {},
   "source": [
    "다만 리스트를 항목들의 저장 장치로 활용한다.\n",
    "이유는 리스트의 오른쪽 끝(마지막 항목)을 탑으로 지정해도 \n",
    "항목의 추가와 삭제를 빠르게 실행할 수 있기 때문이다."
   ]
  },
  {
   "cell_type": "code",
   "execution_count": 2,
   "metadata": {},
   "outputs": [],
   "source": [
    "class Stack(Queue):\n",
    "    def __init__(self, maxsize=0):\n",
    "        \"\"\"\n",
    "        - 새로운 스택 생성\n",
    "        - _maxsize: 최대 항목 수. 0은 무한대 의미.\n",
    "        - _container: 항목 저장 장치. list 활용\n",
    "        \"\"\"\n",
    "        self._maxsize = maxsize\n",
    "        self._container = list() # 비어있는 리스트\n",
    "    \n",
    "    def __repr__(self):\n",
    "        \"\"\"스택 표기법: stack([1, 2, 3]) 등등\"\"\"\n",
    "        return f\"stack({self._container})\"\n",
    "    \n",
    "    def put(self, item):\n",
    "        \"\"\"\n",
    "        _maxsize를 못 채웠을 경우에만 항목 추가\n",
    "        \"\"\"\n",
    "        if not self.full():\n",
    "            self._container.append(item)\n",
    "        else:\n",
    "            print(\"추가되지 않아요!\")\n",
    "\n",
    "    def get(self):\n",
    "        \"\"\"머리 항목 삭제 후 반환\"\"\"\n",
    "        return self._container.pop()"
   ]
  },
  {
   "cell_type": "markdown",
   "metadata": {},
   "source": [
    "아래 코드가 스택 객체를 생성하고 활용하는 간단한 작동법을 소개한다."
   ]
  },
  {
   "cell_type": "code",
   "execution_count": 3,
   "metadata": {},
   "outputs": [
    {
     "name": "stdout",
     "output_type": "stream",
     "text": [
      "stack([4, 'dog', True])\n",
      "True\n",
      "stack([4, 'dog', True, 8.4])\n",
      "추가되지 않아요!\n",
      "stack([4, 'dog', True, 8.4])\n",
      "8.4\n",
      "True\n",
      "2\n",
      "stack([4, 'dog'])\n",
      "False\n"
     ]
    }
   ],
   "source": [
    "s = Stack(maxsize=4)\n",
    "\n",
    "s.put(4)\n",
    "s.put(\"dog\")\n",
    "s.put(True)\n",
    "print(s)\n",
    "s.put(8.4)\n",
    "print(s.full())\n",
    "print(s)\n",
    "s.put(\"하나 더?\")\n",
    "print(s)\n",
    "print(s.get())\n",
    "print(s.get())\n",
    "print(s.qsize())\n",
    "print(s)\n",
    "print(s.empty())"
   ]
  },
  {
   "cell_type": "markdown",
   "metadata": {},
   "source": [
    "## `queue.LifoQueue` 클래스"
   ]
  },
  {
   "cell_type": "markdown",
   "metadata": {},
   "source": [
    "파이썬 `queue` 모듈의 `LifoQueue` 클래스가 스택 자료구조를 가리킨다.\n",
    "앞서 정의한 `Stack` 클래스보다 몇 배 느리다."
   ]
  },
  {
   "cell_type": "code",
   "execution_count": 4,
   "metadata": {},
   "outputs": [],
   "source": [
    "import queue"
   ]
  },
  {
   "cell_type": "markdown",
   "metadata": {},
   "source": [
    "- `put()` 메서드 속도 비교"
   ]
  },
  {
   "cell_type": "code",
   "execution_count": 5,
   "metadata": {},
   "outputs": [
    {
     "name": "stdout",
     "output_type": "stream",
     "text": [
      "CPU times: user 10.9 ms, sys: 109 μs, total: 11.1 ms\n",
      "Wall time: 11 ms\n"
     ]
    }
   ],
   "source": [
    "%%time\n",
    "\n",
    "n = 100_000\n",
    "q1 = Stack(maxsize=0)\n",
    "\n",
    "for k in range(n):\n",
    "    q1.put(k)"
   ]
  },
  {
   "cell_type": "code",
   "execution_count": 6,
   "metadata": {},
   "outputs": [
    {
     "name": "stdout",
     "output_type": "stream",
     "text": [
      "CPU times: user 45.8 ms, sys: 4.45 ms, total: 50.2 ms\n",
      "Wall time: 49.9 ms\n"
     ]
    }
   ],
   "source": [
    "%%time\n",
    "\n",
    "n = 100_000\n",
    "q2 = queue.LifoQueue(maxsize=0)\n",
    "\n",
    "for k in range(n):\n",
    "    q2.put(k)"
   ]
  },
  {
   "cell_type": "markdown",
   "metadata": {},
   "source": [
    "- `get()` 메서드 속도 비교"
   ]
  },
  {
   "cell_type": "code",
   "execution_count": 7,
   "metadata": {},
   "outputs": [
    {
     "name": "stdout",
     "output_type": "stream",
     "text": [
      "CPU times: user 6.82 ms, sys: 0 ns, total: 6.82 ms\n",
      "Wall time: 6.76 ms\n"
     ]
    }
   ],
   "source": [
    "%%time\n",
    "\n",
    "for k in range(n):\n",
    "    q1.get()"
   ]
  },
  {
   "cell_type": "code",
   "execution_count": 8,
   "metadata": {},
   "outputs": [
    {
     "name": "stdout",
     "output_type": "stream",
     "text": [
      "CPU times: user 54.2 ms, sys: 146 μs, total: 54.4 ms\n",
      "Wall time: 53.9 ms\n"
     ]
    }
   ],
   "source": [
    "%%time\n",
    "\n",
    "for k in range(n):\n",
    "    q2.get()"
   ]
  },
  {
   "cell_type": "markdown",
   "metadata": {},
   "source": [
    "## 스택 활용: 괄호 짝맞추기"
   ]
  },
  {
   "cell_type": "markdown",
   "metadata": {},
   "source": [
    "### 소괄호 짝맞추기"
   ]
  },
  {
   "cell_type": "markdown",
   "metadata": {},
   "source": [
    "아래 식에서처럼 함수나 또는 연산 실행을 위해 사용되는 괄호는 짝이 맞아야 한다.\n",
    "즉, 여는 괄호 하나와 닫는 괄호 하나가 짝이 맞아야 한다. "
   ]
  },
  {
   "cell_type": "markdown",
   "metadata": {},
   "source": [
    "$$(5 + 6) * (7 + 8) / (4 + 3)$$"
   ]
  },
  {
   "cell_type": "markdown",
   "metadata": {},
   "source": [
    "위 표현식에서 괄호만 고려하면 다음 모양이 되어 모든 괄호의 짝이 잘 맞음을 쉽게 확인할 수 있다."
   ]
  },
  {
   "cell_type": "markdown",
   "metadata": {},
   "source": [
    "    ()()()"
   ]
  },
  {
   "cell_type": "markdown",
   "metadata": {},
   "source": [
    "그런데 괄호가 중첩되어 사용되면 보다 복잡해진다. "
   ]
  },
  {
   "cell_type": "markdown",
   "metadata": {},
   "source": [
    "    (()()()())\n",
    "\n",
    "    (((())))\n",
    "\n",
    "    (()((())()))"
   ]
  },
  {
   "cell_type": "markdown",
   "metadata": {},
   "source": [
    "예를 들어, 아래 예제는 짝이 맞지 않는 괄호가 존재한다."
   ]
  },
  {
   "cell_type": "markdown",
   "metadata": {},
   "source": [
    "    ((((((())\n",
    "\n",
    "    ()))\n",
    "\n",
    "    (()()(()"
   ]
  },
  {
   "cell_type": "markdown",
   "metadata": {},
   "source": [
    "표현식과 코드에 사용된 모든 괄호들의 짝이 맞는가를 확인하는 일은 매우 중요하다. \n",
    "파이썬의 경우 괄호가 맞지 않으면 실행 전에 바로 구문 오류(`SyntaxError`)를 발생시킨다."
   ]
  },
  {
   "cell_type": "markdown",
   "metadata": {},
   "source": [
    "```python\n",
    ">>> (5 + 6) * (7 + 8) / (4 + 3\n",
    "  Input In [7]\n",
    "    (5 + 6) * (7 + 8) / (4 + 3\n",
    "                              ^\n",
    "SyntaxError: unexpected EOF while parsing\n",
    "```"
   ]
  },
  {
   "cell_type": "markdown",
   "metadata": {},
   "source": [
    "아래 코드는 스택을 이용하여 괄호로 이루어진 문자열이 짝이 맞는 괄호들로 이루어졌는지 여부를 판단하는\n",
    "함수를 구현한다. \n",
    "스택 활용법은 다음과 같다.\n",
    "괄호로 이루어진 문자열이 주어졌을 때 왼편부터 시작해서 여는 괄호와 닫는 괄호를 \n",
    "만날 때마다 아래 작업을 반복한다. \n",
    "\n",
    "- 여는 괄호: 스택에 추가\n",
    "- 닫는 괄호: 스택의 탑 항목 삭제\n",
    "\n",
    "위 작업을 반복하다 보면 아래 세 가지 경우가 발생한다.\n",
    "\n",
    "- 문자열을 다 확인하기 전에 스택이 비워지는 경우: 닫는 괄호가 너무 많음\n",
    "- 끝까지 확인했을 때 스택이 비워지지 않은 경우: 여는 괄호가 너무 많음\n",
    "- 그렇지 않으면 모든 괄호의 짝이 맞음."
   ]
  },
  {
   "cell_type": "markdown",
   "metadata": {},
   "source": [
    "<figure>\n",
    "<div align=\"center\"><img src=\"https://runestone.academy/runestone/books/published/pythonds3/_images/simpleparcheck.png\" width=\"50%\"></div>\n",
    "</figure>"
   ]
  },
  {
   "cell_type": "code",
   "execution_count": 9,
   "metadata": {},
   "outputs": [],
   "source": [
    "def par_checker(symbol_string):\n",
    "\n",
    "    s = Stack()\n",
    "    \n",
    "    for symbol in symbol_string:\n",
    "        if symbol == \"(\":\n",
    "            s.put(symbol)\n",
    "        elif s.empty():\n",
    "            return False\n",
    "        else:\n",
    "            s.get()\n",
    "\n",
    "    return s.empty()"
   ]
  },
  {
   "cell_type": "code",
   "execution_count": 10,
   "metadata": {},
   "outputs": [
    {
     "name": "stdout",
     "output_type": "stream",
     "text": [
      "True\n",
      "True\n",
      "False\n",
      "False\n"
     ]
    }
   ],
   "source": [
    "print(par_checker(\"((()))\"))\n",
    "print(par_checker(\"((()()))\"))\n",
    "print(par_checker(\"(()\"))\n",
    "print(par_checker(\")(\"))"
   ]
  },
  {
   "cell_type": "markdown",
   "metadata": {},
   "source": [
    "### 대중소 괄호 짝맞추기"
   ]
  },
  {
   "cell_type": "markdown",
   "metadata": {},
   "source": [
    "소, 중, 대 세 종류의 괄호를 대상으로 짝맞추기 문제를 해결하는 알고리즘을 구현한다. \n",
    "\n",
    "- `(`, `)`: 튜플, 표현식 등\n",
    "- `{`, `}`: 사전, 집합 등\n",
    "- `[`, `]`: 리스트 등"
   ]
  },
  {
   "cell_type": "markdown",
   "metadata": {},
   "source": [
    "아래 예제는 모두 괄호들의 짝이 맞는다."
   ]
  },
  {
   "cell_type": "markdown",
   "metadata": {},
   "source": [
    "    { { ( [ ] [ ] ) } ( ) }\n",
    "\n",
    "    [ [ { { ( ( ) ) } } ] ]\n",
    "\n",
    "    [ ] [ ] [ ] ( ) { }"
   ]
  },
  {
   "cell_type": "markdown",
   "metadata": {},
   "source": [
    "반면 아래의 경우는 서로 다른 종류의 짝이 사용되고 있다."
   ]
  },
  {
   "cell_type": "markdown",
   "metadata": {},
   "source": [
    "    ( [ ) )\n",
    "\n",
    "    ( ( ( ) ] ) )\n",
    "\n",
    "    [ { ( ) ]"
   ]
  },
  {
   "cell_type": "markdown",
   "metadata": {},
   "source": [
    "이전 코드를 조금 수정하면 일반화된 짝맞추기 문제를 해결할 수 있다. \n",
    "다만, 닫는 괄호를 처리할 때 동일한 종류인지 여부를 먼저 확인해야 한다."
   ]
  },
  {
   "cell_type": "code",
   "execution_count": 11,
   "metadata": {},
   "outputs": [],
   "source": [
    "def balance_checker(symbol_string):\n",
    "    s = Stack()\n",
    "    for symbol in symbol_string:\n",
    "        if symbol in \"([{\":\n",
    "            s.put(symbol)\n",
    "        elif s.empty():\n",
    "            return False\n",
    "        elif not matches(s.get(), symbol):\n",
    "            return False\n",
    "\n",
    "    return s.empty()\n",
    "\n",
    "def matches(sym_left, sym_right):\n",
    "    all_lefts = \"([{\"\n",
    "    all_rights = \")]}\"\n",
    "    return all_lefts.index(sym_left) == all_rights.index(sym_right)"
   ]
  },
  {
   "cell_type": "code",
   "execution_count": 12,
   "metadata": {},
   "outputs": [
    {
     "name": "stdout",
     "output_type": "stream",
     "text": [
      "True\n",
      "False\n"
     ]
    }
   ],
   "source": [
    "print(balance_checker('{({([][])}())}'))\n",
    "print(balance_checker('[{()]'))"
   ]
  },
  {
   "cell_type": "markdown",
   "metadata": {},
   "source": [
    "### 수리 표현식 괄호 짝맞추기"
   ]
  },
  {
   "cell_type": "code",
   "execution_count": 13,
   "metadata": {},
   "outputs": [],
   "source": [
    "math_expression = '(A + B) * C - (D - E) * (F + G)'"
   ]
  },
  {
   "cell_type": "code",
   "execution_count": 14,
   "metadata": {},
   "outputs": [],
   "source": [
    "def expression_checker(expression):\n",
    "    s = Stack()\n",
    "    for symbol in expression:\n",
    "        if symbol not in \"()[]{}\":\n",
    "            continue\n",
    "        elif symbol in \"([{\":\n",
    "            s.put(symbol)\n",
    "        elif s.empty():\n",
    "            return False\n",
    "        elif not matches(s.get(), symbol):\n",
    "            return False\n",
    "\n",
    "    return s.empty()"
   ]
  },
  {
   "cell_type": "code",
   "execution_count": 15,
   "metadata": {},
   "outputs": [
    {
     "data": {
      "text/plain": [
       "True"
      ]
     },
     "execution_count": 15,
     "metadata": {},
     "output_type": "execute_result"
    }
   ],
   "source": [
    "expression_checker(math_expression)"
   ]
  },
  {
   "cell_type": "code",
   "execution_count": 16,
   "metadata": {},
   "outputs": [
    {
     "data": {
      "text/plain": [
       "True"
      ]
     },
     "execution_count": 16,
     "metadata": {},
     "output_type": "execute_result"
    }
   ],
   "source": [
    "expression_checker('((x + y) * z)')"
   ]
  },
  {
   "cell_type": "code",
   "execution_count": 17,
   "metadata": {},
   "outputs": [
    {
     "name": "stdout",
     "output_type": "stream",
     "text": [
      "True\n",
      "False\n"
     ]
    }
   ],
   "source": [
    "print(expression_checker('{({([][])}())}'))\n",
    "print(expression_checker('[{()]'))"
   ]
  },
  {
   "cell_type": "markdown",
   "metadata": {},
   "source": [
    "## 연습 문제"
   ]
  },
  {
   "cell_type": "markdown",
   "metadata": {},
   "source": [
    "1. [(실습) 스택](https://colab.research.google.com/github/codingalzi/algopy/blob/master/excs/exc-stacks.ipynb)"
   ]
  }
 ],
 "metadata": {
  "kernelspec": {
   "display_name": "Python 3 (ipykernel)",
   "language": "python",
   "name": "python3"
  },
  "language_info": {
   "codemirror_mode": {
    "name": "ipython",
    "version": 3
   },
   "file_extension": ".py",
   "mimetype": "text/x-python",
   "name": "python",
   "nbconvert_exporter": "python",
   "pygments_lexer": "ipython3",
   "version": "3.12.2"
  },
  "vscode": {
   "interpreter": {
    "hash": "6c86b3592b6800d985c04531f2c445f0fa6967131b8dd6395a925f7622e55602"
   }
  }
 },
 "nbformat": 4,
 "nbformat_minor": 4
}
