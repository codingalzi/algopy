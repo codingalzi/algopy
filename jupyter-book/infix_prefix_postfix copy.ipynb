{
 "cells": [
  {
   "cell_type": "markdown",
   "metadata": {},
   "source": [
    "# 스택 활용: 중위/전위/후위 표기법"
   ]
  },
  {
   "cell_type": "markdown",
   "metadata": {},
   "source": [
    "**소스코드**\n",
    "\n",
    "아래 내용을 \n",
    "[(구글 코랩) 중위/전위/후위 표기법](https://colab.research.google.com/github/codingalzi/algopy/blob/master/jupyter-book/infix_prefix_postfix.ipynb)에서 \n",
    "직접 실행할 수 있다."
   ]
  },
  {
   "cell_type": "markdown",
   "metadata": {},
   "source": [
    "**주요 내용**\n",
    "\n",
    "- 중위 표기법\n",
    "- 전위 표기법\n",
    "- 후위 표기법"
   ]
  },
  {
   "cell_type": "markdown",
   "metadata": {},
   "source": [
    "## 중위/전위/중위 표기법"
   ]
  },
  {
   "cell_type": "markdown",
   "metadata": {},
   "source": [
    "### 중위 표기법"
   ]
  },
  {
   "cell_type": "markdown",
   "metadata": {},
   "source": [
    "아래 두 수식에 사용되는 덧셈 연산자(`+`)와 \n",
    "곱셈 연산자(`*`)는 더해지거나 곱해지는 두 수의 사이에 위치한다.\n",
    "\n",
    "```python\n",
    "x + y\n",
    "2 + 3 * 6\n",
    "```\n",
    "\n",
    "이렇게 연산자를 두 인자의 사이에 위치시켜 표현식을 작성하는 방법을\n",
    "**중위 표기법**<font size='2'>infix notation</font>이라 한다.\n",
    "중위 표기법으로 작성된 표현식은 간단하게 중위 표현식이라 부른다.\n",
    "\n",
    "중위 표현식을 해석할 때 연산자들의 우선순위를 잘 고려해야 한다.\n",
    "예를 들어 `2 + 3 * 6`는 `2 + (3 * 6)`로 해석되어 최종적으로 20으로 계산된다.\n",
    "이유는 덧셈 보다 곱셈의 **우선순위**가 높기 때문이다.\n",
    "반면에 `(2 + 3) * 6` 처럼 연산자의 우선순위와 다르게 연산을 강요하려면\n",
    "괄호를 사용해야 한다. 그러면 괄호에 의해 `5 * 6`, 즉 30으로 계산된다. \n",
    "\n",
    "또한 `4 - x + 7`와 `2 / x * y` 처럼 동일한 우선순위가 동일한 연산자가 사용되었을 경우엔\n",
    "왼쪽에 위치한 연산자부터 계산한다. \n",
    "즉, `4 - x + 7`는 `(4 - x) + 7`로, `2 / x * y`는 `(2 / x) * y` 로 계산된다.\n",
    "`4 - (x + 7)` 또는 `2 / (x * y)` 는 다른 값을 가리킴에 주의해야 한다."
   ]
  },
  {
   "cell_type": "markdown",
   "metadata": {},
   "source": [
    "### 전위/후기 표기법"
   ]
  },
  {
   "cell_type": "markdown",
   "metadata": {},
   "source": [
    "이처럼 중위 표기법을 사용하는 표현식은 의도된 계산을 명확하기 위해 괄호를 사용해야 한다.\n",
    "그런데 **전위 표기법**<font size='2'>prefix notation</font> \n",
    "또는 **후기 표기법**<font size='2'>postfix notation</font>을 \n",
    "사용하면 괄호를 전혀 사용하지 않으면서 원하고자 하는 값을 유일한 방식으로 나타낼 수 있다."
   ]
  },
  {
   "cell_type": "markdown",
   "metadata": {},
   "source": [
    "예를 들어 `x + y`를 전위 표기법과 후기 표기법으로 표현하면 다음과 같다.\n",
    "\n",
    "| 중위 표기법 | 전위 표기법 | 후위 표기법 |\n",
    "| :---: | :---: | :---: |\n",
    "| `x + y` | `+ x y` | `x y +` |"
   ]
  },
  {
   "cell_type": "markdown",
   "metadata": {},
   "source": [
    "전위 표기법을 사용하면 모든 연산자가 모든 피연산자(연산자의 인자)의 왼쪽에 위치하며,\n",
    "피연산자는 연산자 오른쪽에 차례대로 위치한다.\n",
    "후위 표기법을 사용하면 모든 연산자가 모든 피연산자(연산자의 인자)의 오른쪽에 위치하며,\n",
    "피연산자는 연산자 왼쪽에 차례대로 위치한다."
   ]
  },
  {
   "cell_type": "markdown",
   "metadata": {},
   "source": [
    "`x + y * z` 처럼 여러 개의 연산자가 사용되는 경우엔 \n",
    "피연산자에 대해 동일한 규칙을 적용한다. \n",
    "\n",
    "| 중위 표기법 | 전위 표기법 | 후위 표기법 |\n",
    "| :---: | :---: | :---: |\n",
    "| `x + y * z` | `+ x * y z` | `x y z * +` |"
   ]
  },
  {
   "cell_type": "markdown",
   "metadata": {},
   "source": [
    "반면에 `(x + y) * z` 를 전위와 하위 표기법으로 나타내면 다음과 같다.\n",
    "\n",
    "| 중위 표기법 | 전위 표기법 | 후위 표기법 |\n",
    "| :---: | :---: | :---: |\n",
    "| `(x + y) * z` | `* + x y z` | `x y + z *` |"
   ]
  },
  {
   "cell_type": "markdown",
   "metadata": {},
   "source": [
    "이처럼 전위 또는 후위 표기법을 사용하면 괄호가 없어도 모든 표현식이 유일한 값을 가리킨다.\n",
    "아래 표는 보다 많은 예제를 보여준다."
   ]
  },
  {
   "cell_type": "markdown",
   "metadata": {},
   "source": [
    "반면에 `(x + y) * z` 를 전위와 하위 표기법으로 나타내면 다음과 같다.\n",
    "\n",
    "| 중위 표기법 | 전위 표기법 | 후위 표기법 |\n",
    "| :---: | :---: | :---: |\n",
    "| `x + y * z + v` | `+ + x * y z v` | `x y z * + v +` |\n",
    "| `(x + y) * (z + v)` | `* + x y + z v` | `x y + z v + *` |\n",
    "| `x * y + z * v` | `+ * x y * z v` | `x y * z v * +` |\n",
    "| `x + y + z + v` | `+ + + x y z v` | `x y + z + v +` |"
   ]
  },
  {
   "cell_type": "markdown",
   "metadata": {},
   "source": [
    "## 표기법 변환"
   ]
  },
  {
   "cell_type": "markdown",
   "metadata": {},
   "source": [
    "### 괄호를 사용한 중위 표기법 변환"
   ]
  },
  {
   "cell_type": "markdown",
   "metadata": {},
   "source": [
    "`A + B * C` 표현식의 의미는 `(A + (B * C))` 와 동일하다.\n",
    "그리고 `(A + (B * C))`처럼 사용되는 모든 연산자를 대상으로 괄호가 사용된\n",
    "표현식을 전위 또는 후위 표기법으로 변환하는 일은 어렵지 않다.\n",
    "이유는 여는 괄호는 표현식의 시작을 의미하고, \n",
    "바로 옆에는 첫째 피연산자가, 그 다음엔 (중위) 연산자가,\n",
    "그 다음엔 둘째 피연산자가 위치하며,\n",
    "마지막의 닫는 괄호는 표현식의 끝을 의미하기 때문이다.\n",
    "\n",
    "결국 `(B * C)` 와 같은 표현식을 `* B C` 또는 `B C *` 로 변환하는 \n",
    "과정을 반복하기만 하면 아무리 복잡한 표현식이라도 \n",
    "간단하게 전위 또는 후위 표기법으로 변환할 수 있다."
   ]
  },
  {
   "cell_type": "markdown",
   "metadata": {},
   "source": [
    "**예제**\n",
    "\n",
    "`(A + B) * C - (D - E) * (F + G)` 를 중위/후위 표기법으로 표현하는 과정은 다음과 같다."
   ]
  },
  {
   "cell_type": "markdown",
   "metadata": {},
   "source": [
    "<figure>\n",
    "<div align=\"center\"><img src=\"https://runestone.academy/ns/books/published/pythonds3/_images/complexmove.png\" width=\"80%\"></div>\n",
    "</figure>"
   ]
  },
  {
   "cell_type": "markdown",
   "metadata": {},
   "source": [
    "### 후위 표기법으로의 변환 알고리즘 일반화"
   ]
  },
  {
   "cell_type": "markdown",
   "metadata": {},
   "source": [
    "중위 표현식을 후위 표현식으로 변환하는 알고리즘을 구현하려 한다."
   ]
  },
  {
   "cell_type": "markdown",
   "metadata": {},
   "source": [
    "표현식이 앞서 설명한 것처럼 모든 이항 연산에 대해 괄호를 철저하게 사용하였다면 아주 쉽게 변환할 수 있다.\n",
    "하지만 일반적으로는 반드시 필요하지 않다면 괄호를 생략하고 연산자의\n",
    "우선순위에 따라 계산되도록 한다. \n",
    "예를 들어, `A + B * C` 는 후위 표기법으로 `A B C * +` 로 변환되지만\n",
    "`(A + B) * C`는 후위 표기법으로 `A B + C *`로 변환된다."
   ]
  },
  {
   "cell_type": "markdown",
   "metadata": {},
   "source": [
    "따라서 중위 표현식을 후위 표현식으로 변환할 때 피연산자의 순서는 그대로 유지되지만\n",
    "연산자의 순서는 연산자의 우선순위와 괄호에 의한 연산자 실행 순서에 의해 달라짐을 알 수 있다.\n",
    "이 성질을 이용하여 표기법 변환 알고리즘을 작성한다.\n",
    "\n",
    "- 중위 표기법 표현식을 왼쪽에서부터 차례대로 사용된 피연산자와 연산자를 확인한다.\n",
    "- 피연산자가 확인되면 그대로 후위 표기법 표현식에 추가한다.\n",
    "- 연산자의 경우넨 별도로 준비된 스택에 추가한다.\n",
    "    단, 해당 연산자의 우선순위와 괄호의 사용 여부에 따라 스택을 먼저 \n",
    "    관리한 다음에 추가한다."
   ]
  },
  {
   "cell_type": "markdown",
   "metadata": {},
   "source": [
    "연산자들을 스택으로 관리하는 이유는 먼저 스택에 추가된 연산자보다 낮은 우선순위의 연산자를\n",
    "만나는 순간 스택에 포함된 보다 높거나 같은 우선순위의 연산자를 먼저 후위 표기법의 표현식에\n",
    "추가할 수 있기 때문이다. \n",
    "또한 `(A + B) * C`의 경우처럼 괄호가 포함되면 열린 괄호도 스택에 추가한다.\n",
    "반면에 열린 괄호를 만나는 순간 스택에 열린 괄호를 만날 때까지 스택을 비우면서\n",
    "후위 표기법 표현식을 완성해 나간다."
   ]
  },
  {
   "cell_type": "markdown",
   "metadata": {},
   "source": [
    "이런 점들을 고려하면서 알고리즘을 묘사하면 다음과 같다.\n",
    "먼저, 중위 표현식에 사용된 모든 연산자, 피연산, 괄호 등은 모두 공백(space)로\n",
    "구분된 문자열로 주어진다고 가정한다."
   ]
  },
  {
   "cell_type": "markdown",
   "metadata": {},
   "source": [
    "1. Create an empty stack called ``op_stack`` for keeping operators.\n",
    "   Create an empty list for output.\n",
    "\n",
    "1. Convert the input infix string to a list by using the string method\n",
    "   ``split``.\n",
    "\n",
    "1. Scan the token list from left to right.\n",
    "\n",
    "   -  If the token is an operand, append it to the end of the output\n",
    "      list.\n",
    "\n",
    "   -  If the token is a left parenthesis, push it on the ``op_stack``.\n",
    "\n",
    "   -  If the token is a right parenthesis, pop the ``op_stack`` until the\n",
    "      corresponding left parenthesis is removed. Append each operator to\n",
    "      the end of the output list.\n",
    "\n",
    "   -  If the token is an operator, \\*, /, +, or -, push it on the\n",
    "      ``op_stack``. However, first remove any operators already on the\n",
    "      ``op_stack`` that have higher or equal precedence and append them\n",
    "      to the output list.\n",
    "\n",
    "1. When the input expression has been completely processed, check the\n",
    "   ``op_stack``. Any operators still on the stack can be removed and\n",
    "   appended to the end of the output list."
   ]
  },
  {
   "cell_type": "markdown",
   "metadata": {},
   "source": [
    ":ref:`Figure 9 <fig_intopost>` shows the conversion algorithm working on the\n",
    "expression A \\* B + C \\* D. Note that the first \\* operator is removed\n",
    "upon seeing the + operator. Also, + stays on the stack when the second\n",
    "\\* occurs, since multiplication has precedence over addition. At the end\n",
    "of the infix expression the stack is popped twice, removing both\n",
    "operators and placing + as the last operator in the postfix expression."
   ]
  },
  {
   "cell_type": "markdown",
   "metadata": {},
   "source": [
    "<figure>\n",
    "<div align=\"center\"><img src=\"https://runestone.academy/ns/books/published/pythonds3/_images/intopost.png\" width=\"80%\"></div>\n",
    "</figure>"
   ]
  },
  {
   "cell_type": "markdown",
   "metadata": {},
   "source": [
    "In order to code the algorithm in Python, we will use a dictionary\n",
    "called ``prec`` to hold the precedence values for the operators. This\n",
    "dictionary will map each operator to an integer that can be compared\n",
    "against the precedence levels of other operators (we have arbitrarily\n",
    "used the integers 3, 2, and 1). The left parenthesis will receive the\n",
    "lowest value possible. This way any operator that is compared against it\n",
    "will have higher precedence and will be placed on top of it.\n",
    "Line 15 defines the operands to be any upper-case character or digit.\n",
    "The complete conversion function is\n",
    "shown in :ref:`ActiveCode 1 <lst_intopost>`."
   ]
  },
  {
   "cell_type": "code",
   "execution_count": null,
   "metadata": {},
   "outputs": [],
   "source": [
    "class Stack:\n",
    "    \"\"\"리스트를 활용한 스택 구현\"\"\"\n",
    "\n",
    "    def __init__(self):\n",
    "        \"\"\"새로운 스택 생성\"\"\"\n",
    "        self._items = []\n",
    "\n",
    "    def __repr__(self):\n",
    "        \"\"\"스택 표기법: <[1, 2, 3]> 등등\"\"\"\n",
    "        return f\"<{self._items}>\"\n",
    "        \n",
    "    def is_empty(self):\n",
    "        \"\"\"비었는지 여부 확인\"\"\"\n",
    "        return not bool(self._items)\n",
    "\n",
    "    def push(self, item):\n",
    "        \"\"\"새 항목 추가\"\"\"\n",
    "        self._items.append(item)\n",
    "\n",
    "    def pop(self):\n",
    "        \"\"\"항목 제거\"\"\"\n",
    "        return self._items.pop()\n",
    "\n",
    "    def peek(self):\n",
    "        \"\"\"탑 항목 반환\"\"\"\n",
    "        return self._items[-1]\n",
    "\n",
    "    def size(self):\n",
    "        \"\"\"항목 개수 반환\"\"\"\n",
    "        return len(self._items)"
   ]
  },
  {
   "cell_type": "code",
   "execution_count": 13,
   "metadata": {},
   "outputs": [
    {
     "name": "stdout",
     "output_type": "stream",
     "text": [
      "A B * C D * +\n",
      "A B + C * D E - F G + * -\n"
     ]
    }
   ],
   "source": [
    "def infix_to_postfix(infix_expr):\n",
    "    prec = {}\n",
    "    prec[\"*\"] = 3\n",
    "    prec[\"/\"] = 3\n",
    "    prec[\"+\"] = 2\n",
    "    prec[\"-\"] = 2\n",
    "    prec[\"(\"] = 1\n",
    "    op_stack = Stack()\n",
    "    postfix_list = []\n",
    "    token_list = infix_expr.split()\n",
    "\n",
    "    for token in token_list:\n",
    "        if token in \"ABCDEFGHIJKLMNOPQRSTUVWXYZ\" or token in \"0123456789\":\n",
    "            postfix_list.append(token)\n",
    "        elif token == \"(\":\n",
    "            op_stack.push(token)\n",
    "        elif token == \")\":\n",
    "            top_token = op_stack.pop()\n",
    "            while top_token != \"(\":\n",
    "                postfix_list.append(top_token)\n",
    "                top_token = op_stack.pop()\n",
    "        else:\n",
    "            while (not op_stack.is_empty()) and (prec[op_stack.peek()] >= prec[token]):\n",
    "                postfix_list.append(op_stack.pop())\n",
    "            op_stack.push(token)\n",
    "\n",
    "    while not op_stack.is_empty():\n",
    "        postfix_list.append(op_stack.pop())\n",
    "\n",
    "    return \" \".join(postfix_list)\n",
    "\n",
    "print(infix_to_postfix(\"A * B + C * D\"))\n",
    "print(infix_to_postfix(\"( A + B ) * C - ( D - E ) * ( F + G )\"))"
   ]
  },
  {
   "cell_type": "markdown",
   "metadata": {},
   "source": [
    "A few more examples of execution in the Python shell are shown below."
   ]
  },
  {
   "cell_type": "markdown",
   "metadata": {},
   "source": [
    "```python\n",
    ">>> infix_to_postfix(\"( A + B ) * ( C + D )\")\n",
    "'A B + C D + *'\n",
    ">>> infix_to_postfix(\"( A + B ) * C\")\n",
    "'A B + C *'\n",
    ">>> infix_to_postfix(\"A + B * C\")\n",
    "'A B C * +'\n",
    ">>>\n",
    "```"
   ]
  },
  {
   "cell_type": "markdown",
   "metadata": {},
   "source": [
    "## 후위 표기법 표현식 계산"
   ]
  },
  {
   "cell_type": "markdown",
   "metadata": {},
   "source": [
    "As a final stack example, we will consider the evaluation of an\n",
    "expression that is already in postfix notation. In this case, a stack is\n",
    "again the data structure of choice. However, as you scan the postfix\n",
    "expression, it is the operands that must wait, not the operators as in\n",
    "the conversion algorithm above. Another way to think about the solution\n",
    "is that whenever an operator is seen on the input, the two most recent\n",
    "operands will be used in the evaluation.\n",
    "\n",
    "To see this in more detail, consider the postfix expression\n",
    "``4 5 6 * +``. As you scan the expression from left to right, you first\n",
    "encounter the operands 4 and 5. At this point, you are still unsure what\n",
    "to do with them until you see the next symbol. Placing each on the stack\n",
    "ensures that they are available if an operator comes next.\n",
    "\n",
    "In this case, the next symbol is another operand. So, as before, push it\n",
    "and check the next symbol. Now we see an operator, \\*. This means that\n",
    "the two most recent operands need to be used in a multiplication\n",
    "operation. By popping the stack twice, we can get the proper operands\n",
    "and then perform the multiplication (in this case getting the result\n",
    "30).\n",
    "\n",
    "We can now handle this result by placing it back on the stack so that it\n",
    "can be used as an operand for the later operators in the expression.\n",
    "When the final operator is processed, there will be only one value left\n",
    "on the stack. Pop and return it as the result of the expression.\n",
    ":ref:`Figure 10 <fig_evalpost1>` shows the stack contents as this entire example\n",
    "expression is being processed."
   ]
  },
  {
   "cell_type": "markdown",
   "metadata": {},
   "source": [
    "<figure>\n",
    "<div align=\"center\"><img src=\"https://runestone.academy/ns/books/published/pythonds3/_images/evalpostfix1.png\" width=\"55%\"></div>\n",
    "</figure>"
   ]
  },
  {
   "cell_type": "markdown",
   "metadata": {},
   "source": [
    ":ref:`Figure 11 <fig_evalpost2>` shows a slightly more complex example, 7 8 + 3 2\n",
    "+ /. There are two things to note in this example. First, the stack size\n",
    "grows, shrinks, and then grows again as the subexpressions are\n",
    "evaluated. Second, the division operation needs to be handled carefully.\n",
    "Recall that the operands in the postfix expression are in their original\n",
    "order since postfix changes only the placement of operators. When the\n",
    "operands for the division are popped from the stack, they are reversed.\n",
    "Since division is *not* a commutative operator, in other words\n",
    ":math:`15/5` is not the same as :math:`5/15`, we must be sure that\n",
    "the order of the operands is not switched."
   ]
  },
  {
   "cell_type": "markdown",
   "metadata": {},
   "source": [
    "<figure>\n",
    "<div align=\"center\"><img src=\"https://runestone.academy/ns/books/published/pythonds3/_images/evalpostfix2.png\" width=\"60%\"></div>\n",
    "</figure>"
   ]
  },
  {
   "cell_type": "markdown",
   "metadata": {},
   "source": [
    "Assume the postfix expression is a string of tokens delimited by spaces.\n",
    "The operators are \\*, /, +, and - and the operands are assumed to be\n",
    "single-digit integer values. The output will be an integer result."
   ]
  },
  {
   "cell_type": "markdown",
   "metadata": {},
   "source": [
    "1. Create an empty stack called ``operand_stack``.\n",
    "\n",
    "1. Convert the string to a list by using the string method ``split``.\n",
    "\n",
    "1. Scan the token list from left to right.\n",
    "\n",
    "   -  If the token is an operand, convert it from a string to an integer\n",
    "      and push the value onto the ``operand_stack``.\n",
    "\n",
    "   -  If the token is an operator, \\*, /, +, or -, it will need two\n",
    "      operands. Pop the ``operand_stack`` twice. The first pop is the\n",
    "      second operand and the second pop is the first operand. Perform\n",
    "      the arithmetic operation. Push the result back on the\n",
    "      ``operand_stack``.\n",
    "\n",
    "1. When the input expression has been completely processed, the result\n",
    "   is on the stack. Pop the ``operand_stack`` and return the value."
   ]
  },
  {
   "cell_type": "markdown",
   "metadata": {},
   "source": [
    "The complete function for the evaluation of postfix expressions is shown\n",
    "in :ref:`ActiveCode 2 <lst_postfixeval>`. To assist with the arithmetic, a helper\n",
    "function ``do_math`` is defined that will take two operands and an\n",
    "operator and then perform the proper arithmetic operation."
   ]
  },
  {
   "cell_type": "markdown",
   "metadata": {},
   "source": [
    "    .. activecode:: postfixeval\n",
    "        :caption: Postfix Evaluation\n",
    "        :nocodelens:"
   ]
  },
  {
   "cell_type": "code",
   "execution_count": 14,
   "metadata": {},
   "outputs": [
    {
     "name": "stdout",
     "output_type": "stream",
     "text": [
      "3.0\n"
     ]
    }
   ],
   "source": [
    "def postfix_eval(postfix_expr):\n",
    "    operand_stack = Stack()\n",
    "    token_list = postfix_expr.split()\n",
    "\n",
    "    for token in token_list:\n",
    "        if token in \"0123456789\":\n",
    "            operand_stack.push(int(token))\n",
    "        else:\n",
    "            operand2 = operand_stack.pop()\n",
    "            operand1 = operand_stack.pop()\n",
    "            result = do_math(token, operand1, operand2)\n",
    "            operand_stack.push(result)\n",
    "    return operand_stack.pop()\n",
    "\n",
    "\n",
    "def do_math(op, op1, op2):\n",
    "    if op == \"*\":\n",
    "        return op1 * op2\n",
    "    elif op == \"/\":\n",
    "        return op1 / op2\n",
    "    elif op == \"+\":\n",
    "        return op1 + op2\n",
    "    else:\n",
    "        return op1 - op2\n",
    "\n",
    "\n",
    "print(postfix_eval(\"7 8 + 3 2 + /\"))"
   ]
  },
  {
   "cell_type": "markdown",
   "metadata": {},
   "source": [
    "It is important to note that in both the postfix conversion and the\n",
    "postfix evaluation programs we assumed that there were no errors in the\n",
    "input expression. Using these programs as a starting point, you can\n",
    "easily see how error detection and reporting can be included. We leave\n",
    "this as an exercise at the end of the chapter."
   ]
  },
  {
   "cell_type": "markdown",
   "metadata": {},
   "source": [
    "__Self Check__"
   ]
  },
  {
   "cell_type": "markdown",
   "metadata": {},
   "source": [
    "Q-3: Without using the activecode ``infix_to_postfix`` function, convert the following expression to postfix  ``10 + 3 * 5 / (16 - 4)``."
   ]
  },
  {
   "cell_type": "markdown",
   "metadata": {},
   "source": [
    "Q-4: What is the result of evaluating the following: ``17 10 + 3 * 9 / ==`` ?\n",
    "\n",
    "정답: 9"
   ]
  },
  {
   "cell_type": "markdown",
   "metadata": {},
   "source": [
    "Q-5: Modify the ``infix_to_postfix`` function so that it can convert the following expression:  ``5 * 3 ** (4 - 2)``. Run the function on the expression and paste the answer here"
   ]
  },
  {
   "cell_type": "markdown",
   "metadata": {},
   "source": [
    "    .. youtube:: LO-2q4pSsdM\n",
    "        :divid: video_Stack3\n",
    "        :height: 315\n",
    "        :width: 560\n",
    "        :align: left"
   ]
  },
  {
   "cell_type": "markdown",
   "metadata": {},
   "source": [
    "## 연습 문제"
   ]
  },
  {
   "cell_type": "markdown",
   "metadata": {},
   "source": [
    "1. Convert the following infix expressions to prefix (use full\n",
    "   parentheses):\n",
    "\n",
    "   -  (A+B)\\*(C+D)\\*(E+F)\n",
    "\n",
    "   -  A+((B+C)\\*(D+E))\n",
    "\n",
    "   -  A\\*B\\*C\\*D+E+F\n",
    "\n",
    "1. Convert the above infix expressions to postfix (use full\n",
    "   parentheses).\n",
    "\n",
    "1. Convert the above infix expressions to postfix using the direct\n",
    "   conversion algorithm. Show the stack as the conversion takes place.\n",
    "\n",
    "1. Evaluate the following postfix expressions. Show the stack as each\n",
    "   operand and operator is processed.\n",
    "\n",
    "   -  2 3 \\* 4 +\n",
    "\n",
    "   -  1 2 + 3 + 4 + 5 +\n",
    "\n",
    "   -  1 2 3 4 5 \\* + \\* +"
   ]
  },
  {
   "cell_type": "markdown",
   "metadata": {},
   "source": [
    "**전위, 중위, 후위 표기법**"
   ]
  },
  {
   "cell_type": "markdown",
   "metadata": {},
   "source": [
    "1. Modify the infix-to-postfix algorithm so that it can handle errors.\n",
    "\n",
    "1. Modify the postfix evaluation algorithm so that it can handle errors.\n",
    "\n",
    "1. Implement a direct infix evaluator that combines the functionality of\n",
    "   infix-to-postfix conversion and the postfix evaluation algorithm.\n",
    "   Your evaluator should process infix tokens from left to right and use\n",
    "   two stacks, one for operators and one for operands, to perform the\n",
    "   evaluation.\n",
    "\n",
    "1. Turn your direct infix evaluator from the previous problem into a\n",
    "   calculator."
   ]
  }
 ],
 "metadata": {
  "kernelspec": {
   "display_name": "Python 3.9.12 ('base')",
   "language": "python",
   "name": "python3"
  },
  "language_info": {
   "codemirror_mode": {
    "name": "ipython",
    "version": 3
   },
   "file_extension": ".py",
   "mimetype": "text/x-python",
   "name": "python",
   "nbconvert_exporter": "python",
   "pygments_lexer": "ipython3",
   "version": "3.9.12"
  },
  "vscode": {
   "interpreter": {
    "hash": "ad0f3c8a064f687cbf898a0868fd45ba1c7e928ac8a0404f7c241d812ddc1e76"
   }
  }
 },
 "nbformat": 4,
 "nbformat_minor": 4
}
