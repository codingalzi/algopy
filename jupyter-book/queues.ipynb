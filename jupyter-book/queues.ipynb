{
 "cells": [
  {
   "cell_type": "markdown",
   "metadata": {},
   "source": [
    "(sec:queues)=\n",
    "# 큐<font size='2'>Queue</font>"
   ]
  },
  {
   "cell_type": "markdown",
   "metadata": {},
   "source": [
    "**슬라이드**\n",
    "\n",
    "본문 내용을 요약한 [슬라이드](https://github.com/codingalzi/algopy/raw/master/slides/slides-queues.pdf)를 다운로드할 수 있다."
   ]
  },
  {
   "cell_type": "markdown",
   "metadata": {},
   "source": [
    "**주요 내용**\n",
    "\n",
    "- 큐 추상 자료형\n",
    "- 큐 자료구조\n",
    "- 큐 활용"
   ]
  },
  {
   "cell_type": "markdown",
   "metadata": {},
   "source": [
    "## 큐의 정의"
   ]
  },
  {
   "cell_type": "markdown",
   "metadata": {},
   "source": [
    "**큐**<font size='2'>queue</font>는\n",
    "항목 추가는 꼬리에서, 항목 삭제는 머리에서 이루어지는 선형 자료형이다.\n",
    "따라서 입력된 순서대로 항목이 삭제된다."
   ]
  },
  {
   "cell_type": "code",
   "execution_count": 4,
   "metadata": {},
   "outputs": [],
   "source": [
    "from queue import Queue"
   ]
  },
  {
   "cell_type": "markdown",
   "metadata": {},
   "source": [
    "\n",
    "아래 그림에서 보여지는 것처럼 먼저 들어온 항목이 먼저 나간다는 **선입선출**<font size='2'>first in, first out</font>(FIFO) 원리를 따르며,\n",
    "항목들의 추가와 삭제는 입력 순서에 따라 한쪽 방향으로 이동하는 방식이\n",
    "철저하게 지켜진다."
   ]
  },
  {
   "cell_type": "markdown",
   "metadata": {},
   "source": [
    "<p><div align=\"center\"><img src=\"https://raw.githubusercontent.com/codingalzi/algopy/master/jupyter-book/imgs/fifo.png\" width=\"40%\"></div></p>"
   ]
  },
  {
   "cell_type": "markdown",
   "metadata": {},
   "source": [
    "큐의 활용은 다양하게 이루어진다. \n",
    "예를 들어, 은행 창구에서 번호표 배분하는 장치는 방문 순서대로 호출되며, \n",
    "프린터는 인쇄 과제가 생성된 순서대로 출력한다. \n",
    "또한 키보드를 이용하여 타이핑하면 버퍼(buffer)와 같은\n",
    "큐에 잠시 저장되어 있다가 순서대로 편집기에 표시되며,\n",
    "컴퓨터 CPU가 사용자가 내린 명령문을 처리하는 것 또한 특정 형식의 큐를 이용한다. "
   ]
  },
  {
   "cell_type": "markdown",
   "metadata": {},
   "source": [
    "**예제: 버퍼 활용**"
   ]
  },
  {
   "cell_type": "markdown",
   "metadata": {},
   "source": [
    "파이썬 `print()` 함수는 여러 개의 키워드 인자를 사용한다."
   ]
  },
  {
   "cell_type": "code",
   "execution_count": 1,
   "metadata": {},
   "outputs": [
    {
     "name": "stdout",
     "output_type": "stream",
     "text": [
      "Help on built-in function print in module builtins:\n",
      "\n",
      "print(*args, sep=' ', end='\\n', file=None, flush=False)\n",
      "    Prints the values to a stream, or to sys.stdout by default.\n",
      "    \n",
      "    sep\n",
      "      string inserted between values, default a space.\n",
      "    end\n",
      "      string appended after the last value, default a newline.\n",
      "    file\n",
      "      a file-like object (stream); defaults to the current sys.stdout.\n",
      "    flush\n",
      "      whether to forcibly flush the stream.\n",
      "\n"
     ]
    }
   ],
   "source": [
    "help(print)"
   ]
  },
  {
   "cell_type": "markdown",
   "metadata": {},
   "source": [
    "이중에 `end` 키워드는 지정된 문자열 출력후 기본적으로 줄바꿈을 실행하도록 되어 있다.\n",
    "그런데 예를 들어 아래 코드의 `end=' '` 처럼 기본값을 변경하면 버퍼(buffer)에 출력할 값들을\n",
    "보관한 다음 마지막에 한꺼번에 쏟아내어 화면에 출력하도록 한다."
   ]
  },
  {
   "cell_type": "markdown",
   "metadata": {},
   "source": [
    "```python\n",
    "import time\n",
    "\n",
    "for i in range(10):\n",
    "    print(i, end=' ')\n",
    "    time.sleep(1)\n",
    "```"
   ]
  },
  {
   "cell_type": "markdown",
   "metadata": {},
   "source": [
    "아래 이미지는 터미널에서 위 코드를 실행한 결과를 보여준다."
   ]
  },
  {
   "cell_type": "markdown",
   "metadata": {},
   "source": [
    "<figure>\n",
    "<div align=\"center\"><img src=\"https://raw.githubusercontent.com/codingalzi/algopy/master/notebooks/_images/print_buffer_2.gif\" width=\"55%\"></div>\n",
    "</figure>\n",
    "\n",
    "<이미지 출처: [janeljs.log](https://velog.io/@janeljs/python-print-sep-end-file-flush)>"
   ]
  },
  {
   "cell_type": "markdown",
   "metadata": {},
   "source": [
    "이에 대한 해결책은 `flush=True`로 지정하는 것이다. \n",
    "그러면 한 개의 숫자씩 차례대로 출력한다."
   ]
  },
  {
   "cell_type": "markdown",
   "metadata": {},
   "source": [
    "```python\n",
    "import time\n",
    "\n",
    "for i in range(10):\n",
    "    print(i, end=' ', flush=True)\n",
    "    time.sleep(1)\n",
    "```"
   ]
  },
  {
   "cell_type": "markdown",
   "metadata": {},
   "source": [
    "## `Queue` 추상 자료형"
   ]
  },
  {
   "cell_type": "markdown",
   "metadata": {},
   "source": [
    "큐 추상 자료형을 구체적인 파이썬 자료구조(data structure)로 \n",
    "구현할 때 요구되눈 기본 속성과 기능은 다음과 같다.\n",
    "\n",
    "-  `Queue(maxsize=0)`: 비어 있는 큐 생성. `maxsize`를 양의 정수로 지정하면 항목을 최대 그만큼 담을 수 있음. \n",
    "    아니면 제한 없음.\n",
    "-  `put(item)`: maxsize가 양의 정수이면서 항목을 추가하면 허용되는 항목의 수를 초과하는 경우\n",
    "    먼저 머리(head, front)를 제거한 다음 새로운 항목을 꼬리(rear, tail)에 추가. 반환값 없음.\n",
    "-  `get()`: 머리(head, front) 항목 삭제. 삭제된 항목 반환.\n",
    "-  `empty()`: 큐가 비었는지 여부 판단. 부울값 반환.\n",
    "-  `full()`: 큐가 꽉 차 있는지 여부 판단. 부울값 반환.\n",
    "-  `qsize()`: 큐에 포함된 항목 개수 반환."
   ]
  },
  {
   "cell_type": "markdown",
   "metadata": {},
   "source": [
    "아래 테이블은 큐 생성과 함께 다양한 큐 관련 연산의 작동법을 소개한다.\n",
    "\n",
    "- 항목의 저장: 리스트 활용\n",
    "- 머리: 리스트의 마지막 인덱스\n",
    "- 꼬리: 리스트의 0번 인덱스"
   ]
  },
  {
   "cell_type": "markdown",
   "metadata": {},
   "source": [
    "| **큐 연산** | **큐 항목** | **반환값** |\n",
    "| --- | --- | --- |\n",
    "| `q = Queue(maxsize=4)` | `[]` | |\n",
    "| `q.empty()` | `[]` | `True` |\n",
    "| `q.put(4)` | `[4]` | |\n",
    "| `q.put(\"dog\")` | `['dog',4]` | |\n",
    "| `q.put(True)` | `[True, 'dog', 4]` | |\n",
    "| `q.qsize()` | `[True, 'dog', 4]` | `3` |\n",
    "| `q.empty()` | `[True, 'dog', 4]` | `False` |\n",
    "| `q.put(8.4)` | `[8.4, True, 'dog', 4]` | |\n",
    "| `q.put('하나 더?')` | `['하나 더?', 8.4, True, 'dog']` | |\n",
    "| `q.get()` | `['하나 더?', 8.4, True]` | `'dog'` |\n",
    "| `q.get()` | `['하나 더?', 8.4]` | `True` |\n",
    "| `q.qsize()`  | `['하나 더?', 8.4]` | `2` |"
   ]
  },
  {
   "cell_type": "markdown",
   "metadata": {},
   "source": [
    "## 큐 자료구조 구현"
   ]
  },
  {
   "cell_type": "markdown",
   "metadata": {},
   "source": [
    "리스트를 활용할 때 중요한 것은 머리와 꼬리를 어디로 설정하는가이다. \n",
    "앞서 본 것처럼 꼬리는 리스트의 시작, 머리는 리스트의 오른편 끝으로 정하며,\n",
    "이에 따라 `put()`와 `get()`를 정의하기 위해 리스트의 \n",
    "`insert()`와 `pop()` 메서드를 활용한다. "
   ]
  },
  {
   "cell_type": "code",
   "execution_count": 2,
   "metadata": {},
   "outputs": [],
   "source": [
    "class Queue:\n",
    "    \"\"\"리스트를 활용한 큐 구현\"\"\"\n",
    "\n",
    "    def __init__(self, maxsize=0):\n",
    "        \"\"\"새로운 큐 생성\"\"\"\n",
    "        self.maxsize = maxsize\n",
    "        self._items = []\n",
    "    \n",
    "    def __repr__(self):\n",
    "        \"\"\"큐 표기법: <<[1, 2, 3]>> 등등\"\"\"\n",
    "        return f\"<<{self._items}>>\"\n",
    "    \n",
    "    def empty(self):\n",
    "        \"\"\"비었는지 여부 확인\"\"\"\n",
    "        return not bool(self._items)\n",
    "\n",
    "    def full(self):\n",
    "        \"\"\"maxsize 충족 여부 확인\"\"\"\n",
    "        if self.maxsize <= 0:\n",
    "            return False\n",
    "        elif self.qsize() == self.maxsize:\n",
    "            return True\n",
    "        else:\n",
    "            return False\n",
    "\n",
    "    def put(self, item):\n",
    "        \"\"\"꼬리에 항목 추가\n",
    "        - maxsize를 채웠을 경우 머리 항목 삭제 후 추가\n",
    "        \"\"\"\n",
    "        if self.full() == True:\n",
    "            self.get()\n",
    "            \n",
    "        self._items.insert(0, item)\n",
    "\n",
    "    def get(self):\n",
    "        \"\"\"머리 항목 삭제\"\"\"\n",
    "        return self._items.pop()\n",
    "\n",
    "    def qsize(self):\n",
    "        \"\"\"항목 개수 확인\"\"\"\n",
    "        return len(self._items)"
   ]
  },
  {
   "cell_type": "code",
   "execution_count": 3,
   "metadata": {},
   "outputs": [
    {
     "name": "stdout",
     "output_type": "stream",
     "text": [
      "True\n",
      "<<[True, 'dog', 4]>>\n",
      "False\n",
      "3\n",
      "False\n",
      "True\n",
      "<<[8.4, True, 'dog', 4]>>\n",
      "<<['하나 더?', 8.4, True, 'dog']>>\n",
      "dog\n",
      "True\n",
      "2\n",
      "<<['하나 더?', 8.4]>>\n"
     ]
    }
   ],
   "source": [
    "q = Queue(maxsize=4)\n",
    "\n",
    "print(q.empty())\n",
    "q.put(4)\n",
    "q.put(\"dog\")\n",
    "q.put(True)\n",
    "print(q)\n",
    "print(q.full())\n",
    "print(q.qsize())\n",
    "print(q.empty())\n",
    "q.put(8.4)\n",
    "print(q.full())\n",
    "print(q)\n",
    "q.put(\"하나 더?\")\n",
    "print(q)\n",
    "print(q.get())\n",
    "print(q.get())\n",
    "print(q.qsize())\n",
    "print(q)"
   ]
  },
  {
   "cell_type": "markdown",
   "metadata": {},
   "source": [
    "## 실전 예제 1: 폭탄 돌리기"
   ]
  },
  {
   "cell_type": "markdown",
   "metadata": {},
   "source": [
    "**게임 소개**"
   ]
  },
  {
   "cell_type": "markdown",
   "metadata": {},
   "source": [
    "여러 명이 빙 둘러앉아 폭탄 돌리기 게임을 한다. \n",
    "폭탄을 계속 돌리다가 멈추는 순간 폭탄을 들고 있는 사람은 탈락된다.\n",
    "폭탄을 몇 번 돌리는가는 미리 지정하며 최종적으로 한 명이 남을 때까지 게임을 진행한다."
   ]
  },
  {
   "cell_type": "markdown",
   "metadata": {},
   "source": [
    "<figure>\n",
    "<div align=\"center\"><img src=\"https://runestone.academy/runestone/books/published/pythonds3/_images/hotpotato.png\" width=\"45%\"></div>\n",
    "</figure>"
   ]
  },
  {
   "cell_type": "markdown",
   "metadata": {},
   "source": [
    "**게임 구현**"
   ]
  },
  {
   "cell_type": "markdown",
   "metadata": {},
   "source": [
    "폭탄 돌리기 게임을 큐를 이용하여 구현해보자.\n",
    "게임 시작과 진행 과정에 필요한 사항들은 다음과 같다.\n",
    "\n",
    "- 게임 시작: 사람들의 리스트(`name_list`)와 정수(`num`)\n",
    "- 폭탄 위치: 큐의 머리(리스트의 가장 오른편)에 있는 사람\n",
    "- 폭탄 전달: 머리 항목 삭제 후 바로 꼬리(리스트의 0번 인덱스 위치)에 추가\n",
    "- 탈락: `num`번의 폭탄 돌리기 이후 머리에 위치한 사람 탈락 \n",
    "- 게임 정지: 한 명이 남을 때까지 반복"
   ]
  },
  {
   "cell_type": "markdown",
   "metadata": {},
   "source": [
    "<figure>\n",
    "<div align=\"center\"><img src=\"https://runestone.academy/runestone/books/published/pythonds3/_images/namequeue.png\" width=\"60%\"></div>\n",
    "</figure>"
   ]
  },
  {
   "cell_type": "markdown",
   "metadata": {},
   "source": [
    "위 알고리즘을 함수로 구현하면 다음과 같다.\n",
    "참고로, 폭탄 돌리기 게임을 영어로 Hot Potato 게임이라 한다."
   ]
  },
  {
   "cell_type": "code",
   "execution_count": 4,
   "metadata": {},
   "outputs": [],
   "source": [
    "def hot_potato(name_list, num):\n",
    "\n",
    "    sim_queue = Queue()\n",
    "    \n",
    "    # 큐에 사람 목록 추가\n",
    "    for name in name_list:\n",
    "        sim_queue.put(name)\n",
    "\n",
    "    # 게임 진행\n",
    "    while sim_queue.qsize() > 1:\n",
    "        # num 번 폭탄 돌린 후 탈락자 지정\n",
    "        for i in range(num):\n",
    "            sim_queue.put(sim_queue.get())\n",
    "\n",
    "        sim_queue.get()\n",
    "\n",
    "    return sim_queue.get()    # 마지막 남은 사람"
   ]
  },
  {
   "cell_type": "markdown",
   "metadata": {},
   "source": [
    "아래 코드는 폭탄을 7번 돌릴 때마다 탈락자를 정할 때\n",
    "마지막에 '은혜'가 남는다."
   ]
  },
  {
   "cell_type": "code",
   "execution_count": 5,
   "metadata": {},
   "outputs": [
    {
     "name": "stdout",
     "output_type": "stream",
     "text": [
      "은혜\n"
     ]
    }
   ],
   "source": [
    "print(hot_potato([\"형택\", \"진서\", \"은혜\", \"민규\", \"정은\", \"청용\"], 7))"
   ]
  },
  {
   "cell_type": "markdown",
   "metadata": {},
   "source": [
    "## 연습 문제"
   ]
  },
  {
   "cell_type": "markdown",
   "metadata": {},
   "source": [
    "1. [(실습) 큐](https://colab.research.google.com/github/codingalzi/algopy/blob/master/excs/exc-queues.ipynb)"
   ]
  }
 ],
 "metadata": {
  "kernelspec": {
   "display_name": "Python 3 (ipykernel)",
   "language": "python",
   "name": "python3"
  },
  "language_info": {
   "codemirror_mode": {
    "name": "ipython",
    "version": 3
   },
   "file_extension": ".py",
   "mimetype": "text/x-python",
   "name": "python",
   "nbconvert_exporter": "python",
   "pygments_lexer": "ipython3",
   "version": "3.12.2"
  },
  "vscode": {
   "interpreter": {
    "hash": "6c86b3592b6800d985c04531f2c445f0fa6967131b8dd6395a925f7622e55602"
   }
  }
 },
 "nbformat": 4,
 "nbformat_minor": 4
}
