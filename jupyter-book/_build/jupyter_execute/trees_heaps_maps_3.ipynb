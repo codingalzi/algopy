{
 "cells": [
  {
   "cell_type": "markdown",
   "metadata": {},
   "source": [
    "# 맵(Map)"
   ]
  },
  {
   "cell_type": "markdown",
   "metadata": {},
   "source": [
    "사전 자료형처럼 작동하는 자료형 일반을 `Map` 추상 자료형이라 부른다.\n",
    "`Map` 객체는 키(key)와 값(value)으로 이루어진 쌍을 저장하며 키(key)를\n",
    "이용하여 연관된 값(value)를 확인한다."
   ]
  },
  {
   "cell_type": "markdown",
   "metadata": {},
   "source": [
    "`Map` 클래스는 아래 기능을 제공해야 한다."
   ]
  },
  {
   "cell_type": "markdown",
   "metadata": {},
   "source": [
    "- `put(key, val)`: 키-값 쌍을 항목으로 추가.\n",
    "    키(key)가 이미 존재하는 경우 관련된 값(value)을 얻데이트함.\n",
    "- `get(key)`: 키와 연관된 값 확인. 키가 존재하지 않으면 `None` 반환.\n",
    "- `del`: `del map[key]` 방식으로 작동하며 지정된 키와 연관된 값을 함께 삭제함.\n",
    "- `len()`: 항목 개수 반환\n",
    "- `in`: 키(key) `key in map` 방식으로 작동하며 키의 존재 여부 확인."
   ]
  },
  {
   "cell_type": "markdown",
   "metadata": {},
   "source": [
    "맵(Map) 추상 자료형의 다양한 활용법을 소개한다. \n",
    "\n",
    "- 해시 테이블\n",
    "- 이진탐색트리\n",
    "- 균형 이진탐색트리(AVL 트리)"
   ]
  },
  {
   "cell_type": "markdown",
   "metadata": {},
   "source": [
    "## 해싱과 해시 테이블"
   ]
  },
  {
   "cell_type": "markdown",
   "metadata": {},
   "source": [
    "**해싱**(hashing) 기법을 적용하여 $O(1)$ 시간복잡도의 탐색을 허용하는\n",
    "자료구조를 알아본다.\n",
    "이 자료구조는 **해시 테이블**(hash table)을 이용하여 \n",
    "새로운 항목이 저장될 위치가 어디인지 미리 확인한\n",
    "다음에 저장한다. \n",
    "\n",
    "해시 테이블의 저장 공간 각각을 **슬롯**(slot)이라 부르며\n",
    "탐색 대상 항목이 있어야 하는 슬롯의 위치인 인덱스를 먼저 확인한 후에\n",
    "실제로 해당 슬롯에 저장되어 있는지 여부만을 확인하기에\n",
    "시간복잡도가 $O(1)$이 될 수 있다.\n",
    "\n",
    "**주의사항**: 항목이 위치해야 할 위치를 계산하는 시간은 일정하다는 전제조건이\n",
    "성립해야 한다.\n",
    "\n",
    "여기서는 리스트를 이용하여 해시 테이블을 구현한다. \n",
    "아래 그림은 크기가 11인 비어 있는 해시 테이블을 보여준다."
   ]
  },
  {
   "cell_type": "markdown",
   "metadata": {},
   "source": [
    "<figure>\n",
    "<div align=\"center\"><img src=\"https://runestone.academy/runestone/books/published/pythonds3/_images/hashtable.png\" width=\"70%\"></div>\n",
    "</figure>"
   ]
  },
  {
   "cell_type": "markdown",
   "metadata": {},
   "source": [
    "### 해시 함수"
   ]
  },
  {
   "cell_type": "markdown",
   "metadata": {},
   "source": [
    "**해시 함수**(hash function)는 항목이 저정되어야 할 슬롯의 위치를 계산한다. \n",
    "길이가 $m$인 해시 테이블을 사용한다면 해시 함수의 반환값은 $0$과 $m-1$ 사이의 값을\n",
    "임의의 항목에 대해 계산해야 한다."
   ]
  },
  {
   "cell_type": "markdown",
   "metadata": {},
   "source": [
    "**해시 알고리즘 1: 나머지 함수**"
   ]
  },
  {
   "cell_type": "markdown",
   "metadata": {},
   "source": [
    "입력값을 해시 테이블의 길이로 나눈 나머지를 항목이 저장되어야 할 슬롯의 위치(인덱스)로 지정한다.\n",
    "\n",
    "```python\n",
    "h(item) = item % 11\n",
    "```\n",
    "\n",
    "예를 들어 54, 26, 93, 17, 77, 31 에 대한 **해시값**(hash value)은 \n",
    "다음과 같다."
   ]
  },
  {
   "cell_type": "markdown",
   "metadata": {},
   "source": [
    "| **항목** |  **해시값** |\n",
    "| :---: | :---: |\n",
    "| 54 | 10 |\n",
    "| 26 | 4 |\n",
    "| 93 | 5 |\n",
    "| 17 | 6 |\n",
    "| 77 | 0 |\n",
    "| 31 | 9 |"
   ]
  },
  {
   "cell_type": "markdown",
   "metadata": {},
   "source": [
    "해시값을 활용하여 각각의 값을 리스트의 해당 인덱스에 저장한 결과는 다음과 같다."
   ]
  },
  {
   "cell_type": "markdown",
   "metadata": {},
   "source": [
    "<figure>\n",
    "<div align=\"center\"><img src=\"https://runestone.academy/runestone/books/published/pythonds3/_images/hashtable2.png\" width=\"70%\"></div>\n",
    "</figure>"
   ]
  },
  {
   "cell_type": "markdown",
   "metadata": {},
   "source": [
    "_**탐색 시간 복잡도**_"
   ]
  },
  {
   "cell_type": "markdown",
   "metadata": {},
   "source": [
    "나머지 함수를 활용하여 생성된 해시 테이블에 대한 탐색 알고리즘은 $O(1)$이다.\n",
    "이유는 항목의 나머지를 계산한 다음에 해당 위치의 값을 한 번 확인만하면 되기 때문이다.\n",
    "나머지 계산에 드는 시간은 해시 테이블의 길이와 무관하게 무관하게 거의 일정하다."
   ]
  },
  {
   "cell_type": "markdown",
   "metadata": {},
   "source": [
    "**해시 테이블 점유율**"
   ]
  },
  {
   "cell_type": "markdown",
   "metadata": {},
   "source": [
    "**점유율**(load factor)은 해시 테이블에서 항목이 자리한 슬롯의 비율이며\n",
    "보통 $\\lambda$(람다)로 표시한다.\n",
    "\n",
    "$$\\lambda = \\frac {\\text{포함된 항목 수}}{\\text{테이블 크기}}$$\n",
    "\n",
    "위 해시 테이블의 점유율은 $\\frac{6}{11}$이다. \n",
    "\n",
    "**참고**: 점유율($\\lambda$)은 해싱 관련 함수들의 시간/공간 복잡도를 계산하는 데에 \n",
    "중요한 역할을 수행한다(9.2.4절 참조)."
   ]
  },
  {
   "cell_type": "markdown",
   "metadata": {},
   "source": [
    "**충돌 문제**"
   ]
  },
  {
   "cell_type": "markdown",
   "metadata": {},
   "source": [
    "앞서 설명한 나머지 방식은 나머지가 동일하면 저장되어야 할 \n",
    "위치가 중복되는 문제를 갖는다.\n",
    "이런 문제를 **충돌**(collision)이라 부른다.\n",
    "예를 들어 44, 77 등은 모두 해시 테이블의 길이인 11로 나누면 나머지가 0이다. \n",
    "\n",
    "임의의 데이터셋에 대해 충돌이 절대로 발생하지 않는 해시 함수와 해시 테이블을 \n",
    "구현하는 **완전한 해시 함수**는 존재하지 않는다. \n",
    "일반적으로 해시 테이블의 길이를 충분히 늘리면 충돌이 발생하지 않는다.\n",
    "예를 들어 `2021280001` 등과 같은 10자리 학번을 충돌없이 \n",
    "저장하기 위해 길이가 100억인 해시 테이블을 활용할 수 있다.\n",
    "하지만 학생 수가 고작 몇 천명이라면 엄청난 양의 메모리를 낭비하게 되는 셈이다.\n",
    "\n",
    "따라서 해시 테이블의 크기를 최소화하면서 충돌을 방지하는 해시 함수를 고안해야 하는 것이\n",
    "주요 과제이다. \n",
    "여기서는 나머지 방식을 개선하는 과정을 통해 충돌이 \n",
    "보다 적게 발생하는 다양한 해시 테이블 구현 기법을 알아본다.\n",
    "\n",
    "**참고**: 나머지 계산은 어떤 형태로든 여전히 활용된다."
   ]
  },
  {
   "cell_type": "markdown",
   "metadata": {},
   "source": [
    "**해시 알고리즘 2: 자릿수 접기 기법**"
   ]
  },
  {
   "cell_type": "markdown",
   "metadata": {},
   "source": [
    "**자릿수 접기**(digit folding) 기법은 주어지는 수를 일정 크기로 쪼개서\n",
    "생성된 값들에 나머지 활용 기법을 적용한다. \n",
    "단, 마지막으로 쪼개진 수의 경우 다른 수들의 자릿수와 다를 수 있다."
   ]
  },
  {
   "cell_type": "markdown",
   "metadata": {},
   "source": [
    "**방식 1**\n",
    "\n",
    "예를 들어, 전화번호 43-655-5461 이라는 전화번호를 저장하려 할 때 두 자리씩 쪼개면\n",
    "43, 65, 55, 46, 1이 생성되고,\n",
    "이 수들을 다 더합면 210을 얻는다.\n",
    "\n",
    "$$43 + 65 + 55 + 46 + 1 = 210$$\n",
    "\n",
    "11개의 슬롯을 갖는 해시 테이블에 위 전화번호를 저장하기 위해\n",
    "나머지 기법을 적용한다. \n",
    "즉, 210을 11로 나눈 나머지가 1이기에 전화번호 43-655-5461은\n",
    "1번 슬롯에 저장된다. "
   ]
  },
  {
   "cell_type": "markdown",
   "metadata": {},
   "source": [
    "**방식 2**\n",
    "\n",
    "일정 길이로 쪼갠 값들을 더해줄 때 두 개 중에 하나는 숫자를 뒤집어서 더하는 방식이다. \n",
    "이전과 동일한 전화번호를 2자로 끊어서 생성된 번호를 다음처럼 둘 중에 하나는 뒤집어서 더한 후\n",
    "11로 나눈 나머지를 계산하면 다른 슬롯으로 지정된다.\n",
    "\n",
    "$$43 + 56 + 55 + 64 + 1 = 219$$\n",
    "\n",
    "그리고 219를 11로 나눈 나머지는 10이다. "
   ]
  },
  {
   "cell_type": "markdown",
   "metadata": {},
   "source": [
    "**방식 3**\n",
    "\n",
    "**중간제곱법**(mid-square method)은 주어진 수를 제곱한 후 \n",
    "중간에 위치한 몇 개의 숫자를 대상으로 나머지 기법을 적용한다. \n",
    "예를 들어, 44에 대해 먼저 제곱을 계산한다. \n",
    "\n",
    "$$44 ^{2} = 1,936$$\n",
    "\n",
    "이제 중간에 위치한 9와 3을 추출하여 생성된 수 93에 대해 나머지 기법을 적용한다. \n",
    "해시 테이블의 크기가 11이라면 93을 11로 나눈 나머지 5가 저장될 슬롯의 인덱스가 된다. \n",
    "\n",
    "아래 테이블은 다양한 항목에 대해 나머지 기법과 중간제곱법을 적용한 결과가 \n",
    "어떻게 다른지를 보여준다. \n",
    "단, 해시 테이블의 길이는 11이다.\n",
    "\n",
    "| **항목** | **나머지** | **중간제곱** \n",
    "| :---: | :---: | :---: |\n",
    "| 54 | 10 | 3 |\n",
    "| 26 |  4 | 7 |\n",
    "| 93 |  5 | 9 |\n",
    "| 17 |  6 | 8 |\n",
    "| 77 |  0 | 4 |\n",
    "| 31 |  9 | 6 |"
   ]
  },
  {
   "cell_type": "markdown",
   "metadata": {},
   "source": [
    "**문자열 해싱**"
   ]
  },
  {
   "cell_type": "markdown",
   "metadata": {},
   "source": [
    "문자열에 대한 해시 함수는 각 문자에 대응하는 정수 유니코드를 생성하는\n",
    "`ord()` 함수를 이용한다. \n",
    "예를 들어, 문자열 `\"cat\"`에 사용된 세 개의 문자 각각에 대한 정수 유니코드는 다음과 같다."
   ]
  },
  {
   "cell_type": "code",
   "execution_count": 1,
   "metadata": {},
   "outputs": [
    {
     "name": "stdout",
     "output_type": "stream",
     "text": [
      "99\n",
      "97\n",
      "116\n"
     ]
    }
   ],
   "source": [
    "print(ord(\"c\"))\n",
    "print(ord(\"a\"))\n",
    "print(ord(\"t\"))"
   ]
  },
  {
   "cell_type": "markdown",
   "metadata": {},
   "source": [
    "이제 생성된 수들에 앞서 설명한 해시 알고리즘 중에 한 가지 방식을 적용하면 된다."
   ]
  },
  {
   "cell_type": "markdown",
   "metadata": {},
   "source": [
    "**방식 1**\n",
    "\n",
    "예를 들어, 얻어진 수를 모두 더해 해시 테이블의 길이로 나눈 나머지를 활용하는 방식을\n",
    "적용하는 과정은 다음과 같다.\n",
    "단, 해시 테이블의 길이는 11이라고 가정한다."
   ]
  },
  {
   "cell_type": "markdown",
   "metadata": {},
   "source": [
    "<figure>\n",
    "<div align=\"center\"><img src=\"https://runestone.academy/runestone/books/published/pythonds3/_images/stringhash.png\" width=\"45%\"></div>\n",
    "</figure>"
   ]
  },
  {
   "cell_type": "markdown",
   "metadata": {},
   "source": [
    "아래 함수 `hash_str()` 함수가 앞서 설명한 알고리즘을 구현한다."
   ]
  },
  {
   "cell_type": "code",
   "execution_count": 2,
   "metadata": {},
   "outputs": [],
   "source": [
    "def hash_str(a_string, table_size):\n",
    "    return sum([ord(c) for c in a_string]) % table_size"
   ]
  },
  {
   "cell_type": "markdown",
   "metadata": {},
   "source": [
    "**방식 2**"
   ]
  },
  {
   "cell_type": "markdown",
   "metadata": {},
   "source": [
    "이전 방식은 서로 어구전철(anagram)인 단어에 대해 동일한 값을 계산한다.\n",
    "즉, 어구전철 단어를 구별하지 못한다. "
   ]
  },
  {
   "cell_type": "code",
   "execution_count": 3,
   "metadata": {},
   "outputs": [
    {
     "data": {
      "text/plain": [
       "4"
      ]
     },
     "execution_count": 3,
     "metadata": {},
     "output_type": "execute_result"
    }
   ],
   "source": [
    "hash_str(\"cat\", 11)"
   ]
  },
  {
   "cell_type": "code",
   "execution_count": 4,
   "metadata": {},
   "outputs": [
    {
     "data": {
      "text/plain": [
       "4"
      ]
     },
     "execution_count": 4,
     "metadata": {},
     "output_type": "execute_result"
    }
   ],
   "source": [
    "hash_str(\"act\", 11)"
   ]
  },
  {
   "cell_type": "markdown",
   "metadata": {},
   "source": [
    "이 단점을 해결하기 위해 각 문자의 위치 정보를 해시값을 계산할 때 함께 활용한다. "
   ]
  },
  {
   "cell_type": "markdown",
   "metadata": {},
   "source": [
    "<figure>\n",
    "<div align=\"center\"><img src=\"https://runestone.academy/runestone/books/published/pythonds3/_images/stringhash2.png\" width=\"45%\"></div>\n",
    "</figure>"
   ]
  },
  {
   "cell_type": "code",
   "execution_count": 5,
   "metadata": {},
   "outputs": [],
   "source": [
    "def hash_str(a_string, table_size):\n",
    "    return sum([ord(c)* (i+1) for i, c in enumerate(a_string)]) % table_size"
   ]
  },
  {
   "cell_type": "code",
   "execution_count": 6,
   "metadata": {},
   "outputs": [
    {
     "data": {
      "text/plain": [
       "3"
      ]
     },
     "execution_count": 6,
     "metadata": {},
     "output_type": "execute_result"
    }
   ],
   "source": [
    "hash_str(\"cat\", 11)"
   ]
  },
  {
   "cell_type": "code",
   "execution_count": 7,
   "metadata": {},
   "outputs": [
    {
     "data": {
      "text/plain": [
       "5"
      ]
     },
     "execution_count": 7,
     "metadata": {},
     "output_type": "execute_result"
    }
   ],
   "source": [
    "hash_str(\"act\", 11)"
   ]
  },
  {
   "cell_type": "markdown",
   "metadata": {},
   "source": [
    "**해시 함수의 복잡도**"
   ]
  },
  {
   "cell_type": "markdown",
   "metadata": {},
   "source": [
    "해시값을 계산하는 알고리즘이 너무 복잡하면 별 의미가 없다.\n",
    "그 대신에 리스트에 임의로 항목을 저장한 후에 순차탐색 또는 정렬 후 이진탐색 등으로\n",
    "탐색을 진행하는 편이 더 나을 수 있다. "
   ]
  },
  {
   "cell_type": "markdown",
   "metadata": {},
   "source": [
    "### 충돌 해결법"
   ]
  },
  {
   "cell_type": "markdown",
   "metadata": {},
   "source": [
    "모든 경우에 완벽한 해시 함수는 존재하지 않는다고 했다.\n",
    "따라서 서로 다른 항목이 동일한 해시값을 갖는 충돌이\n",
    "발생했을 때 처리 방법을 항상 고민해야 한다. "
   ]
  },
  {
   "cell_type": "markdown",
   "metadata": {},
   "source": [
    "**충돌 해결법 1: 빈자리 찾기**"
   ]
  },
  {
   "cell_type": "markdown",
   "metadata": {},
   "source": [
    "**빈자리 찾기**(open addressing)는 해시값으로 지정된 슬롯에\n",
    "이미 다른 항목이 자리 잡고 있을 때 오른편으로 가장 가까운 빈자리를\n",
    "**선형 탐사**(linear probing)하여 찾은 후 해당 자리에 항목을 추가하는 알고리즘이다. \n",
    "선형 탐사 과정에서 리스트의 오른편 끝에 다다른다면 \n",
    "경우에 따라 리스트의 처음부터 다시 선형 탐사를 시작할 수도 있다."
   ]
  },
  {
   "cell_type": "markdown",
   "metadata": {},
   "source": [
    "아래 그림은 \n",
    "54, 26, 93, 17, 77, 31을 나머지 기법으로 리스트에 추가한 결과이다. "
   ]
  },
  {
   "cell_type": "markdown",
   "metadata": {},
   "source": [
    "<figure>\n",
    "<div align=\"center\"><img src=\"https://runestone.academy/runestone/books/published/pythonds3/_images/hashtable2.png\" width=\"70%\"></div>\n",
    "</figure>"
   ]
  },
  {
   "cell_type": "markdown",
   "metadata": {},
   "source": [
    "여기에 44, 55, 20을 빈자리 찾기 기법으로 추가한 결과는 다음과 같다.\n",
    "\n",
    "- 44 추가하기: 11로 나눈 나머지 0\n",
    "    - 0번 이미 채워젔음. \n",
    "    - 따라서 1번 인덱스에 추가.\n",
    "- 55 추가하기: 11로 나눈 나머지 0. \n",
    "    - 0번, 1번이미 채워젔음. \n",
    "    - 따라서 2번 인덱스에 추가.\n",
    "- 20 추가하기: 11로 나눈 나머지 9. \n",
    "    - 9번, 10번 이미 채워젔음. \n",
    "    - 리스트 처음으로 돌아감. \n",
    "    - 0번, 1번, 2번 이미 채워졌음. \n",
    "    - 따라서 3번 인덱스에 추가."
   ]
  },
  {
   "cell_type": "markdown",
   "metadata": {},
   "source": [
    "<figure>\n",
    "<div align=\"center\"><img src=\"https://runestone.academy/runestone/books/published/pythonds3/_images/linearprobing1.png\" width=\"70%\"></div>\n",
    "</figure>"
   ]
  },
  {
   "cell_type": "markdown",
   "metadata": {},
   "source": [
    "빈자리 찾기 방식으로 채워진 해시 테이블에서 탐색하려면 항목 채우기 방식을 그대로 따라가면서 \n",
    "항목을 확인하거나 빈자리가 나올 때까지 선형 탐사를 반복한다.\n",
    "예를 들어, 20의 포함여부를 확인하려면 아래 과정을 수행한다.\n",
    "\n",
    "- 11로 나눈 나머지 9 확인.\n",
    "- 9번 슬롯: 20 아님\n",
    "- 10번 슬롯: 20 아님\n",
    "- 리스트 처음으로 돌아감.\n",
    "- 0번, 1번, 2번 모두 20 아님.\n",
    "- 3번 슬롯에서 20 확인.\n",
    "- 결론: 20 있음.\n",
    "\n",
    "반면에 27의 포함여부 확인과정은 다음과 같다.\n",
    "\n",
    "- 11로 나눈 나머지 5 확인.\n",
    "- 5번 슬롯: 27 아님\n",
    "- 6번 슬롯: 27 아님\n",
    "- 7번 슬롯: 비어 있음. \n",
    "- 결론: 27 없음."
   ]
  },
  {
   "cell_type": "markdown",
   "metadata": {},
   "source": [
    "**군집화와 군집화 해결책**"
   ]
  },
  {
   "cell_type": "markdown",
   "metadata": {},
   "source": [
    "빈자리 찾기 방식은 항목들이 해시 테이블의 한쪽에서 **군집**(cluster)을 형성할 수 있다는 것이다. \n",
    "즉, **군집화**(clustering) 문제가 발생할 수 있다.\n",
    "군집화가 발생하면 일부 항목이 원래 위치해야 할 슬롯으로부터 너무 멀리 떨어져 저장되어야 하는\n",
    "문제가 따라온다. \n",
    "아래 그림은 군집화로 인해 20이 엉뚱한 슬롯에 저장됨을 잘 보여준다."
   ]
  },
  {
   "cell_type": "markdown",
   "metadata": {},
   "source": [
    "<figure>\n",
    "<div align=\"center\"><img src=\"https://runestone.academy/runestone/books/published/pythonds3/_images/clustering.png\" width=\"70%\"></div>\n",
    "</figure>"
   ]
  },
  {
   "cell_type": "markdown",
   "metadata": {},
   "source": [
    "**리해싱(rehashing)**"
   ]
  },
  {
   "cell_type": "markdown",
   "metadata": {},
   "source": [
    "빈 자리 찾기를 몇 칸씩 슬롯을 건너뛰며 찾으면 군집화를 약화시킬 수 있다.\n",
    "예를 들어, 아래 그림은 차례대로 44, 55, 20을 충돌이 발생하면 3칸씩 건너 뛰며 빈자리를 찾아 \n",
    "추가한 결과를 보여준다."
   ]
  },
  {
   "cell_type": "markdown",
   "metadata": {},
   "source": [
    "<figure>\n",
    "<div align=\"center\"><img src=\"https://runestone.academy/runestone/books/published/pythonds3/_images/linearprobing2.png\" width=\"70%\"></div>\n",
    "</figure>"
   ]
  },
  {
   "cell_type": "markdown",
   "metadata": {},
   "source": [
    "충돌이 발생했을 때 한 칸 또는 여러 칸을 주기적으로 건너 뛰며 빈자리를 찾는 방식을 \n",
    "**리해싱**(rehashing)이라 한다. \n",
    "리해싱을 사용할 때 해시 테이블의 모든 슬롯이 방문되는 것을 보장해야 한다.\n",
    "예를 들어 해시 테이블의 길이가 짝수이고 4칸씩 건너뛰면 홀 수 인덱스의 슬롯은\n",
    "전혀 점유되지 않을 수도 있다.\n",
    "이런 이유로 해시 테이블의 길이는 11과 같은 소수(prime number)를 사용한다."
   ]
  },
  {
   "cell_type": "markdown",
   "metadata": {},
   "source": [
    "**제곱 탐사** "
   ]
  },
  {
   "cell_type": "markdown",
   "metadata": {},
   "source": [
    "**제곱 탐사**(quadratic probing)는 충돌이 발생했을 때\n",
    "건너 뛰는 슬롯의 수를 제곱수 만큼 늘려가며 찾는다.\n",
    "예를 들어, 해시값 `h`에 대해 해당 슬롯이 이미 점유되었을 때\n",
    "다음 빈칸은 `h+1`, `h+4`, `h+9`, `h+16`, `h+25` 등을\n",
    "대상으로 차례대로 점유 여부를 확인한다.\n",
    "예를 들어, 아래 그림은 차례대로 44, 55, 20을 충돌이 발생하면 \n",
    "제곱 탐사 방식을 적용하여 추가한 결과를 보여준다."
   ]
  },
  {
   "cell_type": "markdown",
   "metadata": {},
   "source": [
    "<figure>\n",
    "<div align=\"center\"><img src=\"https://runestone.academy/runestone/books/published/pythonds3/_images/quadratic.png\" width=\"70%\"></div>\n",
    "</figure>"
   ]
  },
  {
   "cell_type": "markdown",
   "metadata": {},
   "source": [
    "**체이닝** "
   ]
  },
  {
   "cell_type": "markdown",
   "metadata": {},
   "source": [
    "**체이닝**(chaining)은 충돌이 발생했을 때\n",
    "다른 빈칸을 찾는 대신 해당 슬롯에 다른 항목들과 함께 모음자료형의 항목으로 저장하는 방식이다. \n",
    "아래 그림은 54, 26, 93, 17, 77, 31, 44, 55, 20을 체이닝 방식으로 저장한 결과를 보여준다."
   ]
  },
  {
   "cell_type": "markdown",
   "metadata": {},
   "source": [
    "<figure>\n",
    "<div align=\"center\"><img src=\"https://runestone.academy/runestone/books/published/pythonds3/_images/chaining.png\" width=\"70%\"></div>\n",
    "</figure>"
   ]
  },
  {
   "cell_type": "markdown",
   "metadata": {},
   "source": [
    "해시 테이블 탐색은 먼저 해시값을 계산해서 지정된 슬롯을 확인한 다음에\n",
    "포함되어 있는 모음 자료형에서 해당 항목을 탐색한다. \n",
    "체이닝 방식은 각 슬롯마다 저장되는 항목의 수를 평균적으로 훨씬 낮추기에\n",
    "탐색이 그만큼 빠르게 진행되도록 한다. "
   ]
  },
  {
   "cell_type": "markdown",
   "metadata": {},
   "source": [
    "**퀴즈**"
   ]
  },
  {
   "cell_type": "markdown",
   "metadata": {},
   "source": [
    "길이가 13인 해시 테이블에 27과 130을 항목으로 추가할 때 사용하는 슬롯의 인덱스는 무엇인가?\n",
    "\n",
    "정답: 1과 0"
   ]
  },
  {
   "cell_type": "markdown",
   "metadata": {},
   "source": [
    "**퀴즈**"
   ]
  },
  {
   "cell_type": "markdown",
   "metadata": {},
   "source": [
    "113 , 117 , 97 , 100 , 114 , 108 , 116 , 105 , 99을\n",
    "길이가 11인 해시 테이블에 빈자리 찾기 방식으로 입력한 결과를 묘사하라. \n",
    "빈칸은 밑줄 두개로 표현하며, 건너 뛰는 칸의 수는 1로 한다.\n",
    "\n",
    "정답: `99, 100, __, 113, 114, __, 116, 117, 105, 97, 108`"
   ]
  },
  {
   "cell_type": "markdown",
   "metadata": {},
   "source": [
    "### `HashTable` 클래스 구현"
   ]
  },
  {
   "cell_type": "markdown",
   "metadata": {},
   "source": [
    "해시 테이블(`HashTable`) 클래스를 이용하여 항목 탐색을 $O(1)$ 시간으로 실행하는 \n",
    "`Map` 추상 자료형을 구현한다.\n",
    "클래스에 포함되는 메서드는 다음과 같다."
   ]
  },
  {
   "cell_type": "markdown",
   "metadata": {},
   "source": [
    "**생성자**"
   ]
  },
  {
   "cell_type": "markdown",
   "metadata": {},
   "source": [
    "- 키와 값을 저장하기 위해 두 개의 리스트 활용. 하나의 키-값 쌍은 동일한 인덱스에 저장됨.\n",
    "    - 첫째 리스트(`slots`): 키 저장\n",
    "    - 둘째 리스트(`data`): 값 저장\n",
    "- 해시 테이블 길이(`size`): 11 (소수 사용)"
   ]
  },
  {
   "cell_type": "markdown",
   "metadata": {},
   "source": [
    "**put()** 메서드"
   ]
  },
  {
   "cell_type": "markdown",
   "metadata": {},
   "source": [
    "다음 두 함수 활용\n",
    "- 해시 함수(`hash_function()`): 나머지 알고리즘\n",
    "- 리해싱(`rehash()`): 선형 탐사. 1칸씩 이동하며 빈자리 찾기."
   ]
  },
  {
   "cell_type": "markdown",
   "metadata": {},
   "source": [
    "**hash_function()** 메서드"
   ]
  },
  {
   "cell_type": "markdown",
   "metadata": {},
   "source": [
    "- 항목을 해시 테이블의 길이로 나눈 나머지 값 반환"
   ]
  },
  {
   "cell_type": "markdown",
   "metadata": {},
   "source": [
    "**rehash()** 메서드"
   ]
  },
  {
   "cell_type": "markdown",
   "metadata": {},
   "source": [
    "- 선형 탐사. 1칸씩 이동하며 빈자리 찾기"
   ]
  },
  {
   "cell_type": "markdown",
   "metadata": {},
   "source": [
    "**get()** 메서드"
   ]
  },
  {
   "cell_type": "markdown",
   "metadata": {},
   "source": [
    "- 처음 해시값에서 시작하여 선형 탐사 기법 적용.\n",
    "- 리스트를 한 바퀴 돌아 제자리로 돌아오면 탐색 중단."
   ]
  },
  {
   "cell_type": "markdown",
   "metadata": {},
   "source": [
    "이외에 `__getitem__()`, `__setitem__()` 메서드를 \n",
    "지원해서 대괄호(`[]`) 연산자를 사용하도록 해야 한다.\n",
    "또한 `__in__()`과 `__len__()` 메서드를 구현해야 하지만\n",
    "연습문제로 남겨둔다."
   ]
  },
  {
   "cell_type": "markdown",
   "metadata": {},
   "source": [
    "**`HashTable` 클래스**"
   ]
  },
  {
   "cell_type": "code",
   "execution_count": 8,
   "metadata": {},
   "outputs": [],
   "source": [
    "class HashTable:\n",
    "    def __init__(self):\n",
    "        self.size = 11\n",
    "        self.slots = [None] * self.size\n",
    "        self.data = [None] * self.size\n",
    "\n",
    "    def put(self, key, data):\n",
    "        hash_value = self.hash_function(key, len(self.slots))\n",
    "\n",
    "        if self.slots[hash_value] is None:\n",
    "            self.slots[hash_value] = key\n",
    "            self.data[hash_value] = data\n",
    "        else:\n",
    "            if self.slots[hash_value] == key:\n",
    "                self.data[hash_value] = data  # replace\n",
    "            else:\n",
    "                next_slot = self.rehash(hash_value, len(self.slots))\n",
    "                while (\n",
    "                    self.slots[next_slot] is not None\n",
    "                    and self.slots[next_slot] != key\n",
    "                ):\n",
    "                    next_slot = self.rehash(next_slot, len(self.slots))\n",
    "\n",
    "                if self.slots[next_slot] is None:\n",
    "                    self.slots[next_slot] = key\n",
    "                    self.data[next_slot] = data\n",
    "                else:\n",
    "                    self.data[next_slot] = data\n",
    "\n",
    "    def hash_function(self, key, size):\n",
    "        return key % size\n",
    "\n",
    "    def rehash(self, old_hash, size):\n",
    "        return (old_hash + 1) % size\n",
    "\n",
    "    def get(self, key):\n",
    "        start_slot = self.hash_function(key, len(self.slots))\n",
    "\n",
    "        position = start_slot\n",
    "        while self.slots[position] is not None:\n",
    "            if self.slots[position] == key:\n",
    "                return self.data[position]\n",
    "            else:\n",
    "                position = self.rehash(position, len(self.slots))\n",
    "                if position == start_slot:\n",
    "                    return None\n",
    "\n",
    "    def __getitem__(self, key):\n",
    "        return self.get(key)\n",
    "\n",
    "    def __setitem__(self, key, data):\n",
    "        self.put(key, data)\n",
    "        \n",
    "    # 사전 형식으로 출력\n",
    "    def __repr__(self):\n",
    "        aDict = {self.slots[i]:self.data[i] for i in range(len(self.slots))}\n",
    "        return aDict.__repr__()"
   ]
  },
  {
   "cell_type": "code",
   "execution_count": 9,
   "metadata": {},
   "outputs": [],
   "source": [
    "aHash = HashTable()\n",
    "\n",
    "aHash[54] = \"cat\"\n",
    "aHash[26] = \"dog\"\n",
    "aHash[93] = \"lion\"\n",
    "aHash[17] = \"tiger\"\n",
    "aHash[77] = \"bird\"\n",
    "aHash[31] = \"cow\"\n",
    "aHash[44] = \"goat\"\n",
    "aHash[55] = \"pig\"\n",
    "aHash[20] = \"chicken\""
   ]
  },
  {
   "cell_type": "code",
   "execution_count": 10,
   "metadata": {},
   "outputs": [
    {
     "name": "stdout",
     "output_type": "stream",
     "text": [
      "{77: 'bird', 44: 'goat', 55: 'pig', 20: 'chicken', 26: 'dog', 93: 'lion', 17: 'tiger', None: None, 31: 'cow', 54: 'cat'}\n"
     ]
    }
   ],
   "source": [
    "print(aHash)"
   ]
  },
  {
   "cell_type": "code",
   "execution_count": 11,
   "metadata": {},
   "outputs": [
    {
     "name": "stdout",
     "output_type": "stream",
     "text": [
      "chicken\n",
      "tiger\n"
     ]
    }
   ],
   "source": [
    "print(aHash[20])\n",
    "print(aHash[17])"
   ]
  },
  {
   "cell_type": "code",
   "execution_count": 12,
   "metadata": {},
   "outputs": [],
   "source": [
    "aHash[20] = \"duck\""
   ]
  },
  {
   "cell_type": "code",
   "execution_count": 13,
   "metadata": {},
   "outputs": [
    {
     "name": "stdout",
     "output_type": "stream",
     "text": [
      "duck\n",
      "None\n"
     ]
    }
   ],
   "source": [
    "print(aHash[20])\n",
    "print(aHash[99])"
   ]
  },
  {
   "cell_type": "markdown",
   "metadata": {},
   "source": [
    "**연습**"
   ]
  },
  {
   "cell_type": "markdown",
   "metadata": {},
   "source": [
    "`__in__()`과 `__len__()` 메서드를 구현하라."
   ]
  },
  {
   "cell_type": "markdown",
   "metadata": {},
   "source": [
    "### 해싱 분석"
   ]
  },
  {
   "cell_type": "markdown",
   "metadata": {},
   "source": [
    "충돌이 없는 해시 테이블에 대한 탐색 시간은 $O(1)$이다. \n",
    "하지만 충돌이 발생하는 경우 시간 복잡도 계산은 그리 간단하지 않으며\n",
    "여기서는 자세히 다루지 않는다.\n",
    "다만 알려진 결과만 간단하게 정리한다. "
   ]
  },
  {
   "cell_type": "markdown",
   "metadata": {},
   "source": [
    "**점유율($\\lambda$)과 시간복잡도**"
   ]
  },
  {
   "cell_type": "markdown",
   "metadata": {},
   "source": [
    "점유율($\\lambda$)이 탐색 시간에 많은 영향을 미친다. \n",
    "\n",
    "- 점유율이 0에 가까운 경우\n",
    "    - 충돌 확률 매우 낮음. \n",
    "    - $O(1)$ 시간에 가깝게 탐색 가능.\n",
    "- 점유율이 1에 가까운 경우\n",
    "    - 충돌 확률 매우 높음. \n",
    "    - $O(1)$ 시간 보다 느리게 탐색 진행됨."
   ]
  },
  {
   "cell_type": "markdown",
   "metadata": {},
   "source": [
    "**빈자리 찾기 알고리즘 시간 복잡도 **"
   ]
  },
  {
   "cell_type": "markdown",
   "metadata": {},
   "source": [
    "선형 탐사를 사용하는 빈자리 찾기 알고리즘에서 \n",
    "충돌이 발생했을 때 실행해야 하는 비교 횟수는 다음과 같다.\n",
    "\n",
    "- 항목이 존재하는 경우 평균 비교 횟수: $\\frac{1}{2}\\left(1+\\frac{1}{1-\\lambda}\\right)$ <br>\n",
    "\n",
    "- 항목이 존재하지 않는 경우 평균 비교 횟수: $\\frac{1}{2}\\left(1+\\left(\\frac{1}{1-\\lambda}\\right)^2\\right)$\n"
   ]
  },
  {
   "cell_type": "markdown",
   "metadata": {},
   "source": [
    "**체이닝 기법 시간 복잡도**"
   ]
  },
  {
   "cell_type": "markdown",
   "metadata": {},
   "source": [
    "체이닝 기법에 사용되는 알고리즘에 따라\n",
    "충돌이 발생했을 때 실행해야 하는 비교 횟수는 다르지만\n",
    "기본적으로 선형 탐사 방식보다 빠르며, \n",
    "해싱은 기본적으로 체이닝 기법을 활용한다. \n",
    "\n",
    "**참고**: 보다 자세한 내용은 \n",
    "[GeeksforGeeks - Hashing | Set 2 (Separate Chaining)](https://www.geeksforgeeks.org/hashing-set-2-separate-chaining/)를 참조한다."
   ]
  },
  {
   "cell_type": "markdown",
   "metadata": {},
   "source": [
    "**연습문제**"
   ]
  },
  {
   "cell_type": "markdown",
   "metadata": {},
   "source": [
    "1. 해시 테이블의 점유도가 다음과 같을 때 평균 비교횟수를 계산한 후에 \n",
    "    언제 해시 테이블의 슬롯이 부족하다고 느껴지는지를 설명하라.\n",
    "    -  10% \n",
    "    -  25% \n",
    "    -  50% \n",
    "    -  75% \n",
    "    -  90% \n",
    "    -  99%\n",
    "    <br><br>\n",
    "\n",
    "1. 문자열 해싱에 각 문자의 인덱스를 가중치로 활용하는 다른 방식을 생각한 후에\n",
    "    기존 방식과 비교하여 장단점을 설명하라."
   ]
  },
  {
   "cell_type": "markdown",
   "metadata": {},
   "source": [
    "## 이진탐색트리"
   ]
  },
  {
   "cell_type": "markdown",
   "metadata": {},
   "source": [
    "이진트리에 값을 저장하여 항목 탐색을 키와 값의 관계로 작동하도록 할 수 있다.\n",
    "즉, 이진트리를 맵(Map) 추상 자료형으로 활용하여 매우 효율적인 탐색을\n",
    "실행할 수 있다."
   ]
  },
  {
   "cell_type": "markdown",
   "metadata": {},
   "source": [
    "### 정의"
   ]
  },
  {
   "cell_type": "markdown",
   "metadata": {},
   "source": [
    "**이진탐색트리**의 마디에 사용되는 키는 모두 아래 특성을 만족한다.\n",
    "\n",
    "- 부모 마디보다 작은 키: 부모의 왼쪽 서브트리에 위치\n",
    "- 부모 마디보다 큰 키: 부모의 오른쪽 서브트리에 위치"
   ]
  },
  {
   "cell_type": "markdown",
   "metadata": {},
   "source": [
    "**예제**"
   ]
  },
  {
   "cell_type": "markdown",
   "metadata": {},
   "source": [
    "아래 그림은 70, 31, 93, 94, 14, 23, 73를 차례대로 이진탐색트리에 \n",
    "추가한 결과를 보여준다.\n",
    "\n",
    "- 70 추가: 루트\n",
    "- 31 추가: 루트 왼쪽 자식 마디\n",
    "- 93 추가: 루트 오른쪽 자식 마디\n",
    "- 94 추가: 93의 오른쪽 자식 마디\n",
    "- 14 추가: 31의 왼쪽 자식 마디\n",
    "- 23 추가: 14의 오른쪽 자식 마디\n",
    "- 73 추가: 93의 왼쪽 자식 마디"
   ]
  },
  {
   "cell_type": "markdown",
   "metadata": {},
   "source": [
    "<figure>\n",
    "<div align=\"center\"><img src=\"https://runestone.academy/runestone/books/published/pythonds3/_images/simpleBST.png\" width=\"40%\"></div>\n",
    "</figure>"
   ]
  },
  {
   "cell_type": "markdown",
   "metadata": {},
   "source": [
    "### 구현"
   ]
  },
  {
   "cell_type": "markdown",
   "metadata": {},
   "source": [
    "[8장 트리와 힙](https://codingalzi.github.io/algopy/notebooks/algopy08_TreesHeaps.html)에서 정의한 `BinaryTree` 클래스를 이용하여 이진탐색트리를 구현하기에는\n",
    "다음 두 요소 때문에 매우 어렵다.\n",
    "\n",
    "- 트리의 루트 마디를 별도로 기억해야 한다. \n",
    "- 각 마디에 저장되는 부모자식 정보가 항목이 추가 또는 삭제될 때마다 수정되어야 한다."
   ]
  },
  {
   "cell_type": "markdown",
   "metadata": {},
   "source": [
    "#### `BinarySearchTree` 클래스와 `TreeNode` 클래스"
   ]
  },
  {
   "cell_type": "markdown",
   "metadata": {},
   "source": [
    "여기서는 아래 두 개의 클래스를 활용하여 이진탐색트리를 구현한다.\n",
    "\n",
    "- `BinarySearchTree` 클래스\n",
    "    - `root` 속성: 이진탐색트리의 루트 마디 지정.\n",
    "        - 기본값: `None`. 즉, 마디가 전혀 없는 이진탐색트리 생성.\n",
    "    - 지정되는 루트 마디는 `TreeNode` 클래스의 객체\n",
    "    - 예제: 아래 그림의 빨강 화살표.\n",
    "- `TreeNode` 클래스\n",
    "    - 부모 마디와 자식 마디 사이의 관계를 지정함.\n",
    "        - `parent`: 부모 마디\n",
    "        - `left_child`: 왼쪽 자식 마디\n",
    "        - `right_child`: 오른쪽 자식 마디\n",
    "    - 예제: 아래 그림 참조\n",
    "        - 빨강 화살표: 루트 마디 참조\n",
    "        - 검정 화살표: 자식 참조\n",
    "        - 파랑 화살표: 부모 참조"
   ]
  },
  {
   "cell_type": "markdown",
   "metadata": {},
   "source": [
    "<figure>\n",
    "<div align=\"center\"><img src=\"https://raw.githubusercontent.com/codingalzi/algopy/master/notebooks/_images/BinarySearchTree.png\" width=\"47%\"></div>\n",
    "</figure>"
   ]
  },
  {
   "cell_type": "markdown",
   "metadata": {},
   "source": [
    "**두 클래스의 상호작용**"
   ]
  },
  {
   "cell_type": "markdown",
   "metadata": {},
   "source": [
    "`BinarySearchTree` 클래스의 객체는 루트가 존재하는지 여부만을 확인하며,\n",
    "`TreeNode` 객체를 루트로 사용하는 경우 마디의 추가/삭제와 업데이트,\n",
    "부모-자식간의 관계 정보 확인 및 업데이트 등을\n",
    "활용하는 메서드를 제공한다. \n",
    "반면에 `TreeNode` 객체는 `BinarySearchTree` 클래스의 메서드가\n",
    "수행하는 기능을 지원하는 메서드를 포함한다."
   ]
  },
  {
   "cell_type": "markdown",
   "metadata": {},
   "source": [
    "**`TreeNode` 클래스의 메서드**"
   ]
  },
  {
   "cell_type": "markdown",
   "metadata": {},
   "source": [
    "`TreeNode` 클래스는 기본적으로 자식과 부모 마디에 대한 정보를 저장하고 활용하며,\n",
    "이를 위해 제공되는 메서드는 다음과 같다.\n",
    "\n",
    "- 속성 변수\n",
    "    - `self.key`: 마디의 키\n",
    "    - `self.value`: 키와 연관된 값\n",
    "    - `self.left_child`: 왼쪽 자식 마디(`TreeNode` 객체)\n",
    "    - `self.right_child`: 오른쪽 자식 마디(`TreeNode` 객체)\n",
    "    - `self.parent`: 부모 마디(`TreeNode` 객체)\n",
    "- `is_left_child(self)`: 자신이 부모 마디의 왼쪽 자식인지 여부 판단\n",
    "- `is_right_child(self)`: 자신이 부모 마디의 오른쪽 자식인지 여부 판단\n",
    "- `is_root(self)`: 자신이 루트 마디인지 여부 판단. 즉, 부모 마디가 없는지 여부 판단.\n",
    "- `is_leaf(self)`: 자신이 잎루 마디인지 여부 판단. 즉, 자식 마디를 전혀 갖지 않는지 여부 판단.\n",
    "- `has_a_child(self)`: 하나 이상의 자식 마디를 갖는지 여부 판단.\n",
    "- `has_children(self)`: 왼쪽, 오른쪽 자식 마디 모두 갖는지 여부 판단.\n",
    "- `replace_valuee(self, key, value, left, right)`: \n",
    "    - 자신의 키와 값 변경\n",
    "    - 왼쪽, 오른쪽 자식 마디 지정 후 자신을 해당 마디들의 부모로 지정\n",
    "- `find_successor(self)`: 현재 마디의 계승자 탐색\n",
    "    - 좌우 자식 모두를 갖는 마디를 삭제하고자 할 경우 우측 서브트리의 최소 키(key)를 \n",
    "        갖는 마디를 계승자로 지정.\n",
    "    - 일반적으로 현재 마디의 키 다음으로 큰 키를 갖는 마디를 찾아야 함.\n",
    "        프로그래밍 실습 문제 참조.\n",
    "    - 계승자는 최대 한 개의 자식 마디를 가지게 됨.\n",
    "- `find_min(self)`: 현재 마디를 루트로 갖는 서브트리에서 사용된 키의 최솟값\n",
    "    - 맨 하단 좌측에 위치한 마디의 키\n",
    "- `splice_out(self)`: 계승자 제거.\n",
    "    - 제거되는 마디의 위치로 계승자를 옮기기 위해\n",
    "        계승자가 원래 있던 자리에서 제거하는 과정\n",
    "    - 계승자는 최대 하나의 자식 마디를 갖기에 나머지 마디를 계승자의 부모 마디에\n",
    "        연결만 해주면 됨.\n",
    "- `__iter__(self)`: 중위순회방식으로 루트마디에서 연결된 모드 마디의 키(key)를\n",
    "    확인하는 이터레이터"
   ]
  },
  {
   "cell_type": "markdown",
   "metadata": {},
   "source": [
    "`TreeNode` 클래스 전체 코드는 다음과 같다."
   ]
  },
  {
   "cell_type": "code",
   "execution_count": 14,
   "metadata": {},
   "outputs": [],
   "source": [
    "# 트리의 마디 클래스: 키와 값으로 이루어지며 좌우 자식과 부모 마디 정보 함께 보유\n",
    "class TreeNode:\n",
    "    def __init__(self, key, value, left=None, right=None, parent=None):\n",
    "        self.key = key             # 키\n",
    "        self.value = value         # 값\n",
    "        self.left_child = left     # 좌측 자식 마디\n",
    "        self.right_child = right   # 우측 자식 마디\n",
    "        self.parent = parent       # 부모 마디\n",
    "\n",
    "    # 좌측 자식 마디: 부모의 좌측 자식 마디 여부\n",
    "    def is_left_child(self):\n",
    "        return self.parent and self.parent.left_child is self\n",
    "\n",
    "    # 우측 자식 마디: 부모의 우측 자식 마디 여부\n",
    "    def is_right_child(self):\n",
    "        return self.parent and self.parent.right_child is self\n",
    "\n",
    "    # 루트: 부모가 없을 때\n",
    "    def is_root(self):\n",
    "        return not self.parent\n",
    "\n",
    "    # 잎: 자식이 없을 때\n",
    "    def is_leaf(self):\n",
    "        return not (self.right_child or self.left_child)\n",
    "\n",
    "    # 자식 존재 여부\n",
    "    def has_a_child(self):\n",
    "        return self.right_child or self.left_child\n",
    "\n",
    "    # 좌우측 두 자식 모두 존재 여부\n",
    "    def has_children(self):\n",
    "        return self.right_child and self.left_child\n",
    "\n",
    "    # 키, 값, 좌우 자식 지정\n",
    "    def replace_value(self, key, value, left, right):\n",
    "        self.key = key\n",
    "        self.value = value\n",
    "        self.left_child = left\n",
    "        self.right_child = right\n",
    "      \n",
    "        # 새 자식의 부모로 자신을 지정\n",
    "        if self.left_child:\n",
    "            self.left_child.parent = self\n",
    "        if self.right_child:\n",
    "            self.right_child.parent = self\n",
    "\n",
    "    # 현재 마디의 계승자 마디 탐색\n",
    "    # 우측 자식이 있는 경우만 다뤄도 여기서는 목적 달성.\n",
    "    # 모든 경우를 다루는 경우는 프로그래밍 실습 과제 참조.\n",
    "    def find_successor(self):\n",
    "        if self.has_children():\n",
    "            successor = self.right_child.find_min()\n",
    "        return successor\n",
    "    \n",
    "    # 현재 트리에 사용된 가장 작은 키\n",
    "    def find_min(self):\n",
    "        current = self\n",
    "        while current.left_child:\n",
    "            current = current.left_child\n",
    "        return current\n",
    "\n",
    "    # 계승자 마디 삭제 후 자식 마디들을 부모 마디에 이어 붙이기\n",
    "    # 계승자는 자식을 하나만 갖기에 가능함.\n",
    "    def splice_out(self):\n",
    "        if self.is_leaf():\n",
    "            if self.is_left_child():\n",
    "                self.parent.left_child = None\n",
    "            else:\n",
    "                self.parent.right_child = None\n",
    "        elif self.left_child:\n",
    "            if self.is_left_child():\n",
    "                self.parent.left_child = self.left_child\n",
    "            else:\n",
    "                self.parent.right_child = self.left_child\n",
    "            \n",
    "            self.left_child.parent = self.parent\n",
    "        else:\n",
    "            if self.is_left_child():\n",
    "                self.parent.left_child = self.right_child\n",
    "            else:\n",
    "                self.parent.right_child = self.right_child\n",
    "            \n",
    "            self.right_child.parent = self.parent\n",
    "\n",
    "    # 이터레이터: 중위순회방식으로 키(key) 확인\n",
    "    def __iter__(self):\n",
    "        if self:\n",
    "            if self.left_child:\n",
    "                for elem in self.left_child:\n",
    "                    yield elem\n",
    "            yield self.key\n",
    "            if self.right_child:\n",
    "                for elem in self.right_child:\n",
    "                    yield elem"
   ]
  },
  {
   "cell_type": "markdown",
   "metadata": {},
   "source": [
    "**`BinarySearchTree` 클래스의 메서드**"
   ]
  },
  {
   "cell_type": "markdown",
   "metadata": {},
   "source": [
    "`BinarySearchTree` 클래스에서 제공하는 기능은 다음과 같다."
   ]
  },
  {
   "cell_type": "markdown",
   "metadata": {},
   "source": [
    "기능 1: 항목 추가\n",
    "\n",
    "지정된 키와 값을 하나의 마디에 추가하거나 업데이트 한다. \n",
    "\n",
    "- `put(self, key, value)`: 적절한 위치의 마디의 키(key)와 값으로 지정.\n",
    "    - 루트가 없는 경우: 루트 마디로 지정\n",
    "    - 루트가 있는 경우: `_put(self, key, value, current_node)` 재귀 메서드를 활용하여 적절한 위치의 마디로 지정.\n",
    "    - 키(key)가 이미 존재하는 경우 값(value) 업데이트.\n",
    "\n",
    "아래 그림은 `19`를 `_put(self, key, value, current_node)` 함수가 적절한 위치에 넣는 \n",
    "과정을 보여준다. \n",
    "`19`와 비교되는 마디는 회색 마디로 표시되었다."
   ]
  },
  {
   "cell_type": "markdown",
   "metadata": {},
   "source": [
    "<figure>\n",
    "<div align=\"center\"><img src=\"https://runestone.academy/runestone/books/published/pythonds3/_images/bstput.png\" width=\"50%\"></div>\n",
    "</figure>"
   ]
  },
  {
   "cell_type": "markdown",
   "metadata": {},
   "source": [
    "기능 2: 키의 값 확인\n",
    "\n",
    "지정된 키(key)의 값(value)를 확인하는 일은 `put()` 메서드와 유사하다.\n",
    "\n",
    "- `get(self, key)`: 지정된 키(key)를 갖는 마디에 저장된 값(value) 확인.\n",
    "    - 루트가 없는 경우: `None` 반환\n",
    "    - 루트가 있는 경우: `_get(self, key, current_node)` 재귀 메서드를 활용하여 적절한 위치의 마디에 저장된 값 반환\n",
    "    - 키가 없으면 `None` 반환."
   ]
  },
  {
   "cell_type": "markdown",
   "metadata": {},
   "source": [
    "기능 3: 대괄호 연산자(`[]`) 지원\n",
    "\n",
    "아래 두 메서드가 필요하다.\n",
    "\n",
    "- `__setitem__(self, key, value)`\n",
    "    - 예제: `my_zip_tree['Plymouth'] = 55446` \n",
    "    - `self.put(key, value)` 활용\n",
    "\n",
    "- `__getitem__(self, key)`\n",
    "    - 예제: `z = my_zip_tree['Plymouth']` \n",
    "    - `self.get(key)` 활용"
   ]
  },
  {
   "cell_type": "markdown",
   "metadata": {},
   "source": [
    "기능 4: `in` 연산자 지원\n",
    "\n",
    "아래 메서드가 필요하다.\n",
    "\n",
    "- `__contains__(self, key)`\n",
    "    - 예제: `if Plymouth in my_zip_tree: print(True)` \n",
    "    - 반환값: `bool(self._get(key, self.root))`"
   ]
  },
  {
   "cell_type": "markdown",
   "metadata": {},
   "source": [
    "기능 5: 키-값 항목 제거\n",
    "\n",
    "지정된 키(key)를 사용하는 마디를 제거한다.\n",
    "\n",
    "- `delete(self, key)`:\n",
    "    - 트리의 사이즈가 1, 즉 루트만 존재하는 경우: 루트의 키를 확인한 후 동일하면 루트 제거\n",
    "    - 트리의 사이즈가 1보다 큰 경우: `self._get(key)` 를 이용하여 제거해야 할 마디 확인 후 \n",
    "        `_delete()` 메서드로 해당 마디 제거.\n",
    "    - 제거 대상 키가 존재하지 않는 경우 `KeyError` 오류 발생.\n",
    "- `_delete(self, current_node)`: 지정된 마디 제거 후 자식 마디 재설정\n",
    "    - 자식이 없는 잎 마디: 그냥 삭제. 부모 마디의 해당 자식 마디에 대한 정보 삭제.\n",
    "    - 자식을 하나 갖는 마디: 해당 마디 삭제 후 자식 마디를 부모 마디에 연결.\n",
    "    - 좌우 자식 모두 갖는 경우: 해당 마디를 계승자의 키-값으로 교체한 후 계승자 삭제.\n",
    "- `__delitem__(self, key)`: `del` 연산자 지원."
   ]
  },
  {
   "cell_type": "markdown",
   "metadata": {},
   "source": [
    "`_delete()` 메서드가 작동하는 과정을 예를 들어 설명하면 다음과 같다."
   ]
  },
  {
   "cell_type": "markdown",
   "metadata": {},
   "source": [
    "- 잎 마디 제거: `16`을 키로 갖는 마디 제거"
   ]
  },
  {
   "cell_type": "markdown",
   "metadata": {},
   "source": [
    "<figure>\n",
    "<div align=\"center\"><img src=\"https://runestone.academy/runestone/books/published/pythonds3/_images/bstdel1.png\" width=\"80%\"></div>\n",
    "</figure>"
   ]
  },
  {
   "cell_type": "markdown",
   "metadata": {},
   "source": [
    "- 자식을 하나 갖는 마디 제거: `25`를 키로 갖는 마디 제거"
   ]
  },
  {
   "cell_type": "markdown",
   "metadata": {},
   "source": [
    "<figure>\n",
    "<div align=\"center\"><img src=\"https://runestone.academy/runestone/books/published/pythonds3/_images/bstdel2.png\" width=\"85%\"></div>\n",
    "</figure>"
   ]
  },
  {
   "cell_type": "markdown",
   "metadata": {},
   "source": [
    "- 좌우 자식 모두 갖는 마디 제거: `5`를 키로 갖는 마디 제거\n",
    "    - 계승자 확인: `find_successor()` 활용\n",
    "    - 계승자 제거: `splice_out()` 활용\n",
    "    - 제거된 마디 정보 업데이트"
   ]
  },
  {
   "cell_type": "markdown",
   "metadata": {},
   "source": [
    "<figure>\n",
    "<div align=\"center\"><img src=\"https://runestone.academy/runestone/books/published/pythonds3/_images/bstdel3.png\" width=\"80%\"></div>\n",
    "</figure>"
   ]
  },
  {
   "cell_type": "markdown",
   "metadata": {},
   "source": [
    "`BinarySearchTree` 클래스 전체 코드는 다음과 같다."
   ]
  },
  {
   "cell_type": "code",
   "execution_count": 15,
   "metadata": {},
   "outputs": [],
   "source": [
    "class BinarySearchTree:\n",
    "    # 생성자: 아무 마디(TreeNode) 없는 이진탐색트리 생성. \n",
    "    # 자식 마디는 TreeNode에서 처리.\n",
    "    def __init__(self):\n",
    "        self.root = None    # TreeNode 객체\n",
    "        self.size = 0\n",
    "\n",
    "    # 트리 크기: 마디 개수\n",
    "    def __len__(self):\n",
    "        return self.size\n",
    "\n",
    "    # 이터레이터: 모든 마디의 키를 중위순회방식으로 확인\n",
    "    def __iter__(self):\n",
    "        return self.root.__iter__()\n",
    "\n",
    "    # 항목 추가: 루트 이외의 마디는 TreeNode에서 재귀적으로 처리\n",
    "    def put(self, key, value):\n",
    "        if not self.root:\n",
    "            self.root = TreeNode(key, value)\n",
    "        else:\n",
    "            self._put(key, value, self.root)\n",
    "        \n",
    "        self.size = self.size + 1     # size를 1 키우기\n",
    "\n",
    "    # 항목 추가 보조함수: 이진 탐색 트리 특성 유지\n",
    "    def _put(self, key, value, current_node):\n",
    "        if key < current_node.key:\n",
    "            if current_node.left_child: \n",
    "                self._put(key, value, current_node.left_child)\n",
    "            else: # 왼쪽 자식 없는 경우 마디 추가\n",
    "                current_node.left_child = TreeNode(key, value, parent=current_node)\n",
    "        elif key == current_node.key:  # value 업데이트\n",
    "            current_node.value = value\n",
    "            self.size = self.size - 1  # 키의 값을 대체하는 경우 size는 그대로 두기 위해\n",
    "        else:\n",
    "            if current_node.right_child:\n",
    "                self._put(key, value, current_node.right_child)\n",
    "            else: # 오른쪽 자식 없는 경우 마디 추가\n",
    "                current_node.right_child = TreeNode(key, value, parent=current_node)\n",
    "\n",
    "    # 사전식 키-값 지정: aBinTree[key] = value\n",
    "    def __setitem__(self, key, value):\n",
    "        self.put(key, value)\n",
    "\n",
    "    #  키의 값 확인\n",
    "    def get(self, key):\n",
    "        if self.root:\n",
    "            result = self._get(key, self.root)\n",
    "            if result:\n",
    "                return result.value\n",
    "        return None\n",
    "\n",
    "    # 키의 값 확인 보조함수: 키가 포함된 마디 반환. 재귀 적용\n",
    "    def _get(self, key, current_node):\n",
    "        if not current_node:\n",
    "            return None\n",
    "        if current_node.key == key:\n",
    "            return current_node\n",
    "        elif key < current_node.key:\n",
    "            return self._get(key, current_node.left_child)\n",
    "        else:\n",
    "            return self._get(key, current_node.right_child)\n",
    "\n",
    "    #  사전식 키의 값 확인: aBinTree[key]\n",
    "    def __getitem__(self, key):\n",
    "        return self.get(key)\n",
    "\n",
    "    # 키 포함 여부 확인(in 연산자): key in aBinTree\n",
    "    def __contains__(self, key):\n",
    "        return bool(self._get(key, self.root))\n",
    "\n",
    "    # 키 삭제: del 연산자에 활용됨\n",
    "    def delete(self, key):\n",
    "        # 하나의 마디만 있는 경우\n",
    "        if self.size == 1 and self.root.key == key:\n",
    "            self.root = None\n",
    "            self.size = self.size - 1\n",
    "        # 여러 마디가 있는 경우\n",
    "        elif self.size > 1:\n",
    "            # 삭제 대상 마디 확인\n",
    "            node_to_remove = self._get(key, self.root)\n",
    "            \n",
    "            if node_to_remove:\n",
    "                self._delete(node_to_remove)\n",
    "                self.size = self.size - 1\n",
    "            else:\n",
    "                raise KeyError(\"키를 찾을 수 없음!\")\n",
    "        else:\n",
    "            raise KeyError(\"키를 찾을 수 없음!\")\n",
    "\n",
    "    # 키 삭제 보조함수: \n",
    "    def _delete(self, current_node):\n",
    "        # 잎 마디인 경우\n",
    "        if current_node.is_leaf():\n",
    "            if current_node == current_node.parent.left_child:\n",
    "                current_node.parent.left_child = None\n",
    "            else:\n",
    "                current_node.parent.right_child = None\n",
    "        \n",
    "        # 좌우 자식 마디 모두 있는 경우: 계승자를 현재 마디로 옮김.\n",
    "        elif current_node.has_children():\n",
    "            successor = current_node.find_successor()\n",
    "            successor.splice_out()\n",
    "            current_node.key = successor.key\n",
    "            current_node.value = successor.value\n",
    "        \n",
    "        # 자식 마디가 하나인 경우\n",
    "        else:\n",
    "            # 왼쪽 자식만 있는 경우\n",
    "            if current_node.left_child:\n",
    "                # 부모의 왼쪽 자식인 경우\n",
    "                if current_node.is_left_child():\n",
    "                    current_node.left_child.parent = current_node.parent\n",
    "                    current_node.parent.left_child = current_node.left_child\n",
    "                # 부모의 오른쪽 자식인 경우\n",
    "                elif current_node.is_right_child():\n",
    "                    current_node.left_child.parent = current_node.parent\n",
    "                    current_node.parent.right_child = current_node.left_child\n",
    "                # 루트인 경우\n",
    "                else:\n",
    "                    current_node.replace_value(\n",
    "                        current_node.left_child.key,\n",
    "                        current_node.left_child.value,\n",
    "                        current_node.left_child.left_child,\n",
    "                        current_node.left_child.right_child,\n",
    "                    )\n",
    "            \n",
    "            # 오른쪽 자식만 있는 경우\n",
    "            else:\n",
    "                # 부모의 왼쪽 자식인 경우\n",
    "                if current_node.is_left_child():\n",
    "                    current_node.right_child.parent = current_node.parent\n",
    "                    current_node.parent.left_child = current_node.right_child\n",
    "                # 부모의 왼쪽 자식인 경우\n",
    "                elif current_node.is_right_child():\n",
    "                    current_node.right_child.parent = current_node.parent\n",
    "                    current_node.parent.right_child = current_node.right_child\n",
    "                # 루트인 경우\n",
    "                else:\n",
    "                    current_node.replace_value(\n",
    "                        current_node.right_child.key,\n",
    "                        current_node.right_child.value,\n",
    "                        current_node.right_child.left_child,\n",
    "                        current_node.right_child.right_child,\n",
    "                    )\n",
    "    \n",
    "    # 키-값 쌍 삭제(del 연산자): del aBinTree[key]\n",
    "    def __delitem__(self, key):\n",
    "        self.delete(key)"
   ]
  },
  {
   "cell_type": "markdown",
   "metadata": {},
   "source": [
    "**예제**"
   ]
  },
  {
   "cell_type": "markdown",
   "metadata": {},
   "source": [
    "다음 키-값 쌍으로 이루어진 이진탐색트리를 생성한다.\n",
    "\n",
    "```python\n",
    "\"a\":\"art\"\n",
    "\"q\":\"quick\"\n",
    "\"b\":\"brown\"\n",
    "\"f\":\"fox\"\n",
    "\"j\":\"jumps\"\n",
    "\"o\":\"over\"\n",
    "\"t\":\"the\"\n",
    "\"l\":\"lazy\"\n",
    "\"d\":\"dog\"\n",
    "```\n",
    "\n",
    "이후 `\"q\"`의 값을 `\"quiet\"`로 수정한 후에\n",
    "포함된 항목을 확인한다."
   ]
  },
  {
   "cell_type": "code",
   "execution_count": 16,
   "metadata": {},
   "outputs": [
    {
     "name": "stdout",
     "output_type": "stream",
     "text": [
      "=== 추가된 항목 일부 확인 ===\n",
      "\n",
      "q의 값: quick\n",
      "l의 값: lazy\n",
      "\n",
      "=== q의 값 업데이트 ===\n",
      "\n",
      "q의 값: quiet\n",
      "l의 값: lazy\n",
      "\n",
      "=== 트리 사이즈 ===\n",
      "\n",
      "이진탐색트리에 9 개의 항목이 있다.\n",
      "키 a를 삭제하면 8 개의 항목이 남는다.\n",
      "\n",
      "=== 트리 항목 ===\n",
      "\n",
      "남은 항목의 키-값은 다음과 같다.\n",
      "\n",
      "b: brown\n",
      "d: dog\n",
      "f: fox\n",
      "j: jumps\n",
      "l: lazy\n",
      "o: over\n",
      "q: quiet\n",
      "t: the\n",
      "\n"
     ]
    }
   ],
   "source": [
    "# 9개 항목 추가\n",
    "my_tree = BinarySearchTree()\n",
    "my_tree[\"a\"] = \"art\"\n",
    "my_tree[\"q\"] = \"quick\"\n",
    "my_tree[\"b\"] = \"brown\"\n",
    "my_tree[\"f\"] = \"fox\"\n",
    "my_tree[\"j\"] = \"jumps\"\n",
    "my_tree[\"o\"] = \"over\"\n",
    "my_tree[\"t\"] = \"the\"\n",
    "my_tree[\"l\"] = \"lazy\"\n",
    "my_tree[\"d\"] = \"dog\"\n",
    "\n",
    "# 추가된 항목 일부 확인\n",
    "print(\"=== 추가된 항목 일부 확인 ===\\n\")\n",
    "print(\"q의 값:\", my_tree[\"q\"])\n",
    "print(\"l의 값:\", my_tree[\"l\"])\n",
    "\n",
    "# q의 값 업데이트\n",
    "my_tree[\"q\"] = \"quiet\"\n",
    "\n",
    "print(\"\\n=== q의 값 업데이트 ===\\n\")\n",
    "print(\"q의 값:\", my_tree[\"q\"])\n",
    "print(\"l의 값:\", my_tree[\"l\"])\n",
    "\n",
    "print(\"\\n=== 트리 사이즈 ===\\n\")\n",
    "print(f\"이진탐색트리에 {len(my_tree)} 개의 항목이 있다.\")\n",
    "\n",
    "# 항목 삭제\n",
    "my_tree.delete(\"a\")\n",
    "print(f\"키 a를 삭제하면 {len(my_tree)} 개의 항목이 남는다.\")\n",
    "\n",
    "# 남은 항목의 키-값 확인\n",
    "print(\"\\n=== 트리 항목 ===\\n\")\n",
    "print(\"남은 항목의 키-값은 다음과 같다.\\n\")\n",
    "for node in my_tree:\n",
    "    print(f\"{node}: {my_tree[node]}\")\n",
    "print()"
   ]
  },
  {
   "cell_type": "markdown",
   "metadata": {},
   "source": [
    "### 이진탐색트리 분석"
   ]
  },
  {
   "cell_type": "markdown",
   "metadata": {},
   "source": [
    "`put()`과 `get()` 메서드, `in`과 `del` 연산자 모두 \n",
    "생성된 이진탐색트리의 높이(height)에 의존한다. \n",
    "트리의 사이즈가 $n$일 때 \n",
    "무작위로 생성된 트리의 경우 높이가 대략 $\\log_2{n}$이다.\n",
    "그리고 이런 경우 모든 메서드와 연산자의 시간복잡도는 $O(\\log_2{n})$이다.\n",
    "하지만 아래의 경우 또한 발생할 수 있으며 그런 경우 시간복잡도는 최악의 경우\n",
    "$O(n)$이다."
   ]
  },
  {
   "cell_type": "markdown",
   "metadata": {},
   "source": [
    "<figure>\n",
    "<div align=\"center\"><img src=\"https://runestone.academy/runestone/books/published/pythonds3/_images/skewedTree.png\" width=\"30%\"></div>\n",
    "</figure>"
   ]
  },
  {
   "cell_type": "markdown",
   "metadata": {},
   "source": [
    "**연습문제**"
   ]
  },
  {
   "cell_type": "markdown",
   "metadata": {},
   "source": [
    "1. 리스트 `[1, 2, 3, 4, 5, 6, 7, 8, 9, 10]`의 항목을 차례대로 추가한 이진탐색트리를 그려라.\n",
    "\n",
    "1. 리스트 `[10, 9, 8, 7, 6, 5, 4, 3, 2, 1]`의 항목을 차례대로 추가한 이진탐색트리를 그려라.\n",
    "    \n",
    "1. 리스트 `[68, 88, 61, 89, 94, 50, 4, 76, 66, 82]`의 항목을 차례대로 추가한 이진탐색트리를 그려라.\n",
    "\n",
    "1. 리스트를 무작위로 생성한 후에 해당 리스트의 항목을 차례대로 추가한 이진탐색트리를 그려라."
   ]
  },
  {
   "cell_type": "markdown",
   "metadata": {},
   "source": [
    "## 균형 이진탐색트리(AVL 트리)"
   ]
  },
  {
   "cell_type": "markdown",
   "metadata": {},
   "source": [
    "앞서 살펴 본 이진탐색트리의 탐색(`get()`) 및 항목추가(`put()`) 알고리즘은\n",
    "최악의 경우 $O(n)$의 시간복잡도를 갖는다. \n",
    "여기서는 이진트리의 좌우 자식 서브트리를 균형이 잡히도록 항목을 추가하여\n",
    "탐색과 항목추가 모두 $O(\\log n)$의 시간복잡도를 갖도록 알고리즘을 구현한다.\n",
    "이와같이 균형 잡힌 이진트리를 **AVL 트리**(Adelson-Velski 트리)라고 부른다."
   ]
  },
  {
   "cell_type": "markdown",
   "metadata": {},
   "source": [
    "AVL 트리를 구성하려면 모든 마디에 대해 **균형인수**(balance factor)를 \n",
    "항상 평가해야 한다. \n",
    "마디의 균형인수는 해당 마디의 왼쪽 서브트리의 높이에서 \n",
    "오른쪽 서브트리의 높이를 뺀 값이다.\n",
    "\n",
    "    마디의 균형인수 = (왼쪽 서브트리의 높이) - (오른쪽 서브트리의 높이)\n",
    "    \n",
    "- 균형인수 $>$ 0: 왼쪽으로 치우친 트리\n",
    "- 균형인수 $=$ 0: 균형 잡힌 트리\n",
    "- 균형인수 $<$ 0: 오른쪽으로 치우친 트리\n",
    "\n",
    "아래 그림은 오른쪽으로 치우친 트리에서 각 마디의 균형인수를 보여준다."
   ]
  },
  {
   "cell_type": "markdown",
   "metadata": {},
   "source": [
    "<figure>\n",
    "<div align=\"center\"><img src=\"https://runestone.academy/runestone/books/published/pythonds3/_images/unbalanced.png\" width=\"35%\"></div>\n",
    "</figure>"
   ]
  },
  {
   "cell_type": "markdown",
   "metadata": {},
   "source": [
    "### AVL 트리 분석"
   ]
  },
  {
   "cell_type": "markdown",
   "metadata": {},
   "source": [
    "AVL 트리(균형 이진탐색트리)는 모든 마디의 균형인수가 -1, 0, 1 중에 하나이어야 한다.\n",
    "아래 그림은 높이가 0, 1, 2, 3 인 AVL 트리를 대상으로 했을 때 왼쪽 오른쪽으로 가장 많이 \n",
    "치우친 트리를 보여준다."
   ]
  },
  {
   "cell_type": "markdown",
   "metadata": {},
   "source": [
    "<figure>\n",
    "<div align=\"center\"><img src=\"https://runestone.academy/runestone/books/published/pythonds3/_images/worstAVL.png\" width=\"70%\"></div>\n",
    "</figure>"
   ]
  },
  {
   "cell_type": "markdown",
   "metadata": {},
   "source": [
    "위 그림에서 알 수 있듯이 높이가 $h$인 AVL 트리의 크기(마디 수) $N_h$는 아래 점화식을 만족한다. \n",
    "\n",
    "$$N_h = 1 + N_{h-1} + N_{h-2}$$\n",
    "\n",
    "$h$가 매우 크면 아래 식이 성립한다. \n",
    "$\\Phi$는 황금비(Golden Ratio)를 나타내며 피보나치 수열과 밀접하게 관련된다.\n",
    "보다 자세한 설명은 [AVL Tree Performance](https://runestone.academy/runestone/books/published/pythonds3/Trees/AVLTreePerformance.html)를 참조할 수 있다.\n",
    "\n",
    "$$\n",
    "\\begin{align*}\n",
    "N_h  &= \\frac{\\Phi^{h+2}}{\\sqrt{5}} - 1 \\\\\n",
    "\\Phi &= \\frac{1 + \\sqrt{5}}{2}\n",
    "\\end{align*}\n",
    "$$\n",
    "\n",
    "위 식으로부터 다음 결과가 성립하여 AVL 트리의 탐색 알고리즘이 $O(\\log{N})$임을 증명한다.\n",
    "\n",
    "$$\n",
    "h  = 1.44 \\log{N_h}\n",
    "$$"
   ]
  },
  {
   "cell_type": "markdown",
   "metadata": {},
   "source": [
    "### AVL 트리 구현"
   ]
  },
  {
   "cell_type": "markdown",
   "metadata": {},
   "source": [
    "`TreeNode`와 `BinarySearchTree`를 상속한다."
   ]
  },
  {
   "cell_type": "markdown",
   "metadata": {},
   "source": [
    "**AVLTreeNode 클래스**"
   ]
  },
  {
   "cell_type": "markdown",
   "metadata": {},
   "source": [
    "`TreeNode` 클래스를 상속하며,\n",
    "부모 자식 관계뿐만 아니라 균형인수도 저장하도록 한다."
   ]
  },
  {
   "cell_type": "code",
   "execution_count": 17,
   "metadata": {},
   "outputs": [],
   "source": [
    "class AVLTreeNode(TreeNode):\n",
    "    \n",
    "    def __init__(self, key, value, balance_factor=0, left=None, right=None, parent=None):\n",
    "        super().__init__(key, value, left, right, parent)\n",
    "        self.balance_factor = balance_factor  # 균형인수"
   ]
  },
  {
   "cell_type": "markdown",
   "metadata": {},
   "source": [
    "**AVLTree 클래스**"
   ]
  },
  {
   "cell_type": "markdown",
   "metadata": {},
   "source": [
    "`BinarySearchTree` 클래스를 상속한다."
   ]
  },
  {
   "cell_type": "markdown",
   "metadata": {},
   "source": [
    "기능 업데이트 1: `_put(self, key, value, current_node)` 메서드 재정의(overriding)\n",
    "\n",
    "새로운 항목은 항상 잎(leaf) 마디로 추가되기에 균형인수는 0이다. \n",
    "하지만 부모의 균형인수가 변하기에 적절하게 업데이트 해야 한다.\n",
    "\n",
    "- 왼쪽 자식으로 추가되는 경우: 부모 마디의 균형인수 1 키울 것\n",
    "- 오른쪽 자식으로 추가되는 경우: 부모 마디의 균형인수 1 줄일 것\n",
    "\n",
    "위 과정을 부모의 부모 등 모든 조상에 대해 재귀적으로 적용해야 한다. \n",
    "이를 위해 `update_balance(self, node)` 메서드를 추가한다."
   ]
  },
  {
   "cell_type": "markdown",
   "metadata": {},
   "source": [
    "기능 업데이트 2: `update_balance(self, node)` 메서드 정의\n",
    "\n",
    "새로운 자식이 추가된 부모의 균형인수를 업데이트 해야 함며,\n",
    "이를 부모의 부모까지 재귀적으로 적용해야 한다. \n",
    "단, 업데이트된 부모의 균형인수가 0이라면 더 이상 재귀를 적용할 필요가 없다.\n",
    "왜냐하면 업데이트된 부모의 균형인수가 0이라면 부모의 부모의 균형인수는 \n",
    "전혀 바뀌지 않기 때문이다.\n",
    "\n",
    "- 자식 추가 후 균형인수가 1보가 크거나 -1보다 작아진 경우: 더 이상 AVL 트리가 아니기에\n",
    "    트리 전체를 새롭게 정돈해서 균형을 다시 잡아주어야 한다.\n",
    "    이를 위해 `rebalance(self, node)` 메서드를 추가한다."
   ]
  },
  {
   "cell_type": "markdown",
   "metadata": {},
   "source": [
    "기능 업데이트 3: `rebalance(self, node)` 메서드 정의\n",
    "\n",
    "추가된 항목으로 인해 균형이 깨진 경우 균형을 다시 잡아주도록 트리의 마디 구조를 바꾼다.\n",
    "이를 위해 `rotate_left(self, rotaiton_root)`와 `rotate_right(self, rotaiton_root)`\n",
    "메서드를 구현한다."
   ]
  },
  {
   "cell_type": "markdown",
   "metadata": {},
   "source": [
    "- 왼쪽으로 회전"
   ]
  },
  {
   "cell_type": "markdown",
   "metadata": {},
   "source": [
    "<figure>\n",
    "<div align=\"center\"><img src=\"https://runestone.academy/runestone/books/published/pythonds3/_images/simpleunbalanced.png\" width=\"50%\"></div>\n",
    "</figure>"
   ]
  },
  {
   "cell_type": "markdown",
   "metadata": {},
   "source": [
    "- 오른쪽으로 회전"
   ]
  },
  {
   "cell_type": "markdown",
   "metadata": {},
   "source": [
    "<figure>\n",
    "<div align=\"center\"><img src=\"https://runestone.academy/runestone/books/published/pythonds3/_images/rightrotate1.png\" width=\"60%\"></div>\n",
    "</figure>"
   ]
  },
  {
   "cell_type": "markdown",
   "metadata": {},
   "source": [
    "- 보다 복잡한 경우"
   ]
  },
  {
   "cell_type": "markdown",
   "metadata": {},
   "source": [
    "<figure>\n",
    "<div align=\"center\"><img src=\"https://runestone.academy/runestone/books/published/pythonds3/_images/rotatelr.png\" width=\"60%\"></div>\n",
    "</figure>"
   ]
  },
  {
   "cell_type": "markdown",
   "metadata": {},
   "source": [
    "**주의**: 아래 코드는 불완전함. "
   ]
  },
  {
   "cell_type": "code",
   "execution_count": 18,
   "metadata": {},
   "outputs": [],
   "source": [
    "class AVLTree(BinarySearchTree):\n",
    "    def __init__(self):\n",
    "        super().__init__()\n",
    "\n",
    "    def _put(self, key, value, current_node):\n",
    "        if key < current_node.key:\n",
    "            if current_node.left_child:\n",
    "                self._put(key, value, current_node.left_child)\n",
    "            else:\n",
    "                current_node.left_child = AVLTreeNode(\n",
    "                    key, value, 0, parent=current_node\n",
    "                )\n",
    "                self.update_balance(current_node.left_child)\n",
    "        else:\n",
    "            if current_node.right_child:\n",
    "                self._put(key, value, current_node.right_child)\n",
    "            else:\n",
    "                current_node.right_child = AVLTreeNode(\n",
    "                    key, value, 0, parent=current_node\n",
    "                )\n",
    "                self.update_balance(current_node.right_child)\n",
    "\n",
    "    def update_balance(self, node):\n",
    "        if node.balance_factor > 1 or node.balance_factor < -1:\n",
    "            self.rebalance(node)\n",
    "            return\n",
    "        if node.parent:\n",
    "            if node.is_left_child():\n",
    "                node.parent.balance_factor += 1\n",
    "            elif node.is_right_child():\n",
    "                node.parent.balance_factor -= 1\n",
    "\n",
    "            # 부모의 균형인수가 0이 아닌경우 재귀 적용\n",
    "            if node.parent.balance_factor != 0:\n",
    "                self.update_balance(node.parent)\n",
    "\n",
    "    def rotate_left(self, rotation_root):\n",
    "        new_root = rotation_root.right_child\n",
    "        rotation_root.right_child = new_root.left_child\n",
    "        if new_root.left_child:\n",
    "            new_root.left_child.parent = rotation_root\n",
    "        new_root.parent = rotation_root.parent\n",
    "        if rotation_root.is_root():\n",
    "            self._root = new_root\n",
    "        else:\n",
    "            if rotation_root.is_left_child():\n",
    "                rotation_root.parent.left_child = new_root\n",
    "            else:\n",
    "                rotation_root.parent.right_child = new_root\n",
    "        new_root.left_child = rotation_root\n",
    "        rotation_root.parent = new_root\n",
    "        rotation_root.balance_factor = (\n",
    "            rotation_root.balance_factor + 1 - min(new_root.balance_factor, 0)\n",
    "        )\n",
    "        new_root.balance_factor = (\n",
    "            new_root.balance_factor + 1 + max(rotation_root.balance_factor, 0)\n",
    "        )\n",
    "\n",
    "    # 수정되어야 함\n",
    "    def rotate_right(self, rotation_root):\n",
    "        new_root = rotation_root.left_child\n",
    "        rotation_root.left_child = new_root.right_child\n",
    "        if new_root.right_child:\n",
    "            new_root.right_child.parent = rotation_root\n",
    "        new_root.parent = rotation_root.parent\n",
    "        if rotation_root.is_root():\n",
    "            self._root = new_root\n",
    "        else:\n",
    "            if rotation_root.is_right_child():\n",
    "                rotation_root.parent.right_child = new_root\n",
    "            else:\n",
    "                rotation_root.parent.left_child = new_root\n",
    "        new_root.right_child = rotation_root\n",
    "        rotation_root.parent = new_root\n",
    "        rotation_root.balance_factor = (\n",
    "            rotation_root.balance_factor + 1 - min(new_root.balance_factor, 0)\n",
    "        )\n",
    "        new_root.balance_factor = (\n",
    "            new_root.balance_factor + 1 + max(rotation_root.balance_factor, 0)\n",
    "        )\n",
    "\n",
    "    def rebalance(self, node):\n",
    "        if node.balance_factor < 0:\n",
    "            if node.right_child.balance_factor > 0:\n",
    "                self.rotate_right(node.right_child)\n",
    "                self.rotate_left(node)\n",
    "            else:\n",
    "                self.rotate_left(node)\n",
    "        elif node.balance_factor > 0:\n",
    "            if node.left_child.balance_factor < 0:\n",
    "                self.rotate_left(node.left_child)\n",
    "                self.rotate_right(node)\n",
    "            else:\n",
    "                self.rotate_right(node)"
   ]
  },
  {
   "cell_type": "markdown",
   "metadata": {},
   "source": [
    "## 맵 추상자료형 구현 비교"
   ]
  },
  {
   "cell_type": "markdown",
   "metadata": {},
   "source": [
    "| 연산자 | 정렬 리스트 | 해시 테이블 | 이진탐색트리 | AVL 트리 |\n",
    "| :---: | :---: | :---: | :---: | :---: | \n",
    "| put | O(n)      | O(1) | O(n)   | O(log n) |\n",
    "| get | O(log n) | O(1) | O(n)   | O(log n) |\n",
    "| in  | O(log n) | O(1) | O(n)   | O(log n) |\n",
    "| del | O(n)      | O(1) | O(n)   | O(log n) |"
   ]
  },
  {
   "cell_type": "markdown",
   "metadata": {},
   "source": [
    "**연습문제**"
   ]
  },
  {
   "cell_type": "markdown",
   "metadata": {},
   "source": [
    "1. 아래 모양의 트리를 균형이진탐색트리로 만들어라.\n",
    "    <figure>\n",
    "    <div align=\"center\"><img src=\"https://runestone.academy/runestone/books/published/pythonds3/_images/rotexer1.png\" width=\"20%\"></div>\n",
    "    </figure>\n",
    "\n",
    "1. 아래 이미지를 이용하여 D 마디의 균형인수를 업데이트 하는 식을 유도하라.\n",
    "   \n",
    "    <figure>\n",
    "    <div align=\"center\"><img src=\"https://runestone.academy/runestone/books/published/pythonds3/_images/bfderive.png\" width=\"60%\"></div>\n",
    "    </figure>"
   ]
  },
  {
   "cell_type": "markdown",
   "metadata": {},
   "source": [
    "## 프로그래밍 실습 과제"
   ]
  },
  {
   "cell_type": "markdown",
   "metadata": {},
   "source": [
    "1. `HashTable` 클래스에 `del` 메서드를 구현하라.\n",
    "    빈자리 찾기, 체이닝 등 충돌 방지에 사용된 기법에 따라 \n",
    "    메서드 구현이 달라질 수 있다.\n",
    "    \n",
    "1. 해시 테이블의 점유율이 75%가 넘는 순간에\n",
    "    해시 테이블의 크기를 두 배 정도로 늘리는 `resize()` 메서드를 구현하라.\n",
    "    단, 해시 테이블의 길이는 소수가 되도록 함에 주의해야 한다.\n",
    "    참고: [Hash table. Dynamic resizing](https://www.algolist.net/Data_structures/Hash_table/Dynamic_resizing)\n",
    "\n",
    "1. 제곱 탐사 기법을 이용하여 리해싱을 구현하라.\n",
    "\n",
    "1. `HashTable` 클래스를 체이닝 방식으로 충돌을 지원하도록 하라.\n",
    "    체이닝에 AVL 트리를 활용한다.\n",
    "\n",
    "1. 본문에서 `TreeNode`의 메섣드로 정의한 `find_successor()` 함수는 \n",
    "    좌우측 자식을 모두 갖는 경우만 다룬다. \n",
    "    그렇지 않은 일반적인 경우까지 다루도록 하려면 아래와 같이\n",
    "    수정해야 한다. \n",
    "   \n",
    "    ```python\n",
    "    def find_successor(self):\n",
    "        successor = None\n",
    "        if self.right_child:\n",
    "            successor = self.right_child.find_min()\n",
    "        else: # 우측 자식 없는 경우\n",
    "            if self.parent:\n",
    "                if self.is_left_child():\n",
    "                    successor = self.parent\n",
    "                else: # 부모의 우측 자식인 경우: 자신을 제외한 부모의 계승자 활용\n",
    "                    self.parent.right_child = None \n",
    "                    successor = self.parent.find_successor()\n",
    "                    self.parent.right_child = self\n",
    "        return successor\n",
    "    ```\n",
    "    \n",
    "    일반화된 `find_successor()` 메서드를 이용하여 중위순회(inorder traversal) 방식으로\n",
    "    이진탐색트리를 순회하는 메서드를 구현하라.\n",
    "\n",
    "1. 이진탐색트리 코드를 수정하여 스레드 이진탐색트리 클래스로 만들어라.\n",
    "    그리고 스레드 이진탐색트리의 모든 마디를 순회하는 중위순회 알고리즘을 \n",
    "    비재귀(non-recursive) 함수로 구현하라. \n",
    "    스레트 이진트리에 대한 설명은 [스레드 이진트리 개념](https://m.blog.naver.com/PostView.naver?isHttpsRedirect=true&blogId=royal2030&logNo=221544336513)를\n",
    "    참조한다.\n",
    "\n",
    "1. AVL 트리에서 항목을 삭제하는 기능을 구현하라. \n",
    "    항목삭제 후에 균형인수 업데이트와 리밸런싱 등을 적절하게 구현해야 한다."
   ]
  }
 ],
 "metadata": {
  "kernelspec": {
   "display_name": "Python 3 (ipykernel)",
   "language": "python",
   "name": "python3"
  },
  "language_info": {
   "codemirror_mode": {
    "name": "ipython",
    "version": 3
   },
   "file_extension": ".py",
   "mimetype": "text/x-python",
   "name": "python",
   "nbconvert_exporter": "python",
   "pygments_lexer": "ipython3",
   "version": "3.10.9"
  }
 },
 "nbformat": 4,
 "nbformat_minor": 4
}