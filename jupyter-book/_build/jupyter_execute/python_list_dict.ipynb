{
 "cells": [
  {
   "cell_type": "markdown",
   "metadata": {},
   "source": [
    "# 파이썬 모음 자료형 분석"
   ]
  },
  {
   "cell_type": "markdown",
   "metadata": {},
   "source": [
    "**소스코드**\n",
    "\n",
    "아래 내용을 \n",
    "[(구글 코랩) 파이썬 모음 자료형 분석](https://colab.research.google.com/github/codingalzi/algopy/blob/master/jupyter-book/python_list_dict.ipynb)에서 \n",
    "직접 실행할 수 있다."
   ]
  },
  {
   "cell_type": "markdown",
   "metadata": {},
   "source": [
    "**주요 내용**\n",
    "\n",
    "- 파이썬 리스트 자료형과 사전 자료형 메서드의 시간복잡도 비교\n",
    "- 자료형 클래스 정의 방식에 따른 알고리즘 복잡도 변화"
   ]
  },
  {
   "cell_type": "markdown",
   "metadata": {},
   "source": [
    "파이썬에서 기본으로 제공하는 두 개의 컨테이너 자료형인 리스트(`list`)와 사전(`dict`)\n",
    "두 자료형과 관련된\n",
    "알고리즘의 시간복잡도를 Big-O를 이용하여 분석한다.\n",
    "리스트와 사전은 계속해서 다른 자료구조를 구현할 때 기본적으로 사용되는 요소들이기에\n",
    "관련된 알고리즘들의 성능을 이해하는 일이 매우 중요하다. \n",
    "\n",
    "여기서는 성능의 차이가 왜 발생하는가를 설명하진 않으며 단지 어떤 성능 차이가 있는지만을 확인한다. \n",
    "하지만 나중에 리스트와 사전을 다른 방식으로 직접 구현해 보면서 구현방법에 따른 알고리즘 \n",
    "성능의 차이를 살펴볼 것이다. "
   ]
  },
  {
   "cell_type": "markdown",
   "metadata": {},
   "source": [
    "## 리스트"
   ]
  },
  {
   "cell_type": "markdown",
   "metadata": {},
   "source": [
    "파이썬과 관련된 많은 메서드(함수)들의 성능이 종류에 따라 다르다.\n",
    "기본적으로 가장 많이 사용되는 메서드일수록 빠르다."
   ]
  },
  {
   "cell_type": "markdown",
   "metadata": {},
   "source": [
    "### 인덱싱"
   ]
  },
  {
   "cell_type": "markdown",
   "metadata": {},
   "source": [
    "예를 들어, 인덱싱과 인덱싱을 활용한 항목 지정이 리스트와 관련되어 가장 많이 사용되는데\n",
    "이 두 기능을 수행하는 알고리즘은 상수의 시간복잡도인 $O(1)$을 갖는다."
   ]
  },
  {
   "cell_type": "markdown",
   "metadata": {},
   "source": [
    "### 리스트 확장 메서드"
   ]
  },
  {
   "cell_type": "markdown",
   "metadata": {},
   "source": [
    "리스트를 확장하기 위해 최소 세 가지 방식을 사용할 수 있다. \n",
    "\n",
    "- `append()` 메서드\n",
    "- `extend()` 메서드\n",
    "- 리스트 연결(concatenation) 연산자(`+`)"
   ]
  },
  {
   "cell_type": "code",
   "execution_count": 1,
   "metadata": {},
   "outputs": [
    {
     "data": {
      "text/plain": [
       "[1, 2, 3, 4, 5]"
      ]
     },
     "execution_count": 1,
     "metadata": {},
     "output_type": "execute_result"
    }
   ],
   "source": [
    "aList = [1, 2, 3]\n",
    "aList.append(4)\n",
    "aList.append(5)\n",
    "aList"
   ]
  },
  {
   "cell_type": "code",
   "execution_count": 2,
   "metadata": {},
   "outputs": [
    {
     "data": {
      "text/plain": [
       "[1, 2, 3, 4, 5]"
      ]
     },
     "execution_count": 2,
     "metadata": {},
     "output_type": "execute_result"
    }
   ],
   "source": [
    "aList = [1, 2, 3]\n",
    "aList.extend([4, 5])\n",
    "aList"
   ]
  },
  {
   "cell_type": "code",
   "execution_count": 3,
   "metadata": {},
   "outputs": [
    {
     "data": {
      "text/plain": [
       "[1, 2, 3, 4, 5]"
      ]
     },
     "execution_count": 3,
     "metadata": {},
     "output_type": "execute_result"
    }
   ],
   "source": [
    "aList = [1, 2, 3]\n",
    "aList = aList + [4, 5]\n",
    "aList"
   ]
  },
  {
   "cell_type": "markdown",
   "metadata": {},
   "source": [
    "각 알고리즘의 시간복잡도는 다음과 같다.\n",
    "\n",
    "- `append()`: $O(1)$\n",
    "- `extend()`: $O(1)$\n",
    "- 리스트 연결: $O(k)$: $k$는 `__add__()`를 호출하는 리스트의 길이.\n",
    "    즉, `aList + [4, 5]`에서 `aList`의 길이.\n",
    "\n",
    "아래 코드는 길이가 $n$인 리스트를 생성하는 5 가지 알고리즘의 실행시간을 계산한다. \n",
    "앞서 언급한 세 가지 연산자 이외에 비교를 위해 리스트 조건제시법과\n",
    "`range` 객체를 이용하는 방법도 함께 살펴본다."
   ]
  },
  {
   "cell_type": "markdown",
   "metadata": {},
   "source": [
    "**`timeit` 모듈 활용**"
   ]
  },
  {
   "cell_type": "markdown",
   "metadata": {},
   "source": [
    "알고리즘 실행시간의 공평한 측정을 위해 특정 운영체제나 개발환경에 의존하지 않는 \n",
    "`timeit` 모듈을 활용한다. \n",
    "\n",
    "- `Timer` 클래스\n",
    "    - 실행되어야 하는 명령문(`stmt`)과 실행환경(`setup`)을 지정하면서 객체 생성\n",
    "    - 예제: 현재 코드가 작성되는 모듈(파일)의 `test1()` 함수를 대상으로 할 때\n",
    "    \n",
    "        `Timer(\"test1()\", \"from __main__ import test1\")`"
   ]
  },
  {
   "cell_type": "markdown",
   "metadata": {},
   "source": [
    "- `timeit(number=100000000)` 메서드\n",
    "    - 지정된 명령문을 (기본값으로 지정된) 1억 번 실행하는 데 걸리는 시간 측정. 단위는 초.\n",
    "    - 여기서는 `number=1000`을 사용하여 사용된 연산자들의 실행시간 비교\n",
    "    - 알고리즘의 실행시간은 실행 순간의 컴퓨터 상태에 영향을 받기에 여러 번 실행하여 누적시간을 측정함.\n",
    "        동일한 이유로 평균시간 측정은 별 의미 없음."
   ]
  },
  {
   "cell_type": "markdown",
   "metadata": {},
   "source": [
    "먼저, 길이가 1,000인 리스트를 생성해본다.\n",
    "\n",
    "- `extend()`가 `append()` 보다 살짝 느리다. 하지만 이는 리스트를 연결하는 것이 \n",
    "    항목 하나를 추가하는 것보다 살짝 더 복잡하기 때문이다.\n",
    "- 리스트 연결이 다른 두 메서드보다 10배 정도 느리다.\n",
    "- 리스트 조건제시법이 `append()` 메서드를 이용하는 것보다 두 배 정도 빠르다.\n",
    "- `range` 객체 이용이 가장 빠르다."
   ]
  },
  {
   "cell_type": "code",
   "execution_count": 4,
   "metadata": {},
   "outputs": [
    {
     "name": "stdout",
     "output_type": "stream",
     "text": [
      "append() 메서드:\t 0.03 초\n",
      "extend() 메서드:\t 0.04 초\n"
     ]
    },
    {
     "name": "stdout",
     "output_type": "stream",
     "text": [
      "리스트 연결 연산자:\t 0.69 초\n",
      "조건제시법:\t\t 0.02 초\n",
      "range 객체:\t\t 0.01 초\n"
     ]
    }
   ],
   "source": [
    "n = 1000\n",
    "\n",
    "# append() 메서드\n",
    "def test1():\n",
    "    l = []\n",
    "    for i in range(n):\n",
    "        l.append(i)\n",
    "\n",
    "# extend() 메서드\n",
    "def test2():\n",
    "    l = []\n",
    "    for i in range(n):\n",
    "        l.extend([i])\n",
    "        \n",
    "# 리스트 연결 연산자\n",
    "def test3():\n",
    "    l = []\n",
    "    for i in range(n):\n",
    "        l = l + [i]\n",
    "\n",
    "# 리스트 조건제시법\n",
    "def test4():\n",
    "    l = [i for i in range(n)]\n",
    "\n",
    "# range 객체 활용\n",
    "def test5():\n",
    "    l = list(range(n))\n",
    "\n",
    "from timeit import Timer\n",
    "\n",
    "t1 = Timer(\"test1()\", \"from __main__ import test1\")\n",
    "print(f\"append() 메서드:\\t {t1.timeit(number=1000):.2f} 초\")\n",
    "t1_ = Timer(\"test2()\", \"from __main__ import test2\")\n",
    "print(f\"extend() 메서드:\\t {t1_.timeit(number=1000):.2f} 초\")\n",
    "t2 = Timer(\"test3()\", \"from __main__ import test3\")\n",
    "print(f\"리스트 연결 연산자:\\t {t2.timeit(number=1000):.2f} 초\")\n",
    "t3 = Timer(\"test4()\", \"from __main__ import test4\")\n",
    "print(f\"조건제시법:\\t\\t {t3.timeit(number=1000):.2f} 초\")\n",
    "t4 = Timer(\"test5()\", \"from __main__ import test5\")\n",
    "print(f\"range 객체:\\t\\t {t4.timeit(number=1000):.2f} 초\")"
   ]
  },
  {
   "cell_type": "markdown",
   "metadata": {},
   "source": [
    "이제 길이가 3,000인 리스트를 생성해본다.\n",
    "\n",
    "- 리스트의 길이가 세 배가 되어 `for` 반복문이 세 배 돌아간다. 따라서\n",
    "    기본적으로 실행시간이 세 배 더 걸린다.\n",
    "- 하지만 리스트 연결 연산자(`+`)의 경우 아홉 배 걸린다.\n",
    "    이유는 반복문의 횟수 뿐만 아니라 연산자의 실행시간 자체도 세 배 더 걸리기 때문이다."
   ]
  },
  {
   "cell_type": "code",
   "execution_count": 5,
   "metadata": {},
   "outputs": [
    {
     "name": "stdout",
     "output_type": "stream",
     "text": [
      "append() 메서드:\t 0.09 초\n"
     ]
    },
    {
     "name": "stdout",
     "output_type": "stream",
     "text": [
      "extend() 메서드:\t 0.13 초\n"
     ]
    },
    {
     "name": "stdout",
     "output_type": "stream",
     "text": [
      "리스트 연결 연산자:\t 6.11 초\n",
      "조건제시법:\t\t 0.05 초\n",
      "range 객체:\t\t 0.02 초\n"
     ]
    }
   ],
   "source": [
    "n = 3000\n",
    "\n",
    "# append() 메서드\n",
    "def test1():\n",
    "    l = []\n",
    "    for i in range(n):\n",
    "        l.append(i)\n",
    "\n",
    "# extend() 메서드\n",
    "def test2():\n",
    "    l = []\n",
    "    for i in range(n):\n",
    "        l.extend([i])\n",
    "        \n",
    "# 리스트 연결 연산자\n",
    "def test3():\n",
    "    l = []\n",
    "    for i in range(n):\n",
    "        l = l + [i]\n",
    "\n",
    "# 리스트 조건제시법\n",
    "def test4():\n",
    "    l = [i for i in range(n)]\n",
    "\n",
    "# range 객체 활용\n",
    "def test5():\n",
    "    l = list(range(n))\n",
    "\n",
    "from timeit import Timer\n",
    "\n",
    "t1 = Timer(\"test1()\", \"from __main__ import test1\")\n",
    "print(f\"append() 메서드:\\t {t1.timeit(number=1000):.2f} 초\")\n",
    "t1_ = Timer(\"test2()\", \"from __main__ import test2\")\n",
    "print(f\"extend() 메서드:\\t {t1_.timeit(number=1000):.2f} 초\")\n",
    "t2 = Timer(\"test3()\", \"from __main__ import test3\")\n",
    "print(f\"리스트 연결 연산자:\\t {t2.timeit(number=1000):.2f} 초\")\n",
    "t3 = Timer(\"test4()\", \"from __main__ import test4\")\n",
    "print(f\"조건제시법:\\t\\t {t3.timeit(number=1000):.2f} 초\")\n",
    "t4 = Timer(\"test5()\", \"from __main__ import test5\")\n",
    "print(f\"range 객체:\\t\\t {t4.timeit(number=1000):.2f} 초\")"
   ]
  },
  {
   "cell_type": "markdown",
   "metadata": {},
   "source": [
    "### 리스트 관련 연산자의 평균 시간복잡도"
   ]
  },
  {
   "cell_type": "markdown",
   "metadata": {},
   "source": [
    "| 연산자 | Big-O |\n",
    "| :--- | :--- |\n",
    "| 인덱싱(`[]`) | O(1) |\n",
    "| 인덱싱 활용 항목 할당 | O(1) |\n",
    "| 슬라이싱(`[x:y]`) | O(k)|\n",
    "| 슬라이싱 활용 구간 할당 | O(n+k)|\n",
    "| 연결(`+`) | O(k)|\n",
    "| 복제 연결(`*`) | O(nk)|\n",
    "| `append()` | O(1)|\n",
    "| `pop()` | O(1)|\n",
    "| `pop(i)` | O(n)|\n",
    "| `insert(i,item)` | O(n)|\n",
    "| `reverse()` | O(n)|\n",
    "| `sort()` |  O(n log n)|\n",
    "| `del` 항목 삭제    | O(n) |\n",
    "| `del` 슬라이싱 구간 삭제 | O(n)|\n",
    "| 항목 여부 확인(`in`) | O(n)|\n",
    "| `for` 반복 | O(n)|\n"
   ]
  },
  {
   "cell_type": "markdown",
   "metadata": {},
   "source": [
    "아래 두 코드는 리스트의 길이를 십만에서 천십만으로 백만씩 키우면서 \n",
    "`pop()`과 `pop(0)`의 실행시간을 측정한다.\n",
    "\n",
    "- `pop()`\n",
    "    - 마지막 항목 반환 및 삭제\n",
    "    - 상수 시간복잡도. 따라서 실행시간 거의 변화 없음.\n",
    "- `pop(i)`\n",
    "    - `i`-번 인덱스 항목 반환 및 삭제. \n",
    "    - `i` 번 인덱스 이후의 항목 한 칸씩 왼편으로 이동.\n",
    "    - $O(n)$. 따라서 리스트의 길이에 선형적 비례해서 증가.\n",
    "    \n",
    "**주의사항**: `100_100` 등 정수에 사용된 밑줄은 읽기 편의성을 위해 사용되며,\n",
    "임의의 위치에 사용될 수 있다. \n",
    "즉, 다음이 성립한다. \n",
    "\n",
    "    100_000 = 100000 = 10_00_00"
   ]
  },
  {
   "cell_type": "code",
   "execution_count": 6,
   "metadata": {},
   "outputs": [
    {
     "name": "stdout",
     "output_type": "stream",
     "text": [
      "         n         pop(0)          pop()\n",
      "   100,000        0.01830        0.00002\n"
     ]
    },
    {
     "name": "stdout",
     "output_type": "stream",
     "text": [
      " 1,100,000        0.20660        0.00002\n"
     ]
    },
    {
     "name": "stdout",
     "output_type": "stream",
     "text": [
      " 2,100,000        0.58259        0.00003\n"
     ]
    },
    {
     "name": "stdout",
     "output_type": "stream",
     "text": [
      " 3,100,000        1.22564        0.00002\n"
     ]
    },
    {
     "name": "stdout",
     "output_type": "stream",
     "text": [
      " 4,100,000        1.75266        0.00002\n"
     ]
    },
    {
     "name": "stdout",
     "output_type": "stream",
     "text": [
      " 5,100,000        2.14731        0.00002\n"
     ]
    },
    {
     "name": "stdout",
     "output_type": "stream",
     "text": [
      " 6,100,000        2.72444        0.00004\n"
     ]
    },
    {
     "name": "stdout",
     "output_type": "stream",
     "text": [
      " 7,100,000        3.37442        0.00004\n"
     ]
    },
    {
     "name": "stdout",
     "output_type": "stream",
     "text": [
      " 8,100,000        3.64852        0.00004\n"
     ]
    },
    {
     "name": "stdout",
     "output_type": "stream",
     "text": [
      " 9,100,000        4.35687        0.00004\n"
     ]
    },
    {
     "name": "stdout",
     "output_type": "stream",
     "text": [
      "10,100,000        4.99010        0.00004\n"
     ]
    }
   ],
   "source": [
    "# pop(0) 실행시간\n",
    "pop_zero = Timer(\"x.pop(0)\", \"from __main__ import x\")\n",
    "\n",
    "# pop() 실행시간\n",
    "pop_end = Timer(\"x.pop()\", \"from __main__ import x\")\n",
    "\n",
    "print(f\"{'n':>10s}{'pop(0)':>15s}{'pop()':>15s}\")\n",
    "\n",
    "for n in range(100_000, 10_100_001, 1_000_000):\n",
    "    x = list(range(n))\n",
    "    \n",
    "    pop_zero_t = pop_zero.timeit(number=1000)\n",
    "    pop_end_t = pop_end.timeit(number=1000)\n",
    "    \n",
    "    print(f\"{n:>10,}{pop_zero_t:>15.5f}{pop_end_t:>15.5f}\")"
   ]
  },
  {
   "cell_type": "markdown",
   "metadata": {},
   "source": [
    "두 연산자의 실행시간을 비교하는 그래프는 다음과 같다. "
   ]
  },
  {
   "cell_type": "markdown",
   "metadata": {},
   "source": [
    "<figure>\n",
    "<div align=\"center\"><img src=\"https://runestone.academy/runestone/books/published/pythonds3/_images/poptime.png\" width=\"70%\"></div>\n",
    "</figure>"
   ]
  },
  {
   "cell_type": "markdown",
   "metadata": {},
   "source": [
    "## 사전"
   ]
  },
  {
   "cell_type": "markdown",
   "metadata": {},
   "source": [
    "사전 객체는 항목을 위치가 아닌 키(key)로 접근하는데\n",
    "시간복잡도가 $O(1)$이다. "
   ]
  },
  {
   "cell_type": "code",
   "execution_count": 7,
   "metadata": {},
   "outputs": [
    {
     "data": {
      "text/plain": [
       "{0: '',\n",
       " 1: '1',\n",
       " 2: '11',\n",
       " 3: '111',\n",
       " 4: '1111',\n",
       " 5: '11111',\n",
       " 6: '111111',\n",
       " 7: '1111111',\n",
       " 8: '11111111',\n",
       " 9: '111111111'}"
      ]
     },
     "execution_count": 7,
     "metadata": {},
     "output_type": "execute_result"
    }
   ],
   "source": [
    "aDict = {j:'1'*j for j in range(10)}\n",
    "\n",
    "aDict"
   ]
  },
  {
   "cell_type": "code",
   "execution_count": 8,
   "metadata": {},
   "outputs": [
    {
     "data": {
      "text/plain": [
       "'111'"
      ]
     },
     "execution_count": 8,
     "metadata": {},
     "output_type": "execute_result"
    }
   ],
   "source": [
    "aDict[3]"
   ]
  },
  {
   "cell_type": "markdown",
   "metadata": {},
   "source": [
    "이와 더불어 사전의 키로 사용되었는지 여부를 확인하는 `in` 연산자의 \n",
    "시간복잡도 또한 $O(1)$이다."
   ]
  },
  {
   "cell_type": "code",
   "execution_count": 9,
   "metadata": {},
   "outputs": [
    {
     "data": {
      "text/plain": [
       "True"
      ]
     },
     "execution_count": 9,
     "metadata": {},
     "output_type": "execute_result"
    }
   ],
   "source": [
    "3 in aDict"
   ]
  },
  {
   "cell_type": "code",
   "execution_count": 10,
   "metadata": {},
   "outputs": [
    {
     "data": {
      "text/plain": [
       "False"
      ]
     },
     "execution_count": 10,
     "metadata": {},
     "output_type": "execute_result"
    }
   ],
   "source": [
    "10 in aDict"
   ]
  },
  {
   "cell_type": "markdown",
   "metadata": {},
   "source": [
    "### 사전 관련 연산자의 평균 시간복잡도"
   ]
  },
  {
   "cell_type": "markdown",
   "metadata": {},
   "source": [
    "사전 객체와 관련된 주요 연산 알고리즘의 (평균) 시간복잡도는 다음과 같다."
   ]
  },
  {
   "cell_type": "markdown",
   "metadata": {},
   "source": [
    "| 연산자 | Big-O |\n",
    "| :--- | :--- |\n",
    "| 항목 확인 | O(1) |\n",
    "| 항목 지정 | O(1) |\n",
    "| 항목 삭제 | O(1) |\n",
    "| 항목 여부 확인(`in`) | O(1) |\n",
    "| 복사(`copy()`) | O(n) |\n",
    "| `for` 반복 | O(n) |"
   ]
  },
  {
   "cell_type": "markdown",
   "metadata": {},
   "source": [
    "항목 확인과 삭제, 항목 여부 확인 알고리즘의 최악 시간복잡도는 $O(n)$이지만\n",
    "매우 드물게 발생한다. 나중에 사전 객체를 구현하는 다양한 방식을 살펴볼 것이다."
   ]
  },
  {
   "cell_type": "markdown",
   "metadata": {},
   "source": [
    "아래 코드는 리스트의 `in` 연산자와 사전의 `in` 연산자 사이의 실행시간 차이를 명확하게 보여준다. \n",
    "\n",
    "- 길이(`i`)가 10,000부터 백일만까지 십만씩 증가할 때 마다 \n",
    "    동일한 크기의 리스트와 사전 생성\n",
    "- 0부터 `i-1` 사이의 임의의 값을 생성한 후에 리스트와 사전에 포함되어 있는지 확인하는\n",
    "    과정을 1000번 반복\n",
    "\n",
    "코드에 사용된 함수들은 다음과 같다."
   ]
  },
  {
   "cell_type": "markdown",
   "metadata": {},
   "source": [
    "- `random.randrange(i)`: `0`부터 `i-1` 사이에서 임의의 값 선택"
   ]
  },
  {
   "cell_type": "code",
   "execution_count": 11,
   "metadata": {},
   "outputs": [
    {
     "name": "stdout",
     "output_type": "stream",
     "text": [
      "        n      list      dict\n",
      "   10,000     0.032     0.001\n"
     ]
    },
    {
     "name": "stdout",
     "output_type": "stream",
     "text": [
      "  110,000     0.353     0.001\n"
     ]
    },
    {
     "name": "stdout",
     "output_type": "stream",
     "text": [
      "  210,000     0.679     0.000\n"
     ]
    },
    {
     "name": "stdout",
     "output_type": "stream",
     "text": [
      "  310,000     1.009     0.000\n"
     ]
    },
    {
     "name": "stdout",
     "output_type": "stream",
     "text": [
      "  410,000     1.353     0.001\n"
     ]
    },
    {
     "name": "stdout",
     "output_type": "stream",
     "text": [
      "  510,000     1.732     0.001\n"
     ]
    },
    {
     "name": "stdout",
     "output_type": "stream",
     "text": [
      "  610,000     2.084     0.001\n"
     ]
    },
    {
     "name": "stdout",
     "output_type": "stream",
     "text": [
      "  710,000     2.441     0.001\n"
     ]
    },
    {
     "name": "stdout",
     "output_type": "stream",
     "text": [
      "  810,000     2.801     0.001\n"
     ]
    },
    {
     "name": "stdout",
     "output_type": "stream",
     "text": [
      "  910,000     3.229     0.001\n"
     ]
    },
    {
     "name": "stdout",
     "output_type": "stream",
     "text": [
      "1,010,000     3.400     0.001\n"
     ]
    }
   ],
   "source": [
    "import timeit\n",
    "import random\n",
    "\n",
    "print(f\"{'n':>9s}{'list':>10s}{'dict':>10s}\")\n",
    "\n",
    "for n in range(10_000, 1_010_001, 100_000):\n",
    "    t = timeit.Timer(f\"random.randrange({n}) in x\", \"from __main__ import random, x\")\n",
    "    \n",
    "    # 리스트 생성 및 무작위로 생성된 값의 항목 여부 확인\n",
    "    x = list(range(n))\n",
    "    lst_time = t.timeit(number=1000)\n",
    "    \n",
    "    # 사전 생성 및 무작위로 생성된 값의 항목 여부 확인\n",
    "    x = {j: True for j in range(n)}\n",
    "    dict_time = t.timeit(number=1000)\n",
    "    \n",
    "    print(f\"{n:>9,}{lst_time:>10.3f}{dict_time:>10.3f}\")"
   ]
  },
  {
   "cell_type": "markdown",
   "metadata": {},
   "source": [
    "사전 경우 실행시간의 변화가 거의 없다. \n",
    "반면에 리스트의 경우 길이에 선형비례하여 실행시간이 증가한다. \n",
    "이를 그래프로 나타내면 다음과 같다."
   ]
  },
  {
   "cell_type": "markdown",
   "metadata": {},
   "source": [
    "<figure>\n",
    "<div align=\"center\"><img src=\"https://runestone.academy/runestone/books/published/pythonds3/_images/listvdict.png\" width=\"70%\"></div>\n",
    "</figure>"
   ]
  },
  {
   "cell_type": "markdown",
   "metadata": {},
   "source": [
    "## 기타 모음 자료형 시간복잡도"
   ]
  },
  {
   "cell_type": "markdown",
   "metadata": {},
   "source": [
    "리스트, 사전, 집합, 덱(deque) 등 파이썬 모음 자료형의 시간복잡도에 대한 최신 정보는 \n",
    "[Time Complexity Wiki](http://wiki.python.org/moin/TimeComplexity)에서\n",
    "확인할 수 있다."
   ]
  },
  {
   "cell_type": "markdown",
   "metadata": {},
   "source": [
    "## 연습문제"
   ]
  },
  {
   "cell_type": "markdown",
   "metadata": {},
   "source": [
    "1. [(실습) 파이썬 모음 자료형 분석](https://colab.research.google.com/github/codingalzi/algopy/blob/master/excs/exc-python_list_dict.ipynb)"
   ]
  }
 ],
 "metadata": {
  "kernelspec": {
   "display_name": "Python 3.9.12 ('base')",
   "language": "python",
   "name": "python3"
  },
  "language_info": {
   "codemirror_mode": {
    "name": "ipython",
    "version": 3
   },
   "file_extension": ".py",
   "mimetype": "text/x-python",
   "name": "python",
   "nbconvert_exporter": "python",
   "pygments_lexer": "ipython3",
   "version": "3.9.7"
  },
  "vscode": {
   "interpreter": {
    "hash": "ad0f3c8a064f687cbf898a0868fd45ba1c7e928ac8a0404f7c241d812ddc1e76"
   }
  }
 },
 "nbformat": 4,
 "nbformat_minor": 4
}