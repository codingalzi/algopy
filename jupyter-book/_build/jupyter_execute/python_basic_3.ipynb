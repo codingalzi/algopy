{
 "cells": [
  {
   "cell_type": "markdown",
   "metadata": {},
   "source": [
    "# 파이썬 기초 3부: 클래스와 상속"
   ]
  },
  {
   "cell_type": "markdown",
   "metadata": {},
   "source": [
    "**소스코드**\n",
    "\n",
    "아래 내용을 \n",
    "[(구글 코랩) 파이썬 기초 3부: 클래스와 상속](https://colab.research.google.com/github/codingalzi/algopy/blob/master/jupyter-book/python_basic_3.ipynb)에서 \n",
    "직접 실행할 수 있다."
   ]
  },
  {
   "cell_type": "markdown",
   "metadata": {},
   "source": [
    "**주요 내용**\n",
    "\n",
    "- 객체 지향 프로그래밍\n",
    "- 클래스와 인스턴스\n",
    "- 상속\n",
    "- `Fraction` 추상 자료형\n",
    "- `Vector` 추상 자료형"
   ]
  },
  {
   "cell_type": "markdown",
   "metadata": {},
   "source": [
    "## 객체 지향 프로그래밍"
   ]
  },
  {
   "cell_type": "markdown",
   "metadata": {},
   "source": [
    "파이썬과 같은 객체 지향 프로그래밍 언어는\n",
    "사용자가 직접 문제 해결에 필요한 적절한 자료형을 \n",
    "클래스로 정의할 수 있는 기능을 제공한다.\n",
    "여기서는 `Fraction` 추상 자료형(ADT)을 이용하여 \n",
    "새로운 자료구조를 정의하는 과정을 살펴 본다."
   ]
  },
  {
   "cell_type": "markdown",
   "metadata": {},
   "source": [
    "`Fraction` 추상 자료형은 다음 속성과 기능을 갖는 분수들의 클래스를 가리킨다.\n",
    "\n",
    "- 하나의 분수는 임의의 정수를 갖는 분자와 임의의 0이 아닌 정수를 갖는 분모로 구성된다.\n",
    "- 분수들의 사칙연산 기능을 제공한다.\n",
    "- 모든 '3/5'와 같이 기약분수로 표현된다."
   ]
  },
  {
   "cell_type": "markdown",
   "metadata": {},
   "source": [
    "## 클래스"
   ]
  },
  {
   "cell_type": "markdown",
   "metadata": {},
   "source": [
    "파이썬 클래스는 아래 형식으로 정의된다.\n",
    "\n",
    "```python\n",
    "class 클래스이름(상속클래스):\n",
    "    클래스 본체\n",
    "```\n",
    "\n",
    "상속하는 클래스가 없는 경우 `(상속클래스)` 부분은 생략해도 된다."
   ]
  },
  {
   "cell_type": "markdown",
   "metadata": {},
   "source": [
    "### 클래스 생성자"
   ]
  },
  {
   "cell_type": "markdown",
   "metadata": {},
   "source": [
    "모든 파이썬 클래스는 **생성자**라고 불리는 `__init__()` 메서드를 포함한다.\n",
    "\n",
    "생성자는 생성되는 클래스의 인스턴스(instance)의 상태를 지정할 때 필요한 값을\n",
    "인자로 받는다.\n",
    "`Fraction` 클래스의 인스턴스는 하나의 분수를 가리켜야 하기에 \n",
    "분자(numerator)와 분모(denominator)에 해당하는 값을 인자로 받는다."
   ]
  },
  {
   "cell_type": "code",
   "execution_count": 1,
   "metadata": {},
   "outputs": [],
   "source": [
    "class Fraction:\n",
    "    \"\"\"Fraction 클래스\"\"\"\n",
    "    def __init__(self, num, den):\n",
    "        \"\"\"생성자 메서드\n",
    "        num: 분자\n",
    "        den: 분모\n",
    "        \"\"\"\n",
    "        self.num = num\n",
    "        self.den = den"
   ]
  },
  {
   "cell_type": "markdown",
   "metadata": {},
   "source": [
    "`Fraction` 클래스의 생성자에 사용된 매개변수(parameter)와 인스턴스 변수는 다음과 같다.\n",
    "\n",
    "- `self`: 생성되는 인스턴스 자신을 가리킴. 파이썬 클래스의 모든 (인스턴스) 메서드의 첫째 인자로 사용됨.\n",
    "    메서드를 호출할 때 `self`에 대한 인자는 사용하지 않음.\n",
    "- `num`: 생성되는 분수의 분자로 사용될 값을 받는 매개변수\n",
    "- `den`: 생성되는 분수의 분모로 사용될 값을 받는 매개변수\n",
    "- `self.num`: 생성되는 분수의 분자로 사용되는 값을 가리키는 인스턴스 변수(속성 변수)\n",
    "- `self.den`: 생성되는 분수의 분모로 사용되는 값을 가리키는 인스턴스 변수(속성 변수)\n",
    "\n",
    "`self.num`과 `self.den`이 생성되는 분수의 상태(state)를 저장하는 역할을 수행한다."
   ]
  },
  {
   "cell_type": "markdown",
   "metadata": {},
   "source": [
    "**주의:** `self.num` 과 `num`, `self.den`과 `den` 각각 서로 다른 변수들이다."
   ]
  },
  {
   "cell_type": "markdown",
   "metadata": {},
   "source": [
    "### 인스턴스 생성"
   ]
  },
  {
   "cell_type": "markdown",
   "metadata": {},
   "source": [
    "`Fraction` 클래스의 인스턴스, 즉 __하나의 분수에 해당하는 객체__를 선언하려면\n",
    "생성자 함수는 `__init__()` 메서드를 분자, 분모에 해당하는 인자와 함께 호출해야 한다.\n",
    "생성자를 호출하려면 아래처럼 클래스 이름을 마치 함수처럼 활용한다."
   ]
  },
  {
   "cell_type": "code",
   "execution_count": 2,
   "metadata": {},
   "outputs": [],
   "source": [
    "my_fraction = Fraction(3, 5)"
   ]
  },
  {
   "cell_type": "markdown",
   "metadata": {},
   "source": [
    "`my_fraction` 변수는 $\\frac {3}{5}$에 해당하는 객체를 가리킨다."
   ]
  },
  {
   "cell_type": "markdown",
   "metadata": {},
   "source": [
    "<img src=\"https://raw.githubusercontent.com/codingalzi/problem_solving_with_algorithms/master/_sources/Introduction/Figures/fraction1.png\" width=\"50%\">"
   ]
  },
  {
   "cell_type": "markdown",
   "metadata": {},
   "source": [
    "### 매직 메서드"
   ]
  },
  {
   "cell_type": "markdown",
   "metadata": {},
   "source": [
    "`my_frantion`이 $\\frac {3}{5}$를 가리킨다는 사실을 \n",
    "`print()` 함수를 이용하여 확인하려면 이상한 결과가 나온다."
   ]
  },
  {
   "cell_type": "code",
   "execution_count": 3,
   "metadata": {},
   "outputs": [
    {
     "name": "stdout",
     "output_type": "stream",
     "text": [
      "<__main__.Fraction object at 0x00000184E2ED77F0>\n"
     ]
    }
   ],
   "source": [
    "print(my_fraction)"
   ]
  },
  {
   "cell_type": "markdown",
   "metadata": {},
   "source": [
    "이유는 `Fraction` 클래스가 자신의 인스턴스를 소개하는 기능을 제공하지 않았기 때문이다. \n",
    "결국 `my_fraction` 입장에서는 자신이 어떤 클래스의 인스턴스이며 \n",
    "자신이 저장된 메모리 주소만을 알려준다. "
   ]
  },
  {
   "cell_type": "markdown",
   "metadata": {},
   "source": [
    "파이썬의 모든 클래스에 생성자와 함께 기본적으로 포함되는 메서드들의 목록이 있다. \n",
    "이유는 파이썬의 모든 클래스는 기본적으로 최상위 클래스인 `object` 클래스를 \n",
    "상속하기 때문이다.\n",
    "\n",
    "`Fraction` 클래스의 엄밀한 정의는 다음과 같다. "
   ]
  },
  {
   "cell_type": "code",
   "execution_count": 4,
   "metadata": {},
   "outputs": [],
   "source": [
    "class Fraction(object):\n",
    "    \"\"\"Fraction 클래스\"\"\"\n",
    "    def __init__(self, num, den):\n",
    "        \"\"\"생성자 메서드\n",
    "        num: 분자\n",
    "        den: 분모\n",
    "        \"\"\"\n",
    "        self.num = num\n",
    "        self.den = den"
   ]
  },
  {
   "cell_type": "markdown",
   "metadata": {},
   "source": [
    "상속을 통해 `__init__()` 등 기본으로 지정된 메서드를 여러 개 함께 상속한다.\n",
    "이렇게 자동으로 상속되며 두 개의 밑줄로 감싸인 메서드를 **매직 메서드**(magic method)라 부른다.\n",
    "\n",
    "`Fraction` 클래스가 상속하는 매직 메서드의 목록은 `dir()` 함수로 확인할 수 있다."
   ]
  },
  {
   "cell_type": "code",
   "execution_count": 5,
   "metadata": {},
   "outputs": [
    {
     "data": {
      "text/plain": [
       "['__class__',\n",
       " '__delattr__',\n",
       " '__dict__',\n",
       " '__dir__',\n",
       " '__doc__',\n",
       " '__eq__',\n",
       " '__format__',\n",
       " '__ge__',\n",
       " '__getattribute__',\n",
       " '__gt__',\n",
       " '__hash__',\n",
       " '__init__',\n",
       " '__init_subclass__',\n",
       " '__le__',\n",
       " '__lt__',\n",
       " '__module__',\n",
       " '__ne__',\n",
       " '__new__',\n",
       " '__reduce__',\n",
       " '__reduce_ex__',\n",
       " '__repr__',\n",
       " '__setattr__',\n",
       " '__sizeof__',\n",
       " '__str__',\n",
       " '__subclasshook__',\n",
       " '__weakref__']"
      ]
     },
     "execution_count": 5,
     "metadata": {},
     "output_type": "execute_result"
    }
   ],
   "source": [
    "dir(Fraction)"
   ]
  },
  {
   "cell_type": "markdown",
   "metadata": {},
   "source": [
    "위 목록에 포함된 매직 메서드 각자 고유의 역할을 갖지만\n",
    "그 역할을 어떻게 수행할지는 미정인채로 남아 있다.\n",
    "\n",
    "예를 들어 `__str__()` 메서드는 해당 클래스의 인스턴스를 `print()` 함수를 통해\n",
    "어떻게 보여줄 것인가를 문자열로 지정하는 기능을 수행해야 한다.\n",
    "그런데 아직 제대로 구현되어 있지 않았기에\n",
    "위에서 본 것처럼 인스턴스를 제대로 출력하지 못한 것이다."
   ]
  },
  {
   "cell_type": "markdown",
   "metadata": {},
   "source": [
    "### 메서드 재정의"
   ]
  },
  {
   "cell_type": "markdown",
   "metadata": {},
   "source": [
    "메서드 재정의(overriding)는 상속받은 함수를 다시 정의하는 것을 의미한다."
   ]
  },
  {
   "cell_type": "markdown",
   "metadata": {},
   "source": [
    "**`__str__()` 메서드**"
   ]
  },
  {
   "cell_type": "markdown",
   "metadata": {},
   "source": [
    "`Fraction` 클래스를 선언할 때 `__str__()` 메서드를 아래처럼 재정의하면 \n",
    "분수를 일반적인 형식으로 출력하게 된다."
   ]
  },
  {
   "cell_type": "code",
   "execution_count": 6,
   "metadata": {},
   "outputs": [],
   "source": [
    "class Fraction:\n",
    "    \"\"\"Fraction 클래스\"\"\"\n",
    "\n",
    "    def __init__(self, top, bottom):\n",
    "        \"\"\"생성자 메서드\n",
    "        top: 분자\n",
    "        bottom: 분모\n",
    "        \"\"\"\n",
    "        self.num = top\n",
    "        self.den = bottom\n",
    "\n",
    "    def __str__(self):\n",
    "        return f\"{self.num}/{self.den}\""
   ]
  },
  {
   "cell_type": "code",
   "execution_count": 7,
   "metadata": {},
   "outputs": [],
   "source": [
    "my_fraction = Fraction(3, 5)"
   ]
  },
  {
   "cell_type": "markdown",
   "metadata": {},
   "source": [
    "이제 `print()` 함수가 원했던 대로 작동한다."
   ]
  },
  {
   "cell_type": "code",
   "execution_count": 8,
   "metadata": {},
   "outputs": [
    {
     "name": "stdout",
     "output_type": "stream",
     "text": [
      "3/5\n"
     ]
    }
   ],
   "source": [
    "print(my_fraction)"
   ]
  },
  {
   "cell_type": "markdown",
   "metadata": {},
   "source": [
    "`__str__()` 메서드를 직접 호출해도 동일한 결과를 얻는다. "
   ]
  },
  {
   "cell_type": "code",
   "execution_count": 9,
   "metadata": {},
   "outputs": [
    {
     "data": {
      "text/plain": [
       "'3/5'"
      ]
     },
     "execution_count": 9,
     "metadata": {},
     "output_type": "execute_result"
    }
   ],
   "source": [
    "my_fraction.__str__()"
   ]
  },
  {
   "cell_type": "code",
   "execution_count": 10,
   "metadata": {},
   "outputs": [
    {
     "name": "stdout",
     "output_type": "stream",
     "text": [
      "피자의 3/5를 먹었다.\n"
     ]
    }
   ],
   "source": [
    "print(f\"피자의 {my_fraction}를 먹었다.\")"
   ]
  },
  {
   "cell_type": "markdown",
   "metadata": {},
   "source": [
    "`str()` 함수는 인자로 사용된 객체가 제공하는 `__str__()` 메서드를 내부에서 호출한다."
   ]
  },
  {
   "cell_type": "code",
   "execution_count": 11,
   "metadata": {},
   "outputs": [
    {
     "data": {
      "text/plain": [
       "'3/5'"
      ]
     },
     "execution_count": 11,
     "metadata": {},
     "output_type": "execute_result"
    }
   ],
   "source": [
    "str(my_fraction)"
   ]
  },
  {
   "cell_type": "markdown",
   "metadata": {},
   "source": [
    "### 연산자 중복정의"
   ]
  },
  {
   "cell_type": "markdown",
   "metadata": {},
   "source": [
    "사칙연산에 사용되는 네 개의 기호는 `+`, `-`, `*`, `/`\n",
    "기본적으로 정수, 유리수, 실수 등의 연산자로 사용된다.\n",
    "그런데 경우에 따라 리스트나 문자열 등의 연산에도 사용된다."
   ]
  },
  {
   "cell_type": "code",
   "execution_count": 12,
   "metadata": {},
   "outputs": [
    {
     "data": {
      "text/plain": [
       "[1, 2, 3, 1, 2, 3]"
      ]
     },
     "execution_count": 12,
     "metadata": {},
     "output_type": "execute_result"
    }
   ],
   "source": [
    "[1, 2, 3] * 2"
   ]
  },
  {
   "cell_type": "code",
   "execution_count": 13,
   "metadata": {},
   "outputs": [
    {
     "data": {
      "text/plain": [
       "[1, 2, 3, 4, 5]"
      ]
     },
     "execution_count": 13,
     "metadata": {},
     "output_type": "execute_result"
    }
   ],
   "source": [
    "[1, 2, 3] + [4, 5]"
   ]
  },
  {
   "cell_type": "code",
   "execution_count": 14,
   "metadata": {},
   "outputs": [
    {
     "data": {
      "text/plain": [
       "'abcde'"
      ]
     },
     "execution_count": 14,
     "metadata": {},
     "output_type": "execute_result"
    }
   ],
   "source": [
    "\"abc\" + \"de\""
   ]
  },
  {
   "cell_type": "code",
   "execution_count": 15,
   "metadata": {},
   "outputs": [
    {
     "data": {
      "text/plain": [
       "'abcabcabc'"
      ]
     },
     "execution_count": 15,
     "metadata": {},
     "output_type": "execute_result"
    }
   ],
   "source": [
    "\"abc\" * 3"
   ]
  },
  {
   "cell_type": "markdown",
   "metadata": {},
   "source": [
    "이와같이 하나의 연산자가 여러 자료형에 대해 다른 의미로 작동하도록 하는 것을\n",
    "연산자 **중복정의**(overloading)라 한다.\n",
    "여기서는 사칙연산자가 분수에 대해서도 작동하도록 하려면\n",
    "즉, 사칙 연산자가 `Fraction` 클래스의 인스턴스에 대해서 중복정의되도록 하는 방법을 소개한다. "
   ]
  },
  {
   "cell_type": "markdown",
   "metadata": {},
   "source": [
    "먼저 분수의 덧셈을 시도하면 오류가 발생함을 확인한다."
   ]
  },
  {
   "cell_type": "code",
   "execution_count": 16,
   "metadata": {},
   "outputs": [],
   "source": [
    "f1 = Fraction(1, 4)\n",
    "f2 = Fraction(1, 2)"
   ]
  },
  {
   "cell_type": "markdown",
   "metadata": {},
   "source": [
    "```python\n",
    ">>> f1 + f2\n",
    "TypeError                                 Traceback (most recent call last)\n",
    "Input In [14], in <module>\n",
    "----> 1 f1 + f2\n",
    "\n",
    "TypeError: unsupported operand type(s) for +: 'Fraction' and 'Fraction'\n",
    "```"
   ]
  },
  {
   "cell_type": "markdown",
   "metadata": {},
   "source": [
    "이유는 덧셈 연산자 `+`가 `Fraction` 클래스의 인스턴스에 대한 중복정의가 지원되지 않기 때문이다. "
   ]
  },
  {
   "cell_type": "markdown",
   "metadata": {},
   "source": [
    "**`__add__()` 메서드**"
   ]
  },
  {
   "cell_type": "markdown",
   "metadata": {},
   "source": [
    "덧셈, 뺄셈 등 사칙연산에 대해 일반적으로 사용되는 기호를 사용하려면\n",
    "각각의 기호에 해당하는 매직 메서드를 선언해야 한다. \n",
    "예를 들어 분수의 덧셈을 위해 `+` 연산자를 사용하려면 \n",
    "`Fraction` 클래스에 `__add__()` 메서드가 적절하게 정의되어 있어야 한다.\n",
    "그러면 아래 표현식은 `f1 + f2`에 해당하는 값을 가리키게 된다."
   ]
  },
  {
   "cell_type": "markdown",
   "metadata": {},
   "source": [
    "```python\n",
    "f1.__add__(f2)\n",
    "```"
   ]
  },
  {
   "cell_type": "markdown",
   "metadata": {},
   "source": [
    "분수의 덧셈은 아래와 같이 정의된다.\n",
    "\n",
    "$$\\frac {a}{b} + \\frac {c}{d} = \\frac {ad}{bd} + \\frac {cb}{bd} = \\frac{ad+cb}{bd}$$\n",
    "\n",
    "이를 구현하는 `__add__()` 메서드를 `Fraction` 클래스에 추가하자."
   ]
  },
  {
   "cell_type": "code",
   "execution_count": 17,
   "metadata": {},
   "outputs": [],
   "source": [
    "class Fraction:\n",
    "    \"\"\"Fraction 클래스\"\"\"\n",
    "\n",
    "    def __init__(self, top, bottom):\n",
    "        \"\"\"생성자 메서드\n",
    "        top: 분자\n",
    "        bottom: 분모\n",
    "        \"\"\"\n",
    "        self.num = top\n",
    "        self.den = bottom\n",
    "\n",
    "    def __str__(self):\n",
    "        return f\"{self.num}/{self.den}\"\n",
    "\n",
    "    def __add__(self, other_fraction):\n",
    "        new_num = self.num * other_fraction.den + \\\n",
    "                    self.den * other_fraction.num\n",
    "        new_den = self.den * other_fraction.den\n",
    "\n",
    "        return Fraction(new_num, new_den)"
   ]
  },
  {
   "cell_type": "markdown",
   "metadata": {},
   "source": [
    "이제 분수들의 덧셈이 작동한다."
   ]
  },
  {
   "cell_type": "code",
   "execution_count": 18,
   "metadata": {},
   "outputs": [
    {
     "name": "stdout",
     "output_type": "stream",
     "text": [
      "6/8\n"
     ]
    }
   ],
   "source": [
    "f1 = Fraction(1, 4)\n",
    "f2 = Fraction(1, 2)\n",
    "print(f1 + f2)"
   ]
  },
  {
   "cell_type": "markdown",
   "metadata": {},
   "source": [
    "덧셈이 잘 작동하지만 결과값이 기약분수의 형태가 아니다. \n",
    "기약분수를 계산하려면 최대공약수(gcd)를 계산하는 알고리즘이 필요하다."
   ]
  },
  {
   "cell_type": "markdown",
   "metadata": {},
   "source": [
    "*유클리드 알고리즘*"
   ]
  },
  {
   "cell_type": "markdown",
   "metadata": {},
   "source": [
    "유클리드 알고리즘은 두 정수의 최대공약수를 빠르고 효율적으로 계산하며,\n",
    "아래 두 성질을 이용한다.\n",
    "\n",
    "- m을 n으로 나눌 수 있으면 n이 최대공약수이다.\n",
    "- 그렇지 않으면 m과 n의 최대공약수는 n과 m%n의 최대공약수와 같다.\n",
    "\n",
    "여기서 m%n은 m 을 n으로 나눈 나머지를 가리킨다.\n",
    "아래 `gcd()` 함수는 유클리드 알고리즘을 구현한다."
   ]
  },
  {
   "cell_type": "code",
   "execution_count": 19,
   "metadata": {},
   "outputs": [],
   "source": [
    "def gcd(m, n):\n",
    "    while m % n != 0:\n",
    "        m, n = n, m % n\n",
    "    return n"
   ]
  },
  {
   "cell_type": "markdown",
   "metadata": {},
   "source": [
    "28과 24의 최대공약수는 4이다."
   ]
  },
  {
   "cell_type": "code",
   "execution_count": 20,
   "metadata": {},
   "outputs": [
    {
     "name": "stdout",
     "output_type": "stream",
     "text": [
      "4\n"
     ]
    }
   ],
   "source": [
    "print(gcd(28, 24))"
   ]
  },
  {
   "cell_type": "markdown",
   "metadata": {},
   "source": [
    "120과 36의 최대공약수는 12이다."
   ]
  },
  {
   "cell_type": "code",
   "execution_count": 21,
   "metadata": {},
   "outputs": [
    {
     "name": "stdout",
     "output_type": "stream",
     "text": [
      "12\n"
     ]
    }
   ],
   "source": [
    "print(gcd(120, 36))"
   ]
  },
  {
   "cell_type": "markdown",
   "metadata": {},
   "source": [
    "`gcd()` 함수를 `__add__()` 함수의 정의해 활용하자. "
   ]
  },
  {
   "cell_type": "code",
   "execution_count": 22,
   "metadata": {},
   "outputs": [],
   "source": [
    "class Fraction:\n",
    "    \"\"\"Fraction 클래스\"\"\"\n",
    "\n",
    "    def __init__(self, top, bottom):\n",
    "        \"\"\"생성자 메서드\n",
    "        top: 분자\n",
    "        bottom: 분모\n",
    "        \"\"\"\n",
    "        self.num = top\n",
    "        self.den = bottom\n",
    "\n",
    "    def __str__(self):\n",
    "        return f\"{self.num}/{self.den}\"\n",
    "\n",
    "    def __add__(self, other_fraction):\n",
    "        new_num = self.num * other_fraction.den + \\\n",
    "                     self.den * other_fraction.num\n",
    "        new_den = self.den * other_fraction.den\n",
    "        common = gcd(new_num, new_den)\n",
    "        \n",
    "        return Fraction(new_num // common, new_den // common)"
   ]
  },
  {
   "cell_type": "markdown",
   "metadata": {},
   "source": [
    "1/4 더하기 1/2를 8/6이 아니라 3/4로 계산해서 반환한다."
   ]
  },
  {
   "cell_type": "code",
   "execution_count": 23,
   "metadata": {},
   "outputs": [
    {
     "name": "stdout",
     "output_type": "stream",
     "text": [
      "3/4\n"
     ]
    }
   ],
   "source": [
    "f1 = Fraction(1, 4)\n",
    "f2 = Fraction(1, 2)\n",
    "f3 = f1 + f2\n",
    "print(f3)"
   ]
  },
  {
   "cell_type": "markdown",
   "metadata": {},
   "source": [
    "이제 `Fraction`의 인스턴스는 적절하게 작동하는 `__str__()`, `__add__()` \n",
    "두 개의 메서드를 갖는다. "
   ]
  },
  {
   "cell_type": "markdown",
   "metadata": {},
   "source": [
    "<img src=\"https://raw.githubusercontent.com/codingalzi/problem_solving_with_algorithms/master/_sources/Introduction/Figures/fraction2.png\" width=\"50%\">"
   ]
  },
  {
   "cell_type": "markdown",
   "metadata": {},
   "source": [
    "유사한 방식으로 뺄셈 연산자(`-`), 곱셈 연산자(`*`), 나눗셈 연산자(`/`)가 \n",
    "`Fraction` 클래스의 인스턴스, 즉 분수들에 대해서도 작동하도록 할 수 있다(연습문제 참고)."
   ]
  },
  {
   "cell_type": "markdown",
   "metadata": {},
   "source": [
    "### 동등성과 동일성"
   ]
  },
  {
   "cell_type": "markdown",
   "metadata": {},
   "source": [
    "두 객체의 __동일성__(identity) 여부는 비교되는 두 객체가 동일한 메모리 주소에 저장되었는가에 따라 결정된다.\n",
    "반면에 메모리의 주소가 아니라 객체가 표현하는 값의 동일성 여부에 따라\n",
    "두 값을 비교 판정하는 것은 __동등성__(equality) 여부이다. \n",
    "파이썬에서 두 객체의 동일성은 `is` 연산자가, \n",
    "동등성은 `==` 연산자가 담당한다."
   ]
  },
  {
   "cell_type": "markdown",
   "metadata": {},
   "source": [
    "**얕은 동등성**"
   ]
  },
  {
   "cell_type": "markdown",
   "metadata": {},
   "source": [
    "예를 들어 아래 두 객체 모두 분수 1/2를 객체를 가리키지만 서로 독립적으로 생성되었기에\n",
    "서로 다른 메모리에 저장되며, 따라서 두 변수 `x`와 `y`는 서로 다른 객체를 참조한다.\n",
    "따라서 두 변수가 참조하는 값은 동등하지 않다고 판정된다.\n",
    "이와같이 두 값의 동등성을 판단하는 것을 __얕은 동등성__(shallow equality)이라 부른다."
   ]
  },
  {
   "cell_type": "code",
   "execution_count": 24,
   "metadata": {},
   "outputs": [
    {
     "data": {
      "text/plain": [
       "False"
      ]
     },
     "execution_count": 24,
     "metadata": {},
     "output_type": "execute_result"
    }
   ],
   "source": [
    "x = Fraction(1, 2)\n",
    "y = Fraction(1, 2)\n",
    "x == y"
   ]
  },
  {
   "cell_type": "markdown",
   "metadata": {},
   "source": [
    "물론 두 객체가 동일하지 않다고 판단된다."
   ]
  },
  {
   "cell_type": "code",
   "execution_count": 25,
   "metadata": {},
   "outputs": [
    {
     "data": {
      "text/plain": [
       "False"
      ]
     },
     "execution_count": 25,
     "metadata": {},
     "output_type": "execute_result"
    }
   ],
   "source": [
    "x is y"
   ]
  },
  {
   "cell_type": "markdown",
   "metadata": {},
   "source": [
    "__참고__: [PythonTutor-얕은 동등성](https://pythontutor.com/visualize.html#code=class%20Fraction%3A%0A%20%20%20%20%22%22%22Fraction%20%ED%81%B4%EB%9E%98%EC%8A%A4%22%22%22%0A%0A%20%20%20%20def%20__init__%28self,%20top,%20bottom%29%3A%0A%20%20%20%20%20%20%20%20%22%22%22%EC%83%9D%EC%84%B1%EC%9E%90%20%EB%A9%94%EC%84%9C%EB%93%9C%0A%20%20%20%20%20%20%20%20top%3A%20%EB%B6%84%EC%9E%90%0A%20%20%20%20%20%20%20%20bottom%3A%20%EB%B6%84%EB%AA%A8%0A%20%20%20%20%20%20%20%20%22%22%22%0A%20%20%20%20%20%20%20%20self.num%20%3D%20top%0A%20%20%20%20%20%20%20%20self.den%20%3D%20bottom%0A%0A%20%20%20%20def%20__str__%28self%29%3A%0A%20%20%20%20%20%20%20%20return%20f%22%7Bself.num%7D/%7Bself.den%7D%22%0A%0A%20%20%20%20def%20__add__%28self,%20other_fraction%29%3A%0A%20%20%20%20%20%20%20%20new_num%20%3D%20self.num%20*%20other_fraction.den%20%2B%20%5C%0A%20%20%20%20%20%20%20%20%20%20%20%20%20%20%20%20%20%20%20%20%20self.den%20*%20other_fraction.num%0A%20%20%20%20%20%20%20%20new_den%20%3D%20self.den%20*%20other_fraction.den%0A%20%20%20%20%20%20%20%20common%20%3D%20gcd%28new_num,%20new_den%29%0A%20%20%20%20%20%20%20%20%0A%20%20%20%20%20%20%20%20return%20Fraction%28new_num%20//%20common,%20new_den%20//%20common%29%0A%0Ax%20%3D%20Fraction%281,%202%29%0Ay%20%3D%20Fraction%281,%202%29%0Aprint%28x%20%3D%3D%20y%29&cumulative=false&curInstr=0&heapPrimitives=nevernest&mode=display&origin=opt-frontend.js&py=3&rawInputLstJSON=%5B%5D&textReferences=false)"
   ]
  },
  {
   "cell_type": "markdown",
   "metadata": {},
   "source": [
    "반면에 아래처럼 두 변수가 참조하는 객체를 동일하게 지정하면 동일성\n",
    "동등성 모두 참으로 판단된다."
   ]
  },
  {
   "cell_type": "code",
   "execution_count": 26,
   "metadata": {},
   "outputs": [
    {
     "name": "stdout",
     "output_type": "stream",
     "text": [
      "True\n",
      "True\n"
     ]
    }
   ],
   "source": [
    "x = Fraction(1, 2)\n",
    "y = x\n",
    "print(x == y)\n",
    "print(x is y)"
   ]
  },
  {
   "cell_type": "markdown",
   "metadata": {},
   "source": [
    "**깊은 동등성**"
   ]
  },
  {
   "cell_type": "markdown",
   "metadata": {},
   "source": [
    "반면에 __깊은 동등성__(deep equality)은 두 객체가 (의도된) 동일한 값을\n",
    "가리키는가 여부를 결정하며, 이를 위해 \n",
    "`__eq__()` 매직 메서드를 이용한다.\n",
    "\n",
    "잘 알다시피 두 분수의 동등성은 아래와 같이 정의된다.\n",
    "\n",
    "$$\\frac {a}{b} = \\frac {c}{d} \\Longleftrightarrow ad = bc$$\n",
    "\n",
    "이를 그대로 구현하는 `__eq__()` 메서드를 `Fraction` 클래스에 추가하자."
   ]
  },
  {
   "cell_type": "code",
   "execution_count": 27,
   "metadata": {},
   "outputs": [],
   "source": [
    "class Fraction:\n",
    "    \"\"\"Fraction 클래스\"\"\"\n",
    "\n",
    "    def __init__(self, top, bottom):\n",
    "        \"\"\"생성자 메서드\n",
    "        top: 분자\n",
    "        bottom: 분모\n",
    "        \"\"\"\n",
    "        self.num = top\n",
    "        self.den = bottom\n",
    "\n",
    "    def __str__(self):\n",
    "        return f\"{self.num}/{self.den}\"\n",
    "\n",
    "    def __add__(self, other_fraction):\n",
    "        new_num = self.num * other_fraction.den + \\\n",
    "                     self.den * other_fraction.num\n",
    "        new_den = self.den * other_fraction.den\n",
    "        common = gcd(new_num, new_den)\n",
    "        \n",
    "        return Fraction(new_num // common, new_den // common)\n",
    "\n",
    "    def __eq__(self, other_fraction):\n",
    "        first_num = self.num * other_fraction.den\n",
    "        second_num = other_fraction.num * self.den\n",
    "\n",
    "        return first_num == second_num"
   ]
  },
  {
   "cell_type": "markdown",
   "metadata": {},
   "source": [
    "이제 일반적인 분수의 동등성을 이용할  수 있다."
   ]
  },
  {
   "cell_type": "code",
   "execution_count": 28,
   "metadata": {},
   "outputs": [
    {
     "name": "stdout",
     "output_type": "stream",
     "text": [
      "True\n"
     ]
    }
   ],
   "source": [
    "x = Fraction(1, 2)\n",
    "y = Fraction(1, 2)\n",
    "print(x == y)"
   ]
  },
  {
   "cell_type": "code",
   "execution_count": 29,
   "metadata": {},
   "outputs": [
    {
     "name": "stdout",
     "output_type": "stream",
     "text": [
      "True\n"
     ]
    }
   ],
   "source": [
    "x = Fraction(1, 2)\n",
    "y = Fraction(2, 4)\n",
    "print(x == y)"
   ]
  },
  {
   "cell_type": "code",
   "execution_count": 30,
   "metadata": {},
   "outputs": [
    {
     "name": "stdout",
     "output_type": "stream",
     "text": [
      "False\n"
     ]
    }
   ],
   "source": [
    "x = Fraction(1, 2)\n",
    "y = Fraction(2, 3)\n",
    "print(x == y)"
   ]
  },
  {
   "cell_type": "markdown",
   "metadata": {},
   "source": [
    "## 상속"
   ]
  },
  {
   "cell_type": "markdown",
   "metadata": {},
   "source": [
    "**상속**<font size='2'>inheritance</font>은 객체 지향 프로그래밍의 또 다른 주요 요소이다. \n",
    "클래스를 선언할 때 다른 클래스의 속성과 메서드를 상속 받아 활용할 수 있다.\n",
    "상속을 받는 클래스를 **자식 클래스** 또는 **하위 클래스**, \n",
    "상속을 하는 클래스를 **부모 클래스** 또는 **상위 클래스**라고 부른다. \n",
    "\n",
    "상속을 정의하는 방식은 다음과 같다.\n",
    "\n",
    "```python\n",
    "class 자식클래스(부모클래스):\n",
    "    클래스 본문\n",
    "```"
   ]
  },
  {
   "cell_type": "markdown",
   "metadata": {},
   "source": [
    "### 모음 자료형의 상속 체계"
   ]
  },
  {
   "cell_type": "markdown",
   "metadata": {},
   "source": [
    "아래 그림은 파이썬 모음 자료형의 상속 체계를 보여준다. \n",
    "예를 들어, `list` 클래스는 `Sequence` 클래스를 상속하며,\n",
    "`Sequence`는 `Collection` 클래를 상속한다. \n",
    "이렁 이유로 \"리스트는 순차<font size='2'>Sequence</font> 자료형이다\" 등으로 말한다.\n",
    "이와 달리 항목들의 순서를 고려하지 않는 `dict`와 `set` 은 순차 자료형이 아니다."
   ]
  },
  {
   "cell_type": "markdown",
   "metadata": {},
   "source": [
    "<div align=\"center\"><img src=\"https://raw.githubusercontent.com/codingalzi/problem_solving_with_algorithms/master/_sources/Introduction/Figures/inheritance1.png\" width=\"70%\"></div>\n",
    "\n",
    "<그림 출처: [Problem Solving with Algorithms and Data Structures using Python의 1.13 절](https://runestone.academy/ns/books/published/pythonds3/Introduction/ObjectOrientedProgramminginPythonDefiningClasses.html)>"
   ]
  },
  {
   "cell_type": "markdown",
   "metadata": {},
   "source": [
    "`list`, `tuple`, `str` 클래스 모두 `Sequence` 클래스를 상속하기에\n",
    "인덱싱, 슬라이싱 등 자신들의 항목을 다루는 공통된 방식을 갖는다.\n",
    "반면에 각 자료형마다 서로 다른 메서드를 제공한다.\n",
    "이렇듯 한 클래스의 여러 자식 클래스는 서로 공통된 요소와 함께 \n",
    "각 자식 클래스 고유의 요소를 갖는다.\n",
    "\n",
    "클래스를 상속할 때의 가장 큰 장점은 \n",
    "첫째, 기존에 작성된 코드를 필요에 따라 수정하고 재활용 할 수 있다는 것과\n",
    "둘째, 자식 클래스의 인스턴스들 사이의 관계를 보다 잘 이해할 수 있다는 것이다. "
   ]
  },
  {
   "cell_type": "markdown",
   "metadata": {},
   "source": [
    "여기서는 상속을 이용하여 벡터라는 새로운 모음 자료형을 직접 구현하는 과정을 자세히 살펴 본다."
   ]
  },
  {
   "cell_type": "markdown",
   "metadata": {},
   "source": [
    "### 벡터 자료형"
   ]
  },
  {
   "cell_type": "markdown",
   "metadata": {},
   "source": [
    "벡터는 1차원 리스트와 비슷하다.\n",
    "차이점은 벡터의 연산이 리스트의 연산과 많이 다르다.\n",
    "예를 들어 길이가 같은 두 벡터의 내적은 각 항목끼리의 곱셈의 합이다. \n",
    "다음은 `[2, 3, 4]` 와 `[5, 6, 9]` 두 벡터의 내적을 계산하는 방법을 보여준다.\n",
    "\n",
    "```python\n",
    "2 * 5 + 3 * 6 + 4 * 9\n",
    "```\n",
    "\n",
    "반면에 리스트 클래스 `list` 는 벡터의 내적 연산자를 지원하지 않는다.\n",
    "따라서 리스트의 내적 연산을 지원하도록 `list` 클래스의 기능을 확장해야 한다."
   ]
  },
  {
   "cell_type": "markdown",
   "metadata": {},
   "source": [
    "**벡터 내적**"
   ]
  },
  {
   "cell_type": "markdown",
   "metadata": {},
   "source": [
    "아래 코드는 `list` 클래스를 상속받는 `Vector` 클래스를 선언한다.\n",
    "리스트에 없던 `len` 속성과 `dot()` 메서드가 새롭게 추가된다.\n",
    "\n",
    "- `super().__init__()`: 부모 클래스의 생성자 호출.\n",
    "    자식 클래스의 생성자를 호출할 때 호출되면\n",
    "    부모 클래스의 속성과 메서드를 모두 상속받음.\n",
    "- `dot()` 메서드: 추가되는 메서드. 내적 반환.\n",
    "- `len` 속성: 추가되는 인스턴스 속성. 벡터의 길이."
   ]
  },
  {
   "cell_type": "code",
   "execution_count": 31,
   "metadata": {},
   "outputs": [],
   "source": [
    "class Vector(list):\n",
    "    # Vector 클래스 생성자 재정의\n",
    "    def __init__(self, items):\n",
    "        \"\"\"\n",
    "        - list 클래스 상속\n",
    "        - items: 벡터로 사용될 리스트\n",
    "        \"\"\"\n",
    "        \n",
    "        # 부모 클래스 생성자 호출\n",
    "        super().__init__(items)\n",
    "        \n",
    "        # 속성 추가\n",
    "        self.dim = self.__len__()  # 벡터의 차원(길이)\n",
    "        \n",
    "    # 내적 메서드\n",
    "    def dot(self, other):\n",
    "        \"\"\"\n",
    "        벡터 내적 계산\n",
    "        \"\"\"\n",
    "\n",
    "        # 벡터의 길이가 다르면 실행 오류 발생\n",
    "        if self.dim != other.dim:\n",
    "            raise RuntimeError(\"두 벡터의 길이가 달라요!\")\n",
    "\n",
    "        # 내적 계산: 각 항목들의 곱의 합\n",
    "        # 리스트를 상속하기에 인덱싱 사용 가능\n",
    "        sum = 0\n",
    "        for i in range(self.dim):\n",
    "            sum += self[i] * other[i]\n",
    "\n",
    "        return sum\n",
    "    \n",
    "    # append() 와 pop() 메서드는 재정의 필요. \n",
    "    # 이유는 벡터의 길이가 달라지기 때문임.\n",
    "\n",
    "    def append(self, new_item):\n",
    "        super().append(new_item)\n",
    "        self.dim = self.__len__() # 항목이 1개 늘어남\n",
    "\n",
    "    def pop(self, idx=-1):\n",
    "        removed_item = super().pop(idx)\n",
    "        self.dim = self.__len__() # 항목이 1개 줄어듬\n",
    "        return removed_item"
   ]
  },
  {
   "cell_type": "markdown",
   "metadata": {},
   "source": [
    "두 개의 벡터를 생성하자."
   ]
  },
  {
   "cell_type": "code",
   "execution_count": 32,
   "metadata": {},
   "outputs": [],
   "source": [
    "x = Vector([2, 3, 4])\n",
    "y = Vector((5, 6, 9))"
   ]
  },
  {
   "cell_type": "markdown",
   "metadata": {},
   "source": [
    "`__str__()` 등 리스트의 모든 매직 메서드와\n",
    "`append()` 등의 다른 모든 메서드,\n",
    "그리고 인덱싱, 슬라이싱 등 \n",
    "리스트의 모든 기능을 활용할 수 있다."
   ]
  },
  {
   "cell_type": "markdown",
   "metadata": {},
   "source": [
    "- `__str__()` 메서드"
   ]
  },
  {
   "cell_type": "code",
   "execution_count": 33,
   "metadata": {},
   "outputs": [
    {
     "name": "stdout",
     "output_type": "stream",
     "text": [
      "[2, 3, 4]\n"
     ]
    }
   ],
   "source": [
    "print(x)"
   ]
  },
  {
   "cell_type": "code",
   "execution_count": 34,
   "metadata": {},
   "outputs": [
    {
     "name": "stdout",
     "output_type": "stream",
     "text": [
      "[5, 6, 9]\n"
     ]
    }
   ],
   "source": [
    "print(y)"
   ]
  },
  {
   "cell_type": "markdown",
   "metadata": {},
   "source": [
    "* `append()` 메서드"
   ]
  },
  {
   "cell_type": "code",
   "execution_count": 35,
   "metadata": {},
   "outputs": [
    {
     "data": {
      "text/plain": [
       "[2, 3, 4, 5]"
      ]
     },
     "execution_count": 35,
     "metadata": {},
     "output_type": "execute_result"
    }
   ],
   "source": [
    "x.append(5)\n",
    "x"
   ]
  },
  {
   "cell_type": "code",
   "execution_count": 36,
   "metadata": {},
   "outputs": [
    {
     "data": {
      "text/plain": [
       "4"
      ]
     },
     "execution_count": 36,
     "metadata": {},
     "output_type": "execute_result"
    }
   ],
   "source": [
    "x.dim"
   ]
  },
  {
   "cell_type": "markdown",
   "metadata": {},
   "source": [
    "* `pop()` 메서드"
   ]
  },
  {
   "cell_type": "code",
   "execution_count": 37,
   "metadata": {},
   "outputs": [
    {
     "data": {
      "text/plain": [
       "[2, 3, 4]"
      ]
     },
     "execution_count": 37,
     "metadata": {},
     "output_type": "execute_result"
    }
   ],
   "source": [
    "x.pop()\n",
    "x"
   ]
  },
  {
   "cell_type": "code",
   "execution_count": 38,
   "metadata": {},
   "outputs": [
    {
     "data": {
      "text/plain": [
       "3"
      ]
     },
     "execution_count": 38,
     "metadata": {},
     "output_type": "execute_result"
    }
   ],
   "source": [
    "x.dim"
   ]
  },
  {
   "cell_type": "markdown",
   "metadata": {},
   "source": [
    "* 인덱싱"
   ]
  },
  {
   "cell_type": "code",
   "execution_count": 39,
   "metadata": {},
   "outputs": [
    {
     "data": {
      "text/plain": [
       "2"
      ]
     },
     "execution_count": 39,
     "metadata": {},
     "output_type": "execute_result"
    }
   ],
   "source": [
    "x[0]"
   ]
  },
  {
   "cell_type": "markdown",
   "metadata": {},
   "source": [
    "* 슬라이싱"
   ]
  },
  {
   "cell_type": "code",
   "execution_count": 40,
   "metadata": {},
   "outputs": [
    {
     "data": {
      "text/plain": [
       "[2, 4]"
      ]
     },
     "execution_count": 40,
     "metadata": {},
     "output_type": "execute_result"
    }
   ],
   "source": [
    "x[::2]"
   ]
  },
  {
   "cell_type": "markdown",
   "metadata": {},
   "source": [
    "벡터 내적도 잘 작동한다."
   ]
  },
  {
   "cell_type": "code",
   "execution_count": 41,
   "metadata": {},
   "outputs": [
    {
     "data": {
      "text/plain": [
       "True"
      ]
     },
     "execution_count": 41,
     "metadata": {},
     "output_type": "execute_result"
    }
   ],
   "source": [
    "x.dot(y)\n",
    "\n",
    "x.dot(y) == 2 * 5 + 3 * 6 + 4 * 9"
   ]
  },
  {
   "cell_type": "markdown",
   "metadata": {},
   "source": [
    "**메서드의 함수화**"
   ]
  },
  {
   "cell_type": "markdown",
   "metadata": {},
   "source": [
    "`str()` 함수는 인자의 자료형에 속한 `__str__()` 메서드를 활용한다."
   ]
  },
  {
   "cell_type": "code",
   "execution_count": 42,
   "metadata": {},
   "outputs": [
    {
     "data": {
      "text/plain": [
       "True"
      ]
     },
     "execution_count": 42,
     "metadata": {},
     "output_type": "execute_result"
    }
   ],
   "source": [
    "str(x) == x.__str__()"
   ]
  },
  {
   "cell_type": "markdown",
   "metadata": {},
   "source": [
    "이처럼 벡터의 내적을 자주 활용한다면 클래스 외부의 함수로 지정해서 사용하면 편리하다.\n",
    "아래 `dot()` 함수는 벡터 인자에 대해서만 작동하도록 구현되었다."
   ]
  },
  {
   "cell_type": "code",
   "execution_count": 43,
   "metadata": {},
   "outputs": [],
   "source": [
    "def dot(x, y):\n",
    "    assert isinstance(x, Vector) and isinstance(y, Vector)\n",
    "    \n",
    "    return x.dot(y)"
   ]
  },
  {
   "cell_type": "code",
   "execution_count": 44,
   "metadata": {},
   "outputs": [
    {
     "data": {
      "text/plain": [
       "True"
      ]
     },
     "execution_count": 44,
     "metadata": {},
     "output_type": "execute_result"
    }
   ],
   "source": [
    "dot(x, y) == x.dot(y)"
   ]
  },
  {
   "cell_type": "markdown",
   "metadata": {},
   "source": [
    "**벡터 합**"
   ]
  },
  {
   "cell_type": "markdown",
   "metadata": {},
   "source": [
    "예를 들어, `+` 연산자는 두 개의 리스트를 이어붙인다. \n",
    "반면에 벡터의 덧셈은 동일한 위치의 항목들의 합으로 이루어진 벡터를 계산한다.\n",
    "이런 벡터 연산을 지원하며려 `__add__()` 메서드를 재정의하면 된다."
   ]
  },
  {
   "cell_type": "code",
   "execution_count": 45,
   "metadata": {},
   "outputs": [],
   "source": [
    "class Vector(list):\n",
    "    # Vector 클래스 생성자 재정의\n",
    "    def __init__(self, items):\n",
    "        \"\"\"\n",
    "        - list 클래스 상속\n",
    "        - items: 벡터로 사용될 리스트\n",
    "        \"\"\"\n",
    "        \n",
    "        # 부모 클래스 생성자 호출\n",
    "        super().__init__(items)\n",
    "        \n",
    "        # 속성 추가\n",
    "        self.dim = self.__len__()  # 벡터의 차원(길이)\n",
    "        \n",
    "    # 내적 메서드\n",
    "    def dot(self, other):\n",
    "        \"\"\"\n",
    "        벡터 내적 계산\n",
    "        \"\"\"\n",
    "\n",
    "        # 벡터의 길이가 다르면 실행 오류 발생\n",
    "        if self.dim != other.dim:\n",
    "            raise RuntimeError(\"두 벡터의 길이가 달라요!\")\n",
    "\n",
    "        # 내적 계산: 각 항목들의 곱의 합\n",
    "        # 리스트를 상속하기에 인덱싱 사용 가능\n",
    "        sum = 0\n",
    "        for i in range(self.dim):\n",
    "            sum += self[i] * other[i]\n",
    "\n",
    "        return sum\n",
    "    \n",
    "    # append() 와 pop() 메서드는 재정의 필요. \n",
    "    # 이유는 벡터의 길이가 달라지기 때문임.\n",
    "\n",
    "    # 항목이 1개 늘어남\n",
    "    def append(self, new_item):\n",
    "        super().append(new_item)\n",
    "        self.dim = self.__len__()\n",
    "\n",
    "    # 항목이 1개 줄어듬\n",
    "    def pop(self, idx=-1):\n",
    "        removed_item = super().pop(idx)\n",
    "        self.dim = self.__len__()\n",
    "        return removed_item\n",
    "    \n",
    "    # 벡터 합 메서드\n",
    "    def __add__(self, other):\n",
    "        \"\"\"\n",
    "        벡터 합\n",
    "        \"\"\"\n",
    "\n",
    "        # 벡터의 길이가 다르면 실행 오류 발생\n",
    "        if self.dim != other.dim:\n",
    "            raise RuntimeError(\"두 벡터의 길이가 달라요!\")\n",
    "\n",
    "        # 벡터 합 계산: 각 항목들의 합으로 이루어진 벡터\n",
    "        new_list = []\n",
    "        \n",
    "        for i in range(self.dim):\n",
    "            item = self[i] + other[i]\n",
    "            new_list.append(item)\n",
    "\n",
    "        return Vector(new_list)"
   ]
  },
  {
   "cell_type": "markdown",
   "metadata": {},
   "source": [
    "`dot()` 함수도 새로 정의해야 한다."
   ]
  },
  {
   "cell_type": "code",
   "execution_count": 46,
   "metadata": {},
   "outputs": [],
   "source": [
    "def dot(x, y):\n",
    "    assert isinstance(x, Vector) and isinstance(y, Vector)\n",
    "    \n",
    "    return x.dot(y)"
   ]
  },
  {
   "cell_type": "markdown",
   "metadata": {},
   "source": [
    "클래스를 수정하면 인스턴스를 새로 생성해야\n",
    "변경된 내용이 반영된다."
   ]
  },
  {
   "cell_type": "code",
   "execution_count": 47,
   "metadata": {},
   "outputs": [],
   "source": [
    "x = Vector([2, 3, 4])\n",
    "y = Vector([5, 6, 9])"
   ]
  },
  {
   "cell_type": "markdown",
   "metadata": {},
   "source": [
    "벡터 내적은 동일하게 작동한다."
   ]
  },
  {
   "cell_type": "code",
   "execution_count": 48,
   "metadata": {},
   "outputs": [
    {
     "data": {
      "text/plain": [
       "64"
      ]
     },
     "execution_count": 48,
     "metadata": {},
     "output_type": "execute_result"
    }
   ],
   "source": [
    "dot(x, y)"
   ]
  },
  {
   "cell_type": "markdown",
   "metadata": {},
   "source": [
    "벡터의 합이 이제 지원된다."
   ]
  },
  {
   "cell_type": "code",
   "execution_count": 49,
   "metadata": {},
   "outputs": [
    {
     "data": {
      "text/plain": [
       "[7, 9, 13]"
      ]
     },
     "execution_count": 49,
     "metadata": {},
     "output_type": "execute_result"
    }
   ],
   "source": [
    "x + y"
   ]
  },
  {
   "cell_type": "markdown",
   "metadata": {},
   "source": [
    "## 연습문제"
   ]
  },
  {
   "cell_type": "markdown",
   "metadata": {},
   "source": [
    "1. [(실습) 파이썬 기초 3부: 클래스와 상속](https://colab.research.google.com/github/codingalzi/algopy/blob/master/excs/exc-python_basic_3.ipynb)"
   ]
  }
 ],
 "metadata": {
  "kernelspec": {
   "display_name": "Python 3.9.12 ('base')",
   "language": "python",
   "name": "python3"
  },
  "language_info": {
   "codemirror_mode": {
    "name": "ipython",
    "version": 3
   },
   "file_extension": ".py",
   "mimetype": "text/x-python",
   "name": "python",
   "nbconvert_exporter": "python",
   "pygments_lexer": "ipython3",
   "version": "3.10.6"
  },
  "vscode": {
   "interpreter": {
    "hash": "ad0f3c8a064f687cbf898a0868fd45ba1c7e928ac8a0404f7c241d812ddc1e76"
   }
  }
 },
 "nbformat": 4,
 "nbformat_minor": 4
}