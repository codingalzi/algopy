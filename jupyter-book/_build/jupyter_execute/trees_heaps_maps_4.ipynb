{
 "cells": [
  {
   "cell_type": "markdown",
   "metadata": {},
   "source": [
    "# 맵 추상 자료형 3부"
   ]
  },
  {
   "cell_type": "markdown",
   "metadata": {},
   "source": [
    "## 균형 이진탐색트리(AVL 트리)"
   ]
  },
  {
   "cell_type": "markdown",
   "metadata": {},
   "source": [
    "앞서 살펴 본 이진탐색트리의 탐색(`get()`) 및 항목추가(`put()`) 알고리즘은\n",
    "최악의 경우 $O(n)$의 시간복잡도를 갖는다. \n",
    "여기서는 이진트리의 좌우 자식 서브트리를 균형이 잡히도록 항목을 추가하여\n",
    "탐색과 항목추가 모두 $O(\\log n)$의 시간복잡도를 갖도록 알고리즘을 구현한다.\n",
    "이와같이 균형 잡힌 이진트리를 **AVL 트리**(Adelson-Velski 트리)라고 부른다."
   ]
  },
  {
   "cell_type": "markdown",
   "metadata": {},
   "source": [
    "AVL 트리를 구성하려면 모든 마디에 대해 **균형인수**(balance factor)를 \n",
    "항상 평가해야 한다. \n",
    "마디의 균형인수는 해당 마디의 왼쪽 서브트리의 높이에서 \n",
    "오른쪽 서브트리의 높이를 뺀 값이다.\n",
    "\n",
    "    마디의 균형인수 = (왼쪽 서브트리의 높이) - (오른쪽 서브트리의 높이)\n",
    "    \n",
    "- 균형인수 $>$ 0: 왼쪽으로 치우친 트리\n",
    "- 균형인수 $=$ 0: 균형 잡힌 트리\n",
    "- 균형인수 $<$ 0: 오른쪽으로 치우친 트리\n",
    "\n",
    "아래 그림은 오른쪽으로 치우친 트리에서 각 마디의 균형인수를 보여준다."
   ]
  },
  {
   "cell_type": "markdown",
   "metadata": {},
   "source": [
    "<figure>\n",
    "<div align=\"center\"><img src=\"https://runestone.academy/runestone/books/published/pythonds3/_images/unbalanced.png\" width=\"35%\"></div>\n",
    "</figure>"
   ]
  },
  {
   "cell_type": "markdown",
   "metadata": {},
   "source": [
    "### AVL 트리 분석"
   ]
  },
  {
   "cell_type": "markdown",
   "metadata": {},
   "source": [
    "AVL 트리(균형 이진탐색트리)는 모든 마디의 균형인수가 -1, 0, 1 중에 하나이어야 한다.\n",
    "아래 그림은 높이가 0, 1, 2, 3 인 AVL 트리를 대상으로 했을 때 왼쪽 오른쪽으로 가장 많이 \n",
    "치우친 트리를 보여준다."
   ]
  },
  {
   "cell_type": "markdown",
   "metadata": {},
   "source": [
    "<figure>\n",
    "<div align=\"center\"><img src=\"https://runestone.academy/runestone/books/published/pythonds3/_images/worstAVL.png\" width=\"70%\"></div>\n",
    "</figure>"
   ]
  },
  {
   "cell_type": "markdown",
   "metadata": {},
   "source": [
    "위 그림에서 알 수 있듯이 높이가 $h$인 AVL 트리의 크기(마디 수) $N_h$는 아래 점화식을 만족한다. \n",
    "\n",
    "$$N_h = 1 + N_{h-1} + N_{h-2}$$\n",
    "\n",
    "$h$가 매우 크면 아래 식이 성립한다. \n",
    "$\\Phi$는 황금비(Golden Ratio)를 나타내며 피보나치 수열과 밀접하게 관련된다.\n",
    "보다 자세한 설명은 [AVL Tree Performance](https://runestone.academy/runestone/books/published/pythonds3/Trees/AVLTreePerformance.html)를 참조할 수 있다.\n",
    "\n",
    "$$\n",
    "\\begin{align*}\n",
    "N_h  &= \\frac{\\Phi^{h+2}}{\\sqrt{5}} - 1 \\\\\n",
    "\\Phi &= \\frac{1 + \\sqrt{5}}{2}\n",
    "\\end{align*}\n",
    "$$\n",
    "\n",
    "위 식으로부터 다음 결과가 성립하여 AVL 트리의 탐색 알고리즘이 $O(\\log{N})$임을 증명한다.\n",
    "\n",
    "$$\n",
    "h  = 1.44 \\log{N_h}\n",
    "$$"
   ]
  },
  {
   "cell_type": "markdown",
   "metadata": {},
   "source": [
    "### AVL 트리 구현"
   ]
  },
  {
   "cell_type": "markdown",
   "metadata": {},
   "source": [
    "[2부](https://codingalzi.github.io/algopy/notebooks/algopy09_Map_2.html)에서 \n",
    "사용한 `TreeNode`와 `BinarySearchTree`를 상속한다."
   ]
  },
  {
   "cell_type": "code",
   "execution_count": 1,
   "metadata": {},
   "outputs": [],
   "source": [
    "# 트리의 마디 클래스: 키와 값으로 이루어지며 좌우 자식과 부모 마디 정보 함께 보유\n",
    "class TreeNode:\n",
    "    def __init__(self, key, value, left=None, right=None, parent=None):\n",
    "        self.key = key             # 키\n",
    "        self.value = value         # 값\n",
    "        self.left_child = left     # 좌측 자식 마디\n",
    "        self.right_child = right   # 우측 자식 마디\n",
    "        self.parent = parent       # 부모 마디\n",
    "\n",
    "    # 좌측 자식 마디: 부모의 좌측 자식 마디 여부\n",
    "    def is_left_child(self):\n",
    "        return self.parent and self.parent.left_child is self\n",
    "\n",
    "    # 우측 자식 마디: 부모의 우측 자식 마디 여부\n",
    "    def is_right_child(self):\n",
    "        return self.parent and self.parent.right_child is self\n",
    "\n",
    "    # 루트: 부모가 없을 때\n",
    "    def is_root(self):\n",
    "        return not self.parent\n",
    "\n",
    "    # 잎: 자식이 없을 때\n",
    "    def is_leaf(self):\n",
    "        return not (self.right_child or self.left_child)\n",
    "\n",
    "    # 자식 존재 여부\n",
    "    def has_a_child(self):\n",
    "        return self.right_child or self.left_child\n",
    "\n",
    "    # 좌우측 두 자식 모두 존재 여부\n",
    "    def has_children(self):\n",
    "        return self.right_child and self.left_child\n",
    "\n",
    "    # 키, 값, 좌우 자식 지정\n",
    "    def replace_value(self, key, value, left, right):\n",
    "        self.key = key\n",
    "        self.value = value\n",
    "        self.left_child = left\n",
    "        self.right_child = right\n",
    "      \n",
    "        # 새 자식의 부모로 자신을 지정\n",
    "        if self.left_child:\n",
    "            self.left_child.parent = self\n",
    "        if self.right_child:\n",
    "            self.right_child.parent = self\n",
    "\n",
    "    # 현재 마디의 계승자 마디 탐색\n",
    "    # 우측 자식이 있는 경우만 다뤄도 여기서는 목적 달성.\n",
    "    # 모든 경우를 다루는 경우는 프로그래밍 실습 과제 참조.\n",
    "    def find_successor(self):\n",
    "        if self.has_children():\n",
    "            successor = self.right_child.find_min()\n",
    "        return successor\n",
    "    \n",
    "    # 현재 트리에 사용된 가장 작은 키\n",
    "    def find_min(self):\n",
    "        current = self\n",
    "        while current.left_child:\n",
    "            current = current.left_child\n",
    "        return current\n",
    "\n",
    "    # 계승자 마디 삭제 후 자식 마디들을 부모 마디에 이어 붙이기\n",
    "    # 계승자는 자식을 하나만 갖기에 가능함.\n",
    "    def splice_out(self):\n",
    "        if self.is_leaf():\n",
    "            if self.is_left_child():\n",
    "                self.parent.left_child = None\n",
    "            else:\n",
    "                self.parent.right_child = None\n",
    "        elif self.left_child:\n",
    "            if self.is_left_child():\n",
    "                self.parent.left_child = self.left_child\n",
    "            else:\n",
    "                self.parent.right_child = self.left_child\n",
    "            \n",
    "            self.left_child.parent = self.parent\n",
    "        else:\n",
    "            if self.is_left_child():\n",
    "                self.parent.left_child = self.right_child\n",
    "            else:\n",
    "                self.parent.right_child = self.right_child\n",
    "            \n",
    "            self.right_child.parent = self.parent\n",
    "\n",
    "    # 이터레이터: 중위순회방식으로 키(key) 확인\n",
    "    def __iter__(self):\n",
    "        if self:\n",
    "            if self.left_child:\n",
    "                for elem in self.left_child:\n",
    "                    yield elem\n",
    "            yield self.key\n",
    "            if self.right_child:\n",
    "                for elem in self.right_child:\n",
    "                    yield elem\n",
    "\n",
    "class BinarySearchTree:\n",
    "    # 생성자: 아무 마디(TreeNode) 없는 이진탐색트리 생성. \n",
    "    # 자식 마디는 TreeNode에서 처리.\n",
    "    def __init__(self):\n",
    "        self.root = None    # TreeNode 객체\n",
    "        self.size = 0\n",
    "\n",
    "    # 트리 크기: 마디 개수\n",
    "    def __len__(self):\n",
    "        return self.size\n",
    "\n",
    "    # 이터레이터: 모든 마디의 키를 중위순회방식으로 확인\n",
    "    def __iter__(self):\n",
    "        return self.root.__iter__()\n",
    "\n",
    "    # 항목 추가: 루트 이외의 마디는 TreeNode에서 재귀적으로 처리\n",
    "    def put(self, key, value):\n",
    "        if not self.root:\n",
    "            self.root = TreeNode(key, value)\n",
    "        else:\n",
    "            self._put(key, value, self.root)\n",
    "        \n",
    "        self.size = self.size + 1     # size를 1 키우기\n",
    "\n",
    "    # 항목 추가 보조함수: 이진 탐색 트리 특성 유지\n",
    "    def _put(self, key, value, current_node):\n",
    "        if key < current_node.key:\n",
    "            if current_node.left_child: \n",
    "                self._put(key, value, current_node.left_child)\n",
    "            else: # 왼쪽 자식 없는 경우 마디 추가\n",
    "                current_node.left_child = TreeNode(key, value, parent=current_node)\n",
    "        elif key == current_node.key:  # value 업데이트\n",
    "            current_node.value = value\n",
    "            self.size = self.size - 1  # 키의 값을 대체하는 경우 size는 그대로 두기 위해\n",
    "        else:\n",
    "            if current_node.right_child:\n",
    "                self._put(key, value, current_node.right_child)\n",
    "            else: # 오른쪽 자식 없는 경우 마디 추가\n",
    "                current_node.right_child = TreeNode(key, value, parent=current_node)\n",
    "\n",
    "    # 사전식 키-값 지정: aBinTree[key] = value\n",
    "    def __setitem__(self, key, value):\n",
    "        self.put(key, value)\n",
    "\n",
    "    #  키의 값 확인\n",
    "    def get(self, key):\n",
    "        if self.root:\n",
    "            result = self._get(key, self.root)\n",
    "            if result:\n",
    "                return result.value\n",
    "        return None\n",
    "\n",
    "    # 키의 값 확인 보조함수: 키가 포함된 마디 반환. 재귀 적용\n",
    "    def _get(self, key, current_node):\n",
    "        if not current_node:\n",
    "            return None\n",
    "        if current_node.key == key:\n",
    "            return current_node\n",
    "        elif key < current_node.key:\n",
    "            return self._get(key, current_node.left_child)\n",
    "        else:\n",
    "            return self._get(key, current_node.right_child)\n",
    "\n",
    "    #  사전식 키의 값 확인: aBinTree[key]\n",
    "    def __getitem__(self, key):\n",
    "        return self.get(key)\n",
    "\n",
    "    # 키 포함 여부 확인(in 연산자): key in aBinTree\n",
    "    def __contains__(self, key):\n",
    "        return bool(self._get(key, self.root))\n",
    "\n",
    "    # 키 삭제: del 연산자에 활용됨\n",
    "    def delete(self, key):\n",
    "        # 하나의 마디만 있는 경우\n",
    "        if self.size == 1 and self.root.key == key:\n",
    "            self.root = None\n",
    "            self.size = self.size - 1\n",
    "        # 여러 마디가 있는 경우\n",
    "        elif self.size > 1:\n",
    "            # 삭제 대상 마디 확인\n",
    "            node_to_remove = self._get(key, self.root)\n",
    "            \n",
    "            if node_to_remove:\n",
    "                self._delete(node_to_remove)\n",
    "                self.size = self.size - 1\n",
    "            else:\n",
    "                raise KeyError(\"키를 찾을 수 없음!\")\n",
    "        else:\n",
    "            raise KeyError(\"키를 찾을 수 없음!\")\n",
    "\n",
    "    # 키 삭제 보조함수: \n",
    "    def _delete(self, current_node):\n",
    "        # 잎 마디인 경우\n",
    "        if current_node.is_leaf():\n",
    "            if current_node == current_node.parent.left_child:\n",
    "                current_node.parent.left_child = None\n",
    "            else:\n",
    "                current_node.parent.right_child = None\n",
    "        \n",
    "        # 좌우 자식 마디 모두 있는 경우: 계승자를 현재 마디로 옮김.\n",
    "        elif current_node.has_children():\n",
    "            successor = current_node.find_successor()\n",
    "            successor.splice_out()\n",
    "            current_node.key = successor.key\n",
    "            current_node.value = successor.value\n",
    "        \n",
    "        # 자식 마디가 하나인 경우\n",
    "        else:\n",
    "            # 왼쪽 자식만 있는 경우\n",
    "            if current_node.left_child:\n",
    "                # 부모의 왼쪽 자식인 경우\n",
    "                if current_node.is_left_child():\n",
    "                    current_node.left_child.parent = current_node.parent\n",
    "                    current_node.parent.left_child = current_node.left_child\n",
    "                # 부모의 오른쪽 자식인 경우\n",
    "                elif current_node.is_right_child():\n",
    "                    current_node.left_child.parent = current_node.parent\n",
    "                    current_node.parent.right_child = current_node.left_child\n",
    "                # 루트인 경우\n",
    "                else:\n",
    "                    current_node.replace_value(\n",
    "                        current_node.left_child.key,\n",
    "                        current_node.left_child.value,\n",
    "                        current_node.left_child.left_child,\n",
    "                        current_node.left_child.right_child,\n",
    "                    )\n",
    "            \n",
    "            # 오른쪽 자식만 있는 경우\n",
    "            else:\n",
    "                # 부모의 왼쪽 자식인 경우\n",
    "                if current_node.is_left_child():\n",
    "                    current_node.right_child.parent = current_node.parent\n",
    "                    current_node.parent.left_child = current_node.right_child\n",
    "                # 부모의 왼쪽 자식인 경우\n",
    "                elif current_node.is_right_child():\n",
    "                    current_node.right_child.parent = current_node.parent\n",
    "                    current_node.parent.right_child = current_node.right_child\n",
    "                # 루트인 경우\n",
    "                else:\n",
    "                    current_node.replace_value(\n",
    "                        current_node.right_child.key,\n",
    "                        current_node.right_child.value,\n",
    "                        current_node.right_child.left_child,\n",
    "                        current_node.right_child.right_child,\n",
    "                    )\n",
    "    \n",
    "    # 키-값 쌍 삭제(del 연산자): del aBinTree[key]\n",
    "    def __delitem__(self, key):\n",
    "        self.delete(key)"
   ]
  },
  {
   "cell_type": "markdown",
   "metadata": {},
   "source": [
    "**AVLTreeNode 클래스**"
   ]
  },
  {
   "cell_type": "markdown",
   "metadata": {},
   "source": [
    "`TreeNode` 클래스를 상속하며,\n",
    "부모 자식 관계뿐만 아니라 균형인수도 저장하도록 한다."
   ]
  },
  {
   "cell_type": "code",
   "execution_count": 2,
   "metadata": {},
   "outputs": [],
   "source": [
    "class AVLTreeNode(TreeNode):\n",
    "    \n",
    "    def __init__(self, key, value, balance_factor=0, left=None, right=None, parent=None):\n",
    "        super().__init__(key, value, left, right, parent)\n",
    "        self.balance_factor = balance_factor  # 균형인수"
   ]
  },
  {
   "cell_type": "markdown",
   "metadata": {},
   "source": [
    "**AVLTree 클래스**"
   ]
  },
  {
   "cell_type": "markdown",
   "metadata": {},
   "source": [
    "`BinarySearchTree` 클래스를 상속한다."
   ]
  },
  {
   "cell_type": "markdown",
   "metadata": {},
   "source": [
    "기능 업데이트 1: `_put(self, key, value, current_node)` 메서드 재정의(overriding)\n",
    "\n",
    "새로운 항목은 항상 잎(leaf) 마디로 추가되기에 균형인수는 0이다. \n",
    "하지만 부모의 균형인수가 변하기에 적절하게 업데이트 해야 한다.\n",
    "\n",
    "- 왼쪽 자식으로 추가되는 경우: 부모 마디의 균형인수 1 키울 것\n",
    "- 오른쪽 자식으로 추가되는 경우: 부모 마디의 균형인수 1 줄일 것\n",
    "\n",
    "위 과정을 부모의 부모 등 모든 조상에 대해 재귀적으로 적용해야 한다. \n",
    "이를 위해 `update_balance(self, node)` 메서드를 추가한다."
   ]
  },
  {
   "cell_type": "markdown",
   "metadata": {},
   "source": [
    "기능 업데이트 2: `update_balance(self, node)` 메서드 정의\n",
    "\n",
    "새로운 자식이 추가된 부모의 균형인수를 업데이트 해야 함며,\n",
    "이를 부모의 부모까지 재귀적으로 적용해야 한다. \n",
    "단, 업데이트된 부모의 균형인수가 0이라면 더 이상 재귀를 적용할 필요가 없다.\n",
    "왜냐하면 업데이트된 부모의 균형인수가 0이라면 부모의 부모의 균형인수는 \n",
    "전혀 바뀌지 않기 때문이다.\n",
    "\n",
    "- 자식 추가 후 균형인수가 1보가 크거나 -1보다 작아진 경우: 더 이상 AVL 트리가 아니기에\n",
    "    트리 전체를 새롭게 정돈해서 균형을 다시 잡아주어야 한다.\n",
    "    이를 위해 `rebalance(self, node)` 메서드를 추가한다."
   ]
  },
  {
   "cell_type": "markdown",
   "metadata": {},
   "source": [
    "기능 업데이트 3: `rebalance(self, node)` 메서드 정의\n",
    "\n",
    "추가된 항목으로 인해 균형이 깨진 경우 균형을 다시 잡아주도록 트리의 마디 구조를 바꾼다.\n",
    "이를 위해 `rotate_left(self, rotaiton_root)`와 `rotate_right(self, rotaiton_root)`\n",
    "메서드를 구현한다."
   ]
  },
  {
   "cell_type": "markdown",
   "metadata": {},
   "source": [
    "- 왼쪽으로 회전"
   ]
  },
  {
   "cell_type": "markdown",
   "metadata": {},
   "source": [
    "<figure>\n",
    "<div align=\"center\"><img src=\"https://runestone.academy/runestone/books/published/pythonds3/_images/simpleunbalanced.png\" width=\"50%\"></div>\n",
    "</figure>"
   ]
  },
  {
   "cell_type": "markdown",
   "metadata": {},
   "source": [
    "- 오른쪽으로 회전"
   ]
  },
  {
   "cell_type": "markdown",
   "metadata": {},
   "source": [
    "<figure>\n",
    "<div align=\"center\"><img src=\"https://runestone.academy/runestone/books/published/pythonds3/_images/rightrotate1.png\" width=\"60%\"></div>\n",
    "</figure>"
   ]
  },
  {
   "cell_type": "markdown",
   "metadata": {},
   "source": [
    "- 보다 복잡한 경우"
   ]
  },
  {
   "cell_type": "markdown",
   "metadata": {},
   "source": [
    "<figure>\n",
    "<div align=\"center\"><img src=\"https://runestone.academy/runestone/books/published/pythonds3/_images/rotatelr.png\" width=\"60%\"></div>\n",
    "</figure>"
   ]
  },
  {
   "cell_type": "markdown",
   "metadata": {},
   "source": [
    "**주의**: 아래 코드는 불완전함. "
   ]
  },
  {
   "cell_type": "code",
   "execution_count": 3,
   "metadata": {},
   "outputs": [],
   "source": [
    "class AVLTree(BinarySearchTree):\n",
    "    def __init__(self):\n",
    "        super().__init__()\n",
    "\n",
    "    def _put(self, key, value, current_node):\n",
    "        if key < current_node.key:\n",
    "            if current_node.left_child:\n",
    "                self._put(key, value, current_node.left_child)\n",
    "            else:\n",
    "                current_node.left_child = AVLTreeNode(\n",
    "                    key, value, 0, parent=current_node\n",
    "                )\n",
    "                self.update_balance(current_node.left_child)\n",
    "        else:\n",
    "            if current_node.right_child:\n",
    "                self._put(key, value, current_node.right_child)\n",
    "            else:\n",
    "                current_node.right_child = AVLTreeNode(\n",
    "                    key, value, 0, parent=current_node\n",
    "                )\n",
    "                self.update_balance(current_node.right_child)\n",
    "\n",
    "    def update_balance(self, node):\n",
    "        if node.balance_factor > 1 or node.balance_factor < -1:\n",
    "            self.rebalance(node)\n",
    "            return\n",
    "        if node.parent:\n",
    "            if node.is_left_child():\n",
    "                node.parent.balance_factor += 1\n",
    "            elif node.is_right_child():\n",
    "                node.parent.balance_factor -= 1\n",
    "\n",
    "            # 부모의 균형인수가 0이 아닌경우 재귀 적용\n",
    "            if node.parent.balance_factor != 0:\n",
    "                self.update_balance(node.parent)\n",
    "\n",
    "    def rotate_left(self, rotation_root):\n",
    "        new_root = rotation_root.right_child\n",
    "        rotation_root.right_child = new_root.left_child\n",
    "        if new_root.left_child:\n",
    "            new_root.left_child.parent = rotation_root\n",
    "        new_root.parent = rotation_root.parent\n",
    "        if rotation_root.is_root():\n",
    "            self._root = new_root\n",
    "        else:\n",
    "            if rotation_root.is_left_child():\n",
    "                rotation_root.parent.left_child = new_root\n",
    "            else:\n",
    "                rotation_root.parent.right_child = new_root\n",
    "        new_root.left_child = rotation_root\n",
    "        rotation_root.parent = new_root\n",
    "        rotation_root.balance_factor = (\n",
    "            rotation_root.balance_factor + 1 - min(new_root.balance_factor, 0)\n",
    "        )\n",
    "        new_root.balance_factor = (\n",
    "            new_root.balance_factor + 1 + max(rotation_root.balance_factor, 0)\n",
    "        )\n",
    "\n",
    "    # 수정되어야 함\n",
    "    def rotate_right(self, rotation_root):\n",
    "        new_root = rotation_root.left_child\n",
    "        rotation_root.left_child = new_root.right_child\n",
    "        if new_root.right_child:\n",
    "            new_root.right_child.parent = rotation_root\n",
    "        new_root.parent = rotation_root.parent\n",
    "        if rotation_root.is_root():\n",
    "            self._root = new_root\n",
    "        else:\n",
    "            if rotation_root.is_right_child():\n",
    "                rotation_root.parent.right_child = new_root\n",
    "            else:\n",
    "                rotation_root.parent.left_child = new_root\n",
    "        new_root.right_child = rotation_root\n",
    "        rotation_root.parent = new_root\n",
    "        rotation_root.balance_factor = (\n",
    "            rotation_root.balance_factor + 1 - min(new_root.balance_factor, 0)\n",
    "        )\n",
    "        new_root.balance_factor = (\n",
    "            new_root.balance_factor + 1 + max(rotation_root.balance_factor, 0)\n",
    "        )\n",
    "\n",
    "    def rebalance(self, node):\n",
    "        if node.balance_factor < 0:\n",
    "            if node.right_child.balance_factor > 0:\n",
    "                self.rotate_right(node.right_child)\n",
    "                self.rotate_left(node)\n",
    "            else:\n",
    "                self.rotate_left(node)\n",
    "        elif node.balance_factor > 0:\n",
    "            if node.left_child.balance_factor < 0:\n",
    "                self.rotate_left(node.left_child)\n",
    "                self.rotate_right(node)\n",
    "            else:\n",
    "                self.rotate_right(node)"
   ]
  },
  {
   "cell_type": "markdown",
   "metadata": {},
   "source": [
    "## 맵 추상자료형 구현 비교"
   ]
  },
  {
   "cell_type": "markdown",
   "metadata": {},
   "source": [
    "| 연산자 | 정렬 리스트 | 해시 테이블 | 이진탐색트리 | AVL 트리 |\n",
    "| :---: | :---: | :---: | :---: | :---: | \n",
    "| put | O(n)      | O(1) | O(n)   | O(log n) |\n",
    "| get | O(log n) | O(1) | O(n)   | O(log n) |\n",
    "| in  | O(log n) | O(1) | O(n)   | O(log n) |\n",
    "| del | O(n)      | O(1) | O(n)   | O(log n) |"
   ]
  },
  {
   "cell_type": "markdown",
   "metadata": {},
   "source": [
    "**연습문제**"
   ]
  },
  {
   "cell_type": "markdown",
   "metadata": {},
   "source": [
    "1. 아래 모양의 트리를 균형이진탐색트리로 만들어라.\n",
    "    <figure>\n",
    "    <div align=\"center\"><img src=\"https://runestone.academy/runestone/books/published/pythonds3/_images/rotexer1.png\" width=\"20%\"></div>\n",
    "    </figure>\n",
    "\n",
    "1. 아래 이미지를 이용하여 D 마디의 균형인수를 업데이트 하는 식을 유도하라.\n",
    "   \n",
    "    <figure>\n",
    "    <div align=\"center\"><img src=\"https://runestone.academy/runestone/books/published/pythonds3/_images/bfderive.png\" width=\"60%\"></div>\n",
    "    </figure>"
   ]
  },
  {
   "cell_type": "markdown",
   "metadata": {},
   "source": [
    "## 프로그래밍 실습 과제"
   ]
  },
  {
   "cell_type": "markdown",
   "metadata": {},
   "source": [
    "1. AVL 트리에서 항목을 삭제하는 기능을 구현하라. \n",
    "    항목삭제 후에 균형인수 업데이트와 리밸런싱 등을 적절하게 구현해야 한다."
   ]
  }
 ],
 "metadata": {
  "kernelspec": {
   "display_name": "Python 3 (ipykernel)",
   "language": "python",
   "name": "python3"
  },
  "language_info": {
   "codemirror_mode": {
    "name": "ipython",
    "version": 3
   },
   "file_extension": ".py",
   "mimetype": "text/x-python",
   "name": "python",
   "nbconvert_exporter": "python",
   "pygments_lexer": "ipython3",
   "version": "3.10.9"
  }
 },
 "nbformat": 4,
 "nbformat_minor": 4
}