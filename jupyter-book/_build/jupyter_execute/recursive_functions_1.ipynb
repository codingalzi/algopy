{
 "cells": [
  {
   "cell_type": "markdown",
   "metadata": {},
   "source": [
    "(sec:recursive_functions)=\n",
    "# 재귀 함수"
   ]
  },
  {
   "cell_type": "markdown",
   "metadata": {},
   "source": [
    "**슬라이드**\n",
    "\n",
    "본문 내용을 요약한 [슬라이드](https://github.com/codingalzi/algopy/raw/master/slides/slides-recursive_functions_1.pdf)를 다운로드할 수 있다."
   ]
  },
  {
   "cell_type": "markdown",
   "metadata": {},
   "source": [
    "**주요 내용**"
   ]
  },
  {
   "cell_type": "markdown",
   "metadata": {},
   "source": [
    "- 재귀 개념\n",
    "- 재귀 함수"
   ]
  },
  {
   "cell_type": "markdown",
   "metadata": {},
   "source": [
    "## 재귀 함수"
   ]
  },
  {
   "cell_type": "markdown",
   "metadata": {},
   "source": [
    "**재귀**<font size='2'>recursion</font>는 주어진 문제를 해결하기 위해 \n",
    "보다 간단한 문제들로 쪼개어 해결하는 과정을 반복하는 기법이다.\n",
    "많은 문제가 재귀를 이용하여 간단하게 해결될 수 있다.\n",
    "대표적으로 분할 정복 기법으로 풀릴 수 있는 문제가 재귀를 활용하여 쉽게 해결될 수 있다.\n",
    "**재귀 함수**는 재귀를 이용하여 정의된 함수를 의미한다."
   ]
  },
  {
   "cell_type": "markdown",
   "metadata": {},
   "source": [
    "**예제: 리스트 항목들의 합**"
   ]
  },
  {
   "cell_type": "markdown",
   "metadata": {},
   "source": [
    "리스트에 포함된 항목들의 합을 구하는 함수를\n",
    "`for` 반복문을 이용하여 구현하면 다음과 같다.\n",
    "\n",
    "- 항목들의 누적합을 0으로 지정하고 시작\n",
    "- 각 항목을 확인할 때마다 누적합 계산"
   ]
  },
  {
   "cell_type": "code",
   "execution_count": 1,
   "metadata": {},
   "outputs": [],
   "source": [
    "def sum(num_list):\n",
    "    # 누적 합 저장\n",
    "    the_sum = 0\n",
    "    \n",
    "    # 모든 항목을 누적합에 더하기\n",
    "    for item in num_list:\n",
    "        the_sum = the_sum + item\n",
    "    \n",
    "    return the_sum"
   ]
  },
  {
   "cell_type": "code",
   "execution_count": 2,
   "metadata": {},
   "outputs": [
    {
     "name": "stdout",
     "output_type": "stream",
     "text": [
      "25\n"
     ]
    }
   ],
   "source": [
    "print(sum([1, 3, 5, 7, 9]))"
   ]
  },
  {
   "cell_type": "markdown",
   "metadata": {},
   "source": [
    "위 코드의 `for` 반복문에서 항목을 확인할 때마다 업데이트되는\n",
    "`the_sum` 변수는 아래 괄호가 묶인 순서대로 계산되는 값을 차례대로 가리킨다."
   ]
  },
  {
   "cell_type": "markdown",
   "metadata": {},
   "source": [
    "$$(((1 + 3) + 5) + 7) + 9$$"
   ]
  },
  {
   "cell_type": "markdown",
   "metadata": {},
   "source": [
    "반면에 재귀 기법을 적용하면 `the_sum`의 값이 다음과 같이 업데이트 된다."
   ]
  },
  {
   "cell_type": "markdown",
   "metadata": {},
   "source": [
    "<figure>\n",
    "<div align=\"center\"><img src=\"https://runestone.academy/runestone/books/published/pythonds3/_images/sumlistIn.png\" width=\"45%\"></div>\n",
    "</figure>"
   ]
  },
  {
   "cell_type": "markdown",
   "metadata": {},
   "source": [
    "즉, 항목들의 합이 다음과 같이 계산된다.\n",
    "\n",
    "$$1 + (3 + (5 + (7 + 9)))$$\n",
    "\n",
    "이유는 예를 들어 `sum([1, 3, 5, 7, 9)`를 계산하기 위해 먼저 \n",
    "`sum([3, 5, 7, 9)`를 계산한 다음 그 값을 1과 더하기 때문이다."
   ]
  },
  {
   "cell_type": "markdown",
   "metadata": {},
   "source": [
    "**리스트의 머리와 꼬리 활용**"
   ]
  },
  {
   "cell_type": "markdown",
   "metadata": {},
   "source": [
    "리스트의 항목들의 합이 아래 과정을 반복 적용하는 방식으로 계산된다.\n",
    "\n",
    "```python\n",
    "sum(num_list) = num_list[0] + sum(num_list[1:])\n",
    "```\n",
    "위 식을 리스트의 머리와 꼬리 개념으로 이해하면 재귀 알고리즘의 작동과정을 보다 쉽게 이해할 수 있다.\n",
    "\n",
    "- **머리**(head): 리스트의 0번 인덱스 값, 즉 `num_list[0]`\n",
    "- **꼬리**(tail): 0번 인덱스를 제외한 나머지, 즉 `num_list[1:]`\n",
    "\n",
    "머리와 꼬리 개념을 이용하여 재귀를 설명하면 다음과 같다.\n",
    "\n",
    "1. 먼저 꼬리에 재귀를 적용한다.\n",
    "1. 꼬리에 대한 재귀가 특정 값을 반환할 때까지 기다린 다음 머리와 합한다."
   ]
  },
  {
   "cell_type": "markdown",
   "metadata": {},
   "source": [
    "앞서 설명한 재귀를 함수로 구현하면 다음과 같다."
   ]
  },
  {
   "cell_type": "code",
   "execution_count": 3,
   "metadata": {},
   "outputs": [],
   "source": [
    "def sum(num_list):\n",
    "    if len(num_list) == 1:  # 항목이 1개 일때\n",
    "        return num_list[0]\n",
    "    else:                   # 항목이 2개 이상일 때: 머리와 꼬리 재귀 결과의 합\n",
    "        return num_list[0] + sum(num_list[1:])"
   ]
  },
  {
   "cell_type": "code",
   "execution_count": 4,
   "metadata": {},
   "outputs": [
    {
     "name": "stdout",
     "output_type": "stream",
     "text": [
      "25\n"
     ]
    }
   ],
   "source": [
    "print(sum([1, 3, 5, 7, 9]))"
   ]
  },
  {
   "cell_type": "markdown",
   "metadata": {},
   "source": [
    "**재귀 호출**"
   ]
  },
  {
   "cell_type": "markdown",
   "metadata": {},
   "source": [
    "함수가 실행될 때 함수 자신을 호출하는 것을\n",
    "**재귀 호출**<font size='2'>recursive call</font>이라 한다.\n",
    "재귀 호출을 이용하여 구현된 알고리즘은 **재귀 알고리즘**<font size='2'recursive algorithm</font>, \n",
    "재귀 알고리즘을 사용한 함수가 **재귀 함수**<font size='2'>recursive function</font>이다."
   ]
  },
  {
   "cell_type": "markdown",
   "metadata": {},
   "source": [
    "## 재귀 알고리즘의 특징"
   ]
  },
  {
   "cell_type": "markdown",
   "metadata": {},
   "source": [
    "재귀 알고리즘은 아래 세 가지 특징을 가져야 한다. \n",
    "\n",
    "1. 재귀 호출이 반드시 발생해야 한다.\n",
    "1. **종료조건**<font size='2'>base case</font>이 존재해야 한다. \n",
    "    - `sum()` 함수의 경우 `len(num_list) == 1`이 종료조건을 다룬다.\n",
    "    종료조건이 없는 재귀 알고리즘은 실행이 종료되지 않을 수 있다.\n",
    "1. 재귀 호출에 사용되는 입력값의 크기가 줄어들어야 하며, 결국에는 종료조건을 만족하는\n",
    "    상태에 다달해야 한다. \n",
    "    - `sum()` 함수의 경우 `sum(num_list[1:])`에 사용된\n",
    "        리스트 `num_list[1:]`의 크기는 `num_list` 보다 1 작다."
   ]
  },
  {
   "cell_type": "markdown",
   "metadata": {},
   "source": [
    "**예제 1**: 종료 조건이 없는 경우\n",
    "\n",
    "종료조건이 없는 재귀 호출은 실행이 종료되지 않을 수 있다. \n",
    "\n",
    "```python\n",
    "def f(x):\n",
    "    return f(x-1) + 1\n",
    "```"
   ]
  },
  {
   "cell_type": "markdown",
   "metadata": {},
   "source": [
    "**예제 2**: 종료조건에 다달하는지 여부를 알 수 없는 경우\n",
    "\n",
    "아래 `collatz(n)` 함수는 임의의 양의 정수 `n`에 대해 짝수면 2로 나누고,\n",
    "홀수면 세 배 더하기 1을 반복적으로 실행하여 언젠가 1이 나오면 멈춘다."
   ]
  },
  {
   "cell_type": "code",
   "execution_count": 5,
   "metadata": {},
   "outputs": [],
   "source": [
    "def collatz(n):\n",
    "    if n == 1:\n",
    "        print(n)\n",
    "    elif n % 2 == 0:\n",
    "        print(n, end=', ')\n",
    "        collatz(n//2)\n",
    "    else:\n",
    "        print(n, end=', ')\n",
    "        collatz(3*n + 1)"
   ]
  },
  {
   "cell_type": "code",
   "execution_count": 6,
   "metadata": {},
   "outputs": [
    {
     "name": "stdout",
     "output_type": "stream",
     "text": [
      "7, 22, 11, 34, 17, 52, 26, 13, 40, 20, 10, 5, 16, 8, 4, 2, 1\n"
     ]
    }
   ],
   "source": [
    "collatz(7)"
   ]
  },
  {
   "cell_type": "code",
   "execution_count": 7,
   "metadata": {},
   "outputs": [
    {
     "name": "stdout",
     "output_type": "stream",
     "text": [
      "101, 304, 152, 76, 38, 19, 58, 29, 88, 44, 22, 11, 34, 17, 52, 26, 13, 40, 20, 10, 5, 16, 8, 4, 2, 1\n"
     ]
    }
   ],
   "source": [
    "collatz(101)"
   ]
  },
  {
   "cell_type": "code",
   "execution_count": 8,
   "metadata": {},
   "outputs": [
    {
     "name": "stdout",
     "output_type": "stream",
     "text": [
      "1024, 512, 256, 128, 64, 32, 16, 8, 4, 2, 1\n"
     ]
    }
   ],
   "source": [
    "collatz(1024)"
   ]
  },
  {
   "cell_type": "markdown",
   "metadata": {},
   "source": [
    "아래 그림은 $1$부터 $10,000$까지의 입력값에 대해 `collatz(n)` 함수가 멈출때까지 몇 번의 \n",
    "재귀호출이 발생하는가를 보여준다.\n",
    "그림에서 알 수 있듯이 입력값이 커질 수록 재귀 호출 횟수가 점점 커지는 경향이 있지만\n",
    "재귀 호출 횟수가 입력크기에 비례하는 것은 절대 아니다.\n",
    "실제로 지금까지 재귀 호출 횟수와 관련해서 어떤 규칙도 발견되지 않았다.\n",
    "즉, 입력값이 주어지면 언제 종료되는지 아직 아무도 모른다.\n",
    "이런 이유로 이 문제를 **콜라츠 추측**(Collatz Conjecture)이라 부른다.\n",
    "**정지문제**(halting problem)와 관련해서 이해하면 도움되는 문제 유형 중에 하나이다."
   ]
  },
  {
   "cell_type": "markdown",
   "metadata": {},
   "source": [
    "<figure>\n",
    "<div align=\"center\"><img src=\"https://upload.wikimedia.org/wikipedia/commons/thumb/b/b9/Collatz-stopping-time.svg/1280px-Collatz-stopping-time.svg.png\" width=\"45%\"></div>\n",
    "</figure>\n",
    "\n",
    "<그림 출처: [위키백과: 콜라츠 추측](https://en.wikipedia.org/wiki/Collatz_conjecture)>"
   ]
  },
  {
   "cell_type": "markdown",
   "metadata": {},
   "source": [
    "## 재귀 함수 예제"
   ]
  },
  {
   "cell_type": "markdown",
   "metadata": {},
   "source": [
    "### 진법 변환"
   ]
  },
  {
   "cell_type": "markdown",
   "metadata": {},
   "source": [
    "정수를 특정 진법으로 변환하는 함수를 재귀를 이용하여 구현한다.\n",
    "반환값은 문자열로 처리한다."
   ]
  },
  {
   "cell_type": "markdown",
   "metadata": {},
   "source": [
    "**십진법 변환**"
   ]
  },
  {
   "cell_type": "markdown",
   "metadata": {},
   "source": [
    "769를 십진법으로 표현하려면 아래 그림에서처럼 \n",
    "10으로 나눈 몫과 나머지를 확인하는 작업을 반복한다."
   ]
  },
  {
   "cell_type": "markdown",
   "metadata": {},
   "source": [
    "<figure>\n",
    "<div align=\"center\"><img src=\"https://runestone.academy/runestone/books/published/pythonds3/_images/toStr.png\" width=\"45%\"></div>\n",
    "</figure>"
   ]
  },
  {
   "cell_type": "markdown",
   "metadata": {},
   "source": [
    "**이진법 변환**"
   ]
  },
  {
   "cell_type": "markdown",
   "metadata": {},
   "source": [
    "이진법으로 변환하는 과정도 동일하다. \n",
    "아래 그림은 10을 이진법으로 변환하는 과정을 보여준다."
   ]
  },
  {
   "cell_type": "markdown",
   "metadata": {},
   "source": [
    "<figure>\n",
    "<div align=\"center\"><img src=\"https://runestone.academy/runestone/books/published/pythonds3/_images/toStrBase2.png\" width=\"45%\"></div>\n",
    "</figure>"
   ]
  },
  {
   "cell_type": "markdown",
   "metadata": {},
   "source": [
    "결론적으로 아래 세 가지 사항을 재귀 알고리즘 정의에 활용할 수 있다.\n",
    "\n",
    "1. 종료조건: 사용되는 진법보다 작은 수는 그대로 문자열로 사용한다. 예를 들어\n",
    "    - 8진법인 경우엔 0부터 7까지의 수는 각각 `'0'`, `'1'`, ..., `'7'` 등으로 변환한다. \n",
    "    - 16진법인 경우엔 0부터 15까지의 수를 각각 `'0'`, `'1'`, ..., `'9'`, `'A'`, `'B'`, ..., `'F'`로 변환한다.\n",
    "1. 재귀: 사용되는 진법보다 큰 수는 진법의 수로 나눈 다음에 몫에 대해 재귀를 적용한 결과를 최종 반환값에 더한다."
   ]
  },
  {
   "cell_type": "markdown",
   "metadata": {},
   "source": [
    "아래 `to_str()` 함수는 정수와 진법이 정해졌을 때 해당 진법으로 변환된 문자열을 반환하며,\n",
    "앞서 설명한 재귀 알고리즘을 그대로 구현한다.\n",
    "단, 이진법에서 16진법까지만 지원한다."
   ]
  },
  {
   "cell_type": "code",
   "execution_count": 9,
   "metadata": {},
   "outputs": [],
   "source": [
    "def to_str(n, base):\n",
    "    convert_string = \"0123456789ABCDEF\"   # 종료조건에 사용될 자료\n",
    "    \n",
    "    if n < base:                          # 종료조건\n",
    "        return convert_string[n]\n",
    "    else:                                 # 재귀\n",
    "        return to_str(n // base, base) + convert_string[n % base]"
   ]
  },
  {
   "cell_type": "code",
   "execution_count": 10,
   "metadata": {},
   "outputs": [
    {
     "name": "stdout",
     "output_type": "stream",
     "text": [
      "1011011001011101\n"
     ]
    }
   ],
   "source": [
    "print(to_str(46685, 2))"
   ]
  },
  {
   "cell_type": "code",
   "execution_count": 11,
   "metadata": {},
   "outputs": [
    {
     "name": "stdout",
     "output_type": "stream",
     "text": [
      "133135\n"
     ]
    }
   ],
   "source": [
    "print(to_str(46685, 8))"
   ]
  },
  {
   "cell_type": "code",
   "execution_count": 12,
   "metadata": {},
   "outputs": [
    {
     "name": "stdout",
     "output_type": "stream",
     "text": [
      "B65D\n"
     ]
    }
   ],
   "source": [
    "print(to_str(46685, 16))"
   ]
  },
  {
   "cell_type": "markdown",
   "metadata": {},
   "source": [
    "### 문자열 뒤집기"
   ]
  },
  {
   "cell_type": "markdown",
   "metadata": {},
   "source": [
    "문자열을 받아 순서를 거꾸로 하는 문자열을 반환하는 회귀 함수는 다음과 같다."
   ]
  },
  {
   "cell_type": "code",
   "execution_count": 13,
   "metadata": {},
   "outputs": [],
   "source": [
    "def reverse(s):\n",
    "    if len(s) == 0:\n",
    "        return s\n",
    "    else: \n",
    "        return reverse(s[1:]) + s[0]"
   ]
  },
  {
   "cell_type": "code",
   "execution_count": 14,
   "metadata": {},
   "outputs": [
    {
     "name": "stdout",
     "output_type": "stream",
     "text": [
      "olleh\n",
      "l\n",
      "wollof\n"
     ]
    }
   ],
   "source": [
    "print(reverse(\"hello\"))\n",
    "print(reverse(\"l\"))\n",
    "print(reverse(\"follow\"))"
   ]
  },
  {
   "cell_type": "markdown",
   "metadata": {},
   "source": [
    "## 콜 스택"
   ]
  },
  {
   "cell_type": "markdown",
   "metadata": {},
   "source": [
    "파이썬의 경우 \n",
    "재귀 함수가 실행되면 재귀 호출이 발생할 때마다 \n",
    "함수 호출의 실행을 관리하는 **프레임**<font size='2'>frame</font>이 \n",
    "생성된다.\n",
    "생성되는 프레임은 스택으로 관리되며 \n",
    "이를 **콜 스택**<font size='2'>call stack</font>이라 부른다.\n",
    "\n",
    "아래 진법 변환 함수를 \n",
    "[PythonTutor: 콜 스택](https://pythontutor.com/visualize.html#code=convert_string%20%3D%20%220123456789ABCDEF%22%0Aremainder_list%20%3D%20%5B%5D%0A%0Adef%20to_str%28n,%20base%29%3A%0A%20%20%20%20if%20n%20%3C%20base%3A%0A%20%20%20%20%20%20%20%20return%20convert_string%5Bn%5D%0A%20%20%20%20else%3A%0A%20%20%20%20%20%20%20%20quotient%20%3D%20n%20//%20base%0A%20%20%20%20%20%20%20%20remainder%20%3D%20n%20%25%20base%0A%20%20%20%20%20%20%20%20remainder_string%20%3D%20convert_string%5Bremainder%5D%0A%20%20%20%20%20%20%20%20remainder_list.append%28remainder_string%29%0A%20%20%20%20%20%20%20%20return%20to_str%28quotient,%20base%29%20%2B%20remainder_list.pop%28%29%0A%20%20%20%20%20%20%20%20%0Aprint%28to_str%2846685,%2016%29%29&cumulative=false&curInstr=0&heapPrimitives=nevernest&mode=display&origin=opt-frontend.js&py=3&rawInputLstJSON=%5B%5D&textReferences=false)\n",
    "에서 실행하면서 프레임 스택의 변화를 한 눈에 살펴볼 수 있다.\n",
    "\n",
    "**참고**: 메모리 상에서의 변화를 보다 명료하게 보여주기 위해 이전 보다 변수가 몇 개 더 추가되었다."
   ]
  },
  {
   "cell_type": "code",
   "execution_count": 15,
   "metadata": {},
   "outputs": [],
   "source": [
    "convert_string = \"0123456789ABCDEF\"                           # 진법 표현에 사용될 기호\n",
    "remainder_list = []                                           # 나머지 기호 저장용 스택\n",
    "\n",
    "def to_str(n, base):\n",
    "    if n < base:                                              # 종료조건\n",
    "        return convert_string[n]\n",
    "    else:\n",
    "        quotient = n // base                                  # 몫\n",
    "        remainder = n % base                                  # 나머지\n",
    "        remainder_string = convert_string[remainder]\n",
    "        remainder_list.append(remainder_string)               # 나머지 기호 저장\n",
    "        return to_str(quotient, base) + remainder_list.pop()  # 몫에 대한 재귀 호출\n",
    "        "
   ]
  },
  {
   "cell_type": "code",
   "execution_count": 16,
   "metadata": {},
   "outputs": [
    {
     "name": "stdout",
     "output_type": "stream",
     "text": [
      "B65D\n"
     ]
    }
   ],
   "source": [
    "print(to_str(46685, 16))"
   ]
  },
  {
   "cell_type": "markdown",
   "metadata": {},
   "source": [
    "아래 그림은 `to_str(46685, 16)`이 호출되어 콜 스택이 가장 높게 쌓였을 때를 보여준다."
   ]
  },
  {
   "cell_type": "markdown",
   "metadata": {},
   "source": [
    "<figure>\n",
    "<div align=\"center\"><img src=\"https://raw.githubusercontent.com/codingalzi/algopy/master/notebooks/_images/call_stack_1.png\" width=\"70%\"></div>\n",
    "</figure>"
   ]
  },
  {
   "cell_type": "markdown",
   "metadata": {},
   "source": [
    "## 연습 문제"
   ]
  },
  {
   "cell_type": "markdown",
   "metadata": {},
   "source": [
    "1. [(실습) 재귀 함수](https://colab.research.google.com/github/codingalzi/algopy/blob/master/excs/exc-recursive_functions_1.ipynb)"
   ]
  }
 ],
 "metadata": {
  "kernelspec": {
   "display_name": "Python 3 (ipykernel)",
   "language": "python",
   "name": "python3"
  },
  "language_info": {
   "codemirror_mode": {
    "name": "ipython",
    "version": 3
   },
   "file_extension": ".py",
   "mimetype": "text/x-python",
   "name": "python",
   "nbconvert_exporter": "python",
   "pygments_lexer": "ipython3",
   "version": "3.9.13"
  },
  "vscode": {
   "interpreter": {
    "hash": "6c86b3592b6800d985c04531f2c445f0fa6967131b8dd6395a925f7622e55602"
   }
  }
 },
 "nbformat": 4,
 "nbformat_minor": 4
}