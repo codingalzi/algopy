{
 "cells": [
  {
   "cell_type": "markdown",
   "metadata": {},
   "source": [
    "# 하노이의 탑과 미로게임"
   ]
  },
  {
   "cell_type": "markdown",
   "metadata": {},
   "source": [
    "Copyright (C)  Brad Miller, David Ranum.\n",
    "This work is licensed under the Creative Commons Attribution-NonCommercial-ShareAlike 4.0 International License. To view a copy of this license, visit http://creativecommons.org/licenses/by-nc-sa/4.0/."
   ]
  },
  {
   "cell_type": "markdown",
   "metadata": {},
   "source": [
    "`for`, `while` 반복문을 이용하여 해결하기 어려운 문제를\n",
    "재귀 알고리즘으로 상대적으로 훨씬 간단하게 해결하는 예제 두 개를 다룬다."
   ]
  },
  {
   "cell_type": "markdown",
   "metadata": {},
   "source": [
    "## 5.6 하노이의 탑"
   ]
  },
  {
   "cell_type": "markdown",
   "metadata": {},
   "source": [
    "하노이의 탑(Tower of Hanoi) 문제는 세 개의 기둥 중에\n",
    "하나의 기둥에 쌓여 있는 다양한 크기의 원판들을 다른 기둥으로 옮기는 게임이다.\n",
    "단, 원판 이동 중에 아래 제한조건들을 반드시 지켜야 한다.\n",
    "\n",
    "- 한 번에 한개의 원판만 옮긴다.\n",
    "- 큰 원판이 그보다 작은 원판 위에 위치할 수 없다."
   ]
  },
  {
   "cell_type": "markdown",
   "metadata": {},
   "source": [
    "<figure>\n",
    "<div align=\"center\"><img src=\"https://upload.wikimedia.org/wikipedia/commons/6/60/Tower_of_Hanoi_4.gif\" width=\"45%\"></div>\n",
    "</figure>\n",
    "\n",
    "<그림 출처: [위키백과: 하노이의 탑](https://ko.wikipedia.org/wiki/%ED%95%98%EB%85%B8%EC%9D%B4%EC%9D%98_%ED%83%91)>"
   ]
  },
  {
   "cell_type": "markdown",
   "metadata": {},
   "source": [
    "**참고**: 일반적으로 원판이 $n$개 일 때, $2^n - 1$번의 이동으로 원판을 모두 옮길 수 있다.\n",
    "참고로 64개의 원판을 옮기는 데 총 $2^{64}-1$ 번 원판을 움직여야 하고, \n",
    "1초에 하나의 원판을 옮긴다고 가정했을 때 5,849억년 정도 걸린다."
   ]
  },
  {
   "cell_type": "markdown",
   "metadata": {},
   "source": [
    "### 재귀 알고리즘"
   ]
  },
  {
   "cell_type": "markdown",
   "metadata": {},
   "source": [
    "4개의 원판을 옮겨야 한다고 가정하자.\n",
    "아래 연속된 그림에서 볼 수 있듯이 3개의 원판을 옮기는 과정을 두 번 반복하면 된다."
   ]
  },
  {
   "cell_type": "markdown",
   "metadata": {},
   "source": [
    "<figure>\n",
    "<div align=\"center\"><img src=\"https://raw.githubusercontent.com/codingalzi/algopy/master/notebooks/_images/hanoi-tower-1.png\" width=\"50%\"></div>\n",
    "</figure>"
   ]
  },
  {
   "cell_type": "markdown",
   "metadata": {},
   "source": [
    "<figure>\n",
    "<div align=\"center\"><img src=\"https://raw.githubusercontent.com/codingalzi/algopy/master/notebooks/_images/hanoi-tower-2.png\" width=\"50%\"></div>\n",
    "</figure>"
   ]
  },
  {
   "cell_type": "markdown",
   "metadata": {},
   "source": [
    "<figure>\n",
    "<div align=\"center\"><img src=\"https://raw.githubusercontent.com/codingalzi/algopy/master/notebooks/_images/hanoi-tower-3.png\" width=\"50%\"></div>\n",
    "</figure>"
   ]
  },
  {
   "cell_type": "markdown",
   "metadata": {},
   "source": [
    "<figure>\n",
    "<div align=\"center\"><img src=\"https://raw.githubusercontent.com/codingalzi/algopy/master/notebooks/_images/hanoi-tower-4.png\" width=\"50%\"></div>\n",
    "</figure>"
   ]
  },
  {
   "cell_type": "markdown",
   "metadata": {},
   "source": [
    "위 설명을 임의의 양의 정수 `n`에 대해 일반화하면 다음과 같다.\n",
    "\n",
    "1. `n-1` 개의 원판을 중간 지점의 위치에 옮긴다.\n",
    "1. 가장 큰 원판을 목적지로 옮긴다.\n",
    "1. 중간 지점에 위치한 `n-1` 개의 원판을 목적지로 옮긴다.\n",
    "\n",
    "위 재귀 알고리즘의 종료조건은 `n=1`일 때이며, 이때는 하나의 원판을 \n",
    "목적지로 옮기기만 하면 된다.\n",
    "이를 코드로 구현하면 다음과 같다.\n",
    "\n",
    "- `height`: 원판 개수\n",
    "- `from_pole`: 출발 기둥\n",
    "- `with_pole`: 중간 지점 기둥\n",
    "- `to_pole`: 목적지 기둥"
   ]
  },
  {
   "cell_type": "code",
   "execution_count": 1,
   "metadata": {},
   "outputs": [],
   "source": [
    "def move_tower(height, from_pole, to_pole, with_pole):\n",
    "    if height >= 1:\n",
    "        move_tower(height - 1, from_pole, with_pole, to_pole)\n",
    "        move_disk(from_pole, to_pole)                           # 탑 원판 옮기기\n",
    "        move_tower(height - 1, with_pole, to_pole, from_pole)\n",
    "\n",
    "def move_disk(from_p, to_p):\n",
    "    print(f\"{from_p}에서 {to_p}로 탑 원판 옮기기\")"
   ]
  },
  {
   "cell_type": "code",
   "execution_count": 2,
   "metadata": {},
   "outputs": [
    {
     "name": "stdout",
     "output_type": "stream",
     "text": [
      "A에서 C로 탑 원판 옮기기\n",
      "A에서 B로 탑 원판 옮기기\n",
      "C에서 B로 탑 원판 옮기기\n",
      "A에서 C로 탑 원판 옮기기\n",
      "B에서 A로 탑 원판 옮기기\n",
      "B에서 C로 탑 원판 옮기기\n",
      "A에서 C로 탑 원판 옮기기\n",
      "A에서 B로 탑 원판 옮기기\n",
      "C에서 B로 탑 원판 옮기기\n",
      "C에서 A로 탑 원판 옮기기\n",
      "B에서 A로 탑 원판 옮기기\n",
      "C에서 B로 탑 원판 옮기기\n",
      "A에서 C로 탑 원판 옮기기\n",
      "A에서 B로 탑 원판 옮기기\n",
      "C에서 B로 탑 원판 옮기기\n"
     ]
    }
   ],
   "source": [
    "move_tower(4, \"A\", \"B\", \"C\")"
   ]
  },
  {
   "cell_type": "markdown",
   "metadata": {},
   "source": [
    "### 머리와 꼬리\n",
    "\n",
    "하노이의 탑 알고리즘에서 머리와 꼬리는 다음과 같다.\n",
    "\n",
    "- 머리: 바닥에 위치한 원판. 지정된 목적지로 이동하면 끝.\n",
    "- 꼬리: 머리를 제외한 나머지 원판으로 이루어진 탑. 따라서 하나의 꼬리에 대한 두 번의 재귀호출이 이뤄짐."
   ]
  },
  {
   "cell_type": "markdown",
   "metadata": {},
   "source": [
    "## 5.7 미로 탐색"
   ]
  },
  {
   "cell_type": "markdown",
   "metadata": {},
   "source": [
    "아래 그림은 거북이가 미로를 탈출하기 위해 가능한 모든 경로를 탐색하는 과정을 보여준다.\n",
    "\n",
    "- 노랑 벽: 거북이가 통과하지 못하는 벽\n",
    "- 형광 점: 탈출 경로\n",
    "- 빨강 점: 갔다가 길이 막혀서 되돌아온 경로"
   ]
  },
  {
   "cell_type": "markdown",
   "metadata": {},
   "source": [
    "<figure>\n",
    "<div align=\"center\"><img src=\"https://raw.githubusercontent.com/codingalzi/algopy/master/notebooks/_images/maze2.png\" width=\"50%\"></div>\n",
    "</figure>"
   ]
  },
  {
   "cell_type": "markdown",
   "metadata": {},
   "source": [
    "### 미로 설계도"
   ]
  },
  {
   "cell_type": "markdown",
   "metadata": {},
   "source": [
    "미로 설계도는 덧셈 기호(`+`)와 공백으로 이루어진 문자열로 주어진다.\n",
    "아래 설계도는 11개의 행과 22개의 열로 이루어진 2차원 어레이 모양을 갖는 설계도이다.\n",
    "\n",
    "- 덧셈 기호(`+`): 벽돌을 의미함.\n",
    "- 공백: 이동 가능 공간을 의미함.\n",
    "- `S`: 거북이의 초기 위치를 지점함."
   ]
  },
  {
   "cell_type": "code",
   "execution_count": 3,
   "metadata": {},
   "outputs": [],
   "source": [
    "maze2 = \"++++++++++++++++++++++\\n\\\n",
    "+   +   ++ ++        +\\n\\\n",
    "    +     ++++++++++  \\n\\\n",
    "+ +    ++  ++++ +++ ++\\n\\\n",
    "+ +   + + ++    +++  +\\n\\\n",
    "+          ++  ++  + +\\n\\\n",
    "+++++ + +      ++  + +\\n\\\n",
    "+++++ +++  + +  ++   +\\n\\\n",
    "+          + + S+ +  +\\n\\\n",
    "+++++ +  + + +     + +\\n\\\n",
    "++++++++++++++++++++++\\n\""
   ]
  },
  {
   "cell_type": "markdown",
   "metadata": {},
   "source": [
    "즉, 아래와 같이 생긴 미로를 설계한다."
   ]
  },
  {
   "cell_type": "code",
   "execution_count": 4,
   "metadata": {},
   "outputs": [
    {
     "name": "stdout",
     "output_type": "stream",
     "text": [
      "++++++++++++++++++++++\n",
      "+   +   ++ ++        +\n",
      "    +     ++++++++++  \n",
      "+ +    ++  ++++ +++ ++\n",
      "+ +   + + ++    +++  +\n",
      "+          ++  ++  + +\n",
      "+++++ + +      ++  + +\n",
      "+++++ +++  + +  ++   +\n",
      "+          + + S+ +  +\n",
      "+++++ +  + + +     + +\n",
      "++++++++++++++++++++++\n",
      "\n"
     ]
    }
   ],
   "source": [
    "print(maze2)"
   ]
  },
  {
   "cell_type": "markdown",
   "metadata": {},
   "source": [
    "먼저 설계도를 파일로 저장한다.\n",
    "\n",
    "**참고**: 이 과정 대신 직접 2차원 리스트로 변환할 수 있다.\n",
    "하지만 여기서는 파일로 저장한 후에 저장된 설계도 파일을 읽어\n",
    "2차원 어레이 형식의 설계도를 생성하는 방식을 사용한다."
   ]
  },
  {
   "cell_type": "code",
   "execution_count": 5,
   "metadata": {},
   "outputs": [],
   "source": [
    "with open(\"maze2.txt\", \"w\") as maze2_file:\n",
    "    maze2_file.write(maze2)"
   ]
  },
  {
   "cell_type": "markdown",
   "metadata": {},
   "source": [
    "### 미로 시각화: `Maze` 클래스 활용"
   ]
  },
  {
   "cell_type": "markdown",
   "metadata": {},
   "source": [
    "거북이 모듈을 이용하여 거북이가 움직일 수 있는 미로를 시각화 한다.\n",
    "이를 위해 `Maze` 클래스를 선언하며\n",
    "미로 그리기, 거북이 이동, 위치 업데이트 하기, 이동경로 기억하기 등의 기능을 추가한다. \n",
    "\n",
    "- `__init__()` 메서드: 미로 설계도 읽어오기. 거북이의 출발위치 확인.\n",
    "- `draw_maze()` 메서드: 설계도에 따라 미로 그리기.\n",
    "    - `draw_centered_box()` 메서드: 미로에 필요한 블록 그리기\n",
    "- `update_position()` 메서드: 지정된 위치로 이동 및 이동경로 표시\n",
    "    - `move_turtle()` 메서드: 지정된 위치로 이동\n",
    "    - `drop_bread_crumb()` 메서드: 이동 경로 표시. 색상으로 구분.\n",
    "        - 검정: 지나간 경로(최종적으로 빨강 또는 초록으로 대체됨)\n",
    "        - 빨강: 막혀서 되돌아간 경로\n",
    "        - 초록: 탈출 경로\n",
    "- `is_exit()` 메서드: 미로 경계를 벗어나는 지점 여부 확인\n",
    "- `__getitem__()` 메서드: 미로 상의 위치 확인용. \n",
    "    2차원 어레이 모양의 리스트에 필요한 인덱스 기능 지원."
   ]
  },
  {
   "cell_type": "code",
   "execution_count": 6,
   "metadata": {},
   "outputs": [],
   "source": [
    "import turtle\n",
    "\n",
    "PART_OF_PATH = \"O\"\n",
    "TRIED = \".\"\n",
    "OBSTACLE = \"+\"\n",
    "DEAD_END = \"-\"\n",
    "\n",
    "\n",
    "class Maze:\n",
    "    def __init__(self, maze_filename):\n",
    "        rows_in_maze = 0\n",
    "        columns_in_maze = 0\n",
    "        self.maze_list = []\n",
    "        maze_file = open(maze_filename, \"r\")\n",
    "        rows_in_maze = 0\n",
    "        for line in maze_file:\n",
    "            row_list = []\n",
    "            col = 0\n",
    "            for ch in line[:-1]:\n",
    "                row_list.append(ch)\n",
    "                if ch == \"S\":\n",
    "                    self.start_row = rows_in_maze\n",
    "                    self.start_col = col\n",
    "                col = col + 1\n",
    "            rows_in_maze = rows_in_maze + 1\n",
    "            self.maze_list.append(row_list)\n",
    "            columns_in_maze = len(row_list)\n",
    "\n",
    "        self.rows_in_maze = rows_in_maze\n",
    "        self.columns_in_maze = columns_in_maze\n",
    "        self.x_translate = -columns_in_maze / 2\n",
    "        self.y_translate = rows_in_maze / 2\n",
    "        self.t = turtle.Turtle()\n",
    "        self.t.shape(\"turtle\")\n",
    "        self.wn = turtle.Screen()\n",
    "        self.wn.setworldcoordinates(\n",
    "            -(columns_in_maze - 1) / 2 - 0.5,\n",
    "            -(rows_in_maze - 1) / 2 - 0.5,\n",
    "            (columns_in_maze - 1) / 2 + 0.5,\n",
    "            (rows_in_maze - 1) / 2 + 0.5,\n",
    "        )\n",
    "\n",
    "    def draw_maze(self):\n",
    "        self.t.speed(10)\n",
    "        self.wn.tracer(0)\n",
    "        for y in range(self.rows_in_maze):\n",
    "            for x in range(self.columns_in_maze):\n",
    "                if self.maze_list[y][x] == OBSTACLE:\n",
    "                    self.draw_centered_box(\n",
    "                        x + self.x_translate, -y + self.y_translate, \"orange\"\n",
    "                    )\n",
    "        self.t.color(\"black\")\n",
    "        self.t.fillcolor(\"blue\")\n",
    "        self.wn.update()\n",
    "        self.wn.tracer(1)\n",
    "\n",
    "    def draw_centered_box(self, x, y, color):\n",
    "        self.t.up()\n",
    "        self.t.goto(x - 0.5, y - 0.5)\n",
    "        self.t.color(color)\n",
    "        self.t.fillcolor(color)\n",
    "        self.t.setheading(90)\n",
    "        self.t.down()\n",
    "        self.t.begin_fill()\n",
    "        for i in range(4):\n",
    "            self.t.forward(1)\n",
    "            self.t.right(90)\n",
    "        self.t.end_fill()\n",
    "\n",
    "    def move_turtle(self, x, y):\n",
    "        self.t.up()\n",
    "        self.t.setheading(self.t.towards(x + self.x_translate, -y + self.y_translate))\n",
    "        self.t.goto(x + self.x_translate, -y + self.y_translate)\n",
    "\n",
    "    def drop_bread_crumb(self, color):\n",
    "        self.t.dot(10, color)\n",
    "\n",
    "    def update_position(self, row, col, val=None):\n",
    "        if val:\n",
    "            self.maze_list[row][col] = val\n",
    "        self.move_turtle(col, row)\n",
    "\n",
    "        if val == PART_OF_PATH:\n",
    "            color = \"green\"\n",
    "        elif val == OBSTACLE:\n",
    "            color = \"red\"\n",
    "        elif val == TRIED:\n",
    "            color = \"black\"\n",
    "        elif val == DEAD_END:\n",
    "            color = \"red\"\n",
    "        else:\n",
    "            color = None\n",
    "\n",
    "        if color:\n",
    "            self.drop_bread_crumb(color)\n",
    "\n",
    "    def is_exit(self, row, col):\n",
    "        return (\n",
    "            row == 0\n",
    "            or row == self.rows_in_maze - 1\n",
    "            or col == 0\n",
    "            or col == self.columns_in_maze - 1\n",
    "        )\n",
    "\n",
    "    def __getitem__(self, idx):\n",
    "        return self.maze_list[idx]"
   ]
  },
  {
   "cell_type": "markdown",
   "metadata": {},
   "source": [
    "### 미로 탐색 알고리즘"
   ]
  },
  {
   "cell_type": "markdown",
   "metadata": {},
   "source": [
    "미로의 임의의 위치에서 출발하는 거북이가 탈출 경로를 탐색하는 알고리즘은 다음과 같다.\n",
    "\n",
    "**참고**: `or` 부울 연산자의 기능에 주의해야 한다. \n",
    "\n",
    "- `True or B`: `B`를 확인하지 않고 `True`로 처리됨\n",
    "- `False or B`: `B`를 확인함."
   ]
  },
  {
   "cell_type": "code",
   "execution_count": 7,
   "metadata": {},
   "outputs": [],
   "source": [
    "def search_from(maze, start_row, start_column):\n",
    "    # 지정된 위치로 이동 및 상태 업데이트\n",
    "    maze.update_position(start_row, start_column)\n",
    "\n",
    "    # 종료 조건\n",
    "    #  1. 벽에 막히는 경우\n",
    "    if maze[start_row][start_column] == OBSTACLE:\n",
    "        return False\n",
    "    \n",
    "    #  2. 이미 탐색한 경로인 경우\n",
    "    if (\n",
    "        maze[start_row][start_column] == TRIED\n",
    "        or maze[start_row][start_column] == DEAD_END\n",
    "    ):\n",
    "        return False\n",
    "    \n",
    "    # 3. 탈출구를 찾은 경우\n",
    "    if maze.is_exit(start_row, start_column):\n",
    "        maze.update_position(start_row, start_column, PART_OF_PATH)\n",
    "        return True\n",
    "    \n",
    "    # 종료 조건이 아닌 경우: 해당 위치를 `TRIED`로 표시\n",
    "    maze.update_position(start_row, start_column, TRIED)\n",
    "\n",
    "    # 이후 북, 남, 서, 동 방향의 순서로 모든 가능성을 재귀적으로 탐색\n",
    "    # 주의: or 연산자의 기능에 유의할 것.\n",
    "    found = (\n",
    "        search_from(maze, start_row - 1, start_column)\n",
    "        or search_from(maze, start_row + 1, start_column)\n",
    "        or search_from(maze, start_row, start_column - 1)\n",
    "        or search_from(maze, start_row, start_column + 1)\n",
    "    )\n",
    "    \n",
    "    # 모든 가능성이 없을 때까지 이동한 후 두 가지 가능성 존재\n",
    "    # 1. 탈출구를 찾은 경우\n",
    "    if found:\n",
    "        # 탈출구를 찾은 다음 되돌아가지 않도록 하기 위해서는 아래코드 실행\n",
    "        # return True\n",
    "        maze.update_position(start_row, start_column, PART_OF_PATH)\n",
    "    \n",
    "    # 2. 왔던 길로 되돌아가야 하는 경우\n",
    "    else:\n",
    "        maze.update_position(start_row, start_column, DEAD_END)\n",
    "    \n",
    "    return found"
   ]
  },
  {
   "cell_type": "markdown",
   "metadata": {},
   "source": [
    "이제 아래 코드를 실행하면 최종적으로 앞서 본 미로그림이 완성된다.\n",
    "\n",
    "**참고**: 온라인 상에서 거북이 코드실행은\n",
    "[Trinket: 미로 탐색](https://trinket.io/turtle/1579371d4a)에서 확인할 수 있다.\n",
    "아니면 개인 컴퓨터에서 파이썬을 설치한 후 실행하면 된다.\n",
    "구글 코랩에서는 기본적으로 지원되지 않는다."
   ]
  },
  {
   "cell_type": "markdown",
   "metadata": {},
   "source": [
    "```python\n",
    "my_maze = Maze(\"maze2.txt\")\n",
    "my_maze.draw_maze()\n",
    "my_maze.update_position(my_maze.start_row, my_maze.start_col)\n",
    "\n",
    "search_from(my_maze, my_maze.start_row, my_maze.start_col)\n",
    "```"
   ]
  },
  {
   "cell_type": "markdown",
   "metadata": {},
   "source": [
    "### 머리와 꼬리\n",
    "\n",
    "미로 탐색 알고리즘의 머리와 꼬리는 다음과 같다.\n",
    "\n",
    "- 머리: 이동 후 벽에 막히거나 탈출구에 위치한 경우\n",
    "- 꼬리: 북, 남, 서, 동으로 이동한 후 동일한 탐색 과정 반복. 즉 4 개의 꼬리 사용."
   ]
  },
  {
   "cell_type": "markdown",
   "metadata": {},
   "source": [
    "## 5.8 프로그래밍 연습 문제"
   ]
  },
  {
   "cell_type": "markdown",
   "metadata": {},
   "source": [
    "### 하노이의 탑"
   ]
  },
  {
   "cell_type": "markdown",
   "metadata": {},
   "source": [
    "1. 하노이의 탑을 해결하는 알고리즘을 세 개의 스택(stack)을 이용하여 시각화하라. \n",
    "    turtle 모듈을 이용하는 방식은 \n",
    "    [Trinket: 미로 탐색](https://trinket.io/turtle/1579371d4a)를 참고할 수 있다.\n",
    "    \n",
    "    힌트: 3 개의 거북이를 원, 사각형 모양 등으로 활용할 수 있다."
   ]
  },
  {
   "cell_type": "markdown",
   "metadata": {},
   "source": [
    "### 미로 탐색"
   ]
  },
  {
   "cell_type": "markdown",
   "metadata": {},
   "source": [
    "1. 미로 탐색 알고리즘 `search_from()`에 사용된 탐색경로를 수정하여 이전 알고리즘과의\n",
    "    차이점을 확인하라."
   ]
  },
  {
   "cell_type": "markdown",
   "metadata": {},
   "source": [
    "### 기타"
   ]
  },
  {
   "cell_type": "markdown",
   "metadata": {},
   "source": [
    "1. Write a program to solve the following problem: You have two jugs: a\n",
    "   4-gallon jug and a 3-gallon jug. Neither of the jugs have markings on\n",
    "   them. There is a pump that can be used to fill the jugs with water.\n",
    "   How can you get exactly two gallons of water in the 4-gallon jug?\n",
    "\n",
    "1. Generalize the problem above so that the parameters to your solution\n",
    "   include the sizes of each jug and the final amount of water to be\n",
    "   left in the larger jug.\n",
    "\n",
    "1. Write a program that solves the following problem: Three missionaries\n",
    "   and three cannibals come to a river and find a boat that holds two\n",
    "   people. Everyone must get across the river to continue on the\n",
    "   journey. However, if the cannibals ever outnumber the missionaries on\n",
    "   either bank, the missionaries will be eaten. Find a series of\n",
    "   crossings that will get everyone safely to the other side of the\n",
    "   river."
   ]
  }
 ],
 "metadata": {
  "kernelspec": {
   "display_name": "Python 3 (ipykernel)",
   "language": "python",
   "name": "python3"
  },
  "language_info": {
   "codemirror_mode": {
    "name": "ipython",
    "version": 3
   },
   "file_extension": ".py",
   "mimetype": "text/x-python",
   "name": "python",
   "nbconvert_exporter": "python",
   "pygments_lexer": "ipython3",
   "version": "3.9.7"
  }
 },
 "nbformat": 4,
 "nbformat_minor": 4
}