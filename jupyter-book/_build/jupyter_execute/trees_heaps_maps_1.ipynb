{
 "cells": [
  {
   "cell_type": "markdown",
   "metadata": {},
   "source": [
    "# 트리와 힙"
   ]
  },
  {
   "cell_type": "markdown",
   "metadata": {},
   "source": [
    "Copyright (C)  Brad Miller, David Ranum. \n",
    "This work is licensed under the Creative Commons Attribution-NonCommercial-ShareAlike 4.0 International License. To view a copy of this license, visit http://creativecommons.org/licenses/by-nc-sa/4.0/."
   ]
  },
  {
   "cell_type": "markdown",
   "metadata": {},
   "source": [
    "## 목표"
   ]
  },
  {
   "cell_type": "markdown",
   "metadata": {},
   "source": [
    "- 트리(tree) 자료구조 이해\n",
    "- 트리를 활용한 맵(map) 자료구조 구현\n",
    "- 우선순위 큐(priority queue) 구현\n",
    "- 바이너리 힙 활용"
   ]
  },
  {
   "cell_type": "markdown",
   "metadata": {},
   "source": [
    "지금까지 리스트, 큐, 스택 등 선형 자료구조만 살펴보았다.\n",
    "여기서는 트리(tree)라는 비선형 자료구조의 정의와 주요 활용예제를 살펴본다."
   ]
  },
  {
   "cell_type": "markdown",
   "metadata": {},
   "source": [
    "## 트리 활용 예제"
   ]
  },
  {
   "cell_type": "markdown",
   "metadata": {},
   "source": [
    "**생물 분류 트리**\n",
    "\n",
    "18세기 스웨덴 생물학자 린네(Linne)가 고안한 생물 분류 트리는 다음과 같다.\n",
    "\n",
    "- 계(Kingdom)\n",
    "- 문(Phylum)\n",
    "- 강(Class)\n",
    "- 족(Cohort)\n",
    "- 목(Order)\n",
    "- 과(Family)\n",
    "- 류(Tribe)\n",
    "- 속(Genus)\n",
    "- 종(Species)"
   ]
  },
  {
   "cell_type": "markdown",
   "metadata": {},
   "source": [
    "<figure>\n",
    "<div align=\"center\"><img src=\"https://runestone.academy/runestone/books/published/pythonds3/_images/biology.png\" width=\"60%\"></div>\n",
    "</figure>"
   ]
  },
  {
   "cell_type": "markdown",
   "metadata": {},
   "source": [
    "**파일 시스템**\n",
    "\n",
    "루트(`/`)부터 임의의 폴더까지 유일한 경로(path)가 존재한다."
   ]
  },
  {
   "cell_type": "markdown",
   "metadata": {},
   "source": [
    "<figure>\n",
    "<div align=\"center\"><img src=\"https://runestone.academy/runestone/books/published/pythonds3/_images/directory.png\" width=\"100%\"></div>\n",
    "</figure>"
   ]
  },
  {
   "cell_type": "markdown",
   "metadata": {},
   "source": [
    "**웹페이지 소스코드**\n",
    "\n",
    "웹 브라우저는 HTML 프로그래밍언어로 작성된 웹페이지 소스코드의 **태그**(tag) 트리로부터\n",
    "웹페이지 구성에 대한 정보를 읽어낸다."
   ]
  },
  {
   "cell_type": "markdown",
   "metadata": {},
   "source": [
    "- HTML 소스코드"
   ]
  },
  {
   "cell_type": "markdown",
   "metadata": {},
   "source": [
    "---\n",
    "```html\n",
    "<html xmlns=\"http://www.w3.org/1999/xhtml\" xml:lang=\"en\" lang=\"en\">\n",
    "    <head>\n",
    "        <meta http-equiv=\"Content-Type\" \n",
    "              content=\"text/html; charset=utf-8\" />\n",
    "        <title>simple</title>\n",
    "    </head>\n",
    "    <body>\n",
    "        <h1>A simple web page</h1>\n",
    "        <ul>\n",
    "            <li>List item one</li>\n",
    "            <li>List item two</li>\n",
    "        </ul>\n",
    "        <h2><a href=\"https://www.cs.luther.edu\">Luther CS </a><h2>\n",
    "    </body>\n",
    "</html>\n",
    "```\n",
    "---"
   ]
  },
  {
   "cell_type": "markdown",
   "metadata": {},
   "source": [
    "- 태그 트리: 위 소스코드에 사용된 태그들은 다음, 같다.\n",
    "    - `<html>`, `</html>`\n",
    "    - `<head>`, `</head>`\n",
    "    - `<meta/>`\n",
    "    - `<title>`, `</title>`\n",
    "    - `<body>`, `</body>`\n",
    "    - `<ul>`, `</ul>`\n",
    "    - `<li>`, `</li>`\n",
    "    - `<h1>`, `</hw>`\n",
    "    - `<a>`, `</a>`"
   ]
  },
  {
   "cell_type": "markdown",
   "metadata": {},
   "source": [
    "<figure>\n",
    "<div align=\"center\"><img src=\"https://runestone.academy/runestone/books/published/pythonds3/_images/htmltree.png\" width=\"70%\"></div>\n",
    "</figure>"
   ]
  },
  {
   "cell_type": "markdown",
   "metadata": {},
   "source": [
    "## 트리 구성 요소"
   ]
  },
  {
   "cell_type": "markdown",
   "metadata": {},
   "source": [
    "트리 구성요소와 트리 관련 주요 개념은 다음과 같다."
   ]
  },
  {
   "cell_type": "markdown",
   "metadata": {},
   "source": [
    "__마디(Node)__\n",
    "\n",
    "트리의 주요 구성요소이다. 이름을 가질 수 있으며, 경우에 따라 값(value)이라는 정보도\n",
    "추가적으로 가질 수 있다."
   ]
  },
  {
   "cell_type": "markdown",
   "metadata": {},
   "source": [
    "__이음선(Edge)__\n",
    "\n",
    "트리의 또 다른 주요 구성요소이며, 두 개의 마디를 연결하여\n",
    "부모-자식 관계를 보여준다.\n",
    "연결된 마디를 기준으로 __진입 이음선__(incoming edge) 또는\n",
    "__진출 이음선__(outgoing edge)으로 나뉜다.\n",
    "진입과 진출의 기준은 루트이며, 루트 쪽에서 오는 이음선을 진입 이음선,\n",
    "루트와 멀어지는 이음선을 진출 이음선이라 한다. \n",
    "루트(root)를 제외한 모든 마디는 진입 이음선를 갖는다.\n",
    "또한 모든 마디는 0개 이상 임의의 수만큼 진출 이음선를 가질 수 있다."
   ]
  },
  {
   "cell_type": "markdown",
   "metadata": {},
   "source": [
    "__루트(Root)__\n",
    "\n",
    "트리에 포함된 마디 중에서 진입 이음선을 갖지 않는 유일한 마디를 가리킨다."
   ]
  },
  {
   "cell_type": "markdown",
   "metadata": {},
   "source": [
    "__경로(Path)__\n",
    "\n",
    "두 마디를 잇는 여러 개의 이음선으로 이루어진 리스트이다.\n",
    "예를 들어, 아래 경로는 생물 분류 트리의 경로이다. \n",
    "\n",
    "$$\n",
    "\\text{Mammal} \\longrightarrow \\text{Carnivora} \\longrightarrow \\text{Felidae}  \\longrightarrow \\text{Felis} \\longrightarrow \\text{Domestica}\n",
    "$$"
   ]
  },
  {
   "cell_type": "markdown",
   "metadata": {},
   "source": [
    "__자식(Children)__\n",
    "\n",
    "하나의 마디와 진입 이음선으로 연결된 마디를 가리킨다."
   ]
  },
  {
   "cell_type": "markdown",
   "metadata": {},
   "source": [
    "__부모(Parent)__\n",
    "\n",
    "자식 마디를 갖는 마디이다."
   ]
  },
  {
   "cell_type": "markdown",
   "metadata": {},
   "source": [
    "__형제자매(Sibling)__\n",
    "\n",
    "부모를 공유하는 마디들이다."
   ]
  },
  {
   "cell_type": "markdown",
   "metadata": {},
   "source": [
    "__자손(descendant)__\n",
    "\n",
    "하나의 부모에서 출발하여 자식관계로 연결된 마디를 가리킨다."
   ]
  },
  {
   "cell_type": "markdown",
   "metadata": {},
   "source": [
    "__서브트리(Subtree)__\n",
    "\n",
    "임의의 마디를 루트로 하면서 해당 마디의 모든 자손으로 이루어진 트리이다."
   ]
  },
  {
   "cell_type": "markdown",
   "metadata": {},
   "source": [
    "__잎(Leaf Node)__\n",
    "\n",
    "자식이 없는 마디이다.\n",
    "즉, 진출 이음선을 갖지 않는다."
   ]
  },
  {
   "cell_type": "markdown",
   "metadata": {},
   "source": [
    "__레벨(Level)__\n",
    "\n",
    "마디의 레벨은 루트로부터 연결된 이음선의 개수이다. \n",
    "루트의 레벨은 따라서 0이다."
   ]
  },
  {
   "cell_type": "markdown",
   "metadata": {},
   "source": [
    "__높이(Height)__\n",
    "\n",
    "트리에 포함된 마디의 레벨 중에서 최댓값이다.\n",
    "앞서 예제로 사용된 \n",
    "파일 시스템 트리의 경우 높이는 2이며, HTML 소스코드의 태크 트리의 높이는 3이다."
   ]
  },
  {
   "cell_type": "markdown",
   "metadata": {},
   "source": [
    "### 트리의 정의"
   ]
  },
  {
   "cell_type": "markdown",
   "metadata": {},
   "source": [
    "트리는 아래 성질을 만족하는 마디와 이음선들로 이루진다. \n",
    "\n",
    "- 루트로 사용되는 하나의 마디가 있다.\n",
    "- 루트를 제외한 모든 마디는 부모 마디로부터 오는 진입 이음선으로 연결된다.\n",
    "- 루트로부터 임의의 노트로 연결되는 경로가 유일하게 존재한다."
   ]
  },
  {
   "cell_type": "markdown",
   "metadata": {},
   "source": [
    "<figure>\n",
    "<div align=\"center\"><img src=\"https://runestone.academy/runestone/books/published/pythonds3/_images/treedef1.png\" width=\"40%\"></div>\n",
    "</figure>"
   ]
  },
  {
   "cell_type": "markdown",
   "metadata": {},
   "source": [
    "_**이진트리(binary tree)**_\n",
    "\n",
    "모든 마디가 최대 2 개의 자식을 갖는 트리이다. "
   ]
  },
  {
   "cell_type": "markdown",
   "metadata": {},
   "source": [
    "_**트리의 제귀적 정의**_"
   ]
  },
  {
   "cell_type": "markdown",
   "metadata": {},
   "source": [
    "트리는 그 자체로 비어있거나 또는 하나의 루트에 연결된 (0 개 이상의) 서브트리로 구성된다.\n",
    "각 서브트리의 루트는 부모 트리의 루트에 자식 마디로 연결된다.\n",
    "앞으로 트리를 구현할 때 재귀적 정의를 활용한다."
   ]
  },
  {
   "cell_type": "markdown",
   "metadata": {},
   "source": [
    "<figure>\n",
    "<div align=\"center\"><img src=\"https://runestone.academy/runestone/books/published/pythonds3/_images/TreeDefRecursive.png\" width=\"50%\"></div>\n",
    "</figure>"
   ]
  },
  {
   "cell_type": "markdown",
   "metadata": {},
   "source": [
    "## 이진 트리 구현"
   ]
  },
  {
   "cell_type": "markdown",
   "metadata": {},
   "source": [
    "### 중첩 리스트 활용"
   ]
  },
  {
   "cell_type": "markdown",
   "metadata": {},
   "source": [
    "다음 이진 트리를 중첩 리스트를 이용하여 구현할 수 있다."
   ]
  },
  {
   "cell_type": "markdown",
   "metadata": {},
   "source": [
    "<figure>\n",
    "<div align=\"center\"><img src=\"https://runestone.academy/runestone/books/published/pythonds3/_images/smalltree.png\" width=\"30%\"></div>\n",
    "</figure>"
   ]
  },
  {
   "cell_type": "code",
   "execution_count": 1,
   "metadata": {},
   "outputs": [],
   "source": [
    "my_tree = [\n",
    "    \"a\",  # 루트\n",
    "        [\"b\",  # 왼쪽 서브트리\n",
    "            [\"d\", [], []],\n",
    "            [\"e\", [], []]\n",
    "        ],\n",
    "        [\"c\",  # 오른쪽 서브트리\n",
    "            [\"f\", [], []], \n",
    "            []\n",
    "        ]\n",
    "    ]"
   ]
  },
  {
   "cell_type": "markdown",
   "metadata": {},
   "source": [
    "중첩 리스트를 활용하여 임의의 트리를 생성하고 활용하는 함수들을 구현할 수 있다.\n",
    "자세한 내용은 \n",
    "[Problem Solving with Algorithms and Data Structures using Python, 7.4절](https://runestone.academy/runestone/books/published/pythonds3/Trees/ListofListsRepresentation.html)을\n",
    "참조하면 된다."
   ]
  },
  {
   "cell_type": "markdown",
   "metadata": {},
   "source": [
    "### 클래스 활용"
   ]
  },
  {
   "cell_type": "markdown",
   "metadata": {},
   "source": [
    "클래스를 이용하여 아래 그림 형태의 이진 트리 자료구조를 구현한다."
   ]
  },
  {
   "cell_type": "markdown",
   "metadata": {},
   "source": [
    "<figure>\n",
    "<div align=\"center\"><img src=\"https://runestone.academy/runestone/books/published/pythonds3/_images/treerecs.png\" width=\"70%\"></div>\n",
    "</figure>"
   ]
  },
  {
   "cell_type": "markdown",
   "metadata": {},
   "source": [
    "여기서는 편의상 이진트리 자료구조를 구현한다.\n",
    "클래스에 사용된 속성은 다음과 같다.\n",
    "\n",
    "- `key`: 마디 이름\n",
    "- `left_child`: 왼쪽 서브트리(참조 활용)\n",
    "- `right_child`: 오른쪽 서브트리(참조 활용)"
   ]
  },
  {
   "cell_type": "markdown",
   "metadata": {},
   "source": [
    "이외에 왼쪽/오른쪽 서브트리를 추가 및 확인하고\n",
    "루트의 이름을 지정 및 확인하는 메서드를 추가하면\n",
    "최종적으로 아래 모양의 클래스를 선언한다."
   ]
  },
  {
   "cell_type": "code",
   "execution_count": 2,
   "metadata": {},
   "outputs": [],
   "source": [
    "class BinaryTree:\n",
    "    # 생성자\n",
    "    def __init__(self, root_obj, left_child=None, right_child=None):\n",
    "        self.key = root_obj\n",
    "        self.left_child = left_child\n",
    "        self.right_child = right_child\n",
    "\n",
    "    # 왼쪽 서브트리 추가\n",
    "    def insert_left(self, new_node):\n",
    "        if self.left_child is None:\n",
    "            self.left_child = BinaryTree(new_node)\n",
    "        else:\n",
    "            new_left_child = BinaryTree(new_node, self.left_child, None)\n",
    "            self.left_child = new_left_child\n",
    "\n",
    "    # 오른쪽 서브트리 추가\n",
    "    def insert_right(self, new_node):\n",
    "        if self.right_child == None:\n",
    "            self.right_child = BinaryTree(new_node)\n",
    "        else:\n",
    "            new_right_child = BinaryTree(new_node, None, self.right_child)\n",
    "            self.right_child = new_right_child\n",
    "\n",
    "    # 루트 이름 확인\n",
    "    def get_root_val(self):\n",
    "        return self.key\n",
    "\n",
    "    # 루트 이름 지정\n",
    "    def set_root_val(self, new_obj):\n",
    "        self.key = new_obj\n",
    "\n",
    "    # 왼쪽 서브트리 확인\n",
    "    def get_left_child(self):\n",
    "        return self.left_child\n",
    "\n",
    "    # 오른쪽 서브트리 확인\n",
    "    def get_right_child(self):\n",
    "        return self.right_child             "
   ]
  },
  {
   "cell_type": "markdown",
   "metadata": {},
   "source": [
    "#### 탑다운 방식과 바텀업 방식"
   ]
  },
  {
   "cell_type": "markdown",
   "metadata": {},
   "source": [
    "(이진)트리를 구성하기 위해 두 가지 방식을 활용할 수 있다.\n",
    "\n",
    "- 탑다운(top-down) 방식: 루트에서 출발하여 자식 마디 추가 반복\n",
    "    - `insert_left()`와 `insert_right()` 함수 활용\n",
    "- 바텀업(bottom-up) 방식: (최대 두 개의) 자식 트리와 루트 마디를 이용하여 새로운 (이진)트리 생성\n",
    "    - `BinaryTree` 클래스의 생성자(`__init__()` 메서드)가 루트 마디, 자식 트리를 인자로 받음."
   ]
  },
  {
   "cell_type": "markdown",
   "metadata": {},
   "source": [
    "**예제**\n",
    "\n",
    "아래 모양의 트리를 구현해보자.\n",
    "\n",
    "<figure>\n",
    "<div align=\"center\"><img src=\"https://runestone.academy/runestone/books/published/pythonds3/_images/tree_ex.png\" width=\"50%\"></div>\n",
    "</figure>"
   ]
  },
  {
   "cell_type": "code",
   "execution_count": 3,
   "metadata": {},
   "outputs": [],
   "source": [
    "example_tree1 = BinaryTree(\"b\")\n",
    "example_tree1.insert_right(\"d\")\n",
    "\n",
    "example_tree2 = BinaryTree(\"c\")\n",
    "example_tree2.insert_left(\"e\")\n",
    "example_tree2.insert_right(\"f\")\n",
    "\n",
    "example_tree = BinaryTree(\"a\", example_tree1, example_tree2)"
   ]
  },
  {
   "cell_type": "markdown",
   "metadata": {},
   "source": [
    "**참고**: [PythonTutor: BinaryTree](https://pythontutor.com/visualize.html#code=class%20BinaryTree%3A%0A%20%20%20%20def%20__init__%28self,%20root_obj,%20left_child%3DNone,%20right_child%3DNone%29%3A%0A%20%20%20%20%20%20%20%20self.key%20%3D%20root_obj%0A%20%20%20%20%20%20%20%20self.left_child%20%3D%20left_child%0A%20%20%20%20%20%20%20%20self.right_child%20%3D%20right_child%0A%0A%20%20%20%20def%20insert_left%28self,%20new_node%29%3A%0A%20%20%20%20%20%20%20%20if%20self.left_child%20is%20None%3A%0A%20%20%20%20%20%20%20%20%20%20%20%20self.left_child%20%3D%20BinaryTree%28new_node%29%0A%20%20%20%20%20%20%20%20else%3A%0A%20%20%20%20%20%20%20%20%20%20%20%20new_left_child%20%3D%20BinaryTree%28new_node,%20self.left_child,%20None%29%0A%20%20%20%20%20%20%20%20%20%20%20%20self.left_child%20%3D%20new_left_child%0A%0A%20%20%20%20def%20insert_right%28self,%20new_node%29%3A%0A%20%20%20%20%20%20%20%20if%20self.right_child%20%3D%3D%20None%3A%0A%20%20%20%20%20%20%20%20%20%20%20%20self.right_child%20%3D%20BinaryTree%28new_node%29%0A%20%20%20%20%20%20%20%20else%3A%0A%20%20%20%20%20%20%20%20%20%20%20%20new_right_child%20%3D%20BinaryTree%28new_node,%20None,%20self.right_child%29%0A%20%20%20%20%20%20%20%20%20%20%20%20self.right_child%20%3D%20new_right_child%0A%0A%20%20%20%20def%20get_root_val%28self%29%3A%0A%20%20%20%20%20%20%20%20return%20self.key%0A%0A%20%20%20%20def%20set_root_val%28self,%20new_obj%29%3A%0A%20%20%20%20%20%20%20%20self.key%20%3D%20new_obj%0A%0A%20%20%20%20def%20get_left_child%28self%29%3A%0A%20%20%20%20%20%20%20%20return%20self.left_child%0A%0A%20%20%20%20def%20get_right_child%28self%29%3A%0A%20%20%20%20%20%20%20%20return%20self.right_child%0A%20%20%20%20%20%20%20%20%0Aexample_tree1%20%3D%20BinaryTree%28%22b%22%29%0Aexample_tree1.insert_right%28%22d%22%29%0A%0Aexample_tree2%20%3D%20BinaryTree%28%22c%22%29%0Aexample_tree2.insert_left%28%22e%22%29%0Aexample_tree2.insert_right%28%22f%22%29%0A%0Aexample_tree%20%3D%20BinaryTree%28%22a%22,%20example_tree1,%20example_tree2%29%0A&cumulative=false&curInstr=0&heapPrimitives=nevernest&mode=display&origin=opt-frontend.js&py=3&rawInputLstJSON=%5B%5D&textReferences=false)\n",
    "\n",
    "아래 코드를 실행할 때 오류가 발생하지 않으면 제대로 구현된 것이다."
   ]
  },
  {
   "cell_type": "code",
   "execution_count": 4,
   "metadata": {},
   "outputs": [],
   "source": [
    "assert (example_tree.get_right_child().get_root_val() == \"c\")\n",
    "assert (example_tree.get_left_child().get_right_child().get_root_val() == \"d\")\n",
    "assert (example_tree.get_right_child().get_left_child().get_root_val() == \"e\")"
   ]
  },
  {
   "cell_type": "markdown",
   "metadata": {},
   "source": [
    "## 파스 트리"
   ]
  },
  {
   "cell_type": "markdown",
   "metadata": {},
   "source": [
    "**파스 트리**(parse tree) 또는 **파싱 트리**(parsing tree)는 \n",
    "문장이나 수식을 이진 트리로 구현한 것을 가리킨다.\n",
    "예를 들어  $((7 + 3) * (5 - 2))$의 파스 트리는 다음과 같다."
   ]
  },
  {
   "cell_type": "markdown",
   "metadata": {},
   "source": [
    "<figure>\n",
    "<div align=\"center\"><img src=\"https://runestone.academy/runestone/books/published/pythonds3/_images/meParse.png\" width=\"40%\"></div>\n",
    "</figure>"
   ]
  },
  {
   "cell_type": "markdown",
   "metadata": {},
   "source": [
    "여기서는 정수와 사칙연산으로 이루어진 수식의 파스 트리를 `BinaryTree` 클래스의 객체로 구현한 후에\n",
    "수식 계산을 진행하고, 주어진 수식의 파스 트리로부터 수식을 복원하는 과정을 살펴본다.\n",
    "즉, 아래 세 과정을 차례대로 구현한다.\n",
    "\n",
    "- 수식으로부터 파스 트리 구현하기\n",
    "- 수식의 파스 트리가 나타내는 값 계산하기\n",
    "- 수식의 파스 트리로부터 수식 복원하기"
   ]
  },
  {
   "cell_type": "markdown",
   "metadata": {},
   "source": [
    "### 수식 파스 트리 구현"
   ]
  },
  {
   "cell_type": "markdown",
   "metadata": {},
   "source": [
    "먼저 수식을 파싱(parsing)하는 방법을 살펴본다.\n",
    "전제 조건은 수식에 사용되는 모든 연산은 괄호로 감싸이도록 하는 것이다.\n",
    "즉, 아래 예제에서처럼 연산자의 우선순위를 사용하는 대신에 괄호를 중첩으로 사용한다.\n",
    "\n",
    "- $(7 + 3) * (5 - 2) = ((7 + 3) * (5 - 2))$\n",
    "- $8 + 2 * 9 = (8 + (2 * 9))$\n",
    "\n",
    "따라서 정수와 사칙연산으로 이루어진 수식은 다음 네 종류의 기호로 구성된다.\n",
    "\n",
    "- 여는 괄호: `\"(\"`\n",
    "- 닫는 괄호: `\")\"`\n",
    "- 연산자: `\"+\"`, `\"-\"`, `\"*\"`, `\"/\"`\n",
    "- 정수"
   ]
  },
  {
   "cell_type": "markdown",
   "metadata": {},
   "source": [
    "여는 괄호는 새로운 수식이 시작됨을, 닫는 괄호는 하나의 수식이 완료됨을 의미한다.\n",
    "그리고 연산자는 이진 트리의 마디로, 정수들은 해당 연산자의 자식으로 사용된다. \n",
    "또한, 수식의 경우 자식은 항상 좌우 모두 존재한다. "
   ]
  },
  {
   "cell_type": "markdown",
   "metadata": {},
   "source": [
    "이 정보에 따르면 수식에 사용된 **토큰**(token, 기호)을\n",
    "왼쪽에서부터 읽어 나가면서 파스 트리를 생성할 때 다음 네 가지 규칙이 사용된다.\n",
    "\n",
    "1. 현재 토큰이 여는 괄호 `\"(\"`인 경우 왼쪽 자식 마디를 추가한 후에 해당 마디로 이동한다.\n",
    "1. 현재 토큰이 연산자 기호 `[\"+\", \"-\", \"/\", \"*\"]` 중에 하나인 경우\n",
    "    현재 위치의 마디의 키(key)를 해당 연산자 기호로 지정한다. \n",
    "    이후 오른쪽 자식 마디를 추가한 후에 해당 마디로 이동한다. \n",
    "1. 현재 토큰이 정수인 경우,\n",
    "    현재 위치의 마디의 키(key)를 해당 정수로 지정한 후에 부모 마디로 이동한다.\n",
    "1. 현재 토큰이 닫는 괄호 `\")\"`인 경우 부모 마디로 이동한다. "
   ]
  },
  {
   "cell_type": "markdown",
   "metadata": {},
   "source": [
    "**예제**"
   ]
  },
  {
   "cell_type": "markdown",
   "metadata": {},
   "source": [
    "$(3 + (4 * 5))$의 파스 트리를 생성하는 과정을 살펴본다.\n",
    "이를 위해 수식의 토큰으로 이루어진 아래 리스트를 사용한다.\n",
    "\n",
    "```python\n",
    "[\"(\", \"3\", \"+\", \"(\", \"4\", \"*\", \"5\", \")\", \")\"]\n",
    "```\n",
    "\n",
    "키를 갖지 않는 하나의 마디로 시작한 후에\n",
    "위 네 규칙을 적절하게 적용하여 파스 트리를 구현내 나간다."
   ]
  },
  {
   "cell_type": "markdown",
   "metadata": {},
   "source": [
    "<figure>\n",
    "<div align=\"center\"><img src=\"https://raw.githubusercontent.com/codingalzi/algopy/master/notebooks/_images/parse_tree1.jpg\" width=\"25%\"></div>\n",
    "</figure>"
   ]
  },
  {
   "cell_type": "markdown",
   "metadata": {},
   "source": [
    "**구현**"
   ]
  },
  {
   "cell_type": "markdown",
   "metadata": {},
   "source": [
    "앞서 언급된 네 규칙을 알고리즘으로 구현하려면 현재 마디의 부모 마디를 기억해 두어야 한다. \n",
    "부모 마디를 기억해 두기 위해 \n",
    "[4장 1부](https://codingalzi.github.io/algopy/notebooks/algopy04_BasicDataStructures_1.html)에서\n",
    "정의한 스택(stack)을 활용한다."
   ]
  },
  {
   "cell_type": "code",
   "execution_count": 5,
   "metadata": {},
   "outputs": [],
   "source": [
    "class Stack:\n",
    "    def __init__(self):\n",
    "        self._items = []\n",
    "\n",
    "    def __repr__(self):\n",
    "        return f\"<{self._items}>\"\n",
    "        \n",
    "    def is_empty(self):\n",
    "        return not bool(self._items)\n",
    "\n",
    "    def push(self, item):\n",
    "        self._items.append(item)\n",
    "\n",
    "    def pop(self):\n",
    "        return self._items.pop()\n",
    "\n",
    "    def peek(self):\n",
    "        return self._items[-1]\n",
    "\n",
    "    def size(self):\n",
    "        return len(self._items)"
   ]
  },
  {
   "cell_type": "markdown",
   "metadata": {},
   "source": [
    "자식 마디로 이동할 때마다 부모 노드를 스택에 저장하고,\n",
    "다시 돌아오면 스택의 탑(top)을 삭제하면서 동시에 해당 부모 마디를 사용한다.\n",
    "\n",
    "다음 `build_parse_tree()` 함수가 수식으로부터 \n",
    "방금 설명한 알고리즘을 이용하여 이진 트리를 생성한다. \n",
    "함수에 사용된 변수들의 역할은 다음과 같다.\n",
    "\n",
    "- `fp_expr`: 모든 연산은 괄호로 감싸이고 모든 토큰은 공백으로 구분된 수식 문자열\n",
    "- `fp_list`: 수식에 사용된 토큰(기호)들의 리스트. 공백 기준으로 쪼개짐.\n",
    "- `p_stack`: 부모 마디를 루트로 갖는 서브트리들의 스택\n",
    "- `expr_tree`: 생성되는 이진 트리. 계속 업데이트됨.\n",
    "- `current_tree`: 현재 생성과정에 있는 서브트리\n",
    "- `insert_left(\"\")`: 왼쪽 자식 마디 생성. 아직 마디에 들어갈 값은 미정.\n",
    "- `insert_right(\"\")`: 오른쪽 자식 마디 생성. 아직 마디에 들어갈 값은 미정."
   ]
  },
  {
   "cell_type": "code",
   "execution_count": 6,
   "metadata": {},
   "outputs": [],
   "source": [
    "def build_parse_tree(fp_expr):\n",
    "\n",
    "    # 수식으로부터 토큰들의 리스트 생성\n",
    "    fp_list = fp_expr.split()\n",
    "    # 부모 마디를 루트로 갖는 서브트리들의 스택\n",
    "    p_stack = Stack()\n",
    "    \n",
    "    # 생성 대상 이진트리. 하나의 비어 있는 마디로 시작.\n",
    "    expr_tree = BinaryTree(\"\")\n",
    "    \n",
    "    p_stack.push(expr_tree)\n",
    "    \n",
    "    # 현재 토큰을 루트로 갖는 구현 대상 서브트리\n",
    "    current_tree = expr_tree\n",
    "\n",
    "    for i in fp_list:\n",
    "        # 토큰: 여는 괄호\n",
    "        if i == \"(\":\n",
    "            current_tree.insert_left(\"\")\n",
    "            p_stack.push(current_tree)\n",
    "            current_tree = current_tree.left_child\n",
    "        \n",
    "        # 토큰: 연산 기호\n",
    "        elif i in [\"+\", \"-\", \"*\", \"/\"]:\n",
    "            current_tree.key = i\n",
    "            current_tree.insert_right(\"\")\n",
    "            p_stack.push(current_tree)\n",
    "            current_tree = current_tree.right_child\n",
    "\n",
    "        # 토큰: 닫는 괄호\n",
    "        elif i == \")\":\n",
    "            current_tree = p_stack.pop()\n",
    "\n",
    "        # 토큰: 정수 및 기타\n",
    "        elif i not in [\"+\", \"-\", \"*\", \"/\", \")\"]:\n",
    "            try:\n",
    "                current_tree.key = int(i)\n",
    "                parent = p_stack.pop()\n",
    "                current_tree = parent\n",
    "    \n",
    "            # 정수가 아닌 경우 오류 발생시킴\n",
    "            except ValueError:\n",
    "                raise ValueError(\"token '{}' is not a valid integer\".format(i))\n",
    "\n",
    "    return expr_tree"
   ]
  },
  {
   "cell_type": "markdown",
   "metadata": {},
   "source": [
    "$(3 + (4 * 5))$의 파스 트리는 다음과 같이 구현된다."
   ]
  },
  {
   "cell_type": "code",
   "execution_count": 7,
   "metadata": {},
   "outputs": [],
   "source": [
    "pt = build_parse_tree(\"( 3 + ( 4 * 5 ) )\")"
   ]
  },
  {
   "cell_type": "markdown",
   "metadata": {},
   "source": [
    "_**연습문제**_"
   ]
  },
  {
   "cell_type": "markdown",
   "metadata": {},
   "source": [
    "아래 수식을 파스 트리로 만드는 과정을 추적하라.\n",
    "    \n",
    "$$(4 * 8) / 6 - 3$$"
   ]
  },
  {
   "cell_type": "markdown",
   "metadata": {},
   "source": [
    "### 수식 파스 트리 해석"
   ]
  },
  {
   "cell_type": "markdown",
   "metadata": {},
   "source": [
    "파스 트리로 구현된 수식을 계산하는 \n",
    "수식 파스 트리 해석 함수는 다음과 같이 재귀를 이용하여 간단하게 구현할 수 있다."
   ]
  },
  {
   "cell_type": "code",
   "execution_count": 8,
   "metadata": {},
   "outputs": [],
   "source": [
    "import operator\n",
    "\n",
    "def evaluate(parse_tree):\n",
    "    operators = {\n",
    "        \"+\": operator.add,\n",
    "        \"-\": operator.sub,\n",
    "        \"*\": operator.mul,\n",
    "        \"/\": operator.truediv,\n",
    "    }\n",
    "    \n",
    "    # 재귀 적용 대상: 좌우 자식 서브트리\n",
    "    left_child = parse_tree.left_child\n",
    "    right_child = parse_tree.right_child\n",
    "\n",
    "    # 자식 서브트리 먼저 계산 후 연산자 적용. 왼쪽 먼저.\n",
    "    if left_child and right_child:\n",
    "        \n",
    "        left_eval = evaluate(left_child)\n",
    "        right_eval = evaluate(right_child)\n",
    "        fn = operators[parse_tree.key]\n",
    "        \n",
    "        return fn(left_eval, right_eval)\n",
    "\n",
    "    else:\n",
    "        return parse_tree.key"
   ]
  },
  {
   "cell_type": "code",
   "execution_count": 9,
   "metadata": {},
   "outputs": [
    {
     "data": {
      "text/plain": [
       "23"
      ]
     },
     "execution_count": 9,
     "metadata": {},
     "output_type": "execute_result"
    }
   ],
   "source": [
    "evaluate(pt)"
   ]
  },
  {
   "cell_type": "markdown",
   "metadata": {},
   "source": [
    "실제로 다음이 성립한다.\n",
    "\n",
    "**참고**: `eval()` 함수는 함수가 사용된 수식 문자열을 실제로 계산한다."
   ]
  },
  {
   "cell_type": "code",
   "execution_count": 10,
   "metadata": {},
   "outputs": [
    {
     "data": {
      "text/plain": [
       "True"
      ]
     },
     "execution_count": 10,
     "metadata": {},
     "output_type": "execute_result"
    }
   ],
   "source": [
    "evaluate(pt) == eval(\"( 3 + ( 4 * 5 ) )\")"
   ]
  },
  {
   "cell_type": "markdown",
   "metadata": {},
   "source": [
    "### 수식 복원"
   ]
  },
  {
   "cell_type": "markdown",
   "metadata": {},
   "source": [
    "수식의 파스 트리에서 수식을 복원하는 것 또한 재귀를 이용하여\n",
    "간단하게 구현된다."
   ]
  },
  {
   "cell_type": "code",
   "execution_count": 11,
   "metadata": {},
   "outputs": [],
   "source": [
    "def print_exp(parse_tree):\n",
    "    result = \"\"\n",
    "\n",
    "    if parse_tree:\n",
    "        # 왼쪽 자식 서브트리 먼저 순회\n",
    "        result = \"(\" + print_exp(parse_tree.get_left_child())\n",
    "\n",
    "        # 연산자 기호 표시\n",
    "        result = result + str(parse_tree.get_root_val())\n",
    "        \n",
    "        # 이어서 오른쪽 자식 서브트리 순회\n",
    "        result = result + print_exp(parse_tree.get_right_child()) + \")\"\n",
    "    \n",
    "    return result"
   ]
  },
  {
   "cell_type": "code",
   "execution_count": 12,
   "metadata": {},
   "outputs": [
    {
     "data": {
      "text/plain": [
       "'((3)+((4)*(5)))'"
      ]
     },
     "execution_count": 12,
     "metadata": {},
     "output_type": "execute_result"
    }
   ],
   "source": [
    "print_exp(pt)"
   ]
  },
  {
   "cell_type": "markdown",
   "metadata": {},
   "source": [
    "정수를 괄호로 감싸지 않으려면 자식이 있는지 없는지 여부를 활용한다. "
   ]
  },
  {
   "cell_type": "code",
   "execution_count": 13,
   "metadata": {},
   "outputs": [],
   "source": [
    "def print_exp(parse_tree):\n",
    "    result = \"\"\n",
    "\n",
    "    if parse_tree:\n",
    "        # 왼쪽 자식 서브트리 먼저 순회\n",
    "        if parse_tree.get_left_child():\n",
    "            result = \"(\" + print_exp(parse_tree.get_left_child())\n",
    "        else:\n",
    "            result = print_exp(parse_tree.get_left_child())\n",
    "\n",
    "        # 연산자 기호 표시\n",
    "        result = result + str(parse_tree.get_root_val())\n",
    "        \n",
    "        # 이어서 오른쪽 자식 서브트리 먼저 순회\n",
    "        if parse_tree.get_right_child():\n",
    "            result = result + print_exp(parse_tree.get_right_child()) + \")\"\n",
    "        else:\n",
    "            result = result + print_exp(parse_tree.get_right_child())\n",
    "    \n",
    "    return result"
   ]
  },
  {
   "cell_type": "code",
   "execution_count": 14,
   "metadata": {},
   "outputs": [
    {
     "data": {
      "text/plain": [
       "'(3+(4*5))'"
      ]
     },
     "execution_count": 14,
     "metadata": {},
     "output_type": "execute_result"
    }
   ],
   "source": [
    "print_exp(pt)"
   ]
  },
  {
   "cell_type": "markdown",
   "metadata": {},
   "source": [
    "## 트리 순회"
   ]
  },
  {
   "cell_type": "markdown",
   "metadata": {},
   "source": [
    "**트리 순회**(tree traversal)는 트리의 마디를 모두 방문하는 과정이다.\n",
    "트리 순회에 사용되는 전형적인 세 가지 재귀 방식은 다음과 같으며,\n",
    "부모 마디의 방문 순서에 따라 재귀 알고리즘이 달라지며\n",
    "왼쪽 자식 마디는 항상 오른쪽 자식 마디보다 먼저 방문된다.\n",
    "\n",
    "- 전위순회(preorder traversal): 부모 마디, 왼쪽 자식 마디, 오른쪽 자식 마디 순의 재귀적 순회\n",
    "- 중위순회(inorder traversal): 왼쪽 자식 마디, 부모 마디, 오른쪽 자식 마디 순의 재귀적 순회\n",
    "- 후위순회(postorder traversal): 왼쪽 자식 마디, 오른쪽 자식 마디, 부모 마디 순의 재귀적 순회"
   ]
  },
  {
   "cell_type": "markdown",
   "metadata": {},
   "source": [
    "**예제: 전위순회**"
   ]
  },
  {
   "cell_type": "markdown",
   "metadata": {},
   "source": [
    "하스켈(Haskell) 프로그래밍언어 등의 소극적 계산(lazy evaluation)과\n",
    "관련된 게산방식을 사용할 때 활용된다.\n",
    "파이썬의 경우 `and`, `or` 등의 논리 연산자가 작동하는 방식과 유사하다.\n",
    "이유는 기타 함수와는 달리 `and`와 `or` 논리 연산자는 모든 인자를 무조건 \n",
    "먼저 확인하지는 않기 때문이다."
   ]
  },
  {
   "cell_type": "code",
   "execution_count": 15,
   "metadata": {},
   "outputs": [
    {
     "data": {
      "text/plain": [
       "False"
      ]
     },
     "execution_count": 15,
     "metadata": {},
     "output_type": "execute_result"
    }
   ],
   "source": [
    "False and (1/0 == 1)"
   ]
  },
  {
   "cell_type": "code",
   "execution_count": 16,
   "metadata": {},
   "outputs": [
    {
     "data": {
      "text/plain": [
       "True"
      ]
     },
     "execution_count": 16,
     "metadata": {},
     "output_type": "execute_result"
    }
   ],
   "source": [
    "True or (1/0 == 1)"
   ]
  },
  {
   "cell_type": "markdown",
   "metadata": {},
   "source": [
    "반면에 아래와 같이 정의하면 모든 인자를 먼저 확인한다."
   ]
  },
  {
   "cell_type": "code",
   "execution_count": 17,
   "metadata": {},
   "outputs": [],
   "source": [
    "def and_op(x, y):\n",
    "    return x and y"
   ]
  },
  {
   "cell_type": "code",
   "execution_count": 18,
   "metadata": {},
   "outputs": [
    {
     "name": "stdout",
     "output_type": "stream",
     "text": [
      "둘째 인자에 문제가 있습니다.\n"
     ]
    }
   ],
   "source": [
    "try: \n",
    "    and_op(False, 1/0==1)\n",
    "except:\n",
    "    print(\"둘째 인자에 문제가 있습니다.\")"
   ]
  },
  {
   "cell_type": "markdown",
   "metadata": {},
   "source": [
    "또 다른 예제는 클래스의 메서도를 호출할 때도 전위순회 방식을 사용한다.\n",
    "이유는 호출되는 메서드가 해당 클래스에서 정의되었는가를 먼저 확인해야 하기 때문이다."
   ]
  },
  {
   "cell_type": "markdown",
   "metadata": {},
   "source": [
    "**예제: 중위순회**"
   ]
  },
  {
   "cell_type": "markdown",
   "metadata": {},
   "source": [
    "중위 연산자(infix operator)를 이용한 수식 표현에 일반적으로 사용되는 방식이다.\n",
    "예를 들어, `print_exp()` 함수가 사용하는 재귀는 파스 트리의 마디를 \n",
    "아래 우선 순위를 기준으로 재귀적으로 방문한다. \n",
    "\n",
    "- 왼쪽 자식 마디 \n",
    "- 부모 마디\n",
    "- 오른쪽 자식 마디"
   ]
  },
  {
   "cell_type": "markdown",
   "metadata": {},
   "source": [
    "**예제: 후위순회**"
   ]
  },
  {
   "cell_type": "markdown",
   "metadata": {},
   "source": [
    "수식이 계산되는 기본적인 방식이다. \n",
    "예를 들어 `evaluate()` 함수가 사용하는 재귀는 파스 트리의 마디를 \n",
    "아래 우선 순위를 기준으로 재귀적으로 방문한다. \n",
    "\n",
    "- 왼쪽 자식 마디\n",
    "- 오른쪽 자식 마디\n",
    "- 부모 마디"
   ]
  },
  {
   "cell_type": "markdown",
   "metadata": {},
   "source": [
    "## 바이너리 힙과 우선순위 큐"
   ]
  },
  {
   "cell_type": "markdown",
   "metadata": {},
   "source": [
    "**우선순위 큐**(priority queue)는 큐의 탑(top) 위치에 \n",
    "최대 힙(max heap)의 경우 우선순위가 가장 높은 항목이,\n",
    "최소 힙(min heap)의 경우 우선순위가 가장 낮은 항목이 위치하도록 한다.\n",
    "즉, (지정된 기준에 따른) **우선순위(key)**에 따라 큐에 포함된 항목의 위치가 정해진다. \n",
    "핵심은 항목을 큐에 추가거나 제거할 때 우선순위가 반영되도록 하는 것이다. \n",
    "우선순위 큐는 특정 그래프 알고리즘에서 유용하게 활용된다.\n",
    "\n",
    "여기서는 **바이너리 힙**(binary heap)을 이용하여 우선순위 큐를 구현한다.\n",
    "바이너리 힙은 이진트리 형식을 따르지만 내부적으로는 리스트를 이용한다는 측면에서 매우 흥미로운 자료구조이다.\n",
    "\n",
    "리스트에 항목을 추가한 후에 정렬하는 방식으로 우선순위 큐를 구현할 수 있다.\n",
    "하지만 정렬 시간복잡도가 $O(n \\log n)$ 이기에 항목 추가에 비용이 많이 든다.\n",
    "여기서는 바이너리 힙을 이용하여 항목 추가와 제거 모두 $O(\\log n)$ 시간복잡도를 갖도록 할 수\n",
    "있다는 것을 보여준다."
   ]
  },
  {
   "cell_type": "markdown",
   "metadata": {},
   "source": [
    "### 바이너리 힙 추상 자료형"
   ]
  },
  {
   "cell_type": "markdown",
   "metadata": {},
   "source": [
    "바이너리 힙 추상 자료형은 기본적으로 아래 기능을 제공해야 한다.\n",
    "\n",
    "- `insert(k)`: 항목 추가\n",
    "- `get_min()`: 최저 우선순위 항목 반환. 제거하지는 않음.\n",
    "- `delete()`: 최저 우선순위 항목을 반환하면서 동시에 힙에서 삭제\n",
    "- `is_empty()`: 힙이 비어있는지 여부 판단\n",
    "- `size()`: 힙에 포함된 항목 개수 반환\n",
    "- `heapify(list)`: 리스트로부터 힙 생성하기"
   ]
  },
  {
   "cell_type": "markdown",
   "metadata": {},
   "source": [
    "### 바이너리 힙 구현"
   ]
  },
  {
   "cell_type": "markdown",
   "metadata": {},
   "source": [
    "#### 완전 이진트리"
   ]
  },
  {
   "cell_type": "markdown",
   "metadata": {},
   "source": [
    "항목의 추가와 탑 항목의 삭제를 모두 $O(\\log n)$으로 처리하기 위해\n",
    "**균형 이진트리**(balanece binary tree)를 활용한다.\n",
    "균형 이진트리는 좌우 자식 마디의 개수가 거의 같은 이진트리이다.\n",
    "\n",
    "여기서는 **완전 이진트리**(complete binary tree)를 균형 이진트리로 사용한다.\n",
    "완전 이진트리는 아래 그림처럼 잎 마디를 제외는 모든 레벨의 마디가 좌우 자식 마디 모두를\n",
    "갖는 이진트리이다."
   ]
  },
  {
   "cell_type": "markdown",
   "metadata": {},
   "source": [
    "<figure>\n",
    "<div align=\"center\"><img src=\"https://runestone.academy/runestone/books/published/pythonds3/_images/compTree.png\" width=\"70%\"></div>\n",
    "</figure>"
   ]
  },
  {
   "cell_type": "markdown",
   "metadata": {},
   "source": [
    "완전 이진트리의 장점은 1차원 리스트로 간단하게 구현할 수 있다는 점이다. \n",
    "부모 마디의 인덱스가 `p`일 때, 좌우 자식 마디의 인덱스는 각각 \n",
    "`2p + 1`과 `2p + 2`로 사용한다.\n",
    "따라서 `n` 번 인덱스에 위치한 마디의 부모 마디는 `(n-1)//2` 번 인덱스에 위치한다.\n",
    "이 성질을 이용하면 바이너리 힙을 간단하게 구현할 수 있다."
   ]
  },
  {
   "cell_type": "markdown",
   "metadata": {},
   "source": [
    "#### 바이너리 힙 특성"
   ]
  },
  {
   "cell_type": "markdown",
   "metadata": {},
   "source": [
    "바이너리 힙은 부모 마디의 키(key)가 항상 자식 마디의 키보다 작은 이진트리이다.\n",
    "앞서 본 완전 이진트리가 하나의 바이너리 힙이며,\n",
    "1차원 리스트로 구현된 바이너리 힙의 내부 구조는 아래 그림에서와 같은\n",
    "리스트와 같다."
   ]
  },
  {
   "cell_type": "markdown",
   "metadata": {},
   "source": [
    "<figure>\n",
    "<div align=\"center\"><img src=\"https://runestone.academy/runestone/books/published/pythonds3/_images/heapOrder.png\" width=\"72%\"></div>\n",
    "</figure>"
   ]
  },
  {
   "cell_type": "markdown",
   "metadata": {},
   "source": [
    "바이너리 힙 구현의 핵심은 추가되는 새로운 항목을 적절한 위치에 저장하는 것과\n",
    "탑 항목을 삭제할 때 바이너리 힙 특성을 유지하는 것이다. "
   ]
  },
  {
   "cell_type": "markdown",
   "metadata": {},
   "source": [
    "#### 항목 추가: 상승 침투"
   ]
  },
  {
   "cell_type": "markdown",
   "metadata": {},
   "source": [
    "아래 그림은 새로운 항목을 먼저 리스트의 맨 끝에 추가한 다음에 적절한 위치로 \n",
    "이동시키는 과정을 보여준다.\n",
    "\n",
    "- 새로운 항목을 리스트 마지막 항목에 추가한다.\n",
    "- 부모 마디의 키와 비교하여 보다 작으면 자리를 교환하는\n",
    "    **상승 침투**(percolation up) 과정을 가능할 때까지 반복한다."
   ]
  },
  {
   "cell_type": "markdown",
   "metadata": {},
   "source": [
    "<figure>\n",
    "<div align=\"center\"><img src=\"https://runestone.academy/runestone/books/published/pythonds3/_images/percUp.png\" width=\"72%\"></div>\n",
    "</figure>"
   ]
  },
  {
   "cell_type": "markdown",
   "metadata": {},
   "source": [
    "#### 탑 항목 삭제: 하강 침투"
   ]
  },
  {
   "cell_type": "markdown",
   "metadata": {},
   "source": [
    "아래 그림은 탑 항목을 삭제한 후에 바이너리 힙 특성을 맞추는 과정을 보여준다.\n",
    "\n",
    "- 탑 항목 삭제: 맨 마지막 항목과 탑 항목을 교환하면서 동시에 마지막 항목을 삭제한다.\n",
    "- 탑 항목을 두 자식 마디의 키와 비교하여 보자 작은 값을 가진 자식 마디와 자리를\n",
    "    교환하는 **하강 침투**(percolation up) 과정을 가능할 때까지 반복한다."
   ]
  },
  {
   "cell_type": "markdown",
   "metadata": {},
   "source": [
    "<figure>\n",
    "<div align=\"center\"><img src=\"https://runestone.academy/runestone/books/published/pythonds3/_images/percDown.png\" width=\"72%\"></div>\n",
    "</figure>"
   ]
  },
  {
   "cell_type": "markdown",
   "metadata": {},
   "source": [
    "#### 리스트 활용 힙 생성"
   ]
  },
  {
   "cell_type": "markdown",
   "metadata": {},
   "source": [
    "아래 그림은 리스트로부터 힙을 생성하는 과정을 보여준다.\n",
    "\n",
    "- 리스트의 마지막 항목의 부모 마디에서 시작한다.\n",
    "- 해당 마디에 대해 하강 침투를 수행한 후 원래 마디의 왼편에 위치한 마디에 대해 동일과정을 반복한다."
   ]
  },
  {
   "cell_type": "markdown",
   "metadata": {},
   "source": [
    "<figure>\n",
    "<div align=\"center\"><img src=\"https://runestone.academy/runestone/books/published/pythonds3/_images/buildheap.png\" width=\"90%\"></div>\n",
    "</figure>"
   ]
  },
  {
   "cell_type": "markdown",
   "metadata": {},
   "source": [
    "지금까지 설명한 바이너리 힙의 특성을 \n",
    "`BinaryHeap` 클래스의 메서드로 구현한 결과는 다음과 같다."
   ]
  },
  {
   "cell_type": "code",
   "execution_count": 19,
   "metadata": {},
   "outputs": [],
   "source": [
    "class BinaryHeap:\n",
    "    \n",
    "    # 생성자: 빈 리스트 활용.\n",
    "    def __init__(self):\n",
    "        self._heap = []\n",
    "\n",
    "    # 상승 침투\n",
    "    def _perc_up(self, cur_idx):\n",
    "        while (cur_idx - 1) // 2 >= 0:\n",
    "            parent_idx = (cur_idx - 1) // 2\n",
    "            if self._heap[cur_idx] < self._heap[parent_idx]:\n",
    "                self._heap[cur_idx], self._heap[parent_idx] = (\n",
    "                    self._heap[parent_idx],\n",
    "                    self._heap[cur_idx],\n",
    "                )\n",
    "            cur_idx = parent_idx\n",
    "\n",
    "    # 하강 침투\n",
    "    def _perc_down(self, cur_idx):\n",
    "        while 2 * cur_idx + 1 < len(self._heap):\n",
    "            min_child_idx = self._get_min_child(cur_idx)\n",
    "            if self._heap[cur_idx] > self._heap[min_child_idx]:\n",
    "                self._heap[cur_idx], self._heap[min_child_idx] = (\n",
    "                    self._heap[min_child_idx],\n",
    "                    self._heap[cur_idx],\n",
    "                )\n",
    "            else:\n",
    "                return\n",
    "            cur_idx = min_child_idx\n",
    "    \n",
    "    # 자식 마디 중 최소 마디의 인덱스\n",
    "    def _get_min_child(self, parent_idx):\n",
    "        if 2 * parent_idx + 2 > len(self._heap) - 1:\n",
    "            return 2 * parent_idx + 1\n",
    "        if self._heap[2 * parent_idx + 1] < self._heap[2 * parent_idx + 2]:\n",
    "            return 2 * parent_idx + 1\n",
    "        return 2 * parent_idx + 2\n",
    "\n",
    "    # 리스트로부터 힙 생성\n",
    "    def heapify(self, not_a_heap):\n",
    "        self._heap = not_a_heap[:]\n",
    "        cur_idx = len(self._heap) // 2 - 1 # 리스트 마지막 항목의 부모 마디\n",
    "        while cur_idx >= 0:\n",
    "            self._perc_down(cur_idx)\n",
    "            cur_idx = cur_idx - 1\n",
    "\n",
    "    # 탑 항목 확인(최솟값)\n",
    "    def get_min(self):\n",
    "        return self._heap[0]\n",
    "\n",
    "    # 항목 추가: 상승 침투 활용\n",
    "    def insert(self, item):\n",
    "        self._heap.append(item)\n",
    "        self._perc_up(len(self._heap) - 1)\n",
    "\n",
    "    # 탑 항목 삭제: 하강 침투 활용\n",
    "    def delete(self):\n",
    "        self._heap[0], self._heap[-1] = self._heap[-1], self._heap[0]\n",
    "        result = self._heap.pop()\n",
    "        self._perc_down(0)\n",
    "        return result\n",
    "\n",
    "    # 바이너리 힙이 비어있는지 여부 판단\n",
    "    def is_empty(self):\n",
    "        return not bool(self._heap)\n",
    "\n",
    "    # 항목 개수\n",
    "    def __len__(self):\n",
    "        return len(self._heap)\n",
    "\n",
    "    # 힙 표시\n",
    "    def __str__(self):\n",
    "        return str(self._heap)"
   ]
  },
  {
   "cell_type": "markdown",
   "metadata": {},
   "source": [
    "**예제**\n",
    "\n",
    "리스트로부터 바이너리 힙을 생성한 후에 탑 항목을 차례대로 제거해본다."
   ]
  },
  {
   "cell_type": "code",
   "execution_count": 20,
   "metadata": {},
   "outputs": [
    {
     "name": "stdout",
     "output_type": "stream",
     "text": [
      "2\n",
      "3\n",
      "5\n",
      "6\n",
      "9\n"
     ]
    }
   ],
   "source": [
    "a_heap = BinaryHeap()\n",
    "a_heap.heapify([9, 6, 5, 2, 3])\n",
    "\n",
    "while not a_heap.is_empty():\n",
    "    print(a_heap.delete())"
   ]
  },
  {
   "cell_type": "markdown",
   "metadata": {},
   "source": [
    "#### `heapify()` 함수의 시간복잡도"
   ]
  },
  {
   "cell_type": "markdown",
   "metadata": {},
   "source": [
    "길이가 $n$인 리스트로부터 바이너리 힙을 생성하는 데 걸리는 시간은 $O(n)$이다.\n",
    "하지만 이에 대한 증명은 간단하지 않아 여기서는 다루지 않는다.\n",
    "다만, 바이너리 힙의 높이가 $\\log n$이기에 매 마디에 대해 하강 침투는 최대\n",
    "$\\log n$번 이루어진다는 사실은 기억해 두어야 한다."
   ]
  },
  {
   "cell_type": "markdown",
   "metadata": {},
   "source": [
    "### 우선순위 큐 구현"
   ]
  },
  {
   "cell_type": "markdown",
   "metadata": {},
   "source": [
    "`BinaryHeap` 클래스를 상속하여 `PriorityQueue` 클래스를 간단하게 구현한다. "
   ]
  },
  {
   "cell_type": "code",
   "execution_count": 21,
   "metadata": {},
   "outputs": [],
   "source": [
    "class PriotiryQueue(BinaryHeap):\n",
    "    \n",
    "    # 생성자: 빈 리스트 활용.\n",
    "    def __init__(self):\n",
    "        super().__init__()\n",
    "        \n",
    "    def __repr__(self):\n",
    "        \"\"\"큐 표기법: <<[1, 2, 3]>> 등등\"\"\"\n",
    "        return self.__str__()\n",
    "    \n",
    "    def is_empty(self):\n",
    "        \"\"\"비었는지 여부 확인\"\"\"\n",
    "        return not bool(self._heap)\n",
    "\n",
    "    def enqueue(self, item):\n",
    "        \"\"\"꼬리에 항목 추가\"\"\"\n",
    "        self.insert(item)\n",
    "\n",
    "    def dequeue(self):\n",
    "        \"\"\"머리 항목 삭제\"\"\"\n",
    "        return self.delete()\n",
    "\n",
    "    def size(self):\n",
    "        \"\"\"항목 개수 확인\"\"\"\n",
    "        return len(self._heap)"
   ]
  },
  {
   "cell_type": "code",
   "execution_count": 22,
   "metadata": {},
   "outputs": [],
   "source": [
    "a_pQue = PriotiryQueue()\n",
    "a_pQue.heapify([9, 6, 5, 2, 3])"
   ]
  },
  {
   "cell_type": "code",
   "execution_count": 23,
   "metadata": {},
   "outputs": [
    {
     "name": "stdout",
     "output_type": "stream",
     "text": [
      "[2, 3, 5, 6, 9]\n"
     ]
    }
   ],
   "source": [
    "print(a_pQue)"
   ]
  },
  {
   "cell_type": "code",
   "execution_count": 24,
   "metadata": {},
   "outputs": [
    {
     "data": {
      "text/plain": [
       "[2, 3, 5, 6, 9, 7]"
      ]
     },
     "execution_count": 24,
     "metadata": {},
     "output_type": "execute_result"
    }
   ],
   "source": [
    "a_pQue.enqueue(7)\n",
    "a_pQue"
   ]
  },
  {
   "cell_type": "code",
   "execution_count": 25,
   "metadata": {},
   "outputs": [
    {
     "data": {
      "text/plain": [
       "[2, 3, 4, 6, 9, 7, 5]"
      ]
     },
     "execution_count": 25,
     "metadata": {},
     "output_type": "execute_result"
    }
   ],
   "source": [
    "a_pQue.enqueue(4)\n",
    "a_pQue"
   ]
  },
  {
   "cell_type": "code",
   "execution_count": 26,
   "metadata": {},
   "outputs": [
    {
     "data": {
      "text/plain": [
       "2"
      ]
     },
     "execution_count": 26,
     "metadata": {},
     "output_type": "execute_result"
    }
   ],
   "source": [
    "a_pQue.dequeue()"
   ]
  },
  {
   "cell_type": "code",
   "execution_count": 27,
   "metadata": {},
   "outputs": [
    {
     "data": {
      "text/plain": [
       "[3, 5, 4, 6, 9, 7]"
      ]
     },
     "execution_count": 27,
     "metadata": {},
     "output_type": "execute_result"
    }
   ],
   "source": [
    "a_pQue"
   ]
  },
  {
   "cell_type": "code",
   "execution_count": 28,
   "metadata": {},
   "outputs": [
    {
     "data": {
      "text/plain": [
       "3"
      ]
     },
     "execution_count": 28,
     "metadata": {},
     "output_type": "execute_result"
    }
   ],
   "source": [
    "a_pQue.dequeue()"
   ]
  },
  {
   "cell_type": "code",
   "execution_count": 29,
   "metadata": {},
   "outputs": [
    {
     "data": {
      "text/plain": [
       "[4, 5, 7, 6, 9]"
      ]
     },
     "execution_count": 29,
     "metadata": {},
     "output_type": "execute_result"
    }
   ],
   "source": [
    "a_pQue"
   ]
  },
  {
   "cell_type": "markdown",
   "metadata": {},
   "source": [
    "**연습문제**"
   ]
  },
  {
   "cell_type": "markdown",
   "metadata": {},
   "source": [
    "1. 정수들의 리스트를 임의로 생성한 후에 리스트의 원소들을 순서대로 하나씩\n",
    "    바이너리 힙에 추가한 결과를 트리 모양으로 그려라.\n",
    "\n",
    "1. 이전 문제에서 생성된 바이너리 힙과 사용된 리스트를 `heapify()` 함수의 인자로 활용하여\n",
    "    생성된 바이너리 힙을 비교하는 그림을 그려라.\n",
    "    \n",
    "1. `[1, 2, 3, 4, 5, 6, 7, 8, 9, 10]`에 포함된 항목을 차례대로 하나씩 \n",
    "    바이너리 힙에 추가한 결과를 그려라.\n",
    "\n",
    "1. `[10, 9, 8, 7, 6, 5, 4, 3, 2, 1]`에 포함된 항목을 차례대로 하나씩 \n",
    "    바이너리 힙에 추가한 결과를 그려라."
   ]
  },
  {
   "cell_type": "markdown",
   "metadata": {},
   "source": [
    "## 프로그래밍 실습 과제"
   ]
  },
  {
   "cell_type": "markdown",
   "metadata": {},
   "source": [
    "1. 두 문자 사이에 공백이 없는 수식 문자열에 대해서도 \n",
    "    `build_parse_tree()` 함수가 작동하도록 알고리즘을 수정하라.\n",
    "\n",
    "1. `and`, `or`, `not`을 사용하는 논리 표현식에 대해 작동하는 \n",
    "    `build_parse_tree()` 함수와 `evaluate()` 함수를 구현하라.\n",
    "    `not` 연산자는 하나의 인자만 사용함에 주의하라.\n",
    "1. `heapify()` 메서드를 활용하여 $O(n\\log{n})$의 시간복잡도를 갖는 정렬 알고리즘을 구현하라.\n",
    "\n",
    "1. `n` 개의 중요한 항목만 저장하는 바이너리 힙을 구현하라.\n",
    "    즉, 바이너리 힙의 크기가 `n`보다 커지면 새로운 항목이 추가될 때\n",
    "    중요도가 가장 떨어지는 항목을 먼저 삭제한다.\n",
    "\n",
    "1. 최대 힙(max heap)으로 바이너리 힙을 구현하라."
   ]
  }
 ],
 "metadata": {
  "kernelspec": {
   "display_name": "Python 3 (ipykernel)",
   "language": "python",
   "name": "python3"
  },
  "language_info": {
   "codemirror_mode": {
    "name": "ipython",
    "version": 3
   },
   "file_extension": ".py",
   "mimetype": "text/x-python",
   "name": "python",
   "nbconvert_exporter": "python",
   "pygments_lexer": "ipython3",
   "version": "3.10.9"
  }
 },
 "nbformat": 4,
 "nbformat_minor": 4
}