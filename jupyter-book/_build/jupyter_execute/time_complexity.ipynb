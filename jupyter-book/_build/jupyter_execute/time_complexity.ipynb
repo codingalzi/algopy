{
 "cells": [
  {
   "cell_type": "markdown",
   "metadata": {},
   "source": [
    "(sec:time_complexity)=\n",
    "# 시간 복잡도"
   ]
  },
  {
   "cell_type": "markdown",
   "metadata": {},
   "source": [
    "**슬라이드**\n",
    "\n",
    "본문 내용을 요약한 [슬라이드](https://github.com/codingalzi/algopy/raw/master/slides/slides-time_complexity.pdf)를 다운로드할 수 있다."
   ]
  },
  {
   "cell_type": "markdown",
   "metadata": {},
   "source": [
    "**주요 내용**\n",
    "\n",
    "- 알고리즘 분석\n",
    "- 시간 복잡도와 \"Big-O\" 표기법\n",
    "- 최선, 최악, 평균 시간 복잡도"
   ]
  },
  {
   "cell_type": "markdown",
   "metadata": {},
   "source": [
    "## 알고리즘 분석"
   ]
  },
  {
   "cell_type": "markdown",
   "metadata": {},
   "source": [
    "동일한 문제를 해결하는 프로그램 두 개의 성능을 어떻게 비교할 수 있을까? 라는 질문에 대답하려면 \n",
    "먼저 **알고리즘**과 **프로그램**의 차이점을 이해해야 한다. \n",
    "\n",
    "- 알고리즘\n",
    "    - 주어진 **문제를 해결하기 위한 절차**의 단계별 설명서.\n",
    "    - 주어진 문제의 모든 사례를 해결할 수 있어야 함.\n",
    "    - 예제: 최대공약수 구하기 문제를 해결하는 알고리즘은 임의의 두 정수의 최대공약수를 계산해야 함.\n",
    "    - 특정 프로그래밍언어 또는 프로그램 구현 방식과 무관함\n",
    "    - 주어진 문제를 해결하는 여러 종류의 알고리즘 존재 가능\n",
    "- (컴퓨터) 프로그램\n",
    "    - 주어진 문제를 해결하기 위해 **특정** 프로그래밍언어로 작성되어 실행이 가능한 코드\n",
    "    - 사용하는 프로그래밍언어와 작성자에 따른 여러 종류의 프로그램 존재\n",
    "    - 프로그램의 핵심은 문제해결을 위한 특정 알고리즘!\n",
    "    - 동일한 알고리즘을 이용하더라도 다르게 보이는 프로그램 구현 가능"
   ]
  },
  {
   "cell_type": "markdown",
   "metadata": {},
   "source": [
    "### 문제와 알고리즘"
   ]
  },
  {
   "cell_type": "markdown",
   "metadata": {},
   "source": [
    "**문제 하나, 알고리즘 여러 개**"
   ]
  },
  {
   "cell_type": "markdown",
   "metadata": {},
   "source": [
    "예를 들어, '두 정수의 최대공약수 구하기' **문제**를 해결하는 **알고리즘**은 \n",
    "임의의 두 정수에 대해 동일한 방식으로 최대공약수를 구해야 한다.\n",
    "즉, 문제를 해결하는 알고리즘은 **문제의 특정 사례**에 의존하지 않아야 한다."
   ]
  },
  {
   "cell_type": "markdown",
   "metadata": {},
   "source": [
    "주어진 문제를 해결하는 여러 개의 알고리즘이 존재할 수 있다. \n",
    "아래 예제는 최대공약수 구하기 문제를 해결하는 두 개의 알고리즘을 보여준다."
   ]
  },
  {
   "cell_type": "markdown",
   "metadata": {},
   "source": [
    "- 알고리즘 1: 초등학교에서 배운 방식\n",
    "\n",
    "<div align=\"center\"><img src=\"https://raw.githubusercontent.com/codingalzi/algopy/master/notebooks/_images/gcd_school.png\" width=\"50%\"></div>\n",
    "\n",
    "<그림 출처: [아자수학](https://m.blog.naver.com/ict79/221927999240)>"
   ]
  },
  {
   "cell_type": "markdown",
   "metadata": {},
   "source": [
    "- 알고리즘 2: 유클리드 호제법 방식\n",
    "\n",
    "<div align=\"center\"><img src=\"https://raw.githubusercontent.com/codingalzi/algopy/master/notebooks/_images/gcd_euclid.jpg\" width=\"50%\"></div>\n",
    "\n",
    "<그림 출처: [SlidePlayer](https://slidesplayer.org/slide/16641555/)>"
   ]
  },
  {
   "cell_type": "markdown",
   "metadata": {},
   "source": [
    "**알고리즘 하나, 프로그램 여러 개**"
   ]
  },
  {
   "cell_type": "markdown",
   "metadata": {},
   "source": [
    "동일한 문제를 해결하는 두 개의 프로그램이 다르게 구현되었다고 해서 \n",
    "반드시 다른 알고리즘을 사용한 것이 아닐 수도 있다.\n",
    "이어지는 예제는 동일한 알고리즘을 사용하는 두 개의 다른 프로그램을 보여준다."
   ]
  },
  {
   "cell_type": "markdown",
   "metadata": {},
   "source": [
    "아래 두 개의 프로그램은 모두 양의 정수 n이 주어졌을 때 1부터 n까지를 대상으로 \n",
    "차례대로 더해가는 알고리즘을 구현한다.\n",
    "<프로그램 1>은 매우 명료하게 작성되었다. 반면에 <프로그램 2>는 그렇지 않다.\n",
    "무엇보다도 변수 이름이 적절하지 않고, 또 굳이 필요하지 않은 변수를 반복과정에서 사용한다."
   ]
  },
  {
   "cell_type": "markdown",
   "metadata": {},
   "source": [
    "- 프로그램 1"
   ]
  },
  {
   "cell_type": "code",
   "execution_count": 1,
   "metadata": {},
   "outputs": [],
   "source": [
    "def sum_of_n(n):\n",
    "    the_sum = 0\n",
    "    for i in range(1, n + 1):\n",
    "        the_sum = the_sum + i\n",
    "\n",
    "    return the_sum"
   ]
  },
  {
   "cell_type": "code",
   "execution_count": 2,
   "metadata": {},
   "outputs": [
    {
     "name": "stdout",
     "output_type": "stream",
     "text": [
      "55\n"
     ]
    }
   ],
   "source": [
    "print(sum_of_n(10))"
   ]
  },
  {
   "cell_type": "markdown",
   "metadata": {},
   "source": [
    "- 프로그램 2"
   ]
  },
  {
   "cell_type": "code",
   "execution_count": 3,
   "metadata": {},
   "outputs": [],
   "source": [
    "def foo(tom):\n",
    "    fred = 0\n",
    "    for bill in range(1, tom + 1):\n",
    "        barney = bill\n",
    "        fred = fred + barney\n",
    "\n",
    "    return fred"
   ]
  },
  {
   "cell_type": "code",
   "execution_count": 4,
   "metadata": {},
   "outputs": [
    {
     "name": "stdout",
     "output_type": "stream",
     "text": [
      "55\n"
     ]
    }
   ],
   "source": [
    "print(foo(10))"
   ]
  },
  {
   "cell_type": "markdown",
   "metadata": {},
   "source": [
    "두 프로그램 중에서 어떤 프로그램이 보다 좋은 프로그램인가?\n",
    "가독성, 명료성 등을 기준으로 보면 <프로그램 1>이 보다 좋은 프로그램이다. \n",
    "가독성, 명료성이 물론 매우 중요한 기준이지만 여기서는 \n",
    "알고리즘 분석이라는 다른 기준을 소개한다.\n",
    "\n",
    "**알고리즘 분석**은 프로그램을 실행할 때 필요한 자원을 가리키는 \n",
    "**컴퓨팅 자원**<font size='2'>computing resources</font>의 양과 \n",
    "활용의 효율성을 측정한다.\n",
    "이 기준에서 보면 위 두 프로그램은 동등하다. \n",
    "이유는 두 프로그램 모두 동일한 알고리즘을 사용하기 때문이다."
   ]
  },
  {
   "cell_type": "markdown",
   "metadata": {},
   "source": [
    "### 컴퓨팅 자원"
   ]
  },
  {
   "cell_type": "markdown",
   "metadata": {},
   "source": [
    "컴퓨팅 자원은 보통 다음 두 가지 중에 하나 또는 모두를 가리킨다.\n",
    "\n",
    "- 공간량: 알고리즘을 구현한 프로그램이 실행 될 때 요구되는 메모리, 저장 공간 등의 양\n",
    "- 실행 시간: 알고리즘을 구현한 프로그램이 특정 결과를 반환할 때까지 걸리는 실행 시간"
   ]
  },
  {
   "cell_type": "markdown",
   "metadata": {},
   "source": [
    "**입력값과 입력 크기**"
   ]
  },
  {
   "cell_type": "markdown",
   "metadata": {},
   "source": [
    "알고리즘을 실행했을 때 요구되는 공간량과 실행 시간은 입력값의 크기에 의존한다.\n",
    "\n",
    "- 입력값: 주어진 문제의 사례를 지정하는 값.\n",
    "    - 예제: 양의 정수 n이 주어지면 1부터 n까지의 합을 계산해야 하는 문제를 해결하는 알고리즘의 입력값은 양의 정수 n이다.\n",
    "- 입력 크기:  입력값의 크기. \n",
    "    - 크기 계산 기준에 따라 지정됨.\n",
    "    - 예제 1: 1부터 n까지의 합을 계산하는 알고리즘의 입력값인 정수 n의 크기는 n으로 정한다.\n",
    "    - 예제 2:리스트를 입력값으로 사용하는 알고리즘의 입력 크기는 리스트의 길이로 정한다."
   ]
  },
  {
   "cell_type": "markdown",
   "metadata": {},
   "source": [
    "여기서는 알고리즘 실행에 필요한 공간량에 대해서는 거의 다루지 않고 대신 실행 시간에 대한 이야기에 집중한다."
   ]
  },
  {
   "cell_type": "markdown",
   "metadata": {},
   "source": [
    "**입력 크기에 따라 실행 시간이 선형적으로 달라지는 알고리즘**"
   ]
  },
  {
   "cell_type": "markdown",
   "metadata": {},
   "source": [
    "아래 `sum_of_n_2()` 함수는 양의 정수 n이 주어졌을 때\n",
    "1부터 n까지 정수의 합을 계산하기 위해 필요한 실행 시간을 계산한다."
   ]
  },
  {
   "cell_type": "code",
   "execution_count": 5,
   "metadata": {},
   "outputs": [],
   "source": [
    "import time\n",
    "\n",
    "def sum_of_n_time(n):\n",
    "\n",
    "    start = time.time()   # 실행 시작\n",
    "    sum_of_n(n)           # 1부터 n까지의 합 계산\n",
    "    end = time.time()     # 실행 종료\n",
    "\n",
    "    return end - start   # 1부터 n까지의 합 계산에 필요한 시간"
   ]
  },
  {
   "cell_type": "markdown",
   "metadata": {},
   "source": [
    "알고리즘의 실행 시간은 입력값에 의존한다. \n",
    "아래 코드는 1부터 1만까지의 합을 계산하는 데 필요한 평균 시간을 측정한다.\n",
    "평균을 계산하기 위해 1부터 1만까지의 합을 10번 실행한다."
   ]
  },
  {
   "cell_type": "code",
   "execution_count": 6,
   "metadata": {},
   "outputs": [
    {
     "name": "stdout",
     "output_type": "stream",
     "text": [
      "1부터 10000까지 더하는데 평균적으로 0.00021초 걸림.\n"
     ]
    }
   ],
   "source": [
    "n = 10000\n",
    "m = 10\n",
    "time_sum = 0\n",
    "\n",
    "for _ in range(m):\n",
    "    time_sum += sum_of_n_time(n)\n",
    "    \n",
    "print(f\"1부터 {n}까지 더하는데 평균적으로 {time_sum/m:7.5f}초 걸림.\")"
   ]
  },
  {
   "cell_type": "markdown",
   "metadata": {},
   "source": [
    "10만까지의 합은 만까지의 합보다 대략 10배 정도 더 걸린다."
   ]
  },
  {
   "cell_type": "code",
   "execution_count": 7,
   "metadata": {},
   "outputs": [
    {
     "name": "stdout",
     "output_type": "stream",
     "text": [
      "1부터 100000까지 더하는데 평균적으로 0.00252초 걸림.\n"
     ]
    }
   ],
   "source": [
    "n = 100000\n",
    "m = 10\n",
    "time_sum = 0\n",
    "\n",
    "for _ in range(m):\n",
    "    time_sum += sum_of_n_time(n)\n",
    "    \n",
    "print(f\"1부터 {n}까지 더하는데 평균적으로 {time_sum/m:7.5f}초 걸림.\")"
   ]
  },
  {
   "cell_type": "markdown",
   "metadata": {},
   "source": [
    "100만까지의 합은 만까지의 합보다 100배 정도 더 걸린다."
   ]
  },
  {
   "cell_type": "code",
   "execution_count": 8,
   "metadata": {},
   "outputs": [
    {
     "name": "stdout",
     "output_type": "stream",
     "text": [
      "1부터 1000000까지 더하는데 평균적으로 0.02552초 걸림.\n"
     ]
    }
   ],
   "source": [
    "n = 1000000\n",
    "m = 10\n",
    "time_sum = 0\n",
    "\n",
    "for i in range(m):\n",
    "    time_sum += sum_of_n_time(n)\n",
    "    \n",
    "print(f\"1부터 {n}까지 더하는데 평균적으로 {time_sum/m:7.5f}초 걸림.\")"
   ]
  },
  {
   "cell_type": "markdown",
   "metadata": {},
   "source": [
    "따라서 1천만까지의 합은 평균적으로 만까지의 합보다 1000배 정도 오래 걸릴 것으로 추정할 수 있다."
   ]
  },
  {
   "cell_type": "code",
   "execution_count": 9,
   "metadata": {},
   "outputs": [
    {
     "name": "stdout",
     "output_type": "stream",
     "text": [
      "1부터 10000000까지 더하는데 평균적으로 0.23504초 걸림.\n"
     ]
    }
   ],
   "source": [
    "n = 10000000\n",
    "m = 10\n",
    "time_sum = 0\n",
    "\n",
    "for i in range(m):\n",
    "    time_sum += sum_of_n_time(n)\n",
    "    \n",
    "print(f\"1부터 {n}까지 더하는데 평균적으로 {time_sum/m:7.5f}초 걸림.\")"
   ]
  },
  {
   "cell_type": "markdown",
   "metadata": {},
   "source": [
    "`sum_of_n()` 함수가 실행될 때 사용된 반복 알고리즘의\n",
    "반복 횟수에 따라 실행 시간이 비례해서 늘어나는 것으로 보인다. \n",
    "즉, 함수의 입력값의 크기에 실행 시간이 선형적으로 의존한다. "
   ]
  },
  {
   "cell_type": "markdown",
   "metadata": {},
   "source": [
    "**입력 크기에 상관 없이 실행 시간이 일정한 알고리즘**"
   ]
  },
  {
   "cell_type": "markdown",
   "metadata": {},
   "source": [
    "모든 알고리즘이 입력값, 즉 주어진 문제의 사례에 의존해서 실행 시간이 달라지는 것은 아니다.\n",
    "아래 예제는 1부터 n까지의 합을 입력값 n에 상관없이 거의 동일한 시간 내에 계산하는 알고리즘을 사용한다."
   ]
  },
  {
   "cell_type": "markdown",
   "metadata": {},
   "source": [
    "**예제: 1 부터 n 까지 합 구하기** (다른 알고리즘)\n",
    "\n",
    "`sum_of_n_2()` 함수는 1부터 n까지의 합을 계산하기 위해 아래 식을 이용한다. \n",
    "\n",
    "$$\n",
    "\\sum_{i=1}^{n} i = \\frac {n\\,(n+1)}{2}\n",
    "$$"
   ]
  },
  {
   "cell_type": "code",
   "execution_count": 10,
   "metadata": {},
   "outputs": [],
   "source": [
    "def sum_of_n_2(n):\n",
    "    \n",
    "    sum = (n * (n + 1)) / 2\n",
    "    \n",
    "    return sum"
   ]
  },
  {
   "cell_type": "code",
   "execution_count": 11,
   "metadata": {},
   "outputs": [],
   "source": [
    "def sum_of_n_2_time(n):\n",
    "    start = time.time()  # 실행 시작\n",
    "    sum_of_n_2(n)\n",
    "    end = time.time()    # 실행 종료\n",
    "    \n",
    "    return end - start"
   ]
  },
  {
   "cell_type": "markdown",
   "metadata": {},
   "source": [
    "그런데 이 함수의 실행 시간은 입력값에 의존하지 않는 것으로 보인다."
   ]
  },
  {
   "cell_type": "code",
   "execution_count": 12,
   "metadata": {},
   "outputs": [
    {
     "name": "stdout",
     "output_type": "stream",
     "text": [
      "1부터    10000까지 더하는데 평균적으로 0.0000003099441528초 걸림.\n",
      "1부터   100000까지 더하는데 평균적으로 0.0000002145767212초 걸림.\n",
      "1부터  1000000까지 더하는데 평균적으로 0.0000001430511475초 걸림.\n",
      "1부터 10000000까지 더하는데 평균적으로 0.0000001430511475초 걸림.\n"
     ]
    }
   ],
   "source": [
    "m = 10\n",
    "\n",
    "for n in [10000, 100000, 1000000, 10000000]:\n",
    "    time_sum = 0\n",
    "    \n",
    "    for _ in range(m):\n",
    "        time_sum += sum_of_n_2_time(n)\n",
    "\n",
    "    print(f\"1부터 {n:8d}까지 더하는데 평균적으로 {time_sum/m:.16f}초 걸림.\")"
   ]
  },
  {
   "cell_type": "markdown",
   "metadata": {},
   "source": [
    "## 시간 복잡도"
   ]
  },
  {
   "cell_type": "markdown",
   "metadata": {},
   "source": [
    "실행 시간이 `sum_of_n_2()` 함수의 실행 시간이 입력값 `n`에 의존하지 않을 뿐더러 `sum_of_n()` 함수보다 훨씬 빠르다. \n",
    "그런데 프로그램 실행 시간은 사용되는 컴퓨터, 실행 환경, 컴파일러, 프로그래밍언어 등등에 의존하기 때문에 앞서 \n",
    "확인된 실행 시간을 절대적인 기준으로 삼을 수는 없다.\n",
    "따라서 이런 요소들에 의존하지 않으면서 객관적으로 프로그램의 실행 시간을 평가하는 기준이 요구되는데\n",
    "여기서는 시간 복잡도를 사용한다."
   ]
  },
  {
   "cell_type": "markdown",
   "metadata": {},
   "source": [
    "주어진 알고리즘의 시간 복잡도를 얘기하려면 먼저 **계산 단위** 개념을 이해해야 한다."
   ]
  },
  {
   "cell_type": "markdown",
   "metadata": {},
   "source": [
    "**계산 단위**"
   ]
  },
  {
   "cell_type": "markdown",
   "metadata": {},
   "source": [
    "사용하는 컴퓨터 또는 프로그램에 의존하지 않으면서 알고리즘의 효율성을 실행 시간을 이용하여 측정하기 위해\n",
    "특정 연산자 또는 특정 명령문 등의 실행 횟수를 이용할 수 있다.\n",
    "이때 사용되는 연산자 또는 특정 명령문을\n",
    "**계산 단위**<font size='2'>basic unit of computation</font>라 부른다.\n",
    "무엇을 계산 단위로 지정할 것인가는 알고리즘에 따라 적절하게 정해야 한다.\n",
    "\n",
    "예를 들어 앞서 살펴 본 `sum_of_n()` 함수의 경우에는 '변수 할당 명령문'을 계산 단위로 사용할 수 있는데\n",
    "그러면 `sum_of_n(n)` 이 호출되어 실행되는 동안 총 `(n+1)` 번 변수 할당 명령문이 실행된다.\n",
    "\n",
    "```python\n",
    "def sum_of_n(n):\n",
    "    the_sum = 0                  # 한 번 할당\n",
    "    for i in range(1, n + 1):\n",
    "        the_sum = the_sum + i    # n 번 할당\n",
    "\n",
    "    return the_sum\n",
    "```"
   ]
  },
  {
   "cell_type": "markdown",
   "metadata": {},
   "source": [
    "**입력 크기와 시간 복잡도**"
   ]
  },
  {
   "cell_type": "markdown",
   "metadata": {},
   "source": [
    "`sum_of_n()` 함수의 입력값의 크기가 $n$일 때,\n",
    "즉 `sum_of_n(n)`이 실행될 때 총 $(n + 1)$ 번 변수 할당 명령문이 실행되며,\n",
    "이를 아래와 같이 나타낸다.\n",
    "\n",
    "$$\n",
    "T(n) = n + 1\n",
    "$$\n",
    "\n",
    "$T()$ 함수는 **크기가 $n$인 입력값에 대해 $T(n)$의 시간이 지나면 해당 알고리즘이 반환값을 계산하고 종료한다** 라는\n",
    "의미의 **일정 시간 복잡도**를 계산하는 함수이다. \n",
    "\n",
    "따라서 `sum_of_n()` 함수의 일정 시간 복잡도가 $T(n) = n + 1$ 이라는 것은 다음을 의미한다.\n",
    "\n",
    "$$\\text{입력 크기가 $n$인 문제를 해결하는 데에 필요한 시간이 $(n + 1)$이다.}$$"
   ]
  },
  {
   "cell_type": "markdown",
   "metadata": {},
   "source": [
    "**알고리즘과 시간 복잡도**"
   ]
  },
  {
   "cell_type": "markdown",
   "metadata": {},
   "source": [
    "1부터 n까지의 합을 반복문을 이용해서 구하는 문제에서 입력값의 크기가 클 수록 실행 시간도 그에 비례해서 오래 걸린다.\n",
    "즉, 실행 시간이 입력 크기에 의존한다.\n",
    "반면에 아래에 사용된 알고리즘은 변수 할당을 딱 한 번 사용한다.\n",
    "\n",
    "```python\n",
    "def sum_of_n_2(n):\n",
    "    sum = (n * (n + 1)) / 2\n",
    "    return sum\n",
    "```\n",
    "\n",
    "실제로 위 프로그램의 실행 시간과 입력 크기 사이의 관계는 $T(n) = 1$로 표현된다."
   ]
  },
  {
   "cell_type": "markdown",
   "metadata": {},
   "source": [
    "**예제: 일정 시간 복잡도 계산**"
   ]
  },
  {
   "cell_type": "markdown",
   "metadata": {},
   "source": [
    "아래 별 의미 없는 함수 `no_meaning()`의 일정 시간 복잡도를 계산해보자. \n",
    "계산 단위는 변수 할당으로 한다."
   ]
  },
  {
   "cell_type": "code",
   "execution_count": 13,
   "metadata": {},
   "outputs": [],
   "source": [
    "def no_meaning(n):\n",
    "    # 3번 할당\n",
    "    a = 5\n",
    "    b = 6\n",
    "    c = 10\n",
    "\n",
    "    # 3*n*n 번 할당\n",
    "    for i in range(n):\n",
    "        for j in range(n):\n",
    "            x = i * i\n",
    "            y = j * j\n",
    "            z = i * j\n",
    "\n",
    "    # 2n 번 할당\n",
    "    for k in range(n):\n",
    "        w = a * k + 45\n",
    "        v = b * b\n",
    "\n",
    "    # 1번 할당\n",
    "    d = 33\n",
    "    \n",
    "    return None"
   ]
  },
  {
   "cell_type": "markdown",
   "metadata": {},
   "source": [
    "코드에 주석으로 적혀 있는대로 `no_meaning()`함수가 입력값 `n`과 함께 \n",
    "호출되었을 때 실행하는 변수 할당의 총 횟수 $T(n)$은 다음과 같다.\n",
    "\n",
    "$$\n",
    "\\begin{align*}\n",
    "T(n) &= 3 + 3n^{2} + 2n + 1 \\\\\n",
    " &= 3n^{2} + 2n + 4\n",
    "\\end{align*}\n",
    "$$"
   ]
  },
  {
   "cell_type": "markdown",
   "metadata": {},
   "source": [
    "### Big-O 표기법 직관적 소개"
   ]
  },
  {
   "cell_type": "markdown",
   "metadata": {},
   "source": [
    "입력 크기에 의존하는 실행 시간 함수 $T(n)$의 정의에 사용되는 수식을 분석할 때\n",
    "수식에 사용되는 모든 항을 다룰 필요가 없다. \n",
    "예를 들어 $T(n) = n + 1$ 에서 $1$은 별로 중요하지 않다.\n",
    "실제로 $n$이 커질 수록 $(n + 1)$에서 $1$의 역할은 거의 사라진다.\n",
    "즉, 변수 할당을 한 번 더 하는 것은 실행 시간에 별 영향을 주지 않기에\n",
    "핵심은 $n$에 집중된다.\n",
    "위 설명이 **Big-O 표기법**의 핵심이며\n",
    "$T(n)$과 연관지어 다음과 같이 작성한다.\n",
    "\n",
    "$$\n",
    "T(n) \\in O(n)\n",
    "$$"
   ]
  },
  {
   "cell_type": "markdown",
   "metadata": {},
   "source": [
    "실행 시간 함수 $T(n)$을 Big-O 표기법으로 표현하는 일반적인 방법은 다음과 같다.\n",
    "\n",
    "- 입력 크기 $n$이 매우 커질 때 가장 중요한 역할을 수행하는 항 지정\n",
    "- 그런 항이 $f(n)$ 이라 할 때 아래처럼 표기:\n",
    "\n",
    "$$\n",
    "T(n) \\in O(f(n))\n",
    "$$"
   ]
  },
  {
   "cell_type": "markdown",
   "metadata": {},
   "source": [
    "**예제**: $T(n)=3n^{2} + 2n + 4$\n",
    "\n",
    "$3n^{2} + 2n + 4$에서 $n$이 커질 때 $3 n^{2}$이 주도적 역할을 수행한다.\n",
    "그런데 $3n^{2}$과 $n^{2}$ 관계에서처럼 상수 배수는 무시된다.\n",
    "이유는 동일한 알고리즘을 돌렸을 때 컴퓨터 사양에 따라 발생하는 몇 배 정도의 실행 시간의 차이는\n",
    "알고리즘 분석의 핵심으로 간주되지 않기 때문이다.\n",
    "\n",
    "결론적으로 다음이 성립한다.\n",
    "\n",
    "$$\n",
    "T(n) \\in O(n^2)\n",
    "$$"
   ]
  },
  {
   "cell_type": "markdown",
   "metadata": {},
   "source": [
    "**예제**: $T(n)=\\frac{1}{1000}n \\log n + 3n + 205$\n",
    "\n",
    "$\\frac{1}{1000}n \\log n + 3n + 205$에서 $n$이 커질 때 가장 중요한 역할은 \n",
    "$\\frac{1}{1000}n \\log n$이 수행한다.\n",
    "여기서 상수 배수를 무시하면 $n \\log n$ 이 실행 시간 복잡도를 잘 대변하며,\n",
    "따라서 다음이 성립한다.\n",
    "\n",
    "$$\n",
    "T(n) \\in O(n \\log n)\n",
    "$$"
   ]
  },
  {
   "cell_type": "markdown",
   "metadata": {},
   "source": [
    "**예제**: $T(n)=c$의 시간 복잡도 ($c$는 상수)\n",
    "\n",
    "`sum_of_n_2()` 함수의 경우처럼 일정 시간 복잡도가 입력 크기에 전혀 의존하지 않을 때 \n",
    "시간 복잡도는 1이라고 말한다. \n",
    "이유는 임의의 상수 $c$는 $1$의 상수 배수에 해당하고 앞서 설명하였듯이 상수 배수는\n",
    "시간 복잡도를 따질 때 무시되기 때문이다.\n",
    "따라서 다음이 성립한다.\n",
    "\n",
    "$$\n",
    "T(n) \\in O(1)\n",
    "$$"
   ]
  },
  {
   "cell_type": "markdown",
   "metadata": {},
   "source": [
    "### 주요 시간 복잡도 함수"
   ]
  },
  {
   "cell_type": "markdown",
   "metadata": {},
   "source": [
    "알고리즘 분석에 가장 많이 사용되는 주요 시간 복잡도 함수는 다음과 같다."
   ]
  },
  {
   "cell_type": "markdown",
   "metadata": {},
   "source": [
    "| **시간 복잡도**  | **의미**| \n",
    "| --- | --- |\n",
    "| $1$ | 상수 시간|\n",
    "| $\\log n$ | 로그 시간 |\n",
    "| $n$ | 선형 시간 |\n",
    "| $n\\log n$ | 로그선형 시간 |\n",
    "| $n^{2}$ | 2차 시간 |\n",
    "| $2^{n}$ | 지수 시간|\n",
    "| $n!$    | 계승 시간 |"
   ]
  },
  {
   "cell_type": "markdown",
   "metadata": {},
   "source": [
    "아래 그림은 주요 Big-O 함수들의 그래프를 담고 있다.\n",
    "$n$이 커질 때 함수값 변화의 차이를 잘 보여준다."
   ]
  },
  {
   "cell_type": "markdown",
   "metadata": {},
   "source": [
    "<div align=\"center\"><img src=\"https://raw.githubusercontent.com/codingalzi/algopy/master/notebooks/_images/big-o1.png\" width=\"80%\"></div>\n",
    "\n",
    "<그림 출처: [Big-O Cheat Sheet](https://www.bigocheatsheet.com/)>"
   ]
  },
  {
   "cell_type": "markdown",
   "metadata": {},
   "source": [
    "(sec:running_time)=\n",
    "### 시간 복잡도와 실행 시간"
   ]
  },
  {
   "cell_type": "markdown",
   "metadata": {},
   "source": [
    "* 가정: 계산 단위 실행 시간 = 1 ns(나노 초, 10억 분의 1 초)\n",
    "* $\\mu$s(마이크로 초): 100만 분의 1초\n",
    "* ms(밀리 초): 천 분의 1초\n",
    "* $n$: 입력 크기\n",
    "\n",
    "| $n$ | <div style=\"width:80px\">$\\lg n$</div> | <div style=\"width:100px\">$n$</div> | <div style=\"width:100px\">$n\\, \\lg n$</div> | <div style=\"width:100px\">$n^2$</div> | <div style=\"width:100px\">$2^n$</div> |\n",
    "|--------:|--------:|--------:|--------:|--------:|--------:|\n",
    "| $10$ | $0.003$ $\\mu$s| $0.01$ $\\mu$s | $0.033$ $\\mu$s | $0.10$ $\\mu$s | $1$ $\\mu$s |\n",
    "| $20$ | $0.004$ $\\mu$s| $0.02$ $\\mu$s | $0.086$ $\\mu$s | $0.40$ $\\mu$s | $1$ ms |\n",
    "| $30$ | $0.005$ $\\mu$s| $0.03$ $\\mu$s | $0.147$ $\\mu$s | $0.90$ $\\mu$s | $1$ 초 |\n",
    "| $40$ | $0.005$ $\\mu$s| $0.04$ $\\mu$s | $0.213$ $\\mu$s | $1.60$ $\\mu$s | $18.3$ 분 |\n",
    "| $50$ | $0.006$ $\\mu$s| $0.05$ $\\mu$s | $0.282$ $\\mu$s | $2.50$ $\\mu$s | $13$ 일 |\n",
    "| $10^2$ | $0.007$ $\\mu$s| $0.10$ $\\mu$s | $0.664$ $\\mu$s | $10.00$ $\\mu$s | $4 \\times 10^{13}$ 년 |\n",
    "| $10^3$ | $0.010$ $\\mu$s| $1.00$ $\\mu$s | $9.966$ $\\mu$s | $1.00$ ms | |\n",
    "| $10^4$ | $0.013$ $\\mu$s| $10.00$ $\\mu$s | $130.000$ $\\mu$s | $100.00$ ms | |\n",
    "| $10^5$ | $0.017$ $\\mu$s| $0.10$ ms | $1.670$ ms | $10.00$ 초 | |\n",
    "| $10^6$ | $0.020$ $\\mu$s| $1.00$ ms | $19.930$ ms | $16.70$ 초 | |\n",
    "| $10^7$ | $0.023$ $\\mu$s| $0.01$ 초 | $0.230$ 초 | $1.16$ 일 | |\n",
    "| $10^8$ | $0.027$ $\\mu$s| $0.10$ 초 | $2.660$ 초 | $115.70$ 일 | |\n",
    "| $10^9$ | $0.030$ $\\mu$s| $1.00$ 초 | $29.900$ 초 | $31.70$ 년 | |\n",
    "\n",
    "<테이블 출처: [알고리즘 기초, Neopolitan 저, 홍릉](http://www.hongpub.co.kr/shop/item.php?it_id=20170324151353)>"
   ]
  },
  {
   "cell_type": "markdown",
   "metadata": {},
   "source": [
    "## 최선, 최악, 평균 시간 복잡도"
   ]
  },
  {
   "cell_type": "markdown",
   "metadata": {},
   "source": [
    "알고리즘의 시간 복잡도가 입력 크기뿐만 아니라\n",
    "입력값 자체에 의존하기도 한다.\n",
    "이런 경우엔 일정 시간 복잡도 $T(n)$ 계산이 불가능하며,\n",
    "대신에 최선, 최악, 평균 시간 복잡도를 계산한다.\n",
    "\n",
    "순차 탐색과 어구전철 확인 두 예제를 이용하여 최선, 최악, 평균 시간 복잡도를 설명한다."
   ]
  },
  {
   "cell_type": "markdown",
   "metadata": {},
   "source": [
    "### 순차 탐색"
   ]
  },
  {
   "cell_type": "markdown",
   "metadata": {},
   "source": [
    "주어진 리스트에서 특정 값의 포함 여부를 판단할 때\n",
    "인덱스를 따라가면서 해당 항목을 확인할 수 있다.\n",
    "이를 **순차 탐색**이라 하며 다음 그림처럼 작동한다."
   ]
  },
  {
   "cell_type": "markdown",
   "metadata": {},
   "source": [
    "<div align=\"center\"><img src=\"https://runestone.academy/runestone/books/published/pythonds/_images/seqsearch.png\" width=\"70%\"></div>"
   ]
  },
  {
   "cell_type": "markdown",
   "metadata": {},
   "source": [
    "순차 탐색 알고리즘을 아래 함수로 구현할 수 있다.\n",
    "\n",
    "- `alist`: 주어진 리스트\n",
    "- `item`: 탐색 대상 값\n",
    "- `pos=0`: 탐색 대상 인덱스. 0부터 출발해서 리스트 길이만큼 1식 증가.\n",
    "- `found=False`: 지정된 값의 포함 여부. 기본은 `False`, 찾으면 `True`로 전환."
   ]
  },
  {
   "cell_type": "code",
   "execution_count": 14,
   "metadata": {},
   "outputs": [],
   "source": [
    "def sequentialSearch(alist, item):\n",
    "    pos = 0\n",
    "    found = False\n",
    "\n",
    "    while pos < len(alist) and not found:\n",
    "        if alist[pos] == item:             # 값 비교 계산 단위\n",
    "            found = True\n",
    "        else:\n",
    "            pos = pos+1\n",
    "\n",
    "    return found"
   ]
  },
  {
   "cell_type": "markdown",
   "metadata": {},
   "source": [
    "아래와 같이 활용된다."
   ]
  },
  {
   "cell_type": "code",
   "execution_count": 15,
   "metadata": {},
   "outputs": [
    {
     "name": "stdout",
     "output_type": "stream",
     "text": [
      "True\n",
      "True\n"
     ]
    }
   ],
   "source": [
    "testlist = [54, 26, 93, 17, 77, 31, 44, 55, 20, 65]\n",
    "testlist_sorted = [17, 20, 26, 31, 44, 54, 55, 65, 77, 93]\n",
    "\n",
    "print(sequentialSearch(testlist, 93))\n",
    "print(sequentialSearch(testlist_sorted, 93))"
   ]
  },
  {
   "cell_type": "markdown",
   "metadata": {},
   "source": [
    "`sequentialSearch()` 함수의 일정 시간 복잡도 $T(n)$을 계산해 보자.\n",
    "\n",
    "- 입력 크기 $n$: 첫째인자, 즉 리스트의 길이\n",
    "- 계산 단위: 리스트의 항목 확인과 비교. 즉, while 문 안에 있는 if 문의 `alist[pos] == item`를 계산 단위로 사용.\n",
    "\n",
    "그런데 `sequentialSearch(testlist, 93)`을 실행하면 세 번 비교가 발생한다.\n",
    "반면에 `sequentialSearch(testlist_sorted, 93)`을 실행하면 열 번 비교한다. \n",
    "즉, 동일한 길이의 리스트를 사용하더라도 리스트에 포함된 항목들의 순서에 따라 실행 시간이 달라진다.\n",
    "\n",
    "이런 경우엔 일정 시간 복잡도 $T(n)$을 계산할 수 없으며, \n",
    "대신 입력 크기 $n$에 의존하는 시간 복잡도의 최솟값, 최댓값, 평균값 함수를 구해야 한다.\n",
    "이를 각각 해당 알고리즘의 **최선**(best), **최악**(worst), **평균**(average) 시간 복잡도라 한다. \n",
    "\n",
    "`sequentialSearch()` 함수의 최선, 최악, 평균 시간 복잡도를 리스트의 길이에 대한 함수로\n",
    "계산하면 다음과 같다.\n",
    "\n",
    "| | 최선 | 최악 | 평균 |\n",
    "| :---: | :---: | :---: | :---: |\n",
    "| 항목인 경우 | 1 | n | n/2 |\n",
    "| 항목이 아닌 경우 | n | n | n |"
   ]
  },
  {
   "cell_type": "markdown",
   "metadata": {},
   "source": [
    "주어진 알고리즘의 최대, 최소, 평균 시간 복잡도를 각각 $B(n)$, $W(n)$, $A(n)$이라 했을 때 다음이 성립한다.\n",
    "\n",
    "- 일정 시간 복잡도 $T(n)$이 존재할 때: \n",
    "\n",
    "    $$T(n) = B(n) = A(n) = W(n)$$\n",
    "\n",
    "- 일정 시간 복잡도 $T(n)$이 존재하지 않을 때:\n",
    "\n",
    "    $$B(n) \\le A(n) \\le W(n)$$"
   ]
  },
  {
   "cell_type": "markdown",
   "metadata": {},
   "source": [
    "### 어구전철"
   ]
  },
  {
   "cell_type": "markdown",
   "metadata": {},
   "source": [
    "**어구전철**은 단어를 구성하는 문자의 순서를 바꾸어 새로운 단어를 생성하는 것을 나타내며,\n",
    "영어로 **애너그램**<font size='2'>anagram</font>이라 한다.\n",
    "예를 들어 \"국왕\" 과 \"왕국\", \"감동\"과 \"동감\", \"다들 힘내\"와 \"힘내 다들\" 또는 \"내 힘들다\", \n",
    "\"heart\"와 \"earth\", \"python\"과 \"typhon\" 등이 어구전철 관계를 갖는다.\n",
    "여기서는 두 영어 단어의 어구전철 여부를 확인하는 함수를\n",
    "다양한 알고리즘을 이용하여 구현한다."
   ]
  },
  {
   "cell_type": "markdown",
   "metadata": {},
   "source": [
    "**알고리즘 1: 일일이 확인하기**"
   ]
  },
  {
   "cell_type": "markdown",
   "metadata": {},
   "source": [
    "첫째 방법은 하나의 문자열에 사용된 모든 문자를 대상으로 \n",
    "해당 문자가 다른 문자열에 나타나는가를 일일이 확인하는 것이다.\n",
    "그리고 확인된 문자는 `None`으로 대체해서 더 이상 확인 대상이 되지 않도록 한다.\n",
    "\n",
    "- 먼저 `s1`과 `s2` 두 문자열의 길이 비교. 다르면 `False` 반환\n",
    "- 둘째 문자열 `s2`를 리스트로 변환. 파이썬의 문자열은 수정불가능이기 때문에 리스트를 대신 사용.\n",
    "- 첫째 문자열 `s1`에 포함된 문자를 대상으로 둘째 문자열의 리스트 `s2`에 포함되어 있는지 탐색 시작\n",
    "    - 리스트 `s2`에서 찾았으면 해당 문자를 `None`으로 대체 후 바로 문자열 `s1`의 다음 문자를 대상으로 탐색 반복\n",
    "    - 아니면 해당 문자까지만 탐색하고 실행 종료"
   ]
  },
  {
   "cell_type": "code",
   "execution_count": 16,
   "metadata": {},
   "outputs": [],
   "source": [
    "def anagram_solution_1(s1, s2):\n",
    "    still_ok = True           # 첫째 문자열에 포함된 문자 대상 어구전철 여부 저장\n",
    "    \n",
    "    if len(s1) != len(s2):    # 동일한 길이 여부 확인\n",
    "        still_ok = False\n",
    "\n",
    "    s2_list = list(s2)         # 둘째 문자열을 리스트로 변환\n",
    "    pos_1 = 0                 # 현재 확인 위치 저장\n",
    "\n",
    "    while pos_1 < len(s1) and still_ok:             # 첫째 문자열의 모든 문자 대상 반복\n",
    "        pos_2 = 0                                 \n",
    "        found = False\n",
    "        \n",
    "        while pos_2 < len(s2_list) and not found:    # 둘째 문자열의 모든 문자 대상 비교\n",
    "            if s1[pos_1] == s2_list[pos_2]:          # 계산 단위: 비교\n",
    "                found = True\n",
    "            else:\n",
    "                pos_2 = pos_2 + 1\n",
    "\n",
    "        if found:\n",
    "            s2_list[pos_2] = None\n",
    "        else:\n",
    "            still_ok = False\n",
    "\n",
    "        pos_1 = pos_1 + 1\n",
    "\n",
    "    return still_ok"
   ]
  },
  {
   "cell_type": "code",
   "execution_count": 17,
   "metadata": {},
   "outputs": [
    {
     "name": "stdout",
     "output_type": "stream",
     "text": [
      "True\n",
      "True\n",
      "False\n"
     ]
    }
   ],
   "source": [
    "print(anagram_solution_1(\"apple\", \"pleap\"))  # True\n",
    "print(anagram_solution_1(\"abcd\", \"dcba\"))    # True\n",
    "print(anagram_solution_1(\"abcd\", \"dcda\"))    # False"
   ]
  },
  {
   "cell_type": "markdown",
   "metadata": {},
   "source": [
    "위 알고리즘 분석에 사용되는 계산 단위로 \n",
    "첫째 문자열 `s1`의 항목과 둘째 문자열로부터 변환된\n",
    "리스트 `s2_list`의 항목 사이의 비교연산(`==`)을 사용한다. \n",
    "두 문자열의 길이가 $n$이라 하자. \n",
    "다음 세 가지 경우를 고려해야 한다."
   ]
  },
  {
   "cell_type": "markdown",
   "metadata": {},
   "source": [
    "- 두 문자열이 서로 어구전철일 때\n",
    "\n",
    "    문자열 `s1`의 각 문자에 대해 리스트 `s2_list`의 각 항목을 비교해야 한다.\n",
    "    그리고 문자의 위치에 따라 1번에서 최대 $n$번까지 비교연산이 실행되며,\n",
    "    모든 경우가 발생한다.즉, 다음이 성립한다."
   ]
  },
  {
   "cell_type": "markdown",
   "metadata": {},
   "source": [
    "$$\n",
    "\\begin{align*}\n",
    "T(n) &= \\sum_{i=1}^{n} i \\\\\n",
    "    &= \\frac {n(n+1)}{2} \\\\\n",
    "    & = \\frac {1}{2}n^{2} + \\frac {1}{2}n \\\\\n",
    "    & \\in O(n^{2})\n",
    "\\end{align*}\n",
    "$$"
   ]
  },
  {
   "cell_type": "markdown",
   "metadata": {},
   "source": [
    "- 두 문자열의 길이가 같지만 서로 어구전철 관계가 아닐 때\n",
    "\n",
    "    - 최선: 문자열 `s1`의 첫째 문자가 리스트 `s2_list`에 포함되지 않은 경우에 \n",
    "        어구전철이 아니라고 판단된다.\n",
    "        따라서 다음이 성립한다.\n",
    "        \n",
    "        $$\n",
    "        B(n) = n\\\\\n",
    "        $$\n",
    "        \n",
    "    - 최악: 첫째 문자열 `s1`의 마지막 문자가 리스트 `s2_list`에 포함되지 않은 경우에 \n",
    "        어구전철이 아니라고 판단된다.\n",
    "        예를 들어 \"python\"과 \"mpytho\"의 경우처럼 처음 $(n-1)$개의 문자를 확인하는데 걸리는 최악 시간은 \n",
    "        \n",
    "        $$\n",
    "        2 + 3 + \\cdots + n\n",
    "        $$\n",
    "\n",
    "        이며, 마지막 문자(\"m\")가 `s2_list`에 없는 것을 확인하는 데에 $n$ 번의 비교가 요구된다.\n",
    "        따라서 다음이 성립한다.\n",
    "\n",
    "        $$\n",
    "        \\begin{align*}\n",
    "        W(n) &= 2 + 3 + \\cdots + n + n\\\\\n",
    "            &= \\frac {n(n+1)}{2} - 1 + n \\\\\n",
    "            & = \\frac {1}{2}n^{2} + \\frac {3}{2}n - 1\\\\\n",
    "            & \\in O(n^{2})\n",
    "        \\end{align*}\n",
    "        $$"
   ]
  },
  {
   "cell_type": "markdown",
   "metadata": {},
   "source": [
    "- 두 문자열의 길이가 다를 때: 바로 어구전철이 아니다 라고 판단된다."
   ]
  },
  {
   "cell_type": "markdown",
   "metadata": {},
   "source": [
    "**알고리즘 2: 정렬 후 비교**"
   ]
  },
  {
   "cell_type": "markdown",
   "metadata": {},
   "source": [
    "서로 어구전철인 두 문자열을 동일한 문자들을 포함해야 한다.\n",
    "따라서 알파벳 순서대로 문자들을 정렬하면 완전히 동일한 두 문자열을 얻게 된다. \n",
    "아래 알고리즘은 먼저 두 문자열을 리스트로 형변환한 후에\n",
    "리스트의 `sort()` 메서드를 이용하여 두 문자열을 정렬한다.\n",
    "그런 다음에 각 인덱스에 대해 정렬된 두 문자열이 동일한 문자를 갖는지\n",
    "확인한다. 중간에 서로 다른 문자를 확인하면 바로 실행을 멈춘다."
   ]
  },
  {
   "cell_type": "code",
   "execution_count": 18,
   "metadata": {},
   "outputs": [],
   "source": [
    "def anagram_solution_2(s1, s2):\n",
    "    # 리스트로 형변환\n",
    "    a_list_1 = list(s1)\n",
    "    a_list_2 = list(s2)\n",
    "\n",
    "    # 리스트 정렬\n",
    "    a_list_1.sort()\n",
    "    a_list_2.sort()\n",
    "\n",
    "    # 동일 위치에 대해 일대일 비교. 다르면 바로 종료\n",
    "    pos = 0\n",
    "    matches = True\n",
    "\n",
    "    while pos < len(s1) and matches:\n",
    "        if a_list_1[pos] == a_list_2[pos]:    # 계산 단위: 비교\n",
    "            pos = pos + 1\n",
    "        else:\n",
    "            matches = False\n",
    "\n",
    "    return matches"
   ]
  },
  {
   "cell_type": "code",
   "execution_count": 19,
   "metadata": {},
   "outputs": [
    {
     "name": "stdout",
     "output_type": "stream",
     "text": [
      "True\n",
      "True\n",
      "False\n"
     ]
    }
   ],
   "source": [
    "print(anagram_solution_2(\"apple\", \"pleap\"))  # True\n",
    "print(anagram_solution_2(\"abcd\", \"dcba\"))    # True\n",
    "print(anagram_solution_2(\"abcd\", \"dcda\"))    # False"
   ]
  },
  {
   "cell_type": "markdown",
   "metadata": {},
   "source": [
    "두 문자열이 서로 어구전철인 경우 비교 연산자가 $n$ 번 발생하는 것으로 보인다.\n",
    "하지만 `sort()` 함수를 이용한 정렬 과정 중에도 많은 비교가 발생한다.\n",
    "실제로 대부분의 정렬 알고리즘은 $O(n^2)$ 또는 $O(n\\log n)$의\n",
    "시간 복잡도를 갖는다.\n",
    "따라서 위 알고리즘이 시간 복잡도는 사용되는 정렬 알고리즘의 시간 복잡도와 동일하다."
   ]
  },
  {
   "cell_type": "markdown",
   "metadata": {},
   "source": [
    "**알고리즘 3: 부르트 포스 기법**"
   ]
  },
  {
   "cell_type": "markdown",
   "metadata": {},
   "source": [
    "**부르트 포스**<font size='2'>brute force</font> 기법은 모든 가능한 경우를 일일이 나열해보는 방법을 의미한다. \n",
    "예를 들어 문자열 `s1`에 사용된 문자들의 모든 조합을 생성한 다음에 그 중에 문자열 `s2`가\n",
    "있는가를 확인하는 방식도 부르트 포스 기법을 따른다. \n",
    "\n",
    "하지만 이 알고리즘은 일단 모든 조합의 문자열을 생성하는 것부터 어렵다.\n",
    "왜냐하면 주어진 $n$ 개의 문자를 이용하여 생성할 수 있는 문자열의 개수는 다음과 \n",
    "같기 때문이다. \n",
    "\n",
    "$$\n",
    "n \\cdot (n - 1) \\cdot (n - 2) \\cdots 3 \\cdot 2 \\cdot 1 = n!\n",
    "$$ "
   ]
  },
  {
   "cell_type": "markdown",
   "metadata": {},
   "source": [
    "예를 들어 다음이 성립한다. \n",
    "\n",
    "$$20! = 2,432,902,008,176,640,000$$\n",
    "\n",
    "즉, 하나의 문자열을 생성하여 문자열 `s2`와 비교하는 데에 100만 분의 1초가 걸린다고 가정했을 때,\n",
    "길이가 20인 두 개의 문자열의 어구전철 관계를 확인하려면\n",
    "대략 77,147 년이 걸린다."
   ]
  },
  {
   "cell_type": "markdown",
   "metadata": {},
   "source": [
    "**알고리즘 4: 빈도 활용**"
   ]
  },
  {
   "cell_type": "markdown",
   "metadata": {},
   "source": [
    "어구전철 관계인 두 문자열은 각 문자를 동일한 수만큼 포함한다.\n",
    "따라서 모든 알파벳에 대해 각 문자열에 포함된 빈도를 측정한 후에\n",
    "측정된 빈도가 모든 문자에 대해 일치하는지를 확인하면 된다.\n",
    "\n",
    "26개의 알파벳이 존재하기에 각 문자열에 대해 \n",
    "길이가 26인 리스트를 생성한 후에 각 문자에 대한 빈도를 카운트한다.\n",
    "\n",
    "- `ord()` 함수: 문자와 정수를 연결하는 함수\n",
    "- `ord(x) - ord(\"a\")`: `x`가 몇 번째 알파벳인지 계산."
   ]
  },
  {
   "cell_type": "code",
   "execution_count": 20,
   "metadata": {},
   "outputs": [],
   "source": [
    "def anagram_solution_4(s1, s2):\n",
    "    \n",
    "    # 빈도수 저장 용도 리스트\n",
    "    c1 = [0] * 26\n",
    "    c2 = [0] * 26\n",
    "\n",
    "    # s1에 포함된 문자들의 빈도수\n",
    "    for i in range(len(s1)):\n",
    "        pos = ord(s1[i]) - ord(\"a\")\n",
    "        c1[pos] = c1[pos] + 1          # 계산 단위: 카운트\n",
    "\n",
    "    # s2에 포함된 문자들의 빈도수\n",
    "    for i in range(len(s2)):\n",
    "        pos = ord(s2[i]) - ord(\"a\")\n",
    "        c2[pos] = c2[pos] + 1          # 계산 단위: 카운트\n",
    "\n",
    "    # 모든 알파벳 대상 빈도수 비교\n",
    "    j = 0\n",
    "    still_ok = True\n",
    "    while j < 26 and still_ok:\n",
    "        if c1[j] == c2[j]:             # 계산 단위: 항목 비교\n",
    "            j = j + 1\n",
    "        else:\n",
    "            still_ok = False\n",
    "\n",
    "    return still_ok"
   ]
  },
  {
   "cell_type": "code",
   "execution_count": 21,
   "metadata": {},
   "outputs": [
    {
     "name": "stdout",
     "output_type": "stream",
     "text": [
      "True\n",
      "True\n",
      "False\n"
     ]
    }
   ],
   "source": [
    "print(anagram_solution_4(\"apple\", \"pleap\"))  # True\n",
    "print(anagram_solution_4(\"abcd\", \"dcba\"))    # True\n",
    "print(anagram_solution_4(\"abcd\", \"dcda\"))    # False"
   ]
  },
  {
   "cell_type": "markdown",
   "metadata": {},
   "source": [
    "길이가 $n$인 문자열에 포함된 문자들의 빈도를 확인하는 시간 복잡도는\n",
    "카운트를 기준으로 했을 때 $O(n)$이다.\n",
    "그리고 두 개의 카운트 리스트를 비교하는 데에 최소 1번, 최대 26번의 항목 비교가 발생한다. \n",
    "따라서 위 어구전철인 두 개의 문자열을 확인하는 알고리즘의 시간 복잡도는 다음과 같다. \n",
    "\n",
    "$$\n",
    "T(n) = 2n + 26 \\in O(n)\n",
    "$$"
   ]
  },
  {
   "cell_type": "markdown",
   "metadata": {},
   "source": [
    "## 공간 복잡도 문제"
   ]
  },
  {
   "cell_type": "markdown",
   "metadata": {},
   "source": [
    "알고리즘 `anagram_solution_4()`의 시간 복잡도는 이전 세 알고리즘에 비해 훨씬 좋다.\n",
    "하지만 그 대신에 빈도 리스트를 새로 생성하기 위해 보다 많은 메모리를 사용한다. \n",
    "여기서는 겨우 길이가 26인 리스트 두 개를 생성하기에 별 문제가 아니지만\n",
    "경우에 따라 길이가 수 백만, 수 천만, 수 억인 리스트를 생성해야 한다면 심각한 문제가 될 수도 있다.\n",
    "\n",
    "하지만 이전 알고리즘들도 모두 추가 메모리를 사용한다. \n",
    "\n",
    "- `anagram_solution_1()`: 문자열 `s2`를 리스트로 변환한 값\n",
    "- `anagram_solution_2()`: 두 문자열을 리스트로 형변환한 후 정렬. \n",
    "    그리고 정렬 과정에서 추가 메모리 사용 가능.\n",
    "- `anagram_solution_3()`: 실제로 알고리즘을 구현하면 모든 가능한 조합을 생성하거나 저장할 때\n",
    "    추가 메모리 요구될 것임.\n",
    "\n",
    "따라서 어떤 알고리즘을 사용하는 게 좋을지 환경과 상황에 따라 결정해야 한다."
   ]
  },
  {
   "cell_type": "markdown",
   "metadata": {},
   "source": [
    "## 연습문제"
   ]
  },
  {
   "cell_type": "markdown",
   "metadata": {},
   "source": [
    "1. [(실습) 시간 복잡도](https://colab.research.google.com/github/codingalzi/algopy/blob/master/excs/exc-time_complexity.ipynb)"
   ]
  }
 ],
 "metadata": {
  "kernelspec": {
   "display_name": "Python 3 (ipykernel)",
   "language": "python",
   "name": "python3"
  },
  "language_info": {
   "codemirror_mode": {
    "name": "ipython",
    "version": 3
   },
   "file_extension": ".py",
   "mimetype": "text/x-python",
   "name": "python",
   "nbconvert_exporter": "python",
   "pygments_lexer": "ipython3",
   "version": "3.12.2"
  },
  "vscode": {
   "interpreter": {
    "hash": "6c86b3592b6800d985c04531f2c445f0fa6967131b8dd6395a925f7622e55602"
   }
  }
 },
 "nbformat": 4,
 "nbformat_minor": 4
}