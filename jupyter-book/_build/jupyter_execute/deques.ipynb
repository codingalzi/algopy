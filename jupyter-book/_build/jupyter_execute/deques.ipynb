{
 "cells": [
  {
   "cell_type": "markdown",
   "metadata": {},
   "source": [
    "(sec:deques)=\n",
    "# 덱<font size='2'>Deque</font>"
   ]
  },
  {
   "cell_type": "markdown",
   "metadata": {},
   "source": [
    "**슬라이드**\n",
    "\n",
    "본문 내용을 요약한 [슬라이드](https://github.com/codingalzi/algopy/raw/master/slides/slides-deques.pdf)를 다운로드할 수 있다."
   ]
  },
  {
   "cell_type": "markdown",
   "metadata": {},
   "source": [
    "**주요 내용**\n",
    "\n",
    "- 선형 자료구조\n",
    "- 덱 자료구조\n",
    "- 덱 활용"
   ]
  },
  {
   "cell_type": "markdown",
   "metadata": {},
   "source": [
    "## 선형 자료구조"
   ]
  },
  {
   "cell_type": "markdown",
   "metadata": {},
   "source": [
    "**선형 자료구조**<font size='2'>linear data structure</font>는 \n",
    "여러 개의 항목을 순서에 맞춰 추가하고 삭제할 수 있는 자료구조를 가리킨다.\n",
    "항목의 추가/삭제 방식에 따라 서로 다르게 작동하며 일반적으로 다음 선형 자료구조가 활용된다.\n",
    "\n",
    "- 리스트<font size='2'>list</font>\n",
    "- 덱<font size='2'>deque</font>\n",
    "- 큐<font size='2'>queue</font>\n",
    "- 스택<font size='2'>stack</font>\n",
    "- 연결 리스트<font size='2'>linked list</font>\n",
    "- 정렬 리스트<font size='2'>sorted list</font>"
   ]
  },
  {
   "cell_type": "markdown",
   "metadata": {},
   "source": [
    "선형 자료구조의 양 끝인 머리와 꼬리를 부르는 이름이 \n",
    "자료구조마다 다를 수 있다.\n",
    "\n",
    "| 양 끝 | 별칭 |\n",
    "| :---: | :--- |\n",
    "| 머리 | 헤드(head), 위(top), 앞(front) |\n",
    "| 꼬리 | 테일(tail), 아래(bottom), 뒤(rear) |"
   ]
  },
  {
   "cell_type": "markdown",
   "metadata": {},
   "source": [
    "프로그래밍 언어에 따라 언급된 선형 자료구조의 일부가 지원된다.\n",
    "파이썬은 큐, 스택, 덱 자료구조를 제공한다.\n",
    "\n",
    "- 덱: [collections](https://docs.python.org/3/library/collections.html#collections.deque) 모듈의 \n",
    "`deque` 클래스\n",
    "- 큐와 스택: [queue](https://docs.python.org/3/library/queue.html) 모듈의 `Queue` 클래스와 `LifoQueue` 클래스\n",
    "\n",
    "여기서는 덱, 큐, 스택을 추상 자료형으로 선언한 뒤에 직접 파이썬 클래스로 구현해본다."
   ]
  },
  {
   "cell_type": "markdown",
   "metadata": {},
   "source": [
    "## 덱 추상 자료형"
   ]
  },
  {
   "cell_type": "markdown",
   "metadata": {},
   "source": [
    "**덱**<font size='2'>deque</font>은 double-ended queue의 줄임말이며,\n",
    "항목의 빠른 추가와 삭제를 지원하는 선형 모음 자료형이다.\n",
    "덱은 리스트와 유사한 자료구조이지만 다음 측면에서 차이점이 존재한다.\n",
    "\n",
    "- 항목 추가와 삭제가 기본적으로 머리<font size='2'>head</font>와 꼬리<font size='2'>tail</font>에서만 이루어진다.\n",
    "- 항목의 추가와 삭제가 리스트의 `append()`, `pop()` 메서드보다 빠르다."
   ]
  },
  {
   "cell_type": "markdown",
   "metadata": {},
   "source": [
    "<p><div align=\"center\"><img src=\"https://raw.githubusercontent.com/codingalzi/algopy/master/jupyter-book/imgs/deque.png\" width=\"100%\"></div></p>"
   ]
  },
  {
   "cell_type": "markdown",
   "metadata": {},
   "source": [
    "### `Deque` 추상 클래스"
   ]
  },
  {
   "cell_type": "markdown",
   "metadata": {},
   "source": [
    "덱 추상 클래스에 기본으로 포함되어야 하는 메서드는 다음과 같다."
   ]
  },
  {
   "cell_type": "markdown",
   "metadata": {},
   "source": [
    "| 정의 | 기능 |\n",
    "| :---: | :--- |\n",
    "| `Deque` | 덱 추상 클래스 |\n",
    "| `append()` | 머리에 새로운 항목 추가. 반환값 없음. |\n",
    "| `appendleft()` |  꼬리에 새로운 항목 추가. 반환값 없음. |\n",
    "| `pop()` | 머리 항목 삭제. 삭제된 항목 반환 |\n",
    "| `popleft()` | 꼬리 항목 삭제. 삭제된 항목 반환. |"
   ]
  },
  {
   "cell_type": "markdown",
   "metadata": {},
   "source": [
    "아래 코드의 `Deque` 클래스는 덱 추상 자료형을 구현한 추상 클래스다.\n",
    "\n",
    "- `_items` 인스턴스 변수: 덱에 포함되는 항목들을 리스트로 저장.\n",
    "- `append()`, `pop()` 인스턴스 메서드: 리스트의 `append()`, `pop()` 메서드 그대로 활용.\n",
    "- `appendleft()`, `popleft()` 인스턴스 메서드: 추상 메서드 상태로 둠."
   ]
  },
  {
   "cell_type": "code",
   "execution_count": 1,
   "metadata": {},
   "outputs": [],
   "source": [
    "class Deque:\n",
    "    \"\"\"리스트를 활용한 덱 구현\"\"\"\n",
    "\n",
    "    def __init__(self, items=[]):\n",
    "        self._items = items\n",
    "\n",
    "    def __len__(self):\n",
    "        return len(self._items)\n",
    "        \n",
    "    def append(self, item):\n",
    "        \"\"\"머리에 항목 추가\"\"\"\n",
    "        self._items.append(item)\n",
    "\n",
    "    def appendleft(self, item):\n",
    "        \"\"\"꼬리에 항목 추가\"\"\"\n",
    "        raise NotImplementedError\n",
    "\n",
    "    def pop(self):\n",
    "        \"\"\"머리 항목 삭제\"\"\"\n",
    "        return self._items.pop()\n",
    "\n",
    "    def popleft(self):\n",
    "        \"\"\"꼬리 항목 삭제\"\"\"\n",
    "        raise NotImplementedError"
   ]
  },
  {
   "cell_type": "markdown",
   "metadata": {},
   "source": [
    "### 추상 클래스 vs 구상 클래스"
   ]
  },
  {
   "cell_type": "markdown",
   "metadata": {},
   "source": [
    "추상 클래스 또한 인스터를 생성하는 데에 활용할 수 있다.\n",
    "하지만 아직 정의되지 않은 메서드를 실행하면 `NotImplementedError`가 발생한다."
   ]
  },
  {
   "cell_type": "code",
   "execution_count": 2,
   "metadata": {},
   "outputs": [
    {
     "ename": "NotImplementedError",
     "evalue": "",
     "output_type": "error",
     "traceback": [
      "\u001b[0;31m---------------------------------------------------------------------------\u001b[0m",
      "\u001b[0;31mNotImplementedError\u001b[0m                       Traceback (most recent call last)",
      "Cell \u001b[0;32mIn[2], line 3\u001b[0m\n\u001b[1;32m      1\u001b[0m deque_adt \u001b[38;5;241m=\u001b[39m Deque()\n\u001b[0;32m----> 3\u001b[0m deque_adt\u001b[38;5;241m.\u001b[39mappendleft(\u001b[38;5;124m\"\u001b[39m\u001b[38;5;124m덱 항목\u001b[39m\u001b[38;5;124m\"\u001b[39m)\n",
      "Cell \u001b[0;32mIn[1], line 16\u001b[0m, in \u001b[0;36mDeque.appendleft\u001b[0;34m(self, item)\u001b[0m\n\u001b[1;32m     14\u001b[0m \u001b[38;5;28;01mdef\u001b[39;00m \u001b[38;5;21mappendleft\u001b[39m(\u001b[38;5;28mself\u001b[39m, item):\n\u001b[1;32m     15\u001b[0m \u001b[38;5;250m    \u001b[39m\u001b[38;5;124;03m\"\"\"꼬리에 항목 추가\"\"\"\u001b[39;00m\n\u001b[0;32m---> 16\u001b[0m     \u001b[38;5;28;01mraise\u001b[39;00m \u001b[38;5;167;01mNotImplementedError\u001b[39;00m\n",
      "\u001b[0;31mNotImplementedError\u001b[0m: "
     ]
    }
   ],
   "source": [
    "deque_adt = Deque()\n",
    "\n",
    "deque_adt.appendleft(\"덱 항목\")"
   ]
  },
  {
   "cell_type": "markdown",
   "metadata": {},
   "source": [
    "이렇듯 추상 자료형을 구체화시킨 객체를 추상 클래스의 인스턴스로 정의해서는 제대로 활용할 수 없다.\n",
    "이유는 추상 클래스에 포함된 추상 메서드가 제대로 구현되지 않았기 때문이다.\n",
    "따라서 포함된 모든 추상 메서드가 제대로 구현된 구상 클래스를 먼저 구현해야 한다.\n",
    "**구상 클래스**<font size='2'>concrete class</font>는 포함된 모든 메서드의 본문이 제대로 구현된 클래스를 가리킨다."
   ]
  },
  {
   "cell_type": "markdown",
   "metadata": {},
   "source": [
    "## 덱 자료구조 구현"
   ]
  },
  {
   "cell_type": "markdown",
   "metadata": {},
   "source": [
    "리스트를 선형 자료구조로 활용할 때 가장 중요한 요소는 머리와 꼬리의 지정이다.\n",
    "앞서 `Deque` 추상 클래스를 정의할 때 리스트를 이용하여 항목들을 저장하는 방식을 선택하였으며,\n",
    "덱의 머리에서 항목의 추가와 삭제를 실행하기 위해 리스트의 `append()`와 `pop()` 메서드를 이용하였다.\n",
    "즉, 덱의 머리는 리스트 마지막 인덱스가 가리키는 위치를, 즉\n",
    "보통 리스트의 오른편 끝으로 그려지는 곳으로 지정하였다. \n",
    "\n",
    "반면에 덱의 꼬리에서의 항목 추가와 삭제는 구현하지 않은채로 두었기에\n",
    "덱 자료구조를 클래스로 선언하려면 `appendleft()`와 `popleft()` 메서드가\n",
    "리스트의 꼬리로 지정된 위치에서 항목의 추가와 삭제를 처리하는 방식을 구현하면서 `Deque`를 상속해야 한다."
   ]
  },
  {
   "cell_type": "markdown",
   "metadata": {},
   "source": [
    "아래 정의에서 꼬리는 리스트의 0번 인덱스에 해당하는 위치를 가리킨다. \n",
    "따라서 덱의 머리에서의 항목의 추가와 삭제는 각각 `insert()`와  `pop()` 함수를\n",
    "적절한 인자와 함께 호출되는 방식으로 처리된다."
   ]
  },
  {
   "cell_type": "code",
   "execution_count": 3,
   "metadata": {},
   "outputs": [],
   "source": [
    "class myDeque(Deque):\n",
    "    \"\"\"리스트를 활용한 덱 구현\"\"\"\n",
    "\n",
    "    def __init__(self, items=[]):\n",
    "        \"\"\"새로운 덱 생성\"\"\"\n",
    "        super().__init__(items)\n",
    "\n",
    "    def __repr__(self):\n",
    "        \"\"\"덱 표기법: dqque([1, 2, 3]) 등\"\"\"\n",
    "        return f\"deque({self._items})\"\n",
    "    \n",
    "    def appendleft(self, item):\n",
    "        \"\"\"꼬리에 항목 추가\"\"\"\n",
    "        self._items.insert(0, item)\n",
    "\n",
    "    def popleft(self):\n",
    "        \"\"\"꼬리 항목 삭제\"\"\"\n",
    "        return self._items.pop(0)"
   ]
  },
  {
   "cell_type": "markdown",
   "metadata": {},
   "source": [
    "아래 코드는 비어 있는 덱을 선언한 후에\n",
    "`4`, `'dog'`, `'cat'`, `True`, `8.4` 등을\n",
    "머리와 꼬리에 추가하거나 삭제하는 과정을 묘사한다."
   ]
  },
  {
   "cell_type": "code",
   "execution_count": 4,
   "metadata": {},
   "outputs": [
    {
     "name": "stdout",
     "output_type": "stream",
     "text": [
      "deque(['dog', 4, 'cat', True])\n",
      "8.4\n",
      "True\n",
      "deque(['dog', 4, 'cat'])\n"
     ]
    }
   ],
   "source": [
    "d=myDeque([])\n",
    "d.append(4)\n",
    "d.appendleft('dog')\n",
    "d.append('cat')\n",
    "d.append(True)\n",
    "print(d)\n",
    "d.appendleft(8.4)\n",
    "print(d.popleft())\n",
    "print(d.pop())\n",
    "print(d)"
   ]
  },
  {
   "cell_type": "markdown",
   "metadata": {},
   "source": [
    "## `collections.deque` 클래스"
   ]
  },
  {
   "cell_type": "markdown",
   "metadata": {},
   "source": [
    "파이썬 `collections` 모듈이 덱 추상 자료형을 자료구조로 구현한 `deque` 클래스를 지원한다.\n",
    "그런데 앞서 직접 정의된 `myDeque` 보다 항목의 추가와 삭제가 빠르다.\n",
    "특히 `appendleft()`는 20 배 정도, `popleft()`는 2천배 이상\n",
    "`deque` 클래스의 메서드가 빠르게 작동한다."
   ]
  },
  {
   "cell_type": "code",
   "execution_count": null,
   "metadata": {},
   "outputs": [],
   "source": [
    "from collections import deque"
   ]
  },
  {
   "cell_type": "markdown",
   "metadata": {},
   "source": [
    "- `append()` 메서드 속도 비교"
   ]
  },
  {
   "cell_type": "code",
   "execution_count": null,
   "metadata": {},
   "outputs": [
    {
     "name": "stdout",
     "output_type": "stream",
     "text": [
      "CPU times: user 4.08 ms, sys: 190 μs, total: 4.27 ms\n",
      "Wall time: 4.27 ms\n"
     ]
    }
   ],
   "source": [
    "%%time\n",
    "\n",
    "n = 100_000\n",
    "dec1 = myDeque([])\n",
    "\n",
    "for k in range(n):\n",
    "    dec1.append(k)"
   ]
  },
  {
   "cell_type": "code",
   "execution_count": null,
   "metadata": {},
   "outputs": [
    {
     "name": "stdout",
     "output_type": "stream",
     "text": [
      "CPU times: user 3.24 ms, sys: 151 μs, total: 3.4 ms\n",
      "Wall time: 3.4 ms\n"
     ]
    }
   ],
   "source": [
    "%%time\n",
    "\n",
    "n = 100_000\n",
    "dec1 = deque([])\n",
    "\n",
    "for k in range(n):\n",
    "    dec1.append(k)"
   ]
  },
  {
   "cell_type": "markdown",
   "metadata": {},
   "source": [
    "- `appendleft()` 메서드 속도 비교"
   ]
  },
  {
   "cell_type": "code",
   "execution_count": null,
   "metadata": {},
   "outputs": [
    {
     "name": "stdout",
     "output_type": "stream",
     "text": [
      "CPU times: user 552 ms, sys: 0 ns, total: 552 ms\n",
      "Wall time: 551 ms\n"
     ]
    }
   ],
   "source": [
    "%%time\n",
    "\n",
    "n = 100_000\n",
    "dec1 = myDeque([])\n",
    "\n",
    "for k in range(n):\n",
    "    dec1.appendleft(k)"
   ]
  },
  {
   "cell_type": "code",
   "execution_count": null,
   "metadata": {},
   "outputs": [
    {
     "name": "stdout",
     "output_type": "stream",
     "text": [
      "CPU times: user 2.93 ms, sys: 0 ns, total: 2.93 ms\n",
      "Wall time: 2.93 ms\n"
     ]
    }
   ],
   "source": [
    "%%time\n",
    "\n",
    "n = 100_000\n",
    "dec1 = deque([])\n",
    "\n",
    "for k in range(n):\n",
    "    dec1.appendleft(k)"
   ]
  },
  {
   "cell_type": "markdown",
   "metadata": {},
   "source": [
    "- `pop()` 메서드 속도 비교"
   ]
  },
  {
   "cell_type": "code",
   "execution_count": null,
   "metadata": {},
   "outputs": [
    {
     "name": "stdout",
     "output_type": "stream",
     "text": [
      "CPU times: user 5.21 ms, sys: 0 ns, total: 5.21 ms\n",
      "Wall time: 5.18 ms\n"
     ]
    }
   ],
   "source": [
    "%%time\n",
    "\n",
    "n = 100_000\n",
    "dec1 = myDeque(list(range(n)))\n",
    "\n",
    "for _ in range(n):\n",
    "    dec1.pop()"
   ]
  },
  {
   "cell_type": "code",
   "execution_count": null,
   "metadata": {},
   "outputs": [
    {
     "name": "stdout",
     "output_type": "stream",
     "text": [
      "CPU times: user 3.12 ms, sys: 0 ns, total: 3.12 ms\n",
      "Wall time: 3.12 ms\n"
     ]
    }
   ],
   "source": [
    "%%time\n",
    "\n",
    "n = 100_000\n",
    "dec1 = deque(list(range(n)))\n",
    "\n",
    "for _ in range(n):\n",
    "    dec1.pop()"
   ]
  },
  {
   "cell_type": "markdown",
   "metadata": {},
   "source": [
    "- `popleft()` 메서드 속도 비교"
   ]
  },
  {
   "cell_type": "code",
   "execution_count": null,
   "metadata": {},
   "outputs": [
    {
     "name": "stdout",
     "output_type": "stream",
     "text": [
      "CPU times: user 7.7 s, sys: 0 ns, total: 7.7 s\n",
      "Wall time: 7.7 s\n"
     ]
    }
   ],
   "source": [
    "%%time\n",
    "\n",
    "n = 100_000\n",
    "dec1 = myDeque(list(range(n)))\n",
    "\n",
    "for _ in range(n):\n",
    "    dec1.popleft()"
   ]
  },
  {
   "cell_type": "code",
   "execution_count": null,
   "metadata": {},
   "outputs": [
    {
     "name": "stdout",
     "output_type": "stream",
     "text": [
      "CPU times: user 3.44 ms, sys: 0 ns, total: 3.44 ms\n",
      "Wall time: 3.44 ms\n"
     ]
    }
   ],
   "source": [
    "%%time\n",
    "\n",
    "n = 100_000\n",
    "dec1 = deque(list(range(n)))\n",
    "\n",
    "for _ in range(n):\n",
    "    dec1.popleft()"
   ]
  },
  {
   "cell_type": "markdown",
   "metadata": {},
   "source": [
    "`myDeque` 클래스가 지원하는\n",
    "`appendleft()`와 `popleft()`는 리스트의 0번 인덱스에서 항목을 추가하거나 삭제한다.\n",
    "그런데 이를 위해 사용되는 리스트의 `insert(0, item)`와 `pop(0)`은 실행시간이 \n",
    "리스트의 길이에 의존한다. \n",
    "따라서 `myDeque` 객체의 꼬리에서 항목을 추가하고 삭제하는 시간은\n",
    "항목의 개수가 많아질 수록 점점 더 오래 걸리게 된다.\n",
    "\n",
    "반면에 `collections.deque` 클래스는 항목을 저장할 때 리스트가 아닌 다른 방식으로 항목을 저장하며,\n",
    "머리와 꼬리에서 항목을 저장하고 삭제하는 일이 리스트의 길이에 무관하게 일정한 시간이 걸린다.\n",
    "즉, 덱에 포함된 항목의 개수에 상관없이 일정한 시간이 걸린다.\n",
    "\n",
    "그렇다고 해서 `collections.deque`의 메서드가 항상 리스트의 메서드보다 빠른 것은 아니기에 필요에 따라\n",
    "리스트 또는 `collections.deque` 중에 하나의 자료구조를 선택할 필요가 있다."
   ]
  },
  {
   "cell_type": "markdown",
   "metadata": {},
   "source": [
    "## 덱 활용: 회문<font size='2'>palindrome</font> 판별기"
   ]
  },
  {
   "cell_type": "markdown",
   "metadata": {},
   "source": [
    "앞으로 읽어도, 뒤로 읽어도 동일한 단어 또는 문장을 **회문**<font size='2'>palindrome</font>이라 부른다. \n",
    "한글과 영어의 회문 예제는 다음과 같다.\n",
    "단, 쉼표, 느낌표, 물음표, 공백, 대소문자 여부 등은 무시한다.\n",
    "\n",
    "- 한글 회문 예제: '기러기', '우영우', '토마토', \"인싸 의사의 싸인\", \"여보게, 저기 저게 보여?\" 등등\n",
    "- 영어 회문 예제: 'mom', 'radar', 'Yo! Banana boy.', 'I did, did I?', 'No lemon, no melon' 등등"
   ]
  },
  {
   "cell_type": "markdown",
   "metadata": {},
   "source": [
    "<p><div align=\"center\"><img src=\"https://raw.githubusercontent.com/codingalzi/algopy/master/jupyter-book/imgs/palindrome.png\" width=\"70%\"></div></p>"
   ]
  },
  {
   "cell_type": "markdown",
   "metadata": {},
   "source": [
    "아래 `pal_checker()` 함수는 인자로 입력된 문자열의 문자열의 회문 여부를 `myDeque` 클래스의\n",
    "인스턴스를 이용하여 판별한다."
   ]
  },
  {
   "cell_type": "code",
   "execution_count": 5,
   "metadata": {},
   "outputs": [],
   "source": [
    "def pal_checker(text):\n",
    "    # 덱 객체 생성\n",
    "    char_deque = myDeque([])\n",
    "    for ch in text:\n",
    "        char_deque.appendleft(ch)\n",
    "\n",
    "    # 머리와 꼬리 항목 비교\n",
    "    while len(char_deque) > 1:\n",
    "        first = char_deque.pop()\n",
    "        last = char_deque.popleft()\n",
    "        # 대칭 문자가 다를 경우 회문 아님 판정\n",
    "        if first != last:\n",
    "            return False\n",
    "\n",
    "    # 이전 반복문을 무사히 통과하면 회문 판정\n",
    "    return True"
   ]
  },
  {
   "cell_type": "markdown",
   "metadata": {},
   "source": [
    "<p><div align=\"center\"><img src=\"https://raw.githubusercontent.com/codingalzi/algopy/master/jupyter-book/imgs/palindromesetup.png\" width=\"90%\"></div></p>"
   ]
  },
  {
   "cell_type": "markdown",
   "metadata": {},
   "source": [
    "공백이나 특수 기호가 없는 단어의 경우에 회문 판별이 잘 작동한다."
   ]
  },
  {
   "cell_type": "code",
   "execution_count": 6,
   "metadata": {},
   "outputs": [],
   "source": [
    "assert pal_checker(\"기러기\") == True\n",
    "assert pal_checker(\"사이다\") == False\n",
    "assert pal_checker(\"radar\") == True\n",
    "assert pal_checker(\"tomato\") == False"
   ]
  },
  {
   "cell_type": "markdown",
   "metadata": {},
   "source": [
    "반면에 아래 주장 어느 것도 참으로 인정받지 못한다.\n",
    "이유는 대소문자가 구분되거나 쉼표, 물음표, 느낌표 등의 기호가 무시되지 않기 때문이다."
   ]
  },
  {
   "cell_type": "code",
   "execution_count": 7,
   "metadata": {},
   "outputs": [
    {
     "ename": "AssertionError",
     "evalue": "",
     "output_type": "error",
     "traceback": [
      "\u001b[0;31m---------------------------------------------------------------------------\u001b[0m",
      "\u001b[0;31mAssertionError\u001b[0m                            Traceback (most recent call last)",
      "Cell \u001b[0;32mIn[7], line 1\u001b[0m\n\u001b[0;32m----> 1\u001b[0m \u001b[38;5;28;01massert\u001b[39;00m pal_checker(\u001b[38;5;124m\"\u001b[39m\u001b[38;5;124mBob\u001b[39m\u001b[38;5;124m\"\u001b[39m) \u001b[38;5;241m==\u001b[39m \u001b[38;5;28;01mTrue\u001b[39;00m\n\u001b[1;32m      2\u001b[0m \u001b[38;5;28;01massert\u001b[39;00m pal_checker(\u001b[38;5;124m\"\u001b[39m\u001b[38;5;124m인싸 의사의 싸인\u001b[39m\u001b[38;5;124m\"\u001b[39m) \u001b[38;5;241m==\u001b[39m \u001b[38;5;28;01mTrue\u001b[39;00m\n\u001b[1;32m      3\u001b[0m \u001b[38;5;28;01massert\u001b[39;00m pal_checker(\u001b[38;5;124m\"\u001b[39m\u001b[38;5;124m여보게, 저기 저게 보여?\u001b[39m\u001b[38;5;124m\"\u001b[39m) \u001b[38;5;241m==\u001b[39m \u001b[38;5;28;01mTrue\u001b[39;00m\n",
      "\u001b[0;31mAssertionError\u001b[0m: "
     ]
    }
   ],
   "source": [
    "assert pal_checker(\"Bob\") == True\n",
    "assert pal_checker(\"인싸 의사의 싸인\") == True\n",
    "assert pal_checker(\"여보게, 저기 저게 보여?\") == True\n",
    "assert pal_checker('I did, did I?') == True\n",
    "assert pal_checker('No lemon, no melon') == True"
   ]
  },
  {
   "cell_type": "markdown",
   "metadata": {},
   "source": [
    "이전의 주장 모두 참으로 인정받을 수 있도록 `pal_checker()` 함수를 수정할 수 있다.\n",
    "이를 위해 연습문제를 참고한다."
   ]
  },
  {
   "cell_type": "markdown",
   "metadata": {},
   "source": [
    "## 연습문제"
   ]
  },
  {
   "cell_type": "markdown",
   "metadata": {},
   "source": [
    "1. [(실습) 덱](https://colab.research.google.com/github/codingalzi/algopy/blob/master/excs/exc-deques.ipynb)"
   ]
  }
 ],
 "metadata": {
  "kernelspec": {
   "display_name": "Python 3 (ipykernel)",
   "language": "python",
   "name": "python3"
  },
  "language_info": {
   "codemirror_mode": {
    "name": "ipython",
    "version": 3
   },
   "file_extension": ".py",
   "mimetype": "text/x-python",
   "name": "python",
   "nbconvert_exporter": "python",
   "pygments_lexer": "ipython3",
   "version": "3.12.2"
  },
  "vscode": {
   "interpreter": {
    "hash": "6c86b3592b6800d985c04531f2c445f0fa6967131b8dd6395a925f7622e55602"
   }
  }
 },
 "nbformat": 4,
 "nbformat_minor": 4
}