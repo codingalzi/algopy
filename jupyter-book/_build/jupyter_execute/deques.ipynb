{
 "cells": [
  {
   "cell_type": "markdown",
   "metadata": {},
   "source": [
    "# 덱"
   ]
  },
  {
   "cell_type": "markdown",
   "metadata": {},
   "source": [
    "## 덱의 정의"
   ]
  },
  {
   "cell_type": "markdown",
   "metadata": {},
   "source": [
    "**덱**(deque)은 큐(queue)와 유사하게 작동하지만 큐와는 달리 항목의 추가와 삭제가\n",
    "머리와 꼬리 양쪽 끝 모두에서 처리된다. \n",
    "이런 의미에서 덱은 큐와 스택(stack)의 기능을 함께 제공하며\n",
    "어떻게 사용할 것인가는 사용자에 의해 결정된다. "
   ]
  },
  {
   "cell_type": "markdown",
   "metadata": {},
   "source": [
    "<figure>\n",
    "<div align=\"center\"><img src=\"https://runestone.academy/runestone/books/published/pythonds3/_images/basicdeque.png\" width=\"70%\"></div>\n",
    "</figure>"
   ]
  },
  {
   "cell_type": "markdown",
   "metadata": {},
   "source": [
    "### `Deque` 추상 자료형"
   ]
  },
  {
   "cell_type": "markdown",
   "metadata": {},
   "source": [
    "덱 추상 자료형을 구체적인 파이썬 자료구조(data structure)로 \n",
    "구현하려면 갖추어야 하는 기본 속성과 기능은 다음과 같다.\n",
    "\n",
    "- `Deque()`: 비어 있는 덱 생성. \n",
    "- `add_front(item)`: 머리에 새로운 항목 추가. 반환값 없음.\n",
    "- `add_rear(item)`: 꼬리에 새로운 항목 추가. 반환값 없음.\n",
    "- `remove_front()`: 머리 항목 삭제. 삭제된 항목 반환.\n",
    "- `remove_rear()`: 꼬리 항목 삭제. 삭제된 항목 반환.\n",
    "- `is_empty()`: 덱이 비었는지 여부 판단. 부울값 반환.\n",
    "- `size()`: 항목 개수 반환\n",
    "\n",
    "아래 테이블은 덱 생성과 함께 다양한 덱 관련 연산의 작동법을 소개한다.\n",
    "항목들의 저장을 위해 리스트를 사용하며 머리는 리스트의 오른쪽 끝,\n",
    "꼬리는 왼쪽 끝으로 사용한다."
   ]
  },
  {
   "cell_type": "markdown",
   "metadata": {},
   "source": [
    "| **덱 연산** | **덱 항목** | **반환값** |\n",
    "| --- | --- | --- |\n",
    "| `d = Deque()` | `[]` | |\n",
    "| `d.is_empty()` | `[]` | `True` |\n",
    "| `d.add_rear(4)` | `[4]` | |\n",
    "| `d.add_rear(\"dog\")` | `['dog', 4]` | |\n",
    "| `d.add_front(\"cat\")` | `['dog', 4, 'cat']` | |\n",
    "| `d.add_front(True)`  | `['dog', 4, 'cat', True]` | |\n",
    "| `d.size()` | `['dog', 4, 'cat', True]` | `4` |\n",
    "| `d.is_empty()` | `['dog', 4, 'cat', True]` | `False` |\n",
    "| `d.add_rear(8.4)` | `[8.4,'dog', 4, 'cat', True]` | |\n",
    "| `d.remove_rear()` | `['dog', 4, 'cat', True]` | `8.4` |\n",
    "| `d.remove_front()`  | `['dog', 4, 'cat']` | `True` |"
   ]
  },
  {
   "cell_type": "markdown",
   "metadata": {},
   "source": [
    "### 덱 자료구조 구현"
   ]
  },
  {
   "cell_type": "markdown",
   "metadata": {},
   "source": [
    "리스트를 활용할 때 중요한 것은 머리와 꼬리를 어디로 설정하는가이다. \n",
    "큐의 경우처럼 꼬리는 리스트의 시작, 머리는 리스트의 오른편 끝으로 정하며\n",
    "이에 따라 항목 추가와 삭제 함수를 적절하게 구현한다.\n",
    "\n",
    "- 머리\n",
    "    - 항목 추가: 리스트의 `append(item)` 활용. 시간복잡도는 $O(1)$.\n",
    "    - 항목 삭제: 리스트의 `pop()` 활용. 시간복잡도는 $O(1)$.\n",
    "- 꼬리\n",
    "    - 항목 추가: 리스트의 `insert(1, item)` 활용. 시간복잡도는 $O(n)$.\n",
    "    - 항목 삭제: 리스트의 `pop(0)` 활용. 시간복잡도는 $O(n)$."
   ]
  },
  {
   "cell_type": "code",
   "execution_count": 1,
   "metadata": {},
   "outputs": [],
   "source": [
    "class Deque:\n",
    "    \"\"\"리스트를 활용한 덱 구현\"\"\"\n",
    "\n",
    "    def __init__(self):\n",
    "        \"\"\"새로운 덱 생성\"\"\"\n",
    "        self._items = []\n",
    "    \n",
    "    def __repr__(self):\n",
    "        \"\"\"덱 표기법: <~[1, 2, 3]~> 등등\"\"\"\n",
    "        return f\"<~{self._items}~>\"\n",
    "    \n",
    "    def is_empty(self):\n",
    "        \"\"\"비었는지 여부 확인\"\"\"\n",
    "        return not bool(self._items)\n",
    "\n",
    "    def add_front(self, item):\n",
    "        \"\"\"머리에 항목 추가\"\"\"\n",
    "        self._items.append(item)\n",
    "\n",
    "    def add_rear(self, item):\n",
    "        \"\"\"꼬리에 항목 추가\"\"\"\n",
    "        self._items.insert(0, item)\n",
    "\n",
    "    def remove_front(self):\n",
    "        \"\"\"머리 항목 삭제\"\"\"\n",
    "        return self._items.pop()\n",
    "\n",
    "    def remove_rear(self):\n",
    "        \"\"\"꼬리 항목 삭제\"\"\"\n",
    "        return self._items.pop(0)\n",
    "\n",
    "    def size(self):\n",
    "        \"\"\"항목 개수 확인\"\"\"\n",
    "        return len(self._items)"
   ]
  },
  {
   "cell_type": "code",
   "execution_count": 2,
   "metadata": {},
   "outputs": [
    {
     "name": "stdout",
     "output_type": "stream",
     "text": [
      "True\n",
      "<~['dog', 4, 'cat', True]~>\n",
      "4\n",
      "False\n",
      "8.4\n",
      "True\n",
      "<~['dog', 4, 'cat']~>\n"
     ]
    }
   ],
   "source": [
    "d=Deque()\n",
    "print(d.is_empty())\n",
    "d.add_rear(4)\n",
    "d.add_rear('dog')\n",
    "d.add_front('cat')\n",
    "d.add_front(True)\n",
    "print(d)\n",
    "print(d.size())\n",
    "print(d.is_empty())\n",
    "d.add_rear(8.4)\n",
    "print(d.remove_rear())\n",
    "print(d.remove_front())\n",
    "print(d)"
   ]
  },
  {
   "cell_type": "markdown",
   "metadata": {},
   "source": [
    "### 실전 예제 1: 편집기의 'undo'와 'redo'"
   ]
  },
  {
   "cell_type": "markdown",
   "metadata": {},
   "source": [
    "1. 문서 작성중에 'undo' 버튼을 누르면 마지막에 추가된 항목(머리 항목)이 삭제되는 동시에\n",
    "    꼬리 항목으로 추가된다.\n",
    "    이후 `redo` 버튼이 눌리면 꼬리 항목이 삭제되어 다시 머리 항목으로 추가된다. \n",
    "1. 웹브라우저의 'back'/'forward' 버튼도 유사하게 작동한다."
   ]
  },
  {
   "cell_type": "markdown",
   "metadata": {},
   "source": [
    "### 실전 예제 2: 회문(palindrome) 판별기"
   ]
  },
  {
   "cell_type": "markdown",
   "metadata": {},
   "source": [
    "'radar', 'toot', 'madam', '기러기', '실습실', '토마토' 등 앞으로 읽으나 뒤로 읽으나 동일한 단어가 되는 단어 또는 문장을 **회문**(palindrome)이라 부른다. \n",
    "주어진 문자열의 회문 여부를 판별하려면 문자열을 덱(deque) 객체로 만든 다음에\n",
    "머리와 꼬리에 위치한 항목의 일치여부를 확인하면 된다."
   ]
  },
  {
   "cell_type": "markdown",
   "metadata": {},
   "source": [
    "<figure>\n",
    "<div align=\"center\"><img src=\"https://runestone.academy/runestone/books/published/pythonds3/_images/palindromesetup.png\" width=\"70%\"></div>\n",
    "</figure>"
   ]
  },
  {
   "cell_type": "markdown",
   "metadata": {},
   "source": [
    "덱을 활용한 회문 판별기는 다음과 같이 구현할 수 있다."
   ]
  },
  {
   "cell_type": "code",
   "execution_count": 3,
   "metadata": {},
   "outputs": [],
   "source": [
    "def pal_checker(a_string):\n",
    "    char_deque = Deque()\n",
    "    \n",
    "    # 덱 객체 생성\n",
    "    for ch in a_string:\n",
    "        char_deque.add_rear(ch)\n",
    "\n",
    "    # 머리와 꼬리 항목 비교\n",
    "    while char_deque.size() > 1:\n",
    "        first = char_deque.remove_front()\n",
    "        last = char_deque.remove_rear()\n",
    "        if first != last:\n",
    "            return False\n",
    "\n",
    "    return True"
   ]
  },
  {
   "cell_type": "code",
   "execution_count": 4,
   "metadata": {},
   "outputs": [
    {
     "name": "stdout",
     "output_type": "stream",
     "text": [
      "False\n"
     ]
    }
   ],
   "source": [
    "print(pal_checker(\"tomato\"))"
   ]
  },
  {
   "cell_type": "code",
   "execution_count": 5,
   "metadata": {},
   "outputs": [
    {
     "name": "stdout",
     "output_type": "stream",
     "text": [
      "True\n"
     ]
    }
   ],
   "source": [
    "print(pal_checker(\"radar\"))"
   ]
  },
  {
   "cell_type": "code",
   "execution_count": 6,
   "metadata": {},
   "outputs": [
    {
     "name": "stdout",
     "output_type": "stream",
     "text": [
      "True\n"
     ]
    }
   ],
   "source": [
    "print(pal_checker(\"기러기\"))"
   ]
  },
  {
   "cell_type": "code",
   "execution_count": 7,
   "metadata": {},
   "outputs": [
    {
     "name": "stdout",
     "output_type": "stream",
     "text": [
      "True\n"
     ]
    }
   ],
   "source": [
    "print(pal_checker(\"토마토\"))"
   ]
  },
  {
   "cell_type": "code",
   "execution_count": 8,
   "metadata": {},
   "outputs": [
    {
     "name": "stdout",
     "output_type": "stream",
     "text": [
      "False\n"
     ]
    }
   ],
   "source": [
    "print(pal_checker(\"사이다\"))"
   ]
  },
  {
   "cell_type": "markdown",
   "metadata": {},
   "source": [
    "### 프로그래밍 실습 문제"
   ]
  },
  {
   "cell_type": "markdown",
   "metadata": {},
   "source": [
    "1. \"I PREFER PI\", \"찰진 의사의 진찰\" 등 공백이 포함된 문장을 회문으로 판별하도록\n",
    "    `pal_checker()` 함수를 수정하라."
   ]
  }
 ],
 "metadata": {
  "kernelspec": {
   "display_name": "Python 3.9.12 ('base')",
   "language": "python",
   "name": "python3"
  },
  "language_info": {
   "codemirror_mode": {
    "name": "ipython",
    "version": 3
   },
   "file_extension": ".py",
   "mimetype": "text/x-python",
   "name": "python",
   "nbconvert_exporter": "python",
   "pygments_lexer": "ipython3",
   "version": "3.9.7"
  },
  "vscode": {
   "interpreter": {
    "hash": "ad0f3c8a064f687cbf898a0868fd45ba1c7e928ac8a0404f7c241d812ddc1e76"
   }
  }
 },
 "nbformat": 4,
 "nbformat_minor": 4
}