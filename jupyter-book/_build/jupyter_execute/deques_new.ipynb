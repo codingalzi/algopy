{
 "cells": [
  {
   "cell_type": "markdown",
   "metadata": {},
   "source": [
    "(sec:deques)=\n",
    "# 덱<font size='2'>Deque</font>"
   ]
  },
  {
   "cell_type": "markdown",
   "metadata": {},
   "source": [
    "**슬라이드**\n",
    "\n",
    "본문 내용을 요약한 [슬라이드](https://github.com/codingalzi/algopy/raw/master/slides/slides-deques.pdf)를 다운로드할 수 있다."
   ]
  },
  {
   "cell_type": "markdown",
   "metadata": {},
   "source": [
    "**주요 내용**\n",
    "\n",
    "- 선형 자료구조\n",
    "- 덱 자료구조\n",
    "- 덱 활용"
   ]
  },
  {
   "cell_type": "markdown",
   "metadata": {},
   "source": [
    "## 선형 자료구조"
   ]
  },
  {
   "cell_type": "markdown",
   "metadata": {},
   "source": [
    "**선형 자료구조**<font size='2'>linear data structure</font>는 \n",
    "여러 개의 항목을 순서에 맞춰 추가하고 삭제할 수 있는 자료구조를 가리킨다.\n",
    "항목의 추가/삭제 방식에 따라 서로 다르게 작동하며 일반적으로 다음 선형 자료구조가 활용된다.\n",
    "\n",
    "- 리스트<font size='2'>list</font>\n",
    "- 덱<font size='2'>deque</font>\n",
    "- 큐<font size='2'>queue</font>\n",
    "- 스택<font size='2'>stack</font>\n",
    "- 연결 리스트<font size='2'>linked list</font>\n",
    "- 정렬 리스트<font size='2'>sorted list</font>"
   ]
  },
  {
   "cell_type": "markdown",
   "metadata": {},
   "source": [
    "선형 자료구조의 양 끝인 머리와 꼬리를 부르는 이름이 \n",
    "자료구조마다 다를 수 있다.\n",
    "\n",
    "| 양 끝 | 별칭 |\n",
    "| :---: | :--- |\n",
    "| 머리 | 헤드(head), 위(top), 앞(front) |\n",
    "| 꼬리 | 테일(tail), 아래(bottom), 뒤(rear) |"
   ]
  },
  {
   "cell_type": "markdown",
   "metadata": {},
   "source": [
    "프로그래밍 언어에 따라 언급된 선형 자료구조의 일부가 지원된다.\n",
    "파이썬은 큐, 스택, 덱 자료구조를 제공한다.\n",
    "\n",
    "- 덱: [collections](https://docs.python.org/3/library/collections.html#collections.deque) 모듈의 \n",
    "`deque` 클래스\n",
    "- 큐와 스택: [queue](https://docs.python.org/3/library/queue.html) 모듈의 `Queue` 클래스와 `LifoQueue` 클래스\n",
    "\n",
    "여기서는 덱, 큐, 스택을 추상 자료형으로 선언한 뒤에 직접 파이썬 클래스로 구현해본다."
   ]
  },
  {
   "cell_type": "markdown",
   "metadata": {},
   "source": [
    "## 덱 추상 자료형"
   ]
  },
  {
   "cell_type": "markdown",
   "metadata": {},
   "source": [
    "**덱**<font size='2'>deque</font>은 항목의 빠른 추가와 삭제를 지원하는 선형 모음 자료형이다.\n",
    "덱은 리스트와 유사한 자료구조이지만 다음 측면에서 차이점이 존재한다.\n",
    "\n",
    "- 항목 추가와 삭제가 머리<font size='2'>head</font>와 꼬리<font size='2'>tail</font>에서만 이루어진다.\n",
    "- 항목의 추가와 삭제가 리스트의 `append()`, `pop()` 메서드보다 빠르다."
   ]
  },
  {
   "cell_type": "markdown",
   "metadata": {},
   "source": [
    "<p><div align=\"center\"><img src=\"https://raw.githubusercontent.com/codingalzi/algopy/master/jupyter-book/imgs/deque.png\" width=\"100%\"></div></p>"
   ]
  },
  {
   "cell_type": "markdown",
   "metadata": {},
   "source": [
    "### `Deque` 추상 클래스"
   ]
  },
  {
   "cell_type": "markdown",
   "metadata": {},
   "source": [
    "덱 추상 클래스에 기본으로 포함되어야 하는 메서드는 다음과 같다."
   ]
  },
  {
   "cell_type": "markdown",
   "metadata": {},
   "source": [
    "| 정의 | 기능 |\n",
    "| :---: | :--- |\n",
    "| `Deque` | 덱 추상 클래스 |\n",
    "| `append()` | 머리에 새로운 항목 추가. 반환값 없음. |\n",
    "| `appendleft()` |  꼬리에 새로운 항목 추가. 반환값 없음. |\n",
    "| `pop()` | 머리 항목 삭제. 삭제된 항목 반환 |\n",
    "| `popleft()` | 꼬리 항목 삭제. 삭제된 항목 반환. |"
   ]
  },
  {
   "cell_type": "markdown",
   "metadata": {},
   "source": [
    "아래 코드의 `Deque` 클래스는 덱 추상 자료형을 구현한 추상 클래스다.\n",
    "\n",
    "- `_items` 인스턴스 변수: 덱에 포함되는 항목들을 리스트로 저장.\n",
    "- `append()`, `pop()` 인스턴스 메서드: 리스트의 `append()`, `pop()` 메서드 그대로 활용.\n",
    "- `appendleft()`, `popleft()` 인스턴스 메서드: 추상 메서드 상태로 둠."
   ]
  },
  {
   "cell_type": "code",
   "execution_count": 43,
   "metadata": {},
   "outputs": [],
   "source": [
    "class Deque:\n",
    "    def __init__(self, items=[]):\n",
    "        self._items = items\n",
    "        \n",
    "    def append(self, item):\n",
    "        \"\"\"머리에 항목 추가\"\"\"\n",
    "        self._items.append(item)\n",
    "\n",
    "    def appendleft(self, item):\n",
    "        \"\"\"꼬리에 항목 추가\"\"\"\n",
    "        raise NotImplementedError\n",
    "\n",
    "    def pop(self):\n",
    "        \"\"\"머리 항목 삭제\"\"\"\n",
    "        return self._items.pop()\n",
    "\n",
    "    def popleft(self):\n",
    "        \"\"\"꼬리 항목 삭제\"\"\"\n",
    "        raise NotImplementedError"
   ]
  },
  {
   "cell_type": "markdown",
   "metadata": {},
   "source": [
    "### 추상 클래스 vs 구상 클래스"
   ]
  },
  {
   "cell_type": "markdown",
   "metadata": {},
   "source": [
    "추상 클래스 또한 인스터를 생성하는 데에 활용할 수 있다.\n",
    "하지만 아직 정의되지 않은 메서드를 실행하면 `NotImplementedError`가 발생한다."
   ]
  },
  {
   "cell_type": "code",
   "execution_count": 45,
   "metadata": {},
   "outputs": [
    {
     "ename": "NotImplementedError",
     "evalue": "",
     "output_type": "error",
     "traceback": [
      "\u001b[0;31m---------------------------------------------------------------------------\u001b[0m",
      "\u001b[0;31mNotImplementedError\u001b[0m                       Traceback (most recent call last)",
      "Cell \u001b[0;32mIn[45], line 3\u001b[0m\n\u001b[1;32m      1\u001b[0m deque_adt \u001b[38;5;241m=\u001b[39m Deque()\n\u001b[0;32m----> 3\u001b[0m deque_adt\u001b[38;5;241m.\u001b[39mappendleft(\u001b[38;5;124m\"\u001b[39m\u001b[38;5;124m덱 항목\u001b[39m\u001b[38;5;124m\"\u001b[39m)\n",
      "Cell \u001b[0;32mIn[43], line 13\u001b[0m, in \u001b[0;36mDeque.appendleft\u001b[0;34m(self, item)\u001b[0m\n\u001b[1;32m     11\u001b[0m \u001b[38;5;28;01mdef\u001b[39;00m \u001b[38;5;21mappendleft\u001b[39m(\u001b[38;5;28mself\u001b[39m, item):\n\u001b[1;32m     12\u001b[0m \u001b[38;5;250m    \u001b[39m\u001b[38;5;124;03m\"\"\"꼬리에 항목 추가\"\"\"\u001b[39;00m\n\u001b[0;32m---> 13\u001b[0m     \u001b[38;5;28;01mraise\u001b[39;00m \u001b[38;5;167;01mNotImplementedError\u001b[39;00m\n",
      "\u001b[0;31mNotImplementedError\u001b[0m: "
     ]
    }
   ],
   "source": [
    "deque_adt = Deque()\n",
    "\n",
    "deque_adt.appendleft(\"덱 항목\")"
   ]
  },
  {
   "cell_type": "markdown",
   "metadata": {},
   "source": [
    "이렇듯 추상 자료형을 구체화시킨 객체를 추상 클래스의 인스턴스로 정의해서는 제대로 활용할 수 없다.\n",
    "이유는 추상 클래스에 포함된 추상 메서드가 제대로 구현되지 않았기 때문이다.\n",
    "따라서 포함된 모든 추상 메서드가 제대로 구현된 구상 클래스를 먼저 구현해야 한다.\n",
    "**구상 클래스**<font size='2'>concrete class</font>는 포함된 모든 메서드의 본문이 제대로 구현된 클래스를 가리킨다."
   ]
  },
  {
   "cell_type": "markdown",
   "metadata": {},
   "source": [
    "## 덱 자료구조 구현"
   ]
  },
  {
   "cell_type": "markdown",
   "metadata": {},
   "source": [
    "리스트를 활용할 때 중요한 것은 머리와 꼬리를 어디로 설정하는가이다. \n",
    "큐의 경우처럼 꼬리는 리스트의 시작, 머리는 리스트의 오른편 끝으로 정하며\n",
    "이에 따라 항목 추가와 삭제 함수를 적절하게 구현한다.\n",
    "\n",
    "- 머리\n",
    "    - 항목 추가: 리스트의 `append(item)` 활용. 시간복잡도는 $O(1)$.\n",
    "    - 항목 삭제: 리스트의 `pop()` 활용. 시간복잡도는 $O(1)$.\n",
    "- 꼬리\n",
    "    - 항목 추가: 리스트의 `insert(1, item)` 활용. 시간복잡도는 $O(n)$.\n",
    "    - 항목 삭제: 리스트의 `pop(0)` 활용. 시간복잡도는 $O(n)$."
   ]
  },
  {
   "cell_type": "code",
   "execution_count": 39,
   "metadata": {},
   "outputs": [],
   "source": [
    "class deque(Deque):\n",
    "    \"\"\"리스트를 활용한 덱 구현\"\"\"\n",
    "\n",
    "    def __init__(self, items=[]):\n",
    "        \"\"\"새로운 덱 생성\"\"\"\n",
    "        super().__init__(items)\n",
    "    \n",
    "    def __repr__(self):\n",
    "        \"\"\"덱 표기법: <~[1, 2, 3]~> 등등\"\"\"\n",
    "        return f\"deque({self._items})\"\n",
    "    \n",
    "    def append(self, item):\n",
    "        \"\"\"머리에 항목 추가\"\"\"\n",
    "        self._items.append(item)\n",
    "\n",
    "    def appendleft(self, item):\n",
    "        \"\"\"꼬리에 항목 추가\"\"\"\n",
    "        self._items.insert(0, item)\n",
    "\n",
    "    def pop(self):\n",
    "        \"\"\"머리 항목 삭제\"\"\"\n",
    "        return self._items.pop()\n",
    "\n",
    "    def popleft(self):\n",
    "        \"\"\"꼬리 항목 삭제\"\"\"\n",
    "        return self._items.pop(0)"
   ]
  },
  {
   "cell_type": "code",
   "execution_count": 41,
   "metadata": {},
   "outputs": [
    {
     "name": "stdout",
     "output_type": "stream",
     "text": [
      "deque(['dog', 4, 'cat', True])\n",
      "8.4\n",
      "True\n",
      "deque(['dog', 4, 'cat'])\n"
     ]
    }
   ],
   "source": [
    "d=deque([])\n",
    "d.append(4)\n",
    "d.appendleft('dog')\n",
    "d.append('cat')\n",
    "d.append(True)\n",
    "print(d)\n",
    "d.appendleft(8.4)\n",
    "print(d.popleft())\n",
    "print(d.pop())\n",
    "print(d)"
   ]
  },
  {
   "cell_type": "markdown",
   "metadata": {},
   "source": [
    "**예제: 편집기의 'undo'와 'redo'**"
   ]
  },
  {
   "cell_type": "markdown",
   "metadata": {},
   "source": [
    "문서 작성중에 'undo' 버튼을 누르면 마지막에 추가된 항목(머리 항목)이 삭제되는 동시에\n",
    "꼬리 항목으로 추가된다.\n",
    "이후 `redo` 버튼이 눌리면 꼬리 항목이 삭제되어 다시 머리 항목으로 추가된다."
   ]
  },
  {
   "cell_type": "markdown",
   "metadata": {},
   "source": [
    "**예제: 웹브라우저의 'back'과 'forward'**"
   ]
  },
  {
   "cell_type": "markdown",
   "metadata": {},
   "source": [
    "웹브라우저의 'back'과 'forward'의 기능도 덱과 유사하게 작동한다."
   ]
  },
  {
   "cell_type": "markdown",
   "metadata": {},
   "source": [
    "## 실전 예제: 회문<font size='2'>palindrome</font> 판별기"
   ]
  },
  {
   "cell_type": "markdown",
   "metadata": {},
   "source": [
    "'radar', 'toot', 'madam', '기러기', '실습실', '토마토' 등 앞으로 읽으나 뒤로 읽으나 동일한 단어가 되는 단어 또는 문장을 **회문**(palindrome)이라 부른다. \n",
    "주어진 문자열의 회문 여부를 판별하려면 문자열을 덱(deque) 객체로 만든 다음에\n",
    "머리와 꼬리에 위치한 항목의 일치여부를 확인하면 된다."
   ]
  },
  {
   "cell_type": "markdown",
   "metadata": {},
   "source": [
    "<figure>\n",
    "<div align=\"center\"><img src=\"https://runestone.academy/runestone/books/published/pythonds3/_images/palindromesetup.png\" width=\"70%\"></div>\n",
    "</figure>"
   ]
  },
  {
   "cell_type": "markdown",
   "metadata": {},
   "source": [
    "덱을 활용한 회문 판별기는 다음과 같이 구현할 수 있다."
   ]
  },
  {
   "cell_type": "code",
   "execution_count": 3,
   "metadata": {},
   "outputs": [],
   "source": [
    "def pal_checker(a_string):\n",
    "    char_deque = Deque()\n",
    "    \n",
    "    # 덱 객체 생성\n",
    "    for ch in a_string:\n",
    "        char_deque.add_rear(ch)\n",
    "\n",
    "    # 머리와 꼬리 항목 비교\n",
    "    while char_deque.size() > 1:\n",
    "        first = char_deque.remove_front()\n",
    "        last = char_deque.remove_rear()\n",
    "        if first != last:\n",
    "            return False\n",
    "\n",
    "    return True"
   ]
  },
  {
   "cell_type": "code",
   "execution_count": 4,
   "metadata": {},
   "outputs": [
    {
     "name": "stdout",
     "output_type": "stream",
     "text": [
      "False\n"
     ]
    }
   ],
   "source": [
    "print(pal_checker(\"tomato\"))"
   ]
  },
  {
   "cell_type": "code",
   "execution_count": 5,
   "metadata": {},
   "outputs": [
    {
     "name": "stdout",
     "output_type": "stream",
     "text": [
      "True\n"
     ]
    }
   ],
   "source": [
    "print(pal_checker(\"radar\"))"
   ]
  },
  {
   "cell_type": "code",
   "execution_count": 6,
   "metadata": {},
   "outputs": [
    {
     "name": "stdout",
     "output_type": "stream",
     "text": [
      "True\n"
     ]
    }
   ],
   "source": [
    "print(pal_checker(\"기러기\"))"
   ]
  },
  {
   "cell_type": "code",
   "execution_count": 7,
   "metadata": {},
   "outputs": [
    {
     "name": "stdout",
     "output_type": "stream",
     "text": [
      "True\n"
     ]
    }
   ],
   "source": [
    "print(pal_checker(\"토마토\"))"
   ]
  },
  {
   "cell_type": "code",
   "execution_count": 8,
   "metadata": {},
   "outputs": [
    {
     "name": "stdout",
     "output_type": "stream",
     "text": [
      "False\n"
     ]
    }
   ],
   "source": [
    "print(pal_checker(\"사이다\"))"
   ]
  },
  {
   "cell_type": "markdown",
   "metadata": {},
   "source": [
    "## 연습문제"
   ]
  },
  {
   "cell_type": "markdown",
   "metadata": {},
   "source": [
    "1. [(실습) 덱](https://colab.research.google.com/github/codingalzi/algopy/blob/master/excs/exc-deques.ipynb)"
   ]
  }
 ],
 "metadata": {
  "kernelspec": {
   "display_name": "Python 3 (ipykernel)",
   "language": "python",
   "name": "python3"
  },
  "language_info": {
   "codemirror_mode": {
    "name": "ipython",
    "version": 3
   },
   "file_extension": ".py",
   "mimetype": "text/x-python",
   "name": "python",
   "nbconvert_exporter": "python",
   "pygments_lexer": "ipython3",
   "version": "3.12.2"
  },
  "vscode": {
   "interpreter": {
    "hash": "6c86b3592b6800d985c04531f2c445f0fa6967131b8dd6395a925f7622e55602"
   }
  }
 },
 "nbformat": 4,
 "nbformat_minor": 4
}