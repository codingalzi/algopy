{
 "cells": [
  {
   "cell_type": "markdown",
   "metadata": {},
   "source": [
    "# 연결 리스트"
   ]
  },
  {
   "cell_type": "markdown",
   "metadata": {},
   "source": [
    "Copyright (C)  Brad Miller, David Ranum.\n",
    "This work is licensed under the Creative Commons Attribution-NonCommercial-ShareAlike 4.0 International License. To view a copy of this license, visit http://creativecommons.org/licenses/by-nc-sa/4.0/."
   ]
  },
  {
   "cell_type": "markdown",
   "metadata": {},
   "source": [
    "## 4.19 Lists"
   ]
  },
  {
   "cell_type": "markdown",
   "metadata": {},
   "source": [
    "Throughout the discussion of basic data structures, we have used Python\n",
    "lists to implement the abstract data types presented. The list is a\n",
    "powerful, yet simple, collection mechanism that provides the programmer\n",
    "with a wide variety of operations. However, not all programming\n",
    "languages include a list collection. In these cases, the notion of a\n",
    "list must be implemented by the programmer.\n",
    "\n",
    "A **list** is a collection of items where each item holds a relative\n",
    "position with respect to the others. More specifically, we will refer to\n",
    "this type of list as an unordered list. We can consider the list as\n",
    "having a first item, a second item, a third item, and so on. We can also\n",
    "refer to the beginning of the list (the first item) or the end of the\n",
    "list (the last item). For simplicity we will assume that lists cannot\n",
    "contain duplicate items.\n",
    "\n",
    "For example, the collection of integers 54, 26, 93, 17, 77, and 31 might\n",
    "represent a simple unordered list of exam scores. Note that we have\n",
    "written them as comma-delimited values, a common way of showing the list\n",
    "structure. Of course, Python would show this list as\n",
    "``[54, 26, 93, 17, 77, 31]``."
   ]
  },
  {
   "cell_type": "markdown",
   "metadata": {},
   "source": [
    "## 4.20 The Unordered List Abstract Data Type"
   ]
  },
  {
   "cell_type": "markdown",
   "metadata": {},
   "source": [
    "The structure of an unordered list, as described above, is a collection\n",
    "of items where each item holds a relative position with respect to the\n",
    "others. Some possible unordered list operations are given below.\n",
    "\n",
    "-  ``List()`` creates a new list that is empty. It needs no parameters\n",
    "   and returns an empty list.\n",
    "\n",
    "-  ``add(item)`` adds a new item to the list. It needs the item and\n",
    "   returns nothing. Assume the item is not already in the list.\n",
    "\n",
    "-  ``remove(item)`` removes the item from the list. It needs the item\n",
    "   and modifies the list. Raise an error if the item is not present in the list.\n",
    "\n",
    "-  ``search(item)`` searches for the item in the list. It needs the item\n",
    "   and returns a boolean value.\n",
    "\n",
    "-  ``is_empty()`` tests to see whether the list is empty. It needs no\n",
    "   parameters and returns a boolean value.\n",
    "\n",
    "-  ``size()`` returns the number of items in the list. It needs no\n",
    "   parameters and returns an integer.\n",
    "\n",
    "-  ``append(item)`` adds a new item to the end of the list making it the\n",
    "   last item in the collection. It needs the item and returns nothing.\n",
    "   Assume the item is not already in the list.\n",
    "\n",
    "-  ``index(item)`` returns the position of item in the list. It needs\n",
    "   the item and returns the index. Assume the item is in the list.\n",
    "\n",
    "-  ``insert(pos, item)`` adds a new item to the list at position pos. It\n",
    "   needs the item and returns nothing. Assume the item is not already in\n",
    "   the list and there are enough existing items to have position pos.\n",
    "\n",
    "-  ``pop()`` removes and returns the last item in the list. It needs\n",
    "   nothing and returns an item. Assume the list has at least one item.\n",
    "\n",
    "-  ``pop(pos)`` removes and returns the item at position pos. It needs\n",
    "   the position and returns the item. Assume the item is in the list."
   ]
  },
  {
   "cell_type": "markdown",
   "metadata": {},
   "source": [
    "## 4.21 Implementing an Unordered List: Linked Lists"
   ]
  },
  {
   "cell_type": "markdown",
   "metadata": {},
   "source": [
    "In order to implement an unordered list, we will construct what is\n",
    "commonly known as a **linked list**. Recall that we need to be sure that\n",
    "we can maintain the relative positioning of the items. However, there is\n",
    "no requirement that we maintain that positioning in contiguous memory.\n",
    "For example, consider the collection of items shown in\n",
    ":ref:`Figure 1 <fig_idea>`. It appears that these values have been placed\n",
    "randomly. If we can maintain some explicit information in each item,\n",
    "namely the location of the next item (see :ref:`Figure 2 <fig_idea2>`), then the\n",
    "relative position of each item can be expressed by simply following the\n",
    "link from one item to the next."
   ]
  },
  {
   "cell_type": "markdown",
   "metadata": {},
   "source": [
    "    .. figure:: Figures/idea.png\n",
    "       :align: center\n",
    "\n",
    "       Figure 1: Items Not Constrained in Their Physical Placement"
   ]
  },
  {
   "cell_type": "markdown",
   "metadata": {},
   "source": [
    "    .. figure:: Figures/idea2.png\n",
    "       :align: center\n",
    "\n",
    "       Figure 2: Relative Positions Maintained by Explicit Links."
   ]
  },
  {
   "cell_type": "markdown",
   "metadata": {},
   "source": [
    "It is important to note that the location of the first item of the list\n",
    "must be explicitly specified. Once we know where the first item is, the\n",
    "first item can tell us where the second is, and so on. The external\n",
    "reference is often referred to as the **head** of the list. Similarly,\n",
    "the last item needs to know that there is no next item."
   ]
  },
  {
   "cell_type": "markdown",
   "metadata": {},
   "source": [
    "### 4.21 The ``Node`` Class"
   ]
  },
  {
   "cell_type": "markdown",
   "metadata": {},
   "source": [
    "The basic building block for the linked list implementation is the\n",
    "**node**. Each node object must hold at least two pieces of information.\n",
    "First, the node must contain the list item itself. We will call this the\n",
    "**data field** of the node. In addition, each node must hold a reference\n",
    "to the next node. :ref:`Listing 1 <lst_nodeclass>` shows the Python\n",
    "implementation. To construct a node, you need to supply the initial data\n",
    "value for the node. Evaluating the assignment statement below will yield\n",
    "a node object containing the value 93 (see :ref:`Figure 3 <fig_node>`). You\n",
    "should note that we will typically represent a node object as shown in\n",
    ":ref:`Figure 4 <fig_node2>`. Hidden fields ``_data`` and ``_next`` of the ``Node`` class\n",
    "are turned into properties and can be accessed as ``data`` and ``next`` respectively."
   ]
  },
  {
   "cell_type": "markdown",
   "metadata": {},
   "source": [
    "**Listing 1**"
   ]
  },
  {
   "cell_type": "code",
   "execution_count": 1,
   "metadata": {},
   "outputs": [],
   "source": [
    "class Node:\n",
    "    \"\"\"A node of a linked list\"\"\"\n",
    "\n",
    "    def __init__(self, node_data):\n",
    "        self._data = node_data\n",
    "        self._next = None\n",
    "\n",
    "    def get_data(self):\n",
    "        \"\"\"Get node data\"\"\"\n",
    "        return self._data\n",
    "\n",
    "    def set_data(self, node_data):\n",
    "        \"\"\"Set node data\"\"\"\n",
    "        self._data = node_data\n",
    "\n",
    "    data = property(get_data, set_data)\n",
    "\n",
    "    def get_next(self):\n",
    "        \"\"\"Get next node\"\"\"\n",
    "        return self._next\n",
    "\n",
    "    def set_next(self, node_next):\n",
    "        \"\"\"Set next node\"\"\"\n",
    "        self._next = node_next\n",
    "\n",
    "    next = property(get_next, set_next)\n",
    "\n",
    "    def __str__(self):\n",
    "        \"\"\"String\"\"\"\n",
    "        return str(self._data)"
   ]
  },
  {
   "cell_type": "markdown",
   "metadata": {},
   "source": [
    "We create ``Node`` objects in the usual way."
   ]
  },
  {
   "cell_type": "markdown",
   "metadata": {},
   "source": [
    "```python\n",
    ">>> temp = Node(93)\n",
    ">>> temp.data\n",
    "93\n",
    "```"
   ]
  },
  {
   "cell_type": "markdown",
   "metadata": {},
   "source": [
    "The special Python reference value ``None`` will play an important role\n",
    "in the ``Node`` class and later in the linked list itself. A reference\n",
    "to ``None`` will denote the fact that there is no next node. Note in the\n",
    "constructor that a node is initially created with ``next`` set to\n",
    "``None``. Since this is sometimes referred to as “grounding the node,”\n",
    "we will use the standard ground symbol to denote a reference that is\n",
    "referring to ``None``. It is always a good idea to explicitly assign\n",
    "``None`` to your initial next reference values."
   ]
  },
  {
   "cell_type": "markdown",
   "metadata": {},
   "source": [
    "    .. figure:: Figures/node.png\n",
    "       :align: center\n",
    "\n",
    "       Figure 3: A Node Object Contains the Item and a Reference to the Next Node"
   ]
  },
  {
   "cell_type": "markdown",
   "metadata": {},
   "source": [
    "    .. figure:: Figures/node2.png\n",
    "       :align: center\n",
    "\n",
    "       Figure 4: A Typical Representation for a Node"
   ]
  },
  {
   "cell_type": "markdown",
   "metadata": {},
   "source": [
    "4.21.2 The ``Unordered List`` Class"
   ]
  },
  {
   "cell_type": "markdown",
   "metadata": {},
   "source": [
    "As we suggested above, the unordered list will be built from a\n",
    "collection of nodes, each linked to the next by explicit references. As\n",
    "long as we know where to find the first node (containing the first\n",
    "item), each item after that can be found by successively following the\n",
    "next links. With this in mind, the ``UnorderedList`` class must maintain\n",
    "a reference to the first node. :ref:`Listing 2 <lst_listclass>` shows the\n",
    "constructor. Note that each list object will maintain a single reference\n",
    "to the head of the list."
   ]
  },
  {
   "cell_type": "markdown",
   "metadata": {},
   "source": [
    "**Listing 2**"
   ]
  },
  {
   "cell_type": "code",
   "execution_count": 2,
   "metadata": {},
   "outputs": [],
   "source": [
    "class UnorderedList:\n",
    "\n",
    "    def __init__(self):\n",
    "        self.head = None"
   ]
  },
  {
   "cell_type": "markdown",
   "metadata": {},
   "source": [
    "Initially when we construct a list, there are no items. The assignment\n",
    "statement\n",
    "\n",
    "```python\n",
    ">>> my_list = UnorderedList()\n",
    "```\n",
    "\n",
    "creates the linked list representation shown in\n",
    ":ref:`Figure 5 <fig_initlinkedlist>`. As we discussed in the ``Node`` class, the\n",
    "special reference ``None`` will again be used to state that the head of\n",
    "the list does not refer to anything. Eventually, the example list given\n",
    "earlier will be represented by a linked list as shown in\n",
    ":ref:`Figure 6 <fig_linkedlist>`. The head of the list refers to the first node\n",
    "which contains the first item of the list. In turn, that node holds a\n",
    "reference to the next node (the next item) and so on. It is very\n",
    "important to note that the list class itself does not contain any node\n",
    "objects. Instead it contains a single reference to only the first node\n",
    "in the linked structure."
   ]
  },
  {
   "cell_type": "markdown",
   "metadata": {},
   "source": [
    "    .. figure:: Figures/initlinkedlist.png\n",
    "       :align: center\n",
    "\n",
    "       Figure 5: An Empty List"
   ]
  },
  {
   "cell_type": "markdown",
   "metadata": {},
   "source": [
    "    .. figure:: Figures/linkedlist.png\n",
    "       :align: center\n",
    "\n",
    "       Figure 6: A Linked List of Integers"
   ]
  },
  {
   "cell_type": "markdown",
   "metadata": {},
   "source": [
    "The ``is_empty`` method, shown in :ref:`Listing 3 <lst_isempty>`, simply checks to\n",
    "see if the head of the list is a reference to ``None``. The result of\n",
    "the boolean expression ``self.head == None`` will only be true if there\n",
    "are no nodes in the linked list. Since a new list is empty, the\n",
    "constructor and the check for empty must be consistent with one another.\n",
    "This shows the advantage to using the reference ``None`` to denote the\n",
    "“end” of the linked structure. In Python, ``None`` can be compared to\n",
    "any reference. Two references are equal if they both refer to the same\n",
    "object. We will use this often in our remaining methods."
   ]
  },
  {
   "cell_type": "markdown",
   "metadata": {},
   "source": [
    "**Listing 3**"
   ]
  },
  {
   "cell_type": "code",
   "execution_count": 3,
   "metadata": {},
   "outputs": [],
   "source": [
    "def is_empty(self):\n",
    "    return self.head == None"
   ]
  },
  {
   "cell_type": "markdown",
   "metadata": {},
   "source": [
    "So, how do we get items into our list? We need to implement the ``add``\n",
    "method. However, before we can do that, we need to address the important\n",
    "question of where in the linked list to place the new item. Since this\n",
    "list is unordered, the specific location of the new item with respect to\n",
    "the other items already in the list is not important. The new item can\n",
    "go anywhere. With that in mind, it makes sense to place the new item in\n",
    "the easiest location possible.\n",
    "\n",
    "Recall that the linked list structure provides us with only one entry\n",
    "point, the head of the list. All of the other nodes can only be reached\n",
    "by accessing the first node and then following ``next`` links. This\n",
    "means that the easiest place to add the new node is right at the head,\n",
    "or beginning, of the list. In other words, we will make the new item the\n",
    "first item of the list and the existing items will need to be linked to\n",
    "this new first item so that they follow."
   ]
  },
  {
   "cell_type": "markdown",
   "metadata": {},
   "source": [
    "The linked list shown in :ref:`Figure 6 <fig_linkedlist>` was built by calling\n",
    "the ``add`` method a number of times.\n",
    "\n",
    "```python\n",
    ">>> my_list.add(31)\n",
    ">>> my_list.add(77)\n",
    ">>> my_list.add(17)\n",
    ">>> my_list.add(93)\n",
    ">>> my_list.add(26)\n",
    ">>> my_list.add(54)\n",
    "```\n",
    "\n",
    "Note that since 31 is the first item added to the list, it will\n",
    "eventually be the last node on the linked list as every other item is\n",
    "added ahead of it. Also, since 54 is the last item added, it will become\n",
    "the data value in the first node of the linked list."
   ]
  },
  {
   "cell_type": "markdown",
   "metadata": {},
   "source": [
    "The ``add`` method is shown in :ref:`Listing 4 <lst_add>`. Each item of the list\n",
    "must reside in a node object. Line 2 creates a new node and places the\n",
    "item as its data. Now we must complete the process by linking the new\n",
    "node into the existing structure. This requires two steps as shown in\n",
    ":ref:`Figure 7 <fig_addtohead>`. Step 1 (line 3) changes the ``next`` reference\n",
    "of the new node to refer to the old first node of the list. Now that the\n",
    "rest of the list has been properly attached to the new node, we can\n",
    "modify the head of the list to refer to the new node. The assignment\n",
    "statement in line 4 sets the head of the list.\n",
    "\n",
    "The order of the two steps described above is very important. What\n",
    "happens if the order of line 3 and line 4 is reversed? If the\n",
    "modification of the head of the list happens first, the result can be\n",
    "seen in :ref:`Figure 8 <fig_wrongorder>`. Since the head was the only external\n",
    "reference to the list nodes, all of the original nodes are lost and can\n",
    "no longer be accessed."
   ]
  },
  {
   "cell_type": "markdown",
   "metadata": {},
   "source": [
    "**Listing 4**"
   ]
  },
  {
   "cell_type": "code",
   "execution_count": 4,
   "metadata": {},
   "outputs": [],
   "source": [
    "def add(self, item):\n",
    "    temp = Node(item)\n",
    "    temp.set_next(self.head)\n",
    "    self.head = temp"
   ]
  },
  {
   "cell_type": "markdown",
   "metadata": {},
   "source": [
    "    .. figure:: Figures/addtohead.png\n",
    "       :align: center\n",
    "\n",
    "       Figure 7: Adding a New Node is a Two-Step Process"
   ]
  },
  {
   "cell_type": "markdown",
   "metadata": {},
   "source": [
    "    .. figure:: Figures/wrongorder.png\n",
    "       :align: center\n",
    "\n",
    "       Figure 8: Result of Reversing the Order of the Two Steps"
   ]
  },
  {
   "cell_type": "markdown",
   "metadata": {},
   "source": [
    "The next methods that we will implement–``size``, ``search``, and\n",
    "``remove``–are all based on a technique known as **linked list\n",
    "traversal**. Traversal refers to the process of systematically visiting\n",
    "each node. To do this we use an external reference that starts at the\n",
    "first node in the list. As we visit each node, we move the reference to\n",
    "the next node by “traversing” the next reference.\n",
    "\n",
    "To implement the ``size`` method, we need to traverse the linked list\n",
    "and keep a count of the number of nodes that occurred.\n",
    ":ref:`Listing 5 <lst_length>` shows the Python code for counting the number of\n",
    "nodes in the list. The external reference is called ``current`` and is\n",
    "initialized to the head of the list in line 2. At the start of the\n",
    "process we have not seen any nodes so the count is set to :math:`0`.\n",
    "Lines 4–6 actually implement the traversal. As long as the current\n",
    "reference has not seen the end of the list (``None``), we move current\n",
    "along to the next node via the assignment statement in line 6. Again,\n",
    "the ability to compare a reference to ``None`` is very useful. Every\n",
    "time current moves to a new node, we add :math:`1` to ``count``.\n",
    "Finally, ``count`` gets returned after the iteration stops.\n",
    ":ref:`Figure 9 <fig_traversal>` shows this process as it proceeds down the list."
   ]
  },
  {
   "cell_type": "markdown",
   "metadata": {},
   "source": [
    "**Listing 5**"
   ]
  },
  {
   "cell_type": "code",
   "execution_count": 5,
   "metadata": {},
   "outputs": [],
   "source": [
    "def size(self):\n",
    "    current = self.head\n",
    "    count = 0\n",
    "    while current is not None:\n",
    "        count = count + 1\n",
    "        current = current.next\n",
    "\n",
    "    return count"
   ]
  },
  {
   "cell_type": "markdown",
   "metadata": {},
   "source": [
    "    .. figure:: Figures/traversal.png\n",
    "       :align: center\n",
    "\n",
    "       Figure 9: Traversing the Linked List from the Head to the End"
   ]
  },
  {
   "cell_type": "markdown",
   "metadata": {},
   "source": [
    "Searching for a value in a linked list implementation of an unordered\n",
    "list also uses the traversal technique. As we visit each node in the\n",
    "linked list we will ask whether the data stored there matches the item\n",
    "we are looking for. In this case, however, we may not have to traverse\n",
    "all the way to the end of the list. In fact, if we do get to the end of\n",
    "the list, that means that the item we are looking for must not be\n",
    "present. Also, if we do find the item, there is no need to continue.\n",
    "\n",
    ":ref:`Listing 6 <lst_search>` shows the implementation for the ``search`` method.\n",
    "As in the ``size`` method, the traversal is initialized to start at\n",
    "the head of the list (line 2). We continue to iterate over the list as long as there are\n",
    "more nodes to visit. The question in line 4 asks whether\n",
    "the data item is present in the current node. If so, we return ``True`` immediately."
   ]
  },
  {
   "cell_type": "markdown",
   "metadata": {},
   "source": [
    "**Listing 6**"
   ]
  },
  {
   "cell_type": "code",
   "execution_count": 6,
   "metadata": {},
   "outputs": [],
   "source": [
    "def search(self, item):\n",
    "    current = self.head\n",
    "    while current is not None:\n",
    "        if current.data == item:\n",
    "            return True\n",
    "        current = current.next\n",
    "\n",
    "    return False"
   ]
  },
  {
   "cell_type": "markdown",
   "metadata": {},
   "source": [
    "As an example, consider invoking the ``search`` method looking for the\n",
    "item 17.\n",
    "\n",
    "```python\n",
    ">>> my_list.search(17)\n",
    "True\n",
    "```\n",
    "\n",
    "Since 17 is in the list, the traversal process needs to move only to the\n",
    "node containing 17. At that point, the condition in line 4 becomes ``True`` and\n",
    "we return the result of the search.\n",
    "This process can be seen in :ref:`Figure 10 <fig_searchpic>`."
   ]
  },
  {
   "cell_type": "markdown",
   "metadata": {},
   "source": [
    "    .. figure:: Figures/search.png\n",
    "       :align: center\n",
    "\n",
    "       Figure 10: Successful Search for the Value 17"
   ]
  },
  {
   "cell_type": "markdown",
   "metadata": {},
   "source": [
    "The ``remove`` method requires two logical steps. First, we need to\n",
    "traverse the list looking for the item we want to remove. Once we find\n",
    "the item , we must remove it. If the item is not in the list, our method\n",
    "should raise a ``ValueError``.\n",
    "\n",
    "The first step is very similar to ``search``. Starting with an external\n",
    "reference set to the head of the list, we traverse the links until we\n",
    "discover the item we are looking for.\n",
    "\n",
    "When the item is found and we break out of the loop, ``current`` will be a reference to the\n",
    "node containing the item to be removed. But how do we remove it? One\n",
    "possibility would be to replace the value of the item with some marker\n",
    "that suggests that the item is no longer present. The problem with this\n",
    "approach is the number of nodes will no longer match the number of\n",
    "items. It would be much better to remove the item by removing the entire\n",
    "node."
   ]
  },
  {
   "cell_type": "markdown",
   "metadata": {},
   "source": [
    "In order to remove the node containing the item, we need to modify the\n",
    "link in the previous node so that it refers to the node that comes after\n",
    "``current``. Unfortunately, there is no way to go backward in the linked\n",
    "list. Since ``current`` refers to the node ahead of the node where we\n",
    "would like to make the change, it is too late to make the necessary\n",
    "modification.\n",
    "\n",
    "The solution to this dilemma is to use two external references as we\n",
    "traverse down the linked list. ``current`` will behave just as it did\n",
    "before, marking the current location of the traverse. The new reference,\n",
    "which we will call ``previous``, will always travel one node behind\n",
    "``current``. That way, when ``current`` stops at the node to be removed,\n",
    "``previous`` will be referring to the proper place in the linked list\n",
    "for the modification.\n",
    "\n",
    ":ref:`Listing 7 <lst_remove>` shows the complete ``remove`` method. Lines 2–3\n",
    "assign initial values to the two references. Note that ``current``\n",
    "starts out at the list head as in the other traversal examples.\n",
    "``previous``, however, is assumed to always travel one node behind\n",
    "current. For this reason, ``previous`` starts out with a value of\n",
    "``None`` since there is no node before the head (see\n",
    ":ref:`Figure 11 <fig_removeinit>`)."
   ]
  },
  {
   "cell_type": "markdown",
   "metadata": {},
   "source": [
    "In lines 6–7 we ask whether the item stored in the current node is the\n",
    "item we wish to remove. If so, we break out of the loop. If we\n",
    "do not find the item, ``previous`` and ``current`` must both be moved\n",
    "one node ahead. Again, the order of these two statements is crucial.\n",
    "``previous`` must first be moved one node ahead to the location of\n",
    "``current``. At that point, ``current`` can be moved. This process is\n",
    "often referred to as “inch-worming” as ``previous`` must catch up to\n",
    "``current`` before ``current`` moves ahead. :ref:`Figure 12 <fig_prevcurr>` shows\n",
    "the movement of ``previous`` and ``current`` as they progress down the\n",
    "list looking for the node containing the value 17."
   ]
  },
  {
   "cell_type": "markdown",
   "metadata": {},
   "source": [
    "**Listing 7**"
   ]
  },
  {
   "cell_type": "code",
   "execution_count": 7,
   "metadata": {},
   "outputs": [],
   "source": [
    "def remove(self, item):\n",
    "    current = self.head\n",
    "    previous = None\n",
    "\n",
    "    while current is not None:\n",
    "        if current.data == item:\n",
    "            break\n",
    "        previous = current\n",
    "        current = current.next\n",
    "\n",
    "    if current is None:\n",
    "        raise ValueError(\"{} is not in the list\".format(item))\n",
    "    if previous is None:\n",
    "        self.head = current.next\n",
    "    else:\n",
    "        previous.next = current.next"
   ]
  },
  {
   "cell_type": "markdown",
   "metadata": {},
   "source": [
    "    .. figure:: Figures/removeinit.png\n",
    "       :align: center\n",
    "\n",
    "       Figure 11: Initial Values for the ``previous`` and ``current`` References"
   ]
  },
  {
   "cell_type": "markdown",
   "metadata": {},
   "source": [
    "    .. figure:: Figures/prevcurr.png\n",
    "       :align: center\n",
    "\n",
    "       Figure 12: ``previous`` and ``current`` Move Down the List"
   ]
  },
  {
   "cell_type": "markdown",
   "metadata": {},
   "source": [
    "Once the searching step of the ``remove`` has been completed, we need to\n",
    "remove the node from the linked list. :ref:`Figure 13 <fig_removepic1>` shows the\n",
    "link that must be modified. However, there is a special case that needs\n",
    "to be addressed. If the item to be removed happens to be the first item\n",
    "in the list, then ``current`` will reference the first node in the\n",
    "linked list. This also means that ``previous`` will be ``None``. We said\n",
    "earlier that ``previous`` would be referring to the node whose next\n",
    "reference needs to be modified in order to complete the remove. In this\n",
    "case, it is not ``previous`` but rather the head of the list that needs\n",
    "to be changed (see :ref:`Figure 14 <fig_removehead>`). Another special case occurs if\n",
    "the item is not in the list. In that case ``current is None`` evaluates to ``True``\n",
    "and an error is raised."
   ]
  },
  {
   "cell_type": "markdown",
   "metadata": {},
   "source": [
    "    .. figure:: Figures/remove.png\n",
    "       :align: center\n",
    "\n",
    "       Figure 13: Removing an Item from the Middle of the List"
   ]
  },
  {
   "cell_type": "markdown",
   "metadata": {},
   "source": [
    "    .. figure:: Figures/remove2.png\n",
    "       :align: center\n",
    "\n",
    "       Figure 14: Removing the First Node from the List"
   ]
  },
  {
   "cell_type": "markdown",
   "metadata": {},
   "source": [
    "Line 13 allows us to check whether we are dealing with the special case\n",
    "described above. If ``previous`` did not move, it will still have the\n",
    "value ``None`` when the loop breaks. In that case\n",
    "(line 14) the head of the list is modified to refer to the node after\n",
    "the current node, in effect removing the first node from the linked\n",
    "list. However, if previous is not ``None``, the node to be removed is\n",
    "somewhere down the linked list structure. In this case the previous\n",
    "reference is providing us with the node whose next reference must be\n",
    "changed. Line 16 modifies the ``next`` property of the ``previous`` to\n",
    "accomplish the removal. Note that in both cases the destination of the\n",
    "reference change is ``current.next``. One question that often\n",
    "arises is whether the two cases shown here will also handle the\n",
    "situation where the item to be removed is in the last node of the linked\n",
    "list. We leave that for you to consider.\n",
    "\n",
    "You can try out the ``UnorderedList`` class in ActiveCode 1.  "
   ]
  },
  {
   "cell_type": "markdown",
   "metadata": {},
   "source": [
    "    .. activecode:: unorderedlistcomplete\n",
    "        :caption: The Complete UnorderedList Class\n",
    "        :hidecode:\n",
    "        :nocodelens:"
   ]
  },
  {
   "cell_type": "code",
   "execution_count": 8,
   "metadata": {},
   "outputs": [
    {
     "name": "stdout",
     "output_type": "stream",
     "text": [
      "6\n",
      "True\n",
      "False\n",
      "True\n",
      "7\n",
      "6\n",
      "5\n",
      "4\n",
      "False\n",
      "27 is not in the list\n"
     ]
    }
   ],
   "source": [
    "class Node:\n",
    "    \"\"\"A node of a linked list\"\"\"\n",
    "\n",
    "    def __init__(self, node_data):\n",
    "        self._data = node_data\n",
    "        self._next = None\n",
    "\n",
    "    def get_data(self):\n",
    "        \"\"\"Get node data\"\"\"\n",
    "        return self._data\n",
    "\n",
    "    def set_data(self, node_data):\n",
    "        \"\"\"Set node data\"\"\"\n",
    "        self._data = node_data\n",
    "\n",
    "    data = property(get_data, set_data)\n",
    "\n",
    "    def get_next(self):\n",
    "        \"\"\"Get next node\"\"\"\n",
    "        return self._next\n",
    "\n",
    "    def set_next(self, node_next):\n",
    "        \"\"\"Set next node\"\"\"\n",
    "        self._next = node_next\n",
    "\n",
    "    next = property(get_next, set_next)\n",
    "\n",
    "    def __str__(self):\n",
    "        \"\"\"String\"\"\"\n",
    "        return str(self._data)\n",
    "\n",
    "\n",
    "class UnorderedList:\n",
    "    def __init__(self):\n",
    "        self.head = None\n",
    "\n",
    "    def is_empty(self):\n",
    "        return self.head == None\n",
    "\n",
    "    def add(self, item):\n",
    "        temp = Node(item)\n",
    "        temp.set_next(self.head)\n",
    "        self.head = temp\n",
    "\n",
    "    def size(self):\n",
    "        current = self.head\n",
    "        count = 0\n",
    "        while current is not None:\n",
    "            count = count + 1\n",
    "            current = current.next\n",
    "\n",
    "        return count\n",
    "\n",
    "    def search(self, item):\n",
    "        current = self.head\n",
    "        while current is not None:\n",
    "            if current.data == item:\n",
    "                return True\n",
    "            current = current.next\n",
    "\n",
    "        return False\n",
    "\n",
    "    def remove(self, item):\n",
    "        current = self.head\n",
    "        previous = None\n",
    "\n",
    "        while current is not None:\n",
    "            if current.data == item:\n",
    "                break\n",
    "            previous = current\n",
    "            current = current.next\n",
    "\n",
    "        if current is None:\n",
    "            raise ValueError(\"{} is not in the list\".format(item))\n",
    "        if previous is None:\n",
    "            self.head = current.next\n",
    "        else:\n",
    "            previous.next = current.next\n",
    "\n",
    "\n",
    "my_list = UnorderedList()\n",
    "\n",
    "my_list.add(31)\n",
    "my_list.add(77)\n",
    "my_list.add(17)\n",
    "my_list.add(93)\n",
    "my_list.add(26)\n",
    "my_list.add(54)\n",
    "\n",
    "print(my_list.size())\n",
    "print(my_list.search(93))\n",
    "print(my_list.search(100))\n",
    "\n",
    "my_list.add(100)\n",
    "print(my_list.search(100))\n",
    "print(my_list.size())\n",
    "\n",
    "my_list.remove(54)\n",
    "print(my_list.size())\n",
    "my_list.remove(93)\n",
    "print(my_list.size())\n",
    "my_list.remove(31)\n",
    "print(my_list.size())\n",
    "print(my_list.search(93))\n",
    "\n",
    "try:\n",
    "    my_list.remove(27)\n",
    "except ValueError as ve:\n",
    "    print(ve)"
   ]
  },
  {
   "cell_type": "markdown",
   "metadata": {},
   "source": [
    "The remaining methods ``append``, ``insert``, ``index``, and ``pop`` are\n",
    "left as exercises. Remember that each of these must take into account\n",
    "whether the change is taking place at the head of the list or someplace\n",
    "else. Also, ``insert``, ``index``, and ``pop`` require that we name the\n",
    "positions of the list. We will assume that position names are integers\n",
    "starting with 0."
   ]
  },
  {
   "cell_type": "markdown",
   "metadata": {},
   "source": [
    "__Self Check__"
   ]
  },
  {
   "cell_type": "markdown",
   "metadata": {},
   "source": [
    "Part I:  Implement the append method for UnorderedList.  What is the time complexity of the method you created?"
   ]
  },
  {
   "cell_type": "code",
   "execution_count": 9,
   "metadata": {},
   "outputs": [],
   "source": [
    "class Node:\n",
    "    \"\"\"A node of a linked list\"\"\"\n",
    "\n",
    "    def __init__(self, node_data):\n",
    "        self._data = node_data\n",
    "        self._next = None\n",
    "\n",
    "    def get_data(self):\n",
    "        \"\"\"Get node data\"\"\"\n",
    "        return self._data\n",
    "\n",
    "    def set_data(self, node_data):\n",
    "        \"\"\"Set node data\"\"\"\n",
    "        self._data = node_data\n",
    "\n",
    "    data = property(get_data, set_data)\n",
    "\n",
    "    def get_next(self):\n",
    "        \"\"\"Get next node\"\"\"\n",
    "        return self._next\n",
    "\n",
    "    def set_next(self, node_next):\n",
    "        \"\"\"Set next node\"\"\"\n",
    "        self._next = node_next\n",
    "\n",
    "    next = property(get_next, set_next)\n",
    "\n",
    "    def __str__(self):\n",
    "        \"\"\"String\"\"\"\n",
    "        return str(self._data)\n",
    "\n",
    "\n",
    "class UnorderedList:\n",
    "    def __init__(self):\n",
    "        self.head = None\n",
    "\n",
    "    def is_empty(self):\n",
    "        return self.head == None\n",
    "\n",
    "    def add(self, item):\n",
    "        temp = Node(item)\n",
    "        temp.set_next(self.head)\n",
    "        self.head = temp\n",
    "\n",
    "    def size(self):\n",
    "        current = self.head\n",
    "        count = 0\n",
    "        while current is not None:\n",
    "            count = count + 1\n",
    "            current = current.next\n",
    "\n",
    "        return count\n",
    "\n",
    "    def search(self, item):\n",
    "        current = self.head\n",
    "        while current is not None:\n",
    "            if current.data == item:\n",
    "                return True\n",
    "            current = current.next\n",
    "\n",
    "        return False\n",
    "\n",
    "    def remove(self, item):\n",
    "        current = self.head\n",
    "        previous = None\n",
    "\n",
    "        while current is not None:\n",
    "            if current.data == item:\n",
    "                break\n",
    "            previous = current\n",
    "            current = current.next\n",
    "\n",
    "        if current is None:\n",
    "            raise ValueError(\"{} is not in the list\".format(item))\n",
    "        if previous is None:\n",
    "            self.head = current.next\n",
    "        else:\n",
    "            previous.next = current.next\n",
    "\n",
    "\n",
    "my_list = UnorderedList()"
   ]
  },
  {
   "cell_type": "markdown",
   "metadata": {},
   "source": [
    "Part II:  In the previous problem, you most likely created an append method that was :math:`O(n)`  If you add an instance variable to the UnorderedList class you can create an append method that is :math:`O(1)`.  Modify your append method to be :math:`O(1)`  Be Careful!  To really do this correctly you will need to consider a couple of special cases that may require you to make a modification to the add method as well."
   ]
  },
  {
   "cell_type": "code",
   "execution_count": 10,
   "metadata": {},
   "outputs": [],
   "source": [
    "class Node:\n",
    "    \"\"\"A node of a linked list\"\"\"\n",
    "\n",
    "    def __init__(self, node_data):\n",
    "        self._data = node_data\n",
    "        self._next = None\n",
    "\n",
    "    def get_data(self):\n",
    "        \"\"\"Get node data\"\"\"\n",
    "        return self._data\n",
    "\n",
    "    def set_data(self, node_data):\n",
    "        \"\"\"Set node data\"\"\"\n",
    "        self._data = node_data\n",
    "\n",
    "    data = property(get_data, set_data)\n",
    "\n",
    "    def get_next(self):\n",
    "        \"\"\"Get next node\"\"\"\n",
    "        return self._next\n",
    "\n",
    "    def set_next(self, node_next):\n",
    "        \"\"\"Set next node\"\"\"\n",
    "        self._next = node_next\n",
    "\n",
    "    next = property(get_next, set_next)\n",
    "\n",
    "    def __str__(self):\n",
    "        \"\"\"String\"\"\"\n",
    "        return str(self._data)\n",
    "\n",
    "\n",
    "class UnorderedList:\n",
    "    def __init__(self):\n",
    "        self.head = None\n",
    "\n",
    "    def is_empty(self):\n",
    "        return self.head == None\n",
    "\n",
    "    def add(self, item):\n",
    "        temp = Node(item)\n",
    "        temp.set_next(self.head)\n",
    "        self.head = temp\n",
    "\n",
    "    def size(self):\n",
    "        current = self.head\n",
    "        count = 0\n",
    "        while current is not None:\n",
    "            count = count + 1\n",
    "            current = current.next\n",
    "\n",
    "        return count\n",
    "\n",
    "    def search(self, item):\n",
    "        current = self.head\n",
    "        while current is not None:\n",
    "            if current.data == item:\n",
    "                return True\n",
    "            current = current.next\n",
    "\n",
    "        return False\n",
    "\n",
    "    def remove(self, item):\n",
    "        current = self.head\n",
    "        previous = None\n",
    "\n",
    "        while current is not None:\n",
    "            if current.data == item:\n",
    "                break\n",
    "            previous = current\n",
    "            current = current.next\n",
    "\n",
    "        if current is None:\n",
    "            raise ValueError(\"{} is not in the list\".format(item))\n",
    "        if previous is None:\n",
    "            self.head = current.next\n",
    "        else:\n",
    "            previous.next = current.next\n",
    "\n",
    "\n",
    "my_list = UnorderedList()"
   ]
  },
  {
   "cell_type": "markdown",
   "metadata": {},
   "source": [
    "### Discussion Questions"
   ]
  },
  {
   "cell_type": "markdown",
   "metadata": {},
   "source": [
    "1. What is the result of carrying out both steps of the linked list\n",
    "   ``add`` method in reverse order? What kind of reference results? What\n",
    "   types of problems may result?\n",
    "\n",
    "1. Explain how the linked list ``remove`` method works when the item to\n",
    "   be removed is in the last node.\n",
    "\n",
    "1. Explain how the ``remove`` method works when the item is in the\n",
    "   *only* node in the linked list."
   ]
  },
  {
   "cell_type": "markdown",
   "metadata": {},
   "source": [
    "### 프로그래밍 실습 문제"
   ]
  },
  {
   "cell_type": "markdown",
   "metadata": {},
   "source": [
    "1. To implement the ``size`` method, we counted the number of nodes in\n",
    "   the list. An alternative strategy would be to store the number of\n",
    "   nodes in the list as an additional piece of data in the head of the\n",
    "   list. Modify the ``UnorderedList`` class to include this information\n",
    "   and rewrite the ``size`` method.\n",
    "\n",
    "1. Implement the ``remove`` method so that it works correctly in the\n",
    "   case where the item is not in the list.\n",
    "\n",
    "1. Modify the list classes to allow duplicates. Which methods will be\n",
    "   impacted by this change?\n",
    "\n",
    "1. Implement the ``__str__`` method in the UnorderedList class. What\n",
    "   would be a good string representation for a list?\n",
    "\n",
    "1. Implement ``__str__`` method so that lists are displayed the\n",
    "   Python way (with square brackets).\n",
    "\n",
    "1. Implement the remaining operations defined in the UnorderedList ADT\n",
    "   (append, index, pop, insert).\n",
    "\n",
    "1. Implement a slice method for the ``UnorderedList`` class. It should\n",
    "   take two parameters, ``start`` and ``stop``, and return a copy of the\n",
    "   list starting at the ``start`` position and going up to but not\n",
    "   including the ``stop`` position.\n",
    "1. Implement a stack using linked lists.\n",
    "\n",
    "1. Implement a queue using linked lists.\n",
    "\n",
    "1. Implement a deque using linked lists.\n",
    "\n",
    "1. Design and implement an experiment that will compare the performance\n",
    "   of a Python list with a list implemented as a linked list.\n",
    "\n",
    "1. Design and implement an experiment that will compare the performance\n",
    "   of the Python list based stack and queue with the linked list\n",
    "   implementation.\n",
    "\n",
    "1. The linked list implementation given above is called a singly linked\n",
    "   list because each node has a single reference to the next node in\n",
    "   sequence. An alternative implementation is known as a doubly linked\n",
    "   list. In this implementation, each node has a reference to the next\n",
    "   node (commonly called next) as well as a reference to the preceding\n",
    "   node (commonly called back). The head reference also contains two\n",
    "   references, one to the first node in the linked list and one to the\n",
    "   last. Code this implementation in Python."
   ]
  },
  {
   "cell_type": "markdown",
   "metadata": {},
   "source": [
    "**문제 3**"
   ]
  },
  {
   "cell_type": "markdown",
   "metadata": {},
   "source": [
    "`enque()`와 `deque()` 모두 **평균** 시간복잡도가 $O(1)$이 되도록 구현할 수 있는가?\n",
    "즉, 대부분의 경우 두 함수 모두 $O(1)$ 시간복잡도로 실행되지만 특별한 경우에만 \n",
    "`deque()` 함수가 $O(n)$ 시간복잡도로 실행되어야 한다."
   ]
  }
 ],
 "metadata": {
  "kernelspec": {
   "display_name": "Python 3 (ipykernel)",
   "language": "python",
   "name": "python3"
  },
  "language_info": {
   "codemirror_mode": {
    "name": "ipython",
    "version": 3
   },
   "file_extension": ".py",
   "mimetype": "text/x-python",
   "name": "python",
   "nbconvert_exporter": "python",
   "pygments_lexer": "ipython3",
   "version": "3.9.7"
  }
 },
 "nbformat": 4,
 "nbformat_minor": 4
}