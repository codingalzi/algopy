{
 "cells": [
  {
   "cell_type": "markdown",
   "metadata": {},
   "source": [
    "(sec:queues)=\n",
    "# 큐<font size='2'>Queue</font>"
   ]
  },
  {
   "cell_type": "markdown",
   "metadata": {},
   "source": [
    "**슬라이드**\n",
    "\n",
    "본문 내용을 요약한 [슬라이드](https://github.com/codingalzi/algopy/raw/master/slides/slides-queues.pdf)를 다운로드할 수 있다."
   ]
  },
  {
   "cell_type": "markdown",
   "metadata": {},
   "source": [
    "**주요 내용**\n",
    "\n",
    "- 큐 추상 자료형\n",
    "- 큐 자료구조\n",
    "- 큐 활용"
   ]
  },
  {
   "cell_type": "markdown",
   "metadata": {},
   "source": [
    "## 큐의 정의"
   ]
  },
  {
   "cell_type": "markdown",
   "metadata": {},
   "source": [
    "항목 추가는 꼬리에서, 항목 삭제는 머리에서 이루어지는 선형 자료형을\n",
    "**큐**<font size='2'>queue</font>라 부른다.\n",
    "아래 그림에서 보여지는 것처럼 먼저 들어온 항목이 먼저 나간다는 \n",
    "**선입선출**<font size='2'>first in first out</font>(FIFO) 원리를 따른다.\n",
    "즉 항목의 삭제는 추가된 순서대로 진행된다."
   ]
  },
  {
   "cell_type": "markdown",
   "metadata": {},
   "source": [
    "<p><div align=\"center\"><img src=\"https://raw.githubusercontent.com/codingalzi/algopy/master/jupyter-book/imgs/fifo.png\" width=\"50%\"></div></p>"
   ]
  },
  {
   "cell_type": "markdown",
   "metadata": {},
   "source": [
    "큐 자료형은 다음 예제들처럼 다양한 영역에서 이루어진다. \n",
    "\n",
    "- 은행: 대기 순서에 따른 번호표 배분\n",
    "- 프린터: 순서에 따른 서류 인쇄\n",
    "- 키보드 입력: 키보드 입력값을 버퍼<font size='2'>buffer</font>에 잠시 저장한 다음에 처리 입력 순서대로 처리\n",
    "- 컴퓨터 CPU: 사용자 명령을 순차적으로 처리"
   ]
  },
  {
   "cell_type": "markdown",
   "metadata": {},
   "source": [
    "## `Queue` 추상 자료형"
   ]
  },
  {
   "cell_type": "markdown",
   "metadata": {},
   "source": [
    "큐 추상 자료형을 구체적인 파이썬 자료구조(data structure)로 \n",
    "구현할 때 요구되는 기본 속성과 기능은 다음과 같다.\n",
    "\n",
    "-  `Queue(maxsize=0)`: 비어 있는 큐 생성. `maxsize`를 최대로 많이 담을 수 있는 항목의 수.\n",
    "    0인 경우엔 항목 수 제한 없음.\n",
    "-  `put(item)`: `maxsize`가 초과되지 않을 때 꼬리에 항목 추가\n",
    "-  `get()`: 머리 항목을 삭제하면서 삭제하는 항목 반환.\n",
    "-  `empty()`: 큐가 비었는지 여부 판단. 부울값 반환.\n",
    "-  `full()`: 큐가 꽉 차 있는지 여부 판단. 부울값 반환.\n",
    "-  `qsize()`: 큐에 포함된 항목 개수 반환."
   ]
  },
  {
   "cell_type": "markdown",
   "metadata": {},
   "source": [
    "**Queue 추상 클래스**"
   ]
  },
  {
   "cell_type": "code",
   "execution_count": 25,
   "metadata": {},
   "outputs": [],
   "source": [
    "class Queue:\n",
    "    def __init__(self, maxsize=0):\n",
    "        \"\"\"\n",
    "        - 새로운 큐 생성\n",
    "        - maxsize: 최대 항목 수. 0은 무한대 의미.\n",
    "        - 저장 방식은 자식 클래스가 지정해야 함.\n",
    "        \"\"\"\n",
    "        raise NotImplementedError\n",
    "    \n",
    "    def qsize(self):\n",
    "        \"\"\"항목 수 반환\"\"\"\n",
    "        raise NotImplementedError\n",
    "    \n",
    "    def empty(self):\n",
    "        \"\"\"비었는지 여부 확인\"\"\"\n",
    "        raise NotImplementedError\n",
    "\n",
    "    def full(self):\n",
    "        \"\"\"maxsize 충족 여부 확인\"\"\"\n",
    "        raise NotImplementedError\n",
    "\n",
    "    def put(self, item):\n",
    "        \"\"\"항목 추가\"\"\"\n",
    "        raise NotImplementedError\n",
    "\n",
    "    def get(self):\n",
    "        \"\"\"항목 삭제\"\"\"\n",
    "        raise NotImplementedError"
   ]
  },
  {
   "cell_type": "markdown",
   "metadata": {},
   "source": [
    "## 큐 자료구조 구현"
   ]
  },
  {
   "cell_type": "markdown",
   "metadata": {},
   "source": [
    "큐 자료구조를 선언할 때 항목의 저장방식과 머리와 꼬리를 어디로 설정하는가이다.\n",
    "{numref}`%s장 <sec:deques>`에서 `myDeque` 클래스를 선언할 때 사용한\n",
    "리스트는 꼬리에서의 항목 추가와 삭제가 느리편이다.\n",
    "따라서 여기서는 리스트 대신에 `collections.queue` 클래스를 이용한다. "
   ]
  },
  {
   "cell_type": "code",
   "execution_count": 32,
   "metadata": {},
   "outputs": [],
   "source": [
    "from collections import deque\n",
    "\n",
    "class myQueue(Queue):\n",
    "    def __init__(self, maxsize=0):\n",
    "        \"\"\"\n",
    "        - 새로운 큐 생성\n",
    "        - _maxsize: 최대 항목 수. 0은 무한대 의미.\n",
    "        - _container: 항목 저장 장치. collections 모듈의 queue 활용.\n",
    "        \"\"\"\n",
    "        self._maxsize = maxsize\n",
    "        self._container = deque([])\n",
    "    \n",
    "    def __repr__(self):\n",
    "        \"\"\"큐 표기법: queue([1, 2, 3]) 등등\"\"\"\n",
    "        return repr(self._container)\n",
    "    \n",
    "    def qsize(self):\n",
    "        \"\"\"항목 수 반환\"\"\"\n",
    "        return len(self._container)\n",
    "    \n",
    "    def empty(self):\n",
    "        \"\"\"비었는지 여부 확인\"\"\"\n",
    "        return not self._container\n",
    "\n",
    "    def full(self):\n",
    "        \"\"\"_maxsize 충족 여부 확인\"\"\"\n",
    "\n",
    "        if self._maxsize <= 0:\n",
    "            return False\n",
    "        elif self.qsize() < self._maxsize:\n",
    "            return False\n",
    "        else:\n",
    "            return True            \n",
    "\n",
    "    def put(self, item):\n",
    "        \"\"\"\n",
    "        _maxsize를 못 채웠을 경우에만 항목 추가\n",
    "        \"\"\"\n",
    "        if not self.full():\n",
    "            self._container.appendleft(item)\n",
    "        else:\n",
    "            print(\"추가되지 않아요!\")\n",
    "\n",
    "    def get(self):\n",
    "        \"\"\"머리 항목 삭제 후 반환\"\"\"\n",
    "        return self._container.pop()"
   ]
  },
  {
   "cell_type": "markdown",
   "metadata": {},
   "source": [
    "아래 코드가 큐 객체를 생성하고 활용하는 간단한 작동법을 소개한다."
   ]
  },
  {
   "cell_type": "code",
   "execution_count": 33,
   "metadata": {},
   "outputs": [
    {
     "name": "stdout",
     "output_type": "stream",
     "text": [
      "deque([])\n",
      "deque([True, 'dog', 4])\n",
      "False\n",
      "3\n",
      "False\n",
      "True\n",
      "deque([8.4, True, 'dog', 4])\n",
      "추가되지 않아요!\n",
      "deque([8.4, True, 'dog', 4])\n",
      "4\n",
      "dog\n",
      "2\n",
      "deque([8.4, True])\n"
     ]
    }
   ],
   "source": [
    "q = myQueue(maxsize=4)\n",
    "\n",
    "print(q)\n",
    "q.put(4)\n",
    "q.put(\"dog\")\n",
    "q.put(True)\n",
    "print(q)\n",
    "print(q.full())\n",
    "print(q.qsize())\n",
    "print(q.empty())\n",
    "q.put(8.4)\n",
    "print(q.full())\n",
    "print(q)\n",
    "q.put(\"하나 더?\")\n",
    "print(q)\n",
    "print(q.get())\n",
    "print(q.get())\n",
    "print(q.qsize())\n",
    "print(q)"
   ]
  },
  {
   "cell_type": "markdown",
   "metadata": {},
   "source": [
    "## 큐 활용: 폭탄 돌리기 게임"
   ]
  },
  {
   "cell_type": "markdown",
   "metadata": {},
   "source": [
    "**게임 소개**"
   ]
  },
  {
   "cell_type": "markdown",
   "metadata": {},
   "source": [
    "여러 명이 빙 둘러앉아 폭탄 돌리기 게임을 한다. \n",
    "폭탄을 계속 돌리다가 멈추는 순간 폭탄을 들고 있는 사람은 탈락된다.\n",
    "폭탄을 몇 번 돌리는가는 미리 지정하며 최종적으로 한 명이 남을 때까지 게임을 진행한다.\n",
    "아래 그림은 6명이 폭탄 돌리기 게임에 참여해서 폭탄을 5번 돌린 후\n",
    "폭탄을 갖고 있는 6번이 삭제 대상으로 지정되는 과정을 보여준다."
   ]
  },
  {
   "cell_type": "markdown",
   "metadata": {},
   "source": [
    "<p><div align=\"center\"><img src=\"https://raw.githubusercontent.com/codingalzi/algopy/master/jupyter-book/imgs/hotpotato.png\" width=\"50%\"></div></p>"
   ]
  },
  {
   "cell_type": "markdown",
   "metadata": {},
   "source": [
    "**게임 구현**"
   ]
  },
  {
   "cell_type": "markdown",
   "metadata": {},
   "source": [
    "폭탄 돌리기 게임을 큐를 이용하여 구현한다.\n",
    "게임 시작과 진행 과정에 필요한 사항들은 다음과 같다.\n",
    "\n",
    "- 게임 시작: 참여자들의 수 `player`와 폭탄 돌리기 횟수 `count`\n",
    "- 폭탄 시작 위치: 큐의 머리\n",
    "- 폭탄 전달: 머리 항목 삭제 후 바로 꼬리에 추가\n",
    "- 탈락: `cout`번의 폭탄 돌리기 이후 머리에 위치한 사람 탈락 \n",
    "- 게임 정지: 한 명이 남을 때까지 반복"
   ]
  },
  {
   "cell_type": "markdown",
   "metadata": {},
   "source": [
    "<p><div align=\"center\"><img src=\"https://raw.githubusercontent.com/codingalzi/algopy/master/jupyter-book/imgs/namequeue.png\" width=\"70%\"></div></p>"
   ]
  },
  {
   "cell_type": "markdown",
   "metadata": {},
   "source": [
    "위 알고리즘을 함수로 구현하면 다음과 같다."
   ]
  },
  {
   "cell_type": "code",
   "execution_count": 40,
   "metadata": {},
   "outputs": [],
   "source": [
    "def bomb_turn(player, count):\n",
    "\n",
    "    player_queue = myQueue()\n",
    "    \n",
    "    # 큐에 사람 목록 추가\n",
    "    for p in range(1, player+1):\n",
    "        player_queue.put(p)\n",
    "\n",
    "    # 게임 진행\n",
    "    while player_queue.qsize() > 1:\n",
    "        # count번 폭탄 돌린 후 탈락자 지정\n",
    "        for i in range(count):\n",
    "            player_queue.put(player_queue.get())\n",
    "\n",
    "        player_queue.get()\n",
    "\n",
    "    return player_queue.get()    # 마지막 남은 사람"
   ]
  },
  {
   "cell_type": "markdown",
   "metadata": {},
   "source": [
    "아래 코드는 폭탄을 5번 돌릴 때마다 탈락자를 정할 때\n",
    "마지막에 4번이 남는다는 것을 확인해준다."
   ]
  },
  {
   "cell_type": "code",
   "execution_count": 44,
   "metadata": {},
   "outputs": [
    {
     "data": {
      "text/plain": [
       "4"
      ]
     },
     "execution_count": 44,
     "metadata": {},
     "output_type": "execute_result"
    }
   ],
   "source": [
    "bomb_turn(6, 5)"
   ]
  },
  {
   "cell_type": "markdown",
   "metadata": {},
   "source": [
    "## 연습 문제"
   ]
  },
  {
   "cell_type": "markdown",
   "metadata": {},
   "source": [
    "1. [(실습) 큐](https://colab.research.google.com/github/codingalzi/algopy/blob/master/excs/exc-queues.ipynb)\n",
    "\n",
    "2. [백준 2164번](https://www.acmicpc.net/problem/2164) 활용"
   ]
  }
 ],
 "metadata": {
  "kernelspec": {
   "display_name": "Python 3 (ipykernel)",
   "language": "python",
   "name": "python3"
  },
  "language_info": {
   "codemirror_mode": {
    "name": "ipython",
    "version": 3
   },
   "file_extension": ".py",
   "mimetype": "text/x-python",
   "name": "python",
   "nbconvert_exporter": "python",
   "pygments_lexer": "ipython3",
   "version": "3.12.2"
  },
  "vscode": {
   "interpreter": {
    "hash": "6c86b3592b6800d985c04531f2c445f0fa6967131b8dd6395a925f7622e55602"
   }
  }
 },
 "nbformat": 4,
 "nbformat_minor": 4
}