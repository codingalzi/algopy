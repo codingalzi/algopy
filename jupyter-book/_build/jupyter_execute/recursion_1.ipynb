{
 "cells": [
  {
   "cell_type": "markdown",
   "metadata": {},
   "source": [
    "# 재귀 함수"
   ]
  },
  {
   "cell_type": "markdown",
   "metadata": {},
   "source": [
    "Copyright (C)  Brad Miller, David Ranum.\n",
    "This work is licensed under the Creative Commons Attribution-NonCommercial-ShareAlike 4.0 International License. To view a copy of this license, visit http://creativecommons.org/licenses/by-nc-sa/4.0/."
   ]
  },
  {
   "cell_type": "markdown",
   "metadata": {},
   "source": [
    "## 5.1 목표"
   ]
  },
  {
   "cell_type": "markdown",
   "metadata": {},
   "source": [
    "- 재귀 함수 정의와 구현\n",
    "- 재귀 함수 활용"
   ]
  },
  {
   "cell_type": "markdown",
   "metadata": {},
   "source": [
    "## 5.2 재귀 함수"
   ]
  },
  {
   "cell_type": "markdown",
   "metadata": {},
   "source": [
    "**재귀**(recursion) 주어진 문제를 해결하기 위해 보다 작은 문제로 반복적으로 쪼개서 해결하는 문제 해결 기법이다. 재귀를 사용하지 않고 해결하려 할 때 매우 어려운 문제가 재귀를 이용하여 간단하게 해결되는 경우가 많다."
   ]
  },
  {
   "cell_type": "markdown",
   "metadata": {},
   "source": [
    "### 예제: 리스트 항목의 합 구하기"
   ]
  },
  {
   "cell_type": "markdown",
   "metadata": {},
   "source": [
    "리스트 `[1, 3, 5, 7, 9]`에 포함된 수들의 합을 구해보자.\n",
    "먼저, `for` 반복문을 이용하면 다음과 같다.\n",
    "\n",
    "- 합을 0으로 시작.\n",
    "- 각 항목을 확인하여 합에 더하기"
   ]
  },
  {
   "cell_type": "code",
   "execution_count": 1,
   "metadata": {},
   "outputs": [],
   "source": [
    "def list_sum(num_list):\n",
    "    the_sum = 0\n",
    "    for i in num_list:\n",
    "        the_sum = the_sum + i\n",
    "    return the_sum"
   ]
  },
  {
   "cell_type": "code",
   "execution_count": 2,
   "metadata": {},
   "outputs": [
    {
     "name": "stdout",
     "output_type": "stream",
     "text": [
      "25\n"
     ]
    }
   ],
   "source": [
    "print(list_sum([1, 3, 5, 7, 9]))"
   ]
  },
  {
   "cell_type": "markdown",
   "metadata": {},
   "source": [
    "위 코드의 `for` 반복문에서 항목을 확인할 때마다 업데이트되는\n",
    "`the_sum` 변수는 아래 괄호가 묶인 순서대로 계산되는 값을 차례대로 가리킨다."
   ]
  },
  {
   "cell_type": "markdown",
   "metadata": {},
   "source": [
    "$$(((1 + 3) + 5) + 7) + 9$$"
   ]
  },
  {
   "cell_type": "markdown",
   "metadata": {},
   "source": [
    "그런데 이 경우 재귀를 이용하려면 아래와 같이 작동하는 항목의 합을 사용해야 한다. "
   ]
  },
  {
   "cell_type": "markdown",
   "metadata": {},
   "source": [
    "$$1 + (3 + (5 + (7 + 9)))$$"
   ]
  },
  {
   "cell_type": "markdown",
   "metadata": {},
   "source": [
    "위 방식을 `for` 반복문으로 구현하면 다음과 같다."
   ]
  },
  {
   "cell_type": "code",
   "execution_count": 3,
   "metadata": {},
   "outputs": [],
   "source": [
    "def list_sum(num_list):\n",
    "    the_sum = 0\n",
    "    for i in num_list[::-1]:\n",
    "        the_sum = the_sum + i\n",
    "    return the_sum"
   ]
  },
  {
   "cell_type": "code",
   "execution_count": 4,
   "metadata": {},
   "outputs": [
    {
     "name": "stdout",
     "output_type": "stream",
     "text": [
      "25\n"
     ]
    }
   ],
   "source": [
    "print(list_sum([1, 3, 5, 7, 9]))"
   ]
  },
  {
   "cell_type": "markdown",
   "metadata": {},
   "source": [
    "항목 더하기 문제를 재귀로 해결하려면 먼저 `the_sum`이 구해지는 과정을 역추적해야 한다."
   ]
  },
  {
   "cell_type": "markdown",
   "metadata": {},
   "source": [
    "$$\n",
    "\\begin{align*}\n",
    "\\text{the_sum} & = 1 + (3 + (5 + (7 + 9))) \\\\\n",
    "\\text{the_sum} & = 3 + (5 + (7 + 9)) \\\\\n",
    "\\text{the_sum} & = 5 + (7 + 9) \\\\\n",
    "\\text{the_sum} & = 7 + 9 \\\\\n",
    "\\text{the_sum} & = 9\n",
    "\\end{align*}\n",
    "$$"
   ]
  },
  {
   "cell_type": "markdown",
   "metadata": {},
   "source": [
    "`the_sum`의 값이 업데이트되는 과정을 번호를 붙히면 다음을 얻는다."
   ]
  },
  {
   "cell_type": "markdown",
   "metadata": {},
   "source": [
    "$$\n",
    "\\begin{align*}\n",
    "\\text{the_sum}_5 & = 1 + \\text{the_sum}_4 \\\\\n",
    "\\text{the_sum}_4 & = 3 + \\text{the_sum}_3 \\\\\n",
    "\\text{the_sum}_3 & = 5 + \\text{the_sum}_2 \\\\\n",
    "\\text{the_sum}_2 & = 7 + \\text{the_sum}_1 \\\\\n",
    "\\text{the_sum}_1 & = 9\n",
    "\\end{align*}\n",
    "$$"
   ]
  },
  {
   "cell_type": "markdown",
   "metadata": {},
   "source": [
    "**리스트의 머리와 꼬리 활용**"
   ]
  },
  {
   "cell_type": "markdown",
   "metadata": {},
   "source": [
    "$\\text{the_sum}_{i}$가 결정되는 방식은 모든 $i$에 대해 동일하게 아래 형식을 따른다.\n",
    "\n",
    "```python\n",
    "list_sum(num_list) = num_list[0] + list_sum(num_list[1:])\n",
    "```\n",
    "위 식을 리스트의 머리와 꼬리 개념으로 이해하면 재귀 알고리즘의 작동과정을 보다 쉽게 이해할 수 있다.\n",
    "단, 큐(queue)에 사용되는 머리, 꼬리 개념과 다름에 주의해야 한다.\n",
    "\n",
    "- **머리**(head): 리스트의 0번 인덱스 값, 즉 `num_list[0]`\n",
    "- **꼬리**(tail): 0번 인덱스를 제외한 나머지, 즉 `num_list[1:]`\n",
    "\n",
    "현재 리스트에 포함된 항목의 합을 구하려면 \n",
    "먼저 꼬리에 재귀를 적용한 다음 얻어진 결과에 머리를 더하면 된다.\n",
    "이는 꼬리에 대한 재귀가 특정 값을 반환할 때까지 머리와의 합은 대기상태로 머물러야 함을 의미한다(아래 그림 참조)."
   ]
  },
  {
   "cell_type": "markdown",
   "metadata": {},
   "source": [
    "<figure>\n",
    "<div align=\"center\"><img src=\"https://runestone.academy/runestone/books/published/pythonds3/_images/sumlistIn.png\" width=\"50%\"></div>\n",
    "</figure>"
   ]
  },
  {
   "cell_type": "markdown",
   "metadata": {},
   "source": [
    "### 재귀 함수"
   ]
  },
  {
   "cell_type": "markdown",
   "metadata": {},
   "source": [
    "앞서 설명한 재귀를 함수로 구현하면 다음과 같다."
   ]
  },
  {
   "cell_type": "code",
   "execution_count": 5,
   "metadata": {},
   "outputs": [],
   "source": [
    "def list_sum(num_list):\n",
    "    if len(num_list) == 1:  # 항목이 1개 일때\n",
    "        return num_list[0]\n",
    "    else:                   # 항목이 2개 이상일 때\n",
    "        return num_list[0] + list_sum(num_list[1:])"
   ]
  },
  {
   "cell_type": "code",
   "execution_count": 6,
   "metadata": {},
   "outputs": [
    {
     "name": "stdout",
     "output_type": "stream",
     "text": [
      "25\n"
     ]
    }
   ],
   "source": [
    "print(list_sum([1, 3, 5, 7, 9]))"
   ]
  },
  {
   "cell_type": "markdown",
   "metadata": {},
   "source": [
    "함수가 실행될 때 자신을 호출하는 것을\n",
    "**재귀 호출**(recursive call)이라 한다.\n",
    "재귀 호출을 이용하여 구현된 알고리즘은 **재귀 알고리즘**(recursive algorithm), \n",
    "재귀 알고리즘을 사용한 함수가 **재귀 함수**(recursive function)이다."
   ]
  },
  {
   "cell_type": "markdown",
   "metadata": {},
   "source": [
    "## 5.3 재귀 알고리즘의 특징"
   ]
  },
  {
   "cell_type": "markdown",
   "metadata": {},
   "source": [
    "재귀 알고리즘은 아래 세 가지 특징을 가져야 한다. \n",
    "\n",
    "1. 재귀 호출이 반드시 발생해야 한다.\n",
    "1. **종료조건**(base case)이 존재해야 한다. \n",
    "    - `list_sum()` 함수의 경우 `len(num_list) == 1`이 종료조건을 다룬다.\n",
    "    종료조건이 없는 재귀 알고리즘은 실행이 종료되지 않을 수 있다.\n",
    "1. 재귀 호출에 사용되는 입력값의 크기가 줄어들어야 하며, 결국에는 종료조건을 만족하는\n",
    "    상태에 다달해야 한다. \n",
    "    - `list_sum()` 함수의 경우 `list_sum(num_list[1:])`에 사용된\n",
    "        리스트 `num_list[1:]`의 크기는 `num_list` 보다 1 작다."
   ]
  },
  {
   "cell_type": "markdown",
   "metadata": {},
   "source": [
    "**주의사항 1**: 종료 조건이 없는 경우\n",
    "\n",
    "종료조건이 없는 재귀 호출은 실행이 종료되지 않을 수 있다. \n",
    "\n",
    "```python\n",
    "def f(x):\n",
    "    return f(x-1) + 1\n",
    "```"
   ]
  },
  {
   "cell_type": "markdown",
   "metadata": {},
   "source": [
    "**주의사항 2**: 종료조건에 다달하는지 여부를 알 수 없는 경우\n",
    "\n",
    "아래 `collatz(n)` 함수는 임의의 양의 정수 `n`에 대해 짝수면 2로 나누고,\n",
    "홀수면 세 배 더하기 1을 반복적으로 실행하여 언젠가 1이 나오면 멈춘다."
   ]
  },
  {
   "cell_type": "code",
   "execution_count": 7,
   "metadata": {},
   "outputs": [],
   "source": [
    "def collatz(n):\n",
    "    if n == 1:\n",
    "        print(n)\n",
    "    elif n % 2 == 0:\n",
    "        print(n, end=', ')\n",
    "        collatz(n//2)\n",
    "    else:\n",
    "        print(n, end=', ')\n",
    "        collatz(3*n + 1)"
   ]
  },
  {
   "cell_type": "code",
   "execution_count": 8,
   "metadata": {},
   "outputs": [
    {
     "name": "stdout",
     "output_type": "stream",
     "text": [
      "7, 22, 11, 34, 17, 52, 26, 13, 40, 20, 10, 5, 16, 8, 4, 2, 1\n"
     ]
    }
   ],
   "source": [
    "collatz(7)"
   ]
  },
  {
   "cell_type": "code",
   "execution_count": 9,
   "metadata": {},
   "outputs": [
    {
     "name": "stdout",
     "output_type": "stream",
     "text": [
      "101, 304, 152, 76, 38, 19, 58, 29, 88, 44, 22, 11, 34, 17, 52, 26, 13, 40, 20, 10, 5, 16, 8, 4, 2, 1\n"
     ]
    }
   ],
   "source": [
    "collatz(101)"
   ]
  },
  {
   "cell_type": "code",
   "execution_count": 10,
   "metadata": {},
   "outputs": [
    {
     "name": "stdout",
     "output_type": "stream",
     "text": [
      "1024, 512, 256, 128, 64, 32, 16, 8, 4, 2, 1\n"
     ]
    }
   ],
   "source": [
    "collatz(1024)"
   ]
  },
  {
   "cell_type": "markdown",
   "metadata": {},
   "source": [
    "아래 그림은 $1$부터 $10,000$까지의 입력값에 대해 `collatz(n)` 함수가 멈출때까지 몇 번의 \n",
    "재귀호출이 발생하는가를 보여준다.\n",
    "그림에서 알 수 있듯이 입력값이 커질 수록 재귀 호출 횟수가 점점 커지는 경향이 있지만\n",
    "재귀 호출 횟수가 입력크기에 비례하는 것은 절대 아니다.\n",
    "실제로 지금까지 재귀 호출 횟수와 관련해서 어떤 규칙도 발견되지 않았다.\n",
    "즉, 입력값이 주어지면 언제 종료되는지 아직 아무도 모른다.\n",
    "이런 이유로 이 문제를 **콜라츠 추측**(Collatz Conjecture)이라 부른다.\n",
    "**정지문제**(halting problem)와 관련해서 이해하면 도움되는 문제 유형 중에 하나이다."
   ]
  },
  {
   "cell_type": "markdown",
   "metadata": {},
   "source": [
    "<figure>\n",
    "<div align=\"center\"><img src=\"https://upload.wikimedia.org/wikipedia/commons/thumb/b/b9/Collatz-stopping-time.svg/1280px-Collatz-stopping-time.svg.png\" width=\"45%\"></div>\n",
    "</figure>\n",
    "\n",
    "<그림 출처: [위키백과: 콜라츠 추측](https://en.wikipedia.org/wiki/Collatz_conjecture)>"
   ]
  },
  {
   "cell_type": "markdown",
   "metadata": {},
   "source": [
    "아래 그림은 $1$부터 $10,000$까지의 입력값에 대해 `collatz(n)` 함수가 실행중에\n",
    "인자로 사용하는 값들을 보여준다.\n",
    "그림에서 보이지는 않지만 $n=9663$일 때 $2.7\\times 10^7$도 인자로\n",
    "사용된다."
   ]
  },
  {
   "cell_type": "markdown",
   "metadata": {},
   "source": [
    "<figure>\n",
    "<div align=\"center\"><img src=\"https://upload.wikimedia.org/wikipedia/commons/9/95/CollatzConjectureGraphMaxValues.jpg\" width=\"45%\"></div>\n",
    "</figure>\n",
    "\n",
    "<그림 출처: [위키백과: 콜라츠 추측](https://en.wikipedia.org/wiki/Collatz_conjecture)>"
   ]
  },
  {
   "cell_type": "markdown",
   "metadata": {},
   "source": [
    "### 재귀 함수 예제"
   ]
  },
  {
   "cell_type": "markdown",
   "metadata": {},
   "source": [
    "#### 예제 1: 계승(factorial) 함수"
   ]
  },
  {
   "cell_type": "markdown",
   "metadata": {},
   "source": [
    "음이 아닌 정수 $n$이 주어졌을 때 $1$부터 $n$까지의 곱을 $n$의 계승이며, $n!$로 표기한다.\n",
    "$n$의 계승을 계산하는 함수를 재귀를 이용하여 구현하면 다음과 같다.\n",
    "\n",
    "- 종료조건: `n == 0`"
   ]
  },
  {
   "cell_type": "code",
   "execution_count": 11,
   "metadata": {},
   "outputs": [],
   "source": [
    "def factorial(n):\n",
    "    if n == 0:\n",
    "        return 1\n",
    "    else:\n",
    "        return n * factorial(n-1)        "
   ]
  },
  {
   "cell_type": "markdown",
   "metadata": {},
   "source": [
    "#### 예제 2: 진법 변환"
   ]
  },
  {
   "cell_type": "markdown",
   "metadata": {},
   "source": [
    "정수를 특정 진법으로 변환된 문자열을 반환하는 함수를 회귀를 이용하여 구현한다.\n",
    "참고로 [4장 1부](https://codingalzi.github.io/algopy/notebooks/algopy04_BasicDataStructures_1.html)에서는 스택을 활용하였다.\n",
    "예를 들어, 769를 10진법으로 표현하려면 아래 그림에서처럼 \n",
    "10으로 나눈 몫과 나머지를 확인하는\n",
    "작업을 반복한다."
   ]
  },
  {
   "cell_type": "markdown",
   "metadata": {},
   "source": [
    "<figure>\n",
    "<div align=\"center\"><img src=\"https://runestone.academy/runestone/books/published/pythonds3/_images/toStr.png\" width=\"45%\"></div>\n",
    "</figure>"
   ]
  },
  {
   "cell_type": "markdown",
   "metadata": {},
   "source": [
    "2진법으로 변환하는 과정도 동일하다. \n",
    "아래 그림은 10을 2진법으로 변환하는 과정을 보여준다."
   ]
  },
  {
   "cell_type": "markdown",
   "metadata": {},
   "source": [
    "<figure>\n",
    "<div align=\"center\"><img src=\"https://runestone.academy/runestone/books/published/pythonds3/_images/toStrBase2.png\" width=\"45%\"></div>\n",
    "</figure>"
   ]
  },
  {
   "cell_type": "markdown",
   "metadata": {},
   "source": [
    "결론적으로 아래 세 가지 사항을 재귀 알고리즘 정의에 활용할 수 있다.\n",
    "\n",
    "1. 종료조건: 사용되는 진법보다 작은 수는 그대로 문자열로 사용한다. \n",
    "    8진법인 경우엔 0부터 7까지의 수는 각각 `'0'`, `'1'`, ..., `'7'` 등으로\n",
    "    변환한다. \n",
    "    16진법인 경우엔 0부터 15까지의 수를 각각 \n",
    "    `'0'`, `'1'`, ..., `'9'`, `'A'`, `'B'`, ..., `'F'`로 변환한다.\n",
    "1. 재귀: 사용되는 진법보다 큰 수는 진법의 수로 나눈 다음에 몫에 대해 재귀를 활용하여 \n",
    "    그 결과와 나머지를 사용한 문자열과 합친다.\n",
    "\n",
    "`to_str()` 함수는 정수와 진법이 정해졌을 때 해당 진법으로 변환된 문자열을 반환하며,\n",
    "앞서 설명한 재귀 알고리즘을 그대로 구현한다.\n",
    "단, 2진법에서 16진법까지만 지원한다."
   ]
  },
  {
   "cell_type": "code",
   "execution_count": 12,
   "metadata": {},
   "outputs": [],
   "source": [
    "def to_str(n, base):\n",
    "    convert_string = \"0123456789ABCDEF\"   # 종료조건에 사용될 자료\n",
    "    \n",
    "    if n < base:                          # 종료조건\n",
    "        return convert_string[n]\n",
    "    else:                                 # 재귀\n",
    "        return to_str(n // base, base) + convert_string[n % base]"
   ]
  },
  {
   "cell_type": "code",
   "execution_count": 13,
   "metadata": {},
   "outputs": [
    {
     "name": "stdout",
     "output_type": "stream",
     "text": [
      "1011011001011101\n"
     ]
    }
   ],
   "source": [
    "print(to_str(46685, 2))"
   ]
  },
  {
   "cell_type": "code",
   "execution_count": 14,
   "metadata": {},
   "outputs": [
    {
     "name": "stdout",
     "output_type": "stream",
     "text": [
      "133135\n"
     ]
    }
   ],
   "source": [
    "print(to_str(46685, 8))"
   ]
  },
  {
   "cell_type": "code",
   "execution_count": 15,
   "metadata": {},
   "outputs": [
    {
     "name": "stdout",
     "output_type": "stream",
     "text": [
      "B65D\n"
     ]
    }
   ],
   "source": [
    "print(to_str(46685, 16))"
   ]
  },
  {
   "cell_type": "markdown",
   "metadata": {},
   "source": [
    "#### 예제 3: 문자열 뒤집기"
   ]
  },
  {
   "cell_type": "markdown",
   "metadata": {},
   "source": [
    "문자열을 받아 순서를 거꾸로 하는 문자열을 반환하는 회귀 함수는 다음과 같다."
   ]
  },
  {
   "cell_type": "code",
   "execution_count": 16,
   "metadata": {},
   "outputs": [],
   "source": [
    "def reverse(s):\n",
    "    if len(s) == 0:\n",
    "        return s\n",
    "    else: \n",
    "        return reverse(s[1:]) + s[0]"
   ]
  },
  {
   "cell_type": "code",
   "execution_count": 17,
   "metadata": {},
   "outputs": [
    {
     "name": "stdout",
     "output_type": "stream",
     "text": [
      "olleh\n",
      "l\n",
      "wollof\n"
     ]
    }
   ],
   "source": [
    "print(reverse(\"hello\"))\n",
    "print(reverse(\"l\"))\n",
    "print(reverse(\"follow\"))"
   ]
  },
  {
   "cell_type": "markdown",
   "metadata": {},
   "source": [
    "#### 예제 4: 회문 판별기"
   ]
  },
  {
   "cell_type": "markdown",
   "metadata": {},
   "source": [
    "회문(palindrome) 판별기를 재귀 함수로 구현하면 다음과 같다.\n",
    "단, 공백, 쉼표, 생략 기호, 마침표, 느낌표, 하이픈 등은 무시되며, \n",
    "영어 알파벳의 대소문자도 구분하지 않는다.\n",
    "즉 아래 문장들도 회문으로 인정받아야 한다.\n",
    "\n",
    "- 다시 합창합시다.\n",
    "- 야, 이 달은 밝은 달이야.\n",
    "- Madam, I'm Adam.\n",
    "- A man, a plan, a canal - Panama!"
   ]
  },
  {
   "cell_type": "markdown",
   "metadata": {},
   "source": [
    "먼저 문자열이 순수히 알파벳만 포함하도록 변환한다. "
   ]
  },
  {
   "cell_type": "code",
   "execution_count": 18,
   "metadata": {},
   "outputs": [],
   "source": [
    "def remove_white(s):\n",
    "    s = s.lower()\n",
    "    whites = {s:True for s in \" ,.!?-'\"}\n",
    "    clean_s = \"\"\n",
    "    for char in s:\n",
    "        if not char in whites:\n",
    "            clean_s += char\n",
    "    return clean_s"
   ]
  },
  {
   "cell_type": "code",
   "execution_count": 19,
   "metadata": {},
   "outputs": [
    {
     "data": {
      "text/plain": [
       "'야이달은밝은달이야'"
      ]
     },
     "execution_count": 19,
     "metadata": {},
     "output_type": "execute_result"
    }
   ],
   "source": [
    "remove_white(\"야, 이 달은 밝은 달이야.\")"
   ]
  },
  {
   "cell_type": "code",
   "execution_count": 20,
   "metadata": {},
   "outputs": [
    {
     "data": {
      "text/plain": [
       "'madamimadam'"
      ]
     },
     "execution_count": 20,
     "metadata": {},
     "output_type": "execute_result"
    }
   ],
   "source": [
    "remove_white(\"Madam, I'm Adam.\")"
   ]
  },
  {
   "cell_type": "code",
   "execution_count": 21,
   "metadata": {},
   "outputs": [],
   "source": [
    "def is_pal(s):\n",
    "    s = remove_white(s)\n",
    "    \n",
    "    if len(s) <= 1:\n",
    "        return True\n",
    "    elif s[0] == s[-1]:\n",
    "        return is_pal(s[1:-1])\n",
    "    else:\n",
    "        return False"
   ]
  },
  {
   "cell_type": "code",
   "execution_count": 22,
   "metadata": {},
   "outputs": [
    {
     "data": {
      "text/plain": [
       "True"
      ]
     },
     "execution_count": 22,
     "metadata": {},
     "output_type": "execute_result"
    }
   ],
   "source": [
    "is_pal(\"야, 이 달은 밝은 달이야.\")"
   ]
  },
  {
   "cell_type": "code",
   "execution_count": 23,
   "metadata": {},
   "outputs": [
    {
     "data": {
      "text/plain": [
       "False"
      ]
     },
     "execution_count": 23,
     "metadata": {},
     "output_type": "execute_result"
    }
   ],
   "source": [
    "is_pal(\"알고리즘 좋아!\")"
   ]
  },
  {
   "cell_type": "code",
   "execution_count": 24,
   "metadata": {},
   "outputs": [
    {
     "data": {
      "text/plain": [
       "True"
      ]
     },
     "execution_count": 24,
     "metadata": {},
     "output_type": "execute_result"
    }
   ],
   "source": [
    "is_pal(\"기러기\")"
   ]
  },
  {
   "cell_type": "code",
   "execution_count": 25,
   "metadata": {},
   "outputs": [
    {
     "data": {
      "text/plain": [
       "True"
      ]
     },
     "execution_count": 25,
     "metadata": {},
     "output_type": "execute_result"
    }
   ],
   "source": [
    "is_pal(\"Madam, I'm Adam.\")"
   ]
  },
  {
   "cell_type": "code",
   "execution_count": 26,
   "metadata": {},
   "outputs": [
    {
     "data": {
      "text/plain": [
       "False"
      ]
     },
     "execution_count": 26,
     "metadata": {},
     "output_type": "execute_result"
    }
   ],
   "source": [
    "is_pal(\"I am Sam.\")"
   ]
  },
  {
   "cell_type": "code",
   "execution_count": 27,
   "metadata": {},
   "outputs": [
    {
     "data": {
      "text/plain": [
       "True"
      ]
     },
     "execution_count": 27,
     "metadata": {},
     "output_type": "execute_result"
    }
   ],
   "source": [
    "is_pal(\"radar\")"
   ]
  },
  {
   "cell_type": "markdown",
   "metadata": {},
   "source": [
    "## 5.4 콜 스택(Call Stack)"
   ]
  },
  {
   "cell_type": "markdown",
   "metadata": {},
   "source": [
    "재귀 함수가 실행되면 재귀 호출이 발생할 때마다 \n",
    "함수 호출의 실행을 관리하는 **프레임**(frame)이 \n",
    "생성되며 스택(stack)으로 관리되며 \n",
    "이를 **콜 스택**(call stack)이라 부른다.\n",
    "아래 코드를 \n",
    "[PythonTutor: 콜 스택](https://pythontutor.com/visualize.html#code=convert_string%20%3D%20%220123456789ABCDEF%22%0Aremainder_list%20%3D%20%5B%5D%0A%0Adef%20to_str%28n,%20base%29%3A%0A%20%20%20%20if%20n%20%3C%20base%3A%0A%20%20%20%20%20%20%20%20return%20convert_string%5Bn%5D%0A%20%20%20%20else%3A%0A%20%20%20%20%20%20%20%20quotient%20%3D%20n%20//%20base%0A%20%20%20%20%20%20%20%20remainder%20%3D%20n%20%25%20base%0A%20%20%20%20%20%20%20%20remainder_string%20%3D%20convert_string%5Bremainder%5D%0A%20%20%20%20%20%20%20%20remainder_list.append%28remainder_string%29%0A%20%20%20%20%20%20%20%20return%20to_str%28quotient,%20base%29%20%2B%20remainder_list.pop%28%29%0A%20%20%20%20%20%20%20%20%0Aprint%28to_str%2846685,%2016%29%29&cumulative=false&curInstr=0&heapPrimitives=nevernest&mode=display&origin=opt-frontend.js&py=3&rawInputLstJSON=%5B%5D&textReferences=false)\n",
    "에서 실행하면서 프레임 스택의 변화를 한 눈에 살펴볼 수 있다.\n",
    "\n",
    "**참고**: 아래 코드는 진법 변환 함수이며 메모리 상에서의 변화를 보다 명료하게 \n",
    "보여주기 위해 변수가 더 추가되었다."
   ]
  },
  {
   "cell_type": "code",
   "execution_count": 28,
   "metadata": {},
   "outputs": [],
   "source": [
    "convert_string = \"0123456789ABCDEF\"                           # 진법 표현에 사용될 기호\n",
    "remainder_list = []                                           # 나머지 기호 저장용 스택\n",
    "\n",
    "def to_str(n, base):\n",
    "    if n < base:                                              # 종료조건\n",
    "        return convert_string[n]\n",
    "    else:\n",
    "        quotient = n // base                                  # 몫\n",
    "        remainder = n % base                                  # 나머지\n",
    "        remainder_string = convert_string[remainder]\n",
    "        remainder_list.append(remainder_string)               # 나머지 기호 저장\n",
    "        return to_str(quotient, base) + remainder_list.pop()  # 몫에 대한 재귀 호출\n",
    "        "
   ]
  },
  {
   "cell_type": "code",
   "execution_count": 29,
   "metadata": {},
   "outputs": [
    {
     "name": "stdout",
     "output_type": "stream",
     "text": [
      "B65D\n"
     ]
    }
   ],
   "source": [
    "print(to_str(46685, 16))"
   ]
  },
  {
   "cell_type": "markdown",
   "metadata": {},
   "source": [
    "아래 그림은 `to_str(46685, 16)`이 호출되어 콜 스택이 가장 높게 쌓였을 때를 보여준다."
   ]
  },
  {
   "cell_type": "markdown",
   "metadata": {},
   "source": [
    "<figure>\n",
    "<div align=\"center\"><img src=\"https://raw.githubusercontent.com/codingalzi/algopy/master/notebooks/_images/call_stack_1.png\" width=\"50%\"></div>\n",
    "</figure>"
   ]
  },
  {
   "cell_type": "markdown",
   "metadata": {},
   "source": [
    "## 5.5 재귀 시각화"
   ]
  },
  {
   "cell_type": "markdown",
   "metadata": {},
   "source": [
    "재귀를 이해하기 위해 재귀 알고리즘의 작동과정을 시각화햅보자.\n",
    "시각화를 위해 `turtle` 모듈을 이용한다.\n",
    "예를 들어, `draw_spiral()` 함수는 아래 그림과 같은 소용돌이를 그린다.\n",
    "\n",
    "**주의사항**: `turtle` 모듈을 사용하는 코드를 주피터 노트북 또는 구글 코랩에서 실행하려면\n",
    "특별한 모듈을 설치해야 한다. \n",
    "여기서는 대신에 개인 피씨 환경 또는 Repl.it 사이트에서 코드를 실행할 것을 권장한다.\n",
    "이런 이유로 이어지는 코드는 텍스트셀로 제공된다."
   ]
  },
  {
   "cell_type": "markdown",
   "metadata": {},
   "source": [
    "---\n",
    "```python\n",
    "import turtle\n",
    "\n",
    "def draw_spiral(my_turtle, line_len):\n",
    "    if line_len > 0:\n",
    "        my_turtle.forward(line_len)\n",
    "        my_turtle.right(90)\n",
    "        draw_spiral(my_turtle, line_len - 5)\n",
    "\n",
    "\n",
    "my_turtle = turtle.Turtle()\n",
    "my_win = turtle.Screen()\n",
    "draw_spiral(my_turtle, 100)\n",
    "my_win.exitonclick()\n",
    "```\n",
    "---"
   ]
  },
  {
   "cell_type": "markdown",
   "metadata": {},
   "source": [
    "<figure>\n",
    "<div align=\"center\"><img src=\"https://raw.githubusercontent.com/codingalzi/algopy/master/notebooks/_images/draw_spiral.png\" width=\"35%\"></div>\n",
    "</figure>"
   ]
  },
  {
   "cell_type": "markdown",
   "metadata": {},
   "source": [
    "### 예제: 프랙탈 트리"
   ]
  },
  {
   "cell_type": "markdown",
   "metadata": {},
   "source": [
    "아래 이미지처럼 아무리 확대하더라도 항상 동일한 구조를 보여주는 사물이 **프랙탈**(fractal)이다."
   ]
  },
  {
   "cell_type": "markdown",
   "metadata": {},
   "source": [
    "<figure>\n",
    "<div align=\"center\"><img src=\"https://raw.githubusercontent.com/codingalzi/algopy/master/notebooks/_images/mandelbrot_fractal.png\" width=\"70%\"></div>\n",
    "</figure>\n",
    "\n",
    "**참고**: [YouTube: 만델브로트 프랙탈 줌](https://www.youtube.com/watch?v=8cgp2WNNKmQ&ab_channel=MathsTown)"
   ]
  },
  {
   "cell_type": "markdown",
   "metadata": {},
   "source": [
    "프랙탈의 구조는 재귀와 매우 밀접한 관계를 갖는다.\n",
    "예를 들어, `tree()` 함수는 아래 모양의 프랙탈 트리를 그린다."
   ]
  },
  {
   "cell_type": "markdown",
   "metadata": {},
   "source": [
    "<figure>\n",
    "<div align=\"center\"><img src=\"https://raw.githubusercontent.com/codingalzi/algopy/master/notebooks/_images/fractal_tree_2.png\" width=\"35%\"></div>\n",
    "</figure>"
   ]
  },
  {
   "cell_type": "markdown",
   "metadata": {},
   "source": [
    "**참고**: [Repl.it: 프랙탈 트리](https://replit.com/@codingrg/fractaltree)에서\n",
    "실행할 수 있다.\n",
    "[pythonds3: 5.7 Introduction: Visualizing Recursion](https://runestone.academy/runestone/books/published/pythonds3/Recursion/pythondsintro-VisualizingRecursion.html)를 이용할 경우 `time.sleep()` 함수를 추가하여 천천히 실행되는 재귀 알고리즘의 작동을 살펴볼 수 있다."
   ]
  },
  {
   "cell_type": "markdown",
   "metadata": {},
   "source": [
    "---\n",
    "```python\n",
    "import turtle\n",
    "# import time                    # 주의: repl.it 사이트에서 오류 발생\n",
    "\n",
    "def tree(branch_len, t):\n",
    "    if branch_len > 5:           # 종료조건: branch_len <= 5\n",
    "        t.forward(branch_len)    # 전진\n",
    "        # time.sleep(1)          \n",
    "        t.right(20)              # 오른쪽 가지치기\n",
    "        tree(branch_len - 15, t)\n",
    "        t.left(40)               # 왼쪽 가지치기\n",
    "        tree(branch_len - 15, t)\n",
    "        t.right(20)              # 한 단계 후진\n",
    "        t.backward(branch_len)\n",
    "\n",
    "t = turtle.Turtle()\n",
    "my_win = turtle.Screen()\n",
    "t.left(90)\n",
    "t.up()\n",
    "t.backward(100)\n",
    "t.down()\n",
    "t.color(\"green\")\n",
    "tree(75, t)\n",
    "my_win.exitonclick()\n",
    "```\n",
    "---"
   ]
  },
  {
   "cell_type": "markdown",
   "metadata": {},
   "source": [
    "`tree()` 함수는 오른쪽 가지를 먼저 그리며, 이 과정을 최대한 멀리 진행한다.\n",
    "가지치기를 할 때마다 가지의 길이를 15씩 줄이며,\n",
    "그려야 할 가지의 길이가 5 이하일 때 가지치기를 멈춘다.\n",
    "아래 이미지는 가지의 길이를 처음에 75로 시작해서 5번 오른쪽 가지치기를 수행한 후 \n",
    "더 이상의 가지치기가 불가능한 상태를 보여준다."
   ]
  },
  {
   "cell_type": "markdown",
   "metadata": {},
   "source": [
    "<figure>\n",
    "<div align=\"center\"><img src=\"https://runestone.academy/runestone/books/published/pythonds3/_images/tree1.png\" width=\"45%\"></div>\n",
    "</figure>"
   ]
  },
  {
   "cell_type": "markdown",
   "metadata": {},
   "source": [
    "더 이상 오른쪽 가지치기가 불가능하면 뒤로 한 단계 후진한 다음에 왼쪽 가지치기를 진행한다.\n",
    "왼쪽 가지치기 이후 오른쪽 가지치가 가능하면 이를 먼저 수행한다.\n",
    "아래 이미지는 그려야할 프랙탈 트리의 절반을 그린 상태를 보여준다."
   ]
  },
  {
   "cell_type": "markdown",
   "metadata": {},
   "source": [
    "<figure>\n",
    "<div align=\"center\"><img src=\"https://runestone.academy/runestone/books/published/pythonds3/_images/tree2.png\" width=\"45%\"></div>\n",
    "</figure>"
   ]
  },
  {
   "cell_type": "markdown",
   "metadata": {},
   "source": [
    "### 꼬리와 재귀 일반화"
   ]
  },
  {
   "cell_type": "markdown",
   "metadata": {},
   "source": [
    "리스트에 포함된 항목들의 합을 계산하는 `list_sum()`의 실행과정을 이해하기 \n",
    "위해 사용된 머리(head)와 꼬리(tail) 개념을 많은 재귀 알고리즘에 적용할 수 있다.\n",
    "\n",
    "프랙탈 트리의 경우 가지 하나를 그린 다음 가지치기가 이루어지며\n",
    "가지치기 이후에는 동일한 과정이 반복된다. \n",
    "다만, 좌우 각 가지에서 완성되는 프랙탈 트리는\n",
    "완성되어야 하는 전체 프랙탈 트리의 일부분을 담당한다.\n",
    "그려진 하나의 가지를 머리, 그려져야 하는 좌우 두 개의 가지를 두 개의 꼬리로\n",
    "이해할 수 있다. \n",
    "즉, 머리를 그린 다음에 나머지는 각각의 꼬리에 동일한 과제를 떠넘기는 과정의\n",
    "연속이 된다(아래 그림 참조)."
   ]
  },
  {
   "cell_type": "markdown",
   "metadata": {},
   "source": [
    "<figure>\n",
    "<div align=\"center\"><img src=\"https://raw.githubusercontent.com/codingalzi/algopy/master/notebooks/_images/fractal_tree_1.png\" width=\"35%\"></div>\n",
    "</figure>"
   ]
  },
  {
   "cell_type": "markdown",
   "metadata": {},
   "source": [
    "### 예제: 시에르핀스키 삼각형(Sierpinski Triangle)"
   ]
  },
  {
   "cell_type": "markdown",
   "metadata": {},
   "source": [
    "정삼각형을 4등분한 후에 가장자리에 위치한 세 개의 삼각형을 대상으로 4등분하는 과정을 무한반복하여\n",
    "얻어지는 삼각형이 **시에르핀스키**(Sierpinski) 삼각형이며 이 또한 프랙탈이다."
   ]
  },
  {
   "cell_type": "markdown",
   "metadata": {},
   "source": [
    "<figure>\n",
    "<div align=\"center\"><img src=\"https://raw.githubusercontent.com/codingalzi/algopy/master/notebooks/_images/sierpinski_triangle1.png\" width=\"50%\"></div>\n",
    "</figure>"
   ]
  },
  {
   "cell_type": "markdown",
   "metadata": {},
   "source": [
    "머리와 꼬리를 이용한 재귀 알고리즘의 이해는 시에르핀스키 삼각형을 이해할 때도 기본적으로 동일하게 적용된다.\n",
    "\n",
    "- 머리: 하나의 삼각형 그리기\n",
    "- 꼬리: 4등분 후 각 꼭지점에서 동일한 과정 반복하기. 즉, 3 개의 꼬리 사용.\n",
    "\n",
    "시에르핀스키 삼각형 그리기를 재귀 알고리즘으로 구현하면 다음과 같다.\n",
    "\n",
    "**참고**: [Repl.it: 시에르핀스키 삼각형](https://replit.com/@codingrg/sierpinskitriangle)에서\n",
    "실행할 수 있다.\n",
    "[pythonds3: 5.8 Sierpinski Triangle](https://runestone.academy/runestone/books/published/pythonds3/Recursion/pythondsSierpinskiTriangle.html)를 이용할 경우\n",
    "아래 코드에 `time.sleep()` 함수를 추가하여 천천히 실행되는 재귀 알고리즘의 작동을 살펴볼 수 있다."
   ]
  },
  {
   "cell_type": "markdown",
   "metadata": {},
   "source": [
    "---\n",
    "```python\n",
    "import turtle\n",
    "# import time                    # 주의: repl.it 사이트에서 오류 발생\n",
    "\n",
    "# 삼각형 그리기\n",
    "def draw_triangle(points, color, my_turtle):\n",
    "    my_turtle.fillcolor(color)\n",
    "    my_turtle.up()\n",
    "    my_turtle.goto(points[0][0], points[0][1])\n",
    "    my_turtle.down()\n",
    "    my_turtle.begin_fill()\n",
    "    my_turtle.goto(points[1][0], points[1][1])\n",
    "    my_turtle.goto(points[2][0], points[2][1])\n",
    "    my_turtle.goto(points[0][0], points[0][1])\n",
    "    my_turtle.end_fill()\n",
    "\n",
    "# 삼각형 4등분하기에 필요한 좌표 계산\n",
    "def get_mid(p1, p2):\n",
    "    return ((p1[0] + p2[0]) / 2, (p1[1] + p2[1]) / 2)\n",
    "\n",
    "# 시에르핀스키 함수\n",
    "def sierpinski(points, degree, my_turtle):\n",
    "    colormap = [\"blue\", \"red\", \"green\", \"white\", \"yellow\", \"violet\", \"orange\"]\n",
    "    draw_triangle(points, colormap[degree], my_turtle)\n",
    "\n",
    "    # time.sleep(1)\n",
    "\n",
    "    # 4등분하기\n",
    "    mid0 = get_mid(points[0], points[1])\n",
    "    mid1 = get_mid(points[1], points[2])\n",
    "    mid2 = get_mid(points[2], points[0])\n",
    "    \n",
    "    # 왼쪽 아래 -> 위 -> 오른쪽 아래 순으로 4등분하기를 재귀적으로 반복\n",
    "    if degree > 0:\n",
    "        sierpinski([points[0], mid0, mid2], degree - 1, my_turtle)\n",
    "        sierpinski([mid0, points[1], mid1], degree - 1, my_turtle)\n",
    "        sierpinski([mid2, mid1, points[2]], degree - 1, my_turtle)\n",
    "\n",
    "# 거북이로 시에르핀스키 삼각형 그리기(degree=4)\n",
    "my_turtle = turtle.Turtle()\n",
    "my_win = turtle.Screen()\n",
    "my_points = [[-180, -150], [0, 150], [180, -150]] # 첫 삼각형 좌표\n",
    "sierpinski(my_points, 4, my_turtle)               # 시에르핀스키 삼각형 그리기\n",
    "my_win.exitonclick()\n",
    "```\n",
    "---"
   ]
  },
  {
   "cell_type": "markdown",
   "metadata": {},
   "source": [
    "사용된 재귀 알고리즘은 가능한한 먼저 왼쪽 아래의 작은 삼각형을 대상으로 4등분하기를 반복한다.\n",
    "지정된 횟수(`degree`)만큼 반복하여 더 이상 4등분하기를 할 수 없을 때 위쪽(top)에 위치한\n",
    "삼각형을 대상으로 4등분하기를 반복하며,\n",
    "최종적으로 오른쪽 아래의 삼각형을 대상으로 삼는다."
   ]
  },
  {
   "cell_type": "markdown",
   "metadata": {},
   "source": [
    "<figure>\n",
    "<div align=\"center\"><img src=\"https://raw.githubusercontent.com/codingalzi/algopy/master/notebooks/_images/stCallTree.png\" width=\"50%\"></div>\n",
    "</figure>"
   ]
  },
  {
   "cell_type": "markdown",
   "metadata": {},
   "source": [
    "## 프로그래밍 실습 문제"
   ]
  },
  {
   "cell_type": "markdown",
   "metadata": {},
   "source": [
    "1. 프랙탈 트리에 사용된 알고리즘을 이용하여 손으로 직접 프랙탈 트리를 종이에 그려보아라.\n",
    "    예를 들어, `tree(75, 거북이손)`을 실행한다고 가정한다.\n",
    "1. 프랙탈 트리 알고리즘을 아래 사항들에 맞추어 수정하라.\n",
    "    - `branch_len`이 줄어들면 나뭇가지의 두께 또한 점점 얇아지도록 하라.\n",
    "    - 나뭇가지의 색상 또한 `branch_len`와 함께 달라져서 결국엔 나뭇잎 색깔이 되도록 하라.\n",
    "    - 좌우 가지치기의 각도를 15도에서 45도 사이에서 임의로 변할 수 있도록 하라.\n",
    "        단, 생성된 트리의 모양이 적절하게 보기 좋아야 한다. \n",
    "    - 나뭇가지의 길이가 일정하게 줄어드는 대신 가지치기 할 때마다 임의의 크기만큼 줄어들도록 하라.\n",
    "        단, 적절한 범위 내에서 줄어들어야 하며, 최종적으로 자연스럽게 보여야 한다.\n",
    "\n",
    "1. Find or invent an algorithm for drawing a fractal mountain. Hint: One\n",
    "   approach to this uses triangles again.\n",
    "\n",
    "1. Write a recursive function to compute the Fibonacci sequence. How\n",
    "   does the performance of the recursive function compare to that of an\n",
    "   iterative version?\n",
    "\n",
    "1. Using the turtle graphics module, write a recursive program to\n",
    "   display a Hilbert curve.\n",
    "\n",
    "1. Using the turtle graphics module, write a recursive program to\n",
    "   display a Koch snowflake."
   ]
  },
  {
   "cell_type": "markdown",
   "metadata": {},
   "source": [
    "**제너레이터 관련**"
   ]
  },
  {
   "cell_type": "markdown",
   "metadata": {},
   "source": [
    "**문제**"
   ]
  },
  {
   "cell_type": "markdown",
   "metadata": {},
   "source": [
    "중첩 리스트를 1차원 리스트로 변환하기. 재귀 활용과 제너레이터 활용 비교."
   ]
  },
  {
   "cell_type": "code",
   "execution_count": 30,
   "metadata": {},
   "outputs": [],
   "source": [
    "from typing import Iterable \n",
    "#from collections import Iterable                            # < py38\n",
    "\n",
    "def flatten(items):\n",
    "    \"\"\"Yield items from any nested iterable; see Reference.\"\"\"\n",
    "    for x in items:\n",
    "        if isinstance(x, Iterable) and not isinstance(x, (str, bytes)):\n",
    "            for sub_x in flatten(x):\n",
    "                yield sub_x\n",
    "        else:\n",
    "            yield x"
   ]
  },
  {
   "cell_type": "code",
   "execution_count": 31,
   "metadata": {},
   "outputs": [],
   "source": [
    "from typing import Iterable \n",
    "#from collections import Iterable                            # < py38\n",
    "\n",
    "def flatten(items):\n",
    "    \"\"\"Yield items from any nested iterable; see Reference.\"\"\"\n",
    "    for x in items:\n",
    "        if isinstance(x, Iterable) and not isinstance(x, (str, bytes)):\n",
    "            yield from flatten(x)\n",
    "        else:\n",
    "            yield x"
   ]
  },
  {
   "cell_type": "code",
   "execution_count": 32,
   "metadata": {},
   "outputs": [
    {
     "data": {
      "text/plain": [
       "[1, 2, 3, 4, 5, 6, 7, 8, 9]"
      ]
     },
     "execution_count": 32,
     "metadata": {},
     "output_type": "execute_result"
    }
   ],
   "source": [
    "simple = [[1, 2, 3], [4, 5, 6], [7], [8, 9]]\n",
    "list(flatten(simple))"
   ]
  },
  {
   "cell_type": "code",
   "execution_count": 33,
   "metadata": {},
   "outputs": [
    {
     "data": {
      "text/plain": [
       "[1, 2, 3, 4, 5, 6, 7, 8, '9']"
      ]
     },
     "execution_count": 33,
     "metadata": {},
     "output_type": "execute_result"
    }
   ],
   "source": [
    "complicated = [[1, [2]], (3, 4, {5, 6}, 7), 8, \"9\"]              # numbers, strs, nested & mixed\n",
    "list(flatten(complicated))"
   ]
  },
  {
   "cell_type": "code",
   "execution_count": 34,
   "metadata": {},
   "outputs": [
    {
     "data": {
      "text/plain": [
       "[[1, 2, 3], [4, 5, 6], [7], [8, 9]]"
      ]
     },
     "execution_count": 34,
     "metadata": {},
     "output_type": "execute_result"
    }
   ],
   "source": [
    "simple"
   ]
  },
  {
   "cell_type": "code",
   "execution_count": 35,
   "metadata": {},
   "outputs": [],
   "source": [
    "simple[0:0] = 'a'"
   ]
  },
  {
   "cell_type": "code",
   "execution_count": 36,
   "metadata": {},
   "outputs": [
    {
     "data": {
      "text/plain": [
       "['a', [1, 2, 3], [4, 5, 6], [7], [8, 9]]"
      ]
     },
     "execution_count": 36,
     "metadata": {},
     "output_type": "execute_result"
    }
   ],
   "source": [
    "simple"
   ]
  },
  {
   "cell_type": "markdown",
   "metadata": {},
   "source": [
    "**참고**\n",
    "\n",
    "`while` 문 활용 함수"
   ]
  },
  {
   "cell_type": "code",
   "execution_count": 37,
   "metadata": {},
   "outputs": [],
   "source": [
    "def flatten_list(list1):\n",
    "    out = []\n",
    "    inside = list1\n",
    "    while inside:\n",
    "        x = inside.pop(0)\n",
    "        if isinstance(x, list):\n",
    "            inside[0:0] = x\n",
    "        else:\n",
    "            out.append(x)\n",
    "    return out"
   ]
  },
  {
   "cell_type": "code",
   "execution_count": 38,
   "metadata": {},
   "outputs": [
    {
     "data": {
      "text/plain": [
       "[1, 2, 3, 4, 5, 6, 7, 8, 9, 10, 11]"
      ]
     },
     "execution_count": 38,
     "metadata": {},
     "output_type": "execute_result"
    }
   ],
   "source": [
    "l = [[[1,2],3,[4,[[5,6],7],[8]]],[9,10,11]]\n",
    "flatten_list(l)\n",
    "# [1, 2, 3, 4, 5, 6, 7, 8, 9, 10, 11]"
   ]
  },
  {
   "cell_type": "code",
   "execution_count": null,
   "metadata": {},
   "outputs": [],
   "source": []
  }
 ],
 "metadata": {
  "kernelspec": {
   "display_name": "Python 3 (ipykernel)",
   "language": "python",
   "name": "python3"
  },
  "language_info": {
   "codemirror_mode": {
    "name": "ipython",
    "version": 3
   },
   "file_extension": ".py",
   "mimetype": "text/x-python",
   "name": "python",
   "nbconvert_exporter": "python",
   "pygments_lexer": "ipython3",
   "version": "3.9.7"
  }
 },
 "nbformat": 4,
 "nbformat_minor": 4
}