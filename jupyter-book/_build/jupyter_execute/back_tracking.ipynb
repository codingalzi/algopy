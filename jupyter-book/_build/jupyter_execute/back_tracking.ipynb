{
 "cells": [
  {
   "cell_type": "markdown",
   "metadata": {
    "slideshow": {
     "slide_type": "slide"
    }
   },
   "source": [
    "(sec:back_tracking)=\n",
    "# 되추적 기법"
   ]
  },
  {
   "cell_type": "markdown",
   "metadata": {},
   "source": [
    "**슬라이드**\n",
    "\n",
    "본문 내용을 요약한 [슬라이드](https://github.com/codingalzi/algopy/raw/master/slides/slides-back_tracking.pdf)를 다운로드할 수 있다."
   ]
  },
  {
   "cell_type": "markdown",
   "metadata": {
    "slideshow": {
     "slide_type": "slide"
    }
   },
   "source": [
    "**주요 내용**\n",
    "\n",
    "- 되추적 기법\n",
    "- n-여왕말 문제\n",
    "- 그래프 색칠하기"
   ]
  },
  {
   "cell_type": "markdown",
   "metadata": {
    "slideshow": {
     "slide_type": "slide"
    }
   },
   "source": [
    "## 제약 충족 문제"
   ]
  },
  {
   "cell_type": "markdown",
   "metadata": {
    "slideshow": {
     "slide_type": "slide"
    }
   },
   "source": [
    "제약 충족 문제<font size='2'>constraint-satisfaction problem</font>(CSP)는\n",
    "변수에 할당할 값을 특정 영역(도메인)에서 정해진 조건에 따라 선택하는 문제이다."
   ]
  },
  {
   "cell_type": "markdown",
   "metadata": {
    "slideshow": {
     "slide_type": "slide"
    }
   },
   "source": [
    "예를 들어 4-여왕말 문제가 대표적인 제약 충족 문제이다. \n",
    "여기서 여왕말은 체스에 사용되며 상하좌우, 대각선 등 임의로 움직일 수 있다.\n",
    "4-여왕말 문제는 1번, 2번, 3번, 4번으로 구분되는 네 개의 여왕말을\n",
    "`4x4` 모양의 체스판에서 서로 잡히지 않도록 위치시키는 문제이다. \n",
    "4-여왕말 문제를 정형화하면 다음과 같다.\n",
    "\n",
    "* 변수: 1번부터 4번까지 이름이 붙은 네 개의 여왕말\n",
    "* 도메인: `4x4` 모양의 체스판에 포함된 1번 열부터 4번 열.\n",
    "* 조건: 두 개의 퀸이 하나의 행, 열, 또는 대각선 상에 위치하지 않음."
   ]
  },
  {
   "cell_type": "markdown",
   "metadata": {
    "slideshow": {
     "slide_type": "slide"
    }
   },
   "source": [
    "아래 그림은 4개의 여왕말이 앞서 언급된 조건을 만족시키거나 못하는 경우를 함께 보여준다."
   ]
  },
  {
   "cell_type": "markdown",
   "metadata": {
    "slideshow": {
     "slide_type": "slide"
    }
   },
   "source": [
    "<div align=\"center\"><img src=\"https://raw.githubusercontent.com/codingalzi/algopy/master/jupyter-book/imgs/algo05/algo05-01a.png\" width=\"150\"/></div>"
   ]
  },
  {
   "cell_type": "markdown",
   "metadata": {
    "slideshow": {
     "slide_type": "slide"
    }
   },
   "source": [
    "## 되추적 기법"
   ]
  },
  {
   "cell_type": "markdown",
   "metadata": {
    "slideshow": {
     "slide_type": "slide"
    }
   },
   "source": [
    "되추적 기법은 제약 충족 문제를 해결하는 기법이며\n",
    "백트래킹<font size='2'>backtracking</font>으로 불리기도 한다.\n",
    "많은 제약 충족 문제가 제약 충족 조건만 서로 다를 뿐 동일한 되추적 알고리즘으로 해결되기도 한다.\n",
    "여기서는 두 개의 문제를 이용하여 되추적 기법의 활용법을 설명한다."
   ]
  },
  {
   "cell_type": "markdown",
   "metadata": {
    "slideshow": {
     "slide_type": "slide"
    }
   },
   "source": [
    "되추적 기법 이해에 필요한 개념은 다음과 같다.\n",
    "\n",
    "* 깊이 우선 탐색\n",
    "* 상태 공간 나무\n",
    "* 노드의 유망성\n",
    "* 가지치기"
   ]
  },
  {
   "cell_type": "markdown",
   "metadata": {
    "slideshow": {
     "slide_type": "slide"
    }
   },
   "source": [
    "**깊이우선 탐색**"
   ]
  },
  {
   "cell_type": "markdown",
   "metadata": {
    "slideshow": {
     "slide_type": "slide"
    }
   },
   "source": [
    "* DFS(depth-first-search): 뿌리 지정 나무(rooted tree)를 대상으로 하는 탐색기법."
   ]
  },
  {
   "cell_type": "markdown",
   "metadata": {
    "slideshow": {
     "slide_type": ""
    }
   },
   "source": [
    "* 왼편으로 끝(잎노드)까지 탐색한 후에 오른편 형제자매 노드로 이동"
   ]
  },
  {
   "cell_type": "markdown",
   "metadata": {
    "slideshow": {
     "slide_type": "slide"
    }
   },
   "source": [
    "* 예제: \n",
    "    * 아래 뿌리 지정 나무의 뿌리에서 출발하여 왼편 아랫쪽 방향으로 진행.\n",
    "    * 더 이상 아래 방향으로 진행할 수 없으면 부모 노드로 돌아간 후 다른 형제자매 노드 중 가장\n",
    "        왼편에 위치한 노드로 이동 후 왼편 아랫쪽 방향으로의 이동 반복"
   ]
  },
  {
   "cell_type": "markdown",
   "metadata": {
    "slideshow": {
     "slide_type": ""
    }
   },
   "source": [
    "<div align=\"center\"><img src=\"https://raw.githubusercontent.com/codingalzi/algopy/master/jupyter-book/imgs/algo05/algo05-02.png\" width=\"400\"/></div>"
   ]
  },
  {
   "cell_type": "markdown",
   "metadata": {
    "slideshow": {
     "slide_type": "slide"
    }
   },
   "source": [
    "**상태 공간 나무(state space tree)**"
   ]
  },
  {
   "cell_type": "markdown",
   "metadata": {},
   "source": [
    "* 변수가 가질 수 있는 모든 값을 노드(node)로 갖는 뿌리 지정 나무"
   ]
  },
  {
   "cell_type": "markdown",
   "metadata": {},
   "source": [
    "* **깊이**: 깊이가 0인 뿌리에서 출발하여 아래로 내려갈 수록 깊이가 1씩 증가. "
   ]
  },
  {
   "cell_type": "markdown",
   "metadata": {
    "slideshow": {
     "slide_type": "slide"
    }
   },
   "source": [
    "* 예제: `4x4`로 이루어진 체스판에 네 개의 체스 퀸을 놓을 수 있는 위치를 \n",
    "    노드로 표현한 상태 공간 나무\n",
    "    * 뿌리는 출발 노드로 표현하며, 체스 퀸의 위치와 상관 없음.\n",
    "    * 깊이 $k$의 노드: $k$ 째 퀸이 놓일 수 있는 위치"
   ]
  },
  {
   "cell_type": "markdown",
   "metadata": {
    "slideshow": {
     "slide_type": ""
    }
   },
   "source": [
    "<div align=\"center\"><img src=\"https://raw.githubusercontent.com/codingalzi/algopy/master/jupyter-book/imgs/algo05/algo05-03.png\" width=\"500\"/></div>"
   ]
  },
  {
   "cell_type": "markdown",
   "metadata": {
    "slideshow": {
     "slide_type": "slide"
    }
   },
   "source": [
    "**노드의 유망성**"
   ]
  },
  {
   "cell_type": "markdown",
   "metadata": {
    "slideshow": {
     "slide_type": ""
    }
   },
   "source": [
    "* 지정된 특정 조건에 해당하는 노드를 __유망하다__라고 부름."
   ]
  },
  {
   "cell_type": "markdown",
   "metadata": {
    "slideshow": {
     "slide_type": ""
    }
   },
   "source": [
    "* 예제: 네 개의 퀸을 위치시켜야 할 경우 첫째 퀸의 위치에 따라\n",
    "    둘째 퀸이 놓일 수 있는 위치의 유망성이 결정됨.\n",
    "    * 아래 그림에서 2번 행의 1, 2번 칸은 유망하지 않음."
   ]
  },
  {
   "cell_type": "markdown",
   "metadata": {
    "slideshow": {
     "slide_type": ""
    }
   },
   "source": [
    "<div align=\"center\"><img src=\"https://raw.githubusercontent.com/codingalzi/algopy/master/jupyter-book/imgs/algo05/algo05-04.png\" width=\"300\"/></div>"
   ]
  },
  {
   "cell_type": "markdown",
   "metadata": {
    "slideshow": {
     "slide_type": "slide"
    }
   },
   "source": [
    "**가지치기(pruning)**"
   ]
  },
  {
   "cell_type": "markdown",
   "metadata": {},
   "source": [
    "* 특정 노드에서 시작되는 가지 제거하기"
   ]
  },
  {
   "cell_type": "markdown",
   "metadata": {
    "slideshow": {
     "slide_type": "slide"
    }
   },
   "source": [
    "* 예제: 4 x 4로 이루어진 체스판에 네 개의 체스 퀸을 놓을 수 있는 위치를 \n",
    "    노드로 표현한 상태 공간 나무에서 유망하지 않은 노드에서 가지치기를 실행하면 아래 그림이 생성됨."
   ]
  },
  {
   "cell_type": "markdown",
   "metadata": {
    "slideshow": {
     "slide_type": ""
    }
   },
   "source": [
    "<div align=\"center\"><img src=\"https://raw.githubusercontent.com/codingalzi/algopy/master/jupyter-book/imgs/algo05/algo05-05.png\" width=\"600\"/></div>"
   ]
  },
  {
   "cell_type": "markdown",
   "metadata": {
    "slideshow": {
     "slide_type": "slide"
    }
   },
   "source": [
    "**4-여왕말 문제 되추적 알고리즘**"
   ]
  },
  {
   "cell_type": "markdown",
   "metadata": {},
   "source": [
    "1. 상태 공간 나무의 뿌리로부터 깊이우선 탐색(DFS) 실행.\n",
    "    <br>\n",
    "\n",
    "2. 탐색 과정에서 유망하지 않은 노드를 만나면 가지치기 실행 후 부모 노드로 되돌아감(되추적, backtracking).\n",
    "    <br>\n",
    "\n",
    "3. 이후 다른 형제자매 노드를 대상으로 깊이우선 탐색 반복.\n",
    "    더 이상의 형제자매 노드가 없으면 형제자매가 있는 조상까지 되추적 실행.\n",
    "    <br>\n",
    "\n",
    "4. 탐색이 더 이상 진행할 수 없는 경우 알고리즘 종료"
   ]
  },
  {
   "cell_type": "markdown",
   "metadata": {
    "slideshow": {
     "slide_type": "slide"
    }
   },
   "source": [
    "**예제: 되추적 알고리즘을 활용한 4-여왕말 문제 해결**"
   ]
  },
  {
   "cell_type": "markdown",
   "metadata": {
    "slideshow": {
     "slide_type": ""
    }
   },
   "source": [
    "<div align=\"center\"><img src=\"https://raw.githubusercontent.com/codingalzi/algopy/master/jupyter-book/imgs/algo05/algo05-06.png\" width=\"600\"/></div>"
   ]
  },
  {
   "cell_type": "markdown",
   "metadata": {
    "slideshow": {
     "slide_type": "slide"
    }
   },
   "source": [
    "**깊이우선 탐색 대 되추적 알고리즘 비교**"
   ]
  },
  {
   "cell_type": "markdown",
   "metadata": {
    "slideshow": {
     "slide_type": ""
    }
   },
   "source": [
    "* 4-여왕말 문제를 순수한 깊이우선 탐색으로 해결하고자 할 경우: 155 노드 검색"
   ]
  },
  {
   "cell_type": "markdown",
   "metadata": {
    "slideshow": {
     "slide_type": ""
    }
   },
   "source": [
    "* 4-여왕말 문제를 되추적 알고리즘으로 해결하고자 하는 경우: 27 노드 검색"
   ]
  },
  {
   "cell_type": "markdown",
   "metadata": {
    "slideshow": {
     "slide_type": "slide"
    }
   },
   "source": [
    "## n-여왕말 문제"
   ]
  },
  {
   "cell_type": "markdown",
   "metadata": {
    "slideshow": {
     "slide_type": "slide"
    }
   },
   "source": [
    "* 4-여왕말 문제를 일반화시킨 n-문제를 해결하는 되추적 알고리즘 구현하기\n",
    "\n",
    "* 문제: n 개의 퀸(queen)을 서로 상대방을 위협하지 않도록 n x n 체스판에 위치시키기\n",
    "    <br>\n",
    "    \n",
    "    * 변수: n 개의 퀸\n",
    "        * 즉, 1번 퀸부터 n번 퀸.\n",
    "        <br>\n",
    "        <br>\n",
    "\n",
    "    * 도메인: {1, 2, ..., n}\n",
    "        * 즉, 1번 열부터 n번 열.\n",
    "        <br>\n",
    "        <br>\n",
    "\n",
    "    * 조건: 두 개의 퀸이 하나의 행, 열, 또는 대각선 상에 위치하지 않음."
   ]
  },
  {
   "cell_type": "markdown",
   "metadata": {
    "slideshow": {
     "slide_type": "slide"
    }
   },
   "source": [
    "**유망성 판단**"
   ]
  },
  {
   "cell_type": "markdown",
   "metadata": {
    "slideshow": {
     "slide_type": ""
    }
   },
   "source": [
    "* 두 개의 퀸 $q_1, q_2$가 같은 대각선 상에 위치하려면 행과 열의 차이의 절댓값이 동일해야 함.\n",
    "    (아래 그림 참조)\n",
    "    \n",
    "    $$\n",
    "    \\text{abs}(q_{1,r} - q_{2,r}) = \\text{abs}(q_{1,c} - q_{2,c})\n",
    "    $$\n",
    "    \n",
    "    단, $(q_{1,r}, q_{1,c})$ 와 $(q_{2,r}, q_{2,c})$ 는 \n",
    "    각각 $q_1$과 $q_2$가 위치한 행과 열의 좌표를 가리킴."
   ]
  },
  {
   "cell_type": "markdown",
   "metadata": {
    "slideshow": {
     "slide_type": ""
    }
   },
   "source": [
    "<div align=\"center\"><img src=\"https://raw.githubusercontent.com/codingalzi/algopy/master/jupyter-book/imgs/algo05/algo05-07.png\" width=\"300\"/></div>"
   ]
  },
  {
   "cell_type": "markdown",
   "metadata": {
    "slideshow": {
     "slide_type": "slide"
    }
   },
   "source": [
    "**예제: 4-여왕말 문제 해결 되추적 알고리즘**"
   ]
  },
  {
   "cell_type": "code",
   "execution_count": 1,
   "metadata": {
    "slideshow": {
     "slide_type": "slide"
    }
   },
   "outputs": [],
   "source": [
    "from typing import List, Dict\n",
    "\n",
    "# 변수: 네 개의 퀸의 번호, 즉, 1, 2, 3, 4\n",
    "variables = [1, 2, 3, 4]\n",
    "\n",
    "# 도메인: 각각의 퀸이 자리잡을 수 있는 가능한 모든 열의 위치. \n",
    "domains: Dict[int, List[int]] = {}\n",
    "columns = [1, 2, 3, 4]\n",
    "for var in variables:\n",
    "    domains[var] = columns"
   ]
  },
  {
   "cell_type": "markdown",
   "metadata": {},
   "source": [
    "* 4-여왕말 문제의 경우 각각의 퀸 모두 동일하게 1열부터 4열 어딘가에 위치할 수 있음.\n",
    "    단, 그 중에서 조건을 만족시키는 열을 찾아야 함."
   ]
  },
  {
   "cell_type": "code",
   "execution_count": 2,
   "metadata": {},
   "outputs": [
    {
     "data": {
      "text/plain": [
       "{1: [1, 2, 3, 4], 2: [1, 2, 3, 4], 3: [1, 2, 3, 4], 4: [1, 2, 3, 4]}"
      ]
     },
     "execution_count": 2,
     "metadata": {},
     "output_type": "execute_result"
    }
   ],
   "source": [
    "domains"
   ]
  },
  {
   "cell_type": "markdown",
   "metadata": {
    "slideshow": {
     "slide_type": "slide"
    }
   },
   "source": [
    "**되추적 함수 구현**"
   ]
  },
  {
   "cell_type": "markdown",
   "metadata": {},
   "source": [
    "* 아래 되추적 함수 `backtracking_search_queens()`는 일반적인 n-여왕말 문제를 해결함.\n",
    "    * `assignment` 인자: 되추적 과정에서 일부의 변수에 대해 할당된 도메인 값의 정보를 담은 사전을 가리킴.\n",
    "    * 인자가 들어오면 아직 값을 할당받지 못한 변수를 대상으로 유망성을 확인한 후 되추적 알고리즘 진행.\n",
    "    * 되추적 알고리즘이 진행되면서 `assignment`가 확장되며 모든 변수에 대해 도메인 값이 지정될 때가지 재귀적으로\n",
    "        알고리즘이 진행됨."
   ]
  },
  {
   "cell_type": "code",
   "execution_count": 3,
   "metadata": {
    "slideshow": {
     "slide_type": "slide"
    }
   },
   "outputs": [],
   "source": [
    "def backtracking_search_queens(assignment: Dict[int, int] = {}):\n",
    "    \"\"\"assignment: 각각의 변수를 키로 사용하고 키값은 해당 변수에 할당될 값\"\"\"\n",
    "    \n",
    "    # 모든 변수에 대한 값이 지정된 경우 조건을 만족시키는 해가 완성된 것임\n",
    "    if len(assignment) == len(variables):\n",
    "        return assignment\n",
    "    # 아직 값을 갖지 않은 변수들이 존재하면 되추적 알고리즘을 아직 할당되지 않은 값을 대상으로 이어서 진행\n",
    "    unassigned = [v for v in variables if v not in assignment]\n",
    "    first = unassigned[0]\n",
    "    \n",
    "    for value in domains[first]:\n",
    "        # 주의: 기존의 assignment를 보호하기 위해 복사본 활용\n",
    "        # 되추적이 발생할 때 이전 할당값을 기억해 두기 위해서임.\n",
    "        local_assignment = assignment.copy()\n",
    "        local_assignment[first] = value\n",
    "        # local_assignment 값이 유망하면 재귀 호출을 사용하여 변수 할당 이어감.\n",
    "        if promissing_queens(first, local_assignment):\n",
    "            result = backtracking_search_queens(local_assignment)\n",
    "            # 유망성을 이어가지 못하면 되추적 실행\n",
    "            if result is not None:\n",
    "                return result\n",
    "            \n",
    "    return None    "
   ]
  },
  {
   "cell_type": "markdown",
   "metadata": {
    "slideshow": {
     "slide_type": "slide"
    }
   },
   "source": [
    "**유망성 확인 함수**"
   ]
  },
  {
   "cell_type": "code",
   "execution_count": 4,
   "metadata": {},
   "outputs": [],
   "source": [
    "def promissing_queens(variable: int, assignment: Dict[int, int]):\n",
    "    \"\"\"새로운 변수 variable에 값을 할당 하면서 해당 변수와 연관된 변수들 사이의 제약조건이 \n",
    "    assignment에 대해 만족되는지 여부 확인\n",
    "\n",
    "    n-여왕말 문제의 경우: 제약조건이 모든 변수에 대해 일정함.\n",
    "                   즉, 새로 위치시켜야 하는 퀸이 기존에 이미 자리잡은 퀸들 중 하나와\n",
    "                   동일 행, 열, 대각산 상에 위치하는지 여부를 확인함\"\"\"\n",
    "\n",
    "    # q1r, q1c: 첫째 퀸이 놓인 노드의 열과 행\n",
    "    for q1r, q1c in assignment.items(): \n",
    "        # q2r = 첫째 퀸 아래에 위치한 다른 모든 퀸들을 대상으로 조건만족여부 확인\n",
    "        for q2r in range(q1r + 1, len(assignment) + 1): \n",
    "            q2c = assignment[q2r] # 둘째 퀸의 열\n",
    "            if q1c == q2c: # 동일 열에 위치?\n",
    "                return False\n",
    "            if abs(q1r - q2r) == abs(q1c - q2c): # 대각선상에 위치?\n",
    "                return False \n",
    "\n",
    "    # 모든 변수에 대해 제약조건 만족됨\n",
    "    return True "
   ]
  },
  {
   "cell_type": "code",
   "execution_count": 5,
   "metadata": {
    "slideshow": {
     "slide_type": "slide"
    }
   },
   "outputs": [
    {
     "data": {
      "text/plain": [
       "{1: 2, 2: 4, 3: 1, 4: 3}"
      ]
     },
     "execution_count": 5,
     "metadata": {},
     "output_type": "execute_result"
    }
   ],
   "source": [
    "backtracking_search_queens()"
   ]
  },
  {
   "cell_type": "markdown",
   "metadata": {
    "slideshow": {
     "slide_type": "slide"
    }
   },
   "source": [
    "**n-여왕말 문제 되추적 알고리즘의 시간 복잡도**"
   ]
  },
  {
   "cell_type": "markdown",
   "metadata": {},
   "source": [
    "* n 개의 퀸이 주어졌을 때 상태공간트리의 노드의 수는 다음과 같음.\n",
    "\n",
    "    $$\n",
    "    1 + n + n^2 + n^3 + \\cdots + n^n = \\frac{n^{n+1}-1}{n-1}\n",
    "    $$"
   ]
  },
  {
   "cell_type": "markdown",
   "metadata": {},
   "source": [
    "* 따라서 되추적 알고리즘이 최대 n의 지수승 만큼 많은 수의 노드를 검색해야 할 수도 있음."
   ]
  },
  {
   "cell_type": "markdown",
   "metadata": {},
   "source": [
    "* 하지만 검색해야 하는 노드 수는 경우마다 다름. "
   ]
  },
  {
   "cell_type": "markdown",
   "metadata": {},
   "source": [
    "* 효율적인 알고리즘이 아직 알려지지 않음."
   ]
  },
  {
   "cell_type": "markdown",
   "metadata": {
    "slideshow": {
     "slide_type": "slide"
    }
   },
   "source": [
    "## 그래프 색칠하기"
   ]
  },
  {
   "cell_type": "markdown",
   "metadata": {
    "slideshow": {
     "slide_type": "slide"
    }
   },
   "source": [
    "**m-색칠하기**"
   ]
  },
  {
   "cell_type": "markdown",
   "metadata": {
    "slideshow": {
     "slide_type": ""
    }
   },
   "source": [
    "* 주어진 비방향그래프에서 서로 인접한 노드를 최대 m 개의 색상을 이용하여 \n",
    "    서로 다른 색을 갖도록 색칠하는 문제"
   ]
  },
  {
   "cell_type": "markdown",
   "metadata": {
    "slideshow": {
     "slide_type": "slide"
    }
   },
   "source": [
    "**예제**"
   ]
  },
  {
   "cell_type": "markdown",
   "metadata": {},
   "source": [
    "* 아래 그래프에 대한 2-색칠하기 문제의 해답은 없음."
   ]
  },
  {
   "cell_type": "markdown",
   "metadata": {
    "slideshow": {
     "slide_type": ""
    }
   },
   "source": [
    "<div align=\"center\"><img src=\"https://raw.githubusercontent.com/codingalzi/algopy/master/jupyter-book/imgs/algo05/algo05-08c.png\" width=\"200\"/></div>"
   ]
  },
  {
   "cell_type": "markdown",
   "metadata": {
    "slideshow": {
     "slide_type": "slide"
    }
   },
   "source": [
    "* 3-색칠하기 문제에 대해서는 해답 존재."
   ]
  },
  {
   "cell_type": "markdown",
   "metadata": {
    "slideshow": {
     "slide_type": ""
    }
   },
   "source": [
    "<div align=\"center\"><img src=\"https://raw.githubusercontent.com/codingalzi/algopy/master/jupyter-book/imgs/algo05/algo05-08d.png\" width=\"200\"/></div>"
   ]
  },
  {
   "cell_type": "markdown",
   "metadata": {
    "slideshow": {
     "slide_type": "slide"
    }
   },
   "source": [
    "**주요 응용분야**"
   ]
  },
  {
   "cell_type": "markdown",
   "metadata": {},
   "source": [
    "* 지도 색칠하기"
   ]
  },
  {
   "cell_type": "markdown",
   "metadata": {
    "slideshow": {
     "slide_type": "slide"
    }
   },
   "source": [
    "### 평면그래프"
   ]
  },
  {
   "cell_type": "markdown",
   "metadata": {},
   "source": [
    "* 서로 교차하는 이음선이 없는 그래프"
   ]
  },
  {
   "cell_type": "markdown",
   "metadata": {},
   "source": [
    "* 지도를 평면그래프로 변환 가능\n",
    "    * 노드: 지도의 한 지역\n",
    "    * 이음선: 서로 인접한 두 지역 연결"
   ]
  },
  {
   "cell_type": "markdown",
   "metadata": {
    "slideshow": {
     "slide_type": "slide"
    }
   },
   "source": [
    "**예제**"
   ]
  },
  {
   "cell_type": "markdown",
   "metadata": {},
   "source": [
    "* 왼편의 지도를 오른편의 평면그래프로 변환 가능함."
   ]
  },
  {
   "cell_type": "markdown",
   "metadata": {
    "slideshow": {
     "slide_type": ""
    }
   },
   "source": [
    "<div align=\"center\"><img src=\"https://raw.githubusercontent.com/codingalzi/algopy/master/jupyter-book/imgs/algo05/algo05-09a.png\" width=\"400\"/></div>"
   ]
  },
  {
   "cell_type": "markdown",
   "metadata": {
    "slideshow": {
     "slide_type": "slide"
    }
   },
   "source": [
    "**예제: 3-색칠하기 문제 해결 되추적 알고리즘**"
   ]
  },
  {
   "cell_type": "markdown",
   "metadata": {},
   "source": [
    "```python\n",
    "colors = [빨강, 파랑, 갈색]\n",
    "       = [1  , 2  , 3  ]\n",
    "```\n",
    "\n",
    "<div align=\"center\"><img src=\"https://raw.githubusercontent.com/codingalzi/algopy/master/jupyter-book/imgs/algo05/algo05-08d.png\" width=\"200\"/></div>"
   ]
  },
  {
   "cell_type": "markdown",
   "metadata": {
    "slideshow": {
     "slide_type": "slide"
    }
   },
   "source": [
    "<div align=\"center\"><img src=\"https://raw.githubusercontent.com/codingalzi/algopy/master/jupyter-book/imgs/algo05/algo05-11.png\" width=\"400\"/></div>"
   ]
  },
  {
   "cell_type": "code",
   "execution_count": 8,
   "metadata": {
    "slideshow": {
     "slide_type": "slide"
    }
   },
   "outputs": [],
   "source": [
    "from typing import List, Dict\n",
    "\n",
    "# 변수: 네 노드의 번호, 즉, 1, 2, 3, 4\n",
    "variables = [1, 2, 3, 4]\n",
    "\n",
    "# 도메인: 각각의 노드에 칠할 수 있는 가능한 모든 색상\n",
    "# 3-색칠하기: 1(빨강), 2(파랑), 3(갈색)\n",
    "domains: Dict[int, List[int]] = {}\n",
    "columns = [1, 2, 3]\n",
    "for var in variables:\n",
    "    domains[var] = columns"
   ]
  },
  {
   "cell_type": "markdown",
   "metadata": {},
   "source": [
    "* 3-색칠하기 문제의 경우 각각의 노드에 동일하게 빨강, 파랑, 갈색 어느 색도 취할 수 있음.\n",
    "    단, 그 중에서 조건을 만족시키는 색상을 찾아야 함."
   ]
  },
  {
   "cell_type": "code",
   "execution_count": 9,
   "metadata": {},
   "outputs": [
    {
     "data": {
      "text/plain": [
       "{1: [1, 2, 3], 2: [1, 2, 3], 3: [1, 2, 3], 4: [1, 2, 3]}"
      ]
     },
     "execution_count": 9,
     "metadata": {},
     "output_type": "execute_result"
    }
   ],
   "source": [
    "domains"
   ]
  },
  {
   "cell_type": "markdown",
   "metadata": {
    "slideshow": {
     "slide_type": "slide"
    }
   },
   "source": [
    "**되추적 함수 구현**"
   ]
  },
  {
   "cell_type": "markdown",
   "metadata": {},
   "source": [
    "* 아래 되추적 함수 `backtracking_search_colors()`는 일반적인 m-색칠하기 문제를 해결함.\n",
    "    * `assignment` 인자: 되추적 과정에서 일부의 변수에 대해 할당된 도메인 값의 정보를 담은 사전을 가리킴.\n",
    "    * 인자가 들어오면 아직 값을 할당받지 못한 변수를 대상으로 유망성을 확인한 후 되추적 알고리즘 진행.\n",
    "    * 되추적 알고리즘이 진행되면서 `assignment`가 확장되며 모든 변수에 대해 도메인 값이 지정될 때가지 재귀적으로\n",
    "        알고리즘이 진행됨."
   ]
  },
  {
   "cell_type": "code",
   "execution_count": 10,
   "metadata": {
    "slideshow": {
     "slide_type": "slide"
    }
   },
   "outputs": [],
   "source": [
    "def backtracking_search_colors(assignment: Dict[int, int] = {}):\n",
    "    \"\"\"assignment: 각각의 변수를 키로 사용하고 키값은 해당 변수에 할당될 값\"\"\"\n",
    "\n",
    "    # 모든 변수에 대한 값이 지정된 경우 조건을 만족시키는 해가 완성된 것임\n",
    "    if len(assignment) == len(variables):\n",
    "        return assignment\n",
    "    # 아직 값을 갖지 않은 변수들이 존재하면 되추적 알고리즘을 아직 할당되지 않은 값을 대상으로 이어서 진행\n",
    "    unassigned = [v for v in variables if v not in assignment]\n",
    "    first = unassigned[0]\n",
    "    \n",
    "    for value in domains[first]:\n",
    "        # 주의: 기존의 assignment를 보호하기 위해 복사본 활용\n",
    "        # 되추적이 발생할 때 이전 할당값을 기억해 두기 위해서임.\n",
    "        local_assignment = assignment.copy()\n",
    "        local_assignment[first] = value\n",
    "        # local_assignment 값이 유망하면 재귀 호출을 사용하여 변수 할당 이어감.\n",
    "        if promissing_colors(first, local_assignment):\n",
    "            result = backtracking_search_colors(local_assignment)\n",
    "            # 유망성을 이어가지 못하면 되추적 실행\n",
    "            if result is not None:\n",
    "                return result\n",
    "\n",
    "    return None    "
   ]
  },
  {
   "cell_type": "markdown",
   "metadata": {
    "slideshow": {
     "slide_type": "slide"
    }
   },
   "source": [
    "**유망성 확인 함수**"
   ]
  },
  {
   "cell_type": "code",
   "execution_count": 11,
   "metadata": {},
   "outputs": [],
   "source": [
    "def promissing_colors(variable: int, assignment: Dict[int, int]):\n",
    "    \"\"\"새로운 변수 variable에 값을 할당 하면서 해당 변수와 연관된 변수들 사이의 제약조건이 \n",
    "    assignment에 대해 만족되는지 여부 확인\n",
    "\n",
    "    m-색칠하기 문제의 경우: 이웃노드의 상태에 따라 제약조건이 달라짐.\n",
    "                       즉, 노드 variable에 할당된 색이 이웃노드의 색과 달라야 함.\n",
    "                       이를 위해 각각의 노드가 갖는 이웃노드들의 리스트를 먼저 확인해야 함.\"\"\"\n",
    "    # 각 노드에 대한 이웃노드의 리스트\n",
    "    constraints = {\n",
    "        1 : [2, 3, 4],\n",
    "        2 : [1, 3],\n",
    "        3 : [1, 2, 4],\n",
    "        4 : [1, 3]\n",
    "    }\n",
    "\n",
    "    for var in constraints[variable]:\n",
    "        if (var in assignment) and (assignment[var] == assignment[variable]):\n",
    "            return False\n",
    "\n",
    "    return True "
   ]
  },
  {
   "cell_type": "code",
   "execution_count": 12,
   "metadata": {
    "slideshow": {
     "slide_type": "slide"
    }
   },
   "outputs": [
    {
     "data": {
      "text/plain": [
       "{1: 1, 2: 2, 3: 3, 4: 2}"
      ]
     },
     "execution_count": 12,
     "metadata": {},
     "output_type": "execute_result"
    }
   ],
   "source": [
    "backtracking_search_colors()"
   ]
  },
  {
   "cell_type": "markdown",
   "metadata": {
    "slideshow": {
     "slide_type": "slide"
    }
   },
   "source": [
    "**m-색칠하기 문제 되추적 알고리즘의 시간 복잡도**"
   ]
  },
  {
   "cell_type": "markdown",
   "metadata": {},
   "source": [
    "* n 개의 노드를 m 개의 색으로 칠해야 하는 문제의 상태공간트리의 노드의 수는 다음과 같음.\n",
    "\n",
    "    $$\n",
    "    1 + m + m^2 + m^3 + \\cdots + m^n = \\frac{m^{n+1}-1}{m-1}\n",
    "    $$"
   ]
  },
  {
   "cell_type": "markdown",
   "metadata": {},
   "source": [
    "* 따라서 되추적 알고리즘이 최대 m과 n의 지승 만큼 많은 수의 노드를 검색해야 할 수도 있음."
   ]
  },
  {
   "cell_type": "markdown",
   "metadata": {},
   "source": [
    "* 하지만 검색해야 하는 노드 수는 경우마다 다름. "
   ]
  },
  {
   "cell_type": "markdown",
   "metadata": {},
   "source": [
    "* 효율적인 알고리즘이 아직 알려지지 않음."
   ]
  },
  {
   "cell_type": "markdown",
   "metadata": {
    "slideshow": {
     "slide_type": "slide"
    }
   },
   "source": [
    "### 4색 정리"
   ]
  },
  {
   "cell_type": "markdown",
   "metadata": {},
   "source": [
    "* 4-색칠하기 문제는 언제나 해결가능함."
   ]
  },
  {
   "cell_type": "markdown",
   "metadata": {
    "slideshow": {
     "slide_type": ""
    }
   },
   "source": [
    "<div align=\"center\"><img src=\"https://raw.githubusercontent.com/codingalzi/algopy/master/jupyter-book/imgs/algo05/algo05-12a.png\" width=\"600\"/></div>\n",
    "\n",
    "<그림 출처: [위키피디아: 4색정리](https://ko.wikipedia.org/wiki/4색정리)>"
   ]
  },
  {
   "cell_type": "markdown",
   "metadata": {
    "slideshow": {
     "slide_type": "slide"
    }
   },
   "source": [
    "* 1852년에 영국인 Francis Guthrie가 영국 지도를 작성할 때\n",
    "    인접한 각 주를 다른 색으로 칠하기 위해 필요한 최소한의 색상의 수에 대한 질문에서 유래한 문제임."
   ]
  },
  {
   "cell_type": "markdown",
   "metadata": {
    "slideshow": {
     "slide_type": ""
    }
   },
   "source": [
    "* 해결\n",
    "    * 1976년에 K. Appel과 W. Haken 이 해결\n",
    "    * 500페이지 이상의 증명으로 이루어졌으며 일부 증명은 컴퓨터 프로그램을 사용하였음.\n",
    "    * 증명에 사용된 컴퓨터 프로그램에 대한 신뢰성 때문에 100% 인정받지 못하였음. \n",
    "        하지만 사용된 컴퓨터 프로그램의 문제가 발견된 것은 아님.\n",
    "    * 2005년에 G. Gonthier에 의해 두 사람의 증명이 옳았음이 검증됨. "
   ]
  },
  {
   "cell_type": "markdown",
   "metadata": {
    "slideshow": {
     "slide_type": "slide"
    }
   },
   "source": [
    "**$m$-색칠하기 문제 해결가능성 판단 알고리즘**"
   ]
  },
  {
   "cell_type": "markdown",
   "metadata": {},
   "source": [
    "* $m$ 이 1 또는 2인 경우: 쉽게 판단됨.\n",
    "* $m = 3$ 인 경우: 효율적인 알고리즘 아직 찾지 못함.\n",
    "    * 즉, 임의의 평면 지도에 대해 서로 인접한 지역은 다른 색상을 갖도록 3 가지 색상만을 이용하여 색칠할 수 있는지\n",
    "        여부를 판단하는 일이 매우 어려움."
   ]
  },
  {
   "cell_type": "markdown",
   "metadata": {
    "slideshow": {
     "slide_type": "slide"
    }
   },
   "source": [
    "## 연습문제"
   ]
  },
  {
   "cell_type": "markdown",
   "metadata": {},
   "source": [
    "1. [(실습) 되추적 기법](https://colab.research.google.com/github/codingalzi/algopy/blob/master/excs/exc-back_tracking.ipynb)"
   ]
  }
 ],
 "metadata": {
  "kernelspec": {
   "display_name": "Python 3 (ipykernel)",
   "language": "python",
   "name": "python3"
  },
  "language_info": {
   "codemirror_mode": {
    "name": "ipython",
    "version": 3
   },
   "file_extension": ".py",
   "mimetype": "text/x-python",
   "name": "python",
   "nbconvert_exporter": "python",
   "pygments_lexer": "ipython3",
   "version": "3.11.4"
  }
 },
 "nbformat": 4,
 "nbformat_minor": 4
}