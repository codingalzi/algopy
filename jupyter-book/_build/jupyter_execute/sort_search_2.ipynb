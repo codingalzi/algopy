{
 "cells": [
  {
   "cell_type": "markdown",
   "metadata": {},
   "source": [
    "# 버블/선택/합병/퀵 정렬"
   ]
  },
  {
   "cell_type": "markdown",
   "metadata": {},
   "source": [
    "**소스코드**\n",
    "\n",
    "아래 내용을 \n",
    "[(구글 코랩) 버블 정렬, 선택 정렬, 합병 정렬, 퀵 정렬](https://colab.research.google.com/github/codingalzi/algopy/blob/master/jupyter-book/sort_search_2.ipynb)에서 \n",
    "직접 실행할 수 있다."
   ]
  },
  {
   "cell_type": "markdown",
   "metadata": {},
   "source": [
    "**주요 내용**\n",
    "\n",
    "- 버블정렬\n",
    "- 선택정렬\n",
    "- 합병정렬\n",
    "- 퀵정렬"
   ]
  },
  {
   "cell_type": "markdown",
   "metadata": {},
   "source": [
    "**정렬**<font size='2'>sorting</font>은 모음 객체에 포함된 항목들을 특정 크기 기준에 따라 \n",
    "오름차순 또는 내림차순으로 순서대로 위치하도록 하는 과정을 가리킨다.\n",
    "예를 들어, 문자열들로 이루어진 리스트의 항목을 알파벳 순서대로 정렬하거나,\n",
    "도시들의 리스트를 인구, 면적, 또는 우편번호 등으로 정렬할 수 있다. \n",
    "어구전철<font size='2'>anagram</font> 관계 확인, 이진탐색 등에서 정렬된 리스트가 얼마나 유용하게 활용되는지 \n",
    "확인했었다.\n",
    "\n",
    "정렬 문제가 매우 중요하고 유용한가는 다양한 종류의 알고리즘이 있다는 사실에서 알 수 있다. \n",
    "하지만 어떤 정렬 알고리즘은 큰 데이터셋에 대해서는 유용하지만\n",
    "복잡한 알고리즘으로 인해 적은 데이터셋에 대해서는 효용성이 떨어지기도 한다. \n",
    "여기서는 다양한 알고리즘을 소개하고 장단점을 비교한다. \n",
    "\n",
    "정렬 알고리즘의 시간복잡도 분석에 사용되는 기본 단위연산은 다음 두 가지가\n",
    "일반적으로 사용된다.\n",
    "\n",
    "- 두 값의 크기 비교: 두 항목의 크기를 서로 비교할 수 있어야 함.\n",
    "- 두 항목의 자리 교환: 예를 들어, 보다 작은 값을 보다 큰 값보다 왼편에 위치하도록 해야 함."
   ]
  },
  {
   "cell_type": "markdown",
   "metadata": {},
   "source": [
    "## 버블 정렬"
   ]
  },
  {
   "cell_type": "markdown",
   "metadata": {},
   "source": [
    "**버블 정렬**<font size='2'>bubble sort</font>은 연속된 두 수를 비교하여 \n",
    "필요한 경우 작은 값은 왼쪽으로, 큰 값은 오른쪽으로 자리를 바꾸는 일을 \n",
    "리스트 끝까지 반복하는 **패스**<font size='2'>pass</font> 과정을 리스트가 정렬될 때까지 반복하는 알고리즘이다. \n",
    "\n",
    "아래 그림은 첫째 패스 과정을 묘사하며\n",
    "첫째 패스가 끝나면 가장 큰 항목에 맨 오른쪽으로 이동한다.\n",
    "이후 둘째 패스를 실행하면 두 번째로 큰 항목은 오른쪽에서 둘째 자리에 위치한다.\n",
    "따라서 이 패스 과정을 길이가 $n$인 리스트에 대해 $(n-1)$ 번 적용하면\n",
    "최종적으로 오름차순으로 정렬된 리스트를 얻게 된다.\n",
    "이유는 가장 작은 항목은 자동으로 맨 왼편에 위치하게될 것이기 때문이다.\n",
    "\n",
    "**참고**: 거품이 뽀글뽀글 위로 올라가(bubble up)는 거에 비유해서 버블 정렬이라 부른다."
   ]
  },
  {
   "cell_type": "markdown",
   "metadata": {},
   "source": [
    "<figure>\n",
    "<div align=\"center\"><img src=\"https://runestone.academy/runestone/books/published/pythonds3/_images/bubblepass.png\" width=\"60%\"></div>\n",
    "</figure>"
   ]
  },
  {
   "cell_type": "markdown",
   "metadata": {},
   "source": [
    "아래 이미지는 버블정렬의 전체 패스가 작동하는 과정을 보여준다."
   ]
  },
  {
   "cell_type": "markdown",
   "metadata": {},
   "source": [
    "<figure>\n",
    "<div align=\"center\"><img src=\"https://upload.wikimedia.org/wikipedia/commons/5/54/Sorting_bubblesort_anim.gif\" width=\"50%\"></div>\n",
    "</figure>"
   ]
  },
  {
   "cell_type": "markdown",
   "metadata": {},
   "source": [
    "다음 `bubble_sort()` 함수가 리스트를 버블정렬한다.\n",
    "이주 `for` 반복문을 사용하며 각 반복문에서 사용되는 변수들의 역할은 다음과 같다.\n",
    "\n",
    "- `i`: 하나의 패스를 가리킴. 동시에 두 항목의 크기비교 및 자리교환 최대 횟수도 지정함.\n",
    "- `j`: 패스 별 크기비교 및 자리교환 수행"
   ]
  },
  {
   "cell_type": "markdown",
   "metadata": {},
   "source": [
    "**참고**: [PythonTutor - 버블정렬](https://pythontutor.com/visualize.html#code=def%20bubble_sort%28a_list%29%3A%0A%20%20%20%20for%20i%20in%20range%28len%28a_list%29%20-%201,%200,%20-1%29%3A%20%20%0A%20%20%20%20%20%20%20%20for%20j%20in%20range%28i%29%3A%0A%20%20%20%20%20%20%20%20%20%20%20%20if%20a_list%5Bj%5D%20%3E%20a_list%5Bj%20%2B%201%5D%3A%0A%20%20%20%20%20%20%20%20%20%20%20%20%20%20%20%20temp%20%3D%20a_list%5Bj%5D%0A%20%20%20%20%20%20%20%20%20%20%20%20%20%20%20%20a_list%5Bj%5D%20%3D%20a_list%5Bj%20%2B%201%5D%0A%20%20%20%20%20%20%20%20%20%20%20%20%20%20%20%20a_list%5Bj%20%2B%201%5D%20%3D%20temp%0A%0Aa_list%20%3D%20%5B26,%2054,%2093,%2017,%2077,%2031,%2044,%2055,%2020%5D%0Abubble_sort%28a_list%29&cumulative=false&curInstr=0&heapPrimitives=nevernest&mode=display&origin=opt-frontend.js&py=3&rawInputLstJSON=%5B%5D&textReferences=false)"
   ]
  },
  {
   "cell_type": "code",
   "execution_count": 1,
   "metadata": {},
   "outputs": [],
   "source": [
    "def bubble_sort(a_list):\n",
    "    \n",
    "    for i in range(len(a_list) - 1, 0, -1):  # 패스\n",
    "        for j in range(i):                   # 패스 별 크기비교 및 자리교환\n",
    "            \n",
    "            if a_list[j] > a_list[j + 1]:    # 크기비교 및 자리교환: 중간저장소 활용\n",
    "                temp = a_list[j]\n",
    "                a_list[j] = a_list[j + 1]\n",
    "                a_list[j + 1] = temp"
   ]
  },
  {
   "cell_type": "code",
   "execution_count": 2,
   "metadata": {},
   "outputs": [
    {
     "name": "stdout",
     "output_type": "stream",
     "text": [
      "[17, 20, 26, 31, 44, 54, 55, 77, 93]\n"
     ]
    }
   ],
   "source": [
    "a_list = [54, 26, 93, 17, 77, 31, 44, 55, 20]\n",
    "\n",
    "bubble_sort(a_list)\n",
    "print(a_list)"
   ]
  },
  {
   "cell_type": "markdown",
   "metadata": {},
   "source": [
    "**다중할당**"
   ]
  },
  {
   "cell_type": "markdown",
   "metadata": {},
   "source": [
    "대부분의 프로그래밍언어는 두 변수가 가리키는 값을 교환할 때 중간저장소를 이용한다.\n",
    "하지만 파이썬은 **다중 할당**을 이용하여 중간저장소 없이\n",
    "두 변수가 가리키는 값을 동시에 변경할 수 있다(아래 코드 참조)."
   ]
  },
  {
   "cell_type": "code",
   "execution_count": 3,
   "metadata": {},
   "outputs": [],
   "source": [
    "def bubble_sort(a_list):\n",
    "    \n",
    "    for i in range(len(a_list) - 1, 0, -1):  \n",
    "        for j in range(i):\n",
    "            \n",
    "            if a_list[j] > a_list[j + 1]:    # 크기비교 및 자리교환: 다중할당\n",
    "                a_list[j], a_list[j + 1] = a_list[j + 1], a_list[j]"
   ]
  },
  {
   "cell_type": "code",
   "execution_count": 4,
   "metadata": {},
   "outputs": [
    {
     "name": "stdout",
     "output_type": "stream",
     "text": [
      "[17, 20, 26, 31, 44, 54, 55, 77, 93]\n"
     ]
    }
   ],
   "source": [
    "a_list = [54, 26, 93, 17, 77, 31, 44, 55, 20]\n",
    "\n",
    "bubble_sort(a_list)\n",
    "print(a_list)"
   ]
  },
  {
   "cell_type": "markdown",
   "metadata": {},
   "source": [
    "**버블정렬 시간복잡도 분석**"
   ]
  },
  {
   "cell_type": "markdown",
   "metadata": {},
   "source": [
    "항목들의 비교 횟수는 1부터 (n-1)까지의 합임을 쉽게 알 수 있다.\n",
    "\n",
    "| **패 &nbsp;&nbsp;&nbsp;&nbsp; 스** | **비교 횟수** |\n",
    "| :---: | :---: |\n",
    "| $1$ | $n-1$ |\n",
    "| $2$ | $n-2$ |\n",
    "| $3$ | $n-3$ |\n",
    "| $\\vdots$ | $\\vdots$ |\n",
    "| $n-1$ | $1$ |\n",
    "\n",
    "따라서 총 비교 횟수는 다음과 같이 $O(n^2)$의 시간복잡도를 갖는다.\n",
    "\n",
    "$$\n",
    "1 + 2 + \\cdots + (n-1) = \\frac{n (n-1)}{2} = \\frac{1}{2} n^2 - \\frac{1}{2} n \\in O(n^2)\n",
    "$$\n",
    "\n",
    "반면에 자리교환은 최소 0, 최대 비교횟수와 동일하게 발생하며, 평균적으로 비교횟수의 절반정도 발생한다. \n",
    "따라서 최선, 최악, 평균 시간복잡도 모두 $O(n^2)$의 시간복잡도를 갖는다."
   ]
  },
  {
   "cell_type": "markdown",
   "metadata": {},
   "source": [
    "**버블정렬 조기종료**"
   ]
  },
  {
   "cell_type": "markdown",
   "metadata": {},
   "source": [
    "앞으로 보겠지만 버블정렬은 다른 정렬 기법에 비해 비효율적이다.\n",
    "이유는 경우에 따라 자리교환을 여러 번 해야하는 항목이 많이 발생하기 때문이다.\n",
    "하지만 바로 이 이유때문에 타 정렬 알고리즘은 지원하지 않는\n",
    "조기종료 기능을 추가할 수 있다.\n",
    "\n",
    "버블정렬을 실행하면서 특정 패스에서 자리교환이 한 번도 발생하지 않는다면 \n",
    "해당 리스트는 이미 정렬되었음을 의미한다.\n",
    "따라서 그때 바로 실행을 종료해도 된다.\n",
    "다음 `bubble_sort_short()` 함수는 조기종료를 지원하는 버블정렬 알고리즘을 구현한다."
   ]
  },
  {
   "cell_type": "code",
   "execution_count": 5,
   "metadata": {},
   "outputs": [],
   "source": [
    "def bubble_sort_short(a_list):\n",
    "    \n",
    "    for i in range(len(a_list) - 1, 0, -1):\n",
    "        exchanges = False    # 패스 기간 내 자리교환 발생 여부 저장\n",
    "        for j in range(i):\n",
    "            if a_list[j] > a_list[j + 1]:\n",
    "                exchanges = True\n",
    "                a_list[j], a_list[j + 1] = a_list[j + 1], a_list[j]\n",
    "\n",
    "        if not exchanges:   # 패스 기간 동안 자리교환이 발생하지 않은 경우 조기종료\n",
    "            print(\"조기종료!\")\n",
    "            break"
   ]
  },
  {
   "cell_type": "code",
   "execution_count": 6,
   "metadata": {},
   "outputs": [
    {
     "name": "stdout",
     "output_type": "stream",
     "text": [
      "조기종료!\n",
      "[20, 30, 40, 50, 60, 70, 80, 90, 100, 110]\n"
     ]
    }
   ],
   "source": [
    "a_list = [20, 30, 40, 90, 50, 60, 70, 80, 100, 110]\n",
    "bubble_sort_short(a_list)\n",
    "print(a_list)"
   ]
  },
  {
   "cell_type": "markdown",
   "metadata": {},
   "source": [
    "__퀴즈__"
   ]
  },
  {
   "cell_type": "markdown",
   "metadata": {},
   "source": [
    "리스트 `[19, 1, 9, 7, 3, 10, 13, 15, 8, 12]`에 대해 버블정렬을 진행할 때\n",
    "세 번의 패스가 완성된 후의 리스트는 어떤 모습인가?\n",
    "\n",
    "정답: `[1, 3, 7, 9, 10, 8, 12, 13, 15, 19]`"
   ]
  },
  {
   "cell_type": "markdown",
   "metadata": {},
   "source": [
    "## 선택 정렬"
   ]
  },
  {
   "cell_type": "markdown",
   "metadata": {},
   "source": [
    "**선택 정렬**<font size='2'>selection sort</font>은 버블정렬의 단점인 자리교환 횟수를 패스당 최대 한 번만\n",
    "수행하도록 개선한 기법이다. \n",
    "즉, 작동과정은 기본적으로 버블정렬과 동일하다.\n",
    "다만 자리교환을 바로 실행하는 게 아니라 패스 별로 최댓값을 확인한 다음에\n",
    "최종적으로 한 번 자리교환을 실행한다. \n",
    "\n",
    "아래 그림은 길이가 9인 리스트를 8번의 패스를 실행한 후 최종적으로 \n",
    "오름차순으로 정렬된 리스트가 생성됨을 보여준다."
   ]
  },
  {
   "cell_type": "markdown",
   "metadata": {},
   "source": [
    "<figure>\n",
    "<div align=\"center\"><img src=\"https://runestone.academy/runestone/books/published/pythonds3/_images/selectionsortnew.png\" width=\"60%\"></div>\n",
    "</figure>"
   ]
  },
  {
   "cell_type": "markdown",
   "metadata": {},
   "source": [
    "다음 `selection_sort()` 함수가 리스트를 선택정렬한다.\n",
    "이주 `for` 반복문을 사용하며 각 반복문에서 사용되는 변수들의 역할은 다음과 같다.\n",
    "\n",
    "- `i`: 하나의 패스를 가리킴. 동시에 패스 별 최댓값이 자리할 위치를 지정함.\n",
    "- `max_idx`: 패스 별로 탐색된 최댓값의 위치\n",
    "- `j`: 패스 별 크기비교 수행\n",
    "\n",
    "**참고**: [PythonTutor - 선택정렬](https://pythontutor.com/visualize.html#code=def%20selection_sort%28a_list%29%3A%0A%20%20%20%20for%20i%20in%20range%28len%28a_list%29-1,%200,%20-1%29%3A%0A%20%20%20%20%20%20%20%20max_idx%20%3D%200%0A%20%20%20%20%20%20%20%20for%20j%20in%20range%280,%20i%29%3A%0A%20%20%20%20%20%20%20%20%20%20%20%20if%20a_list%5Bj%5D%20%3E%20a_list%5Bmax_idx%5D%3A%0A%20%20%20%20%20%20%20%20%20%20%20%20%20%20%20%20max_idx%20%3D%20j%0A%20%20%20%20%20%20%20%20if%20max_idx%20!%3D%20i%3A%0A%20%20%20%20%20%20%20%20%20%20%20%20a_list%5Bmax_idx%5D,%20a_list%5Bi%5D%20%3D%20a_list%5Bi%5D,%20a_list%5Bmax_idx%5D%0A%0Aa_list%20%3D%20%5B26,%2054,%2093,%2017,%2077,%2031,%2044,%2055,%2020%5D%0Aselection_sort%28a_list%29&cumulative=false&curInstr=0&heapPrimitives=nevernest&mode=display&origin=opt-frontend.js&py=3&rawInputLstJSON=%5B%5D&textReferences=false)"
   ]
  },
  {
   "cell_type": "code",
   "execution_count": 7,
   "metadata": {},
   "outputs": [],
   "source": [
    "def selection_sort(a_list):\n",
    "    \n",
    "    for i in range(len(a_list)-1, 0, -1):\n",
    "        max_idx = 0\n",
    "        for j in range(i):\n",
    "            if a_list[j] > a_list[max_idx]:\n",
    "                max_idx = j\n",
    "        \n",
    "        a_list[max_idx], a_list[i] = a_list[i], a_list[max_idx]"
   ]
  },
  {
   "cell_type": "code",
   "execution_count": 8,
   "metadata": {},
   "outputs": [
    {
     "name": "stdout",
     "output_type": "stream",
     "text": [
      "[17, 20, 26, 44, 31, 54, 55, 77, 93]\n"
     ]
    }
   ],
   "source": [
    "a_list = [26, 54, 93, 17, 77, 31, 44, 55, 20]\n",
    "selection_sort(a_list)\n",
    "print(a_list)"
   ]
  },
  {
   "cell_type": "markdown",
   "metadata": {},
   "source": [
    "**선택정렬 시간복잡도 분석**"
   ]
  },
  {
   "cell_type": "markdown",
   "metadata": {},
   "source": [
    "크기비교는 버블정렬의 경우와 동일하게 발생하여\n",
    "시간복잡도는 $O(n^2)$이다.\n",
    "다만 자리교환 횟수가 최대 $(n-1)$ 번 발생해서\n",
    "버블정렬보다 좀 더 빠르다."
   ]
  },
  {
   "cell_type": "markdown",
   "metadata": {},
   "source": [
    "__퀴즈__"
   ]
  },
  {
   "cell_type": "markdown",
   "metadata": {},
   "source": [
    "리스트 `[11, 7, 12, 14, 19, 1, 6, 18, 8, 20]`에 대해 \n",
    "선택정렬을 진행할 때\n",
    "세 번의 패스가 완성된 후의 리스트는 어떤 모습인가?\n",
    "\n",
    "정답: `[11, 7, 12, 14, 8, 1, 6, 18, 19, 20]`"
   ]
  },
  {
   "cell_type": "markdown",
   "metadata": {},
   "source": [
    "## 합병 정렬"
   ]
  },
  {
   "cell_type": "markdown",
   "metadata": {},
   "source": [
    "분할 정복 기법을 이용하는 정렬 알고리즘인 합병 정렬과 퀵 정렬을 소개한다."
   ]
  },
  {
   "cell_type": "markdown",
   "metadata": {},
   "source": [
    "\n",
    "**합병 정렬**<font size='2'>merge sort</font>에 사용되는\n",
    "분할과 정복은 다음과 같다.\n",
    "\n",
    "- 분할: 리스트를 반복적으로 이등분해서 생성된 모든 리스트의 길이가 1이되도록 한다. \n",
    "- 정복: 길이가 1인 리스트는 이미 정렬되어 있으므로, 그런 리스트 두 개를 합쳐서 새로운 정렬 리스트를 만든다.\n",
    "    합치는 과정에서 새로 생성된 리스트는 정렬이 되어 있도록 한다.\n",
    "    이후엔 길이가 2인 두 개의 리스트를 합치며, 이 과정을 반복해서 최종적으로 원래 리스트에 포함된 항목을 정렬시킨 새로운 리스트를 얻게 된다."
   ]
  },
  {
   "cell_type": "markdown",
   "metadata": {},
   "source": [
    "**분할 과정**"
   ]
  },
  {
   "cell_type": "markdown",
   "metadata": {},
   "source": [
    "분할 과정은 쉽다. 재귀적으로 리스트의 길이가 1이 될 때까지 이등분을 반복하도록 한다. "
   ]
  },
  {
   "cell_type": "markdown",
   "metadata": {},
   "source": [
    "```python\n",
    "def merge_sort(a_list):\n",
    "    if len(a_list) > 1:\n",
    "        mid = len(a_list) // 2\n",
    "        left_half = a_list[:mid]\n",
    "        right_half = a_list[mid:]\n",
    "\n",
    "        merge_sort(left_half)\n",
    "        merge_sort(right_half)\n",
    "```"
   ]
  },
  {
   "cell_type": "markdown",
   "metadata": {},
   "source": [
    "<figure>\n",
    "<div align=\"center\"><img src=\"https://runestone.academy/runestone/books/published/pythonds3/_images/mergesortA.png\" width=\"60%\"></div>\n",
    "</figure>"
   ]
  },
  {
   "cell_type": "markdown",
   "metadata": {},
   "source": [
    "**합병 과정**"
   ]
  },
  {
   "cell_type": "markdown",
   "metadata": {},
   "source": [
    "합병 과정은 보다 어렵다. 이미 정렬된 두 개의 리스트를 합쳐서 정렬된 새 리스트를 만들어야 한다.\n",
    "이를 위해 사용되는 알고리즘은 두 리스트의 항목을 하나씩 비교해서 작은 수를 먼저 새로운 리스트에 추가하는 \n",
    "형식으로 진행된다."
   ]
  },
  {
   "cell_type": "markdown",
   "metadata": {},
   "source": [
    "```python\n",
    "i, j, k = 0, 0, 0\n",
    "while i < len(left_half) and j < len(right_half):\n",
    "    if left_half[i] <= right_half[j]:\n",
    "        a_list[k] = left_half[i]\n",
    "        i = i + 1\n",
    "    else:\n",
    "        a_list[k] = right_half[j]\n",
    "        j = j + 1\n",
    "    k = k + 1\n",
    "```"
   ]
  },
  {
   "cell_type": "markdown",
   "metadata": {},
   "source": [
    "<figure>\n",
    "<div align=\"center\"><img src=\"https://runestone.academy/runestone/books/published/pythonds3/_images/mergesortB.png\" width=\"60%\"></div>\n",
    "</figure>"
   ]
  },
  {
   "cell_type": "markdown",
   "metadata": {},
   "source": [
    "위 합병 과정이 끝난 후 한 쪽 리스트에 항목이 남아 있다면 그대로 그 항목들이 더 큰 값들이기에 이어서 추가해주면 된다. "
   ]
  },
  {
   "cell_type": "markdown",
   "metadata": {},
   "source": [
    "```python\n",
    "while i < len(left_half):\n",
    "    a_list[k] = left_half[i]\n",
    "    i = i + 1\n",
    "    k = k + 1\n",
    "\n",
    "while j < len(right_half):\n",
    "    a_list[k] = right_half[j]\n",
    "    j = j + 1\n",
    "    k = k + 1\n",
    "```"
   ]
  },
  {
   "cell_type": "markdown",
   "metadata": {},
   "source": [
    "하나의 코드로 정리하면 다음과 같다."
   ]
  },
  {
   "cell_type": "code",
   "execution_count": 9,
   "metadata": {},
   "outputs": [],
   "source": [
    "def merge_sort(a_list):\n",
    "    # 분할 과정\n",
    "    print(\"분할\", a_list)\n",
    "    if len(a_list) > 1:\n",
    "        mid = len(a_list) // 2\n",
    "        left_half = a_list[:mid]\n",
    "        right_half = a_list[mid:]\n",
    "\n",
    "        merge_sort(left_half)\n",
    "        merge_sort(right_half)\n",
    "        \n",
    "        # 합병 과정\n",
    "        i, j, k = 0, 0, 0\n",
    "        while i < len(left_half) and j < len(right_half):\n",
    "            if left_half[i] <= right_half[j]:\n",
    "                a_list[k] = left_half[i]\n",
    "                i = i + 1\n",
    "            else:\n",
    "                a_list[k] = right_half[j]\n",
    "                j = j + 1\n",
    "            k = k + 1\n",
    "\n",
    "        while i < len(left_half):\n",
    "            a_list[k] = left_half[i]\n",
    "            i = i + 1\n",
    "            k = k + 1\n",
    "\n",
    "        while j < len(right_half):\n",
    "            a_list[k] = right_half[j]\n",
    "            j = j + 1\n",
    "            k = k + 1\n",
    "    print(\"합병\", a_list)"
   ]
  },
  {
   "cell_type": "code",
   "execution_count": 10,
   "metadata": {},
   "outputs": [
    {
     "name": "stdout",
     "output_type": "stream",
     "text": [
      "분할 [54, 26, 93, 17, 77, 31, 44, 55, 20]\n",
      "분할 [54, 26, 93, 17]\n",
      "분할 [54, 26]\n",
      "분할 [54]\n",
      "합병 [54]\n",
      "분할 [26]\n",
      "합병 [26]\n",
      "합병 [26, 54]\n",
      "분할 [93, 17]\n",
      "분할 [93]\n",
      "합병 [93]\n",
      "분할 [17]\n",
      "합병 [17]\n",
      "합병 [17, 93]\n",
      "합병 [17, 26, 54, 93]\n",
      "분할 [77, 31, 44, 55, 20]\n",
      "분할 [77, 31]\n",
      "분할 [77]\n",
      "합병 [77]\n",
      "분할 [31]\n",
      "합병 [31]\n",
      "합병 [31, 77]\n",
      "분할 [44, 55, 20]\n",
      "분할 [44]\n",
      "합병 [44]\n",
      "분할 [55, 20]\n",
      "분할 [55]\n",
      "합병 [55]\n",
      "분할 [20]\n",
      "합병 [20]\n",
      "합병 [20, 55]\n",
      "합병 [20, 44, 55]\n",
      "합병 [20, 31, 44, 55, 77]\n",
      "합병 [17, 20, 26, 31, 44, 54, 55, 77, 93]\n",
      "[17, 20, 26, 31, 44, 54, 55, 77, 93]\n"
     ]
    }
   ],
   "source": [
    "a_list = [54, 26, 93, 17, 77, 31, 44, 55, 20]\n",
    "merge_sort(a_list)\n",
    "print(a_list)"
   ]
  },
  {
   "cell_type": "markdown",
   "metadata": {},
   "source": [
    "**합병정렬 시간복잡도 분석**"
   ]
  },
  {
   "cell_type": "markdown",
   "metadata": {},
   "source": [
    "분할과 합병에 필요한 시간을 분리해서 계산한다.\n",
    "입력 리스트의 크기 $n$을 입력 크기로 사용한다.\n",
    "\n",
    "- 분할 과정: $\\log n$ 번 분할 발생.\n",
    "- 합병 과정: 두 개의 리스트를 합쳐서 길이가 $m$ 인 리스트를 생성할 때 필요한 연산은 두 항목의 비교와 항목 업데이트이며,\n",
    "    이는 $O(m)$의 시간복잡도를 갖는다. 따라서 최정적으로 길이가 $n$인 리스트를 합병하여 생성하기에\n",
    "    두 항목의 비교와 항목 업데이트에 필요한 시간은 $O(n)$이다.\n",
    "    하지만 $(\\log n)$ 번 합병 과정을 진행해야 하기에 최정적으로 $O(n \\log n)$의 시간복잡도를 갖는다.\n",
    "    \n",
    "분할과 합병 두 과정의 시간복잡도는 따라서 $O(n \\log n)$이다."
   ]
  },
  {
   "cell_type": "markdown",
   "metadata": {},
   "source": [
    "**슬라이싱과 추가 메모리 사용**"
   ]
  },
  {
   "cell_type": "markdown",
   "metadata": {},
   "source": [
    "위 코드의 분할 과정에 사용된 재귀는 슬라이싱을 이용하기 때문에 \n",
    "실제 시간복잡도는 $O(n^2 \\log n)$이다. \n",
    "이유는 길이가 $k$인 부분 리스트를 슬라이싱을 이용하여 생성하는 알고리즘의 시간복잡도가 $O(k)$이기 때문이다. \n",
    "하지만, 슬라이싱을 직접 사용하는 대신 구간을 지정하는 기술을 적용하면\n",
    "분할 알고리즘의 시간복잡도를 $O(n \\log n)$으로 만들 수 있다(연습 문제 참고). \n",
    "\n",
    "**참고:** 슬라이싱 대신 구간을 사용하여 분할 과정을 추가 메모리 없이 진행하면\n",
    "합병 과정에서 기존 리스트와의 충돌 방지를 위해 추가 메모리를 사용할 수 밖에 없다.\n",
    "따라서 어떤 방식이든 $O(n)$의 공간복잡도에 해당하는 메모리를 추가로 사용해야 한다."
   ]
  },
  {
   "cell_type": "markdown",
   "metadata": {},
   "source": [
    "__퀴즈__"
   ]
  },
  {
   "cell_type": "markdown",
   "metadata": {},
   "source": [
    "리스트 \n",
    "`[21, 1, 26, 45, 29, 28, 2, 9, 16, 49, 39, 27, 43, 34, 46, 40]`에 대해\n",
    "`mergesort()` 함수를 3 번 적용했을 때 정렬 대상 리스트는 무엇인가?\n",
    "\n",
    "정답: `[21,1]`"
   ]
  },
  {
   "cell_type": "markdown",
   "metadata": {},
   "source": [
    "__퀴즈__"
   ]
  },
  {
   "cell_type": "markdown",
   "metadata": {},
   "source": [
    "리스트 \n",
    "`[21, 1, 26, 45, 29, 28, 2, 9, 16, 49, 39, 27, 43, 34, 46, 40]`에 대해\n",
    "가장 먼저 합병되어야 할 두 리스트는 무엇인가?\n",
    "\n",
    "정답: `[21]`과 `[1]`"
   ]
  },
  {
   "cell_type": "markdown",
   "metadata": {},
   "source": [
    "## 퀵 정렬"
   ]
  },
  {
   "cell_type": "markdown",
   "metadata": {},
   "source": [
    "**퀵 정렬**<font size='2'>merge sort</font> 또한 분할과 정복 기법을 활용한다.\n",
    "하지만 합병정렬과는 달리 분할 과정이 경우에 따라 이등분이 아닌 한쪽으로 치우치는 방식으로\n",
    "진행될 수 있으며, 그렇게 되면 알고리즘이 최악의 경우 $O(n^2)$ 시간 복잡도로 실행될 수 있다.\n",
    "하지만 평균적으로 $O(n \\log n)$의 시간복잡도를 보이며,\n",
    "무엇보다도 추가 메모리를 전혀 사용하지 않기에 합병정렬에 비해 \n",
    "공간 시간복잡도 측면에서 큰 장점을 갖는다.\n",
    "\n",
    "퀵정렬은 분할과 정복을 동시에 진행한다.\n",
    "피벗(기준값)으로 지정된 값보다 작은 값들은 피벗 왼쪽으로,\n",
    "같거나 큰 값듯은 피벗 오른쪽으로 이동시킨다.\n",
    "피벗으로 사용된 값의 위치를 기준으로 좌우 두 개의 부분 리스트로 분할한 후\n",
    "동일 과정을 재귀적으로 반복한다. "
   ]
  },
  {
   "cell_type": "markdown",
   "metadata": {},
   "source": [
    "**피벗 지정**"
   ]
  },
  {
   "cell_type": "markdown",
   "metadata": {},
   "source": [
    "피벗은 리스트의 임의의 값을 사용해도 되지만\n",
    "여기서는 맨 왼편에 위치한 값을 사용한다.\n",
    "경우에 따라 양끝과 중앙에 위치한 세 값의 중앙값을 사용하거나\n",
    "오른쪽 맨 끝, 또는 중앙에 위치한 값 등도 사용된다.\n",
    "하지만 성능 차이는 기본적으로 없으며, 입력 사례에 따라 달라진다."
   ]
  },
  {
   "cell_type": "markdown",
   "metadata": {},
   "source": [
    "<figure>\n",
    "<div align=\"center\"><img src=\"https://runestone.academy/runestone/books/published/pythonds3/_images/firstsplit.png\" width=\"60%\"></div>\n",
    "</figure>"
   ]
  },
  {
   "cell_type": "markdown",
   "metadata": {},
   "source": [
    "**분할 정복**"
   ]
  },
  {
   "cell_type": "markdown",
   "metadata": {},
   "source": [
    "분할과 정복을 동시에 진행하며,\n",
    "한 번의 분할과정을 통해 두 개의 보다 작은 리스트로 분할한 후에\n",
    "분할 된 두 개의 리스트에 대해 분할과 정복을 재귀적으로 진행한다."
   ]
  },
  {
   "cell_type": "markdown",
   "metadata": {},
   "source": [
    "<figure>\n",
    "<div align=\"center\"><img src=\"https://runestone.academy/runestone/books/published/pythonds3/_images/partitionA.png\" width=\"60%\"></div>\n",
    "</figure>"
   ]
  },
  {
   "cell_type": "markdown",
   "metadata": {},
   "source": [
    "아래 `partition()` 함수는 주어진 리스트에 대해 분할과 정복을 수행한다."
   ]
  },
  {
   "cell_type": "code",
   "execution_count": 11,
   "metadata": {},
   "outputs": [],
   "source": [
    "# 분할과 정복. 피벗은 맨 왼편 항목. 반환값은 피벗의 최종 자리 위치\n",
    "def partition(a_list, first, last):\n",
    "    pivot_val = a_list[first]   # 피벗\n",
    "    left_mark = first + 1       # 탐색 구간 시작\n",
    "    right_mark = last           # 탐색 구간 끝\n",
    "    done = False                # 탐색 종료여부 확인\n",
    "\n",
    "    while not done:\n",
    "        while left_mark <= right_mark and a_list[left_mark] < pivot_val:\n",
    "            left_mark = left_mark + 1\n",
    "        while left_mark <= right_mark and a_list[right_mark] >= pivot_val:\n",
    "            right_mark = right_mark - 1\n",
    "        \n",
    "        # 자리 교환\n",
    "        if right_mark < left_mark:\n",
    "            done = True\n",
    "        else:\n",
    "            a_list[left_mark], a_list[right_mark] = a_list[right_mark], a_list[left_mark]\n",
    "            \n",
    "    # 피벗 자리 교환\n",
    "    a_list[first], a_list[right_mark] = a_list[right_mark], a_list[first]\n",
    "\n",
    "    # 피벗 위치 반환\n",
    "    return right_mark"
   ]
  },
  {
   "cell_type": "markdown",
   "metadata": {},
   "source": [
    "**재귀**"
   ]
  },
  {
   "cell_type": "markdown",
   "metadata": {},
   "source": [
    "재귀는 `partition()` 함수를 재귀적으로 활용하는 방법만을 지정한다."
   ]
  },
  {
   "cell_type": "markdown",
   "metadata": {},
   "source": [
    "<figure>\n",
    "<div align=\"center\"><img src=\"https://runestone.academy/runestone/books/published/pythonds3/_images/partitionB.png\" width=\"60%\"></div>\n",
    "</figure>"
   ]
  },
  {
   "cell_type": "code",
   "execution_count": 12,
   "metadata": {},
   "outputs": [],
   "source": [
    "# 재귀 보조함수: 리스트의 지정된 구간에 대해 partion() 함수 재귀적으로 활용\n",
    "\n",
    "def quick_sort_helper(a_list, first, last):\n",
    "    if first < last:\n",
    "        split = partition(a_list, first, last)\n",
    "\n",
    "        quick_sort_helper(a_list, first, split - 1)\n",
    "        quick_sort_helper(a_list, split + 1, last)"
   ]
  },
  {
   "cell_type": "markdown",
   "metadata": {},
   "source": [
    "아래 `quick_sort()` 함수는 `quick_sort_helper()` 함수를\n",
    "구간 지정과 함께 호출한다."
   ]
  },
  {
   "cell_type": "code",
   "execution_count": 13,
   "metadata": {},
   "outputs": [],
   "source": [
    "# 재귀 함수\n",
    "def quick_sort(a_list):\n",
    "    quick_sort_helper(a_list, 0, len(a_list) - 1)"
   ]
  },
  {
   "cell_type": "markdown",
   "metadata": {},
   "source": [
    "**예제**"
   ]
  },
  {
   "cell_type": "code",
   "execution_count": 14,
   "metadata": {},
   "outputs": [
    {
     "name": "stdout",
     "output_type": "stream",
     "text": [
      "[17, 20, 26, 31, 44, 54, 55, 77, 93]\n"
     ]
    }
   ],
   "source": [
    "a_list = [54, 26, 93, 17, 77, 31, 44, 55, 20]\n",
    "quick_sort(a_list)\n",
    "print(a_list)"
   ]
  },
  {
   "cell_type": "markdown",
   "metadata": {},
   "source": [
    "**퀵정렬 시간복잡도 분석**"
   ]
  },
  {
   "cell_type": "markdown",
   "metadata": {},
   "source": [
    "피벗을 기준으로 분할할 때 이상적인 경우 기존의 리스트를 거의 정확하게 이등분한다.\n",
    "이 경우 분할 횟수는 $\\log n$ 이다. 여기서 $n$은 입력 리스트의 길이를 나타낸다.\n",
    "그리고 한 번 분할할 때마다 피벗과 나머지 값들이 비교되고 필요에 따라 자리교환이 발생하는데\n",
    "이에 대한 시간복잡도는 $n$ 이다. \n",
    "따라서 퀵정렬 알고리즘의 최선 시간복잡도는 $O(n \\log n)$이다.\n",
    "\n",
    "하지만 최악의 경우 분할이 한쪽으로 쏠리도록 이뤄질 수 있다.\n",
    "예를 들어, 거의 정렬이 되어있는 리스트일 경우 피벗을 기준으로 1대 (n-1) 개의 부분 리스트로\n",
    "분할될 수 있다.\n",
    "이런 경우가 많이 발생하면, 즉 $n$ 번에 가까운 분할이 필요하면\n",
    "시간복잡도는 최악의 경우 $O(n^2)$이 나온다."
   ]
  },
  {
   "cell_type": "markdown",
   "metadata": {},
   "source": [
    "**합병정렬 대 퀵정렬**"
   ]
  },
  {
   "cell_type": "markdown",
   "metadata": {},
   "source": [
    "합병정렬이 퀵정렬에 비해 시간복잡도 측면에서 이론적으로 좋기는 하지만\n",
    "공간복잡도와 자리교환(swapping) 횟수 측면에서는 비효율적이다. \n",
    "또한 퀵정렬이 대부분의 운영체제와 프로그래밍언어에서 최적화되는 데에 용이하기에\n",
    "기본 정렬 알고리즘으로 활용된다."
   ]
  },
  {
   "cell_type": "markdown",
   "metadata": {},
   "source": [
    "__퀴즈__"
   ]
  },
  {
   "cell_type": "markdown",
   "metadata": {},
   "source": [
    "리스트\n",
    "`[14, 17, 13, 15, 19, 10, 3, 16, 9, 12]`에 대해\n",
    "`partition()` 함수를 두 번 적용한 중간 결과는 무엇인가?\n",
    "\n",
    "정답: `[9, 3, 10, 13, 12, 14, 19, 16, 15, 17]`"
   ]
  },
  {
   "cell_type": "markdown",
   "metadata": {},
   "source": [
    "__퀴즈__"
   ]
  },
  {
   "cell_type": "markdown",
   "metadata": {},
   "source": [
    "리스트 \n",
    "`[1, 20, 11, 5, 2, 9, 16, 14, 13, 19]`에 대해\n",
    "median of 3 기법을 적용한 수는 무엇인가?\n",
    "\n",
    "정답: 9"
   ]
  },
  {
   "cell_type": "markdown",
   "metadata": {},
   "source": [
    "## 연습문제"
   ]
  },
  {
   "cell_type": "markdown",
   "metadata": {},
   "source": [
    "1. [(실습) 순차/선택/합병/퀵 정렬](https://colab.research.google.com/github/codingalzi/algopy/blob/master/excs/exc-sort_search_2.ipynb)"
   ]
  }
 ],
 "metadata": {
  "kernelspec": {
   "display_name": "Python 3.9.12 ('base')",
   "language": "python",
   "name": "python3"
  },
  "language_info": {
   "codemirror_mode": {
    "name": "ipython",
    "version": 3
   },
   "file_extension": ".py",
   "mimetype": "text/x-python",
   "name": "python",
   "nbconvert_exporter": "python",
   "pygments_lexer": "ipython3",
   "version": "3.9.12"
  },
  "vscode": {
   "interpreter": {
    "hash": "ad0f3c8a064f687cbf898a0868fd45ba1c7e928ac8a0404f7c241d812ddc1e76"
   }
  }
 },
 "nbformat": 4,
 "nbformat_minor": 4
}