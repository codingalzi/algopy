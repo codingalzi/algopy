{
 "cells": [
  {
   "cell_type": "markdown",
   "metadata": {},
   "source": [
    "# 파이썬 기초 2부: 제어 구조와 함수"
   ]
  },
  {
   "cell_type": "markdown",
   "metadata": {},
   "source": [
    "**소스코드**\n",
    "\n",
    "아래 내용을 \n",
    "[(구글 코랩) 파이썬 기초 2부: 제어 구조와 함수](https://colab.research.google.com/github/codingalzi/algopy/blob/master/jupyter-book/python_basic_2.ipynb)에서 \n",
    "직접 실행할 수 있다."
   ]
  },
  {
   "cell_type": "markdown",
   "metadata": {},
   "source": [
    "**주요 내용**\n",
    "\n",
    "- 입력과 출력\n",
    "- 문자열 서식\n",
    "- 제어 구조\n",
    "- 예외 처리\n",
    "- 함수 정의"
   ]
  },
  {
   "cell_type": "markdown",
   "metadata": {},
   "source": [
    "## 입력과 출력"
   ]
  },
  {
   "cell_type": "markdown",
   "metadata": {},
   "source": [
    "`input()` 함수는 사용자로부터 임의의 문자열을 입력받아 문자열로 반환한다. \n",
    "또한 문자열을 인자로 사용하여 사용자에게 입력할 문자열에 대한 정보를 제공할 수 있다."
   ]
  },
  {
   "cell_type": "markdown",
   "metadata": {},
   "source": [
    "```python\n",
    "a_name = input(\"영문 과목명: \")\n",
    "```"
   ]
  },
  {
   "cell_type": "markdown",
   "metadata": {},
   "source": [
    "`input()` 함수의 반환값의 자료형은 문자열이며 변수에 저장한 후 재활용할 수 있다."
   ]
  },
  {
   "cell_type": "markdown",
   "metadata": {},
   "source": [
    "```python\n",
    ">>> a_name = input(\"영문 과목명: \")\n",
    "영문 과목명: python\n",
    "\n",
    ">>> print(\"대문자 영문 과목명:\",a_name.upper(),\n",
    "...       \"과목명의 길이:\", len(a_name), sep='\\n')\n",
    "...\n",
    "대문자 영문 과목명: PYTHON\n",
    "과목명의 길이: 6\n",
    "```"
   ]
  },
  {
   "cell_type": "markdown",
   "metadata": {},
   "source": [
    "반환된 문자열을 원하는 자료형으로 형변환한 후에 재활하려면 적절한 형변환 함수를 적용해야 한다. \n",
    "아래 코드는 숫자 형식의 문자열을 부동소수점으로 형변환하는 예제코드이다."
   ]
  },
  {
   "cell_type": "markdown",
   "metadata": {},
   "source": [
    "```python\n",
    ">>> s_radius = input(\"원의 반지름: \")\n",
    "원의 반지름: 10\n",
    "\n",
    ">>> s_radius\n",
    "'10'\n",
    "\n",
    ">>> radius = float(s_radius)\n",
    ">>> radius\n",
    "10.0\n",
    "\n",
    ">>> diameter = 2 * radius\n",
    ">>> diameter\n",
    "20.0\n",
    "```"
   ]
  },
  {
   "cell_type": "markdown",
   "metadata": {},
   "source": [
    "## 문자열 서식"
   ]
  },
  {
   "cell_type": "markdown",
   "metadata": {},
   "source": [
    "`print()` 함수의 키워드 인자를 활용하여 문자열을 다양한 형식에 맞추어 출력할 수 있다.\n",
    "\n",
    "- `sep=' '` 키워드 인자: 입력받은 여러 개의 인자를 스페이스를 기준으로 분리해서 출력하는 것이 기본이며,\n",
    "    임의의 문자열로 대체할 수 있다.\n",
    "- `end='\\n'` 키워드 인자: 지정된 문자열들을 모두 출력한 후 줄바꿈을 기본적으로 수행한다.\n",
    "    이를 바꾸려면 임의의 문자열로 지정하면 된다."
   ]
  },
  {
   "cell_type": "code",
   "execution_count": 1,
   "metadata": {},
   "outputs": [
    {
     "name": "stdout",
     "output_type": "stream",
     "text": [
      "Hello\n"
     ]
    }
   ],
   "source": [
    "print(\"Hello\")"
   ]
  },
  {
   "cell_type": "code",
   "execution_count": 2,
   "metadata": {},
   "outputs": [
    {
     "name": "stdout",
     "output_type": "stream",
     "text": [
      "Hello World\n"
     ]
    }
   ],
   "source": [
    "print(\"Hello\", \"World\")"
   ]
  },
  {
   "cell_type": "code",
   "execution_count": 3,
   "metadata": {},
   "outputs": [
    {
     "name": "stdout",
     "output_type": "stream",
     "text": [
      "Hello***World\n"
     ]
    }
   ],
   "source": [
    "print(\"Hello\", \"World\", sep=\"***\")"
   ]
  },
  {
   "cell_type": "code",
   "execution_count": 4,
   "metadata": {},
   "outputs": [
    {
     "name": "stdout",
     "output_type": "stream",
     "text": [
      "Hello World***"
     ]
    }
   ],
   "source": [
    "print(\"Hello\", \"World\", end=\"***\")"
   ]
  },
  {
   "cell_type": "markdown",
   "metadata": {},
   "source": [
    "**서식 1**"
   ]
  },
  {
   "cell_type": "markdown",
   "metadata": {},
   "source": [
    "지정된 문자열과 변수에 할당된 문자열을 함께 출력하는 가장 간단한 방법은 다음과 같다."
   ]
  },
  {
   "cell_type": "code",
   "execution_count": 5,
   "metadata": {},
   "outputs": [],
   "source": [
    "a_name = \"Python\"\n",
    "age = 40.3"
   ]
  },
  {
   "cell_type": "code",
   "execution_count": 6,
   "metadata": {},
   "outputs": [
    {
     "name": "stdout",
     "output_type": "stream",
     "text": [
      "Python is about 40.3 years old.\n"
     ]
    }
   ],
   "source": [
    "print(a_name, \"is about\", age, \"years old.\")"
   ]
  },
  {
   "cell_type": "markdown",
   "metadata": {},
   "source": [
    "하지만 아래와 같이 문자열 서식을 이용하면 보다 다양한 서식을 활용할 수 있다.\n",
    "\n",
    "__참고__: 가장 오래된 양식이며 아래에 설명하는 __f-string__ 양식이 보다 편하다.\n",
    "하지만 서식 변환 지정자 옵션에 대한 이해는 필수적이다."
   ]
  },
  {
   "cell_type": "code",
   "execution_count": 7,
   "metadata": {},
   "outputs": [
    {
     "name": "stdout",
     "output_type": "stream",
     "text": [
      "Python is about 40 years old.\n"
     ]
    }
   ],
   "source": [
    "print(\"%s is about %d years old.\" % (a_name, age))"
   ]
  },
  {
   "cell_type": "markdown",
   "metadata": {},
   "source": [
    "서식 연산자 `%`는 값이 위치할 자리를 지정한다.\n",
    "문자열 이후에 위치한 `%` 기호 다음에 지정된 자리에 들어갈 값들로 이루어진 튜플 또는\n",
    "사전을 지정한다.\n",
    "서식 연산자 `%`는 서식 변환 지정자와 함께 사용된다. \n",
    "위 코드에서 사용된 서식 변환 지정자는 다음과 같다. \n",
    "\n",
    "- `%s`: 문자열로 변환하여 지정된 자리에 위치시킴\n",
    "- `%d`: 정수로 변환하여 지정된 자리에 위치시킴\n",
    "\n",
    "이것들을 포함하여 주요 서식 지정자는 다음과 같다."
   ]
  },
  {
   "cell_type": "markdown",
   "metadata": {},
   "source": [
    "| **기호** | **출력 서식** |\n",
    "| :---: | :---: |\n",
    "| `d`, `i` | 정수 |\n",
    "| `u` | `unsigned int` |\n",
    "| `f` | 부동소수점(m.ddddd) |\n",
    "| `e` | 부동소수점(m.ddddde+/-xx) |\n",
    "| `E` | 부동소수점(m.dddddE+/-xx) |\n",
    "| `g` | 지수승이 $-4$ 보다 작거나 $+5$ 보다 크면 `%e`, 그 이외의 경우엔 `%f` |\n",
    "| `c` | 길이가 1인 문자열 |\n",
    "| `s` | 문자열 또는 `str()` 함수에 의해 문자열로 형변환 가능한 객체 |"
   ]
  },
  {
   "cell_type": "markdown",
   "metadata": {},
   "source": [
    "다음은 추가 서식 옵션을 설명한다."
   ]
  },
  {
   "cell_type": "markdown",
   "metadata": {},
   "source": [
    "| **기호** | **예제** | **설명** |\n",
    "| :---: | :---: | :---: |\n",
    "| 정수 | `%20d` | 문자열의 총 길이를 20으로 지정. 오른편 정렬 후 부족한 자리는 공백으로 채움 |\n",
    "| `-` | `%-20d` | 문자열의 총 길이를 20으로 지정. 왼편 정렬 후 부족한 자리는 공백으로 채움|\n",
    "| `+` | `%+20d` | 문자열의 총 길이를 20으로 지정. 오른편 정렬 후 부족한 자리는 공백으로 채움 |\n",
    "| `0` | `%020d` | 문자열의 총 길이를 20으로 지정. 오른편 정렬 후 부족한 자리는 `0`으로 채움 |\n",
    "| `.` | `%20.2f` | 문자열의 총 길이를 20으로 지정. 소수점 이하의 자릿수는 2. 오른편 정렬 후 부족한 자리는 공백으로 채움 |\n",
    "| `(name)` | `%(name)d` | 지정된 위치에 채울 값들의 사전 자료형으로 제공된 경우 키(key)를 활용함 |"
   ]
  },
  {
   "cell_type": "code",
   "execution_count": 8,
   "metadata": {},
   "outputs": [],
   "source": [
    "price = 24\n",
    "item = \"banana\""
   ]
  },
  {
   "cell_type": "code",
   "execution_count": 9,
   "metadata": {},
   "outputs": [
    {
     "name": "stdout",
     "output_type": "stream",
     "text": [
      "The banana costs 24 cents\n"
     ]
    }
   ],
   "source": [
    "print(\"The %s costs %d cents\" % (item, price))"
   ]
  },
  {
   "cell_type": "code",
   "execution_count": 10,
   "metadata": {},
   "outputs": [
    {
     "name": "stdout",
     "output_type": "stream",
     "text": [
      "The     banana costs 24.00 cents\n"
     ]
    }
   ],
   "source": [
    "print(\"The %+10s costs %5.2f cents\" % (item, price))"
   ]
  },
  {
   "cell_type": "code",
   "execution_count": 11,
   "metadata": {},
   "outputs": [
    {
     "name": "stdout",
     "output_type": "stream",
     "text": [
      "The     banana costs      24.00 cents\n"
     ]
    }
   ],
   "source": [
    "print(\"The %+10s costs %10.2f cents\" % (item, price))"
   ]
  },
  {
   "cell_type": "code",
   "execution_count": 12,
   "metadata": {},
   "outputs": [
    {
     "name": "stdout",
     "output_type": "stream",
     "text": [
      "The banana costs    24.0 cents\n"
     ]
    }
   ],
   "source": [
    "itemdict = {\"item\": \"banana\", \"cost\": 24}\n",
    "\n",
    "print(\"The %(item)s costs %(cost)7.1f cents\" % itemdict)"
   ]
  },
  {
   "cell_type": "markdown",
   "metadata": {},
   "source": [
    "**서식 2**"
   ]
  },
  {
   "cell_type": "markdown",
   "metadata": {},
   "source": [
    "문자열 자료형의 `format()` 메서드를 활용할 수도 있다.\n",
    "\n",
    "__주의사항__: 별로 사용되는 방식은 아니다."
   ]
  },
  {
   "cell_type": "code",
   "execution_count": 13,
   "metadata": {},
   "outputs": [
    {
     "name": "stdout",
     "output_type": "stream",
     "text": [
      "The banana costs 24 cents\n"
     ]
    }
   ],
   "source": [
    "print(\"The {} costs {} cents\".format(item, price))"
   ]
  },
  {
   "cell_type": "code",
   "execution_count": 14,
   "metadata": {},
   "outputs": [
    {
     "name": "stdout",
     "output_type": "stream",
     "text": [
      "The banana costs 24 cents"
     ]
    },
    {
     "name": "stdout",
     "output_type": "stream",
     "text": [
      "\n"
     ]
    }
   ],
   "source": [
    "print(\"The {:s} costs {:d} cents\".format(item, price))"
   ]
  },
  {
   "cell_type": "markdown",
   "metadata": {},
   "source": [
    "**서식 3**"
   ]
  },
  {
   "cell_type": "markdown",
   "metadata": {},
   "source": [
    "__f_string__ 서식은 파이썬 3.6 버전부터 제공되는 서식 양식이며 앞으로 계속해서 이 양식을 사용한다. \n",
    "정렬 기호가 이전과 다름에 주의하라."
   ]
  },
  {
   "cell_type": "markdown",
   "metadata": {},
   "source": [
    "| **기호** | **예제** | **설명** |\n",
    "| :---: | :---: | :---: |\n",
    "| 정수 | `:20d` | 문자열의 총 길이를 20으로 지정. 부족한 자리는 공백으로 채움 |\n",
    "| `<` | `:<20d` | 문자열의 총 길이를 20으로 지정. 왼편 정렬 후 부족한 자리는 공백으로 채움 |\n",
    "| `>` | `:>20d` | 문자열의 총 길이를 20으로 지정. 오른편 정렬 후 부족한 자리는 공백으로 채움 |\n",
    "| `^` | `:^20d` | 문자열의 총 길이를 20으로 지정. 중앙에 위치시킨 후 부족한 자리는 공백으로 채움 |\n",
    "| `0` | `:020d` | 문자열의 총 길이를 20으로 지정. 부족한 자리는 숫자 `0`으로 채움 |\n",
    "| `.` | `:20.2f` | 문자열의 총 길이를 20으로 지정. 소수점 이하의 자릿수는 2 |"
   ]
  },
  {
   "cell_type": "code",
   "execution_count": 15,
   "metadata": {},
   "outputs": [
    {
     "name": "stdout",
     "output_type": "stream",
     "text": [
      "The banana     costs      24.00 cents\n"
     ]
    }
   ],
   "source": [
    "print(f\"The {item:10} costs {price:10.2f} cents\")"
   ]
  },
  {
   "cell_type": "code",
   "execution_count": 16,
   "metadata": {},
   "outputs": [
    {
     "name": "stdout",
     "output_type": "stream",
     "text": [
      "The banana     costs 24.00      cents\n"
     ]
    }
   ],
   "source": [
    "print(f\"The {item:<10} costs {price:<10.2f} cents\")"
   ]
  },
  {
   "cell_type": "code",
   "execution_count": 17,
   "metadata": {},
   "outputs": [
    {
     "name": "stdout",
     "output_type": "stream",
     "text": [
      "The   banana   costs   24.00    cents\n"
     ]
    }
   ],
   "source": [
    "print(f\"The {item:^10} costs {price:^10.2f} cents\")"
   ]
  },
  {
   "cell_type": "code",
   "execution_count": 18,
   "metadata": {},
   "outputs": [
    {
     "name": "stdout",
     "output_type": "stream",
     "text": [
      "The     banana costs      24.00 cents\n"
     ]
    }
   ],
   "source": [
    "print(f\"The {item:>10} costs {price:>10.2f} cents\")"
   ]
  },
  {
   "cell_type": "code",
   "execution_count": 19,
   "metadata": {},
   "outputs": [
    {
     "name": "stdout",
     "output_type": "stream",
     "text": [
      "The     banana costs 0000024.00 cents\n"
     ]
    }
   ],
   "source": [
    "print(f\"The {item:>10} costs {price:>010.2f} cents\")"
   ]
  },
  {
   "cell_type": "code",
   "execution_count": 20,
   "metadata": {},
   "outputs": [],
   "source": [
    "itemdict = {\"item\": \"banana\", \"price\": 24}"
   ]
  },
  {
   "cell_type": "code",
   "execution_count": 21,
   "metadata": {},
   "outputs": [
    {
     "name": "stdout",
     "output_type": "stream",
     "text": [
      "항목:....banana\n",
      "가격:...$24.00\n"
     ]
    }
   ],
   "source": [
    "print(f\"항목:{itemdict['item']:.>10}\\n\" +\n",
    "      f\"가격:{'$':.>4}{itemdict['price']:5.2f}\")"
   ]
  },
  {
   "cell_type": "markdown",
   "metadata": {},
   "source": [
    "## 제어 구조"
   ]
  },
  {
   "cell_type": "markdown",
   "metadata": {},
   "source": [
    "파이썬이 제공하는 __반복__과 __조건 선택__ 관련 제어 구조를 살펴본다."
   ]
  },
  {
   "cell_type": "markdown",
   "metadata": {},
   "source": [
    "### `while` 반복문"
   ]
  },
  {
   "cell_type": "markdown",
   "metadata": {},
   "source": [
    "`while` 반복문 특정 조건이 참(`True`)인 동안 지정된 명령문을 반복한다.\n",
    "예를 들어, 아래 코드는 `counter` 변수가 참조하는 값이 5보다 커지기 전까지 \n",
    "`Hello, world` 문장을 총 5번 출력한다."
   ]
  },
  {
   "cell_type": "code",
   "execution_count": 22,
   "metadata": {},
   "outputs": [
    {
     "name": "stdout",
     "output_type": "stream",
     "text": [
      "Hello, world\n",
      "Hello, world\n",
      "Hello, world\n",
      "Hello, world\n",
      "Hello, world\n"
     ]
    }
   ],
   "source": [
    "counter = 1\n",
    "\n",
    "while counter <= 5:\n",
    "    print(\"Hello, world\")\n",
    "    counter = counter + 1"
   ]
  },
  {
   "cell_type": "markdown",
   "metadata": {},
   "source": [
    "`while` 반복문의 본문은 들여쓰기를 이용하여 구분된다."
   ]
  },
  {
   "cell_type": "markdown",
   "metadata": {},
   "source": [
    "`while` 반복문에 사용되는 표현식은 부울 연산자를 이용하여 다양한 조건을 표현할 수 있다."
   ]
  },
  {
   "cell_type": "markdown",
   "metadata": {},
   "source": [
    "```python\n",
    "while counter <= 10 and not done:\n",
    "...\n",
    "```"
   ]
  },
  {
   "cell_type": "markdown",
   "metadata": {},
   "source": [
    "### `for` 반복문"
   ]
  },
  {
   "cell_type": "markdown",
   "metadata": {},
   "source": [
    "모음 자료형에 포함된 항목들을 대상으로 반복문을 실행하려면 `for` 반복문을 사용한다.\n",
    "\n",
    "__주의사항__: 영어 원문과는 달리 파이썬 최신 버전은 집합, 사전 등 순차 자료형이 아니어도\n",
    "`for` 반복문에 활용될 수 있다."
   ]
  },
  {
   "cell_type": "code",
   "execution_count": 23,
   "metadata": {},
   "outputs": [
    {
     "name": "stdout",
     "output_type": "stream",
     "text": [
      "1\n",
      "3\n",
      "6\n",
      "2\n",
      "5\n"
     ]
    }
   ],
   "source": [
    "for item in [1, 3, 6, 2, 5]:\n",
    "    print(item)"
   ]
  },
  {
   "cell_type": "markdown",
   "metadata": {},
   "source": [
    "**`range` 객체와 `for` 반복문**"
   ]
  },
  {
   "cell_type": "markdown",
   "metadata": {},
   "source": [
    "`range()` 함수가 반환하는 `range` 객체를 `for` 반복문과 활용하여\n",
    "일정한 규칙으로 지정된 횟수만큼 반복문을 실행할 수 있다."
   ]
  },
  {
   "cell_type": "code",
   "execution_count": 24,
   "metadata": {},
   "outputs": [
    {
     "name": "stdout",
     "output_type": "stream",
     "text": [
      "0\n",
      "1\n",
      "4\n",
      "9\n",
      "16\n"
     ]
    }
   ],
   "source": [
    "for item in range(5):\n",
    "    print(item ** 2)"
   ]
  },
  {
   "cell_type": "markdown",
   "metadata": {},
   "source": [
    "**문자열과 `for` 반복문**"
   ]
  },
  {
   "cell_type": "markdown",
   "metadata": {},
   "source": [
    "문자열에 사용된 각각의 문자에 대해 반복문을 실행할 수 있다."
   ]
  },
  {
   "cell_type": "code",
   "execution_count": 25,
   "metadata": {},
   "outputs": [
    {
     "name": "stdout",
     "output_type": "stream",
     "text": [
      "['c', 'a', 't', 'd', 'o', 'g', 'r', 'a', 'b', 'b', 'i', 't']\n"
     ]
    }
   ],
   "source": [
    "word_list = [\"cat\", \"dog\", \"rabbit\"]\n",
    "letter_list = [ ]\n",
    "\n",
    "for a_word in word_list:\n",
    "    for a_letter in a_word:\n",
    "        letter_list.append(a_letter)\n",
    "\n",
    "print(letter_list)"
   ]
  },
  {
   "cell_type": "markdown",
   "metadata": {},
   "source": [
    "### 조건문"
   ]
  },
  {
   "cell_type": "markdown",
   "metadata": {},
   "source": [
    "조건에 따라 선택된 명령문을 수행하도록 하려면 `if ...` 또는 `if ... else ...` 명령문을 사용한다."
   ]
  },
  {
   "cell_type": "code",
   "execution_count": 26,
   "metadata": {},
   "outputs": [
    {
     "name": "stdout",
     "output_type": "stream",
     "text": [
      "4.0\n"
     ]
    }
   ],
   "source": [
    "import math\n",
    "\n",
    "n = 16\n",
    "\n",
    "if n < 0:\n",
    "    print(\"Sorry, value is negative\")\n",
    "else:\n",
    "    print(math.sqrt(n))"
   ]
  },
  {
   "cell_type": "markdown",
   "metadata": {},
   "source": [
    "**중첩 조건문**"
   ]
  },
  {
   "cell_type": "markdown",
   "metadata": {},
   "source": [
    "조건문을 중첩해서 사용할 수 있다."
   ]
  },
  {
   "cell_type": "code",
   "execution_count": 27,
   "metadata": {},
   "outputs": [
    {
     "name": "stdout",
     "output_type": "stream",
     "text": [
      "F\n"
     ]
    }
   ],
   "source": [
    "score = 50\n",
    "\n",
    "if score >= 90:\n",
    "    print(\"A\")\n",
    "else:\n",
    "    if score >= 80:\n",
    "        print(\"B\")\n",
    "    else:\n",
    "        if score >= 70:\n",
    "            print(\"C\")\n",
    "        else:\n",
    "            if score >= 60:\n",
    "                print(\"D\")\n",
    "            else:\n",
    "                print(\"F\")"
   ]
  },
  {
   "cell_type": "markdown",
   "metadata": {},
   "source": [
    "**`if ... elif ... elfif ... else ...` 조건문**"
   ]
  },
  {
   "cell_type": "markdown",
   "metadata": {},
   "source": [
    "다중 선택을 위해 `elif ...` 를 제어문에 추가하여 사용할 수 있다."
   ]
  },
  {
   "cell_type": "code",
   "execution_count": 28,
   "metadata": {},
   "outputs": [
    {
     "name": "stdout",
     "output_type": "stream",
     "text": [
      "F\n"
     ]
    }
   ],
   "source": [
    "if score >= 90:\n",
    "    print(\"A\")\n",
    "elif score >= 80:\n",
    "    print(\"B\")\n",
    "elif score >= 70:\n",
    "    print(\"C\")\n",
    "elif score >= 60:\n",
    "    print(\"D\")\n",
    "else:\n",
    "    print(\"F\")"
   ]
  },
  {
   "cell_type": "markdown",
   "metadata": {},
   "source": [
    "`else` 문을 생략하면 조건이 맞지 않는 경우 이어진 명령문을 계속해서 실행한다."
   ]
  },
  {
   "cell_type": "code",
   "execution_count": 29,
   "metadata": {},
   "outputs": [
    {
     "name": "stdout",
     "output_type": "stream",
     "text": [
      "2.8284271247461903\n"
     ]
    }
   ],
   "source": [
    "n = 8\n",
    "\n",
    "if n < 0:\n",
    "    n = abs(n)\n",
    "\n",
    "print(math.sqrt(n))"
   ]
  },
  {
   "cell_type": "markdown",
   "metadata": {},
   "source": [
    "## 리스트 조건제시법"
   ]
  },
  {
   "cell_type": "markdown",
   "metadata": {},
   "source": [
    "특정 조건을 만족하는 값들로 이루어진 리스트를 __조건제시법__(list comprehension)으로\n",
    "쉽게 생성할 수 있다.\n",
    "이를 위해 `for` 반복문의 변형이 사용된다."
   ]
  },
  {
   "cell_type": "code",
   "execution_count": 30,
   "metadata": {},
   "outputs": [],
   "source": [
    "sq_list = []\n",
    "\n",
    "for x in range(1, 11):\n",
    "    sq_list.append(x * x)"
   ]
  },
  {
   "cell_type": "code",
   "execution_count": 31,
   "metadata": {},
   "outputs": [
    {
     "data": {
      "text/plain": [
       "[1, 4, 9, 16, 25, 36, 49, 64, 81, 100]"
      ]
     },
     "execution_count": 31,
     "metadata": {},
     "output_type": "execute_result"
    }
   ],
   "source": [
    "sq_list"
   ]
  },
  {
   "cell_type": "markdown",
   "metadata": {},
   "source": [
    "위에서 사용된 `for` 반복문을 조건제시법으로 나타내면 다음과 같다."
   ]
  },
  {
   "cell_type": "code",
   "execution_count": 32,
   "metadata": {},
   "outputs": [],
   "source": [
    "sq_list=[x * x for x in range(1, 11)]"
   ]
  },
  {
   "cell_type": "code",
   "execution_count": 33,
   "metadata": {},
   "outputs": [
    {
     "data": {
      "text/plain": [
       "[1, 4, 9, 16, 25, 36, 49, 64, 81, 100]"
      ]
     },
     "execution_count": 33,
     "metadata": {},
     "output_type": "execute_result"
    }
   ],
   "source": [
    "sq_list"
   ]
  },
  {
   "cell_type": "markdown",
   "metadata": {},
   "source": [
    "리스트에 포함될 조건을 추가하려면 `if ...` 조건문의 변형을 사용한다.\n",
    "예를 들어 홀수만 대상으로 할 경우 아래와 같이 조건문을 추가한다."
   ]
  },
  {
   "cell_type": "code",
   "execution_count": 34,
   "metadata": {},
   "outputs": [],
   "source": [
    "sq_list=[x * x for x in range(1,11) if x % 2 != 0]"
   ]
  },
  {
   "cell_type": "code",
   "execution_count": 35,
   "metadata": {},
   "outputs": [
    {
     "data": {
      "text/plain": [
       "[1, 9, 25, 49, 81]"
      ]
     },
     "execution_count": 35,
     "metadata": {},
     "output_type": "execute_result"
    }
   ],
   "source": [
    "sq_list"
   ]
  },
  {
   "cell_type": "markdown",
   "metadata": {},
   "source": [
    "리스트 조건제시법에는 모든 모음 자료형이 허용된다."
   ]
  },
  {
   "cell_type": "code",
   "execution_count": 36,
   "metadata": {},
   "outputs": [
    {
     "data": {
      "text/plain": [
       "['C', 'M', 'P', 'R', 'H', 'N', 'S', 'N']"
      ]
     },
     "execution_count": 36,
     "metadata": {},
     "output_type": "execute_result"
    }
   ],
   "source": [
    "[ch.upper() for ch in 'comprehension' if ch not in 'aeiou']"
   ]
  },
  {
   "cell_type": "markdown",
   "metadata": {},
   "source": [
    "## 예외 처리"
   ]
  },
  {
   "cell_type": "markdown",
   "metadata": {},
   "source": [
    "프로그램 실행 오류는 주로 두 종류이다.\n",
    "\n",
    "- __구문 오류__(syntax error): 규칙 또는 문법에 맞게 명령문 또는 식(expression)을 작성하지 않은 경우\n",
    "- __논리 오류__(logic error): 프로그램 실행 중에 의도치 않은 결과가 나오는 경우"
   ]
  },
  {
   "cell_type": "markdown",
   "metadata": {},
   "source": [
    "**구문 오류**"
   ]
  },
  {
   "cell_type": "markdown",
   "metadata": {},
   "source": [
    "예를 들어 아래 `for` 반복문은 콜론(`:`) 사용하지 않아서 오류를 발생시킨다."
   ]
  },
  {
   "cell_type": "markdown",
   "metadata": {},
   "source": [
    "```python\n",
    ">>> for i in range(10)\n",
    "...     print(i)\n",
    "... \n",
    "  File \"<ipython-input-44-7a8a49ad5eea>\", line 1\n",
    "    for i in range(10)\n",
    "                      ^\n",
    "SyntaxError: invalid syntax    \n",
    "```"
   ]
  },
  {
   "cell_type": "markdown",
   "metadata": {},
   "source": [
    "구문 오류는 파이썬 해석기가 프로그램 실행 도중에 바로 알아낸다. "
   ]
  },
  {
   "cell_type": "markdown",
   "metadata": {},
   "source": [
    "**논리 오류**"
   ]
  },
  {
   "cell_type": "markdown",
   "metadata": {},
   "source": [
    "프로그램 실행 도중에 0으로 나누려 시도하거나, 리스트의 범위를 벗어나는 인덱스를 사용하는 경우, \n",
    "또는 무한 반복(루프)에 빠지는 경우, 실행 결과가 의도한 것과 다른 경우 등이 논리 오류이다. \n",
    "이 중에 0으로 나누거나 리스트의 범위를 벗어나는 인덱스를 사용하는 경우에 \n",
    "발생하는 오류를 __런타임 에러__(runtime error)라 하며, 실행이 바로 종료된다.\n",
    "이런 종류의 런타임 에러를 __예외__(exceptions)라고 한다."
   ]
  },
  {
   "cell_type": "markdown",
   "metadata": {},
   "source": [
    "오류가 발생하는 경우를 대비하거나 일부러 오류를 발생시키는 것도 가능하다."
   ]
  },
  {
   "cell_type": "markdown",
   "metadata": {},
   "source": [
    "**`try ... except ...` 제어문***"
   ]
  },
  {
   "cell_type": "markdown",
   "metadata": {},
   "source": [
    "아래의 경우 사용자가 음수를 입력하면 `ValueError` 라는 논리 오류가 발생한다."
   ]
  },
  {
   "cell_type": "markdown",
   "metadata": {},
   "source": [
    "```python\n",
    ">>> import math\n",
    ">>> a_number = int(input(\"Please enter an integer \"))\n",
    "Please enter an integer -10\n",
    ">>> print(math.sqrt(a_number))\n",
    "---------------------------------------------------------------------------\n",
    "ValueError                                Traceback (most recent call last)\n",
    "<ipython-input-46-030b6fd6a8a2> in <module>\n",
    "      2 \n",
    "      3 a_number = int(input(\"Please enter an integer \"))\n",
    "----> 4 print(math.sqrt(a_number))\n",
    "\n",
    "ValueError: math domain error\n",
    "```"
   ]
  },
  {
   "cell_type": "markdown",
   "metadata": {},
   "source": [
    "사용자의 음수 입력을 아래와 같이 대비하면 실행을 제대로 완료할 수 있다."
   ]
  },
  {
   "cell_type": "markdown",
   "metadata": {},
   "source": [
    "```python\n",
    ">>> try:\n",
    "...     print(math.sqrt(a_number))\n",
    "... except:\n",
    "...     print(\"제곱근 함수는 음수에 대해 실행 불가\")\n",
    "...     print(\"대신 음수의 절댓값을 이용하여 제곱근 계산\")\n",
    "...     print(math.sqrt(abs(a_number)))\n",
    "제곱근 함수는 음수에 대해 실행 불가\n",
    "대신 음수의 절댓값을 이용하여 제곱근 계산\n",
    "3.1622776601683795    \n",
    "```"
   ]
  },
  {
   "cell_type": "markdown",
   "metadata": {},
   "source": [
    "**`raise ...` 명령문**"
   ]
  },
  {
   "cell_type": "markdown",
   "metadata": {},
   "source": [
    "제곱근 함수의 인자로 사용될 인자가 음수인 경우\n",
    "제곱근 함수를 실행하기 이전에 `raise ...` 명령문을 이용하여 선제적으로 런타임 에러를 발생시킬 수 있다.\n",
    "또한 오류 발생 원인 등을 직접 지정하는 것도 가능하다."
   ]
  },
  {
   "cell_type": "markdown",
   "metadata": {},
   "source": [
    "```python\n",
    ">>> if a_number < 0:\n",
    "...     raise RuntimeError(\"음수는 허용되지 않음\")\n",
    "... else:\n",
    "...     print(math.sqrt(a_number))\n",
    "---------------------------------------------------------------------------\n",
    "RuntimeError                              Traceback (most recent call last)\n",
    "<ipython-input-48-b9f171df3c7f> in <module>\n",
    "      1 if a_number < 0:\n",
    "----> 2     raise RuntimeError(\"음수는 허용되지 않음\")\n",
    "      3 else:\n",
    "      4     print(math.sqrt(a_number))\n",
    "\n",
    "RuntimeError: 음수는 허용되지 않음\n",
    "```"
   ]
  },
  {
   "cell_type": "markdown",
   "metadata": {},
   "source": [
    "이외에 다양한 예외가 발생할 수 있다. \n",
    "보다 자세한 사항은 [파이썬 공식 문서](https://docs.python.org/3/library/exceptions.html)를 참조한다. "
   ]
  },
  {
   "cell_type": "markdown",
   "metadata": {},
   "source": [
    "## 함수 정의"
   ]
  },
  {
   "cell_type": "markdown",
   "metadata": {},
   "source": [
    "함수는 특정 명령문에 이름을 지정하여 해당 명령문은 반복해서 사용하도록 하는 기능이다.\n",
    "함수 정의는 함수의 이름, 매개변수, 함수 본체, 반환값으로 구성된다.\n",
    "사용자 입장에서 함수는 기능만 이해하면 언제든지 재활용할 수 있다."
   ]
  },
  {
   "cell_type": "code",
   "execution_count": 37,
   "metadata": {},
   "outputs": [],
   "source": [
    "def square(n):\n",
    "    return n ** 2"
   ]
  },
  {
   "cell_type": "code",
   "execution_count": 38,
   "metadata": {},
   "outputs": [
    {
     "data": {
      "text/plain": [
       "9"
      ]
     },
     "execution_count": 38,
     "metadata": {},
     "output_type": "execute_result"
    }
   ],
   "source": [
    "square(3)"
   ]
  },
  {
   "cell_type": "code",
   "execution_count": 39,
   "metadata": {},
   "outputs": [
    {
     "data": {
      "text/plain": [
       "81"
      ]
     },
     "execution_count": 39,
     "metadata": {},
     "output_type": "execute_result"
    }
   ],
   "source": [
    "square(square(3))"
   ]
  },
  {
   "cell_type": "markdown",
   "metadata": {},
   "source": [
    "**예제: 제곱근 함수 직접 구현하기**"
   ]
  },
  {
   "cell_type": "markdown",
   "metadata": {},
   "source": [
    "뉴튼 기법을 사용하여 제곱근 함수를 직접 구현한다.\n",
    "뉴튼 기법은 아래 과정을 반복적용하여 주어진 수 $n$의 제곱근의 근사치를 계산한다. \n",
    "\n",
    "$$\n",
    "\\textit{새로운 근사치} = \\frac {1}{2} \\left(\\textit{이전 근사치} + \\frac {n}{\\textit{이전 근사치}}\\right)\n",
    "$$\n",
    "\n",
    "근사치의 시작값은 $\\frac n 2$이다. \n",
    "아래 함수는 뉴튼 기법을 20번 반복하는 함수이다. "
   ]
  },
  {
   "cell_type": "code",
   "execution_count": 40,
   "metadata": {},
   "outputs": [],
   "source": [
    "def square_root(n):\n",
    "    root = n / 2            # 근사치 초기값\n",
    "    for k in range(20):     # 뉴튼 기법 20번 적용\n",
    "        root = (1 / 2) * (root + (n / root))\n",
    "\n",
    "    return root"
   ]
  },
  {
   "cell_type": "markdown",
   "metadata": {},
   "source": [
    "근사값을 매우 정확하게 계산한다."
   ]
  },
  {
   "cell_type": "code",
   "execution_count": 41,
   "metadata": {},
   "outputs": [
    {
     "data": {
      "text/plain": [
       "3.0"
      ]
     },
     "execution_count": 41,
     "metadata": {},
     "output_type": "execute_result"
    }
   ],
   "source": [
    "square_root(9)"
   ]
  },
  {
   "cell_type": "code",
   "execution_count": 42,
   "metadata": {},
   "outputs": [
    {
     "data": {
      "text/plain": [
       "67.54998149518622"
      ]
     },
     "execution_count": 42,
     "metadata": {},
     "output_type": "execute_result"
    }
   ],
   "source": [
    "square_root(4563)"
   ]
  },
  {
   "cell_type": "markdown",
   "metadata": {},
   "source": [
    "**예제: 무한 원숭이 정리**\n",
    "\n",
    "[무한 원숭이 정리](https://ko.wikipedia.org/wiki/%EB%AC%B4%ED%95%9C_%EC%9B%90%EC%88%AD%EC%9D%B4_%EC%A0%95%EB%A6%AC)는 \n",
    "원숭이가 무한히 타이핑을 하면 어떤 문장도 언젠가는 정확하게 타이핑할 수 있다는 정리이다. \n",
    "다음 세 함수를 구현한다. \n",
    "\n",
    "- 반복적으로 지정된 길이의 문자열을 생성하는 함수\n",
    "- 생성된 문자열의 정확도를 계산하는 함수\n",
    "- 정확도가 100%일 때 멈추는 함수"
   ]
  },
  {
   "cell_type": "markdown",
   "metadata": {},
   "source": [
    "<div align=\"center\"><img src=\"https://raw.githubusercontent.com/codingalzi/algopy/master/notebooks/_images/Chimpanzee_seated_at_typewriter.jpg\" style=\"width:600px;\"></div>\n",
    "\n",
    "그림 출처: [위키백과](https://en.wikipedia.org/wiki/Infinite_monkey_theorem)"
   ]
  },
  {
   "cell_type": "markdown",
   "metadata": {},
   "source": [
    "**_견본답안_**"
   ]
  },
  {
   "cell_type": "markdown",
   "metadata": {},
   "source": [
    "`generateOne()` 함수는 지정된 문자열의 길이와 동일한 길이의 문자열을 무작위로 생성한다.\n",
    "문자열에 사용되는 문자는 영어 알파벳 26개와 공백(space), 총 27개의 문자를 사용한다."
   ]
  },
  {
   "cell_type": "code",
   "execution_count": 43,
   "metadata": {},
   "outputs": [],
   "source": [
    "import random\n",
    "\n",
    "def generateOne(strlen):\n",
    "    alphabet = \"abcdefghijklmnopqrstuvwxyz \"\n",
    "    res = \"\"\n",
    "    for i in range(strlen):\n",
    "        res = res + alphabet[random.randrange(27)]\n",
    "        \n",
    "    return res"
   ]
  },
  {
   "cell_type": "markdown",
   "metadata": {},
   "source": [
    "`score()` 함수는 지정된 문자열(`goal`)과 임의로 생성된 문자열(`teststring`)\n",
    "사이의 일치도를 측정한다. \n",
    "측정방식은 인덱스별 일치 여부를 단순히 합한다. "
   ]
  },
  {
   "cell_type": "code",
   "execution_count": 44,
   "metadata": {},
   "outputs": [],
   "source": [
    "def score(goal, teststring):\n",
    "    numScore = 0\n",
    "    for i in range(len(goal)):\n",
    "        if goal[i] == teststring[i]:\n",
    "            numScore = numScore + 1\n",
    "    \n",
    "    return numScore / len(goal)"
   ]
  },
  {
   "cell_type": "markdown",
   "metadata": {},
   "source": [
    "다음 `infinite_monkey()` 함수는 `score()` 점수가 갱신될 때마다 해당 점수를 출력하며,\n",
    "일치도가 100%가 될 때 종료한다. "
   ]
  },
  {
   "cell_type": "code",
   "execution_count": 45,
   "metadata": {},
   "outputs": [],
   "source": [
    "def infinite_monkey():\n",
    "    goalstring = \"methinks it is like a weasel\"\n",
    "    newstring = generateOne(28)\n",
    "    best = 0\n",
    "    newscore = score(goalstring, newstring)\n",
    "    while newscore < 1:\n",
    "        if newscore >= best:\n",
    "            print(newscore, newstring)\n",
    "            best = newscore\n",
    "        newstring = generateOne(28)\n",
    "        newscore = score(goalstring, newstring)"
   ]
  },
  {
   "cell_type": "markdown",
   "metadata": {},
   "source": [
    "__경고__: `infinite_monkey()` 함수를 호출하면 함수의 실행이 언제 종료할지 모른다.\n",
    "실행 후 잠시 뒤에 강제 종료하는 게 좋다.\n",
    "필요하면 아래 코드의 주석을 해제하고 실행해 볼 수 있다."
   ]
  },
  {
   "cell_type": "code",
   "execution_count": 46,
   "metadata": {},
   "outputs": [],
   "source": [
    "# infinite_monkey()"
   ]
  },
  {
   "cell_type": "markdown",
   "metadata": {},
   "source": [
    "## 연습문제"
   ]
  },
  {
   "cell_type": "markdown",
   "metadata": {},
   "source": [
    "1. [(실습) 파이썬 기초 2부: 제어 구조와 함수](https://colab.research.google.com/github/codingalzi/algopy/blob/master/excs/exc-python_basic_2.ipynb)"
   ]
  }
 ],
 "metadata": {
  "kernelspec": {
   "display_name": "Python 3 (ipykernel)",
   "language": "python",
   "name": "python3"
  },
  "language_info": {
   "codemirror_mode": {
    "name": "ipython",
    "version": 3
   },
   "file_extension": ".py",
   "mimetype": "text/x-python",
   "name": "python",
   "nbconvert_exporter": "python",
   "pygments_lexer": "ipython3",
   "version": "3.10.6"
  },
  "vscode": {
   "interpreter": {
    "hash": "ad0f3c8a064f687cbf898a0868fd45ba1c7e928ac8a0404f7c241d812ddc1e76"
   }
  }
 },
 "nbformat": 4,
 "nbformat_minor": 4
}