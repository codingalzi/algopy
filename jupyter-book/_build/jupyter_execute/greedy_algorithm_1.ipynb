{
 "cells": [
  {
   "cell_type": "markdown",
   "metadata": {},
   "source": [
    "# 최소비용 신장트리"
   ]
  },
  {
   "cell_type": "markdown",
   "metadata": {},
   "source": [
    "**소스코드**\n",
    "\n",
    "아래 내용을 \n",
    "[(구글 코랩) 최소비용 신장트리](https://colab.research.google.com/github/codingalzi/algopy/blob/master/jupyter-book/greedy_algorithm_1.ipynb)에서 \n",
    "직접 실행할 수 있다."
   ]
  },
  {
   "cell_type": "markdown",
   "metadata": {},
   "source": [
    "**주요 내용**\n",
    "\n",
    "- 탐욕 알고리즘\n",
    "- 최소비용 신장트리: 프림 알고리즘"
   ]
  },
  {
   "cell_type": "markdown",
   "metadata": {
    "slideshow": {
     "slide_type": "slide"
    }
   },
   "source": [
    "## 탐욕 알고리즘이란?"
   ]
  },
  {
   "cell_type": "markdown",
   "metadata": {
    "slideshow": {
     "slide_type": ""
    }
   },
   "source": [
    "탐욕 알고리즘은 선택 순간의 최적인 대상을 선택하는 기법이다.\n",
    "동적계획법과 마찬가지로 최적화 문제를 풀기 위해 주로 사용된다.\n",
    "탐욕 알고리즘의 작동방식은 다음과 같다.\n",
    "\n",
    "1. 공집합에서 출발하여 아래 과정을 반복하면서 문제의 해답을 얻을 때까지 집합에 원소를 추가한다.\n",
    "    - 선택과정: 지정된 기준에 따라 집합에 추가할 최적의 원소 선택\n",
    "    - 적절성 검사: 선택된 원소가 추가된 새로운 집합의 적절성 판단\n",
    "    - 해답점검: 새로운 집합이 문제의 해답인지 여부 판단\n",
    "    - 해답이면 종료. 아니면 선택과정으로 돌아가기\n",
    "2. 최종적으로 얻어진 집합이 최적의 해인지 여부를 확인한다."
   ]
  },
  {
   "cell_type": "markdown",
   "metadata": {},
   "source": [
    "마지막에 최적의 해 여부를 확인해야 하는 이유는 아래 예제가 보여주듯이 탐욕 알고리즘이 항상 최적의 해답을 제시하는 것은 아니기 때문이다."
   ]
  },
  {
   "cell_type": "markdown",
   "metadata": {
    "slideshow": {
     "slide_type": "slide"
    }
   },
   "source": [
    ":::{prf:example} 거스름돈 문제\n",
    ":label: exp-change\n",
    "\n",
    "거스름돈을 돌려주기 위해 필요한 최소한의 동전 개수를 알아내는 문제다.\n",
    "단, 사용할 수 있는 동전은 500원, 250원, 100원, 50원, 10원 5 종류이다.\n",
    "\n",
    "거스름돈 문제를 탐욕 알고리즘으로 해결하려면 가장 큰 액수의 동전부터 최대한 많이 사용해야 한다.\n",
    "예를 들어, 360원을 지불하기 위해서 사용하는 동전은 다음과 같다.\n",
    "\n",
    "```\n",
    "500원: 0개\n",
    "250원: 1개\n",
    "100원: 1개\n",
    "50원: 0개\n",
    "10원: 1개\n",
    "```\n",
    "\n",
    "이 경우엔 탐욕 알고리즘 기법으로 항상 동전의 개수가 최소가 되도록 거스름돈을 돌려줄 수 있다.\n",
    "하지만 자세한 증명은 생략한다.\n",
    "그런데 만약에 160원을 거슬러주기 위해 사용할 수 있는 동전 종류가\n",
    "120원, 100원, 50원, 10원 짜리만 있다고 가정하자.\n",
    "\n",
    "탐욕 알고리즘을 적용하면 120원 동전 1개, 10원 동전 4개 총 5개의 동전이 필요하다.\n",
    "반면에 최적의 해법은 100원 동전 1개, 50원 동전 1개, 10원 동전 1개 총 3개의 동전만 있으면 된다.\n",
    "즉, 탐욕 알고리즘으로 얻어진 해가 최적이 아니다.\n",
    ":::"
   ]
  },
  {
   "cell_type": "markdown",
   "metadata": {
    "slideshow": {
     "slide_type": "slide"
    }
   },
   "source": [
    "## 최소비용 신장트리"
   ]
  },
  {
   "cell_type": "markdown",
   "metadata": {
    "slideshow": {
     "slide_type": "slide"
    }
   },
   "source": [
    "**가중 비방향그래프**"
   ]
  },
  {
   "cell_type": "markdown",
   "metadata": {
    "slideshow": {
     "slide_type": "fragment"
    }
   },
   "source": [
    "가중 비방향 그래프가 다음과 같이 주어졌다고 가정하자.\n",
    "즉, 마디 사이의 이음선에 방향이 없다."
   ]
  },
  {
   "cell_type": "markdown",
   "metadata": {
    "slideshow": {
     "slide_type": ""
    }
   },
   "source": [
    "<div align=\"center\"><img src=\"https://raw.githubusercontent.com/codingalzi/algopy/master/jupyter-book/imgs/algo04/algo04-01.png\" width=\"300\"/></div>"
   ]
  },
  {
   "cell_type": "markdown",
   "metadata": {
    "slideshow": {
     "slide_type": "slide"
    }
   },
   "source": [
    "**연결그래프**"
   ]
  },
  {
   "cell_type": "markdown",
   "metadata": {
    "slideshow": {
     "slide_type": ""
    }
   },
   "source": [
    "위 그래프는 모든 마디 사이에 경로가 존재하는 **연결그래프**이다. "
   ]
  },
  {
   "cell_type": "markdown",
   "metadata": {
    "slideshow": {
     "slide_type": "slide"
    }
   },
   "source": [
    "**단순 순환경로와 트리**"
   ]
  },
  {
   "cell_type": "markdown",
   "metadata": {},
   "source": [
    "**단순 순환경로**는 하나의 마디에서 출발하여 다시 돌아오는 경로에 서로 다른 세 개의 마디가 있고, \n",
    "해당 경로상의 모든 마디가 서로 다른 경로를 가리킨다. 즉, 출발점을 제외한 다른 마디에서의 순환 경로가 없어야 한다.\n",
    "\n",
    "**비순환 비방향그래프**는 단순순환경로를 전혀 포함하지 않는 비방향그래프를 의미하며, \n",
    "연결 비순환 비방향그래프를 **트리**라 부른다."
   ]
  },
  {
   "cell_type": "markdown",
   "metadata": {
    "slideshow": {
     "slide_type": "slide"
    }
   },
   "source": [
    "**신장트리**"
   ]
  },
  {
   "cell_type": "markdown",
   "metadata": {
    "slideshow": {
     "slide_type": ""
    }
   },
   "source": [
    "가중 비방향 연결그래프 $G$가 주어졌다고 가정하자.\n",
    "그러면 $G$의 **신장트리**<font size='2'>spannin$G$ tree</font>는  $G$의 마디는 그대로 두면서 이음선의 일부를 제거하여 만들어진 트리를 가리킨다.\n",
    "신장트리에 포함된 이음선의 가중치들의 합이 최소인 $G$의 신장트리를 $G$의 **최소비용 신장트리**라 부른다.\n",
    "여러 개의 최소비용 신장트리가 존재할 수 있다."
   ]
  },
  {
   "cell_type": "markdown",
   "metadata": {},
   "source": [
    ":::{prf:example} 그래프와 신장트리\n",
    ":label: exp-graph_spanningtree\n",
    "\n",
    "<div align=\"center\"><img src=\"https://raw.githubusercontent.com/codingalzi/algopy/master/jupyter-book/imgs/algo04/algo04-02a.png\" width=\"600\"/></div>\n",
    ":::"
   ]
  },
  {
   "cell_type": "markdown",
   "metadata": {
    "slideshow": {
     "slide_type": "slide"
    }
   },
   "source": [
    "**최소비용 신장트리 활용 예제**"
   ]
  },
  {
   "cell_type": "markdown",
   "metadata": {},
   "source": [
    "* 도로건설: 도시들을 모두 연결하면서 도로의 길이가 최소가 되도록 하는 문제\n",
    "* 통신: 통신선의 길이가 최소가 되도록 통신케이블 망을 구성하는 문제\n",
    "* 배관: 배관의 총 길이가 최도가 되도록 연결하는 문제"
   ]
  },
  {
   "cell_type": "markdown",
   "metadata": {
    "slideshow": {
     "slide_type": "slide"
    }
   },
   "source": [
    "## 프림 알고리즘"
   ]
  },
  {
   "cell_type": "markdown",
   "metadata": {
    "slideshow": {
     "slide_type": ""
    }
   },
   "source": [
    "가중 비방향 연결그래프 $G = (V, E)$가 주어졌을 때 $G$의 최소비용 신장트리를 프림<font size='2'>Prim</font> 알고리즘으로 찾으려 한다.\n",
    "여기서 $V$는 마디들의 집합, $E$는 이음선들의 집합을 가리킨다."
   ]
  },
  {
   "cell_type": "markdown",
   "metadata": {
    "slideshow": {
     "slide_type": "slide"
    }
   },
   "source": [
    "**기본 아디이어**"
   ]
  },
  {
   "cell_type": "markdown",
   "metadata": {},
   "source": [
    "$Y = \\{ v_1 \\}$와 $F = \\emptyset$ 두 집합을 아래 과정을 반복하여 확장해 나간다.\n",
    "$v_1$ 대신 임의의 다른 마디로 시작해도 상관 없다."
   ]
  },
  {
   "cell_type": "markdown",
   "metadata": {
    "slideshow": {
     "slide_type": "fragment"
    }
   },
   "source": [
    "1. $(V-Y)$에 속한 마디 중에서 $Y$와 가장 가까운(최소거리) 마디 선택해서 $Y$에 추가한다.\n",
    "1. 해당 마디 선택에 사용된 이음선을 $F$에 추가한다.\n",
    "1. $Y == V$ 인 경우 종료하고, 아니면 처음으로 돌아간다."
   ]
  },
  {
   "cell_type": "markdown",
   "metadata": {
    "slideshow": {
     "slide_type": "slide"
    }
   },
   "source": [
    ":::{prf:example} 프림 알고리즘 적용\n",
    ":label: exp-prim_idea\n",
    "\n",
    "<div align=\"center\"><img src=\"https://raw.githubusercontent.com/codingalzi/algopy/master/jupyter-book/imgs/algo04/algo04-03a.png\" width=\"500\"/></div>\n",
    "<br>\n",
    "\n",
    "<div align=\"center\"><img src=\"https://raw.githubusercontent.com/codingalzi/algopy/master/jupyter-book/imgs/algo04/algo04-04a.png\" width=\"500\"/></div>\n",
    ":::"
   ]
  },
  {
   "cell_type": "markdown",
   "metadata": {
    "slideshow": {
     "slide_type": "slide"
    }
   },
   "source": [
    "**프림 알고리즘의 최적여부 증명**"
   ]
  },
  {
   "cell_type": "markdown",
   "metadata": {
    "slideshow": {
     "slide_type": "slide"
    }
   },
   "source": [
    "프림 알고리즘이 항상 최소비용 신장트리를 생성하는지 증명해야 한다.\n",
    "먼저 프림 알고리즘의 결과가 신장트리라는 것은 확실하다.\n",
    "\n",
    "* $V == Y$ 일 때 종료하기에 모든 마디가 서로 연결된다.\n",
    "* 단순순환경로가 존재하지 않는다. 이유는 항상 새로운 마디가 집합 $Y$에 추가되기 때문이다.\n",
    "\n",
    "하지만 최소비용 신장트리 여부는 불확실하다.\n",
    "프림 알고리즘으로 생성된 신장트리가 최소비용 신장트리라는 것을 증명하기 위해 **유망한 이음선 집합** 개념을 활용한다.\n",
    "가중 비방향 연결그래프 $G = (V, E)$가 주어졌을 때 이음선 부분집합 $F \\subseteq E$에\n",
    "이음선을 추가하여 최소비용 신장트리를 만들 수 있다면,\n",
    "$F$는 **유망하다**(promissing) 라고 부른다.\n"
   ]
  },
  {
   "cell_type": "markdown",
   "metadata": {},
   "source": [
    "프림 알고리즘이 항상 최소비용 신장트리를 생성한다는 사실은 아래 사실로부터 따라온다."
   ]
  },
  {
   "cell_type": "markdown",
   "metadata": {},
   "source": [
    "**보조정리**"
   ]
  },
  {
   "cell_type": "markdown",
   "metadata": {
    "slideshow": {
     "slide_type": ""
    }
   },
   "source": [
    "* 전제 1: $G = (V, E)$ 이고 $F (\\subseteq E)$는 유망함.\n",
    "* 전제 2: $Y$는 $F$에 사용된 마디들의 집합\n",
    "* 전제 3: $Y$에 있는 정점과 $(V-Y)$에 있는 정점을 잇는 이음선 중에서\n",
    "    가중치가 가장 적은 이음선 중에 하나가 $e$.\n",
    "* 결론: $F \\cup \\{ e \\}$ 또한 유망함."
   ]
  },
  {
   "cell_type": "markdown",
   "metadata": {
    "slideshow": {
     "slide_type": "slide"
    }
   },
   "source": [
    "*보조정리 증명 (그림으로 설명)*"
   ]
  },
  {
   "cell_type": "markdown",
   "metadata": {
    "slideshow": {
     "slide_type": ""
    }
   },
   "source": [
    "<div align=\"center\"><img src=\"https://raw.githubusercontent.com/codingalzi/algopy/master/jupyter-book/imgs/algo04/algo04-05a.png\" width=\"300\"/></div>"
   ]
  },
  {
   "cell_type": "markdown",
   "metadata": {
    "slideshow": {
     "slide_type": "slide"
    }
   },
   "source": [
    "**프림 알고리즘 구현**"
   ]
  },
  {
   "cell_type": "code",
   "execution_count": 1,
   "metadata": {
    "slideshow": {
     "slide_type": "slide"
    }
   },
   "outputs": [],
   "source": [
    "from math import inf\n",
    "from collections import defaultdict\n",
    "\n",
    "def prim(W):                    # W: 가중 비방향 연결그래프의 인접행렬\n",
    "\n",
    "    m = len(W)                  # 마디 개수: 인접행렬의 행의 인덱스를 마디 이름으로 사용. v(0), ..., v(m-1)\n",
    "    F = defaultdict(list)       # 신장트리에 포함될 이음선들의 집합\n",
    "                                # 키: 마디, 키값: 추가되는 이음선에 사용된 다른 마디들의 리스트\n",
    "                                # 예제: {0: [1, 2], 2: [4, 3]}\n",
    "    \n",
    "    # 업데이트되는 Y는 직접 언급되지 않음. 이유는 F에 Y에 대한 정보가 함께 포함되기 때문임.\n",
    "    \n",
    "    # nearest와 distance를 업데이트 하면서 Y를 업데이트할 때 필요한 정보를 저장함.\n",
    "    # i는 range(m-1)에서 움직임. 즉, v(0), ..., v(m-1)를 가리킴\n",
    "    \n",
    "    # nearest[i]: 생성중인 신장트리 Y에 속한 마디 중 v(i)에 가장 가까운 마디. \n",
    "    # 시작은 v(0). 이유는 신장트리 Y에 v(0)가 포함되었다고 가정했기 때문임.\n",
    "    nearest = [0] * m\n",
    "    \n",
    "    # distance[i]: nearest[i]와 v(i)를 잇는 이음선의 가중치. \n",
    "    # -1이면 이미 신장트리에 포함된 것으로 간주\n",
    "    # 시작은 v(0) 과의 이음선의 가중치. \n",
    "    distance = [W[0][i] for i in range(m)]  \n",
    "                                            \n",
    "    # V0 는 이미 포함되어 있다고 가정\n",
    "    distance[0] = -1\n",
    "    \n",
    "    # 신장트리에 속할 이음선을 모든 마디가 선택될 때가지 하나씩 추가\n",
    "    for _ in range(m-1):\n",
    "    \n",
    "        # distance 정보를 이용하여 아직 신장트리 Y에 속하지 않으면서 가장 가까운 마디 선택\n",
    "        min = inf\n",
    "    \n",
    "        for i in range(1, m):\n",
    "            if (0 < distance[i] < min):    # Y에 속하지 않는 마디 중 가장 가까운(최소 가중치) 마디 선택\n",
    "                min = distance[i]          # 거리\n",
    "                vnear = i                  # 선택된 마디\n",
    "    \n",
    "        # 선택된 마디와 가장 가까운 마디 사이의 이음선을 신장트리에 추가\n",
    "        F[nearest[vnear]].append(vnear)\n",
    "        distance[vnear] = -1    # 선택된 마디 표시\n",
    "    \n",
    "        # 아직 Y에 포함되지 않은 마디를 대상으로 distance와 nearest 업데이트 (F가 수정되었기 때문)\n",
    "        for j in range(1, m):\n",
    "            if W[j][vnear] < distance[j]:   # Y에 새로이 추가된 vnear와의 거리가 최소 가중치 값을 갖는 경우\n",
    "                nearest[j] = vnear          # v(j)에 가장 가까우면서 Y에 속한 마디는 v(vnear)\n",
    "                distance[j] = W[j][vnear]   # v(j)와 v(vnear)의 거리\n",
    "    \n",
    "    return F "
   ]
  },
  {
   "cell_type": "code",
   "execution_count": 2,
   "metadata": {
    "slideshow": {
     "slide_type": "slide"
    }
   },
   "outputs": [],
   "source": [
    "W = [[0,   1,   3,   inf, inf],\n",
    "     [1,   0,   3,   6,   inf],\n",
    "     [3,   3,   0,   4,   2  ],\n",
    "     [inf, 6,   4,   0,   5  ],\n",
    "     [inf, inf, 2,   5,   0  ]]"
   ]
  },
  {
   "cell_type": "code",
   "execution_count": 3,
   "metadata": {
    "slideshow": {
     "slide_type": "fragment"
    }
   },
   "outputs": [
    {
     "data": {
      "text/plain": [
       "defaultdict(list, {0: [1, 2], 2: [4, 3]})"
      ]
     },
     "execution_count": 3,
     "metadata": {},
     "output_type": "execute_result"
    }
   ],
   "source": [
    "prim(W)"
   ]
  },
  {
   "cell_type": "markdown",
   "metadata": {},
   "source": [
    "**참고**\n",
    "\n",
    "[PythonTutor: 프림 알고리즘 예제](https://pythontutor.com/render.html#code=from%20math%20import%20inf%0Afrom%20collections%20import%20defaultdict%0A%0Adef%20prim%28W%29%3A%0A%20%20%20%20m%20%3D%20len%28W%29%0A%20%20%20%20F%20%3D%20defaultdict%28list%29%0A%0A%20%20%20%20nearest%20%3D%20%5B0%5D%20*%20m%0A%20%20%20%20distance%20%3D%20%5BW%5B0%5D%5Bi%5D%20for%20i%20in%20range%28m%29%5D%20%20%0A%20%20%20%20distance%5B0%5D%20%3D%20-1%0A%20%20%20%20%0A%20%20%20%20for%20_%20in%20range%28m-1%29%3A%0A%20%20%20%20%20%20%20%20min%20%3D%20inf%0A%20%20%20%20%20%20%20%20for%20i%20in%20range%281,%20m%29%3A%0A%20%20%20%20%20%20%20%20%20%20%20%20if%20%280%20%3C%20distance%5Bi%5D%20%3C%20min%29%3A%0A%20%20%20%20%20%20%20%20%20%20%20%20%20%20%20%20min%20%3D%20distance%5Bi%5D%0A%20%20%20%20%20%20%20%20%20%20%20%20%20%20%20%20vnear%20%3D%20i%0A%20%20%20%20%0A%20%20%20%20%20%20%20%20F%5Bnearest%5Bvnear%5D%5D.append%28vnear%29%0A%20%20%20%20%20%20%20%20distance%5Bvnear%5D%20%3D%20-1%0A%0A%20%20%20%20%20%20%20%20for%20j%20in%20range%281,%20m%29%3A%0A%20%20%20%20%20%20%20%20%20%20%20%20if%20W%5Bj%5D%5Bvnear%5D%20%3C%20distance%5Bj%5D%3A%0A%20%20%20%20%20%20%20%20%20%20%20%20%20%20%20%20nearest%5Bj%5D%20%3D%20vnear%0A%20%20%20%20%20%20%20%20%20%20%20%20%20%20%20%20distance%5Bj%5D%20%3D%20W%5Bj%5D%5Bvnear%5D%0A%20%20%20%20return%20F%20%0A%20%20%20%20%0AW%20%3D%20%5B%5B0,%20%20%201,%20%20%203,%20%20%20inf,%20inf%5D,%0A%20%20%20%20%20%5B1,%20%20%200,%20%20%203,%20%20%206,%20%20%20inf%5D,%0A%20%20%20%20%20%5B3,%20%20%203,%20%20%200,%20%20%204,%20%20%202%20%20%5D,%0A%20%20%20%20%20%5Binf,%206,%20%20%204,%20%20%200,%20%20%205%20%20%5D,%0A%20%20%20%20%20%5Binf,%20inf,%202,%20%20%205,%20%20%200%20%20%5D%5D%0A%20%20%20%20%20%0Aprint%28prim%28W%29%29&cumulative=false&curInstr=0&heapPrimitives=nevernest&mode=display&origin=opt-frontend.js&py=3&rawInputLstJSON=%5B%5D&textReferences=false)에서\n",
    "위 알고리즘을 직접 실행하면서 F의 변화를 확인할 수 있다."
   ]
  },
  {
   "cell_type": "markdown",
   "metadata": {
    "slideshow": {
     "slide_type": "slide"
    }
   },
   "source": [
    "**프림 알고리즘 일정 시간복잡도 분석**"
   ]
  },
  {
   "cell_type": "markdown",
   "metadata": {
    "slideshow": {
     "slide_type": ""
    }
   },
   "source": [
    "* 입력크기: 마디 수 $n$\n",
    "* 단위연산: 중첩 반복문 안에 있는 비교 명령문\n",
    "* 일정 시간복잡도: $n-1$ 번 반복되는 명령문 두 개가 $n-1$번 반복되는 반복문 안에 들어 있음. \n",
    "    따라서 다음이 성립:\n",
    "\n",
    "    $$\n",
    "    T(n) = 2(n-1)(n-1) \\in O(n^2)\n",
    "    $$"
   ]
  },
  {
   "cell_type": "markdown",
   "metadata": {
    "slideshow": {
     "slide_type": "slide"
    }
   },
   "source": [
    "## 연습문제"
   ]
  },
  {
   "cell_type": "markdown",
   "metadata": {},
   "source": [
    "1. [(실습) 최소비용 신장트리](https://colab.research.google.com/github/codingalzi/algopy/blob/master/excs/exc-greedy_algorithm_1.ipynb)"
   ]
  }
 ],
 "metadata": {
  "kernelspec": {
   "display_name": "Python 3.9.12 ('base')",
   "language": "python",
   "name": "python3"
  },
  "language_info": {
   "codemirror_mode": {
    "name": "ipython",
    "version": 3
   },
   "file_extension": ".py",
   "mimetype": "text/x-python",
   "name": "python",
   "nbconvert_exporter": "python",
   "pygments_lexer": "ipython3",
   "version": "3.9.12"
  },
  "vscode": {
   "interpreter": {
    "hash": "ad0f3c8a064f687cbf898a0868fd45ba1c7e928ac8a0404f7c241d812ddc1e76"
   }
  }
 },
 "nbformat": 4,
 "nbformat_minor": 4
}