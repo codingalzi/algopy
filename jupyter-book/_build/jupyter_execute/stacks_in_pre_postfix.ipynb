{
 "cells": [
  {
   "cell_type": "markdown",
   "metadata": {},
   "source": [
    "# 스택 활용: 중위, 전위, 후위 표기법"
   ]
  },
  {
   "cell_type": "markdown",
   "metadata": {},
   "source": [
    "## Infix, Prefix, and Postfix Expressions"
   ]
  },
  {
   "cell_type": "markdown",
   "metadata": {},
   "source": [
    "**참고**\n",
    "\n",
    "아래 내용은 차후 번역될 예정임."
   ]
  },
  {
   "cell_type": "markdown",
   "metadata": {},
   "source": [
    "When you write an arithmetic expression such as B \\* C, the form of the\n",
    "expression provides you with information so that you can interpret it\n",
    "correctly. In this case we know that the variable B is being multiplied\n",
    "by the variable C since the multiplication operator \\* appears between\n",
    "them in the expression. This type of notation is referred to as\n",
    "**infix** since the operator is *in between* the two operands that it is\n",
    "working on.\n",
    "\n",
    "Consider another infix example, A + B \\* C. The operators + and \\* still\n",
    "appear between the operands, but there is a problem. Which operands do\n",
    "they work on? Does the + work on A and B or does the \\* take B and C?\n",
    "The expression seems ambiguous.\n",
    "\n",
    "In fact, you have been reading and writing these types of expressions\n",
    "for a long time and they do not cause you any problem. The reason for\n",
    "this is that you know something about the operators + and \\*. Each\n",
    "operator has a **precedence** level. Operators of higher precedence are\n",
    "used before operators of lower precedence. The only thing that can\n",
    "change that order is the presence of parentheses. The precedence order\n",
    "for arithmetic operators places multiplication and division above\n",
    "addition and subtraction. If two operators of equal precedence appear,\n",
    "then a left-to-right ordering or associativity is used.\n",
    "\n",
    "Let’s interpret the troublesome expression A + B \\* C using operator\n",
    "precedence. B and C are multiplied first, and A is then added to that\n",
    "result. (A + B) \\* C would force the addition of A and B to be done\n",
    "first before the multiplication. In expression A + B + C, by precedence\n",
    "(via associativity), the leftmost + would be done first."
   ]
  },
  {
   "cell_type": "markdown",
   "metadata": {},
   "source": [
    "Although all this may be obvious to you, remember that computers need to\n",
    "know exactly what operators to perform and in what order. One way to\n",
    "write an expression that guarantees there will be no confusion with\n",
    "respect to the order of operations is to create what is called a **fully\n",
    "parenthesized** expression. This type of expression uses one pair of\n",
    "parentheses for each operator. The parentheses dictate the order of\n",
    "operations; there is no ambiguity. There is also no need to remember any\n",
    "precedence rules.\n",
    "\n",
    "The expression A + B \\* C + D can be rewritten as ((A + (B \\* C)) + D)\n",
    "to show that the multiplication happens first, followed by the leftmost\n",
    "addition. A + B + C + D can be written as (((A + B) + C) + D) since the\n",
    "addition operations associate from left to right.\n",
    "\n",
    "There are two other very important expression formats that may not seem\n",
    "obvious to you at first. Consider the infix expression A + B. What would\n",
    "happen if we moved the operator before the two operands? The resulting\n",
    "expression would be + A B. Likewise, we could move the operator to the\n",
    "end. We would get A B +. These look a bit strange.\n",
    "\n",
    "These changes to the position of the operator with respect to the\n",
    "operands create two new expression formats, **prefix** and **postfix**.\n",
    "Prefix expression notation requires that all operators precede the two\n",
    "operands that they work on. Postfix, on the other hand, requires that\n",
    "its operators come after the corresponding operands. A few more examples\n",
    "should help to make this a bit clearer (see :ref:`Table 2 <tbl_example1>`).\n",
    "\n",
    "A + B \\* C would be written as + A \\* B C in prefix. The multiplication\n",
    "operator comes immediately before the operands B and C, denoting that \\*\n",
    "has precedence over +. The addition operator then appears before the A\n",
    "and the result of the multiplication.\n",
    "\n",
    "In postfix, the expression would be A B C \\* +. Again, the order of\n",
    "operations is preserved since the \\* appears immediately after the B and\n",
    "the C, denoting that \\* has precedence, with + coming after. Although\n",
    "the operators moved and now appear either before or after their\n",
    "respective operands, the order of the operands stayed exactly the same\n",
    "relative to one another."
   ]
  },
  {
   "cell_type": "markdown",
   "metadata": {},
   "source": [
    "**Table 2: Examples of Infix, Prefix, and Postfix**"
   ]
  },
  {
   "cell_type": "markdown",
   "metadata": {},
   "source": [
    "    ============================ ======================= ========================\n",
    "            **Infix Expression**   **Prefix Expression**   **Postfix Expression**\n",
    "    ============================ ======================= ========================\n",
    "                           A + B                  \\+ A B                    A B +\n",
    "                      A + B \\* C             \\+ A \\* B C               A B C \\* +\n",
    "    ============================ ======================= ========================"
   ]
  },
  {
   "cell_type": "markdown",
   "metadata": {},
   "source": [
    "Now consider the infix expression (A + B) \\* C. Recall that in this\n",
    "case, infix requires the parentheses to force the performance of the\n",
    "addition before the multiplication. However, when A + B was written in\n",
    "prefix, the addition operator was simply moved before the operands, + A\n",
    "B. The result of this operation becomes the first operand for the\n",
    "multiplication. The multiplication operator is moved in front of the\n",
    "entire expression, giving us \\* + A B C. Likewise, in postfix A B +\n",
    "forces the addition to happen first. The multiplication can be done to\n",
    "that result and the remaining operand C. The proper postfix expression\n",
    "is then A B + C \\*.\n",
    "\n",
    "Consider these three expressions again (see :ref:`Table 3 <tbl_parexample>`).\n",
    "Something very important has happened. Where did the parentheses go? Why\n",
    "don’t we need them in prefix and postfix? The answer is that the\n",
    "operators are no longer ambiguous with respect to the operands that they\n",
    "work on. Only infix notation requires the additional symbols. The order\n",
    "of operations within prefix and postfix expressions is completely\n",
    "determined by the position of the operator and nothing else. In many\n",
    "ways, this makes infix the least desirable notation to use."
   ]
  },
  {
   "cell_type": "markdown",
   "metadata": {},
   "source": [
    "**Table 3: An Expression with Parentheses**"
   ]
  },
  {
   "cell_type": "markdown",
   "metadata": {},
   "source": [
    "    ============================ ======================= ========================\n",
    "            **Infix Expression**   **Prefix Expression**   **Postfix Expression**\n",
    "    ============================ ======================= ========================\n",
    "                    (A + B) \\* C              \\* + A B C               A B + C \\*\n",
    "    ============================ ======================= ========================"
   ]
  },
  {
   "cell_type": "markdown",
   "metadata": {},
   "source": [
    ":ref:`Table 4 <tbl_example3>` shows some additional examples of infix expressions and\n",
    "the equivalent prefix and postfix expressions. Be sure that you\n",
    "understand how they are equivalent in terms of the order of the\n",
    "operations being performed."
   ]
  },
  {
   "cell_type": "markdown",
   "metadata": {},
   "source": [
    "**Table 4: Additional Examples of Infix, Prefix, and Postfix**"
   ]
  },
  {
   "cell_type": "markdown",
   "metadata": {},
   "source": [
    "    ============================ ======================= ========================\n",
    "            **Infix Expression**   **Prefix Expression**   **Postfix Expression**\n",
    "    ============================ ======================= ========================\n",
    "                  A + B \\* C + D        \\+ \\+ A \\* B C D           A B C \\* + D +\n",
    "              (A + B) \\* (C + D)          \\* + A B + C D           A B + C D + \\*\n",
    "                 A \\* B + C \\* D        \\+ \\* A B \\* C D          A B \\* C D \\* +\n",
    "                   A + B + C + D          \\+ + + A B C D            A B + C + D +\n",
    "    ============================ ======================= ========================"
   ]
  },
  {
   "cell_type": "markdown",
   "metadata": {},
   "source": [
    "### Conversion of Infix Expressions to Prefix and Postfix"
   ]
  },
  {
   "cell_type": "markdown",
   "metadata": {},
   "source": [
    "So far, we have used ad hoc methods to convert between infix expressions\n",
    "and the equivalent prefix and postfix expression notations. As you might\n",
    "expect, there are algorithmic ways to perform the conversion that allow\n",
    "any expression of any complexity to be correctly transformed.\n",
    "\n",
    "The first technique that we will consider uses the notion of a fully\n",
    "parenthesized expression that was discussed earlier. Recall that A + B\n",
    "\\* C can be written as (A + (B \\* C)) to show explicitly that the\n",
    "multiplication has precedence over the addition. On closer observation,\n",
    "however, you can see that each parenthesis pair also denotes the\n",
    "beginning and the end of an operand pair with the corresponding operator\n",
    "in the middle.\n",
    "\n",
    "Look at the right parenthesis in the subexpression (B \\* C) above. If we\n",
    "were to move the multiplication symbol to that position and remove the\n",
    "matching left parenthesis, giving us B C \\*, we would in effect have\n",
    "converted the subexpression to postfix notation. If the addition\n",
    "operator were also moved to its corresponding right parenthesis position\n",
    "and the matching left parenthesis were removed, the complete postfix\n",
    "expression would result (see :ref:`Figure 6 <fig_moveright>`)."
   ]
  },
  {
   "cell_type": "markdown",
   "metadata": {},
   "source": [
    "    .. figure:: Figures/moveright.png\n",
    "       :align: center\n",
    "\n",
    "       Figure 6: Moving Operators to the Right for Postfix Notation"
   ]
  },
  {
   "cell_type": "markdown",
   "metadata": {},
   "source": [
    "If we do the same thing but instead of moving the symbol to the position\n",
    "of the right parenthesis, we move it to the left, we get prefix notation\n",
    "(see :ref:`Figure 7 <fig_moveleft>`). The position of the parenthesis pair is\n",
    "actually a clue to the final position of the enclosed operator."
   ]
  },
  {
   "cell_type": "markdown",
   "metadata": {},
   "source": [
    "    .. figure:: Figures/moveleft.png\n",
    "       :align: center\n",
    "\n",
    "       Figure 7: Moving Operators to the Left for Prefix Notation"
   ]
  },
  {
   "cell_type": "markdown",
   "metadata": {},
   "source": [
    "So in order to convert an expression, no matter how complex, to either\n",
    "prefix or postfix notation, fully parenthesize the expression using the\n",
    "order of operations. Then move the enclosed operator to the position of\n",
    "either the left or the right parenthesis depending on whether you want\n",
    "prefix or postfix notation.\n",
    "\n",
    "Here is a more complex expression: (A + B) \\* C - (D - E) \\* (F + G).\n",
    ":ref:`Figure 8 <fig_complexmove>` shows the conversion to postfix and prefix\n",
    "notations."
   ]
  },
  {
   "cell_type": "markdown",
   "metadata": {},
   "source": [
    "    .. figure:: Figures/complexmove.png\n",
    "       :align: center\n",
    "\n",
    "       Figure 8: Converting a Complex Expression to Prefix and Postfix Notations"
   ]
  },
  {
   "cell_type": "markdown",
   "metadata": {},
   "source": [
    "### General Infix-to-Postfix Conversion"
   ]
  },
  {
   "cell_type": "markdown",
   "metadata": {},
   "source": [
    "We need to develop an algorithm to convert any infix expression to a\n",
    "postfix expression. To do this we will look closer at the conversion\n",
    "process.\n",
    "\n",
    "Consider once again the expression A + B \\* C. As shown above,\n",
    "A B C \\* + is the postfix equivalent. We have already noted that the\n",
    "operands A, B, and C stay in their relative positions. It is only the\n",
    "operators that change position. Let’s look again at the operators in the\n",
    "infix expression. The first operator that appears from left to right is\n",
    "+. However, in the postfix expression, + is at the end since the next\n",
    "operator, \\*, has precedence over addition. The order of the operators\n",
    "in the original expression is reversed in the resulting postfix\n",
    "expression.\n",
    "\n",
    "As we process the expression, the operators have to be saved somewhere\n",
    "since their corresponding right operands are not seen yet. Also, the\n",
    "order of these saved operators may need to be reversed due to their\n",
    "precedence. This is the case with the addition and the multiplication in\n",
    "this example. Since the addition operator comes before the\n",
    "multiplication operator and has lower precedence, it needs to appear\n",
    "after the multiplication operator is used. Because of this reversal of\n",
    "order, it makes sense to consider using a stack to keep the operators\n",
    "until they are needed."
   ]
  },
  {
   "cell_type": "markdown",
   "metadata": {},
   "source": [
    "What about (A + B) \\* C? Recall that A B + C \\* is the postfix\n",
    "equivalent. Again, processing this infix expression from left to right,\n",
    "we see + first. In this case, when we see \\*, + has already been placed\n",
    "in the result expression because it has precedence over \\* by virtue of\n",
    "the parentheses. We can now start to see how the conversion algorithm\n",
    "will work. When we see a left parenthesis, we will save it to denote\n",
    "that another operator of high precedence will be coming. That operator\n",
    "will need to wait until the corresponding right parenthesis appears to\n",
    "denote its position (recall the fully parenthesized technique). When\n",
    "that right parenthesis does appear, the operator can be popped from the\n",
    "stack.\n",
    "\n",
    "As we scan the infix expression from left to right, we will use a stack\n",
    "to keep the operators. This will provide the reversal that we noted in\n",
    "the first example. The top of the stack will always be the most recently\n",
    "saved operator. Whenever we read a new operator, we will need to\n",
    "consider how that operator compares in precedence with the operators, if\n",
    "any, already on the stack.\n",
    "\n",
    "Assume the infix expression is a string of tokens delimited by spaces.\n",
    "The operator tokens are \\*, /, +, and -, along with the left and right\n",
    "parentheses, ( and ). The operand tokens are the single-character\n",
    "identifiers A, B, C, and so on. The following steps will produce a\n",
    "string of tokens in postfix order."
   ]
  },
  {
   "cell_type": "markdown",
   "metadata": {},
   "source": [
    "1. Create an empty stack called ``op_stack`` for keeping operators.\n",
    "   Create an empty list for output.\n",
    "\n",
    "1. Convert the input infix string to a list by using the string method\n",
    "   ``split``.\n",
    "\n",
    "1. Scan the token list from left to right.\n",
    "\n",
    "   -  If the token is an operand, append it to the end of the output\n",
    "      list.\n",
    "\n",
    "   -  If the token is a left parenthesis, push it on the ``op_stack``.\n",
    "\n",
    "   -  If the token is a right parenthesis, pop the ``op_stack`` until the\n",
    "      corresponding left parenthesis is removed. Append each operator to\n",
    "      the end of the output list.\n",
    "\n",
    "   -  If the token is an operator, \\*, /, +, or -, push it on the\n",
    "      ``op_stack``. However, first remove any operators already on the\n",
    "      ``op_stack`` that have higher or equal precedence and append them\n",
    "      to the output list.\n",
    "\n",
    "1. When the input expression has been completely processed, check the\n",
    "   ``op_stack``. Any operators still on the stack can be removed and\n",
    "   appended to the end of the output list."
   ]
  },
  {
   "cell_type": "markdown",
   "metadata": {},
   "source": [
    ":ref:`Figure 9 <fig_intopost>` shows the conversion algorithm working on the\n",
    "expression A \\* B + C \\* D. Note that the first \\* operator is removed\n",
    "upon seeing the + operator. Also, + stays on the stack when the second\n",
    "\\* occurs, since multiplication has precedence over addition. At the end\n",
    "of the infix expression the stack is popped twice, removing both\n",
    "operators and placing + as the last operator in the postfix expression."
   ]
  },
  {
   "cell_type": "markdown",
   "metadata": {},
   "source": [
    "    .. figure:: Figures/intopost.png\n",
    "       :align: center\n",
    "\n",
    "       Figure 9: Converting A \\* B + C \\* D to Postfix Notation"
   ]
  },
  {
   "cell_type": "markdown",
   "metadata": {},
   "source": [
    "In order to code the algorithm in Python, we will use a dictionary\n",
    "called ``prec`` to hold the precedence values for the operators. This\n",
    "dictionary will map each operator to an integer that can be compared\n",
    "against the precedence levels of other operators (we have arbitrarily\n",
    "used the integers 3, 2, and 1). The left parenthesis will receive the\n",
    "lowest value possible. This way any operator that is compared against it\n",
    "will have higher precedence and will be placed on top of it.\n",
    "Line 15 defines the operands to be any upper-case character or digit.\n",
    "The complete conversion function is\n",
    "shown in :ref:`ActiveCode 1 <lst_intopost>`."
   ]
  },
  {
   "cell_type": "markdown",
   "metadata": {},
   "source": [
    "    :caption: Converting Infix Expressions to Postfix Expressions\n",
    "    :nocodelens:"
   ]
  },
  {
   "cell_type": "code",
   "execution_count": 1,
   "metadata": {},
   "outputs": [
    {
     "ename": "NameError",
     "evalue": "name 'Stack' is not defined",
     "output_type": "error",
     "traceback": [
      "\u001b[1;31m---------------------------------------------------------------------------\u001b[0m",
      "\u001b[1;31mNameError\u001b[0m                                 Traceback (most recent call last)",
      "Cell \u001b[1;32mIn [1], line 32\u001b[0m\n\u001b[0;32m     28\u001b[0m         postfix_list\u001b[38;5;241m.\u001b[39mappend(op_stack\u001b[38;5;241m.\u001b[39mpop())\n\u001b[0;32m     30\u001b[0m     \u001b[38;5;28;01mreturn\u001b[39;00m \u001b[38;5;124m\"\u001b[39m\u001b[38;5;124m \u001b[39m\u001b[38;5;124m\"\u001b[39m\u001b[38;5;241m.\u001b[39mjoin(postfix_list)\n\u001b[1;32m---> 32\u001b[0m \u001b[38;5;28mprint\u001b[39m(\u001b[43minfix_to_postfix\u001b[49m\u001b[43m(\u001b[49m\u001b[38;5;124;43m\"\u001b[39;49m\u001b[38;5;124;43mA * B + C * D\u001b[39;49m\u001b[38;5;124;43m\"\u001b[39;49m\u001b[43m)\u001b[49m)\n\u001b[0;32m     33\u001b[0m \u001b[38;5;28mprint\u001b[39m(infix_to_postfix(\u001b[38;5;124m\"\u001b[39m\u001b[38;5;124m( A + B ) * C - ( D - E ) * ( F + G )\u001b[39m\u001b[38;5;124m\"\u001b[39m))\n",
      "Cell \u001b[1;32mIn [1], line 8\u001b[0m, in \u001b[0;36minfix_to_postfix\u001b[1;34m(infix_expr)\u001b[0m\n\u001b[0;32m      6\u001b[0m prec[\u001b[38;5;124m\"\u001b[39m\u001b[38;5;124m-\u001b[39m\u001b[38;5;124m\"\u001b[39m] \u001b[38;5;241m=\u001b[39m \u001b[38;5;241m2\u001b[39m\n\u001b[0;32m      7\u001b[0m prec[\u001b[38;5;124m\"\u001b[39m\u001b[38;5;124m(\u001b[39m\u001b[38;5;124m\"\u001b[39m] \u001b[38;5;241m=\u001b[39m \u001b[38;5;241m1\u001b[39m\n\u001b[1;32m----> 8\u001b[0m op_stack \u001b[38;5;241m=\u001b[39m \u001b[43mStack\u001b[49m()\n\u001b[0;32m      9\u001b[0m postfix_list \u001b[38;5;241m=\u001b[39m []\n\u001b[0;32m     10\u001b[0m token_list \u001b[38;5;241m=\u001b[39m infix_expr\u001b[38;5;241m.\u001b[39msplit()\n",
      "\u001b[1;31mNameError\u001b[0m: name 'Stack' is not defined"
     ]
    }
   ],
   "source": [
    "def infix_to_postfix(infix_expr):\n",
    "    prec = {}\n",
    "    prec[\"*\"] = 3\n",
    "    prec[\"/\"] = 3\n",
    "    prec[\"+\"] = 2\n",
    "    prec[\"-\"] = 2\n",
    "    prec[\"(\"] = 1\n",
    "    op_stack = Stack()\n",
    "    postfix_list = []\n",
    "    token_list = infix_expr.split()\n",
    "\n",
    "    for token in token_list:\n",
    "        if token in \"ABCDEFGHIJKLMNOPQRSTUVWXYZ\" or token in \"0123456789\":\n",
    "            postfix_list.append(token)\n",
    "        elif token == \"(\":\n",
    "            op_stack.push(token)\n",
    "        elif token == \")\":\n",
    "            top_token = op_stack.pop()\n",
    "            while top_token != \"(\":\n",
    "                postfix_list.append(top_token)\n",
    "                top_token = op_stack.pop()\n",
    "        else:\n",
    "            while (not op_stack.is_empty()) and (prec[op_stack.peek()] >= prec[token]):\n",
    "                postfix_list.append(op_stack.pop())\n",
    "            op_stack.push(token)\n",
    "\n",
    "    while not op_stack.is_empty():\n",
    "        postfix_list.append(op_stack.pop())\n",
    "\n",
    "    return \" \".join(postfix_list)\n",
    "\n",
    "print(infix_to_postfix(\"A * B + C * D\"))\n",
    "print(infix_to_postfix(\"( A + B ) * C - ( D - E ) * ( F + G )\"))"
   ]
  },
  {
   "cell_type": "markdown",
   "metadata": {},
   "source": [
    "A few more examples of execution in the Python shell are shown below."
   ]
  },
  {
   "cell_type": "markdown",
   "metadata": {},
   "source": [
    "```python\n",
    ">>> infix_to_postfix(\"( A + B ) * ( C + D )\")\n",
    "'A B + C D + *'\n",
    ">>> infix_to_postfix(\"( A + B ) * C\")\n",
    "'A B + C *'\n",
    ">>> infix_to_postfix(\"A + B * C\")\n",
    "'A B C * +'\n",
    ">>>\n",
    "```"
   ]
  },
  {
   "cell_type": "markdown",
   "metadata": {},
   "source": [
    "### Postfix Evaluation"
   ]
  },
  {
   "cell_type": "markdown",
   "metadata": {},
   "source": [
    "As a final stack example, we will consider the evaluation of an\n",
    "expression that is already in postfix notation. In this case, a stack is\n",
    "again the data structure of choice. However, as you scan the postfix\n",
    "expression, it is the operands that must wait, not the operators as in\n",
    "the conversion algorithm above. Another way to think about the solution\n",
    "is that whenever an operator is seen on the input, the two most recent\n",
    "operands will be used in the evaluation.\n",
    "\n",
    "To see this in more detail, consider the postfix expression\n",
    "``4 5 6 * +``. As you scan the expression from left to right, you first\n",
    "encounter the operands 4 and 5. At this point, you are still unsure what\n",
    "to do with them until you see the next symbol. Placing each on the stack\n",
    "ensures that they are available if an operator comes next.\n",
    "\n",
    "In this case, the next symbol is another operand. So, as before, push it\n",
    "and check the next symbol. Now we see an operator, \\*. This means that\n",
    "the two most recent operands need to be used in a multiplication\n",
    "operation. By popping the stack twice, we can get the proper operands\n",
    "and then perform the multiplication (in this case getting the result\n",
    "30).\n",
    "\n",
    "We can now handle this result by placing it back on the stack so that it\n",
    "can be used as an operand for the later operators in the expression.\n",
    "When the final operator is processed, there will be only one value left\n",
    "on the stack. Pop and return it as the result of the expression.\n",
    ":ref:`Figure 10 <fig_evalpost1>` shows the stack contents as this entire example\n",
    "expression is being processed."
   ]
  },
  {
   "cell_type": "markdown",
   "metadata": {},
   "source": [
    "    .. figure:: Figures/evalpostfix1.png\n",
    "       :align: center\n",
    "\n",
    "       Figure 10: Stack Contents During Evaluation"
   ]
  },
  {
   "cell_type": "markdown",
   "metadata": {},
   "source": [
    ":ref:`Figure 11 <fig_evalpost2>` shows a slightly more complex example, 7 8 + 3 2\n",
    "+ /. There are two things to note in this example. First, the stack size\n",
    "grows, shrinks, and then grows again as the subexpressions are\n",
    "evaluated. Second, the division operation needs to be handled carefully.\n",
    "Recall that the operands in the postfix expression are in their original\n",
    "order since postfix changes only the placement of operators. When the\n",
    "operands for the division are popped from the stack, they are reversed.\n",
    "Since division is *not* a commutative operator, in other words\n",
    ":math:`15/5` is not the same as :math:`5/15`, we must be sure that\n",
    "the order of the operands is not switched."
   ]
  },
  {
   "cell_type": "markdown",
   "metadata": {},
   "source": [
    "    .. figure:: Figures/evalpostfix2.png\n",
    "       :align: center\n",
    "\n",
    "       Figure 11: A More Complex Example of Evaluation"
   ]
  },
  {
   "cell_type": "markdown",
   "metadata": {},
   "source": [
    "Assume the postfix expression is a string of tokens delimited by spaces.\n",
    "The operators are \\*, /, +, and - and the operands are assumed to be\n",
    "single-digit integer values. The output will be an integer result."
   ]
  },
  {
   "cell_type": "markdown",
   "metadata": {},
   "source": [
    "1. Create an empty stack called ``operand_stack``.\n",
    "\n",
    "1. Convert the string to a list by using the string method ``split``.\n",
    "\n",
    "1. Scan the token list from left to right.\n",
    "\n",
    "   -  If the token is an operand, convert it from a string to an integer\n",
    "      and push the value onto the ``operand_stack``.\n",
    "\n",
    "   -  If the token is an operator, \\*, /, +, or -, it will need two\n",
    "      operands. Pop the ``operand_stack`` twice. The first pop is the\n",
    "      second operand and the second pop is the first operand. Perform\n",
    "      the arithmetic operation. Push the result back on the\n",
    "      ``operand_stack``.\n",
    "\n",
    "1. When the input expression has been completely processed, the result\n",
    "   is on the stack. Pop the ``operand_stack`` and return the value."
   ]
  },
  {
   "cell_type": "markdown",
   "metadata": {},
   "source": [
    "The complete function for the evaluation of postfix expressions is shown\n",
    "in :ref:`ActiveCode 2 <lst_postfixeval>`. To assist with the arithmetic, a helper\n",
    "function ``do_math`` is defined that will take two operands and an\n",
    "operator and then perform the proper arithmetic operation."
   ]
  },
  {
   "cell_type": "markdown",
   "metadata": {},
   "source": [
    "    .. activecode:: postfixeval\n",
    "        :caption: Postfix Evaluation\n",
    "        :nocodelens:"
   ]
  },
  {
   "cell_type": "code",
   "execution_count": 2,
   "metadata": {},
   "outputs": [
    {
     "ename": "NameError",
     "evalue": "name 'Stack' is not defined",
     "output_type": "error",
     "traceback": [
      "\u001b[1;31m---------------------------------------------------------------------------\u001b[0m",
      "\u001b[1;31mNameError\u001b[0m                                 Traceback (most recent call last)",
      "Cell \u001b[1;32mIn [2], line 27\u001b[0m\n\u001b[0;32m     23\u001b[0m     \u001b[38;5;28;01melse\u001b[39;00m:\n\u001b[0;32m     24\u001b[0m         \u001b[38;5;28;01mreturn\u001b[39;00m op1 \u001b[38;5;241m-\u001b[39m op2\n\u001b[1;32m---> 27\u001b[0m \u001b[38;5;28mprint\u001b[39m(\u001b[43mpostfix_eval\u001b[49m\u001b[43m(\u001b[49m\u001b[38;5;124;43m\"\u001b[39;49m\u001b[38;5;124;43m7 8 + 3 2 + /\u001b[39;49m\u001b[38;5;124;43m\"\u001b[39;49m\u001b[43m)\u001b[49m)\n",
      "Cell \u001b[1;32mIn [2], line 2\u001b[0m, in \u001b[0;36mpostfix_eval\u001b[1;34m(postfix_expr)\u001b[0m\n\u001b[0;32m      1\u001b[0m \u001b[38;5;28;01mdef\u001b[39;00m \u001b[38;5;21mpostfix_eval\u001b[39m(postfix_expr):\n\u001b[1;32m----> 2\u001b[0m     operand_stack \u001b[38;5;241m=\u001b[39m \u001b[43mStack\u001b[49m()\n\u001b[0;32m      3\u001b[0m     token_list \u001b[38;5;241m=\u001b[39m postfix_expr\u001b[38;5;241m.\u001b[39msplit()\n\u001b[0;32m      5\u001b[0m     \u001b[38;5;28;01mfor\u001b[39;00m token \u001b[38;5;129;01min\u001b[39;00m token_list:\n",
      "\u001b[1;31mNameError\u001b[0m: name 'Stack' is not defined"
     ]
    }
   ],
   "source": [
    "def postfix_eval(postfix_expr):\n",
    "    operand_stack = Stack()\n",
    "    token_list = postfix_expr.split()\n",
    "\n",
    "    for token in token_list:\n",
    "        if token in \"0123456789\":\n",
    "            operand_stack.push(int(token))\n",
    "        else:\n",
    "            operand2 = operand_stack.pop()\n",
    "            operand1 = operand_stack.pop()\n",
    "            result = do_math(token, operand1, operand2)\n",
    "            operand_stack.push(result)\n",
    "    return operand_stack.pop()\n",
    "\n",
    "\n",
    "def do_math(op, op1, op2):\n",
    "    if op == \"*\":\n",
    "        return op1 * op2\n",
    "    elif op == \"/\":\n",
    "        return op1 / op2\n",
    "    elif op == \"+\":\n",
    "        return op1 + op2\n",
    "    else:\n",
    "        return op1 - op2\n",
    "\n",
    "\n",
    "print(postfix_eval(\"7 8 + 3 2 + /\"))"
   ]
  },
  {
   "cell_type": "markdown",
   "metadata": {},
   "source": [
    "It is important to note that in both the postfix conversion and the\n",
    "postfix evaluation programs we assumed that there were no errors in the\n",
    "input expression. Using these programs as a starting point, you can\n",
    "easily see how error detection and reporting can be included. We leave\n",
    "this as an exercise at the end of the chapter."
   ]
  },
  {
   "cell_type": "markdown",
   "metadata": {},
   "source": [
    "__Self Check__"
   ]
  },
  {
   "cell_type": "markdown",
   "metadata": {},
   "source": [
    "Q-3: Without using the activecode ``infix_to_postfix`` function, convert the following expression to postfix  ``10 + 3 * 5 / (16 - 4)``."
   ]
  },
  {
   "cell_type": "markdown",
   "metadata": {},
   "source": [
    "Q-4: What is the result of evaluating the following: ``17 10 + 3 * 9 / ==`` ?\n",
    "\n",
    "정답: 9"
   ]
  },
  {
   "cell_type": "markdown",
   "metadata": {},
   "source": [
    "Q-5: Modify the ``infix_to_postfix`` function so that it can convert the following expression:  ``5 * 3 ** (4 - 2)``. Run the function on the expression and paste the answer here"
   ]
  },
  {
   "cell_type": "markdown",
   "metadata": {},
   "source": [
    "    .. youtube:: LO-2q4pSsdM\n",
    "        :divid: video_Stack3\n",
    "        :height: 315\n",
    "        :width: 560\n",
    "        :align: left"
   ]
  },
  {
   "cell_type": "markdown",
   "metadata": {},
   "source": [
    "## 연습 문제"
   ]
  },
  {
   "cell_type": "markdown",
   "metadata": {},
   "source": [
    "1. Convert the following infix expressions to prefix (use full\n",
    "   parentheses):\n",
    "\n",
    "   -  (A+B)\\*(C+D)\\*(E+F)\n",
    "\n",
    "   -  A+((B+C)\\*(D+E))\n",
    "\n",
    "   -  A\\*B\\*C\\*D+E+F\n",
    "\n",
    "1. Convert the above infix expressions to postfix (use full\n",
    "   parentheses).\n",
    "\n",
    "1. Convert the above infix expressions to postfix using the direct\n",
    "   conversion algorithm. Show the stack as the conversion takes place.\n",
    "\n",
    "1. Evaluate the following postfix expressions. Show the stack as each\n",
    "   operand and operator is processed.\n",
    "\n",
    "   -  2 3 \\* 4 +\n",
    "\n",
    "   -  1 2 + 3 + 4 + 5 +\n",
    "\n",
    "   -  1 2 3 4 5 \\* + \\* +"
   ]
  },
  {
   "cell_type": "markdown",
   "metadata": {},
   "source": [
    "**전위, 중위, 후위 표기법**"
   ]
  },
  {
   "cell_type": "markdown",
   "metadata": {},
   "source": [
    "1. Modify the infix-to-postfix algorithm so that it can handle errors.\n",
    "\n",
    "1. Modify the postfix evaluation algorithm so that it can handle errors.\n",
    "\n",
    "1. Implement a direct infix evaluator that combines the functionality of\n",
    "   infix-to-postfix conversion and the postfix evaluation algorithm.\n",
    "   Your evaluator should process infix tokens from left to right and use\n",
    "   two stacks, one for operators and one for operands, to perform the\n",
    "   evaluation.\n",
    "\n",
    "1. Turn your direct infix evaluator from the previous problem into a\n",
    "   calculator."
   ]
  }
 ],
 "metadata": {
  "kernelspec": {
   "display_name": "Python 3.9.12 ('base')",
   "language": "python",
   "name": "python3"
  },
  "language_info": {
   "codemirror_mode": {
    "name": "ipython",
    "version": 3
   },
   "file_extension": ".py",
   "mimetype": "text/x-python",
   "name": "python",
   "nbconvert_exporter": "python",
   "pygments_lexer": "ipython3",
   "version": "3.10.6"
  },
  "vscode": {
   "interpreter": {
    "hash": "ad0f3c8a064f687cbf898a0868fd45ba1c7e928ac8a0404f7c241d812ddc1e76"
   }
  }
 },
 "nbformat": 4,
 "nbformat_minor": 4
}