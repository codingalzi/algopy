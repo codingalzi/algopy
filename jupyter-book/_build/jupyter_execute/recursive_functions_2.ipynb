{
 "cells": [
  {
   "cell_type": "markdown",
   "metadata": {},
   "source": [
    "(sec:recursive_functions_2)=\n",
    "# 재귀 시각화"
   ]
  },
  {
   "cell_type": "markdown",
   "metadata": {},
   "source": [
    "**슬라이드**\n",
    "\n",
    "본문 내용을 요약한 [슬라이드](https://github.com/codingalzi/algopy/raw/master/slides/slides-recursive_functions.pdf)를 다운로드할 수 있다."
   ]
  },
  {
   "cell_type": "markdown",
   "metadata": {},
   "source": [
    "**주요 내용**"
   ]
  },
  {
   "cell_type": "markdown",
   "metadata": {},
   "source": [
    "- 재귀 시각화\n",
    "- 꼬리 재귀 일반화"
   ]
  },
  {
   "cell_type": "markdown",
   "metadata": {},
   "source": [
    "## 재귀 시각화"
   ]
  },
  {
   "cell_type": "markdown",
   "metadata": {},
   "source": [
    "재귀를 이해하기 위해 재귀 알고리즘의 작동과정을 시각화햅보자.\n",
    "시각화를 위해 `turtle` 모듈을 이용한다.\n",
    "예를 들어, `draw_spiral()` 함수는 아래 그림과 같은 소용돌이를 그린다.\n",
    "\n",
    "**주의사항**: `turtle` 모듈을 사용하는 코드를 주피터 노트북 또는 구글 코랩에서 실행하려면\n",
    "특별한 모듈을 설치해야 한다. \n",
    "여기서는 대신에 개인 피씨 환경 또는 Repl.it 사이트에서 코드를 실행할 것을 권장한다.\n",
    "이런 이유로 이어지는 코드는 텍스트셀로 제공된다."
   ]
  },
  {
   "cell_type": "markdown",
   "metadata": {},
   "source": [
    "---\n",
    "```python\n",
    "import turtle\n",
    "\n",
    "def draw_spiral(my_turtle, line_len):\n",
    "    if line_len > 0:\n",
    "        my_turtle.forward(line_len)\n",
    "        my_turtle.right(90)\n",
    "        draw_spiral(my_turtle, line_len - 5)\n",
    "\n",
    "\n",
    "my_turtle = turtle.Turtle()\n",
    "my_win = turtle.Screen()\n",
    "draw_spiral(my_turtle, 100)\n",
    "my_win.exitonclick()\n",
    "```\n",
    "---"
   ]
  },
  {
   "cell_type": "markdown",
   "metadata": {},
   "source": [
    "<figure>\n",
    "<div align=\"center\"><img src=\"https://raw.githubusercontent.com/codingalzi/algopy/master/notebooks/_images/draw_spiral.png\" width=\"35%\"></div>\n",
    "</figure>"
   ]
  },
  {
   "cell_type": "markdown",
   "metadata": {},
   "source": [
    "**예제: 프랙탈 트리**"
   ]
  },
  {
   "cell_type": "markdown",
   "metadata": {},
   "source": [
    "아래 이미지처럼 아무리 확대하더라도 항상 동일한 구조를 보여주는 사물이 **프랙탈**(fractal)이다."
   ]
  },
  {
   "cell_type": "markdown",
   "metadata": {},
   "source": [
    "<figure>\n",
    "<div align=\"center\"><img src=\"https://raw.githubusercontent.com/codingalzi/algopy/master/notebooks/_images/mandelbrot_fractal.png\" width=\"70%\"></div>\n",
    "</figure>\n",
    "\n",
    "**참고**: [YouTube: 만델브로트 프랙탈 줌](https://www.youtube.com/watch?v=8cgp2WNNKmQ&ab_channel=MathsTown)"
   ]
  },
  {
   "cell_type": "markdown",
   "metadata": {},
   "source": [
    "프랙탈의 구조는 재귀와 매우 밀접한 관계를 갖는다.\n",
    "예를 들어, `tree()` 함수는 아래 모양의 프랙탈 트리를 그린다."
   ]
  },
  {
   "cell_type": "markdown",
   "metadata": {},
   "source": [
    "<figure>\n",
    "<div align=\"center\"><img src=\"https://raw.githubusercontent.com/codingalzi/algopy/master/notebooks/_images/fractal_tree_2.png\" width=\"35%\"></div>\n",
    "</figure>"
   ]
  },
  {
   "cell_type": "markdown",
   "metadata": {},
   "source": [
    "**참고**: [Repl.it: 프랙탈 트리](https://replit.com/@codingrg/fractaltree)에서\n",
    "실행할 수 있다.\n",
    "[pythonds3: 5.7 Introduction: Visualizing Recursion](https://runestone.academy/runestone/books/published/pythonds3/Recursion/pythondsintro-VisualizingRecursion.html)를 이용할 경우 `time.sleep()` 함수를 추가하여 천천히 실행되는 재귀 알고리즘의 작동을 살펴볼 수 있다."
   ]
  },
  {
   "cell_type": "markdown",
   "metadata": {},
   "source": [
    "---\n",
    "```python\n",
    "import turtle\n",
    "# import time                    # 주의: repl.it 사이트에서 오류 발생\n",
    "\n",
    "def tree(branch_len, t):\n",
    "    if branch_len > 5:           # 종료조건: branch_len <= 5\n",
    "        t.forward(branch_len)    # 전진\n",
    "        # time.sleep(1)          \n",
    "        t.right(20)              # 오른쪽 가지치기\n",
    "        tree(branch_len - 15, t)\n",
    "        t.left(40)               # 왼쪽 가지치기\n",
    "        tree(branch_len - 15, t)\n",
    "        t.right(20)              # 한 단계 후진\n",
    "        t.backward(branch_len)\n",
    "\n",
    "t = turtle.Turtle()\n",
    "my_win = turtle.Screen()\n",
    "t.left(90)\n",
    "t.up()\n",
    "t.backward(100)\n",
    "t.down()\n",
    "t.color(\"green\")\n",
    "tree(75, t)\n",
    "my_win.exitonclick()\n",
    "```\n",
    "---"
   ]
  },
  {
   "cell_type": "markdown",
   "metadata": {},
   "source": [
    "`tree()` 함수는 오른쪽 가지를 먼저 그리며, 이 과정을 최대한 멀리 진행한다.\n",
    "가지치기를 할 때마다 가지의 길이를 15씩 줄이며,\n",
    "그려야 할 가지의 길이가 5 이하일 때 가지치기를 멈춘다.\n",
    "아래 이미지는 가지의 길이를 처음에 75로 시작해서 5번 오른쪽 가지치기를 수행한 후 \n",
    "더 이상의 가지치기가 불가능한 상태를 보여준다."
   ]
  },
  {
   "cell_type": "markdown",
   "metadata": {},
   "source": [
    "<figure>\n",
    "<div align=\"center\"><img src=\"https://runestone.academy/runestone/books/published/pythonds3/_images/tree1.png\" width=\"45%\"></div>\n",
    "</figure>"
   ]
  },
  {
   "cell_type": "markdown",
   "metadata": {},
   "source": [
    "더 이상 오른쪽 가지치기가 불가능하면 뒤로 한 단계 후진한 다음에 왼쪽 가지치기를 진행한다.\n",
    "왼쪽 가지치기 이후 오른쪽 가지치가 가능하면 이를 먼저 수행한다.\n",
    "아래 이미지는 그려야할 프랙탈 트리의 절반을 그린 상태를 보여준다."
   ]
  },
  {
   "cell_type": "markdown",
   "metadata": {},
   "source": [
    "<figure>\n",
    "<div align=\"center\"><img src=\"https://runestone.academy/runestone/books/published/pythonds3/_images/tree2.png\" width=\"45%\"></div>\n",
    "</figure>"
   ]
  },
  {
   "cell_type": "markdown",
   "metadata": {},
   "source": [
    "## 꼬리 재귀 일반화"
   ]
  },
  {
   "cell_type": "markdown",
   "metadata": {},
   "source": [
    "리스트에 포함된 항목들의 합을 계산하는 `list_sum()`의 실행과정을 이해하기 \n",
    "위해 사용된 머리(head)와 꼬리(tail) 개념을 많은 재귀 알고리즘에 적용할 수 있다.\n",
    "\n",
    "프랙탈 트리의 경우 가지 하나를 그린 다음 가지치기가 이루어지며\n",
    "가지치기 이후에는 동일한 과정이 반복된다. \n",
    "다만, 좌우 각 가지에서 완성되는 프랙탈 트리는\n",
    "완성되어야 하는 전체 프랙탈 트리의 일부분을 담당한다.\n",
    "그려진 하나의 가지를 머리, 그려져야 하는 좌우 두 개의 가지를 두 개의 꼬리로\n",
    "이해할 수 있다. \n",
    "즉, 머리를 그린 다음에 나머지는 각각의 꼬리에 동일한 과제를 떠넘기는 과정의\n",
    "연속이 된다(아래 그림 참조)."
   ]
  },
  {
   "cell_type": "markdown",
   "metadata": {},
   "source": [
    "<figure>\n",
    "<div align=\"center\"><img src=\"https://raw.githubusercontent.com/codingalzi/algopy/master/notebooks/_images/fractal_tree_1.png\" width=\"35%\"></div>\n",
    "</figure>"
   ]
  },
  {
   "cell_type": "markdown",
   "metadata": {},
   "source": [
    "**예제: 시에르핀스키 삼각형<font size='2'>Sierpinski Triangle</font>**"
   ]
  },
  {
   "cell_type": "markdown",
   "metadata": {},
   "source": [
    "정삼각형을 4등분한 후에 가장자리에 위치한 세 개의 삼각형을 대상으로 4등분하는 과정을 무한반복하여\n",
    "얻어지는 삼각형이 **시에르핀스키**(Sierpinski) 삼각형이며 이 또한 프랙탈이다."
   ]
  },
  {
   "cell_type": "markdown",
   "metadata": {},
   "source": [
    "<figure>\n",
    "<div align=\"center\"><img src=\"https://raw.githubusercontent.com/codingalzi/algopy/master/notebooks/_images/sierpinski_triangle1.png\" width=\"50%\"></div>\n",
    "</figure>"
   ]
  },
  {
   "cell_type": "markdown",
   "metadata": {},
   "source": [
    "머리와 꼬리를 이용한 재귀 알고리즘의 이해는 시에르핀스키 삼각형을 이해할 때도 기본적으로 동일하게 적용된다.\n",
    "\n",
    "- 머리: 하나의 삼각형 그리기\n",
    "- 꼬리: 4등분 후 각 꼭지점에서 동일한 과정 반복하기. 즉, 3 개의 꼬리 사용.\n",
    "\n",
    "시에르핀스키 삼각형 그리기를 재귀 알고리즘으로 구현하면 다음과 같다.\n",
    "\n",
    "**참고**: [Repl.it: 시에르핀스키 삼각형](https://replit.com/@codingrg/sierpinskitriangle)에서\n",
    "실행할 수 있다.\n",
    "[pythonds3: 5.8 Sierpinski Triangle](https://runestone.academy/runestone/books/published/pythonds3/Recursion/pythondsSierpinskiTriangle.html)를 이용할 경우\n",
    "아래 코드에 `time.sleep()` 함수를 추가하여 천천히 실행되는 재귀 알고리즘의 작동을 살펴볼 수 있다."
   ]
  },
  {
   "cell_type": "markdown",
   "metadata": {},
   "source": [
    "---\n",
    "```python\n",
    "import turtle\n",
    "# import time                    # 주의: repl.it 사이트에서 오류 발생\n",
    "\n",
    "# 삼각형 그리기\n",
    "def draw_triangle(points, color, my_turtle):\n",
    "    my_turtle.fillcolor(color)\n",
    "    my_turtle.up()\n",
    "    my_turtle.goto(points[0][0], points[0][1])\n",
    "    my_turtle.down()\n",
    "    my_turtle.begin_fill()\n",
    "    my_turtle.goto(points[1][0], points[1][1])\n",
    "    my_turtle.goto(points[2][0], points[2][1])\n",
    "    my_turtle.goto(points[0][0], points[0][1])\n",
    "    my_turtle.end_fill()\n",
    "\n",
    "# 삼각형 4등분하기에 필요한 좌표 계산\n",
    "def get_mid(p1, p2):\n",
    "    return ((p1[0] + p2[0]) / 2, (p1[1] + p2[1]) / 2)\n",
    "\n",
    "# 시에르핀스키 함수\n",
    "def sierpinski(points, degree, my_turtle):\n",
    "    colormap = [\"blue\", \"red\", \"green\", \"white\", \"yellow\", \"violet\", \"orange\"]\n",
    "    draw_triangle(points, colormap[degree], my_turtle)\n",
    "\n",
    "    # time.sleep(1)\n",
    "\n",
    "    # 4등분하기\n",
    "    mid0 = get_mid(points[0], points[1])\n",
    "    mid1 = get_mid(points[1], points[2])\n",
    "    mid2 = get_mid(points[2], points[0])\n",
    "    \n",
    "    # 왼쪽 아래 -> 위 -> 오른쪽 아래 순으로 4등분하기를 재귀적으로 반복\n",
    "    if degree > 0:\n",
    "        sierpinski([points[0], mid0, mid2], degree - 1, my_turtle)\n",
    "        sierpinski([mid0, points[1], mid1], degree - 1, my_turtle)\n",
    "        sierpinski([mid2, mid1, points[2]], degree - 1, my_turtle)\n",
    "\n",
    "# 거북이로 시에르핀스키 삼각형 그리기(degree=4)\n",
    "my_turtle = turtle.Turtle()\n",
    "my_win = turtle.Screen()\n",
    "my_points = [[-180, -150], [0, 150], [180, -150]] # 첫 삼각형 좌표\n",
    "sierpinski(my_points, 4, my_turtle)               # 시에르핀스키 삼각형 그리기\n",
    "my_win.exitonclick()\n",
    "```\n",
    "---"
   ]
  },
  {
   "cell_type": "markdown",
   "metadata": {},
   "source": [
    "사용된 재귀 알고리즘은 가능한한 먼저 왼쪽 아래의 작은 삼각형을 대상으로 4등분하기를 반복한다.\n",
    "지정된 횟수(`degree`)만큼 반복하여 더 이상 4등분하기를 할 수 없을 때 위쪽(top)에 위치한\n",
    "삼각형을 대상으로 4등분하기를 반복하며,\n",
    "최종적으로 오른쪽 아래의 삼각형을 대상으로 삼는다."
   ]
  },
  {
   "cell_type": "markdown",
   "metadata": {},
   "source": [
    "<figure>\n",
    "<div align=\"center\"><img src=\"https://raw.githubusercontent.com/codingalzi/algopy/master/notebooks/_images/stCallTree.png\" width=\"50%\"></div>\n",
    "</figure>"
   ]
  },
  {
   "cell_type": "markdown",
   "metadata": {},
   "source": [
    "## 연습 문제"
   ]
  },
  {
   "cell_type": "markdown",
   "metadata": {},
   "source": [
    "1. [(실습) 재귀 시각화](https://colab.research.google.com/github/codingalzi/algopy/blob/master/excs/exc-recursive_functions_2.ipynb)"
   ]
  }
 ],
 "metadata": {
  "kernelspec": {
   "display_name": "Python 3 (ipykernel)",
   "language": "python",
   "name": "python3"
  },
  "language_info": {
   "codemirror_mode": {
    "name": "ipython",
    "version": 3
   },
   "file_extension": ".py",
   "mimetype": "text/x-python",
   "name": "python",
   "nbconvert_exporter": "python",
   "pygments_lexer": "ipython3",
   "version": "3.11.5"
  },
  "vscode": {
   "interpreter": {
    "hash": "6c86b3592b6800d985c04531f2c445f0fa6967131b8dd6395a925f7622e55602"
   }
  }
 },
 "nbformat": 4,
 "nbformat_minor": 4
}