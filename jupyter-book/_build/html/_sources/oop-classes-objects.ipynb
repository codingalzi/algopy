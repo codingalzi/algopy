{
 "cells": [
  {
   "cell_type": "markdown",
   "id": "3efee1fe",
   "metadata": {},
   "source": [
    "(ch:classes_instances_objects)=\n",
    "# 클래스, 인스턴스, 객체"
   ]
  },
  {
   "cell_type": "markdown",
   "id": "c40bc08a",
   "metadata": {},
   "source": [
    "**주요 내용**\n",
    "\n",
    "파이썬과 같은 객체 지향 프로그래밍 언어의 가장 큰 장점 중의 하나는\n",
    "필요한 자료형을 클래스로 정의하고 객체를 생성하여 활용할 수 있다는 점이다.\n",
    "\n",
    "여기서는 `fractions` 모듈에 포함된 [`Fraction` 클래스](https://docs.python.org/ko/3/library/fractions.html)를\n",
    "직접 정의하는 과정을 다루면서 클래스, 인스턴, 객체 개념을 소개한다. \n",
    "`Fraction` 클래스는 `1/2`, `2/7` 처럼 기약분수들의 자료형 역할을 수행하고\n",
    "분수들의 덧셈, 크기 비교 등을 지원하도록 할 것이다. "
   ]
  },
  {
   "cell_type": "markdown",
   "id": "2bf31c8c",
   "metadata": {},
   "source": [
    "**슬라이드**\n",
    "\n",
    "본문 내용을 요약한 [슬라이드](https://github.com/codingalzi/algopy/raw/master/slides/slides-oop-classes-objects.pdf)를 다운로드할 수 있다."
   ]
  },
  {
   "cell_type": "markdown",
   "id": "fd9b0bf8",
   "metadata": {},
   "source": [
    "## 클래스 선언과 생성자"
   ]
  },
  {
   "cell_type": "markdown",
   "id": "bd211d63",
   "metadata": {},
   "source": [
    "`Fraction` 클래스를 완성시키는 과정을 이용하여 클래스를 선언하고 인스턴스를 생성하여 활용하는 과정을 살펴본다.\n",
    "이를 위해 `Fraction` 클래스를 간단하게 정의한 다음에 필요에 따라 유용한 기능을 추가하는 방식으로 `Fraction` 클래스의\n",
    "기능을 확장한다."
   ]
  },
  {
   "cell_type": "markdown",
   "id": "084b735b",
   "metadata": {},
   "source": [
    "### 클래스 선언"
   ]
  },
  {
   "cell_type": "markdown",
   "id": "032f0b08",
   "metadata": {},
   "source": [
    "분수들의 클래스를 정의해보자.\n",
    "클래스 정의는 다음 형식으로 이루어진다."
   ]
  },
  {
   "cell_type": "markdown",
   "id": "621b7807",
   "metadata": {},
   "source": [
    "```python\n",
    "class 클래스명:\n",
    "    ...\n",
    "    # 속성 지정 및 메서드 선언\n",
    "```"
   ]
  },
  {
   "cell_type": "markdown",
   "id": "0cf5be4c",
   "metadata": {},
   "source": [
    "`Fraction` 클래스의 속성으로 \"임의의 정수인 분자와 0이 아닌 임의의 정수인 분모\"에 \n",
    "대한 정보가 저장된다.\n",
    "`Fraction` 클래스가 제공해야 하는 메서드로\n",
    "예를 들어 분수의 사칙연산, 크기 비교 등이 포함된다."
   ]
  },
  {
   "cell_type": "markdown",
   "id": "f8cb6e9c",
   "metadata": {},
   "source": [
    "### 생성자"
   ]
  },
  {
   "cell_type": "markdown",
   "id": "38d315bf",
   "metadata": {},
   "source": [
    "모든 파이썬 클래스는 인스턴스<font size='2'>instance</font>를 생성하는 **생성자**인 \n",
    "`__init__()` 메서드를 포함해야 한다. \n",
    "생성자는 생성되는 인스턴스(객체)의 속성<font size='2'>attributes</font>으로 저장될 값을 지정하거나\n",
    "저장된 값들을 처리하는 데에 필요한 기타 정보를 인자로 받아 저장한다.\n",
    "\n",
    "`Fraction` 클래스는 `1/2`, `2/5` 등과 같은 기약 분수 객체를 인스턴스로 \n",
    "생성하는 기능을 수행해야 하기에 `Fraction` 클래스의 생성자는 \n",
    "기약 분수의 분자와 분모에 해당하는 값을 인자로 받아 저장한다."
   ]
  },
  {
   "cell_type": "code",
   "execution_count": 1,
   "id": "cdf42278",
   "metadata": {},
   "outputs": [],
   "source": [
    "class Fraction:\n",
    "    def __init__(self, top, bottom):\n",
    "        \"\"\"생성자 메서드\n",
    "        top: 분자\n",
    "        bottom: 분모\n",
    "        \"\"\"\n",
    "\n",
    "        self.top = top\n",
    "        self.bottom = bottom"
   ]
  },
  {
   "cell_type": "markdown",
   "id": "42cec8ca",
   "metadata": {},
   "source": [
    ":::{admonition} 인스턴스 초기 설정\n",
    ":class: note\n",
    "\n",
    "엄밀히 말하면 `__init__()` 메서드는 객체를 생성하는 게 아니라\n",
    "생성되는 객체의 초기 설정을 담당하지만\n",
    "생성자라는 표현이 일반적으로 사용된다.\n",
    ":::"
   ]
  },
  {
   "cell_type": "markdown",
   "id": "90a26680",
   "metadata": {},
   "source": [
    "## 인스턴스와 객체"
   ]
  },
  {
   "cell_type": "markdown",
   "id": "a7b6bc22",
   "metadata": {},
   "source": [
    "객체는 특정 클래스의 인스턴스로 생성된다."
   ]
  },
  {
   "cell_type": "markdown",
   "id": "a9af534b",
   "metadata": {},
   "source": [
    "### 인스턴스 생성"
   ]
  },
  {
   "cell_type": "markdown",
   "id": "5176aba7",
   "metadata": {},
   "source": [
    "`Fraction` 클래스의 **인스턴스**<font size='2'>instance</font>는 하나의 기약 분수처럼 작동하도록 해야 한다.\n",
    "예를 들어 아래 코드는 `3/5` 에 해당하는 **객체**<font size='2'>object</font>를 가리키는 `f35` 변수를 선언한다."
   ]
  },
  {
   "cell_type": "code",
   "execution_count": 2,
   "id": "9853bc25",
   "metadata": {},
   "outputs": [],
   "source": [
    "f35 = Fraction(3, 5)"
   ]
  },
  {
   "cell_type": "markdown",
   "id": "fcca7c3c",
   "metadata": {},
   "source": [
    "메모리 상에서 `f35` 변수가 가리키는 분수 객체는 아래와 같이 저장된다."
   ]
  },
  {
   "cell_type": "markdown",
   "id": "8cf6666d",
   "metadata": {},
   "source": [
    "<div align=\"center\" border=\"1px\"><img src=\"https://raw.githubusercontent.com/codingalzi/algopy/master/jupyter-book/imgs/fraction1.png\" width=\"80%\"></div>"
   ]
  },
  {
   "cell_type": "markdown",
   "id": "cce84f7d",
   "metadata": {},
   "source": [
    ":::{admonition} `self`의 기능\n",
    ":class: note\n",
    "\n",
    "`f35 = Fraction(3, 5)` 방식으로 변수 할당이 실행되면\n",
    "파이썬 실행기<font size='2'>interpreter</font>는 다음을 싱행한다.\n",
    "\n",
    "```python\n",
    ">>> __init__(f35, 3, 5)\n",
    "```\n",
    "\n",
    "즉, `self` 매개변수는 현재 생성되는 객체를 인자로 받는다.\n",
    ":::"
   ]
  },
  {
   "cell_type": "markdown",
   "id": "463ac91d",
   "metadata": {},
   "source": [
    "### 인스턴스 변수와 속성"
   ]
  },
  {
   "cell_type": "markdown",
   "id": "833c15a1",
   "metadata": {},
   "source": [
    "**인스턴스 변수**<font size='2'>instance variable</font>는\n",
    "클래스 내부에서 `self`와 함께 선언된 변수를 가리킨다.\n",
    "`Fraction` 클래스의 인스턴스 변수는 `top` 과 `bottom` 두 개다.\n",
    "인스턴스 변수는 클래스 내부에서만,\n",
    "따라서 생성되는 객체 고유의 속성을 가리키는 역할을 수행한다.\n",
    "\n",
    "이런 의미에서 인스턴스 변수가 가리키는 값을 \n",
    "**인스턴스 속성**<font size=\"2\">instance attribute</font>이라 부른다.\n",
    "인스턴스 속성은 따라서 클래스의 인스턴스가 생성되어야만 의미를 갖는다.\n",
    "\n",
    "인스턴스 변수 이외에 `self` 를 사용하지 않는 \n",
    "**클래스 변수**<font size='2'>class variable</font>도 있지만\n",
    "여기서는 다루지 않는다."
   ]
  },
  {
   "cell_type": "markdown",
   "id": "e24b7c9d",
   "metadata": {},
   "source": [
    "## 매직 메서드"
   ]
  },
  {
   "cell_type": "markdown",
   "id": "a2f534fe",
   "metadata": {},
   "source": [
    "클래스 내부에서 선언된 함수를 **메서드**<font size='2'>method</font>라 부른다. \n",
    "이중에 첫째 매개변수로 `self` 를 사용하는 메서드가 **인스턴스 메서드**다.\n",
    "인스턴스 메서드는 인스턴스 속성처럼 클래스의 인스턴스가 생성되어야만 활용될 수 있다.\n",
    "인스턴스 메서드 이외에 `self`를 첫째 인자로 사용하지 않는 \n",
    "**클래스 메서드**<font size='2'>class method</font>, \n",
    "**정적 메서드**<font size='2'>static method</font>\n",
    "등이 있지만 여기서는 다루지 않는다."
   ]
  },
  {
   "cell_type": "markdown",
   "id": "0c66601e",
   "metadata": {},
   "source": [
    "**매직 메서드**<font size='2'>magic method</font>는 \n",
    "파이썬의 모든 클래스에서 선언되는 인스턴스 메서드를 가리킨다.\n",
    "매직 메서드는 파이썬 객체가 기본적으로 갖춰야 하는 기능을 지정하는\n",
    "특별한 메서드이며 메서드의 이름이 밑줄 두 개로 감싸진다.\n",
    "\n",
    "클래스에 기본으로 포함된 매직 메서드를 `dir()` 함수를 이용하여 확인할 수 있다.\n",
    "예를 들어 `Fraction` 클래스가 지원하는 매직 메서드 목록은 다음과 같다."
   ]
  },
  {
   "cell_type": "code",
   "execution_count": 3,
   "id": "72b829a6",
   "metadata": {},
   "outputs": [
    {
     "data": {
      "text/plain": [
       "['__class__',\n",
       " '__delattr__',\n",
       " '__dict__',\n",
       " '__dir__',\n",
       " '__doc__',\n",
       " '__eq__',\n",
       " '__format__',\n",
       " '__ge__',\n",
       " '__getattribute__',\n",
       " '__getstate__',\n",
       " '__gt__',\n",
       " '__hash__',\n",
       " '__init__',\n",
       " '__init_subclass__',\n",
       " '__le__',\n",
       " '__lt__',\n",
       " '__module__',\n",
       " '__ne__',\n",
       " '__new__',\n",
       " '__reduce__',\n",
       " '__reduce_ex__',\n",
       " '__repr__',\n",
       " '__setattr__',\n",
       " '__sizeof__',\n",
       " '__str__',\n",
       " '__subclasshook__',\n",
       " '__weakref__']"
      ]
     },
     "execution_count": 3,
     "metadata": {},
     "output_type": "execute_result"
    }
   ],
   "source": [
    "dir(Fraction)"
   ]
  },
  {
   "cell_type": "markdown",
   "id": "f21d14be",
   "metadata": {},
   "source": [
    "클래스의 매직 메서드 종류는 지원하는 기능에 따라 달라질 수 있다.\n",
    "여기서는 앞으로 사용할 매직 메서드 몇 개만 살펴본다."
   ]
  },
  {
   "cell_type": "markdown",
   "id": "d07a8441",
   "metadata": {},
   "source": [
    "### 객체 출력"
   ]
  },
  {
   "cell_type": "markdown",
   "id": "af3819d6",
   "metadata": {},
   "source": [
    "**`__str__()` 매직 메서드**"
   ]
  },
  {
   "cell_type": "markdown",
   "id": "b3c7e993",
   "metadata": {},
   "source": [
    "`f35` 는 '3/5'에 해당하는 분수를 가리켜야 한다.\n",
    "그런데 `print()` 함수를 이용하여 이 사실을 확인하려면\n",
    "이해할 수 없는 결과가 출력된다."
   ]
  },
  {
   "cell_type": "code",
   "execution_count": 4,
   "id": "d3b47c87",
   "metadata": {},
   "outputs": [
    {
     "name": "stdout",
     "output_type": "stream",
     "text": [
      "<__main__.Fraction object at 0x7f8ac8e38ce0>\n"
     ]
    }
   ],
   "source": [
    "print(f35)"
   ]
  },
  {
   "cell_type": "markdown",
   "id": "cc02cd39",
   "metadata": {},
   "source": [
    "위 실행결과는 `f35` 변수가 현재 코드 파일에서 선된 `Fraction` 클래스의 인스턴스로\n",
    "생성된 객체를 가리키고 있다는 내용을 담고 있다.\n",
    "이상한 형식의 숫자는 객체가 저장된 메모리상의 주소를 가리킨다.\n",
    "\n",
    "이와같이 출력된 이유는 `Fraction` 클래스 고유의 출력방식이 아닌\n",
    "`Fraction` 클래스에 기본적으로 포함된 `__str()__` 함수가 정의된 대로 작동하기 때문이다.\n",
    "클래스의 인스턴스가 원하는 대로 출력되도록 하려면 `__str__()` 메서드를\n",
    "사용자가 직접 재정의<font size='2'>overriding</font>해야 한다. "
   ]
  },
  {
   "cell_type": "markdown",
   "id": "944a9d2e",
   "metadata": {},
   "source": [
    "`Fraction` 클래스를 선언할 때 `__str__()` 메서드를 아래처럼 재정의해보자."
   ]
  },
  {
   "cell_type": "code",
   "execution_count": 5,
   "id": "8eee66b5",
   "metadata": {},
   "outputs": [],
   "source": [
    "class Fraction:\n",
    "    \"\"\"Fraction 클래스\"\"\"\n",
    "\n",
    "    def __init__(self, top, bottom):\n",
    "        \"\"\"생성자 메서드\n",
    "        top: 분자\n",
    "        bottom: 분모\n",
    "        \"\"\"\n",
    "        self.top = top\n",
    "        self.bottom = bottom\n",
    "\n",
    "    def __str__(self):\n",
    "        return f\"{self.top}/{self.bottom}\"  # 3/5, 1/2 형식으로 출력"
   ]
  },
  {
   "cell_type": "markdown",
   "id": "b36bd663",
   "metadata": {},
   "source": [
    "아래 코드는 `3/5`와 `1/2` 해당하는 두 개의 객체를 생성한다."
   ]
  },
  {
   "cell_type": "code",
   "execution_count": 6,
   "id": "51d5d153",
   "metadata": {},
   "outputs": [],
   "source": [
    "f35 = Fraction(3, 5)\n",
    "f12 = Fraction(1, 2)"
   ]
  },
  {
   "cell_type": "markdown",
   "id": "ee212596",
   "metadata": {},
   "source": [
    ":::{admonition} 클래스 재정의\n",
    ":class: note\n",
    "\n",
    "클래스의 본문을 수정하면 \n",
    "이전에 선언된 인스턴스 또한 새롭게 생성해야만 해당 객체가\n",
    "수정된 기능을 수행할 수 있다.\n",
    ":::"
   ]
  },
  {
   "cell_type": "markdown",
   "id": "851c2f3e",
   "metadata": {},
   "source": [
    "이제 `print()` 함수를 실행하면\n",
    "3/5, 1/2 등의 형식으로 출력한다."
   ]
  },
  {
   "cell_type": "code",
   "execution_count": 7,
   "id": "6b9674b6",
   "metadata": {},
   "outputs": [
    {
     "name": "stdout",
     "output_type": "stream",
     "text": [
      "3/5\n"
     ]
    }
   ],
   "source": [
    "print(f35)"
   ]
  },
  {
   "cell_type": "code",
   "execution_count": 8,
   "id": "5035be6e",
   "metadata": {},
   "outputs": [
    {
     "name": "stdout",
     "output_type": "stream",
     "text": [
      "1/2\n"
     ]
    }
   ],
   "source": [
    "print(f12)"
   ]
  },
  {
   "cell_type": "code",
   "execution_count": 9,
   "id": "357ffa09",
   "metadata": {},
   "outputs": [
    {
     "name": "stdout",
     "output_type": "stream",
     "text": [
      "피자의 3/5를 먹었다.\n"
     ]
    }
   ],
   "source": [
    "print(f\"피자의 {f35}를 먹었다.\")"
   ]
  },
  {
   "cell_type": "code",
   "execution_count": 10,
   "id": "e8e77ce0",
   "metadata": {},
   "outputs": [
    {
     "name": "stdout",
     "output_type": "stream",
     "text": [
      "피자의 1/2을 먹었다.\n"
     ]
    }
   ],
   "source": [
    "print(f\"피자의 {f12}을 먹었다.\")"
   ]
  },
  {
   "cell_type": "markdown",
   "id": "e478e953",
   "metadata": {},
   "source": [
    "`print()` 함수를 호출하면 실제로는 인자 객체의 `__str__()` 메서드가 호출된다."
   ]
  },
  {
   "cell_type": "code",
   "execution_count": 11,
   "id": "10c6292c",
   "metadata": {},
   "outputs": [
    {
     "data": {
      "text/plain": [
       "'3/5'"
      ]
     },
     "execution_count": 11,
     "metadata": {},
     "output_type": "execute_result"
    }
   ],
   "source": [
    "f35.__str__()"
   ]
  },
  {
   "cell_type": "markdown",
   "id": "d0fc1498",
   "metadata": {},
   "source": [
    "**`__repr__()` 매직 메서드**"
   ]
  },
  {
   "cell_type": "markdown",
   "id": "a68e6d76",
   "metadata": {},
   "source": [
    "`print()` 함수는 잘 작동한다.\n",
    "하지만 그냥 `f35` 를 확인하려하면 여전히 제대로 보여지지 않는다."
   ]
  },
  {
   "cell_type": "code",
   "execution_count": 12,
   "id": "5e69cb6d",
   "metadata": {},
   "outputs": [
    {
     "data": {
      "text/plain": [
       "<__main__.Fraction at 0x7f8ac79b0740>"
      ]
     },
     "execution_count": 12,
     "metadata": {},
     "output_type": "execute_result"
    }
   ],
   "source": [
    "f35"
   ]
  },
  {
   "cell_type": "markdown",
   "id": "1060b1b0",
   "metadata": {},
   "source": [
    "이를 해결하려면 아래처럼 `__repr__()` 메서드 또한 재정의해야 한다."
   ]
  },
  {
   "cell_type": "code",
   "execution_count": 13,
   "id": "920f36f5",
   "metadata": {},
   "outputs": [],
   "source": [
    "class Fraction:\n",
    "    \"\"\"Fraction 클래스\"\"\"\n",
    "\n",
    "    def __init__(self, top, bottom):\n",
    "        \"\"\"생성자 메서드\n",
    "        top: 분자\n",
    "        bottom: 분모\n",
    "        \"\"\"\n",
    "        self.top = top\n",
    "        self.bottom = bottom\n",
    "\n",
    "    def __str__(self):\n",
    "        return f\"{self.top}/{self.bottom}\"  # 3/5, 1/2 형식으로 출력\n",
    "    \n",
    "    def __repr__(self):\n",
    "        return f\"{self.top}/{self.bottom}\"  # 3/5, 1/2 형식으로 출력"
   ]
  },
  {
   "cell_type": "markdown",
   "id": "cec314f7",
   "metadata": {},
   "source": [
    "그러면 굳이 `print()` 함수를 사용하지 않아도 원하는 대로 보여진다."
   ]
  },
  {
   "cell_type": "code",
   "execution_count": 14,
   "id": "658b9217",
   "metadata": {},
   "outputs": [],
   "source": [
    "f35 = Fraction(3, 5)"
   ]
  },
  {
   "cell_type": "code",
   "execution_count": 15,
   "id": "86d81ae1",
   "metadata": {},
   "outputs": [
    {
     "data": {
      "text/plain": [
       "3/5"
      ]
     },
     "execution_count": 15,
     "metadata": {},
     "output_type": "execute_result"
    }
   ],
   "source": [
    "f35"
   ]
  },
  {
   "cell_type": "markdown",
   "id": "d1197ba8",
   "metadata": {},
   "source": [
    "**`__repr__()` 대 `__str__()`**"
   ]
  },
  {
   "cell_type": "markdown",
   "id": "8aa0e514",
   "metadata": {},
   "source": [
    "`__repr__()`와 `__str__()`은 원래 각자의 기능이 다르다.\n",
    "따라서 필요에 따라 두 메서드의 기능을 다르게 정의할 수 있다.\n",
    "예를 들어 아래 코드에서 `__repr()__` 메서드는 한국어로 분수를 표현하도록 선언된다."
   ]
  },
  {
   "cell_type": "code",
   "execution_count": 16,
   "id": "ec720bcd",
   "metadata": {},
   "outputs": [],
   "source": [
    "class Fraction:\n",
    "    \"\"\"Fraction 클래스\"\"\"\n",
    "\n",
    "    def __init__(self, top, bottom):\n",
    "        \"\"\"생성자 메서드\n",
    "        top: 분자\n",
    "        bottom: 분모\n",
    "        \"\"\"\n",
    "        self.top = top\n",
    "        self.bottom = bottom\n",
    "\n",
    "    def __str__(self):\n",
    "        return f\"{self.top}/{self.bottom}\"  # 3/5, 1/2 형식으로 출력\n",
    "    \n",
    "    def __repr__(self):\n",
    "        return f\"{self.bottom}분의 {self.top}\"  # 5분의 3 형식으로 출력"
   ]
  },
  {
   "cell_type": "code",
   "execution_count": 17,
   "id": "b94eb3b7",
   "metadata": {},
   "outputs": [],
   "source": [
    "f35 = Fraction(3, 5)"
   ]
  },
  {
   "cell_type": "code",
   "execution_count": 18,
   "id": "04314ac8",
   "metadata": {},
   "outputs": [
    {
     "data": {
      "text/plain": [
       "5분의 3"
      ]
     },
     "execution_count": 18,
     "metadata": {},
     "output_type": "execute_result"
    }
   ],
   "source": [
    "f35"
   ]
  },
  {
   "cell_type": "markdown",
   "id": "ed07612b",
   "metadata": {},
   "source": [
    "반면에 `__str__()` 메서드는 일반적인 분수로 표현된다."
   ]
  },
  {
   "cell_type": "code",
   "execution_count": 19,
   "id": "afb6f200",
   "metadata": {},
   "outputs": [
    {
     "name": "stdout",
     "output_type": "stream",
     "text": [
      "3/5\n"
     ]
    }
   ],
   "source": [
    "print(f35)"
   ]
  },
  {
   "cell_type": "markdown",
   "id": "b34f6653",
   "metadata": {},
   "source": [
    "일반적으로 `__repr__()`와 `__str__()`를 구분하지만 꼭 그럴 필요는 없다.\n",
    "그럴 때는 `__repr__()` 메서드만 재정의해도 된다."
   ]
  },
  {
   "cell_type": "code",
   "execution_count": 20,
   "id": "8480192f",
   "metadata": {},
   "outputs": [],
   "source": [
    "class Fraction:\n",
    "    \"\"\"Fraction 클래스\"\"\"\n",
    "\n",
    "    def __init__(self, top, bottom):\n",
    "        \"\"\"생성자 메서드\n",
    "        top: 분자\n",
    "        bottom: 분모\n",
    "        \"\"\"\n",
    "        self.top = top\n",
    "        self.bottom = bottom\n",
    "\n",
    "#     def __str__(self):\n",
    "#         return f\"{self.top}/{self.bottom}\"  # 3/5, 1/2 형식으로 출력\n",
    "    \n",
    "    def __repr__(self):\n",
    "        return f\"{self.top}/{self.bottom}\"  # 3/5, 1/2 형식으로 출력"
   ]
  },
  {
   "cell_type": "code",
   "execution_count": 21,
   "id": "254ca226",
   "metadata": {},
   "outputs": [],
   "source": [
    "f35 = Fraction(3, 5)"
   ]
  },
  {
   "cell_type": "code",
   "execution_count": 22,
   "id": "9a6a89da",
   "metadata": {},
   "outputs": [
    {
     "data": {
      "text/plain": [
       "3/5"
      ]
     },
     "execution_count": 22,
     "metadata": {},
     "output_type": "execute_result"
    }
   ],
   "source": [
    "f35"
   ]
  },
  {
   "cell_type": "code",
   "execution_count": 23,
   "id": "ffef8e79",
   "metadata": {},
   "outputs": [
    {
     "name": "stdout",
     "output_type": "stream",
     "text": [
      "3/5\n"
     ]
    }
   ],
   "source": [
    "print(f35)"
   ]
  },
  {
   "cell_type": "markdown",
   "id": "6c878c6d",
   "metadata": {},
   "source": [
    "### 인스턴스 연산"
   ]
  },
  {
   "cell_type": "markdown",
   "id": "00133c1d",
   "metadata": {},
   "source": [
    "두 개의 분수 객체를 이용하여 분수의 덧셈이 가능한지 확인해보자.\n",
    "예를 들어 1/4 + 1/2을 계산해보자."
   ]
  },
  {
   "cell_type": "code",
   "execution_count": 24,
   "id": "604fb4cf",
   "metadata": {},
   "outputs": [],
   "source": [
    "f14 = Fraction(1, 4)\n",
    "f12 = Fraction(1, 2)"
   ]
  },
  {
   "cell_type": "markdown",
   "id": "1c649315",
   "metadata": {},
   "source": [
    "그런데 분수의 덧셈을 시도하면 오류가 발생한다."
   ]
  },
  {
   "cell_type": "code",
   "execution_count": 25,
   "id": "06913686",
   "metadata": {},
   "outputs": [
    {
     "ename": "TypeError",
     "evalue": "unsupported operand type(s) for +: 'Fraction' and 'Fraction'",
     "output_type": "error",
     "traceback": [
      "\u001b[0;31m---------------------------------------------------------------------------\u001b[0m",
      "\u001b[0;31mTypeError\u001b[0m                                 Traceback (most recent call last)",
      "Cell \u001b[0;32mIn[25], line 1\u001b[0m\n\u001b[0;32m----> 1\u001b[0m f14 \u001b[38;5;241m+\u001b[39m f12\n",
      "\u001b[0;31mTypeError\u001b[0m: unsupported operand type(s) for +: 'Fraction' and 'Fraction'"
     ]
    }
   ],
   "source": [
    "f14 + f12"
   ]
  },
  {
   "cell_type": "markdown",
   "id": "e8181018",
   "metadata": {},
   "source": [
    "이유는 덧셈 연산자 `+`가 `Fraction` 클래스의 인스턴스에 대해 지원되지 않기 때문이다.\n",
    "그리고 덧셈, 뺄셈 등 사칙연산에 대해 일반적으로 사용되는 기호를 사용하려면\n",
    "각각의 기호에 해당하는 매직 메서드를 선언해야 한다. "
   ]
  },
  {
   "cell_type": "markdown",
   "id": "05c702b3",
   "metadata": {},
   "source": [
    "**`__add__()` 매직 메서드**"
   ]
  },
  {
   "cell_type": "markdown",
   "id": "00178ecd",
   "metadata": {},
   "source": [
    "분수 객체의 덧셈을 위해 `+` 연산자를 사용하려면 \n",
    "`Fraction` 클래스에 `__add__()` 메서드가 아래 코드에서처럼 적절하게 정의되어 있어야 한다.\n",
    "아래 코드에서 사용된 분수의 덧셈은 아래 수식을 구현한다.\n",
    "\n",
    "$$\\frac {a}{b} + \\frac {c}{d} = \\frac{ad+cb}{bd}$$"
   ]
  },
  {
   "cell_type": "markdown",
   "id": "d8ab0218",
   "metadata": {},
   "source": [
    "`__add__()` 메서의 반환값은 두 분수의 합을 가리키는 `Fraction` 클래스의 인스턴스로 선언된다."
   ]
  },
  {
   "cell_type": "code",
   "execution_count": 26,
   "id": "f44d2594",
   "metadata": {},
   "outputs": [],
   "source": [
    "class Fraction:\n",
    "    \"\"\"Fraction 클래스\"\"\"\n",
    "\n",
    "    def __init__(self, top, bottom):\n",
    "        \"\"\"생성자 메서드\n",
    "        top: 분자\n",
    "        bottom: 분모\n",
    "        \"\"\"\n",
    "        self.top = top\n",
    "        self.bottom = bottom\n",
    "\n",
    "    def __repr__(self):\n",
    "        return f\"{self.top}/{self.bottom}\"\n",
    "\n",
    "    def __add__(self, other):\n",
    "        new_top = self.top * other.bottom + self.bottom * other.top\n",
    "        new_bottom = self.bottom * other.bottom\n",
    "\n",
    "        return Fraction(new_top, new_bottom)"
   ]
  },
  {
   "cell_type": "markdown",
   "id": "d8d79a3a",
   "metadata": {},
   "source": [
    "이제 두 분수 객체의 덧셈 결과가 제대로 계산된다."
   ]
  },
  {
   "cell_type": "code",
   "execution_count": 27,
   "id": "0d77901d",
   "metadata": {},
   "outputs": [
    {
     "data": {
      "text/plain": [
       "6/8"
      ]
     },
     "execution_count": 27,
     "metadata": {},
     "output_type": "execute_result"
    }
   ],
   "source": [
    "f14 = Fraction(1, 4)\n",
    "f12 = Fraction(1, 2)\n",
    "\n",
    "f14 + f12"
   ]
  },
  {
   "cell_type": "markdown",
   "id": "5e9d9d6d",
   "metadata": {},
   "source": [
    ":::{admonition} 연산자 메서드 호출\n",
    ":class: note\n",
    "\n",
    "`+` 연산자를 호출하면 파이썬 실행기 내부에서는 `__add__()` 메서드가 다음처럼 호출된다.\n",
    "\n",
    "```python\n",
    "f14.__add__(f12)\n",
    "```\n",
    ":::"
   ]
  },
  {
   "cell_type": "markdown",
   "id": "afe1faaa",
   "metadata": {},
   "source": [
    "그런데 덧셈의 결과가 기약분수의 형태가 아니다.\n",
    "따라서 `__add__()` 메서드가 반환하는 `Fraction()` 클래스의 인스턴스가\n",
    "덧셈 결과를 최대공약수로 약분한 분수를 표현하는 객체가 되도록 해야 한다.\n",
    "\n",
    "분모, 분자의 최대공약수(gcd)는 유클리드 호제법을 이용한다."
   ]
  },
  {
   "cell_type": "markdown",
   "id": "6ff1faa7",
   "metadata": {},
   "source": [
    ":::{admonition} 유클리드 호제법\n",
    ":class: note\n",
    "\n",
    "두 개의 정수 $m$과 $n$의 최대공약수를 가장 빠르고 효율적으로 계산하는 기법은 유클리드 호제법이다.\n",
    "\n",
    "- $m$을 $n$으로 나눌 수 있으면 $n$이 최대공약수이다.\n",
    "- 그렇지 않으면 $n$과 $m\\,\\%\\, n$의 최대공약수가 원하는 최대공약수이다.\n",
    ":::"
   ]
  },
  {
   "cell_type": "markdown",
   "id": "87e842e6",
   "metadata": {},
   "source": [
    "아래 `gcd()` 함수는 유클리드 호제법을 구현한다."
   ]
  },
  {
   "cell_type": "code",
   "execution_count": 28,
   "id": "4dd134f2",
   "metadata": {},
   "outputs": [],
   "source": [
    "def gcd(m, n):\n",
    "    while m % n != 0:\n",
    "        m, n = n, m % n\n",
    "    return n"
   ]
  },
  {
   "cell_type": "markdown",
   "id": "b9b8f687",
   "metadata": {},
   "source": [
    "6과 14의 최대공약수는 2다."
   ]
  },
  {
   "cell_type": "code",
   "execution_count": 29,
   "id": "e44406db",
   "metadata": {},
   "outputs": [
    {
     "data": {
      "text/plain": [
       "2"
      ]
     },
     "execution_count": 29,
     "metadata": {},
     "output_type": "execute_result"
    }
   ],
   "source": [
    "gcd(6, 14)"
   ]
  },
  {
   "cell_type": "markdown",
   "id": "b18dc02b",
   "metadata": {},
   "source": [
    "8과 20의 최대공약수는 2다."
   ]
  },
  {
   "cell_type": "code",
   "execution_count": 30,
   "id": "cca54eb1",
   "metadata": {},
   "outputs": [
    {
     "data": {
      "text/plain": [
       "4"
      ]
     },
     "execution_count": 30,
     "metadata": {},
     "output_type": "execute_result"
    }
   ],
   "source": [
    "gcd(8, 20)"
   ]
  },
  {
   "cell_type": "markdown",
   "id": "6b288207",
   "metadata": {},
   "source": [
    "`gcd()` 함수를 `__add__()` 함수의 정의에 활용하자. "
   ]
  },
  {
   "cell_type": "code",
   "execution_count": 31,
   "id": "e8107808",
   "metadata": {},
   "outputs": [],
   "source": [
    "class Fraction:\n",
    "    \"\"\"Fraction 클래스\"\"\"\n",
    "\n",
    "    def __init__(self, top, bottom):\n",
    "        \"\"\"생성자 메서드\n",
    "        top: 분자\n",
    "        bottom: 분모\n",
    "        \"\"\"\n",
    "        self.top = top\n",
    "        self.bottom = bottom\n",
    "\n",
    "    def __repr__(self):\n",
    "        return f\"{self.top}/{self.bottom}\"\n",
    "\n",
    "    def __add__(self, other):\n",
    "        new_top = self.top * other.bottom + \\\n",
    "                     self.bottom * other.top\n",
    "        new_bottom = self.bottom * other.bottom\n",
    "        common = gcd(new_top, new_bottom)  # 분모, 분자의 최대공약수\n",
    "        \n",
    "        return Fraction(new_top // common, new_bottom // common) # 기약분수 객체"
   ]
  },
  {
   "cell_type": "markdown",
   "id": "25686567",
   "metadata": {},
   "source": [
    "1/4 더하기 1/2의 결과가 이제는 3/4로 표현된다."
   ]
  },
  {
   "cell_type": "code",
   "execution_count": 32,
   "id": "7477f07a",
   "metadata": {},
   "outputs": [
    {
     "data": {
      "text/plain": [
       "3/4"
      ]
     },
     "execution_count": 32,
     "metadata": {},
     "output_type": "execute_result"
    }
   ],
   "source": [
    "f14 = Fraction(1, 4)\n",
    "f12 = Fraction(1, 2)\n",
    "\n",
    "f14 + f12"
   ]
  },
  {
   "cell_type": "markdown",
   "id": "485308da",
   "metadata": {},
   "source": [
    ":::{admonition} `self` 와 `other`\n",
    ":class: note\n",
    "\n",
    "`f14 + f12` 표현식이 실행되면 실제로는 \n",
    "`f14` 객체의 `__add__()` 메서드가 다음과 같이 호출된다.\n",
    "\n",
    "```python\n",
    "`f14.__add__(f12)`\n",
    "```\n",
    "\n",
    "즉, `f14` 를 기준(self)으로 다른 값(other) `f12`와의 덧셈이 실행된다.\n",
    ":::"
   ]
  },
  {
   "cell_type": "markdown",
   "id": "c9e5dd6a",
   "metadata": {},
   "source": [
    "### 인스턴스 동일성/동등성"
   ]
  },
  {
   "cell_type": "markdown",
   "id": "91ef3d8a",
   "metadata": {},
   "source": [
    "**동일성 대 동등성**"
   ]
  },
  {
   "cell_type": "markdown",
   "id": "48e4718c",
   "metadata": {},
   "source": [
    "두 **객체의 동일성**<font size='2'>identity</font>은 두 객체가 \n",
    "동일한 메모리 주소에 저장되었는가에 따라 결정된다.\n",
    "반면에 메모리의 주소가 아니라 객체가 표현하는 **값의 동일성** 여부는\n",
    "두 **객체의 동등성**<font size='2'>equality</font>으로 판단된다."
   ]
  },
  {
   "cell_type": "markdown",
   "id": "45416cbc",
   "metadata": {},
   "source": [
    "**`is` 연산자**"
   ]
  },
  {
   "cell_type": "markdown",
   "id": "aafab596",
   "metadata": {},
   "source": [
    "아래처럼 두 변수가 가리키는 객체를 동일하게 선언하면\n",
    "두 변수가 동일한 객체를 가리킨다고 확인된다.\n",
    "두 객체의 동일성 여부는 `is` 연산자로 확인한다."
   ]
  },
  {
   "cell_type": "code",
   "execution_count": 33,
   "id": "a3366fbb",
   "metadata": {},
   "outputs": [],
   "source": [
    "f1 = Fraction(1, 2)\n",
    "f2 = f1"
   ]
  },
  {
   "cell_type": "code",
   "execution_count": 34,
   "id": "4e867f82",
   "metadata": {},
   "outputs": [
    {
     "data": {
      "text/plain": [
       "True"
      ]
     },
     "execution_count": 34,
     "metadata": {},
     "output_type": "execute_result"
    }
   ],
   "source": [
    "f1 is f2 # 동일성"
   ]
  },
  {
   "cell_type": "markdown",
   "id": "e88e836a",
   "metadata": {},
   "source": [
    "<div align=\"center\" border=\"1px\"><img src=\"https://raw.githubusercontent.com/codingalzi/algopy/master/jupyter-book/imgs/fraction4.png\" width=\"80%\"></div>"
   ]
  },
  {
   "cell_type": "markdown",
   "id": "45a16b3d",
   "metadata": {},
   "source": [
    "**`==` 연산자**"
   ]
  },
  {
   "cell_type": "markdown",
   "id": "1e3aa6fd",
   "metadata": {},
   "source": [
    "단순히 메모리상의 주소가 아닌 두 객체가 동일한 값을 가리키는지 여부인\n",
    "두 객체의 동등성은 `==` 연산자로 판단한다.\n",
    "그리고 동일한 두 객체는 당연히 동등한 객체로 판정된다.\n",
    "\n",
    "예를 들어 앞서 선언된 두 변수가 동일한 객체를 가리키기에 두 변수가 가리키는 객체의 동등성도\n",
    "참으로 판정된다."
   ]
  },
  {
   "cell_type": "code",
   "execution_count": 35,
   "id": "8dbb0849",
   "metadata": {},
   "outputs": [
    {
     "data": {
      "text/plain": [
       "True"
      ]
     },
     "execution_count": 35,
     "metadata": {},
     "output_type": "execute_result"
    }
   ],
   "source": [
    "f1 == f2 # 동등성"
   ]
  },
  {
   "cell_type": "markdown",
   "id": "e3be611c",
   "metadata": {},
   "source": [
    "그런데 아래 코드에서 생성된 두 객체는 모두 1/2을 가리키지만 서로 독립적으로 선언되었기에\n",
    "저장된 메모리 주소가 다르다. \n",
    "따라서 두 변수 `f1`와 `f2`는 동일하지 않은 객체를 가리킨다."
   ]
  },
  {
   "cell_type": "code",
   "execution_count": 36,
   "id": "ac8782c7",
   "metadata": {},
   "outputs": [],
   "source": [
    "f1 = Fraction(1, 2)\n",
    "f2 = Fraction(1, 2)"
   ]
  },
  {
   "cell_type": "code",
   "execution_count": 37,
   "id": "c47c6ae5",
   "metadata": {},
   "outputs": [
    {
     "data": {
      "text/plain": [
       "False"
      ]
     },
     "execution_count": 37,
     "metadata": {},
     "output_type": "execute_result"
    }
   ],
   "source": [
    "f1 is f2 # 동일성 판단"
   ]
  },
  {
   "cell_type": "markdown",
   "id": "45556e31",
   "metadata": {},
   "source": [
    "동등성 또한 거짓으로 판정된다."
   ]
  },
  {
   "cell_type": "code",
   "execution_count": 38,
   "id": "39897494",
   "metadata": {},
   "outputs": [
    {
     "data": {
      "text/plain": [
       "False"
      ]
     },
     "execution_count": 38,
     "metadata": {},
     "output_type": "execute_result"
    }
   ],
   "source": [
    "f1 == f2"
   ]
  },
  {
   "cell_type": "markdown",
   "id": "778d0fab",
   "metadata": {},
   "source": [
    "메모리상에서 두 변수가 가리키는 객체가 서로 다름을 아래 이미지에서 확인할 수 있다."
   ]
  },
  {
   "cell_type": "markdown",
   "id": "fdaad798",
   "metadata": {},
   "source": [
    "<div align=\"center\" border=\"1px\"><img src=\"https://raw.githubusercontent.com/codingalzi/algopy/master/jupyter-book/imgs/fraction3.png\" width=\"80%\"></div>"
   ]
  },
  {
   "cell_type": "markdown",
   "id": "545e75e3",
   "metadata": {},
   "source": [
    "**`__eq__()` 매직 메서드**"
   ]
  },
  {
   "cell_type": "markdown",
   "id": "221cc63d",
   "metadata": {},
   "source": [
    "그럼에도 불구하고 `f1`과 `f2` 모두 1/2를 가리키는 객체라는 사실을 반영할 수 있어야 하는데\n",
    "이를 위해 `__eq__()` 매직 메서드를 이용한다.\n",
    "\n",
    "아래 코드는 분수의 동등성을 구현한 `__eq__()` 메서드를 `Fraction` 클래스에 추가한다.\n",
    "참고로 두 분수의 동등성은 아래와 같이 정의된다.\n",
    "\n",
    "$$\\frac {a}{b} = \\frac {c}{d} \\Longleftrightarrow ad = bc$$"
   ]
  },
  {
   "cell_type": "code",
   "execution_count": 39,
   "id": "5d32f339",
   "metadata": {},
   "outputs": [],
   "source": [
    "class Fraction:\n",
    "    \"\"\"Fraction 클래스\"\"\"\n",
    "\n",
    "    def __init__(self, top, bottom):\n",
    "        \"\"\"생성자 메서드\n",
    "        top: 분자\n",
    "        bottom: 분모\n",
    "        \"\"\"\n",
    "        self.top = top\n",
    "        self.bottom = bottom\n",
    "\n",
    "    def __repr__(self):\n",
    "        return f\"{self.top}/{self.bottom}\"\n",
    "\n",
    "    def __add__(self, other):\n",
    "        new_top = self.top * other.bottom + \\\n",
    "                     self.bottom * other.top\n",
    "        new_bottom = self.bottom * other.bottom\n",
    "        common = gcd(new_top, new_bottom)\n",
    "        \n",
    "        return Fraction(new_top // common, new_bottom // common)\n",
    "\n",
    "    def __eq__(self, other):  # 분수 객체의 동등성\n",
    "        first_top = self.top * other.bottom\n",
    "        second_top = other.top * self.bottom\n",
    "\n",
    "        return first_top == second_top"
   ]
  },
  {
   "cell_type": "markdown",
   "id": "f9d7b8a6",
   "metadata": {},
   "source": [
    "`f1`과 `f2`를 다시 선언하자."
   ]
  },
  {
   "cell_type": "code",
   "execution_count": 40,
   "id": "1dc3e1f4",
   "metadata": {},
   "outputs": [],
   "source": [
    "f1 = Fraction(1, 2)\n",
    "f2 = Fraction(1, 2)"
   ]
  },
  {
   "cell_type": "markdown",
   "id": "2be6f4dd",
   "metadata": {},
   "source": [
    "<div align=\"center\" border=\"1px\"><img src=\"https://raw.githubusercontent.com/codingalzi/algopy/master/jupyter-book/imgs/fraction5.png\" width=\"80%\"></div>"
   ]
  },
  {
   "cell_type": "markdown",
   "id": "7c88d757",
   "metadata": {},
   "source": [
    "이제 동등성이 의도한대로 작동한다."
   ]
  },
  {
   "cell_type": "code",
   "execution_count": 41,
   "id": "63e80842",
   "metadata": {},
   "outputs": [
    {
     "data": {
      "text/plain": [
       "True"
      ]
     },
     "execution_count": 41,
     "metadata": {},
     "output_type": "execute_result"
    }
   ],
   "source": [
    "f1 == f2"
   ]
  },
  {
   "cell_type": "markdown",
   "id": "dece503c",
   "metadata": {},
   "source": [
    "실제로 `f1 == f2`를 실행하면 `__eq__()` 메서드가 다음과 같이 호출된다."
   ]
  },
  {
   "cell_type": "code",
   "execution_count": 42,
   "id": "bab3e708",
   "metadata": {},
   "outputs": [
    {
     "data": {
      "text/plain": [
       "True"
      ]
     },
     "execution_count": 42,
     "metadata": {},
     "output_type": "execute_result"
    }
   ],
   "source": [
    "f1.__eq__(f2)"
   ]
  },
  {
   "cell_type": "markdown",
   "id": "8ce0addf",
   "metadata": {},
   "source": [
    "물론 여전히 두 객체는 동일하지 않다고 판단된다.\n",
    "즉, 동등성과 동일성은 서로 다른 개념임에 주의한다."
   ]
  },
  {
   "cell_type": "code",
   "execution_count": 43,
   "id": "4720dec3",
   "metadata": {},
   "outputs": [
    {
     "data": {
      "text/plain": [
       "False"
      ]
     },
     "execution_count": 43,
     "metadata": {},
     "output_type": "execute_result"
    }
   ],
   "source": [
    "f1 is f2"
   ]
  },
  {
   "cell_type": "markdown",
   "id": "a98c9f11",
   "metadata": {},
   "source": [
    "## 인스턴스 메서드"
   ]
  },
  {
   "cell_type": "markdown",
   "id": "9aaea72c",
   "metadata": {},
   "source": [
    "매직 메서드 이외에 클래스에 다른 기능을 제공하는\n",
    "인스턴스 메서드를 선언할 수 있다. \n",
    "여기서는 다음 두 기능을 지원하는 메서드를 구현한다.\n",
    "\n",
    "- 분모와 분자 추출\n",
    "- 분수 객체를 부동소수점으로 변환"
   ]
  },
  {
   "cell_type": "markdown",
   "id": "a2fc92eb",
   "metadata": {},
   "source": [
    "**분모와 분자 추출**"
   ]
  },
  {
   "cell_type": "markdown",
   "id": "46fce7c5",
   "metadata": {},
   "source": [
    "아래 코드는 `Fraction` 클래스의 인스턴스로부터\n",
    "분자와 분모를 반환하는 `numerator()` 메서드와 `denominator()` 메서드를 함께 구현한다."
   ]
  },
  {
   "cell_type": "code",
   "execution_count": 44,
   "id": "654bf06a",
   "metadata": {},
   "outputs": [],
   "source": [
    "class Fraction:\n",
    "    \"\"\"Fraction 클래스\"\"\"\n",
    "\n",
    "    def __init__(self, top, bottom):\n",
    "        \"\"\"생성자 메서드\n",
    "        top: 분자\n",
    "        bottom: 분모\n",
    "        \"\"\"\n",
    "        self.top = top\n",
    "        self.bottom = bottom\n",
    "\n",
    "    def __repr__(self):\n",
    "        return f\"{self.top}/{self.bottom}\"\n",
    "\n",
    "    def __add__(self, other):\n",
    "        new_top = self.top * other.bottom + \\\n",
    "                     self.bottom * other.top\n",
    "        new_bottom = self.bottom * other.bottom\n",
    "        common = gcd(new_top, new_bottom)\n",
    "        \n",
    "        return Fraction(new_top // common, new_bottom // common)\n",
    "\n",
    "    def __eq__(self, other):\n",
    "        first_top = self.top * other.bottom\n",
    "        second_top = other.top * self.bottom\n",
    "\n",
    "        return first_top == second_top\n",
    "    \n",
    "    def numerator(self):\n",
    "        return self.top     # 분자 반환\n",
    "\n",
    "    def denominator(self):\n",
    "        return self.bottom  # 분모 반환"
   ]
  },
  {
   "cell_type": "markdown",
   "id": "a13023f7",
   "metadata": {},
   "source": [
    "예를 들어 2/3의 분모는 3, 분자는 2임을 아래 코드가 확인해준다."
   ]
  },
  {
   "cell_type": "code",
   "execution_count": 45,
   "id": "bf1d9c86",
   "metadata": {},
   "outputs": [
    {
     "name": "stdout",
     "output_type": "stream",
     "text": [
      "2/3의 분자: 2\n",
      "2/3의 분모: 3\n"
     ]
    }
   ],
   "source": [
    "f3 = Fraction(2, 3)\n",
    "\n",
    "print(f\"{f3}의 분자:\", f3.numerator())\n",
    "print(f\"{f3}의 분모:\", f3.denominator())"
   ]
  },
  {
   "cell_type": "markdown",
   "id": "0a18ad8e",
   "metadata": {},
   "source": [
    "**부동소수점으로의 변환**"
   ]
  },
  {
   "cell_type": "markdown",
   "id": "1a725d47",
   "metadata": {},
   "source": [
    "아래 코드는 분수를 부동소수점으로 변환하는 `to_float()` 메서드를 구현한다.\n",
    "`to_float()` 메서드의 반환값은 인자로 입력된 분수 객체의 분자를 분모로 나눈 결과를 반환한다.\n",
    "분자와 분모의 나눗셈은 파이썬의 기본 나눗셈 연산자를 활용한다."
   ]
  },
  {
   "cell_type": "code",
   "execution_count": 46,
   "id": "1ad3d2b3",
   "metadata": {},
   "outputs": [],
   "source": [
    "class Fraction:\n",
    "    \"\"\"Fraction 클래스\"\"\"\n",
    "\n",
    "    def __init__(self, top, bottom):\n",
    "        \"\"\"생성자 메서드\n",
    "        top: 분자\n",
    "        bottom: 분모\n",
    "        \"\"\"\n",
    "        self.top = top\n",
    "        self.bottom = bottom\n",
    "\n",
    "    def __repr__(self):\n",
    "        return f\"{self.top}/{self.bottom}\"\n",
    "\n",
    "    def __add__(self, other):\n",
    "        new_top = self.top * other.bottom + \\\n",
    "                     self.bottom * other.top\n",
    "        new_bottom = self.bottom * other.bottom\n",
    "        common = gcd(new_top, new_bottom)\n",
    "        \n",
    "        return Fraction(new_top // common, new_bottom // common)\n",
    "\n",
    "    def __eq__(self, other):\n",
    "        first_top = self.top * other.bottom\n",
    "        second_top = other.top * self.bottom\n",
    "\n",
    "        return first_top == second_top\n",
    "    \n",
    "    def numerator(self):\n",
    "        return self.top\n",
    "\n",
    "    def denominator(self):\n",
    "        return self.bottom\n",
    "    \n",
    "    def to_float(self):\n",
    "        return self.numerator() / self.denominator() # 부동소수점으로 변환"
   ]
  },
  {
   "cell_type": "markdown",
   "id": "c82993f6",
   "metadata": {},
   "source": [
    "`Fraction` 클래스의 인스턴스는 아래 이미지에서 언급된 모든 메서드를 활용할 수 있다."
   ]
  },
  {
   "cell_type": "markdown",
   "id": "adfdda36",
   "metadata": {},
   "source": [
    "<div align=\"center\" border=\"1px\"><img src=\"https://raw.githubusercontent.com/codingalzi/algopy/master/jupyter-book/imgs/fraction6.png\" width=\"80%\"></div>"
   ]
  },
  {
   "cell_type": "markdown",
   "id": "bad976f3",
   "metadata": {},
   "source": [
    "예를 들어 2/3을 부동소수점으로 변환하면 다음과 같다."
   ]
  },
  {
   "cell_type": "code",
   "execution_count": 47,
   "id": "f591114e",
   "metadata": {},
   "outputs": [
    {
     "data": {
      "text/plain": [
       "0.6666666666666666"
      ]
     },
     "execution_count": 47,
     "metadata": {},
     "output_type": "execute_result"
    }
   ],
   "source": [
    "f3 = Fraction(2, 3)\n",
    "f3.to_float()"
   ]
  },
  {
   "cell_type": "markdown",
   "id": "22be2e2c",
   "metadata": {},
   "source": [
    "## 연습문제"
   ]
  },
  {
   "cell_type": "markdown",
   "id": "31b9be77",
   "metadata": {},
   "source": [
    "참고: [(실습) 클래스, 인스턴스, 객체](https://colab.research.google.com/github/codingalzi/algopy/blob/master/excs/exc-oop-classes-objects.ipynb)"
   ]
  }
 ],
 "metadata": {
  "kernelspec": {
   "display_name": "Python 3 (ipykernel)",
   "language": "python",
   "name": "python3"
  },
  "language_info": {
   "codemirror_mode": {
    "name": "ipython",
    "version": 3
   },
   "file_extension": ".py",
   "mimetype": "text/x-python",
   "name": "python",
   "nbconvert_exporter": "python",
   "pygments_lexer": "ipython3",
   "version": "3.12.2"
  }
 },
 "nbformat": 4,
 "nbformat_minor": 5
}
