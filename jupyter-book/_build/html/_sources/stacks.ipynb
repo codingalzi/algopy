{
 "cells": [
  {
   "cell_type": "markdown",
   "metadata": {},
   "source": [
    "(sec:stacks)=\n",
    "# 스택<font size='2'>Stack</font>"
   ]
  },
  {
   "cell_type": "markdown",
   "metadata": {},
   "source": [
    "**참고** \n",
    "\n",
    "아래 내용은 [Problem Solving with Algorithms and Data Structures using Python](https://runestone.academy/ns/books/published/pythonds3/index.html)의 3장 내용을 \n",
    "일부 활용한다. "
   ]
  },
  {
   "cell_type": "markdown",
   "metadata": {},
   "source": [
    "**슬라이드**\n",
    "\n",
    "본문 내용을 요약한 [슬라이드](https://github.com/codingalzi/algopy/raw/master/slides/slides-stacks.pdf)를 다운로드할 수 있다."
   ]
  },
  {
   "cell_type": "markdown",
   "metadata": {},
   "source": [
    "**주요 내용**\n",
    "\n",
    "- 스택 자료구조\n",
    "- 스택 활용"
   ]
  },
  {
   "cell_type": "markdown",
   "metadata": {},
   "source": [
    "## 스택의 정의"
   ]
  },
  {
   "cell_type": "markdown",
   "metadata": {},
   "source": [
    "**스택**<font size='2'>stack</font>은 항목의 추가 및 삭제를 보통 **탑**<font size='2'>top</font>이라 불리는 한 쪽 끝에서만 허용한다.\n",
    "반면에 다른 한 쪽 끝은 **베이스**<font size='2'>base</font>라 한다. \n",
    "\n",
    "- 탑: 가장 나중에 추가된 항목의 위치\n",
    "- 베이스: 남아 있는 항목 중에서 가장 먼저 추가된 항목의 위치"
   ]
  },
  {
   "cell_type": "markdown",
   "metadata": {},
   "source": [
    "가장 나중에 추가된 항목이 가장 먼저 삭제되는 후입선출<font size='2'>last-in first-out</font>(LIFO) 원리를 따른다."
   ]
  },
  {
   "cell_type": "markdown",
   "metadata": {},
   "source": [
    "<p><div align=\"center\"><img src=\"https://raw.githubusercontent.com/codingalzi/algopy/master/jupyter-book/imgs/lifo.png\" width=\"50%\"></div></p>"
   ]
  },
  {
   "cell_type": "markdown",
   "metadata": {},
   "source": [
    "## 스택 자료구조 구현"
   ]
  },
  {
   "cell_type": "markdown",
   "metadata": {},
   "source": [
    "스택 자료구조는 큐 자료구조와는 달리 항목의 추가와 삭제를 탑이라고 부르는 곳에서만 처리한다.\n",
    "하지만 그 이외에는 큐와 동일한 기능을 지원한다.\n",
    "실제로 파이썬에서 스택 자료구조로 제공되는 `queue.LifoQueue` 클래스가\n",
    "큐 자료구조인 `queue.Queue`와 동일한 이름의 메서드를 제공한다.\n",
    "\n",
    "따라서 여기서도 {numref}`%s장<sec:queues>`에서 정의한 다음 `Queue` 추상 자료형을\n",
    "구상 클래스로 상속하는 방식으로 스택 자료구조를 선언한다."
   ]
  },
  {
   "cell_type": "code",
   "execution_count": 1,
   "metadata": {},
   "outputs": [],
   "source": [
    "class Queue:\n",
    "    def __init__(self, maxsize=0):\n",
    "        \"\"\"\n",
    "        - 새로운 큐 생성\n",
    "        - maxsize: 최대 항목 수. 0은 무한대 의미.\n",
    "        - 저장 방식은 자식 클래스가 지정해야 함.\n",
    "        \"\"\"\n",
    "        raise NotImplementedError(\n",
    "            \"\"\"아래 두 변수 구현 필요\n",
    "            self._maxsize=maxsize\n",
    "            self._container=비어 있는 모음 객체. 항목 저장.\n",
    "            \"\"\")\n",
    "    \n",
    "    def qsize(self):\n",
    "        \"\"\"항목 수 반환\"\"\"\n",
    "        return len(self._container)\n",
    "    \n",
    "    def empty(self):\n",
    "        \"\"\"비었는지 여부 확인\"\"\"\n",
    "        return not self._container\n",
    "\n",
    "    def full(self):\n",
    "        \"\"\"_maxsize 충족 여부 확인\"\"\"\n",
    "\n",
    "        if self._maxsize <= 0:\n",
    "            return False\n",
    "        elif self.qsize() < self._maxsize:\n",
    "            return False\n",
    "        else:\n",
    "            return True            \n",
    "\n",
    "    def put(self, item):\n",
    "        \"\"\"항목 추가\"\"\"\n",
    "        raise NotImplementedError\n",
    "\n",
    "    def get(self):\n",
    "        \"\"\"항목 삭제\"\"\"\n",
    "        raise NotImplementedError"
   ]
  },
  {
   "cell_type": "markdown",
   "metadata": {},
   "source": [
    "다만 리스트를 항목들의 저장 장치로 활용한다.\n",
    "이유는 리스트의 오른쪽 끝(마지막 항목)을 탑으로 지정해도 \n",
    "항목의 추가와 삭제를 빠르게 실행할 수 있기 때문이다."
   ]
  },
  {
   "cell_type": "code",
   "execution_count": 2,
   "metadata": {},
   "outputs": [],
   "source": [
    "class Stack(Queue):\n",
    "    def __init__(self, maxsize=0):\n",
    "        \"\"\"\n",
    "        - 새로운 스택 생성\n",
    "        - _maxsize: 최대 항목 수. 0은 무한대 의미.\n",
    "        - _container: 항목 저장 장치. list 활용\n",
    "        \"\"\"\n",
    "        self._maxsize = maxsize\n",
    "        self._container = list() # 비어있는 리스트\n",
    "    \n",
    "    def __repr__(self):\n",
    "        \"\"\"스택 표기법: stack([1, 2, 3]) 등등\"\"\"\n",
    "        return f\"stack({self._container})\"\n",
    "    \n",
    "    def put(self, item):\n",
    "        \"\"\"\n",
    "        _maxsize를 못 채웠을 경우에만 항목 추가\n",
    "        \"\"\"\n",
    "        if not self.full():\n",
    "            self._container.append(item)\n",
    "        else:\n",
    "            print(\"추가되지 않아요!\")\n",
    "\n",
    "    def get(self):\n",
    "        \"\"\"머리 항목 삭제 후 반환\"\"\"\n",
    "        return self._container.pop()"
   ]
  },
  {
   "cell_type": "markdown",
   "metadata": {},
   "source": [
    "아래 코드가 스택 객체를 생성하고 활용하는 간단한 작동법을 소개한다."
   ]
  },
  {
   "cell_type": "code",
   "execution_count": 3,
   "metadata": {},
   "outputs": [
    {
     "name": "stdout",
     "output_type": "stream",
     "text": [
      "stack([4, 'dog', True])\n",
      "True\n",
      "stack([4, 'dog', True, 8.4])\n",
      "추가되지 않아요!\n",
      "stack([4, 'dog', True, 8.4])\n",
      "8.4\n",
      "True\n",
      "2\n",
      "stack([4, 'dog'])\n",
      "False\n"
     ]
    }
   ],
   "source": [
    "s = Stack(maxsize=4)\n",
    "\n",
    "s.put(4)\n",
    "s.put(\"dog\")\n",
    "s.put(True)\n",
    "print(s)\n",
    "s.put(8.4)\n",
    "print(s.full())\n",
    "print(s)\n",
    "s.put(\"하나 더?\")\n",
    "print(s)\n",
    "print(s.get())\n",
    "print(s.get())\n",
    "print(s.qsize())\n",
    "print(s)\n",
    "print(s.empty())"
   ]
  },
  {
   "cell_type": "markdown",
   "metadata": {},
   "source": [
    "## `queue.LifoQueue` 클래스"
   ]
  },
  {
   "cell_type": "markdown",
   "metadata": {},
   "source": [
    "파이썬 `queue` 모듈의 `LifoQueue` 클래스가 스택 자료구조를 가리킨다.\n",
    "앞서 정의한 `Stack` 클래스보다 몇 배 느리다."
   ]
  },
  {
   "cell_type": "code",
   "execution_count": 4,
   "metadata": {},
   "outputs": [],
   "source": [
    "import queue"
   ]
  },
  {
   "cell_type": "markdown",
   "metadata": {},
   "source": [
    "- `put()` 메서드 속도 비교"
   ]
  },
  {
   "cell_type": "code",
   "execution_count": 5,
   "metadata": {},
   "outputs": [
    {
     "name": "stdout",
     "output_type": "stream",
     "text": [
      "CPU times: user 10.1 ms, sys: 151 μs, total: 10.3 ms\n",
      "Wall time: 10.1 ms\n"
     ]
    }
   ],
   "source": [
    "%%time\n",
    "\n",
    "n = 100_000\n",
    "q1 = Stack(maxsize=0)\n",
    "\n",
    "for k in range(n):\n",
    "    q1.put(k)"
   ]
  },
  {
   "cell_type": "code",
   "execution_count": 6,
   "metadata": {},
   "outputs": [
    {
     "name": "stdout",
     "output_type": "stream",
     "text": [
      "CPU times: user 52.5 ms, sys: 0 ns, total: 52.5 ms\n",
      "Wall time: 52.2 ms\n"
     ]
    }
   ],
   "source": [
    "%%time\n",
    "\n",
    "n = 100_000\n",
    "q2 = queue.LifoQueue(maxsize=0)\n",
    "\n",
    "for k in range(n):\n",
    "    q2.put(k)"
   ]
  },
  {
   "cell_type": "markdown",
   "metadata": {},
   "source": [
    "- `get()` 메서드 속도 비교"
   ]
  },
  {
   "cell_type": "code",
   "execution_count": 7,
   "metadata": {},
   "outputs": [
    {
     "name": "stdout",
     "output_type": "stream",
     "text": [
      "CPU times: user 0 ns, sys: 6.85 ms, total: 6.85 ms\n",
      "Wall time: 6.65 ms\n"
     ]
    }
   ],
   "source": [
    "%%time\n",
    "\n",
    "for k in range(n):\n",
    "    q1.get()"
   ]
  },
  {
   "cell_type": "code",
   "execution_count": 8,
   "metadata": {},
   "outputs": [
    {
     "name": "stdout",
     "output_type": "stream",
     "text": [
      "CPU times: user 55 ms, sys: 0 ns, total: 55 ms\n",
      "Wall time: 54.7 ms\n"
     ]
    }
   ],
   "source": [
    "%%time\n",
    "\n",
    "for k in range(n):\n",
    "    q2.get()"
   ]
  },
  {
   "cell_type": "markdown",
   "metadata": {},
   "source": [
    "## 스택 활용: 괄호 매칭 여부 판정"
   ]
  },
  {
   "cell_type": "markdown",
   "metadata": {},
   "source": [
    "코드에는 소, 중, 대 세 종류의 괄호가 각자의 역할에 따라 사용된다.\n",
    "\n",
    "| 괄호 종류 | 기호 | 활용 예제 |\n",
    "| :---: | :---: | :--- |\n",
    "| 소괄호 |`(`, `)` | 튜플, 수식 |\n",
    "| 중괄호 | `{`, `}` | 사전, 집합 |\n",
    "| 대괄호 | `[`, `]` | 리스트 |"
   ]
  },
  {
   "cell_type": "markdown",
   "metadata": {},
   "source": [
    "코드에 포함된 표현식에 사용된 모든 괄호들의 짝이 맞는가를 확인하는 일은 매우 중요하다. \n",
    "파이썬은 코드를 실행하기 전에 구문 검사를 진행하여\n",
    "괄호의 짝이 맞지 않으면 아래에서처럼 바로 구문 오류(`SyntaxError`)를 발생시킨다."
   ]
  },
  {
   "cell_type": "code",
   "execution_count": 9,
   "metadata": {},
   "outputs": [
    {
     "ename": "SyntaxError",
     "evalue": "closing parenthesis '}' does not match opening parenthesis '(' (2289090069.py, line 1)",
     "output_type": "error",
     "traceback": [
      "\u001b[0;36m  Cell \u001b[0;32mIn[9], line 1\u001b[0;36m\u001b[0m\n\u001b[0;31m    x = [1, 2, (5, 3), ('a':7, 'b':9}]\u001b[0m\n\u001b[0m                                    ^\u001b[0m\n\u001b[0;31mSyntaxError\u001b[0m\u001b[0;31m:\u001b[0m closing parenthesis '}' does not match opening parenthesis '('\n"
     ]
    }
   ],
   "source": [
    "x = [1, 2, (5, 3), ('a':7, 'b':9}]"
   ]
  },
  {
   "cell_type": "markdown",
   "metadata": {},
   "source": [
    "위 변수 할당문은 사전 객체를 `'a':7, 'b':9` 를 감싸는 중괄호 중에서 여는 중괄호가 \n",
    "소괄호로 되어 있어어 구문 오류가 발생하였다.\n",
    "아래에서처럼 여는 중괄호와 닫는 중괄호가 서로 매칭되도록 해야 오류가 발생하지 않는다."
   ]
  },
  {
   "cell_type": "code",
   "execution_count": 10,
   "metadata": {},
   "outputs": [],
   "source": [
    "x = [1, 2, (5, 3), {'a':7, 'b':9}]"
   ]
  },
  {
   "cell_type": "markdown",
   "metadata": {},
   "source": [
    "코드와 표현식에 사용된 모든 종류의 괄호를 대상으로 괄호 매칭 여부를 판단하기 위해 \n",
    "코드 내용과 상관 없이 괄호만으로 구성된 문자열을 이용할 수 있다.\n",
    "예를 들어 위 표현식의 괄호만 고려하면 다음 문자열을 얻게 되고,\n",
    "모든 종류의 괄호에 대해 괄호 매칭이 제대로 이뤄짐을 쉽게 확인할 수 있다."
   ]
  },
  {
   "cell_type": "markdown",
   "metadata": {},
   "source": [
    "```python\n",
    "[(){}]\n",
    "```"
   ]
  },
  {
   "cell_type": "markdown",
   "metadata": {},
   "source": [
    "그런데 괄호가 중첩되어 사용되면 괄호 매칭 여부의 판단이 보다 어려워진다. \n",
    "예를 들어 아래 예제는 모두 괄호들의 짝이 맞는지 여부를 확인하기 위해 자세히 살펴 봐야 한다.\n",
    "\n",
    "- 처음 3 개의 문자열: 괄호 짝 맞음\n",
    "- 다음 3 개의 문자열: 괄호 짝 맞지 않음"
   ]
  },
  {
   "cell_type": "markdown",
   "metadata": {},
   "source": [
    "```python\n",
    "{{([][])}()}\n",
    "[[{{(())}}]]\n",
    "[][][](){}\n",
    "([))\n",
    "((()]))\n",
    "[{()]\n",
    "```"
   ]
  },
  {
   "cell_type": "markdown",
   "metadata": {},
   "source": [
    "### 괄호 문자열 대상 괄호 매칭 여부 판정"
   ]
  },
  {
   "cell_type": "markdown",
   "metadata": {},
   "source": [
    "스택 자료구조를 활용하여 괄호만으로 구성된 문자열에 대해\n",
    "괄호 매칭 여부를 판정하는 함수를 구현해보자.\n",
    "스택 활용법은 다음과 같다.\n",
    "\n",
    "- 비어있는 스택을 하나 생성\n",
    "- 괄호 문자열에 포함된 기호에 대해 아래 작업 반복\n",
    "    - 여는 괄호: 스택에 추가\n",
    "    - 닫는 괄호: 스택의 탑 항목 삭제"
   ]
  },
  {
   "cell_type": "markdown",
   "metadata": {},
   "source": [
    "예를 들어 아래 그림은 `{[()]}`에 대해 괄호 매칭 여부를 판단하는 과정을 보여준다."
   ]
  },
  {
   "cell_type": "markdown",
   "metadata": {},
   "source": [
    "<p><div align=\"center\"><img src=\"https://raw.githubusercontent.com/codingalzi/algopy/master/jupyter-book/imgs/balanced_parentheses1.png\" width=\"70%\"></div></p>"
   ]
  },
  {
   "cell_type": "markdown",
   "metadata": {},
   "source": [
    "괄호 매칭이거짓인 경우 위 알고리즘을 진행하다 보면 아래 세 가지 경우 중 하나가 발생한다."
   ]
  },
  {
   "cell_type": "markdown",
   "metadata": {},
   "source": [
    "첫째, `{[(])}`의 경우처럼 탑에 위치한 여는 괄호와 표현식에 있는 닫는 괄호가 달라서\n",
    "여는 괄호와 닫는 괄호가 매칭되지 않는다."
   ]
  },
  {
   "cell_type": "markdown",
   "metadata": {},
   "source": [
    "<p><div align=\"center\"><img src=\"https://raw.githubusercontent.com/codingalzi/algopy/master/jupyter-book/imgs/balanced_parentheses2.png\" width=\"55%\"></div></p>"
   ]
  },
  {
   "cell_type": "markdown",
   "metadata": {},
   "source": [
    "둘째, `[()]}`의 경우처럼 아직 확인해야할 닫는 괄호가 있지만 스택이 먼저 비워질 수 있다.\n",
    "스택에 포함되어 있어야 하는 여는 괄호가 없는 경우에 이런 일이 발생한다."
   ]
  },
  {
   "cell_type": "markdown",
   "metadata": {},
   "source": [
    "<p><div align=\"center\"><img src=\"https://raw.githubusercontent.com/codingalzi/algopy/master/jupyter-book/imgs/balanced_parentheses3.png\" width=\"60%\"></div></p>"
   ]
  },
  {
   "cell_type": "markdown",
   "metadata": {},
   "source": [
    "셋째, `{[()]`의 경우처럼 문자열에 포함된 모든 괄호를 확인했음에도 불구하고 스택에 항목이 남아 있을 수 있다.\n",
    "스택에 남아 있는 여는 괄호에 매칭되는 닫는 괄호가 없는 경우에 이런 일이 발생한다."
   ]
  },
  {
   "cell_type": "markdown",
   "metadata": {},
   "source": [
    "<p><div align=\"center\"><img src=\"https://raw.githubusercontent.com/codingalzi/algopy/master/jupyter-book/imgs/balanced_parentheses4.png\" width=\"70%\"></div></p>"
   ]
  },
  {
   "cell_type": "markdown",
   "metadata": {},
   "source": [
    "아래 `balance_checker()` 함수가 앞서 설명한 알고리즘을 구현한다.\n",
    "이를 위해 먼저 두 괄호의 매칭 여부를 판정하는 `matches()` 함수를 구현한다.\n",
    "`matches()` 함수는 첫째 인자와 둘째 인자가 서로 매칭되는 괄호인 경우에만 `True`를 반환한다."
   ]
  },
  {
   "cell_type": "code",
   "execution_count": 11,
   "metadata": {},
   "outputs": [],
   "source": [
    "def matches(par_left, par_right):\n",
    "    all_lefts = \"([{\"\n",
    "    all_rights = \")]}\"\n",
    "    \n",
    "    if (par_left not in all_lefts) or (par_right not in all_rights):\n",
    "        return False\n",
    "    \n",
    "    return all_lefts.index(par_left) == all_rights.index(par_right)"
   ]
  },
  {
   "cell_type": "code",
   "execution_count": 12,
   "metadata": {},
   "outputs": [
    {
     "name": "stdout",
     "output_type": "stream",
     "text": [
      "True\n",
      "True\n",
      "True\n",
      "False\n",
      "False\n",
      "False\n"
     ]
    }
   ],
   "source": [
    "print(matches('(', ')'))\n",
    "print(matches('[', ']'))\n",
    "print(matches('{', '}'))\n",
    "print(matches('(', ']'))\n",
    "print(matches('[', '}'))\n",
    "print(matches('(', '('))"
   ]
  },
  {
   "cell_type": "markdown",
   "metadata": {},
   "source": [
    "`matches()` 함수를 이용하여 괄호 문자열을 대상으로\n",
    "괄호 매칭 여부를 판정하는 함수를 다음과 같이 구현할 수 있다."
   ]
  },
  {
   "cell_type": "code",
   "execution_count": 13,
   "metadata": {},
   "outputs": [],
   "source": [
    "def balance_checker(par_string):\n",
    "    s = Stack()                # 비어 있는 스택 생성\n",
    "    \n",
    "    for symbol in par_string:\n",
    "        if symbol in \"([{\":   # 여는 괄호 스택에 추가\n",
    "            s.put(symbol)\n",
    "        elif s.empty():       # 스택이 미리 비워지는 경우\n",
    "            return False\n",
    "        elif not matches(s.get(), symbol): \n",
    "            return False     # 두 괄호가 매칭 되지 않는 경우\n",
    "\n",
    "    return s.empty()          # 최종적으로 스택이 비워졌는지 여부 확인"
   ]
  },
  {
   "cell_type": "markdown",
   "metadata": {},
   "source": [
    "앞서 눈으로 쉽게 판단할 수 없는 괄호 문자열을 대상으로\n",
    "위 함수를 적용하면 기대한 대로 작동한다."
   ]
  },
  {
   "cell_type": "code",
   "execution_count": 14,
   "metadata": {},
   "outputs": [
    {
     "name": "stdout",
     "output_type": "stream",
     "text": [
      "True\n",
      "True\n",
      "True\n",
      "False\n",
      "False\n",
      "False\n"
     ]
    }
   ],
   "source": [
    "print(balance_checker('{{([][])}()}'))\n",
    "print(balance_checker('[[{{(())}}]]'))\n",
    "print(balance_checker('[][][](){}'))\n",
    "print(balance_checker('([))'))\n",
    "print(balance_checker('((()]))'))\n",
    "print(balance_checker('[{()]'))"
   ]
  },
  {
   "cell_type": "markdown",
   "metadata": {},
   "source": [
    "### 표현식 대상 괄호 매칭 판정"
   ]
  },
  {
   "cell_type": "markdown",
   "metadata": {},
   "source": [
    "`balance_checker()` 함수를 살짝 수정하면 임의의 표현식에 사용된 괄호의 매칭 여부를 판정할 수 있다.\n",
    "아래 코드는 표현식에 포함된 문자 중에서 괄호가 아니면 무시하도록 하는 기능을 추가하였다."
   ]
  },
  {
   "cell_type": "code",
   "execution_count": 15,
   "metadata": {},
   "outputs": [],
   "source": [
    "def balance_checker(exp_string):\n",
    "    s = Stack()\n",
    "\n",
    "    for symbol in exp_string:\n",
    "        if symbol not in \"()[]{}\":   # 괄호가 아니면 무시\n",
    "            continue\n",
    "        elif symbol in \"([{\":\n",
    "            s.put(symbol)\n",
    "        elif s.empty():\n",
    "            return False\n",
    "        elif not matches(s.get(), symbol):\n",
    "            return False\n",
    "\n",
    "    return s.empty()"
   ]
  },
  {
   "cell_type": "markdown",
   "metadata": {},
   "source": [
    "이제 임의의 문자열에 대해 괄호 매칭 여부를 판정할 수 있다."
   ]
  },
  {
   "cell_type": "code",
   "execution_count": 16,
   "metadata": {},
   "outputs": [
    {
     "name": "stdout",
     "output_type": "stream",
     "text": [
      "True\n",
      "False\n",
      "True\n",
      "False\n",
      "True\n",
      "False\n"
     ]
    }
   ],
   "source": [
    "print(balance_checker('{({([][])}())}'))\n",
    "print(balance_checker('[{()]'))\n",
    "print(balance_checker('(A + B) * C - (D - E) * (F + G)'))\n",
    "print(balance_checker('(5 + 6) * (7 + 8) / (4 + 3'))\n",
    "print(balance_checker(\"[1, 2, (5, 3), {'a':7, 'b':9}]\"))\n",
    "print(balance_checker(\"[1, 2, (5, 3), ('a':7, 'b':9}]\"))"
   ]
  },
  {
   "cell_type": "markdown",
   "metadata": {},
   "source": [
    "## 연습 문제"
   ]
  },
  {
   "cell_type": "markdown",
   "metadata": {},
   "source": [
    "1. [(실습) 스택](https://colab.research.google.com/github/codingalzi/algopy/blob/master/excs/exc-stacks.ipynb)"
   ]
  }
 ],
 "metadata": {
  "kernelspec": {
   "display_name": "Python 3 (ipykernel)",
   "language": "python",
   "name": "python3"
  },
  "language_info": {
   "codemirror_mode": {
    "name": "ipython",
    "version": 3
   },
   "file_extension": ".py",
   "mimetype": "text/x-python",
   "name": "python",
   "nbconvert_exporter": "python",
   "pygments_lexer": "ipython3",
   "version": "3.12.2"
  },
  "vscode": {
   "interpreter": {
    "hash": "6c86b3592b6800d985c04531f2c445f0fa6967131b8dd6395a925f7622e55602"
   }
  }
 },
 "nbformat": 4,
 "nbformat_minor": 4
}
