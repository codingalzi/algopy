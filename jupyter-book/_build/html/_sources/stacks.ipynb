{
 "cells": [
  {
   "cell_type": "markdown",
   "metadata": {},
   "source": [
    "# 스택"
   ]
  },
  {
   "cell_type": "markdown",
   "metadata": {},
   "source": [
    "Copyright (C)  Brad Miller, David Ranum.\n",
    "This work is licensed under the Creative Commons Attribution-NonCommercial-ShareAlike 4.0 International License. To view a copy of this license, visit http://creativecommons.org/licenses/by-nc-sa/4.0/."
   ]
  },
  {
   "cell_type": "markdown",
   "metadata": {},
   "source": [
    "모음 자료형 중에서 \n",
    "항목들이 더해지거나 삭제된 순서를 중요한 네 개의 \n",
    "**선형 자료형**(linear structures))을 살펴본다. \n",
    "\n",
    "- **스택**(stack)\n",
    "- **큐**(queue)\n",
    "- **덱**(deque)\n",
    "- **리스트**(list)\n",
    "\n",
    "언급된 네 자료형 모두 두 개의 끝을 가지며\n",
    "자료형에 따라 항목이 더해질 수 있는 위치와 방법이 다르다.\n",
    "자료형 마다 양 끝을 이름이 다를 수 있으며 보통 처음/끝, 왼쪽/오른쪽, 전방/후방, 탑/바톰 등\n",
    "다양한 방식으로 부른다."
   ]
  },
  {
   "cell_type": "markdown",
   "metadata": {},
   "source": [
    "## 스택"
   ]
  },
  {
   "cell_type": "markdown",
   "metadata": {},
   "source": [
    "**스택**(stack)은 여러 개의 값을 가지며 값들 사이의 순서가 중요한 선형 자료형이다.\n",
    "항목의 추가 및 삭제는 보통 **탑**(top)이라 불리는 한 쪽 끝에서만 허용된다. \n",
    "반면에 다른 한 쪽 끝은 **베이스**(base)라 한다. \n",
    "\n",
    "- 베이스: 가장 먼저 추가된 항목\n",
    "- 탑: 가장 나중에 추가된 항목이며 동시에 가장 먼저 삭제될 대상"
   ]
  },
  {
   "cell_type": "markdown",
   "metadata": {},
   "source": [
    "<figure>\n",
    "<div align=\"center\"><img src=\"https://runestone.academy/runestone/books/published/pythonds3/_images/primitive.png\" width=\"50%\"></div>\n",
    "</figure>"
   ]
  },
  {
   "cell_type": "markdown",
   "metadata": {},
   "source": [
    "**LIFO**(last-in first-out)\n",
    "\n",
    "아래 그림에서 설명된 것처럼 들어온 순서 역순으로 삭제되는 것을 의미한다."
   ]
  },
  {
   "cell_type": "markdown",
   "metadata": {},
   "source": [
    "<figure>\n",
    "<div align=\"center\"><img src=\"https://runestone.academy/runestone/books/published/pythonds3/_images/simplereversal.png\" width=\"70%\"></div>\n",
    "</figure>"
   ]
  },
  {
   "cell_type": "markdown",
   "metadata": {},
   "source": [
    "**활용 예제**: 인터넷 브라우저의 '뒤로가기'(Back) 버튼\n",
    "\n",
    "웹페이지가 변경될 때마다 순서를 기억해 둔 다음에\n",
    "'뒤로가기' 버튼을 누르면 역순으로 이전 웹페이지를 보여준다."
   ]
  },
  {
   "cell_type": "markdown",
   "metadata": {},
   "source": [
    "### `Stack` 추상 자료형"
   ]
  },
  {
   "cell_type": "markdown",
   "metadata": {},
   "source": [
    "스택 추상 자료형을 구체적인 파이썬 자료구조(data structure)로 \n",
    "구현하려면 갖추어야 하는 기본 속성과 기능은 다음과 같다."
   ]
  },
  {
   "cell_type": "markdown",
   "metadata": {},
   "source": [
    "-  `Stack()`: 비어 있는 스택 생성. 생성작의 역할.\n",
    "-  `push(item)`: 새로운 항목을 탑(top)으로 추가\n",
    "-  `pop()`: 탑 항목 삭제. 삭제된 항목 반환.\n",
    "-  `peek()`: 탑 항목 반환. 하지만 삭제하진 않음.\n",
    "-  `is_empty()`: 스택이 비었는 여부 판단. 부울값 반환.\n",
    "-  `size()`:  항목 개수 반환."
   ]
  },
  {
   "cell_type": "markdown",
   "metadata": {},
   "source": [
    "아래 테이블은 스택 생성과 함께 다양한 스택 관련 연산의 작동법을 소개한다."
   ]
  },
  {
   "cell_type": "markdown",
   "metadata": {},
   "source": [
    "| 스택 연산| 스택 항목 | 반환값 |\n",
    "| --- | --- | --- |\n",
    "| `s = Stack()` | `[]` | |\n",
    "| `s.is_empty()` | `[]` | `True` |\n",
    "| `s.push(4)` | `[4]` | |\n",
    "| `s.push('dog')` | `[4, 'dog']` | |\n",
    "| `s.peek()` | `[4, 'dog']` | `'dog'` |\n",
    "| `s.push(True)` | `[4, 'dog', True]` | |\n",
    "| `s.size()` | `[4, 'dog', True]` | `3` |\n",
    "| `s.is_empty()` | `[4, 'dog', True]` | `False` |\n",
    "| `s.push(8.4)` | `[4, 'dog', True, 8.4]` | |\n",
    "| `s.pop()` | `[4, 'dog', True]` | `8.4` |\n",
    "| `s.pop()` | `[4, 'dog']` | `True` |\n",
    "| `s.size()` | `[4, 'dog']` | `2` |"
   ]
  },
  {
   "cell_type": "markdown",
   "metadata": {},
   "source": [
    "### 스택 자료구조 구현"
   ]
  },
  {
   "cell_type": "markdown",
   "metadata": {},
   "source": [
    "스택 자료구조를 `Stack` 클래스로 구현하기 위해 \n",
    "리스트를 항목들의 저장 장치로 활용하며,\n",
    "앞서 소개한 기능들은 모두 메서드로 정의한다.\n",
    "스택의 탑 역할은 리스트의 오른쪽 끝(마지막 항목)이 수행하도록 한다. \n",
    "그러면 리스트의 `pop()`와 `append()`를 잘 활용할 수 있다."
   ]
  },
  {
   "cell_type": "code",
   "execution_count": 1,
   "metadata": {},
   "outputs": [],
   "source": [
    "class Stack:\n",
    "    \"\"\"리스트를 활용한 스택 구현\"\"\"\n",
    "\n",
    "    def __init__(self):\n",
    "        \"\"\"새로운 스택 생성\"\"\"\n",
    "        self._items = []\n",
    "\n",
    "    def __repr__(self):\n",
    "        \"\"\"스택 표기법: <[1, 2, 3]> 등등\"\"\"\n",
    "        return f\"<{self._items}>\"\n",
    "        \n",
    "    def is_empty(self):\n",
    "        \"\"\"비었는지 여부 확인\"\"\"\n",
    "        return not bool(self._items)\n",
    "\n",
    "    def push(self, item):\n",
    "        \"\"\"새 항목 추가\"\"\"\n",
    "        self._items.append(item)\n",
    "\n",
    "    def pop(self):\n",
    "        \"\"\"항목 제거\"\"\"\n",
    "        return self._items.pop()\n",
    "\n",
    "    def peek(self):\n",
    "        \"\"\"탑 항목 반환\"\"\"\n",
    "        return self._items[-1]\n",
    "\n",
    "    def size(self):\n",
    "        \"\"\"항목 개수 반환\"\"\"\n",
    "        return len(self._items)"
   ]
  },
  {
   "cell_type": "markdown",
   "metadata": {},
   "source": [
    "위 그림을 코드로 구현하면 다음과 같다."
   ]
  },
  {
   "cell_type": "code",
   "execution_count": 2,
   "metadata": {},
   "outputs": [
    {
     "name": "stdout",
     "output_type": "stream",
     "text": [
      "True\n",
      "dog\n",
      "3\n",
      "False\n",
      "8.4\n",
      "True\n",
      "2\n"
     ]
    }
   ],
   "source": [
    "s = Stack()\n",
    "\n",
    "print(s.is_empty())\n",
    "s.push(4)\n",
    "s.push(\"dog\")\n",
    "print(s.peek())\n",
    "s.push(True)\n",
    "print(s.size())\n",
    "print(s.is_empty())\n",
    "s.push(8.4)\n",
    "print(s.pop())\n",
    "print(s.pop())\n",
    "print(s.size())"
   ]
  },
  {
   "cell_type": "markdown",
   "metadata": {},
   "source": [
    "**참고**: 스택의 탑을 리스트의 첫째 항목으로 정하면 `pop(0)`와 `insert(0, item)`을 사용해야 한다. "
   ]
  },
  {
   "cell_type": "code",
   "execution_count": 3,
   "metadata": {},
   "outputs": [],
   "source": [
    "class Stack:\n",
    "    def __init__(self):\n",
    "        self.items = []\n",
    "\n",
    "    def __repr__(self):\n",
    "        return f\"<{self._items}>\"\n",
    "\n",
    "    def is_empty(self):\n",
    "        return self.items == []\n",
    "\n",
    "    def push(self, item):\n",
    "        self.items.insert(0, item)\n",
    "\n",
    "    def pop(self):\n",
    "        return self.items.pop(0)\n",
    "\n",
    "    def peek(self):\n",
    "        return self.items[0]\n",
    "\n",
    "    def size(self):\n",
    "        return len(self.items)"
   ]
  },
  {
   "cell_type": "markdown",
   "metadata": {},
   "source": [
    "기능면에서는 이전과 완전히 동일하다."
   ]
  },
  {
   "cell_type": "code",
   "execution_count": 4,
   "metadata": {},
   "outputs": [
    {
     "name": "stdout",
     "output_type": "stream",
     "text": [
      "true\n"
     ]
    }
   ],
   "source": [
    "s = Stack()\n",
    "s.push(\"hello\")\n",
    "s.push(\"true\")\n",
    "print(s.pop())"
   ]
  },
  {
   "cell_type": "markdown",
   "metadata": {},
   "source": [
    "하지만 이전에 보았듯이  `pop()`과 `append(item)`의 시간복잡도는 $O(1)$인 반면에\n",
    "`pop(0)`와 `insert(0, item)`의 시간복잡도는 $O(n)$이라는 점에서 많이 다르다. "
   ]
  },
  {
   "cell_type": "markdown",
   "metadata": {},
   "source": [
    "#### 확인하기"
   ]
  },
  {
   "cell_type": "markdown",
   "metadata": {},
   "source": [
    "문제 1. 스택 연산을 아래와 같이 실행한 결과 탑에 위치한 항목은 무엇인가?\n",
    "\n",
    "```python\n",
    "m = Stack()\n",
    "m.push(\"x\")\n",
    "m.push(\"y\")\n",
    "m.pop()\n",
    "m.push(\"z\")\n",
    "m.peek()\n",
    "```"
   ]
  },
  {
   "cell_type": "markdown",
   "metadata": {},
   "source": [
    "문제 2. 스택 연산을 아래와 같이 실행한 결과 탑에 위치한 항목은 무엇인가?\n",
    "\n",
    "```python\n",
    "m = Stack()\n",
    "m.push(\"x\")\n",
    "m.push(\"y\")\n",
    "m.push(\"z\")\n",
    "while not m.is_empty():\n",
    "    m.pop()\n",
    "    m.pop()\n",
    "```"
   ]
  },
  {
   "cell_type": "markdown",
   "metadata": {},
   "source": [
    "문제 3. 주어진 문저열에 포함된 문자를 거꾸로 갖는 문자열을 생성하는 함수 `rev_string(my_str)`를\n",
    "스택을 이용하여 구현하라.\n",
    "\n",
    "**힌트**: [Stack1](https://www.youtube.com/watch?v=fZtLSM7k_54&ab_channel=RunestoneInteractive)"
   ]
  },
  {
   "cell_type": "markdown",
   "metadata": {},
   "source": [
    "### 실전 예제 1: 괄호 짝맞추기 문제"
   ]
  },
  {
   "cell_type": "markdown",
   "metadata": {},
   "source": [
    "아래 식에서처럼 함수나 또는 연산 실행을 위해 사용되는 괄호는 짝이 맞아야 한다.\n",
    "즉, 여는 괄호 하나와 닫는 괄호 하나가 짝이 맞아야 한다. "
   ]
  },
  {
   "cell_type": "markdown",
   "metadata": {},
   "source": [
    "$$(5 + 6) * (7 + 8) / (4 + 3)$$"
   ]
  },
  {
   "cell_type": "markdown",
   "metadata": {},
   "source": [
    "위 표현식에서 괄호만 고려하면 다음 모양이 되어 모든 괄호의 짝이 잘 맞음을 쉽게 확인할 수 있다."
   ]
  },
  {
   "cell_type": "markdown",
   "metadata": {},
   "source": [
    "    ()()()"
   ]
  },
  {
   "cell_type": "markdown",
   "metadata": {},
   "source": [
    "그런데 괄호가 중첩되어 사용되면 보다 복잡해진다. "
   ]
  },
  {
   "cell_type": "markdown",
   "metadata": {},
   "source": [
    "    (()()()())\n",
    "\n",
    "    (((())))\n",
    "\n",
    "    (()((())()))"
   ]
  },
  {
   "cell_type": "markdown",
   "metadata": {},
   "source": [
    "예를 들어, 아래 예제는 짝이 맞는 않는 괄호가 존재한다."
   ]
  },
  {
   "cell_type": "markdown",
   "metadata": {},
   "source": [
    "    ((((((())\n",
    "\n",
    "    ()))\n",
    "\n",
    "    (()()(()"
   ]
  },
  {
   "cell_type": "markdown",
   "metadata": {},
   "source": [
    "그런데 표현식 또는 코드에 사용된 모든 괄호들의 짝이 맞는가를 확인하는 일은 매우 중요하다. \n",
    "파이썬의 경우 괄호가 맞지 않으면 실행 전에 바로 구문 오류(`SyntaxError`)를 발생시킨다."
   ]
  },
  {
   "cell_type": "markdown",
   "metadata": {},
   "source": [
    "```python\n",
    ">>> (5 + 6) * (7 + 8) / (4 + 3\n",
    "\n",
    "File \"<ipython-input-14-2a2d38a57b24>\", line 1\n",
    "    (5 + 6) * (7 + 8) / (4 + 3\n",
    "                              ^\n",
    "SyntaxError: unexpected EOF while parsing\n",
    "```"
   ]
  },
  {
   "cell_type": "markdown",
   "metadata": {},
   "source": [
    "아래 코드는 스택을 이용하여 괄호로 이루어진 문자열이 짝이 맞는 괄호들로 이루어졌는지 여부를 판단하는\n",
    "함수를 구현한다. \n",
    "스택 활용법은 다음과 같다.\n",
    "괄호로 이루어진 문자열이 주어졌을 때 왼편부터 시작해서 여는 괄호와 닫는 괄호를 \n",
    "만달 때마다 아잭 작업을 반복한다. \n",
    "\n",
    "- 여는 괄호: 스택에 추가\n",
    "- 닫는 괄호: 스택의 탑 항목 삭제\n",
    "\n",
    "위 작업을 반복하다 보면 아래 세 가지 경우가 발생한다.\n",
    "\n",
    "- 문자열을 다 확인하기 전에 스택이 비워지는 경우: 닫는 괄호가 너무 많음\n",
    "- 끝까지 확인했을 때 스택이 비워지지 않은 경우: 여는 괄호가 너무 많음\n",
    "- 그렇지 않으면 모든 괄호의 짝이 맞음."
   ]
  },
  {
   "cell_type": "markdown",
   "metadata": {},
   "source": [
    "<figure>\n",
    "<div align=\"center\"><img src=\"https://runestone.academy/runestone/books/published/pythonds3/_images/simpleparcheck.png\" width=\"40%\"></div>\n",
    "</figure>"
   ]
  },
  {
   "cell_type": "code",
   "execution_count": 5,
   "metadata": {},
   "outputs": [],
   "source": [
    "def par_checker(symbol_string):\n",
    "\n",
    "    s = Stack()\n",
    "    \n",
    "    for symbol in symbol_string:\n",
    "        if symbol == \"(\":\n",
    "            s.push(symbol)\n",
    "        elif s.is_empty():\n",
    "            return False\n",
    "        else:\n",
    "            s.pop()\n",
    "\n",
    "    return s.is_empty()"
   ]
  },
  {
   "cell_type": "code",
   "execution_count": 6,
   "metadata": {},
   "outputs": [
    {
     "name": "stdout",
     "output_type": "stream",
     "text": [
      "True\n",
      "True\n",
      "False\n",
      "False\n"
     ]
    }
   ],
   "source": [
    "print(par_checker(\"((()))\"))\n",
    "print(par_checker(\"((()()))\"))\n",
    "print(par_checker(\"(()\"))\n",
    "print(par_checker(\")(\"))"
   ]
  },
  {
   "cell_type": "markdown",
   "metadata": {},
   "source": [
    "### 실전 예제 2: 괄호 짝맞추기 문제(일반화)"
   ]
  },
  {
   "cell_type": "markdown",
   "metadata": {},
   "source": [
    "소, 중, 대 세 종류의 괄호를 대상으로 짝맞추기 문제를 해결하는 알고리즘을 구현한다. \n",
    "\n",
    "- `(`, `)`: 튜플, 표현식 등\n",
    "- `{`, `}`: 사전, 집합 등\n",
    "- `[`, `]`: 리스트 등"
   ]
  },
  {
   "cell_type": "markdown",
   "metadata": {},
   "source": [
    "아래 예제는 모두 괄호들의 짝이 맞는다."
   ]
  },
  {
   "cell_type": "markdown",
   "metadata": {},
   "source": [
    "    { { ( [ ] [ ] ) } ( ) }\n",
    "\n",
    "    [ [ { { ( ( ) ) } } ] ]\n",
    "\n",
    "    [ ] [ ] [ ] ( ) { }"
   ]
  },
  {
   "cell_type": "markdown",
   "metadata": {},
   "source": [
    "반면 아래의 경우는 서로 다른 종류의 짝이 사용되고 있다."
   ]
  },
  {
   "cell_type": "markdown",
   "metadata": {},
   "source": [
    "    ( [ ) )\n",
    "\n",
    "    ( ( ( ) ] ) )\n",
    "\n",
    "    [ { ( ) ]"
   ]
  },
  {
   "cell_type": "markdown",
   "metadata": {},
   "source": [
    "이전 코드를 조금 수정하면 일반화된 짝맞추기 문제를 해결할 수 있다. \n",
    "다만, 닫는 괄호를 처리할 때 동일한 종류인지 여부를 추가로 확인해야 한다."
   ]
  },
  {
   "cell_type": "code",
   "execution_count": 7,
   "metadata": {},
   "outputs": [],
   "source": [
    "def balance_checker(symbol_string):\n",
    "    s = Stack()\n",
    "    for symbol in symbol_string:\n",
    "        if symbol in \"([{\":\n",
    "            s.push(symbol)\n",
    "        elif s.is_empty():\n",
    "            return False\n",
    "        elif not matches(s.pop(), symbol):\n",
    "            return False\n",
    "\n",
    "    return s.is_empty()\n",
    "\n",
    "def matches(sym_left, sym_right):\n",
    "    all_lefts = \"([{\"\n",
    "    all_rights = \")]}\"\n",
    "    return all_lefts.index(sym_left) == all_rights.index(sym_right)"
   ]
  },
  {
   "cell_type": "code",
   "execution_count": 8,
   "metadata": {},
   "outputs": [
    {
     "name": "stdout",
     "output_type": "stream",
     "text": [
      "True\n",
      "False\n"
     ]
    }
   ],
   "source": [
    "print(balance_checker('{({([][])}())}'))\n",
    "print(balance_checker('[{()]'))"
   ]
  },
  {
   "cell_type": "markdown",
   "metadata": {},
   "source": [
    "### 실전 예제 3: 이진법 계산"
   ]
  },
  {
   "cell_type": "markdown",
   "metadata": {},
   "source": [
    "십진법 정수 $233_{10}$를 이진법으로 표기하면 $11101001_{2}$이 된다.\n",
    "실제로 두 수가 가리키는 수를 다음과 같으며 동일한 값을 나타낸다."
   ]
  },
  {
   "cell_type": "markdown",
   "metadata": {},
   "source": [
    "$$\n",
    "\\begin{align*}\n",
    "233_{10} &= 2\\times10^{2} + 3\\times10^{1} + 3\\times10^{0}\\\\\n",
    "& \\\\\n",
    "11101001_{2} &= 1\\times2^{7} + 1\\times2^{6} + 1\\times2^{5} + 0\\times2^{4} + 1\\times2^{3} + 0\\times2^{2} + 0\\times2^{1} + 1\\times2^{0}\n",
    "\\end{align*}\n",
    "$$"
   ]
  },
  {
   "cell_type": "markdown",
   "metadata": {},
   "source": [
    "십진법으로 표기된 정수의 이진법 표기를 찾는 알고리즘은 아래 그림과 같다. \n",
    "\n",
    "- 2로 나눈 후 나머지를 스택에 추가\n",
    "- 2로 나눈 몫을 대상으로 위 과정 반복\n",
    "- 스택에 쌓인 값들을 거꾸로 읽기. 즉, `pop()`을 연속적으로 활용함."
   ]
  },
  {
   "cell_type": "markdown",
   "metadata": {},
   "source": [
    "<figure>\n",
    "<div align=\"center\"><img src=\"https://runestone.academy/runestone/books/published/pythonds3/_images/dectobin.png\" width=\"60%\"></div>\n",
    "</figure>"
   ]
  },
  {
   "cell_type": "code",
   "execution_count": 9,
   "metadata": {},
   "outputs": [],
   "source": [
    "def divide_by_2(decimal_num):\n",
    "    rem_stack = Stack()\n",
    "\n",
    "    while decimal_num > 0:\n",
    "        rem = decimal_num % 2\n",
    "        rem_stack.push(rem)\n",
    "        decimal_num = decimal_num // 2\n",
    "\n",
    "    bin_string = \"\"\n",
    "    while not rem_stack.is_empty():\n",
    "        bin_string = bin_string + str(rem_stack.pop())\n",
    "\n",
    "    return bin_string"
   ]
  },
  {
   "cell_type": "code",
   "execution_count": 10,
   "metadata": {},
   "outputs": [
    {
     "name": "stdout",
     "output_type": "stream",
     "text": [
      "101010\n",
      "11111\n"
     ]
    }
   ],
   "source": [
    "print(divide_by_2(42))\n",
    "print(divide_by_2(31))"
   ]
  },
  {
   "cell_type": "markdown",
   "metadata": {},
   "source": [
    "### 실전 예제 4: 진법 변환"
   ]
  },
  {
   "cell_type": "markdown",
   "metadata": {},
   "source": [
    "십진법으로 표기된 정수를 이진법 뿐만 아니라 8진법, 16진법 등으로 자유자재로 \n",
    "변환시키는 함수를 구현해보자.\n",
    "예를 들어 정수 233을 8진법으로는 `351` 또는 16진법으로는 `E9`이며,\n",
    "이유는 다음과 같다.\n",
    "\n",
    "$$\n",
    "\\begin{align*}\n",
    "233 &= 3\\times8^{2} + 5\\times8^{1} + 1\\times8^{0} \\\\\n",
    "&= 14\\times16^{1} + 9\\times16^{0}\n",
    "\\end{align*}\n",
    "$$"
   ]
  },
  {
   "cell_type": "markdown",
   "metadata": {},
   "source": [
    "다음 `base_converter()` 함수는 정수 뿐만 아니라 사용될 진법을\n",
    "결정하는 밑(base)도 함께  인자로 받는다.\n",
    "밑은 2에서 16 사이의 정수로 가정한다.\n",
    "\n",
    "알고리즘은 `divide_by_2()` 함수와 거의 동일하다.\n",
    "다만, 10진법부터 16진법까지는 0부터 9까지의 숫자 이외의 문자를 추가로 사용해야 한다.\n",
    "여기서는 A, B, C, D, E, F를 10에서 15를 나타내는 기호로 사용한다. \n",
    "\n",
    "- `push()` 활용: 이전과 동일\n",
    "- `pop()` 활용: 10부터 15까지의 나머지에 대해 A부터 F 까지 대신 사용항여 문자열 생성.\n",
    "    이를 위해 `digits` 변수에 할당된 문자열의 인덱싱 활용."
   ]
  },
  {
   "cell_type": "code",
   "execution_count": 11,
   "metadata": {},
   "outputs": [],
   "source": [
    "def base_converter(decimal_num, base):\n",
    "    \n",
    "    digits = \"0123456789ABCDEF\"\n",
    "    \n",
    "    rem_stack = Stack()\n",
    "\n",
    "    while decimal_num > 0:\n",
    "        rem = decimal_num % base\n",
    "        rem_stack.push(rem)\n",
    "        decimal_num = decimal_num // base\n",
    "\n",
    "    new_string = \"\"\n",
    "    while not rem_stack.is_empty():\n",
    "        new_string = new_string + digits[rem_stack.pop()]\n",
    "\n",
    "    return new_string"
   ]
  },
  {
   "cell_type": "code",
   "execution_count": 12,
   "metadata": {},
   "outputs": [
    {
     "name": "stdout",
     "output_type": "stream",
     "text": [
      "11001\n",
      "1157\n",
      "CA3D7\n"
     ]
    }
   ],
   "source": [
    "print(base_converter(25, 2))\n",
    "print(base_converter(623, 8))\n",
    "print(base_converter(828375, 16))"
   ]
  },
  {
   "cell_type": "code",
   "execution_count": null,
   "metadata": {},
   "outputs": [],
   "source": []
  },
  {
   "cell_type": "code",
   "execution_count": null,
   "metadata": {},
   "outputs": [],
   "source": []
  },
  {
   "cell_type": "code",
   "execution_count": null,
   "metadata": {},
   "outputs": [],
   "source": []
  },
  {
   "cell_type": "markdown",
   "metadata": {},
   "source": [
    "**참고**\n",
    "\n",
    "아래 내용은 차후 번역될 예정임."
   ]
  },
  {
   "cell_type": "markdown",
   "metadata": {},
   "source": [
    "## 4.9 Infix, Prefix, and Postfix Expressions"
   ]
  },
  {
   "cell_type": "markdown",
   "metadata": {},
   "source": [
    "When you write an arithmetic expression such as B \\* C, the form of the\n",
    "expression provides you with information so that you can interpret it\n",
    "correctly. In this case we know that the variable B is being multiplied\n",
    "by the variable C since the multiplication operator \\* appears between\n",
    "them in the expression. This type of notation is referred to as\n",
    "**infix** since the operator is *in between* the two operands that it is\n",
    "working on.\n",
    "\n",
    "Consider another infix example, A + B \\* C. The operators + and \\* still\n",
    "appear between the operands, but there is a problem. Which operands do\n",
    "they work on? Does the + work on A and B or does the \\* take B and C?\n",
    "The expression seems ambiguous.\n",
    "\n",
    "In fact, you have been reading and writing these types of expressions\n",
    "for a long time and they do not cause you any problem. The reason for\n",
    "this is that you know something about the operators + and \\*. Each\n",
    "operator has a **precedence** level. Operators of higher precedence are\n",
    "used before operators of lower precedence. The only thing that can\n",
    "change that order is the presence of parentheses. The precedence order\n",
    "for arithmetic operators places multiplication and division above\n",
    "addition and subtraction. If two operators of equal precedence appear,\n",
    "then a left-to-right ordering or associativity is used.\n",
    "\n",
    "Let’s interpret the troublesome expression A + B \\* C using operator\n",
    "precedence. B and C are multiplied first, and A is then added to that\n",
    "result. (A + B) \\* C would force the addition of A and B to be done\n",
    "first before the multiplication. In expression A + B + C, by precedence\n",
    "(via associativity), the leftmost + would be done first."
   ]
  },
  {
   "cell_type": "markdown",
   "metadata": {},
   "source": [
    "Although all this may be obvious to you, remember that computers need to\n",
    "know exactly what operators to perform and in what order. One way to\n",
    "write an expression that guarantees there will be no confusion with\n",
    "respect to the order of operations is to create what is called a **fully\n",
    "parenthesized** expression. This type of expression uses one pair of\n",
    "parentheses for each operator. The parentheses dictate the order of\n",
    "operations; there is no ambiguity. There is also no need to remember any\n",
    "precedence rules.\n",
    "\n",
    "The expression A + B \\* C + D can be rewritten as ((A + (B \\* C)) + D)\n",
    "to show that the multiplication happens first, followed by the leftmost\n",
    "addition. A + B + C + D can be written as (((A + B) + C) + D) since the\n",
    "addition operations associate from left to right.\n",
    "\n",
    "There are two other very important expression formats that may not seem\n",
    "obvious to you at first. Consider the infix expression A + B. What would\n",
    "happen if we moved the operator before the two operands? The resulting\n",
    "expression would be + A B. Likewise, we could move the operator to the\n",
    "end. We would get A B +. These look a bit strange.\n",
    "\n",
    "These changes to the position of the operator with respect to the\n",
    "operands create two new expression formats, **prefix** and **postfix**.\n",
    "Prefix expression notation requires that all operators precede the two\n",
    "operands that they work on. Postfix, on the other hand, requires that\n",
    "its operators come after the corresponding operands. A few more examples\n",
    "should help to make this a bit clearer (see :ref:`Table 2 <tbl_example1>`).\n",
    "\n",
    "A + B \\* C would be written as + A \\* B C in prefix. The multiplication\n",
    "operator comes immediately before the operands B and C, denoting that \\*\n",
    "has precedence over +. The addition operator then appears before the A\n",
    "and the result of the multiplication.\n",
    "\n",
    "In postfix, the expression would be A B C \\* +. Again, the order of\n",
    "operations is preserved since the \\* appears immediately after the B and\n",
    "the C, denoting that \\* has precedence, with + coming after. Although\n",
    "the operators moved and now appear either before or after their\n",
    "respective operands, the order of the operands stayed exactly the same\n",
    "relative to one another."
   ]
  },
  {
   "cell_type": "markdown",
   "metadata": {},
   "source": [
    "**Table 2: Examples of Infix, Prefix, and Postfix**"
   ]
  },
  {
   "cell_type": "markdown",
   "metadata": {},
   "source": [
    "    ============================ ======================= ========================\n",
    "            **Infix Expression**   **Prefix Expression**   **Postfix Expression**\n",
    "    ============================ ======================= ========================\n",
    "                           A + B                  \\+ A B                    A B +\n",
    "                      A + B \\* C             \\+ A \\* B C               A B C \\* +\n",
    "    ============================ ======================= ========================"
   ]
  },
  {
   "cell_type": "markdown",
   "metadata": {},
   "source": [
    "Now consider the infix expression (A + B) \\* C. Recall that in this\n",
    "case, infix requires the parentheses to force the performance of the\n",
    "addition before the multiplication. However, when A + B was written in\n",
    "prefix, the addition operator was simply moved before the operands, + A\n",
    "B. The result of this operation becomes the first operand for the\n",
    "multiplication. The multiplication operator is moved in front of the\n",
    "entire expression, giving us \\* + A B C. Likewise, in postfix A B +\n",
    "forces the addition to happen first. The multiplication can be done to\n",
    "that result and the remaining operand C. The proper postfix expression\n",
    "is then A B + C \\*.\n",
    "\n",
    "Consider these three expressions again (see :ref:`Table 3 <tbl_parexample>`).\n",
    "Something very important has happened. Where did the parentheses go? Why\n",
    "don’t we need them in prefix and postfix? The answer is that the\n",
    "operators are no longer ambiguous with respect to the operands that they\n",
    "work on. Only infix notation requires the additional symbols. The order\n",
    "of operations within prefix and postfix expressions is completely\n",
    "determined by the position of the operator and nothing else. In many\n",
    "ways, this makes infix the least desirable notation to use."
   ]
  },
  {
   "cell_type": "markdown",
   "metadata": {},
   "source": [
    "**Table 3: An Expression with Parentheses**"
   ]
  },
  {
   "cell_type": "markdown",
   "metadata": {},
   "source": [
    "    ============================ ======================= ========================\n",
    "            **Infix Expression**   **Prefix Expression**   **Postfix Expression**\n",
    "    ============================ ======================= ========================\n",
    "                    (A + B) \\* C              \\* + A B C               A B + C \\*\n",
    "    ============================ ======================= ========================"
   ]
  },
  {
   "cell_type": "markdown",
   "metadata": {},
   "source": [
    ":ref:`Table 4 <tbl_example3>` shows some additional examples of infix expressions and\n",
    "the equivalent prefix and postfix expressions. Be sure that you\n",
    "understand how they are equivalent in terms of the order of the\n",
    "operations being performed."
   ]
  },
  {
   "cell_type": "markdown",
   "metadata": {},
   "source": [
    "**Table 4: Additional Examples of Infix, Prefix, and Postfix**"
   ]
  },
  {
   "cell_type": "markdown",
   "metadata": {},
   "source": [
    "    ============================ ======================= ========================\n",
    "            **Infix Expression**   **Prefix Expression**   **Postfix Expression**\n",
    "    ============================ ======================= ========================\n",
    "                  A + B \\* C + D        \\+ \\+ A \\* B C D           A B C \\* + D +\n",
    "              (A + B) \\* (C + D)          \\* + A B + C D           A B + C D + \\*\n",
    "                 A \\* B + C \\* D        \\+ \\* A B \\* C D          A B \\* C D \\* +\n",
    "                   A + B + C + D          \\+ + + A B C D            A B + C + D +\n",
    "    ============================ ======================= ========================"
   ]
  },
  {
   "cell_type": "markdown",
   "metadata": {},
   "source": [
    "### 4.9.1 Conversion of Infix Expressions to Prefix and Postfix"
   ]
  },
  {
   "cell_type": "markdown",
   "metadata": {},
   "source": [
    "So far, we have used ad hoc methods to convert between infix expressions\n",
    "and the equivalent prefix and postfix expression notations. As you might\n",
    "expect, there are algorithmic ways to perform the conversion that allow\n",
    "any expression of any complexity to be correctly transformed.\n",
    "\n",
    "The first technique that we will consider uses the notion of a fully\n",
    "parenthesized expression that was discussed earlier. Recall that A + B\n",
    "\\* C can be written as (A + (B \\* C)) to show explicitly that the\n",
    "multiplication has precedence over the addition. On closer observation,\n",
    "however, you can see that each parenthesis pair also denotes the\n",
    "beginning and the end of an operand pair with the corresponding operator\n",
    "in the middle.\n",
    "\n",
    "Look at the right parenthesis in the subexpression (B \\* C) above. If we\n",
    "were to move the multiplication symbol to that position and remove the\n",
    "matching left parenthesis, giving us B C \\*, we would in effect have\n",
    "converted the subexpression to postfix notation. If the addition\n",
    "operator were also moved to its corresponding right parenthesis position\n",
    "and the matching left parenthesis were removed, the complete postfix\n",
    "expression would result (see :ref:`Figure 6 <fig_moveright>`)."
   ]
  },
  {
   "cell_type": "markdown",
   "metadata": {},
   "source": [
    "    .. figure:: Figures/moveright.png\n",
    "       :align: center\n",
    "\n",
    "       Figure 6: Moving Operators to the Right for Postfix Notation"
   ]
  },
  {
   "cell_type": "markdown",
   "metadata": {},
   "source": [
    "If we do the same thing but instead of moving the symbol to the position\n",
    "of the right parenthesis, we move it to the left, we get prefix notation\n",
    "(see :ref:`Figure 7 <fig_moveleft>`). The position of the parenthesis pair is\n",
    "actually a clue to the final position of the enclosed operator."
   ]
  },
  {
   "cell_type": "markdown",
   "metadata": {},
   "source": [
    "    .. figure:: Figures/moveleft.png\n",
    "       :align: center\n",
    "\n",
    "       Figure 7: Moving Operators to the Left for Prefix Notation"
   ]
  },
  {
   "cell_type": "markdown",
   "metadata": {},
   "source": [
    "So in order to convert an expression, no matter how complex, to either\n",
    "prefix or postfix notation, fully parenthesize the expression using the\n",
    "order of operations. Then move the enclosed operator to the position of\n",
    "either the left or the right parenthesis depending on whether you want\n",
    "prefix or postfix notation.\n",
    "\n",
    "Here is a more complex expression: (A + B) \\* C - (D - E) \\* (F + G).\n",
    ":ref:`Figure 8 <fig_complexmove>` shows the conversion to postfix and prefix\n",
    "notations."
   ]
  },
  {
   "cell_type": "markdown",
   "metadata": {},
   "source": [
    "    .. figure:: Figures/complexmove.png\n",
    "       :align: center\n",
    "\n",
    "       Figure 8: Converting a Complex Expression to Prefix and Postfix Notations"
   ]
  },
  {
   "cell_type": "markdown",
   "metadata": {},
   "source": [
    "### 4.9.2 General Infix-to-Postfix Conversion"
   ]
  },
  {
   "cell_type": "markdown",
   "metadata": {},
   "source": [
    "We need to develop an algorithm to convert any infix expression to a\n",
    "postfix expression. To do this we will look closer at the conversion\n",
    "process.\n",
    "\n",
    "Consider once again the expression A + B \\* C. As shown above,\n",
    "A B C \\* + is the postfix equivalent. We have already noted that the\n",
    "operands A, B, and C stay in their relative positions. It is only the\n",
    "operators that change position. Let’s look again at the operators in the\n",
    "infix expression. The first operator that appears from left to right is\n",
    "+. However, in the postfix expression, + is at the end since the next\n",
    "operator, \\*, has precedence over addition. The order of the operators\n",
    "in the original expression is reversed in the resulting postfix\n",
    "expression.\n",
    "\n",
    "As we process the expression, the operators have to be saved somewhere\n",
    "since their corresponding right operands are not seen yet. Also, the\n",
    "order of these saved operators may need to be reversed due to their\n",
    "precedence. This is the case with the addition and the multiplication in\n",
    "this example. Since the addition operator comes before the\n",
    "multiplication operator and has lower precedence, it needs to appear\n",
    "after the multiplication operator is used. Because of this reversal of\n",
    "order, it makes sense to consider using a stack to keep the operators\n",
    "until they are needed."
   ]
  },
  {
   "cell_type": "markdown",
   "metadata": {},
   "source": [
    "What about (A + B) \\* C? Recall that A B + C \\* is the postfix\n",
    "equivalent. Again, processing this infix expression from left to right,\n",
    "we see + first. In this case, when we see \\*, + has already been placed\n",
    "in the result expression because it has precedence over \\* by virtue of\n",
    "the parentheses. We can now start to see how the conversion algorithm\n",
    "will work. When we see a left parenthesis, we will save it to denote\n",
    "that another operator of high precedence will be coming. That operator\n",
    "will need to wait until the corresponding right parenthesis appears to\n",
    "denote its position (recall the fully parenthesized technique). When\n",
    "that right parenthesis does appear, the operator can be popped from the\n",
    "stack.\n",
    "\n",
    "As we scan the infix expression from left to right, we will use a stack\n",
    "to keep the operators. This will provide the reversal that we noted in\n",
    "the first example. The top of the stack will always be the most recently\n",
    "saved operator. Whenever we read a new operator, we will need to\n",
    "consider how that operator compares in precedence with the operators, if\n",
    "any, already on the stack.\n",
    "\n",
    "Assume the infix expression is a string of tokens delimited by spaces.\n",
    "The operator tokens are \\*, /, +, and -, along with the left and right\n",
    "parentheses, ( and ). The operand tokens are the single-character\n",
    "identifiers A, B, C, and so on. The following steps will produce a\n",
    "string of tokens in postfix order."
   ]
  },
  {
   "cell_type": "markdown",
   "metadata": {},
   "source": [
    "1. Create an empty stack called ``op_stack`` for keeping operators.\n",
    "   Create an empty list for output.\n",
    "\n",
    "1. Convert the input infix string to a list by using the string method\n",
    "   ``split``.\n",
    "\n",
    "1. Scan the token list from left to right.\n",
    "\n",
    "   -  If the token is an operand, append it to the end of the output\n",
    "      list.\n",
    "\n",
    "   -  If the token is a left parenthesis, push it on the ``op_stack``.\n",
    "\n",
    "   -  If the token is a right parenthesis, pop the ``op_stack`` until the\n",
    "      corresponding left parenthesis is removed. Append each operator to\n",
    "      the end of the output list.\n",
    "\n",
    "   -  If the token is an operator, \\*, /, +, or -, push it on the\n",
    "      ``op_stack``. However, first remove any operators already on the\n",
    "      ``op_stack`` that have higher or equal precedence and append them\n",
    "      to the output list.\n",
    "\n",
    "1. When the input expression has been completely processed, check the\n",
    "   ``op_stack``. Any operators still on the stack can be removed and\n",
    "   appended to the end of the output list."
   ]
  },
  {
   "cell_type": "markdown",
   "metadata": {},
   "source": [
    ":ref:`Figure 9 <fig_intopost>` shows the conversion algorithm working on the\n",
    "expression A \\* B + C \\* D. Note that the first \\* operator is removed\n",
    "upon seeing the + operator. Also, + stays on the stack when the second\n",
    "\\* occurs, since multiplication has precedence over addition. At the end\n",
    "of the infix expression the stack is popped twice, removing both\n",
    "operators and placing + as the last operator in the postfix expression."
   ]
  },
  {
   "cell_type": "markdown",
   "metadata": {},
   "source": [
    "    .. figure:: Figures/intopost.png\n",
    "       :align: center\n",
    "\n",
    "       Figure 9: Converting A \\* B + C \\* D to Postfix Notation"
   ]
  },
  {
   "cell_type": "markdown",
   "metadata": {},
   "source": [
    "In order to code the algorithm in Python, we will use a dictionary\n",
    "called ``prec`` to hold the precedence values for the operators. This\n",
    "dictionary will map each operator to an integer that can be compared\n",
    "against the precedence levels of other operators (we have arbitrarily\n",
    "used the integers 3, 2, and 1). The left parenthesis will receive the\n",
    "lowest value possible. This way any operator that is compared against it\n",
    "will have higher precedence and will be placed on top of it.\n",
    "Line 15 defines the operands to be any upper-case character or digit.\n",
    "The complete conversion function is\n",
    "shown in :ref:`ActiveCode 1 <lst_intopost>`."
   ]
  },
  {
   "cell_type": "markdown",
   "metadata": {},
   "source": [
    "    :caption: Converting Infix Expressions to Postfix Expressions\n",
    "    :nocodelens:"
   ]
  },
  {
   "cell_type": "code",
   "execution_count": 13,
   "metadata": {},
   "outputs": [
    {
     "name": "stdout",
     "output_type": "stream",
     "text": [
      "A B * C D * +\n",
      "A B + C * D E - F G + * -\n"
     ]
    }
   ],
   "source": [
    "def infix_to_postfix(infix_expr):\n",
    "    prec = {}\n",
    "    prec[\"*\"] = 3\n",
    "    prec[\"/\"] = 3\n",
    "    prec[\"+\"] = 2\n",
    "    prec[\"-\"] = 2\n",
    "    prec[\"(\"] = 1\n",
    "    op_stack = Stack()\n",
    "    postfix_list = []\n",
    "    token_list = infix_expr.split()\n",
    "\n",
    "    for token in token_list:\n",
    "        if token in \"ABCDEFGHIJKLMNOPQRSTUVWXYZ\" or token in \"0123456789\":\n",
    "            postfix_list.append(token)\n",
    "        elif token == \"(\":\n",
    "            op_stack.push(token)\n",
    "        elif token == \")\":\n",
    "            top_token = op_stack.pop()\n",
    "            while top_token != \"(\":\n",
    "                postfix_list.append(top_token)\n",
    "                top_token = op_stack.pop()\n",
    "        else:\n",
    "            while (not op_stack.is_empty()) and (prec[op_stack.peek()] >= prec[token]):\n",
    "                postfix_list.append(op_stack.pop())\n",
    "            op_stack.push(token)\n",
    "\n",
    "    while not op_stack.is_empty():\n",
    "        postfix_list.append(op_stack.pop())\n",
    "\n",
    "    return \" \".join(postfix_list)\n",
    "\n",
    "print(infix_to_postfix(\"A * B + C * D\"))\n",
    "print(infix_to_postfix(\"( A + B ) * C - ( D - E ) * ( F + G )\"))"
   ]
  },
  {
   "cell_type": "markdown",
   "metadata": {},
   "source": [
    "A few more examples of execution in the Python shell are shown below."
   ]
  },
  {
   "cell_type": "markdown",
   "metadata": {},
   "source": [
    "```python\n",
    ">>> infix_to_postfix(\"( A + B ) * ( C + D )\")\n",
    "'A B + C D + *'\n",
    ">>> infix_to_postfix(\"( A + B ) * C\")\n",
    "'A B + C *'\n",
    ">>> infix_to_postfix(\"A + B * C\")\n",
    "'A B C * +'\n",
    ">>>\n",
    "```"
   ]
  },
  {
   "cell_type": "markdown",
   "metadata": {},
   "source": [
    "### 4.9.3 Postfix Evaluation"
   ]
  },
  {
   "cell_type": "markdown",
   "metadata": {},
   "source": [
    "As a final stack example, we will consider the evaluation of an\n",
    "expression that is already in postfix notation. In this case, a stack is\n",
    "again the data structure of choice. However, as you scan the postfix\n",
    "expression, it is the operands that must wait, not the operators as in\n",
    "the conversion algorithm above. Another way to think about the solution\n",
    "is that whenever an operator is seen on the input, the two most recent\n",
    "operands will be used in the evaluation.\n",
    "\n",
    "To see this in more detail, consider the postfix expression\n",
    "``4 5 6 * +``. As you scan the expression from left to right, you first\n",
    "encounter the operands 4 and 5. At this point, you are still unsure what\n",
    "to do with them until you see the next symbol. Placing each on the stack\n",
    "ensures that they are available if an operator comes next.\n",
    "\n",
    "In this case, the next symbol is another operand. So, as before, push it\n",
    "and check the next symbol. Now we see an operator, \\*. This means that\n",
    "the two most recent operands need to be used in a multiplication\n",
    "operation. By popping the stack twice, we can get the proper operands\n",
    "and then perform the multiplication (in this case getting the result\n",
    "30).\n",
    "\n",
    "We can now handle this result by placing it back on the stack so that it\n",
    "can be used as an operand for the later operators in the expression.\n",
    "When the final operator is processed, there will be only one value left\n",
    "on the stack. Pop and return it as the result of the expression.\n",
    ":ref:`Figure 10 <fig_evalpost1>` shows the stack contents as this entire example\n",
    "expression is being processed."
   ]
  },
  {
   "cell_type": "markdown",
   "metadata": {},
   "source": [
    "    .. figure:: Figures/evalpostfix1.png\n",
    "       :align: center\n",
    "\n",
    "       Figure 10: Stack Contents During Evaluation"
   ]
  },
  {
   "cell_type": "markdown",
   "metadata": {},
   "source": [
    ":ref:`Figure 11 <fig_evalpost2>` shows a slightly more complex example, 7 8 + 3 2\n",
    "+ /. There are two things to note in this example. First, the stack size\n",
    "grows, shrinks, and then grows again as the subexpressions are\n",
    "evaluated. Second, the division operation needs to be handled carefully.\n",
    "Recall that the operands in the postfix expression are in their original\n",
    "order since postfix changes only the placement of operators. When the\n",
    "operands for the division are popped from the stack, they are reversed.\n",
    "Since division is *not* a commutative operator, in other words\n",
    ":math:`15/5` is not the same as :math:`5/15`, we must be sure that\n",
    "the order of the operands is not switched."
   ]
  },
  {
   "cell_type": "markdown",
   "metadata": {},
   "source": [
    "    .. figure:: Figures/evalpostfix2.png\n",
    "       :align: center\n",
    "\n",
    "       Figure 11: A More Complex Example of Evaluation"
   ]
  },
  {
   "cell_type": "markdown",
   "metadata": {},
   "source": [
    "Assume the postfix expression is a string of tokens delimited by spaces.\n",
    "The operators are \\*, /, +, and - and the operands are assumed to be\n",
    "single-digit integer values. The output will be an integer result."
   ]
  },
  {
   "cell_type": "markdown",
   "metadata": {},
   "source": [
    "1. Create an empty stack called ``operand_stack``.\n",
    "\n",
    "1. Convert the string to a list by using the string method ``split``.\n",
    "\n",
    "1. Scan the token list from left to right.\n",
    "\n",
    "   -  If the token is an operand, convert it from a string to an integer\n",
    "      and push the value onto the ``operand_stack``.\n",
    "\n",
    "   -  If the token is an operator, \\*, /, +, or -, it will need two\n",
    "      operands. Pop the ``operand_stack`` twice. The first pop is the\n",
    "      second operand and the second pop is the first operand. Perform\n",
    "      the arithmetic operation. Push the result back on the\n",
    "      ``operand_stack``.\n",
    "\n",
    "1. When the input expression has been completely processed, the result\n",
    "   is on the stack. Pop the ``operand_stack`` and return the value."
   ]
  },
  {
   "cell_type": "markdown",
   "metadata": {},
   "source": [
    "The complete function for the evaluation of postfix expressions is shown\n",
    "in :ref:`ActiveCode 2 <lst_postfixeval>`. To assist with the arithmetic, a helper\n",
    "function ``do_math`` is defined that will take two operands and an\n",
    "operator and then perform the proper arithmetic operation."
   ]
  },
  {
   "cell_type": "markdown",
   "metadata": {},
   "source": [
    "    .. activecode:: postfixeval\n",
    "        :caption: Postfix Evaluation\n",
    "        :nocodelens:"
   ]
  },
  {
   "cell_type": "code",
   "execution_count": 14,
   "metadata": {},
   "outputs": [
    {
     "name": "stdout",
     "output_type": "stream",
     "text": [
      "3.0\n"
     ]
    }
   ],
   "source": [
    "def postfix_eval(postfix_expr):\n",
    "    operand_stack = Stack()\n",
    "    token_list = postfix_expr.split()\n",
    "\n",
    "    for token in token_list:\n",
    "        if token in \"0123456789\":\n",
    "            operand_stack.push(int(token))\n",
    "        else:\n",
    "            operand2 = operand_stack.pop()\n",
    "            operand1 = operand_stack.pop()\n",
    "            result = do_math(token, operand1, operand2)\n",
    "            operand_stack.push(result)\n",
    "    return operand_stack.pop()\n",
    "\n",
    "\n",
    "def do_math(op, op1, op2):\n",
    "    if op == \"*\":\n",
    "        return op1 * op2\n",
    "    elif op == \"/\":\n",
    "        return op1 / op2\n",
    "    elif op == \"+\":\n",
    "        return op1 + op2\n",
    "    else:\n",
    "        return op1 - op2\n",
    "\n",
    "\n",
    "print(postfix_eval(\"7 8 + 3 2 + /\"))"
   ]
  },
  {
   "cell_type": "markdown",
   "metadata": {},
   "source": [
    "It is important to note that in both the postfix conversion and the\n",
    "postfix evaluation programs we assumed that there were no errors in the\n",
    "input expression. Using these programs as a starting point, you can\n",
    "easily see how error detection and reporting can be included. We leave\n",
    "this as an exercise at the end of the chapter."
   ]
  },
  {
   "cell_type": "markdown",
   "metadata": {},
   "source": [
    "__Self Check__"
   ]
  },
  {
   "cell_type": "markdown",
   "metadata": {},
   "source": [
    "Q-3: Without using the activecode ``infix_to_postfix`` function, convert the following expression to postfix  ``10 + 3 * 5 / (16 - 4)``."
   ]
  },
  {
   "cell_type": "markdown",
   "metadata": {},
   "source": [
    "Q-4: What is the result of evaluating the following: ``17 10 + 3 * 9 / ==`` ?\n",
    "\n",
    "정답: 9"
   ]
  },
  {
   "cell_type": "markdown",
   "metadata": {},
   "source": [
    "Q-5: Modify the ``infix_to_postfix`` function so that it can convert the following expression:  ``5 * 3 ** (4 - 2)``. Run the function on the expression and paste the answer here"
   ]
  },
  {
   "cell_type": "markdown",
   "metadata": {},
   "source": [
    "    .. youtube:: LO-2q4pSsdM\n",
    "        :divid: video_Stack3\n",
    "        :height: 315\n",
    "        :width: 560\n",
    "        :align: left"
   ]
  },
  {
   "cell_type": "markdown",
   "metadata": {},
   "source": [
    "### Discussion Questions"
   ]
  },
  {
   "cell_type": "markdown",
   "metadata": {},
   "source": [
    "1. Convert the following infix expressions to prefix (use full\n",
    "   parentheses):\n",
    "\n",
    "   -  (A+B)\\*(C+D)\\*(E+F)\n",
    "\n",
    "   -  A+((B+C)\\*(D+E))\n",
    "\n",
    "   -  A\\*B\\*C\\*D+E+F\n",
    "\n",
    "1. Convert the above infix expressions to postfix (use full\n",
    "   parentheses).\n",
    "\n",
    "1. Convert the above infix expressions to postfix using the direct\n",
    "   conversion algorithm. Show the stack as the conversion takes place.\n",
    "\n",
    "1. Evaluate the following postfix expressions. Show the stack as each\n",
    "   operand and operator is processed.\n",
    "\n",
    "   -  2 3 \\* 4 +\n",
    "\n",
    "   -  1 2 + 3 + 4 + 5 +\n",
    "\n",
    "   -  1 2 3 4 5 \\* + \\* +"
   ]
  },
  {
   "cell_type": "markdown",
   "metadata": {},
   "source": [
    "### 프로그래밍 실습 문제"
   ]
  },
  {
   "cell_type": "markdown",
   "metadata": {},
   "source": [
    "#### 괄호 짝맞추기"
   ]
  },
  {
   "cell_type": "markdown",
   "metadata": {},
   "source": [
    "1. HTML 문서에 사용되는 태그(tag)는 아래 예제에서처럼 여는 형식과 닫는 형식의 짝이 맞아야 한다. \n",
    "    \n",
    "    ```html\n",
    "    <html>\n",
    "      <head>\n",
    "         <title>\n",
    "            문제해결 알고리즘\n",
    "         </title>\n",
    "      </head>\n",
    "\n",
    "      <body>\n",
    "         <h1>스택 자료형</h1>\n",
    "      </body>\n",
    "    </html>\n",
    "    ```\n",
    "\n",
    "    HTML 문서를 대상으로 태그 짝맞추기 여부를 판별하는 함수를 구현하라."
   ]
  },
  {
   "cell_type": "markdown",
   "metadata": {},
   "source": [
    "#### 전위, 중위, 후위 표기법"
   ]
  },
  {
   "cell_type": "markdown",
   "metadata": {},
   "source": [
    "1. Modify the infix-to-postfix algorithm so that it can handle errors.\n",
    "\n",
    "1. Modify the postfix evaluation algorithm so that it can handle errors.\n",
    "\n",
    "1. Implement a direct infix evaluator that combines the functionality of\n",
    "   infix-to-postfix conversion and the postfix evaluation algorithm.\n",
    "   Your evaluator should process infix tokens from left to right and use\n",
    "   two stacks, one for operators and one for operands, to perform the\n",
    "   evaluation.\n",
    "\n",
    "1. Turn your direct infix evaluator from the previous problem into a\n",
    "   calculator."
   ]
  }
 ],
 "metadata": {
  "kernelspec": {
   "display_name": "Python 3 (ipykernel)",
   "language": "python",
   "name": "python3"
  },
  "language_info": {
   "codemirror_mode": {
    "name": "ipython",
    "version": 3
   },
   "file_extension": ".py",
   "mimetype": "text/x-python",
   "name": "python",
   "nbconvert_exporter": "python",
   "pygments_lexer": "ipython3",
   "version": "3.10.6"
  }
 },
 "nbformat": 4,
 "nbformat_minor": 4
}
