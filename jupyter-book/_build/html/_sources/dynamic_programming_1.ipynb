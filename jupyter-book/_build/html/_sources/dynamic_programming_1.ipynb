{
 "cells": [
  {
   "attachments": {},
   "cell_type": "markdown",
   "metadata": {},
   "source": [
    "(sec:dynamic_programming_1)=\n",
    "# 최적화 문제와 동적계획법"
   ]
  },
  {
   "cell_type": "markdown",
   "metadata": {},
   "source": [
    "**소스코드**\n",
    "\n",
    "아래 내용을 \n",
    "[(구글 코랩) 최적화 문제와 동적계획법](https://colab.research.google.com/github/codingalzi/algopy/blob/master/jupyter-book/dynamic_programming_1.ipynb)에서 \n",
    "직접 실행할 수 있다."
   ]
  },
  {
   "cell_type": "markdown",
   "metadata": {},
   "source": [
    "**주요 내용**\n",
    "\n",
    "- 최적화 문제\n",
    "- 잔돈 지불 문제\n",
    "- 메모이제이션\n",
    "- 동적계획법\n",
    "- 이항 계수"
   ]
  },
  {
   "cell_type": "markdown",
   "metadata": {},
   "source": [
    "## 최적화 문제"
   ]
  },
  {
   "cell_type": "markdown",
   "metadata": {},
   "source": [
    "**동적계획법**<font size='2'>Dynamic programming</font>은 \n",
    "**최적화 문제**<font size='2'>optimization problem</font>의 해결에\n",
    "사용되는 기법중 하나다. \n",
    "최적화 문제는 여러 개의 해답 중에서 주어진 조건을 만족하는 최적의 해답을 찾는 문제이다. \n",
    "최적의 기준은 문제에 따라 다르며 보통 특정 기준에 맞는 최댓값 또는 최솟값을 사용한다."
   ]
  },
  {
   "cell_type": "markdown",
   "metadata": {},
   "source": [
    "**예제: 두 지점 사이의 최단 경로 찾기**\n",
    "\n",
    "아래 그림의 $v_1$에서 다른 지점으로 이동하는 가장 짧은 경로를 찾아야 한다.\n",
    "숫자는 두 지점 사이의 경로의 길이를 나타낸다."
   ]
  },
  {
   "cell_type": "markdown",
   "metadata": {},
   "source": [
    "<figure>\n",
    "<div align=\"center\"><img src=\"https://raw.githubusercontent.com/codingrg-hknu/FoundationsOfAlgorithms/master/slides/images/algo04/algo04-07.png\" width=\"40%\"></div>\n",
    "</figure>"
   ]
  },
  {
   "cell_type": "markdown",
   "metadata": {},
   "source": [
    "최적화 문제를 해결하는 다양한 기법이 존재한다.\n",
    "여기서는 잔돈 지불 문제를 이용하여 다양한 해결책의 장단점을 살펴본다."
   ]
  },
  {
   "cell_type": "markdown",
   "metadata": {},
   "source": [
    "## 잔돈 지불 문제"
   ]
  },
  {
   "cell_type": "markdown",
   "metadata": {},
   "source": [
    "1원, 5원, 10원, 25원짜리 동전만을 이용하여 잔돈을 지불하고자 한다.\n",
    "이때 63원을 지불하기 위해 필요한 최소한의 동전 개수는 얼마인가?"
   ]
  },
  {
   "cell_type": "markdown",
   "metadata": {},
   "source": [
    "**기법 1: 탐욕 기법**"
   ]
  },
  {
   "cell_type": "markdown",
   "metadata": {},
   "source": [
    "**탐욕 기법**<font size='2'>greedy method</font>은 정해진 기준에 따라 **매 선택 순간에 가장 좋은 것**을 선택하는 기법이다.\n",
    "잔돈 지불 문제의 경우 가능한한 가장 큰 단위의 동전을 먼저 사용하는 것을 의미한다.\n",
    "따라서 63원을 잔돈으로 지불하려면 6개의 동전이 필요하다.\n",
    "\n",
    "- 25원 동전: 2개\n",
    "- 10원 동전: 1개\n",
    "- 1원 동전: 3개\n",
    "\n",
    "그런데 탐욕 알고리즘이 항상 최선의 해답을 제공하지는 않는다.\n",
    "만약에 21원짜리 동전이 추가된다면, 필요한 동전의 최소 개수는 21원 짜리 동전 3개이다. \n",
    "하지만 탐욕 기법은 이전과 동일하게 6개의 동전을 사용하는 해법을 제시한다."
   ]
  },
  {
   "cell_type": "markdown",
   "metadata": {},
   "source": [
    "**기법 2: 완전 탐색**"
   ]
  },
  {
   "cell_type": "markdown",
   "metadata": {},
   "source": [
    "지정된 액수의 잔돈을 지불할 수 있는 최소한의 동전 개수를 \n",
    "아래와 같이 재귀로 계산할 수 있다.\n",
    "즉, 지불액 지불에 필요한 최소한의 동전 개수는 지불액에서 1원, 5원, 10원, 25원을\n",
    "뺀 각각의 값을 지불하는 데에 필요한 최소한의 동전 개수로 계산한다."
   ]
  },
  {
   "cell_type": "markdown",
   "metadata": {},
   "source": [
    "$$\n",
    "\\text{동전개수} =\n",
    "min\n",
    "\\begin{cases}\n",
    "1 + \\text{동전개수}(\\text{지불액} - 1)\\quad\\quad \\text{(1원 동전을 최소 하나 사용한 경우)} \\\\\n",
    "1 + \\text{동전개수}(\\text{지불액} - 5)\\quad\\quad \\text{(5원 동전을 최소 하나 사용한 경우)} \\\\\n",
    "1 + \\text{동전개수}(\\text{지불액} - 10)\\quad\\quad \\text{(10원 동전을 최소 하나 사용한 경우)} \\\\\n",
    "1 + \\text{동전개수}(\\text{지불액} - 25)\\quad\\quad \\text{(25원 동전을 최소 하나 사용한 경우)}\n",
    "\\end{cases}\n",
    "$$"
   ]
  },
  {
   "cell_type": "markdown",
   "metadata": {},
   "source": [
    "이처럼 가능한 모든 경우를 고려하는 기법을 **완전 탐색**이라 하며\n",
    "영어로 **부르트 포스**<font size='2'>brute force</font> 기법이라 한다. \n",
    "`make_change_1()` 함수는 앞서 설명한 재귀 알고리즘을 구현한다.\n",
    "함수 선언에 사용된 변수들의 역할은 다음과 같다.\n",
    "\n",
    "- `coin_value_list`: 사용 가능한 동전들의 리스트\n",
    "- `change`: 잔돈 지불액\n",
    "- `min_coins`: 잔돈 지불에 필요한 최소 동전 개수"
   ]
  },
  {
   "cell_type": "code",
   "execution_count": 1,
   "metadata": {},
   "outputs": [],
   "source": [
    "def make_change_1(coin_value_list, change):\n",
    "    min_coins = change                          # 최소 동전 개수 초기화\n",
    "\n",
    "    if change in coin_value_list:               # 종료 조건\n",
    "        return 1\n",
    "    else:\n",
    "        # 하나의 동전을 사용한 각각의 경우: 재귀 적용\n",
    "        for i in [c for c in coin_value_list if c <= change]:  \n",
    "            num_coins = 1 + make_change_1(coin_value_list, change - i)\n",
    "            \n",
    "            if num_coins < min_coins:            # 최소 동전 수 업데이트\n",
    "                min_coins = num_coins\n",
    "    \n",
    "    return min_coins"
   ]
  },
  {
   "cell_type": "code",
   "execution_count": 2,
   "metadata": {},
   "outputs": [
    {
     "data": {
      "text/plain": [
       "6"
      ]
     },
     "execution_count": 2,
     "metadata": {},
     "output_type": "execute_result"
    }
   ],
   "source": [
    "make_change_1([1, 5, 10, 25], 63)"
   ]
  },
  {
   "cell_type": "markdown",
   "metadata": {},
   "source": [
    "**재귀 알고리즘의 기본 문제**"
   ]
  },
  {
   "cell_type": "markdown",
   "metadata": {},
   "source": [
    "재귀 알고리즘의 실행에 많은 시간이 걸린다.\n",
    "이유는 `make_change_1()` 함수가 63원의 잔돈 지불에 \n",
    "필요한 최소 동전 수를 계산하기 위해 무려 67,716,925 번 호출되기 대문이다. \n",
    "\n",
    "아래 그림은 잔돈 26원을 지불하기에 필요한 최소한의 동전 수를 계산하는 \n",
    "과정의 일부를 보여준다. \n",
    "그림에서 보면 예를 들어 `make_change_1(15)`가 최소 3번 이상 호출됨을 알 수 있다.\n",
    "실제로 `make_change_1(26)`을 실행하면 중간에\n",
    "`make_change_1(15)`가 52번 호출된다.\n",
    "즉, 동일한 인자를 사용하는 함수 호출이 반복적으로 너무 많이 발생한다."
   ]
  },
  {
   "cell_type": "markdown",
   "metadata": {},
   "source": [
    "<figure>\n",
    "<div align=\"center\"><img src=\"https://raw.githubusercontent.com/codingalzi/algopy/master/notebooks/_images/callTree.png\" width=\"70%\"></div>\n",
    "</figure>"
   ]
  },
  {
   "cell_type": "markdown",
   "metadata": {},
   "source": [
    "**기법 3: 메모이제이션(Memoization)**"
   ]
  },
  {
   "cell_type": "markdown",
   "metadata": {},
   "source": [
    "언급된 동일 인자에 대한 반복 호출 문제는 **메모이제이션**<font size='2'>memoization</font> 기법으로\n",
    "간단하게 해결된다.\n",
    "메모이제이션은 한 번 호출되어 실행된 값을 기억해두고 필요한 경우 \n",
    "다시 계산하는 대신 저장된 값을 재활용하는 기법이다. \n",
    "한 번 호출되어 반환된 값을 기억하기 위해 \n",
    "여기서는 **디폴트딕트**(`defaultdict`) 객체를 활용한다.\n",
    "`defaultdict` 객체는 사전과 거의 동일한 모음 자료형이다.\n",
    "사전 객체와는 달리 특정 키의 포함 여부를 미리 확인할 필요가 없다."
   ]
  },
  {
   "cell_type": "markdown",
   "metadata": {},
   "source": [
    "사전 자료형의 경우 지정된 키가 없으면 오류가 발생한다."
   ]
  },
  {
   "cell_type": "markdown",
   "metadata": {},
   "source": [
    "```python\n",
    ">>> aDict = {}\n",
    ">>> aDict[10]\n",
    "\n",
    "---------------------------------------------------------------------------\n",
    "KeyError                                  Traceback (most recent call last)\n",
    "<ipython-input-24-f93551ca9406> in <module>\n",
    "      1 aDict = {}\n",
    "----> 2 aDict[10]\n",
    "\n",
    "KeyError: 10\n",
    "```"
   ]
  },
  {
   "cell_type": "markdown",
   "metadata": {},
   "source": [
    "반면에 `defaultdict` 객체를 생성할 때 값들의 자료형을 명시해야 하며, `int`의 경우 모든 키의 값이 0으로 초기화된다고\n",
    "생각할 수 있다."
   ]
  },
  {
   "cell_type": "code",
   "execution_count": 3,
   "metadata": {},
   "outputs": [
    {
     "data": {
      "text/plain": [
       "0"
      ]
     },
     "execution_count": 3,
     "metadata": {},
     "output_type": "execute_result"
    }
   ],
   "source": [
    "from collections import defaultdict\n",
    "\n",
    "aDict = defaultdict(int)\n",
    "aDict[10]"
   ]
  },
  {
   "cell_type": "markdown",
   "metadata": {},
   "source": [
    "아래 `make_change_2()` 함수는 재귀 호출이 발생할 때마다 그 결과를 디폴트딕트에 기억해두고,\n",
    "필요한 경우 재활용한다."
   ]
  },
  {
   "cell_type": "code",
   "execution_count": 4,
   "metadata": {},
   "outputs": [],
   "source": [
    "from collections import defaultdict\n",
    "\n",
    "def make_change_2(coin_value_list, change, known_results=defaultdict(int)):    \n",
    "    min_coins = change\n",
    "    \n",
    "    if change in coin_value_list:\n",
    "        known_results[change] = 1\n",
    "        return 1\n",
    "    \n",
    "    # 기존에 호출되었다면 저장된 값 재활용\n",
    "    elif known_results[change] > 0:\n",
    "        return known_results[change]\n",
    "    \n",
    "    else:\n",
    "        for i in [c for c in coin_value_list if c <= change]:\n",
    "            num_coins = 1 + make_change_2(coin_value_list, change - i, known_results)\n",
    "            if num_coins < min_coins:\n",
    "                min_coins = num_coins\n",
    "            known_results[change] = min_coins\n",
    "    return min_coins"
   ]
  },
  {
   "cell_type": "markdown",
   "metadata": {},
   "source": [
    "`make_change_1()` 함수의 경우보다 훨씬 빠르게 계산한다.\n",
    "실제로 `make_change_2()` 함수의 재귀 호출 횟수는 206회에 불과하다."
   ]
  },
  {
   "cell_type": "code",
   "execution_count": 5,
   "metadata": {},
   "outputs": [
    {
     "data": {
      "text/plain": [
       "6"
      ]
     },
     "execution_count": 5,
     "metadata": {},
     "output_type": "execute_result"
    }
   ],
   "source": [
    "make_change_2([1, 5, 10, 25], 63)"
   ]
  },
  {
   "cell_type": "markdown",
   "metadata": {},
   "source": [
    "**기법 4: 동적계획법(dynamic programming)**"
   ]
  },
  {
   "cell_type": "markdown",
   "metadata": {},
   "source": [
    "동적계획법은 **재귀를 사용하지 않는 대신** 종료조건에서 출발하여\n",
    "차례대로 필요한 인자에 해당하는 값까지 쌓아가는 기법이다. \n",
    "예를 들어 잔돈 63원을 지불해야 하는 경우 1원부터 출발해서 \n",
    "63원까지 각각의 경우에 필요한 최소 동전 수를 계산한다. \n",
    "앞서 살펴 본 메모이제이션 기법을 거꾸로 적용하는 것과 유사하지만\n",
    "1원, 2원, 3원 등부터 63원까지 **모든 경우**에 대해 차례대로 필요한 최소 동전 수를\n",
    "저장해 두고 재활용한다.\n",
    "\n",
    "아래 그림은 1원부터 11원까지 잔돈 지불에 필요한 최소 동전 수를 저장하는 과정을 보여준다.\n",
    "예를 들어, 11원을 지불하고자 하는 경우 아래 세 경우를 확인한 다음에 최솟값을 선택한다.\n",
    "\n",
    "- 1원 동전을 사용하는 경우: 나머지 10원을 지불할 때 필요한 최소 동전 수에 1을 더한 값\n",
    "- 5원 동전을 사용하는 경우: 나머지 6원을 지불할 때 필요한 최소 동전 수에 1을 더한 값\n",
    "- 10원 동전을 사용하는 경우: 나머지 1원을 지불할 때 필요한 최소 동전 수에 1을 더한 값"
   ]
  },
  {
   "cell_type": "markdown",
   "metadata": {},
   "source": [
    "<figure>\n",
    "<div align=\"center\"><img src=\"https://raw.githubusercontent.com/codingalzi/algopy/master/notebooks/_images/changeTable.png\" width=\"60%\"></div>\n",
    "</figure>"
   ]
  },
  {
   "cell_type": "markdown",
   "metadata": {},
   "source": [
    "동적계획법을 이용하여 잔돈 지불 문제를 해결하는 알고리즘은 다음과 같다.\n",
    "계산이 매우 빨라졌으며, 재귀 호출도 전혀 없다."
   ]
  },
  {
   "cell_type": "code",
   "execution_count": 6,
   "metadata": {},
   "outputs": [],
   "source": [
    "from collections import defaultdict\n",
    "\n",
    "def make_change_3(coin_value_list, change):\n",
    "    min_coins = defaultdict(int)\n",
    "    \n",
    "    # 1원부터 차례대로 최소 동전 수 계산\n",
    "    for changeToMake in range(1, change + 1):\n",
    "        coin_count = changeToMake\n",
    "        # 사용 \n",
    "        for j in [c for c in coin_value_list if c <= changeToMake]:\n",
    "            # 하나의 동전을 사용한 각각의 경우: 이전에 계산되어 저장된 값 활용\n",
    "            if min_coins[changeToMake - j] + 1 < coin_count:\n",
    "                coin_count = min_coins[changeToMake - j] + 1\n",
    "        \n",
    "        min_coins[changeToMake] = coin_count\n",
    "    \n",
    "    # 최종적으로 계산된 값 반환\n",
    "    return min_coins[change]"
   ]
  },
  {
   "cell_type": "code",
   "execution_count": 7,
   "metadata": {},
   "outputs": [
    {
     "name": "stdout",
     "output_type": "stream",
     "text": [
      "6\n"
     ]
    }
   ],
   "source": [
    "print(make_change_3([1, 5, 10, 25], 63))"
   ]
  },
  {
   "cell_type": "markdown",
   "metadata": {},
   "source": [
    "**잔돈 지불 방법 출력**"
   ]
  },
  {
   "cell_type": "markdown",
   "metadata": {},
   "source": [
    "지불에 필요한 최소 동전 수와 함께\n",
    "실제로 어떻게 지불해야하는가를 알려주도록 하려면\n",
    "지불에 사용되는 동전을 기억해 두면 된다.\n",
    "아래 코드의 `coins_used` 는 특정 액수의 잔돈을 지불할 때 가장 마지막에 사용되는 동전을 기억한다. "
   ]
  },
  {
   "cell_type": "code",
   "execution_count": 1,
   "metadata": {},
   "outputs": [],
   "source": [
    "from collections import defaultdict\n",
    "\n",
    "def make_change_4(coin_value_list, change):\n",
    "    min_coins = defaultdict(int)\n",
    "    coins_used = defaultdict(int)  # 특정 액수의 잔돈을 지불할 때 사용되는 마지막 동전 기억.\n",
    "    \n",
    "    # 1원부터 차례대로 최소 동전 수 계산\n",
    "    for changeToMake in range(1, change + 1):\n",
    "        coin_count = changeToMake\n",
    "        new_coin = 1\n",
    "        # 사용 \n",
    "        for j in [c for c in coin_value_list if c <= changeToMake]:\n",
    "            # 하나의 동전을 사용한 각각의 경우: 이전에 계산되어 저장된 값 활용\n",
    "            if min_coins[changeToMake - j] + 1 < coin_count:\n",
    "                coin_count = min_coins[changeToMake - j] + 1\n",
    "                new_coin = j\n",
    "        \n",
    "        min_coins[changeToMake] = coin_count\n",
    "        coins_used[changeToMake] = new_coin    # changeToMake 를 지불할 때 사용되는 마지막 동전 기억\n",
    "    \n",
    "    # 최종적으로 계산된 값 반환\n",
    "    return min_coins[change], coins_used"
   ]
  },
  {
   "cell_type": "markdown",
   "metadata": {},
   "source": [
    "`print_coins()` 함수는 잔돈 지불에 필요한 모든 동전을 출력한다."
   ]
  },
  {
   "cell_type": "code",
   "execution_count": null,
   "metadata": {},
   "outputs": [],
   "source": [
    "\n",
    "def print_coins(coins_used, change):\n",
    "    coin = change\n",
    "    while coin > 0:\n",
    "        this_coin = coins_used[coin]\n",
    "        print(this_coin, end=\" \")\n",
    "        coin = coin - this_coin\n",
    "    print()"
   ]
  },
  {
   "cell_type": "markdown",
   "metadata": {},
   "source": [
    "예를 들어, 63원을 지불하려면 6개의 최소 동전이 필요하며 지불 방식은 다음과 같다."
   ]
  },
  {
   "cell_type": "code",
   "execution_count": 9,
   "metadata": {},
   "outputs": [
    {
     "name": "stdout",
     "output_type": "stream",
     "text": [
      "잔돈 63 센트를 지불하기 위해 다음 6 개의 동전 필요: 1 1 1 10 25 25 \n"
     ]
    }
   ],
   "source": [
    "amount = 63\n",
    "coin_list = [1, 5, 10, 25]\n",
    "\n",
    "num_coins, coins_used = make_change_4(coin_list, amount)\n",
    "\n",
    "print(f\"잔돈 {amount} 센트를 지불하기 위해 다음 {num_coins} 개의 동전 필요:\", end=\" \")\n",
    "print_coins(coins_used, amount)"
   ]
  },
  {
   "cell_type": "markdown",
   "metadata": {},
   "source": [
    "아래 코드는 21원 동전이 추가되면 21원 동전 3개만 있으면 됨을 확인해준다."
   ]
  },
  {
   "cell_type": "code",
   "execution_count": 10,
   "metadata": {},
   "outputs": [
    {
     "name": "stdout",
     "output_type": "stream",
     "text": [
      "잔돈 63 센트를 지불하기 위해 다음 3 개의 동전 필요: 21 21 21 \n"
     ]
    }
   ],
   "source": [
    "amount = 63\n",
    "coin_list = [1, 5, 10, 21, 25]\n",
    "\n",
    "num_coins, coins_used = make_change_4(coin_list, amount)\n",
    "\n",
    "print(f\"잔돈 {amount} 센트를 지불하기 위해 다음 {num_coins} 개의 동전 필요:\", end=\" \")\n",
    "print_coins(coins_used, amount)"
   ]
  },
  {
   "cell_type": "markdown",
   "metadata": {},
   "source": [
    "## 이항 계수"
   ]
  },
  {
   "cell_type": "markdown",
   "metadata": {},
   "source": [
    "**파스칼의 삼각형**"
   ]
  },
  {
   "cell_type": "markdown",
   "metadata": {},
   "source": [
    "**파스칼의 삼각형**은 이전 행의 두 원소를 더해 새로운 원소를 추가하는 \n",
    "과정을 반복해서 생성하는 삼각형이다. "
   ]
  },
  {
   "cell_type": "markdown",
   "metadata": {},
   "source": [
    "<div align=\"center\"><img src=\"https://raw.githubusercontent.com/codingrg-hknu/FoundationsOfAlgorithms/master/slides/images/algo03/algo03-01.gif\" width=\"250\"/></div>\n",
    "\n",
    "<출처: [파스칼의 삼각형(위키피디아)](https://en.wikipedia.org/wiki/Pascal%27s_triangle)>"
   ]
  },
  {
   "cell_type": "markdown",
   "metadata": {},
   "source": [
    "**이항 계수**"
   ]
  },
  {
   "cell_type": "markdown",
   "metadata": {},
   "source": [
    "파스칼의 삼각형의 n 행, k 번째 값은 **이항 계수**(binomial coefficients)\n",
    "\n",
    "$$\n",
    "{n\\choose k} = \\frac{n!}{k! \\, (n-k)!}    \n",
    "$$\n",
    "\n",
    "와 동일하다.\n",
    "이항 계수의 의미는 아래 등식에서 유래한다. \n",
    "\n",
    "$$\n",
    "\\begin{align*}\n",
    "(a + b)^n &= a^n + {n\\choose 1}a^{n-1}b + {n\\choose 2}a^{n-2}b^2 + \\cdots + {n\\choose n-1} ab^{n-1} + b^n \\\\\n",
    "&= \\sum_{k=0}^{n} {n\\choose k}a^{n-k} b^{k}\n",
    "\\end{align*}\n",
    "$$\n",
    "\n",
    "또한 이항 계수는 서로 다른 $n$ 개의 구술에서 임의로 서로 다른 $k$개의 구술을 \n",
    "선택하는 방법을 의미하기도 한다.\n",
    "실제로 다음이 성립한다. \n",
    "\n",
    "$$\n",
    "{n\\choose k} = \n",
    "\\begin{cases}\n",
    "{n-1 \\choose k-1} + {n-1\\choose k} & , 0 < k < n\\\\\n",
    "& \\\\\n",
    "1 & , k \\in \\{0, n\\}\n",
    "\\end{cases}\n",
    "$$\n",
    "\n",
    "이 성질을 이용하여 파스칼의 삼각형의 n 행, k 번째 값, 즉 이항 계수 ${n \\choose k}$\n",
    "를 계산하는 함수를 구현해보자."
   ]
  },
  {
   "cell_type": "markdown",
   "metadata": {},
   "source": [
    "**재귀 활용**"
   ]
  },
  {
   "cell_type": "markdown",
   "metadata": {},
   "source": [
    "위 식을 그대로 재귀로 구현하면 다음과 같다."
   ]
  },
  {
   "cell_type": "code",
   "execution_count": 11,
   "metadata": {},
   "outputs": [],
   "source": [
    "def bin(n, k):\n",
    "    # 종료조건\n",
    "    if k == 0 or k == n:\n",
    "        return 1\n",
    "    \n",
    "    # 재귀\n",
    "    else:    \n",
    "        return bin(n-1, k-1) + bin(n-1, k)"
   ]
  },
  {
   "cell_type": "markdown",
   "metadata": {},
   "source": [
    "`make_change1()` 함수의 경우처럼 매우 비효율적인 알고리즘이다. \n",
    "실제로 `bin(n, k)` 계산을 위해 필요한 `bin()` 함수 호출 횟수는 다음과 같다.\n",
    "\n",
    "$$\n",
    "2{n\\choose k} -1\n",
    "$$\n",
    "\n",
    "기본적으로 지수함수 정도의 나쁜 시간복잡도를 갖는다.\n",
    "\n",
    "$$\n",
    "{n\\choose k} \\approx \\frac{n^k}{k!}\n",
    "$$"
   ]
  },
  {
   "cell_type": "markdown",
   "metadata": {},
   "source": [
    "**동적계획법 적용**"
   ]
  },
  {
   "cell_type": "markdown",
   "metadata": {},
   "source": [
    "${n \\choose k}$를 구하기 위해 아래 그림과 같이 2차원 행렬 $B$의 항목을 채워나가야 함.\n",
    "* $B[0][0]$ 에서 시작\n",
    "* 위에서 아래로 재귀 관계식을 적용하여 파스칼의 삼각형을 완성해 나감"
   ]
  },
  {
   "cell_type": "markdown",
   "metadata": {},
   "source": [
    "<figure>\n",
    "<div align=\"center\"><img src=\"https://raw.githubusercontent.com/codingalzi/algopy/master/notebooks/_images/pascalTriangle.png\" width=\"40%\"></div>\n",
    "</figure>"
   ]
  },
  {
   "cell_type": "markdown",
   "metadata": {},
   "source": [
    "그림 내용을 함수로 구현하면 다음과 같다."
   ]
  },
  {
   "cell_type": "code",
   "execution_count": 12,
   "metadata": {},
   "outputs": [],
   "source": [
    "def bin2(n, k):\n",
    "    # (n, k) 모양의 2차원 행렬 준비. 리스트 조건제시법 활용\n",
    "    \n",
    "    B = [[0 for _ in range(k+1)] for _ in range(n+1)]\n",
    "    \n",
    "    # 동적계획법으로 행렬 대각선 이하 부분 채워나가기\n",
    "    for i in range(n+1):\n",
    "        for j in range(min(i, k) + 1):\n",
    "            \n",
    "            if j == 0 or j == i:\n",
    "                B[i][j] = 1\n",
    "            else:\n",
    "                B[i][j] = B[i-1][j-1] + B[i-1][j]\n",
    "    \n",
    "    return B[n][k]"
   ]
  },
  {
   "cell_type": "markdown",
   "metadata": {},
   "source": [
    "매우 빠르게 계산한다."
   ]
  },
  {
   "cell_type": "code",
   "execution_count": 13,
   "metadata": {},
   "outputs": [
    {
     "data": {
      "text/plain": [
       "145422675"
      ]
     },
     "execution_count": 13,
     "metadata": {},
     "output_type": "execute_result"
    }
   ],
   "source": [
    "bin2(30, 14)"
   ]
  },
  {
   "cell_type": "markdown",
   "metadata": {},
   "source": [
    "동일한 인자에 대해 재귀 알고리즘은 30초 이상 걸린다."
   ]
  },
  {
   "cell_type": "code",
   "execution_count": 14,
   "metadata": {},
   "outputs": [
    {
     "name": "stdout",
     "output_type": "stream",
     "text": [
      "43.52766418457031\n"
     ]
    }
   ],
   "source": [
    "import time\n",
    "\n",
    "start = time.time()\n",
    "bin(30,14)\n",
    "end = time.time()\n",
    "\n",
    "print(end-start)"
   ]
  },
  {
   "cell_type": "markdown",
   "metadata": {},
   "source": [
    "`bin2(n, k)` 함수의 시간복잡도는 다음과 같다.\n",
    "\n",
    "* 입력 크기: $n$과 $k$\n",
    "* 계산단위: `j` 변수에 대한 `for` 반복문 실행횟수\n",
    "\n",
    "| i 값 | 반복횟수 |\n",
    "| --- | --- |\n",
    "| 0 |       1회 |\n",
    "| 1 |      2회 |\n",
    "| 2 |      3회 |\n",
    "| ... | ... |\n",
    "| k-1 |    k회 |\n",
    "| k |       k+1회 |\n",
    "| k+1 |  k+1회 |\n",
    "| ... | ... |\n",
    "| n |      k+1회 |\n",
    "\n",
    "따라서 다음이 성립한다. "
   ]
  },
  {
   "cell_type": "markdown",
   "metadata": {},
   "source": [
    "$$\n",
    "\\begin{align*}\n",
    "T(n, k) &= 1 + 2 + 3 + \\cdots + k + (k+1)\\cdot (n-k+1) \\\\\n",
    "&= \\frac{(2n-k+2)(k+1)}{2} \\\\\n",
    "& \\in O(n\\,k)\n",
    "\\end{align*}\n",
    "$$"
   ]
  },
  {
   "cell_type": "markdown",
   "metadata": {},
   "source": [
    "## 연습 문제"
   ]
  },
  {
   "cell_type": "markdown",
   "metadata": {},
   "source": [
    "1. [(실습) 최적화 문제와 동적계획법](https://colab.research.google.com/github/codingalzi/algopy/blob/master/excs/exc-dynamic_programming_1.ipynb)"
   ]
  }
 ],
 "metadata": {
  "kernelspec": {
   "display_name": "base",
   "language": "python",
   "name": "python3"
  },
  "language_info": {
   "codemirror_mode": {
    "name": "ipython",
    "version": 3
   },
   "file_extension": ".py",
   "mimetype": "text/x-python",
   "name": "python",
   "nbconvert_exporter": "python",
   "pygments_lexer": "ipython3",
   "version": "3.9.12 (main, Apr  4 2022, 05:22:27) [MSC v.1916 64 bit (AMD64)]"
  },
  "vscode": {
   "interpreter": {
    "hash": "6c86b3592b6800d985c04531f2c445f0fa6967131b8dd6395a925f7622e55602"
   }
  }
 },
 "nbformat": 4,
 "nbformat_minor": 4
}
