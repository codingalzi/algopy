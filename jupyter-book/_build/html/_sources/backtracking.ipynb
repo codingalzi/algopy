{
 "cells": [
  {
   "cell_type": "markdown",
   "metadata": {
    "slideshow": {
     "slide_type": "slide"
    }
   },
   "source": [
    "(sec:backtracking)=\n",
    "# 되추적 기법"
   ]
  },
  {
   "cell_type": "markdown",
   "metadata": {},
   "source": [
    "**슬라이드**\n",
    "\n",
    "본문 내용을 요약한 [슬라이드](https://github.com/codingalzi/algopy/raw/master/slides/slides-backtracking.pdf)를 다운로드할 수 있다."
   ]
  },
  {
   "cell_type": "markdown",
   "metadata": {
    "slideshow": {
     "slide_type": "slide"
    }
   },
   "source": [
    "**주요 내용**\n",
    "\n",
    "- 제약 충족 문제\n",
    "- 되추적 기법\n",
    "- n-여왕말 문제\n",
    "- 그래프 색칠하기"
   ]
  },
  {
   "cell_type": "markdown",
   "metadata": {
    "slideshow": {
     "slide_type": "slide"
    }
   },
   "source": [
    "## 제약 충족 문제"
   ]
  },
  {
   "cell_type": "markdown",
   "metadata": {
    "slideshow": {
     "slide_type": "slide"
    }
   },
   "source": [
    "제약 충족 문제<font size='2'>constraint-satisfaction problem</font>(CSP)는\n",
    "여러 개의 대상 각각에 할당할 값을 특정 도메인(영역)에서 정해진 제약 조건에 따라 선택하는 문제이다."
   ]
  },
  {
   "cell_type": "markdown",
   "metadata": {
    "slideshow": {
     "slide_type": "slide"
    }
   },
   "source": [
    "예를 들어 4-여왕말 문제가 대표적인 제약 충족 문제이다. \n",
    "여기서 여왕말은 체스판에서 상하좌우, 대각선 등 임의로 움직일 수 있다.\n",
    "4-여왕말 문제는 1번, 2번, 3번, 4번으로 구분되는 네 개의 여왕말을\n",
    "`4x4` 모양의 체스판에서 서로 잡히지 않도록 위치시키는 문제이다. \n",
    "4-여왕말 문제를 정형화하면 다음과 같다.\n",
    "대상 여왕말 각각은 변수로 표현된다.\n",
    "\n",
    "* 변수: 1번부터 4번까지 이름이 붙은 네 개의 여왕말\n",
    "* 도메인: `4x4` 모양의 체스판에 포함된 1번 열부터 4번 열\n",
    "* 제약 조건: 서로 다른 두 개의 여왕말이 하나의 행, 열, 또는 대각선 상에 위치하지 않음"
   ]
  },
  {
   "cell_type": "markdown",
   "metadata": {
    "slideshow": {
     "slide_type": "slide"
    }
   },
   "source": [
    "아래 그림은 4개의 여왕말이 앞서 언급된 제약 조건을 만족시키거나 못하는 경우를 함께 보여준다."
   ]
  },
  {
   "cell_type": "markdown",
   "metadata": {
    "slideshow": {
     "slide_type": "slide"
    }
   },
   "source": [
    "<p><div align=\"center\"><img src=\"https://raw.githubusercontent.com/codingalzi/algopy/master/jupyter-book/imgs/algo05/algo05-01a.png\" width=\"150\"/></div></p>"
   ]
  },
  {
   "cell_type": "markdown",
   "metadata": {
    "slideshow": {
     "slide_type": "slide"
    }
   },
   "source": [
    "## 되추적 기법"
   ]
  },
  {
   "cell_type": "markdown",
   "metadata": {
    "slideshow": {
     "slide_type": "slide"
    }
   },
   "source": [
    "되추적 기법은 제약 충족 문제를 해결하는 기법이며\n",
    "백트래킹<font size='2'>backtracking</font>으로 불리기도 한다.\n",
    "많은 제약 충족 문제가 제약 조건만 서로 다를 뿐 동일한 되추적 알고리즘으로 해결되기도 한다.\n",
    "여기서는 두 개의 문제를 이용하여 되추적 기법의 활용법을 설명한다."
   ]
  },
  {
   "cell_type": "markdown",
   "metadata": {
    "slideshow": {
     "slide_type": "slide"
    }
   },
   "source": [
    "되추적 기법 이해에 필요한 개념은 다음과 같다.\n",
    "\n",
    "* 깊이 우선 탐색\n",
    "* 상태 공간 트리\n",
    "* 노드의 유망성\n",
    "* 가지치기"
   ]
  },
  {
   "cell_type": "markdown",
   "metadata": {
    "slideshow": {
     "slide_type": "slide"
    }
   },
   "source": [
    "**깊이 우선 탐색**"
   ]
  },
  {
   "cell_type": "markdown",
   "metadata": {
    "slideshow": {
     "slide_type": "slide"
    }
   },
   "source": [
    "깊이 우선 탐색<font size='2'>depth-first-search</font>(DFS)은 (루트 지정) 트리(rooted tree)를 대상으로 하는 \n",
    "모든 가능성을 탐색하는 일종의 완전 탐색<font size='2'>brute force</font>기법이다.\n",
    "깊이 우선 탐색은 트리에 포함된 모든 노드를 아래 과정을 이용하여 탐색한다.\n",
    "\n",
    "- 루트 노드에서 시작해서 갈 수 있는 한 가장 왼쪽 자식 노드로 탐색 진행\n",
    "- 잎 노드에 다달한 경우 탐색 대상이 될 수 있는 자식 노드를 갖는 가장 가까운 조상 노드로 이동해서 깊이 우선 탐색 진행.\n",
    "    단, 한 번 탐색한 자식 노드는 무시.\n",
    "    \n",
    "위 과정을 실행하다가 더 이상 탐색 대상이 되는 노드가 존재하지 않는 경우 탐색을 중지한다.\n",
    "아래 그림은 루트 노드에서 시작하여 깊이 우선 탐색의 대상이 되는 노드들의 순서를 보여준다."
   ]
  },
  {
   "cell_type": "markdown",
   "metadata": {
    "slideshow": {
     "slide_type": ""
    }
   },
   "source": [
    "<p><p><div align=\"center\"><img src=\"https://raw.githubusercontent.com/codingalzi/algopy/master/jupyter-book/imgs/algo05/algo05-02.png\" width=\"400\"/></div></p></p>"
   ]
  },
  {
   "cell_type": "markdown",
   "metadata": {
    "slideshow": {
     "slide_type": "slide"
    }
   },
   "source": [
    "**상태 공간 트리**"
   ]
  },
  {
   "cell_type": "markdown",
   "metadata": {},
   "source": [
    "상태 공간 트리<font size='2'>state space tree</font>는\n",
    "(대상) 변수가 가질 수 있는 모든 값으로 구성된 트리이다. \n",
    "아래에 보여지는 트리는 `4x4`로 이루어진 체스판에 네 개의 체스 여왕말을 놓을 수 있는 위치를 \n",
    "노드로 표현한 상태 공간 트리이다. \n",
    "\n",
    "* 루트: 출발 노드이며 여왕말의 위치와는 무관함.\n",
    "* 깊이 $k$의 노드: $k$ 번째 여왕말이 놓일 수 있는 열 위치\n",
    "\n",
    "여기서 **깊이**는 노드가 루트로부터의 경로의 길이를 가리킨다. \n",
    "\n"
   ]
  },
  {
   "cell_type": "markdown",
   "metadata": {
    "slideshow": {
     "slide_type": ""
    }
   },
   "source": [
    "<p><p><div align=\"center\"><img src=\"https://raw.githubusercontent.com/codingalzi/algopy/master/jupyter-book/imgs/algo05/algo05-03.png\" width=\"500\"/></div></p></p>"
   ]
  },
  {
   "cell_type": "markdown",
   "metadata": {
    "slideshow": {
     "slide_type": "slide"
    }
   },
   "source": [
    "**노드의 유망성**"
   ]
  },
  {
   "cell_type": "markdown",
   "metadata": {
    "slideshow": {
     "slide_type": ""
    }
   },
   "source": [
    "노드가 지정된 제약 조건을 만족시키는 경우 **유망하다**<font size='2'>promissing</font>고 말한다. \n",
    "예를 들어, 아래 그림에서 \n",
    "첫째 여왕말의 위치에 따라 둘째 여왕말이 놓일 수 있는 위치에 해당하는 노드의 유망성이 결정된다.\n",
    "둘째 여왕말에 대해 1번, 2번 칸에 해당하는 노드는 유망하지 않다."
   ]
  },
  {
   "cell_type": "markdown",
   "metadata": {
    "slideshow": {
     "slide_type": ""
    }
   },
   "source": [
    "<p><div align=\"center\"><img src=\"https://raw.githubusercontent.com/codingalzi/algopy/master/jupyter-book/imgs/algo05/algo05-04.png\" width=\"300\"/></div></p>"
   ]
  },
  {
   "cell_type": "markdown",
   "metadata": {
    "slideshow": {
     "slide_type": "slide"
    }
   },
   "source": [
    "**가지치기**"
   ]
  },
  {
   "cell_type": "markdown",
   "metadata": {},
   "source": [
    "가지치기<font size='2'>pruning</font>특정 노드에서 시작되는 가지를 제거하는 과정을 가리킨다.\n",
    "아래 그림은 `4x4`로 이루어진 체스판에 네 개의 여왕말을 놓을 수 있는 위치를 \n",
    "노드로 표현한 상태 공간 트리에서 유망하지 않은 노드를 가지치기한 결과를 보여준다."
   ]
  },
  {
   "cell_type": "markdown",
   "metadata": {
    "slideshow": {
     "slide_type": ""
    }
   },
   "source": [
    "<p><div align=\"center\"><img src=\"https://raw.githubusercontent.com/codingalzi/algopy/master/jupyter-book/imgs/algo05/algo05-05.png\" width=\"600\"/></div></p>"
   ]
  },
  {
   "cell_type": "markdown",
   "metadata": {
    "slideshow": {
     "slide_type": "slide"
    }
   },
   "source": [
    "**4-여왕말 문제 되추적 알고리즘**"
   ]
  },
  {
   "cell_type": "markdown",
   "metadata": {},
   "source": [
    "4 개의 여왕말을 서로 공격하지 못하도록 위치시키는 4-여왕말 문제를 해결하는 되추적 알고리즘은\n",
    "상태 공간 트리를 대상으로 깊이 우선 탐색, 노드의 유망성 판단, 가지치기를 \n",
    "아래 과정에 따라 반복 실행한다. "
   ]
  },
  {
   "cell_type": "markdown",
   "metadata": {},
   "source": [
    "- `4x4`로 이루어진 체스판에 네 개의 체스 여왕말을 놓을 수 있는 위치를 노드로 표현한 상태 공간 트리의 \n",
    "    루트에서부터 깊이 우선 탐색 실행\n",
    "- 탐색 과정에서 유망하지 않은 노드를 만나면 가지치기 실행 후 깊이 우선 탐색 대상이 될 수 있는 자식 노드를\n",
    "    갖는 조상 노드로 되돌아가서, 즉 되추적하여 그곳에서부터 깊이 우선 탐색 실행.\n",
    "    단, 이미 탐색한 자식 노드는 제외\n",
    "- 탐색이 더 이상 진행할 수 없는 경우 알고리즘 종료"
   ]
  },
  {
   "cell_type": "markdown",
   "metadata": {
    "slideshow": {
     "slide_type": "slide"
    }
   },
   "source": [
    "아래 그림은 4-여왕말 문제에 대해 되추적 알고리즘을 적용하는 과정을 보여준다."
   ]
  },
  {
   "cell_type": "markdown",
   "metadata": {
    "slideshow": {
     "slide_type": ""
    }
   },
   "source": [
    "<p><div align=\"center\"><img src=\"https://raw.githubusercontent.com/codingalzi/algopy/master/jupyter-book/imgs/algo05/algo05-06.png\" width=\"600\"/></div></p>"
   ]
  },
  {
   "cell_type": "markdown",
   "metadata": {
    "slideshow": {
     "slide_type": "slide"
    }
   },
   "source": [
    "유망하지 않은 노드에서 가지치기를 하는 되추적 알고리즘은\n",
    "그렇지 않은 일반 깊이 우선 탐색에 비해 훨씬 적은 수의 노드를 대상으로 탐색한다.\n",
    "예를 들어 4-여왕말 문제를 일반 깊이 우선 탐색으로 해결하고자 할 경우 155 개의 노드를 \n",
    "탐색해야 하지만 되추적 알고리즘을 적용하면 27개의 노드만 탐색하면 된다."
   ]
  },
  {
   "cell_type": "markdown",
   "metadata": {
    "slideshow": {
     "slide_type": "slide"
    }
   },
   "source": [
    "## n-여왕말 문제"
   ]
  },
  {
   "cell_type": "markdown",
   "metadata": {
    "slideshow": {
     "slide_type": "slide"
    }
   },
   "source": [
    "4-여왕말 문제를 일반화한 n-여왕말 문제를 해결하는 되추적 알고리즘 구현한다.\n",
    "n-여왕말 문제를 정의하는 변수, 도메인, 제약 조건은 다음과 같다.\n",
    "\n",
    "* (대상) 변수: 1번부터 n번까지 이름이 붙은 n 개의 여왕말\n",
    "* 도메인: `nxn` 모양의 체스판에 포함된 1번부터 n번 열\n",
    "* 제약 조건: 서로 다른 두 개의 여왕말이 하나의 행, 열, 또는 대각선 상에 위치하지 않음"
   ]
  },
  {
   "cell_type": "markdown",
   "metadata": {
    "slideshow": {
     "slide_type": "slide"
    }
   },
   "source": [
    "예를 들어 8-여왕말 문제를 정의하는 변수와 도메인은 다음과 같다.\n",
    "8개의 여왕말 모두 1열부터 8열 어딘가에 위치할 수 있다.\n",
    "단, 그 중에서 제약 조건을 만족하는 열을 찾아야 한다."
   ]
  },
  {
   "cell_type": "code",
   "execution_count": 1,
   "metadata": {
    "slideshow": {
     "slide_type": "slide"
    }
   },
   "outputs": [],
   "source": [
    "from collections import defaultdict\n",
    "\n",
    "# 변수: 네 개의 여왕말의 번호, 즉, 1, 2, ..., 8\n",
    "variables = range(1, 9)\n",
    "\n",
    "# 도메인: 각각의 여왕말이 자리잡을 수 있는 가능한 모든 열의 위치. \n",
    "domains = defaultdict(list)\n",
    "\n",
    "columns = range(1, 9)\n",
    "for var in variables:\n",
    "    domains[var] = columns"
   ]
  },
  {
   "cell_type": "code",
   "execution_count": 2,
   "metadata": {},
   "outputs": [
    {
     "data": {
      "text/plain": [
       "defaultdict(list,\n",
       "            {1: range(1, 9),\n",
       "             2: range(1, 9),\n",
       "             3: range(1, 9),\n",
       "             4: range(1, 9),\n",
       "             5: range(1, 9),\n",
       "             6: range(1, 9),\n",
       "             7: range(1, 9),\n",
       "             8: range(1, 9)})"
      ]
     },
     "execution_count": 2,
     "metadata": {},
     "output_type": "execute_result"
    }
   ],
   "source": [
    "domains"
   ]
  },
  {
   "cell_type": "markdown",
   "metadata": {
    "slideshow": {
     "slide_type": "slide"
    }
   },
   "source": [
    "**유망성 판단**"
   ]
  },
  {
   "cell_type": "markdown",
   "metadata": {},
   "source": [
    "되추적 기법을 이용하여 1번 여왕말부터 차례대로 위치시킬 것이다.\n",
    "따라서 여왕말을 특정 열에 위치시킬 때마다 그때까지 자리가 정해진\n",
    "여왕말들과의 제약 조건이 성립함을 보여야 한다. \n",
    "즉, 새로운 여왕말을 위치시킬 때마다 해당 여왕말의 유망성을 확인해야 한다.\n",
    "\n",
    "이를 위해 되추적 기법이 진행되는 동안 자리를 잡은 여왕말들의 정보를 저정해야 한다.\n",
    "여기서는 여왕말 번호와 해당 여왕말의 위치한 열의 번호를 각각 키와 값으로 사용하는 사전을 이용한다.\n",
    "예를 들어 4번 여왕말까지 위치시킨 경우 아래 `assignment` 변수가 가리키는 사전에\n",
    "네 개의 여왕말의 위치 정보가 담겨 있다.\n",
    "\n",
    "```python\n",
    "assignment = {1:1,\n",
    "              2:5,\n",
    "              3:8,\n",
    "              4:6}\n",
    "```\n",
    "\n",
    "위치가 이미 정해진 여왕말들을 대상으로 다음 세 개의 제약 조건이 성립함을 확인한다.\n",
    "\n",
    "- 동일한 행에 위치하지 않기: 각각의 여왕말이 다른 행에 위치되도록 하기에 알고리즘이 작동하기에 자연스럽게 처리됨.\n",
    "- 동일한 열에 위치하지 않기: 서로 다른 키에 대해 동일한 값이 사용되지 않도록 해야 함.\n",
    "- 동일한 대각선 상에 위치하지 않기: \n",
    "    두 개의 여왕말 `q1`, `q2`가 동일한 대각선 상에 위치하려면 행과 열의 차이의 절댓값이 같아야 함(아래 그림 참고.\n",
    "    아래 식에서 예를 들어 `q1r`과 `q1c`는 각각 `q1`이 위치한 행과 열의 좌표를 가리킴.\n",
    "\n",
    "    ```python\n",
    "    abs(q1r - q2r) == abs(q1c - q2c)\n",
    "    ```\n",
    "\n",
    "    "
   ]
  },
  {
   "cell_type": "markdown",
   "metadata": {
    "slideshow": {
     "slide_type": ""
    }
   },
   "source": [
    "<p><div align=\"center\"><img src=\"https://raw.githubusercontent.com/codingalzi/algopy/master/jupyter-book/imgs/algo05/algo05-07.png\" width=\"300\"/></div></p>"
   ]
  },
  {
   "cell_type": "markdown",
   "metadata": {},
   "source": [
    "아래 `promissing_queens()` 함수가 이미 자리를 차지한 여왕말들을 대상으로 세 개의 제약 조건이\n",
    "만족하는지 여부를 확인한다."
   ]
  },
  {
   "cell_type": "code",
   "execution_count": 3,
   "metadata": {},
   "outputs": [],
   "source": [
    "def promissing_queens(assignment=defaultdict(int)):\n",
    "\n",
    "    # q1: 모든 여왕말 대상으로 유망성 확인\n",
    "    for q1r, q1c in assignment.items(): # q1의 행과 열\n",
    "\n",
    "        # q2 = 아랫쪽에 자리한 여왕말들과 함께 제약 조건 성립 여부 확인\n",
    "        # q1r과 q2r은 자연스럽게 다름\n",
    "        for q2r in range(q1r + 1, len(assignment) + 1): \n",
    "            q2c = assignment[q2r]\n",
    "            if q1c == q2c:                       # 동일 열에 위치?\n",
    "                return False\n",
    "            if abs(q1r - q2r) == abs(q1c - q2c): # 동일 대각선상에 위치?\n",
    "                return False \n",
    "\n",
    "    # 모든 변수에 대해 제약조건 만족됨\n",
    "    return True "
   ]
  },
  {
   "cell_type": "markdown",
   "metadata": {
    "slideshow": {
     "slide_type": "slide"
    }
   },
   "source": [
    "**되추적 함수 구현**"
   ]
  },
  {
   "cell_type": "markdown",
   "metadata": {},
   "source": [
    "아래 `backtracking_search_queens()` 함수는 n-여왕말 문제를 되추적 기법으로 해결한다.\n",
    "함수 정의에 사용된 변수들의 기능은 다음과 같다.\n",
    "\n",
    "* `num_queens`: 여왕말의 개수\n",
    "* `variables`: 여왕말 번호\n",
    "* `domains`: 각 여왕말의 도메인(영역). 여기서는 모두 1부터 `num_queens` 까지의 번호 사용.\n",
    "* `assignment` 매개변수: 되추적 과정에서 이미 자리를 차지한 여왕말들의 위치 정보를 담은 사전 객체\n",
    "* `unassigned`: 아직까지 자리를 잡지 못한 여왕말들의 번호로 구성된 리스트\n",
    "* `first`: `unassigned` 에 포함된 여왕말 중에서 가장 낮은 번호의 여왕말. 즉, 이제 위치시켜야할 여왕말 번호.\n",
    "\n",
    "함수 본체에 사용되는 `for` 반복문은\n",
    "새로운 여왕말을 위치시키기 위해 모든 열을 대상으로 되추적 기법을 \n",
    "아래와 같이 적용한다.\n",
    "\n",
    "- 유망성이 확인되면 되추적 기법을 재귀적으로 적용\n",
    "- 유망성이 확인되지 않으면 바로 재귀 적용 중지 후 가장 가까운 조상 노드의 형제 노드로 이동하여 되추적 기법 재귀 적용"
   ]
  },
  {
   "cell_type": "code",
   "execution_count": 4,
   "metadata": {
    "slideshow": {
     "slide_type": "slide"
    }
   },
   "outputs": [],
   "source": [
    "def backtracking_search_queens(num_queens, assignment=defaultdict(int)):\n",
    "    \n",
    "    # 변수\n",
    "    variables = range(1, num_queens+1)\n",
    "    \n",
    "    # 도메인: 각각의 여왕말이 위치할 수 있는 칸\n",
    "    domains = defaultdict(list)\n",
    "\n",
    "    columns = range(1, num_queens+1)\n",
    "    for var in variables:\n",
    "        domains[var] = columns\n",
    "    \n",
    "    # 재귀 종료 조건: 모든 변수에 대한 값이 지정된 경우\n",
    "    if len(assignment) == len(variables):\n",
    "        return assignment\n",
    "    \n",
    "    # 재귀 실행: 아직 자리 잡지 못한 여왕말이 존재하는 경우\n",
    "    unassigned = [v for v in variables if v not in assignment]\n",
    "    first = unassigned[0] # 다음 대상 여왕말\n",
    "    \n",
    "    # first 여왕말 위치시키기. 재귀 적용\n",
    "    for value in domains[first]:\n",
    "        # 기존의 assignment를 보호하기 위해 복사본을 활용함.\n",
    "        # 되추적이 발생할 때 이전 할당값을 기억해 두기 위해서임.\n",
    "        local_assignment = assignment.copy()\n",
    "        local_assignment[first] = value\n",
    "\n",
    "        # local_assignment 값이 유망하면 되추적 기법 재귀 적용\n",
    "        # 즉, 다음 여왕말 대상으로 되추적 기법 적용\n",
    "        if promissing_queens(local_assignment):\n",
    "            result = backtracking_search_queens(num_queens, local_assignment)\n",
    "\n",
    "            # 모든 여왕말을 위치시켰을 때 여왕말들의 정보 반환\n",
    "            if result is not None:\n",
    "                return result\n",
    "\n",
    "    # 유망성 확인에 실패한 경우 재귀 종료. 즉 가지치기 실행.\n",
    "    return None    "
   ]
  },
  {
   "cell_type": "markdown",
   "metadata": {
    "slideshow": {
     "slide_type": "slide"
    }
   },
   "source": [
    "4-여왕말 문제와 8-여왕말 문제의 해결책은 다음과 같다."
   ]
  },
  {
   "cell_type": "code",
   "execution_count": 5,
   "metadata": {
    "slideshow": {
     "slide_type": "slide"
    }
   },
   "outputs": [
    {
     "data": {
      "text/plain": [
       "defaultdict(int, {1: 2, 2: 4, 3: 1, 4: 3})"
      ]
     },
     "execution_count": 5,
     "metadata": {},
     "output_type": "execute_result"
    }
   ],
   "source": [
    "backtracking_search_queens(4)"
   ]
  },
  {
   "cell_type": "code",
   "execution_count": 6,
   "metadata": {
    "slideshow": {
     "slide_type": "slide"
    }
   },
   "outputs": [
    {
     "data": {
      "text/plain": [
       "defaultdict(int, {1: 1, 2: 5, 3: 8, 4: 6, 5: 3, 6: 7, 7: 2, 8: 4})"
      ]
     },
     "execution_count": 6,
     "metadata": {},
     "output_type": "execute_result"
    }
   ],
   "source": [
    "backtracking_search_queens(8)"
   ]
  },
  {
   "cell_type": "markdown",
   "metadata": {
    "slideshow": {
     "slide_type": "slide"
    }
   },
   "source": [
    "**n-여왕말 문제 되추적 알고리즘의 시간 복잡도**"
   ]
  },
  {
   "cell_type": "markdown",
   "metadata": {},
   "source": [
    "n 개의 여왕말이 주어졌을 때 상태 공간 트리에 포함된 노드의 수는 다음과 같다.\n",
    "\n",
    "$$\n",
    "1 + n + n^2 + n^3 + \\cdots + n^n = \\frac{n^{n+1}-1}{n-1}\n",
    "$$\n",
    "\n",
    "따라서 되추적 알고리즘이 탐색해야 하는 노드 수는 경우마다 다를 수 있지만\n",
    "최대 n의 지수승 만큼 많은 수의 노드를 탐색해야 할 수도 있다.\n",
    "하지만 이보다 더 효율적인 알고리즘은 아직 알려지지 않았다."
   ]
  },
  {
   "cell_type": "markdown",
   "metadata": {
    "slideshow": {
     "slide_type": "slide"
    }
   },
   "source": [
    "## m-색칠 문제와 4색 정리"
   ]
  },
  {
   "cell_type": "markdown",
   "metadata": {},
   "source": [
    "### m-색칠 문제"
   ]
  },
  {
   "cell_type": "markdown",
   "metadata": {
    "slideshow": {
     "slide_type": ""
    }
   },
   "source": [
    "m-색칠<font size='2'>m-coloring</font> 문제는\n",
    "최대 m 개의 색<font size='2'>color</font>을 이용하여 \n",
    "**무방향 그래프의 서로 인접한 노드가 서로 다른 색을 갖는다**는 \n",
    "색칠 조건이 만족되도록 색칠하는 문제이다. \n",
    "예를 들어 아래 무방향 그래프에 대해서는\n",
    "최소 세 종류의 색을 사용해야 색칠 조건이 만족될 수 있음을 보여준다."
   ]
  },
  {
   "cell_type": "markdown",
   "metadata": {},
   "source": [
    "<p>\n",
    "<table class=\"field\">\n",
    "  <tr>\n",
    "    <td style=\"padding:0 50px 0 50px;\">\n",
    "      <div><img src=\"https://raw.githubusercontent.com/codingalzi/algopy/master/jupyter-book/imgs/algo05/algo05-08c.png\" width=\"200\"/></div>\n",
    "    </td>\n",
    "    <td style=\"padding:0 50px 0 50px;\">\n",
    "      <div align=\"center\"><img src=\"https://raw.githubusercontent.com/codingalzi/algopy/master/jupyter-book/imgs/algo05/algo05-08d.png\" width=\"200\"/></div>\n",
    "      </td>\n",
    "  </tr>\n",
    "</table>\n",
    "</p>"
   ]
  },
  {
   "cell_type": "markdown",
   "metadata": {},
   "source": [
    "m-색칠 문제는 지도를 색칠할 때 유용하게 활용된다. \n",
    "이유는 지도와 지도를 평면 그래프로 서로 일대일 대응되기 때문이다."
   ]
  },
  {
   "cell_type": "markdown",
   "metadata": {},
   "source": [
    "<p><div align=\"center\"><img src=\"https://raw.githubusercontent.com/codingalzi/algopy/master/jupyter-book/imgs/algo05/algo05-12.png\" width=\"300\"/></div></p>\n",
    "\n",
    "<p><div style=\"text-align: center\">&lt;그림 출처: <a href=\"https://ko.wikipedia.org/wiki/4색정리\">위키피디아: 4색정리</a>&gt;</div></p>"
   ]
  },
  {
   "cell_type": "markdown",
   "metadata": {},
   "source": [
    "평면 그래프는 서로 교차하는 간선이 없는 무방향 그래프이다.\n",
    "예를 들어 아래 왼쪽 지도와 오른쪽 평면 그래프는 서로 일대일 대응된다.\n",
    "\n",
    "* 노드: 지도에 사용된 국가, 지역 등의 영역\n",
    "* 간선: 서로 인접한 두 영역 연결"
   ]
  },
  {
   "cell_type": "markdown",
   "metadata": {
    "slideshow": {
     "slide_type": ""
    }
   },
   "source": [
    "<p><div align=\"center\"><img src=\"https://raw.githubusercontent.com/codingalzi/algopy/master/jupyter-book/imgs/algo05/algo05-09a.png\" width=\"400\"/></div></p>"
   ]
  },
  {
   "cell_type": "markdown",
   "metadata": {
    "slideshow": {
     "slide_type": "slide"
    }
   },
   "source": [
    "m-색칠 문제를 알고리즘을 되추적 기법으로 해결할 수 있다.\n",
    "설명을 위해 먼저 앞서 언급한 그래프를 대상으로 3-색칠 문제에 되추적 기법을 적용하는 과정을 살펴 본다."
   ]
  },
  {
   "cell_type": "markdown",
   "metadata": {},
   "source": [
    "<p><div align=\"center\"><img src=\"https://raw.githubusercontent.com/codingalzi/algopy/master/jupyter-book/imgs/algo05/algo05-08d.png\" width=\"200\"/></div></p>"
   ]
  },
  {
   "cell_type": "markdown",
   "metadata": {},
   "source": [
    "아래 그래프는 깊이 우선 탐색에 노드의 유망성과 가지치기를 적용한 결과를 보여준다. \n",
    "단, 1, 2, 3은 각각 빨강, 파랑, 갈색을 가리킨다. "
   ]
  },
  {
   "cell_type": "markdown",
   "metadata": {
    "slideshow": {
     "slide_type": "slide"
    }
   },
   "source": [
    "<p><div align=\"center\"><img src=\"https://raw.githubusercontent.com/codingalzi/algopy/master/jupyter-book/imgs/algo05/algo05-11.png\" width=\"400\"/></div></p>"
   ]
  },
  {
   "cell_type": "markdown",
   "metadata": {
    "slideshow": {
     "slide_type": "slide"
    }
   },
   "source": [
    "m-색칠 문제를 해결하는 되추적 알고리즘 구현하려 하기 위해 \n",
    "먼저 m-색칠 문제를 정의하는 변수, 도메인, 제약 조건을 확인하면 다음과 같다.\n",
    "\n",
    "* (대상) 변수: 1번부터 n번까지 이름이 붙은 n 개의 노드\n",
    "* 도메인: 1번부터 m번까지 이름이 붙은 m 종류의 색\n",
    "* 제약 조건: 간선으로 연결된 이웃 노드는 서로 다른 색을 가져야 함."
   ]
  },
  {
   "cell_type": "markdown",
   "metadata": {
    "slideshow": {
     "slide_type": "slide"
    }
   },
   "source": [
    "예를 들어 4 개의 노드로 구성된 평면 그래프에 대한 3-색 문제를 정의하는 변수와 도메인은 다음과 같다.\n",
    "각각의 노드에 동일하게 빨강(1), 파랑(2), 갈색(3) 어느 색도 취할 수 있다.\n",
    "단, 제약 조건을 만족시켜야 한다."
   ]
  },
  {
   "cell_type": "code",
   "execution_count": 7,
   "metadata": {
    "slideshow": {
     "slide_type": "slide"
    }
   },
   "outputs": [],
   "source": [
    "from collections import defaultdict\n",
    "\n",
    "# 변수: 네 노드의 번호, 즉, 1, 2, 3, 4\n",
    "variables = [1, 2, 3, 4]\n",
    "\n",
    "# 도메인: 각각의 노드에 칠할 수 있는 가능한 모든 색상\n",
    "# 3-색칠하기: 1(빨강), 2(파랑), 3(갈색)\n",
    "domains = defaultdict(list)\n",
    "colors = [1, 2, 3]\n",
    "\n",
    "for var in variables:\n",
    "    domains[var] = colors"
   ]
  },
  {
   "cell_type": "code",
   "execution_count": 8,
   "metadata": {},
   "outputs": [
    {
     "data": {
      "text/plain": [
       "defaultdict(list, {1: [1, 2, 3], 2: [1, 2, 3], 3: [1, 2, 3], 4: [1, 2, 3]})"
      ]
     },
     "execution_count": 8,
     "metadata": {},
     "output_type": "execute_result"
    }
   ],
   "source": [
    "domains"
   ]
  },
  {
   "cell_type": "markdown",
   "metadata": {
    "slideshow": {
     "slide_type": "slide"
    }
   },
   "source": [
    "**유망성 판단**"
   ]
  },
  {
   "cell_type": "markdown",
   "metadata": {},
   "source": [
    "새로운 노드의 색을 지정할 때 두 해당 노드와 간선으로 연결된 노드들의 색상을 확인해야 한다.\n",
    "따라서 노드의 유망성을 확인할 때 간선에 대한 정보와 그때까지 색칠해진 노드의 색 정보를\n",
    "알아야 한다.\n",
    "\n",
    "아래 `promissing_colors()` 함수는 \n",
    "평면 그래프의 간선 정보가 주어졌을 때\n",
    "새로운 노드에 할당된 색이 기존에 지정된 노드들의 색과 함께 \n",
    "제약 조건을 만족시키는지 여부를 판단한다.\n",
    "\n",
    "- `variable`: 새롭게 색이 할당된 노드\n",
    "- `constraints`: 평면 그래프의 간선 정보를 담은 사전\n",
    "- `assigment`: 되추적 기법 적용 기간동안 색이 할당된 노드들의 정보를 담은 사전"
   ]
  },
  {
   "cell_type": "code",
   "execution_count": 9,
   "metadata": {},
   "outputs": [],
   "source": [
    "def promissing_colors(variable: int, constraints=defaultdict(list), assignment=defaultdict(int)):\n",
    "    \"\"\"새로운 노드인 variable에 색을 할당할 때 \n",
    "    간선으로 연결된 이웃 노드와의 색이 달라야 한다는\n",
    "    제약조건을 assignment가 만족하는지 여부 확인\n",
    "    \"\"\"\n",
    "\n",
    "    for var in constraints[variable]:\n",
    "        if (var in assignment) and (assignment[var] == assignment[variable]):\n",
    "            return False\n",
    "\n",
    "    return True "
   ]
  },
  {
   "cell_type": "markdown",
   "metadata": {},
   "source": [
    "예를 들어 아래 평면 그래프의 간선 정보는 다음과 같다."
   ]
  },
  {
   "cell_type": "markdown",
   "metadata": {},
   "source": [
    "<p><div align=\"center\"><img src=\"https://raw.githubusercontent.com/codingalzi/algopy/master/jupyter-book/imgs/algo05/algo05-08c.png\" width=\"200\"/></div></p>"
   ]
  },
  {
   "cell_type": "code",
   "execution_count": 10,
   "metadata": {},
   "outputs": [],
   "source": [
    "# 각 노드에 대한 이웃 노드의 리스트\n",
    "constraints = {\n",
    "    1 : [2, 3, 4],\n",
    "    2 : [1, 3],\n",
    "    3 : [1, 2, 4],\n",
    "    4 : [1, 3]\n",
    "}"
   ]
  },
  {
   "cell_type": "markdown",
   "metadata": {
    "slideshow": {
     "slide_type": "slide"
    }
   },
   "source": [
    "**되추적 함수 구현**"
   ]
  },
  {
   "cell_type": "markdown",
   "metadata": {},
   "source": [
    "아래 `backtracking_search_colors()` 함수는 m-색칠 문제를 되추적 기법으로 해결한다.\n",
    "함수 정의에 사용된 변수들의 기능은 다음과 같다.\n",
    "\n",
    "- `num_nodes`: 노드의 수\n",
    "- `num_colors`: 사용 가능한 색의 수\n",
    "- `constraints`: 평면 그래프의 간선 정보를 담은 사전\n",
    "- `assigment`: 되추적 기법 적용 기간동안 색이 할당된 노드들의 정보를 담은 사전\n",
    "\n",
    "함수 본체에 사용되는 `for` 반복문은 \n",
    "새로운 노드의 색을 지정하기 위해 사용 가능한 모든 색을 대상으로 되추적 기법을 아래와 같이 적용한다.\n",
    "\n",
    "- 유망성이 확인되면 되추적 기법을 재귀적으로 적용\n",
    "- 유망성이 확인되지 않으면 바로 재귀 적용 중지 후 가장 가까운 조상 노드의 \n",
    "    형제 노드로 이동하여 되추적 기법 재귀 적용"
   ]
  },
  {
   "cell_type": "code",
   "execution_count": 11,
   "metadata": {
    "slideshow": {
     "slide_type": "slide"
    }
   },
   "outputs": [],
   "source": [
    "def backtracking_search_colors(num_nodes, num_colors, constraints=defaultdict(list), assignment=defaultdict(int)):\n",
    "    \"\"\"assignment: 각각의 변수를 키로 사용하고 키값은 해당 변수에 할당될 값\"\"\"\n",
    "\n",
    "    # 변수\n",
    "    variables = range(1, num_nodes+1)\n",
    "\n",
    "    # 도메인: 각각의 노드에 칠할 수 있는 가능한 모든 색상\n",
    "    domains = defaultdict(list)\n",
    "    colors = range(1, num_colors+1)\n",
    "\n",
    "    for var in variables:\n",
    "        domains[var] = colors\n",
    "        \n",
    "    # 재귀 종료 조건: 모든 변수에 대한 값이 지정된 경우\n",
    "    if len(assignment) == len(variables):\n",
    "        return assignment\n",
    "    \n",
    "    # 재귀 실행: 아직 색이 지정되지 않은 노드가 존재하는 경우\n",
    "    unassigned = [v for v in variables if v not in assignment]\n",
    "    first = unassigned[0] # 다음 대상 노드\n",
    "    \n",
    "    # first 노드 색칠하기. 재귀 적용\n",
    "    for value in domains[first]:\n",
    "        # 주의: 기존의 assignment를 보호하기 위해 복사본 활용\n",
    "        # 되추적이 발생할 때 이전 할당값을 기억해 두기 위해서임.\n",
    "        local_assignment = assignment.copy()\n",
    "        local_assignment[first] = value\n",
    "        \n",
    "        # local_assignment 값이 유망하면 재귀 호출을 사용하여 변수 할당 이어감.\n",
    "        if promissing_colors(first, constraints, local_assignment):\n",
    "            result = backtracking_search_colors(num_nodes, num_colors, constraints, local_assignment)\n",
    "\n",
    "            # 모든 노드의 색이 지정되었을 때 해당 정보 반환\n",
    "            if result is not None:\n",
    "                return result\n",
    "\n",
    "    # 유망성 확인에 실패한 경우 재귀 종료. 즉 가지치기 실행.\n",
    "    return None    "
   ]
  },
  {
   "cell_type": "markdown",
   "metadata": {},
   "source": [
    "앞서 언급한 간선 정보를 가지며 4개의 노드를 사용하는 평면 그래프를\n",
    "세 가지 색으로 칠하는 방법은 다음과 같다."
   ]
  },
  {
   "cell_type": "code",
   "execution_count": 12,
   "metadata": {
    "slideshow": {
     "slide_type": "slide"
    }
   },
   "outputs": [
    {
     "data": {
      "text/plain": [
       "defaultdict(int, {1: 1, 2: 2, 3: 3, 4: 2})"
      ]
     },
     "execution_count": 12,
     "metadata": {},
     "output_type": "execute_result"
    }
   ],
   "source": [
    "backtracking_search_colors(4, 3, constraints)"
   ]
  },
  {
   "cell_type": "markdown",
   "metadata": {},
   "source": [
    "하지만 앞서 설명한 대로 두 가지 색으로는 칠할 수 없다.\n",
    "즉, 아래 함수의 실행값이 `None` 이다."
   ]
  },
  {
   "cell_type": "code",
   "execution_count": 13,
   "metadata": {
    "slideshow": {
     "slide_type": "slide"
    }
   },
   "outputs": [
    {
     "name": "stdout",
     "output_type": "stream",
     "text": [
      "두 가지 색으로 색칠 제약조건 충족 불가능\n"
     ]
    }
   ],
   "source": [
    "if not backtracking_search_colors(4, 2, constraints):\n",
    "    print(\"두 가지 색으로 색칠 제약조건 충족 불가능\")"
   ]
  },
  {
   "cell_type": "markdown",
   "metadata": {
    "slideshow": {
     "slide_type": "slide"
    }
   },
   "source": [
    "**m-색칠 문제 되추적 알고리즘의 시간 복잡도**"
   ]
  },
  {
   "cell_type": "markdown",
   "metadata": {},
   "source": [
    "n 개의 노드를 m 개의 색으로 칠해야 하는 문제의 상태 공간 트리의 노드의 수는 다음과 같다.\n",
    "\n",
    "$$\n",
    "1 + m + m^2 + m^3 + \\cdots + m^n = \\frac{m^{n+1}-1}{m-1}\n",
    "$$\n",
    "\n",
    "따라서 되추적 알고리즘이 최대 m과 n의 지승 만큼 많은 수의 노드를 탐색해야 할 수도 있다.\n",
    "하지만 이보다 더 효율적인 알고리즘은 아직 알려지지 않았다."
   ]
  },
  {
   "cell_type": "markdown",
   "metadata": {
    "slideshow": {
     "slide_type": "slide"
    }
   },
   "source": [
    "### 4색 정리"
   ]
  },
  {
   "cell_type": "markdown",
   "metadata": {
    "slideshow": {
     "slide_type": "slide"
    }
   },
   "source": [
    "1852년에 영국인 프랜시스 구쓰리<font size='2'>Francis Guthrie</font>가 영국 지도를 작성할 때\n",
    "인접한 두 개의 주를 서로 다른 색으로 칠하기 위해 필요한 색이 최소 4개면 된다는 4색 정리를 주장하였다.\n",
    "하지만 이 4색 정리가 증명되기까지 124년이 걸렸다."
   ]
  },
  {
   "cell_type": "markdown",
   "metadata": {
    "slideshow": {
     "slide_type": ""
    }
   },
   "source": [
    "<p><div align=\"center\"><img src=\"https://raw.githubusercontent.com/codingalzi/algopy/master/jupyter-book/imgs/england-4color-map.png\" width=\"400\"/></div></p>\n",
    "\n",
    "<p><div style=\"text-align: center\">&lt;그림 출처: <a href=\"https://www.gif-map.com/maps-of-europe/maps-of-united-kingdom/maps-of-england/administrative-map-of-england\">Administrative map of England</a>&gt;</div></p>"
   ]
  },
  {
   "cell_type": "markdown",
   "metadata": {
    "slideshow": {
     "slide_type": "slide"
    }
   },
   "source": [
    "최초의 증명은 1976년에 아펠<font size='2'>K. Appel</font>과 하켄<font size='2'>W. Haken</font>이\n",
    "제시하였다. \n",
    "두 사람의 증명이 500 여쪽 논문으로 제시되었는데 일부 내용은 컴퓨터 프로그램을 사용하도록 되어 있다.\n",
    "그런데 증명에 사용된 컴퓨터 프로그램에 대한 신뢰성 때문에 오랜 시간동안 100% 인정받지 못하다가\n",
    "2005년에 곤티에<font size='2'>G. Gonthier</font>에 의해 증명의 완전성이 검증되었다."
   ]
  },
  {
   "cell_type": "markdown",
   "metadata": {
    "slideshow": {
     "slide_type": "slide"
    }
   },
   "source": [
    "## 연습문제"
   ]
  },
  {
   "cell_type": "markdown",
   "metadata": {},
   "source": [
    "1. [(실습) 되추적 기법](https://colab.research.google.com/github/codingalzi/algopy/blob/master/excs/exc-backtracking.ipynb)"
   ]
  }
 ],
 "metadata": {
  "kernelspec": {
   "display_name": "Python 3 (ipykernel)",
   "language": "python",
   "name": "python3"
  },
  "language_info": {
   "codemirror_mode": {
    "name": "ipython",
    "version": 3
   },
   "file_extension": ".py",
   "mimetype": "text/x-python",
   "name": "python",
   "nbconvert_exporter": "python",
   "pygments_lexer": "ipython3",
   "version": "3.11.5"
  }
 },
 "nbformat": 4,
 "nbformat_minor": 4
}
