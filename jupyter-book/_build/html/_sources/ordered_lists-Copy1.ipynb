{
 "cells": [
  {
   "cell_type": "markdown",
   "metadata": {},
   "source": [
    "# 정렬 리스트"
   ]
  },
  {
   "cell_type": "markdown",
   "metadata": {},
   "source": [
    "Copyright (C)  Brad Miller, David Ranum.\n",
    "This work is licensed under the Creative Commons Attribution-NonCommercial-ShareAlike 4.0 International License. To view a copy of this license, visit http://creativecommons.org/licenses/by-nc-sa/4.0/."
   ]
  },
  {
   "cell_type": "markdown",
   "metadata": {},
   "source": [
    "## 4.22 The Ordered List Abstract Data Type"
   ]
  },
  {
   "cell_type": "markdown",
   "metadata": {},
   "source": [
    "We will now consider a type of list known as an ordered list. For\n",
    "example, if the list of integers shown above were an ordered list\n",
    "(ascending order), then it could be written as 17, 26, 31, 54, 77, and\n",
    "93. Since 17 is the smallest item, it occupies the first position in the\n",
    "list. Likewise, since 93 is the largest, it occupies the last position.\n",
    "\n",
    "The structure of an ordered list is a collection of items where each\n",
    "item holds a relative position that is based upon some underlying\n",
    "characteristic of the item. The ordering is typically either ascending\n",
    "or descending and we assume that list items have a meaningful comparison\n",
    "operation that is already defined. Many of the ordered list operations\n",
    "are the same as those of the unordered list.\n",
    "\n",
    "-  ``OrderedList()`` creates a new ordered list that is empty. It needs\n",
    "   no parameters and returns an empty list.\n",
    "\n",
    "-  ``add(item)`` adds a new item to the list making sure that the order\n",
    "   is preserved. It needs the item and returns nothing. Assume the item\n",
    "   is not already in the list.\n",
    "\n",
    "-  ``remove(item)`` removes the item from the list. It needs the item\n",
    "   and modifies the list. Raise an error if the item is not present in the list.\n",
    "\n",
    "-  ``search(item)`` searches for the item in the list. It needs the item\n",
    "   and returns a boolean value.\n",
    "\n",
    "-  ``is_empty()`` tests to see whether the list is empty. It needs no\n",
    "   parameters and returns a boolean value.\n",
    "\n",
    "-  ``size()`` returns the number of items in the list. It needs no\n",
    "   parameters and returns an integer.\n",
    "\n",
    "-  ``index(item)`` returns the position of item in the list. It needs\n",
    "   the item and returns the index. Assume the item is in the list.\n",
    "\n",
    "-  ``pop()`` removes and returns the last item in the list. It needs\n",
    "   nothing and returns an item. Assume the list has at least one item.\n",
    "\n",
    "-  ``pop(pos)`` removes and returns the item at position pos. It needs\n",
    "   the position and returns the item. Assume the item is in the list."
   ]
  },
  {
   "cell_type": "markdown",
   "metadata": {},
   "source": [
    "## 4.23 Implementing an Ordered List"
   ]
  },
  {
   "cell_type": "markdown",
   "metadata": {},
   "source": [
    "In order to implement the ordered list, we must remember that the\n",
    "relative positions of the items are based on some underlying\n",
    "characteristic. The ordered list of integers given above (17, 26, 31,\n",
    "54, 77, and 93) can be represented by a linked structure as shown in\n",
    ":ref:`Figure 15 <fig_orderlinked>`. Again, the node and link structure is ideal\n",
    "for representing the relative positioning of the items."
   ]
  },
  {
   "cell_type": "markdown",
   "metadata": {},
   "source": [
    "    .. figure:: Figures/orderlinkedlist.png\n",
    "       :align: center\n",
    "\n",
    "       Figure 15: An Ordered Linked List"
   ]
  },
  {
   "cell_type": "markdown",
   "metadata": {},
   "source": [
    "To implement the ``OrderedList`` class, we will use the same technique\n",
    "as seen previously with unordered lists. Once again, an empty list will\n",
    "be denoted by a ``head`` reference to ``None`` (see\n",
    ":ref:`Listing 8 <lst_orderlist>`)."
   ]
  },
  {
   "cell_type": "markdown",
   "metadata": {},
   "source": [
    "**Listing 8**"
   ]
  },
  {
   "cell_type": "code",
   "execution_count": 14,
   "metadata": {},
   "outputs": [],
   "source": [
    "class OrderedList:\n",
    "    def __init__(self):\n",
    "        self.head = None"
   ]
  },
  {
   "cell_type": "markdown",
   "metadata": {},
   "source": [
    "As we consider the operations for the ordered list, we should note that\n",
    "the ``is_empty`` and ``size`` methods can be implemented the same as\n",
    "with unordered lists since they deal only with the number of nodes in\n",
    "the list without regard to the actual item values. Likewise, the\n",
    "``remove`` method will work just fine since we still need to find the\n",
    "item and then link around the node to remove it. The two remaining\n",
    "methods, ``search`` and ``add``, will require some modification.\n",
    "\n",
    "The search of an unordered linked list required that we traverse the\n",
    "nodes one at a time until we either find the item we are looking for or\n",
    "run out of nodes (``None``). It turns out that the same approach would\n",
    "actually work with the ordered list and in fact in the case where we\n",
    "find the item it is exactly what we need. However, in the case where the\n",
    "item is not in the list, we can take advantage of the ordering to stop\n",
    "the search as soon as possible.\n",
    "\n",
    "For example, :ref:`Figure 16 <fig_stopearly>` shows the ordered linked list as a\n",
    "search is looking for the value 45. As we traverse, starting at the head\n",
    "of the list, we first compare against 17. Since 17 is not the item we\n",
    "are looking for, we move to the next node, in this case 26. Again, this\n",
    "is not what we want, so we move on to 31 and then on to 54. Now, at this\n",
    "point, something is different. Since 54 is not the item we are looking\n",
    "for, our former strategy would be to move forward. However, due to the\n",
    "fact that this is an ordered list, that will not be necessary. Once the\n",
    "value in the node becomes greater than the item we are searching for,\n",
    "the search can stop and return ``False``. There is no way the item could\n",
    "exist further out in the linked list."
   ]
  },
  {
   "cell_type": "markdown",
   "metadata": {},
   "source": [
    "    .. figure:: Figures/orderedsearch.png\n",
    "       :align: center\n",
    "\n",
    "       Figure 16: Searching an Ordered Linked List"
   ]
  },
  {
   "cell_type": "markdown",
   "metadata": {},
   "source": [
    ":ref:`Listing 9 <lst_ordersearch>` shows the complete ``search`` method. It is\n",
    "easy to incorporate the new condition discussed above by adding another check (line 6).\n",
    "We can continue to look forward in the list (line 3). If any node is ever discovered that\n",
    "contains data greater than the item we are looking for, we will immediately return ``False``. The remaining lines are identical to\n",
    "the unordered list search."
   ]
  },
  {
   "cell_type": "markdown",
   "metadata": {},
   "source": [
    "**Listing 9**"
   ]
  },
  {
   "cell_type": "code",
   "execution_count": 15,
   "metadata": {},
   "outputs": [],
   "source": [
    "def search(self,item):\n",
    "    current = self.head\n",
    "    while current is not None:\n",
    "        if current.data == item:\n",
    "            return True\n",
    "        if current.data > item:\n",
    "            return False\n",
    "        current = current.next\n",
    "\n",
    "    return False"
   ]
  },
  {
   "cell_type": "markdown",
   "metadata": {},
   "source": [
    "The most significant method modification will take place in ``add``.\n",
    "Recall that for unordered lists, the ``add`` method could simply place a\n",
    "new node at the head of the list. It was the easiest point of access.\n",
    "Unfortunately, this will no longer work with ordered lists. It is now\n",
    "necessary that we discover the specific place where a new item belongs\n",
    "in the existing ordered list.\n",
    "\n",
    "Assume we have the ordered list consisting of 17, 26, 54, 77, and 93 and\n",
    "we want to add the value 31. The ``add`` method must decide that the new\n",
    "item belongs between 26 and 54. :ref:`Figure 17 <fig_orderinsert>` shows the setup\n",
    "that we need. As we explained earlier, we need to traverse the linked\n",
    "list looking for the place where the new node will be added. We know we\n",
    "have found that place when either we run out of nodes (``current``\n",
    "becomes ``None``) or the value of the current node becomes greater than\n",
    "the item we wish to add. In our example, seeing the value 54 causes us\n",
    "to stop."
   ]
  },
  {
   "cell_type": "markdown",
   "metadata": {},
   "source": [
    "    .. figure:: Figures/linkedlistinsert.png\n",
    "       :align: center\n",
    "\n",
    "       Figure 17: Adding an Item to an Ordered Linked List"
   ]
  },
  {
   "cell_type": "markdown",
   "metadata": {},
   "source": [
    "As we saw with unordered lists, it is necessary to have an additional\n",
    "reference, again called ``previous``, since ``current`` will not provide\n",
    "access to the node that must be modified. :ref:`Listing 10 <lst_orderadd>` shows\n",
    "the complete ``add`` method. Lines 2–3 set up the two external\n",
    "references and lines 9–10 again allow ``previous`` to follow one node\n",
    "behind ``current`` every time through the iteration. The condition (line\n",
    "5) allows the iteration to continue as long as there are more nodes and\n",
    "the value in the current node is not larger than the item. In either\n",
    "case, when the iteration fails, we have found the location for the new\n",
    "node.\n",
    "\n",
    "The remainder of the method completes the two-step process shown in\n",
    ":ref:`Figure 17 <fig_orderinsert>`. Once a new node has been created for the item,\n",
    "the only remaining question is whether the new node will be added at the\n",
    "beginning of the linked list or some place in the middle. Again,\n",
    "``previous == None`` (line 13) can be used to provide the answer."
   ]
  },
  {
   "cell_type": "markdown",
   "metadata": {},
   "source": [
    "**Listing 10**"
   ]
  },
  {
   "cell_type": "code",
   "execution_count": 16,
   "metadata": {},
   "outputs": [],
   "source": [
    "def add(self, item):\n",
    "    \"\"\"Add a new node\"\"\"\n",
    "    current = self.head\n",
    "    previous = None\n",
    "    temp = Node(item)\n",
    "\n",
    "    while current is not None and current.data < item:\n",
    "        previous = current\n",
    "        current = current.next\n",
    "\n",
    "    if previous is None:\n",
    "        temp.next = self.head\n",
    "        self.head = temp\n",
    "    else:\n",
    "        temp.next = current\n",
    "        previous.next = temp"
   ]
  },
  {
   "cell_type": "markdown",
   "metadata": {},
   "source": [
    "The ``OrderedList`` class with methods discussed thus far can be found\n",
    "in ActiveCode 1.\n",
    "We leave the remaining methods as exercises. You should carefully\n",
    "consider whether the unordered implementations will work given that the\n",
    "list is now ordered."
   ]
  },
  {
   "cell_type": "markdown",
   "metadata": {},
   "source": [
    "    .. activecode:: orderedlistclass\n",
    "        :caption: OrderedList Class Thus Far\n",
    "        :hidecode:\n",
    "        :nocodelens:"
   ]
  },
  {
   "cell_type": "code",
   "execution_count": 17,
   "metadata": {},
   "outputs": [
    {
     "name": "stdout",
     "output_type": "stream",
     "text": [
      "6\n",
      "True\n",
      "False\n"
     ]
    }
   ],
   "source": [
    "class Node:\n",
    "    \"\"\"A node of a linked list\"\"\"\n",
    "\n",
    "    def __init__(self, node_data):\n",
    "        self._data = node_data\n",
    "        self._next = None\n",
    "\n",
    "    def get_data(self):\n",
    "        \"\"\"Get node data\"\"\"\n",
    "        return self._data\n",
    "\n",
    "    def set_data(self, node_data):\n",
    "        \"\"\"Set node data\"\"\"\n",
    "        self._data = node_data\n",
    "\n",
    "    data = property(get_data, set_data)\n",
    "\n",
    "    def get_next(self):\n",
    "        \"\"\"Get next node\"\"\"\n",
    "        return self._next\n",
    "\n",
    "    def set_next(self, node_next):\n",
    "        \"\"\"Set next node\"\"\"\n",
    "        self._next = node_next\n",
    "\n",
    "    next = property(get_next, set_next)\n",
    "\n",
    "    def __str__(self):\n",
    "        \"\"\"String\"\"\"\n",
    "        return str(self._data)\n",
    "\n",
    "\n",
    "class OrderedList:\n",
    "    \"\"\"Ordered linked list implementation\"\"\"\n",
    "    def __init__(self):\n",
    "        self.head = None\n",
    "\n",
    "    def search(self, item):\n",
    "        \"\"\"Search for a node with a specific value\"\"\"\n",
    "        current = self.head\n",
    "        while current is not None:\n",
    "            if current.data == item:\n",
    "                return True\n",
    "            if current.data > item:\n",
    "                return False\n",
    "            current = current.next\n",
    "\n",
    "        return False\n",
    "\n",
    "    def add(self, item):\n",
    "        \"\"\"Add a new node\"\"\"\n",
    "        current = self.head\n",
    "        previous = None\n",
    "        temp = Node(item)\n",
    "\n",
    "        while current is not None and current.data < item:\n",
    "            previous = current\n",
    "            current = current.next\n",
    "\n",
    "        if previous is None:\n",
    "            temp.next = self.head\n",
    "            self.head = temp\n",
    "        else:\n",
    "            temp.next = current\n",
    "            previous.next = temp\n",
    "\n",
    "    def is_empty(self):\n",
    "        \"\"\"Is the list empty\"\"\"\n",
    "        return self.head == None\n",
    "\n",
    "    def size(self):\n",
    "        \"\"\"Size of the list\"\"\"\n",
    "        current = self.head\n",
    "        count = 0\n",
    "        while current is not None:\n",
    "            count = count + 1\n",
    "            current = current.next\n",
    "\n",
    "        return count\n",
    "\n",
    "\n",
    "my_list = OrderedList()\n",
    "my_list.add(31)\n",
    "my_list.add(77)\n",
    "my_list.add(17)\n",
    "my_list.add(93)\n",
    "my_list.add(26)\n",
    "my_list.add(54)\n",
    "\n",
    "print(my_list.size())\n",
    "print(my_list.search(93))\n",
    "print(my_list.search(100))"
   ]
  },
  {
   "cell_type": "markdown",
   "metadata": {},
   "source": [
    "### 4.23.1 Analysis of Linked Lists"
   ]
  },
  {
   "cell_type": "markdown",
   "metadata": {},
   "source": [
    "To analyze the complexity of the linked list operations, we need to\n",
    "consider whether they require traversal. Consider a linked list that has\n",
    "*n* nodes. The ``is_empty`` method is :math:`O(1)` since it requires\n",
    "one step to check the head reference for ``None``. ``size``, on the\n",
    "other hand, will always require *n* steps since there is no way to know\n",
    "how many nodes are in the linked list without traversing from head to\n",
    "end. Therefore, ``size`` is :math:`O(n)`. Adding an item to an\n",
    "unordered list will always be :math:`O(1)` since we simply place the new node at\n",
    "the head of the linked list. However, ``search`` and ``remove``, as well\n",
    "as ``add`` for an ordered list, all require the traversal process.\n",
    "Although on average they may need to traverse only half of the nodes,\n",
    "these methods are all :math:`O(n)` since in the worst case each will\n",
    "process every node in the list.\n",
    "\n",
    "You may also have noticed that the performance of this implementation\n",
    "differs from the actual performance given earlier for Python lists. This\n",
    "suggests that linked lists are not the way Python lists are implemented.\n",
    "The actual implementation of a Python list is based on the notion of an array.  We discuss this in more detail in a later chapter."
   ]
  },
  {
   "cell_type": "markdown",
   "metadata": {},
   "source": [
    "### 프로그래밍 실습 문제"
   ]
  },
  {
   "cell_type": "markdown",
   "metadata": {},
   "source": [
    "1. Implement the remaining operations defined in the OrderedList ADT.\n",
    "\n",
    "1. Consider the relationship between Unordered and Ordered lists. Is it\n",
    "   possible that inheritance could be used to build a more efficient\n",
    "   implementation? Implement this inheritance hierarchy."
   ]
  }
 ],
 "metadata": {
  "kernelspec": {
   "display_name": "Python 3 (ipykernel)",
   "language": "python",
   "name": "python3"
  },
  "language_info": {
   "codemirror_mode": {
    "name": "ipython",
    "version": 3
   },
   "file_extension": ".py",
   "mimetype": "text/x-python",
   "name": "python",
   "nbconvert_exporter": "python",
   "pygments_lexer": "ipython3",
   "version": "3.9.13"
  }
 },
 "nbformat": 4,
 "nbformat_minor": 4
}
