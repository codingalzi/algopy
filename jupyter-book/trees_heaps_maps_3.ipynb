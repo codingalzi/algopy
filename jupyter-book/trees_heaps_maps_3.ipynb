{
 "cells": [
  {
   "cell_type": "markdown",
   "metadata": {},
   "source": [
    "# 맵 추상 자료형 2부"
   ]
  },
  {
   "cell_type": "markdown",
   "metadata": {},
   "source": [
    "## 이진탐색트리"
   ]
  },
  {
   "cell_type": "markdown",
   "metadata": {},
   "source": [
    "이진트리에 값을 저장하여 항목 탐색을 키와 값의 관계로 작동하도록 할 수 있다.\n",
    "즉, 이진트리를 맵(Map) 추상 자료형으로 활용하여 매우 효율적인 탐색을\n",
    "실행할 수 있다."
   ]
  },
  {
   "cell_type": "markdown",
   "metadata": {},
   "source": [
    "### 정의"
   ]
  },
  {
   "cell_type": "markdown",
   "metadata": {},
   "source": [
    "**이진탐색트리**의 마디에 사용되는 키는 모두 아래 특성을 만족한다.\n",
    "\n",
    "- 부모 마디보다 작은 키: 부모의 왼쪽 서브트리에 위치\n",
    "- 부모 마디보다 큰 키: 부모의 오른쪽 서브트리에 위치"
   ]
  },
  {
   "cell_type": "markdown",
   "metadata": {},
   "source": [
    "**예제**"
   ]
  },
  {
   "cell_type": "markdown",
   "metadata": {},
   "source": [
    "아래 그림은 70, 31, 93, 94, 14, 23, 73를 차례대로 이진탐색트리에 \n",
    "추가한 결과를 보여준다.\n",
    "\n",
    "- 70 추가: 루트\n",
    "- 31 추가: 루트 왼쪽 자식 마디\n",
    "- 93 추가: 루트 오른쪽 자식 마디\n",
    "- 94 추가: 93의 오른쪽 자식 마디\n",
    "- 14 추가: 31의 왼쪽 자식 마디\n",
    "- 23 추가: 14의 오른쪽 자식 마디\n",
    "- 73 추가: 93의 왼쪽 자식 마디"
   ]
  },
  {
   "cell_type": "markdown",
   "metadata": {},
   "source": [
    "<figure>\n",
    "<div align=\"center\"><img src=\"https://runestone.academy/runestone/books/published/pythonds3/_images/simpleBST.png\" width=\"40%\"></div>\n",
    "</figure>"
   ]
  },
  {
   "cell_type": "markdown",
   "metadata": {},
   "source": [
    "### 구현"
   ]
  },
  {
   "cell_type": "markdown",
   "metadata": {},
   "source": [
    "[8장 트리와 힙](https://codingalzi.github.io/algopy/notebooks/algopy08_TreesHeaps.html)에서 정의한 `BinaryTree` 클래스를 이용하여 이진탐색트리를 구현하기에는\n",
    "다음 두 요소 때문에 매우 어렵다.\n",
    "\n",
    "- 트리의 루트 마디를 별도로 기억해야 한다. \n",
    "- 각 마디에 저장되는 부모자식 정보가 항목이 추가 또는 삭제될 때마다 수정되어야 한다."
   ]
  },
  {
   "cell_type": "markdown",
   "metadata": {},
   "source": [
    "#### `BinarySearchTree` 클래스와 `TreeNode` 클래스"
   ]
  },
  {
   "cell_type": "markdown",
   "metadata": {},
   "source": [
    "여기서는 아래 두 개의 클래스를 활용하여 이진탐색트리를 구현한다.\n",
    "\n",
    "- `BinarySearchTree` 클래스\n",
    "    - `root` 속성: 이진탐색트리의 루트 마디 지정.\n",
    "        - 기본값: `None`. 즉, 마디가 전혀 없는 이진탐색트리 생성.\n",
    "    - 지정되는 루트 마디는 `TreeNode` 클래스의 객체\n",
    "    - 예제: 아래 그림의 빨강 화살표.\n",
    "- `TreeNode` 클래스\n",
    "    - 부모 마디와 자식 마디 사이의 관계를 지정함.\n",
    "        - `parent`: 부모 마디\n",
    "        - `left_child`: 왼쪽 자식 마디\n",
    "        - `right_child`: 오른쪽 자식 마디\n",
    "    - 예제: 아래 그림 참조\n",
    "        - 빨강 화살표: 루트 마디 참조\n",
    "        - 검정 화살표: 자식 참조\n",
    "        - 파랑 화살표: 부모 참조"
   ]
  },
  {
   "cell_type": "markdown",
   "metadata": {},
   "source": [
    "<figure>\n",
    "<div align=\"center\"><img src=\"https://raw.githubusercontent.com/codingalzi/algopy/master/notebooks/_images/BinarySearchTree.png\" width=\"47%\"></div>\n",
    "</figure>"
   ]
  },
  {
   "cell_type": "markdown",
   "metadata": {},
   "source": [
    "**두 클래스의 상호작용**"
   ]
  },
  {
   "cell_type": "markdown",
   "metadata": {},
   "source": [
    "`BinarySearchTree` 클래스의 객체는 루트가 존재하는지 여부만을 확인하며,\n",
    "`TreeNode` 객체를 루트로 사용하는 경우 마디의 추가/삭제와 업데이트,\n",
    "부모-자식간의 관계 정보 확인 및 업데이트 등을\n",
    "활용하는 메서드를 제공한다. \n",
    "반면에 `TreeNode` 객체는 `BinarySearchTree` 클래스의 메서드가\n",
    "수행하는 기능을 지원하는 메서드를 포함한다."
   ]
  },
  {
   "cell_type": "markdown",
   "metadata": {},
   "source": [
    "**`TreeNode` 클래스의 메서드**"
   ]
  },
  {
   "cell_type": "markdown",
   "metadata": {},
   "source": [
    "`TreeNode` 클래스는 기본적으로 자식과 부모 마디에 대한 정보를 저장하고 활용하며,\n",
    "이를 위해 제공되는 메서드는 다음과 같다.\n",
    "\n",
    "- 속성 변수\n",
    "    - `self.key`: 마디의 키\n",
    "    - `self.value`: 키와 연관된 값\n",
    "    - `self.left_child`: 왼쪽 자식 마디(`TreeNode` 객체)\n",
    "    - `self.right_child`: 오른쪽 자식 마디(`TreeNode` 객체)\n",
    "    - `self.parent`: 부모 마디(`TreeNode` 객체)\n",
    "- `is_left_child(self)`: 자신이 부모 마디의 왼쪽 자식인지 여부 판단\n",
    "- `is_right_child(self)`: 자신이 부모 마디의 오른쪽 자식인지 여부 판단\n",
    "- `is_root(self)`: 자신이 루트 마디인지 여부 판단. 즉, 부모 마디가 없는지 여부 판단.\n",
    "- `is_leaf(self)`: 자신이 잎루 마디인지 여부 판단. 즉, 자식 마디를 전혀 갖지 않는지 여부 판단.\n",
    "- `has_a_child(self)`: 하나 이상의 자식 마디를 갖는지 여부 판단.\n",
    "- `has_children(self)`: 왼쪽, 오른쪽 자식 마디 모두 갖는지 여부 판단.\n",
    "- `replace_valuee(self, key, value, left, right)`: \n",
    "    - 자신의 키와 값 변경\n",
    "    - 왼쪽, 오른쪽 자식 마디 지정 후 자신을 해당 마디들의 부모로 지정\n",
    "- `find_successor(self)`: 현재 마디의 계승자 탐색\n",
    "    - 좌우 자식 모두를 갖는 마디를 삭제하고자 할 경우 우측 서브트리의 최소 키(key)를 \n",
    "        갖는 마디를 계승자로 지정.\n",
    "    - 일반적으로 현재 마디의 키 다음으로 큰 키를 갖는 마디를 찾아야 함.\n",
    "        프로그래밍 실습 문제 참조.\n",
    "    - 계승자는 최대 한 개의 자식 마디를 가지게 됨.\n",
    "- `find_min(self)`: 현재 마디를 루트로 갖는 서브트리에서 사용된 키의 최솟값\n",
    "    - 맨 하단 좌측에 위치한 마디의 키\n",
    "- `splice_out(self)`: 계승자 제거.\n",
    "    - 제거되는 마디의 위치로 계승자를 옮기기 위해\n",
    "        계승자가 원래 있던 자리에서 제거하는 과정\n",
    "    - 계승자는 최대 하나의 자식 마디를 갖기에 나머지 마디를 계승자의 부모 마디에\n",
    "        연결만 해주면 됨.\n",
    "- `__iter__(self)`: 중위순회방식으로 루트마디에서 연결된 모드 마디의 키(key)를\n",
    "    확인하는 이터레이터"
   ]
  },
  {
   "cell_type": "markdown",
   "metadata": {},
   "source": [
    "`TreeNode` 클래스 전체 코드는 다음과 같다."
   ]
  },
  {
   "cell_type": "code",
   "execution_count": 1,
   "metadata": {},
   "outputs": [],
   "source": [
    "# 트리의 마디 클래스: 키와 값으로 이루어지며 좌우 자식과 부모 마디 정보 함께 보유\n",
    "class TreeNode:\n",
    "    def __init__(self, key, value, left=None, right=None, parent=None):\n",
    "        self.key = key             # 키\n",
    "        self.value = value         # 값\n",
    "        self.left_child = left     # 좌측 자식 마디\n",
    "        self.right_child = right   # 우측 자식 마디\n",
    "        self.parent = parent       # 부모 마디\n",
    "\n",
    "    # 좌측 자식 마디: 부모의 좌측 자식 마디 여부\n",
    "    def is_left_child(self):\n",
    "        return self.parent and self.parent.left_child is self\n",
    "\n",
    "    # 우측 자식 마디: 부모의 우측 자식 마디 여부\n",
    "    def is_right_child(self):\n",
    "        return self.parent and self.parent.right_child is self\n",
    "\n",
    "    # 루트: 부모가 없을 때\n",
    "    def is_root(self):\n",
    "        return not self.parent\n",
    "\n",
    "    # 잎: 자식이 없을 때\n",
    "    def is_leaf(self):\n",
    "        return not (self.right_child or self.left_child)\n",
    "\n",
    "    # 자식 존재 여부\n",
    "    def has_a_child(self):\n",
    "        return self.right_child or self.left_child\n",
    "\n",
    "    # 좌우측 두 자식 모두 존재 여부\n",
    "    def has_children(self):\n",
    "        return self.right_child and self.left_child\n",
    "\n",
    "    # 키, 값, 좌우 자식 지정\n",
    "    def replace_value(self, key, value, left, right):\n",
    "        self.key = key\n",
    "        self.value = value\n",
    "        self.left_child = left\n",
    "        self.right_child = right\n",
    "      \n",
    "        # 새 자식의 부모로 자신을 지정\n",
    "        if self.left_child:\n",
    "            self.left_child.parent = self\n",
    "        if self.right_child:\n",
    "            self.right_child.parent = self\n",
    "\n",
    "    # 현재 마디의 계승자 마디 탐색\n",
    "    # 우측 자식이 있는 경우만 다뤄도 여기서는 목적 달성.\n",
    "    # 모든 경우를 다루는 경우는 프로그래밍 실습 과제 참조.\n",
    "    def find_successor(self):\n",
    "        if self.has_children():\n",
    "            successor = self.right_child.find_min()\n",
    "        return successor\n",
    "    \n",
    "    # 현재 트리에 사용된 가장 작은 키\n",
    "    def find_min(self):\n",
    "        current = self\n",
    "        while current.left_child:\n",
    "            current = current.left_child\n",
    "        return current\n",
    "\n",
    "    # 계승자 마디 삭제 후 자식 마디들을 부모 마디에 이어 붙이기\n",
    "    # 계승자는 자식을 하나만 갖기에 가능함.\n",
    "    def splice_out(self):\n",
    "        if self.is_leaf():\n",
    "            if self.is_left_child():\n",
    "                self.parent.left_child = None\n",
    "            else:\n",
    "                self.parent.right_child = None\n",
    "        elif self.left_child:\n",
    "            if self.is_left_child():\n",
    "                self.parent.left_child = self.left_child\n",
    "            else:\n",
    "                self.parent.right_child = self.left_child\n",
    "            \n",
    "            self.left_child.parent = self.parent\n",
    "        else:\n",
    "            if self.is_left_child():\n",
    "                self.parent.left_child = self.right_child\n",
    "            else:\n",
    "                self.parent.right_child = self.right_child\n",
    "            \n",
    "            self.right_child.parent = self.parent\n",
    "\n",
    "    # 이터레이터: 중위순회방식으로 키(key) 확인\n",
    "    def __iter__(self):\n",
    "        if self:\n",
    "            if self.left_child:\n",
    "                for elem in self.left_child:\n",
    "                    yield elem\n",
    "            yield self.key\n",
    "            if self.right_child:\n",
    "                for elem in self.right_child:\n",
    "                    yield elem"
   ]
  },
  {
   "cell_type": "markdown",
   "metadata": {},
   "source": [
    "**`BinarySearchTree` 클래스의 메서드**"
   ]
  },
  {
   "cell_type": "markdown",
   "metadata": {},
   "source": [
    "`BinarySearchTree` 클래스에서 제공하는 기능은 다음과 같다."
   ]
  },
  {
   "cell_type": "markdown",
   "metadata": {},
   "source": [
    "기능 1: 항목 추가\n",
    "\n",
    "지정된 키와 값을 하나의 마디에 추가하거나 업데이트 한다. \n",
    "\n",
    "- `put(self, key, value)`: 적절한 위치의 마디의 키(key)와 값으로 지정.\n",
    "    - 루트가 없는 경우: 루트 마디로 지정\n",
    "    - 루트가 있는 경우: `_put(self, key, value, current_node)` 재귀 메서드를 활용하여 적절한 위치의 마디로 지정.\n",
    "    - 키(key)가 이미 존재하는 경우 값(value) 업데이트.\n",
    "\n",
    "아래 그림은 `19`를 `_put(self, key, value, current_node)` 함수가 적절한 위치에 넣는 \n",
    "과정을 보여준다. \n",
    "`19`와 비교되는 마디는 회색 마디로 표시되었다."
   ]
  },
  {
   "cell_type": "markdown",
   "metadata": {},
   "source": [
    "<figure>\n",
    "<div align=\"center\"><img src=\"https://runestone.academy/runestone/books/published/pythonds3/_images/bstput.png\" width=\"50%\"></div>\n",
    "</figure>"
   ]
  },
  {
   "cell_type": "markdown",
   "metadata": {},
   "source": [
    "기능 2: 키의 값 확인\n",
    "\n",
    "지정된 키(key)의 값(value)를 확인하는 일은 `put()` 메서드와 유사하다.\n",
    "\n",
    "- `get(self, key)`: 지정된 키(key)를 갖는 마디에 저장된 값(value) 확인.\n",
    "    - 루트가 없는 경우: `None` 반환\n",
    "    - 루트가 있는 경우: `_get(self, key, current_node)` 재귀 메서드를 활용하여 적절한 위치의 마디에 저장된 값 반환\n",
    "    - 키가 없으면 `None` 반환."
   ]
  },
  {
   "cell_type": "markdown",
   "metadata": {},
   "source": [
    "기능 3: 대괄호 연산자(`[]`) 지원\n",
    "\n",
    "아래 두 메서드가 필요하다.\n",
    "\n",
    "- `__setitem__(self, key, value)`\n",
    "    - 예제: `my_zip_tree['Plymouth'] = 55446` \n",
    "    - `self.put(key, value)` 활용\n",
    "\n",
    "- `__getitem__(self, key)`\n",
    "    - 예제: `z = my_zip_tree['Plymouth']` \n",
    "    - `self.get(key)` 활용"
   ]
  },
  {
   "cell_type": "markdown",
   "metadata": {},
   "source": [
    "기능 4: `in` 연산자 지원\n",
    "\n",
    "아래 메서드가 필요하다.\n",
    "\n",
    "- `__contains__(self, key)`\n",
    "    - 예제: `if Plymouth in my_zip_tree: print(True)` \n",
    "    - 반환값: `bool(self._get(key, self.root))`"
   ]
  },
  {
   "cell_type": "markdown",
   "metadata": {},
   "source": [
    "기능 5: 키-값 항목 제거\n",
    "\n",
    "지정된 키(key)를 사용하는 마디를 제거한다.\n",
    "\n",
    "- `delete(self, key)`:\n",
    "    - 트리의 사이즈가 1, 즉 루트만 존재하는 경우: 루트의 키를 확인한 후 동일하면 루트 제거\n",
    "    - 트리의 사이즈가 1보다 큰 경우: `self._get(key)` 를 이용하여 제거해야 할 마디 확인 후 \n",
    "        `_delete()` 메서드로 해당 마디 제거.\n",
    "    - 제거 대상 키가 존재하지 않는 경우 `KeyError` 오류 발생.\n",
    "- `_delete(self, current_node)`: 지정된 마디 제거 후 자식 마디 재설정\n",
    "    - 자식이 없는 잎 마디: 그냥 삭제. 부모 마디의 해당 자식 마디에 대한 정보 삭제.\n",
    "    - 자식을 하나 갖는 마디: 해당 마디 삭제 후 자식 마디를 부모 마디에 연결.\n",
    "    - 좌우 자식 모두 갖는 경우: 해당 마디를 계승자의 키-값으로 교체한 후 계승자 삭제.\n",
    "- `__delitem__(self, key)`: `del` 연산자 지원."
   ]
  },
  {
   "cell_type": "markdown",
   "metadata": {},
   "source": [
    "`_delete()` 메서드가 작동하는 과정을 예를 들어 설명하면 다음과 같다."
   ]
  },
  {
   "cell_type": "markdown",
   "metadata": {},
   "source": [
    "- 잎 마디 제거: `16`을 키로 갖는 마디 제거"
   ]
  },
  {
   "cell_type": "markdown",
   "metadata": {},
   "source": [
    "<figure>\n",
    "<div align=\"center\"><img src=\"https://runestone.academy/runestone/books/published/pythonds3/_images/bstdel1.png\" width=\"80%\"></div>\n",
    "</figure>"
   ]
  },
  {
   "cell_type": "markdown",
   "metadata": {},
   "source": [
    "- 자식을 하나 갖는 마디 제거: `25`를 키로 갖는 마디 제거"
   ]
  },
  {
   "cell_type": "markdown",
   "metadata": {},
   "source": [
    "<figure>\n",
    "<div align=\"center\"><img src=\"https://runestone.academy/runestone/books/published/pythonds3/_images/bstdel2.png\" width=\"85%\"></div>\n",
    "</figure>"
   ]
  },
  {
   "cell_type": "markdown",
   "metadata": {},
   "source": [
    "- 좌우 자식 모두 갖는 마디 제거: `5`를 키로 갖는 마디 제거\n",
    "    - 계승자 확인: `find_successor()` 활용\n",
    "    - 계승자 제거: `splice_out()` 활용\n",
    "    - 제거된 마디 정보 업데이트"
   ]
  },
  {
   "cell_type": "markdown",
   "metadata": {},
   "source": [
    "<figure>\n",
    "<div align=\"center\"><img src=\"https://runestone.academy/runestone/books/published/pythonds3/_images/bstdel3.png\" width=\"80%\"></div>\n",
    "</figure>"
   ]
  },
  {
   "cell_type": "markdown",
   "metadata": {},
   "source": [
    "`BinarySearchTree` 클래스 전체 코드는 다음과 같다."
   ]
  },
  {
   "cell_type": "code",
   "execution_count": 2,
   "metadata": {},
   "outputs": [],
   "source": [
    "class BinarySearchTree:\n",
    "    # 생성자: 아무 마디(TreeNode) 없는 이진탐색트리 생성. \n",
    "    # 자식 마디는 TreeNode에서 처리.\n",
    "    def __init__(self):\n",
    "        self.root = None    # TreeNode 객체\n",
    "        self.size = 0\n",
    "\n",
    "    # 트리 크기: 마디 개수\n",
    "    def __len__(self):\n",
    "        return self.size\n",
    "\n",
    "    # 이터레이터: 모든 마디의 키를 중위순회방식으로 확인\n",
    "    def __iter__(self):\n",
    "        return self.root.__iter__()\n",
    "\n",
    "    # 항목 추가: 루트 이외의 마디는 TreeNode에서 재귀적으로 처리\n",
    "    def put(self, key, value):\n",
    "        if not self.root:\n",
    "            self.root = TreeNode(key, value)\n",
    "        else:\n",
    "            self._put(key, value, self.root)\n",
    "        \n",
    "        self.size = self.size + 1     # size를 1 키우기\n",
    "\n",
    "    # 항목 추가 보조함수: 이진 탐색 트리 특성 유지\n",
    "    def _put(self, key, value, current_node):\n",
    "        if key < current_node.key:\n",
    "            if current_node.left_child: \n",
    "                self._put(key, value, current_node.left_child)\n",
    "            else: # 왼쪽 자식 없는 경우 마디 추가\n",
    "                current_node.left_child = TreeNode(key, value, parent=current_node)\n",
    "        elif key == current_node.key:  # value 업데이트\n",
    "            current_node.value = value\n",
    "            self.size = self.size - 1  # 키의 값을 대체하는 경우 size는 그대로 두기 위해\n",
    "        else:\n",
    "            if current_node.right_child:\n",
    "                self._put(key, value, current_node.right_child)\n",
    "            else: # 오른쪽 자식 없는 경우 마디 추가\n",
    "                current_node.right_child = TreeNode(key, value, parent=current_node)\n",
    "\n",
    "    # 사전식 키-값 지정: aBinTree[key] = value\n",
    "    def __setitem__(self, key, value):\n",
    "        self.put(key, value)\n",
    "\n",
    "    #  키의 값 확인\n",
    "    def get(self, key):\n",
    "        if self.root:\n",
    "            result = self._get(key, self.root)\n",
    "            if result:\n",
    "                return result.value\n",
    "        return None\n",
    "\n",
    "    # 키의 값 확인 보조함수: 키가 포함된 마디 반환. 재귀 적용\n",
    "    def _get(self, key, current_node):\n",
    "        if not current_node:\n",
    "            return None\n",
    "        if current_node.key == key:\n",
    "            return current_node\n",
    "        elif key < current_node.key:\n",
    "            return self._get(key, current_node.left_child)\n",
    "        else:\n",
    "            return self._get(key, current_node.right_child)\n",
    "\n",
    "    #  사전식 키의 값 확인: aBinTree[key]\n",
    "    def __getitem__(self, key):\n",
    "        return self.get(key)\n",
    "\n",
    "    # 키 포함 여부 확인(in 연산자): key in aBinTree\n",
    "    def __contains__(self, key):\n",
    "        return bool(self._get(key, self.root))\n",
    "\n",
    "    # 키 삭제: del 연산자에 활용됨\n",
    "    def delete(self, key):\n",
    "        # 하나의 마디만 있는 경우\n",
    "        if self.size == 1 and self.root.key == key:\n",
    "            self.root = None\n",
    "            self.size = self.size - 1\n",
    "        # 여러 마디가 있는 경우\n",
    "        elif self.size > 1:\n",
    "            # 삭제 대상 마디 확인\n",
    "            node_to_remove = self._get(key, self.root)\n",
    "            \n",
    "            if node_to_remove:\n",
    "                self._delete(node_to_remove)\n",
    "                self.size = self.size - 1\n",
    "            else:\n",
    "                raise KeyError(\"키를 찾을 수 없음!\")\n",
    "        else:\n",
    "            raise KeyError(\"키를 찾을 수 없음!\")\n",
    "\n",
    "    # 키 삭제 보조함수: \n",
    "    def _delete(self, current_node):\n",
    "        # 잎 마디인 경우\n",
    "        if current_node.is_leaf():\n",
    "            if current_node == current_node.parent.left_child:\n",
    "                current_node.parent.left_child = None\n",
    "            else:\n",
    "                current_node.parent.right_child = None\n",
    "        \n",
    "        # 좌우 자식 마디 모두 있는 경우: 계승자를 현재 마디로 옮김.\n",
    "        elif current_node.has_children():\n",
    "            successor = current_node.find_successor()\n",
    "            successor.splice_out()\n",
    "            current_node.key = successor.key\n",
    "            current_node.value = successor.value\n",
    "        \n",
    "        # 자식 마디가 하나인 경우\n",
    "        else:\n",
    "            # 왼쪽 자식만 있는 경우\n",
    "            if current_node.left_child:\n",
    "                # 부모의 왼쪽 자식인 경우\n",
    "                if current_node.is_left_child():\n",
    "                    current_node.left_child.parent = current_node.parent\n",
    "                    current_node.parent.left_child = current_node.left_child\n",
    "                # 부모의 오른쪽 자식인 경우\n",
    "                elif current_node.is_right_child():\n",
    "                    current_node.left_child.parent = current_node.parent\n",
    "                    current_node.parent.right_child = current_node.left_child\n",
    "                # 루트인 경우\n",
    "                else:\n",
    "                    current_node.replace_value(\n",
    "                        current_node.left_child.key,\n",
    "                        current_node.left_child.value,\n",
    "                        current_node.left_child.left_child,\n",
    "                        current_node.left_child.right_child,\n",
    "                    )\n",
    "            \n",
    "            # 오른쪽 자식만 있는 경우\n",
    "            else:\n",
    "                # 부모의 왼쪽 자식인 경우\n",
    "                if current_node.is_left_child():\n",
    "                    current_node.right_child.parent = current_node.parent\n",
    "                    current_node.parent.left_child = current_node.right_child\n",
    "                # 부모의 왼쪽 자식인 경우\n",
    "                elif current_node.is_right_child():\n",
    "                    current_node.right_child.parent = current_node.parent\n",
    "                    current_node.parent.right_child = current_node.right_child\n",
    "                # 루트인 경우\n",
    "                else:\n",
    "                    current_node.replace_value(\n",
    "                        current_node.right_child.key,\n",
    "                        current_node.right_child.value,\n",
    "                        current_node.right_child.left_child,\n",
    "                        current_node.right_child.right_child,\n",
    "                    )\n",
    "    \n",
    "    # 키-값 쌍 삭제(del 연산자): del aBinTree[key]\n",
    "    def __delitem__(self, key):\n",
    "        self.delete(key)"
   ]
  },
  {
   "cell_type": "markdown",
   "metadata": {},
   "source": [
    "**예제**"
   ]
  },
  {
   "cell_type": "markdown",
   "metadata": {},
   "source": [
    "다음 키-값 쌍으로 이루어진 이진탐색트리를 생성한다.\n",
    "\n",
    "```python\n",
    "\"a\":\"art\"\n",
    "\"q\":\"quick\"\n",
    "\"b\":\"brown\"\n",
    "\"f\":\"fox\"\n",
    "\"j\":\"jumps\"\n",
    "\"o\":\"over\"\n",
    "\"t\":\"the\"\n",
    "\"l\":\"lazy\"\n",
    "\"d\":\"dog\"\n",
    "```\n",
    "\n",
    "이후 `\"q\"`의 값을 `\"quiet\"`로 수정한 후에\n",
    "포함된 항목을 확인한다."
   ]
  },
  {
   "cell_type": "code",
   "execution_count": 3,
   "metadata": {},
   "outputs": [
    {
     "name": "stdout",
     "output_type": "stream",
     "text": [
      "=== 추가된 항목 일부 확인 ===\n",
      "\n",
      "q의 값: quick\n",
      "l의 값: lazy\n",
      "\n",
      "=== q의 값 업데이트 ===\n",
      "\n",
      "q의 값: quiet\n",
      "l의 값: lazy\n",
      "\n",
      "=== 트리 사이즈 ===\n",
      "\n",
      "이진탐색트리에 9 개의 항목이 있다.\n",
      "키 a를 삭제하면 8 개의 항목이 남는다.\n",
      "\n",
      "=== 트리 항목 ===\n",
      "\n",
      "남은 항목의 키-값은 다음과 같다.\n",
      "\n",
      "b: brown\n",
      "d: dog\n",
      "f: fox\n",
      "j: jumps\n",
      "l: lazy\n",
      "o: over\n",
      "q: quiet\n",
      "t: the\n",
      "\n"
     ]
    }
   ],
   "source": [
    "# 9개 항목 추가\n",
    "my_tree = BinarySearchTree()\n",
    "my_tree[\"a\"] = \"art\"\n",
    "my_tree[\"q\"] = \"quick\"\n",
    "my_tree[\"b\"] = \"brown\"\n",
    "my_tree[\"f\"] = \"fox\"\n",
    "my_tree[\"j\"] = \"jumps\"\n",
    "my_tree[\"o\"] = \"over\"\n",
    "my_tree[\"t\"] = \"the\"\n",
    "my_tree[\"l\"] = \"lazy\"\n",
    "my_tree[\"d\"] = \"dog\"\n",
    "\n",
    "# 추가된 항목 일부 확인\n",
    "print(\"=== 추가된 항목 일부 확인 ===\\n\")\n",
    "print(\"q의 값:\", my_tree[\"q\"])\n",
    "print(\"l의 값:\", my_tree[\"l\"])\n",
    "\n",
    "# q의 값 업데이트\n",
    "my_tree[\"q\"] = \"quiet\"\n",
    "\n",
    "print(\"\\n=== q의 값 업데이트 ===\\n\")\n",
    "print(\"q의 값:\", my_tree[\"q\"])\n",
    "print(\"l의 값:\", my_tree[\"l\"])\n",
    "\n",
    "print(\"\\n=== 트리 사이즈 ===\\n\")\n",
    "print(f\"이진탐색트리에 {len(my_tree)} 개의 항목이 있다.\")\n",
    "\n",
    "# 항목 삭제\n",
    "my_tree.delete(\"a\")\n",
    "print(f\"키 a를 삭제하면 {len(my_tree)} 개의 항목이 남는다.\")\n",
    "\n",
    "# 남은 항목의 키-값 확인\n",
    "print(\"\\n=== 트리 항목 ===\\n\")\n",
    "print(\"남은 항목의 키-값은 다음과 같다.\\n\")\n",
    "for node in my_tree:\n",
    "    print(f\"{node}: {my_tree[node]}\")\n",
    "print()"
   ]
  },
  {
   "cell_type": "markdown",
   "metadata": {},
   "source": [
    "### 이진탐색트리 분석"
   ]
  },
  {
   "cell_type": "markdown",
   "metadata": {},
   "source": [
    "`put()`과 `get()` 메서드, `in`과 `del` 연산자 모두 \n",
    "생성된 이진탐색트리의 높이(height)에 의존한다. \n",
    "트리의 사이즈가 $n$일 때 \n",
    "무작위로 생성된 트리의 경우 높이가 대략 $\\log_2{n}$이다.\n",
    "그리고 이런 경우 모든 메서드와 연산자의 시간복잡도는 $O(\\log_2{n})$이다.\n",
    "하지만 아래의 경우 또한 발생할 수 있으며 그런 경우 시간복잡도는 최악의 경우\n",
    "$O(n)$이다."
   ]
  },
  {
   "cell_type": "markdown",
   "metadata": {},
   "source": [
    "<figure>\n",
    "<div align=\"center\"><img src=\"https://runestone.academy/runestone/books/published/pythonds3/_images/skewedTree.png\" width=\"30%\"></div>\n",
    "</figure>"
   ]
  },
  {
   "cell_type": "markdown",
   "metadata": {},
   "source": [
    "**연습문제**"
   ]
  },
  {
   "cell_type": "markdown",
   "metadata": {},
   "source": [
    "1. 리스트 `[1, 2, 3, 4, 5, 6, 7, 8, 9, 10]`의 항목을 차례대로 추가한 이진탐색트리를 그려라.\n",
    "\n",
    "1. 리스트 `[10, 9, 8, 7, 6, 5, 4, 3, 2, 1]`의 항목을 차례대로 추가한 이진탐색트리를 그려라.\n",
    "    \n",
    "1. 리스트 `[68, 88, 61, 89, 94, 50, 4, 76, 66, 82]`의 항목을 차례대로 추가한 이진탐색트리를 그려라.\n",
    "\n",
    "1. 리스트를 무작위로 생성한 후에 해당 리스트의 항목을 차례대로 추가한 이진탐색트리를 그려라."
   ]
  },
  {
   "cell_type": "markdown",
   "metadata": {},
   "source": [
    "## 프로그래밍 실습 과제"
   ]
  },
  {
   "cell_type": "markdown",
   "metadata": {},
   "source": [
    "1. 본문에서 `TreeNode`의 메섣드로 정의한 `find_successor()` 함수는 \n",
    "    좌우측 자식을 모두 갖는 경우만 다룬다. \n",
    "    그렇지 않은 일반적인 경우까지 다루도록 하려면 아래와 같이\n",
    "    수정해야 한다. \n",
    "   \n",
    "    ```python\n",
    "    def find_successor(self):\n",
    "        successor = None\n",
    "        if self.right_child:\n",
    "            successor = self.right_child.find_min()\n",
    "        else: # 우측 자식 없는 경우\n",
    "            if self.parent:\n",
    "                if self.is_left_child():\n",
    "                    successor = self.parent\n",
    "                else: # 부모의 우측 자식인 경우: 자신을 제외한 부모의 계승자 활용\n",
    "                    self.parent.right_child = None \n",
    "                    successor = self.parent.find_successor()\n",
    "                    self.parent.right_child = self\n",
    "        return successor\n",
    "    ```\n",
    "    \n",
    "    일반화된 `find_successor()` 메서드를 이용하여 중위순회(inorder traversal) 방식으로\n",
    "    이진탐색트리를 순회하는 메서드를 구현하라.\n",
    "\n",
    "1. 이진탐색트리 코드를 수정하여 스레드 이진탐색트리 클래스로 만들어라.\n",
    "    그리고 스레드 이진탐색트리의 모든 마디를 순회하는 중위순회 알고리즘을 \n",
    "    비재귀(non-recursive) 함수로 구현하라. \n",
    "    스레트 이진트리에 대한 설명은 [스레드 이진트리 개념](https://m.blog.naver.com/PostView.naver?isHttpsRedirect=true&blogId=royal2030&logNo=221544336513)를\n",
    "    참조한다."
   ]
  }
 ],
 "metadata": {
  "kernelspec": {
   "display_name": "Python 3 (ipykernel)",
   "language": "python",
   "name": "python3"
  },
  "language_info": {
   "codemirror_mode": {
    "name": "ipython",
    "version": 3
   },
   "file_extension": ".py",
   "mimetype": "text/x-python",
   "name": "python",
   "nbconvert_exporter": "python",
   "pygments_lexer": "ipython3",
   "version": "3.10.9"
  }
 },
 "nbformat": 4,
 "nbformat_minor": 4
}
