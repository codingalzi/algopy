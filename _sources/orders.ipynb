{
 "cells": [
  {
   "cell_type": "markdown",
   "metadata": {},
   "source": [
    "(sec:orders)=\n",
    "# 차수"
   ]
  },
  {
   "cell_type": "markdown",
   "metadata": {},
   "source": [
    "**슬라이드**\n",
    "\n",
    "본문 내용을 요약한 [슬라이드](https://github.com/codingalzi/algopy/raw/master/slides/slides-orders.pdf)를 다운로드할 수 있다."
   ]
  },
  {
   "cell_type": "markdown",
   "metadata": {},
   "source": [
    "**주요 내용**\n",
    "\n",
    "* 차수 이해\n",
    "* $O$, $\\Omega$, $\\Theta$ 정의와 이해"
   ]
  },
  {
   "cell_type": "markdown",
   "metadata": {},
   "source": [
    "## 시간 복잡도 함수의 차수"
   ]
  },
  {
   "cell_type": "markdown",
   "metadata": {
    "slideshow": {
     "slide_type": "slide"
    }
   },
   "source": [
    "### 차수의 직관적 이해"
   ]
  },
  {
   "cell_type": "markdown",
   "metadata": {
    "slideshow": {
     "slide_type": "slide"
    }
   },
   "source": [
    "아래 두 알고리즘 중에서 어떤 알고리즘을 선택해야 할까?\n",
    "\n",
    "| 알고리즘 | 일정 시간 복잡도 |\n",
    "| :---: | :---: |\n",
    "| A |  $100n$ |\n",
    "| B | $0.01 n^2$ |"
   ]
  },
  {
   "cell_type": "markdown",
   "metadata": {
    "slideshow": {
     "slide_type": "slide"
    }
   },
   "source": [
    "일반적으로 차수가 높은 고차 다항식의 시간 복잡도를 갖는 알고리즘이 실행 시간 측면서 비효율적이다.\n",
    "하지만 최고차 항의 계수가 상대적으로 크면 입력값의 크기에 따라 충분히 좋은 알고리즘으로 사용될 수 있다.\n",
    "\n",
    "위 두 알고리즘의 경우 입력 크기 1만을 기준으로 다르게 선택될 수 있다.\n",
    "\n",
    "| 입력 크기 n | 선택 알고리즘 |\n",
    "| :---: | :---: |\n",
    "| $n \\le 10,000$ | B |\n",
    "| $n > 10,000$ | A |\n",
    "\n",
    "이유는 다음과 같이, $n$이 1만보다 큰 경우에만 $100 n$이 보다 효율적인 시간 복잡도를 의미하기 때문이다. \n",
    "\n",
    "$$\n",
    "\\begin{align*}\n",
    "0.01 n^2 > 100n\\quad &\\Longleftrightarrow \\quad n^2 > 10000 n \\\\\n",
    "    &\\Longleftrightarrow \\quad n > 10000\n",
    "\\end{align*}\n",
    "$$"
   ]
  },
  {
   "cell_type": "markdown",
   "metadata": {},
   "source": [
    "위 설명을 전문적인 용어로 표현하면 다음과 같다.\n",
    "\n",
    "$$\\text{$0.01 n^2$이 $100 n$ 보다 궁극적으로 크다}$$"
   ]
  },
  {
   "cell_type": "markdown",
   "metadata": {},
   "source": [
    ":::{prf:definition} 궁극적으로 크다의 정의\n",
    ":label: def-eventually\n",
    "\n",
    "다음 성질을 갖는 정수 $N \\ge 0$이 존재할 때\n",
    "\"$f(n)$이 $g(n)$ 보다 궁극적으로 크다\" 라고 말한다.\n",
    "\n",
    "$$\\text{$n>N$인 임의의 양의 정수 $n$에 대해 $f(n) > g(n)$이다.}$$\n",
    ":::"
   ]
  },
  {
   "cell_type": "markdown",
   "metadata": {},
   "source": [
    "시간 복잡도의 기준으로 말하면 다음이 성립한다.\n",
    "\n",
    "$$\\text{$g(n)$이 $f(n)$ 보다 궁극적으로 빠르다 $\\quad\\Longleftrightarrow\\quad$ $f(n)$이 $g(n)$ 보다 궁극적으로 크다}$$"
   ]
  },
  {
   "cell_type": "markdown",
   "metadata": {},
   "source": [
    "이렇듯 알고리즘 시간 복잡도의 차수가 높을 수록 입력값의 크기가 어느 정도 커지면 \n",
    "낮은 차수의 알고리즘보다 실행 시간이 훨씬 길어진다.\n",
    "반면에 차수가 높더라도 입력값의 크기가 그렇게 크지 않으면 어느 정도는 효율적으로 활용할 수도 있다."
   ]
  },
  {
   "cell_type": "markdown",
   "metadata": {},
   "source": [
    "### 차수 예제"
   ]
  },
  {
   "cell_type": "markdown",
   "metadata": {},
   "source": [
    "먼저, 상수, 1차, 2차, 3차 차수의 시간 복잡도를 표기하는 방법과 함수들의 예제는 다음과 같다."
   ]
  },
  {
   "cell_type": "markdown",
   "metadata": {
    "slideshow": {
     "slide_type": "slide"
    }
   },
   "source": [
    "| 기호 | 시간 복잡도 | 예제 |\n",
    "| :--- | :--- | :--- |\n",
    "| $\\Theta(1)$ | 상수 복잡도 | $1$, $17$, $1000$, $1000000$, ... |\n",
    "| $\\Theta(n)$ | 1차 시간 복잡도 | $100 n$, $0.001 n+100$, ... |\n",
    "| $\\Theta(n^2)$ | 2차 시간 복잡도 | $5 n^2$, $0.1 n^2 + n + 100$, ... |\n",
    "| $\\Theta(n^3)$ | 3차 시간 복잡도 | $7 n^3$, $n^3 + 5 n^2 + 100 n + 2$, ... |"
   ]
  },
  {
   "cell_type": "markdown",
   "metadata": {},
   "source": [
    "다음은 $\\lg n$과 $n \\lg n$ 의 시간 복잡도를 표기하는 방법과 함수들의 예제를 보여준다."
   ]
  },
  {
   "cell_type": "markdown",
   "metadata": {
    "slideshow": {
     "slide_type": "slide"
    }
   },
   "source": [
    "| 기호 | 시간 복잡도 | 예제 |\n",
    "| :--- | :--- | :--- |\n",
    "| $\\Theta(\\lg n)$ | 로그 복잡도 | $\\lg n$, $2 \\lg n$, $\\frac{1}{2} \\cdot \\lg n+ 3$, ... |\n",
    "| $\\Theta(n\\, \\lg n)$ | 엔-로그-엔($n \\lg n$) 복잡도 | $n\\, \\lg n$, $2 n\\, \\lg n$, $\\frac 1 2 n\\, \\lg n+ \\lg n + 3$, ... |"
   ]
  },
  {
   "cell_type": "markdown",
   "metadata": {
    "slideshow": {
     "slide_type": "slide"
    }
   },
   "source": [
    "앞서 언급된 시간 복잡도를 효율적인 측면에서 구분하면 다음과 같다."
   ]
  },
  {
   "cell_type": "markdown",
   "metadata": {
    "slideshow": {
     "slide_type": "slide"
    }
   },
   "source": [
    "| 효율성 | 알고리즘 복잡도 |\n",
    "| :--- | :--- |\n",
    "| 매우 효율적 | $\\Theta(1)$, $\\Theta(\\lg n)$, $\\Theta(n)$, $\\Theta(n \\lg n)$ |\n",
    "| 경우에 따라 괜찮은 알고리즘 복잡도 | $\\Theta(n^2)$, $\\Theta(n^3)$ |\n",
    "| 사실상 사용 불가 알고리즘 복잡도 | $\\Theta(2^n)$, $\\Theta(n!)$ |"
   ]
  },
  {
   "cell_type": "markdown",
   "metadata": {
    "slideshow": {
     "slide_type": "slide"
    }
   },
   "source": [
    "## 차수의 정의"
   ]
  },
  {
   "cell_type": "markdown",
   "metadata": {
    "slideshow": {
     "slide_type": "slide"
    }
   },
   "source": [
    "차수($\\Theta$)를 엄밀하게 정의하려면 Big-$O$와 $\\Omega$(Omega, 오메가) 개념이 요구된다."
   ]
  },
  {
   "cell_type": "markdown",
   "metadata": {
    "slideshow": {
     "slide_type": "slide"
    }
   },
   "source": [
    "### Big-$O$ 표기법"
   ]
  },
  {
   "cell_type": "markdown",
   "metadata": {},
   "source": [
    "다음 성질을 갖는 양의 실수 $c$와 음이 아닌 정수 $N$이 존재할 때 $g(n)\\in O(f(n))$이 성립한다.\n",
    "\n",
    "$$\\text{$n \\ge N$인 임의의 정수 $n$에 대해 $g(n) \\le c\\cdot f(n)$}$$"
   ]
  },
  {
   "cell_type": "markdown",
   "metadata": {
    "slideshow": {
     "slide_type": "slide"
    }
   },
   "source": [
    "입력크기 $n$에 대해 시간 복잡도 $g(n)$의 수행시간이 궁극적으로 $f(n)$보다 나쁘지는 않음을 의미한다."
   ]
  },
  {
   "cell_type": "markdown",
   "metadata": {
    "slideshow": {
     "slide_type": "fragment"
    }
   },
   "source": [
    "<div align=\"center\"><img src=\"https://raw.githubusercontent.com/codingalzi/algopy/master/jupyter-book/imgs/algo01/algo01-08.png\" width=\"300\"/></div>\n",
    "\n",
    "<br>"
   ]
  },
  {
   "cell_type": "markdown",
   "metadata": {
    "slideshow": {
     "slide_type": "slide"
    }
   },
   "source": [
    "$O(n^2)$에 속하는/속하지 않는 시간 복잡도 함수들을 몇 개 살펴 본다."
   ]
  },
  {
   "cell_type": "markdown",
   "metadata": {
    "slideshow": {
     "slide_type": "slide"
    }
   },
   "source": [
    "**예제 1**"
   ]
  },
  {
   "cell_type": "markdown",
   "metadata": {
    "slideshow": {
     "slide_type": "slide"
    }
   },
   "source": [
    "$n \\ge 10$인 경우 다음 부등식이 참이다.\n",
    "\n",
    "$$n^2+10n \\le 2n^2$$\n",
    "\n",
    "따라서 $c=2$와 $N=10$을 선택하면 Big-$O$의 정의에 의해 다음이 성립한다.\n",
    "\n",
    "$$n^2+10n \\in O(n^2)$$\n",
    "\n",
    "아래 그래프가 이를 잘 설명한다."
   ]
  },
  {
   "cell_type": "markdown",
   "metadata": {
    "slideshow": {
     "slide_type": "slide"
    }
   },
   "source": [
    "<div align=\"center\"><img src=\"https://raw.githubusercontent.com/codingalzi/algopy/master/jupyter-book/imgs/algo01/algo01-09.png\" width=\"330\"/></div>"
   ]
  },
  {
   "cell_type": "markdown",
   "metadata": {
    "slideshow": {
     "slide_type": "slide"
    }
   },
   "source": [
    "**예제 2**"
   ]
  },
  {
   "cell_type": "markdown",
   "metadata": {
    "cell_style": "center",
    "slideshow": {
     "slide_type": "slide"
    }
   },
   "source": [
    "모든 정수 $n$에 대해 다음 부등식이 참이다\n",
    "\n",
    "$$5n^2 \\le 5n^2$$\n",
    "\n",
    "따라서 $c=5$와 $N=0$을 선택하면 Big-$O$의 정의에 의해 다음이 성립한다.\n",
    "\n",
    "$$5n^2 \\in O(n^2)$$\n"
   ]
  },
  {
   "cell_type": "markdown",
   "metadata": {
    "slideshow": {
     "slide_type": "slide"
    }
   },
   "source": [
    "**예제 3**"
   ]
  },
  {
   "cell_type": "markdown",
   "metadata": {
    "cell_style": "center",
    "slideshow": {
     "slide_type": "slide"
    }
   },
   "source": [
    "임의의 양의 정수 $n$에 대해 다음 부등식이 참이다.\n",
    "\n",
    "$$\\frac{n(n-1)}{2} \\le \\frac{n^2}{2}$$\n",
    "\n",
    "따라서 $c = \\frac 1 2$과 $N=0$을 선택하면 Big-$O$의 정의에 의해 다음이 성립한다.\n",
    "\n",
    "$$\\frac{n(n-1)}{2} \\in O(n^2)$$"
   ]
  },
  {
   "cell_type": "markdown",
   "metadata": {
    "slideshow": {
     "slide_type": "slide"
    }
   },
   "source": [
    "**예제 4**"
   ]
  },
  {
   "cell_type": "markdown",
   "metadata": {
    "cell_style": "center",
    "slideshow": {
     "slide_type": "slide"
    }
   },
   "source": [
    "임의의 양의 정수 $n$에 대해 다음 부등식이 참이다.\n",
    "\n",
    "$$n \\le 1 \\cdot n^2$$\n",
    "\n",
    "따라서 $c=1$과 $N=1$을 선택하면 Big-$O$의 정의에 의해 다음이 성립한다.\n",
    "\n",
    "$$n \\in O(n^2)$$"
   ]
  },
  {
   "cell_type": "markdown",
   "metadata": {
    "slideshow": {
     "slide_type": "slide"
    }
   },
   "source": [
    "**예제 5**"
   ]
  },
  {
   "cell_type": "markdown",
   "metadata": {
    "slideshow": {
     "slide_type": "slide"
    }
   },
   "source": [
    "$c$와 $N$을 아무리 크게 잡더라도 $n$이 $c$보다 크면 다음 부등식이 성립한다.\n",
    "\n",
    "$$n^3 > c\\cdot n^2$$\n",
    "\n",
    "따라서 다음이 성립한다.\n",
    "\n",
    "$$n^3 \\not\\in O(n^2)$$\n"
   ]
  },
  {
   "cell_type": "markdown",
   "metadata": {
    "slideshow": {
     "slide_type": "slide"
    }
   },
   "source": [
    "아래 그림은 $O(n^2)$에 속하는 시간 복잡도 함수들의 집합을 잘 묘사한다."
   ]
  },
  {
   "cell_type": "markdown",
   "metadata": {
    "slideshow": {
     "slide_type": "slide"
    }
   },
   "source": [
    "<div align=\"center\"><img src=\"https://raw.githubusercontent.com/codingalzi/algopy/master/jupyter-book/imgs/algo01/algo01-10.png\" width=\"250\"/></div>"
   ]
  },
  {
   "cell_type": "markdown",
   "metadata": {
    "slideshow": {
     "slide_type": "slide"
    }
   },
   "source": [
    "### $\\Omega$ 표기법"
   ]
  },
  {
   "cell_type": "markdown",
   "metadata": {},
   "source": [
    "다음 성질을 갖는 양의 실수 $c$와 음이 아닌 정수 $N$이 존재할 때 $g(n)\\in \\Omega(f(n))$이 성립한다.\n",
    "\n",
    "$$\\text{$n \\ge N$인 임의의 정수 $n$에 대해 $g(n) \\ge c\\cdot f(n)$}$$"
   ]
  },
  {
   "cell_type": "markdown",
   "metadata": {
    "slideshow": {
     "slide_type": "slide"
    }
   },
   "source": [
    "입력크기 $n$에 대해 시간 복잡도 $g(n)$의 수행시간은 궁극적으로 $f(n)$보다 효율적이지 못함을 의미한다."
   ]
  },
  {
   "cell_type": "markdown",
   "metadata": {
    "slideshow": {
     "slide_type": "fragment"
    }
   },
   "source": [
    "<div align=\"center\"><img src=\"https://raw.githubusercontent.com/codingalzi/algopy/master/jupyter-book/imgs/algo01/algo01-11.png\" width=\"300\"/></div>"
   ]
  },
  {
   "cell_type": "markdown",
   "metadata": {
    "slideshow": {
     "slide_type": "slide"
    }
   },
   "source": [
    "**$\\Omega$ 표기법 예제**\n",
    "\n",
    "* $n^2 + 10n \\in \\Omega(n^2)$\n",
    "    <br>\n",
    "    \n",
    "    * $n \\ge 0$인 경우: \n",
    "    \n",
    "        $$n^2+10n \\ge n^2$$\n",
    "    \n",
    "    * 그러므로 $c = 1$과 $N = 0$ 선택"
   ]
  },
  {
   "cell_type": "markdown",
   "metadata": {
    "cell_style": "center",
    "slideshow": {
     "slide_type": "slide"
    }
   },
   "source": [
    "* $5n^2 \\in \\Omega(n^2)$\n",
    "    <br>\n",
    "    \n",
    "    * $n \\ge 0$인 경우: \n",
    "    \n",
    "        $$5n^2 \\ge 1\\cdot n^2$$\n",
    "    \n",
    "    * 그러므로, $c=1$과 $N=0$ 선택"
   ]
  },
  {
   "cell_type": "markdown",
   "metadata": {
    "cell_style": "center",
    "slideshow": {
     "slide_type": "slide"
    }
   },
   "source": [
    "* $\\frac{n(n-1)}{2} \\in \\Omega(n^2)$\n",
    "<br>\n",
    "\n",
    "    * $n \\ge 2$인 경우: \n",
    "        \n",
    "        $$\\frac{n(n-1)}{2} \\ge \\frac{1}{4} n^2$$\n",
    "    \n",
    "    * 그러므로 $c = 1/4$과 $N = 2$ 선택\n",
    "    "
   ]
  },
  {
   "cell_type": "markdown",
   "metadata": {
    "cell_style": "center",
    "slideshow": {
     "slide_type": "slide"
    }
   },
   "source": [
    "* $n^3 \\in \\Omega(n^2)$\n",
    "<br>\n",
    "\n",
    "    * $n \\ge 1$인 경우: \n",
    "    \n",
    "        $$n^3 \\ge 1 \\cdot n^2$$\n",
    "    \n",
    "    * 그러므로, $c = 1$과 $N = 1$ 선택        "
   ]
  },
  {
   "cell_type": "markdown",
   "metadata": {
    "slideshow": {
     "slide_type": "slide"
    }
   },
   "source": [
    "* $n \\not\\in \\Omega(n^2)$\n",
    "<br>\n",
    "\n",
    "    * $c$를 아무리 작게, $N$을 아무리 크게 지정하더라도, $n \\le c\\cdot n^2$을 만족시키는 $n\\ge N$이 존재.\n",
    "    <br>\n",
    "    \n",
    "    * 예를 들어, $n \\ge 1/c$로 잡으면 됨."
   ]
  },
  {
   "cell_type": "markdown",
   "metadata": {
    "slideshow": {
     "slide_type": "slide"
    }
   },
   "source": [
    "$\\Omega(n^2)$:  특정 양의 실수 $c$에 대해 $c\\, n^2$ 보다 궁극적으로 큰 값을 가지는 함수들의 집합\n",
    "\n",
    "<div align=\"center\"><img src=\"https://raw.githubusercontent.com/codingalzi/algopy/master/jupyter-book/imgs/algo01/algo01-12.png\" width=\"250\"/></div>"
   ]
  },
  {
   "cell_type": "markdown",
   "metadata": {
    "slideshow": {
     "slide_type": "slide"
    }
   },
   "source": [
    "**$\\Theta$ 표기법**"
   ]
  },
  {
   "cell_type": "markdown",
   "metadata": {},
   "source": [
    "차수($\\Theta$)의 엄밀한 정의는 다음과 같다.\n",
    "\n",
    "$$\\Theta(f(n)) = O(f(n)) \\cap \\Omega(f(n))$$"
   ]
  },
  {
   "cell_type": "markdown",
   "metadata": {
    "slideshow": {
     "slide_type": "fragment"
    }
   },
   "source": [
    "즉, 다음 성질을 갖는 양의 실수 $c$와 $d$, 그리고 음이 아닌 정수 $N$이 존재할 때 $g(n)\\in \\Theta(f(n))$이 성립한다.\n",
    "    \n",
    "$$\\text{$n \\ge N$인 임의의 정수 $n$에 대해 $c\\cdot f(n) \\le g(n) \\le d\\cdot f(n)$}$$"
   ]
  },
  {
   "cell_type": "markdown",
   "metadata": {
    "slideshow": {
     "slide_type": "fragment"
    }
   },
   "source": [
    "<div align=\"center\"><img src=\"https://raw.githubusercontent.com/codingalzi/algopy/master/jupyter-book/imgs/algo01/algo01-13.png\" width=\"300\"/></div>"
   ]
  },
  {
   "cell_type": "markdown",
   "metadata": {
    "slideshow": {
     "slide_type": "slide"
    }
   },
   "source": [
    "**$\\Theta$ 표기법 예제**\n",
    "\n",
    "* $\\frac{n (n-1)}{2} \\in \\Theta(n^2)$:\n",
    "    <br>\n",
    "    \n",
    "    * $n\\ge 2$인 경우: \n",
    "    \n",
    "        $$\\frac{n (n-1)}{2} \\ge \\frac 1 4 n^2$$\n",
    "    \n",
    "    * $n \\ge 0$인 경우: \n",
    "        \n",
    "        $$\\frac{n (n-1)}{2} \\le \\frac 1 2 n^2$$\n",
    "    \n",
    "    * 그러므로, $c = \\frac 1 4$, $d = \\frac 1 2$, $N = 2$."
   ]
  },
  {
   "cell_type": "markdown",
   "metadata": {
    "slideshow": {
     "slide_type": "slide"
    }
   },
   "source": [
    "<div align=\"center\"><img src=\"https://raw.githubusercontent.com/codingalzi/algopy/master/jupyter-book/imgs/algo01/algo01-14.png\" width=\"350\"/></div>"
   ]
  },
  {
   "cell_type": "markdown",
   "metadata": {
    "slideshow": {
     "slide_type": "slide"
    }
   },
   "source": [
    "## 차수의 특성"
   ]
  },
  {
   "cell_type": "markdown",
   "metadata": {},
   "source": [
    "* $g(n) \\in O(f(n)) \\quad\\Longleftrightarrow\\quad f(n) \\in \\Omega(g(n))$"
   ]
  },
  {
   "cell_type": "markdown",
   "metadata": {
    "cell_style": "center",
    "slideshow": {
     "slide_type": "fragment"
    }
   },
   "source": [
    "* $g(n) \\in \\Theta(f(n)) \\quad\\Longleftrightarrow\\quad f(n) \\in \\Theta(g(n))$"
   ]
  },
  {
   "cell_type": "markdown",
   "metadata": {
    "cell_style": "center",
    "slideshow": {
     "slide_type": "fragment"
    }
   },
   "source": [
    "* 임의의 $a, b > 1$에 대해 다음이 성립한다:\n",
    "\n",
    "    $$\\log_a n \\in \\Theta(\\log_b n)$$\n",
    "\n",
    "    즉, 로그 함수는 모두 동일한 복잡도 카테고리에 속한다.\n",
    "    "
   ]
  },
  {
   "cell_type": "markdown",
   "metadata": {
    "slideshow": {
     "slide_type": "slide"
    }
   },
   "source": [
    "많이 언급되는 복잡도 카테고리를 순서대로 나열하면 다음과 같다. 단, $k > j > 2$와 $b > a > 1$을 가정한다.\n",
    "\n",
    "$$\\Theta(\\lg n)\\;\\; \\Theta(n)\\;\\; \\Theta(n\\, \\lg n)\\;\\; \\Theta(n^2)\\;\\; \\Theta(n^j)\\;\\; \\Theta(n^k)\\;\\; \\Theta(a^n)\\;\\; \\Theta(b^n)\\;\\; \\Theta(n!)$$"
   ]
  },
  {
   "cell_type": "markdown",
   "metadata": {
    "slideshow": {
     "slide_type": "slide"
    }
   },
   "source": [
    "**차수 예제**"
   ]
  },
  {
   "cell_type": "markdown",
   "metadata": {},
   "source": [
    "- $\\log_4 n \\in \\Theta(\\lg n)$\n",
    "- $7 n^2 \\in \\Theta(n^2)$\n",
    "- $10 n\\, \\lg n + 7 n^2 \\in \\Theta(n^2)$\n",
    "- $3\\, \\lg n + 10 n\\, \\lg n + 7 n^2 \\in \\Theta(n^2)$\n",
    "- $5n + 3\\, \\lg n + 10 n\\, \\lg n + 7 n^2 \\in \\Theta(n^2)$"
   ]
  }
 ],
 "metadata": {
  "kernelspec": {
   "display_name": "Python 3 (ipykernel)",
   "language": "python",
   "name": "python3"
  },
  "language_info": {
   "codemirror_mode": {
    "name": "ipython",
    "version": 3
   },
   "file_extension": ".py",
   "mimetype": "text/x-python",
   "name": "python",
   "nbconvert_exporter": "python",
   "pygments_lexer": "ipython3",
   "version": "3.9.13"
  },
  "vscode": {
   "interpreter": {
    "hash": "6c86b3592b6800d985c04531f2c445f0fa6967131b8dd6395a925f7622e55602"
   }
  }
 },
 "nbformat": 4,
 "nbformat_minor": 4
}
