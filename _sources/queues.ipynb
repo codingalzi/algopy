{
 "cells": [
  {
   "cell_type": "markdown",
   "metadata": {},
   "source": [
    "(sec:queues)=\n",
    "# 큐(Queue)"
   ]
  },
  {
   "cell_type": "markdown",
   "metadata": {},
   "source": [
    "**참고** \n",
    "\n",
    "아래 내용은 [Problem Solving with Algorithms and Data Structures using Python](https://runestone.academy/ns/books/published/pythonds3/index.html)의 3장 내용을 \n",
    "일부 활용한다. "
   ]
  },
  {
   "cell_type": "markdown",
   "metadata": {},
   "source": [
    "**슬라이드**\n",
    "\n",
    "본문 내용을 요약한 [슬라이드](https://github.com/codingalzi/algopy/raw/master/slides/slides-queues.pdf)를 다운로드할 수 있다."
   ]
  },
  {
   "cell_type": "markdown",
   "metadata": {},
   "source": [
    "**주요 내용**\n",
    "\n",
    "- 선형 자료구조\n",
    "- 큐 자료구조\n",
    "- 큐 활용"
   ]
  },
  {
   "cell_type": "markdown",
   "metadata": {},
   "source": [
    "## 선형 자료구조"
   ]
  },
  {
   "cell_type": "markdown",
   "metadata": {},
   "source": [
    "**선형 자료구조**<font size='2'>linear data structure</font>는 \n",
    "여러 개의 항목을 일렬로 나열하여 저장하며 \n",
    "나열된 순서, 즉 저장된 위치가 중요한 역할을 수행한다.\n",
    "\n",
    "항목의 추가/삭제 방식에 따라 선형 자료구조가 다르게 작동하며 일반적으로 아래 6종류의 선형 자료구조가 활용된다.\n",
    "\n",
    "- 큐<font size='2'>queue</font>\n",
    "- 스택<font size='2'>stack</font>\n",
    "- 덱<font size='2'>deque</font>\n",
    "- 연결 리스트<font size='2'>linked list</font>\n",
    "- 정렬 리스트<font size='2'>sorted list</font>\n",
    "\n",
    "선형 자료구조의 양 끝을 부르는 이름이 \n",
    "자료구조마다 다를 수 있다.\n",
    "- 머리: 헤드(head), 탑(top), 프론트(front)\n",
    "- 꼬리: 테일(tail), 바틈(bottom), 리어(rear)\n",
    "\n",
    "파이썬은 큐, 스택, 덱 자료구조를 제공한다.\n",
    "\n",
    "- 큐와 스택: [queue](https://docs.python.org/3/library/queue.html) 모듈의 `Queue` 클래스와 `LifoQueue` 클래스\n",
    "- 덱: [collections](https://docs.python.org/3/library/collections.html#collections.deque) 모듈의 \n",
    "`deque` 클래스\n",
    "\n",
    "여기서는 큐, 스택, 덱을 추상자료형으로 선언하고 직접 파이썬 클래스로 구현해본다."
   ]
  },
  {
   "cell_type": "markdown",
   "metadata": {},
   "source": [
    "## 큐의 정의"
   ]
  },
  {
   "cell_type": "markdown",
   "metadata": {},
   "source": [
    "항목 추가는 **꼬리**<font size='2'>rear, tail</font>에서, 항목 삭제는 \n",
    "**머리**<font size='2'>front, head</font>에서\n",
    "이루어지며, 입력된 순서대로 머리에서부터 하나씩 삭제되는 모음 자료형을 \n",
    "**큐**<font size='2'>queue</font>라 부른다. \n",
    "\n",
    "아래 그림에서 보여지는 것처럼 먼저 들어온 항목이 먼저 나간다는 **선입선출**<font size='2'>first in, first out</font>(FIFO) 원리를 따르며,\n",
    "항목들의 추가와 삭제는 입력 순서에 따라 한쪽 방향으로 이동하는 방식이\n",
    "철저하게 지켜진다."
   ]
  },
  {
   "cell_type": "markdown",
   "metadata": {},
   "source": [
    "<figure>\n",
    "<div align=\"center\"><img src=\"https://runestone.academy/runestone/books/published/pythonds3/_images/basicqueue.png\" width=\"55%\"></div>\n",
    "</figure>"
   ]
  },
  {
   "cell_type": "markdown",
   "metadata": {},
   "source": [
    "큐의 활용은 다양하게 이루어진다. \n",
    "예를 들어, 은행 창구에서 번호표 배분하는 장치는 방문 순서대로 호출되며, \n",
    "프린터는 인쇄 과제가 생성된 순서대로 출력한다. \n",
    "또한 키보드를 이용하여 타이핑하면 버퍼(buffer)와 같은\n",
    "큐에 잠시 저장되어 있다가 순서대로 편집기에 표시되며,\n",
    "컴퓨터 CPU가 사용자가 내린 명령문을 처리하는 것 또한 특정 형식의 큐를 이용한다. "
   ]
  },
  {
   "cell_type": "markdown",
   "metadata": {},
   "source": [
    "**예제: 버퍼 활용**"
   ]
  },
  {
   "cell_type": "markdown",
   "metadata": {},
   "source": [
    "파이썬 `print()` 함수는 여러 개의 키워드 인자를 사용한다."
   ]
  },
  {
   "cell_type": "code",
   "execution_count": 1,
   "metadata": {},
   "outputs": [
    {
     "name": "stdout",
     "output_type": "stream",
     "text": [
      "Help on built-in function print in module builtins:\n",
      "\n",
      "print(*args, sep=' ', end='\\n', file=None, flush=False)\n",
      "    Prints the values to a stream, or to sys.stdout by default.\n",
      "    \n",
      "    sep\n",
      "      string inserted between values, default a space.\n",
      "    end\n",
      "      string appended after the last value, default a newline.\n",
      "    file\n",
      "      a file-like object (stream); defaults to the current sys.stdout.\n",
      "    flush\n",
      "      whether to forcibly flush the stream.\n",
      "\n"
     ]
    }
   ],
   "source": [
    "help(print)"
   ]
  },
  {
   "cell_type": "markdown",
   "metadata": {},
   "source": [
    "이중에 `end` 키워드는 지정된 문자열 출력후 기본적으로 줄바꿈을 실행하도록 되어 있다.\n",
    "그런데 예를 들어 아래 코드의 `end=' '` 처럼 기본값을 변경하면 버퍼(buffer)에 출력할 값들을\n",
    "보관한 다음 마지막에 한꺼번에 쏟아내어 화면에 출력하도록 한다."
   ]
  },
  {
   "cell_type": "markdown",
   "metadata": {},
   "source": [
    "```python\n",
    "import time\n",
    "\n",
    "for i in range(10):\n",
    "    print(i, end=' ')\n",
    "    time.sleep(1)\n",
    "```"
   ]
  },
  {
   "cell_type": "markdown",
   "metadata": {},
   "source": [
    "아래 이미지는 터미널에서 위 코드를 실행한 결과를 보여준다."
   ]
  },
  {
   "cell_type": "markdown",
   "metadata": {},
   "source": [
    "<figure>\n",
    "<div align=\"center\"><img src=\"https://raw.githubusercontent.com/codingalzi/algopy/master/notebooks/_images/print_buffer_2.gif\" width=\"55%\"></div>\n",
    "</figure>\n",
    "\n",
    "<이미지 출처: [janeljs.log](https://velog.io/@janeljs/python-print-sep-end-file-flush)>"
   ]
  },
  {
   "cell_type": "markdown",
   "metadata": {},
   "source": [
    "이에 대한 해결책은 `flush=True`로 지정하는 것이다. \n",
    "그러면 한 개의 숫자씩 차례대로 출력한다."
   ]
  },
  {
   "cell_type": "markdown",
   "metadata": {},
   "source": [
    "```python\n",
    "import time\n",
    "\n",
    "for i in range(10):\n",
    "    print(i, end=' ', flush=True)\n",
    "    time.sleep(1)\n",
    "```"
   ]
  },
  {
   "cell_type": "markdown",
   "metadata": {},
   "source": [
    "## `Queue` 추상 자료형"
   ]
  },
  {
   "cell_type": "markdown",
   "metadata": {},
   "source": [
    "큐 추상 자료형을 구체적인 파이썬 자료구조(data structure)로 \n",
    "구현할 때 요구되눈 기본 속성과 기능은 다음과 같다.\n",
    "\n",
    "-  `Queue(maxsize=0)`: 비어 있는 큐 생성. `maxsize`를 양의 정수로 지정하면 항목을 최대 그만큼 담을 수 있음. \n",
    "    아니면 제한 없음.\n",
    "-  `put(item)`: maxsize가 양의 정수이면서 항목을 추가하면 허용되는 항목의 수를 초과하는 경우\n",
    "    먼저 머리(head, front)를 제거한 다음 새로운 항목을 꼬리(rear, tail)에 추가. 반환값 없음.\n",
    "-  `get()`: 머리(head, front) 항목 삭제. 삭제된 항목 반환.\n",
    "-  `empty()`: 큐가 비었는지 여부 판단. 부울값 반환.\n",
    "-  `full()`: 큐가 꽉 차 있는지 여부 판단. 부울값 반환.\n",
    "-  `qsize()`: 큐에 포함된 항목 개수 반환."
   ]
  },
  {
   "cell_type": "markdown",
   "metadata": {},
   "source": [
    "아래 테이블은 큐 생성과 함께 다양한 큐 관련 연산의 작동법을 소개한다.\n",
    "\n",
    "- 항목의 저장: 리스트 활용\n",
    "- 머리: 리스트의 마지막 인덱스\n",
    "- 꼬리: 리스트의 0번 인덱스"
   ]
  },
  {
   "cell_type": "markdown",
   "metadata": {},
   "source": [
    "| **큐 연산** | **큐 항목** | **반환값** |\n",
    "| --- | --- | --- |\n",
    "| `q = Queue(maxsize=4)` | `[]` | |\n",
    "| `q.empty()` | `[]` | `True` |\n",
    "| `q.put(4)` | `[4]` | |\n",
    "| `q.put(\"dog\")` | `['dog',4]` | |\n",
    "| `q.put(True)` | `[True, 'dog', 4]` | |\n",
    "| `q.qsize()` | `[True, 'dog', 4]` | `3` |\n",
    "| `q.empty()` | `[True, 'dog', 4]` | `False` |\n",
    "| `q.put(8.4)` | `[8.4, True, 'dog', 4]` | |\n",
    "| `q.put('하나 더?')` | `['하나 더?', 8.4, True, 'dog']` | |\n",
    "| `q.get()` | `['하나 더?', 8.4, True]` | `'dog'` |\n",
    "| `q.get()` | `['하나 더?', 8.4]` | `True` |\n",
    "| `q.qsize()`  | `['하나 더?', 8.4]` | `2` |"
   ]
  },
  {
   "cell_type": "markdown",
   "metadata": {},
   "source": [
    "## 큐 자료구조 구현"
   ]
  },
  {
   "cell_type": "markdown",
   "metadata": {},
   "source": [
    "리스트를 활용할 때 중요한 것은 머리와 꼬리를 어디로 설정하는가이다. \n",
    "앞서 본 것처럼 꼬리는 리스트의 시작, 머리는 리스트의 오른편 끝으로 정하며,\n",
    "이에 따라 `put()`와 `get()`를 정의하기 위해 리스트의 \n",
    "`insert()`와 `pop()` 메서드를 활용한다. "
   ]
  },
  {
   "cell_type": "code",
   "execution_count": 2,
   "metadata": {},
   "outputs": [],
   "source": [
    "class Queue:\n",
    "    \"\"\"리스트를 활용한 큐 구현\"\"\"\n",
    "\n",
    "    def __init__(self, maxsize=0):\n",
    "        \"\"\"새로운 큐 생성\"\"\"\n",
    "        self.maxsize = maxsize\n",
    "        self._items = []\n",
    "    \n",
    "    def __repr__(self):\n",
    "        \"\"\"큐 표기법: <<[1, 2, 3]>> 등등\"\"\"\n",
    "        return f\"<<{self._items}>>\"\n",
    "    \n",
    "    def empty(self):\n",
    "        \"\"\"비었는지 여부 확인\"\"\"\n",
    "        return not bool(self._items)\n",
    "\n",
    "    def full(self):\n",
    "        \"\"\"maxsize 충족 여부 확인\"\"\"\n",
    "        if self.maxsize <= 0:\n",
    "            return False\n",
    "        elif self.qsize() == self.maxsize:\n",
    "            return True\n",
    "        else:\n",
    "            return False\n",
    "\n",
    "    def put(self, item):\n",
    "        \"\"\"꼬리에 항목 추가\n",
    "        - maxsize를 채웠을 경우 머리 항목 삭제 후 추가\n",
    "        \"\"\"\n",
    "        if self.full() == True:\n",
    "            self.get()\n",
    "            \n",
    "        self._items.insert(0, item)\n",
    "\n",
    "    def get(self):\n",
    "        \"\"\"머리 항목 삭제\"\"\"\n",
    "        return self._items.pop()\n",
    "\n",
    "    def qsize(self):\n",
    "        \"\"\"항목 개수 확인\"\"\"\n",
    "        return len(self._items)"
   ]
  },
  {
   "cell_type": "code",
   "execution_count": 3,
   "metadata": {},
   "outputs": [
    {
     "name": "stdout",
     "output_type": "stream",
     "text": [
      "True\n",
      "<<[True, 'dog', 4]>>\n",
      "False\n",
      "3\n",
      "False\n",
      "True\n",
      "<<[8.4, True, 'dog', 4]>>\n",
      "<<['하나 더?', 8.4, True, 'dog']>>\n",
      "dog\n",
      "True\n",
      "2\n",
      "<<['하나 더?', 8.4]>>\n"
     ]
    }
   ],
   "source": [
    "q = Queue(maxsize=4)\n",
    "\n",
    "print(q.empty())\n",
    "q.put(4)\n",
    "q.put(\"dog\")\n",
    "q.put(True)\n",
    "print(q)\n",
    "print(q.full())\n",
    "print(q.qsize())\n",
    "print(q.empty())\n",
    "q.put(8.4)\n",
    "print(q.full())\n",
    "print(q)\n",
    "q.put(\"하나 더?\")\n",
    "print(q)\n",
    "print(q.get())\n",
    "print(q.get())\n",
    "print(q.qsize())\n",
    "print(q)"
   ]
  },
  {
   "cell_type": "markdown",
   "metadata": {},
   "source": [
    "## 실전 예제 1: 폭탄 돌리기"
   ]
  },
  {
   "cell_type": "markdown",
   "metadata": {},
   "source": [
    "**게임 소개**"
   ]
  },
  {
   "cell_type": "markdown",
   "metadata": {},
   "source": [
    "여러 명이 빙 둘러앉아 폭탄 돌리기 게임을 한다. \n",
    "폭탄을 계속 돌리다가 멈추는 순간 폭탄을 들고 있는 사람은 탈락된다.\n",
    "폭탄을 몇 번 돌리는가는 미리 지정하며 최종적으로 한 명이 남을 때까지 게임을 진행한다."
   ]
  },
  {
   "cell_type": "markdown",
   "metadata": {},
   "source": [
    "<figure>\n",
    "<div align=\"center\"><img src=\"https://runestone.academy/runestone/books/published/pythonds3/_images/hotpotato.png\" width=\"45%\"></div>\n",
    "</figure>"
   ]
  },
  {
   "cell_type": "markdown",
   "metadata": {},
   "source": [
    "**게임 구현**"
   ]
  },
  {
   "cell_type": "markdown",
   "metadata": {},
   "source": [
    "폭탄 돌리기 게임을 큐를 이용하여 구현해보자.\n",
    "게임 시작과 진행 과정에 필요한 사항들은 다음과 같다.\n",
    "\n",
    "- 게임 시작: 사람들의 리스트(`name_list`)와 정수(`num`)\n",
    "- 폭탄 위치: 큐의 머리(리스트의 가장 오른편)에 있는 사람\n",
    "- 폭탄 전달: 머리 항목 삭제 후 바로 꼬리(리스트의 0번 인덱스 위치)에 추가\n",
    "- 탈락: `num`번의 폭탄 돌리기 이후 머리에 위치한 사람 탈락 \n",
    "- 게임 정지: 한 명이 남을 때까지 반복"
   ]
  },
  {
   "cell_type": "markdown",
   "metadata": {},
   "source": [
    "<figure>\n",
    "<div align=\"center\"><img src=\"https://runestone.academy/runestone/books/published/pythonds3/_images/namequeue.png\" width=\"60%\"></div>\n",
    "</figure>"
   ]
  },
  {
   "cell_type": "markdown",
   "metadata": {},
   "source": [
    "위 알고리즘을 함수로 구현하면 다음과 같다.\n",
    "참고로, 폭탄 돌리기 게임을 영어로 Hot Potato 게임이라 한다."
   ]
  },
  {
   "cell_type": "code",
   "execution_count": 4,
   "metadata": {},
   "outputs": [],
   "source": [
    "def hot_potato(name_list, num):\n",
    "\n",
    "    sim_queue = Queue()\n",
    "    \n",
    "    # 큐에 사람 목록 추가\n",
    "    for name in name_list:\n",
    "        sim_queue.put(name)\n",
    "\n",
    "    # 게임 진행\n",
    "    while sim_queue.qsize() > 1:\n",
    "        # num 번 폭탄 돌린 후 탈락자 지정\n",
    "        for i in range(num):\n",
    "            sim_queue.put(sim_queue.get())\n",
    "\n",
    "        sim_queue.get()\n",
    "\n",
    "    return sim_queue.get()    # 마지막 남은 사람"
   ]
  },
  {
   "cell_type": "markdown",
   "metadata": {},
   "source": [
    "아래 코드는 폭탄을 7번 돌릴 때마다 탈락자를 정할 때\n",
    "마지막에 '은혜'가 남는다."
   ]
  },
  {
   "cell_type": "code",
   "execution_count": 5,
   "metadata": {},
   "outputs": [
    {
     "name": "stdout",
     "output_type": "stream",
     "text": [
      "은혜\n"
     ]
    }
   ],
   "source": [
    "print(hot_potato([\"형택\", \"진서\", \"은혜\", \"민규\", \"정은\", \"청용\"], 7))"
   ]
  },
  {
   "cell_type": "markdown",
   "metadata": {},
   "source": [
    "##  실전 예제 2: 프린터 인쇄 모의실험"
   ]
  },
  {
   "cell_type": "markdown",
   "metadata": {},
   "source": [
    "여러 명이 함께 사용하는 실혐실 공용 프린터 한 대가 무작위적으로 입력되는 인쇄 작업을 수행할 때 \n",
    "벌어지는 일을 모의실험한다. \n",
    "모의실험의 목적은 사용자가 인쇄 명령을 내리고 인쇄물을 받을 때까지 평균적으로 걸리는 시간을 \n",
    "계산하는 일이다. "
   ]
  },
  {
   "cell_type": "markdown",
   "metadata": {},
   "source": [
    "<figure>\n",
    "<div align=\"center\"><img src=\"https://runestone.academy/runestone/books/published/pythonds3/_images/simulationsetup.png\" width=\"60%\"></div>\n",
    "</figure>"
   ]
  },
  {
   "cell_type": "markdown",
   "metadata": {},
   "source": [
    "**필요한 객체 확인**\n",
    "\n",
    "세 개의 객체를 사용한다.\n",
    "    \n",
    "- 프린터 객체: `Printer` 클래스의 인스턴스. 프린터의 기본 기능 제공\n",
    "    - 인쇄 속도: 분당 출력 쪽 수(ppm)\n",
    "    - 프린터 상태: busy 또는 대기\n",
    "    - 인쇄 과제 실행\n",
    "    - 인쇄 과제별 수행 시간 측정\n",
    "- 인쇄 과제 객체: `Task` 클래스의 인스턴스. 실행할 인쇄 과제 정보 저장\n",
    "    - 출력 쪽 수\n",
    "    - 인쇄 과제가 생성된 시간\n",
    "    - 인쇄까지 대기 시간: 생성부터 인쇄 시작까지의 대기 시간\n",
    "- 인쇄 큐 객체: `Queue` 클래스의 인스턴스\n",
    "    - 인쇄 과제 대기 목록"
   ]
  },
  {
   "cell_type": "markdown",
   "metadata": {},
   "source": [
    "**180분의 1의 확률**"
   ]
  },
  {
   "cell_type": "markdown",
   "metadata": {},
   "source": [
    "모의실험에 대한 추가 전제 사항이 있다.\n",
    "\n",
    "- 사람들이 무작위적으로 시간당 20건의 인쇄 명령 실행\n",
    "- 인쇄는 과제당 최대 20쪽까지 허용."
   ]
  },
  {
   "cell_type": "markdown",
   "metadata": {},
   "source": [
    "위 전제조건은 확률적으로 180초에 한 번 인쇄 명령이 실행됨을 의미한다."
   ]
  },
  {
   "cell_type": "markdown",
   "metadata": {},
   "source": [
    "$$\n",
    "\\frac{20\\, 건}{1\\, 시간}\n",
    "\\, = \n",
    "\\frac {20\\, 건} {3600\\, 초}=\n",
    "\\frac {1\\, 건} {180\\, 초}\n",
    "$$"
   ]
  },
  {
   "cell_type": "markdown",
   "metadata": {},
   "source": [
    "즉 매 초마다 180분의 1 확률로 인쇄 명령이 실행되고,\n",
    "프린터는 하나의 인쇄 과제에 대해 1에서 20쪽 사이의 임의의 쪽 수를 인쇄해야 한다.\n",
    "\n",
    "이런 임의성을 구현하기 위해 지정된 구간에서 임의로 정수 하나를 선택하는 `random.randrange()` 함수를 이용한다.\n",
    "예를 들어, 1에서 180까지의 정수 중에 무작위로 5개의 값을 생성하려면 다음과 같이 실행한다."
   ]
  },
  {
   "cell_type": "code",
   "execution_count": 6,
   "metadata": {},
   "outputs": [
    {
     "name": "stdout",
     "output_type": "stream",
     "text": [
      "11\n",
      "123\n",
      "83\n",
      "38\n",
      "137\n"
     ]
    }
   ],
   "source": [
    "import random\n",
    "\n",
    "for _ in range(5):\n",
    "    print(random.randrange(1,181))"
   ]
  },
  {
   "cell_type": "markdown",
   "metadata": {},
   "source": [
    "`randrange(1,181)`을 매 초마다 실행하여 생성된 값이 180인 경우에만 인쇄 과제를 생성하도록 하면\n",
    "초당 180분의 1로 어떤 사건이 발생하는 것을 모의실험할 수 있다.\n",
    "아래 `new_print_task()` 함수는 무작위로 생성된 값이 180인지를 확인한다."
   ]
  },
  {
   "cell_type": "code",
   "execution_count": 7,
   "metadata": {},
   "outputs": [],
   "source": [
    "def new_print_task():\n",
    "    return 180 == random.randrange(1, 181)"
   ]
  },
  {
   "cell_type": "markdown",
   "metadata": {},
   "source": [
    "**모의실험**"
   ]
  },
  {
   "cell_type": "markdown",
   "metadata": {},
   "source": [
    "모의 실험에 두 개의 클래스가 필요하다."
   ]
  },
  {
   "cell_type": "markdown",
   "metadata": {},
   "source": [
    "**`Printer` 클래스**"
   ]
  },
  {
   "cell_type": "markdown",
   "metadata": {},
   "source": [
    "앞서 언급한 대로 `Printer` 클래스와 `Task` 클래스를 구현해야 한다. \n",
    "먼저 `Printer` 클래스가 가져야 하는 속성과 메서드는 다음과 같다.\n",
    "\n",
    "- 분당 출력 쪽 수\n",
    "- 다음 인쇄 과제 지정하기\n",
    "- 현재 실행 중인 인쇄 과제 확인\n",
    "- 수행중인 인쇄 과제의 남은 실행 시간동안 busy 상태 유지. 인쇄 과정을 간적접으로 묘사함."
   ]
  },
  {
   "cell_type": "code",
   "execution_count": 8,
   "metadata": {},
   "outputs": [],
   "source": [
    "class Printer:\n",
    "    def __init__(self, ppm):\n",
    "        self.page_rate = ppm                    # 분당 출력 페이지 수\n",
    "        self.current_task = None                # 수행 대상 인쇄 과제\n",
    "        self.time_remaining = 0                 # 수행 대상 인쇄 과제 출력에 걸리는 시간\n",
    "\n",
    "    # 수행중인 인쇄 과제를 출력하는 동안 busy 상태 유지\n",
    "    # 1초에 한 번 실행된다고 가정함\n",
    "    def tick(self):\n",
    "        if self.current_task is not None:     \n",
    "            self.time_remaining = self.time_remaining - 1\n",
    "            if self.time_remaining <= 0:\n",
    "                self.current_task = None\n",
    "\n",
    "    def busy(self):                              # 프린터 상태\n",
    "        return self.current_task is not None\n",
    "\n",
    "    def start_next(self, new_task):              # 다음 인쇄 과제 불러오기\n",
    "        self.current_task = new_task\n",
    "        self.time_remaining = new_task.get_pages() * 60 / self.page_rate    # 지정된 인쇄 과제 인쇄 시간 계산. 초단위."
   ]
  },
  {
   "cell_type": "markdown",
   "metadata": {},
   "source": [
    "**`Task` 클래스**"
   ]
  },
  {
   "cell_type": "markdown",
   "metadata": {},
   "source": [
    "`Task` 클래스가 가져야 하는 속성과 메서드는 다음과 같다.\n",
    "\n",
    "- 인쇄 과제 생성 시간\n",
    "- 인쇄 대상 페이지 수: 1~20 사이의 무작위 수\n",
    "- 과제 생성 후 인쇄 시작까지 대기 시간"
   ]
  },
  {
   "cell_type": "code",
   "execution_count": 9,
   "metadata": {},
   "outputs": [],
   "source": [
    "import random\n",
    "\n",
    "class Task:\n",
    "    def __init__(self, time):\n",
    "        self.timestamp = time                   # 생성 시간\n",
    "        self.pages = random.randrange(1, 21)    # 페이지 수\n",
    "\n",
    "    def get_stamp(self):                        # 생성 시간 확인\n",
    "        return self.timestamp\n",
    "\n",
    "    def get_pages(self):                        # 페이지 수 확인\n",
    "        return self.pages\n",
    "\n",
    "    def waiting_time(self, current_time):          # 대기 시간\n",
    "        return current_time - self.timestamp"
   ]
  },
  {
   "cell_type": "markdown",
   "metadata": {},
   "source": [
    "**모의실험 구현**"
   ]
  },
  {
   "cell_type": "markdown",
   "metadata": {},
   "source": [
    "모의실험은 매 초당 아래 과제를 수행하는 것으로 이루어진다.\n",
    "\n",
    "1. 초당 180분의 1의 확률로 인쇄 과제 생성\n",
    "    - 생성된 시간 저장. \n",
    "        나중에 프린터가 실행될 때의 시간을 확인하여 대기시간을 측정할 수 있도록 함.\n",
    "    - 인쇄 과제 생성 후 바로 인쇄 과제 큐에 추가\n",
    "1. 프린터가 대기 상태이고 인쇄 과제 큐에 과제가 남아 있으면 아래 과제 수행\n",
    "    - 인쇄 과제 큐의 헤드를 삭제하고 수행할 과제로 지정\n",
    "    - 해당 과제의 대기 시간을 계산(현재 시간과 과제 생성시간의 차이)한 후에\n",
    "        모든 과제의 대기 기간 리스트에 추가\n",
    "    - 인쇄 과제의 인쇄 쪽 수를 확인한 후에 인쇄에 필요한 시간 계산.\n",
    "        해당 시간 동안 프린터 상태가 `busy`로 표시되어 다음 인쇄 과제들은 큐에서 기다리게 됨.\n",
    "    - 해당 인쇄 과제가 완수되면 대기 상태로 전환됨."
   ]
  },
  {
   "cell_type": "markdown",
   "metadata": {},
   "source": [
    "아래 `simulation()` 함수는 지정된 시간동안 인쇄 작업을 수행할 때\n",
    "인쇄 과제당 평균 대기 시간을 계산한다.\n",
    "\n",
    "- `num_seconds`: 프린터 작동 시간\n",
    "- `pages_per_minutes`: 분당 출력 페이지 수\n",
    "\n",
    "**주의사항**: 여기서는 `for` 반복문이 초당 1회 실행된다고 가정한다.\n",
    "따라서 아래 함수들이 초당 1회 실행되는 것을 잘 구현한다.\n",
    "\n",
    "- `new_print_task()`\n",
    "- `tick()`"
   ]
  },
  {
   "cell_type": "code",
   "execution_count": 10,
   "metadata": {},
   "outputs": [],
   "source": [
    "import random\n",
    "\n",
    "def simulation(num_seconds, pages_per_minute):\n",
    "    \n",
    "    lab_printer = Printer(pages_per_minute)     # 프린터 생성\n",
    "    print_queue = Queue()                       # 인쇄 과제 큐 생성\n",
    "    waiting_times = []                          # 과제들의 대기시간 리스트\n",
    "\n",
    "    # 모의실험 단계: 초당 수행 내용\n",
    "    for current_second in range(num_seconds):\n",
    "        # 새 인쇄 과제 생성 여부 판단 \n",
    "        if new_print_task():\n",
    "            task = Task(current_second)\n",
    "            print_queue.put(task)\n",
    "\n",
    "        # 프린터가 대기 상태인 경우: 다음 인쇄 과제 지정, 대기 시간 계산, 과제 수행\n",
    "        if (not lab_printer.busy()) and (not print_queue.empty()): \n",
    "            nexttask = print_queue.get()\n",
    "            waiting_times.append(nexttask.waiting_time(current_second))\n",
    "            lab_printer.start_next(nexttask)\n",
    "\n",
    "        # 수행중인 과제 남은 시간 확인 후 프린터 상태 지정: busy 및 대기\n",
    "        lab_printer.tick()\n",
    "\n",
    "    # 인쇄 과제 평균 대기 시간 반환\n",
    "    average_wait = sum(waiting_times) / len(waiting_times)\n",
    "\n",
    "    return average_wait"
   ]
  },
  {
   "cell_type": "markdown",
   "metadata": {},
   "source": [
    "아래 코드는 분당 5장을 출력하는 프린터를 1시간 동안 돌리는 모의실험을 100번 실행할 때의 결과를 보여준다."
   ]
  },
  {
   "cell_type": "code",
   "execution_count": 11,
   "metadata": {},
   "outputs": [
    {
     "name": "stdout",
     "output_type": "stream",
     "text": [
      "평균 대기시간: 119.41 초\n"
     ]
    }
   ],
   "source": [
    "import numpy as np\n",
    "\n",
    "average_wait_list = []\n",
    "\n",
    "for i in range(100):\n",
    "    average_wait_list.append(simulation(3600, 5))\n",
    "    \n",
    "print(f\"평균 대기시간: {np.mean(average_wait_list):6.2f} 초\")"
   ]
  },
  {
   "cell_type": "markdown",
   "metadata": {},
   "source": [
    "분당 출력 페이지수를 10장으로 하면 아래 결과를 얻는다."
   ]
  },
  {
   "cell_type": "code",
   "execution_count": 12,
   "metadata": {},
   "outputs": [
    {
     "name": "stdout",
     "output_type": "stream",
     "text": [
      "평균 대기시간:  21.15 초\n"
     ]
    }
   ],
   "source": [
    "import numpy as np\n",
    "\n",
    "average_wait_list = []\n",
    "\n",
    "for i in range(100):\n",
    "    average_wait_list.append(simulation(3600, 10))\n",
    "    \n",
    "print(f\"평균 대기시간: {np.mean(average_wait_list):6.2f} 초\")"
   ]
  },
  {
   "cell_type": "markdown",
   "metadata": {},
   "source": [
    "## 연습 문제"
   ]
  },
  {
   "cell_type": "markdown",
   "metadata": {},
   "source": [
    "1. [(실습) 큐](https://colab.research.google.com/github/codingalzi/algopy/blob/master/excs/exc-queues.ipynb)"
   ]
  }
 ],
 "metadata": {
  "kernelspec": {
   "display_name": "Python 3 (ipykernel)",
   "language": "python",
   "name": "python3"
  },
  "language_info": {
   "codemirror_mode": {
    "name": "ipython",
    "version": 3
   },
   "file_extension": ".py",
   "mimetype": "text/x-python",
   "name": "python",
   "nbconvert_exporter": "python",
   "pygments_lexer": "ipython3",
   "version": "3.11.4"
  },
  "vscode": {
   "interpreter": {
    "hash": "6c86b3592b6800d985c04531f2c445f0fa6967131b8dd6395a925f7622e55602"
   }
  }
 },
 "nbformat": 4,
 "nbformat_minor": 4
}
