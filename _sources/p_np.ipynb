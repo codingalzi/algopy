{
 "cells": [
  {
   "cell_type": "markdown",
   "metadata": {},
   "source": [
    "(sec:p_np)=\n",
    "# P-NP 문제"
   ]
  },
  {
   "cell_type": "markdown",
   "metadata": {},
   "source": [
    "**슬라이드**\n",
    "\n",
    "본문 내용을 요약한 [슬라이드](https://github.com/codingalzi/algopy/raw/master/slides/slides-p_np.pdf)를 다운로드할 수 있다."
   ]
  },
  {
   "cell_type": "markdown",
   "metadata": {},
   "source": [
    "**주요 내용**\n",
    "\n",
    "* 문제 난이도\n",
    "* **P** 대 **NP**\n",
    "* **NP**-완전과 **NP**-난해"
   ]
  },
  {
   "cell_type": "markdown",
   "metadata": {
    "slideshow": {
     "slide_type": "slide"
    }
   },
   "source": [
    "## 문제 난이도"
   ]
  },
  {
   "cell_type": "markdown",
   "metadata": {
    "slideshow": {
     "slide_type": ""
    }
   },
   "source": [
    "문제의 난이도는 문제를 해결하는 알고리즘이 가질 수 있는 **가장 낮은 계산 복잡도**에 따라 지정된다.\n",
    "즉 문제의 난이도는 해당 문제를 어떤 알고리즘도 그 난이도보다 효율적인 계산 복잡도를 가질 수 없음을 의미한다.\n",
    "주어진 문제의 난이도를 계산하는 일이 일반적으로 매우 어려우며 찾지 못하는 경우도 존재한다.\n",
    "\n",
    "예를 들어 행렬 곱셈 문제의 난이도는 $\\Omega(n^2)$로 알려져 있다.\n",
    "즉, 행렬 곱셈에 사용되는 알고리즘의 시간 복잡도는\n",
    "$\\Omega(n^2)$ 보다 좋을 수 없다는 사실이 증명되었다.\n",
    "하지만 지금까지 $\\Omega(n^2)$의 시간 복잡도를 갖는 행렬 곱셈 알고리즘은 알려지지 않았다.\n",
    "반면에 정렬 문제의 난이도는 $\\Omega(n \\lg n)$이며 평균 시간 복잡도가 그만큼 좋은 알고리즘이 존재한다."
   ]
  },
  {
   "cell_type": "markdown",
   "metadata": {
    "slideshow": {
     "slide_type": "slide"
    }
   },
   "source": [
    ":::{prf:example} 행렬의 곱셈\n",
    ":label: exp-matrix-product\n",
    "\n",
    "지금까지 알려진 가장 낮은 계산 복잡도의 알고리즘은 \n",
    "Josh Alman(2020)와 Virginia Vassilevska Williams(2021)이 독립적으로\n",
    "발표한 알고리즘이며,\n",
    "시간 복잡도가 $O(n^{2.3728596})$이다. \n",
    "2022년 10월에 $O(n^{2.37188})$ 의 시간 복잡도를 갖는 알고리즘이 공개되었지만\n",
    "아직 완전히 검증되지는 않았다.\n",
    "\n",
    "하지만 이와같은 알고리즘이 실전에서는 잘 사용되지 않는다.\n",
    "이유는 빅-$O$에 숨겨진 상수 계수가 매우 크기 때문에 컴퓨터로 사실상\n",
    "실행 불가능할 정도로 큰 크기의 행렬에 대해서만 의미가 있는 값이기 때문이다.\n",
    "\n",
    "실전에서는 일반적으로 $O(n^{2.807})$ 시간 복잡도를 갖는 \n",
    "[슈트라센 알고리즘](https://codingrg-hknu.github.io/FoundationsOfAlgorithms/slides/Algo-02-Divide-and-Conquer-2-slides.pdf)을 \n",
    "개선해서 사용한다.\n",
    ":::"
   ]
  },
  {
   "cell_type": "markdown",
   "metadata": {},
   "source": [
    "이미 언급했듯이\n",
    "주어진 문제의 난이도를 항상 확인할 수 있는 것은 아니다.\n",
    "따라서 문제의 난이도는 일반적으로 현재까지 알려진 최선의 알고리즘의 시간 복잡도를 이용하여 분류한다."
   ]
  },
  {
   "cell_type": "markdown",
   "metadata": {
    "slideshow": {
     "slide_type": "slide"
    }
   },
   "source": [
    "### 다항 시간 알고리즘"
   ]
  },
  {
   "cell_type": "markdown",
   "metadata": {},
   "source": [
    "난이도 분류의 기준으로 다항 시간 계산 복잡도를 사용한다.\n",
    "**다항 시간**<font size='2'>polynomial time</font> 알고리즘은 최악 시간 복잡도가 어떤 다항식 $p(n)$에 대해 \n",
    "다음이 성립하는 알고리즘이다.\n",
    "\n",
    "$$\n",
    "W(n) \\in O(p(n))\n",
    "$$\n",
    "\n",
    "최악 시간 복잡도가 아래와 같은 알고리즘은 모두 다항 시간 알고리즘이다.\n",
    "\n",
    "$$\n",
    "2n \\qquad 3 n^3 + 4n \\qquad 5n+n^{10} \\qquad n \\lg n\n",
    "$$\n",
    "\n",
    "$n\\lg n$ 은 다항 함수는 아니지만 $(n\\lg n < n^2)$가 성립하기에 \n",
    "다항 함수로 간주한다.\n",
    "반면에 최악 시간 복잡도가 아래와 같은 알고리즘은 다항 시간 알고리즘이 아니다.\n",
    "\n",
    "$$\n",
    "2^n \\qquad 2^{0.01 n} \\qquad 2^{\\sqrt{n}} \\qquad n!\n",
    "$$"
   ]
  },
  {
   "cell_type": "markdown",
   "metadata": {},
   "source": [
    "다항 시간 복잡도를 난이도 분류의 기준으로 사용하는 이유는 다항 시간이 아닌 알고리즘은\n",
    "{numref}`%s절 <sec:running_time>`의 표에서 확인할 수 있듯이\n",
    "입력값이 조금만 커져도 사실상 실행 결과를 확인할 수 없기 때문이다.\n",
    "하지만 다항 시간 알고리즘이 아니더라도 경우에 따라 효율적으로 실행되는 사례가 많다.\n",
    "반대로 경우에 따라 다항 시간 알고리즘을 갖는 문제가 그렇지 않은 문제보다 실제 상황에서 더 어려운 경우도 있다."
   ]
  },
  {
   "cell_type": "markdown",
   "metadata": {
    "slideshow": {
     "slide_type": "slide"
    }
   },
   "source": [
    "### 난이도 분류"
   ]
  },
  {
   "cell_type": "markdown",
   "metadata": {
    "slideshow": {
     "slide_type": "slide"
    }
   },
   "source": [
    "문제의 난이도를 일반적으로 다음 세 종류로 분류한다."
   ]
  },
  {
   "cell_type": "markdown",
   "metadata": {
    "slideshow": {
     "slide_type": "slide"
    }
   },
   "source": [
    "첫째, 다항 시간 알고리즘이 존재하는 문제\n",
    "\n",
    "* 정렬된 배열을 대상으로 검색:  $\\Theta(\\lg n)$\n",
    "* 행렬 곱셈: $\\Theta(n^{2.3728639})$"
   ]
  },
  {
   "cell_type": "markdown",
   "metadata": {},
   "source": [
    "둘째, 다루기 힘들다고 증명된 문제\n",
    "\n",
    "* 그래프의 모든 경로를 다 출력해야 하는 문제처럼 지수승 만큼의 출력을 요구하는 문제\n",
    "* {numref}`%s장 <sec:recursive_functions>`에서 소개한 콜라츠 추측<font size='2'>Collatz conjecture</font>처럼 입력 크기에 따른 실행 시간이 전혀 알려지지 않은 문제\n",
    "* 정지문제<font size='2'>Halting problem</font> 처럼 지수승 이상의 출력을 요구하진 않지만 \n",
    "    다항 시간 내에 풀 수 없음이 증명된 문제"
   ]
  },
  {
   "cell_type": "markdown",
   "metadata": {},
   "source": [
    "셋째, 다항 시간 알고리즘이 알려지지 않았지만 다항 시간 알고리즘이 존재하지 않는다는 증명도 없는 문제\n",
    "\n",
    "- 0-1 배낭채우기 문제\n",
    "- 외판원 문제\n",
    "- m-색칠하기 문제 (m > 2)"
   ]
  },
  {
   "cell_type": "markdown",
   "metadata": {
    "slideshow": {
     "slide_type": "slide"
    }
   },
   "source": [
    ":::{prf:example} 외판원 문제\n",
    ":label: exp-salesman\n",
    "\n",
    "가중치 방향 그래프가 주어졌을 때 하나의 노드(도시)에서 출발하여 \n",
    "다른 모든 노드(도시)를 한 번씩만 들린 후 출발 노드(도시)로 돌아오는 일주 경로 중에서\n",
    "최단 경로를 찾는 문제이다.\n",
    "\n",
    "예를 들어 아래 가중 방향 그래프에서 노드 `v0` 에서 출발하는 일주 경로는 세 개 존재한다.\n",
    "\n",
    "- 일주 경로 1: `v0 -> v1 -> v2 -> v3 -> v0`\n",
    "- 일주 경로 2: `v0 -> v2 -> v1 -> v3 -> v0`\n",
    "- 일주 경로 3: `v0 -> v2 -> v3 -> v1 -> v0`\n",
    "\n",
    "이중 마지막 경로가 최단 일주 경로이다.\n",
    "\n",
    "<div align=\"center\"><img src=\"https://raw.githubusercontent.com/codingalzi/algopy/master/jupyter-book/imgs/salesman-01.png\" width=\"170\"/></div>\n",
    "\n",
    "외판원 문제를 해결하는 다항 시간 알고리즘은 알려지지 않았다.\n",
    "동적계획법을 이용한 알고리즘의 시간 복잡도는  $O(n^2\\, 2^n)$ 이다.\n",
    "여기에 더하여 $O(n\\, 2^n)$의 공간 복잡도도 갖는다.\n",
    ":::"
   ]
  },
  {
   "cell_type": "markdown",
   "metadata": {
    "slideshow": {
     "slide_type": "slide"
    }
   },
   "source": [
    "## P 대 NP"
   ]
  },
  {
   "cell_type": "markdown",
   "metadata": {},
   "source": [
    "### 결정론적 vs. 비결정론적 튜링 기계"
   ]
  },
  {
   "cell_type": "markdown",
   "metadata": {},
   "source": [
    "**비결정론적** 튜링 기계<font size='2'>non-deterministic Turing machine</font>는\n",
    "특정 상황에서 그 다음 명령문을 하나가 아닌 여러 개를 동시에 실행하며\n",
    "이런 과정을 하나의 해결책을 찾을 때까지 반복한다.\n",
    "반면에 일반적으로 알려진, 그리고 일상적으로 사용되는 컴퓨터 프로그램의\n",
    "핵심을 구현한 (**결정론적**) 튜링 기계는 모든 경우에서 이어지는 다음 명령문은 \n",
    "메모리의 상태에 따라 유일하게 결정된다."
   ]
  },
  {
   "cell_type": "markdown",
   "metadata": {
    "slideshow": {
     "slide_type": ""
    }
   },
   "source": [
    "<div align=\"center\"><img src=\"https://upload.wikimedia.org/wikipedia/commons/thumb/1/16/Difference_between_deterministic_and_Nondeterministic.svg/1920px-Difference_between_deterministic_and_Nondeterministic.svg.png\" width=\"500\"/></div>\n",
    "\n",
    "<p><div style=\"text-align: center\">&lt;그림 출처: <a href=\"https://en.wikipedia.org/wiki/Nondeterministic_Turing_machine\">(위키피디아) Nondeterministic Turing machine</a>&gt;</div></p>"
   ]
  },
  {
   "cell_type": "markdown",
   "metadata": {},
   "source": [
    "비결정론적 알고리즘은 비결정론적 튜링 기계로 구현될 수 있는 알고리즘을 가리키며,\n",
    "비결정론적 다항 시간 알고리즘은 다항 시간 계산 복잡도를 갖는 비결정론적 알고리즘이다.\n",
    "반면에 일반 (결정론적) 튜링 기계로 구현될 수 있는 알고리즘은 결정론적<font size='2'>deterministic</font> 알고리즘이라 부른다."
   ]
  },
  {
   "cell_type": "markdown",
   "metadata": {
    "slideshow": {
     "slide_type": "slide"
    }
   },
   "source": [
    "### 집합 P 와 집합 NP"
   ]
  },
  {
   "cell_type": "markdown",
   "metadata": {},
   "source": [
    "비결정론적 튜링 기계는 이론적으로만 존재하며\n",
    "우리가 사용하는 튜링 기계의 특성과 한계를 특징짓는 데에 유용하게 활용된다.\n",
    "예를 들어 효율적인 알고리즘의 기준으로 사용되는 다항 시간 알고리즘의 한계를 밝히는 문제에서\n",
    "매우 중요한 역할을 수행한다."
   ]
  },
  {
   "cell_type": "markdown",
   "metadata": {},
   "source": [
    "다항 시간 알고리즘으로 해결 가능한 모든 문제의 집합을 **P**로 표기한다.\n",
    "예를 들어 탐색 알고리즘은 대부분 **P**에 포함된다.\n",
    "반면에 수도쿠 문제와 외판원 문제가 집합 **P**에 속하는지 여부는 아직 모른다.\n",
    "또한 두 문제에 대해 \"다항 시간 알고리즘이 존재하지 않는다\" 라는 주장 또한 아직 증명되지 않았다."
   ]
  },
  {
   "cell_type": "markdown",
   "metadata": {},
   "source": [
    "반면에 **NP**는 비결정론적 다항 시간 알고리즘을 갖는 문제들의 집합을 가리킨다. \n",
    "**NP**에 속하는 문제는 해당 비결정론적 알고리즘이 제시한 답이\n",
    "정확한지 여부를 검증하는 데에는 다항 시간이 요구되는 문제이기도 하다.\n",
    "대표적으로 수도쿠 문제가 **NP**에 속한다.\n",
    "이유는 수도쿠 문제에 대한 답이 제시되었을 때 해당 답이 제대로 된 해답인지 여부를 판단하는 일은 곱셈과 덧셈 정도의 수준에서 다항 시간 내에 판단할 수 있기 때문이다."
   ]
  },
  {
   "cell_type": "markdown",
   "metadata": {
    "slideshow": {
     "slide_type": ""
    }
   },
   "source": [
    "<div align=\"center\"><img src=\"https://raw.githubusercontent.com/codingalzi/algopy/master/jupyter-book/imgs/algo09/p-np-2.png\" width=\"600\"/></div>\n",
    "\n",
    "<p><div style=\"text-align: center\">&lt;그림 출처: <a href=\"https://www.youtube.com/watch?v=YX40hbAHx3s&t=2s&ab_channel=UndefinedBehavior\">(유튜브)P vs. NP and the Computational Complexity Zoo</a>&gt;</div></p>"
   ]
  },
  {
   "cell_type": "markdown",
   "metadata": {},
   "source": [
    "외판원 문제와 소인수분해 문제 또한 **NP**에 속한다. \n",
    "이유는 경로가 주어지면 주어진 시간 안에 해당 경로를 통해 모든 장소를 방문하고 되돌아올 수 있는지를 판단하거나, \n",
    "어떤 수의 소인수분해 결과가 해당 수를 제대로 소인수분해 했는지 여부를 판단하는 문제는\n",
    "다항 시간 내에 판단할 수 있기 때문이다."
   ]
  },
  {
   "cell_type": "markdown",
   "metadata": {
    "slideshow": {
     "slide_type": "slide"
    }
   },
   "source": [
    "### P-NP 문제"
   ]
  },
  {
   "cell_type": "markdown",
   "metadata": {},
   "source": [
    "**P** 에 속하는 문제는 모두 **NP**에 속한다.\n",
    "이유는 결정론적 튜링 기계로 다항 시간에 실행되는 알고리즘이 제시한 답은 \n",
    "동일한 알고리즘을 이용하여 다항 시간 내에 정답 여부를 확인할 수 있기 때문이다.\n",
    "보다 전문적으로 말하면 결정론적 튜링 기계로 구현된 알고리즘은 모두 비결정론적 튜링 기계로도\n",
    "구현될 수 있다.\n",
    "**P** 와 **NP**가 동일한지 여부에 대해서는 아직 답을 모르며,\n",
    "100만 달러의 상금이 걸린 \n",
    "[**밀레니엄 문제**](https://ko.wikipedia.org/wiki/%EB%B0%80%EB%A0%88%EB%8B%88%EC%97%84_%EB%AC%B8%EC%A0%9C)<font size='2'>Millennium Problems</font>\n",
    "중에 하나다."
   ]
  },
  {
   "cell_type": "markdown",
   "metadata": {},
   "source": [
    "## NP-완전과 NP-난해"
   ]
  },
  {
   "cell_type": "markdown",
   "metadata": {
    "slideshow": {
     "slide_type": "slide"
    }
   },
   "source": [
    "문제 A를 문제 B로 변환하는 다항시간 변환 알고리즘이 존재할 때\n",
    "문제 A는 문제 B로 \n",
    "**다항시간 다대일 축소 변환가능**<font size='2'>polynomial time many-one reducible</font>,\n",
    "또는 간단하게 **축소 변환 가능**이라고 한다.\n",
    "이는 예를 들어 문제 B를 다항 시간 내에 해결할 수 있다면 문제 A도 다항 시간 내에 해결할 수 있음의 의미한다."
   ]
  },
  {
   "cell_type": "markdown",
   "metadata": {},
   "source": [
    "다음 두 조건을 만족하는 문제 B를 **NP-완전**<font size='2'>NP-complete</font>이라 한다.\n",
    "\n",
    "- **NP**에 속한다.\n",
    "- **NP**에 속하는 임의의 다른 문제 A를 다항시간 내에 B의 문제로 축소 변환하기가 가능하다.\n",
    "\n",
    "외판원 문제, 0-1 배낭채우기 등등 지금까지 알려진 다루기 어려운 문제 대다수가\n",
    "**NP**-완전 문제들이다.\n",
    "반면에 **NP-난해**<font size='2'>NP-hard</font> 문제는 **NP**-완전 문제만큼 다루기 어려운 문제를 가리킨다."
   ]
  },
  {
   "cell_type": "markdown",
   "metadata": {
    "slideshow": {
     "slide_type": "slide"
    }
   },
   "source": [
    "하나의 **NP**-완전 문제가 **P**에 속한다는 것이 입증되면\n",
    "**P** = **NP**가 성립한다.\n",
    "하지만 앞서 말한대로 **P-NP 문제**는 미해결 상태다.\n",
    "지금까지 알려진 **P**, **NP**, **NP**-완전, **NP**-난해의 관계를\n",
    "정리하면 다음 그림과 같다."
   ]
  },
  {
   "cell_type": "markdown",
   "metadata": {
    "slideshow": {
     "slide_type": ""
    }
   },
   "source": [
    "<div align=\"center\"><img src=\"https://raw.githubusercontent.com/codingalzi/algopy/master/jupyter-book/imgs/algo09/algo09-03.png\" width=\"600\"/></div>\n",
    "\n",
    "<p><div style=\"text-align: center\">&lt;그림 출처: <a href=\"https://en.wikipedia.org/wiki/P_versus_NP_problem\">(위키피디아) P versus NP problem</a>&gt;</div></p>"
   ]
  }
 ],
 "metadata": {
  "kernelspec": {
   "display_name": "Python 3 (ipykernel)",
   "language": "python",
   "name": "python3"
  },
  "language_info": {
   "codemirror_mode": {
    "name": "ipython",
    "version": 3
   },
   "file_extension": ".py",
   "mimetype": "text/x-python",
   "name": "python",
   "nbconvert_exporter": "python",
   "pygments_lexer": "ipython3",
   "version": "3.11.5"
  },
  "vscode": {
   "interpreter": {
    "hash": "6c86b3592b6800d985c04531f2c445f0fa6967131b8dd6395a925f7622e55602"
   }
  }
 },
 "nbformat": 4,
 "nbformat_minor": 4
}
