{
 "cells": [
  {
   "cell_type": "markdown",
   "metadata": {},
   "source": [
    "(sec:sort_search_2)=\n",
    "# 버블/선택/합병/퀵 정렬"
   ]
  },
  {
   "cell_type": "markdown",
   "metadata": {},
   "source": [
    "**슬라이드**\n",
    "\n",
    "본문 내용을 요약한 [슬라이드](https://github.com/codingalzi/algopy/raw/master/slides/slides-sort_search_2.pdf)를 다운로드할 수 있다."
   ]
  },
  {
   "cell_type": "markdown",
   "metadata": {},
   "source": [
    "**주요 내용**\n",
    "\n",
    "- 버블 정렬\n",
    "- 선택 정렬\n",
    "- 합병 정렬\n",
    "- 퀵 정렬"
   ]
  },
  {
   "cell_type": "markdown",
   "metadata": {},
   "source": [
    "**정렬**<font size='2'>sorting</font>은 모음 객체에 포함된 항목들을 특정 크기 기준에 따라 \n",
    "오름차순 또는 내림차순으로 순서대로 위치시키는 과정이다.\n",
    "예를 들어, 문자열들로 이루어진 리스트의 항목을 알파벳 순서대로 정렬하거나,\n",
    "도시들의 리스트를 인구, 면적, 또는 우편번호 등으로 정렬할 수 있다. \n",
    "\n",
    "정렬의 중요성은 \n",
    "어구전철<font size='2'>anagram</font> 관계 확인, 이진탐색 등에서 \n",
    "정렬된 리스트가 얼마나 유용하게 활용되는지를 통해 확인했었다.\n",
    "\n",
    "다양한 종류의 정렬 알고리즘이 알려져 있으며\n",
    "각자 고유의 장점을 갖는다.\n",
    "이는 모든 경우에 항상 효율적으로 작동하는 정렬 알고리즘이\n",
    "알려지지 않았음을 의미한다. \n",
    "여기서는 다양한 알고리즘을 소개하고 장단점을 비교한다. \n",
    "\n",
    "정렬 알고리즘의 시간복잡도 분석에 사용되는 기본 단위연산은 다음 두 가지가\n",
    "일반적으로 사용된다.\n",
    "\n",
    "- 두 값의 크기 비교: 두 항목의 크기를 서로 비교할 수 있어야 함.\n",
    "- 두 항목의 자리 교환: 예를 들어, 보다 작은 값을 보다 큰 값보다 왼편에 위치하도록 해야 함."
   ]
  },
  {
   "cell_type": "markdown",
   "metadata": {},
   "source": [
    "## 버블 정렬"
   ]
  },
  {
   "cell_type": "markdown",
   "metadata": {},
   "source": [
    "**버블 정렬**<font size='2'>bubble sort</font> 알고리즘은 **패스**<font size='2'>pass</font>로 구성된다.\n",
    "하나의 패스 과정 동안 연속된 위치의 두 수를 비교하여 \n",
    "작은 항목은 왼쪽으로, 큰 항목은 오른쪽으로 자리를 바꾸는 일을\n",
    "리스트의 맨 왼쪽에서 시작하여 오를쪽 끝까지 진행한다.\n",
    "하나의 패스가 완료되면 패스 과정에서 확인된 가장 큰 항목이 리스트의 맨 오른쪽에 위치하게 된다.\n",
    "\n",
    "그런 다음엔 맨 오른쪽에 위치한 가장 큰 항목을 제외한 왼쪽 구간을 대상으로\n",
    "두번째 패스를 진행하고, 최종적으로 두번째로 큰 항목을 리스트의 맨 오른쪽 끝에서 둘째 자리에 위치시킨다.\n",
    "이런 패스 과정을 반복하면 결국에 가장 작은 항목이 리스트의 맨 왼편에,\n",
    "가장 큰 항목은 리스트의 맨 오른편에 위치하고\n",
    "모든 항목이 크기 순서대로 정렬된 리스트가 생성된다."
   ]
  },
  {
   "cell_type": "markdown",
   "metadata": {},
   "source": [
    "아래 그림은 첫번째 패스 과정을 묘사하며\n",
    "최종적으로 가장 큰 항목이 맨 오른쪽으로 이동한다."
   ]
  },
  {
   "cell_type": "markdown",
   "metadata": {},
   "source": [
    "<figure>\n",
    "<div align=\"center\"><img src=\"https://runestone.academy/runestone/books/published/pythonds3/_images/bubblepass.png\" width=\"60%\"></div>\n",
    "</figure>"
   ]
  },
  {
   "cell_type": "markdown",
   "metadata": {},
   "source": [
    "아래 이미지는 버블 정렬의 전체 패스가 작동하는 과정을 보여준다.\n",
    "거품이 뽀글뽀글 위로 올라가(bubble up)는 거에 비유해서 버블 정렬이라 부른다."
   ]
  },
  {
   "cell_type": "markdown",
   "metadata": {},
   "source": [
    "<figure>\n",
    "<div align=\"center\"><img src=\"https://github.com/codingalzi/algopy/blob/master/jupyter-book/imgs/bubble11.gif?raw=true\" width=\"50%\"></div>\n",
    "</figure>"
   ]
  },
  {
   "cell_type": "markdown",
   "metadata": {},
   "source": [
    "다음 `bubble_sort()` 함수가 리스트를 버블 정렬한다.\n",
    "이주 `for` 반복문을 사용하며 각 반복문에서 사용되는 변수들의 역할은 다음과 같다.\n",
    "\n",
    "- `a_pass`: 하나의 패스를 가리킴. 동시에 자리교환 대상의 끝자리 인덱스도 지정.\n",
    "- `j`: 패스 별 크기비교 및 자리교환 수행"
   ]
  },
  {
   "cell_type": "code",
   "execution_count": 1,
   "metadata": {},
   "outputs": [],
   "source": [
    "def bubble_sort(a_list):\n",
    "    for a_pass in range(len(a_list) - 1, 0, -1):  # 패스. 자리교환 인덱스 끝자리 지정\n",
    "        for j in range(a_pass):                   # 크기비교 및 자리교환\n",
    "            if a_list[j] > a_list[j + 1]:\n",
    "                a_list[j], a_list[j+1] = a_list[j + 1], a_list[j]"
   ]
  },
  {
   "cell_type": "code",
   "execution_count": 2,
   "metadata": {},
   "outputs": [
    {
     "name": "stdout",
     "output_type": "stream",
     "text": [
      "[4, 11, 17, 20, 26, 31, 44, 54, 55, 77, 93, 100]\n"
     ]
    }
   ],
   "source": [
    "a_list = [11, 54, 26, 93, 17, 77, 4, 31, 44, 55, 20, 100]\n",
    "\n",
    "bubble_sort(a_list)\n",
    "print(a_list)"
   ]
  },
  {
   "cell_type": "markdown",
   "metadata": {},
   "source": [
    "**버블 정렬 시간복잡도 분석**"
   ]
  },
  {
   "cell_type": "markdown",
   "metadata": {},
   "source": [
    "항목들의 비교 횟수는 1부터 (n-1)까지의 합임을 쉽게 알 수 있다.\n",
    "\n",
    "| **패 &nbsp;&nbsp;&nbsp;&nbsp; 스** | **비교 횟수** |\n",
    "| :---: | :---: |\n",
    "| $1$ | $n-1$ |\n",
    "| $2$ | $n-2$ |\n",
    "| $3$ | $n-3$ |\n",
    "| $\\vdots$ | $\\vdots$ |\n",
    "| $n-1$ | $1$ |\n",
    "\n",
    "따라서 총 비교 횟수는 다음과 같이 $O(n^2)$의 시간복잡도를 갖는다.\n",
    "\n",
    "$$\n",
    "1 + 2 + \\cdots + (n-1) = \\frac{n (n-1)}{2} = \\frac{1}{2} n^2 - \\frac{1}{2} n \\in O(n^2)\n",
    "$$\n",
    "\n",
    "반면에 자리교환은 최소 0, 최대 비교횟수와 동일하게 발생하며, 평균적으로 비교횟수의 절반정도 발생한다. \n",
    "따라서 최선, 최악, 평균 시간복잡도 모두 $O(n^2)$의 시간복잡도를 갖는다."
   ]
  },
  {
   "cell_type": "markdown",
   "metadata": {},
   "source": [
    "**버블 정렬 조기종료**"
   ]
  },
  {
   "cell_type": "markdown",
   "metadata": {},
   "source": [
    "버블 정렬이 실행되는 동안 특정 패스에서 자리교환이 한 번도 발생하지 않는다면 \n",
    "해당 리스트는 이미 크기순으로 정렬이 되어 있음을 의미한다.\n",
    "따라서 그때 바로 실행을 종료해도 된다.\n",
    "다음 `bubble_sort_early_stop()` 함수는 조기종료를 지원하는 버블 정렬 알고리즘을 구현한다.\n",
    "참고로 정렬 알고리즘 중에서 이러한 조기종료 기능을 갖는 알고리즘은 버블 정렬이 유일하다."
   ]
  },
  {
   "cell_type": "code",
   "execution_count": 3,
   "metadata": {},
   "outputs": [],
   "source": [
    "def bubble_sort_early_stop(a_list):\n",
    "    for a_pass in range(len(a_list) - 1, 0, -1):  # 패스. 자리교환 인덱스 끝자리 지정\n",
    "        exchanges = False                         # 패스 기간 내 자리교환 발생 여부 저장\n",
    "        for j in range(a_pass):                   # 크기비교 및 자리교환\n",
    "            if a_list[j] > a_list[j + 1]:\n",
    "                a_list[j], a_list[j+1] = a_list[j + 1], a_list[j]\n",
    "                exchanges = True\n",
    "        if not exchanges:                         # 자리교환이 발생하지 않은 경우 조기종료\n",
    "            print(\"조기종료!\")\n",
    "            break                "
   ]
  },
  {
   "cell_type": "code",
   "execution_count": 4,
   "metadata": {},
   "outputs": [
    {
     "name": "stdout",
     "output_type": "stream",
     "text": [
      "조기종료!\n",
      "[20, 30, 40, 50, 60, 70, 80, 90, 100, 110]\n"
     ]
    }
   ],
   "source": [
    "a_list = [20, 30, 40, 90, 50, 60, 70, 80, 100, 110]\n",
    "bubble_sort_early_stop(a_list)\n",
    "print(a_list)"
   ]
  },
  {
   "cell_type": "markdown",
   "metadata": {},
   "source": [
    "__퀴즈__"
   ]
  },
  {
   "cell_type": "markdown",
   "metadata": {},
   "source": [
    "리스트 `[19, 1, 9, 7, 3, 10, 13, 15, 8, 12]`에 대해 버블 정렬을 진행할 때\n",
    "세 번의 패스가 완성된 후의 리스트는 어떤 모습인가?\n",
    "\n",
    "정답: `[1, 3, 7, 9, 10, 8, 12, 13, 15, 19]`"
   ]
  },
  {
   "cell_type": "markdown",
   "metadata": {},
   "source": [
    "## 선택 정렬"
   ]
  },
  {
   "cell_type": "markdown",
   "metadata": {},
   "source": [
    "**선택 정렬**<font size='2'>selection sort</font>은 버블 정렬의 단점인 \n",
    "많은 자리교환 횟수를 패스당 최대 한 번만 수행하도록 개선한 기법이다. \n",
    "따라서 작동과정은 기본적으로 버블 정렬과 동일하며, \n",
    "다만 자리교환을 바로 실행하는 게 아니라 패스 별로 최댓값을 확인한 다음에\n",
    "최종적으로 필요에 따라 딱 한 번 자리교환을 실행한다. \n",
    "\n",
    "아래 그림은 길이가 9인 리스트에 대해 8번의 패스를 실행하는 동안 각 팩스에서 최대 한 번의 자리교환이\n",
    "발생함을 보여준다. 심지어 다섯번째 패스에서는 자리교환이 전혀 없다.\n",
    "이유는 44가 해당 패스에서의 최댓값인데 있어야할 위치에 있기 때문이다."
   ]
  },
  {
   "cell_type": "markdown",
   "metadata": {},
   "source": [
    "<figure>\n",
    "<div align=\"center\"><img src=\"https://runestone.academy/runestone/books/published/pythonds3/_images/selectionsortnew.png\" width=\"60%\"></div>\n",
    "</figure>"
   ]
  },
  {
   "cell_type": "markdown",
   "metadata": {},
   "source": [
    "다음 `selection_sort()` 함수가 리스트를 선택 정렬한다.\n",
    "이주 `for` 반복문을 사용하며 각 반복문에서 사용되는 변수들의 역할은 다음과 같다.\n",
    "\n",
    "- `a_pass`: 하나의 패스를 가리킴. 동시에 자리교환 대상의 끝자리 인덱스도 지정.\n",
    "- `max_idx`: 패스 별로 탐색된 최댓값의 위치 인덱스\n",
    "- `j`: 패스 별 크기비교 수행"
   ]
  },
  {
   "cell_type": "code",
   "execution_count": 5,
   "metadata": {},
   "outputs": [],
   "source": [
    "def selection_sort(a_list):\n",
    "    \n",
    "    for a_pass in range(len(a_list)-1, 0, -1):\n",
    "        max_idx = 0\n",
    "        for j in range(a_pass):\n",
    "            if a_list[j] > a_list[max_idx]:\n",
    "                max_idx = j\n",
    "        # a_pass 인덱스 이전까지 찾은 최댓값과 a_pass 위치의 값 자리교환 여부 판단\n",
    "        if a_list[max_idx] > a_list[a_pass]:\n",
    "            a_list[max_idx], a_list[a_pass] = a_list[a_pass], a_list[max_idx]"
   ]
  },
  {
   "cell_type": "code",
   "execution_count": 6,
   "metadata": {},
   "outputs": [
    {
     "name": "stdout",
     "output_type": "stream",
     "text": [
      "[17, 20, 26, 31, 44, 54, 55, 77, 93]\n"
     ]
    }
   ],
   "source": [
    "a_list = [26, 54, 93, 17, 77, 31, 44, 55, 20]\n",
    "selection_sort(a_list)\n",
    "print(a_list)"
   ]
  },
  {
   "cell_type": "markdown",
   "metadata": {},
   "source": [
    "**선택 정렬 시간복잡도 분석**"
   ]
  },
  {
   "cell_type": "markdown",
   "metadata": {},
   "source": [
    "크기비교는 버블 정렬의 경우와 동일하게 발생하여\n",
    "시간복잡도는 $O(n^2)$이다.\n",
    "다만 자리교환 횟수가 최대 $(n-1)$ 번 발생해서\n",
    "버블 정렬보다 좀 더 빠르다."
   ]
  },
  {
   "cell_type": "markdown",
   "metadata": {},
   "source": [
    "__퀴즈__"
   ]
  },
  {
   "cell_type": "markdown",
   "metadata": {},
   "source": [
    "리스트 `[11, 7, 12, 14, 19, 1, 6, 18, 8, 20]`에 대해 \n",
    "선택 정렬을 진행할 때\n",
    "세 번의 패스가 완성된 후의 리스트는 어떤 모습인가?\n",
    "\n",
    "정답: `[11, 7, 12, 14, 8, 1, 6, 18, 19, 20]`"
   ]
  },
  {
   "cell_type": "markdown",
   "metadata": {},
   "source": [
    "## 합병 정렬"
   ]
  },
  {
   "cell_type": "markdown",
   "metadata": {},
   "source": [
    "분할 정복 기법을 이용하는 정렬 알고리즘인 합병 정렬과 퀵 정렬을 소개한다."
   ]
  },
  {
   "cell_type": "markdown",
   "metadata": {},
   "source": [
    "\n",
    "**합병 정렬**<font size='2'>merge sort</font>에 사용되는\n",
    "분할과 정복은 다음과 같다.\n",
    "\n",
    "- 분할: 리스트의 길이가 1이 될 때까지 반복적으로 이등분한다.\n",
    "- 정복: 길이가 작은 두 개의 리스트를 합병해서 보다 큰 길이의 리스트를 생성한다.\n",
    "    합병 과정에서 항목들을 크기 순으로 정렬한다."
   ]
  },
  {
   "cell_type": "markdown",
   "metadata": {},
   "source": [
    "**분할 과정**"
   ]
  },
  {
   "cell_type": "markdown",
   "metadata": {},
   "source": [
    "분할 과정은 쉽다. 재귀적으로 리스트의 길이가 1이 될 때까지 이등분을 반복한다.\n",
    "코드 끝에서 사용된 `merge()` 함수는 합병을 담당하는 함수이며 바로 이어서 설명하고 정의한다."
   ]
  },
  {
   "cell_type": "code",
   "execution_count": 7,
   "metadata": {},
   "outputs": [],
   "source": [
    "def merge_sort(a_list):\n",
    "    # 분할 과정: 이등분 반복\n",
    "    if len(a_list)>1:\n",
    "        print(\"분할:\", a_list)\n",
    "\n",
    "        mid = len(a_list) // 2\n",
    "        left_half = a_list[:mid]\n",
    "        right_half = a_list[mid:]\n",
    "        \n",
    "        # 재귀 호출\n",
    "        merge_sort(left_half)\n",
    "        merge_sort(right_half)\n",
    "\n",
    "        # 합병 과정: 작은 리스트 두 개 합병하면서 정렬\n",
    "        merge(a_list, left_half, right_half)\n",
    "        print(\"합병:\", a_list)"
   ]
  },
  {
   "cell_type": "markdown",
   "metadata": {},
   "source": [
    "<figure>\n",
    "<div align=\"center\"><img src=\"https://runestone.academy/runestone/books/published/pythonds3/_images/mergesortA.png\" width=\"70%\"></div>\n",
    "</figure>"
   ]
  },
  {
   "cell_type": "markdown",
   "metadata": {},
   "source": [
    "**합병 과정**"
   ]
  },
  {
   "cell_type": "markdown",
   "metadata": {},
   "source": [
    "합병 과정은 보다 어렵다. 이미 정렬된 두 개의 리스트를 합쳐서 정렬된 새 리스트를 만들어야 한다.\n",
    "이를 위해 사용되는 알고리즘은 다음과 같다.\n",
    "\n",
    "1. 두 리스트의 항목을 하나씩 비교해서 작은 수를 먼저 새로운 리스트에 추가한다.\n",
    "2. 한 쪽 리스트의 항목을 모두 새로운 리스트에 추가했다면 다른 리스트의 나머지 항목들은 그대로 새로운 리스트에 추가한다."
   ]
  },
  {
   "cell_type": "code",
   "execution_count": 8,
   "metadata": {},
   "outputs": [],
   "source": [
    "def merge(a_list, left_half, right_half):\n",
    "    i, j, k = 0, 0, 0\n",
    "    while i < len(left_half) and j < len(right_half):\n",
    "        if left_half[i] <= right_half[j]:\n",
    "            a_list[k] = left_half[i]\n",
    "            i = i + 1\n",
    "        else:\n",
    "            a_list[k] = right_half[j]\n",
    "            j = j + 1\n",
    "        k = k + 1\n",
    "\n",
    "    while i < len(left_half):\n",
    "        a_list[k] = left_half[i]\n",
    "        i = i + 1\n",
    "        k = k + 1\n",
    "\n",
    "    while j < len(right_half):\n",
    "        a_list[k] = right_half[j]\n",
    "        j = j + 1\n",
    "        k = k + 1"
   ]
  },
  {
   "cell_type": "markdown",
   "metadata": {},
   "source": [
    "<figure>\n",
    "<div align=\"center\"><img src=\"https://runestone.academy/runestone/books/published/pythonds3/_images/mergesortB.png\" width=\"60%\"></div>\n",
    "</figure>"
   ]
  },
  {
   "cell_type": "markdown",
   "metadata": {},
   "source": [
    "**분할과 합병이 재귀적으로 발생하는 순서**"
   ]
  },
  {
   "cell_type": "markdown",
   "metadata": {},
   "source": [
    "`merge_sort()` 함수는\n",
    "`print()` 함수를 이용하여 분할이 발생하는 순간과 합병이 진행될 때의 결과물을 \n",
    "화면에 출력한다.\n",
    "이 기능을 통해 분할과 정복이 재귀적으로 어떤 순서대로 진행되는지를 시각적으로 파악할 수 있다."
   ]
  },
  {
   "cell_type": "code",
   "execution_count": 9,
   "metadata": {},
   "outputs": [
    {
     "name": "stdout",
     "output_type": "stream",
     "text": [
      "분할: [54, 26, 93, 17, 77, 31, 44, 55, 20]\n",
      "분할: [54, 26, 93, 17]\n",
      "분할: [54, 26]\n",
      "합병: [26, 54]\n",
      "분할: [93, 17]\n",
      "합병: [17, 93]\n",
      "합병: [17, 26, 54, 93]\n",
      "분할: [77, 31, 44, 55, 20]\n",
      "분할: [77, 31]\n",
      "합병: [31, 77]\n",
      "분할: [44, 55, 20]\n",
      "분할: [55, 20]\n",
      "합병: [20, 55]\n",
      "합병: [20, 44, 55]\n",
      "합병: [20, 31, 44, 55, 77]\n",
      "합병: [17, 20, 26, 31, 44, 54, 55, 77, 93]\n"
     ]
    }
   ],
   "source": [
    "a_list = [54, 26, 93, 17, 77, 31, 44, 55, 20]\n",
    "merge_sort(a_list)"
   ]
  },
  {
   "cell_type": "markdown",
   "metadata": {},
   "source": [
    "아래 그래프는 분할과 합병이 이뤄지는 순서를 보여준다."
   ]
  },
  {
   "cell_type": "markdown",
   "metadata": {},
   "source": [
    "<figure>\n",
    "<div align=\"center\"><img src=\"https://github.com/codingalzi/algopy/blob/master/jupyter-book/imgs/merge-sort02.png?raw=true\" width=\"70%\"></div>\n",
    "</figure>"
   ]
  },
  {
   "cell_type": "markdown",
   "metadata": {},
   "source": [
    "**합병 정렬 시간복잡도 분석**"
   ]
  },
  {
   "cell_type": "markdown",
   "metadata": {},
   "source": [
    "분할과 합병에 필요한 시간을 분리해서 계산한다.\n",
    "입력 리스트의 길이 $n$을 입력 크기로 사용한다.\n",
    "\n",
    "- 분할 과정\n",
    "    - 비교연산이나 위치 이동이 전혀 없음.\n",
    "- 합병 과정\n",
    "    - 합병과정을 그래프로 간주하면 높이가 `int(log(n)) + 1` 인 가지가 두 개로 갈라지는 이진 트리임.\n",
    "    - 하나의 레벨(나무의 동일한 높이)에서 합병이 여러 번 발생하는 데 각각의 합병 과정에서 발생하는\n",
    "        항목 비교와 위치 이동을 다 합치면 최대 `2*n`번임.\n",
    "    - 따라서 합병 과정에서 발생하는 항목 비교와 위치 이동은 최악의 경우 $O(n \\log n)$의 시간 복잡도를 가짐."
   ]
  },
  {
   "cell_type": "markdown",
   "metadata": {},
   "source": [
    "**슬라이싱과 추가 메모리 사용**"
   ]
  },
  {
   "cell_type": "markdown",
   "metadata": {},
   "source": [
    "위 코드의 분할 과정에 사용된 재귀는 슬라이싱을 이용하기 때문에 \n",
    "실제 시간복잡도는 $O(n^2 \\log n)$이다. \n",
    "이유는 길이가 $k$인 구간을 슬라이싱 하는 알고리즘의 시간복잡도가 $O(k)$이기 때문이다. "
   ]
  },
  {
   "cell_type": "markdown",
   "metadata": {},
   "source": [
    "**참고** \n",
    "\n",
    "슬라이싱을 직접 사용하는 대신 구간을 지정하는 기술을 적용하면\n",
    "분할 알고리즘의 시간복잡도를 $O(n \\log n)$으로 만들 수 있다(연습 문제 참고). \n",
    "그런데 슬라이싱 대신 구간을 사용하여 분할 과정을 추가 메모리 없이 진행하면\n",
    "합병 과정에서 기존 리스트와의 충돌 방지를 위해 추가 메모리를 사용할 수 밖에 없다.\n",
    "따라서 어떤 방식이든 $O(n)$의 공간복잡도에 해당하는 메모리를 추가로 사용해야 한다.\n",
    "\n",
    "반면에 앞서 소개한 버블 정렬과 선택 정렬은 추가 메모리를 전혀 사용하지 않는다."
   ]
  },
  {
   "cell_type": "markdown",
   "metadata": {},
   "source": [
    "__퀴즈__"
   ]
  },
  {
   "cell_type": "markdown",
   "metadata": {},
   "source": [
    "아래 리스트를 합병 정렬 알고리즘을 이용하여 정렬하는 단계를 그래프로 표현하라."
   ]
  },
  {
   "cell_type": "markdown",
   "metadata": {},
   "source": [
    "<figure>\n",
    "<div align=\"center\"><img src=\"https://github.com/codingalzi/algopy/blob/master/jupyter-book/imgs/merge-sort03.png?raw=true\" width=\"40%\"></div>\n",
    "</figure>"
   ]
  },
  {
   "cell_type": "markdown",
   "metadata": {},
   "source": [
    "## 퀵 정렬"
   ]
  },
  {
   "cell_type": "markdown",
   "metadata": {},
   "source": [
    "**퀵 정렬**<font size='2'>merge sort</font> 또한 분할과 정복 기법을 활용한다.\n",
    "하지만 합병 정렬과는 달리 분할 과정이 경우에 따라 이등분이 아닌 한쪽으로 치우치는 방식으로\n",
    "진행될 수 있으며, 그렇게 되면 알고리즘이 최악의 경우 $O(n^2)$ 시간 복잡도로 실행될 수 있다.\n",
    "하지만 평균적으로 $O(n \\log n)$의 시간복잡도를 보이며,\n",
    "무엇보다도 추가 메모리를 전혀 사용하지 않기에 합병 정렬에 비해 \n",
    "공간 복잡도 측면에서 큰 장점을 갖는다.\n",
    "\n",
    "퀵 정렬은 분할과 정복을 동시에 진행한다.\n",
    "피벗(기준값)으로 지정된 값보다 작은 값은 피벗 왼쪽으로,\n",
    "같거나 큰 값은 피벗 오른쪽으로 이동시킨다.\n",
    "피벗으로 사용된 값의 위치를 기준으로 좌우 두 개의 부분 리스트로 분할한 후\n",
    "동일 과정을 반복한다. "
   ]
  },
  {
   "cell_type": "markdown",
   "metadata": {},
   "source": [
    "**피벗 지정**"
   ]
  },
  {
   "cell_type": "markdown",
   "metadata": {},
   "source": [
    "피벗은 리스트의 임의의 값을 사용해도 되지만\n",
    "여기서는 맨 왼편에 위치한 값을 사용한다.\n",
    "경우에 따라 양끝과 중앙에 위치한 세 값의 중앙값을 사용하거나\n",
    "오른쪽 맨 끝, 또는 중앙에 위치한 값 등도 사용된다.\n",
    "하지만 성능 차이는 기본적으로 없으며, 입력 사례에 따라 달라진다."
   ]
  },
  {
   "cell_type": "markdown",
   "metadata": {},
   "source": [
    "<figure>\n",
    "<div align=\"center\"><img src=\"https://runestone.academy/runestone/books/published/pythonds3/_images/firstsplit.png\" width=\"60%\"></div>\n",
    "</figure>"
   ]
  },
  {
   "cell_type": "markdown",
   "metadata": {},
   "source": [
    "**분할과 정복**"
   ]
  },
  {
   "cell_type": "markdown",
   "metadata": {},
   "source": [
    "분할과 정복을 동시에 진행한다.\n",
    "분할 과정을 통해 두 개의 보다 작은 리스트로 분할할 때 정복 과정을 동시에 진행한다.\n",
    "분할 된 두 개의 리스트에 대해 동일한 과정을 반복 적용한다."
   ]
  },
  {
   "cell_type": "markdown",
   "metadata": {},
   "source": [
    "<figure>\n",
    "<div align=\"center\"><img src=\"https://runestone.academy/runestone/books/published/pythonds3/_images/partitionA.png\" width=\"60%\"></div>\n",
    "</figure>"
   ]
  },
  {
   "cell_type": "markdown",
   "metadata": {},
   "source": [
    "아래 `partition()` 함수는 주어진 리스트에 대해 분할과 정복을 수행한다."
   ]
  },
  {
   "cell_type": "code",
   "execution_count": 10,
   "metadata": {},
   "outputs": [],
   "source": [
    "# 분할과 정복. 피벗은 맨 왼편 항목. 반환값은 피벗의 최종 자리 위치\n",
    "def partition(a_list, first, last):\n",
    "    pivot_val = a_list[first]   # 피벗\n",
    "    left_mark = first + 1       # 탐색 구간 시작\n",
    "    right_mark = last           # 탐색 구간 끝\n",
    "    done = False                # 탐색 종료여부 확인\n",
    "\n",
    "    while not done:\n",
    "        while left_mark <= right_mark and a_list[left_mark] < pivot_val:\n",
    "            left_mark = left_mark + 1\n",
    "        while left_mark <= right_mark and a_list[right_mark] >= pivot_val:\n",
    "            right_mark = right_mark - 1\n",
    "        \n",
    "        # 자리 교환\n",
    "        if right_mark < left_mark:\n",
    "            done = True\n",
    "        else:\n",
    "            a_list[left_mark], a_list[right_mark] = a_list[right_mark], a_list[left_mark]\n",
    "            \n",
    "    # 피벗 자리 교환\n",
    "    a_list[first], a_list[right_mark] = a_list[right_mark], a_list[first]\n",
    "\n",
    "    # 피벗 위치 반환\n",
    "    return right_mark"
   ]
  },
  {
   "cell_type": "markdown",
   "metadata": {},
   "source": [
    "**재귀 적용**"
   ]
  },
  {
   "cell_type": "markdown",
   "metadata": {},
   "source": [
    "재귀는 `partition()` 함수를 재귀적으로 활용하는 방법만을 지정한다."
   ]
  },
  {
   "cell_type": "markdown",
   "metadata": {},
   "source": [
    "<figure>\n",
    "<div align=\"center\"><img src=\"https://runestone.academy/runestone/books/published/pythonds3/_images/partitionB.png\" width=\"60%\"></div>\n",
    "</figure>"
   ]
  },
  {
   "cell_type": "code",
   "execution_count": 11,
   "metadata": {},
   "outputs": [],
   "source": [
    "# 재귀 보조함수: 리스트의 지정된 구간에 대해 partion() 함수 재귀적으로 활용\n",
    "\n",
    "def quick_sort_helper(a_list, first, last):\n",
    "    if first < last:\n",
    "        split = partition(a_list, first, last)\n",
    "\n",
    "        quick_sort_helper(a_list, first, split - 1)\n",
    "        quick_sort_helper(a_list, split + 1, last)"
   ]
  },
  {
   "cell_type": "markdown",
   "metadata": {},
   "source": [
    "아래 `quick_sort()` 함수는 `quick_sort_helper()` 함수를\n",
    "구간 지정과 함께 호출한다."
   ]
  },
  {
   "cell_type": "code",
   "execution_count": 12,
   "metadata": {},
   "outputs": [],
   "source": [
    "# 재귀 함수\n",
    "def quick_sort(a_list):\n",
    "    quick_sort_helper(a_list, 0, len(a_list) - 1)"
   ]
  },
  {
   "cell_type": "markdown",
   "metadata": {},
   "source": [
    "**예제**"
   ]
  },
  {
   "cell_type": "code",
   "execution_count": 13,
   "metadata": {},
   "outputs": [
    {
     "name": "stdout",
     "output_type": "stream",
     "text": [
      "[17, 20, 26, 31, 44, 54, 55, 77, 93]\n"
     ]
    }
   ],
   "source": [
    "a_list = [54, 26, 93, 17, 77, 31, 44, 55, 20]\n",
    "quick_sort(a_list)\n",
    "print(a_list)"
   ]
  },
  {
   "cell_type": "markdown",
   "metadata": {},
   "source": [
    "**퀵 정렬 시간복잡도 분석**"
   ]
  },
  {
   "cell_type": "markdown",
   "metadata": {},
   "source": [
    "피벗을 기준으로 분할할 때 이상적인 경우 기존의 리스트를 거의 정확하게 이등분한다.\n",
    "이 경우 분할 횟수는 $\\log n$ 이다. 여기서 $n$은 입력 리스트의 길이를 나타낸다.\n",
    "그리고 한 번 분할할 때마다 피벗과 나머지 값들이 비교되고 필요에 따라 자리교환이 발생하는데\n",
    "이에 대한 시간복잡도는 $n$ 이다. \n",
    "따라서 퀵 정렬 알고리즘의 최선 시간복잡도는 $O(n \\log n)$이다.\n",
    "\n",
    "하지만 최악의 경우 분할이 한쪽으로 쏠리도록 이뤄질 수 있다.\n",
    "예를 들어, 거의 정렬이 되어있는 리스트일 경우 피벗을 기준으로 1대 (n-1) 개의 부분 리스트로\n",
    "분할될 수 있다.\n",
    "이런 경우가 많이 발생하면, 즉 $n$ 번에 가까운 분할이 필요하면\n",
    "시간복잡도는 최악의 경우 $O(n^2)$이 나온다."
   ]
  },
  {
   "cell_type": "markdown",
   "metadata": {},
   "source": [
    "**합병 정렬 대 퀵 정렬**"
   ]
  },
  {
   "cell_type": "markdown",
   "metadata": {},
   "source": [
    "합병 정렬이 퀵 정렬에 비해 시간복잡도 측면에서 이론적으로 좋기는 하지만\n",
    "공간복잡도와 자리교환(swapping) 횟수 측면에서는 비효율적이다. \n",
    "또한 퀵 정렬이 대부분의 운영체제와 프로그래밍언어에서 최적화되는 데에 용이하기에\n",
    "기본 정렬 알고리즘으로 활용된다."
   ]
  },
  {
   "cell_type": "markdown",
   "metadata": {},
   "source": [
    "__퀴즈__"
   ]
  },
  {
   "cell_type": "markdown",
   "metadata": {},
   "source": [
    "아래 리스트를 퀵 정렬 알고리즘을 이용하여 정렬하는 단계를 그래프로 표현하라."
   ]
  },
  {
   "cell_type": "markdown",
   "metadata": {},
   "source": [
    "<figure>\n",
    "<div align=\"center\"><img src=\"https://github.com/codingalzi/algopy/blob/master/jupyter-book/imgs/merge-sort03.png?raw=true\" width=\"40%\"></div>\n",
    "</figure>"
   ]
  },
  {
   "cell_type": "markdown",
   "metadata": {},
   "source": [
    "## 정렬 알고리즘 시간복잡도 비교"
   ]
  },
  {
   "cell_type": "markdown",
   "metadata": {},
   "source": [
    "1부터 100까지의 정수 중에서 무작위로 선택된 천 개의 정수들로 구성된 리스트를 대상으로 5 개의 \n",
    "알고리즘 실행시간을 모의실험 하려 한다.\n",
    "이를 위해 먼저 조기 종료를 사용하는 버블 정렬 알고리즘과 합병 정렬 알고리즘의 이해를 위해 사용된\n",
    "`print()` 함수를 제외한다.\n",
    "그렇지 않으면 불필요한 문장이 반복해서 출력된다."
   ]
  },
  {
   "cell_type": "code",
   "execution_count": 14,
   "metadata": {},
   "outputs": [],
   "source": [
    "def bubble_sort_early_stop(a_list):\n",
    "    for a_pass in range(len(a_list) - 1, 0, -1):  # 패스. 자리교환 인덱스 끝자리 지정\n",
    "        exchanges = False                         # 패스 기간 내 자리교환 발생 여부 저장\n",
    "        for j in range(a_pass):                   # 크기비교 및 자리교환\n",
    "            if a_list[j] > a_list[j + 1]:\n",
    "                a_list[j], a_list[j+1] = a_list[j + 1], a_list[j]\n",
    "                exchanges = True\n",
    "        if not exchanges:                         # 자리교환이 발생하지 않은 경우 조기종료\n",
    "#             print(\"조기종료!\")\n",
    "            break                "
   ]
  },
  {
   "cell_type": "code",
   "execution_count": 15,
   "metadata": {},
   "outputs": [],
   "source": [
    "def merge_sort(a_list):\n",
    "    # 분할 과정: 이등분 반복\n",
    "    if len(a_list)>1:\n",
    "#         print(\"분할:\", a_list)\n",
    "\n",
    "        mid = len(a_list) // 2\n",
    "        left_half = a_list[:mid]\n",
    "        right_half = a_list[mid:]\n",
    "        \n",
    "        # 재귀 호출\n",
    "        merge_sort(left_half)\n",
    "        merge_sort(right_half)\n",
    "\n",
    "        # 합병 과정: 작은 리스트 두 개 합병하면서 정렬\n",
    "        merge(a_list, left_half, right_half)\n",
    "#         print(\"합병:\", a_list)"
   ]
  },
  {
   "cell_type": "code",
   "execution_count": 16,
   "metadata": {},
   "outputs": [],
   "source": [
    "from time import time\n",
    "import random"
   ]
  },
  {
   "cell_type": "code",
   "execution_count": 17,
   "metadata": {},
   "outputs": [
    {
     "name": "stdout",
     "output_type": "stream",
     "text": [
      "bubble_sort 0.022219448378591827\n",
      "bubble_sort_early_stop 0.022225705944761937\n",
      "selection_sort 0.01125301036638083\n",
      "merge_sort 0.0008539805809656779\n",
      "quick_sort 0.0005603890669973273\n"
     ]
    }
   ],
   "source": [
    "random.seed(42)\n",
    "\n",
    "size = 1000\n",
    "count = 100\n",
    "\n",
    "algorithms = [bubble_sort, bubble_sort_early_stop, selection_sort, merge_sort, quick_sort]\n",
    "\n",
    "for algo in algorithms:\n",
    "    running_time = 0\n",
    "    for count in range(count):\n",
    "        random_list = [random.randrange(1, 101, 1) for _ in range(size)]\n",
    "        start_time = time()\n",
    "        algo(random_list)\n",
    "        end_time = time()\n",
    "        running_time += end_time - start_time\n",
    "    \n",
    "    print(algo.__name__, running_time / count)"
   ]
  },
  {
   "cell_type": "markdown",
   "metadata": {},
   "source": [
    "정리하면 다음과 같다.\n",
    "\n",
    "- 조기 종료를 사용하는 버블 정렬은 조기 종료가 없는 경우보다 미세하게 느리다. 이유는 `if` 명령문을 실행하기 때문에 \n",
    "    조기 종료의 장점이 상쇄되는 것으로 추정된다.\n",
    "- 선택 정렬이 버블 정렬 보다 두 배 정도 빠르다.    \n",
    "- 퀵 정렬 대 합병 정렬: 퀵 정렬이 합병 정렬보다 1.5배 정도 빠르다. \n",
    "    일반적으로 퀵 정렬이 합병 정렬보다 평균적으로 2배 정도 빠르다고 알려져 있다.\n",
    "    "
   ]
  },
  {
   "cell_type": "markdown",
   "metadata": {},
   "source": [
    "그런데 모의실험에 사용되는 리스트의 길이를 몇 만 단위로 늘리면 퀵 정렬이 오히려 합병 정렬보다 느려진다.\n",
    "이유는 파이썬에서 매우 긴 리스트를 다루는 방식의 한계때문으로 추정된다.\n",
    "다른 언어에서는 다른 결과가 나올 것으로 기대한다.\n",
    "예를 들어 리스트의 길이를 2만으로 할 경우의 모의실험 결과는 다음과 같다."
   ]
  },
  {
   "cell_type": "markdown",
   "metadata": {},
   "source": [
    "| 알고리즘 | 최선 | 평균 | 최악 | 모의실험 |\n",
    "| :---: | :---: | :---: | :---: | :---: |\n",
    "| 버블 정렬 | n^2 | n^2 | n^2 | 9.129473 |\n",
    "| 버블 정렬(조기 종료) | n^2 | n^2 | n^2 | 9.414862 |\n",
    "| 선택 정렬 | n^2 | n^2 | n^2 | 4.365451 |\n",
    "| 합병 정렬 | n log n | n log n | n log n | 0.023475 |\n",
    "| 퀵 정렬 | n log n | n log n | n^2 | 0.056168 |"
   ]
  },
  {
   "cell_type": "markdown",
   "metadata": {},
   "source": [
    "## 연습문제"
   ]
  },
  {
   "cell_type": "markdown",
   "metadata": {},
   "source": [
    "1. [(실습) 순차/선택/합병/퀵 정렬](https://colab.research.google.com/github/codingalzi/algopy/blob/master/excs/exc-sort_search_2.ipynb)"
   ]
  }
 ],
 "metadata": {
  "kernelspec": {
   "display_name": "Python 3 (ipykernel)",
   "language": "python",
   "name": "python3"
  },
  "language_info": {
   "codemirror_mode": {
    "name": "ipython",
    "version": 3
   },
   "file_extension": ".py",
   "mimetype": "text/x-python",
   "name": "python",
   "nbconvert_exporter": "python",
   "pygments_lexer": "ipython3",
   "version": "3.11.4"
  },
  "vscode": {
   "interpreter": {
    "hash": "6c86b3592b6800d985c04531f2c445f0fa6967131b8dd6395a925f7622e55602"
   }
  }
 },
 "nbformat": 4,
 "nbformat_minor": 4
}
